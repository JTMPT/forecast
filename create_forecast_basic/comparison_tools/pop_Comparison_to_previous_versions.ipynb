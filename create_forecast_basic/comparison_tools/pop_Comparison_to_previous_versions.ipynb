{
 "cells": [
  {
   "cell_type": "markdown",
   "id": "0e7214ba",
   "metadata": {
    "heading_collapsed": true
   },
   "source": [
    "## קוד מבוא"
   ]
  },
  {
   "cell_type": "code",
   "execution_count": 137,
   "id": "f8405d52",
   "metadata": {
    "hidden": true
   },
   "outputs": [],
   "source": [
    "import pandas as pd\n",
    "import geopandas as gpd\n",
    "import numpy as np\n",
    "from shapely import wkt\n",
    "from matplotlib import pyplot as plt \n",
    "import contextily as cx\n",
    "import folium\n",
    "import fiona\n",
    "from mpl_toolkits.axes_grid1 import make_axes_locatable\n",
    "from shapely.geometry import Point\n",
    "import adjustText as aT"
   ]
  },
  {
   "cell_type": "code",
   "execution_count": 138,
   "id": "2dacbc13",
   "metadata": {
    "hidden": true
   },
   "outputs": [],
   "source": [
    "pd.set_option('display.max_rows', None)\n",
    "pd.set_option('display.max_columns', None)"
   ]
  },
  {
   "cell_type": "markdown",
   "id": "9624443e",
   "metadata": {},
   "source": [
    "## פונקציות"
   ]
  },
  {
   "cell_type": "code",
   "execution_count": 139,
   "id": "d69c42ff",
   "metadata": {},
   "outputs": [],
   "source": [
    "def double_taz_num(df):\n",
    "    dup_taz_num=df.groupby(['Taz_num']).size().reset_index(name='count').query('count>1').Taz_num.to_list()\n",
    "    return df.loc[df['Taz_num'].isin(dup_taz_num)]"
   ]
  },
  {
   "cell_type": "code",
   "execution_count": 140,
   "id": "d048994a",
   "metadata": {},
   "outputs": [],
   "source": [
    "def make_point(df):\n",
    "    df_point=df.copy()\n",
    "    df_point['centroid'] = df_point.representative_point()\n",
    "    df_point=df_point.set_geometry('centroid')\n",
    "    df_point=df_point.drop(columns=['geometry'],axis=1)\n",
    "    return df_point"
   ]
  },
  {
   "cell_type": "code",
   "execution_count": 141,
   "id": "86bf5cad",
   "metadata": {},
   "outputs": [],
   "source": [
    "def up_load_gdb(path,layer_name):\n",
    "    path='{}'.format(path)\n",
    "    layer_list=fiona.listlayers(path)\n",
    "    gpd_layer=gpd.read_file(path, layer=layer_list.index(layer_name))\n",
    "    return gpd_layer"
   ]
  },
  {
   "cell_type": "code",
   "execution_count": 142,
   "id": "6acc6aa7",
   "metadata": {},
   "outputs": [],
   "source": [
    "def up_load_shp(path):\n",
    "    path='{}'.format(path)\n",
    "    gpd_layer=gpd.read_file(path)\n",
    "    return gpd_layer"
   ]
  },
  {
   "cell_type": "code",
   "execution_count": 143,
   "id": "cb093800",
   "metadata": {},
   "outputs": [],
   "source": [
    "def unique_id_in_one_taz(df_to_geoode,unique_field,gpd_for_geocode,taz):\n",
    "    \n",
    "    code_to_find=list(df_to_geoode[unique_field].unique())\n",
    "\n",
    "    gpd_for_geocode_to_sum_by_taz=gpd_for_geocode[[unique_field,'geometry']].loc[gpd_for_geocode[unique_field].isin(code_to_find)]\n",
    "\n",
    "    gpd_for_geocode_to_sum_by_taz=gpd.sjoin(taz[['Taz_num','geometry']],gpd_for_geocode_to_sum_by_taz)\n",
    "\n",
    "    gpd_for_geocode_in_one_taz=list(gpd_for_geocode_to_sum_by_taz.groupby(unique_field)[['Taz_num']].nunique().query('Taz_num==1').reset_index()[unique_field])\n",
    "\n",
    "    return gpd_for_geocode_in_one_taz"
   ]
  },
  {
   "cell_type": "code",
   "execution_count": 144,
   "id": "b1a16060",
   "metadata": {},
   "outputs": [],
   "source": [
    "def up_load_df(folder_path,file_name):\n",
    "    \n",
    "    path_df=r'{}\\{}.xlsx'.format(folder_path,file_name)\n",
    "    df=pd.read_excel(path_df)\n",
    "    df=df.dropna(how='all')\n",
    "\n",
    "    return df\n"
   ]
  },
  {
   "cell_type": "code",
   "execution_count": 145,
   "id": "4ac4e6c7",
   "metadata": {},
   "outputs": [],
   "source": [
    "def rename_text_in_col(df,file_path,file_name,old_v,new_v,col_name):\n",
    "    \n",
    "    col_convert=up_load_df(file_path,file_name).set_index(old_v)\n",
    "\n",
    "    df=df.set_index(col_name)\n",
    "\n",
    "    df['new_col']=col_convert[new_v]\n",
    "\n",
    "    df=df.reset_index()\n",
    "\n",
    "    df[col_name]=df['new_col']\n",
    "\n",
    "    df=df.drop(columns='new_col')\n",
    "    \n",
    "    return df"
   ]
  },
  {
   "cell_type": "code",
   "execution_count": 146,
   "id": "7c651ab1",
   "metadata": {},
   "outputs": [],
   "source": [
    "def sum_df_pop(v4,v3,col_to_index,name):\n",
    "    \n",
    "    v4_pivot=v4.pivot_table(index=col_to_index,aggfunc=sum)\n",
    "\n",
    "    v3_pivot=v3.pivot_table(index=col_to_index,aggfunc=sum)\n",
    "    \n",
    "    df_v4_v3=v4_pivot.merge(v3_pivot,left_index=True,right_index=True,how='outer',suffixes=('_v4','_v3')).fillna(0)\n",
    "\n",
    "    df_v4_v3['aprt_kayim_delta_pre']=df_v4_v3['aprt_20_v4']/df_v4_v3['aprt_20_v3']\n",
    "\n",
    "    df_v4_v3['pop_kayim_delta_pre']=df_v4_v3['pop_without_dorms_yeshiva_v4']/df_v4_v3['pop_without_dorms_yeshiva_v3']\n",
    "\n",
    "    df_v4_v3['pop_2040_delta_pre']=df_v4_v3['pop_v4']/df_v4_v3['pop_v3']\n",
    "\n",
    "    df_v4_v3['aprt_2040_delta_pre']=df_v4_v3['aprt_v4']/df_v4_v3['aprt_v3']\n",
    "\n",
    "    df_v4_v3['add_aprt_2040_v4']=df_v4_v3['aprt_v4']-df_v4_v3['aprt_20_v4']\n",
    "\n",
    "    df_v4_v3['add_aprt_2040_v3']=df_v4_v3['aprt_v3']-df_v4_v3['aprt_20_v3']\n",
    "\n",
    "    df_v4_v3['add_pop_2040_v3']=df_v4_v3['pop_v3']-df_v4_v3['pop_without_dorms_yeshiva_v3']\n",
    "\n",
    "    df_v4_v3['add_pop_2040_v4']=df_v4_v3['pop_v4']-df_v4_v3['pop_without_dorms_yeshiva_v4']\n",
    "\n",
    "    df_v4_v3['add_pop_2040_delta_pre']=df_v4_v3['add_pop_2040_v4']/df_v4_v3['add_pop_2040_v3']\n",
    "\n",
    "    df_v4_v3['add_aprt_2040_delta_pre']=df_v4_v3['add_aprt_2040_v4']/df_v4_v3['add_aprt_2040_v3']\n",
    "\n",
    "    \n",
    "\n",
    "    col=['aprt_20_v3', 'aprt_20_v4','aprt_kayim_delta_pre','pop_without_dorms_yeshiva_v3','pop_without_dorms_yeshiva_v4','pop_kayim_delta_pre']\n",
    "\n",
    "    df_v4_v3[col].reset_index().to_excel('{}\\{}_pop_kayim_comparison.xlsx'.format(r'W:\\Projects\\הסעת המונים\\01_שלב ה\\קבצי עבודה\\תחזיות_דמוגרפיות\\תחזיות_2050\\jtmt\\Comparison_to_previous_versions\\output',name),index=False)\n",
    "\n",
    "    col=['aprt_v3','aprt_v4','aprt_2040_delta_pre','pop_v3','pop_v4','pop_2040_delta_pre']\n",
    "\n",
    "    df_v4_v3[col].reset_index().to_excel('{}\\{}_pop_2040_comparison.xlsx'.format(r'W:\\Projects\\הסעת המונים\\01_שלב ה\\קבצי עבודה\\תחזיות_דמוגרפיות\\תחזיות_2050\\jtmt\\Comparison_to_previous_versions\\output',name),index=False)\n",
    "\n",
    "    col=['add_aprt_2040_v3','add_aprt_2040_v4','add_aprt_2040_delta_pre','add_pop_2040_v3','add_pop_2040_v4','add_pop_2040_delta_pre']\n",
    "\n",
    "    df_v4_v3[col].reset_index().to_excel('{}\\{}_pop_add_comparison.xlsx'.format(r'W:\\Projects\\הסעת המונים\\01_שלב ה\\קבצי עבודה\\תחזיות_דמוגרפיות\\תחזיות_2050\\jtmt\\Comparison_to_previous_versions\\output',name),index=False)\n",
    "    \n"
   ]
  },
  {
   "cell_type": "code",
   "execution_count": 147,
   "id": "a372bb75",
   "metadata": {},
   "outputs": [],
   "source": [
    "def sum_df_emp(v4,v3,col_to_index,name):\n",
    "    \n",
    "    v4_pivot=v4.pivot_table(index=col_to_index,aggfunc=sum)\n",
    "\n",
    "    v3_pivot=v3.pivot_table(index=col_to_index,aggfunc=sum)\n",
    "    \n",
    "    df_v4_v3=v4_pivot.merge(v3_pivot,left_index=True,right_index=True,how='outer',suffixes=('_v4','_v3')).fillna(0)\n",
    "\n",
    "    df_v4_v3['total_emp_kayim_delta_pre']=df_v4_v3['total_emp_2020_v4']/df_v4_v3['total_emp_2020_v3']\n",
    "\n",
    "    #df_v4_v3['total_emp_2040_delta_pre']=df_v4_v3['total_emp_2040_v4']/df_v4_v3['total_emp_2040_v3']\n",
    "\n",
    "    #df_v4_v3['add_total_emp_2040_v4']=df_v4_v3['total_emp_2040_v4']-df_v4_v3['total_emp_2020_v4']\n",
    "\n",
    "    df_v4_v3['add_total_emp_2040_v3']=df_v4_v3['total_emp_2040_v3']-df_v4_v3['total_emp_2020_v3']\n",
    "\n",
    "    #df_v4_v3['add_total_emp_2040_delta_pre']=df_v4_v3['add_total_emp_2040_v4']/df_v4_v3['add_total_emp_2040_v3']\n",
    "\n",
    "    \n",
    "\n",
    "    col=['total_emp_2020_v3', 'total_emp_2020_v4','total_emp_kayim_delta_pre']\n",
    "\n",
    "    df_v4_v3[col].reset_index().to_excel('{}\\{}_emp_kayim_comparison.xlsx'.format(r'W:\\Projects\\הסעת המונים\\01_שלב ה\\קבצי עבודה\\תחזיות_דמוגרפיות\\תחזיות_2050\\jtmt\\Comparison_to_previous_versions\\output',name),index=False)\n",
    "\n",
    "    col=['total_emp_2040_v3']#,'total_emp_2040_v4','total_emp_2040_delta_pre']\n",
    "\n",
    "    df_v4_v3[col].reset_index().to_excel('{}\\{}_emp_2040_comparison.xlsx'.format(r'W:\\Projects\\הסעת המונים\\01_שלב ה\\קבצי עבודה\\תחזיות_דמוגרפיות\\תחזיות_2050\\jtmt\\Comparison_to_previous_versions\\output',name),index=False)\n",
    "\n",
    "    col=['add_total_emp_2040_v3']#,'add_total_emp_2040_v4','add_total_emp_2040_delta_pre']\n",
    "\n",
    "    df_v4_v3[col].reset_index().to_excel('{}\\{}_emp_add_comparison.xlsx'.format(r'W:\\Projects\\הסעת המונים\\01_שלב ה\\קבצי עבודה\\תחזיות_דמוגרפיות\\תחזיות_2050\\jtmt\\Comparison_to_previous_versions\\output',name),index=False)\n",
    "    \n"
   ]
  },
  {
   "cell_type": "markdown",
   "id": "1319865e",
   "metadata": {},
   "source": [
    "## קוד"
   ]
  },
  {
   "cell_type": "markdown",
   "id": "ea59d68c",
   "metadata": {},
   "source": [
    "### העלת מידע"
   ]
  },
  {
   "cell_type": "markdown",
   "id": "e1dded28",
   "metadata": {},
   "source": [
    "העלת גירסא קודמת"
   ]
  },
  {
   "cell_type": "code",
   "execution_count": 148,
   "id": "1a98a6b8",
   "metadata": {},
   "outputs": [],
   "source": [
    "file_path=r'W:\\Model Versions\\3.1\\Forecasts'\n",
    "file_name='220209_תחזיות_V3.1_Published_for_outside'\n",
    "\n",
    "v3=up_load_df(file_path,file_name)"
   ]
  },
  {
   "cell_type": "markdown",
   "id": "6088ebdb",
   "metadata": {},
   "source": [
    "העלת גירסא קיימת"
   ]
  },
  {
   "cell_type": "code",
   "execution_count": 149,
   "id": "1ef461ab",
   "metadata": {},
   "outputs": [],
   "source": [
    "file_path=r'W:\\Projects\\הסעת המונים\\01_שלב ה\\קבצי עבודה\\תחזיות_דמוגרפיות\\תחזיות_2050\\jtmt\\join_pop'\n",
    "file_name='230710_pop_2050_jtmt'\n",
    "\n",
    "v4=up_load_df(file_path,file_name)\n",
    "\n",
    "file_path=r'\\\\FILE-SRV\\Jtmt\\projections_team\\כללי\\פעולות\\יצירת_מצב_קיים_למס\\output'\n",
    "file_name='2020_jtmt_forcast_full_230710'\n",
    "\n",
    "v4_kayim=up_load_df(file_path,file_name)"
   ]
  },
  {
   "cell_type": "code",
   "execution_count": 150,
   "id": "a85332b6",
   "metadata": {},
   "outputs": [],
   "source": [
    "v4_kayim['total_emp_2020']=v4_kayim[[ 'emp_Education', 'emp_okev', 'emp_not_okev']].sum(axis=1)"
   ]
  },
  {
   "cell_type": "code",
   "execution_count": 151,
   "id": "81bf4c58",
   "metadata": {},
   "outputs": [],
   "source": [
    "col_v4=['Taz_num',\n",
    " 'aprt',\n",
    " 'pop']\n",
    "\n",
    "col_v4_kayim=['Taz_num','Taz_name',\n",
    " 'Muni_Heb','zonetype','main_secto','aprt_20','pop_without_dorms_yeshiva','total_emp_2020']"
   ]
  },
  {
   "cell_type": "code",
   "execution_count": 152,
   "id": "3d099bd5",
   "metadata": {},
   "outputs": [],
   "source": [
    "v4=pd.merge(v4_kayim[col_v4_kayim],v4[col_v4],on='Taz_num',how='left')"
   ]
  },
  {
   "cell_type": "markdown",
   "id": "eb72cb97",
   "metadata": {},
   "source": [
    "### שינוי שדות ותוכן גירסא ישנה"
   ]
  },
  {
   "cell_type": "code",
   "execution_count": 153,
   "id": "4726c074",
   "metadata": {},
   "outputs": [],
   "source": [
    "file_path=r'W:\\Projects\\הסעת המונים\\01_שלב ה\\קבצי עבודה\\תחזיות_דמוגרפיות\\תחזיות_2050\\jtmt\\Comparison_to_previous_versions\\input'\n",
    "file_name='Convert columns between versions'\n",
    "\n",
    "col_convert=up_load_df(file_path,file_name)\n",
    "\n",
    "v3=v3[list(col_convert.v3)]\n",
    "\n",
    "v3.columns=list(col_convert.v4)"
   ]
  },
  {
   "cell_type": "markdown",
   "id": "4e323647",
   "metadata": {},
   "source": [
    "המרה של טקטס תוכן העמודות גירסא 3"
   ]
  },
  {
   "cell_type": "code",
   "execution_count": 154,
   "id": "6e0981a2",
   "metadata": {},
   "outputs": [],
   "source": [
    "file_path=r'W:\\Projects\\הסעת המונים\\01_שלב ה\\קבצי עבודה\\תחזיות_דמוגרפיות\\תחזיות_2050\\jtmt\\Comparison_to_previous_versions\\input'\n",
    "file_name='machoz'\n",
    "\n",
    "v3=rename_text_in_col(v3,file_path,file_name,'v3','v4','zonetype')\n",
    "\n",
    "\n",
    "file_name='sector'\n",
    "\n",
    "v3=rename_text_in_col(v3,file_path,file_name,'v3','v4','main_secto')\n",
    "\n",
    "\n",
    "file_name='muni'\n",
    "\n",
    "v3=rename_text_in_col(v3,file_path,file_name,'v3','v4','Muni_Heb')"
   ]
  },
  {
   "cell_type": "markdown",
   "id": "3188327e",
   "metadata": {},
   "source": [
    "### יצירת טבלאות סיכום לחיבור"
   ]
  },
  {
   "cell_type": "code",
   "execution_count": 155,
   "id": "01644261",
   "metadata": {},
   "outputs": [],
   "source": [
    "sum_df_emp(v4,v3,['zonetype','Muni_Heb','main_secto'],'zone_muni_main_secto')"
   ]
  },
  {
   "cell_type": "code",
   "execution_count": 132,
   "id": "3da4eb14",
   "metadata": {},
   "outputs": [],
   "source": [
    "sum_df_pop(v4,v3,['Muni_Heb'],'Muni_Heb')"
   ]
  }
 ],
 "metadata": {
  "kernelspec": {
   "display_name": "Python 3 (ipykernel)",
   "language": "python",
   "name": "python3"
  },
  "language_info": {
   "codemirror_mode": {
    "name": "ipython",
    "version": 3
   },
   "file_extension": ".py",
   "mimetype": "text/x-python",
   "name": "python",
   "nbconvert_exporter": "python",
   "pygments_lexer": "ipython3",
   "version": "3.10.4"
  },
  "toc": {
   "base_numbering": 1,
   "nav_menu": {},
   "number_sections": true,
   "sideBar": true,
   "skip_h1_title": false,
   "title_cell": "Table of Contents",
   "title_sidebar": "Contents",
   "toc_cell": false,
   "toc_position": {},
   "toc_section_display": true,
   "toc_window_display": true
  }
 },
 "nbformat": 4,
 "nbformat_minor": 5
}
