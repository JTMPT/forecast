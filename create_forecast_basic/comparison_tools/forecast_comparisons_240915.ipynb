{
 "cells": [
  {
   "cell_type": "markdown",
   "id": "0e7214ba",
   "metadata": {
    "heading_collapsed": true
   },
   "source": [
    "### קוד מבוא"
   ]
  },
  {
   "cell_type": "code",
   "execution_count": 1,
   "id": "f8405d52",
   "metadata": {
    "hidden": true
   },
   "outputs": [],
   "source": [
    "import pandas as pd\n",
    "import os\n",
    "import sys"
   ]
  },
  {
   "cell_type": "code",
   "execution_count": 2,
   "id": "2dacbc13",
   "metadata": {
    "hidden": true
   },
   "outputs": [],
   "source": [
    "pd.set_option('display.max_rows', None)\n",
    "pd.set_option('display.max_columns', None)\n",
    "pd.options.display.float_format = '{:.4f}'.format\n",
    "pd.set_option('display.float_format',  '{:,.2f}'.format)"
   ]
  },
  {
   "cell_type": "code",
   "execution_count": 3,
   "id": "da140aa6",
   "metadata": {},
   "outputs": [],
   "source": [
    "cwd = os.getcwd()\n",
    "\n",
    "create_forecast_basic_folder_path = os.path.dirname(cwd)\n",
    "\n",
    "sys.path.append(create_forecast_basic_folder_path)"
   ]
  },
  {
   "cell_type": "markdown",
   "id": "9624443e",
   "metadata": {
    "heading_collapsed": true
   },
   "source": [
    "### פונקציות"
   ]
  },
  {
   "cell_type": "code",
   "execution_count": 4,
   "id": "104e46b6",
   "metadata": {},
   "outputs": [],
   "source": [
    "from global_functions import get_forecast_version_folder_location, get_model_versions_folder_location, get_newest_date_file, up_load_df, sum_scenarios, group_sector, compare_scenarios"
   ]
  },
  {
   "cell_type": "code",
   "execution_count": 5,
   "id": "49b1c14f",
   "metadata": {},
   "outputs": [],
   "source": [
    "cbs_machoz_past_data=up_load_df(r'W:\\Data\\Forecast\\Tools\\forecast_git\\create_forecast_basic\\comparison_tools\\background_files','cbs_machoz_past_data')"
   ]
  },
  {
   "cell_type": "code",
   "execution_count": 6,
   "id": "c2250321",
   "metadata": {},
   "outputs": [],
   "source": [
    "jtmt=up_load_df(r'W:\\Data\\Forecast\\forecast_by_version\\V4\\OVERVIEW','240701_forecast_2020_till_2050_jtmt')"
   ]
  },
  {
   "cell_type": "code",
   "execution_count": 7,
   "id": "c6f18825",
   "metadata": {},
   "outputs": [],
   "source": [
    "iplan=up_load_df(r'W:\\Data\\Forecast\\forecast_by_version\\V4\\OVERVIEW','240701_forecast_2020_till_2050_iplan')"
   ]
  },
  {
   "cell_type": "code",
   "execution_count": 8,
   "id": "73183e90",
   "metadata": {},
   "outputs": [],
   "source": [
    "bau=up_load_df(r'W:\\Data\\Forecast\\forecast_by_version\\V4\\OVERVIEW','240701_forecast_2020_till_2050_bau')"
   ]
  },
  {
   "cell_type": "code",
   "execution_count": 9,
   "id": "bbef8642",
   "metadata": {},
   "outputs": [],
   "source": [
    "col=['pop_without_dorms_yeshiva_2025',\n",
    " 'pop_without_dorms_yeshiva_2030',\n",
    " 'pop_without_dorms_yeshiva_2035',\n",
    " 'pop_without_dorms_yeshiva_2040',\n",
    " 'pop_without_dorms_yeshiva_2045',\n",
    "  'pop_without_dorms_yeshiva_2050']"
   ]
  },
  {
   "cell_type": "code",
   "execution_count": 10,
   "id": "63418b0c",
   "metadata": {},
   "outputs": [],
   "source": [
    "years = list(range(2025, 2051, 5))\n",
    "years.insert(0,'zonetype')"
   ]
  },
  {
   "cell_type": "code",
   "execution_count": 11,
   "id": "df2e745c",
   "metadata": {},
   "outputs": [],
   "source": [
    "def add_forecast_to_past(df,col,years,cbs_machoz_past_data,name):\n",
    "    df=df.pivot_table(index='zonetype',aggfunc=sum)[col].reset_index()\n",
    "    df.columns=years\n",
    "    df=pd.merge(cbs_machoz_past_data,df,on='zonetype')\n",
    "    df['soruce']=name\n",
    "    return df"
   ]
  },
  {
   "cell_type": "code",
   "execution_count": 12,
   "id": "b0cc7887",
   "metadata": {},
   "outputs": [],
   "source": [
    "jtmt=add_forecast_to_past(jtmt,col,years,cbs_machoz_past_data,'JTMT')"
   ]
  },
  {
   "cell_type": "code",
   "execution_count": 13,
   "id": "645f9519",
   "metadata": {},
   "outputs": [],
   "source": [
    "iplan=add_forecast_to_past(iplan,col,years,cbs_machoz_past_data,'iplan')"
   ]
  },
  {
   "cell_type": "code",
   "execution_count": 14,
   "id": "7626014f",
   "metadata": {},
   "outputs": [],
   "source": [
    "bau=add_forecast_to_past(bau,col,years,cbs_machoz_past_data,'bau')"
   ]
  },
  {
   "cell_type": "code",
   "execution_count": 20,
   "id": "d2ee9bea",
   "metadata": {},
   "outputs": [],
   "source": [
    "pd.concat([jtmt,iplan,bau]).to_excel(r'W:\\Data\\Forecast\\Tools\\forecast_git\\create_forecast_basic\\comparison_tools\\results\\scenario_with_past.xlsx')"
   ]
  },
  {
   "cell_type": "markdown",
   "id": "5deeb522",
   "metadata": {},
   "source": [
    "# ארכיון"
   ]
  },
  {
   "cell_type": "markdown",
   "id": "21ecf8a3",
   "metadata": {
    "heading_collapsed": true
   },
   "source": [
    "### העלת קבצים"
   ]
  },
  {
   "cell_type": "code",
   "execution_count": 17,
   "id": "d9149554",
   "metadata": {},
   "outputs": [],
   "source": [
    "forecast_version_folder_location=get_forecast_version_folder_location(r'{}\\background_files\\forecast_version_folder_location.txt'.format(create_forecast_basic_folder_path))\n",
    "\n",
    "forecast_version_base_year_folder_location=r'{}\\BASE_YEAR'.format(forecast_version_folder_location)"
   ]
  },
  {
   "cell_type": "code",
   "execution_count": 18,
   "id": "a0f8b5ed",
   "metadata": {
    "hidden": true
   },
   "outputs": [],
   "source": [
    "forecast_version = get_newest_date_file(fr'{forecast_version_folder_location}', '_forecast_2020_till_2050_jtmt')"
   ]
  },
  {
   "cell_type": "code",
   "execution_count": 19,
   "id": "8e4ed540",
   "metadata": {},
   "outputs": [
    {
     "ename": "FileNotFoundError",
     "evalue": "[Errno 2] No such file or directory: 'W:\\\\Data\\\\Forecast\\\\forecast_by_version\\\\V4\\\\240701_forecast_2020_till_2050_jtmt.xlsx'",
     "output_type": "error",
     "traceback": [
      "\u001b[1;31m---------------------------------------------------------------------------\u001b[0m",
      "\u001b[1;31mFileNotFoundError\u001b[0m                         Traceback (most recent call last)",
      "Cell \u001b[1;32mIn[19], line 1\u001b[0m\n\u001b[1;32m----> 1\u001b[0m jtmt\u001b[38;5;241m=\u001b[39mup_load_df(forecast_version_folder_location, \u001b[38;5;124mfr\u001b[39m\u001b[38;5;124m\"\u001b[39m\u001b[38;5;132;01m{\u001b[39;00mforecast_version\u001b[38;5;132;01m}\u001b[39;00m\u001b[38;5;124m_forecast_2020_till_2050_jtmt\u001b[39m\u001b[38;5;124m\"\u001b[39m)\n\u001b[0;32m      3\u001b[0m jtmt\u001b[38;5;241m=\u001b[39mjtmt\u001b[38;5;241m.\u001b[39mquery(\u001b[38;5;124m'\u001b[39m\u001b[38;5;124mzonetype!=\u001b[39m\u001b[38;5;124m\"\u001b[39m\u001b[38;5;124mPalestinian\u001b[39m\u001b[38;5;124m\"\u001b[39m\u001b[38;5;124m'\u001b[39m)\n",
      "File \u001b[1;32mw:\\Data\\Forecast\\Tools\\forecast_git\\create_forecast_basic\\global_functions.py:37\u001b[0m, in \u001b[0;36mup_load_df\u001b[1;34m(folder_path, file_name)\u001b[0m\n\u001b[0;32m     35\u001b[0m \u001b[38;5;28;01mdef\u001b[39;00m \u001b[38;5;21mup_load_df\u001b[39m(folder_path,file_name):\n\u001b[0;32m     36\u001b[0m     path_df\u001b[38;5;241m=\u001b[39m\u001b[38;5;124mr\u001b[39m\u001b[38;5;124m'\u001b[39m\u001b[38;5;132;01m{}\u001b[39;00m\u001b[38;5;124m\\\u001b[39m\u001b[38;5;132;01m{}\u001b[39;00m\u001b[38;5;124m.xlsx\u001b[39m\u001b[38;5;124m'\u001b[39m\u001b[38;5;241m.\u001b[39mformat(folder_path,file_name)\n\u001b[1;32m---> 37\u001b[0m     df\u001b[38;5;241m=\u001b[39mpd\u001b[38;5;241m.\u001b[39mread_excel(path_df)\n\u001b[0;32m     38\u001b[0m     df\u001b[38;5;241m=\u001b[39mdf\u001b[38;5;241m.\u001b[39mdropna(how\u001b[38;5;241m=\u001b[39m\u001b[38;5;124m'\u001b[39m\u001b[38;5;124mall\u001b[39m\u001b[38;5;124m'\u001b[39m)\n\u001b[0;32m     39\u001b[0m     \u001b[38;5;28;01mreturn\u001b[39;00m df\n",
      "File \u001b[1;32mc:\\Users\\gidon\\AppData\\Local\\anaconda3\\Lib\\site-packages\\pandas\\io\\excel\\_base.py:478\u001b[0m, in \u001b[0;36mread_excel\u001b[1;34m(io, sheet_name, header, names, index_col, usecols, dtype, engine, converters, true_values, false_values, skiprows, nrows, na_values, keep_default_na, na_filter, verbose, parse_dates, date_parser, date_format, thousands, decimal, comment, skipfooter, storage_options, dtype_backend)\u001b[0m\n\u001b[0;32m    476\u001b[0m \u001b[38;5;28;01mif\u001b[39;00m \u001b[38;5;129;01mnot\u001b[39;00m \u001b[38;5;28misinstance\u001b[39m(io, ExcelFile):\n\u001b[0;32m    477\u001b[0m     should_close \u001b[38;5;241m=\u001b[39m \u001b[38;5;28;01mTrue\u001b[39;00m\n\u001b[1;32m--> 478\u001b[0m     io \u001b[38;5;241m=\u001b[39m ExcelFile(io, storage_options\u001b[38;5;241m=\u001b[39mstorage_options, engine\u001b[38;5;241m=\u001b[39mengine)\n\u001b[0;32m    479\u001b[0m \u001b[38;5;28;01melif\u001b[39;00m engine \u001b[38;5;129;01mand\u001b[39;00m engine \u001b[38;5;241m!=\u001b[39m io\u001b[38;5;241m.\u001b[39mengine:\n\u001b[0;32m    480\u001b[0m     \u001b[38;5;28;01mraise\u001b[39;00m \u001b[38;5;167;01mValueError\u001b[39;00m(\n\u001b[0;32m    481\u001b[0m         \u001b[38;5;124m\"\u001b[39m\u001b[38;5;124mEngine should not be specified when passing \u001b[39m\u001b[38;5;124m\"\u001b[39m\n\u001b[0;32m    482\u001b[0m         \u001b[38;5;124m\"\u001b[39m\u001b[38;5;124man ExcelFile - ExcelFile already has the engine set\u001b[39m\u001b[38;5;124m\"\u001b[39m\n\u001b[0;32m    483\u001b[0m     )\n",
      "File \u001b[1;32mc:\\Users\\gidon\\AppData\\Local\\anaconda3\\Lib\\site-packages\\pandas\\io\\excel\\_base.py:1496\u001b[0m, in \u001b[0;36mExcelFile.__init__\u001b[1;34m(self, path_or_buffer, engine, storage_options)\u001b[0m\n\u001b[0;32m   1494\u001b[0m     ext \u001b[38;5;241m=\u001b[39m \u001b[38;5;124m\"\u001b[39m\u001b[38;5;124mxls\u001b[39m\u001b[38;5;124m\"\u001b[39m\n\u001b[0;32m   1495\u001b[0m \u001b[38;5;28;01melse\u001b[39;00m:\n\u001b[1;32m-> 1496\u001b[0m     ext \u001b[38;5;241m=\u001b[39m inspect_excel_format(\n\u001b[0;32m   1497\u001b[0m         content_or_path\u001b[38;5;241m=\u001b[39mpath_or_buffer, storage_options\u001b[38;5;241m=\u001b[39mstorage_options\n\u001b[0;32m   1498\u001b[0m     )\n\u001b[0;32m   1499\u001b[0m     \u001b[38;5;28;01mif\u001b[39;00m ext \u001b[38;5;129;01mis\u001b[39;00m \u001b[38;5;28;01mNone\u001b[39;00m:\n\u001b[0;32m   1500\u001b[0m         \u001b[38;5;28;01mraise\u001b[39;00m \u001b[38;5;167;01mValueError\u001b[39;00m(\n\u001b[0;32m   1501\u001b[0m             \u001b[38;5;124m\"\u001b[39m\u001b[38;5;124mExcel file format cannot be determined, you must specify \u001b[39m\u001b[38;5;124m\"\u001b[39m\n\u001b[0;32m   1502\u001b[0m             \u001b[38;5;124m\"\u001b[39m\u001b[38;5;124man engine manually.\u001b[39m\u001b[38;5;124m\"\u001b[39m\n\u001b[0;32m   1503\u001b[0m         )\n",
      "File \u001b[1;32mc:\\Users\\gidon\\AppData\\Local\\anaconda3\\Lib\\site-packages\\pandas\\io\\excel\\_base.py:1371\u001b[0m, in \u001b[0;36minspect_excel_format\u001b[1;34m(content_or_path, storage_options)\u001b[0m\n\u001b[0;32m   1368\u001b[0m \u001b[38;5;28;01mif\u001b[39;00m \u001b[38;5;28misinstance\u001b[39m(content_or_path, \u001b[38;5;28mbytes\u001b[39m):\n\u001b[0;32m   1369\u001b[0m     content_or_path \u001b[38;5;241m=\u001b[39m BytesIO(content_or_path)\n\u001b[1;32m-> 1371\u001b[0m \u001b[38;5;28;01mwith\u001b[39;00m get_handle(\n\u001b[0;32m   1372\u001b[0m     content_or_path, \u001b[38;5;124m\"\u001b[39m\u001b[38;5;124mrb\u001b[39m\u001b[38;5;124m\"\u001b[39m, storage_options\u001b[38;5;241m=\u001b[39mstorage_options, is_text\u001b[38;5;241m=\u001b[39m\u001b[38;5;28;01mFalse\u001b[39;00m\n\u001b[0;32m   1373\u001b[0m ) \u001b[38;5;28;01mas\u001b[39;00m handle:\n\u001b[0;32m   1374\u001b[0m     stream \u001b[38;5;241m=\u001b[39m handle\u001b[38;5;241m.\u001b[39mhandle\n\u001b[0;32m   1375\u001b[0m     stream\u001b[38;5;241m.\u001b[39mseek(\u001b[38;5;241m0\u001b[39m)\n",
      "File \u001b[1;32mc:\\Users\\gidon\\AppData\\Local\\anaconda3\\Lib\\site-packages\\pandas\\io\\common.py:868\u001b[0m, in \u001b[0;36mget_handle\u001b[1;34m(path_or_buf, mode, encoding, compression, memory_map, is_text, errors, storage_options)\u001b[0m\n\u001b[0;32m    859\u001b[0m         handle \u001b[38;5;241m=\u001b[39m \u001b[38;5;28mopen\u001b[39m(\n\u001b[0;32m    860\u001b[0m             handle,\n\u001b[0;32m    861\u001b[0m             ioargs\u001b[38;5;241m.\u001b[39mmode,\n\u001b[1;32m   (...)\u001b[0m\n\u001b[0;32m    864\u001b[0m             newline\u001b[38;5;241m=\u001b[39m\u001b[38;5;124m\"\u001b[39m\u001b[38;5;124m\"\u001b[39m,\n\u001b[0;32m    865\u001b[0m         )\n\u001b[0;32m    866\u001b[0m     \u001b[38;5;28;01melse\u001b[39;00m:\n\u001b[0;32m    867\u001b[0m         \u001b[38;5;66;03m# Binary mode\u001b[39;00m\n\u001b[1;32m--> 868\u001b[0m         handle \u001b[38;5;241m=\u001b[39m \u001b[38;5;28mopen\u001b[39m(handle, ioargs\u001b[38;5;241m.\u001b[39mmode)\n\u001b[0;32m    869\u001b[0m     handles\u001b[38;5;241m.\u001b[39mappend(handle)\n\u001b[0;32m    871\u001b[0m \u001b[38;5;66;03m# Convert BytesIO or file objects passed with an encoding\u001b[39;00m\n",
      "\u001b[1;31mFileNotFoundError\u001b[0m: [Errno 2] No such file or directory: 'W:\\\\Data\\\\Forecast\\\\forecast_by_version\\\\V4\\\\240701_forecast_2020_till_2050_jtmt.xlsx'"
     ]
    }
   ],
   "source": [
    "jtmt=up_load_df(forecast_version_folder_location, fr\"{forecast_version}_forecast_2020_till_2050_jtmt\")\n",
    "\n",
    "jtmt=jtmt.query('zonetype!=\"Palestinian\"')"
   ]
  },
  {
   "cell_type": "code",
   "execution_count": 8,
   "id": "dd753a8f",
   "metadata": {
    "hidden": true
   },
   "outputs": [],
   "source": [
    "bau=up_load_df(forecast_version_folder_location, fr\"{forecast_version}_forecast_2020_till_2050_bau\")\n",
    "\n",
    "#bau=bau.query('zonetype==\"Jerusalem\" | zonetype==\"Judea and Samaria\" ')"
   ]
  },
  {
   "cell_type": "code",
   "execution_count": 9,
   "id": "0d226f28",
   "metadata": {
    "hidden": true
   },
   "outputs": [],
   "source": [
    "iplan=up_load_df(forecast_version_folder_location, fr\"{forecast_version}_forecast_2020_till_2050_iplan\")\n",
    "\n",
    "#iplan=iplan.query('zonetype==\"Jerusalem\" | zonetype==\"Judea and Samaria\" ')"
   ]
  },
  {
   "cell_type": "code",
   "execution_count": 10,
   "id": "70590038",
   "metadata": {},
   "outputs": [],
   "source": [
    "model_versions_folder_location=get_model_versions_folder_location(r'{}\\background_files\\model_versions_folder_location.txt'.format(create_forecast_basic_folder_path))"
   ]
  },
  {
   "cell_type": "code",
   "execution_count": 11,
   "id": "2c14cfef",
   "metadata": {
    "hidden": true
   },
   "outputs": [],
   "source": [
    "v3=up_load_df(model_versions_folder_location,'v3_for_comparison_to_v4')\n",
    "\n",
    "v3=v3.query('zonetype!=\"Palestinian\"')"
   ]
  },
  {
   "cell_type": "code",
   "execution_count": 12,
   "id": "a64f11b6",
   "metadata": {
    "hidden": true
   },
   "outputs": [],
   "source": [
    "save_file=r'{}\\background_files'.format(cwd)\n",
    "\n",
    "past_2010=up_load_df(save_file,'נתוני ישובים ומועצות  2010 - עיבוד')\n",
    "\n",
    "past_2000=up_load_df(save_file,'נתוני ישובים ומועצות  2000 -עיבוד')\n",
    "\n",
    "past_2020=up_load_df(save_file,'נתוני רשויות 2020 - עיבוד')\n",
    "\n",
    "gov=up_load_df(save_file,'טיוטת תוצאות לתרחישי אוכלוסייה אזוריים - 2020-2050 - טיוטה')"
   ]
  },
  {
   "cell_type": "markdown",
   "id": "acd472c0",
   "metadata": {},
   "source": [
    "## אחוז תרחיש מכלל ארצי"
   ]
  },
  {
   "cell_type": "code",
   "execution_count": 13,
   "id": "c6ed7981",
   "metadata": {},
   "outputs": [],
   "source": [
    "def gov_goal_by_year(sum_df,df,year,scenario_True):\n",
    "    goal=df.query('proj==\"medium\" & housing_adjusted ==@scenario_True & year==@year')['pop'].sum().item()\n",
    "    \n",
    "    data = [ {'scenario': 'iplan' if scenario_True else 'bau', 'year': year,'pop':goal}]\n",
    "     \n",
    "    df_to_add = pd.DataFrame(data)\n",
    "    \n",
    "    sum_df=pd.concat([sum_df,df_to_add],axis=0)\n",
    "    \n",
    "    return sum_df"
   ]
  },
  {
   "cell_type": "code",
   "execution_count": 14,
   "id": "60aa93f9",
   "metadata": {},
   "outputs": [],
   "source": [
    "def gov_goal_by_year_machoz(sum_df,df,year,scenario_True,machoz_name):\n",
    "    goal=df.query('proj==\"medium\" & housing_adjusted ==@scenario_True & year==@year & district==@machoz_name')['pop'].sum().item()\n",
    "    \n",
    "    data = [ {'scenario': 'iplan' if scenario_True else 'bau', 'year': year,'zonetype':machoz_name,'pop':goal}]\n",
    "     \n",
    "    df_to_add = pd.DataFrame(data)\n",
    "    \n",
    "    sum_df=pd.concat([sum_df,df_to_add],axis=0)\n",
    "    \n",
    "    return sum_df    "
   ]
  },
  {
   "cell_type": "code",
   "execution_count": 15,
   "id": "0d14a7e6",
   "metadata": {},
   "outputs": [],
   "source": [
    "def jtmt_forecast_by_year_machoz(sum_df,jtmt,year,machoz_name):\n",
    "    goal=jtmt.query('zonetype==@machoz_name')['pop_without_dorms_yeshiva_{}'.format(year)].sum().item()\n",
    "    \n",
    "    data = [ {'scenario': 'jtmt' , 'year': year,'zonetype':machoz_name,'pop':goal}]\n",
    "     \n",
    "    df_to_add = pd.DataFrame(data)\n",
    "    \n",
    "    sum_df=pd.concat([sum_df,df_to_add],axis=0)\n",
    "    \n",
    "    return sum_df"
   ]
  },
  {
   "cell_type": "code",
   "execution_count": 16,
   "id": "8101f7c0",
   "metadata": {},
   "outputs": [],
   "source": [
    "def jtmt_forecast_by_year_metro(sum_df,jtmt,year,metro):\n",
    "    goal=jtmt.query('jeru_metro==@metro')['pop_without_dorms_yeshiva_{}'.format(year)].sum().item()\n",
    "    \n",
    "    data = [ {'scenario': 'jtmt' , 'year': year,'zonetype':'metro','pop':goal}]\n",
    "     \n",
    "    df_to_add = pd.DataFrame(data)\n",
    "    \n",
    "    sum_df=pd.concat([sum_df,df_to_add],axis=0)\n",
    "    \n",
    "    return sum_df"
   ]
  },
  {
   "cell_type": "code",
   "execution_count": 17,
   "id": "374ced2e",
   "metadata": {},
   "outputs": [],
   "source": [
    "sum_df = pd.DataFrame()\n",
    "for t in [True,False]:\n",
    "    for m in [\"Jerusalem District\",\"Yehuda and Shomron\"]:\n",
    "        for y in list(range(2020,2051,5)):\n",
    "            sum_df=gov_goal_by_year_machoz(sum_df,gov,y,t,m)"
   ]
  },
  {
   "cell_type": "code",
   "execution_count": 18,
   "id": "9498ced0",
   "metadata": {},
   "outputs": [],
   "source": [
    "for m in [\"Jerusalem\",\"Judea and Samaria\"]:\n",
    "        for y in list(range(2025,2051,5)):\n",
    "            sum_df=jtmt_forecast_by_year_machoz(sum_df,jtmt,y,m)"
   ]
  },
  {
   "cell_type": "code",
   "execution_count": 19,
   "id": "6802f85c",
   "metadata": {},
   "outputs": [],
   "source": [
    "\n",
    "for y in list(range(2025,2051,5)):\n",
    "    sum_df=jtmt_forecast_by_year_metro(sum_df,jtmt,y,1)"
   ]
  },
  {
   "cell_type": "code",
   "execution_count": 20,
   "id": "6ec510fc",
   "metadata": {},
   "outputs": [],
   "source": [
    "sum_df.loc[sum_df['zonetype']==\"Jerusalem\",'zonetype']=\"Jerusalem District\""
   ]
  },
  {
   "cell_type": "code",
   "execution_count": 21,
   "id": "34a0f531",
   "metadata": {},
   "outputs": [],
   "source": [
    "sum_df.loc[sum_df['zonetype']==\"Judea and Samaria\",'zonetype']=\"Yehuda and Shomron\""
   ]
  },
  {
   "cell_type": "code",
   "execution_count": null,
   "id": "f7f393fd",
   "metadata": {},
   "outputs": [],
   "source": [
    "df=sum_df.pivot_table(index=['year'],columns=['zonetype','scenario'],aggfunc=sum)"
   ]
  },
  {
   "cell_type": "code",
   "execution_count": null,
   "id": "c9160f74",
   "metadata": {},
   "outputs": [],
   "source": [
    "sum_total = pd.DataFrame()\n",
    "for t in [True,False]:\n",
    "    for y in list(range(2020,2051,5)):\n",
    "        sum_total=gov_goal_by_year(sum_total,gov,y,t)\n",
    "\n",
    "sum_total=sum_total.pivot_table(index=['year'],columns=['scenario'],aggfunc=sum)"
   ]
  },
  {
   "cell_type": "code",
   "execution_count": 24,
   "id": "b04f3d09",
   "metadata": {},
   "outputs": [],
   "source": [
    "df['Totatl_pop_il']=sum_total['pop']['bau']"
   ]
  },
  {
   "cell_type": "code",
   "execution_count": 25,
   "id": "e64b44de",
   "metadata": {},
   "outputs": [],
   "source": [
    "df.to_excel('scenario_precent_of_pop_il.xlsx')"
   ]
  },
  {
   "cell_type": "markdown",
   "id": "bd65cc35",
   "metadata": {},
   "source": [
    "## נתוני עבר"
   ]
  },
  {
   "cell_type": "code",
   "execution_count": null,
   "id": "d73c77b9",
   "metadata": {},
   "outputs": [],
   "source": [
    "sum_df = pd.DataFrame()\n",
    "\n",
    "col_index=['zonetype','muni_name']\n",
    "\n",
    "col_need=[ 'pop_without_dorms_yeshiva','pop_0_20','pop_21_45','pop_45_65','pop_65+','student','jew_precent']\n",
    "\n",
    "sum_df=sum_scenarios(sum_df,past_2000,'2000',col_index,col_need,2)\n",
    "\n",
    "sum_df=sum_scenarios(sum_df,past_2010,'2010',col_index,col_need,2)\n",
    "\n",
    "sum_df=sum_scenarios(sum_df,past_2020,'2020',col_index,col_need,2)"
   ]
  },
  {
   "cell_type": "code",
   "execution_count": null,
   "id": "a4ab112c",
   "metadata": {},
   "outputs": [],
   "source": [
    "sum_df=sum_df.pivot_table(index=col_index,columns='scenario',aggfunc=sum)\n",
    "\n",
    "sum_df=sum_df.fillna(0)\n",
    "\n",
    "sum_df = sum_df.loc[:, ~(sum_df == 0).all(axis=0)]\n",
    "\n",
    "sum_df=sum_df.loc[ ~(sum_df == 0).all(axis=1),:]"
   ]
  },
  {
   "cell_type": "code",
   "execution_count": 28,
   "id": "06748338",
   "metadata": {
    "scrolled": false
   },
   "outputs": [],
   "source": [
    "sum_df.sort_values(col_index).to_excel('past_data_2000till2020_muni.xlsx')"
   ]
  },
  {
   "cell_type": "markdown",
   "id": "b038e0aa",
   "metadata": {},
   "source": [
    "## השוואות בין התרחישים"
   ]
  },
  {
   "cell_type": "code",
   "execution_count": 29,
   "id": "d69968ef",
   "metadata": {},
   "outputs": [],
   "source": [
    "jtmt_full=jtmt\n",
    "jtmt=jtmt.query('zonetype==\"Jerusalem\" | zonetype==\"Judea and Samaria\" ')"
   ]
  },
  {
   "cell_type": "markdown",
   "id": "b9ef8bd1",
   "metadata": {},
   "source": [
    "### אוכלוסייה  לפי מחוז תרחיש כל עשור"
   ]
  },
  {
   "cell_type": "code",
   "execution_count": null,
   "id": "ce001013",
   "metadata": {},
   "outputs": [],
   "source": [
    "col_index=['zonetype','Muni_Heb']\n",
    "\n",
    "col_need=['pop_without_dorms_yeshiva',\n",
    " 'pop_without_dorms_yeshiva_2030',\n",
    " 'pop_without_dorms_yeshiva_2040',\n",
    " 'pop_without_dorms_yeshiva_2050']\n",
    "\n",
    "sum_df = pd.DataFrame()\n",
    "\n",
    "sum_df=sum_scenarios(sum_df,jtmt,'jtmt',col_index,col_need,-3)\n",
    "\n",
    "sum_df=sum_scenarios(sum_df,iplan,'iplan',col_index,col_need,-3)\n",
    "\n",
    "sum_df=sum_scenarios(sum_df,bau,'bau',col_index,col_need,-3)"
   ]
  },
  {
   "cell_type": "code",
   "execution_count": 31,
   "id": "4144e28b",
   "metadata": {},
   "outputs": [],
   "source": [
    "sum_df.to_excel('sum_scenario_pop_by_muni_for_pre.xlsx')"
   ]
  },
  {
   "cell_type": "code",
   "execution_count": null,
   "id": "2118937a",
   "metadata": {},
   "outputs": [],
   "source": [
    "col_index=['zonetype']\n",
    "\n",
    "col_need=['pop_without_dorms_yeshiva',\n",
    " 'pop_without_dorms_yeshiva_2030',\n",
    " 'pop_without_dorms_yeshiva_2040',\n",
    " 'pop_without_dorms_yeshiva_2050','total_emp_2050']\n",
    "\n",
    "sum_df = pd.DataFrame()\n",
    "\n",
    "sum_df=sum_scenarios(sum_df,jtmt,'jtmt',col_index,col_need,-3)\n",
    "\n",
    "sum_df=sum_scenarios(sum_df,iplan,'iplan',col_index,col_need,-3)\n",
    "\n",
    "sum_df=sum_scenarios(sum_df,bau,'bau',col_index,col_need,-3)"
   ]
  },
  {
   "cell_type": "code",
   "execution_count": null,
   "id": "077bf832",
   "metadata": {},
   "outputs": [],
   "source": [
    "col_index=['jeru_metro']\n",
    "\n",
    "col_need=[\n",
    " 'pop_without_dorms_yeshiva',\n",
    " 'pop_without_dorms_yeshiva_2025',\n",
    " 'pop_without_dorms_yeshiva_2030',\n",
    " 'pop_without_dorms_yeshiva_2035',\n",
    " 'pop_without_dorms_yeshiva_2040',\n",
    " 'pop_without_dorms_yeshiva_2045',\n",
    " 'pop_without_dorms_yeshiva_2050','total_emp_2050']\n",
    "\n",
    "sum_df=sum_scenarios(sum_df,jtmt,'jtmt',col_index,col_need,-3)\n",
    "\n",
    "sum_df=sum_scenarios(sum_df,iplan,'iplan',col_index,col_need,-3)\n",
    "\n",
    "sum_df=sum_scenarios(sum_df,bau,'bau',col_index,col_need,-3)\n",
    "\n",
    "# List of index values to keep\n",
    "index_values_to_keep = ['Jerusalem', 'Judea and Samaria', 1]\n",
    "\n",
    "sum_df=sum_df.loc[index_values_to_keep].sort_values(by='scenario')"
   ]
  },
  {
   "cell_type": "code",
   "execution_count": 34,
   "id": "4b680630",
   "metadata": {},
   "outputs": [],
   "source": [
    "col_need=['pop_without_dorms_yeshiva',\n",
    " 'pop_without_dorms_yeshiva_2030',\n",
    " 'pop_without_dorms_yeshiva_2040',\n",
    " 'pop_without_dorms_yeshiva_2050']"
   ]
  },
  {
   "cell_type": "code",
   "execution_count": 35,
   "id": "df73c6d5",
   "metadata": {},
   "outputs": [],
   "source": [
    "sum_df[col_need].to_excel('sum_scenario_pop_by_macoz_for_pre.xlsx')"
   ]
  },
  {
   "cell_type": "code",
   "execution_count": 36,
   "id": "7b90b1ab",
   "metadata": {},
   "outputs": [],
   "source": [
    "col=['scenario','pop_without_dorms_yeshiva_2050', 'total_emp_2050']\n",
    "df=sum_df[col].reset_index()\n",
    "df['index']=df['index'].astype(str)\n",
    "df.sort_values(by='index').to_excel('sum_scenario_machoz_pop_emp.xlsx')"
   ]
  },
  {
   "cell_type": "markdown",
   "id": "fde65451",
   "metadata": {},
   "source": [
    "העיבוד הבא צריך להכין איפשהו מחדש\n"
   ]
  },
  {
   "cell_type": "markdown",
   "id": "65b20bbb",
   "metadata": {},
   "source": [
    "sum_df[['scenario',\n",
    " 'pop_without_dorms_yeshiva',\n",
    " 'pop_without_dorms_yeshiva_2025',\n",
    " 'pop_without_dorms_yeshiva_2030',\n",
    " 'pop_without_dorms_yeshiva_2035',\n",
    " 'pop_without_dorms_yeshiva_2040',\n",
    " 'pop_without_dorms_yeshiva_2045',\n",
    " 'pop_without_dorms_yeshiva_2050']].sort_values('group').to_excel('sum_scenario_group_pop.xlsx')"
   ]
  },
  {
   "cell_type": "markdown",
   "id": "407f3444",
   "metadata": {},
   "source": [
    "### אוכלוסייה ותעסוקה לפי מחוז תרחיש בשנת 2050"
   ]
  },
  {
   "cell_type": "code",
   "execution_count": null,
   "id": "e0dac5fa",
   "metadata": {},
   "outputs": [],
   "source": [
    "col_index=['zonetype']\n",
    "col_need=['pop_without_dorms_yeshiva','total_emp']\n",
    "\n",
    "sum_df = pd.DataFrame()\n",
    "\n",
    "sum_df=sum_scenarios(sum_df,jtmt,'2020',col_index,col_need,-3)"
   ]
  },
  {
   "cell_type": "code",
   "execution_count": null,
   "id": "83034558",
   "metadata": {},
   "outputs": [],
   "source": [
    "col_index=['jeru_metro']\n",
    "sum_df=sum_scenarios(sum_df,jtmt,'2020',col_index,col_need,-3)"
   ]
  },
  {
   "cell_type": "code",
   "execution_count": 39,
   "id": "02d890d1",
   "metadata": {},
   "outputs": [],
   "source": [
    "# List of index values to keep\n",
    "index_values_to_keep = ['Jerusalem', 'Judea and Samaria', 1]\n",
    "\n",
    "sum_df=sum_df.loc[index_values_to_keep].sort_values(by='scenario').to_excel('kayim_sum_machoz_pop_emp.xlsx')"
   ]
  },
  {
   "cell_type": "markdown",
   "id": "2acbcbf7",
   "metadata": {},
   "source": [
    "\n",
    "col=['zonetype']\n",
    "\n",
    "col_need=['pop_without_dorms_yeshiva_2050','total_emp_2050']\n",
    "\n",
    "df=round(pd.pivot_table(jtmt,index='zonetype',aggfunc=sum)[col_need],-4)\n",
    "\n",
    "df['year']=2050\n",
    "\n",
    "df['scenario']='jtmt'\n",
    "sum_df=df\n",
    "col=['zonetype']\n",
    "\n",
    "col_need=['pop_without_dorms_yeshiva_2050','total_emp_2050']\n",
    "\n",
    "df=round(pd.pivot_table(iplan,index='zonetype',aggfunc=sum)[col_need],-4)\n",
    "\n",
    "df['year']=2050\n",
    "\n",
    "df['scenario']='iplan'\n",
    "sum_df=pd.concat([sum_df,df],axis=0)\n",
    "col=['zonetype']\n",
    "\n",
    "col_need=['pop_without_dorms_yeshiva_2050','total_emp_2050']\n",
    "\n",
    "df=round(pd.pivot_table(bau,index='zonetype',aggfunc=sum)[col_need],-4)\n",
    "\n",
    "df['year']=2050\n",
    "\n",
    "df['scenario']='bau'\n",
    "sum_df=pd.concat([sum_df,df],axis=0)\n",
    "sum_df=sum_df.sort_values('zonetype')\n",
    "col=['scenario','pop_without_dorms_yeshiva_2050', 'total_emp_2050']\n",
    "sum_df[col].to_excel('sum_scenario_machoz_pop_emp.xlsx')\n"
   ]
  },
  {
   "cell_type": "markdown",
   "id": "87feecdd",
   "metadata": {},
   "source": [
    "### אוכלוסייה  לפי מגזר חומשים ותרחיש"
   ]
  },
  {
   "cell_type": "code",
   "execution_count": 40,
   "id": "43a66a75",
   "metadata": {},
   "outputs": [],
   "source": [
    "bau_full=bau\n",
    "bau=bau.query('zonetype==\"Jerusalem\" | zonetype==\"Judea and Samaria\" ')"
   ]
  },
  {
   "cell_type": "code",
   "execution_count": 41,
   "id": "78619600",
   "metadata": {},
   "outputs": [],
   "source": [
    "iplan_full=iplan\n",
    "iplan=iplan.query('zonetype==\"Jerusalem\" | zonetype==\"Judea and Samaria\" ')"
   ]
  },
  {
   "cell_type": "code",
   "execution_count": null,
   "id": "a0d0d479",
   "metadata": {},
   "outputs": [],
   "source": [
    "iplan=group_sector(iplan)"
   ]
  },
  {
   "cell_type": "code",
   "execution_count": null,
   "id": "61f1e16f",
   "metadata": {},
   "outputs": [],
   "source": [
    "bau=group_sector(bau)"
   ]
  },
  {
   "cell_type": "code",
   "execution_count": null,
   "id": "5ddfb0ea",
   "metadata": {},
   "outputs": [],
   "source": [
    "jtmt=group_sector(jtmt)"
   ]
  },
  {
   "cell_type": "code",
   "execution_count": null,
   "id": "7f773ad3",
   "metadata": {},
   "outputs": [],
   "source": [
    "col_need=['pop_without_dorms_yeshiva',\n",
    " 'pop_without_dorms_yeshiva_2025',\n",
    " 'pop_without_dorms_yeshiva_2030',\n",
    " 'pop_without_dorms_yeshiva_2035',\n",
    " 'pop_without_dorms_yeshiva_2040',\n",
    " 'pop_without_dorms_yeshiva_2045',\n",
    " 'pop_without_dorms_yeshiva_2050']\n",
    "\n",
    "sum_df = pd.DataFrame()\n",
    "\n",
    "sum_df=sum_scenarios(sum_df,jtmt,'jtmt','group',col_need,-3)\n",
    "\n",
    "sum_df=sum_scenarios(sum_df,iplan,'iplan','group',col_need,-3)\n",
    "\n",
    "sum_df=sum_scenarios(sum_df,bau,'bau','group',col_need,-3)"
   ]
  },
  {
   "cell_type": "code",
   "execution_count": 46,
   "id": "3d3797aa",
   "metadata": {},
   "outputs": [],
   "source": [
    "sum_df[['scenario',\n",
    " 'pop_without_dorms_yeshiva',\n",
    " 'pop_without_dorms_yeshiva_2025',\n",
    " 'pop_without_dorms_yeshiva_2030',\n",
    " 'pop_without_dorms_yeshiva_2035',\n",
    " 'pop_without_dorms_yeshiva_2040',\n",
    " 'pop_without_dorms_yeshiva_2045',\n",
    " 'pop_without_dorms_yeshiva_2050']].sort_values('group').to_excel('sum_scenario_group_pop.xlsx')"
   ]
  },
  {
   "cell_type": "markdown",
   "id": "38683dc8",
   "metadata": {
    "heading_collapsed": true
   },
   "source": [
    "### אוכלוסיה לפי תרחיש ורשות"
   ]
  },
  {
   "cell_type": "code",
   "execution_count": null,
   "id": "6db7d97c",
   "metadata": {
    "hidden": true
   },
   "outputs": [],
   "source": [
    "col_need=['pop_without_dorms_yeshiva_2050','total_emp_2050']\n",
    "\n",
    "df=round(pd.pivot_table(jtmt,index=['zonetype','Muni_Heb'],aggfunc=sum)[col_need],-2)\n",
    "\n",
    "df['scenario']='jtmt'\n",
    "\n",
    "sum_df=df"
   ]
  },
  {
   "cell_type": "code",
   "execution_count": 48,
   "id": "498e43ed",
   "metadata": {
    "hidden": true
   },
   "outputs": [],
   "source": [
    "col_index=['zonetype','Muni_Heb']"
   ]
  },
  {
   "cell_type": "code",
   "execution_count": null,
   "id": "f1ce8d11",
   "metadata": {
    "hidden": true
   },
   "outputs": [],
   "source": [
    "sum_df=sum_scenarios(sum_df,iplan,'iplan',col_index,col_need,-2)\n",
    "\n",
    "sum_df=sum_scenarios(sum_df,bau,'bau',col_index,col_need,-2)\n",
    "\n",
    "sum_df=sum_scenarios(sum_df,jtmt,'kayim',col_index,['pop_without_dorms_yeshiva','total_emp'],-2)"
   ]
  },
  {
   "cell_type": "code",
   "execution_count": null,
   "id": "d3ffce4b",
   "metadata": {
    "hidden": true,
    "scrolled": true
   },
   "outputs": [],
   "source": [
    "sum_df=sum_df.pivot_table(index=col_index,columns='scenario',aggfunc=sum)\n",
    "\n",
    "sum_df = sum_df.loc[:, ~(sum_df == 0).all(axis=0)]"
   ]
  },
  {
   "cell_type": "code",
   "execution_count": 51,
   "id": "b2c7d9a8",
   "metadata": {
    "hidden": true
   },
   "outputs": [],
   "source": [
    "sum_df.to_excel('sum_scenario_Muni_Heb_pop_emp.xlsx')"
   ]
  },
  {
   "cell_type": "markdown",
   "id": "5d47cf81",
   "metadata": {
    "heading_collapsed": true
   },
   "source": [
    "### אוכלוסייה לפי מחוז מגזר חומשים ותרחיש"
   ]
  },
  {
   "cell_type": "code",
   "execution_count": null,
   "id": "fd806b49",
   "metadata": {
    "hidden": true
   },
   "outputs": [],
   "source": [
    "sum_df = pd.DataFrame()\n",
    "\n",
    "col_index=['zonetype','group']\n",
    "\n",
    "col_need=['pop_without_dorms_yeshiva',\n",
    " 'pop_without_dorms_yeshiva_2025',\n",
    " 'pop_without_dorms_yeshiva_2030',\n",
    " 'pop_without_dorms_yeshiva_2035',\n",
    " 'pop_without_dorms_yeshiva_2040',\n",
    " 'pop_without_dorms_yeshiva_2045',\n",
    " 'pop_without_dorms_yeshiva_2050']\n",
    "\n",
    "sum_df=sum_scenarios(sum_df,jtmt,'jtmt',col_index,col_need,-3)\n",
    "\n",
    "sum_df=sum_scenarios(sum_df,iplan,'iplan',col_index,col_need,-3)\n",
    "\n",
    "sum_df=sum_scenarios(sum_df,bau,'bau',col_index,col_need,-3)"
   ]
  },
  {
   "cell_type": "code",
   "execution_count": null,
   "id": "0b100faf",
   "metadata": {},
   "outputs": [],
   "source": [
    "col_index=['jeru_metro','group']\n",
    "\n",
    "col_need=['pop_without_dorms_yeshiva',\n",
    " 'pop_without_dorms_yeshiva_2025',\n",
    " 'pop_without_dorms_yeshiva_2030',\n",
    " 'pop_without_dorms_yeshiva_2035',\n",
    " 'pop_without_dorms_yeshiva_2040',\n",
    " 'pop_without_dorms_yeshiva_2045',\n",
    " 'pop_without_dorms_yeshiva_2050']\n",
    "\n",
    "sum_df=sum_scenarios(sum_df,jtmt,'jtmt',col_index,col_need,-3)\n",
    "\n",
    "sum_df=sum_scenarios(sum_df,iplan,'iplan',col_index,col_need,-3)\n",
    "\n",
    "sum_df=sum_scenarios(sum_df,bau,'bau',col_index,col_need,-3)"
   ]
  },
  {
   "cell_type": "code",
   "execution_count": 54,
   "id": "4d0d2450",
   "metadata": {},
   "outputs": [],
   "source": [
    "sum_df.index.names = ['zonetype', 'group']\n",
    "sum_df.reset_index()[['zonetype','group','scenario',\n",
    " 'pop_without_dorms_yeshiva',\n",
    " 'pop_without_dorms_yeshiva_2025',\n",
    " 'pop_without_dorms_yeshiva_2030',\n",
    " 'pop_without_dorms_yeshiva_2035',\n",
    " 'pop_without_dorms_yeshiva_2040',\n",
    " 'pop_without_dorms_yeshiva_2045',\n",
    " 'pop_without_dorms_yeshiva_2050']].sort_values(by=['zonetype','group']).query('zonetype!=0').to_excel('sum_scenario_machoz_group_pop.xlsx')"
   ]
  },
  {
   "cell_type": "markdown",
   "id": "a2c2ed43",
   "metadata": {
    "heading_collapsed": true
   },
   "source": [
    "### אוכלוסייה בשכונות של ירושלים לפי מגזר ותרחיש"
   ]
  },
  {
   "cell_type": "code",
   "execution_count": null,
   "id": "091e6bb9",
   "metadata": {
    "hidden": true
   },
   "outputs": [],
   "source": [
    "sum_df = pd.DataFrame()\n",
    "\n",
    "col_index=['SCHN_NAME','group']\n",
    "\n",
    "col_need=[ 'pop_without_dorms_yeshiva_2050']\n",
    "\n",
    "sum_df=sum_scenarios(sum_df,jtmt,'jtmt',col_index,col_need,-3)\n",
    "\n",
    "sum_df=sum_scenarios(sum_df,iplan,'iplan',col_index,col_need,-3)\n",
    "\n",
    "sum_df=sum_scenarios(sum_df,bau,'bau',col_index,col_need,-3)\n",
    "\n",
    "sum_df=sum_scenarios(sum_df,jtmt,'kayim',col_index,['pop_without_dorms_yeshiva'],-3)"
   ]
  },
  {
   "cell_type": "code",
   "execution_count": null,
   "id": "692e74e9",
   "metadata": {
    "hidden": true
   },
   "outputs": [],
   "source": [
    "sum_df=sum_df.pivot_table(index=col_index,columns='scenario',aggfunc=sum)\n",
    "\n",
    "sum_df=sum_df.fillna(0)\n",
    "\n",
    "sum_df = sum_df.loc[:, ~(sum_df == 0).all(axis=0)]\n",
    "\n",
    "sum_df=sum_df.loc[ ~(sum_df == 0).all(axis=1),:]"
   ]
  },
  {
   "cell_type": "code",
   "execution_count": 57,
   "id": "587a7b65",
   "metadata": {
    "hidden": true
   },
   "outputs": [],
   "source": [
    "sum_df.to_excel('sum_scenario_jeru_group_pop.xlsx')"
   ]
  },
  {
   "cell_type": "markdown",
   "id": "5e7c237e",
   "metadata": {},
   "source": [
    "### אוכלוסייה  לפי מגזר ותרחיש השוואה לפי מחוז"
   ]
  },
  {
   "cell_type": "code",
   "execution_count": null,
   "id": "ec7682dc",
   "metadata": {},
   "outputs": [],
   "source": [
    "sum_df = pd.DataFrame()\n",
    "\n",
    "col_index=['zonetype','group']\n",
    "\n",
    "col_need=['pop_without_dorms_yeshiva_2050']\n",
    "\n",
    "sum_df=sum_scenarios(sum_df,jtmt,'jtmt',col_index,col_need,-3)\n",
    "\n",
    "sum_df=sum_scenarios(sum_df,iplan,'iplan',col_index,col_need,-3)\n",
    "\n",
    "sum_df=sum_scenarios(sum_df,bau,'bau',col_index,col_need,-3)\n",
    "\n",
    "sum_df=sum_scenarios(sum_df,jtmt,'kayim',col_index,['pop_without_dorms_yeshiva'],-3)"
   ]
  },
  {
   "cell_type": "code",
   "execution_count": null,
   "id": "b4aa5983",
   "metadata": {},
   "outputs": [],
   "source": [
    "col_index=['jeru_metro','group']\n",
    "\n",
    "col_need=['pop_without_dorms_yeshiva_2050']\n",
    "\n",
    "sum_df=sum_scenarios(sum_df,jtmt,'jtmt',col_index,col_need,-3)\n",
    "\n",
    "sum_df=sum_scenarios(sum_df,iplan,'iplan',col_index,col_need,-3)\n",
    "\n",
    "sum_df=sum_scenarios(sum_df,bau,'bau',col_index,col_need,-3)\n",
    "\n",
    "sum_df=sum_scenarios(sum_df,jtmt,'kayim',col_index,['pop_without_dorms_yeshiva'],-3)"
   ]
  },
  {
   "cell_type": "code",
   "execution_count": 60,
   "id": "78fd9840",
   "metadata": {},
   "outputs": [],
   "source": [
    "sum_df.index.names = ['zonetype', 'group']"
   ]
  },
  {
   "cell_type": "code",
   "execution_count": null,
   "id": "b5458221",
   "metadata": {},
   "outputs": [],
   "source": [
    "compare_scenarios(sum_df,['zonetype', 'group']).T.to_excel('sum_scenario_machoz_group_pop_for_precent.xlsx')"
   ]
  },
  {
   "cell_type": "markdown",
   "id": "652aa907",
   "metadata": {
    "heading_collapsed": true
   },
   "source": [
    "### אוכלוסייה  לפי מגזר ותרחיש השוואה לפי העיר ירושלים"
   ]
  },
  {
   "cell_type": "code",
   "execution_count": null,
   "id": "267a57f7",
   "metadata": {
    "hidden": true
   },
   "outputs": [],
   "source": [
    "sum_df = pd.DataFrame()\n",
    "\n",
    "col_index=['in_jerusal','group']\n",
    "\n",
    "col_need=['pop_without_dorms_yeshiva_2050']\n",
    "\n",
    "sum_df=sum_scenarios(sum_df,jtmt,'jtmt',col_index,col_need,-3)\n",
    "\n",
    "sum_df=sum_scenarios(sum_df,iplan,'iplan',col_index,col_need,-3)\n",
    "\n",
    "sum_df=sum_scenarios(sum_df,bau,'bau',col_index,col_need,-3)\n",
    "\n",
    "sum_df=sum_scenarios(sum_df,jtmt,'kayim',col_index,['pop_without_dorms_yeshiva'],-3)\n",
    "\n",
    "compare_scenarios(sum_df,col_index).T.to_excel('sum_scenario_jeru_group_pop_for_precent.xlsx')"
   ]
  },
  {
   "cell_type": "markdown",
   "id": "0c7e270a",
   "metadata": {
    "heading_collapsed": true
   },
   "source": [
    "## השוואות בין הגירסאות"
   ]
  },
  {
   "cell_type": "markdown",
   "id": "1a3c7fbe",
   "metadata": {
    "heading_collapsed": true,
    "hidden": true
   },
   "source": [
    "### אוכלוסיה חינוך ותעסוקה סך הכל "
   ]
  },
  {
   "cell_type": "code",
   "execution_count": 63,
   "id": "95fcd455",
   "metadata": {},
   "outputs": [],
   "source": [
    "columns_to_rename = {\n",
    "    'univ': 'uni_students',\n",
    "    'univ_2040': 'uni_students_2040',\n",
    "    'student_yeshiva_and_kollim': 'student_yeshiva',\n",
    "    'student_yeshiva_and_kollim_2040': 'student_yeshiva_2040'\n",
    "}\n",
    "\n",
    "# Rename the columns\n",
    "jtmt_full.rename(columns=columns_to_rename, inplace=True)"
   ]
  },
  {
   "cell_type": "code",
   "execution_count": null,
   "id": "aa0d7687",
   "metadata": {
    "hidden": true,
    "scrolled": true
   },
   "outputs": [],
   "source": [
    "sum_df = pd.DataFrame()\n",
    "\n",
    "col_index=['zonetype']\n",
    "\n",
    "col_need=['pop_without_dorms_yeshiva','pop_without_dorms_yeshiva_2040','total_emp','total_emp_2040','student','student_2040','uni_students','uni_students_2040','student_yeshiva','student_yeshiva_2040']\n",
    "\n",
    "sum_df=sum_scenarios(sum_df,jtmt_full,'v4',col_index,col_need,-3)\n",
    "\n",
    "col_rel=['zonetype','pop_without_dorms_yeshiva','pop_without_dorms_yeshiva_2040','total_emp','total_emp_2040','student','student_2040','uni_students','uni_students_2040','student_yeshiva','student_yeshiva_2040']\n",
    "\n",
    "sum_df=sum_scenarios(sum_df,v3[col_rel],'v3',col_index,col_need,-3)"
   ]
  },
  {
   "cell_type": "code",
   "execution_count": 65,
   "id": "8b19bb64",
   "metadata": {
    "hidden": true,
    "scrolled": true
   },
   "outputs": [],
   "source": [
    "sum_df.groupby(by='scenario').sum().T.to_excel('versions_total_pop_emp_student.xlsx')"
   ]
  },
  {
   "cell_type": "markdown",
   "id": "69cc7ebe",
   "metadata": {
    "heading_collapsed": true,
    "hidden": true
   },
   "source": [
    "### אוכלוסיה ותעסוקה לפי מחוז "
   ]
  },
  {
   "cell_type": "code",
   "execution_count": 66,
   "id": "ac63b19f",
   "metadata": {},
   "outputs": [],
   "source": [
    "v3['jeru_metro']=0\n",
    "v3.loc[v3['in_jerusalem_metropolin']=='yes','jeru_metro']=1"
   ]
  },
  {
   "cell_type": "code",
   "execution_count": null,
   "id": "34cf1902",
   "metadata": {
    "hidden": true,
    "scrolled": true
   },
   "outputs": [],
   "source": [
    "sum_df = pd.DataFrame()\n",
    "\n",
    "col_index=['zonetype']\n",
    "\n",
    "col_need=['pop_without_dorms_yeshiva','pop_without_dorms_yeshiva_2040','total_emp','total_emp_2040']\n",
    "\n",
    "all_col=['zonetype','pop_without_dorms_yeshiva','pop_without_dorms_yeshiva_2040','total_emp','total_emp_2040']\n",
    "\n",
    "sum_df=sum_scenarios(sum_df,jtmt_full,'v4',col_index,col_need,-3)\n",
    "\n",
    "sum_df=sum_scenarios(sum_df,v3[all_col],'v3',col_index,col_need,-3)"
   ]
  },
  {
   "cell_type": "code",
   "execution_count": null,
   "id": "30b93c67",
   "metadata": {},
   "outputs": [],
   "source": [
    "col_index=['jeru_metro']\n",
    "\n",
    "col_need=['pop_without_dorms_yeshiva','pop_without_dorms_yeshiva_2040','total_emp','total_emp_2040']\n",
    "\n",
    "all_col=['jeru_metro','pop_without_dorms_yeshiva','pop_without_dorms_yeshiva_2040','total_emp','total_emp_2040']\n",
    "\n",
    "sum_df=sum_scenarios(sum_df,jtmt_full,'v4',col_index,col_need,-3)\n",
    "\n",
    "sum_df=sum_scenarios(sum_df,v3[all_col],'v3',col_index,col_need,-3)"
   ]
  },
  {
   "cell_type": "code",
   "execution_count": 69,
   "id": "c5b878b0",
   "metadata": {},
   "outputs": [],
   "source": [
    "sum_df.index.names = ['zonetype']"
   ]
  },
  {
   "cell_type": "code",
   "execution_count": null,
   "id": "60e162a9",
   "metadata": {
    "hidden": true,
    "scrolled": false
   },
   "outputs": [],
   "source": [
    "compare_scenarios(sum_df,['zonetype']).query('zonetype!=0').to_excel('versions_machoz_pop_emp.xlsx')"
   ]
  },
  {
   "cell_type": "markdown",
   "id": "968d7f5f",
   "metadata": {},
   "source": [
    "עד כאן הגעתי"
   ]
  },
  {
   "cell_type": "markdown",
   "id": "79e0bb84",
   "metadata": {
    "heading_collapsed": true,
    "hidden": true
   },
   "source": [
    "###   חומש אוכלוסייה לפי מגזר "
   ]
  },
  {
   "cell_type": "code",
   "execution_count": 71,
   "id": "419fc7d0",
   "metadata": {
    "hidden": true
   },
   "outputs": [],
   "source": [
    "jtmt_full=group_sector(jtmt_full)\n",
    "\n",
    "v3=group_sector(v3)"
   ]
  },
  {
   "cell_type": "code",
   "execution_count": null,
   "id": "435fe930",
   "metadata": {
    "hidden": true
   },
   "outputs": [],
   "source": [
    "sum_df = pd.DataFrame()\n",
    "\n",
    "col_index=['group']\n",
    "\n",
    "col_need=['pop_without_dorms_yeshiva',\n",
    " 'pop_without_dorms_yeshiva_2025',\n",
    " 'pop_without_dorms_yeshiva_2030',\n",
    " 'pop_without_dorms_yeshiva_2035',\n",
    " 'pop_without_dorms_yeshiva_2040']\n",
    "\n",
    "sum_df=sum_scenarios(sum_df,jtmt_full,'v4',col_index,col_need,-3)\n",
    "\n",
    "col_rel=['group','pop_without_dorms_yeshiva',\n",
    " 'pop_without_dorms_yeshiva_2025',\n",
    " 'pop_without_dorms_yeshiva_2030',\n",
    " 'pop_without_dorms_yeshiva_2035',\n",
    " 'pop_without_dorms_yeshiva_2040']\n",
    "\n",
    "sum_df=sum_scenarios(sum_df,v3[col_rel],'v3',col_index,col_need,-3)\n",
    "\n",
    "sum_df.sort_values('group').to_excel('sum_versions_group_pop.xlsx')"
   ]
  },
  {
   "cell_type": "markdown",
   "id": "8718cdd6",
   "metadata": {
    "heading_collapsed": true,
    "hidden": true
   },
   "source": [
    "###   התפלגות גילים "
   ]
  },
  {
   "cell_type": "code",
   "execution_count": 73,
   "id": "06ad64de",
   "metadata": {
    "hidden": true
   },
   "outputs": [],
   "source": [
    "v3_age=up_load_df(save_file,'220303_התפלגות_גילים_V3_3_Published')\n",
    "\n",
    "v3=v3.merge(v3_age,right_on='taz_V3_2',left_on='Taz_num',how='left')"
   ]
  },
  {
   "cell_type": "code",
   "execution_count": 74,
   "id": "0764472d",
   "metadata": {
    "hidden": true
   },
   "outputs": [],
   "source": [
    "def sum_age(df,name_col,col_to_sum):\n",
    "    df[name_col]=df[col].sum(axis=1)\n",
    "    return df"
   ]
  },
  {
   "cell_type": "code",
   "execution_count": 75,
   "id": "6036ab72",
   "metadata": {
    "hidden": true
   },
   "outputs": [],
   "source": [
    "col=['2020_0-4',\n",
    " '2020_5-9',\n",
    " '2020_10-14',\n",
    " '2020_15-19']\n",
    "\n",
    "v3=sum_age(v3,'pop_0_20_2020',col)\n",
    "\n",
    "col=[\n",
    " '2020_20-24',\n",
    " '2020_25-29',\n",
    " '2020_30-34',\n",
    " '2020_35-39',\n",
    " '2020_40-44']\n",
    "\n",
    "v3=sum_age(v3,'pop_21_45_2020',col)\n",
    "\n",
    "col=[\n",
    " '2020_45-49',\n",
    " '2020_50-54',\n",
    " '2020_55-59',\n",
    " '2020_60-64']\n",
    "\n",
    "v3=sum_age(v3,'pop_45_65_2020',col)\n",
    "\n",
    "col=[\n",
    " '2020_65-69',\n",
    " '2020_70-74',\n",
    " '2020_75+']\n",
    "\n",
    "v3=sum_age(v3,'pop_65+_2020',col)"
   ]
  },
  {
   "cell_type": "code",
   "execution_count": 76,
   "id": "a81e5767",
   "metadata": {
    "hidden": true
   },
   "outputs": [],
   "source": [
    "col=['2040_0-4',\n",
    " '2040_5-9',\n",
    " '2040_10-14',\n",
    " '2040_15-19']\n",
    "\n",
    "v3=sum_age(v3,'pop_0_20_2040',col)\n",
    "\n",
    "col=[\n",
    " '2040_20-24',\n",
    " '2040_25-29',\n",
    " '2040_30-34',\n",
    " '2040_35-39',\n",
    " '2040_40-44']\n",
    "\n",
    "v3=sum_age(v3,'pop_21_45_2040',col)\n",
    "\n",
    "col=[\n",
    " '2040_45-49',\n",
    " '2040_50-54',\n",
    " '2040_55-59',\n",
    " '2040_60-64']\n",
    "\n",
    "v3=sum_age(v3,'pop_45_65_2040',col)\n",
    "\n",
    "col=[\n",
    " '2040_65-69',\n",
    " '2040_70-74',\n",
    " '2040_75+']\n",
    "\n",
    "v3=sum_age(v3,'pop_65+_2040',col)"
   ]
  },
  {
   "cell_type": "code",
   "execution_count": 77,
   "id": "e157c96f",
   "metadata": {
    "hidden": true
   },
   "outputs": [],
   "source": [
    "percentage_cols=['pop_0_20_2040','pop_21_45_2040','pop_45_65_2040','pop_65+_2040']"
   ]
  },
  {
   "cell_type": "code",
   "execution_count": 78,
   "id": "bc55b23c",
   "metadata": {
    "hidden": true
   },
   "outputs": [],
   "source": [
    "v3[percentage_cols] = v3[percentage_cols].mul(v3['pop_without_dorms_yeshiva_2040'], axis=0)"
   ]
  },
  {
   "cell_type": "code",
   "execution_count": 79,
   "id": "3c171776",
   "metadata": {
    "hidden": true
   },
   "outputs": [],
   "source": [
    "percentage_cols=['pop_0_20_2020','pop_21_45_2020','pop_45_65_2020','pop_65+_2020']"
   ]
  },
  {
   "cell_type": "code",
   "execution_count": 80,
   "id": "55b0b43b",
   "metadata": {
    "hidden": true
   },
   "outputs": [],
   "source": [
    "v3[percentage_cols] = v3[percentage_cols].mul(v3['pop_without_dorms_yeshiva'], axis=0)"
   ]
  },
  {
   "cell_type": "code",
   "execution_count": null,
   "id": "77818a8c",
   "metadata": {},
   "outputs": [],
   "source": [
    "BaseProjections_version_date = get_newest_date_file(r'{}\\JTMT'.format(forecast_version_folder_location), 'BaseProjections2040_')\n",
    "BaseProjections_version_date"
   ]
  },
  {
   "cell_type": "code",
   "execution_count": 82,
   "id": "ca0854bd",
   "metadata": {
    "hidden": true
   },
   "outputs": [],
   "source": [
    "jtmt_2040=up_load_df(r'{}\\JTMT'.format(forecast_version_folder_location),r'BaseProjections2040_{}_jtmt'.format(BaseProjections_version_date))\n",
    "\n",
    "jtmt_2040=jtmt_full.merge(jtmt_2040,right_on='TAZ',left_on='Taz_num',how='left')\n",
    "\n",
    "col=['age0_4',\n",
    " 'age5_9',\n",
    " 'age10_14',\n",
    " 'age15_19',]\n",
    "\n",
    "jtmt_2040=sum_age(jtmt_2040,'pop_0_20_2040',col)\n",
    "\n",
    "col=['age20_24',\n",
    " 'age25_29',\n",
    " 'age30_34',\n",
    " 'age35_39',\n",
    " 'age40_44',]\n",
    "\n",
    "jtmt_2040=sum_age(jtmt_2040,'pop_21_45_2040',col)\n",
    "\n",
    "col=[\n",
    "'age45_49',\n",
    " 'age50_54',\n",
    " 'age55_59',\n",
    " 'age60_64',]\n",
    "\n",
    "jtmt_2040=sum_age(jtmt_2040,'pop_45_65_2040',col)\n",
    "\n",
    "col=[\n",
    "  \n",
    " 'age65_69',\n",
    " 'age70_74',\n",
    " 'age75up',]\n",
    "\n",
    "jtmt_2040=sum_age(jtmt_2040,'pop_65+_2040',col)"
   ]
  },
  {
   "cell_type": "code",
   "execution_count": 83,
   "id": "cbc3b761",
   "metadata": {
    "hidden": true
   },
   "outputs": [],
   "source": [
    "jtmt_2020=up_load_df(forecast_version_base_year_folder_location,r'BaseProjections2020_{}'.format(BaseProjections_version_date))\n",
    "\n",
    "jtmt_2020=jtmt_full.merge(jtmt_2020,right_on='TAZ',left_on='Taz_num',how='left')\n",
    "\n",
    "col=['age0_4',\n",
    " 'age5_9',\n",
    " 'age10_14',\n",
    " 'age15_19',]\n",
    "\n",
    "jtmt_2020=sum_age(jtmt_2020,'pop_0_20_2020',col)\n",
    "\n",
    "col=['age20_24',\n",
    " 'age25_29',\n",
    " 'age30_34',\n",
    " 'age35_39',\n",
    " 'age40_44',]\n",
    "\n",
    "jtmt_2020=sum_age(jtmt_2020,'pop_21_45_2020',col)\n",
    "\n",
    "col=[\n",
    "'age45_49',\n",
    " 'age50_54',\n",
    " 'age55_59',\n",
    " 'age60_64',]\n",
    "\n",
    "jtmt_2020=sum_age(jtmt_2020,'pop_45_65_2020',col)\n",
    "\n",
    "col=[\n",
    "  \n",
    " 'age65_69',\n",
    " 'age70_74',\n",
    " 'age75up',]\n",
    "\n",
    "jtmt_2020=sum_age(jtmt_2020,'pop_65+_2020',col)"
   ]
  },
  {
   "cell_type": "code",
   "execution_count": 84,
   "id": "ab8ec298",
   "metadata": {
    "hidden": true
   },
   "outputs": [],
   "source": [
    "jtmt_2020=group_sector(jtmt_2020)"
   ]
  },
  {
   "cell_type": "code",
   "execution_count": 85,
   "id": "6d984c81",
   "metadata": {
    "hidden": true
   },
   "outputs": [],
   "source": [
    "jtmt_2040=group_sector(jtmt_2040)"
   ]
  },
  {
   "cell_type": "code",
   "execution_count": null,
   "id": "3f65b028",
   "metadata": {
    "hidden": true
   },
   "outputs": [],
   "source": [
    "sum_df = pd.DataFrame()\n",
    "\n",
    "col_index=['group']\n",
    "\n",
    "col_need=['pop_0_20_2020',\n",
    " 'pop_21_45_2020',\n",
    " 'pop_45_65_2020',\n",
    " 'pop_65+_2020']\n",
    "\n",
    "combined_columns = col_index + col_need\n",
    "\n",
    "sum_df=sum_scenarios(sum_df,jtmt_2020,'v4',col_index,col_need,-3)\n",
    "\n",
    "sum_df=sum_scenarios(sum_df,v3[combined_columns],'v3',col_index,col_need,-3)"
   ]
  },
  {
   "cell_type": "code",
   "execution_count": null,
   "id": "04678f74",
   "metadata": {
    "hidden": true
   },
   "outputs": [],
   "source": [
    "col_need=[\n",
    " 'pop_0_20_2040',\n",
    " 'pop_21_45_2040',\n",
    " 'pop_45_65_2040',\n",
    " 'pop_65+_2040']\n",
    "\n",
    "combined_columns = col_index + col_need\n",
    "\n",
    "sum_df=sum_scenarios(sum_df,jtmt_2040,'v4',col_index,col_need,-3)\n",
    "\n",
    "sum_df=sum_scenarios(sum_df,v3[combined_columns],'v3',col_index,col_need,-3)"
   ]
  },
  {
   "cell_type": "code",
   "execution_count": 88,
   "id": "8c6951fc",
   "metadata": {
    "hidden": true
   },
   "outputs": [],
   "source": [
    "sum_df.groupby(by=['group','scenario']).sum().to_excel('sum_versions_group_age_des.xlsx')"
   ]
  }
 ],
 "metadata": {
  "kernelspec": {
   "display_name": "Python 3 (ipykernel)",
   "language": "python",
   "name": "python3"
  },
  "language_info": {
   "codemirror_mode": {
    "name": "ipython",
    "version": 3
   },
   "file_extension": ".py",
   "mimetype": "text/x-python",
   "name": "python",
   "nbconvert_exporter": "python",
   "pygments_lexer": "ipython3",
   "version": "3.11.5"
  },
  "toc": {
   "base_numbering": 1,
   "nav_menu": {},
   "number_sections": true,
   "sideBar": true,
   "skip_h1_title": false,
   "title_cell": "Table of Contents",
   "title_sidebar": "Contents",
   "toc_cell": false,
   "toc_position": {
    "height": "calc(100% - 180px)",
    "left": "10px",
    "top": "150px",
    "width": "426.656px"
   },
   "toc_section_display": true,
   "toc_window_display": true
  }
 },
 "nbformat": 4,
 "nbformat_minor": 5
}
