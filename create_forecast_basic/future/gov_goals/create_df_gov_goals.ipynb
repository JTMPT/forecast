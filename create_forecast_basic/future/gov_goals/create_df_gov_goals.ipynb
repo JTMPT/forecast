{
 "cells": [
  {
   "cell_type": "markdown",
   "id": "0e7214ba",
   "metadata": {
    "heading_collapsed": true
   },
   "source": [
    "### קוד מבוא"
   ]
  },
  {
   "cell_type": "code",
   "execution_count": null,
   "id": "f8405d52",
   "metadata": {
    "hidden": true
   },
   "outputs": [],
   "source": [
    "import pandas as pd\n",
    "import geopandas as gpd\n",
    "import fiona"
   ]
  },
  {
   "cell_type": "code",
   "execution_count": null,
   "id": "2dacbc13",
   "metadata": {
    "hidden": true
   },
   "outputs": [],
   "source": [
    "pd.set_option('display.max_rows', None)\n",
    "pd.set_option('display.max_columns', None)"
   ]
  },
  {
   "cell_type": "code",
   "execution_count": null,
   "id": "b2c3b3ca",
   "metadata": {
    "hidden": true
   },
   "outputs": [],
   "source": [
    "pd.options.display.float_format = '{:.4f}'.format\n",
    "pd.set_option('display.float_format',  '{:,.2f}'.format)"
   ]
  },
  {
   "cell_type": "markdown",
   "id": "9624443e",
   "metadata": {
    "heading_collapsed": true
   },
   "source": [
    "### פונקציות"
   ]
  },
  {
   "cell_type": "code",
   "execution_count": null,
   "id": "d69c42ff",
   "metadata": {
    "hidden": true
   },
   "outputs": [],
   "source": [
    "def double_taz_num(df):\n",
    "    dup_taz_num=df.groupby(['Taz_num']).size().reset_index(name='count').query('count>1').Taz_num.to_list()\n",
    "    return df.loc[df['Taz_num'].isin(dup_taz_num)]"
   ]
  },
  {
   "cell_type": "code",
   "execution_count": null,
   "id": "d048994a",
   "metadata": {
    "hidden": true
   },
   "outputs": [],
   "source": [
    "def make_point(df):\n",
    "    df_point=df.copy()\n",
    "    df_point['centroid'] = df_point.representative_point()\n",
    "    df_point=df_point.set_geometry('centroid')\n",
    "    df_point=df_point.drop(columns=['geometry'],axis=1)\n",
    "    return df_point"
   ]
  },
  {
   "cell_type": "code",
   "execution_count": null,
   "id": "86bf5cad",
   "metadata": {
    "hidden": true
   },
   "outputs": [],
   "source": [
    "def up_load_gdb(path,layer_name):\n",
    "    path='{}'.format(path)\n",
    "    layer_list=fiona.listlayers(path)\n",
    "    gpd_layer=gpd.read_file(path, layer=layer_list.index(layer_name))\n",
    "    return gpd_layer"
   ]
  },
  {
   "cell_type": "code",
   "execution_count": null,
   "id": "6acc6aa7",
   "metadata": {
    "hidden": true
   },
   "outputs": [],
   "source": [
    "def up_load_shp(path):\n",
    "    path='{}'.format(path)\n",
    "    gpd_layer=gpd.read_file(path)\n",
    "    return gpd_layer"
   ]
  },
  {
   "cell_type": "code",
   "execution_count": null,
   "id": "b1a16060",
   "metadata": {
    "hidden": true
   },
   "outputs": [],
   "source": [
    "def up_load_df(folder_path,file_name):\n",
    "    \n",
    "    path_df=r'{}\\{}.xlsx'.format(folder_path,file_name)\n",
    "    df=pd.read_excel(path_df)\n",
    "    df=df.dropna(how='all')\n",
    "\n",
    "    return df"
   ]
  },
  {
   "cell_type": "code",
   "execution_count": null,
   "id": "cc530461",
   "metadata": {},
   "outputs": [],
   "source": [
    "#העלת משתנים להרצת הקוד\n",
    "df_inputs_outputs = pd.read_excel('inputs_outputs.xlsx')\n",
    "\n",
    "software_data_folder_location=df_inputs_outputs['location'][0]\n",
    "\n",
    "# forecast_version_folder_location=df_inputs_outputs['location'][1]\n"
   ]
  },
  {
   "cell_type": "markdown",
   "id": "d06dce4f",
   "metadata": {},
   "source": [
    "## קוד"
   ]
  },
  {
   "cell_type": "code",
   "execution_count": null,
   "id": "afacb4ab",
   "metadata": {},
   "outputs": [],
   "source": [
    "gov=up_load_df(r'{}\\gov_goals'.format(software_data_folder_location), 'טיוטת תוצאות לתרחישי אוכלוסייה אזוריים - 2020-2050 - טיוטה')"
   ]
  },
  {
   "cell_type": "code",
   "execution_count": null,
   "id": "03646dde",
   "metadata": {},
   "outputs": [],
   "source": [
    "years=[2020]\n",
    "\n",
    "for y in years:\n",
    "    df=gov.query('proj==\"medium\" & housing_adjusted ==False & year=={} & (district==\"Jerusalem District\" | district==\"Yehuda and Shomron\")'.format(y))\n",
    "    df=df.query('~((district==\"Yehuda and Shomron\") &( group==\"arab\"))')\n",
    "    df.pivot_table(index=['district','group', 'age'],aggfunc=sum)[['pop']].reset_index().to_excel(r'{}\\gov_goals\\background_files\\gov_goals_{}.xlsx'.format(software_data_folder_location, y),index=False)"
   ]
  },
  {
   "cell_type": "code",
   "execution_count": null,
   "id": "3d4039d0",
   "metadata": {},
   "outputs": [],
   "source": [
    "years=[2025, 2030, 2035, 2040, 2045,2050]\n",
    "\n",
    "for y in years:\n",
    "    df=gov.query('proj==\"medium\" & housing_adjusted ==False & year=={} & (district==\"Jerusalem District\" | district==\"Yehuda and Shomron\")'.format(y))\n",
    "    df=df.query('~((district==\"Yehuda and Shomron\") &( group==\"arab\"))')\n",
    "    df.pivot_table(index=['district','group', 'age'],aggfunc=sum)[['pop']].reset_index().to_excel(r'{}\\bau\\background_files\\gov_goals_{}_BAU.xlsx'.format(software_data_folder_location, y),index=False)"
   ]
  },
  {
   "cell_type": "code",
   "execution_count": null,
   "id": "2bc92783",
   "metadata": {},
   "outputs": [],
   "source": [
    "years=[2025, 2030, 2035, 2040, 2045,2050]\n",
    "\n",
    "for y in years:\n",
    "    df=gov.query('proj==\"medium\" & housing_adjusted ==True & year=={} & (district==\"Jerusalem District\" | district==\"Yehuda and Shomron\")'.format(y))\n",
    "    df=df.query('~((district==\"Yehuda and Shomron\") &( group==\"arab\"))')\n",
    "    df.pivot_table(index=['district','group', 'age'],aggfunc=sum)[['pop']].reset_index().to_excel(r'{}\\iplan\\background_files\\gov_goals_{}_iplan.xlsx'.format(software_data_folder_location, y),index=False)"
   ]
  },
  {
   "cell_type": "code",
   "execution_count": null,
   "id": "8afd0781",
   "metadata": {},
   "outputs": [],
   "source": [
    "years=[2050]\n",
    "\n",
    "for y in years:\n",
    "    df=gov.query('proj==\"medium\" & housing_adjusted ==False & year=={} & (district==\"Jerusalem District\" | district==\"Yehuda and Shomron\")'.format(y))\n",
    "    df=df.query('~((district==\"Yehuda and Shomron\") &( group==\"arab\"))')\n",
    "    df.pivot_table(index=['district','group'],aggfunc=sum)[['pop']].reset_index().to_excel(r'{}\\bau\\background_files\\gov_goals_{}_bau_sum.xlsx'.format(software_data_folder_location, y),index=False)"
   ]
  },
  {
   "cell_type": "code",
   "execution_count": null,
   "id": "49e53676",
   "metadata": {},
   "outputs": [],
   "source": [
    "years=[2050]\n",
    "\n",
    "for y in years:\n",
    "    df=gov.query('proj==\"medium\" & housing_adjusted ==True & year=={} & (district==\"Jerusalem District\" | district==\"Yehuda and Shomron\")'.format(y))\n",
    "    df=df.query('~((district==\"Yehuda and Shomron\") &( group==\"arab\"))')\n",
    "    df.pivot_table(index=['district','group'],aggfunc=sum)[['pop']].reset_index().to_excel(r'{}\\iplan\\background_files\\gov_goals_{}_iplan_sum.xlsx'.format(software_data_folder_location, y),index=False)"
   ]
  }
 ],
 "metadata": {
  "kernelspec": {
   "display_name": "Python 3 (ipykernel)",
   "language": "python",
   "name": "python3"
  },
  "language_info": {
   "codemirror_mode": {
    "name": "ipython",
    "version": 3
   },
   "file_extension": ".py",
   "mimetype": "text/x-python",
   "name": "python",
   "nbconvert_exporter": "python",
   "pygments_lexer": "ipython3",
   "version": "3.11.5"
  },
  "toc": {
   "base_numbering": 1,
   "nav_menu": {},
   "number_sections": true,
   "sideBar": true,
   "skip_h1_title": false,
   "title_cell": "Table of Contents",
   "title_sidebar": "Contents",
   "toc_cell": false,
   "toc_position": {},
   "toc_section_display": true,
   "toc_window_display": true
  }
 },
 "nbformat": 4,
 "nbformat_minor": 5
}
