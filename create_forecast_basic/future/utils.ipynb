{
 "cells": [
  {
   "cell_type": "code",
   "execution_count": 2,
   "metadata": {},
   "outputs": [],
   "source": [
    "import pandas as pd\n",
    "from global_functions import up_load_shp"
   ]
  },
  {
   "cell_type": "code",
   "execution_count": 3,
   "metadata": {},
   "outputs": [],
   "source": [
    "taz = up_load_shp(r\"C:\\Users\\dpere\\Documents\\JTMT\\forecast_git\\create_forecast_basic\\current\\background_files\\TAZ_V4_230518_Published.shp\")\n",
    "jeru_metro_jtmt_border = up_load_shp(r\"C:\\Users\\dpere\\Documents\\JTMT\\forecast_git\\create_forecast_ad_hoc\\background_files\\jeru_metro_jtmt_border_240402.shp\")"
   ]
  },
  {
   "cell_type": "code",
   "execution_count": null,
   "metadata": {},
   "outputs": [],
   "source": [
    "taz.drop(columns='jeru_metro').to_file(r'C:\\Users\\dpere\\Documents\\JTMT\\forecast_git\\create_forecast_basic\\current\\background_files\\TAZ_V4_240403.shp',enco)"
   ]
  },
  {
   "cell_type": "code",
   "execution_count": null,
   "metadata": {},
   "outputs": [],
   "source": [
    "taz=up_load_shp(r\"C:\\Users\\dpere\\Documents\\JTMT\\forecast_git\\create_forecast_basic\\current\\background_files\\TAZ_V4_240403.shp\")"
   ]
  },
  {
   "cell_type": "code",
   "execution_count": null,
   "metadata": {},
   "outputs": [],
   "source": [
    "taz_point_jeru_metro_jtmt_border = taz.sjoin(jeru_metro_jtmt_border)[['Taz_num', 'jeru_metro']]\n",
    "taz = taz.merge(taz_point_jeru_metro_jtmt_border, on='Taz_num', how='left')\n",
    "taz['jeru_metro'] = taz['jeru_metro'].fillna(0)"
   ]
  },
  {
   "cell_type": "code",
   "execution_count": null,
   "metadata": {},
   "outputs": [],
   "source": [
    "def add_geo_info_gdb(taz,taz_border,software_folder_location,gdb_name,layer_name,col_name):\n",
    "\n",
    "    forecast_point = make_point(taz_border)\n",
    "\n",
    "    # Load data layers\n",
    "    geo_info =  up_load_gdb(r'{}\\background_files\\{}.gdb'.format(software_folder_location,gdb_name), '{}'.format(layer_name))\n",
    "    \n",
    "    forecast_point_geo_info = forecast_point.sjoin(geo_info)[['Taz_num', '{}'.format(col_name)]]\n",
    "\n",
    "    taz = taz.merge(forecast_point_geo_info, on='Taz_num', how='left')\n",
    "\n",
    "    taz=taz.fillna(0)\n",
    "\n",
    "    \n",
    "    return taz"
   ]
  },
  {
   "cell_type": "code",
   "execution_count": 46,
   "metadata": {},
   "outputs": [],
   "source": [
    "# pd.set_option('display.max_rows', taz.shape[0]+1)\n",
    "# taz"
   ]
  },
  {
   "cell_type": "code",
   "execution_count": 42,
   "metadata": {},
   "outputs": [],
   "source": [
    "#### תאריך\n",
    "file_date=pd.Timestamp.today().strftime('%y%m%d')"
   ]
  },
  {
   "cell_type": "code",
   "execution_count": 44,
   "metadata": {},
   "outputs": [],
   "source": [
    "taz.to_file(r\"C:\\Users\\dpere\\Documents\\Bandicut\\‏‏תיקיה חדשה (4)\\‏‏תיקיה חדשה (2)\\‏‏תיקיה חדשה\\TAZ_V4_{}_Published.shp\".format(file_date), encoding='utf-8')"
   ]
  }
 ],
 "metadata": {
  "kernelspec": {
   "display_name": "creat_forecast_ad_hoc_env",
   "language": "python",
   "name": "python3"
  },
  "language_info": {
   "codemirror_mode": {
    "name": "ipython",
    "version": 3
   },
   "file_extension": ".py",
   "mimetype": "text/x-python",
   "name": "python",
   "nbconvert_exporter": "python",
   "pygments_lexer": "ipython3",
   "version": "3.11.5"
  }
 },
 "nbformat": 4,
 "nbformat_minor": 2
}
