{
 "cells": [
  {
   "cell_type": "markdown",
   "id": "0e7214ba",
   "metadata": {
    "heading_collapsed": true
   },
   "source": [
    "## קוד מבוא"
   ]
  },
  {
   "cell_type": "code",
   "execution_count": 110,
   "id": "f8405d52",
   "metadata": {
    "hidden": true
   },
   "outputs": [],
   "source": [
    "import os\n",
    "import pathlib\n",
    "import pandas as pd\n",
    "import geopandas as gpd\n",
    "import numpy as np\n",
    "from shapely import wkt\n",
    "from matplotlib import pyplot as plt \n",
    "import contextily as cx\n",
    "import folium\n",
    "import fiona\n",
    "from mpl_toolkits.axes_grid1 import make_axes_locatable\n",
    "from shapely.geometry import Point\n",
    "import adjustText as aT"
   ]
  },
  {
   "cell_type": "code",
   "execution_count": 111,
   "id": "2dacbc13",
   "metadata": {
    "hidden": true
   },
   "outputs": [],
   "source": [
    "pd.set_option('display.max_rows', None)\n",
    "pd.set_option('display.max_columns', None)"
   ]
  },
  {
   "cell_type": "markdown",
   "id": "9624443e",
   "metadata": {
    "heading_collapsed": true
   },
   "source": [
    "## פונקציות"
   ]
  },
  {
   "cell_type": "code",
   "execution_count": 112,
   "id": "d69c42ff",
   "metadata": {
    "hidden": true
   },
   "outputs": [],
   "source": [
    "def double_taz_num(df):\n",
    "    dup_taz_num=df.groupby(['Taz_num']).size().reset_index(name='count').query('count>1').Taz_num.to_list()\n",
    "    return df.loc[df['Taz_num'].isin(dup_taz_num)]"
   ]
  },
  {
   "cell_type": "code",
   "execution_count": 113,
   "id": "d048994a",
   "metadata": {
    "hidden": true
   },
   "outputs": [],
   "source": [
    "def make_point(df):\n",
    "    df_point=df.copy()\n",
    "    df_point['centroid'] = df_point.representative_point()\n",
    "    df_point=df_point.set_geometry('centroid')\n",
    "    df_point=df_point.drop(columns=['geometry'],axis=1)\n",
    "    return df_point"
   ]
  },
  {
   "cell_type": "code",
   "execution_count": 114,
   "id": "86bf5cad",
   "metadata": {
    "hidden": true
   },
   "outputs": [],
   "source": [
    "def up_load_gdb(path,layer_name):\n",
    "    path='{}'.format(path)\n",
    "    layer_list=fiona.listlayers(path)\n",
    "    gpd_layer=gpd.read_file(path, layer=layer_list.index(layer_name))\n",
    "    return gpd_layer"
   ]
  },
  {
   "cell_type": "code",
   "execution_count": 115,
   "id": "6acc6aa7",
   "metadata": {
    "hidden": true
   },
   "outputs": [],
   "source": [
    "def up_load_shp(path):\n",
    "    path='{}'.format(path)\n",
    "    gpd_layer=gpd.read_file(path)\n",
    "    return gpd_layer"
   ]
  },
  {
   "cell_type": "code",
   "execution_count": 116,
   "id": "cb093800",
   "metadata": {
    "hidden": true
   },
   "outputs": [],
   "source": [
    "def unique_id_in_one_taz(df_to_geoode,unique_field,gpd_for_geocode,taz):\n",
    "    \n",
    "    code_to_find=list(df_to_geoode[unique_field].unique())\n",
    "\n",
    "    gpd_for_geocode_to_sum_by_taz=gpd_for_geocode[[unique_field,'geometry']].loc[gpd_for_geocode[unique_field].isin(code_to_find)]\n",
    "\n",
    "    gpd_for_geocode_to_sum_by_taz=gpd.sjoin(taz[['Taz_num','geometry']],gpd_for_geocode_to_sum_by_taz)\n",
    "\n",
    "    gpd_for_geocode_in_one_taz=list(gpd_for_geocode_to_sum_by_taz.groupby(unique_field)[['Taz_num']].nunique().query('Taz_num==1').reset_index()[unique_field])\n",
    "\n",
    "    return gpd_for_geocode_in_one_taz"
   ]
  },
  {
   "cell_type": "code",
   "execution_count": 117,
   "id": "b1a16060",
   "metadata": {
    "hidden": true
   },
   "outputs": [],
   "source": [
    "def up_load_df(folder_path,file_name):\n",
    "    \n",
    "    path_df=r'{}\\{}.xlsx'.format(folder_path,file_name)\n",
    "    df=pd.read_excel(path_df)\n",
    "    df=df.dropna(how='all')\n",
    "\n",
    "    return df\n"
   ]
  },
  {
   "cell_type": "code",
   "execution_count": 118,
   "id": "4d930a79",
   "metadata": {
    "hidden": true
   },
   "outputs": [],
   "source": [
    "def print_before(name):\n",
    "    return print(\"{} before: \".format(name),round(forecast['{}'.format(name)].sum(),0))"
   ]
  },
  {
   "cell_type": "code",
   "execution_count": 119,
   "id": "15cff346",
   "metadata": {
    "hidden": true
   },
   "outputs": [],
   "source": [
    "def print_after(name):\n",
    "    return print(\"{} after: \".format(name),round(forecast['{}'.format(name)].sum(),0))"
   ]
  },
  {
   "cell_type": "code",
   "execution_count": 120,
   "id": "3b59de81",
   "metadata": {
    "hidden": true
   },
   "outputs": [],
   "source": [
    "def logic_test_for_forecast(taz):\n",
    "    \n",
    "    \n",
    "    print ('taz num under 0:',list(taz.loc[taz['TAZ']<=0]['TAZ']))\n",
    "    \n",
    "    print ('taz num duplicate:',list(taz.loc[taz.duplicated(subset='TAZ',keep=False)]['TAZ']))\n",
    "    \n",
    "    print ('yosh_unique:',list(taz.yosh.unique()))\n",
    "    \n",
    "    print ('in_jerusalem_metropolin_unique:',list(taz.in_jerusalem_metropolin.unique()))\n",
    "    \n",
    "    print ('jerusalem_city_unique:',list(taz.jerusalem_city.unique()))\n",
    "    \n",
    "    print ('sector_unique:',list(taz.sector.unique()))\n",
    "    \n",
    "\n",
    "\n",
    "    col=['hh_total',\n",
    "    'pop',\n",
    "    'age0_4',\n",
    "    'age5_9',\n",
    "    'age10_14',\n",
    "    'age15_19',\n",
    "    'age20_24',\n",
    "    'age25_29',\n",
    "    'age30_34',\n",
    "    'age35_39',\n",
    "    'age40_44',\n",
    "    'age45_49',\n",
    "    'age50_54',\n",
    "    'age55_59',\n",
    "    'age60_64',\n",
    "    'age65_69',\n",
    "    'age70_74',\n",
    "    'age75up',\n",
    "    'emp_tot',\n",
    "    'indus',\n",
    "    'com_hotel',\n",
    "    'business',\n",
    "    'public',\n",
    "    'education',\n",
    "    'agri',\n",
    "    'student',\n",
    "    'univ',\n",
    "    'UO_Hi_Ed',\n",
    "    'pop_emp_employed']\n",
    "\n",
    "    taz_to_check_minus=[]\n",
    "    col_to_check_minus=[]\n",
    "    for i in col:\n",
    "        taz_to_check_minus=taz_to_check_minus+list(taz.loc[taz['{}'.format(i)]<0]['TAZ'])\n",
    "    \n",
    "    \n",
    "    print ('taz num with minus:',list(set(taz_to_check_minus)))\n",
    "    \n",
    "    print ('pop more then hh:',list(taz.loc[taz['sector']!=\"Palestinian\"].loc[~(taz['hh_total']<=taz['pop'])]['TAZ']))\n",
    "    \n",
    "    print ('hh missing pop:',list(taz.loc[taz['sector']!=\"Palestinian\"].loc[taz['hh_total']>0].loc[taz['pop']<=0]['TAZ']))\n",
    "    \n",
    "    print ('pop missing hh:',list(taz.loc[taz['sector']!=\"Palestinian\"].loc[taz['pop']>0].loc[taz['hh_total']<=0]['TAZ']))\n",
    "\n",
    "\n",
    "\n",
    "    col=['age0_4',\n",
    "    'age5_9',\n",
    "    'age10_14',\n",
    "    'age15_19',\n",
    "    'age20_24',\n",
    "    'age25_29',\n",
    "    'age30_34',\n",
    "    'age35_39',\n",
    "    'age40_44',\n",
    "    'age45_49',\n",
    "    'age50_54',\n",
    "    'age55_59',\n",
    "    'age60_64',\n",
    "    'age65_69',\n",
    "    'age70_74',\n",
    "    'age75up',]\n",
    "\n",
    "    taz['pop_check']=taz[col].sum(axis=1)-taz['pop']\n",
    "    \n",
    "    taz['pop_check']=taz['pop_check'].round(0)\n",
    "    \n",
    "    print ('pop vs age dis Mistake:',list(taz.loc[taz['sector']!=\"Palestinian\"].loc[taz['pop_check']!=0]['TAZ']))   \n",
    "\n",
    "    \n",
    "\n",
    "    col=[\n",
    "    'age0_4',\n",
    "    'age5_9',\n",
    "    'age10_14',\n",
    "    'age15_19',\n",
    "    'age20_24',\n",
    "    'age25_29',\n",
    "    'age30_34',\n",
    "    'age35_39',\n",
    "    'age40_44',\n",
    "    'age45_49',\n",
    "    'age50_54',\n",
    "    'age55_59',\n",
    "    'age60_64',\n",
    "    'age65_69',\n",
    "    'age70_74',\n",
    "    'age75up']\n",
    "\n",
    "    taz_to_check_for_age=[]\n",
    "    for i in col:\n",
    "        taz_to_check_for_age=taz_to_check_for_age+list(taz.loc[taz['{}'.format(i)]>0].loc[taz['pop']<=0]['TAZ'])\n",
    "        taz_to_check_for_age=taz_to_check_for_age+list(taz.loc[taz['{}'.format(i)]>0].loc[taz['hh_total']<=0]['TAZ'])\n",
    "        \n",
    "    print ('taz num with age dis prob:',taz_to_check_for_age)\n",
    "\n",
    "    col=['indus',\n",
    "    'com_hotel',\n",
    "    'business',\n",
    "    'public',\n",
    "    'education',\n",
    "    'agri']\n",
    "\n",
    "    taz['emp_check']=taz[col].sum(axis=1)-taz['emp_tot']\n",
    "    taz['emp_check']=abs(taz['emp_check'].round(0))\n",
    "    \n",
    "    taz_prob_emp_total=list(taz.loc[taz['emp_check']>1]['TAZ'])\n",
    "    \n",
    "    print ('taz num with emp total prob:',taz_prob_emp_total)\n",
    "\n",
    "    \n",
    "\n",
    "    taz_to_check_for_split_emp=[]\n",
    "    \n",
    "    for i in col:\n",
    "        taz_to_check_for_split_emp=taz_to_check_for_split_emp+list(taz.loc[taz['{}'.format(i)]>0].loc[taz['emp_tot']<=0]['TAZ'])\n",
    "\n",
    "        \n",
    "    print ('taz num with emp dis prob:',taz_to_check_for_split_emp)\n",
    "    \n",
    "\n",
    "    print ('taz num with pop_emp_employed worng :',list(taz.loc[taz['sector']!=\"Palestinian\"].loc[taz['pop_emp_employed']>0].loc[taz['pop']<=0]['TAZ']))\n",
    "    \n",
    "    return"
   ]
  },
  {
   "cell_type": "code",
   "execution_count": 121,
   "id": "e585e659",
   "metadata": {},
   "outputs": [],
   "source": [
    "def find_files_with_pattern(folder_path, pattern):\n",
    "    \"\"\"\n",
    "    Find files in a directory that match a certain pattern.\n",
    "    \n",
    "    Args:\n",
    "    - directory (str): The directory path.\n",
    "    - pattern (str): The pattern to search for in file names.\n",
    "    \n",
    "    Returns:\n",
    "    - List of file paths matching the pattern.\n",
    "    \"\"\"\n",
    "    files = []\n",
    "    for root, _, filenames in os.walk(folder_path):\n",
    "        for filename in filenames:\n",
    "            if pattern in filename:\n",
    "                files.append(os.path.join(root, filename))\n",
    "    return files"
   ]
  },
  {
   "cell_type": "code",
   "execution_count": 122,
   "id": "6deba7ab",
   "metadata": {},
   "outputs": [],
   "source": [
    "#העלת משתנים להרצת הקוד\n",
    "df_inputs_outputs = pd.read_excel('inputs_outputs.xlsx')\n",
    "\n",
    "software_data_folder_location=df_inputs_outputs['location'][0]\n",
    "\n",
    "forecast_version_folder_location=df_inputs_outputs['location'][1]"
   ]
  },
  {
   "cell_type": "markdown",
   "id": "1319865e",
   "metadata": {
    "heading_collapsed": true
   },
   "source": [
    "##  העלת טבלאות אוכלוסייה"
   ]
  },
  {
   "cell_type": "code",
   "execution_count": 123,
   "id": "ec5df491",
   "metadata": {},
   "outputs": [
    {
     "data": {
      "text/plain": [
       "'240307'"
      ]
     },
     "execution_count": 123,
     "metadata": {},
     "output_type": "execute_result"
    }
   ],
   "source": [
    "matching_files=find_files_with_pattern(r'{}\\Intermediates'.format(software_data_folder_location), '_pop_2040_jtmt')\n",
    "file = pathlib.Path(matching_files[0])\n",
    "v_date = file.name[:6]\n",
    "folder = str(file.parent)\n",
    "\n",
    "v_date"
   ]
  },
  {
   "cell_type": "code",
   "execution_count": 124,
   "id": "76fba270",
   "metadata": {
    "hidden": true
   },
   "outputs": [],
   "source": [
    "file_date=pd.Timestamp.today().strftime('%y%m%d')\n",
    "\n",
    "matching_files=find_files_with_pattern(r'{}\\Intermediates'.format(software_data_folder_location), '_pop_2040_jtmt')\n",
    "file = pathlib.Path(matching_files[0])\n",
    "v_date = file.name[:6]\n",
    "folder = str(file.parent)\n",
    "\n",
    "# v_date='230720'\n",
    "\n",
    "year=['2025','2030','2035','2040','2045','2050']\n",
    "\n",
    "for y in year: \n",
    "    \n",
    "    col=['Taz_num',\n",
    " 'aprt',\n",
    " 'pop',\n",
    " 'pop_0',\n",
    " 'pop_10',\n",
    " 'pop_15',\n",
    " 'pop_20',\n",
    " 'pop_25',\n",
    " 'pop_30',\n",
    " 'pop_35',\n",
    " 'pop_40',\n",
    " 'pop_45',\n",
    " 'pop_5',\n",
    " 'pop_50',\n",
    " 'pop_55',\n",
    " 'pop_60',\n",
    " 'pop_65',\n",
    " 'pop_70',\n",
    " 'pop_75up']\n",
    "    \n",
    "    folder_path=r'{}\\Intermediates'.format(software_data_folder_location)\n",
    "   #  folder_path=r'W:\\Projects\\הסעת המונים\\01_שלב ה\\קבצי עבודה\\תחזיות_דמוגרפיות\\תחזיות_2050\\jtmt\\join_pop'\n",
    "\n",
    "    file_name='{}_pop_{}_jtmt'.format(v_date,y)\n",
    "\n",
    "    locals()['forecast_pop_{}_jtmt'.format(y)]=up_load_df(folder_path,file_name)[col]"
   ]
  },
  {
   "cell_type": "markdown",
   "id": "e8fd3874",
   "metadata": {
    "heading_collapsed": true
   },
   "source": [
    "## העלת טבלת מצב קיים"
   ]
  },
  {
   "cell_type": "code",
   "execution_count": 125,
   "id": "ce0ad374",
   "metadata": {
    "hidden": true
   },
   "outputs": [],
   "source": [
    "# folder_path=r'\\\\FILE-SRV\\Jtmt\\projections_team\\כללי\\פעולות\\יצירת_מצב_קיים_למס\\output'\n",
    "v_date='230720'\n",
    "\n",
    "# file_name='2020_jtmt_forcast_full_{}'.format(v_date)\n",
    "\n",
    "matching_files=find_files_with_pattern(r'{}'.format(forecast_version_folder_location), '2020_jtmt_forcast_full')\n",
    "\n",
    "file = pathlib.Path(matching_files[0])\n",
    "file_name = file.name\n",
    "folder = str(file.parent)\n",
    "\n",
    "# taz_2020_aprt=up_load_df(forecast_version_folder_location, file_name[:-5])"
   ]
  },
  {
   "cell_type": "code",
   "execution_count": 126,
   "id": "1459d83f",
   "metadata": {
    "hidden": true
   },
   "outputs": [],
   "source": [
    "col=['Taz_num',\n",
    "     'Taz_name',\n",
    "     'Muni_Heb',\n",
    "     'jeru_metro',\n",
    "     'zonetype',\n",
    "     'in_jerusal',\n",
    "     'main_secto',\n",
    "     'aprt_20',\n",
    "     'student_dorms',\n",
    "     'student_yeshiva_with_add_from_old',\n",
    "     'student',\n",
    "     'uni_students','emp_from_uni_student','pop','emp_from_Yeshiva_student','yeshiva_dorms_pop_15',\n",
    "     'yeshiva_dorms_pop_20',\n",
    "     'yeshiva_dorms_pop_25',\n",
    "     'yeshiva_dorms_pop_sum',]\n",
    "\n",
    "new_column_names = {'aprt_20': 'aprt','student_yeshiva_with_add_from_old':'student_yeshiva'}\n",
    "\n",
    "forecast_2020=up_load_df(forecast_version_folder_location, file_name[:-5])[col]\n",
    "forecast_2020=forecast_2020.rename(columns=new_column_names)"
   ]
  },
  {
   "cell_type": "code",
   "execution_count": 127,
   "id": "06f94db5",
   "metadata": {
    "hidden": true
   },
   "outputs": [],
   "source": [
    "forecast_2020['jew']=0"
   ]
  },
  {
   "cell_type": "code",
   "execution_count": 128,
   "id": "142ab415",
   "metadata": {
    "hidden": true
   },
   "outputs": [],
   "source": [
    "forecast_2020.loc[(forecast_2020['main_secto']==\"U_Orthodox\")|(forecast_2020['main_secto']==\"Jewish\"),'jew']=1"
   ]
  },
  {
   "cell_type": "markdown",
   "id": "90974269",
   "metadata": {
    "heading_collapsed": true
   },
   "source": [
    "## העלת שכבת לא עוקב"
   ]
  },
  {
   "cell_type": "code",
   "execution_count": 129,
   "id": "d56adbf3",
   "metadata": {
    "hidden": true
   },
   "outputs": [],
   "source": [
    "# EMP_kibolet=up_load_gdb(r'\\\\FILE-SRV\\Jtmt\\projections_team\\תכניות אסטרטגיות לתחבורה ירושלים\\תחזיות 2050\\תעסוקה\\EMP_KIBOLET.gdb','EMP_kibolet')\n",
    "EMP_kibolet=up_load_gdb(r'{}\\background_files\\EMP_KIBOLET.gdb'.format(software_data_folder_location),'EMP_kibolet')\n",
    "\n",
    "EMP_kibolet=EMP_kibolet.fillna(0)\n",
    "\n",
    "EMP_kibolet['emp_kayim_no_palestinians']=EMP_kibolet['kayim_emp']-EMP_kibolet['Palestinians']\n",
    "\n",
    "EMP_kibolet['emp_current']=EMP_kibolet['emp_kayim_no_palestinians']"
   ]
  },
  {
   "cell_type": "code",
   "execution_count": 130,
   "id": "e11ad899",
   "metadata": {
    "hidden": true
   },
   "outputs": [],
   "source": [
    "col=[ 'F2025',\n",
    " 'F2030',\n",
    " 'F2035',\n",
    " 'F2040',\n",
    " 'F2045',\n",
    " 'F2050']"
   ]
  },
  {
   "cell_type": "code",
   "execution_count": 131,
   "id": "93d3a1e3",
   "metadata": {
    "hidden": true,
    "scrolled": true
   },
   "outputs": [],
   "source": [
    "EMP_kibolet[col]=EMP_kibolet[col].apply(lambda x: x * (EMP_kibolet['kibolt']-EMP_kibolet['kayim_emp']))"
   ]
  },
  {
   "cell_type": "code",
   "execution_count": 132,
   "id": "a7cf68bb",
   "metadata": {
    "hidden": true
   },
   "outputs": [],
   "source": [
    "EMP_kibolet[col]=EMP_kibolet[col].cumsum(axis=1)"
   ]
  },
  {
   "cell_type": "code",
   "execution_count": 133,
   "id": "31157b26",
   "metadata": {
    "hidden": true,
    "scrolled": true
   },
   "outputs": [],
   "source": [
    "EMP_kibolet[col]=EMP_kibolet[col].apply(lambda x: x +EMP_kibolet['emp_kayim_no_palestinians'])"
   ]
  },
  {
   "cell_type": "code",
   "execution_count": 134,
   "id": "b61751f4",
   "metadata": {
    "hidden": true
   },
   "outputs": [],
   "source": [
    "emp_not_okev_current=EMP_kibolet['emp_kayim_no_palestinians'].sum().item()"
   ]
  },
  {
   "cell_type": "markdown",
   "id": "11da7d31",
   "metadata": {
    "heading_collapsed": true
   },
   "source": [
    "## אזורי תעסוקה עיבודים והצלבה עם אזורי תנועה"
   ]
  },
  {
   "cell_type": "code",
   "execution_count": 135,
   "id": "ea310484",
   "metadata": {
    "hidden": true
   },
   "outputs": [],
   "source": [
    "taz=up_load_shp(r'{}\\background_files\\TAZ_V4_230518_Published.shp'.format(software_data_folder_location))\n",
    "\n",
    "taz['taz_area']=taz.area\n",
    "\n",
    "EMP_kibolet['emp_area']=EMP_kibolet.area\n",
    "\n",
    "EMP_kibolet['ID']=EMP_kibolet.index"
   ]
  },
  {
   "cell_type": "code",
   "execution_count": 136,
   "id": "a06c4814",
   "metadata": {
    "hidden": true
   },
   "outputs": [
    {
     "name": "stderr",
     "output_type": "stream",
     "text": [
      "C:\\Users\\dpere\\AppData\\Local\\Temp\\ipykernel_22524\\1389629884.py:1: UserWarning: `keep_geom_type=True` in overlay resulted in 279 dropped geometries of different geometry types than df1 has. Set `keep_geom_type=False` to retain all geometries\n",
      "  EMP_kibolet_by_taz=gpd.overlay(taz[['Taz_num','taz_area','geometry']],EMP_kibolet[['ID','emp_area','geometry']])\n"
     ]
    },
    {
     "ename": "TypeError",
     "evalue": "agg function failed [how->sum,dtype->geometry]",
     "output_type": "error",
     "traceback": [
      "\u001b[1;31m---------------------------------------------------------------------------\u001b[0m",
      "\u001b[1;31mTypeError\u001b[0m                                 Traceback (most recent call last)",
      "File \u001b[1;32mc:\\Users\\dpere\\miniconda3\\envs\\creat_forecast_ad_hoc_env\\Lib\\site-packages\\pandas\\core\\groupby\\groupby.py:1871\u001b[0m, in \u001b[0;36mGroupBy._agg_py_fallback\u001b[1;34m(self, how, values, ndim, alt)\u001b[0m\n\u001b[0;32m   1870\u001b[0m \u001b[38;5;28;01mtry\u001b[39;00m:\n\u001b[1;32m-> 1871\u001b[0m     res_values \u001b[38;5;241m=\u001b[39m \u001b[38;5;28;43mself\u001b[39;49m\u001b[38;5;241;43m.\u001b[39;49m\u001b[43mgrouper\u001b[49m\u001b[38;5;241;43m.\u001b[39;49m\u001b[43magg_series\u001b[49m\u001b[43m(\u001b[49m\u001b[43mser\u001b[49m\u001b[43m,\u001b[49m\u001b[43m \u001b[49m\u001b[43malt\u001b[49m\u001b[43m,\u001b[49m\u001b[43m \u001b[49m\u001b[43mpreserve_dtype\u001b[49m\u001b[38;5;241;43m=\u001b[39;49m\u001b[38;5;28;43;01mTrue\u001b[39;49;00m\u001b[43m)\u001b[49m\n\u001b[0;32m   1872\u001b[0m \u001b[38;5;28;01mexcept\u001b[39;00m \u001b[38;5;167;01mException\u001b[39;00m \u001b[38;5;28;01mas\u001b[39;00m err:\n",
      "File \u001b[1;32mc:\\Users\\dpere\\miniconda3\\envs\\creat_forecast_ad_hoc_env\\Lib\\site-packages\\pandas\\core\\groupby\\ops.py:850\u001b[0m, in \u001b[0;36mBaseGrouper.agg_series\u001b[1;34m(self, obj, func, preserve_dtype)\u001b[0m\n\u001b[0;32m    848\u001b[0m     preserve_dtype \u001b[38;5;241m=\u001b[39m \u001b[38;5;28;01mTrue\u001b[39;00m\n\u001b[1;32m--> 850\u001b[0m result \u001b[38;5;241m=\u001b[39m \u001b[38;5;28;43mself\u001b[39;49m\u001b[38;5;241;43m.\u001b[39;49m\u001b[43m_aggregate_series_pure_python\u001b[49m\u001b[43m(\u001b[49m\u001b[43mobj\u001b[49m\u001b[43m,\u001b[49m\u001b[43m \u001b[49m\u001b[43mfunc\u001b[49m\u001b[43m)\u001b[49m\n\u001b[0;32m    852\u001b[0m npvalues \u001b[38;5;241m=\u001b[39m lib\u001b[38;5;241m.\u001b[39mmaybe_convert_objects(result, try_float\u001b[38;5;241m=\u001b[39m\u001b[38;5;28;01mFalse\u001b[39;00m)\n",
      "File \u001b[1;32mc:\\Users\\dpere\\miniconda3\\envs\\creat_forecast_ad_hoc_env\\Lib\\site-packages\\pandas\\core\\groupby\\ops.py:871\u001b[0m, in \u001b[0;36mBaseGrouper._aggregate_series_pure_python\u001b[1;34m(self, obj, func)\u001b[0m\n\u001b[0;32m    870\u001b[0m \u001b[38;5;28;01mfor\u001b[39;00m i, group \u001b[38;5;129;01min\u001b[39;00m \u001b[38;5;28menumerate\u001b[39m(splitter):\n\u001b[1;32m--> 871\u001b[0m     res \u001b[38;5;241m=\u001b[39m \u001b[43mfunc\u001b[49m\u001b[43m(\u001b[49m\u001b[43mgroup\u001b[49m\u001b[43m)\u001b[49m\n\u001b[0;32m    872\u001b[0m     res \u001b[38;5;241m=\u001b[39m extract_result(res)\n",
      "File \u001b[1;32mc:\\Users\\dpere\\miniconda3\\envs\\creat_forecast_ad_hoc_env\\Lib\\site-packages\\numpy\\core\\fromnumeric.py:2313\u001b[0m, in \u001b[0;36msum\u001b[1;34m(a, axis, dtype, out, keepdims, initial, where)\u001b[0m\n\u001b[0;32m   2311\u001b[0m     \u001b[38;5;28;01mreturn\u001b[39;00m res\n\u001b[1;32m-> 2313\u001b[0m \u001b[38;5;28;01mreturn\u001b[39;00m \u001b[43m_wrapreduction\u001b[49m\u001b[43m(\u001b[49m\u001b[43ma\u001b[49m\u001b[43m,\u001b[49m\u001b[43m \u001b[49m\u001b[43mnp\u001b[49m\u001b[38;5;241;43m.\u001b[39;49m\u001b[43madd\u001b[49m\u001b[43m,\u001b[49m\u001b[43m \u001b[49m\u001b[38;5;124;43m'\u001b[39;49m\u001b[38;5;124;43msum\u001b[39;49m\u001b[38;5;124;43m'\u001b[39;49m\u001b[43m,\u001b[49m\u001b[43m \u001b[49m\u001b[43maxis\u001b[49m\u001b[43m,\u001b[49m\u001b[43m \u001b[49m\u001b[43mdtype\u001b[49m\u001b[43m,\u001b[49m\u001b[43m \u001b[49m\u001b[43mout\u001b[49m\u001b[43m,\u001b[49m\u001b[43m \u001b[49m\u001b[43mkeepdims\u001b[49m\u001b[38;5;241;43m=\u001b[39;49m\u001b[43mkeepdims\u001b[49m\u001b[43m,\u001b[49m\n\u001b[0;32m   2314\u001b[0m \u001b[43m                      \u001b[49m\u001b[43minitial\u001b[49m\u001b[38;5;241;43m=\u001b[39;49m\u001b[43minitial\u001b[49m\u001b[43m,\u001b[49m\u001b[43m \u001b[49m\u001b[43mwhere\u001b[49m\u001b[38;5;241;43m=\u001b[39;49m\u001b[43mwhere\u001b[49m\u001b[43m)\u001b[49m\n",
      "File \u001b[1;32mc:\\Users\\dpere\\miniconda3\\envs\\creat_forecast_ad_hoc_env\\Lib\\site-packages\\numpy\\core\\fromnumeric.py:86\u001b[0m, in \u001b[0;36m_wrapreduction\u001b[1;34m(obj, ufunc, method, axis, dtype, out, **kwargs)\u001b[0m\n\u001b[0;32m     85\u001b[0m         \u001b[38;5;28;01melse\u001b[39;00m:\n\u001b[1;32m---> 86\u001b[0m             \u001b[38;5;28;01mreturn\u001b[39;00m \u001b[43mreduction\u001b[49m\u001b[43m(\u001b[49m\u001b[43maxis\u001b[49m\u001b[38;5;241;43m=\u001b[39;49m\u001b[43maxis\u001b[49m\u001b[43m,\u001b[49m\u001b[43m \u001b[49m\u001b[43mout\u001b[49m\u001b[38;5;241;43m=\u001b[39;49m\u001b[43mout\u001b[49m\u001b[43m,\u001b[49m\u001b[43m \u001b[49m\u001b[38;5;241;43m*\u001b[39;49m\u001b[38;5;241;43m*\u001b[39;49m\u001b[43mpasskwargs\u001b[49m\u001b[43m)\u001b[49m\n\u001b[0;32m     88\u001b[0m \u001b[38;5;28;01mreturn\u001b[39;00m ufunc\u001b[38;5;241m.\u001b[39mreduce(obj, axis, dtype, out, \u001b[38;5;241m*\u001b[39m\u001b[38;5;241m*\u001b[39mpasskwargs)\n",
      "File \u001b[1;32mc:\\Users\\dpere\\miniconda3\\envs\\creat_forecast_ad_hoc_env\\Lib\\site-packages\\pandas\\core\\series.py:6200\u001b[0m, in \u001b[0;36mSeries.sum\u001b[1;34m(self, axis, skipna, numeric_only, min_count, **kwargs)\u001b[0m\n\u001b[0;32m   6191\u001b[0m \u001b[38;5;129m@doc\u001b[39m(make_doc(\u001b[38;5;124m\"\u001b[39m\u001b[38;5;124msum\u001b[39m\u001b[38;5;124m\"\u001b[39m, ndim\u001b[38;5;241m=\u001b[39m\u001b[38;5;241m1\u001b[39m))\n\u001b[0;32m   6192\u001b[0m \u001b[38;5;28;01mdef\u001b[39;00m \u001b[38;5;21msum\u001b[39m(\n\u001b[0;32m   6193\u001b[0m     \u001b[38;5;28mself\u001b[39m,\n\u001b[1;32m   (...)\u001b[0m\n\u001b[0;32m   6198\u001b[0m     \u001b[38;5;241m*\u001b[39m\u001b[38;5;241m*\u001b[39mkwargs,\n\u001b[0;32m   6199\u001b[0m ):\n\u001b[1;32m-> 6200\u001b[0m     \u001b[38;5;28;01mreturn\u001b[39;00m \u001b[43mNDFrame\u001b[49m\u001b[38;5;241;43m.\u001b[39;49m\u001b[43msum\u001b[49m\u001b[43m(\u001b[49m\u001b[38;5;28;43mself\u001b[39;49m\u001b[43m,\u001b[49m\u001b[43m \u001b[49m\u001b[43maxis\u001b[49m\u001b[43m,\u001b[49m\u001b[43m \u001b[49m\u001b[43mskipna\u001b[49m\u001b[43m,\u001b[49m\u001b[43m \u001b[49m\u001b[43mnumeric_only\u001b[49m\u001b[43m,\u001b[49m\u001b[43m \u001b[49m\u001b[43mmin_count\u001b[49m\u001b[43m,\u001b[49m\u001b[43m \u001b[49m\u001b[38;5;241;43m*\u001b[39;49m\u001b[38;5;241;43m*\u001b[39;49m\u001b[43mkwargs\u001b[49m\u001b[43m)\u001b[49m\n",
      "File \u001b[1;32mc:\\Users\\dpere\\miniconda3\\envs\\creat_forecast_ad_hoc_env\\Lib\\site-packages\\pandas\\core\\generic.py:12064\u001b[0m, in \u001b[0;36mNDFrame.sum\u001b[1;34m(self, axis, skipna, numeric_only, min_count, **kwargs)\u001b[0m\n\u001b[0;32m  12056\u001b[0m \u001b[38;5;28;01mdef\u001b[39;00m \u001b[38;5;21msum\u001b[39m(\n\u001b[0;32m  12057\u001b[0m     \u001b[38;5;28mself\u001b[39m,\n\u001b[0;32m  12058\u001b[0m     axis: Axis \u001b[38;5;241m|\u001b[39m \u001b[38;5;28;01mNone\u001b[39;00m \u001b[38;5;241m=\u001b[39m \u001b[38;5;241m0\u001b[39m,\n\u001b[1;32m   (...)\u001b[0m\n\u001b[0;32m  12062\u001b[0m     \u001b[38;5;241m*\u001b[39m\u001b[38;5;241m*\u001b[39mkwargs,\n\u001b[0;32m  12063\u001b[0m ):\n\u001b[1;32m> 12064\u001b[0m     \u001b[38;5;28;01mreturn\u001b[39;00m \u001b[38;5;28;43mself\u001b[39;49m\u001b[38;5;241;43m.\u001b[39;49m\u001b[43m_min_count_stat_function\u001b[49m\u001b[43m(\u001b[49m\n\u001b[0;32m  12065\u001b[0m \u001b[43m        \u001b[49m\u001b[38;5;124;43m\"\u001b[39;49m\u001b[38;5;124;43msum\u001b[39;49m\u001b[38;5;124;43m\"\u001b[39;49m\u001b[43m,\u001b[49m\u001b[43m \u001b[49m\u001b[43mnanops\u001b[49m\u001b[38;5;241;43m.\u001b[39;49m\u001b[43mnansum\u001b[49m\u001b[43m,\u001b[49m\u001b[43m \u001b[49m\u001b[43maxis\u001b[49m\u001b[43m,\u001b[49m\u001b[43m \u001b[49m\u001b[43mskipna\u001b[49m\u001b[43m,\u001b[49m\u001b[43m \u001b[49m\u001b[43mnumeric_only\u001b[49m\u001b[43m,\u001b[49m\u001b[43m \u001b[49m\u001b[43mmin_count\u001b[49m\u001b[43m,\u001b[49m\u001b[43m \u001b[49m\u001b[38;5;241;43m*\u001b[39;49m\u001b[38;5;241;43m*\u001b[39;49m\u001b[43mkwargs\u001b[49m\n\u001b[0;32m  12066\u001b[0m \u001b[43m    \u001b[49m\u001b[43m)\u001b[49m\n",
      "File \u001b[1;32mc:\\Users\\dpere\\miniconda3\\envs\\creat_forecast_ad_hoc_env\\Lib\\site-packages\\pandas\\core\\generic.py:12047\u001b[0m, in \u001b[0;36mNDFrame._min_count_stat_function\u001b[1;34m(self, name, func, axis, skipna, numeric_only, min_count, **kwargs)\u001b[0m\n\u001b[0;32m  12045\u001b[0m     axis \u001b[38;5;241m=\u001b[39m \u001b[38;5;241m0\u001b[39m\n\u001b[1;32m> 12047\u001b[0m \u001b[38;5;28;01mreturn\u001b[39;00m \u001b[38;5;28;43mself\u001b[39;49m\u001b[38;5;241;43m.\u001b[39;49m\u001b[43m_reduce\u001b[49m\u001b[43m(\u001b[49m\n\u001b[0;32m  12048\u001b[0m \u001b[43m    \u001b[49m\u001b[43mfunc\u001b[49m\u001b[43m,\u001b[49m\n\u001b[0;32m  12049\u001b[0m \u001b[43m    \u001b[49m\u001b[43mname\u001b[49m\u001b[38;5;241;43m=\u001b[39;49m\u001b[43mname\u001b[49m\u001b[43m,\u001b[49m\n\u001b[0;32m  12050\u001b[0m \u001b[43m    \u001b[49m\u001b[43maxis\u001b[49m\u001b[38;5;241;43m=\u001b[39;49m\u001b[43maxis\u001b[49m\u001b[43m,\u001b[49m\n\u001b[0;32m  12051\u001b[0m \u001b[43m    \u001b[49m\u001b[43mskipna\u001b[49m\u001b[38;5;241;43m=\u001b[39;49m\u001b[43mskipna\u001b[49m\u001b[43m,\u001b[49m\n\u001b[0;32m  12052\u001b[0m \u001b[43m    \u001b[49m\u001b[43mnumeric_only\u001b[49m\u001b[38;5;241;43m=\u001b[39;49m\u001b[43mnumeric_only\u001b[49m\u001b[43m,\u001b[49m\n\u001b[0;32m  12053\u001b[0m \u001b[43m    \u001b[49m\u001b[43mmin_count\u001b[49m\u001b[38;5;241;43m=\u001b[39;49m\u001b[43mmin_count\u001b[49m\u001b[43m,\u001b[49m\n\u001b[0;32m  12054\u001b[0m \u001b[43m\u001b[49m\u001b[43m)\u001b[49m\n",
      "File \u001b[1;32mc:\\Users\\dpere\\miniconda3\\envs\\creat_forecast_ad_hoc_env\\Lib\\site-packages\\pandas\\core\\series.py:6115\u001b[0m, in \u001b[0;36mSeries._reduce\u001b[1;34m(self, op, name, axis, skipna, numeric_only, filter_type, **kwds)\u001b[0m\n\u001b[0;32m   6113\u001b[0m \u001b[38;5;28;01mif\u001b[39;00m \u001b[38;5;28misinstance\u001b[39m(delegate, ExtensionArray):\n\u001b[0;32m   6114\u001b[0m     \u001b[38;5;66;03m# dispatch to ExtensionArray interface\u001b[39;00m\n\u001b[1;32m-> 6115\u001b[0m     \u001b[38;5;28;01mreturn\u001b[39;00m \u001b[43mdelegate\u001b[49m\u001b[38;5;241;43m.\u001b[39;49m\u001b[43m_reduce\u001b[49m\u001b[43m(\u001b[49m\u001b[43mname\u001b[49m\u001b[43m,\u001b[49m\u001b[43m \u001b[49m\u001b[43mskipna\u001b[49m\u001b[38;5;241;43m=\u001b[39;49m\u001b[43mskipna\u001b[49m\u001b[43m,\u001b[49m\u001b[43m \u001b[49m\u001b[38;5;241;43m*\u001b[39;49m\u001b[38;5;241;43m*\u001b[39;49m\u001b[43mkwds\u001b[49m\u001b[43m)\u001b[49m\n\u001b[0;32m   6117\u001b[0m \u001b[38;5;28;01melse\u001b[39;00m:\n\u001b[0;32m   6118\u001b[0m     \u001b[38;5;66;03m# dispatch to numpy arrays\u001b[39;00m\n",
      "File \u001b[1;32mc:\\Users\\dpere\\miniconda3\\envs\\creat_forecast_ad_hoc_env\\Lib\\site-packages\\geopandas\\array.py:1467\u001b[0m, in \u001b[0;36mGeometryArray._reduce\u001b[1;34m(self, name, skipna, **kwargs)\u001b[0m\n\u001b[0;32m   1466\u001b[0m     \u001b[38;5;28;01mreturn\u001b[39;00m \u001b[38;5;28mgetattr\u001b[39m(to_shapely(\u001b[38;5;28mself\u001b[39m), name)()\n\u001b[1;32m-> 1467\u001b[0m \u001b[38;5;28;01mraise\u001b[39;00m \u001b[38;5;167;01mTypeError\u001b[39;00m(\n\u001b[0;32m   1468\u001b[0m     \u001b[38;5;124mf\u001b[39m\u001b[38;5;124m\"\u001b[39m\u001b[38;5;124m'\u001b[39m\u001b[38;5;132;01m{\u001b[39;00m\u001b[38;5;28mtype\u001b[39m(\u001b[38;5;28mself\u001b[39m)\u001b[38;5;241m.\u001b[39m\u001b[38;5;18m__name__\u001b[39m\u001b[38;5;132;01m}\u001b[39;00m\u001b[38;5;124m'\u001b[39m\u001b[38;5;124m with dtype \u001b[39m\u001b[38;5;132;01m{\u001b[39;00m\u001b[38;5;28mself\u001b[39m\u001b[38;5;241m.\u001b[39mdtype\u001b[38;5;132;01m}\u001b[39;00m\u001b[38;5;124m \u001b[39m\u001b[38;5;124m\"\u001b[39m\n\u001b[0;32m   1469\u001b[0m     \u001b[38;5;124mf\u001b[39m\u001b[38;5;124m\"\u001b[39m\u001b[38;5;124mdoes not support reduction \u001b[39m\u001b[38;5;124m'\u001b[39m\u001b[38;5;132;01m{\u001b[39;00mname\u001b[38;5;132;01m}\u001b[39;00m\u001b[38;5;124m'\u001b[39m\u001b[38;5;124m\"\u001b[39m\n\u001b[0;32m   1470\u001b[0m )\n",
      "\u001b[1;31mTypeError\u001b[0m: 'GeometryArray' with dtype geometry does not support reduction 'sum'",
      "\nThe above exception was the direct cause of the following exception:\n",
      "\u001b[1;31mTypeError\u001b[0m                                 Traceback (most recent call last)",
      "Cell \u001b[1;32mIn[136], line 15\u001b[0m\n\u001b[0;32m     11\u001b[0m EMP_kibolet_by_taz[\u001b[38;5;124m'\u001b[39m\u001b[38;5;124msmall_area\u001b[39m\u001b[38;5;124m'\u001b[39m]\u001b[38;5;241m=\u001b[39mEMP_kibolet_by_taz\u001b[38;5;241m.\u001b[39marea\n\u001b[0;32m     13\u001b[0m EMP_kibolet_by_taz\u001b[38;5;241m=\u001b[39mEMP_kibolet_by_taz\u001b[38;5;241m.\u001b[39mset_index(\u001b[38;5;124m'\u001b[39m\u001b[38;5;124mID\u001b[39m\u001b[38;5;124m'\u001b[39m)\n\u001b[1;32m---> 15\u001b[0m EMP_kibolet_by_taz[\u001b[38;5;124m'\u001b[39m\u001b[38;5;124mid_area_for_pre\u001b[39m\u001b[38;5;124m'\u001b[39m]\u001b[38;5;241m=\u001b[39m\u001b[43mEMP_kibolet_by_taz\u001b[49m\u001b[38;5;241;43m.\u001b[39;49m\u001b[43mgroupby\u001b[49m\u001b[43m(\u001b[49m\u001b[43mby\u001b[49m\u001b[38;5;241;43m=\u001b[39;49m\u001b[38;5;124;43m'\u001b[39;49m\u001b[38;5;124;43mID\u001b[39;49m\u001b[38;5;124;43m'\u001b[39;49m\u001b[43m)\u001b[49m\u001b[38;5;241;43m.\u001b[39;49m\u001b[43msum\u001b[49m\u001b[43m(\u001b[49m\u001b[43m)\u001b[49m[\u001b[38;5;124m'\u001b[39m\u001b[38;5;124msmall_area\u001b[39m\u001b[38;5;124m'\u001b[39m]\n\u001b[0;32m     17\u001b[0m EMP_kibolet_by_taz[\u001b[38;5;124m'\u001b[39m\u001b[38;5;124mprec_from_id\u001b[39m\u001b[38;5;124m'\u001b[39m]\u001b[38;5;241m=\u001b[39mEMP_kibolet_by_taz[\u001b[38;5;124m'\u001b[39m\u001b[38;5;124msmall_area\u001b[39m\u001b[38;5;124m'\u001b[39m]\u001b[38;5;241m/\u001b[39mEMP_kibolet_by_taz[\u001b[38;5;124m'\u001b[39m\u001b[38;5;124mid_area_for_pre\u001b[39m\u001b[38;5;124m'\u001b[39m]\n",
      "File \u001b[1;32mc:\\Users\\dpere\\miniconda3\\envs\\creat_forecast_ad_hoc_env\\Lib\\site-packages\\pandas\\core\\groupby\\groupby.py:3053\u001b[0m, in \u001b[0;36mGroupBy.sum\u001b[1;34m(self, numeric_only, min_count, engine, engine_kwargs)\u001b[0m\n\u001b[0;32m   3048\u001b[0m \u001b[38;5;28;01melse\u001b[39;00m:\n\u001b[0;32m   3049\u001b[0m     \u001b[38;5;66;03m# If we are grouping on categoricals we want unobserved categories to\u001b[39;00m\n\u001b[0;32m   3050\u001b[0m     \u001b[38;5;66;03m# return zero, rather than the default of NaN which the reindexing in\u001b[39;00m\n\u001b[0;32m   3051\u001b[0m     \u001b[38;5;66;03m# _agg_general() returns. GH #31422\u001b[39;00m\n\u001b[0;32m   3052\u001b[0m     \u001b[38;5;28;01mwith\u001b[39;00m com\u001b[38;5;241m.\u001b[39mtemp_setattr(\u001b[38;5;28mself\u001b[39m, \u001b[38;5;124m\"\u001b[39m\u001b[38;5;124mobserved\u001b[39m\u001b[38;5;124m\"\u001b[39m, \u001b[38;5;28;01mTrue\u001b[39;00m):\n\u001b[1;32m-> 3053\u001b[0m         result \u001b[38;5;241m=\u001b[39m \u001b[38;5;28;43mself\u001b[39;49m\u001b[38;5;241;43m.\u001b[39;49m\u001b[43m_agg_general\u001b[49m\u001b[43m(\u001b[49m\n\u001b[0;32m   3054\u001b[0m \u001b[43m            \u001b[49m\u001b[43mnumeric_only\u001b[49m\u001b[38;5;241;43m=\u001b[39;49m\u001b[43mnumeric_only\u001b[49m\u001b[43m,\u001b[49m\n\u001b[0;32m   3055\u001b[0m \u001b[43m            \u001b[49m\u001b[43mmin_count\u001b[49m\u001b[38;5;241;43m=\u001b[39;49m\u001b[43mmin_count\u001b[49m\u001b[43m,\u001b[49m\n\u001b[0;32m   3056\u001b[0m \u001b[43m            \u001b[49m\u001b[43malias\u001b[49m\u001b[38;5;241;43m=\u001b[39;49m\u001b[38;5;124;43m\"\u001b[39;49m\u001b[38;5;124;43msum\u001b[39;49m\u001b[38;5;124;43m\"\u001b[39;49m\u001b[43m,\u001b[49m\n\u001b[0;32m   3057\u001b[0m \u001b[43m            \u001b[49m\u001b[43mnpfunc\u001b[49m\u001b[38;5;241;43m=\u001b[39;49m\u001b[43mnp\u001b[49m\u001b[38;5;241;43m.\u001b[39;49m\u001b[43msum\u001b[49m\u001b[43m,\u001b[49m\n\u001b[0;32m   3058\u001b[0m \u001b[43m        \u001b[49m\u001b[43m)\u001b[49m\n\u001b[0;32m   3060\u001b[0m     \u001b[38;5;28;01mreturn\u001b[39;00m \u001b[38;5;28mself\u001b[39m\u001b[38;5;241m.\u001b[39m_reindex_output(result, fill_value\u001b[38;5;241m=\u001b[39m\u001b[38;5;241m0\u001b[39m)\n",
      "File \u001b[1;32mc:\\Users\\dpere\\miniconda3\\envs\\creat_forecast_ad_hoc_env\\Lib\\site-packages\\pandas\\core\\groupby\\groupby.py:1835\u001b[0m, in \u001b[0;36mGroupBy._agg_general\u001b[1;34m(self, numeric_only, min_count, alias, npfunc)\u001b[0m\n\u001b[0;32m   1826\u001b[0m \u001b[38;5;129m@final\u001b[39m\n\u001b[0;32m   1827\u001b[0m \u001b[38;5;28;01mdef\u001b[39;00m \u001b[38;5;21m_agg_general\u001b[39m(\n\u001b[0;32m   1828\u001b[0m     \u001b[38;5;28mself\u001b[39m,\n\u001b[1;32m   (...)\u001b[0m\n\u001b[0;32m   1833\u001b[0m     npfunc: Callable,\n\u001b[0;32m   1834\u001b[0m ):\n\u001b[1;32m-> 1835\u001b[0m     result \u001b[38;5;241m=\u001b[39m \u001b[38;5;28;43mself\u001b[39;49m\u001b[38;5;241;43m.\u001b[39;49m\u001b[43m_cython_agg_general\u001b[49m\u001b[43m(\u001b[49m\n\u001b[0;32m   1836\u001b[0m \u001b[43m        \u001b[49m\u001b[43mhow\u001b[49m\u001b[38;5;241;43m=\u001b[39;49m\u001b[43malias\u001b[49m\u001b[43m,\u001b[49m\n\u001b[0;32m   1837\u001b[0m \u001b[43m        \u001b[49m\u001b[43malt\u001b[49m\u001b[38;5;241;43m=\u001b[39;49m\u001b[43mnpfunc\u001b[49m\u001b[43m,\u001b[49m\n\u001b[0;32m   1838\u001b[0m \u001b[43m        \u001b[49m\u001b[43mnumeric_only\u001b[49m\u001b[38;5;241;43m=\u001b[39;49m\u001b[43mnumeric_only\u001b[49m\u001b[43m,\u001b[49m\n\u001b[0;32m   1839\u001b[0m \u001b[43m        \u001b[49m\u001b[43mmin_count\u001b[49m\u001b[38;5;241;43m=\u001b[39;49m\u001b[43mmin_count\u001b[49m\u001b[43m,\u001b[49m\n\u001b[0;32m   1840\u001b[0m \u001b[43m    \u001b[49m\u001b[43m)\u001b[49m\n\u001b[0;32m   1841\u001b[0m     \u001b[38;5;28;01mreturn\u001b[39;00m result\u001b[38;5;241m.\u001b[39m__finalize__(\u001b[38;5;28mself\u001b[39m\u001b[38;5;241m.\u001b[39mobj, method\u001b[38;5;241m=\u001b[39m\u001b[38;5;124m\"\u001b[39m\u001b[38;5;124mgroupby\u001b[39m\u001b[38;5;124m\"\u001b[39m)\n",
      "File \u001b[1;32mc:\\Users\\dpere\\miniconda3\\envs\\creat_forecast_ad_hoc_env\\Lib\\site-packages\\pandas\\core\\groupby\\groupby.py:1926\u001b[0m, in \u001b[0;36mGroupBy._cython_agg_general\u001b[1;34m(self, how, alt, numeric_only, min_count, **kwargs)\u001b[0m\n\u001b[0;32m   1923\u001b[0m     result \u001b[38;5;241m=\u001b[39m \u001b[38;5;28mself\u001b[39m\u001b[38;5;241m.\u001b[39m_agg_py_fallback(how, values, ndim\u001b[38;5;241m=\u001b[39mdata\u001b[38;5;241m.\u001b[39mndim, alt\u001b[38;5;241m=\u001b[39malt)\n\u001b[0;32m   1924\u001b[0m     \u001b[38;5;28;01mreturn\u001b[39;00m result\n\u001b[1;32m-> 1926\u001b[0m new_mgr \u001b[38;5;241m=\u001b[39m \u001b[43mdata\u001b[49m\u001b[38;5;241;43m.\u001b[39;49m\u001b[43mgrouped_reduce\u001b[49m\u001b[43m(\u001b[49m\u001b[43marray_func\u001b[49m\u001b[43m)\u001b[49m\n\u001b[0;32m   1927\u001b[0m res \u001b[38;5;241m=\u001b[39m \u001b[38;5;28mself\u001b[39m\u001b[38;5;241m.\u001b[39m_wrap_agged_manager(new_mgr)\n\u001b[0;32m   1928\u001b[0m out \u001b[38;5;241m=\u001b[39m \u001b[38;5;28mself\u001b[39m\u001b[38;5;241m.\u001b[39m_wrap_aggregated_output(res)\n",
      "File \u001b[1;32mc:\\Users\\dpere\\miniconda3\\envs\\creat_forecast_ad_hoc_env\\Lib\\site-packages\\pandas\\core\\internals\\managers.py:1431\u001b[0m, in \u001b[0;36mBlockManager.grouped_reduce\u001b[1;34m(self, func)\u001b[0m\n\u001b[0;32m   1429\u001b[0m             result_blocks \u001b[38;5;241m=\u001b[39m extend_blocks(applied, result_blocks)\n\u001b[0;32m   1430\u001b[0m     \u001b[38;5;28;01melse\u001b[39;00m:\n\u001b[1;32m-> 1431\u001b[0m         applied \u001b[38;5;241m=\u001b[39m \u001b[43mblk\u001b[49m\u001b[38;5;241;43m.\u001b[39;49m\u001b[43mapply\u001b[49m\u001b[43m(\u001b[49m\u001b[43mfunc\u001b[49m\u001b[43m)\u001b[49m\n\u001b[0;32m   1432\u001b[0m         result_blocks \u001b[38;5;241m=\u001b[39m extend_blocks(applied, result_blocks)\n\u001b[0;32m   1434\u001b[0m \u001b[38;5;28;01mif\u001b[39;00m \u001b[38;5;28mlen\u001b[39m(result_blocks) \u001b[38;5;241m==\u001b[39m \u001b[38;5;241m0\u001b[39m:\n",
      "File \u001b[1;32mc:\\Users\\dpere\\miniconda3\\envs\\creat_forecast_ad_hoc_env\\Lib\\site-packages\\pandas\\core\\internals\\blocks.py:366\u001b[0m, in \u001b[0;36mBlock.apply\u001b[1;34m(self, func, **kwargs)\u001b[0m\n\u001b[0;32m    360\u001b[0m \u001b[38;5;129m@final\u001b[39m\n\u001b[0;32m    361\u001b[0m \u001b[38;5;28;01mdef\u001b[39;00m \u001b[38;5;21mapply\u001b[39m(\u001b[38;5;28mself\u001b[39m, func, \u001b[38;5;241m*\u001b[39m\u001b[38;5;241m*\u001b[39mkwargs) \u001b[38;5;241m-\u001b[39m\u001b[38;5;241m>\u001b[39m \u001b[38;5;28mlist\u001b[39m[Block]:\n\u001b[0;32m    362\u001b[0m \u001b[38;5;250m    \u001b[39m\u001b[38;5;124;03m\"\"\"\u001b[39;00m\n\u001b[0;32m    363\u001b[0m \u001b[38;5;124;03m    apply the function to my values; return a block if we are not\u001b[39;00m\n\u001b[0;32m    364\u001b[0m \u001b[38;5;124;03m    one\u001b[39;00m\n\u001b[0;32m    365\u001b[0m \u001b[38;5;124;03m    \"\"\"\u001b[39;00m\n\u001b[1;32m--> 366\u001b[0m     result \u001b[38;5;241m=\u001b[39m \u001b[43mfunc\u001b[49m\u001b[43m(\u001b[49m\u001b[38;5;28;43mself\u001b[39;49m\u001b[38;5;241;43m.\u001b[39;49m\u001b[43mvalues\u001b[49m\u001b[43m,\u001b[49m\u001b[43m \u001b[49m\u001b[38;5;241;43m*\u001b[39;49m\u001b[38;5;241;43m*\u001b[39;49m\u001b[43mkwargs\u001b[49m\u001b[43m)\u001b[49m\n\u001b[0;32m    368\u001b[0m     result \u001b[38;5;241m=\u001b[39m maybe_coerce_values(result)\n\u001b[0;32m    369\u001b[0m     \u001b[38;5;28;01mreturn\u001b[39;00m \u001b[38;5;28mself\u001b[39m\u001b[38;5;241m.\u001b[39m_split_op_result(result)\n",
      "File \u001b[1;32mc:\\Users\\dpere\\miniconda3\\envs\\creat_forecast_ad_hoc_env\\Lib\\site-packages\\pandas\\core\\groupby\\groupby.py:1923\u001b[0m, in \u001b[0;36mGroupBy._cython_agg_general.<locals>.array_func\u001b[1;34m(values)\u001b[0m\n\u001b[0;32m   1920\u001b[0m \u001b[38;5;28;01melse\u001b[39;00m:\n\u001b[0;32m   1921\u001b[0m     \u001b[38;5;28;01mreturn\u001b[39;00m result\n\u001b[1;32m-> 1923\u001b[0m result \u001b[38;5;241m=\u001b[39m \u001b[38;5;28;43mself\u001b[39;49m\u001b[38;5;241;43m.\u001b[39;49m\u001b[43m_agg_py_fallback\u001b[49m\u001b[43m(\u001b[49m\u001b[43mhow\u001b[49m\u001b[43m,\u001b[49m\u001b[43m \u001b[49m\u001b[43mvalues\u001b[49m\u001b[43m,\u001b[49m\u001b[43m \u001b[49m\u001b[43mndim\u001b[49m\u001b[38;5;241;43m=\u001b[39;49m\u001b[43mdata\u001b[49m\u001b[38;5;241;43m.\u001b[39;49m\u001b[43mndim\u001b[49m\u001b[43m,\u001b[49m\u001b[43m \u001b[49m\u001b[43malt\u001b[49m\u001b[38;5;241;43m=\u001b[39;49m\u001b[43malt\u001b[49m\u001b[43m)\u001b[49m\n\u001b[0;32m   1924\u001b[0m \u001b[38;5;28;01mreturn\u001b[39;00m result\n",
      "File \u001b[1;32mc:\\Users\\dpere\\miniconda3\\envs\\creat_forecast_ad_hoc_env\\Lib\\site-packages\\pandas\\core\\groupby\\groupby.py:1875\u001b[0m, in \u001b[0;36mGroupBy._agg_py_fallback\u001b[1;34m(self, how, values, ndim, alt)\u001b[0m\n\u001b[0;32m   1873\u001b[0m     msg \u001b[38;5;241m=\u001b[39m \u001b[38;5;124mf\u001b[39m\u001b[38;5;124m\"\u001b[39m\u001b[38;5;124magg function failed [how->\u001b[39m\u001b[38;5;132;01m{\u001b[39;00mhow\u001b[38;5;132;01m}\u001b[39;00m\u001b[38;5;124m,dtype->\u001b[39m\u001b[38;5;132;01m{\u001b[39;00mser\u001b[38;5;241m.\u001b[39mdtype\u001b[38;5;132;01m}\u001b[39;00m\u001b[38;5;124m]\u001b[39m\u001b[38;5;124m\"\u001b[39m\n\u001b[0;32m   1874\u001b[0m     \u001b[38;5;66;03m# preserve the kind of exception that raised\u001b[39;00m\n\u001b[1;32m-> 1875\u001b[0m     \u001b[38;5;28;01mraise\u001b[39;00m \u001b[38;5;28mtype\u001b[39m(err)(msg) \u001b[38;5;28;01mfrom\u001b[39;00m \u001b[38;5;21;01merr\u001b[39;00m\n\u001b[0;32m   1877\u001b[0m \u001b[38;5;28;01mif\u001b[39;00m ser\u001b[38;5;241m.\u001b[39mdtype \u001b[38;5;241m==\u001b[39m \u001b[38;5;28mobject\u001b[39m:\n\u001b[0;32m   1878\u001b[0m     res_values \u001b[38;5;241m=\u001b[39m res_values\u001b[38;5;241m.\u001b[39mastype(\u001b[38;5;28mobject\u001b[39m, copy\u001b[38;5;241m=\u001b[39m\u001b[38;5;28;01mFalse\u001b[39;00m)\n",
      "\u001b[1;31mTypeError\u001b[0m: agg function failed [how->sum,dtype->geometry]"
     ]
    }
   ],
   "source": [
    "EMP_kibolet_by_taz=gpd.overlay(taz[['Taz_num','taz_area','geometry']],EMP_kibolet[['ID','emp_area','geometry']])\n",
    "\n",
    "EMP_kibolet_by_taz['small_area']=EMP_kibolet_by_taz.area\n",
    "\n",
    "EMP_kibolet_by_taz['pre_small_area_emp']=EMP_kibolet_by_taz['small_area']/EMP_kibolet_by_taz['emp_area']\n",
    "\n",
    "EMP_kibolet_by_taz['pre_small_area_taz']=EMP_kibolet_by_taz['small_area']/EMP_kibolet_by_taz['taz_area']\n",
    "\n",
    "EMP_kibolet_by_taz=EMP_kibolet_by_taz.query('(pre_small_area_taz >0.7) | (pre_small_area_emp >0.1)')[['ID','Taz_num','geometry']]\n",
    "\n",
    "EMP_kibolet_by_taz['small_area']=EMP_kibolet_by_taz.area\n",
    "\n",
    "EMP_kibolet_by_taz=EMP_kibolet_by_taz.set_index('ID')\n",
    "\n",
    "EMP_kibolet_by_taz['id_area_for_pre']=EMP_kibolet_by_taz.groupby(by='ID').sum()['small_area']\n",
    "\n",
    "EMP_kibolet_by_taz['prec_from_id']=EMP_kibolet_by_taz['small_area']/EMP_kibolet_by_taz['id_area_for_pre']"
   ]
  },
  {
   "cell_type": "code",
   "execution_count": null,
   "id": "c2ef85b2",
   "metadata": {
    "hidden": true
   },
   "outputs": [],
   "source": [
    "EMP_kibolet['geometry_buff']=EMP_kibolet.buffer(250)"
   ]
  },
  {
   "cell_type": "code",
   "execution_count": 139,
   "id": "c598678b",
   "metadata": {
    "hidden": true
   },
   "outputs": [],
   "source": [
    "city_muni=['מודיעין עילית','בית שמש','ירושלים','מודיעין - מכבים - רעות']\n",
    "\n",
    "# taz=up_load_shp(r'{}\\background_files\\TAZ_V4_230518_Published.shp'.format(software_data_folder_location))\n",
    "\n",
    "okev_factor=up_load_df(r'{}\\background_files'.format(software_data_folder_location),'okev_factor').set_index('sector')\n"
   ]
  },
  {
   "cell_type": "code",
   "execution_count": 142,
   "id": "e7163fbd",
   "metadata": {
    "hidden": true
   },
   "outputs": [],
   "source": [
    "# work_factor=up_load_df(r'W:\\Projects\\הסעת המונים\\01_שלב ה\\קבצי עבודה\\תחזיות_דמוגרפיות\\תחזיות_2050\\מרכיבי_תחזית','work_factor_230719').set_index('sector')\n",
    "work_factor=up_load_df(r'{}\\background_files'.format(software_data_folder_location),'work_factor_230719').set_index('sector')"
   ]
  },
  {
   "cell_type": "markdown",
   "id": "a9e9a3c5",
   "metadata": {
    "heading_collapsed": true
   },
   "source": [
    "## התפלגות אזורים התפלגות ענפי תעסוקה"
   ]
  },
  {
   "cell_type": "code",
   "execution_count": 143,
   "id": "733bc6b8",
   "metadata": {
    "hidden": true
   },
   "outputs": [],
   "source": [
    "emp_category_type=up_load_shp(r'{}\\background_files\\emp_category_type.shp'.format(software_data_folder_location)).fillna(0)\n",
    "\n",
    "col=['agri', 'Indus', 'Com_hotel', 'Business', 'Public']\n",
    "\n",
    "emp_category_type[col]=emp_category_type[col]/100\n",
    "\n",
    "emp_category_type=gpd.sjoin(make_point(taz.reset_index())[['Taz_num','centroid']],emp_category_type).set_index('Taz_num')"
   ]
  },
  {
   "cell_type": "markdown",
   "id": "154e5e04",
   "metadata": {
    "heading_collapsed": true
   },
   "source": [
    "## הכנה ללופ"
   ]
  },
  {
   "cell_type": "code",
   "execution_count": 89,
   "id": "7cf3eace",
   "metadata": {
    "hidden": true
   },
   "outputs": [],
   "source": [
    "# commuting=up_load_shp(r'\\\\FILE-SRV\\Jtmt\\projections_team\\תכניות אסטרטגיות לתחבורה ירושלים\\תחזיות 2050\\תעסוקה\\commuting_230712.shp')\n",
    "commuting=up_load_shp(r'{}\\background_files\\commuting_230712.shp'.format(software_data_folder_location))\n"
   ]
  },
  {
   "cell_type": "code",
   "execution_count": null,
   "id": "e467ff73",
   "metadata": {
    "hidden": true
   },
   "outputs": [],
   "source": [
    "pre_woman=0.5\n",
    "\n",
    "pre_man=1-pre_woman\n",
    "\n",
    "work_age=[ 'pop_25',\n",
    "'pop_30',\n",
    "'pop_35',\n",
    "'pop_40',\n",
    "'pop_45',\n",
    "'pop_50',\n",
    "'pop_55',\n",
    "'pop_60']\n",
    "\n",
    "under_work_age=[ 'pop_15', 'pop_20']\n",
    "\n",
    "over_work_age=[ 'pop_65', 'pop_70', 'pop_75up']"
   ]
  },
  {
   "cell_type": "code",
   "execution_count": null,
   "id": "758e7dd6",
   "metadata": {
    "hidden": true
   },
   "outputs": [],
   "source": [
    " #אלו השדות שאולי אני יוריד כאן נכנס המצב הנוכחי\n",
    "col=['Taz_num',\n",
    "     'Taz_name',\n",
    "     'Muni_Heb',\n",
    "     'jeru_metro',\n",
    "     'zonetype',\n",
    "     'in_jerusal',\n",
    "     'main_secto','jew',\n",
    "     'student_dorms',\n",
    "     'student_yeshiva',\n",
    "     'student',\n",
    "     'uni_students','emp_from_uni_student','emp_from_Yeshiva_student','yeshiva_dorms_pop_15',\n",
    "     'yeshiva_dorms_pop_20',\n",
    "     'yeshiva_dorms_pop_25',\n",
    "     'yeshiva_dorms_pop_sum',]\n",
    "\n",
    "forecast_current=forecast_2020[col]"
   ]
  },
  {
   "cell_type": "markdown",
   "id": "cd57951a",
   "metadata": {},
   "source": [
    "## לופ"
   ]
  },
  {
   "cell_type": "code",
   "execution_count": null,
   "id": "c75611c9",
   "metadata": {},
   "outputs": [],
   "source": [
    "year=['2025','2030','2035','2040','2045','2050']\n",
    "\n",
    "for y in year:\n",
    "    # חיבור מאפייני אזורי התנועה משכבת אזורי תנועה מצב קיים\n",
    "\n",
    "   \n",
    "    print('---------------------------')\n",
    "    print(y)\n",
    "\n",
    "    forecast=pd.merge(forecast_current,locals()['forecast_pop_{}_jtmt'.format(y)],on=\"Taz_num\",how='right')\n",
    "\n",
    "        \n",
    "    forecast['student_demand']=forecast['pop_0']/5*3*0.5+forecast['pop_0']/5*2+forecast['pop_5']+forecast['pop_10']+forecast['pop_15']/5*3+forecast['pop_0']/5*3*0.5\n",
    "\n",
    "    demad_for_students_by_muni_and_sector=forecast.pivot_table(index=('Muni_Heb','jew'),aggfunc=sum)[['student_demand','student']]\n",
    "\n",
    "    demad_for_students_by_muni_and_sector['add_students_to_kayim_from_demand']=demad_for_students_by_muni_and_sector['student_demand']-demad_for_students_by_muni_and_sector['student']\n",
    "    demad_for_students_by_muni_and_sector.loc[demad_for_students_by_muni_and_sector['add_students_to_kayim_from_demand']<0,'add_students_to_kayim_from_demand']=0\n",
    "\n",
    "    demad_for_students_by_muni_and_sector=demad_for_students_by_muni_and_sector.reset_index()\n",
    "\n",
    "    col=['Muni_Heb','jew','add_students_to_kayim_from_demand']\n",
    "\n",
    "    forecast=forecast.merge(demad_for_students_by_muni_and_sector[col],on=['Muni_Heb','jew'])\n",
    "\n",
    "    \n",
    "    forecast['student_to_fill_demand']=forecast['student_demand']-forecast['student']\n",
    "\n",
    "    forecast.loc[forecast['student_to_fill_demand']<0,'student_to_fill_demand']=0\n",
    "\n",
    "    forecast=forecast.merge(forecast.groupby(by=['Muni_Heb','jew']).sum()[['student_to_fill_demand']].reset_index(),on=['Muni_Heb','jew'],suffixes=('','_sum'))\n",
    "\n",
    "    forecast['student_to_fill_demand_pre']=forecast['student_to_fill_demand']/forecast['student_to_fill_demand_sum']\n",
    "\n",
    "    forecast['add_to_student_current']=forecast['student_to_fill_demand_pre']*forecast['add_students_to_kayim_from_demand']\n",
    "    \n",
    "    print_before('student')\n",
    "    \n",
    "    forecast=forecast.fillna(0)\n",
    "    \n",
    "    forecast['student']=forecast['student']+forecast['add_to_student_current']\n",
    "    \n",
    "    print_after('student')\n",
    "\n",
    "    \n",
    "    \n",
    "    \n",
    "    ## תעסוקה בעקבות תלמידים \n",
    "\n",
    "    emp_education_per_student=7\n",
    "\n",
    "    \n",
    "    forecast['emp_from_student']=forecast['student']/emp_education_per_student\n",
    "\n",
    "    print_after('emp_from_student')\n",
    "\n",
    "    \n",
    "    \n",
    "    \n",
    "    ## סטודנטים \n",
    "\n",
    "    forecast['uni_students_pre']=forecast['uni_students']/forecast['uni_students'].sum().item()\n",
    "\n",
    "    uni_students_pre_from_age_20_30=0.3\n",
    "\n",
    "    uni_students=forecast.query('main_secto!=\"Palestinian\"')[['pop_20','pop_25']].sum().sum()*uni_students_pre_from_age_20_30\n",
    "    \n",
    "    dorms_vs_uni_students=(forecast['student_dorms'].sum().item())/(forecast['uni_students'].sum().item())\n",
    "    \n",
    "    print(\"dorms_vs_uni_students: \",round(dorms_vs_uni_students*100,0), \"%\")\n",
    "\n",
    "    \n",
    "    \n",
    "    print_before(\"uni_students\")\n",
    "    \n",
    "    \n",
    "    forecast['add_uni_students']=forecast['uni_students_pre']*uni_students-forecast['uni_students']\n",
    "    \n",
    "    forecast['uni_students']=forecast['uni_students']+forecast['add_uni_students']\n",
    "    \n",
    "    print_after(\"uni_students\")\n",
    "    \n",
    "    growth_dorms=((forecast['uni_students'].sum().item())*dorms_vs_uni_students)/(forecast['student_dorms'].sum().item())\n",
    "    \n",
    "    print(\"growth_dorms: \",growth_dorms)\n",
    "    \n",
    "    print_before(\"student_dorms\")\n",
    "    forecast['student_dorms']=forecast['student_dorms']*growth_dorms\n",
    "    \n",
    "    print_after(\"student_dorms\")\n",
    "\n",
    "    ## תעסוקה בעקבות סטודנטים \n",
    "\n",
    "    emp_Education_per_uni_student=0.18\n",
    "    \n",
    "    print_before('emp_from_uni_student')\n",
    "    forecast['emp_from_uni_student']=forecast['add_uni_students']*emp_Education_per_uni_student+forecast['emp_from_uni_student']\n",
    "\n",
    "    print_after('emp_from_uni_student')\n",
    "   \n",
    "\n",
    " \n",
    "    ## תלמידי ישיבה \n",
    "\n",
    "    student_yeshiva_pre_from_age_20_30=0.52\n",
    "    \n",
    "    \n",
    "    print(\"student_yeshiva before: \",forecast['student_yeshiva'].sum()) \n",
    "\n",
    "    \n",
    "\n",
    "    total_student_yeshiva=forecast.query('jew==1')[['pop_20','pop_25']].sum().sum()*student_yeshiva_pre_from_age_20_30\n",
    "\n",
    "    print(\"student_yeshiva after: \",total_student_yeshiva)\n",
    "\n",
    "    \n",
    "\n",
    "    forecast['student_yeshiva_pre']=forecast['student_yeshiva']/forecast['student_yeshiva'].sum().item()\n",
    "    \n",
    "    ## תעסוקה בעקבות ישיבה \n",
    "    \n",
    "    forecast['student_yeshiva_vs_yeshiva_emp']=forecast['student_yeshiva']/forecast['emp_from_Yeshiva_student']\n",
    "    \n",
    "    forecast['student_yeshiva_growth']=(forecast['student_yeshiva_pre']*total_student_yeshiva)/forecast['student_yeshiva']\n",
    "    \n",
    "    forecast['student_yeshiva']=forecast['student_yeshiva_pre']*total_student_yeshiva\n",
    "    \n",
    "    print(\"student_yeshiva after: \",forecast['student_yeshiva'].sum())\n",
    "\n",
    "    print(\"emp_from_Yeshiva_student before: \",forecast['emp_from_Yeshiva_student'].sum()) \n",
    "\n",
    "    forecast['emp_from_Yeshiva_student']=forecast['student_yeshiva']/forecast['student_yeshiva_vs_yeshiva_emp']\n",
    "    \n",
    "    print(\"emp_from_Yeshiva_student after: \",forecast['emp_from_Yeshiva_student'].sum())\n",
    "\n",
    "   \n",
    "    ##תוספת בפנימיות בישיבות\n",
    "    print_before('yeshiva_dorms_pop_sum')\n",
    "\n",
    "    forecast['yeshiva_dorms_pop_15']=forecast['yeshiva_dorms_pop_15']*forecast['student_yeshiva_growth']\n",
    "    forecast['yeshiva_dorms_pop_20']=forecast['yeshiva_dorms_pop_20']*forecast['student_yeshiva_growth']\n",
    "    forecast['yeshiva_dorms_pop_25']=forecast['yeshiva_dorms_pop_25']*forecast['student_yeshiva_growth']\n",
    "    col_dorms_yeshiva=['yeshiva_dorms_pop_15', 'yeshiva_dorms_pop_20', 'yeshiva_dorms_pop_25']\n",
    "    forecast['yeshiva_dorms_pop_sum']=forecast[col_dorms_yeshiva].sum(axis=1)\n",
    "    \n",
    "    print_after('yeshiva_dorms_pop_sum')\n",
    "\n",
    "    ## כוללים \n",
    "\n",
    "    forecast['kollim_demand']=(forecast['pop_20']*0.8+forecast['pop_25']*0.65+forecast['pop_30']*0.30+forecast['pop_35']*0.30+forecast['pop_40']*0.30+forecast['pop_45']*0.20+forecast['pop_50']*0.20+forecast['pop_55']*0.20+forecast['pop_60']*0.20)*0.5 #הכפלה בחצי בשביל לקבל אוכלוסיית גברים מעורכת\n",
    "\n",
    "    forecast.loc[forecast['main_secto']!='U_Orthodox','kollim_demand']=0  #אל אף שאנחנו יודעים שיש כוללים באזורים שהם לא מוגדרים כחרדים\n",
    "\n",
    "    forecast['add_from_kollim_demand']=0\n",
    "\n",
    "    forecast.loc[(forecast['main_secto']=='U_Orthodox')&(forecast['kollim_demand']>forecast['student_yeshiva']),'add_from_kollim_demand']=forecast['kollim_demand']-forecast['student_yeshiva']\n",
    "\n",
    "    forecast['student_yeshiva_and_kollim']=forecast['add_from_kollim_demand']+forecast['student_yeshiva']\n",
    "    \n",
    "    \n",
    "    forecast=forecast.fillna(0)\n",
    "\n",
    "\n",
    "\n",
    "    ## תעסוקה סך חינוך \n",
    "\n",
    "    forecast['emp_Education']=forecast['emp_from_student']+forecast['emp_from_Yeshiva_student']+forecast['emp_from_uni_student']\n",
    "    \n",
    "    print_after('emp_Education')\n",
    "\n",
    "    emp_Education=forecast.query('main_secto!=\"Palestinian\"')['emp_Education'].sum().item()\n",
    "    \n",
    "    print(\"emp_Education: \",round(emp_Education,0))\n",
    "\n",
    "    \n",
    "    #אזורי תנועה שלא צריכים עוקב\n",
    "    \n",
    "    \n",
    "\n",
    "    EMP_buffer=EMP_kibolet.set_geometry('geometry_buff').query('F{} > 0'.format(y))\n",
    "\n",
    "    EMP_buffer=EMP_buffer.dissolve()[['geometry_buff']]\n",
    "\n",
    "    emp_buffer_taz=gpd.overlay(EMP_buffer,taz)\n",
    "\n",
    "    emp_buffer_taz['emp_samll_area']=emp_buffer_taz.area\n",
    "\n",
    "    emp_buffer_taz['emp_pre_from_taz']=emp_buffer_taz['emp_samll_area']/emp_buffer_taz['taz_area']\n",
    "\n",
    "    taz_num_no_need_okev=emp_buffer_taz.loc[emp_buffer_taz['emp_pre_from_taz']>0.4].Taz_num.to_list()\n",
    "    \n",
    "    \n",
    "    forecast['okev']=0\n",
    "    \n",
    "    forecast.loc[(~forecast['Taz_num'].isin(taz_num_no_need_okev))&(taz['main_secto']!=\"Palestinia\"),'okev']=1\n",
    "\n",
    "    forecast.loc[forecast['main_secto']==\"arabs_behined_seperation_wall\",'okev']=1\n",
    "    \n",
    "    \n",
    "    ## יצירת תעסוקה כנגזר מעוקב\n",
    "\n",
    "    \n",
    "    forecast['emp_okev']=0\n",
    "\n",
    "    forecast.loc[(forecast['jew']==0)&(forecast['okev']==1),'emp_okev']=forecast['aprt']*okev_factor.loc['arab','city']\n",
    "\n",
    "    forecast.loc[(forecast['main_secto']==\"U_Orthodox\")&(~forecast['Muni_Heb'].isin(city_muni))&(forecast['okev']==1),'emp_okev']=forecast['aprt']*okev_factor.loc['U_Orthodox','sub']\n",
    "\n",
    "    forecast.loc[(forecast['main_secto']==\"U_Orthodox\")&(forecast['Muni_Heb'].isin(city_muni))&(forecast['okev']==1),'emp_okev']=forecast['aprt']*okev_factor.loc['U_Orthodox','city']\n",
    "\n",
    "    forecast.loc[(forecast['main_secto']==\"Jewish\")&(forecast['Muni_Heb'].isin(city_muni))&(forecast['okev']==1),'emp_okev']=forecast['aprt']*okev_factor.loc['Jewish','city']\n",
    "\n",
    "    forecast.loc[(forecast['main_secto']==\"Jewish\")&(~forecast['Muni_Heb'].isin(city_muni))&(forecast['okev']==1),'emp_okev']=forecast['aprt']*okev_factor.loc['Jewish','sub']\n",
    "\n",
    "    emp_okev=forecast['emp_okev'].sum().item()\n",
    "    \n",
    "    print(\"emp_okev: \",round(emp_okev,0))\n",
    "    \n",
    "    ##  הוספת סטודנטים  לאוכלוסיה ולהתפלגות גילים והוספת תלמידי ישיבה (באזורים חרדיים)\n",
    "\n",
    "    ## הוספת סטודנטים לאוכלוסיה ולהתפלגות גילים\n",
    "\n",
    "    forecast=forecast.fillna(0)\n",
    "\n",
    "    forecast['pop_without_dorms_yeshiva']=forecast['pop']\n",
    "\n",
    "    forecast['pop']=forecast['pop']+forecast['student_dorms']\n",
    "\n",
    "    forecast['pop_20_just_from_aprt']=forecast['pop_20']\n",
    "\n",
    "    forecast['pop_25_just_from_aprt']=forecast['pop_25']\n",
    "\n",
    "    forecast['pop_20']=forecast['pop_20']+forecast['student_dorms']*0.6\n",
    "\n",
    "    forecast['pop_25']=forecast['pop_25']+forecast['student_dorms']*0.4\n",
    "\n",
    "    ## הוספת תלמידי ישיבה (באזורים חרדיים) אל כמות אוכלוסיה,התפלגות גילים \n",
    "\n",
    "    forecast['pop_15_just_from_aprt']=forecast['pop_15']\n",
    "    \n",
    "    \n",
    "    forecast.loc[forecast['main_secto']==\"U_Orthodox\",'pop']=forecast['pop']+forecast['yeshiva_dorms_pop_sum']\n",
    "\n",
    "    forecast.loc[forecast['main_secto']==\"U_Orthodox\",'pop_15']=forecast['pop_15']+forecast['yeshiva_dorms_pop_15']\n",
    "\n",
    "    forecast.loc[forecast['main_secto']==\"U_Orthodox\",'pop_20']=forecast['pop_20']+forecast['yeshiva_dorms_pop_20']\n",
    "    \n",
    "    forecast.loc[forecast['main_secto']==\"U_Orthodox\",'pop_25']=forecast['pop_25']+forecast['yeshiva_dorms_pop_25']\n",
    "\n",
    "    ## הוספת סטודנטים אל כמות משקי בית\n",
    "\n",
    "    forecast=forecast.fillna(0)\n",
    "\n",
    "    forecast['hh']=forecast['aprt']+forecast['student_dorms']/1.5\n",
    "\n",
    "    forecast['hh']=forecast['hh']+forecast['yeshiva_dorms_pop_sum']\n",
    "    \n",
    "   \n",
    "    ## יצירת מסגרת מועסקים למרחב\n",
    "\n",
    "\n",
    "\n",
    "    forecast['work_age']=forecast[work_age].sum(axis=1)\n",
    "\n",
    "    forecast['under_work_age']=forecast[under_work_age].sum(axis=1)\n",
    "\n",
    "    forecast['over_work_age']=forecast[over_work_age].sum(axis=1)\n",
    "\n",
    "    sector=['U_Orthodox','Jewish','Arab','arabs_behined_seperation_wall']\n",
    "    \n",
    "    for s in sector:\n",
    "        \n",
    "        work_age_factor_woman=work_factor.loc[(work_factor.index==s) & (work_factor['age']=='work_age') & (work_factor['gender']=='woman')& (work_factor['year']==int(y)),'value'].item()\n",
    "        work_age_factor_man=work_factor.loc[(work_factor.index==s) & (work_factor['age']=='work_age') & (work_factor['gender']=='man')& (work_factor['year']==int(y)),'value'].item()\n",
    "        under_work_age_factor_woman=work_factor.loc[(work_factor.index==s) & (work_factor['age']=='under_work_age') & (work_factor['gender']=='woman')& (work_factor['year']==int(y)),'value'].item()\n",
    "        under_work_age_factor_man=work_factor.loc[(work_factor.index==s) & (work_factor['age']=='under_work_age') & (work_factor['gender']=='man')& (work_factor['year']==int(y)),'value'].item()\n",
    "        over_work_age_factor_woman=work_factor.loc[(work_factor.index==s) & (work_factor['age']=='over_work_age') & (work_factor['gender']=='woman')& (work_factor['year']==int(y)),'value'].item()\n",
    "        over_work_age_factor_man=work_factor.loc[(work_factor.index==s) & (work_factor['age']=='over_work_age') & (work_factor['gender']=='man')& (work_factor['year']==int(y)),'value'].item()\n",
    "        \n",
    "        \n",
    "        forecast.loc[forecast['main_secto']==s,'pop_emp']=forecast['work_age']*pre_woman*work_age_factor_woman+forecast['work_age']*pre_man*work_age_factor_man\n",
    "        forecast.loc[forecast['main_secto']==s,'pop_emp']=forecast['pop_emp']+forecast['under_work_age']*pre_woman*under_work_age_factor_woman+forecast['under_work_age']*pre_man*under_work_age_factor_man\n",
    "        forecast.loc[forecast['main_secto']==s,'pop_emp']=forecast['pop_emp']+forecast['over_work_age']*pre_woman*over_work_age_factor_woman+forecast['over_work_age']*pre_man*over_work_age_factor_man\n",
    "\n",
    "    \n",
    "\n",
    "    \n",
    "        \n",
    "    ## חישוב אבטלה\n",
    "\n",
    "    forecast['pop_emp_employed']=0\n",
    "\n",
    "    forecast.loc[forecast['main_secto']==\"U_Orthodox\",'pop_emp_employed']=forecast['pop_emp']*0.96\n",
    "\n",
    "    forecast.loc[forecast['main_secto']==\"Jewish\",'pop_emp_employed']=forecast['pop_emp']*0.97\n",
    "\n",
    "    forecast.loc[forecast['jew']==0,'pop_emp_employed']=forecast['pop_emp']*0.96\n",
    "\n",
    "    ## חישוב יוממות\n",
    "\n",
    "\n",
    "    forecast=forecast.set_index('Taz_num')\n",
    "\n",
    "    forecast['commuting']=gpd.sjoin(make_point(taz)[['Taz_num','centroid']],commuting[['commuting', 'geometry']]).set_index('Taz_num')['commuting']/100\n",
    "\n",
    "    forecast['pop_emp_employed_out_of_jtmt_area']=forecast['pop_emp_employed']*forecast['commuting']\n",
    "\n",
    "    emp_from_jtmt_area=forecast['pop_emp_employed'].sum().item()-forecast['pop_emp_employed_out_of_jtmt_area'].sum().item()\n",
    "\n",
    "    emp_in_jtmt_area=emp_from_jtmt_area*1.06 #יוממות פנימה מחוץ למרחב\n",
    "\n",
    "    emp_in_jtmt_area_without_mobile=emp_in_jtmt_area*0.94 #הפחחת עובדים ניידים\n",
    "    \n",
    "    \n",
    "    print(\"emp_in_jtmt_area_without_mobile: \",round(emp_in_jtmt_area_without_mobile,0))\n",
    "    \n",
    "    ## יצירת תעסוקה לא עוקב\n",
    "\n",
    "    \n",
    "\n",
    "    add_emp_not_okev=emp_in_jtmt_area_without_mobile-emp_Education-emp_okev-emp_not_okev_current\n",
    "    \n",
    "    print(\"add_emp_not_okev: \",round(add_emp_not_okev,0))\n",
    "    \n",
    "    print(\"emp_not_okev_current before: \",round(emp_not_okev_current,0))\n",
    "    \n",
    "    print(\"emp_not_okev_current that should be: \",round(emp_not_okev_current+add_emp_not_okev,0))\n",
    "    \n",
    "\n",
    "    \n",
    "    \n",
    "    add_emp_not_okev_kibolet=EMP_kibolet['F{}'.format(y)].sum().item()-emp_not_okev_current\n",
    "    \n",
    "    \n",
    "    \n",
    "    print(\"add_emp_not_okev_kibolet: \",round(add_emp_not_okev_kibolet,0))\n",
    "    \n",
    "    add_emp_not_okev_filling=add_emp_not_okev/add_emp_not_okev_kibolet\n",
    "    \n",
    "    print(\"add_emp_not_okev_filling: \",round(add_emp_not_okev_filling,2))\n",
    "\n",
    "    \n",
    "    \n",
    "    EMP_kibolet['emp_current']=(EMP_kibolet['F{}'.format(y)]-EMP_kibolet['emp_current'])*add_emp_not_okev_filling+EMP_kibolet['emp_current']\n",
    "    \n",
    "    \n",
    "    \n",
    "    emp_not_okev_current=EMP_kibolet['emp_current'].sum().item()\n",
    "    \n",
    "    print(\"emp_not_okev_current after: \",round(emp_not_okev_current,0))\n",
    "\n",
    "    # EMP_kibolet.to_excel(r'W:\\Projects\\הסעת המונים\\01_שלב ה\\קבצי עבודה\\תחזיות_דמוגרפיות\\תחזיות_2050\\טבלאות בקרה\\EMP_kibolet_{}_for_review_{}.xlsx'.format(y,file_date))\n",
    "    EMP_kibolet.to_excel(r'{}\\Intermediates\\EMP_kibolet_{}_for_review_{}.xlsx'.format(software_data_folder_location,y,file_date))\n",
    "\n",
    "    \n",
    "    col=['Taz_num','ID','prec_from_id']\n",
    "\n",
    "    df=EMP_kibolet_by_taz.reset_index()[col].merge(EMP_kibolet,on='ID',how='left')\n",
    "\n",
    "    df['emp_current']=df['emp_current']*df['prec_from_id']\n",
    "\n",
    "    forecast['emp_not_okev']=df.pivot_table(index='Taz_num',aggfunc=sum)[['emp_current']]\n",
    "    \n",
    "    \n",
    "    \n",
    "    print(\"emp_not_okev_current after coversion to taz: \",round(forecast['emp_not_okev'].sum().item(),0))\n",
    "\n",
    "    \n",
    "\n",
    "    forecast=forecast.fillna(0)\n",
    "\n",
    "    forecast['total_emp']=forecast['emp_not_okev']+forecast['emp_okev']+forecast['emp_Education']\n",
    "\n",
    "\n",
    "    \n",
    "    #הסיבה להפרדה כי המקדם השתתפות בעבודה באזורים לא חרדיים גבוהה מידי בשביל התלמידי ישיבה\n",
    "    forecast.loc[forecast['main_secto']!=\"U_Orthodox\",'pop']=forecast['pop']+forecast['yeshiva_dorms_pop_sum']\n",
    "\n",
    "    forecast.loc[forecast['main_secto']!=\"U_Orthodox\",'pop_15']=forecast['pop_15']+forecast['yeshiva_dorms_pop_15']\n",
    "\n",
    "    forecast.loc[forecast['main_secto']!=\"U_Orthodox\",'pop_20']=forecast['pop_20']+forecast['yeshiva_dorms_pop_20']\n",
    "    \n",
    "    forecast.loc[forecast['main_secto']!=\"U_Orthodox\",'pop_25']=forecast['pop_25']+forecast['yeshiva_dorms_pop_25']\n",
    "    \n",
    "    \n",
    "    \n",
    "    col=['agri', 'Indus', 'Com_hotel', 'Business', 'Public']\n",
    "\n",
    "    forecast=forecast.join(emp_category_type[col]).fillna(0)\n",
    "\n",
    "    for i in col:\n",
    "        forecast['{}'.format(i)]=forecast['{}'.format(i)]*(forecast['emp_not_okev']+forecast['emp_okev'])\n",
    "        \n",
    "    forecast['yosh']=0\n",
    "\n",
    "    forecast.loc[forecast['zonetype']=='Judea and Samaria','yosh']=1\n",
    "\n",
    "    forecast['jerusalem_city']=0\n",
    "\n",
    "    forecast.loc[forecast['in_jerusal']=='yes','jerusalem_city']=1\n",
    "\n",
    "    forecast=forecast.reset_index()\n",
    "    \n",
    "    col=['Taz_num',\n",
    "     'Taz_name',\n",
    "     'Muni_Heb',\n",
    "     'jeru_metro',\n",
    "     'zonetype',\n",
    "     'in_jerusal',\n",
    "     'main_secto','jew',\n",
    "     'student_dorms',\n",
    "     'student_yeshiva',\n",
    "     'student',\n",
    "     'uni_students','emp_from_uni_student','emp_from_Yeshiva_student','yeshiva_dorms_pop_15',\n",
    "     'yeshiva_dorms_pop_20',\n",
    "     'yeshiva_dorms_pop_25',\n",
    "     'yeshiva_dorms_pop_sum']\n",
    "    \n",
    "    forecast_current=forecast[col]\n",
    "    \n",
    "    \n",
    "       ## ייצוא תחזית בפורמט\n",
    "\n",
    "    col=['Taz_num',\n",
    "    'yosh',\n",
    "    'jeru_metro',\n",
    "    'jerusalem_city',\n",
    "    'main_secto',\n",
    "    'hh',\n",
    "    'pop',\n",
    "    'pop_0',\n",
    "    'pop_5',\n",
    "    'pop_10',\n",
    "    'pop_15',\n",
    "    'pop_20',\n",
    "    'pop_25',\n",
    "    'pop_30',\n",
    "    'pop_35',\n",
    "    'pop_40',\n",
    "    'pop_45',\n",
    "    'pop_50',\n",
    "    'pop_55',\n",
    "    'pop_60',\n",
    "    'pop_65',\n",
    "    'pop_70',\n",
    "    'pop_75up',\n",
    "    'total_emp',\n",
    "    'Indus',\n",
    "    'Com_hotel',\n",
    "    'Business',\n",
    "    'Public',\n",
    "    'emp_Education',\n",
    "    'agri',\n",
    "    'student',\n",
    "    'uni_students',\n",
    "    'student_yeshiva_and_kollim',\n",
    "    'pop_emp_employed']\n",
    "\n",
    "    col_new_name=['TAZ',\n",
    "    'yosh',\n",
    "    'in_jerusalem_metropolin',\n",
    "    'jerusalem_city',\n",
    "    'sector',\n",
    "    'hh_total',\n",
    "    'pop',\n",
    "    'age0_4',\n",
    "    'age5_9',\n",
    "    'age10_14',\n",
    "    'age15_19',\n",
    "    'age20_24',\n",
    "    'age25_29',\n",
    "    'age30_34',\n",
    "    'age35_39',\n",
    "    'age40_44',\n",
    "    'age45_49',\n",
    "    'age50_54',\n",
    "    'age55_59',\n",
    "    'age60_64',\n",
    "    'age65_69',\n",
    "    'age70_74',\n",
    "    'age75up',\n",
    "    'emp_tot',\n",
    "    'indus',\n",
    "    'com_hotel',\n",
    "    'business',\n",
    "    'public',\n",
    "    'education',\n",
    "    'agri',\n",
    "    'student',\n",
    "    'univ',\n",
    "    'UO_Hi_Ed',\n",
    "    'pop_emp_employed']\n",
    "\n",
    "    forecast_for_model=forecast[col]\n",
    "\n",
    "    forecast_for_model.columns=col_new_name\n",
    "    \n",
    "    # save_file_path=r'W:\\Projects\\הסעת המונים\\01_שלב ה\\קבצי עבודה\\תחזיות_דמוגרפיות\\תחזיות_2050\\jtmt\\join_forecast'\n",
    "    save_file_path=r'{}\\Intermediates'.format(software_data_folder_location)\n",
    "    \n",
    "    save_excel_path=r'{}\\{}_forecast_{}.xlsx'.format(save_file_path,file_date,y)\n",
    "\n",
    "    forecast_for_model.to_excel(save_excel_path,index=False)\n",
    "    \n",
    "    logic_test_for_forecast(forecast_for_model)\n",
    "    \n",
    "    save_excel_path=r'{}\\{}_forecast_{}_full.xlsx'.format(save_file_path,file_date,y)\n",
    "\n",
    "    forecast.to_excel(save_excel_path,index=False)"
   ]
  },
  {
   "cell_type": "markdown",
   "id": "5e2e5fa3",
   "metadata": {
    "heading_collapsed": true
   },
   "source": [
    "## תוצאות"
   ]
  }
 ],
 "metadata": {
  "kernelspec": {
   "display_name": "Python 3 (ipykernel)",
   "language": "python",
   "name": "python3"
  },
  "language_info": {
   "codemirror_mode": {
    "name": "ipython",
    "version": 3
   },
   "file_extension": ".py",
   "mimetype": "text/x-python",
   "name": "python",
   "nbconvert_exporter": "python",
   "pygments_lexer": "ipython3",
   "version": "3.11.5"
  },
  "toc": {
   "base_numbering": 1,
   "nav_menu": {},
   "number_sections": true,
   "sideBar": true,
   "skip_h1_title": false,
   "title_cell": "Table of Contents",
   "title_sidebar": "Contents",
   "toc_cell": false,
   "toc_position": {
    "height": "calc(100% - 180px)",
    "left": "10px",
    "top": "150px",
    "width": "480px"
   },
   "toc_section_display": true,
   "toc_window_display": true
  }
 },
 "nbformat": 4,
 "nbformat_minor": 5
}
