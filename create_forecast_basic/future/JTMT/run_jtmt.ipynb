{
 "cells": [
  {
   "cell_type": "code",
   "execution_count": 1,
   "id": "af975c22",
   "metadata": {},
   "outputs": [],
   "source": [
    "import os\n",
    "\n",
    "def delete_folder_contents(folder_path):\n",
    "    for filename in os.listdir(folder_path):\n",
    "        file_path = os.path.join(folder_path, filename)\n",
    "        # Check if the path is a file or directory\n",
    "        if os.path.isfile(file_path):\n",
    "            # If it's a file, delete it\n",
    "            os.remove(file_path)\n",
    "        elif os.path.isdir(file_path):\n",
    "            # If it's a directory, recursively delete its contents\n",
    "            delete_folder_contents(file_path)\n",
    "            # After deleting the contents, remove the directory itself\n",
    "            os.rmdir(file_path)\n",
    "\n",
    "folder_path = './Intermediates'\n",
    "delete_folder_contents(folder_path)"
   ]
  },
  {
   "cell_type": "code",
   "execution_count": 2,
   "id": "8904524c",
   "metadata": {},
   "outputs": [
    {
     "name": "stdout",
     "output_type": "stream",
     "text": [
      "['c:\\\\Users\\\\dpere\\\\Documents\\\\JTMT\\\\forecast_git\\\\create_forecast_basic\\\\background_files\\\\TAZ_V4_240404_with_geo_info.cpg', 'c:\\\\Users\\\\dpere\\\\Documents\\\\JTMT\\\\forecast_git\\\\create_forecast_basic\\\\background_files\\\\TAZ_V4_240404_with_geo_info.dbf', 'c:\\\\Users\\\\dpere\\\\Documents\\\\JTMT\\\\forecast_git\\\\create_forecast_basic\\\\background_files\\\\TAZ_V4_240404_with_geo_info.prj', 'c:\\\\Users\\\\dpere\\\\Documents\\\\JTMT\\\\forecast_git\\\\create_forecast_basic\\\\background_files\\\\TAZ_V4_240404_with_geo_info.sbn', 'c:\\\\Users\\\\dpere\\\\Documents\\\\JTMT\\\\forecast_git\\\\create_forecast_basic\\\\background_files\\\\TAZ_V4_240404_with_geo_info.sbx', 'c:\\\\Users\\\\dpere\\\\Documents\\\\JTMT\\\\forecast_git\\\\create_forecast_basic\\\\background_files\\\\TAZ_V4_240404_with_geo_info.shp', 'c:\\\\Users\\\\dpere\\\\Documents\\\\JTMT\\\\forecast_git\\\\create_forecast_basic\\\\background_files\\\\TAZ_V4_240404_with_geo_info.shx', 'c:\\\\Users\\\\dpere\\\\Documents\\\\JTMT\\\\forecast_git\\\\create_forecast_basic\\\\background_files\\\\TAZ_V4_240404_with_geo_info.Taz_num.atx', 'c:\\\\Users\\\\dpere\\\\Documents\\\\JTMT\\\\forecast_git\\\\create_forecast_basic\\\\background_files\\\\TAZ_V4_240408_with_geo_info.cpg', 'c:\\\\Users\\\\dpere\\\\Documents\\\\JTMT\\\\forecast_git\\\\create_forecast_basic\\\\background_files\\\\TAZ_V4_240408_with_geo_info.dbf', 'c:\\\\Users\\\\dpere\\\\Documents\\\\JTMT\\\\forecast_git\\\\create_forecast_basic\\\\background_files\\\\TAZ_V4_240408_with_geo_info.prj', 'c:\\\\Users\\\\dpere\\\\Documents\\\\JTMT\\\\forecast_git\\\\create_forecast_basic\\\\background_files\\\\TAZ_V4_240408_with_geo_info.shp', 'c:\\\\Users\\\\dpere\\\\Documents\\\\JTMT\\\\forecast_git\\\\create_forecast_basic\\\\background_files\\\\TAZ_V4_240408_with_geo_info.shx', 'c:\\\\Users\\\\dpere\\\\Documents\\\\JTMT\\\\forecast_git\\\\create_forecast_basic\\\\background_files\\\\TAZ_V4_240408_with_geo_info.xlsx']\n"
     ]
    },
    {
     "name": "stderr",
     "output_type": "stream",
     "text": [
      "C:\\Users\\dpere\\AppData\\Local\\Temp\\ipykernel_22888\\2960630682.py:1: FutureWarning: Setting an item of incompatible dtype is deprecated and will raise in a future error of pandas. Value 'Shrinkable' has dtype incompatible with int64, please explicitly cast to a compatible dtype first.\n",
      "  Jewish_kibolt_some_by_taz.loc[Jewish_kibolt_some_by_taz['kibolet_type']==1,'kibolet_type']='Shrinkable'\n",
      "c:\\Users\\dpere\\miniconda3\\envs\\creat_forecast_ad_hoc_env\\Lib\\site-packages\\openpyxl\\worksheet\\_read_only.py:79: UserWarning: Data Validation extension is not supported and will be removed\n",
      "  for idx, row in parser.parse():\n",
      "c:\\Users\\dpere\\miniconda3\\envs\\creat_forecast_ad_hoc_env\\Lib\\site-packages\\geopandas\\geodataframe.py:2469: UserWarning: `keep_geom_type=True` in overlay resulted in 13 dropped geometries of different geometry types than df1 has. Set `keep_geom_type=False` to retain all geometries\n",
      "  return geopandas.overlay(\n"
     ]
    }
   ],
   "source": [
    "%run \"./join_kibolt_2050_Jewish_230707.ipynb\""
   ]
  },
  {
   "cell_type": "code",
   "execution_count": 3,
   "id": "1600bbbd",
   "metadata": {},
   "outputs": [
    {
     "name": "stdout",
     "output_type": "stream",
     "text": [
      "['c:\\\\Users\\\\dpere\\\\Documents\\\\JTMT\\\\forecast_git\\\\create_forecast_basic\\\\current\\\\Intermediates\\\\240417_age_dis_type.xlsx', 'c:\\\\Users\\\\dpere\\\\Documents\\\\JTMT\\\\forecast_git\\\\create_forecast_basic\\\\current\\\\Intermediates\\\\forecast_2020_240417_age_dis_type.xlsx', 'c:\\\\Users\\\\dpere\\\\Documents\\\\JTMT\\\\forecast_git\\\\create_forecast_basic\\\\current\\\\Intermediates\\\\forecast_2020_240418_age_dis_type.xlsx']\n",
      "['C:\\\\Users\\\\dpere\\\\Documents\\\\JTMT\\\\forecast_by_version\\\\V4\\\\BASE_YEAR\\\\2020_jtmt_forcast_full_240417.xlsx', 'C:\\\\Users\\\\dpere\\\\Documents\\\\JTMT\\\\forecast_by_version\\\\V4\\\\BASE_YEAR\\\\2020_jtmt_forcast_full_240418.xlsx']\n",
      "['c:\\\\Users\\\\dpere\\\\Documents\\\\JTMT\\\\forecast_git\\\\create_forecast_basic\\\\future\\\\JTMT\\\\Intermediates\\\\240501_kibolt_jew_till_2050.xlsx']\n"
     ]
    },
    {
     "name": "stderr",
     "output_type": "stream",
     "text": [
      "C:\\Users\\dpere\\AppData\\Local\\Temp\\ipykernel_22888\\3230735152.py:6: FutureWarning: Setting an item of incompatible dtype is deprecated and will raise in a future error of pandas. Value ' | new diverse neighborhood | ' has dtype incompatible with float64, please explicitly cast to a compatible dtype first.\n",
      "  taz_2020_catalog.loc[\n",
      "C:\\Users\\dpere\\AppData\\Local\\Temp\\ipykernel_22888\\3230735152.py:6: FutureWarning: Setting an item of incompatible dtype is deprecated and will raise in a future error of pandas. Value ' | new diverse neighborhood | ' has dtype incompatible with float64, please explicitly cast to a compatible dtype first.\n",
      "  taz_2020_catalog.loc[\n",
      "C:\\Users\\dpere\\AppData\\Local\\Temp\\ipykernel_22888\\3230735152.py:6: FutureWarning: Setting an item of incompatible dtype is deprecated and will raise in a future error of pandas. Value ' | new diverse neighborhood | ' has dtype incompatible with float64, please explicitly cast to a compatible dtype first.\n",
      "  taz_2020_catalog.loc[\n",
      "C:\\Users\\dpere\\AppData\\Local\\Temp\\ipykernel_22888\\3230735152.py:6: FutureWarning: Setting an item of incompatible dtype is deprecated and will raise in a future error of pandas. Value ' | new diverse neighborhood | ' has dtype incompatible with float64, please explicitly cast to a compatible dtype first.\n",
      "  taz_2020_catalog.loc[\n",
      "C:\\Users\\dpere\\AppData\\Local\\Temp\\ipykernel_22888\\3230735152.py:6: FutureWarning: Setting an item of incompatible dtype is deprecated and will raise in a future error of pandas. Value ' | new diverse neighborhood | ' has dtype incompatible with float64, please explicitly cast to a compatible dtype first.\n",
      "  taz_2020_catalog.loc[\n",
      "C:\\Users\\dpere\\AppData\\Local\\Temp\\ipykernel_22888\\3230735152.py:6: FutureWarning: Setting an item of incompatible dtype is deprecated and will raise in a future error of pandas. Value ' | new diverse neighborhood | ' has dtype incompatible with float64, please explicitly cast to a compatible dtype first.\n",
      "  taz_2020_catalog.loc[\n"
     ]
    }
   ],
   "source": [
    "%run \"./create_age_distribution_230719.ipynb\""
   ]
  },
  {
   "cell_type": "code",
   "execution_count": 4,
   "id": "58fd2dc7",
   "metadata": {},
   "outputs": [
    {
     "name": "stdout",
     "output_type": "stream",
     "text": [
      "['c:\\\\Users\\\\dpere\\\\Documents\\\\JTMT\\\\forecast_git\\\\create_forecast_basic\\\\future\\\\JTMT\\\\Intermediates\\\\240501_forecast_pop_jewish_2020_2025_jtmt.xlsx']\n"
     ]
    }
   ],
   "source": [
    "%run \"./230709_join_arab_jew_pop.ipynb\""
   ]
  }
 ],
 "metadata": {
  "kernelspec": {
   "display_name": "Python 3 (ipykernel)",
   "language": "python",
   "name": "python3"
  },
  "language_info": {
   "codemirror_mode": {
    "name": "ipython",
    "version": 3
   },
   "file_extension": ".py",
   "mimetype": "text/x-python",
   "name": "python",
   "nbconvert_exporter": "python",
   "pygments_lexer": "ipython3",
   "version": "3.11.5"
  },
  "toc": {
   "base_numbering": 1,
   "nav_menu": {},
   "number_sections": true,
   "sideBar": true,
   "skip_h1_title": false,
   "title_cell": "Table of Contents",
   "title_sidebar": "Contents",
   "toc_cell": false,
   "toc_position": {},
   "toc_section_display": true,
   "toc_window_display": false
  }
 },
 "nbformat": 4,
 "nbformat_minor": 5
}
