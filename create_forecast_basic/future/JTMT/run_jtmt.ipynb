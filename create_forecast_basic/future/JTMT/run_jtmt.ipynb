{
 "cells": [
  {
   "cell_type": "code",
   "execution_count": null,
   "id": "8904524c",
   "metadata": {},
   "outputs": [],
   "source": [
    "%run \"W:\\Projects\\הסעת המונים\\01_שלב ה\\קבצי עבודה\\תחזיות_דמוגרפיות\\תחזיות_2050\\קוד\\join_kibolt_2050_Jewish_230707.ipynb\""
   ]
  },
  {
   "cell_type": "code",
   "execution_count": null,
   "id": "1600bbbd",
   "metadata": {},
   "outputs": [],
   "source": [
    "%run \"W:\\Data\\Forecast\\creat_age_distribution\\v_1\\code\\create_age_distribution_230719.ipynb\""
   ]
  },
  {
   "cell_type": "code",
   "execution_count": null,
   "id": "58fd2dc7",
   "metadata": {},
   "outputs": [],
   "source": [
    "%run \"W:\\Projects\\הסעת המונים\\01_שלב ה\\קבצי עבודה\\תחזיות_דמוגרפיות\\תחזיות_2050\\קוד\\230709_join_arab_jew_pop.ipynb\""
   ]
  },
  {
   "cell_type": "code",
   "execution_count": null,
   "id": "8a55b775",
   "metadata": {},
   "outputs": [],
   "source": [
    "%run \"W:\\Projects\\הסעת המונים\\01_שלב ה\\קבצי עבודה\\תחזיות_דמוגרפיות\\תחזיות_2050\\קוד\\creat_forecast_2050_230719.ipynb\""
   ]
  },
  {
   "cell_type": "code",
   "execution_count": null,
   "id": "c68026cf",
   "metadata": {},
   "outputs": [],
   "source": [
    "%run \"W:\\Projects\\הסעת המונים\\01_שלב ה\\קבצי עבודה\\תחזיות_דמוגרפיות\\תחזיות_2050\\jtmt\\join_forecast\\join_forecast.ipynb\""
   ]
  }
 ],
 "metadata": {
  "kernelspec": {
   "display_name": "Python 3 (ipykernel)",
   "language": "python",
   "name": "python3"
  },
  "language_info": {
   "codemirror_mode": {
    "name": "ipython",
    "version": 3
   },
   "file_extension": ".py",
   "mimetype": "text/x-python",
   "name": "python",
   "nbconvert_exporter": "python",
   "pygments_lexer": "ipython3",
   "version": "3.10.4"
  },
  "toc": {
   "base_numbering": 1,
   "nav_menu": {},
   "number_sections": true,
   "sideBar": true,
   "skip_h1_title": false,
   "title_cell": "Table of Contents",
   "title_sidebar": "Contents",
   "toc_cell": false,
   "toc_position": {},
   "toc_section_display": true,
   "toc_window_display": false
  }
 },
 "nbformat": 4,
 "nbformat_minor": 5
}
