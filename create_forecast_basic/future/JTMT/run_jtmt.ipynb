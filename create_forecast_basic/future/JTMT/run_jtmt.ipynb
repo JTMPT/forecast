{
 "cells": [
  {
   "cell_type": "markdown",
   "id": "f3fed03a",
   "metadata": {},
   "source": [
    "### ייבוא ספריות\n"
   ]
  },
  {
   "cell_type": "code",
   "execution_count": null,
   "id": "16d3213a",
   "metadata": {},
   "outputs": [],
   "source": [
    "import os"
   ]
  },
  {
   "cell_type": "code",
   "execution_count": null,
   "id": "af975c22",
   "metadata": {},
   "outputs": [],
   "source": [
    "def delete_folder_contents(folder_path):\n",
    "    # רץ על כל הקבצים והתיקיות בתיקייה.\n",
    "    for filename in os.listdir(folder_path):\n",
    "        file_path = os.path.join(folder_path, filename)\n",
    "        # בודק אם הפריט הוא קובץ או תיקייה.\n",
    "        if os.path.isfile(file_path):\n",
    "            # אם הפריט הוא קובץ, מוחק אותו באמצעות os.remove\n",
    "            os.remove(file_path)\n",
    "        elif os.path.isdir(file_path):\n",
    "            # אם הפריט הוא תיקייה, מוחק את התוכן שלה\n",
    "            delete_folder_contents(file_path)\n",
    "            # מוחק את התיקייה עצמה באמצעות os.rmdir\n",
    "            os.rmdir(file_path)"
   ]
  },
  {
   "cell_type": "markdown",
   "id": "20c877d3",
   "metadata": {},
   "source": [
    "### הגדרת נתיב תיקייה ומחיקת תוכן\n"
   ]
  },
  {
   "cell_type": "code",
   "execution_count": null,
   "id": "a0939247",
   "metadata": {},
   "outputs": [],
   "source": [
    "# מגדיר את הנתיב לתיקייה בשם \"Intermediates\".\n",
    "folder_path = './Intermediates'\n",
    "\n",
    "# קורא לפונקציה delete_folder_contents כדי למחוק את התוכן של התיקייה\n",
    "delete_folder_contents(folder_path)"
   ]
  },
  {
   "cell_type": "code",
   "execution_count": null,
   "id": "8904524c",
   "metadata": {},
   "outputs": [],
   "source": [
    "%run \"./join_kibolt_2050_Jewish_230707.ipynb\""
   ]
  },
  {
   "cell_type": "code",
   "execution_count": null,
   "id": "1600bbbd",
   "metadata": {},
   "outputs": [],
   "source": [
    "%run \"./create_age_distribution_230719.ipynb\""
   ]
  },
  {
   "cell_type": "code",
   "execution_count": null,
   "id": "58fd2dc7",
   "metadata": {},
   "outputs": [],
   "source": [
    "%run \"./230709_join_arab_jew_pop.ipynb\""
   ]
  }
 ],
 "metadata": {
  "kernelspec": {
   "display_name": "Python 3 (ipykernel)",
   "language": "python",
   "name": "python3"
  },
  "language_info": {
   "codemirror_mode": {
    "name": "ipython",
    "version": 3
   },
   "file_extension": ".py",
   "mimetype": "text/x-python",
   "name": "python",
   "nbconvert_exporter": "python",
   "pygments_lexer": "ipython3",
   "version": "3.11.5"
  },
  "toc": {
   "base_numbering": 1,
   "nav_menu": {},
   "number_sections": true,
   "sideBar": true,
   "skip_h1_title": false,
   "title_cell": "Table of Contents",
   "title_sidebar": "Contents",
   "toc_cell": false,
   "toc_position": {},
   "toc_section_display": true,
   "toc_window_display": false
  }
 },
 "nbformat": 4,
 "nbformat_minor": 5
}
