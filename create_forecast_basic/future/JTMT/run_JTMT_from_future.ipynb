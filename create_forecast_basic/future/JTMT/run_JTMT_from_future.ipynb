{
 "cells": [
  {
   "cell_type": "code",
   "execution_count": null,
   "metadata": {},
   "outputs": [],
   "source": [
    "%run \"./join_kibolt_2050_Jewish_230707.ipynb\"\n",
    "%run \"./create_age_distribution_230719.ipynb\"\n",
    "%run \"./230709_join_arab_jew_pop.ipynb\"\n",
    "%run \"./creat_forecast_2050_230719.ipynb\"\n",
    "%run \"./join_forecast.ipynb\""
   ]
  }
 ],
 "metadata": {
  "language_info": {
   "name": "python"
  }
 },
 "nbformat": 4,
 "nbformat_minor": 2
}
