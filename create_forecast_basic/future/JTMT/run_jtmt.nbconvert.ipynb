{
 "cells": [
  {
   "cell_type": "code",
   "execution_count": 1,
   "id": "af975c22",
   "metadata": {
    "execution": {
     "iopub.execute_input": "2024-05-05T16:15:34.038776Z",
     "iopub.status.busy": "2024-05-05T16:15:34.038776Z",
     "iopub.status.idle": "2024-05-05T16:15:34.047152Z",
     "shell.execute_reply": "2024-05-05T16:15:34.047152Z"
    }
   },
   "outputs": [],
   "source": [
    "import os\n",
    "\n",
    "def delete_folder_contents(folder_path):\n",
    "    for filename in os.listdir(folder_path):\n",
    "        file_path = os.path.join(folder_path, filename)\n",
    "        # Check if the path is a file or directory\n",
    "        if os.path.isfile(file_path):\n",
    "            # If it's a file, delete it\n",
    "            os.remove(file_path)\n",
    "        elif os.path.isdir(file_path):\n",
    "            # If it's a directory, recursively delete its contents\n",
    "            delete_folder_contents(file_path)\n",
    "            # After deleting the contents, remove the directory itself\n",
    "            os.rmdir(file_path)\n",
    "\n",
    "folder_path = './Intermediates'\n",
    "delete_folder_contents(folder_path)"
   ]
  },
  {
   "cell_type": "code",
   "execution_count": 2,
   "id": "8904524c",
   "metadata": {
    "execution": {
     "iopub.execute_input": "2024-05-05T16:15:34.050106Z",
     "iopub.status.busy": "2024-05-05T16:15:34.050106Z",
     "iopub.status.idle": "2024-05-05T16:15:36.036275Z",
     "shell.execute_reply": "2024-05-05T16:15:36.036275Z"
    }
   },
   "outputs": [
    {
     "name": "stderr",
     "output_type": "stream",
     "text": [
      "C:\\Users\\dpere\\AppData\\Local\\Temp\\ipykernel_3088\\2960630682.py:1: FutureWarning: Setting an item of incompatible dtype is deprecated and will raise in a future error of pandas. Value 'Shrinkable' has dtype incompatible with int64, please explicitly cast to a compatible dtype first.\n",
      "  Jewish_kibolt_some_by_taz.loc[Jewish_kibolt_some_by_taz['kibolet_type']==1,'kibolet_type']='Shrinkable'\n",
      "C:\\Users\\dpere\\miniconda3\\envs\\creat_forecast_ad_hoc_env\\Lib\\site-packages\\openpyxl\\worksheet\\_read_only.py:79: UserWarning: Data Validation extension is not supported and will be removed\n",
      "  for idx, row in parser.parse():\n"
     ]
    },
    {
     "name": "stderr",
     "output_type": "stream",
     "text": [
      "C:\\Users\\dpere\\miniconda3\\envs\\creat_forecast_ad_hoc_env\\Lib\\site-packages\\geopandas\\geodataframe.py:2469: UserWarning: `keep_geom_type=True` in overlay resulted in 13 dropped geometries of different geometry types than df1 has. Set `keep_geom_type=False` to retain all geometries\n",
      "  return geopandas.overlay(\n"
     ]
    }
   ],
   "source": [
    "%run \"./join_kibolt_2050_Jewish_230707.ipynb\""
   ]
  },
  {
   "cell_type": "code",
   "execution_count": 3,
   "id": "1600bbbd",
   "metadata": {
    "execution": {
     "iopub.execute_input": "2024-05-05T16:15:36.039348Z",
     "iopub.status.busy": "2024-05-05T16:15:36.039348Z",
     "iopub.status.idle": "2024-05-05T16:15:38.977048Z",
     "shell.execute_reply": "2024-05-05T16:15:38.977048Z"
    }
   },
   "outputs": [
    {
     "name": "stderr",
     "output_type": "stream",
     "text": [
      "C:\\Users\\dpere\\AppData\\Local\\Temp\\ipykernel_3088\\3230735152.py:6: FutureWarning: Setting an item of incompatible dtype is deprecated and will raise in a future error of pandas. Value ' | new diverse neighborhood | ' has dtype incompatible with float64, please explicitly cast to a compatible dtype first.\n",
      "  taz_2020_catalog.loc[\n",
      "C:\\Users\\dpere\\AppData\\Local\\Temp\\ipykernel_3088\\3230735152.py:6: FutureWarning: Setting an item of incompatible dtype is deprecated and will raise in a future error of pandas. Value ' | new diverse neighborhood | ' has dtype incompatible with float64, please explicitly cast to a compatible dtype first.\n",
      "  taz_2020_catalog.loc[\n",
      "C:\\Users\\dpere\\AppData\\Local\\Temp\\ipykernel_3088\\3230735152.py:6: FutureWarning: Setting an item of incompatible dtype is deprecated and will raise in a future error of pandas. Value ' | new diverse neighborhood | ' has dtype incompatible with float64, please explicitly cast to a compatible dtype first.\n",
      "  taz_2020_catalog.loc[\n",
      "C:\\Users\\dpere\\AppData\\Local\\Temp\\ipykernel_3088\\3230735152.py:6: FutureWarning: Setting an item of incompatible dtype is deprecated and will raise in a future error of pandas. Value ' | new diverse neighborhood | ' has dtype incompatible with float64, please explicitly cast to a compatible dtype first.\n",
      "  taz_2020_catalog.loc[\n",
      "C:\\Users\\dpere\\AppData\\Local\\Temp\\ipykernel_3088\\3230735152.py:6: FutureWarning: Setting an item of incompatible dtype is deprecated and will raise in a future error of pandas. Value ' | new diverse neighborhood | ' has dtype incompatible with float64, please explicitly cast to a compatible dtype first.\n",
      "  taz_2020_catalog.loc[\n",
      "C:\\Users\\dpere\\AppData\\Local\\Temp\\ipykernel_3088\\3230735152.py:6: FutureWarning: Setting an item of incompatible dtype is deprecated and will raise in a future error of pandas. Value ' | new diverse neighborhood | ' has dtype incompatible with float64, please explicitly cast to a compatible dtype first.\n",
      "  taz_2020_catalog.loc[\n"
     ]
    }
   ],
   "source": [
    "%run \"./create_age_distribution_230719.ipynb\""
   ]
  },
  {
   "cell_type": "code",
   "execution_count": 4,
   "id": "58fd2dc7",
   "metadata": {
    "execution": {
     "iopub.execute_input": "2024-05-05T16:15:38.980402Z",
     "iopub.status.busy": "2024-05-05T16:15:38.979289Z",
     "iopub.status.idle": "2024-05-05T16:15:41.507415Z",
     "shell.execute_reply": "2024-05-05T16:15:41.507415Z"
    }
   },
   "outputs": [],
   "source": [
    "%run \"./230709_join_arab_jew_pop.ipynb\""
   ]
  }
 ],
 "metadata": {
  "kernelspec": {
   "display_name": "Python 3 (ipykernel)",
   "language": "python",
   "name": "python3"
  },
  "language_info": {
   "codemirror_mode": {
    "name": "ipython",
    "version": 3
   },
   "file_extension": ".py",
   "mimetype": "text/x-python",
   "name": "python",
   "nbconvert_exporter": "python",
   "pygments_lexer": "ipython3",
   "version": "3.11.5"
  },
  "toc": {
   "base_numbering": 1,
   "nav_menu": {},
   "number_sections": true,
   "sideBar": true,
   "skip_h1_title": false,
   "title_cell": "Table of Contents",
   "title_sidebar": "Contents",
   "toc_cell": false,
   "toc_position": {},
   "toc_section_display": true,
   "toc_window_display": false
  }
 },
 "nbformat": 4,
 "nbformat_minor": 5
}
