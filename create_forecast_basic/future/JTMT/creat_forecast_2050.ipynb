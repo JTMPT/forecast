{
  "cells": [
    {
      "cell_type": "markdown",
      "id": "0e7214ba",
      "metadata": {
        "heading_collapsed": true
      },
      "source": [
        "## קוד מבוא"
      ]
    },
    {
      "cell_type": "markdown",
      "id": "b7807f76",
      "metadata": {},
      "source": [
        "#### ספריות"
      ]
    },
    {
      "cell_type": "code",
      "execution_count": 300,
      "id": "f8405d52",
      "metadata": {
        "hidden": true
      },
      "outputs": [],
      "source": [
        "import os\n",
        "import sys\n",
        "import pathlib\n",
        "import pandas as pd\n",
        "import geopandas as gpd"
      ]
    },
    {
      "cell_type": "code",
      "execution_count": 301,
      "id": "2dacbc13",
      "metadata": {
        "hidden": true
      },
      "outputs": [],
      "source": [
        "pd.set_option('display.max_rows', None)\n",
        "pd.set_option('display.max_columns', None)"
      ]
    },
    {
      "cell_type": "markdown",
      "id": "7b986fbf",
      "metadata": {},
      "source": [
        "#### העלאת משתנים להרצת הקוד"
      ]
    },
    {
      "cell_type": "code",
      "execution_count": 302,
      "id": "b63eff6d",
      "metadata": {},
      "outputs": [],
      "source": [
        "df_inputs_outputs = pd.read_excel('inputs_outputs.xlsx')\n",
        "\n",
        "software_data_folder_location=df_inputs_outputs['location'][0]\n",
        "\n",
        "forecast_version_folder_location=df_inputs_outputs['location'][1]\n"
      ]
    },
    {
      "cell_type": "code",
      "execution_count": 303,
      "id": "04ea9bf5",
      "metadata": {},
      "outputs": [],
      "source": [
        "\n",
        "TAZ_V4_date = '240404'"
      ]
    },
    {
      "cell_type": "markdown",
      "id": "57d16cc9",
      "metadata": {},
      "source": [
        "## פונקציות"
      ]
    },
    {
      "cell_type": "markdown",
      "id": "d83642b8",
      "metadata": {},
      "source": [
        "### פונקציות גלובליות"
      ]
    },
    {
      "cell_type": "code",
      "execution_count": 304,
      "id": "53129f8d",
      "metadata": {},
      "outputs": [],
      "source": [
        "from global_functions import up_load_df, find_files_with_pattern, make_point, up_load_gdb, up_load_shp, logic_test_for_forecast, drop_geo"
      ]
    },
    {
      "cell_type": "markdown",
      "id": "1319865e",
      "metadata": {
        "heading_collapsed": true
      },
      "source": [
        "##  העלאת טבלאות אוכלוסייה"
      ]
    },
    {
      "cell_type": "code",
      "execution_count": 305,
      "id": "76fba270",
      "metadata": {
        "hidden": true
      },
      "outputs": [],
      "source": [
        "\n",
        "year=['2025','2030','2035','2040','2045','2050']\n",
        "\n",
        "for y in year: \n",
        "    \n",
        "    col=['Taz_num',\n",
        " 'aprt',\n",
        " 'pop',\n",
        " 'pop_0',\n",
        " 'pop_10',\n",
        " 'pop_15',\n",
        " 'pop_20',\n",
        " 'pop_25',\n",
        " 'pop_30',\n",
        " 'pop_35',\n",
        " 'pop_40',\n",
        " 'pop_45',\n",
        " 'pop_5',\n",
        " 'pop_50',\n",
        " 'pop_55',\n",
        " 'pop_60',\n",
        " 'pop_65',\n",
        " 'pop_70',\n",
        " 'pop_75up']\n",
        "    \n",
        "    folder_path=r'W:\\Data\\Forecast\\Tools\\forecast_git\\create_forecast_basic\\future\\JTMT\\Intermediates'\n",
        "\n",
        "    file_name='{}_pop_{}_jtmt'.format('240306',y)\n",
        "\n",
        "    locals()['forecast_pop_{}_jtmt'.format(y)]=up_load_df(folder_path,file_name)[col]"
      ]
    },
    {
      "cell_type": "markdown",
      "id": "e8fd3874",
      "metadata": {
        "heading_collapsed": true
      },
      "source": [
        "## העלאת טבלת מצב קיים"
      ]
    },
    {
      "cell_type": "code",
      "execution_count": 306,
      "id": "6d86364e",
      "metadata": {},
      "outputs": [],
      "source": [
        "\n",
        "col=['Taz_num',\n",
        "     'Taz_name',\n",
        "     'Muni_Heb',\n",
        "     'jeru_metro',\n",
        "     'zonetype',\n",
        "     'in_jerusal',\n",
        "     'main_secto',\n",
        "     'aprt_20',\n",
        "     'student_dorms',\n",
        "     'Yeshiva',\n",
        "     'student',\n",
        "     'univ','emp_uni','pop','emp_from_Yeshiva_student','yeshiva_dorms_pop_15',\n",
        "     'yeshiva_dorms_pop_20',\n",
        "     'yeshiva_dorms_pop_25',\n",
        "     'yeshiva_dorms_pop_sum','jew','Seminar_dorms_pop_15',\n",
        " 'Seminar_dorms_pop_20',\n",
        " 'Seminar_dorms_pop_25',\n",
        " 'Seminar_dorms_pop_sum','emp_from_Seminar_student','Seminar','SEA1',\n",
        " 'SEA2',\n",
        " 'SEA3',\n",
        " 'UOA1',\n",
        " 'UOA2',\n",
        " 'UOA3',\n",
        " 'ARA1',\n",
        " 'ARA2',\n",
        " 'ARA3','Univ_AR',\n",
        " 'Univ_SE',\n",
        " 'Univ_UO','TOA1',\n",
        " 'TOA2',\n",
        " 'TOA3','pop_15_just_from_aprt','pop_20_just_from_aprt','pop_25_just_from_aprt']\n",
        "\n",
        "new_column_names = {'aprt_20': 'aprt','Yeshiva':'student_yeshiva'}\n"
      ]
    },
    {
      "cell_type": "code",
      "execution_count": 307,
      "id": "57b2642a",
      "metadata": {},
      "outputs": [],
      "source": [
        "\n",
        "forecast_2020=pd.read_excel(r'W:\\Data\\Forecast\\forecast_by_version\\V4\\BASE_YEAR\\2020_jtmt_forcast_full_240407.xlsx' )[col]\n"
      ]
    },
    {
      "cell_type": "code",
      "execution_count": 308,
      "id": "cf2c0c11",
      "metadata": {},
      "outputs": [],
      "source": [
        "forecast_2020=forecast_2020.rename(columns=new_column_names)"
      ]
    },
    {
      "cell_type": "code",
      "execution_count": 309,
      "id": "8d5859a6",
      "metadata": {},
      "outputs": [],
      "source": [
        "pop_20_30_just_from_aprt_SE=forecast_2020.query('main_secto==\"Jewish\"').sum()[['pop_20_just_from_aprt']].item()+forecast_2020.query('main_secto==\"Jewish\"').sum()[['pop_25_just_from_aprt']].item()"
      ]
    },
    {
      "cell_type": "code",
      "execution_count": 310,
      "id": "72140144",
      "metadata": {},
      "outputs": [],
      "source": [
        "Univ_SE_sum=forecast_2020.Univ_SE.sum()"
      ]
    },
    {
      "cell_type": "code",
      "execution_count": 311,
      "id": "865007d2",
      "metadata": {},
      "outputs": [],
      "source": [
        "Univ_SE_pre_from_pop_20_30=Univ_SE_sum/pop_20_30_just_from_aprt_SE"
      ]
    },
    {
      "cell_type": "code",
      "execution_count": 312,
      "id": "9e49c962",
      "metadata": {},
      "outputs": [],
      "source": [
        "pop_20_30_just_from_aprt_AR=forecast_2020.query('main_secto==\"arabs_behined_seperation_wall\" |main_secto==\"Arab\" ').sum()[['pop_20_just_from_aprt']].item()+forecast_2020.query('main_secto==\"arabs_behined_seperation_wall\" |main_secto==\"Arab\" ').sum()[['pop_25_just_from_aprt']].item()"
      ]
    },
    {
      "cell_type": "code",
      "execution_count": 313,
      "id": "1a251f86",
      "metadata": {},
      "outputs": [],
      "source": [
        "Univ_AR_sum=forecast_2020.Univ_AR.sum()"
      ]
    },
    {
      "cell_type": "code",
      "execution_count": 314,
      "id": "30e2a00c",
      "metadata": {},
      "outputs": [],
      "source": [
        "Univ_AR_pre_from_pop_20_30=Univ_AR_sum/pop_20_30_just_from_aprt_AR"
      ]
    },
    {
      "cell_type": "code",
      "execution_count": 315,
      "id": "0bd47b4c",
      "metadata": {},
      "outputs": [],
      "source": [
        "pop_20_30_just_from_aprt_ou=forecast_2020.query('main_secto==\"U_Orthodox\"').sum()[['pop_20_just_from_aprt']].item()+forecast_2020.query('main_secto==\"U_Orthodox\"').sum()[['pop_25_just_from_aprt']].item()"
      ]
    },
    {
      "cell_type": "code",
      "execution_count": 316,
      "id": "4933da6c",
      "metadata": {},
      "outputs": [],
      "source": [
        "Univ_ou_sum=forecast_2020.Univ_UO.sum()"
      ]
    },
    {
      "cell_type": "code",
      "execution_count": 317,
      "id": "69f66e08",
      "metadata": {},
      "outputs": [],
      "source": [
        "Univ_UO_pre_from_pop_20_30=Univ_ou_sum/pop_20_30_just_from_aprt_ou"
      ]
    },
    {
      "cell_type": "code",
      "execution_count": 318,
      "id": "33647e23",
      "metadata": {},
      "outputs": [],
      "source": [
        "pop_15_20_just_from_aprt_ou=forecast_2020.query('main_secto==\"U_Orthodox\"').sum()[['pop_15_just_from_aprt']].item()+forecast_2020.query('main_secto==\"U_Orthodox\"').sum()[['pop_20_just_from_aprt']].item()"
      ]
    },
    {
      "cell_type": "code",
      "execution_count": 319,
      "id": "466e42eb",
      "metadata": {},
      "outputs": [],
      "source": [
        "## תלמידי ישיבה \n",
        "student_yeshiva=forecast_2020.student_yeshiva.sum().item()\n",
        "student_yeshiva_pre_from_age_15_20=student_yeshiva/pop_15_20_just_from_aprt_ou"
      ]
    },
    {
      "cell_type": "code",
      "execution_count": 320,
      "id": "fca0b990",
      "metadata": {},
      "outputs": [],
      "source": [
        "## תלמידי ישיבה \n",
        "student_seminar=forecast_2020.Seminar.sum().item()\n",
        "student_seminar_pre_from_age_15_20=student_seminar/pop_15_20_just_from_aprt_ou"
      ]
    },
    {
      "cell_type": "markdown",
      "id": "90974269",
      "metadata": {
        "heading_collapsed": true
      },
      "source": [
        "## העלאת שכבת לא עוקב"
      ]
    },
    {
      "cell_type": "code",
      "execution_count": 321,
      "id": "d56adbf3",
      "metadata": {
        "hidden": true
      },
      "outputs": [],
      "source": [
        "EMP_kibolet=up_load_gdb(r'W:\\Data\\Forecast\\Tools\\forecast_git\\create_forecast_basic\\future\\JTMT\\background_files\\EMP_kibolet.gdb','EMP_kibolet')\n",
        "\n",
        "EMP_kibolet=EMP_kibolet.fillna(0)\n",
        "\n",
        "EMP_kibolet['emp_kayim_no_palestinians']=EMP_kibolet['kayim_emp']-EMP_kibolet['Palestinians']\n",
        "\n",
        "EMP_kibolet['emp_current']=EMP_kibolet['emp_kayim_no_palestinians']"
      ]
    },
    {
      "cell_type": "code",
      "execution_count": 322,
      "id": "e11ad899",
      "metadata": {
        "hidden": true
      },
      "outputs": [],
      "source": [
        "col=[ 'F2025',\n",
        " 'F2030',\n",
        " 'F2035',\n",
        " 'F2040',\n",
        " 'F2045',\n",
        " 'F2050']\n",
        "\n",
        "EMP_kibolet[col]=EMP_kibolet[col].apply(lambda x: x * (EMP_kibolet['kibolt']-EMP_kibolet['kayim_emp']))\n",
        "\n",
        "EMP_kibolet[col]=EMP_kibolet[col].cumsum(axis=1)\n",
        "\n",
        "EMP_kibolet[col]=EMP_kibolet[col].apply(lambda x: x +EMP_kibolet['emp_kayim_no_palestinians'])\n",
        "\n",
        "emp_not_okev_current=EMP_kibolet['emp_kayim_no_palestinians'].sum().item()"
      ]
    },
    {
      "cell_type": "markdown",
      "id": "11da7d31",
      "metadata": {
        "heading_collapsed": true
      },
      "source": [
        "## אזורי תעסוקה עיבודים והצלבה עם אזורי תנועה"
      ]
    },
    {
      "cell_type": "markdown",
      "id": "23c67e9f",
      "metadata": {},
      "source": [
        "##### העלאת שכבה"
      ]
    },
    {
      "cell_type": "code",
      "execution_count": 323,
      "id": "c4cbcee5",
      "metadata": {},
      "outputs": [],
      "source": [
        "taz=up_load_shp(r'W:\\Data\\Forecast\\Tools\\forecast_git\\create_forecast_basic\\background_files\\TAZ_V4_{}_with_geo_info.shp'.format(TAZ_V4_date))"
      ]
    },
    {
      "cell_type": "code",
      "execution_count": 324,
      "id": "ea310484",
      "metadata": {
        "hidden": true
      },
      "outputs": [],
      "source": [
        "taz['taz_area']=taz.area\n",
        "\n",
        "EMP_kibolet['emp_area']=EMP_kibolet.area\n",
        "\n",
        "EMP_kibolet['ID']=EMP_kibolet.index"
      ]
    },
    {
      "cell_type": "code",
      "execution_count": 325,
      "id": "a06c4814",
      "metadata": {
        "hidden": true
      },
      "outputs": [
        {
          "name": "stderr",
          "output_type": "stream",
          "text": [
            "C:\\Users\\gidon\\AppData\\Local\\Temp\\ipykernel_326152\\1124101454.py:1: UserWarning: `keep_geom_type=True` in overlay resulted in 279 dropped geometries of different geometry types than df1 has. Set `keep_geom_type=False` to retain all geometries\n",
            "  EMP_kibolet_by_taz=gpd.overlay(taz[['Taz_num','taz_area','geometry']],EMP_kibolet[['ID','emp_area','geometry']])\n"
          ]
        }
      ],
      "source": [
        "EMP_kibolet_by_taz=gpd.overlay(taz[['Taz_num','taz_area','geometry']],EMP_kibolet[['ID','emp_area','geometry']])\n",
        "\n",
        "EMP_kibolet_by_taz['small_area']=EMP_kibolet_by_taz.area\n",
        "\n",
        "EMP_kibolet_by_taz['pre_small_area_emp']=EMP_kibolet_by_taz['small_area']/EMP_kibolet_by_taz['emp_area']\n",
        "\n",
        "EMP_kibolet_by_taz['pre_small_area_taz']=EMP_kibolet_by_taz['small_area']/EMP_kibolet_by_taz['taz_area']\n",
        "\n",
        "EMP_kibolet_by_taz=EMP_kibolet_by_taz.query('(pre_small_area_taz >0.7) | (pre_small_area_emp >0.1)')[['ID','Taz_num','geometry']]\n",
        "\n",
        "EMP_kibolet_by_taz['small_area']=EMP_kibolet_by_taz.area\n",
        "\n",
        "EMP_kibolet_by_taz=EMP_kibolet_by_taz.set_index('ID')\n",
        "\n",
        "EMP_kibolet_by_taz['id_area_for_pre']=drop_geo(EMP_kibolet_by_taz).groupby(by='ID').sum()['small_area']\n",
        "\n",
        "EMP_kibolet_by_taz['prec_from_id']=EMP_kibolet_by_taz['small_area']/EMP_kibolet_by_taz['id_area_for_pre']"
      ]
    },
    {
      "cell_type": "code",
      "execution_count": 326,
      "id": "c2ef85b2",
      "metadata": {
        "hidden": true
      },
      "outputs": [],
      "source": [
        "EMP_kibolet['geometry_buff']=EMP_kibolet.buffer(250)"
      ]
    },
    {
      "cell_type": "markdown",
      "id": "8d24d704",
      "metadata": {},
      "source": [
        "##### העלאת טבלאות"
      ]
    },
    {
      "cell_type": "code",
      "execution_count": 327,
      "id": "725a541a",
      "metadata": {},
      "outputs": [],
      "source": [
        "software_data_folder_location=r'W:\\Data\\Forecast\\Tools\\forecast_git\\create_forecast_basic\\future\\JTMT'"
      ]
    },
    {
      "cell_type": "code",
      "execution_count": 328,
      "id": "c598678b",
      "metadata": {
        "hidden": true
      },
      "outputs": [],
      "source": [
        "city_muni=['מודיעין עילית','בית שמש','ירושלים','מודיעין - מכבים - רעות']\n",
        "\n",
        "okev_factor=up_load_df(r'{}\\background_files'.format(software_data_folder_location),'okev_factor').set_index('sector')\n",
        "\n",
        "work_factor=up_load_df(r'{}\\background_files'.format(software_data_folder_location),'work_factor_230719').set_index('sector')"
      ]
    },
    {
      "cell_type": "markdown",
      "id": "a9e9a3c5",
      "metadata": {
        "heading_collapsed": true
      },
      "source": [
        "## התפלגות אזורים התפלגות ענפי תעסוקה"
      ]
    },
    {
      "cell_type": "markdown",
      "id": "ed276ca7",
      "metadata": {},
      "source": [
        "##### העלאת שכבה"
      ]
    },
    {
      "cell_type": "code",
      "execution_count": 329,
      "id": "77f63ee4",
      "metadata": {},
      "outputs": [],
      "source": [
        "emp_category_type=up_load_shp(r'{}\\background_files\\emp_category_type.shp'.format(software_data_folder_location)).fillna(0)"
      ]
    },
    {
      "cell_type": "code",
      "execution_count": 330,
      "id": "733bc6b8",
      "metadata": {
        "hidden": true
      },
      "outputs": [],
      "source": [
        "col=['agri', 'Indus', 'Com_hotel', 'Business', 'Public']\n",
        "\n",
        "emp_category_type[col]=emp_category_type[col]/100\n",
        "\n",
        "emp_category_type=gpd.sjoin(make_point(taz.reset_index())[['Taz_num','centroid']],emp_category_type).set_index('Taz_num')"
      ]
    },
    {
      "cell_type": "markdown",
      "id": "154e5e04",
      "metadata": {
        "heading_collapsed": true
      },
      "source": [
        "## הכנה ללופ"
      ]
    },
    {
      "cell_type": "markdown",
      "id": "fa2cb311",
      "metadata": {},
      "source": [
        "##### העלאת שכבה"
      ]
    },
    {
      "cell_type": "code",
      "execution_count": 331,
      "id": "7cf3eace",
      "metadata": {
        "hidden": true
      },
      "outputs": [],
      "source": [
        "commuting=up_load_shp(r'{}\\background_files\\commuting_230712.shp'.format(software_data_folder_location))"
      ]
    },
    {
      "cell_type": "code",
      "execution_count": 332,
      "id": "e467ff73",
      "metadata": {
        "hidden": true
      },
      "outputs": [],
      "source": [
        "pre_woman=0.5\n",
        "\n",
        "pre_man=1-pre_woman\n",
        "\n",
        "work_age=[ 'pop_25',\n",
        "'pop_30',\n",
        "'pop_35',\n",
        "'pop_40',\n",
        "'pop_45',\n",
        "'pop_50',\n",
        "'pop_55',\n",
        "'pop_60']\n",
        "\n",
        "under_work_age=[ 'pop_15', 'pop_20']\n",
        "\n",
        "over_work_age=[ 'pop_65', 'pop_70', 'pop_75up']"
      ]
    },
    {
      "cell_type": "code",
      "execution_count": 333,
      "id": "7f2b5bd1",
      "metadata": {},
      "outputs": [],
      "source": [
        "forecast_2020['sector_for_chinuc']=forecast_2020['main_secto']"
      ]
    },
    {
      "cell_type": "code",
      "execution_count": 334,
      "id": "c38704cf",
      "metadata": {},
      "outputs": [],
      "source": [
        "forecast_2020.loc[forecast_2020['main_secto']=='arabs_behined_seperation_wall','sector_for_chinuc']='Arab'"
      ]
    },
    {
      "cell_type": "code",
      "execution_count": 335,
      "id": "0bf4f91b",
      "metadata": {},
      "outputs": [],
      "source": [
        "Supply_crurent=forecast_2020.query('main_secto!=\"Palestinian\"').pivot_table(index=['Muni_Heb','main_secto'],aggfunc=sum)[['TOA1',\n",
        " 'TOA2',\n",
        " 'TOA3']]"
      ]
    },
    {
      "cell_type": "code",
      "execution_count": 336,
      "id": "b63252e8",
      "metadata": {},
      "outputs": [],
      "source": [
        " #אלו השדות שאולי אני יוריד כאן נכנס המצב הנוכחי\n",
        "col=['Taz_num','sector_for_chinuc',\n",
        "     'Taz_name',\n",
        "     'Muni_Heb',\n",
        "     'jeru_metro',\n",
        "     'zonetype',\n",
        "     'in_jerusal',\n",
        "     'main_secto','jew',\n",
        "     'student_dorms',\n",
        "     'student_yeshiva',\n",
        "     'student', 'univ', 'emp_uni','emp_from_Yeshiva_student','yeshiva_dorms_pop_15',\n",
        "     'yeshiva_dorms_pop_20',\n",
        "     'yeshiva_dorms_pop_25',\n",
        "     'yeshiva_dorms_pop_sum','TOA1',\n",
        " 'TOA2',\n",
        " 'TOA3','Univ_SE','Univ_AR','Univ_UO','Seminar_dorms_pop_15',\n",
        " 'Seminar_dorms_pop_20',\n",
        " 'Seminar_dorms_pop_25','emp_from_Seminar_student','Seminar']\n"
      ]
    },
    {
      "cell_type": "code",
      "execution_count": 337,
      "id": "c263f25e",
      "metadata": {},
      "outputs": [],
      "source": [
        "\n",
        "forecast_current=forecast_2020[col]"
      ]
    },
    {
      "cell_type": "markdown",
      "id": "cd57951a",
      "metadata": {},
      "source": [
        "## לופ"
      ]
    },
    {
      "cell_type": "code",
      "execution_count": 338,
      "id": "c75611c9",
      "metadata": {},
      "outputs": [],
      "source": [
        "y='2025'#,'2030','2035','2040','2045','2050']\n",
        "\n",
        "\n",
        "# חיבור מאפייני אזורי התנועה משכבת אזורי תנועה מצב קיים\n",
        "forecast=pd.merge(forecast_current,locals()['forecast_pop_{}_jtmt'.format(y)],on=\"Taz_num\",how='right')\n",
        "    \n",
        "forecast['student_demand_TOA1']=forecast['pop_5']/5*4+forecast['pop_10']/5*2\n",
        "forecast['student_demand_TOA2']=forecast['pop_10']/5*3\n",
        "forecast['student_demand_TOA3']=forecast['pop_15']/5*4\n"
      ]
    },
    {
      "cell_type": "code",
      "execution_count": 339,
      "id": "5109f302",
      "metadata": {},
      "outputs": [],
      "source": [
        "\n",
        "\n",
        "demad_for_students_by_muni_and_sector=forecast.pivot_table(index=('Muni_Heb','sector_for_chinuc'),aggfunc='sum')[['student_demand_TOA1','student_demand_TOA2','student_demand_TOA3','TOA1','TOA2','TOA3']]\n"
      ]
    },
    {
      "cell_type": "code",
      "execution_count": 340,
      "id": "7a7cccab",
      "metadata": {},
      "outputs": [],
      "source": [
        "demad_for_students_by_muni_and_sector['add_from_demad_TOA1_muni_sector']=demad_for_students_by_muni_and_sector['student_demand_TOA1']-demad_for_students_by_muni_and_sector['TOA1']\n",
        "demad_for_students_by_muni_and_sector['add_from_demad_TOA2_muni_sector']=demad_for_students_by_muni_and_sector['student_demand_TOA2']-demad_for_students_by_muni_and_sector['TOA2']\n",
        "demad_for_students_by_muni_and_sector['add_from_demad_TOA3_muni_sector']=demad_for_students_by_muni_and_sector['student_demand_TOA3']-demad_for_students_by_muni_and_sector['TOA3']\n"
      ]
    },
    {
      "cell_type": "code",
      "execution_count": 341,
      "id": "63c655ca",
      "metadata": {},
      "outputs": [],
      "source": [
        "demad_for_students_by_muni_and_sector.loc[demad_for_students_by_muni_and_sector['add_from_demad_TOA1_muni_sector']<0,'add_from_add_from_demad_TOA1_muni_sectordemad_TOA1']=0\n",
        "demad_for_students_by_muni_and_sector.loc[demad_for_students_by_muni_and_sector['add_from_demad_TOA2_muni_sector']<0,'add_from_demad_TOA2_muni_sector']=0\n",
        "demad_for_students_by_muni_and_sector.loc[demad_for_students_by_muni_and_sector['add_from_demad_TOA3_muni_sector']<0,'add_from_demad_TOA3_muni_sector']=0\n",
        "demad_for_students_by_muni_and_sector=demad_for_students_by_muni_and_sector.reset_index()"
      ]
    },
    {
      "cell_type": "code",
      "execution_count": 342,
      "id": "be83053b",
      "metadata": {},
      "outputs": [],
      "source": [
        "\n",
        "\n",
        "col=['Muni_Heb','sector_for_chinuc','add_from_demad_TOA1_muni_sector', 'add_from_demad_TOA2_muni_sector', 'add_from_demad_TOA3_muni_sector']\n",
        "\n",
        "forecast=forecast.merge(demad_for_students_by_muni_and_sector[col],on=['Muni_Heb','sector_for_chinuc'])\n",
        "\n",
        "forecast=forecast.fillna(0)\n"
      ]
    },
    {
      "cell_type": "code",
      "execution_count": 343,
      "id": "fdf1a07f",
      "metadata": {},
      "outputs": [],
      "source": [
        "\n",
        "forecast['student_TOA1_to_fill_demand']=forecast['student_demand_TOA1']-forecast['TOA1']\n",
        "forecast['student_TOA2_to_fill_demand']=forecast['student_demand_TOA2']-forecast['TOA2']\n",
        "forecast['student_TOA3_to_fill_demand']=forecast['student_demand_TOA3']-forecast['TOA3']\n",
        "\n"
      ]
    },
    {
      "cell_type": "code",
      "execution_count": 344,
      "id": "21a605fd",
      "metadata": {},
      "outputs": [],
      "source": [
        "\n",
        "\n",
        "forecast.loc[forecast['student_TOA1_to_fill_demand']<0,'student_TOA1_to_fill_demand']=0\n",
        "forecast.loc[forecast['student_TOA2_to_fill_demand']<0,'student_TOA2_to_fill_demand']=0\n",
        "forecast.loc[forecast['student_TOA3_to_fill_demand']<0,'student_TOA3_to_fill_demand']=0\n"
      ]
    },
    {
      "cell_type": "code",
      "execution_count": 345,
      "id": "519d7b49",
      "metadata": {},
      "outputs": [],
      "source": [
        "\n",
        "\n",
        "forecast=forecast.merge(forecast.groupby(by=['Muni_Heb','sector_for_chinuc']).sum()[['student_TOA1_to_fill_demand']].reset_index(),on=['Muni_Heb','sector_for_chinuc'],suffixes=('','_sum'))\n",
        "forecast=forecast.merge(forecast.groupby(by=['Muni_Heb','sector_for_chinuc']).sum()[['student_TOA2_to_fill_demand']].reset_index(),on=['Muni_Heb','sector_for_chinuc'],suffixes=('','_sum'))\n",
        "forecast=forecast.merge(forecast.groupby(by=['Muni_Heb','sector_for_chinuc']).sum()[['student_TOA3_to_fill_demand']].reset_index(),on=['Muni_Heb','sector_for_chinuc'],suffixes=('','_sum'))\n",
        "\n",
        "forecast=forecast.fillna(0)\n"
      ]
    },
    {
      "cell_type": "code",
      "execution_count": 346,
      "id": "2881f289",
      "metadata": {},
      "outputs": [],
      "source": [
        "\n",
        "\n",
        "forecast['student_to_fill_TOA1_demand_pre']=forecast['student_TOA1_to_fill_demand']/forecast['student_TOA1_to_fill_demand_sum']\n",
        "forecast['student_to_fill_TOA2_demand_pre']=forecast['student_TOA2_to_fill_demand']/forecast['student_TOA2_to_fill_demand_sum']\n",
        "forecast['student_to_fill_TOA3_demand_pre']=forecast['student_TOA3_to_fill_demand']/forecast['student_TOA3_to_fill_demand_sum']\n"
      ]
    },
    {
      "cell_type": "code",
      "execution_count": 347,
      "id": "a10e30e5",
      "metadata": {},
      "outputs": [],
      "source": [
        "\n",
        "forecast['add_to_TOA1_student_current']=forecast['student_to_fill_TOA1_demand_pre']*forecast['add_from_demad_TOA1_muni_sector']\n",
        "forecast['add_to_TOA2_student_current']=forecast['student_to_fill_TOA2_demand_pre']*forecast['add_from_demad_TOA2_muni_sector']\n",
        "forecast['add_to_TOA3_student_current']=forecast['student_to_fill_TOA3_demand_pre']*forecast['add_from_demad_TOA3_muni_sector']\n",
        "    \n"
      ]
    },
    {
      "cell_type": "code",
      "execution_count": 348,
      "id": "c14722e8",
      "metadata": {},
      "outputs": [],
      "source": [
        "\n",
        "\n",
        "forecast['TOA1']=forecast['TOA1']+forecast['add_to_TOA1_student_current']\n",
        "forecast['TOA2']=forecast['TOA2']+forecast['add_to_TOA2_student_current']\n",
        "forecast['TOA3']=forecast['TOA3']+forecast['add_to_TOA3_student_current']\n",
        "\n",
        "forecast['student']=forecast['TOA1']+forecast['TOA2']+forecast['TOA3']\n",
        "\n",
        "\n",
        "## תעסוקה בעקבות תלמידים \n",
        "emp_education_per_student=7\n",
        "\n",
        "forecast['emp_from_student']=forecast['student']/emp_education_per_student"
      ]
    },
    {
      "cell_type": "code",
      "execution_count": 349,
      "id": "861481be",
      "metadata": {},
      "outputs": [],
      "source": [
        "    \n",
        "\n",
        "\n",
        "forecast['uni_students_pre_Univ_SE']=forecast['Univ_SE']/forecast['Univ_SE'].sum().item()\n",
        "forecast['uni_students_pre_Univ_AR']=forecast['Univ_AR']/forecast['Univ_AR'].sum().item()\n",
        "\n",
        "forecast['uni_students_pre_Univ_UO']=forecast['Univ_UO']/forecast['Univ_UO'].sum().item()"
      ]
    },
    {
      "cell_type": "code",
      "execution_count": 350,
      "id": "79be4d4a",
      "metadata": {},
      "outputs": [],
      "source": [
        "\n",
        "dorms_vs_uni_students=(forecast['student_dorms'].sum().item())/(forecast['univ'].sum().item())\n"
      ]
    },
    {
      "cell_type": "code",
      "execution_count": 351,
      "id": "bd12fe47",
      "metadata": {},
      "outputs": [],
      "source": [
        "uni_SE_students=Univ_SE_pre_from_pop_20_30*(forecast.query('sector_for_chinuc==\"Jewish\"').sum()['pop_20'].item()+forecast.query('sector_for_chinuc==\"Jewish\"').sum()['pop_25'].item())"
      ]
    },
    {
      "cell_type": "code",
      "execution_count": 352,
      "id": "b2d99ebb",
      "metadata": {},
      "outputs": [],
      "source": [
        "uni_AR_students=Univ_AR_pre_from_pop_20_30*(forecast.query('sector_for_chinuc==\"Arab\"').sum()['pop_20'].item()+forecast.query('sector_for_chinuc==\"Arab\"').sum()['pop_25'].item())"
      ]
    },
    {
      "cell_type": "code",
      "execution_count": 353,
      "id": "914bb243",
      "metadata": {},
      "outputs": [],
      "source": [
        "uni_UO_students=Univ_UO_pre_from_pop_20_30*(forecast.query('sector_for_chinuc==\"U_Orthodox\"').sum()['pop_20'].item()+forecast.query('sector_for_chinuc==\"U_Orthodox\"').sum()['pop_25'].item())"
      ]
    },
    {
      "cell_type": "code",
      "execution_count": 354,
      "id": "181fac8e",
      "metadata": {},
      "outputs": [],
      "source": [
        "sector_for_loop=['SE','AR','UO']\n",
        "\n",
        "for s in sector_for_loop:\n",
        "\n",
        "    forecast['add_Univ_{}_students'.format(s)]=forecast['uni_students_pre_Univ_{}'.format(s)]*uni_SE_students-forecast['Univ_{}'.format(s)]\n",
        "\n",
        "    forecast['Univ_'.format(s)]=forecast['Univ_{}'.format(s)]+forecast['add_Univ_{}_students'.format(s)]\n"
      ]
    },
    {
      "cell_type": "code",
      "execution_count": 355,
      "id": "de804e33",
      "metadata": {},
      "outputs": [],
      "source": [
        "forecast['current_univ']=forecast['univ']"
      ]
    },
    {
      "cell_type": "code",
      "execution_count": 356,
      "id": "0938bdba",
      "metadata": {},
      "outputs": [],
      "source": [
        "forecast['univ']=forecast['Univ_SE']+forecast['Univ_AR']+forecast['Univ_UO']"
      ]
    },
    {
      "cell_type": "code",
      "execution_count": 357,
      "id": "85c42c00",
      "metadata": {},
      "outputs": [],
      "source": [
        "forecast['add_uni_students']=forecast['univ']-forecast['current_univ']"
      ]
    },
    {
      "cell_type": "code",
      "execution_count": 358,
      "id": "2e29c5e1",
      "metadata": {},
      "outputs": [],
      "source": [
        "    \n",
        "growth_dorms=((forecast['univ'].sum().item())*dorms_vs_uni_students)/(forecast['student_dorms'].sum().item())\n",
        "\n",
        "forecast['student_dorms']=forecast['student_dorms']*growth_dorms\n"
      ]
    },
    {
      "cell_type": "code",
      "execution_count": 359,
      "id": "0b179370",
      "metadata": {},
      "outputs": [],
      "source": [
        "\n",
        "## תעסוקה בעקבות סטודנטים \n",
        "emp_Education_per_uni_student=0.18\n",
        "\n",
        "forecast['emp_uni']=forecast['add_uni_students']*emp_Education_per_uni_student+forecast['emp_uni']\n"
      ]
    },
    {
      "cell_type": "code",
      "execution_count": 360,
      "id": "d6390fc3",
      "metadata": {},
      "outputs": [],
      "source": [
        "total_student_yeshiva=forecast.query('main_secto==\"U_Orthodox\"')[['pop_20','pop_15']].sum().sum()*student_yeshiva_pre_from_age_15_20"
      ]
    },
    {
      "cell_type": "code",
      "execution_count": 361,
      "id": "c911068e",
      "metadata": {},
      "outputs": [],
      "source": [
        "total_student_seminar=forecast.query('main_secto==\"U_Orthodox\"')[['pop_20','pop_15']].sum().sum()*student_seminar_pre_from_age_15_20"
      ]
    },
    {
      "cell_type": "code",
      "execution_count": 362,
      "id": "4679acef",
      "metadata": {},
      "outputs": [],
      "source": [
        "## תעסוקה בעקבות ישיבה     \n",
        "forecast['student_yeshiva_vs_yeshiva_emp']=forecast['student_yeshiva']/forecast['emp_from_Yeshiva_student']\n",
        "forecast['seminar_vs_seminar_emp']=forecast['Seminar']/forecast['emp_from_Seminar_student']"
      ]
    },
    {
      "cell_type": "code",
      "execution_count": 363,
      "id": "22bb5dbf",
      "metadata": {},
      "outputs": [],
      "source": [
        "forecast['student_yeshiva_pre']=forecast['student_yeshiva']/forecast['student_yeshiva'].sum().item()\n",
        "forecast['student_seminar_pre']=forecast['Seminar']/forecast['Seminar'].sum().item()"
      ]
    },
    {
      "cell_type": "code",
      "execution_count": 364,
      "id": "dadde42b",
      "metadata": {},
      "outputs": [],
      "source": [
        "\n",
        "forecast['student_yeshiva_growth']=(forecast['student_yeshiva_pre']*total_student_yeshiva)/forecast['student_yeshiva']\n",
        "forecast['seminar_growth']=(forecast['student_seminar_pre']*total_student_seminar)/forecast['Seminar']\n",
        "\n",
        "forecast['student_yeshiva']=forecast['student_yeshiva_pre']*total_student_yeshiva\n",
        "forecast['Seminar']=forecast['student_seminar_pre']*total_student_seminar\n",
        "\n",
        "forecast['emp_from_Yeshiva_student']=forecast['student_yeshiva']/forecast['student_yeshiva_vs_yeshiva_emp']\n",
        "forecast['emp_from_Seminar_student']=forecast['Seminar']/forecast['seminar_vs_seminar_emp']\n",
        "\n",
        "##תוספת בפנימיות בישיבות\n",
        "forecast['yeshiva_dorms_pop_15']=forecast['yeshiva_dorms_pop_15']*forecast['student_yeshiva_growth']\n",
        "forecast['yeshiva_dorms_pop_20']=forecast['yeshiva_dorms_pop_20']*forecast['student_yeshiva_growth']\n",
        "forecast['yeshiva_dorms_pop_25']=forecast['yeshiva_dorms_pop_25']*forecast['student_yeshiva_growth']\n",
        "col_dorms_yeshiva=['yeshiva_dorms_pop_15', 'yeshiva_dorms_pop_20', 'yeshiva_dorms_pop_25']\n",
        "forecast['yeshiva_dorms_pop_sum']=forecast[col_dorms_yeshiva].sum(axis=1)\n",
        "\n",
        "##תוספת בפנימיות בסמינרים\n",
        "forecast['Seminar_dorms_pop_15']=forecast['Seminar_dorms_pop_15']*forecast['seminar_growth']\n",
        "forecast['Seminar_dorms_pop_20']=forecast['Seminar_dorms_pop_20']*forecast['seminar_growth']\n",
        "forecast['Seminar_dorms_pop_25']=forecast['Seminar_dorms_pop_25']*forecast['seminar_growth']\n",
        "col_dorms_seminar=['Seminar_dorms_pop_15', 'Seminar_dorms_pop_20', 'Seminar_dorms_pop_25']\n",
        "forecast['seminar_dorms_pop_sum']=forecast[col_dorms_seminar].sum(axis=1)\n"
      ]
    },
    {
      "cell_type": "code",
      "execution_count": 365,
      "id": "bde16385",
      "metadata": {},
      "outputs": [],
      "source": [
        "\n",
        "## כוללים \n",
        "forecast['kollim_demand']=(forecast['pop_20']*0.8+forecast['pop_25']*0.65+forecast['pop_30']*0.30+forecast['pop_35']*0.30+forecast['pop_40']*0.30+forecast['pop_45']*0.20+forecast['pop_50']*0.20+forecast['pop_55']*0.20+forecast['pop_60']*0.20)*0.5 #הכפלה בחצי בשביל לקבל אוכלוסיית גברים מעורכת\n",
        "\n",
        "forecast.loc[forecast['main_secto']!='U_Orthodox','kollim_demand']=0  #אל אף שאנחנו יודעים שיש כוללים באזורים שהם לא מוגדרים כחרדים\n",
        "\n",
        "forecast['add_from_kollim_demand']=0\n",
        "\n",
        "forecast.loc[(forecast['main_secto']=='U_Orthodox')&(forecast['kollim_demand']>forecast['student_yeshiva']),'add_from_kollim_demand']=forecast['kollim_demand']-forecast['student_yeshiva']\n",
        "\n",
        "forecast['student_yeshiva_and_kollim']=forecast['add_from_kollim_demand']+forecast['student_yeshiva']\n",
        "\n",
        "forecast=forecast.fillna(0)\n"
      ]
    },
    {
      "cell_type": "code",
      "execution_count": 366,
      "id": "b232f68a",
      "metadata": {},
      "outputs": [],
      "source": [
        "\n",
        "## תעסוקה סך חינוך \n",
        "forecast['emp_Education']=forecast['emp_from_student']+forecast['emp_from_Yeshiva_student']+forecast['emp_uni']\n",
        "\n",
        "emp_Education=forecast.query('main_secto!=\"Palestinian\"')['emp_Education'].sum().item()\n"
      ]
    },
    {
      "cell_type": "code",
      "execution_count": 367,
      "id": "af0c9b25",
      "metadata": {},
      "outputs": [],
      "source": [
        "\n",
        "#אזורי תנועה שלא צריכים עוקב\n",
        "EMP_buffer=EMP_kibolet.set_geometry('geometry_buff').query('F{} > 0'.format(y))\n",
        "\n",
        "EMP_buffer=EMP_buffer.dissolve()[['geometry_buff']]\n",
        "\n",
        "emp_buffer_taz=gpd.overlay(EMP_buffer,taz)\n",
        "\n",
        "emp_buffer_taz['emp_samll_area']=emp_buffer_taz.area\n",
        "\n",
        "emp_buffer_taz['emp_pre_from_taz']=emp_buffer_taz['emp_samll_area']/emp_buffer_taz['taz_area']\n",
        "\n",
        "taz_num_no_need_okev=emp_buffer_taz.loc[emp_buffer_taz['emp_pre_from_taz']>0.4].Taz_num.to_list()\n",
        "\n",
        "forecast['okev']=0\n",
        "\n",
        "forecast.loc[(~forecast['Taz_num'].isin(taz_num_no_need_okev))&(taz['main_secto']!=\"Palestinia\"),'okev']=1\n",
        "\n",
        "forecast.loc[forecast['main_secto']==\"arabs_behined_seperation_wall\",'okev']=1\n",
        "\n",
        "## יצירת תעסוקה כנגזר מעוקב\n",
        "forecast['emp_okev']=0\n",
        "\n",
        "forecast.loc[(forecast['jew']==0)&(forecast['okev']==1),'emp_okev']=forecast['aprt']*okev_factor.loc['arab','city']\n",
        "\n",
        "forecast.loc[(forecast['main_secto']==\"U_Orthodox\")&(~forecast['Muni_Heb'].isin(city_muni))&(forecast['okev']==1),'emp_okev']=forecast['aprt']*okev_factor.loc['U_Orthodox','sub']\n",
        "\n",
        "forecast.loc[(forecast['main_secto']==\"U_Orthodox\")&(forecast['Muni_Heb'].isin(city_muni))&(forecast['okev']==1),'emp_okev']=forecast['aprt']*okev_factor.loc['U_Orthodox','city']\n",
        "\n",
        "forecast.loc[(forecast['main_secto']==\"Jewish\")&(forecast['Muni_Heb'].isin(city_muni))&(forecast['okev']==1),'emp_okev']=forecast['aprt']*okev_factor.loc['Jewish','city']\n",
        "\n",
        "forecast.loc[(forecast['main_secto']==\"Jewish\")&(~forecast['Muni_Heb'].isin(city_muni))&(forecast['okev']==1),'emp_okev']=forecast['aprt']*okev_factor.loc['Jewish','sub']\n",
        "\n",
        "emp_okev=forecast['emp_okev'].sum().item()\n",
        "    \n",
        "#  הוספת סטודנטים  לאוכלוסיה ולהתפלגות גילים והוספת תלמידי ישיבה (באזורים חרדיים)\n",
        "# הוספת סטודנטים לאוכלוסיה ולהתפלגות גילים\n",
        "forecast=forecast.fillna(0)\n",
        "\n",
        "forecast['pop_without_dorms_yeshiva']=forecast['pop']\n",
        "\n",
        "forecast['pop']=forecast['pop']+forecast['student_dorms']\n",
        "\n",
        "forecast['pop_20_just_from_aprt']=forecast['pop_20']\n",
        "\n",
        "forecast['pop_25_just_from_aprt']=forecast['pop_25']\n",
        "\n",
        "forecast['pop_20']=forecast['pop_20']+forecast['student_dorms']*0.6\n",
        "\n",
        "forecast['pop_25']=forecast['pop_25']+forecast['student_dorms']*0.4\n",
        "\n",
        "# הוספת תלמידי ישיבה (באזורים חרדיים) אל כמות אוכלוסיה,התפלגות גילים \n",
        "forecast['pop_15_just_from_aprt']=forecast['pop_15']\n",
        "\n",
        "forecast.loc[forecast['main_secto']==\"U_Orthodox\",'pop']=forecast['pop']+forecast['yeshiva_dorms_pop_sum']\n",
        "\n",
        "forecast.loc[forecast['main_secto']==\"U_Orthodox\",'pop_15']=forecast['pop_15']+forecast['yeshiva_dorms_pop_15']\n",
        "\n",
        "forecast.loc[forecast['main_secto']==\"U_Orthodox\",'pop_20']=forecast['pop_20']+forecast['yeshiva_dorms_pop_20']\n",
        "\n",
        "forecast.loc[forecast['main_secto']==\"U_Orthodox\",'pop_25']=forecast['pop_25']+forecast['yeshiva_dorms_pop_25']\n",
        "\n",
        "## הוספת סטודנטים אל כמות משקי בית\n",
        "forecast=forecast.fillna(0)\n",
        "\n",
        "forecast['hh']=forecast['aprt']+forecast['student_dorms']/1.5\n",
        "\n",
        "forecast['hh']=forecast['hh']+forecast['yeshiva_dorms_pop_sum']\n",
        "\n",
        "## יצירת מסגרת מועסקים למרחב\n",
        "forecast['work_age']=forecast[work_age].sum(axis=1)\n",
        "\n",
        "forecast['under_work_age']=forecast[under_work_age].sum(axis=1)\n",
        "\n",
        "forecast['over_work_age']=forecast[over_work_age].sum(axis=1)\n",
        "\n",
        "sector=['U_Orthodox','Jewish','Arab','arabs_behined_seperation_wall']\n",
        "\n",
        "for s in sector:   \n",
        "    work_age_factor_woman=work_factor.loc[(work_factor.index==s) & (work_factor['age']=='work_age') & (work_factor['gender']=='woman')& (work_factor['year']==int(y)),'value'].item()\n",
        "    work_age_factor_man=work_factor.loc[(work_factor.index==s) & (work_factor['age']=='work_age') & (work_factor['gender']=='man')& (work_factor['year']==int(y)),'value'].item()\n",
        "    under_work_age_factor_woman=work_factor.loc[(work_factor.index==s) & (work_factor['age']=='under_work_age') & (work_factor['gender']=='woman')& (work_factor['year']==int(y)),'value'].item()\n",
        "    under_work_age_factor_man=work_factor.loc[(work_factor.index==s) & (work_factor['age']=='under_work_age') & (work_factor['gender']=='man')& (work_factor['year']==int(y)),'value'].item()\n",
        "    over_work_age_factor_woman=work_factor.loc[(work_factor.index==s) & (work_factor['age']=='over_work_age') & (work_factor['gender']=='woman')& (work_factor['year']==int(y)),'value'].item()\n",
        "    over_work_age_factor_man=work_factor.loc[(work_factor.index==s) & (work_factor['age']=='over_work_age') & (work_factor['gender']=='man')& (work_factor['year']==int(y)),'value'].item()\n",
        "    \n",
        "    forecast.loc[forecast['main_secto']==s,'pop_emp']=forecast['work_age']*pre_woman*work_age_factor_woman+forecast['work_age']*pre_man*work_age_factor_man\n",
        "    forecast.loc[forecast['main_secto']==s,'pop_emp']=forecast['pop_emp']+forecast['under_work_age']*pre_woman*under_work_age_factor_woman+forecast['under_work_age']*pre_man*under_work_age_factor_man\n",
        "    forecast.loc[forecast['main_secto']==s,'pop_emp']=forecast['pop_emp']+forecast['over_work_age']*pre_woman*over_work_age_factor_woman+forecast['over_work_age']*pre_man*over_work_age_factor_man\n",
        "\n",
        "## חישוב אבטלה\n",
        "forecast['pop_emp_employed']=0\n",
        "\n",
        "forecast.loc[forecast['main_secto']==\"U_Orthodox\",'pop_emp_employed']=forecast['pop_emp']*0.96\n",
        "\n",
        "forecast.loc[forecast['main_secto']==\"Jewish\",'pop_emp_employed']=forecast['pop_emp']*0.97\n",
        "\n",
        "forecast.loc[forecast['jew']==0,'pop_emp_employed']=forecast['pop_emp']*0.96\n",
        "\n",
        "## חישוב יוממות\n",
        "forecast=forecast.set_index('Taz_num')\n",
        "\n",
        "forecast['commuting']=gpd.sjoin(make_point(taz)[['Taz_num','centroid']],commuting[['commuting', 'geometry']]).set_index('Taz_num')['commuting']/100\n",
        "\n",
        "forecast['pop_emp_employed_out_of_jtmt_area']=forecast['pop_emp_employed']*forecast['commuting']\n",
        "\n",
        "emp_from_jtmt_area=forecast['pop_emp_employed'].sum().item()-forecast['pop_emp_employed_out_of_jtmt_area'].sum().item()\n",
        "\n",
        "emp_in_jtmt_area=emp_from_jtmt_area*1.06 #יוממות פנימה מחוץ למרחב\n",
        "\n",
        "emp_in_jtmt_area_without_mobile=emp_in_jtmt_area*0.94 #הפחחת עובדים ניידים\n",
        "    \n",
        "# יצירת תעסוקה לא עוקב\n",
        "add_emp_not_okev=emp_in_jtmt_area_without_mobile-emp_Education-emp_okev-emp_not_okev_current\n",
        "\n",
        "add_emp_not_okev_kibolet=EMP_kibolet['F{}'.format(y)].sum().item()-emp_not_okev_current\n",
        "        \n",
        "add_emp_not_okev_filling=add_emp_not_okev/add_emp_not_okev_kibolet\n",
        "\n",
        "EMP_kibolet['emp_current']=(EMP_kibolet['F{}'.format(y)]-EMP_kibolet['emp_current'])*add_emp_not_okev_filling+EMP_kibolet['emp_current']\n",
        "\n",
        "emp_not_okev_current=EMP_kibolet['emp_current'].sum().item()\n",
        "\n",
        "#EMP_kibolet.to_excel(r'{}\\Intermediates\\EMP_kibolet_{}_for_review_{}.xlsx'.format(software_data_folder_location,y,file_date))\n",
        "\n",
        "col=['Taz_num','ID','prec_from_id']\n",
        "\n",
        "df=EMP_kibolet_by_taz.reset_index()[col].merge(EMP_kibolet,on='ID',how='left')\n",
        "\n",
        "df['emp_current']=df['emp_current']*df['prec_from_id']\n",
        "\n",
        "forecast['emp_not_okev']=df.drop(columns=['geometry', 'geometry_buff']).pivot_table(index='Taz_num',aggfunc='sum')[['emp_current']]\n",
        "\n",
        "forecast=forecast.fillna(0)\n",
        "\n",
        "forecast['total_emp']=forecast['emp_not_okev']+forecast['emp_okev']+forecast['emp_Education']\n",
        "\n",
        "# #הסיבה להפרדה כי המקדם השתתפות בעבודה באזורים לא חרדיים גבוהה מידי בשביל התלמידי ישיבה\n",
        "forecast.loc[forecast['main_secto']!=\"U_Orthodox\",'pop']=forecast['pop']+forecast['yeshiva_dorms_pop_sum']\n",
        "\n",
        "forecast.loc[forecast['main_secto']!=\"U_Orthodox\",'pop_15']=forecast['pop_15']+forecast['yeshiva_dorms_pop_15']\n",
        "\n",
        "forecast.loc[forecast['main_secto']!=\"U_Orthodox\",'pop_20']=forecast['pop_20']+forecast['yeshiva_dorms_pop_20']\n",
        "\n",
        "forecast.loc[forecast['main_secto']!=\"U_Orthodox\",'pop_25']=forecast['pop_25']+forecast['yeshiva_dorms_pop_25']\n",
        "\n",
        "col=['agri', 'Indus', 'Com_hotel', 'Business', 'Public']\n",
        "\n",
        "forecast=forecast.join(emp_category_type[col]).fillna(0)\n",
        "\n",
        "for i in col:\n",
        "    forecast['{}'.format(i)]=forecast['{}'.format(i)]*(forecast['emp_not_okev']+forecast['emp_okev'])\n"
      ]
    }
  ],
  "metadata": {
    "kernelspec": {
      "display_name": "Python 3 (ipykernel)",
      "language": "python",
      "name": "python3"
    },
    "language_info": {
      "codemirror_mode": {
        "name": "ipython",
        "version": 3
      },
      "file_extension": ".py",
      "mimetype": "text/x-python",
      "name": "python",
      "nbconvert_exporter": "python",
      "pygments_lexer": "ipython3",
      "version": "3.11.5"
    },
    "toc": {
      "base_numbering": 1,
      "nav_menu": {},
      "number_sections": true,
      "sideBar": true,
      "skip_h1_title": false,
      "title_cell": "Table of Contents",
      "title_sidebar": "Contents",
      "toc_cell": false,
      "toc_position": {
        "height": "calc(100% - 180px)",
        "left": "10px",
        "top": "150px",
        "width": "480px"
      },
      "toc_section_display": true,
      "toc_window_display": true
    }
  },
  "nbformat": 4,
  "nbformat_minor": 5
}
