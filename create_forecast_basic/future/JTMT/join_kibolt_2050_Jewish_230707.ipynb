{
  "cells": [
    {
      "cell_type": "markdown",
      "id": "0e7214ba",
      "metadata": {
        "heading_collapsed": true
      },
      "source": [
        "### קוד מבוא"
      ]
    },
    {
      "cell_type": "markdown",
      "id": "bb88544c",
      "metadata": {},
      "source": [
        "#### ספריות"
      ]
    },
    {
      "cell_type": "code",
      "execution_count": 1,
      "id": "f8405d52",
      "metadata": {
        "hidden": true
      },
      "outputs": [],
      "source": [
        "import os\n",
        "import sys\n",
        "import pandas as pd"
      ]
    },
    {
      "cell_type": "code",
      "execution_count": 2,
      "id": "2dacbc13",
      "metadata": {
        "hidden": true
      },
      "outputs": [],
      "source": [
        "pd.set_option('display.max_rows', None)\n",
        "pd.set_option('display.max_columns', None)\n",
        "pd.options.display.float_format = '{:.4f}'.format\n",
        "pd.set_option('display.float_format',  '{:,.2f}'.format)"
      ]
    },
    {
      "cell_type": "markdown",
      "id": "2ab08162",
      "metadata": {},
      "source": [
        "#### העלאת משתנים להרצת הקוד"
      ]
    },
    {
      "cell_type": "code",
      "execution_count": 16,
      "id": "69036c14",
      "metadata": {},
      "outputs": [
        {
          "data": {
            "text/plain": [
              "'C:\\\\Users\\\\dpere\\\\Documents\\\\JTMT\\\\forecast_git\\\\create_forecast_basic'"
            ]
          },
          "execution_count": 16,
          "metadata": {},
          "output_type": "execute_result"
        }
      ],
      "source": [
        "path = os.getcwd()\n",
        "\n",
        "df_inputs_outputs = pd.read_excel('inputs_outputs.xlsx')\n",
        "\n",
        "software_data_folder_location=df_inputs_outputs['location'][0]\n",
        "\n",
        "forecast_version_folder_location=df_inputs_outputs['location'][1]\n",
        "\n",
        "future_folder = os.path.dirname(software_data_folder_location)\n",
        "\n",
        "create_forecast_basic_software_location = os.path.dirname(future_folder)\n",
        "\n",
        "sys.path.append(future_folder)"
      ]
    },
    {
      "cell_type": "markdown",
      "id": "9624443e",
      "metadata": {
        "heading_collapsed": true
      },
      "source": [
        "### פונקציות גלובליות"
      ]
    },
    {
      "cell_type": "code",
      "execution_count": 4,
      "id": "5a2dc3b3",
      "metadata": {},
      "outputs": [],
      "source": [
        "from global_functions import up_load_shp, up_load_df, split_index_by_taz, change_cols_names"
      ]
    },
    {
      "cell_type": "markdown",
      "id": "861cbb99",
      "metadata": {
        "heading_collapsed": true
      },
      "source": [
        "#### קיבולת ברמת יישוב (חלקי) ביו\"ש"
      ]
    },
    {
      "cell_type": "markdown",
      "id": "be2e7787",
      "metadata": {},
      "source": [
        "##### העלאת טבלה"
      ]
    },
    {
      "cell_type": "code",
      "execution_count": 6,
      "id": "f545ee0a",
      "metadata": {},
      "outputs": [],
      "source": [
        "path=r'{}\\background_files'.format(software_data_folder_location)\n",
        "kibolt_yosh_some_towns=up_load_df(path,'230628_Jewish_kibolt_some_towns_in_yosh_till_2050')"
      ]
    },
    {
      "cell_type": "code",
      "execution_count": 7,
      "id": "3d290290",
      "metadata": {
        "code_folding": [],
        "hidden": true
      },
      "outputs": [],
      "source": [
        "col=[ 'Taz_num', 'add_aprt_2020__2025',\n",
        " 'add_aprt_2025__2030',\n",
        " 'add_aprt_2030__2035',\n",
        " 'add_aprt_2035__2040',\n",
        " 'add_aprt_2040_2045',\n",
        " 'add_aprt_2045_2050']\n",
        "\n",
        "kibolt_yosh_some_towns_sum_by_taz=kibolt_yosh_some_towns.pivot_table(index='Taz_num',aggfunc='sum').reset_index()[col]\n",
        "\n",
        "kibolt_yosh_some_towns_sum_by_taz['kibolet_type']='Shrinkable'"
      ]
    },
    {
      "cell_type": "code",
      "execution_count": 8,
      "id": "b49b541a",
      "metadata": {
        "hidden": true
      },
      "outputs": [],
      "source": [
        "old_col=[ 'Taz_num','add_aprt_2020__2025',\n",
        " 'add_aprt_2025__2030',\n",
        " 'add_aprt_2030__2035',\n",
        " 'add_aprt_2035__2040',\n",
        " 'add_aprt_2040_2045',\n",
        " 'add_aprt_2045_2050','kibolet_type']\n",
        "\n",
        "new_col=[ 'Taz_num','2025',\n",
        " '2030',\n",
        " '2035',\n",
        " '2040',\n",
        " '2045',\n",
        " '2050','kibolet_type']\n",
        "\n",
        "kibolt_yosh_some_towns_sum_by_taz=change_cols_names(kibolt_yosh_some_towns_sum_by_taz, old_col, new_col)\n",
        "\n",
        "kibolt_yosh_some_towns_sum_by_taz=kibolt_yosh_some_towns_sum_by_taz.melt(id_vars=['Taz_num', 'kibolet_type'], var_name='year', value_name='add_aprt').query('add_aprt!=0')\n",
        "\n",
        "kibolt_yosh_some_towns_sum_by_taz['source']='by_town'"
      ]
    },
    {
      "cell_type": "markdown",
      "id": "2bd1b2d2",
      "metadata": {
        "hidden": true
      },
      "source": [
        "#### מעקב אחרי מקורות קיבולת לכל TAZ"
      ]
    },
    {
      "cell_type": "markdown",
      "id": "6b5c2607",
      "metadata": {},
      "source": [
        "##### העלאת טבלה"
      ]
    },
    {
      "cell_type": "code",
      "execution_count": 9,
      "id": "a962db48",
      "metadata": {},
      "outputs": [],
      "source": [
        "# taz=up_load_shp(r'{}\\background_files\\TAZ_V4_230518_Published.shp'.format(software_data_folder_location))\n",
        "taz=up_load_shp(r'{}\\background_files\\TAZ_V4_240404_with_geo_info.shp'.format(create_forecast_basic_software_location))"
      ]
    },
    {
      "cell_type": "code",
      "execution_count": 28,
      "id": "ad13e2e9",
      "metadata": {
        "hidden": true
      },
      "outputs": [],
      "source": [
        "taz.loc[taz['Taz_num'].isin(list(kibolt_yosh_some_towns_sum_by_taz.index)),'by_town']=1"
      ]
    },
    {
      "cell_type": "markdown",
      "id": "dcca1319",
      "metadata": {
        "heading_collapsed": true
      },
      "source": [
        "#### קיבולת ברמת אזור תנועה (חלקי)"
      ]
    },
    {
      "cell_type": "markdown",
      "id": "520aea7f",
      "metadata": {},
      "source": [
        "##### העלאת טבלה"
      ]
    },
    {
      "cell_type": "code",
      "execution_count": 11,
      "id": "4ac812fe",
      "metadata": {
        "hidden": true
      },
      "outputs": [],
      "source": [
        "Jewish_kibolt_some_by_taz=up_load_shp(r'{}\\background_files\\kibolt_jew_by_some_taz_230628.shp'.format(software_data_folder_location))"
      ]
    },
    {
      "cell_type": "markdown",
      "id": "72727c41",
      "metadata": {},
      "source": [
        "##### שינוי שמות של העמודות"
      ]
    },
    {
      "cell_type": "code",
      "execution_count": 12,
      "id": "b14c589e",
      "metadata": {
        "hidden": true
      },
      "outputs": [],
      "source": [
        "old_col=[ 'Taz_num','add_aprt_2',\n",
        " 'add_aprt_3',\n",
        " 'add_aprt_4',\n",
        " 'add_aprt_5',\n",
        " 'add_aprt_6',\n",
        " 'add_aprt_7','type_kibol']\n",
        "\n",
        "new_col=[ 'Taz_num','2025',\n",
        " '2030',\n",
        " '2035',\n",
        " '2040',\n",
        " '2045',\n",
        " '2050','kibolet_type']\n",
        "\n",
        "Jewish_kibolt_some_by_taz=change_cols_names(Jewish_kibolt_some_by_taz, old_col, new_col)"
      ]
    },
    {
      "cell_type": "code",
      "execution_count": 13,
      "id": "aa49eb95",
      "metadata": {
        "hidden": true
      },
      "outputs": [
        {
          "name": "stderr",
          "output_type": "stream",
          "text": [
            "C:\\Users\\dpere\\AppData\\Local\\Temp\\ipykernel_31344\\2960630682.py:1: FutureWarning: Setting an item of incompatible dtype is deprecated and will raise in a future error of pandas. Value 'Shrinkable' has dtype incompatible with int64, please explicitly cast to a compatible dtype first.\n",
            "  Jewish_kibolt_some_by_taz.loc[Jewish_kibolt_some_by_taz['kibolet_type']==1,'kibolet_type']='Shrinkable'\n"
          ]
        }
      ],
      "source": [
        "Jewish_kibolt_some_by_taz.loc[Jewish_kibolt_some_by_taz['kibolet_type']==1,'kibolet_type']='Shrinkable'\n",
        "\n",
        "Jewish_kibolt_some_by_taz.loc[Jewish_kibolt_some_by_taz['kibolet_type']==2,'kibolet_type']='left_the_station'\n",
        "\n",
        "Jewish_kibolt_some_by_taz.loc[Jewish_kibolt_some_by_taz['kibolet_type']==3,'kibolet_type']='Depends_on_policy'\n",
        "\n",
        "Jewish_kibolt_some_by_taz=Jewish_kibolt_some_by_taz.melt(id_vars=['Taz_num', 'kibolet_type'], var_name='year', value_name='add_aprt').query('add_aprt!=0')\n",
        "\n",
        "Jewish_kibolt_some_by_taz['source']='by_taz'"
      ]
    },
    {
      "cell_type": "markdown",
      "id": "35615f37",
      "metadata": {
        "hidden": true
      },
      "source": [
        "##### מעקב אחרי מקורות קיבולת לכל TAZ"
      ]
    },
    {
      "cell_type": "code",
      "execution_count": 14,
      "id": "b6c879ad",
      "metadata": {
        "hidden": true
      },
      "outputs": [],
      "source": [
        "taz.loc[taz['Taz_num'].isin(list(Jewish_kibolt_some_by_taz.Taz_num)),'by_taz']=1"
      ]
    },
    {
      "cell_type": "markdown",
      "id": "5b73c44b",
      "metadata": {
        "heading_collapsed": true
      },
      "source": [
        "#### קיבולת ברמת תכנית עם אזורי תנועה בלבד (חלקי)"
      ]
    },
    {
      "cell_type": "markdown",
      "id": "ee8daafa",
      "metadata": {},
      "source": [
        "##### העלאת טבלה"
      ]
    },
    {
      "cell_type": "code",
      "execution_count": 15,
      "id": "7e72c035",
      "metadata": {},
      "outputs": [],
      "source": [
        "Jewish_kibolt_some_by_plan_only_with_taz=up_load_shp(r'{}\\background_files\\Jewish_kibolt_some_by_plan_with_taz_num.shp'.format(software_data_folder_location))"
      ]
    },
    {
      "cell_type": "code",
      "execution_count": 16,
      "id": "2ea77f45",
      "metadata": {
        "hidden": true
      },
      "outputs": [],
      "source": [
        "Jewish_kibolt_some_by_plan_only_with_taz=Jewish_kibolt_some_by_plan_only_with_taz[['Taz_num','2025',\n",
        " '2030',\n",
        " '2035',\n",
        " '2040',\n",
        " '2045',\n",
        " '2050','kibolet_ty']].rename(columns={'kibolet_ty':'kibolet_type'})\n",
        "\n",
        "Jewish_kibolt_some_by_plan_only_with_taz=Jewish_kibolt_some_by_plan_only_with_taz.melt(id_vars=['Taz_num', 'kibolet_type'], var_name='year', value_name='add_aprt').query('add_aprt!=0')\n",
        "\n",
        "Jewish_kibolt_some_by_plan_only_with_taz['source']='plan_only_with_taz'"
      ]
    },
    {
      "cell_type": "markdown",
      "id": "f460b561",
      "metadata": {
        "hidden": true
      },
      "source": [
        "##### מעקב אחרי מקורות קיבולת לכל TAZ"
      ]
    },
    {
      "cell_type": "code",
      "execution_count": 17,
      "id": "5e86b202",
      "metadata": {
        "hidden": true
      },
      "outputs": [],
      "source": [
        "taz.loc[taz['Taz_num'].isin(list(Jewish_kibolt_some_by_plan_only_with_taz.Taz_num)),'plan_only_with_taz']=1"
      ]
    },
    {
      "cell_type": "markdown",
      "id": "833378f0",
      "metadata": {},
      "source": [
        "#### קיבולת ברמת תכנית  (חלקי)"
      ]
    },
    {
      "cell_type": "markdown",
      "id": "3eb04da3",
      "metadata": {},
      "source": [
        "##### העלאת טבלה"
      ]
    },
    {
      "cell_type": "code",
      "execution_count": 18,
      "id": "99ce38d1",
      "metadata": {},
      "outputs": [
        {
          "name": "stderr",
          "output_type": "stream",
          "text": [
            "c:\\Users\\dpere\\miniconda3\\envs\\creat_forecast_ad_hoc_env\\Lib\\site-packages\\openpyxl\\worksheet\\_read_only.py:79: UserWarning: Data Validation extension is not supported and will be removed\n",
            "  for idx, row in parser.parse():\n"
          ]
        }
      ],
      "source": [
        "df=up_load_df(r'{}\\background_files'.format(software_data_folder_location),'index_for_id_polygons_230717')"
      ]
    },
    {
      "cell_type": "markdown",
      "id": "6928d186",
      "metadata": {},
      "source": [
        "##### העלאת שכבה"
      ]
    },
    {
      "cell_type": "code",
      "execution_count": 19,
      "id": "9a6e28fc",
      "metadata": {},
      "outputs": [],
      "source": [
        "shp=up_load_shp(r'{}\\background_files\\230628_id_polygons_for_index.shp'.format(software_data_folder_location))"
      ]
    },
    {
      "cell_type": "code",
      "execution_count": 20,
      "id": "58aa48a6",
      "metadata": {},
      "outputs": [
        {
          "name": "stderr",
          "output_type": "stream",
          "text": [
            "c:\\Users\\dpere\\miniconda3\\envs\\creat_forecast_ad_hoc_env\\Lib\\site-packages\\geopandas\\geodataframe.py:2469: UserWarning: `keep_geom_type=True` in overlay resulted in 13 dropped geometries of different geometry types than df1 has. Set `keep_geom_type=False` to retain all geometries\n",
            "  return geopandas.overlay(\n"
          ]
        }
      ],
      "source": [
        "shp=up_load_shp(r'{}\\background_files\\230628_id_polygons_for_index.shp'.format(software_data_folder_location))\n",
        "\n",
        "\n",
        "index=shp.merge(df,on='id',how='outer')\n",
        "\n",
        "#לחלק את התכניות לפי אזורי תנועה\n",
        "\n",
        "index=split_index_by_taz(index,taz,0.25,['add_aprt'])\n",
        "\n",
        "#לייצר קיבולת כל חומש\n",
        "\n",
        "years=[ '2025', '2030', '2035', '2040', '2045', '2050']\n",
        "\n",
        "index[years]=index[years].apply(lambda x: x * index['risk_factor']*index['add_aprt'])\n",
        "\n",
        "col=['Taz_num','2025',\n",
        " '2030',\n",
        " '2035',\n",
        " '2040',\n",
        " '2045',\n",
        " '2050','kibolet_type']\n",
        "\n",
        "Jewish_kibolt_some_by_plan=index[col].fillna(0).melt(id_vars=['Taz_num', 'kibolet_type'], var_name='year', value_name='add_aprt').query('add_aprt!=0')\n",
        "\n",
        "Jewish_kibolt_some_by_plan['source']='by_plan'"
      ]
    },
    {
      "cell_type": "markdown",
      "id": "d94ff62e",
      "metadata": {},
      "source": [
        "### מכאן  צריך לחבר ביחד את כל הטבלאות"
      ]
    },
    {
      "cell_type": "code",
      "execution_count": 21,
      "id": "5b9da3bf",
      "metadata": {},
      "outputs": [],
      "source": [
        "kibolt_jew=pd.concat([Jewish_kibolt_some_by_plan,Jewish_kibolt_some_by_plan_only_with_taz,kibolt_yosh_some_towns_sum_by_taz,Jewish_kibolt_some_by_taz],axis=0)\n",
        "\n",
        "kibolt_jew['year']=kibolt_jew['year'].astype(str)"
      ]
    },
    {
      "cell_type": "code",
      "execution_count": 22,
      "id": "515ba643",
      "metadata": {},
      "outputs": [],
      "source": [
        "# תאריך\n",
        "file_date=pd.Timestamp.today().strftime('%y%m%d')"
      ]
    },
    {
      "cell_type": "markdown",
      "id": "1c516e4b",
      "metadata": {},
      "source": [
        "##### ייצוא טבלה"
      ]
    },
    {
      "cell_type": "code",
      "execution_count": 23,
      "id": "7b872fcd",
      "metadata": {},
      "outputs": [],
      "source": [
        "kibolt_jew.to_excel(r'{}\\Intermediates\\{}_kibolt_jew_2050_by_type.xlsx'.format(software_data_folder_location,file_date),index=False)"
      ]
    },
    {
      "cell_type": "markdown",
      "id": "81f6bcbd",
      "metadata": {},
      "source": [
        "### ייצוא לקלט של מכונת התפלגות גילים תרחיש צתאל"
      ]
    },
    {
      "cell_type": "code",
      "execution_count": 24,
      "id": "1f5db944",
      "metadata": {},
      "outputs": [],
      "source": [
        "kibolt_jew_jtmt=kibolt_jew.pivot_table(index='Taz_num',columns='year',values='add_aprt',aggfunc='sum').fillna(0).reset_index()\n",
        "\n",
        "old_col=[ 'Taz_num','2025',\n",
        " '2030',\n",
        " '2035',\n",
        " '2040',\n",
        " '2045',\n",
        " '2050']\n",
        "\n",
        "new_col=[ 'Taz_num','add_aprt_2020_2025',\n",
        " 'add_aprt_2025_2030',\n",
        " 'add_aprt_2030_2035',\n",
        " 'add_aprt_2035_2040',\n",
        " 'add_aprt_2040_2045',\n",
        " 'add_aprt_2045_2050']\n",
        "\n",
        "kibolt_jew_jtmt=change_cols_names(kibolt_jew_jtmt, old_col, new_col)\n",
        "\n",
        "kibolt_jew_jtmt.to_excel(r'{}\\Intermediates\\{}_kibolt_jew_till_2050.xlsx'.format(software_data_folder_location,file_date),index=False)"
      ]
    }
  ],
  "metadata": {
    "kernelspec": {
      "display_name": "Python 3 (ipykernel)",
      "language": "python",
      "name": "python3"
    },
    "language_info": {
      "codemirror_mode": {
        "name": "ipython",
        "version": 3
      },
      "file_extension": ".py",
      "mimetype": "text/x-python",
      "name": "python",
      "nbconvert_exporter": "python",
      "pygments_lexer": "ipython3",
      "version": "3.11.5"
    },
    "toc": {
      "base_numbering": 1,
      "nav_menu": {},
      "number_sections": true,
      "sideBar": true,
      "skip_h1_title": false,
      "title_cell": "Table of Contents",
      "title_sidebar": "Contents",
      "toc_cell": false,
      "toc_position": {},
      "toc_section_display": true,
      "toc_window_display": true
    }
  },
  "nbformat": 4,
  "nbformat_minor": 5
}
