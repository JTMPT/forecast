{
 "cells": [
  {
   "cell_type": "markdown",
   "id": "0e7214ba",
   "metadata": {
    "heading_collapsed": true
   },
   "source": [
    "## קוד מבוא"
   ]
  },
  {
   "cell_type": "markdown",
   "id": "6f1d04b7",
   "metadata": {},
   "source": [
    "#### ספריות"
   ]
  },
  {
   "cell_type": "code",
   "execution_count": 3,
   "id": "f8405d52",
   "metadata": {
    "hidden": true
   },
   "outputs": [],
   "source": [
    "import os\n",
    "import sys\n",
    "import pathlib\n",
    "import pandas as pd"
   ]
  },
  {
   "cell_type": "code",
   "execution_count": 4,
   "id": "2dacbc13",
   "metadata": {
    "hidden": true
   },
   "outputs": [],
   "source": [
    "pd.set_option('display.max_rows', None)\n",
    "pd.set_option('display.max_columns', None)"
   ]
  },
  {
   "cell_type": "markdown",
   "id": "3a088c06",
   "metadata": {},
   "source": [
    "#### העלת משתנים להרצת הקוד"
   ]
  },
  {
   "cell_type": "code",
   "execution_count": 5,
   "id": "70ba0adc",
   "metadata": {},
   "outputs": [],
   "source": [
    "df_inputs_outputs = pd.read_excel('inputs_outputs.xlsx')\n",
    "\n",
    "software_data_folder_location=df_inputs_outputs['location'][0]\n",
    "\n",
    "forecast_version_folder_location=df_inputs_outputs['location'][1]\n",
    "\n",
    "future_folder = os.path.dirname(software_data_folder_location)\n",
    "\n",
    "sys.path.append(future_folder)"
   ]
  },
  {
   "cell_type": "markdown",
   "id": "9624443e",
   "metadata": {
    "heading_collapsed": true
   },
   "source": [
    "## פונקציות"
   ]
  },
  {
   "cell_type": "markdown",
   "id": "e7917cb5",
   "metadata": {},
   "source": [
    "### פונקציות גלובליות"
   ]
  },
  {
   "cell_type": "code",
   "execution_count": 6,
   "id": "32a19e4b",
   "metadata": {},
   "outputs": [],
   "source": [
    "from global_functions import up_load_df, find_files_with_pattern"
   ]
  },
  {
   "cell_type": "markdown",
   "id": "1319865e",
   "metadata": {},
   "source": [
    "## חיבור טבלאות אוכלוסייה"
   ]
  },
  {
   "cell_type": "code",
   "execution_count": 137,
   "id": "76fba270",
   "metadata": {},
   "outputs": [],
   "source": [
    "#### תאריך\n",
    "file_date=pd.Timestamp.today().strftime('%y%m%d')"
   ]
  },
  {
   "cell_type": "code",
   "execution_count": 138,
   "id": "8540a5f2",
   "metadata": {},
   "outputs": [],
   "source": [
    "year=['2025','2030','2035','2040','2045','2050']\n",
    "add_year=['2020_2025',\n",
    " '2025_2030',\n",
    " '2030_2035',\n",
    " '2035_2040',\n",
    " '2040_2045',\n",
    " '2045_2050']"
   ]
  },
  {
   "cell_type": "markdown",
   "id": "bc3caabd",
   "metadata": {},
   "source": [
    "##### חיפוש קבצים להעלאה"
   ]
  },
  {
   "cell_type": "code",
   "execution_count": 139,
   "id": "ff33f06a",
   "metadata": {},
   "outputs": [],
   "source": [
    "matching_files=find_files_with_pattern(r'{}'.format(software_data_folder_location), '_forecast_pop_jewish_')"
   ]
  },
  {
   "cell_type": "markdown",
   "id": "573da088",
   "metadata": {},
   "source": [
    "##### העלאה, עיבוד וייצוא"
   ]
  },
  {
   "cell_type": "code",
   "execution_count": 140,
   "id": "d38c9959",
   "metadata": {},
   "outputs": [],
   "source": [
    "for y,y1,file in zip(year,add_year,matching_files):  \n",
    "    file = pathlib.Path(file)\n",
    "    file_name = file.name[:-5]\n",
    "\n",
    "    folder_path=r'{}\\Intermediates'.format(software_data_folder_location)\n",
    "\n",
    "    new_column_names = {'aprt_{}'.format(y): 'aprt', 'pop_{}'.format(y): 'pop'}\n",
    "    \n",
    "    col_for_jew_df=['Taz_num',\n",
    "                     'pop_0',\n",
    "                     'pop_10',\n",
    "                     'pop_15',\n",
    "                     'pop_20',\n",
    "                     'pop_25',\n",
    "                     'pop_30',\n",
    "                     'pop_35',\n",
    "                     'pop_40',\n",
    "                     'pop_45',\n",
    "                     'pop_5',\n",
    "                     'pop_50',\n",
    "                     'pop_55',\n",
    "                     'pop_60',\n",
    "                     'pop_65',\n",
    "                     'pop_70',\n",
    "                     'pop_75up',\n",
    "                     'pop_{}'.format(y),\n",
    "                     'aprt_{}'.format(y)]\n",
    "\n",
    "    col=['Taz_num', 'aprt','pop_0', 'pop_10', 'pop_15', 'pop_20', 'pop_25', 'pop_30', 'pop_35', 'pop_40', 'pop_45', 'pop_5', 'pop_50', 'pop_55', 'pop_60', 'pop_65', 'pop_70', 'pop_75up', 'pop']\n",
    "    forecast_pop_jewish=up_load_df(folder_path,file_name)[col_for_jew_df].rename(columns=new_column_names)[col]\n",
    "\n",
    "    folder_path=r'{}\\arab_and_palestinian\\Intermediates'.format(software_data_folder_location[:-5])\n",
    "    file_name='taz_Arab_Palestinian_{}'.format(y)\n",
    "\n",
    "    new_column_names = {'hh_{}'.format(y): 'aprt', 'pop_{}'.format(y): 'pop'}\n",
    "    forecast_pop_arab=up_load_df(folder_path,file_name).rename(columns=new_column_names)\n",
    "    \n",
    "    folder_path_save=r'{}\\Intermediates'.format(software_data_folder_location)\n",
    "\n",
    "    pd.concat([forecast_pop_arab,forecast_pop_jewish],axis=0).to_excel('{}\\{}_pop_{}_jtmt.xlsx'.format(folder_path_save,file_date,y),index=False)"
   ]
  }
 ],
 "metadata": {
  "kernelspec": {
   "display_name": "Python 3 (ipykernel)",
   "language": "python",
   "name": "python3"
  },
  "language_info": {
   "codemirror_mode": {
    "name": "ipython",
    "version": 3
   },
   "file_extension": ".py",
   "mimetype": "text/x-python",
   "name": "python",
   "nbconvert_exporter": "python",
   "pygments_lexer": "ipython3",
   "version": "3.11.5"
  },
  "toc": {
   "base_numbering": 1,
   "nav_menu": {},
   "number_sections": true,
   "sideBar": true,
   "skip_h1_title": false,
   "title_cell": "Table of Contents",
   "title_sidebar": "Contents",
   "toc_cell": false,
   "toc_position": {
    "height": "calc(100% - 180px)",
    "left": "10px",
    "top": "150px",
    "width": "480px"
   },
   "toc_section_display": true,
   "toc_window_display": true
  }
 },
 "nbformat": 4,
 "nbformat_minor": 5
}
