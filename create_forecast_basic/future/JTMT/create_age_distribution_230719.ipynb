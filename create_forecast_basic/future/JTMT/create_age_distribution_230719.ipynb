{
 "cells": [
  {
   "cell_type": "markdown",
   "id": "0e7214ba",
   "metadata": {
    "heading_collapsed": true
   },
   "source": [
    "## קוד מבוא"
   ]
  },
  {
   "cell_type": "markdown",
   "id": "f9900fd3",
   "metadata": {},
   "source": [
    "#### ספריות"
   ]
  },
  {
   "cell_type": "code",
   "execution_count": 1,
   "id": "f8405d52",
   "metadata": {
    "hidden": true
   },
   "outputs": [],
   "source": [
    "import os\n",
    "import sys\n",
    "import pathlib\n",
    "import pandas as pd\n",
    "import geopandas as gpd\n",
    "import fiona"
   ]
  },
  {
   "cell_type": "code",
   "execution_count": 2,
   "id": "2dacbc13",
   "metadata": {
    "hidden": true
   },
   "outputs": [],
   "source": [
    "pd.set_option('display.max_rows', None)\n",
    "pd.set_option('display.max_columns', None)"
   ]
  },
  {
   "cell_type": "markdown",
   "id": "5f4f2eef",
   "metadata": {},
   "source": [
    "#### העלת משתנים להרצת הקוד"
   ]
  },
  {
   "cell_type": "code",
   "execution_count": 3,
   "id": "3f5fde36",
   "metadata": {},
   "outputs": [],
   "source": [
    "df_inputs_outputs = pd.read_excel('inputs_outputs.xlsx')\n",
    "\n",
    "software_data_folder_location=df_inputs_outputs['location'][0]\n",
    "\n",
    "forecast_version_folder_location=df_inputs_outputs['location'][1]\n",
    "\n",
    "future_folder = os.path.dirname(software_data_folder_location)\n",
    "\n",
    "sys.path.append(future_folder)"
   ]
  },
  {
   "cell_type": "markdown",
   "id": "c9c19ca6",
   "metadata": {},
   "source": [
    "### פונקציות גלובליות"
   ]
  },
  {
   "cell_type": "code",
   "execution_count": 4,
   "id": "36757519",
   "metadata": {},
   "outputs": [],
   "source": [
    "from global_functions import up_load_shp, up_load_df, change_cols_names, find_files_with_pattern"
   ]
  },
  {
   "cell_type": "markdown",
   "id": "9624443e",
   "metadata": {
    "heading_collapsed": true
   },
   "source": [
    "## פונקציות"
   ]
  },
  {
   "cell_type": "markdown",
   "id": "78ef9832",
   "metadata": {},
   "source": [
    "## code"
   ]
  },
  {
   "cell_type": "markdown",
   "id": "9aa5b911",
   "metadata": {},
   "source": [
    "### עיבוד חומר מקדים"
   ]
  },
  {
   "cell_type": "code",
   "execution_count": 112,
   "id": "9bdfecbb",
   "metadata": {},
   "outputs": [],
   "source": [
    "#העלת משתנים להרצת הקוד\n",
    "df_inputs_outputs = pd.read_excel('inputs_outputs.xlsx')\n",
    "\n",
    "software_data_folder_location=df_inputs_outputs['location'][0]\n",
    "\n",
    "forecast_version_folder_location=df_inputs_outputs['location'][1]"
   ]
  },
  {
   "cell_type": "code",
   "execution_count": 113,
   "id": "728a2f56",
   "metadata": {},
   "outputs": [],
   "source": [
    "path=r'{}\\background_files'.format(software_data_folder_location)"
   ]
  },
  {
   "cell_type": "code",
   "execution_count": 114,
   "id": "e4138afb",
   "metadata": {},
   "outputs": [],
   "source": [
    "v_date='230720'"
   ]
  },
  {
   "cell_type": "code",
   "execution_count": 115,
   "id": "1b3d5351",
   "metadata": {},
   "outputs": [],
   "source": [
    "taz_2020_catalog=up_load_df(path,'forecast_2020_{}_age_dis_type'.format(v_date))\n",
    "\n",
    "matching_files=find_files_with_pattern(r'{}'.format(forecast_version_folder_location), '2020_jtmt_forcast_full')\n",
    "\n",
    "file = pathlib.Path(matching_files[0])\n",
    "file_name = file.name\n",
    "\n",
    "taz_2020_aprt=up_load_df(forecast_version_folder_location, file_name[:-5])"
   ]
  },
  {
   "cell_type": "code",
   "execution_count": 116,
   "id": "65a94d7c",
   "metadata": {},
   "outputs": [],
   "source": [
    "save_file=r'{}\\Intermediates'.format(software_data_folder_location)\n",
    "\n",
    "matching_files=find_files_with_pattern(r'{}'.format(save_file), 'kibolt_jew_till_2050')\n",
    "\n",
    "file = pathlib.Path(matching_files[0])\n",
    "file_name = file.name\n",
    "folder = str(file.parent)\n",
    "file_name[:-5]\n",
    "\n",
    "kibolt_jew_2050=up_load_df(save_file, file_name[:-5]).set_index('Taz_num')"
   ]
  },
  {
   "cell_type": "code",
   "execution_count": 117,
   "id": "083a4e51",
   "metadata": {},
   "outputs": [],
   "source": [
    "age_catalog=up_load_df(r'{}\\background_files'.format(software_data_folder_location),'age_des_types')\n",
    "\n",
    "taz_with_aprt_diversity=up_load_shp(r'{}\\background_files\\cost_diversity_for_age_distribution.shp'.format(software_data_folder_location)).set_index('Taz_num')\n",
    "\n",
    "taz_2020_catalog=taz_2020_catalog.merge(taz_2020_aprt[['Taz_num','zonetype','aprt_20','pop_without_dorms_yeshiva','Taz_name','Muni_Heb']],on='Taz_num',how='left').set_index('Taz_num')\n",
    "\n",
    "taz_2020_catalog['taz_with_aprt_diversity']=taz_with_aprt_diversity['div']\n",
    "\n",
    "taz_2020_catalog['taz_expensive']=taz_with_aprt_diversity['cost']\n",
    "\n",
    "col=['classification_name','age_cycle']\n",
    "\n",
    "taz_2020_catalog=taz_2020_catalog.reset_index().merge(age_catalog[col],on='classification_name',how='left').set_index('Taz_num')\n",
    "\n",
    "taz_2020_catalog=taz_2020_catalog.join(kibolt_jew_2050).query('sector_for_age != \"Arab\"')\n",
    "\n",
    "taz_2020_catalog=taz_2020_catalog.fillna(0)"
   ]
  },
  {
   "cell_type": "markdown",
   "id": "4d10f201",
   "metadata": {},
   "source": [
    "## חישוב "
   ]
  },
  {
   "cell_type": "code",
   "execution_count": 118,
   "id": "5f9c1f36",
   "metadata": {},
   "outputs": [],
   "source": [
    "singal_year=list(range(2025,2051,5))"
   ]
  },
  {
   "cell_type": "code",
   "execution_count": 119,
   "id": "0240b0f9",
   "metadata": {},
   "outputs": [],
   "source": [
    "years=['add_aprt_2020_2025',\n",
    " 'add_aprt_2025_2030',\n",
    " 'add_aprt_2030_2035',\n",
    " 'add_aprt_2035_2040',\n",
    " 'add_aprt_2040_2045',\n",
    " 'add_aprt_2045_2050']\n",
    "\n",
    "y_before=['2020','2020_2025',\n",
    " '2025_2030',\n",
    " '2030_2035',\n",
    " '2035_2040',\n",
    " '2040_2045']\n",
    "\n",
    "only_years=['2020_2025',\n",
    " '2025_2030',\n",
    " '2030_2035',\n",
    " '2035_2040',\n",
    " '2040_2045',\n",
    " '2045_2050']"
   ]
  },
  {
   "cell_type": "code",
   "execution_count": 120,
   "id": "5cc6778a",
   "metadata": {},
   "outputs": [],
   "source": [
    "taz_2020_catalog['age_cycle_time']=0\n",
    "taz_2020_catalog['current_aprt']=taz_2020_catalog['aprt_20']\n",
    "years_to_change_cycle_stage=20\n",
    "age_cycle_limit=4\n",
    "taz_2020_catalog['age_cycle_2020']=taz_2020_catalog['age_cycle']\n",
    "taz_2020_catalog['changed_this_cycle']=0"
   ]
  },
  {
   "cell_type": "code",
   "execution_count": 121,
   "id": "0cd01ab9",
   "metadata": {
    "code_folding": []
   },
   "outputs": [
    {
     "name": "stderr",
     "output_type": "stream",
     "text": [
      "C:\\Users\\dpere\\AppData\\Local\\Temp\\ipykernel_30420\\617637879.py:11: FutureWarning: Setting an item of incompatible dtype is deprecated and will raise in a future error of pandas. Value ' | new diverse neighborhood | ' has dtype incompatible with float64, please explicitly cast to a compatible dtype first.\n",
      "  taz_2020_catalog.loc[\n",
      "C:\\Users\\dpere\\AppData\\Local\\Temp\\ipykernel_30420\\617637879.py:11: FutureWarning: Setting an item of incompatible dtype is deprecated and will raise in a future error of pandas. Value ' | new diverse neighborhood | ' has dtype incompatible with float64, please explicitly cast to a compatible dtype first.\n",
      "  taz_2020_catalog.loc[\n",
      "C:\\Users\\dpere\\AppData\\Local\\Temp\\ipykernel_30420\\617637879.py:11: FutureWarning: Setting an item of incompatible dtype is deprecated and will raise in a future error of pandas. Value ' | new diverse neighborhood | ' has dtype incompatible with float64, please explicitly cast to a compatible dtype first.\n",
      "  taz_2020_catalog.loc[\n",
      "C:\\Users\\dpere\\AppData\\Local\\Temp\\ipykernel_30420\\617637879.py:11: FutureWarning: Setting an item of incompatible dtype is deprecated and will raise in a future error of pandas. Value ' | new diverse neighborhood | ' has dtype incompatible with float64, please explicitly cast to a compatible dtype first.\n",
      "  taz_2020_catalog.loc[\n",
      "C:\\Users\\dpere\\AppData\\Local\\Temp\\ipykernel_30420\\617637879.py:11: FutureWarning: Setting an item of incompatible dtype is deprecated and will raise in a future error of pandas. Value ' | new diverse neighborhood | ' has dtype incompatible with float64, please explicitly cast to a compatible dtype first.\n",
      "  taz_2020_catalog.loc[\n",
      "C:\\Users\\dpere\\AppData\\Local\\Temp\\ipykernel_30420\\617637879.py:11: FutureWarning: Setting an item of incompatible dtype is deprecated and will raise in a future error of pandas. Value ' | new diverse neighborhood | ' has dtype incompatible with float64, please explicitly cast to a compatible dtype first.\n",
      "  taz_2020_catalog.loc[\n"
     ]
    }
   ],
   "source": [
    "for y, y1 in zip(years, only_years):\n",
    "    \n",
    "        \n",
    "    \n",
    "    #### אזורים ללא יח\"ד קיימות בשנת הבסיס מתאכלסים בהתפלגות גילים הראשוני\n",
    "\n",
    "    taz_with_aprt_diversity_condition = taz_2020_catalog['taz_with_aprt_diversity']==1\n",
    "    taz_expensive_condition = taz_2020_catalog['taz_expensive']==1\n",
    "    \n",
    "\n",
    "    taz_2020_catalog.loc[\n",
    "        (taz_2020_catalog['current_aprt']==0)&\n",
    "        (taz_2020_catalog['{}'.format(y)]>0)&\n",
    "        (taz_2020_catalog['changed_this_cycle']==0)&\n",
    "        taz_with_aprt_diversity_condition,['age_cycle','age_cycle_time','explanation_{}'.format(y1),'changed_this_cycle']\n",
    "    ]=[3,0,' | new diverse neighborhood | ',1]\n",
    "\n",
    "    \n",
    "    taz_2020_catalog.loc[\n",
    "        (taz_2020_catalog['current_aprt']==0)&\n",
    "        (taz_2020_catalog['{}'.format(y)]>0)&\n",
    "        (taz_2020_catalog['changed_this_cycle']==0)&\n",
    "        taz_expensive_condition&\n",
    "        ~taz_with_aprt_diversity_condition,['age_cycle','age_cycle_time','explanation_{}'.format(y1),'changed_this_cycle']\n",
    "    ]=[2,0,' | new non-diverse expensive neighborhood  | ',1]\n",
    "    \n",
    "    taz_2020_catalog.loc[\n",
    "        (taz_2020_catalog['current_aprt']==0)&\n",
    "        (taz_2020_catalog['{}'.format(y)]>0)&\n",
    "        (taz_2020_catalog['changed_this_cycle']==0)&\n",
    "        ~taz_expensive_condition&\n",
    "        ~taz_with_aprt_diversity_condition,['age_cycle','age_cycle_time','explanation_{}'.format(y1),'changed_this_cycle']\n",
    "    ]=[1,0,' | new non-diverse neighborhood  | ',1]\n",
    "\n",
    "    #### אזורים עם יח\"ד קיימות בשנת הבסיס מתאכלסים בהתפלגות גילים כפונצקיה של יחס קיבולת למצב הקיים\n",
    "\n",
    "    taz_2020_catalog.loc[\n",
    "        (taz_2020_catalog['current_aprt']>0),'precent_add_to_current'\n",
    "    ]=taz_2020_catalog['{}'.format(y)]/taz_2020_catalog['current_aprt']\n",
    "\n",
    "\n",
    "    \n",
    "    \n",
    "    \n",
    "    #### יחס נמוך - הקיבולת בטלה ביחס למצב הקיים\n",
    "        #### יחס גדול - הקיבולת מבטלת את המצב הקיים\n",
    "\n",
    "    kibolet_condition = taz_2020_catalog['precent_add_to_current'] > 0.5\n",
    "    yush_condition =  taz_2020_catalog['zonetype']=='Judea and Samaria'\n",
    "\n",
    "    taz_2020_catalog.loc[\n",
    "        kibolet_condition &\n",
    "        ~yush_condition &\n",
    "        (taz_2020_catalog['changed_this_cycle']==0)&\n",
    "        taz_with_aprt_diversity_condition,['age_cycle','age_cycle_time','explanation_{}'.format(y1),'changed_this_cycle']\n",
    "    ]=[3,0,'| renew diverse neighborhood |',1]\n",
    "    \n",
    "    taz_2020_catalog.loc[\n",
    "        kibolet_condition &\n",
    "        taz_expensive_condition &\n",
    "        (taz_2020_catalog['changed_this_cycle']==0)&\n",
    "        ~taz_with_aprt_diversity_condition,['age_cycle','age_cycle_time','explanation_{}'.format(y1),'changed_this_cycle']\n",
    "    ]=[2,0,'| a lot of new aprts in non-diverse expensive neighborhood|',1]\n",
    "\n",
    "    taz_2020_catalog.loc[\n",
    "        kibolet_condition &\n",
    "        (taz_2020_catalog['changed_this_cycle']==0)&\n",
    "        ~taz_expensive_condition &\n",
    "        ~taz_with_aprt_diversity_condition,['age_cycle','age_cycle_time','explanation_{}'.format(y1),'changed_this_cycle']\n",
    "    ]=[1,0,'| a lot of new aprts in non-diverse neighborhood|',1]\n",
    "\n",
    "    #### יחס בינוני\n",
    "\n",
    "    ##### ביוש אין התחדשות עירונית לכן אם יחס גבוהה יחסית זה כמו בנייה חדשה עם אכלוס של סוג התפלגות גילים הראשוני\n",
    "\n",
    "    \n",
    "    kibolet_condition =  taz_2020_catalog['precent_add_to_current']>= 0.20\n",
    "\n",
    "    taz_2020_catalog.loc[\n",
    "        (yush_condition)&\n",
    "        (taz_2020_catalog['changed_this_cycle']==0)&\n",
    "        (kibolet_condition) , ['age_cycle','age_cycle_time','explanation_{}'.format(y1),'changed_this_cycle']\n",
    "    ] = [1, 0,'| a lot of new aprts in non-diverse neighborhood in yush |',1]\n",
    "\n",
    "\n",
    "    ##### יוש אין התחדשות עירונית לכן אם יחס לא גבוהה יחסית זה מונע התבגרות של המצב הקיים\n",
    "    \n",
    "\n",
    "    ##### אם לא ביוש אז יש אפשרות התחדשות עירונית לכן המקום נהיה מגוון\n",
    "\n",
    "    \n",
    "    kibolet_condition =  (taz_2020_catalog['precent_add_to_current']>= 0.25) & (taz_2020_catalog['precent_add_to_current'] <= 0.5)\n",
    "    \n",
    "\n",
    "    taz_2020_catalog.loc[\n",
    "        ~(yush_condition)&\n",
    "        (kibolet_condition)&\n",
    "        (taz_with_aprt_diversity_condition) , ['age_cycle','explanation_{}'.format(y1)]\n",
    "    ] =  [3,'| a lot of new aprts in diverse neighborhood|']\n",
    "    \n",
    "    \n",
    "    \n",
    "    #השעון התקדם כבר ולא צריך לשנות כלום\n",
    "\n",
    "    #### קוד לתהליך התבגרות התפלגות הגילים כפונקציה של סוג מגזר\n",
    "\n",
    "    \n",
    "\n",
    "    age_cycle_condition = taz_2020_catalog['age_cycle']<age_cycle_limit\n",
    "\n",
    "    age_cycle_time_condition=(taz_2020_catalog['age_cycle_time']%years_to_change_cycle_stage==0)&(taz_2020_catalog['age_cycle_time']>0)\n",
    "\n",
    "    sector_condition=taz_2020_catalog['sector_for_age']=='hitnachlut' \n",
    "    \n",
    "    taz_2020_catalog.loc[\n",
    "        (age_cycle_time_condition) &\n",
    "        (sector_condition) &\n",
    "        (taz_2020_catalog['changed_this_cycle']==0)&\n",
    "        (age_cycle_condition),['explanation_{}'.format(y1),'changed_this_cycle']\n",
    "    ]=['| natural aging |',1]\n",
    "    \n",
    "    taz_2020_catalog.loc[\n",
    "        (age_cycle_time_condition) &\n",
    "        (sector_condition) &\n",
    "        (age_cycle_condition),'age_cycle'\n",
    "    ]=taz_2020_catalog['age_cycle']+1\n",
    "    \n",
    "    \n",
    "    taz_2020_catalog.loc[\n",
    "        (age_cycle_time_condition) &\n",
    "        (sector_condition) &\n",
    "        (age_cycle_condition),'age_cycle_time'\n",
    "    ]=taz_2020_catalog['age_cycle_time']+5\n",
    "\n",
    "    sector_condition=taz_2020_catalog['sector_for_age']=='Jewish'\n",
    "\n",
    "    age_cycle_condition = taz_2020_catalog['age_cycle']==1\n",
    "\n",
    "\n",
    "    taz_2020_catalog.loc[\n",
    "        (age_cycle_time_condition) &\n",
    "        (taz_2020_catalog['changed_this_cycle']==0)&\n",
    "        (sector_condition) &\n",
    "        (age_cycle_condition),['age_cycle','explanation_{}'.format(y1),'changed_this_cycle']\n",
    "    ]=[2 ,'| natural aging |',1]\n",
    "    \n",
    "    \n",
    "    taz_2020_catalog.loc[\n",
    "        (age_cycle_time_condition) & \n",
    "        (sector_condition) &\n",
    "        (age_cycle_condition),'age_cycle_time'\n",
    "    ]=taz_2020_catalog['age_cycle_time']+5\n",
    "\n",
    "\n",
    "    sector_condition=taz_2020_catalog['sector_for_age']=='Jewish'\n",
    "\n",
    "    age_cycle_condition = taz_2020_catalog['age_cycle']==2\n",
    "\n",
    "    \n",
    "\n",
    "    taz_2020_catalog.loc[\n",
    "        (age_cycle_time_condition) &\n",
    "        (age_cycle_condition) &\n",
    "        (sector_condition) &\n",
    "        (taz_2020_catalog['changed_this_cycle']==0) &\n",
    "        (taz_with_aprt_diversity_condition),['age_cycle','explanation_{}'.format(y1),'changed_this_cycle']\n",
    "    ]=[3,'| natural aging to a diverse neighborhood |',1]\n",
    "    \n",
    "    taz_2020_catalog.loc[\n",
    "        (age_cycle_time_condition) &\n",
    "        (age_cycle_condition) &\n",
    "        (sector_condition) &\n",
    "        (taz_with_aprt_diversity_condition),'age_cycle_time'\n",
    "    ]=taz_2020_catalog['age_cycle_time']+5\n",
    "\n",
    "    sector_condition=taz_2020_catalog['sector_for_age']=='Jewish'\n",
    "\n",
    "    age_cycle_condition = taz_2020_catalog['age_cycle']==4\n",
    "\n",
    "    \n",
    "\n",
    "    taz_2020_catalog.loc[\n",
    "        (age_cycle_time_condition) &\n",
    "        (age_cycle_condition) &\n",
    "        (sector_condition) &\n",
    "        (taz_2020_catalog['changed_this_cycle']==0) &\n",
    "        (taz_with_aprt_diversity_condition),['age_cycle','explanation_{}'.format(y1),'changed_this_cycle']\n",
    "    ]=[3,'| old to a diverse neighborhood |',1]\n",
    "    \n",
    "    taz_2020_catalog.loc[\n",
    "        (age_cycle_time_condition) &\n",
    "        (age_cycle_condition) &\n",
    "        (sector_condition) &\n",
    "        (taz_with_aprt_diversity_condition),'age_cycle_time'\n",
    "    ]=taz_2020_catalog['age_cycle_time']+5\n",
    "   \n",
    "    \n",
    "    sector_condition=taz_2020_catalog['sector_for_age']=='U_Orthodox'\n",
    "\n",
    "    age_cycle_condition = taz_2020_catalog['age_cycle']==1\n",
    "\n",
    "\n",
    "    taz_2020_catalog.loc[\n",
    "        (age_cycle_time_condition) &\n",
    "        (sector_condition) &\n",
    "        (taz_2020_catalog['changed_this_cycle']==0) &\n",
    "        (age_cycle_condition),['age_cycle','explanation_{}'.format(y1),'changed_this_cycle']\n",
    "    ]=[2 ,'| natural aging |',1]\n",
    "    \n",
    "    \n",
    "    taz_2020_catalog.loc[\n",
    "        (age_cycle_time_condition) &\n",
    "        (sector_condition) &\n",
    "        (age_cycle_condition),'age_cycle_time'\n",
    "    ]=taz_2020_catalog['age_cycle_time']+5\n",
    "\n",
    "    age_cycle_condition = taz_2020_catalog['age_cycle']==2\n",
    "\n",
    "    taz_2020_catalog.loc[\n",
    "        (age_cycle_time_condition) &\n",
    "        (taz_2020_catalog['changed_this_cycle']==0) &\n",
    "        (age_cycle_condition) &\n",
    "        (sector_condition) &\n",
    "        (taz_with_aprt_diversity_condition),['age_cycle','explanation_{}'.format(y1),'changed_this_cycle']\n",
    "    ]=[3,'| natural aging to a diverse neighborhood |',1]\n",
    "    \n",
    "    \n",
    "    taz_2020_catalog.loc[\n",
    "        (age_cycle_time_condition) &\n",
    "        (age_cycle_condition) &\n",
    "        (sector_condition) &\n",
    "        (taz_with_aprt_diversity_condition),'age_cycle_time'\n",
    "    ]=taz_2020_catalog['age_cycle_time']+5\n",
    "    \n",
    "    \n",
    "    taz_2020_catalog.loc[\n",
    "        (age_cycle_time_condition) &\n",
    "         (taz_2020_catalog['changed_this_cycle']==0) &\n",
    "        (age_cycle_condition) &\n",
    "        (sector_condition) &\n",
    "        ~(taz_with_aprt_diversity_condition),['age_cycle','explanation_{}'.format(y1),'changed_this_cycle']\n",
    "    ]=[4,'| natural aging |',1]\n",
    "    \n",
    "    age_cycle_condition = taz_2020_catalog['age_cycle']==4\n",
    "    \n",
    "    taz_2020_catalog.loc[\n",
    "        (age_cycle_time_condition) &\n",
    "        (taz_2020_catalog['changed_this_cycle']==0) &\n",
    "        (age_cycle_condition) &\n",
    "        (sector_condition) &\n",
    "        (taz_with_aprt_diversity_condition),['age_cycle','explanation_{}'.format(y1),'changed_this_cycle']\n",
    "    ]=[3,'| old to a diverse neighborhood |',1]\n",
    "    \n",
    "    \n",
    "    taz_2020_catalog.loc[\n",
    "        (age_cycle_time_condition) &\n",
    "        (age_cycle_condition) &\n",
    "        (sector_condition) &\n",
    "        (taz_with_aprt_diversity_condition),'age_cycle_time'\n",
    "    ]=taz_2020_catalog['age_cycle_time']+5\n",
    "    \n",
    "    \n",
    "   \n",
    "\n",
    "    taz_2020_catalog.loc[\n",
    "        (age_cycle_time_condition) &\n",
    "        (age_cycle_condition) &\n",
    "        (sector_condition) &\n",
    "        ~(taz_with_aprt_diversity_condition),'age_cycle_time'\n",
    "    ]=taz_2020_catalog['age_cycle_time']+5\n",
    "\n",
    "    taz_2020_catalog.loc[(taz_2020_catalog['changed_this_cycle']==0),'age_cycle_time'\n",
    "    ]=taz_2020_catalog['age_cycle_time']+5\n",
    "    \n",
    "    taz_2020_catalog['changed_this_cycle']=0\n",
    "\n",
    "    \n",
    "    taz_2020_catalog['current_aprt']=taz_2020_catalog['current_aprt']+taz_2020_catalog['{}'.format(y)]\n",
    "    taz_2020_catalog['current_aprt_{}'.format(y1)]= taz_2020_catalog['current_aprt']\n",
    "    taz_2020_catalog['age_cycle_{}'.format(y1)]= taz_2020_catalog['age_cycle']\n",
    "    taz_2020_catalog['age_cycle_time_{}'.format(y1)]= taz_2020_catalog['age_cycle_time']\n",
    "    taz_2020_catalog['precent_add_to_current_{}'.format(y1)]= taz_2020_catalog['precent_add_to_current']"
   ]
  },
  {
   "cell_type": "code",
   "execution_count": 122,
   "id": "23cf9c43",
   "metadata": {},
   "outputs": [],
   "source": [
    "file_date=pd.Timestamp.today().strftime('%y%m%d')"
   ]
  },
  {
   "cell_type": "markdown",
   "id": "614f26f0",
   "metadata": {},
   "source": [
    "## ייצוא"
   ]
  },
  {
   "cell_type": "code",
   "execution_count": 123,
   "id": "a36aa769",
   "metadata": {},
   "outputs": [],
   "source": [
    "taz_2020_catalog['hh_size_2020']=taz_2020_catalog['pop_without_dorms_yeshiva']/taz_2020_catalog['aprt_20']"
   ]
  },
  {
   "cell_type": "code",
   "execution_count": 124,
   "id": "a8a94092",
   "metadata": {},
   "outputs": [],
   "source": [
    "for y1,sy,y_b, in zip(only_years, singal_year,y_before):\n",
    "    taz_2020_catalog.loc[(taz_2020_catalog['age_cycle_{}'.format(y1)]==taz_2020_catalog['age_cycle_{}'.format(y_b)])&(taz_2020_catalog['age_cycle_{}'.format(y1)]==3),'hh_size_{}'.format(y1)]=taz_2020_catalog['hh_size_{}'.format(y_b)]\n",
    "    taz_2020_catalog.loc[(taz_2020_catalog['age_cycle_{}'.format(y1)]==taz_2020_catalog['age_cycle_{}'.format(y_b)])&(taz_2020_catalog['age_cycle_{}'.format(y1)]==3),'hh_size_{}'.format(y1)]=taz_2020_catalog['hh_size_{}'.format(y1)]+0.15\n",
    "    "
   ]
  },
  {
   "cell_type": "code",
   "execution_count": 125,
   "id": "6899f257",
   "metadata": {},
   "outputs": [],
   "source": [
    "col_age=[ 'pop_0',\n",
    " 'pop_10',\n",
    " 'pop_15',\n",
    " 'pop_20',\n",
    " 'pop_25',\n",
    " 'pop_30',\n",
    " 'pop_35',\n",
    " 'pop_40',\n",
    " 'pop_45',\n",
    " 'pop_5',\n",
    " 'pop_50',\n",
    " 'pop_55',\n",
    " 'pop_60',\n",
    " 'pop_65',\n",
    " 'pop_70',\n",
    " 'pop_75up']"
   ]
  },
  {
   "cell_type": "code",
   "execution_count": 126,
   "id": "b6e47829",
   "metadata": {},
   "outputs": [],
   "source": [
    "for y1,sy,y_b, in zip(only_years, singal_year,y_before):\n",
    "    \n",
    "    col_taz=['Taz_num','current_aprt_{}'.format(y1),'explanation_{}'.format(y1),'age_cycle_{}'.format(y1),'hh_size_{}'.format(y1),'sector_for_age']\n",
    "    \n",
    "    left_col=['sector_for_age','age_cycle_{}'.format(y1)]\n",
    "    right_col=['sector','age_cycle']\n",
    "\n",
    "    df=taz_2020_catalog.reset_index()[col_taz].merge(age_catalog,left_on=left_col,right_on=right_col,how='left').set_index('Taz_num')\n",
    "    \n",
    "\n",
    "    df['pop']=df['current_aprt_{}'.format(y1)]*df['hh_size_{}'.format(y1)]\n",
    "    df.loc[df['hh_size_{}'.format(y1)].isna(),'pop']=df['current_aprt_{}'.format(y1)]*df['hh_size']\n",
    "    \n",
    "        \n",
    "    df['pop_{}'.format(sy)]=df['pop']\n",
    "    \n",
    "    df['aprt_{}'.format(sy)]=df['current_aprt_{}'.format(y1)]\n",
    "    \n",
    "    df[col_age]=df[col_age].multiply(df['pop'], axis=\"index\")    \n",
    "    \n",
    "    file_save=r'{}\\Intermediates'.format(software_data_folder_location)\n",
    "    save_excel_path=r'{}\\{}_forecast_pop_jewish_{}_jtmt.xlsx'.format(file_save,file_date,y1)\n",
    "    \n",
    "    df.to_excel(save_excel_path,index=True)\n",
    "    \n",
    "    taz_2020_catalog=taz_2020_catalog.join(df[['pop_{}'.format(sy),'aprt_{}'.format(sy)]])\n",
    "    \n",
    " "
   ]
  },
  {
   "cell_type": "code",
   "execution_count": 127,
   "id": "ad2a5e4c",
   "metadata": {},
   "outputs": [],
   "source": [
    "taz_2020_catalog['add_aprt_till_2050']=taz_2020_catalog[['add_aprt_2020_2025',\n",
    " 'add_aprt_2025_2030',\n",
    " 'add_aprt_2030_2035',\n",
    " 'add_aprt_2035_2040',\n",
    " 'add_aprt_2040_2045',\n",
    " 'add_aprt_2045_2050']].sum(axis=1)"
   ]
  },
  {
   "cell_type": "code",
   "execution_count": 128,
   "id": "075fa418",
   "metadata": {},
   "outputs": [],
   "source": [
    "col_order=['Taz_name','Muni_Heb','zonetype',\n",
    " 'taz_with_aprt_diversity',\n",
    " 'taz_expensive',\n",
    " 'sector_for_age',\n",
    " 'explanation_2020_2025',\n",
    " 'explanation_2025_2030',\n",
    " 'explanation_2030_2035',\n",
    " 'explanation_2035_2040',\n",
    " 'explanation_2040_2045',\n",
    " 'explanation_2045_2050',\n",
    " 'aprt_20','aprt_2025','aprt_2030','aprt_2035','aprt_2040','aprt_2045'\n",
    ",'aprt_2050', 'add_aprt_2020_2025',\n",
    " 'add_aprt_2025_2030',\n",
    " 'add_aprt_2030_2035',\n",
    " 'add_aprt_2035_2040',\n",
    " 'add_aprt_2040_2045',\n",
    " 'add_aprt_2045_2050',\n",
    " 'add_aprt_till_2050',\n",
    " 'pop_without_dorms_yeshiva',\n",
    " 'pop_2025',\n",
    " 'pop_2030',\n",
    " 'pop_2035',\n",
    " 'pop_2040',\n",
    " 'pop_2045',\n",
    " 'pop_2050',\n",
    " 'classification_name',\n",
    " 'age_cycle_2020',\n",
    " 'age_cycle_2020_2025',\n",
    " 'age_cycle_2025_2030',\n",
    " 'age_cycle_2030_2035',\n",
    " 'age_cycle_2035_2040',\n",
    " 'age_cycle_2040_2045',\n",
    " 'age_cycle_2045_2050',\n",
    " 'age_cycle_time_2020_2025',\n",
    " 'age_cycle_time_2025_2030',\n",
    " 'age_cycle_time_2030_2035',\n",
    " 'age_cycle_time_2035_2040',\n",
    " 'age_cycle_time_2040_2045',\n",
    " 'age_cycle_time_2045_2050',\n",
    " 'precent_add_to_current_2020_2025',\n",
    " 'precent_add_to_current_2025_2030',\n",
    " 'precent_add_to_current_2030_2035',\n",
    " 'precent_add_to_current_2035_2040',\n",
    " 'precent_add_to_current_2040_2045',\n",
    " 'precent_add_to_current_2045_2050']"
   ]
  },
  {
   "cell_type": "code",
   "execution_count": 129,
   "id": "d5c645d9",
   "metadata": {},
   "outputs": [],
   "source": [
    "file_save=r'{}\\Intermediates'.format(software_data_folder_location)\n",
    "save_excel_path=r'{}\\{}_forecast_pop_jewish_till_2050_jtmt.xlsx'.format(file_save,file_date)"
   ]
  },
  {
   "cell_type": "code",
   "execution_count": 130,
   "id": "b2b9f81a",
   "metadata": {
    "code_folding": [],
    "scrolled": false
   },
   "outputs": [],
   "source": [
    "taz_2020_catalog[col_order].to_excel(save_excel_path)"
   ]
  },
  {
   "cell_type": "code",
   "execution_count": 131,
   "id": "15f12731",
   "metadata": {},
   "outputs": [
    {
     "name": "stderr",
     "output_type": "stream",
     "text": [
      "C:\\Users\\dpere\\AppData\\Local\\Temp\\ipykernel_30420\\3239392360.py:1: FutureWarning: The provided callable <built-in function sum> is currently using DataFrameGroupBy.sum. In a future version of pandas, the provided callable will be used directly. To keep current behavior pass the string \"sum\" instead.\n",
      "  taz_2020_catalog_pivot=taz_2020_catalog.pivot_table(index='Muni_Heb',aggfunc=sum)\n"
     ]
    }
   ],
   "source": [
    "taz_2020_catalog_pivot=taz_2020_catalog.pivot_table(index='Muni_Heb',aggfunc=sum)"
   ]
  },
  {
   "cell_type": "code",
   "execution_count": 132,
   "id": "7e4de750",
   "metadata": {},
   "outputs": [],
   "source": [
    "taz_2020_catalog_pivot['add_pop_till_2050']=taz_2020_catalog_pivot['pop_2050']-taz_2020_catalog_pivot['pop_without_dorms_yeshiva']"
   ]
  },
  {
   "cell_type": "code",
   "execution_count": 133,
   "id": "d4d04038",
   "metadata": {},
   "outputs": [],
   "source": [
    "taz_2020_catalog_pivot['precent_growth_till_2050']=round(taz_2020_catalog_pivot['pop_2050']/taz_2020_catalog_pivot['pop_without_dorms_yeshiva'],2)"
   ]
  },
  {
   "cell_type": "code",
   "execution_count": 134,
   "id": "c5a2a478",
   "metadata": {},
   "outputs": [],
   "source": [
    "col_order=['pop_without_dorms_yeshiva',\n",
    " 'pop_2025',\n",
    " 'pop_2030',\n",
    " 'pop_2035',\n",
    " 'pop_2040',\n",
    " 'pop_2045',\n",
    " 'pop_2050','add_pop_till_2050','precent_growth_till_2050','aprt_20','aprt_2025','aprt_2030','aprt_2035','aprt_2040','aprt_2045'\n",
    ",'aprt_2050',\n",
    " 'add_aprt_2020_2025',\n",
    " 'add_aprt_2025_2030',\n",
    " 'add_aprt_2030_2035',\n",
    " 'add_aprt_2035_2040',\n",
    " 'add_aprt_2040_2045',\n",
    " 'add_aprt_2045_2050',\n",
    " 'add_aprt_till_2050' ]"
   ]
  },
  {
   "cell_type": "code",
   "execution_count": 135,
   "id": "fa6519af",
   "metadata": {},
   "outputs": [],
   "source": [
    "save_excel_path=r'{}\\{}_pivot_by_muni_forecast_pop_jewish_till_2050_jtmt.xlsx'.format(file_save,file_date)"
   ]
  },
  {
   "cell_type": "code",
   "execution_count": 136,
   "id": "27b800a4",
   "metadata": {},
   "outputs": [],
   "source": [
    "taz_2020_catalog_pivot[col_order].query('index!=\"0\"').to_excel(save_excel_path)"
   ]
  }
 ],
 "metadata": {
  "kernelspec": {
   "display_name": "Python 3 (ipykernel)",
   "language": "python",
   "name": "python3"
  },
  "language_info": {
   "codemirror_mode": {
    "name": "ipython",
    "version": 3
   },
   "file_extension": ".py",
   "mimetype": "text/x-python",
   "name": "python",
   "nbconvert_exporter": "python",
   "pygments_lexer": "ipython3",
   "version": "3.11.5"
  },
  "toc": {
   "base_numbering": 1,
   "nav_menu": {},
   "number_sections": true,
   "sideBar": true,
   "skip_h1_title": false,
   "title_cell": "Table of Contents",
   "title_sidebar": "Contents",
   "toc_cell": false,
   "toc_position": {
    "height": "calc(100% - 180px)",
    "left": "10px",
    "top": "150px",
    "width": "426.667px"
   },
   "toc_section_display": true,
   "toc_window_display": true
  }
 },
 "nbformat": 4,
 "nbformat_minor": 5
}
