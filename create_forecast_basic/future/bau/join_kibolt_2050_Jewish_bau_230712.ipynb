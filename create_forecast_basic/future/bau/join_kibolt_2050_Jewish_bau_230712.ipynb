{
 "cells": [
  {
   "cell_type": "markdown",
   "id": "0e7214ba",
   "metadata": {
    "heading_collapsed": true
   },
   "source": [
    "### קוד מבוא"
   ]
  },
  {
   "cell_type": "markdown",
   "id": "7c37f78c",
   "metadata": {},
   "source": [
    "#### ספריות"
   ]
  },
  {
   "cell_type": "code",
   "execution_count": 4,
   "id": "f8405d52",
   "metadata": {
    "hidden": true
   },
   "outputs": [],
   "source": [
    "import os\n",
    "import pandas as pd\n",
    "import sys"
   ]
  },
  {
   "cell_type": "code",
   "execution_count": 5,
   "id": "2dacbc13",
   "metadata": {
    "hidden": true
   },
   "outputs": [],
   "source": [
    "pd.set_option('display.max_rows', None)\n",
    "pd.set_option('display.max_columns', None)\n",
    "pd.options.display.float_format = '{:.4f}'.format\n",
    "pd.set_option('display.float_format',  '{:,.2f}'.format)"
   ]
  },
  {
   "cell_type": "markdown",
   "id": "104f263a",
   "metadata": {},
   "source": [
    "#### העלאת משתנים להרצת הקוד"
   ]
  },
  {
   "cell_type": "code",
   "execution_count": 6,
   "id": "848b6799",
   "metadata": {},
   "outputs": [],
   "source": [
    "df_inputs_outputs = pd.read_excel('inputs_outputs.xlsx')\n",
    "\n",
    "software_data_folder_location=df_inputs_outputs['location'][0]\n",
    "\n",
    "forecast_version_folder_location=df_inputs_outputs['location'][1]\n",
    "\n",
    "future_folder = os.path.dirname(software_data_folder_location)\n",
    "\n",
    "sys.path.append(future_folder)"
   ]
  },
  {
   "cell_type": "markdown",
   "id": "9624443e",
   "metadata": {
    "heading_collapsed": true
   },
   "source": [
    "### פונקציות"
   ]
  },
  {
   "cell_type": "markdown",
   "id": "f589a31c",
   "metadata": {},
   "source": [
    "### פונקציות גלובליות"
   ]
  },
  {
   "cell_type": "code",
   "execution_count": 7,
   "id": "10a34ae2",
   "metadata": {},
   "outputs": [],
   "source": [
    "from global_functions import up_load_shp, up_load_df, split_index_by_taz, change_cols_names"
   ]
  },
  {
   "cell_type": "markdown",
   "id": "21ecf8a3",
   "metadata": {},
   "source": [
    "### העלאת קבצים"
   ]
  },
  {
   "cell_type": "markdown",
   "id": "861cbb99",
   "metadata": {
    "heading_collapsed": true
   },
   "source": [
    "#### קיבולת ברמת יישוב (חלקי) ביו\"ש"
   ]
  },
  {
   "cell_type": "markdown",
   "id": "812f2f0e",
   "metadata": {},
   "source": [
    "##### העלאת טבלה"
   ]
  },
  {
   "cell_type": "code",
   "execution_count": 8,
   "id": "9565a6c5",
   "metadata": {
    "hidden": true,
    "scrolled": true
   },
   "outputs": [],
   "source": [
    "kibolt_yosh_some_towns=up_load_df(r'{}\\background_files'.format(software_data_folder_location),'230628_Jewish_kibolt_some_towns_in_yosh_till_2050')"
   ]
  },
  {
   "cell_type": "code",
   "execution_count": 9,
   "id": "3d290290",
   "metadata": {
    "code_folding": [],
    "hidden": true
   },
   "outputs": [
    {
     "name": "stderr",
     "output_type": "stream",
     "text": [
      "C:\\Users\\dpere\\AppData\\Local\\Temp\\ipykernel_26700\\702667703.py:8: FutureWarning: The provided callable <built-in function sum> is currently using DataFrameGroupBy.sum. In a future version of pandas, the provided callable will be used directly. To keep current behavior pass the string \"sum\" instead.\n",
      "  kibolt_yosh_some_towns_sum_by_taz=kibolt_yosh_some_towns.pivot_table(index='Taz_num',aggfunc=sum).reset_index()[col]\n"
     ]
    }
   ],
   "source": [
    "col=[ 'Taz_num', 'add_aprt_2020__2025',\n",
    " 'add_aprt_2025__2030',\n",
    " 'add_aprt_2030__2035',\n",
    " 'add_aprt_2035__2040',\n",
    " 'add_aprt_2040_2045',\n",
    " 'add_aprt_2045_2050']\n",
    "\n",
    "kibolt_yosh_some_towns_sum_by_taz=kibolt_yosh_some_towns.pivot_table(index='Taz_num',aggfunc=sum).reset_index()[col]\n",
    "\n",
    "kibolt_yosh_some_towns_sum_by_taz['kibolet_type']='Shrinkable'"
   ]
  },
  {
   "cell_type": "code",
   "execution_count": 10,
   "id": "b49b541a",
   "metadata": {
    "hidden": true
   },
   "outputs": [],
   "source": [
    "old_col=[ 'Taz_num','add_aprt_2020__2025',\n",
    " 'add_aprt_2025__2030',\n",
    " 'add_aprt_2030__2035',\n",
    " 'add_aprt_2035__2040',\n",
    " 'add_aprt_2040_2045',\n",
    " 'add_aprt_2045_2050','kibolet_type']\n",
    "\n",
    "new_col=[ 'Taz_num','2025',\n",
    " '2030',\n",
    " '2035',\n",
    " '2040',\n",
    " '2045',\n",
    " '2050','kibolet_type']\n",
    "\n",
    "kibolt_yosh_some_towns_sum_by_taz=change_cols_names(kibolt_yosh_some_towns_sum_by_taz, old_col, new_col)\n",
    "\n",
    "kibolt_yosh_some_towns_sum_by_taz=kibolt_yosh_some_towns_sum_by_taz.melt(id_vars=['Taz_num', 'kibolet_type'], var_name='year', value_name='add_aprt').query('add_aprt!=0')\n",
    "\n",
    "kibolt_yosh_some_towns_sum_by_taz['source']='by_town'"
   ]
  },
  {
   "cell_type": "markdown",
   "id": "dcca1319",
   "metadata": {},
   "source": [
    "#### קיבולת ברמת אזור תנועה (חלקי)"
   ]
  },
  {
   "cell_type": "markdown",
   "id": "757446c1",
   "metadata": {},
   "source": [
    "##### העלאת שכבה"
   ]
  },
  {
   "cell_type": "code",
   "execution_count": 11,
   "id": "4ac812fe",
   "metadata": {},
   "outputs": [],
   "source": [
    "Jewish_kibolt_some_by_taz=up_load_shp(r'{}\\background_files\\kibolt_jew_by_some_taz_230628.shp'.format(software_data_folder_location))"
   ]
  },
  {
   "cell_type": "code",
   "execution_count": 12,
   "id": "b14c589e",
   "metadata": {},
   "outputs": [
    {
     "name": "stderr",
     "output_type": "stream",
     "text": [
      "C:\\Users\\dpere\\AppData\\Local\\Temp\\ipykernel_26700\\3573415710.py:17: FutureWarning: Setting an item of incompatible dtype is deprecated and will raise in a future error of pandas. Value 'Shrinkable' has dtype incompatible with int64, please explicitly cast to a compatible dtype first.\n",
      "  Jewish_kibolt_some_by_taz.loc[Jewish_kibolt_some_by_taz['kibolet_type']==1,'kibolet_type']='Shrinkable'\n"
     ]
    }
   ],
   "source": [
    "old_col=[ 'Taz_num','add_aprt_2',\n",
    " 'add_aprt_3',\n",
    " 'add_aprt_4',\n",
    " 'add_aprt_5',\n",
    " 'add_aprt_6',\n",
    " 'add_aprt_7','type_kibol']\n",
    "\n",
    "new_col=[ 'Taz_num','2025',\n",
    " '2030',\n",
    " '2035',\n",
    " '2040',\n",
    " '2045',\n",
    " '2050','kibolet_type']\n",
    "\n",
    "Jewish_kibolt_some_by_taz=change_cols_names(Jewish_kibolt_some_by_taz, old_col, new_col)\n",
    "\n",
    "Jewish_kibolt_some_by_taz.loc[Jewish_kibolt_some_by_taz['kibolet_type']==1,'kibolet_type']='Shrinkable'\n",
    "\n",
    "Jewish_kibolt_some_by_taz.loc[Jewish_kibolt_some_by_taz['kibolet_type']==2,'kibolet_type']='left_the_station'\n",
    "\n",
    "Jewish_kibolt_some_by_taz.loc[Jewish_kibolt_some_by_taz['kibolet_type']==3,'kibolet_type']='Depends_on_policy'\n",
    "\n",
    "doubling_aprt=[7310,7711]\n",
    "\n",
    "col=['2025',\n",
    " '2030',\n",
    " '2035',\n",
    " '2040',\n",
    " '2045',\n",
    " '2050']\n",
    "\n",
    "Jewish_kibolt_some_by_taz.loc[Jewish_kibolt_some_by_taz['Taz_num'].isin(doubling_aprt),col]=Jewish_kibolt_some_by_taz.loc[Jewish_kibolt_some_by_taz['Taz_num'].isin(doubling_aprt)][col]*2\n",
    "\n",
    "Jewish_kibolt_some_by_taz=Jewish_kibolt_some_by_taz.melt(id_vars=['Taz_num', 'kibolet_type'], var_name='year', value_name='add_aprt').query('add_aprt!=0')\n",
    "\n",
    "Jewish_kibolt_some_by_taz['source']='by_taz'"
   ]
  },
  {
   "cell_type": "markdown",
   "id": "5b73c44b",
   "metadata": {
    "heading_collapsed": true
   },
   "source": [
    "#### קיבולת ברמת תכנית עם אזורי תנועה בלבד (חלקי)"
   ]
  },
  {
   "cell_type": "markdown",
   "id": "bfdc87d6",
   "metadata": {},
   "source": [
    "##### העלאת שכבה"
   ]
  },
  {
   "cell_type": "code",
   "execution_count": 13,
   "id": "232edd85",
   "metadata": {},
   "outputs": [],
   "source": [
    "Jewish_kibolt_some_by_plan_only_with_taz=up_load_shp(r'{}\\background_files\\Jewish_kibolt_some_by_plan_with_taz_num.shp'.format(software_data_folder_location))"
   ]
  },
  {
   "cell_type": "code",
   "execution_count": 14,
   "id": "08faa7b7",
   "metadata": {
    "hidden": true
   },
   "outputs": [],
   "source": [
    "Jewish_kibolt_some_by_plan_only_with_taz=Jewish_kibolt_some_by_plan_only_with_taz[['Taz_num','2025',\n",
    " '2030',\n",
    " '2035',\n",
    " '2040',\n",
    " '2045',\n",
    " '2050','kibolet_ty']].rename(columns={'kibolet_ty':'kibolet_type'})\n",
    "\n",
    "Maale_Adumim_extension=[7025, 7028, 7027, 7026]\n",
    "\n",
    "Jewish_kibolt_some_by_plan_only_with_taz.loc[Jewish_kibolt_some_by_plan_only_with_taz['Taz_num'].isin(Maale_Adumim_extension),col]=Jewish_kibolt_some_by_plan_only_with_taz.loc[Jewish_kibolt_some_by_plan_only_with_taz['Taz_num'].isin(Maale_Adumim_extension)][col]*1.25\n",
    "\n",
    "Jewish_kibolt_some_by_plan_only_with_taz=Jewish_kibolt_some_by_plan_only_with_taz.melt(id_vars=['Taz_num', 'kibolet_type'], var_name='year', value_name='add_aprt').query('add_aprt!=0')\n",
    "\n",
    "Jewish_kibolt_some_by_plan_only_with_taz['source']='plan_only_with_taz'"
   ]
  },
  {
   "cell_type": "markdown",
   "id": "833378f0",
   "metadata": {
    "heading_collapsed": true
   },
   "source": [
    "#### קיבולת ברמת תכנית  (חלקי)"
   ]
  },
  {
   "cell_type": "markdown",
   "id": "18eec59b",
   "metadata": {},
   "source": [
    "##### העלאת טבלאות ושכבות"
   ]
  },
  {
   "cell_type": "code",
   "execution_count": 15,
   "id": "395590b8",
   "metadata": {
    "hidden": true
   },
   "outputs": [
    {
     "name": "stderr",
     "output_type": "stream",
     "text": [
      "c:\\Users\\dpere\\miniconda3\\envs\\creat_forecast_ad_hoc_env\\Lib\\site-packages\\openpyxl\\worksheet\\_read_only.py:79: UserWarning: Data Validation extension is not supported and will be removed\n",
      "  for idx, row in parser.parse():\n"
     ]
    }
   ],
   "source": [
    "df=up_load_df(r'{}\\background_files'.format(software_data_folder_location),'bau_‏‏index_for_id_polygons_230712')\n",
    "\n",
    "shp=up_load_shp(r'{}\\background_files\\230628_id_polygons_for_index.shp'.format(software_data_folder_location))\n",
    "\n",
    "taz=up_load_shp(r'{}\\background_files\\TAZ_V4_230518_Published.shp'.format(software_data_folder_location))"
   ]
  },
  {
   "cell_type": "code",
   "execution_count": 16,
   "id": "9314898b",
   "metadata": {
    "hidden": true
   },
   "outputs": [
    {
     "name": "stderr",
     "output_type": "stream",
     "text": [
      "c:\\Users\\dpere\\miniconda3\\envs\\creat_forecast_ad_hoc_env\\Lib\\site-packages\\geopandas\\geodataframe.py:2469: UserWarning: `keep_geom_type=True` in overlay resulted in 13 dropped geometries of different geometry types than df1 has. Set `keep_geom_type=False` to retain all geometries\n",
      "  return geopandas.overlay(\n"
     ]
    }
   ],
   "source": [
    "index=shp.merge(df,on='id',how='outer')\n",
    "\n",
    "#לחלק את התכניות לפי אזורי תנועה\n",
    "index=split_index_by_taz(index,taz,0.25,['add_aprt'])\n",
    "\n",
    "#לייצר קיבולת כל חומש\n",
    "years=[ '2025', '2030', '2035', '2040', '2045', '2050']\n",
    "\n",
    "index[years]=index[years].apply(lambda x: x * index['risk_factor']*index['add_aprt'])\n",
    "\n",
    "col=['Taz_num','2025',\n",
    " '2030',\n",
    " '2035',\n",
    " '2040',\n",
    " '2045',\n",
    " '2050','kibolet_type']\n",
    "\n",
    "Jewish_kibolt_some_by_plan=index[col].fillna(0).melt(id_vars=['Taz_num', 'kibolet_type'], var_name='year', value_name='add_aprt').query('add_aprt!=0')\n",
    "\n",
    "Jewish_kibolt_some_by_plan['source']='by_plan'"
   ]
  },
  {
   "cell_type": "markdown",
   "id": "d94ff62e",
   "metadata": {
    "heading_collapsed": true
   },
   "source": [
    "### מכאן  צריך לחבר ביחד את כל הטבלאות"
   ]
  },
  {
   "cell_type": "code",
   "execution_count": 17,
   "id": "5b9da3bf",
   "metadata": {
    "hidden": true
   },
   "outputs": [],
   "source": [
    "kibolt_jew=pd.concat([Jewish_kibolt_some_by_plan,Jewish_kibolt_some_by_plan_only_with_taz,kibolt_yosh_some_towns_sum_by_taz,Jewish_kibolt_some_by_taz],axis=0)\n",
    "\n",
    "kibolt_jew['year']=kibolt_jew['year'].astype(str)"
   ]
  },
  {
   "cell_type": "code",
   "execution_count": 18,
   "id": "b6f6cf24",
   "metadata": {
    "hidden": true
   },
   "outputs": [],
   "source": [
    "#### תאריך\n",
    "file_date=pd.Timestamp.today().strftime('%y%m%d')"
   ]
  },
  {
   "cell_type": "markdown",
   "id": "8a161c5d",
   "metadata": {},
   "source": [
    "### לשנות קיבולת"
   ]
  },
  {
   "cell_type": "markdown",
   "id": "7959727a",
   "metadata": {},
   "source": [
    "כדי לשנות קיבולת צריך לעשות את זה לפי מגזר"
   ]
  },
  {
   "cell_type": "markdown",
   "id": "cd940369",
   "metadata": {},
   "source": [
    "##### העלאת טבלה"
   ]
  },
  {
   "cell_type": "code",
   "execution_count": 19,
   "id": "c3b69b7e",
   "metadata": {},
   "outputs": [],
   "source": [
    "folder_path=r'{}\\background_files'.format(software_data_folder_location)\n",
    "\n",
    "taz_sector_change=up_load_df(folder_path,'230704_taz_num_convert_from_jewish_to_u_orthodox')"
   ]
  },
  {
   "cell_type": "code",
   "execution_count": 20,
   "id": "43d6a5c0",
   "metadata": {
    "code_folding": []
   },
   "outputs": [],
   "source": [
    "lst_change_sector=list(taz_sector_change.Taz_num)\n",
    "\n",
    "taz.loc[(taz['Taz_num'].isin(lst_change_sector)),'main_secto']='U_Orthodox'"
   ]
  },
  {
   "cell_type": "code",
   "execution_count": 21,
   "id": "a86b0ac9",
   "metadata": {},
   "outputs": [],
   "source": [
    "kibolt_jew=kibolt_jew.merge(taz[['Taz_num','main_secto','zonetype']],on='Taz_num',how='left')"
   ]
  },
  {
   "cell_type": "markdown",
   "id": "72dd365c",
   "metadata": {},
   "source": [
    "שינוי בקיבולת לפי מגזר"
   ]
  },
  {
   "cell_type": "code",
   "execution_count": 22,
   "id": "0d34c9a8",
   "metadata": {},
   "outputs": [],
   "source": [
    "kibolt_jew=kibolt_jew.loc[~((kibolt_jew['main_secto']==\"Jewish\")&\n",
    "                            (kibolt_jew['zonetype']==\"Jerusalem\")&\n",
    "                            (kibolt_jew['kibolet_type']==\"Depends_on_policy\"))]"
   ]
  },
  {
   "cell_type": "code",
   "execution_count": 23,
   "id": "ad8c7557",
   "metadata": {},
   "outputs": [],
   "source": [
    "kibolt_jew.loc[(kibolt_jew['main_secto']==\"Jewish\")&\n",
    "               (kibolt_jew['zonetype']==\"Jerusalem\")&\n",
    "               (kibolt_jew['kibolet_type']==\"Shrinkable\"),'add_aprt']=kibolt_jew['add_aprt']*0.27"
   ]
  },
  {
   "cell_type": "markdown",
   "id": "2e66b798",
   "metadata": {},
   "source": [
    "### ייצוא לקלט של מכונת התפלגות גילים תרחיש דיור"
   ]
  },
  {
   "cell_type": "code",
   "execution_count": 24,
   "id": "c49d5517",
   "metadata": {},
   "outputs": [
    {
     "name": "stderr",
     "output_type": "stream",
     "text": [
      "C:\\Users\\dpere\\AppData\\Local\\Temp\\ipykernel_26700\\3151052792.py:1: FutureWarning: The provided callable <built-in function sum> is currently using DataFrameGroupBy.sum. In a future version of pandas, the provided callable will be used directly. To keep current behavior pass the string \"sum\" instead.\n",
      "  kibolt_jew=kibolt_jew.pivot_table(index='Taz_num',columns='year',values='add_aprt',aggfunc=sum).fillna(0).reset_index()\n"
     ]
    }
   ],
   "source": [
    "kibolt_jew=kibolt_jew.pivot_table(index='Taz_num',columns='year',values='add_aprt',aggfunc=sum).fillna(0).reset_index()"
   ]
  },
  {
   "cell_type": "code",
   "execution_count": 25,
   "id": "1f5db944",
   "metadata": {},
   "outputs": [],
   "source": [
    "old_col=[ 'Taz_num','2025',\n",
    " '2030',\n",
    " '2035',\n",
    " '2040',\n",
    " '2045',\n",
    " '2050']\n",
    "\n",
    "new_col=[ 'Taz_num','add_aprt_2020_2025',\n",
    " 'add_aprt_2025_2030',\n",
    " 'add_aprt_2030_2035',\n",
    " 'add_aprt_2035_2040',\n",
    " 'add_aprt_2040_2045',\n",
    " 'add_aprt_2045_2050']\n",
    "\n",
    "kibolt_jew=kibolt_jew[old_col]\n",
    "\n",
    "kibolt_jew.columns=new_col\n",
    "\n",
    "save_file=r'{}\\Intermediates'.format(software_data_folder_location)\n",
    "\n",
    "kibolt_jew.to_excel('{}\\{}_kibolt_jew_till_2050.xlsx'.format(save_file,file_date),index=False)"
   ]
  }
 ],
 "metadata": {
  "kernelspec": {
   "display_name": "Python 3 (ipykernel)",
   "language": "python",
   "name": "python3"
  },
  "language_info": {
   "codemirror_mode": {
    "name": "ipython",
    "version": 3
   },
   "file_extension": ".py",
   "mimetype": "text/x-python",
   "name": "python",
   "nbconvert_exporter": "python",
   "pygments_lexer": "ipython3",
   "version": "3.11.5"
  },
  "toc": {
   "base_numbering": 1,
   "nav_menu": {},
   "number_sections": true,
   "sideBar": true,
   "skip_h1_title": false,
   "title_cell": "Table of Contents",
   "title_sidebar": "Contents",
   "toc_cell": false,
   "toc_position": {},
   "toc_section_display": true,
   "toc_window_display": true
  }
 },
 "nbformat": 4,
 "nbformat_minor": 5
}
