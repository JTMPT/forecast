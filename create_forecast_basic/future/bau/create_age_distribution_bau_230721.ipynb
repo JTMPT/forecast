{
 "cells": [
  {
   "cell_type": "markdown",
   "id": "0e7214ba",
   "metadata": {
    "heading_collapsed": true
   },
   "source": [
    "## קוד מבוא"
   ]
  },
  {
   "cell_type": "code",
   "execution_count": 1,
   "id": "f8405d52",
   "metadata": {
    "hidden": true
   },
   "outputs": [],
   "source": [
    "import pandas as pd\n",
    "import geopandas as gpd\n",
    "import numpy as np\n",
    "from shapely import wkt\n",
    "from matplotlib import pyplot as plt \n",
    "import contextily as cx\n",
    "import folium\n",
    "import fiona\n",
    "from mpl_toolkits.axes_grid1 import make_axes_locatable\n",
    "from shapely.geometry import Point\n",
    "import adjustText as aT"
   ]
  },
  {
   "cell_type": "code",
   "execution_count": 2,
   "id": "2dacbc13",
   "metadata": {
    "hidden": true
   },
   "outputs": [],
   "source": [
    "pd.set_option('display.max_rows', None)\n",
    "pd.set_option('display.max_columns', None)"
   ]
  },
  {
   "cell_type": "markdown",
   "id": "9624443e",
   "metadata": {
    "heading_collapsed": true
   },
   "source": [
    "## פונקציות"
   ]
  },
  {
   "cell_type": "code",
   "execution_count": 3,
   "id": "d69c42ff",
   "metadata": {
    "hidden": true
   },
   "outputs": [],
   "source": [
    "def double_taz_num(df):\n",
    "    dup_taz_num=df.groupby(['Taz_num']).size().reset_index(name='count').query('count>1').Taz_num.to_list()\n",
    "    return df.loc[df['Taz_num'].isin(dup_taz_num)]"
   ]
  },
  {
   "cell_type": "code",
   "execution_count": 4,
   "id": "d048994a",
   "metadata": {
    "hidden": true
   },
   "outputs": [],
   "source": [
    "def make_point(df):\n",
    "    df_point=df.copy()\n",
    "    df_point['centroid'] = df_point.representative_point()\n",
    "    df_point=df_point.set_geometry('centroid')\n",
    "    df_point=df_point.drop(columns=['geometry'],axis=1)\n",
    "    return df_point"
   ]
  },
  {
   "cell_type": "code",
   "execution_count": 5,
   "id": "86bf5cad",
   "metadata": {
    "hidden": true
   },
   "outputs": [],
   "source": [
    "def up_load_gdb(path,layer_name):\n",
    "    path='{}'.format(path)\n",
    "    layer_list=fiona.listlayers(path)\n",
    "    gpd_layer=gpd.read_file(path, layer=layer_list.index(layer_name))\n",
    "    return gpd_layer"
   ]
  },
  {
   "cell_type": "code",
   "execution_count": 6,
   "id": "6acc6aa7",
   "metadata": {
    "hidden": true
   },
   "outputs": [],
   "source": [
    "def up_load_shp(path):\n",
    "    path='{}'.format(path)\n",
    "    gpd_layer=gpd.read_file(path)\n",
    "    return gpd_layer"
   ]
  },
  {
   "cell_type": "code",
   "execution_count": 7,
   "id": "cb093800",
   "metadata": {
    "hidden": true
   },
   "outputs": [],
   "source": [
    "def unique_id_in_one_taz(df_to_geoode,unique_field,gpd_for_geocode,taz):\n",
    "    \n",
    "    code_to_find=list(df_to_geoode[unique_field].unique())\n",
    "\n",
    "    gpd_for_geocode_to_sum_by_taz=gpd_for_geocode[[unique_field,'geometry']].loc[gpd_for_geocode[unique_field].isin(code_to_find)]\n",
    "\n",
    "    gpd_for_geocode_to_sum_by_taz=gpd.sjoin(taz[['Taz_num','geometry']],gpd_for_geocode_to_sum_by_taz)\n",
    "\n",
    "    gpd_for_geocode_in_one_taz=list(gpd_for_geocode_to_sum_by_taz.groupby(unique_field)[['Taz_num']].nunique().query('Taz_num==1').reset_index()[unique_field])\n",
    "\n",
    "    return gpd_for_geocode_in_one_taz"
   ]
  },
  {
   "cell_type": "code",
   "execution_count": 8,
   "id": "b1a16060",
   "metadata": {
    "hidden": true
   },
   "outputs": [],
   "source": [
    "def up_load_df(folder_path,file_name):\n",
    "    \n",
    "    path_df=r'{}\\{}.xlsx'.format(folder_path,file_name)\n",
    "    df=pd.read_excel(path_df)\n",
    "    df=df.dropna(how='all')\n",
    "\n",
    "    return df\n"
   ]
  },
  {
   "cell_type": "markdown",
   "id": "78ef9832",
   "metadata": {},
   "source": [
    "## code"
   ]
  },
  {
   "cell_type": "markdown",
   "id": "9aa5b911",
   "metadata": {},
   "source": [
    "### עיבוד חומר מקדים"
   ]
  },
  {
   "cell_type": "code",
   "execution_count": 9,
   "id": "ec05d23f",
   "metadata": {},
   "outputs": [],
   "source": [
    "v_date='230720'"
   ]
  },
  {
   "cell_type": "code",
   "execution_count": 10,
   "id": "8a4d07ec",
   "metadata": {},
   "outputs": [],
   "source": [
    "taz_2020_catalog=up_load_df(r'W:\\Projects\\הסעת המונים\\01_שלב ה\\קבצי עבודה\\תחזיות_דמוגרפיות\\תחזיות_2050\\התפלגות גילים\\backround_files','forecast_2020_{}_age_dis_type'.format(v_date))\n",
    "\n",
    "taz_2020_aprt=up_load_df(r'\\\\FILE-SRV\\Jtmt\\projections_team\\כללי\\פעולות\\יצירת_מצב_קיים_למס\\output','2020_jtmt_forcast_full_{}'.format(v_date))"
   ]
  },
  {
   "cell_type": "code",
   "execution_count": 11,
   "id": "e4138afb",
   "metadata": {},
   "outputs": [],
   "source": [
    "v_date='230720'"
   ]
  },
  {
   "cell_type": "code",
   "execution_count": 12,
   "id": "972f8de0",
   "metadata": {},
   "outputs": [],
   "source": [
    "save_file=r'W:\\Projects\\הסעת המונים\\01_שלב ה\\קבצי עבודה\\תחזיות_דמוגרפיות\\תחזיות_2050\\bau\\jew_kibolet\\output'\n",
    "\n",
    "kibolt_jew_2050=up_load_df(save_file,'{}_kibolt_jew_till_2050'.format(v_date)).set_index('Taz_num')"
   ]
  },
  {
   "cell_type": "code",
   "execution_count": 13,
   "id": "083a4e51",
   "metadata": {},
   "outputs": [],
   "source": [
    "age_catalog=up_load_df(r'W:\\Projects\\הסעת המונים\\01_שלב ה\\קבצי עבודה\\תחזיות_דמוגרפיות\\תחזיות_2050\\התפלגות גילים\\backround_files','age_des_types')\n",
    "\n",
    "taz_with_aprt_diversity=up_load_shp(r'W:\\Data\\Forecast\\creat_age_distribution\\v_1\\backround_files\\shp\\cost_diversity_for_age_distribution.shp').set_index('Taz_num')\n",
    "\n",
    "taz_2020_catalog=taz_2020_catalog.merge(taz_2020_aprt[['Taz_num','zonetype','aprt_20','pop_without_dorms_yeshiva','Taz_name','Muni_Heb']],on='Taz_num',how='left').set_index('Taz_num')\n",
    "\n",
    "taz_2020_catalog['taz_with_aprt_diversity']=taz_with_aprt_diversity['div']\n",
    "\n",
    "taz_2020_catalog['taz_expensive']=taz_with_aprt_diversity['cost']\n",
    "\n",
    "col=['classification_name','age_cycle']\n",
    "\n",
    "taz_2020_catalog=taz_2020_catalog.reset_index().merge(age_catalog[col],on='classification_name',how='left').set_index('Taz_num')\n",
    "\n",
    "taz_2020_catalog=taz_2020_catalog.join(kibolt_jew_2050).query('sector_for_age != \"Arab\"')\n",
    "\n",
    "taz_2020_catalog=taz_2020_catalog.fillna(0)"
   ]
  },
  {
   "cell_type": "code",
   "execution_count": 14,
   "id": "8a05fa87",
   "metadata": {},
   "outputs": [],
   "source": [
    "folder_path=r'W:\\Projects\\הסעת המונים\\01_שלב ה\\קבצי עבודה\\תחזיות_דמוגרפיות\\תרחישי_מלל\\מרכיבי_תחזית'\n",
    "\n",
    "taz_sector_change=up_load_df(folder_path,'230704_taz_num_convert_from_jewish_to_u_orthodox')\n",
    "\n",
    "lst_change_sector=list(taz_sector_change.Taz_num)\n",
    "\n",
    "\n",
    "taz_2020_catalog.loc[(taz_2020_catalog.index.isin(lst_change_sector)),'sector_for_age']='U_Orthodox'"
   ]
  },
  {
   "cell_type": "markdown",
   "id": "4d10f201",
   "metadata": {},
   "source": [
    "## חישוב "
   ]
  },
  {
   "cell_type": "code",
   "execution_count": 15,
   "id": "5f9c1f36",
   "metadata": {},
   "outputs": [],
   "source": [
    "singal_year=list(range(2025,2051,5))"
   ]
  },
  {
   "cell_type": "code",
   "execution_count": 16,
   "id": "0240b0f9",
   "metadata": {},
   "outputs": [],
   "source": [
    "years=['add_aprt_2020_2025',\n",
    " 'add_aprt_2025_2030',\n",
    " 'add_aprt_2030_2035',\n",
    " 'add_aprt_2035_2040',\n",
    " 'add_aprt_2040_2045',\n",
    " 'add_aprt_2045_2050']\n",
    "\n",
    "y_before=['2020','2020_2025',\n",
    " '2025_2030',\n",
    " '2030_2035',\n",
    " '2035_2040',\n",
    " '2040_2045']\n",
    "\n",
    "only_years=['2020_2025',\n",
    " '2025_2030',\n",
    " '2030_2035',\n",
    " '2035_2040',\n",
    " '2040_2045',\n",
    " '2045_2050']"
   ]
  },
  {
   "cell_type": "code",
   "execution_count": 17,
   "id": "5cc6778a",
   "metadata": {},
   "outputs": [],
   "source": [
    "taz_2020_catalog['age_cycle_time']=0\n",
    "taz_2020_catalog['current_aprt']=taz_2020_catalog['aprt_20']\n",
    "years_to_change_cycle_stage=20\n",
    "age_cycle_limit=4\n",
    "taz_2020_catalog['age_cycle_2020']=taz_2020_catalog['age_cycle']\n",
    "taz_2020_catalog['changed_this_cycle']=0"
   ]
  },
  {
   "cell_type": "code",
   "execution_count": 18,
   "id": "0cd01ab9",
   "metadata": {
    "code_folding": []
   },
   "outputs": [],
   "source": [
    "for y, y1 in zip(years, only_years):\n",
    "    \n",
    "        \n",
    "    \n",
    "    #### אזורים ללא יח\"ד קיימות בשנת הבסיס מתאכלסים בהתפלגות גילים הראשוני\n",
    "\n",
    "    taz_with_aprt_diversity_condition = taz_2020_catalog['taz_with_aprt_diversity']==1\n",
    "    taz_expensive_condition = taz_2020_catalog['taz_expensive']==1\n",
    "    \n",
    "\n",
    "    taz_2020_catalog.loc[\n",
    "        (taz_2020_catalog['current_aprt']==0)&\n",
    "        (taz_2020_catalog['{}'.format(y)]>0)&\n",
    "        (taz_2020_catalog['changed_this_cycle']==0)&\n",
    "        taz_with_aprt_diversity_condition,['age_cycle','age_cycle_time','explanation_{}'.format(y1),'changed_this_cycle']\n",
    "    ]=[3,0,' | new diverse neighborhood | ',1]\n",
    "\n",
    "    \n",
    "    taz_2020_catalog.loc[\n",
    "        (taz_2020_catalog['current_aprt']==0)&\n",
    "        (taz_2020_catalog['{}'.format(y)]>0)&\n",
    "        (taz_2020_catalog['changed_this_cycle']==0)&\n",
    "        taz_expensive_condition&\n",
    "        ~taz_with_aprt_diversity_condition,['age_cycle','age_cycle_time','explanation_{}'.format(y1),'changed_this_cycle']\n",
    "    ]=[2,0,' | new non-diverse expensive neighborhood  | ',1]\n",
    "    \n",
    "    taz_2020_catalog.loc[\n",
    "        (taz_2020_catalog['current_aprt']==0)&\n",
    "        (taz_2020_catalog['{}'.format(y)]>0)&\n",
    "        (taz_2020_catalog['changed_this_cycle']==0)&\n",
    "        ~taz_expensive_condition&\n",
    "        ~taz_with_aprt_diversity_condition,['age_cycle','age_cycle_time','explanation_{}'.format(y1),'changed_this_cycle']\n",
    "    ]=[1,0,' | new non-diverse neighborhood  | ',1]\n",
    "\n",
    "    #### אזורים עם יח\"ד קיימות בשנת הבסיס מתאכלסים בהתפלגות גילים כפונצקיה של יחס קיבולת למצב הקיים\n",
    "\n",
    "    taz_2020_catalog.loc[\n",
    "        (taz_2020_catalog['current_aprt']>0),'precent_add_to_current'\n",
    "    ]=taz_2020_catalog['{}'.format(y)]/taz_2020_catalog['current_aprt']\n",
    "\n",
    "\n",
    "    \n",
    "    \n",
    "    \n",
    "    #### יחס נמוך - הקיבולת בטלה ביחס למצב הקיים\n",
    "        #### יחס גדול - הקיבולת מבטלת את המצב הקיים\n",
    "\n",
    "    kibolet_condition = taz_2020_catalog['precent_add_to_current'] > 0.5\n",
    "    yush_condition =  taz_2020_catalog['zonetype']=='Judea and Samaria'\n",
    "\n",
    "    taz_2020_catalog.loc[\n",
    "        kibolet_condition &\n",
    "        ~yush_condition &\n",
    "        (taz_2020_catalog['changed_this_cycle']==0)&\n",
    "        taz_with_aprt_diversity_condition,['age_cycle','age_cycle_time','explanation_{}'.format(y1),'changed_this_cycle']\n",
    "    ]=[3,0,'| renew diverse neighborhood |',1]\n",
    "    \n",
    "    taz_2020_catalog.loc[\n",
    "        kibolet_condition &\n",
    "        taz_expensive_condition &\n",
    "        (taz_2020_catalog['changed_this_cycle']==0)&\n",
    "        ~taz_with_aprt_diversity_condition,['age_cycle','age_cycle_time','explanation_{}'.format(y1),'changed_this_cycle']\n",
    "    ]=[2,0,'| a lot of new aprts in non-diverse expensive neighborhood|',1]\n",
    "\n",
    "    taz_2020_catalog.loc[\n",
    "        kibolet_condition &\n",
    "        (taz_2020_catalog['changed_this_cycle']==0)&\n",
    "        ~taz_expensive_condition &\n",
    "        ~taz_with_aprt_diversity_condition,['age_cycle','age_cycle_time','explanation_{}'.format(y1),'changed_this_cycle']\n",
    "    ]=[1,0,'| a lot of new aprts in non-diverse neighborhood|',1]\n",
    "\n",
    "    #### יחס בינוני\n",
    "\n",
    "    ##### ביוש אין התחדשות עירונית לכן אם יחס גבוהה יחסית זה כמו בנייה חדשה עם אכלוס של סוג התפלגות גילים הראשוני\n",
    "\n",
    "    \n",
    "    kibolet_condition =  taz_2020_catalog['precent_add_to_current']>= 0.20\n",
    "\n",
    "    taz_2020_catalog.loc[\n",
    "        (yush_condition)&\n",
    "        (taz_2020_catalog['changed_this_cycle']==0)&\n",
    "        (kibolet_condition) , ['age_cycle','age_cycle_time','explanation_{}'.format(y1),'changed_this_cycle']\n",
    "    ] = [1, 0,'| a lot of new aprts in non-diverse neighborhood in yush |',1]\n",
    "\n",
    "\n",
    "    ##### יוש אין התחדשות עירונית לכן אם יחס לא גבוהה יחסית זה מונע התבגרות של המצב הקיים\n",
    "    \n",
    "\n",
    "    ##### אם לא ביוש אז יש אפשרות התחדשות עירונית לכן המקום נהיה מגוון\n",
    "\n",
    "    \n",
    "    kibolet_condition =  (taz_2020_catalog['precent_add_to_current']>= 0.25) & (taz_2020_catalog['precent_add_to_current'] <= 0.5)\n",
    "    \n",
    "\n",
    "    taz_2020_catalog.loc[\n",
    "        ~(yush_condition)&\n",
    "        (kibolet_condition)&\n",
    "        (taz_with_aprt_diversity_condition) , ['age_cycle','explanation_{}'.format(y1)]\n",
    "    ] =  [3,'| a lot of new aprts in diverse neighborhood|']\n",
    "    \n",
    "    \n",
    "    \n",
    "    #השעון התקדם כבר ולא צריך לשנות כלום\n",
    "\n",
    "    #### קוד לתהליך התבגרות התפלגות הגילים כפונקציה של סוג מגזר\n",
    "\n",
    "    \n",
    "\n",
    "    age_cycle_condition = taz_2020_catalog['age_cycle']<age_cycle_limit\n",
    "\n",
    "    age_cycle_time_condition=(taz_2020_catalog['age_cycle_time']%years_to_change_cycle_stage==0)&(taz_2020_catalog['age_cycle_time']>0)\n",
    "\n",
    "    sector_condition=taz_2020_catalog['sector_for_age']=='hitnachlut' \n",
    "    \n",
    "    taz_2020_catalog.loc[\n",
    "        (age_cycle_time_condition) &\n",
    "        (sector_condition) &\n",
    "        (taz_2020_catalog['changed_this_cycle']==0)&\n",
    "        (age_cycle_condition),['explanation_{}'.format(y1),'changed_this_cycle']\n",
    "    ]=['| natural aging |',1]\n",
    "    \n",
    "    taz_2020_catalog.loc[\n",
    "        (age_cycle_time_condition) &\n",
    "        (sector_condition) &\n",
    "        (age_cycle_condition),'age_cycle'\n",
    "    ]=taz_2020_catalog['age_cycle']+1\n",
    "    \n",
    "    \n",
    "    taz_2020_catalog.loc[\n",
    "        (age_cycle_time_condition) &\n",
    "        (sector_condition) &\n",
    "        (age_cycle_condition),'age_cycle_time'\n",
    "    ]=taz_2020_catalog['age_cycle_time']+5\n",
    "\n",
    "    sector_condition=taz_2020_catalog['sector_for_age']=='Jewish'\n",
    "\n",
    "    age_cycle_condition = taz_2020_catalog['age_cycle']==1\n",
    "\n",
    "\n",
    "    taz_2020_catalog.loc[\n",
    "        (age_cycle_time_condition) &\n",
    "        (taz_2020_catalog['changed_this_cycle']==0)&\n",
    "        (sector_condition) &\n",
    "        (age_cycle_condition),['age_cycle','explanation_{}'.format(y1),'changed_this_cycle']\n",
    "    ]=[2 ,'| natural aging |',1]\n",
    "    \n",
    "    \n",
    "    taz_2020_catalog.loc[\n",
    "        (age_cycle_time_condition) & \n",
    "        (sector_condition) &\n",
    "        (age_cycle_condition),'age_cycle_time'\n",
    "    ]=taz_2020_catalog['age_cycle_time']+5\n",
    "\n",
    "\n",
    "    sector_condition=taz_2020_catalog['sector_for_age']=='Jewish'\n",
    "\n",
    "    age_cycle_condition = taz_2020_catalog['age_cycle']==2\n",
    "\n",
    "    \n",
    "\n",
    "    taz_2020_catalog.loc[\n",
    "        (age_cycle_time_condition) &\n",
    "        (age_cycle_condition) &\n",
    "        (sector_condition) &\n",
    "        (taz_2020_catalog['changed_this_cycle']==0) &\n",
    "        (taz_with_aprt_diversity_condition),['age_cycle','explanation_{}'.format(y1),'changed_this_cycle']\n",
    "    ]=[3,'| natural aging to a diverse neighborhood |',1]\n",
    "    \n",
    "    taz_2020_catalog.loc[\n",
    "        (age_cycle_time_condition) &\n",
    "        (age_cycle_condition) &\n",
    "        (sector_condition) &\n",
    "        (taz_with_aprt_diversity_condition),'age_cycle_time'\n",
    "    ]=taz_2020_catalog['age_cycle_time']+5\n",
    "\n",
    "    sector_condition=taz_2020_catalog['sector_for_age']=='Jewish'\n",
    "\n",
    "    age_cycle_condition = taz_2020_catalog['age_cycle']==4\n",
    "\n",
    "    \n",
    "\n",
    "    taz_2020_catalog.loc[\n",
    "        (age_cycle_time_condition) &\n",
    "        (age_cycle_condition) &\n",
    "        (sector_condition) &\n",
    "        (taz_2020_catalog['changed_this_cycle']==0) &\n",
    "        (taz_with_aprt_diversity_condition),['age_cycle','explanation_{}'.format(y1),'changed_this_cycle']\n",
    "    ]=[3,'| old to a diverse neighborhood |',1]\n",
    "    \n",
    "    taz_2020_catalog.loc[\n",
    "        (age_cycle_time_condition) &\n",
    "        (age_cycle_condition) &\n",
    "        (sector_condition) &\n",
    "        (taz_with_aprt_diversity_condition),'age_cycle_time'\n",
    "    ]=taz_2020_catalog['age_cycle_time']+5\n",
    "   \n",
    "    \n",
    "    sector_condition=taz_2020_catalog['sector_for_age']=='U_Orthodox'\n",
    "\n",
    "    age_cycle_condition = taz_2020_catalog['age_cycle']==1\n",
    "\n",
    "\n",
    "    taz_2020_catalog.loc[\n",
    "        (age_cycle_time_condition) &\n",
    "        (sector_condition) &\n",
    "        (taz_2020_catalog['changed_this_cycle']==0) &\n",
    "        (age_cycle_condition),['age_cycle','explanation_{}'.format(y1),'changed_this_cycle']\n",
    "    ]=[2 ,'| natural aging |',1]\n",
    "    \n",
    "    \n",
    "    taz_2020_catalog.loc[\n",
    "        (age_cycle_time_condition) &\n",
    "        (sector_condition) &\n",
    "        (age_cycle_condition),'age_cycle_time'\n",
    "    ]=taz_2020_catalog['age_cycle_time']+5\n",
    "\n",
    "    age_cycle_condition = taz_2020_catalog['age_cycle']==2\n",
    "\n",
    "    taz_2020_catalog.loc[\n",
    "        (age_cycle_time_condition) &\n",
    "        (taz_2020_catalog['changed_this_cycle']==0) &\n",
    "        (age_cycle_condition) &\n",
    "        (sector_condition) &\n",
    "        (taz_with_aprt_diversity_condition),['age_cycle','explanation_{}'.format(y1),'changed_this_cycle']\n",
    "    ]=[3,'| natural aging to a diverse neighborhood |',1]\n",
    "    \n",
    "    \n",
    "    taz_2020_catalog.loc[\n",
    "        (age_cycle_time_condition) &\n",
    "        (age_cycle_condition) &\n",
    "        (sector_condition) &\n",
    "        (taz_with_aprt_diversity_condition),'age_cycle_time'\n",
    "    ]=taz_2020_catalog['age_cycle_time']+5\n",
    "    \n",
    "    \n",
    "    taz_2020_catalog.loc[\n",
    "        (age_cycle_time_condition) &\n",
    "         (taz_2020_catalog['changed_this_cycle']==0) &\n",
    "        (age_cycle_condition) &\n",
    "        (sector_condition) &\n",
    "        ~(taz_with_aprt_diversity_condition),['age_cycle','explanation_{}'.format(y1),'changed_this_cycle']\n",
    "    ]=[4,'| natural aging |',1]\n",
    "    \n",
    "    age_cycle_condition = taz_2020_catalog['age_cycle']==4\n",
    "    \n",
    "    taz_2020_catalog.loc[\n",
    "        (age_cycle_time_condition) &\n",
    "        (taz_2020_catalog['changed_this_cycle']==0) &\n",
    "        (age_cycle_condition) &\n",
    "        (sector_condition) &\n",
    "        (taz_with_aprt_diversity_condition),['age_cycle','explanation_{}'.format(y1),'changed_this_cycle']\n",
    "    ]=[3,'| old to a diverse neighborhood |',1]\n",
    "    \n",
    "    \n",
    "    taz_2020_catalog.loc[\n",
    "        (age_cycle_time_condition) &\n",
    "        (age_cycle_condition) &\n",
    "        (sector_condition) &\n",
    "        (taz_with_aprt_diversity_condition),'age_cycle_time'\n",
    "    ]=taz_2020_catalog['age_cycle_time']+5\n",
    "    \n",
    "    \n",
    "   \n",
    "\n",
    "    taz_2020_catalog.loc[\n",
    "        (age_cycle_time_condition) &\n",
    "        (age_cycle_condition) &\n",
    "        (sector_condition) &\n",
    "        ~(taz_with_aprt_diversity_condition),'age_cycle_time'\n",
    "    ]=taz_2020_catalog['age_cycle_time']+5\n",
    "\n",
    "    taz_2020_catalog.loc[(taz_2020_catalog['changed_this_cycle']==0),'age_cycle_time'\n",
    "    ]=taz_2020_catalog['age_cycle_time']+5\n",
    "    \n",
    "    taz_2020_catalog['changed_this_cycle']=0\n",
    "\n",
    "    \n",
    "    taz_2020_catalog['current_aprt']=taz_2020_catalog['current_aprt']+taz_2020_catalog['{}'.format(y)]\n",
    "    taz_2020_catalog['current_aprt_{}'.format(y1)]= taz_2020_catalog['current_aprt']\n",
    "    taz_2020_catalog['age_cycle_{}'.format(y1)]= taz_2020_catalog['age_cycle']\n",
    "    taz_2020_catalog['age_cycle_time_{}'.format(y1)]= taz_2020_catalog['age_cycle_time']\n",
    "    taz_2020_catalog['precent_add_to_current_{}'.format(y1)]= taz_2020_catalog['precent_add_to_current']"
   ]
  },
  {
   "cell_type": "code",
   "execution_count": 19,
   "id": "23cf9c43",
   "metadata": {},
   "outputs": [],
   "source": [
    "file_date=pd.Timestamp.today().strftime('%y%m%d')"
   ]
  },
  {
   "cell_type": "markdown",
   "id": "614f26f0",
   "metadata": {},
   "source": [
    "## ייצוא"
   ]
  },
  {
   "cell_type": "code",
   "execution_count": 20,
   "id": "a36aa769",
   "metadata": {},
   "outputs": [],
   "source": [
    "taz_2020_catalog['hh_size_2020']=taz_2020_catalog['pop_without_dorms_yeshiva']/taz_2020_catalog['aprt_20']"
   ]
  },
  {
   "cell_type": "code",
   "execution_count": 21,
   "id": "a8a94092",
   "metadata": {},
   "outputs": [],
   "source": [
    "for y1,sy,y_b, in zip(only_years, singal_year,y_before):\n",
    "    taz_2020_catalog.loc[(taz_2020_catalog['age_cycle_{}'.format(y1)]==taz_2020_catalog['age_cycle_{}'.format(y_b)])&(taz_2020_catalog['age_cycle_{}'.format(y1)]==3),'hh_size_{}'.format(y1)]=taz_2020_catalog['hh_size_{}'.format(y_b)]\n",
    "    taz_2020_catalog.loc[(taz_2020_catalog['age_cycle_{}'.format(y1)]==taz_2020_catalog['age_cycle_{}'.format(y_b)])&(taz_2020_catalog['age_cycle_{}'.format(y1)]==3),'hh_size_{}'.format(y1)]=taz_2020_catalog['hh_size_{}'.format(y1)]+0.15\n",
    "    "
   ]
  },
  {
   "cell_type": "code",
   "execution_count": 22,
   "id": "6899f257",
   "metadata": {},
   "outputs": [],
   "source": [
    "col_age=[ 'pop_0',\n",
    " 'pop_10',\n",
    " 'pop_15',\n",
    " 'pop_20',\n",
    " 'pop_25',\n",
    " 'pop_30',\n",
    " 'pop_35',\n",
    " 'pop_40',\n",
    " 'pop_45',\n",
    " 'pop_5',\n",
    " 'pop_50',\n",
    " 'pop_55',\n",
    " 'pop_60',\n",
    " 'pop_65',\n",
    " 'pop_70',\n",
    " 'pop_75up']"
   ]
  },
  {
   "cell_type": "code",
   "execution_count": 23,
   "id": "b6e47829",
   "metadata": {},
   "outputs": [],
   "source": [
    "for y1,sy,y_b, in zip(only_years, singal_year,y_before):\n",
    "    \n",
    "    col_taz=['Taz_num','current_aprt_{}'.format(y1),'explanation_{}'.format(y1),'age_cycle_{}'.format(y1),'hh_size_{}'.format(y1),'sector_for_age']\n",
    "    \n",
    "    left_col=['sector_for_age','age_cycle_{}'.format(y1)]\n",
    "    right_col=['sector','age_cycle']\n",
    "\n",
    "    df=taz_2020_catalog.reset_index()[col_taz].merge(age_catalog,left_on=left_col,right_on=right_col,how='left').set_index('Taz_num')\n",
    "    \n",
    "\n",
    "    df['pop']=df['current_aprt_{}'.format(y1)]*df['hh_size_{}'.format(y1)]\n",
    "    df.loc[df['hh_size_{}'.format(y1)].isna(),'pop']=df['current_aprt_{}'.format(y1)]*df['hh_size']\n",
    "    \n",
    "        \n",
    "    df['pop_{}'.format(sy)]=df['pop']\n",
    "    \n",
    "    df['aprt_{}'.format(sy)]=df['current_aprt_{}'.format(y1)]\n",
    "    \n",
    "    df[col_age]=df[col_age].multiply(df['pop'], axis=\"index\")    \n",
    "    \n",
    "    file_save=r'W:\\Projects\\הסעת המונים\\01_שלב ה\\קבצי עבודה\\תחזיות_דמוגרפיות\\תחזיות_2050\\bau\\jew_pop'\n",
    "    save_excel_path=r'{}\\{}_forecast_pop_jewish_{}_bau.xlsx'.format(file_save,file_date,y1)\n",
    "    \n",
    "    df.to_excel(save_excel_path,index=True)\n",
    "    \n",
    "    taz_2020_catalog=taz_2020_catalog.join(df[['pop_{}'.format(sy),'aprt_{}'.format(sy)]])\n",
    "    \n",
    " "
   ]
  }
 ],
 "metadata": {
  "kernelspec": {
   "display_name": "Python 3 (ipykernel)",
   "language": "python",
   "name": "python3"
  },
  "language_info": {
   "codemirror_mode": {
    "name": "ipython",
    "version": 3
   },
   "file_extension": ".py",
   "mimetype": "text/x-python",
   "name": "python",
   "nbconvert_exporter": "python",
   "pygments_lexer": "ipython3",
   "version": "3.10.4"
  },
  "toc": {
   "base_numbering": 1,
   "nav_menu": {},
   "number_sections": true,
   "sideBar": true,
   "skip_h1_title": false,
   "title_cell": "Table of Contents",
   "title_sidebar": "Contents",
   "toc_cell": false,
   "toc_position": {},
   "toc_section_display": true,
   "toc_window_display": true
  }
 },
 "nbformat": 4,
 "nbformat_minor": 5
}
