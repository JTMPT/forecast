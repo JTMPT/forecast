{
 "cells": [
  {
   "cell_type": "markdown",
   "id": "0e7214ba",
   "metadata": {
    "heading_collapsed": true
   },
   "source": [
    "## קוד מבוא"
   ]
  },
  {
   "cell_type": "markdown",
   "id": "7c7bd8d5",
   "metadata": {},
   "source": [
    "#### ספריות"
   ]
  },
  {
   "cell_type": "code",
   "execution_count": 1,
   "id": "f8405d52",
   "metadata": {
    "hidden": true
   },
   "outputs": [],
   "source": [
    "import os\n",
    "import sys\n",
    "import pathlib\n",
    "import pandas as pd"
   ]
  },
  {
   "cell_type": "code",
   "execution_count": 2,
   "id": "2dacbc13",
   "metadata": {
    "hidden": true
   },
   "outputs": [],
   "source": [
    "pd.set_option('display.max_rows', None)\n",
    "pd.set_option('display.max_columns', None)"
   ]
  },
  {
   "cell_type": "markdown",
   "id": "5711abf0",
   "metadata": {},
   "source": [
    "#### העלאת משתנים להרצת הקוד"
   ]
  },
  {
   "cell_type": "code",
   "execution_count": 3,
   "id": "5a7e28c8",
   "metadata": {},
   "outputs": [],
   "source": [
    "df_inputs_outputs = pd.read_excel('inputs_outputs.xlsx')\n",
    "\n",
    "software_data_folder_location=df_inputs_outputs['location'][0]\n",
    "\n",
    "forecast_version_folder_location=df_inputs_outputs['location'][1]\n",
    "\n",
    "future_folder = os.path.dirname(software_data_folder_location)\n",
    "\n",
    "create_forecast_basic_software_location = os.path.dirname(future_folder)\n",
    "\n",
    "sys.path.append(create_forecast_basic_software_location)"
   ]
  },
  {
   "cell_type": "markdown",
   "id": "9624443e",
   "metadata": {
    "heading_collapsed": true
   },
   "source": [
    "## פונקציות"
   ]
  },
  {
   "cell_type": "markdown",
   "id": "f0204c8b",
   "metadata": {},
   "source": [
    "### פונקציות גלובליות"
   ]
  },
  {
   "cell_type": "code",
   "execution_count": 4,
   "id": "9b7b0f7c",
   "metadata": {},
   "outputs": [],
   "source": [
    "from global_functions import up_load_shp, up_load_df, find_files_with_pattern"
   ]
  },
  {
   "cell_type": "markdown",
   "id": "78ef9832",
   "metadata": {},
   "source": [
    "## code"
   ]
  },
  {
   "cell_type": "markdown",
   "id": "9aa5b911",
   "metadata": {},
   "source": [
    "### עיבוד חומר מקדים"
   ]
  },
  {
   "cell_type": "markdown",
   "id": "8523c1cc",
   "metadata": {},
   "source": [
    "##### העלאת טבלה"
   ]
  },
  {
   "cell_type": "code",
   "execution_count": 5,
   "id": "a5b2c6ba",
   "metadata": {},
   "outputs": [],
   "source": [
    "path=r'{}\\background_files'.format(software_data_folder_location)\n",
    "\n",
    "matching_files_age_dis_type=find_files_with_pattern(path, '_age_dis_type')\n",
    "file_age_dis_type = pathlib.Path(matching_files_age_dis_type[0])\n",
    "file_name_age_dis_type = file_age_dis_type.name[:-5]\n",
    "\n",
    "taz_2020_catalog=up_load_df(path,file_name_age_dis_type)"
   ]
  },
  {
   "cell_type": "markdown",
   "id": "1afea53e",
   "metadata": {},
   "source": [
    "##### העלאת טבלה"
   ]
  },
  {
   "cell_type": "code",
   "execution_count": 6,
   "id": "905de7d8",
   "metadata": {},
   "outputs": [],
   "source": [
    "\n",
    "matching_files_2020_jtmt_forcast_full=find_files_with_pattern(r'{}'.format(forecast_version_folder_location), '2020_jtmt_forcast_full_')\n",
    "file_2020_jtmt_forcast_full = pathlib.Path(matching_files_2020_jtmt_forcast_full[0])\n",
    "file_name_2020_jtmt_forcast_full = file_2020_jtmt_forcast_full.name[:-5]\n",
    "\n",
    "taz_2020_aprt=up_load_df(r'{}'.format(forecast_version_folder_location), file_name_2020_jtmt_forcast_full)"
   ]
  },
  {
   "cell_type": "code",
   "execution_count": 14,
   "id": "6fa6f987",
   "metadata": {},
   "outputs": [],
   "source": [
    "save_file=r'{}\\Intermediates'.format(software_data_folder_location)\n",
    "\n",
    "matching_files=find_files_with_pattern(save_file, '_kibolt_jew_till_2050')\n",
    "file = pathlib.Path(matching_files[0])\n",
    "file_name = file.name[:-5]\n",
    "\n",
    "kibolt_jew_2050=up_load_df(save_file, file_name).set_index('Taz_num')"
   ]
  },
  {
   "cell_type": "markdown",
   "id": "9e94ede8",
   "metadata": {},
   "source": [
    "##### העלאת טבלה ושכבה"
   ]
  },
  {
   "cell_type": "code",
   "execution_count": 15,
   "id": "6cc35f19",
   "metadata": {},
   "outputs": [],
   "source": [
    "age_catalog=up_load_df(r'{}\\background_files'.format(software_data_folder_location),'age_des_types')\n",
    "\n",
    "taz_with_aprt_diversity=up_load_shp(r'{}\\background_files\\cost_diversity_for_age_distribution.shp'.format(software_data_folder_location)).set_index('Taz_num')"
   ]
  },
  {
   "cell_type": "code",
   "execution_count": 16,
   "id": "083a4e51",
   "metadata": {},
   "outputs": [],
   "source": [
    "\n",
    "taz_2020_catalog=taz_2020_catalog.merge(taz_2020_aprt[['Taz_num','zonetype','aprt_20','pop_without_dorms_yeshiva','Taz_name','Muni_Heb']],on='Taz_num',how='left').set_index('Taz_num')\n",
    "\n",
    "taz_2020_catalog['taz_with_aprt_diversity']=taz_with_aprt_diversity['div']\n",
    "\n",
    "taz_2020_catalog['taz_expensive']=taz_with_aprt_diversity['cost']\n",
    "\n",
    "col=['classification_name','age_cycle']\n",
    "\n",
    "taz_2020_catalog=taz_2020_catalog.reset_index().merge(age_catalog[col],on='classification_name',how='left').set_index('Taz_num')\n",
    "\n",
    "taz_2020_catalog=taz_2020_catalog.join(kibolt_jew_2050).query('sector_for_age != \"Arab\"')\n",
    "\n",
    "taz_2020_catalog=taz_2020_catalog.fillna(0)"
   ]
  },
  {
   "cell_type": "markdown",
   "id": "b98443f4",
   "metadata": {},
   "source": [
    "##### העלאת טבלה"
   ]
  },
  {
   "cell_type": "code",
   "execution_count": 17,
   "id": "8a05fa87",
   "metadata": {},
   "outputs": [],
   "source": [
    "folder_path=r'{}\\background_files'.format(software_data_folder_location)\n",
    "\n",
    "taz_sector_change=up_load_df(folder_path,'230704_taz_num_convert_from_jewish_to_u_orthodox')"
   ]
  },
  {
   "cell_type": "code",
   "execution_count": 18,
   "id": "514f0a31",
   "metadata": {},
   "outputs": [],
   "source": [
    "lst_change_sector=list(taz_sector_change.Taz_num)\n",
    "\n",
    "taz_2020_catalog.loc[(taz_2020_catalog.index.isin(lst_change_sector)),'sector_for_age']='U_Orthodox'"
   ]
  },
  {
   "cell_type": "markdown",
   "id": "4d10f201",
   "metadata": {},
   "source": [
    "## חישוב "
   ]
  },
  {
   "cell_type": "code",
   "execution_count": 19,
   "id": "5f9c1f36",
   "metadata": {},
   "outputs": [],
   "source": [
    "singal_year=list(range(2025,2051,5))"
   ]
  },
  {
   "cell_type": "code",
   "execution_count": 20,
   "id": "0240b0f9",
   "metadata": {},
   "outputs": [],
   "source": [
    "years=['add_aprt_2020_2025',\n",
    " 'add_aprt_2025_2030',\n",
    " 'add_aprt_2030_2035',\n",
    " 'add_aprt_2035_2040',\n",
    " 'add_aprt_2040_2045',\n",
    " 'add_aprt_2045_2050']\n",
    "\n",
    "y_before=['2020','2020_2025',\n",
    " '2025_2030',\n",
    " '2030_2035',\n",
    " '2035_2040',\n",
    " '2040_2045']\n",
    "\n",
    "only_years=['2020_2025',\n",
    " '2025_2030',\n",
    " '2030_2035',\n",
    " '2035_2040',\n",
    " '2040_2045',\n",
    " '2045_2050']"
   ]
  },
  {
   "cell_type": "code",
   "execution_count": 21,
   "id": "5cc6778a",
   "metadata": {},
   "outputs": [],
   "source": [
    "taz_2020_catalog['age_cycle_time']=0\n",
    "taz_2020_catalog['current_aprt']=taz_2020_catalog['aprt_20']\n",
    "years_to_change_cycle_stage=20\n",
    "age_cycle_limit=4\n",
    "taz_2020_catalog['age_cycle_2020']=taz_2020_catalog['age_cycle']\n",
    "taz_2020_catalog['changed_this_cycle']=0"
   ]
  },
  {
   "cell_type": "code",
   "execution_count": 22,
   "id": "0cd01ab9",
   "metadata": {
    "code_folding": []
   },
   "outputs": [
    {
     "name": "stderr",
     "output_type": "stream",
     "text": [
      "C:\\Users\\dpere\\AppData\\Local\\Temp\\ipykernel_4124\\428659552.py:6: FutureWarning: Setting an item of incompatible dtype is deprecated and will raise in a future error of pandas. Value ' | new diverse neighborhood | ' has dtype incompatible with float64, please explicitly cast to a compatible dtype first.\n",
      "  taz_2020_catalog.loc[\n",
      "C:\\Users\\dpere\\AppData\\Local\\Temp\\ipykernel_4124\\428659552.py:6: FutureWarning: Setting an item of incompatible dtype is deprecated and will raise in a future error of pandas. Value ' | new diverse neighborhood | ' has dtype incompatible with float64, please explicitly cast to a compatible dtype first.\n",
      "  taz_2020_catalog.loc[\n",
      "C:\\Users\\dpere\\AppData\\Local\\Temp\\ipykernel_4124\\428659552.py:6: FutureWarning: Setting an item of incompatible dtype is deprecated and will raise in a future error of pandas. Value ' | new diverse neighborhood | ' has dtype incompatible with float64, please explicitly cast to a compatible dtype first.\n",
      "  taz_2020_catalog.loc[\n",
      "C:\\Users\\dpere\\AppData\\Local\\Temp\\ipykernel_4124\\428659552.py:6: FutureWarning: Setting an item of incompatible dtype is deprecated and will raise in a future error of pandas. Value ' | new diverse neighborhood | ' has dtype incompatible with float64, please explicitly cast to a compatible dtype first.\n",
      "  taz_2020_catalog.loc[\n",
      "C:\\Users\\dpere\\AppData\\Local\\Temp\\ipykernel_4124\\428659552.py:6: FutureWarning: Setting an item of incompatible dtype is deprecated and will raise in a future error of pandas. Value ' | new diverse neighborhood | ' has dtype incompatible with float64, please explicitly cast to a compatible dtype first.\n",
      "  taz_2020_catalog.loc[\n",
      "C:\\Users\\dpere\\AppData\\Local\\Temp\\ipykernel_4124\\428659552.py:6: FutureWarning: Setting an item of incompatible dtype is deprecated and will raise in a future error of pandas. Value ' | new diverse neighborhood | ' has dtype incompatible with float64, please explicitly cast to a compatible dtype first.\n",
      "  taz_2020_catalog.loc[\n"
     ]
    }
   ],
   "source": [
    "for y, y1 in zip(years, only_years):\n",
    "    #### אזורים ללא יח\"ד קיימות בשנת הבסיס מתאכלסים בהתפלגות גילים הראשוני\n",
    "    taz_with_aprt_diversity_condition = taz_2020_catalog['taz_with_aprt_diversity']==1\n",
    "    taz_expensive_condition = taz_2020_catalog['taz_expensive']==1\n",
    "    \n",
    "    taz_2020_catalog.loc[\n",
    "        (taz_2020_catalog['current_aprt']==0)&\n",
    "        (taz_2020_catalog['{}'.format(y)]>0)&\n",
    "        (taz_2020_catalog['changed_this_cycle']==0)&\n",
    "        taz_with_aprt_diversity_condition,['age_cycle','age_cycle_time','explanation_{}'.format(y1),'changed_this_cycle']\n",
    "    ]=[3,0,' | new diverse neighborhood | ',1]\n",
    "    \n",
    "    taz_2020_catalog.loc[\n",
    "        (taz_2020_catalog['current_aprt']==0)&\n",
    "        (taz_2020_catalog['{}'.format(y)]>0)&\n",
    "        (taz_2020_catalog['changed_this_cycle']==0)&\n",
    "        taz_expensive_condition&\n",
    "        ~taz_with_aprt_diversity_condition,['age_cycle','age_cycle_time','explanation_{}'.format(y1),'changed_this_cycle']\n",
    "    ]=[2,0,' | new non-diverse expensive neighborhood  | ',1]\n",
    "    \n",
    "    taz_2020_catalog.loc[\n",
    "        (taz_2020_catalog['current_aprt']==0)&\n",
    "        (taz_2020_catalog['{}'.format(y)]>0)&\n",
    "        (taz_2020_catalog['changed_this_cycle']==0)&\n",
    "        ~taz_expensive_condition&\n",
    "        ~taz_with_aprt_diversity_condition,['age_cycle','age_cycle_time','explanation_{}'.format(y1),'changed_this_cycle']\n",
    "    ]=[1,0,' | new non-diverse neighborhood  | ',1]\n",
    "\n",
    "    #### אזורים עם יח\"ד קיימות בשנת הבסיס מתאכלסים בהתפלגות גילים כפונצקיה של יחס קיבולת למצב הקיים\n",
    "    taz_2020_catalog.loc[\n",
    "        (taz_2020_catalog['current_aprt']>0),'precent_add_to_current'\n",
    "    ]=taz_2020_catalog['{}'.format(y)]/taz_2020_catalog['current_aprt']\n",
    "    \n",
    "    #### יחס נמוך - הקיבולת בטלה ביחס למצב הקיים\n",
    "    #### יחס גדול - הקיבולת מבטלת את המצב הקיים\n",
    "    kibolet_condition = taz_2020_catalog['precent_add_to_current'] > 0.5\n",
    "    yush_condition =  taz_2020_catalog['zonetype']=='Judea and Samaria'\n",
    "\n",
    "    taz_2020_catalog.loc[\n",
    "        kibolet_condition &\n",
    "        ~yush_condition &\n",
    "        (taz_2020_catalog['changed_this_cycle']==0)&\n",
    "        taz_with_aprt_diversity_condition,['age_cycle','age_cycle_time','explanation_{}'.format(y1),'changed_this_cycle']\n",
    "    ]=[3,0,'| renew diverse neighborhood |',1]\n",
    "    \n",
    "    taz_2020_catalog.loc[\n",
    "        kibolet_condition &\n",
    "        taz_expensive_condition &\n",
    "        (taz_2020_catalog['changed_this_cycle']==0)&\n",
    "        ~taz_with_aprt_diversity_condition,['age_cycle','age_cycle_time','explanation_{}'.format(y1),'changed_this_cycle']\n",
    "    ]=[2,0,'| a lot of new aprts in non-diverse expensive neighborhood|',1]\n",
    "\n",
    "    taz_2020_catalog.loc[\n",
    "        kibolet_condition &\n",
    "        (taz_2020_catalog['changed_this_cycle']==0)&\n",
    "        ~taz_expensive_condition &\n",
    "        ~taz_with_aprt_diversity_condition,['age_cycle','age_cycle_time','explanation_{}'.format(y1),'changed_this_cycle']\n",
    "    ]=[1,0,'| a lot of new aprts in non-diverse neighborhood|',1]\n",
    "\n",
    "    #### יחס בינוני\n",
    "    ##### ביוש אין התחדשות עירונית לכן אם יחס גבוהה יחסית זה כמו בנייה חדשה עם אכלוס של סוג התפלגות גילים הראשוני\n",
    "    kibolet_condition =  taz_2020_catalog['precent_add_to_current']>= 0.20\n",
    "\n",
    "    taz_2020_catalog.loc[\n",
    "        (yush_condition)&\n",
    "        (taz_2020_catalog['changed_this_cycle']==0)&\n",
    "        (kibolet_condition) , ['age_cycle','age_cycle_time','explanation_{}'.format(y1),'changed_this_cycle']\n",
    "    ] = [1, 0,'| a lot of new aprts in non-diverse neighborhood in yush |',1]\n",
    "\n",
    "    ##### יוש אין התחדשות עירונית לכן אם יחס לא גבוהה יחסית זה מונע התבגרות של המצב הקיים    \n",
    "    ##### אם לא ביוש אז יש אפשרות התחדשות עירונית לכן המקום נהיה מגוון\n",
    "    kibolet_condition =  (taz_2020_catalog['precent_add_to_current']>= 0.25) & (taz_2020_catalog['precent_add_to_current'] <= 0.5)\n",
    "\n",
    "    taz_2020_catalog.loc[\n",
    "        ~(yush_condition)&\n",
    "        (kibolet_condition)&\n",
    "        (taz_with_aprt_diversity_condition) , ['age_cycle','explanation_{}'.format(y1)]\n",
    "    ] =  [3,'| a lot of new aprts in diverse neighborhood|']\n",
    "    \n",
    "    #השעון התקדם כבר ולא צריך לשנות כלום\n",
    "    #### קוד לתהליך התבגרות התפלגות הגילים כפונקציה של סוג מגזר\n",
    "    age_cycle_condition = taz_2020_catalog['age_cycle']<age_cycle_limit\n",
    "\n",
    "    age_cycle_time_condition=(taz_2020_catalog['age_cycle_time']%years_to_change_cycle_stage==0)&(taz_2020_catalog['age_cycle_time']>0)\n",
    "\n",
    "    sector_condition=taz_2020_catalog['sector_for_age']=='hitnachlut' \n",
    "    \n",
    "    taz_2020_catalog.loc[\n",
    "        (age_cycle_time_condition) &\n",
    "        (sector_condition) &\n",
    "        (taz_2020_catalog['changed_this_cycle']==0)&\n",
    "        (age_cycle_condition),['explanation_{}'.format(y1),'changed_this_cycle']\n",
    "    ]=['| natural aging |',1]\n",
    "    \n",
    "    taz_2020_catalog.loc[\n",
    "        (age_cycle_time_condition) &\n",
    "        (sector_condition) &\n",
    "        (age_cycle_condition),'age_cycle'\n",
    "    ]=taz_2020_catalog['age_cycle']+1\n",
    "    \n",
    "    taz_2020_catalog.loc[\n",
    "        (age_cycle_time_condition) &\n",
    "        (sector_condition) &\n",
    "        (age_cycle_condition),'age_cycle_time'\n",
    "    ]=taz_2020_catalog['age_cycle_time']+5\n",
    "\n",
    "    sector_condition=taz_2020_catalog['sector_for_age']=='Jewish'\n",
    "\n",
    "    age_cycle_condition = taz_2020_catalog['age_cycle']==1\n",
    "\n",
    "    taz_2020_catalog.loc[\n",
    "        (age_cycle_time_condition) &\n",
    "        (taz_2020_catalog['changed_this_cycle']==0)&\n",
    "        (sector_condition) &\n",
    "        (age_cycle_condition),['age_cycle','explanation_{}'.format(y1),'changed_this_cycle']\n",
    "    ]=[2 ,'| natural aging |',1]    \n",
    "    \n",
    "    taz_2020_catalog.loc[\n",
    "        (age_cycle_time_condition) & \n",
    "        (sector_condition) &\n",
    "        (age_cycle_condition),'age_cycle_time'\n",
    "    ]=taz_2020_catalog['age_cycle_time']+5\n",
    "\n",
    "    sector_condition=taz_2020_catalog['sector_for_age']=='Jewish'\n",
    "\n",
    "    age_cycle_condition = taz_2020_catalog['age_cycle']==2\n",
    "    \n",
    "    taz_2020_catalog.loc[\n",
    "        (age_cycle_time_condition) &\n",
    "        (age_cycle_condition) &\n",
    "        (sector_condition) &\n",
    "        (taz_2020_catalog['changed_this_cycle']==0) &\n",
    "        (taz_with_aprt_diversity_condition),['age_cycle','explanation_{}'.format(y1),'changed_this_cycle']\n",
    "    ]=[3,'| natural aging to a diverse neighborhood |',1]\n",
    "    \n",
    "    taz_2020_catalog.loc[\n",
    "        (age_cycle_time_condition) &\n",
    "        (age_cycle_condition) &\n",
    "        (sector_condition) &\n",
    "        (taz_with_aprt_diversity_condition),'age_cycle_time'\n",
    "    ]=taz_2020_catalog['age_cycle_time']+5\n",
    "\n",
    "    sector_condition=taz_2020_catalog['sector_for_age']=='Jewish'\n",
    "\n",
    "    age_cycle_condition = taz_2020_catalog['age_cycle']==4\n",
    "    \n",
    "    taz_2020_catalog.loc[\n",
    "        (age_cycle_time_condition) &\n",
    "        (age_cycle_condition) &\n",
    "        (sector_condition) &\n",
    "        (taz_2020_catalog['changed_this_cycle']==0) &\n",
    "        (taz_with_aprt_diversity_condition),['age_cycle','explanation_{}'.format(y1),'changed_this_cycle']\n",
    "    ]=[3,'| old to a diverse neighborhood |',1]\n",
    "    \n",
    "    taz_2020_catalog.loc[\n",
    "        (age_cycle_time_condition) &\n",
    "        (age_cycle_condition) &\n",
    "        (sector_condition) &\n",
    "        (taz_with_aprt_diversity_condition),'age_cycle_time'\n",
    "    ]=taz_2020_catalog['age_cycle_time']+5\n",
    "    \n",
    "    sector_condition=taz_2020_catalog['sector_for_age']=='U_Orthodox'\n",
    "\n",
    "    age_cycle_condition = taz_2020_catalog['age_cycle']==1\n",
    "\n",
    "    taz_2020_catalog.loc[\n",
    "        (age_cycle_time_condition) &\n",
    "        (sector_condition) &\n",
    "        (taz_2020_catalog['changed_this_cycle']==0) &\n",
    "        (age_cycle_condition),['age_cycle','explanation_{}'.format(y1),'changed_this_cycle']\n",
    "    ]=[2 ,'| natural aging |',1]\n",
    "    \n",
    "    taz_2020_catalog.loc[\n",
    "        (age_cycle_time_condition) &\n",
    "        (sector_condition) &\n",
    "        (age_cycle_condition),'age_cycle_time'\n",
    "    ]=taz_2020_catalog['age_cycle_time']+5\n",
    "\n",
    "    age_cycle_condition = taz_2020_catalog['age_cycle']==2\n",
    "\n",
    "    taz_2020_catalog.loc[\n",
    "        (age_cycle_time_condition) &\n",
    "        (taz_2020_catalog['changed_this_cycle']==0) &\n",
    "        (age_cycle_condition) &\n",
    "        (sector_condition) &\n",
    "        (taz_with_aprt_diversity_condition),['age_cycle','explanation_{}'.format(y1),'changed_this_cycle']\n",
    "    ]=[3,'| natural aging to a diverse neighborhood |',1]\n",
    "      \n",
    "    taz_2020_catalog.loc[\n",
    "        (age_cycle_time_condition) &\n",
    "        (age_cycle_condition) &\n",
    "        (sector_condition) &\n",
    "        (taz_with_aprt_diversity_condition),'age_cycle_time'\n",
    "    ]=taz_2020_catalog['age_cycle_time']+5\n",
    "    \n",
    "    taz_2020_catalog.loc[\n",
    "        (age_cycle_time_condition) &\n",
    "         (taz_2020_catalog['changed_this_cycle']==0) &\n",
    "        (age_cycle_condition) &\n",
    "        (sector_condition) &\n",
    "        ~(taz_with_aprt_diversity_condition),['age_cycle','explanation_{}'.format(y1),'changed_this_cycle']\n",
    "    ]=[4,'| natural aging |',1]\n",
    "    \n",
    "    age_cycle_condition = taz_2020_catalog['age_cycle']==4\n",
    "    \n",
    "    taz_2020_catalog.loc[\n",
    "        (age_cycle_time_condition) &\n",
    "        (taz_2020_catalog['changed_this_cycle']==0) &\n",
    "        (age_cycle_condition) &\n",
    "        (sector_condition) &\n",
    "        (taz_with_aprt_diversity_condition),['age_cycle','explanation_{}'.format(y1),'changed_this_cycle']\n",
    "    ]=[3,'| old to a diverse neighborhood |',1]\n",
    "    \n",
    "    taz_2020_catalog.loc[\n",
    "        (age_cycle_time_condition) &\n",
    "        (age_cycle_condition) &\n",
    "        (sector_condition) &\n",
    "        (taz_with_aprt_diversity_condition),'age_cycle_time'\n",
    "    ]=taz_2020_catalog['age_cycle_time']+5\n",
    "   \n",
    "    taz_2020_catalog.loc[\n",
    "        (age_cycle_time_condition) &\n",
    "        (age_cycle_condition) &\n",
    "        (sector_condition) &\n",
    "        ~(taz_with_aprt_diversity_condition),'age_cycle_time'\n",
    "    ]=taz_2020_catalog['age_cycle_time']+5\n",
    "\n",
    "    taz_2020_catalog.loc[(taz_2020_catalog['changed_this_cycle']==0),'age_cycle_time'\n",
    "    ]=taz_2020_catalog['age_cycle_time']+5\n",
    "    \n",
    "    taz_2020_catalog['changed_this_cycle']=0\n",
    "    \n",
    "    taz_2020_catalog['current_aprt']=taz_2020_catalog['current_aprt']+taz_2020_catalog['{}'.format(y)]\n",
    "    taz_2020_catalog['current_aprt_{}'.format(y1)]= taz_2020_catalog['current_aprt']\n",
    "    taz_2020_catalog['age_cycle_{}'.format(y1)]= taz_2020_catalog['age_cycle']\n",
    "    taz_2020_catalog['age_cycle_time_{}'.format(y1)]= taz_2020_catalog['age_cycle_time']\n",
    "    taz_2020_catalog['precent_add_to_current_{}'.format(y1)]= taz_2020_catalog['precent_add_to_current']"
   ]
  },
  {
   "cell_type": "markdown",
   "id": "614f26f0",
   "metadata": {},
   "source": [
    "## ייצוא"
   ]
  },
  {
   "cell_type": "code",
   "execution_count": 23,
   "id": "1099b469",
   "metadata": {},
   "outputs": [],
   "source": [
    "#### תאריך\n",
    "file_date=pd.Timestamp.today().strftime('%y%m%d')"
   ]
  },
  {
   "cell_type": "code",
   "execution_count": 24,
   "id": "a36aa769",
   "metadata": {},
   "outputs": [],
   "source": [
    "taz_2020_catalog['hh_size_2020']=taz_2020_catalog['pop_without_dorms_yeshiva']/taz_2020_catalog['aprt_20']"
   ]
  },
  {
   "cell_type": "code",
   "execution_count": 25,
   "id": "a8a94092",
   "metadata": {},
   "outputs": [],
   "source": [
    "for y1,sy,y_b, in zip(only_years, singal_year,y_before):\n",
    "    taz_2020_catalog.loc[(taz_2020_catalog['age_cycle_{}'.format(y1)]==taz_2020_catalog['age_cycle_{}'.format(y_b)])&(taz_2020_catalog['age_cycle_{}'.format(y1)]==3),'hh_size_{}'.format(y1)]=taz_2020_catalog['hh_size_{}'.format(y_b)]\n",
    "    taz_2020_catalog.loc[(taz_2020_catalog['age_cycle_{}'.format(y1)]==taz_2020_catalog['age_cycle_{}'.format(y_b)])&(taz_2020_catalog['age_cycle_{}'.format(y1)]==3),'hh_size_{}'.format(y1)]=taz_2020_catalog['hh_size_{}'.format(y1)]+0.15"
   ]
  },
  {
   "cell_type": "code",
   "execution_count": 26,
   "id": "6899f257",
   "metadata": {},
   "outputs": [],
   "source": [
    "col_age=[ 'pop_0',\n",
    " 'pop_10',\n",
    " 'pop_15',\n",
    " 'pop_20',\n",
    " 'pop_25',\n",
    " 'pop_30',\n",
    " 'pop_35',\n",
    " 'pop_40',\n",
    " 'pop_45',\n",
    " 'pop_5',\n",
    " 'pop_50',\n",
    " 'pop_55',\n",
    " 'pop_60',\n",
    " 'pop_65',\n",
    " 'pop_70',\n",
    " 'pop_75up']"
   ]
  },
  {
   "cell_type": "code",
   "execution_count": 27,
   "id": "b6e47829",
   "metadata": {},
   "outputs": [],
   "source": [
    "for y1,sy,y_b, in zip(only_years, singal_year,y_before):\n",
    "    \n",
    "    col_taz=['Taz_num','current_aprt_{}'.format(y1),'explanation_{}'.format(y1),'age_cycle_{}'.format(y1),'hh_size_{}'.format(y1),'sector_for_age']\n",
    "    \n",
    "    left_col=['sector_for_age','age_cycle_{}'.format(y1)]\n",
    "    right_col=['sector','age_cycle']\n",
    "\n",
    "    df=taz_2020_catalog.reset_index()[col_taz].merge(age_catalog,left_on=left_col,right_on=right_col,how='left').set_index('Taz_num')\n",
    "    \n",
    "    df['pop']=df['current_aprt_{}'.format(y1)]*df['hh_size_{}'.format(y1)]\n",
    "    df.loc[df['hh_size_{}'.format(y1)].isna(),'pop']=df['current_aprt_{}'.format(y1)]*df['hh_size']\n",
    "        \n",
    "    df['pop_{}'.format(sy)]=df['pop']\n",
    "    \n",
    "    df['aprt_{}'.format(sy)]=df['current_aprt_{}'.format(y1)]\n",
    "    \n",
    "    df[col_age]=df[col_age].multiply(df['pop'], axis=\"index\")    \n",
    "\n",
    "    file_save=r'{}\\Intermediates'.format(software_data_folder_location)\n",
    "\n",
    "    save_excel_path=r'{}\\{}_forecast_pop_jewish_{}_bau.xlsx'.format(file_save,file_date,y1)\n",
    "\n",
    "    df.to_excel(save_excel_path,index=True)\n",
    "    \n",
    "    taz_2020_catalog=taz_2020_catalog.join(df[['pop_{}'.format(sy),'aprt_{}'.format(sy)]])"
   ]
  }
 ],
 "metadata": {
  "kernelspec": {
   "display_name": "Python 3 (ipykernel)",
   "language": "python",
   "name": "python3"
  },
  "language_info": {
   "codemirror_mode": {
    "name": "ipython",
    "version": 3
   },
   "file_extension": ".py",
   "mimetype": "text/x-python",
   "name": "python",
   "nbconvert_exporter": "python",
   "pygments_lexer": "ipython3",
   "version": "3.11.5"
  },
  "toc": {
   "base_numbering": 1,
   "nav_menu": {},
   "number_sections": true,
   "sideBar": true,
   "skip_h1_title": false,
   "title_cell": "Table of Contents",
   "title_sidebar": "Contents",
   "toc_cell": false,
   "toc_position": {},
   "toc_section_display": true,
   "toc_window_display": true
  }
 },
 "nbformat": 4,
 "nbformat_minor": 5
}
