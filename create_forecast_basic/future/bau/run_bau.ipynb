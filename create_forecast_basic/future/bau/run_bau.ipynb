{
 "cells": [
  {
   "cell_type": "markdown",
   "metadata": {},
   "source": [
    "### ייבוא ספריות\n"
   ]
  },
  {
   "cell_type": "code",
   "execution_count": null,
   "metadata": {},
   "outputs": [],
   "source": [
    "import os\n",
    "import shutil"
   ]
  },
  {
   "cell_type": "code",
   "execution_count": null,
   "metadata": {},
   "outputs": [],
   "source": [
    "def delete_folder_contents_and_create_new(folder_path, new_folder_path):\n",
    "    # מחק את התוכן של התיקייה.\n",
    "    shutil.rmtree(folder_path)\n",
    "    \n",
    "    # צור תיקייה\n",
    "    os.makedirs(new_folder_path)\n",
    "\n",
    "# מגדיר את הנתיב לתיקייה הקיימת.\n",
    "folder_path = \"./Intermediates\"\n",
    "# מגדיר את הנתיב לתיקייה החדשה.\n",
    "new_folder_path = \"./Intermediates/change_pop\"\n",
    "# קורא לפונקציה\n",
    "delete_folder_contents_and_create_new(folder_path, new_folder_path)"
   ]
  },
  {
   "cell_type": "markdown",
   "metadata": {},
   "source": [
    "### הרצת מחברות\n"
   ]
  },
  {
   "cell_type": "code",
   "execution_count": null,
   "metadata": {},
   "outputs": [],
   "source": [
    "%run \"./join_kibolt_2050_Jewish_bau_230712.ipynb\""
   ]
  },
  {
   "cell_type": "code",
   "execution_count": null,
   "metadata": {},
   "outputs": [],
   "source": [
    "%run \"./create_age_distribution_bau_230721.ipynb\""
   ]
  },
  {
   "cell_type": "code",
   "execution_count": null,
   "metadata": {},
   "outputs": [],
   "source": [
    "%run \"./230709_join_arab_jew_pop_bau.ipynb\""
   ]
  },
  {
   "cell_type": "code",
   "execution_count": null,
   "metadata": {},
   "outputs": [],
   "source": [
    "%run \"./change_pop_to_bau_goals_till_2050_230711.ipynb\""
   ]
  }
 ],
 "metadata": {
  "kernelspec": {
   "display_name": "creat_forecast_ad_hoc_env",
   "language": "python",
   "name": "python3"
  },
  "language_info": {
   "codemirror_mode": {
    "name": "ipython",
    "version": 3
   },
   "file_extension": ".py",
   "mimetype": "text/x-python",
   "name": "python",
   "nbconvert_exporter": "python",
   "pygments_lexer": "ipython3",
   "version": "3.11.5"
  }
 },
 "nbformat": 4,
 "nbformat_minor": 2
}
