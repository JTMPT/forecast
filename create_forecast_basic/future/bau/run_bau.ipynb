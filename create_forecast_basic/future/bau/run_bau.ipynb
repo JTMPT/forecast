{
 "cells": [
  {
   "cell_type": "code",
   "execution_count": 1,
   "metadata": {},
   "outputs": [],
   "source": [
    "import os\n",
    "import shutil\n",
    "\n",
    "def delete_folder_contents_and_create_new(folder_path, new_folder_path):\n",
    "    # Delete the contents of the folder\n",
    "    shutil.rmtree(folder_path)\n",
    "    \n",
    "    # Create a new folder\n",
    "    os.makedirs(new_folder_path)\n",
    "\n",
    "# Example usage\n",
    "folder_path = \"./Intermediates\"\n",
    "new_folder_path = \"./Intermediates/change_pop\"\n",
    "delete_folder_contents_and_create_new(folder_path, new_folder_path)\n"
   ]
  },
  {
   "cell_type": "code",
   "execution_count": 5,
   "metadata": {},
   "outputs": [
    {
     "name": "stderr",
     "output_type": "stream",
     "text": [
      "C:\\Users\\dpere\\AppData\\Local\\Temp\\ipykernel_37484\\702667703.py:8: FutureWarning: The provided callable <built-in function sum> is currently using DataFrameGroupBy.sum. In a future version of pandas, the provided callable will be used directly. To keep current behavior pass the string \"sum\" instead.\n",
      "  kibolt_yosh_some_towns_sum_by_taz=kibolt_yosh_some_towns.pivot_table(index='Taz_num',aggfunc=sum).reset_index()[col]\n",
      "C:\\Users\\dpere\\AppData\\Local\\Temp\\ipykernel_37484\\3573415710.py:17: FutureWarning: Setting an item of incompatible dtype is deprecated and will raise in a future error of pandas. Value 'Shrinkable' has dtype incompatible with int64, please explicitly cast to a compatible dtype first.\n",
      "  Jewish_kibolt_some_by_taz.loc[Jewish_kibolt_some_by_taz['kibolet_type']==1,'kibolet_type']='Shrinkable'\n",
      "c:\\Users\\dpere\\miniconda3\\envs\\creat_forecast_ad_hoc_env\\Lib\\site-packages\\openpyxl\\worksheet\\_read_only.py:79: UserWarning: Data Validation extension is not supported and will be removed\n",
      "  for idx, row in parser.parse():\n",
      "c:\\Users\\dpere\\miniconda3\\envs\\creat_forecast_ad_hoc_env\\Lib\\site-packages\\geopandas\\geodataframe.py:2469: UserWarning: `keep_geom_type=True` in overlay resulted in 13 dropped geometries of different geometry types than df1 has. Set `keep_geom_type=False` to retain all geometries\n",
      "  return geopandas.overlay(\n",
      "C:\\Users\\dpere\\AppData\\Local\\Temp\\ipykernel_37484\\3151052792.py:1: FutureWarning: The provided callable <built-in function sum> is currently using DataFrameGroupBy.sum. In a future version of pandas, the provided callable will be used directly. To keep current behavior pass the string \"sum\" instead.\n",
      "  kibolt_jew=kibolt_jew.pivot_table(index='Taz_num',columns='year',values='add_aprt',aggfunc=sum).fillna(0).reset_index()\n"
     ]
    }
   ],
   "source": [
    "%run \"./join_kibolt_2050_Jewish_bau_230712.ipynb\""
   ]
  },
  {
   "cell_type": "code",
   "execution_count": 8,
   "metadata": {},
   "outputs": [
    {
     "name": "stderr",
     "output_type": "stream",
     "text": [
      "C:\\Users\\dpere\\AppData\\Local\\Temp\\ipykernel_37484\\428659552.py:6: FutureWarning: Setting an item of incompatible dtype is deprecated and will raise in a future error of pandas. Value ' | new diverse neighborhood | ' has dtype incompatible with float64, please explicitly cast to a compatible dtype first.\n",
      "  taz_2020_catalog.loc[\n",
      "C:\\Users\\dpere\\AppData\\Local\\Temp\\ipykernel_37484\\428659552.py:6: FutureWarning: Setting an item of incompatible dtype is deprecated and will raise in a future error of pandas. Value ' | new diverse neighborhood | ' has dtype incompatible with float64, please explicitly cast to a compatible dtype first.\n",
      "  taz_2020_catalog.loc[\n",
      "C:\\Users\\dpere\\AppData\\Local\\Temp\\ipykernel_37484\\428659552.py:6: FutureWarning: Setting an item of incompatible dtype is deprecated and will raise in a future error of pandas. Value ' | new diverse neighborhood | ' has dtype incompatible with float64, please explicitly cast to a compatible dtype first.\n",
      "  taz_2020_catalog.loc[\n",
      "C:\\Users\\dpere\\AppData\\Local\\Temp\\ipykernel_37484\\428659552.py:6: FutureWarning: Setting an item of incompatible dtype is deprecated and will raise in a future error of pandas. Value ' | new diverse neighborhood | ' has dtype incompatible with float64, please explicitly cast to a compatible dtype first.\n",
      "  taz_2020_catalog.loc[\n",
      "C:\\Users\\dpere\\AppData\\Local\\Temp\\ipykernel_37484\\428659552.py:6: FutureWarning: Setting an item of incompatible dtype is deprecated and will raise in a future error of pandas. Value ' | new diverse neighborhood | ' has dtype incompatible with float64, please explicitly cast to a compatible dtype first.\n",
      "  taz_2020_catalog.loc[\n",
      "C:\\Users\\dpere\\AppData\\Local\\Temp\\ipykernel_37484\\428659552.py:6: FutureWarning: Setting an item of incompatible dtype is deprecated and will raise in a future error of pandas. Value ' | new diverse neighborhood | ' has dtype incompatible with float64, please explicitly cast to a compatible dtype first.\n",
      "  taz_2020_catalog.loc[\n"
     ]
    }
   ],
   "source": [
    "%run \"./create_age_distribution_bau_230721.ipynb\""
   ]
  },
  {
   "cell_type": "code",
   "execution_count": 10,
   "metadata": {},
   "outputs": [],
   "source": [
    "%run \"./230709_join_arab_jew_pop_bau.ipynb\""
   ]
  },
  {
   "cell_type": "code",
   "execution_count": 11,
   "metadata": {},
   "outputs": [
    {
     "name": "stderr",
     "output_type": "stream",
     "text": [
      "C:\\Users\\dpere\\AppData\\Local\\Temp\\ipykernel_37484\\3806328542.py:47: FutureWarning: Setting an item of incompatible dtype is deprecated and will raise in a future error of pandas. Value 'Jerusalem' has dtype incompatible with float64, please explicitly cast to a compatible dtype first.\n",
      "  pop_goals.loc[pop_goals['district']==\"Jerusalem District\",'zonetype']='Jerusalem'\n",
      "C:\\Users\\dpere\\AppData\\Local\\Temp\\ipykernel_37484\\3806328542.py:59: FutureWarning: The provided callable <built-in function sum> is currently using DataFrameGroupBy.sum. In a future version of pandas, the provided callable will be used directly. To keep current behavior pass the string \"sum\" instead.\n",
      "  pop_goals=pop_goals.pivot_table(index=['zonetype', 'group', 'age_group'],aggfunc=sum)['pop'].reset_index()\n",
      "C:\\Users\\dpere\\AppData\\Local\\Temp\\ipykernel_37484\\3806328542.py:47: FutureWarning: Setting an item of incompatible dtype is deprecated and will raise in a future error of pandas. Value 'Jerusalem' has dtype incompatible with float64, please explicitly cast to a compatible dtype first.\n",
      "  pop_goals.loc[pop_goals['district']==\"Jerusalem District\",'zonetype']='Jerusalem'\n",
      "C:\\Users\\dpere\\AppData\\Local\\Temp\\ipykernel_37484\\3806328542.py:59: FutureWarning: The provided callable <built-in function sum> is currently using DataFrameGroupBy.sum. In a future version of pandas, the provided callable will be used directly. To keep current behavior pass the string \"sum\" instead.\n",
      "  pop_goals=pop_goals.pivot_table(index=['zonetype', 'group', 'age_group'],aggfunc=sum)['pop'].reset_index()\n",
      "C:\\Users\\dpere\\AppData\\Local\\Temp\\ipykernel_37484\\3806328542.py:47: FutureWarning: Setting an item of incompatible dtype is deprecated and will raise in a future error of pandas. Value 'Jerusalem' has dtype incompatible with float64, please explicitly cast to a compatible dtype first.\n",
      "  pop_goals.loc[pop_goals['district']==\"Jerusalem District\",'zonetype']='Jerusalem'\n",
      "C:\\Users\\dpere\\AppData\\Local\\Temp\\ipykernel_37484\\3806328542.py:59: FutureWarning: The provided callable <built-in function sum> is currently using DataFrameGroupBy.sum. In a future version of pandas, the provided callable will be used directly. To keep current behavior pass the string \"sum\" instead.\n",
      "  pop_goals=pop_goals.pivot_table(index=['zonetype', 'group', 'age_group'],aggfunc=sum)['pop'].reset_index()\n",
      "C:\\Users\\dpere\\AppData\\Local\\Temp\\ipykernel_37484\\3806328542.py:47: FutureWarning: Setting an item of incompatible dtype is deprecated and will raise in a future error of pandas. Value 'Jerusalem' has dtype incompatible with float64, please explicitly cast to a compatible dtype first.\n",
      "  pop_goals.loc[pop_goals['district']==\"Jerusalem District\",'zonetype']='Jerusalem'\n",
      "C:\\Users\\dpere\\AppData\\Local\\Temp\\ipykernel_37484\\3806328542.py:59: FutureWarning: The provided callable <built-in function sum> is currently using DataFrameGroupBy.sum. In a future version of pandas, the provided callable will be used directly. To keep current behavior pass the string \"sum\" instead.\n",
      "  pop_goals=pop_goals.pivot_table(index=['zonetype', 'group', 'age_group'],aggfunc=sum)['pop'].reset_index()\n",
      "C:\\Users\\dpere\\AppData\\Local\\Temp\\ipykernel_37484\\3806328542.py:47: FutureWarning: Setting an item of incompatible dtype is deprecated and will raise in a future error of pandas. Value 'Jerusalem' has dtype incompatible with float64, please explicitly cast to a compatible dtype first.\n",
      "  pop_goals.loc[pop_goals['district']==\"Jerusalem District\",'zonetype']='Jerusalem'\n",
      "C:\\Users\\dpere\\AppData\\Local\\Temp\\ipykernel_37484\\3806328542.py:59: FutureWarning: The provided callable <built-in function sum> is currently using DataFrameGroupBy.sum. In a future version of pandas, the provided callable will be used directly. To keep current behavior pass the string \"sum\" instead.\n",
      "  pop_goals=pop_goals.pivot_table(index=['zonetype', 'group', 'age_group'],aggfunc=sum)['pop'].reset_index()\n",
      "C:\\Users\\dpere\\AppData\\Local\\Temp\\ipykernel_37484\\3806328542.py:47: FutureWarning: Setting an item of incompatible dtype is deprecated and will raise in a future error of pandas. Value 'Jerusalem' has dtype incompatible with float64, please explicitly cast to a compatible dtype first.\n",
      "  pop_goals.loc[pop_goals['district']==\"Jerusalem District\",'zonetype']='Jerusalem'\n",
      "C:\\Users\\dpere\\AppData\\Local\\Temp\\ipykernel_37484\\3806328542.py:59: FutureWarning: The provided callable <built-in function sum> is currently using DataFrameGroupBy.sum. In a future version of pandas, the provided callable will be used directly. To keep current behavior pass the string \"sum\" instead.\n",
      "  pop_goals=pop_goals.pivot_table(index=['zonetype', 'group', 'age_group'],aggfunc=sum)['pop'].reset_index()\n"
     ]
    }
   ],
   "source": [
    "%run \"./change_pop_to_bau_goals_till_2050_230711.ipynb\""
   ]
  }
 ],
 "metadata": {
  "kernelspec": {
   "display_name": "creat_forecast_ad_hoc_env",
   "language": "python",
   "name": "python3"
  },
  "language_info": {
   "codemirror_mode": {
    "name": "ipython",
    "version": 3
   },
   "file_extension": ".py",
   "mimetype": "text/x-python",
   "name": "python",
   "nbconvert_exporter": "python",
   "pygments_lexer": "ipython3",
   "version": "3.11.5"
  }
 },
 "nbformat": 4,
 "nbformat_minor": 2
}
