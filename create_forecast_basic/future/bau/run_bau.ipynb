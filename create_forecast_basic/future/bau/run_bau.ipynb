{
 "cells": [
  {
   "cell_type": "code",
   "execution_count": null,
   "id": "8904524c",
   "metadata": {
    "scrolled": true
   },
   "outputs": [],
   "source": [
    "%run \"./join_kibolt_2050_Jewish_bau_230712.ipynb\""
   ]
  },
  {
   "cell_type": "code",
   "execution_count": null,
   "id": "1600bbbd",
   "metadata": {},
   "outputs": [],
   "source": [
    "%run \"./create_age_distribution_bau_230721.ipynb\""
   ]
  },
  {
   "cell_type": "code",
   "execution_count": null,
   "id": "58fd2dc7",
   "metadata": {},
   "outputs": [],
   "source": [
    "%run \"./230709_join_arab_jew_pop_bau.ipynb\""
   ]
  },
  {
   "cell_type": "code",
   "execution_count": null,
   "id": "f6a93d3d",
   "metadata": {},
   "outputs": [],
   "source": [
    "%run \"./change_pop_to_bau_goals_till_2050_230711.ipynb\""
   ]
  },
  {
   "cell_type": "code",
   "execution_count": null,
   "id": "8a55b775",
   "metadata": {
    "scrolled": true
   },
   "outputs": [],
   "source": [
    "%run \"./creat_forecast_2050_bau_230720.ipynb\""
   ]
  },
  {
   "cell_type": "code",
   "execution_count": null,
   "id": "c68026cf",
   "metadata": {},
   "outputs": [],
   "source": [
    "%run \"./join_forecast_bau_230711.ipynb\""
   ]
  }
 ],
 "metadata": {
  "kernelspec": {
   "display_name": "Python 3 (ipykernel)",
   "language": "python",
   "name": "python3"
  },
  "language_info": {
   "codemirror_mode": {
    "name": "ipython",
    "version": 3
   },
   "file_extension": ".py",
   "mimetype": "text/x-python",
   "name": "python",
   "nbconvert_exporter": "python",
   "pygments_lexer": "ipython3",
   "version": "3.11.5"
  },
  "toc": {
   "base_numbering": 1,
   "nav_menu": {},
   "number_sections": true,
   "sideBar": true,
   "skip_h1_title": false,
   "title_cell": "Table of Contents",
   "title_sidebar": "Contents",
   "toc_cell": false,
   "toc_position": {},
   "toc_section_display": true,
   "toc_window_display": false
  }
 },
 "nbformat": 4,
 "nbformat_minor": 5
}
