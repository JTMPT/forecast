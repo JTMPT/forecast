{
 "cells": [
  {
   "cell_type": "markdown",
   "id": "7b5d8a44",
   "metadata": {
    "heading_collapsed": true
   },
   "source": [
    "### קוד מבוא"
   ]
  },
  {
   "cell_type": "code",
   "execution_count": 15,
   "id": "64cacdf0",
   "metadata": {
    "hidden": true
   },
   "outputs": [],
   "source": [
    "import os\n",
    "import pathlib\n",
    "import pandas as pd\n",
    "import geopandas as gpd\n",
    "import fiona"
   ]
  },
  {
   "cell_type": "code",
   "execution_count": 16,
   "id": "4d5dc0cd",
   "metadata": {
    "hidden": true
   },
   "outputs": [],
   "source": [
    "pd.set_option('display.max_rows', None)\n",
    "pd.set_option('display.max_columns', None)"
   ]
  },
  {
   "cell_type": "code",
   "execution_count": 17,
   "id": "0b9ae298",
   "metadata": {
    "hidden": true
   },
   "outputs": [],
   "source": [
    "pd.options.display.float_format = '{:.4f}'.format\n",
    "pd.set_option('display.float_format',  '{:,.2f}'.format)"
   ]
  },
  {
   "cell_type": "markdown",
   "id": "f9cbbf54",
   "metadata": {
    "heading_collapsed": true
   },
   "source": [
    "### פונקציות"
   ]
  },
  {
   "cell_type": "code",
   "execution_count": 18,
   "id": "7f9287be",
   "metadata": {
    "hidden": true
   },
   "outputs": [],
   "source": [
    "def double_taz_num(df):\n",
    "    dup_taz_num=df.groupby(['Taz_num']).size().reset_index(name='count').query('count>1').Taz_num.to_list()\n",
    "    return df.loc[df['Taz_num'].isin(dup_taz_num)]"
   ]
  },
  {
   "cell_type": "code",
   "execution_count": 19,
   "id": "f2ce678c",
   "metadata": {
    "hidden": true
   },
   "outputs": [],
   "source": [
    "def make_point(df):\n",
    "    df_point=df.copy()\n",
    "    df_point['centroid'] = df_point.representative_point()\n",
    "    df_point=df_point.set_geometry('centroid')\n",
    "    df_point=df_point.drop(columns=['geometry'],axis=1)\n",
    "    return df_point"
   ]
  },
  {
   "cell_type": "code",
   "execution_count": 20,
   "id": "c6f5fbfd",
   "metadata": {
    "hidden": true
   },
   "outputs": [],
   "source": [
    "def up_load_gdb(path,layer_name):\n",
    "    path='{}'.format(path)\n",
    "    layer_list=fiona.listlayers(path)\n",
    "    gpd_layer=gpd.read_file(path, layer=layer_list.index(layer_name))\n",
    "    return gpd_layer"
   ]
  },
  {
   "cell_type": "code",
   "execution_count": 21,
   "id": "4cb568dc",
   "metadata": {
    "hidden": true
   },
   "outputs": [],
   "source": [
    "def up_load_shp(path):\n",
    "    path='{}'.format(path)\n",
    "    gpd_layer=gpd.read_file(path)\n",
    "    return gpd_layer"
   ]
  },
  {
   "cell_type": "code",
   "execution_count": 22,
   "id": "44e4dc7d",
   "metadata": {
    "hidden": true
   },
   "outputs": [],
   "source": [
    "def up_load_df(folder_path,file_name):\n",
    "    \n",
    "    path_df=r'{}\\{}.xlsx'.format(folder_path,file_name)\n",
    "    df=pd.read_excel(path_df)\n",
    "    df=df.dropna(how='all')\n",
    "\n",
    "    return df"
   ]
  },
  {
   "cell_type": "code",
   "execution_count": 23,
   "id": "d5484814",
   "metadata": {},
   "outputs": [],
   "source": [
    "def find_files_with_pattern(folder_path, pattern):\n",
    "    \"\"\"\n",
    "    Find files in a directory that match a certain pattern.\n",
    "    \n",
    "    Args:\n",
    "    - directory (str): The directory path.\n",
    "    - pattern (str): The pattern to search for in file names.\n",
    "    \n",
    "    Returns:\n",
    "    - List of file paths matching the pattern.\n",
    "    \"\"\"\n",
    "    files = []\n",
    "    for root, _, filenames in os.walk(folder_path):\n",
    "        for filename in filenames:\n",
    "            if pattern in filename:\n",
    "                files.append(os.path.join(root, filename))\n",
    "    return files"
   ]
  },
  {
   "cell_type": "code",
   "execution_count": 24,
   "id": "2db92bb8",
   "metadata": {},
   "outputs": [],
   "source": [
    "#העלת משתנים להרצת הקוד\n",
    "df_inputs_outputs = pd.read_excel('inputs_outputs.xlsx')\n",
    "\n",
    "software_data_folder_location=df_inputs_outputs['location'][0]\n",
    "\n",
    "forecast_version_folder_location=df_inputs_outputs['location'][1]"
   ]
  },
  {
   "cell_type": "markdown",
   "id": "d6719f37",
   "metadata": {},
   "source": [
    "## קוד"
   ]
  },
  {
   "cell_type": "code",
   "execution_count": 25,
   "id": "cb8fd392",
   "metadata": {},
   "outputs": [],
   "source": [
    "file_date=pd.Timestamp.today().strftime('%y%m%d')"
   ]
  },
  {
   "cell_type": "code",
   "execution_count": 26,
   "id": "0a74fbb0",
   "metadata": {},
   "outputs": [],
   "source": [
    "year=['2025','2030','2035','2040','2045','2050']"
   ]
  },
  {
   "cell_type": "code",
   "execution_count": 27,
   "id": "b7ded1f2",
   "metadata": {},
   "outputs": [
    {
     "data": {
      "text/plain": [
       "'240318'"
      ]
     },
     "execution_count": 27,
     "metadata": {},
     "output_type": "execute_result"
    }
   ],
   "source": [
    "matching_files=find_files_with_pattern(r'{}\\Intermediates'.format(software_data_folder_location), '_pop_2040_bau')\n",
    "file = pathlib.Path(matching_files[0])\n",
    "v_date = file.name[:6]\n",
    "folder = str(file.parent)\n",
    "v_date"
   ]
  },
  {
   "cell_type": "code",
   "execution_count": 28,
   "id": "60061647",
   "metadata": {},
   "outputs": [
    {
     "name": "stderr",
     "output_type": "stream",
     "text": [
      "C:\\Users\\dpere\\AppData\\Local\\Temp\\ipykernel_11384\\870159495.py:47: FutureWarning: Setting an item of incompatible dtype is deprecated and will raise in a future error of pandas. Value 'Jerusalem' has dtype incompatible with float64, please explicitly cast to a compatible dtype first.\n",
      "  pop_goals.loc[pop_goals['district']==\"Jerusalem District\",'zonetype']='Jerusalem'\n",
      "C:\\Users\\dpere\\AppData\\Local\\Temp\\ipykernel_11384\\870159495.py:59: FutureWarning: The provided callable <built-in function sum> is currently using DataFrameGroupBy.sum. In a future version of pandas, the provided callable will be used directly. To keep current behavior pass the string \"sum\" instead.\n",
      "  pop_goals=pop_goals.pivot_table(index=['zonetype', 'group', 'age_group'],aggfunc=sum)['pop'].reset_index()\n",
      "C:\\Users\\dpere\\AppData\\Local\\Temp\\ipykernel_11384\\870159495.py:47: FutureWarning: Setting an item of incompatible dtype is deprecated and will raise in a future error of pandas. Value 'Jerusalem' has dtype incompatible with float64, please explicitly cast to a compatible dtype first.\n",
      "  pop_goals.loc[pop_goals['district']==\"Jerusalem District\",'zonetype']='Jerusalem'\n",
      "C:\\Users\\dpere\\AppData\\Local\\Temp\\ipykernel_11384\\870159495.py:59: FutureWarning: The provided callable <built-in function sum> is currently using DataFrameGroupBy.sum. In a future version of pandas, the provided callable will be used directly. To keep current behavior pass the string \"sum\" instead.\n",
      "  pop_goals=pop_goals.pivot_table(index=['zonetype', 'group', 'age_group'],aggfunc=sum)['pop'].reset_index()\n",
      "C:\\Users\\dpere\\AppData\\Local\\Temp\\ipykernel_11384\\870159495.py:47: FutureWarning: Setting an item of incompatible dtype is deprecated and will raise in a future error of pandas. Value 'Jerusalem' has dtype incompatible with float64, please explicitly cast to a compatible dtype first.\n",
      "  pop_goals.loc[pop_goals['district']==\"Jerusalem District\",'zonetype']='Jerusalem'\n",
      "C:\\Users\\dpere\\AppData\\Local\\Temp\\ipykernel_11384\\870159495.py:59: FutureWarning: The provided callable <built-in function sum> is currently using DataFrameGroupBy.sum. In a future version of pandas, the provided callable will be used directly. To keep current behavior pass the string \"sum\" instead.\n",
      "  pop_goals=pop_goals.pivot_table(index=['zonetype', 'group', 'age_group'],aggfunc=sum)['pop'].reset_index()\n",
      "C:\\Users\\dpere\\AppData\\Local\\Temp\\ipykernel_11384\\870159495.py:47: FutureWarning: Setting an item of incompatible dtype is deprecated and will raise in a future error of pandas. Value 'Jerusalem' has dtype incompatible with float64, please explicitly cast to a compatible dtype first.\n",
      "  pop_goals.loc[pop_goals['district']==\"Jerusalem District\",'zonetype']='Jerusalem'\n",
      "C:\\Users\\dpere\\AppData\\Local\\Temp\\ipykernel_11384\\870159495.py:59: FutureWarning: The provided callable <built-in function sum> is currently using DataFrameGroupBy.sum. In a future version of pandas, the provided callable will be used directly. To keep current behavior pass the string \"sum\" instead.\n",
      "  pop_goals=pop_goals.pivot_table(index=['zonetype', 'group', 'age_group'],aggfunc=sum)['pop'].reset_index()\n",
      "C:\\Users\\dpere\\AppData\\Local\\Temp\\ipykernel_11384\\870159495.py:47: FutureWarning: Setting an item of incompatible dtype is deprecated and will raise in a future error of pandas. Value 'Jerusalem' has dtype incompatible with float64, please explicitly cast to a compatible dtype first.\n",
      "  pop_goals.loc[pop_goals['district']==\"Jerusalem District\",'zonetype']='Jerusalem'\n",
      "C:\\Users\\dpere\\AppData\\Local\\Temp\\ipykernel_11384\\870159495.py:59: FutureWarning: The provided callable <built-in function sum> is currently using DataFrameGroupBy.sum. In a future version of pandas, the provided callable will be used directly. To keep current behavior pass the string \"sum\" instead.\n",
      "  pop_goals=pop_goals.pivot_table(index=['zonetype', 'group', 'age_group'],aggfunc=sum)['pop'].reset_index()\n",
      "C:\\Users\\dpere\\AppData\\Local\\Temp\\ipykernel_11384\\870159495.py:47: FutureWarning: Setting an item of incompatible dtype is deprecated and will raise in a future error of pandas. Value 'Jerusalem' has dtype incompatible with float64, please explicitly cast to a compatible dtype first.\n",
      "  pop_goals.loc[pop_goals['district']==\"Jerusalem District\",'zonetype']='Jerusalem'\n",
      "C:\\Users\\dpere\\AppData\\Local\\Temp\\ipykernel_11384\\870159495.py:59: FutureWarning: The provided callable <built-in function sum> is currently using DataFrameGroupBy.sum. In a future version of pandas, the provided callable will be used directly. To keep current behavior pass the string \"sum\" instead.\n",
      "  pop_goals=pop_goals.pivot_table(index=['zonetype', 'group', 'age_group'],aggfunc=sum)['pop'].reset_index()\n"
     ]
    }
   ],
   "source": [
    "for y in year:\n",
    "        save_taz_path=r'{}\\Intermediates'.format(software_data_folder_location)\n",
    "\n",
    "        pop_to_change=up_load_df(save_taz_path,'{}_pop_{}_bau'.format(v_date,y))\n",
    "\n",
    "        pop_goals=up_load_df(save_taz_path,'gov_goals_{}_BAU'.format(y))\n",
    "\n",
    "        shp=up_load_shp(r'{}\\background_files\\TAZ_V4_230518_Published.shp'.format(software_data_folder_location))\n",
    "\n",
    "        folder_path=r'{}\\background_files'.format(software_data_folder_location)\n",
    "\n",
    "        taz_sector_change=up_load_df(folder_path,'230704_taz_num_convert_from_jewish_to_u_orthodox')\n",
    "\n",
    "        lst_change_sector=list(taz_sector_change.Taz_num)\n",
    "\n",
    "        shp.loc[(shp['Taz_num'].isin(lst_change_sector)),'main_secto']='U_Orthodox'\n",
    "\n",
    "        col=['Taz_num','main_secto','zonetype']\n",
    "\n",
    "        pop_to_change=pop_to_change.merge(shp[col],on='Taz_num',how='left')\n",
    "        \n",
    "        pop_Palestinian_to_add=pop_to_change.loc[pop_to_change['main_secto']==\"Palestinian\"]\n",
    "        \n",
    "        pop_to_change=pop_to_change.loc[~(pop_to_change['main_secto']==\"Palestinian\")]\n",
    "        \n",
    "        pop_to_change['group']= pop_to_change['main_secto']\n",
    "\n",
    "        pop_to_change.loc[(pop_to_change['main_secto']==\"Arab\" )|(pop_to_change['main_secto']==\"arabs_behined_seperation_wall\" ),'group']= 'arab'\n",
    "\n",
    "        age_group=[ 'pop_0',\n",
    "         'pop_10',\n",
    "         'pop_15',\n",
    "         'pop_20',\n",
    "         'pop_25',\n",
    "         'pop_30',\n",
    "         'pop_35',\n",
    "         'pop_40',\n",
    "         'pop_45',\n",
    "         'pop_5',\n",
    "         'pop_50',\n",
    "         'pop_55',\n",
    "         'pop_60',\n",
    "         'pop_65',\n",
    "         'pop_70',\n",
    "         'pop_75up']\n",
    "\n",
    "        pop_goals.loc[pop_goals['district']==\"Jerusalem District\",'zonetype']='Jerusalem'\n",
    "\n",
    "        pop_goals.loc[pop_goals['district']==\"Yehuda and Shomron\",'zonetype']='Judea and Samaria'\n",
    "\n",
    "        pop_goals.loc[pop_goals['group']==\"jew_not_haredi\",'group']='Jewish'\n",
    "\n",
    "        pop_goals.loc[pop_goals['group']==\"haredi\",'group']='U_Orthodox'\n",
    "\n",
    "        pop_goals['age_group']='pop_'+pop_goals['age'].astype(str)\n",
    "\n",
    "        pop_goals.loc[pop_goals['age']>74,'age_group']='pop_75up'\n",
    "\n",
    "        pop_goals=pop_goals.pivot_table(index=['zonetype', 'group', 'age_group'],aggfunc=sum)['pop'].reset_index()\n",
    "\n",
    "        zonetype=['Jerusalem','Judea and Samaria']\n",
    "\n",
    "        group=['Jewish','U_Orthodox','arab']\n",
    "\n",
    "        for z in zonetype:\n",
    "            for g in group:\n",
    "                if not((z==\"Judea and Samaria\") & (g==\"arab\")):\n",
    "                    for a in age_group:\n",
    "                        pop_to_change.loc[(pop_to_change['group']==g)&(pop_to_change['zonetype']==z),'sum_{}'.format(a)]=pop_to_change.loc[(pop_to_change['group']==g)&(pop_to_change['zonetype']==z)]['{}'.format(a)].sum()\n",
    "                        pop_to_change.loc[(pop_to_change['group']==g)&(pop_to_change['zonetype']==z),'pre_{}'.format(a)]=pop_to_change['{}'.format(a)]/pop_to_change['sum_{}'.format(a)]\n",
    "                        total_gov_age_num=pop_goals.loc[(pop_goals['zonetype']==z) & (pop_goals['group']==g) & (pop_goals['age_group']==a)]['pop'].item()\n",
    "                        pop_to_change.loc[(pop_to_change['group']==g)&(pop_to_change['zonetype']==z),'{}'.format(a)]=pop_to_change['pre_{}'.format(a)]*total_gov_age_num\n",
    "\n",
    "        pop_to_change['pop_old']=pop_to_change['pop']\n",
    "\n",
    "        col=['pop_0',\n",
    "         'pop_10',\n",
    "         'pop_15',\n",
    "         'pop_20',\n",
    "         'pop_25',\n",
    "         'pop_30',\n",
    "         'pop_35',\n",
    "         'pop_40',\n",
    "         'pop_45',\n",
    "         'pop_5',\n",
    "         'pop_50',\n",
    "         'pop_55',\n",
    "         'pop_60',\n",
    "         'pop_65',\n",
    "         'pop_70',\n",
    "         'pop_75up']\n",
    "\n",
    "        pop_to_change['pop']=pop_to_change[col].sum(axis=1)\n",
    "\n",
    "        pop_to_change['aprt_old']=pop_to_change['aprt']\n",
    "\n",
    "        pop_to_change['aprt']=pop_to_change['aprt']*(pop_to_change['pop']/pop_to_change['pop_old'])\n",
    "        \n",
    "        \n",
    "        pop_to_change=pd.concat([pop_to_change,pop_Palestinian_to_add],axis=0)\n",
    "        \n",
    "        save_taz_path=r'{}\\Intermediates\\change_pop'.format(software_data_folder_location)\n",
    "\n",
    "        pop_to_change.to_excel('{}\\{}_pop_{}_bau_changed.xlsx'.format(save_taz_path,file_date,y))"
   ]
  }
 ],
 "metadata": {
  "kernelspec": {
   "display_name": "Python 3 (ipykernel)",
   "language": "python",
   "name": "python3"
  },
  "language_info": {
   "codemirror_mode": {
    "name": "ipython",
    "version": 3
   },
   "file_extension": ".py",
   "mimetype": "text/x-python",
   "name": "python",
   "nbconvert_exporter": "python",
   "pygments_lexer": "ipython3",
   "version": "3.11.5"
  },
  "toc": {
   "base_numbering": 1,
   "nav_menu": {},
   "number_sections": true,
   "sideBar": true,
   "skip_h1_title": false,
   "title_cell": "Table of Contents",
   "title_sidebar": "Contents",
   "toc_cell": false,
   "toc_position": {},
   "toc_section_display": true,
   "toc_window_display": true
  }
 },
 "nbformat": 4,
 "nbformat_minor": 5
}
