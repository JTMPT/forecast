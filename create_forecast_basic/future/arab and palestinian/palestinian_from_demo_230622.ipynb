{
  "cells": [
    {
      "cell_type": "markdown",
      "id": "0e7214ba",
      "metadata": {
        "heading_collapsed": true
      },
      "source": [
        "### קוד מבוא"
      ]
    },
    {
      "cell_type": "code",
      "execution_count": 234,
      "id": "f8405d52",
      "metadata": {
        "hidden": true
      },
      "outputs": [],
      "source": [
        "import pandas as pd\n",
        "import geopandas as gpd\n",
        "import numpy as np\n",
        "from shapely import wkt\n",
        "from matplotlib import pyplot as plt \n",
        "import contextily as cx\n",
        "import folium\n",
        "import fiona\n",
        "from mpl_toolkits.axes_grid1 import make_axes_locatable\n",
        "from shapely.geometry import Point\n",
        "import adjustText as aT"
      ]
    },
    {
      "cell_type": "code",
      "execution_count": 235,
      "id": "2dacbc13",
      "metadata": {
        "hidden": true
      },
      "outputs": [],
      "source": [
        "pd.set_option('display.max_rows', None)\n",
        "pd.set_option('display.max_columns', None)\n",
        "pd.options.display.float_format = '{:.4f}'.format\n",
        "pd.set_option('display.float_format',  '{:,.2f}'.format)"
      ]
    },
    {
      "cell_type": "markdown",
      "id": "e149d388",
      "metadata": {},
      "source": [
        "#### העלאת משתנים להרצת הקוד"
      ]
    },
    {
      "cell_type": "code",
      "execution_count": 236,
      "id": "b2c3b3ca",
      "metadata": {
        "hidden": true
      },
      "outputs": [],
      "source": [
        "pd.options.display.float_format = '{:.4f}'.format\n",
        "pd.set_option('display.float_format',  '{:,.2f}'.format)"
      ]
    },
    {
      "cell_type": "markdown",
      "id": "9624443e",
      "metadata": {
        "heading_collapsed": true
      },
      "source": [
        "### פונקציות"
      ]
    },
    {
      "cell_type": "code",
      "execution_count": 237,
      "id": "d69c42ff",
      "metadata": {
        "hidden": true
      },
      "outputs": [],
      "source": [
        "def double_taz_num(df):\n",
        "    dup_taz_num=df.groupby(['Taz_num']).size().reset_index(name='count').query('count>1').Taz_num.to_list()\n",
        "    return df.loc[df['Taz_num'].isin(dup_taz_num)]"
      ]
    },
    {
      "cell_type": "code",
      "execution_count": 238,
      "id": "d048994a",
      "metadata": {
        "hidden": true
      },
      "outputs": [],
      "source": [
        "def make_point(df):\n",
        "    df_point=df.copy()\n",
        "    df_point['centroid'] = df_point.representative_point()\n",
        "    df_point=df_point.set_geometry('centroid')\n",
        "    df_point=df_point.drop(columns=['geometry'],axis=1)\n",
        "    return df_point"
      ]
    },
    {
      "cell_type": "code",
      "execution_count": 239,
      "id": "86bf5cad",
      "metadata": {
        "hidden": true
      },
      "outputs": [],
      "source": [
        "def up_load_gdb(path,layer_name):\n",
        "    path='{}'.format(path)\n",
        "    layer_list=fiona.listlayers(path)\n",
        "    gpd_layer=gpd.read_file(path, layer=layer_list.index(layer_name))\n",
        "    return gpd_layer"
      ]
    },
    {
      "cell_type": "code",
      "execution_count": 240,
      "id": "6acc6aa7",
      "metadata": {
        "hidden": true
      },
      "outputs": [],
      "source": [
        "def up_load_shp(path):\n",
        "    path='{}'.format(path)\n",
        "    gpd_layer=gpd.read_file(path)\n",
        "    return gpd_layer"
      ]
    },
    {
      "cell_type": "code",
      "execution_count": 241,
      "id": "cb093800",
      "metadata": {
        "hidden": true
      },
      "outputs": [],
      "source": [
        "def unique_id_in_one_taz(df_to_geoode,unique_field,gpd_for_geocode,taz):\n",
        "    \n",
        "    code_to_find=list(df_to_geoode[unique_field].unique())\n",
        "\n",
        "    gpd_for_geocode_to_sum_by_taz=gpd_for_geocode[[unique_field,'geometry']].loc[gpd_for_geocode[unique_field].isin(code_to_find)]\n",
        "\n",
        "    gpd_for_geocode_to_sum_by_taz=gpd.sjoin(taz[['Taz_num','geometry']],gpd_for_geocode_to_sum_by_taz)\n",
        "\n",
        "    gpd_for_geocode_in_one_taz=list(gpd_for_geocode_to_sum_by_taz.groupby(unique_field)[['Taz_num']].nunique().query('Taz_num==1').reset_index()[unique_field])\n",
        "\n",
        "    return gpd_for_geocode_in_one_taz"
      ]
    },
    {
      "cell_type": "code",
      "execution_count": 242,
      "id": "b1a16060",
      "metadata": {
        "hidden": true
      },
      "outputs": [],
      "source": [
        "def up_load_df(folder_path,file_name):\n",
        "    \n",
        "    path_df=r'{}\\{}.xlsx'.format(folder_path,file_name)\n",
        "    df=pd.read_excel(path_df)\n",
        "    df=df.dropna(how='all')\n",
        "\n",
        "    return df"
      ]
    },
    {
      "cell_type": "code",
      "execution_count": 243,
      "id": "04fe336c",
      "metadata": {},
      "outputs": [],
      "source": [
        "def drop_geo(geoDF):\n",
        "    geoDF = geoDF.drop(columns='geometry')\n",
        "    return geoDF"
      ]
    },
    {
      "cell_type": "code",
      "execution_count": 244,
      "id": "6c024c1a",
      "metadata": {},
      "outputs": [],
      "source": [
        "#העלת משתנים להרצת הקוד\n",
        "df_inputs_outputs = pd.read_excel('inputs_outputs.xlsx')\n",
        "\n",
        "software_data_folder_location=df_inputs_outputs['location'][0]\n",
        "\n",
        "forecast_version_folder_location=df_inputs_outputs['location'][1]"
      ]
    },
    {
      "cell_type": "markdown",
      "id": "d66f6096",
      "metadata": {},
      "source": [
        "### ביצוע"
      ]
    },
    {
      "cell_type": "markdown",
      "id": "b7fe1fcf",
      "metadata": {
        "heading_collapsed": true
      },
      "source": [
        "#### עיבוד מידע טבלאי של הדמוגרף"
      ]
    },
    {
      "cell_type": "code",
      "execution_count": 245,
      "id": "29a27436",
      "metadata": {
        "hidden": true
      },
      "outputs": [],
      "source": [
        "demo=up_load_df(r'{}\\background_files'.format(software_data_folder_location),'‏‏PalestiniansResults_forecast_zone')"
      ]
    },
    {
      "cell_type": "code",
      "execution_count": 246,
      "id": "1b4e5a72",
      "metadata": {
        "hidden": true
      },
      "outputs": [],
      "source": [
        "col=['male_2020',\n",
        " 'female_2020',\n",
        " 'male_2025',\n",
        " 'female_2025',\n",
        " 'male_2030',\n",
        " 'female_2030',\n",
        " 'male_2035',\n",
        " 'female_2035',\n",
        " 'male_2040',\n",
        " 'female_2040',\n",
        " 'male_2045',\n",
        " 'female_2045',\n",
        " 'male_2050',\n",
        " 'female_2050']"
      ]
    },
    {
      "cell_type": "code",
      "execution_count": 247,
      "id": "3668f281",
      "metadata": {
        "hidden": true,
        "scrolled": true
      },
      "outputs": [
        {
          "name": "stderr",
          "output_type": "stream",
          "text": [
            "C:\\Users\\dpere\\AppData\\Local\\Temp\\ipykernel_20652\\3931132013.py:1: FutureWarning: The provided callable <built-in function sum> is currently using DataFrameGroupBy.sum. In a future version of pandas, the provided callable will be used directly. To keep current behavior pass the string \"sum\" instead.\n",
            "  demo=demo.pivot_table(index='Proj_Area',aggfunc=sum)[col]\n"
          ]
        }
      ],
      "source": [
        "demo=demo.pivot_table(index='Proj_Area',aggfunc=sum)[col]"
      ]
    },
    {
      "cell_type": "code",
      "execution_count": 248,
      "id": "e32b97be",
      "metadata": {
        "hidden": true
      },
      "outputs": [],
      "source": [
        "year=['2020','2025','2030','2035','2040','2045','2050']"
      ]
    },
    {
      "cell_type": "code",
      "execution_count": 249,
      "id": "968f38ac",
      "metadata": {
        "hidden": true
      },
      "outputs": [],
      "source": [
        "for x in year:\n",
        "    demo['pop_{}'.format(x)]= demo['female_{}'.format(x)]+demo['male_{}'.format(x)]"
      ]
    },
    {
      "cell_type": "markdown",
      "id": "ed27ed27",
      "metadata": {
        "heading_collapsed": true
      },
      "source": [
        "#### שכבת אזורי תחזית של דמוגרף"
      ]
    },
    {
      "cell_type": "code",
      "execution_count": 250,
      "id": "16fc512d",
      "metadata": {
        "hidden": true
      },
      "outputs": [],
      "source": [
        "proj_zones=up_load_shp(r'{}\\background_files\\proj_zones_pls.shp'.format(software_data_folder_location))"
      ]
    },
    {
      "cell_type": "code",
      "execution_count": 251,
      "id": "143c61fc",
      "metadata": {
        "hidden": true
      },
      "outputs": [],
      "source": [
        "proj_zones['Proj_Area']=proj_zones['projection']"
      ]
    },
    {
      "cell_type": "code",
      "execution_count": 252,
      "id": "ff9208b1",
      "metadata": {
        "hidden": true
      },
      "outputs": [],
      "source": [
        "proj_zones=proj_zones[['Proj_Area', 'geometry']]"
      ]
    },
    {
      "cell_type": "markdown",
      "id": "ae0b11cb",
      "metadata": {
        "heading_collapsed": true
      },
      "source": [
        "#### חיבור נתוני דמוגרף"
      ]
    },
    {
      "cell_type": "code",
      "execution_count": 253,
      "id": "60a2f03f",
      "metadata": {
        "hidden": true
      },
      "outputs": [
        {
          "data": {
            "text/html": [
              "<div>\n",
              "<style scoped>\n",
              "    .dataframe tbody tr th:only-of-type {\n",
              "        vertical-align: middle;\n",
              "    }\n",
              "\n",
              "    .dataframe tbody tr th {\n",
              "        vertical-align: top;\n",
              "    }\n",
              "\n",
              "    .dataframe thead th {\n",
              "        text-align: right;\n",
              "    }\n",
              "</style>\n",
              "<table border=\"1\" class=\"dataframe\">\n",
              "  <thead>\n",
              "    <tr style=\"text-align: right;\">\n",
              "      <th></th>\n",
              "      <th>Proj_Area</th>\n",
              "      <th>geometry</th>\n",
              "      <th>male_2020</th>\n",
              "      <th>female_2020</th>\n",
              "      <th>male_2025</th>\n",
              "      <th>female_2025</th>\n",
              "      <th>male_2030</th>\n",
              "      <th>female_2030</th>\n",
              "      <th>male_2035</th>\n",
              "      <th>female_2035</th>\n",
              "      <th>male_2040</th>\n",
              "      <th>female_2040</th>\n",
              "      <th>male_2045</th>\n",
              "      <th>female_2045</th>\n",
              "      <th>male_2050</th>\n",
              "      <th>female_2050</th>\n",
              "      <th>pop_2020</th>\n",
              "      <th>pop_2025</th>\n",
              "      <th>pop_2030</th>\n",
              "      <th>pop_2035</th>\n",
              "      <th>pop_2040</th>\n",
              "      <th>pop_2045</th>\n",
              "      <th>pop_2050</th>\n",
              "    </tr>\n",
              "  </thead>\n",
              "  <tbody>\n",
              "    <tr>\n",
              "      <th>36</th>\n",
              "      <td>50</td>\n",
              "      <td>None</td>\n",
              "      <td>1,232.43</td>\n",
              "      <td>1,124.17</td>\n",
              "      <td>1,379.29</td>\n",
              "      <td>1,269.85</td>\n",
              "      <td>1,546.52</td>\n",
              "      <td>1,436.05</td>\n",
              "      <td>1,738.47</td>\n",
              "      <td>1,625.90</td>\n",
              "      <td>1,942.32</td>\n",
              "      <td>1,827.51</td>\n",
              "      <td>2,142.52</td>\n",
              "      <td>2,026.16</td>\n",
              "      <td>2,334.97</td>\n",
              "      <td>2,216.95</td>\n",
              "      <td>2,356.60</td>\n",
              "      <td>2,649.13</td>\n",
              "      <td>2,982.57</td>\n",
              "      <td>3,364.37</td>\n",
              "      <td>3,769.84</td>\n",
              "      <td>4,168.67</td>\n",
              "      <td>4,551.91</td>\n",
              "    </tr>\n",
              "  </tbody>\n",
              "</table>\n",
              "</div>"
            ],
            "text/plain": [
              "    Proj_Area geometry  male_2020  female_2020  male_2025  female_2025  \\\n",
              "36         50     None   1,232.43     1,124.17   1,379.29     1,269.85   \n",
              "\n",
              "    male_2030  female_2030  male_2035  female_2035  male_2040  female_2040  \\\n",
              "36   1,546.52     1,436.05   1,738.47     1,625.90   1,942.32     1,827.51   \n",
              "\n",
              "    male_2045  female_2045  male_2050  female_2050  pop_2020  pop_2025  \\\n",
              "36   2,142.52     2,026.16   2,334.97     2,216.95  2,356.60  2,649.13   \n",
              "\n",
              "    pop_2030  pop_2035  pop_2040  pop_2045  pop_2050  \n",
              "36  2,982.57  3,364.37  3,769.84  4,168.67  4,551.91  "
            ]
          },
          "execution_count": 253,
          "metadata": {},
          "output_type": "execute_result"
        }
      ],
      "source": [
        "pd.merge(proj_zones,demo,on='Proj_Area',how='right').query('geometry.isna()')"
      ]
    },
    {
      "cell_type": "markdown",
      "id": "35a8fd1c",
      "metadata": {
        "hidden": true
      },
      "source": [
        " אנחנו מוכנים לוותר עליהם \n",
        " זה ניקוז של כל הבדואיים שאין להם אזור תחזית"
      ]
    },
    {
      "cell_type": "code",
      "execution_count": 254,
      "id": "e2daa51f",
      "metadata": {
        "hidden": true
      },
      "outputs": [],
      "source": [
        "proj_zones=pd.merge(proj_zones,demo,on='Proj_Area',how='left')"
      ]
    },
    {
      "cell_type": "markdown",
      "id": "434fc183",
      "metadata": {
        "heading_collapsed": true
      },
      "source": [
        "#### שכבת אזורי תנועה"
      ]
    },
    {
      "cell_type": "code",
      "execution_count": 255,
      "id": "d8c0b86b",
      "metadata": {
        "hidden": true
      },
      "outputs": [],
      "source": [
        "taz=up_load_shp(r'{}\\background_files\\TAZ_V4_230518_Published.shp'.format(software_data_folder_location))"
      ]
    },
    {
      "cell_type": "code",
      "execution_count": 256,
      "id": "c27cdd4b",
      "metadata": {
        "hidden": true
      },
      "outputs": [],
      "source": [
        "taz=taz.query('main_secto==\"Palestinian\"')[['Taz_num','geometry']]"
      ]
    },
    {
      "cell_type": "markdown",
      "id": "884acf41",
      "metadata": {
        "heading_collapsed": true
      },
      "source": [
        "#### שכבת בינוי"
      ]
    },
    {
      "cell_type": "code",
      "execution_count": 257,
      "id": "af06d3f5",
      "metadata": {
        "hidden": true
      },
      "outputs": [],
      "source": [
        "bld=up_load_shp(r'{}\\background_files\\palestinian_bld_area_pcbs_220710.shp'.format(software_data_folder_location))"
      ]
    },
    {
      "cell_type": "code",
      "execution_count": 258,
      "id": "7e94b1ca",
      "metadata": {
        "hidden": true
      },
      "outputs": [],
      "source": [
        "bld=bld.to_crs(2039)"
      ]
    },
    {
      "cell_type": "code",
      "execution_count": 259,
      "id": "31740f21",
      "metadata": {
        "hidden": true
      },
      "outputs": [],
      "source": [
        "bld=bld.dissolve()"
      ]
    },
    {
      "cell_type": "code",
      "execution_count": 260,
      "id": "bae3d81e",
      "metadata": {
        "hidden": true
      },
      "outputs": [],
      "source": [
        "bld=bld[['geometry']]"
      ]
    },
    {
      "cell_type": "markdown",
      "id": "de4caae0",
      "metadata": {
        "heading_collapsed": true
      },
      "source": [
        "#### הצלבת בין בינוי לבין אזורי תחזית ותנועה"
      ]
    },
    {
      "cell_type": "code",
      "execution_count": 261,
      "id": "a62f0cd3",
      "metadata": {
        "hidden": true
      },
      "outputs": [],
      "source": [
        "col=['Proj_Area',\n",
        " 'geometry',\n",
        " 'pop_2020',\n",
        " 'pop_2025',\n",
        " 'pop_2030',\n",
        " 'pop_2035',\n",
        " 'pop_2040',\n",
        " 'pop_2045',\n",
        " 'pop_2050']"
      ]
    },
    {
      "cell_type": "code",
      "execution_count": 262,
      "id": "0e255609",
      "metadata": {
        "hidden": true,
        "scrolled": true
      },
      "outputs": [
        {
          "name": "stderr",
          "output_type": "stream",
          "text": [
            "c:\\Users\\dpere\\miniconda3\\envs\\creat_forecast_ad_hoc_env\\Lib\\site-packages\\geopandas\\geodataframe.py:2469: UserWarning: `keep_geom_type=True` in overlay resulted in 4 dropped geometries of different geometry types than df1 has. Set `keep_geom_type=False` to retain all geometries\n",
            "  return geopandas.overlay(\n"
          ]
        }
      ],
      "source": [
        "demo_taz_bld=bld.overlay(taz).overlay(proj_zones[col])"
      ]
    },
    {
      "cell_type": "code",
      "execution_count": 263,
      "id": "d65032f1",
      "metadata": {
        "hidden": true
      },
      "outputs": [],
      "source": [
        "demo_taz_bld['small_area']=demo_taz_bld.area"
      ]
    },
    {
      "cell_type": "code",
      "execution_count": 264,
      "id": "dc9b4617",
      "metadata": {
        "hidden": true
      },
      "outputs": [],
      "source": [
        "demo_taz_bld=demo_taz_bld.set_index('Proj_Area')"
      ]
    },
    {
      "cell_type": "code",
      "execution_count": 265,
      "id": "3237f0f0",
      "metadata": {
        "hidden": true,
        "scrolled": true
      },
      "outputs": [],
      "source": [
        "demo_taz_bld['proj_sum_area']=drop_geo(demo_taz_bld).groupby(by='Proj_Area').sum()[['small_area']]"
      ]
    },
    {
      "cell_type": "code",
      "execution_count": 266,
      "id": "380100bf",
      "metadata": {
        "hidden": true
      },
      "outputs": [],
      "source": [
        "demo_taz_bld['pre_from_proj']=demo_taz_bld['small_area']/demo_taz_bld['proj_sum_area']"
      ]
    },
    {
      "cell_type": "code",
      "execution_count": 267,
      "id": "1970845b",
      "metadata": {
        "hidden": true
      },
      "outputs": [],
      "source": [
        "pop_year=['pop_2020',\n",
        " 'pop_2025',\n",
        " 'pop_2030',\n",
        " 'pop_2035',\n",
        " 'pop_2040',\n",
        " 'pop_2045',\n",
        " 'pop_2050']"
      ]
    },
    {
      "cell_type": "code",
      "execution_count": 268,
      "id": "9c5d9f21",
      "metadata": {
        "hidden": true
      },
      "outputs": [],
      "source": [
        "for y in pop_year:\n",
        "    demo_taz_bld['{}'.format(y)]=demo_taz_bld['{}'.format(y)]*demo_taz_bld['pre_from_proj']"
      ]
    },
    {
      "cell_type": "markdown",
      "id": "e97d590c",
      "metadata": {
        "hidden": true
      },
      "source": [
        "בדיקה שלא הומצא כמות אנשים"
      ]
    },
    {
      "cell_type": "code",
      "execution_count": 269,
      "id": "8fc75dd5",
      "metadata": {
        "hidden": true,
        "scrolled": true
      },
      "outputs": [
        {
          "data": {
            "text/plain": [
              "3.725290298461914e-09"
            ]
          },
          "execution_count": 269,
          "metadata": {},
          "output_type": "execute_result"
        }
      ],
      "source": [
        "demo_taz_bld[pop_year].sum().sum()-proj_zones[pop_year].sum().sum()"
      ]
    },
    {
      "cell_type": "markdown",
      "id": "9ad03703",
      "metadata": {},
      "source": [
        "#### סכום אנשים לפי אזורי תנועה"
      ]
    },
    {
      "cell_type": "code",
      "execution_count": 270,
      "id": "ad3be1a1",
      "metadata": {},
      "outputs": [
        {
          "name": "stderr",
          "output_type": "stream",
          "text": [
            "C:\\Users\\dpere\\AppData\\Local\\Temp\\ipykernel_20652\\1244303127.py:1: FutureWarning: The provided callable <built-in function sum> is currently using DataFrameGroupBy.sum. In a future version of pandas, the provided callable will be used directly. To keep current behavior pass the string \"sum\" instead.\n",
            "  taz_demo_pls=drop_geo(demo_taz_bld).pivot_table(index='Taz_num',aggfunc=sum)\n"
          ]
        }
      ],
      "source": [
        "taz_demo_pls=drop_geo(demo_taz_bld).pivot_table(index='Taz_num',aggfunc=sum)"
      ]
    },
    {
      "cell_type": "code",
      "execution_count": 271,
      "id": "2cd977f2",
      "metadata": {},
      "outputs": [],
      "source": [
        "add_year=['2025', '2030', '2035', '2040', '2045', '2050']"
      ]
    },
    {
      "cell_type": "code",
      "execution_count": 272,
      "id": "fe850b54",
      "metadata": {},
      "outputs": [],
      "source": [
        "x=2020\n",
        "for y in add_year:\n",
        "    taz_demo_pls['precent_add_pop_{}'.format(y)]=taz_demo_pls['pop_{}'.format(y)]/taz_demo_pls['pop_{}'.format(str(x))]\n",
        "    taz_demo_pls['precent_add_pop_{}'.format(y)]=taz_demo_pls['precent_add_pop_{}'.format(y)].round(2)\n",
        "    taz_demo_pls['precent_add_pop_{}'.format(y)].fillna(0)\n",
        "    x+=5"
      ]
    },
    {
      "cell_type": "markdown",
      "id": "3a023675",
      "metadata": {},
      "source": [
        "#### ייצוא"
      ]
    },
    {
      "cell_type": "code",
      "execution_count": 273,
      "id": "62aefe6e",
      "metadata": {},
      "outputs": [],
      "source": [
        "col=['pop_2020',\n",
        " 'precent_add_pop_2025',\n",
        " 'precent_add_pop_2030',\n",
        " 'precent_add_pop_2035',\n",
        " 'precent_add_pop_2040',\n",
        " 'precent_add_pop_2045',\n",
        " 'precent_add_pop_2050']"
      ]
    },
    {
      "cell_type": "code",
      "execution_count": 274,
      "id": "7b8cb2cd",
      "metadata": {},
      "outputs": [
        {
          "data": {
            "text/plain": [
              "'C:\\\\Users\\\\dpere\\\\Documents\\\\JTMT\\\\forecast_git\\\\create_forecast_basic\\\\future\\\\arab and palestinian\\\\Intermediates\\\\taz_demo_pls_2020_and_pre_growth_till_2050.xlsx'"
            ]
          },
          "execution_count": 274,
          "metadata": {},
          "output_type": "execute_result"
        }
      ],
      "source": [
        "r'{}\\Intermediates\\taz_demo_pls_2020_and_pre_growth_till_2050.xlsx'.format(software_data_folder_location)"
      ]
    },
    {
      "cell_type": "code",
      "execution_count": 275,
      "id": "1f17c816",
      "metadata": {},
      "outputs": [],
      "source": [
        "taz_demo_pls[col].to_excel(r'{}\\Intermediates\\taz_demo_pls_2020_and_pre_growth_till_2050.xlsx'.format(software_data_folder_location))"
      ]
    }
  ],
  "metadata": {
    "kernelspec": {
      "display_name": "Python 3 (ipykernel)",
      "language": "python",
      "name": "python3"
    },
    "language_info": {
      "codemirror_mode": {
        "name": "ipython",
        "version": 3
      },
      "file_extension": ".py",
      "mimetype": "text/x-python",
      "name": "python",
      "nbconvert_exporter": "python",
      "pygments_lexer": "ipython3",
      "version": "3.11.5"
    },
    "toc": {
      "base_numbering": 1,
      "nav_menu": {},
      "number_sections": true,
      "sideBar": true,
      "skip_h1_title": false,
      "title_cell": "Table of Contents",
      "title_sidebar": "Contents",
      "toc_cell": false,
      "toc_position": {},
      "toc_section_display": true,
      "toc_window_display": true
    }
  },
  "nbformat": 4,
  "nbformat_minor": 5
}
