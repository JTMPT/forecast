{
 "cells": [
  {
   "cell_type": "markdown",
   "id": "0e7214ba",
   "metadata": {
    "heading_collapsed": true
   },
   "source": [
    "### קוד מבוא"
   ]
  },
  {
   "cell_type": "code",
   "execution_count": 89,
   "id": "f8405d52",
   "metadata": {
    "hidden": true
   },
   "outputs": [],
   "source": [
    "import pandas as pd\n",
    "import geopandas as gpd\n",
    "import numpy as np\n",
    "from shapely import wkt\n",
    "from matplotlib import pyplot as plt \n",
    "import contextily as cx\n",
    "import folium\n",
    "import fiona\n",
    "from mpl_toolkits.axes_grid1 import make_axes_locatable\n",
    "from shapely.geometry import Point\n",
    "import adjustText as aT"
   ]
  },
  {
   "cell_type": "code",
   "execution_count": 90,
   "id": "2dacbc13",
   "metadata": {
    "hidden": true
   },
   "outputs": [],
   "source": [
    "pd.set_option('display.max_rows', None)\n",
    "pd.set_option('display.max_columns', None)"
   ]
  },
  {
   "cell_type": "code",
   "execution_count": 91,
   "id": "b2c3b3ca",
   "metadata": {
    "hidden": true
   },
   "outputs": [],
   "source": [
    "pd.options.display.float_format = '{:.4f}'.format\n",
    "pd.set_option('display.float_format',  '{:,.2f}'.format)"
   ]
  },
  {
   "cell_type": "markdown",
   "id": "9624443e",
   "metadata": {
    "heading_collapsed": true
   },
   "source": [
    "### פונקציות"
   ]
  },
  {
   "cell_type": "code",
   "execution_count": 92,
   "id": "d69c42ff",
   "metadata": {
    "hidden": true
   },
   "outputs": [],
   "source": [
    "def double_taz_num(df):\n",
    "    dup_taz_num=df.groupby(['Taz_num']).size().reset_index(name='count').query('count>1').Taz_num.to_list()\n",
    "    return df.loc[df['Taz_num'].isin(dup_taz_num)]"
   ]
  },
  {
   "cell_type": "code",
   "execution_count": 93,
   "id": "d048994a",
   "metadata": {
    "hidden": true
   },
   "outputs": [],
   "source": [
    "def make_point(df):\n",
    "    df_point=df.copy()\n",
    "    df_point['centroid'] = df_point.representative_point()\n",
    "    df_point=df_point.set_geometry('centroid')\n",
    "    df_point=df_point.drop(columns=['geometry'],axis=1)\n",
    "    return df_point"
   ]
  },
  {
   "cell_type": "code",
   "execution_count": 94,
   "id": "86bf5cad",
   "metadata": {
    "hidden": true
   },
   "outputs": [],
   "source": [
    "def up_load_gdb(path,layer_name):\n",
    "    path='{}'.format(path)\n",
    "    layer_list=fiona.listlayers(path)\n",
    "    gpd_layer=gpd.read_file(path, layer=layer_list.index(layer_name))\n",
    "    return gpd_layer"
   ]
  },
  {
   "cell_type": "code",
   "execution_count": 95,
   "id": "6acc6aa7",
   "metadata": {
    "hidden": true
   },
   "outputs": [],
   "source": [
    "def up_load_shp(path):\n",
    "    path='{}'.format(path)\n",
    "    gpd_layer=gpd.read_file(path)\n",
    "    return gpd_layer"
   ]
  },
  {
   "cell_type": "code",
   "execution_count": 96,
   "id": "cb093800",
   "metadata": {
    "hidden": true
   },
   "outputs": [],
   "source": [
    "def unique_id_in_one_taz(df_to_geoode,unique_field,gpd_for_geocode,taz):\n",
    "    \n",
    "    code_to_find=list(df_to_geoode[unique_field].unique())\n",
    "\n",
    "    gpd_for_geocode_to_sum_by_taz=gpd_for_geocode[[unique_field,'geometry']].loc[gpd_for_geocode[unique_field].isin(code_to_find)]\n",
    "\n",
    "    gpd_for_geocode_to_sum_by_taz=gpd.sjoin(taz[['Taz_num','geometry']],gpd_for_geocode_to_sum_by_taz)\n",
    "\n",
    "    gpd_for_geocode_in_one_taz=list(gpd_for_geocode_to_sum_by_taz.groupby(unique_field)[['Taz_num']].nunique().query('Taz_num==1').reset_index()[unique_field])\n",
    "\n",
    "    return gpd_for_geocode_in_one_taz"
   ]
  },
  {
   "cell_type": "code",
   "execution_count": 97,
   "id": "b1a16060",
   "metadata": {
    "hidden": true
   },
   "outputs": [],
   "source": [
    "def up_load_df(folder_path,file_name):\n",
    "    \n",
    "    path_df=r'{}\\{}.xlsx'.format(folder_path,file_name)\n",
    "    df=pd.read_excel(path_df)\n",
    "    df=df.dropna(how='all')\n",
    "\n",
    "    return df\n"
   ]
  },
  {
   "cell_type": "markdown",
   "id": "b1283c8d",
   "metadata": {
    "heading_collapsed": true
   },
   "source": [
    "### העלת שכבת אזורי תנועה ישנים"
   ]
  },
  {
   "cell_type": "code",
   "execution_count": 98,
   "id": "c1e6223b",
   "metadata": {
    "hidden": true
   },
   "outputs": [],
   "source": [
    "path=r'K:\\projections_team\\תכניות אסטרטגיות לתחבורה ירושלים\\תחזיות 2050\\עבודת דמוגרף\\קבלת מידע\\אזורי_תחזיות_פלסטינים\\SHP\\ezorey_tnua_600_2015_ITM.SHP'\n",
    "\n",
    "gpd_layer=gpd.read_file(path)\n",
    "\n",
    "taz16=gpd_layer\n",
    "\n",
    "\n",
    "taz16['taz']=taz16['TAZ_Num'].astype(str).astype(int)"
   ]
  },
  {
   "cell_type": "markdown",
   "id": "fa642ab4",
   "metadata": {},
   "source": [
    "### העלת טבלת תחזיות ערבים מחוז ירושלים"
   ]
  },
  {
   "cell_type": "code",
   "execution_count": 99,
   "id": "c0d0798b",
   "metadata": {},
   "outputs": [],
   "source": [
    "folder_path=r'\\\\FILE-SRV\\Jtmt\\projections_team\\תכניות אסטרטגיות לתחבורה ירושלים\\תחזיות 2050\\עבודת דמוגרף\\קבלת מידע\\תחזיות_פלסטינים_ערבים'\n",
    "file_name='‏‏ArabTAZ_in_jeru_dis_after_jtmt'\n",
    "\n",
    "path_df=r'{}\\{}.xlsx'.format(folder_path,file_name)\n",
    "df=pd.read_excel(path_df)\n",
    "df=df.dropna(how='all')\n",
    "\n",
    "\n",
    "taz_arab_demo=df\n"
   ]
  },
  {
   "cell_type": "code",
   "execution_count": 100,
   "id": "43601c51",
   "metadata": {},
   "outputs": [],
   "source": [
    "year=[\"2020\",\n",
    "\"2025\",\n",
    "\"2030\",\n",
    "\"2035\",\n",
    "\"2040\",\n",
    "\"2045\",\n",
    "\"2050\"]"
   ]
  },
  {
   "cell_type": "code",
   "execution_count": 101,
   "id": "566554d2",
   "metadata": {},
   "outputs": [],
   "source": [
    "for y in year:\n",
    "    taz_arab_demo['pop_{}'.format(y)]=taz_arab_demo['זכרים {}'.format(y)]+taz_arab_demo['נקבות {}'.format(y)]\n",
    "\n",
    "    locals()['taz_arab_demo_age_{}'.format(y)]=pd.pivot_table(taz_arab_demo,columns='Age',values='pop_{}'.format(y),index='taz',aggfunc=sum)\n",
    "    \n",
    "    locals()['taz_arab_demo_age_{}'.format(y)]=locals()['taz_arab_demo_age_{}'.format(y)].apply(lambda row: row / row.sum(), axis=1).round(2).fillna(0).reset_index()\n",
    "\n",
    "    col_new=['taz','pop_0','pop_10','pop_15','pop_20','pop_25','pop_30','pop_35','pop_40','pop_45','pop_5','pop_50','pop_55','pop_60','pop_65','pop_70','pop_75up']\n",
    "\n",
    "    \n",
    "    locals()['taz_arab_demo_age_{}'.format(y)].columns=col_new"
   ]
  },
  {
   "cell_type": "markdown",
   "id": "216da2b3",
   "metadata": {},
   "source": [
    "לייצר גידול שנתי"
   ]
  },
  {
   "cell_type": "code",
   "execution_count": 102,
   "id": "9f02af9c",
   "metadata": {
    "code_folding": []
   },
   "outputs": [],
   "source": [
    "taz_arab_demo=pd.pivot_table(taz_arab_demo,index='taz',aggfunc=sum)[['pop_2020',\n",
    " 'pop_2025',\n",
    " 'pop_2030',\n",
    " 'pop_2035',\n",
    " 'pop_2040',\n",
    " 'pop_2045',\n",
    " 'pop_2050']]"
   ]
  },
  {
   "cell_type": "code",
   "execution_count": 103,
   "id": "0e455478",
   "metadata": {},
   "outputs": [],
   "source": [
    "add_year=['2025', '2030', '2035', '2040', '2045', '2050']"
   ]
  },
  {
   "cell_type": "code",
   "execution_count": 104,
   "id": "141c95ed",
   "metadata": {
    "scrolled": true
   },
   "outputs": [],
   "source": [
    "x=2020\n",
    "for y in add_year:\n",
    "    taz_arab_demo['precent_add_pop_{}'.format(y)]=taz_arab_demo['pop_{}'.format(y)]/taz_arab_demo['pop_{}'.format(str(x))]\n",
    "    taz_arab_demo['precent_add_pop_{}'.format(y)]=taz_arab_demo['precent_add_pop_{}'.format(y)].round(2)\n",
    "    taz_arab_demo['precent_add_pop_{}'.format(y)].fillna(0)\n",
    "    x+=5"
   ]
  },
  {
   "cell_type": "code",
   "execution_count": 105,
   "id": "072df9a3",
   "metadata": {},
   "outputs": [],
   "source": [
    "taz_arab_demo=taz_arab_demo.fillna(0).reset_index()"
   ]
  },
  {
   "cell_type": "markdown",
   "id": "1a1e6d11",
   "metadata": {},
   "source": [
    "### חיבור בין הטבלה לשכבה של דמוגרף "
   ]
  },
  {
   "cell_type": "code",
   "execution_count": 106,
   "id": "2c112e71",
   "metadata": {},
   "outputs": [],
   "source": [
    "taz16_info=pd.merge(taz16[['taz','geometry']],taz_arab_demo,on='taz')"
   ]
  },
  {
   "cell_type": "code",
   "execution_count": 107,
   "id": "34eb5a06",
   "metadata": {},
   "outputs": [],
   "source": [
    "col_age=['pop_0','pop_10','pop_15','pop_20','pop_25','pop_30','pop_35','pop_40','pop_45','pop_5','pop_50','pop_55','pop_60','pop_65','pop_70','pop_75up']"
   ]
  },
  {
   "cell_type": "code",
   "execution_count": 108,
   "id": "fb503098",
   "metadata": {
    "scrolled": true
   },
   "outputs": [
    {
     "name": "stderr",
     "output_type": "stream",
     "text": [
      "C:\\Users\\gidon\\Anaconda3\\envs\\geo_env\\lib\\site-packages\\geopandas\\io\\file.py:362: FutureWarning: pandas.Int64Index is deprecated and will be removed from pandas in a future version. Use pandas.Index with the appropriate dtype instead.\n",
      "  pd.Int64Index,\n",
      "C:\\Users\\gidon\\AppData\\Local\\Temp\\ipykernel_19168\\2516864287.py:4: UserWarning: Column names longer than 10 characters will be truncated when saved to ESRI Shapefile.\n",
      "  pd.merge(taz16_info,locals()['taz_arab_demo_age_{}'.format(y)],how='left',on='taz').dissolve(by=col_age_new)[['geometry']].reset_index().to_file(r'W:\\Projects\\הסעת המונים\\01_שלב ה\\קבצי עבודה\\תחזיות_דמוגרפיות\\תחזיות_2050\\עבודת_דמוגרף\\SHP\\pre_demo_growth_dislov_{}.shp'.format(y))\n",
      "C:\\Users\\gidon\\Anaconda3\\envs\\geo_env\\lib\\site-packages\\geopandas\\io\\file.py:362: FutureWarning: pandas.Int64Index is deprecated and will be removed from pandas in a future version. Use pandas.Index with the appropriate dtype instead.\n",
      "  pd.Int64Index,\n",
      "C:\\Users\\gidon\\AppData\\Local\\Temp\\ipykernel_19168\\2516864287.py:4: UserWarning: Column names longer than 10 characters will be truncated when saved to ESRI Shapefile.\n",
      "  pd.merge(taz16_info,locals()['taz_arab_demo_age_{}'.format(y)],how='left',on='taz').dissolve(by=col_age_new)[['geometry']].reset_index().to_file(r'W:\\Projects\\הסעת המונים\\01_שלב ה\\קבצי עבודה\\תחזיות_דמוגרפיות\\תחזיות_2050\\עבודת_דמוגרף\\SHP\\pre_demo_growth_dislov_{}.shp'.format(y))\n",
      "C:\\Users\\gidon\\Anaconda3\\envs\\geo_env\\lib\\site-packages\\geopandas\\io\\file.py:362: FutureWarning: pandas.Int64Index is deprecated and will be removed from pandas in a future version. Use pandas.Index with the appropriate dtype instead.\n",
      "  pd.Int64Index,\n",
      "C:\\Users\\gidon\\AppData\\Local\\Temp\\ipykernel_19168\\2516864287.py:4: UserWarning: Column names longer than 10 characters will be truncated when saved to ESRI Shapefile.\n",
      "  pd.merge(taz16_info,locals()['taz_arab_demo_age_{}'.format(y)],how='left',on='taz').dissolve(by=col_age_new)[['geometry']].reset_index().to_file(r'W:\\Projects\\הסעת המונים\\01_שלב ה\\קבצי עבודה\\תחזיות_דמוגרפיות\\תחזיות_2050\\עבודת_דמוגרף\\SHP\\pre_demo_growth_dislov_{}.shp'.format(y))\n",
      "C:\\Users\\gidon\\Anaconda3\\envs\\geo_env\\lib\\site-packages\\geopandas\\io\\file.py:362: FutureWarning: pandas.Int64Index is deprecated and will be removed from pandas in a future version. Use pandas.Index with the appropriate dtype instead.\n",
      "  pd.Int64Index,\n",
      "C:\\Users\\gidon\\AppData\\Local\\Temp\\ipykernel_19168\\2516864287.py:4: UserWarning: Column names longer than 10 characters will be truncated when saved to ESRI Shapefile.\n",
      "  pd.merge(taz16_info,locals()['taz_arab_demo_age_{}'.format(y)],how='left',on='taz').dissolve(by=col_age_new)[['geometry']].reset_index().to_file(r'W:\\Projects\\הסעת המונים\\01_שלב ה\\קבצי עבודה\\תחזיות_דמוגרפיות\\תחזיות_2050\\עבודת_דמוגרף\\SHP\\pre_demo_growth_dislov_{}.shp'.format(y))\n",
      "C:\\Users\\gidon\\Anaconda3\\envs\\geo_env\\lib\\site-packages\\geopandas\\io\\file.py:362: FutureWarning: pandas.Int64Index is deprecated and will be removed from pandas in a future version. Use pandas.Index with the appropriate dtype instead.\n",
      "  pd.Int64Index,\n",
      "C:\\Users\\gidon\\AppData\\Local\\Temp\\ipykernel_19168\\2516864287.py:4: UserWarning: Column names longer than 10 characters will be truncated when saved to ESRI Shapefile.\n",
      "  pd.merge(taz16_info,locals()['taz_arab_demo_age_{}'.format(y)],how='left',on='taz').dissolve(by=col_age_new)[['geometry']].reset_index().to_file(r'W:\\Projects\\הסעת המונים\\01_שלב ה\\קבצי עבודה\\תחזיות_דמוגרפיות\\תחזיות_2050\\עבודת_דמוגרף\\SHP\\pre_demo_growth_dislov_{}.shp'.format(y))\n",
      "C:\\Users\\gidon\\Anaconda3\\envs\\geo_env\\lib\\site-packages\\geopandas\\io\\file.py:362: FutureWarning: pandas.Int64Index is deprecated and will be removed from pandas in a future version. Use pandas.Index with the appropriate dtype instead.\n",
      "  pd.Int64Index,\n",
      "C:\\Users\\gidon\\AppData\\Local\\Temp\\ipykernel_19168\\2516864287.py:4: UserWarning: Column names longer than 10 characters will be truncated when saved to ESRI Shapefile.\n",
      "  pd.merge(taz16_info,locals()['taz_arab_demo_age_{}'.format(y)],how='left',on='taz').dissolve(by=col_age_new)[['geometry']].reset_index().to_file(r'W:\\Projects\\הסעת המונים\\01_שלב ה\\קבצי עבודה\\תחזיות_דמוגרפיות\\תחזיות_2050\\עבודת_דמוגרף\\SHP\\pre_demo_growth_dislov_{}.shp'.format(y))\n"
     ]
    }
   ],
   "source": [
    "for y in add_year:\n",
    "    col_age_new = col_age[:] \n",
    "    col_age_new.append('precent_add_pop_{}'.format(y))\n",
    "    pd.merge(taz16_info,locals()['taz_arab_demo_age_{}'.format(y)],how='left',on='taz').dissolve(by=col_age_new)[['geometry']].reset_index().to_file(r'W:\\Projects\\הסעת המונים\\01_שלב ה\\קבצי עבודה\\תחזיות_דמוגרפיות\\תחזיות_2050\\עבודת_דמוגרף\\SHP\\pre_demo_growth_dislov_{}.shp'.format(y))\n",
    "    "
   ]
  }
 ],
 "metadata": {
  "kernelspec": {
   "display_name": "Python 3 (ipykernel)",
   "language": "python",
   "name": "python3"
  },
  "language_info": {
   "codemirror_mode": {
    "name": "ipython",
    "version": 3
   },
   "file_extension": ".py",
   "mimetype": "text/x-python",
   "name": "python",
   "nbconvert_exporter": "python",
   "pygments_lexer": "ipython3",
   "version": "3.10.4"
  },
  "toc": {
   "base_numbering": 1,
   "nav_menu": {},
   "number_sections": true,
   "sideBar": true,
   "skip_h1_title": false,
   "title_cell": "Table of Contents",
   "title_sidebar": "Contents",
   "toc_cell": false,
   "toc_position": {},
   "toc_section_display": true,
   "toc_window_display": true
  }
 },
 "nbformat": 4,
 "nbformat_minor": 5
}
