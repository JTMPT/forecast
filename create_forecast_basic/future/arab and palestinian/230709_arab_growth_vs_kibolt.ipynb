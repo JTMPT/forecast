{
 "cells": [
  {
   "cell_type": "markdown",
   "id": "0e7214ba",
   "metadata": {
    "heading_collapsed": true
   },
   "source": [
    "### קוד מבוא"
   ]
  },
  {
   "cell_type": "code",
   "execution_count": 955,
   "id": "f8405d52",
   "metadata": {
    "hidden": true
   },
   "outputs": [],
   "source": [
    "import pandas as pd\n",
    "import geopandas as gpd\n",
    "import numpy as np\n",
    "from shapely import wkt\n",
    "from matplotlib import pyplot as plt \n",
    "import contextily as cx\n",
    "import folium\n",
    "import fiona\n",
    "from mpl_toolkits.axes_grid1 import make_axes_locatable\n",
    "from shapely.geometry import Point\n",
    "import adjustText as aT"
   ]
  },
  {
   "cell_type": "code",
   "execution_count": 956,
   "id": "2dacbc13",
   "metadata": {
    "hidden": true
   },
   "outputs": [],
   "source": [
    "pd.set_option('display.max_rows', None)\n",
    "pd.set_option('display.max_columns', None)"
   ]
  },
  {
   "cell_type": "code",
   "execution_count": 957,
   "id": "b2c3b3ca",
   "metadata": {
    "hidden": true
   },
   "outputs": [],
   "source": [
    "pd.options.display.float_format = '{:.4f}'.format\n",
    "pd.set_option('display.float_format',  '{:,.2f}'.format)"
   ]
  },
  {
   "cell_type": "markdown",
   "id": "9624443e",
   "metadata": {
    "heading_collapsed": true
   },
   "source": [
    "### פונקציות"
   ]
  },
  {
   "cell_type": "code",
   "execution_count": 958,
   "id": "d69c42ff",
   "metadata": {
    "hidden": true
   },
   "outputs": [],
   "source": [
    "def double_taz_num(df):\n",
    "    dup_taz_num=df.groupby(['Taz_num']).size().reset_index(name='count').query('count>1').Taz_num.to_list()\n",
    "    return df.loc[df['Taz_num'].isin(dup_taz_num)]"
   ]
  },
  {
   "cell_type": "code",
   "execution_count": 959,
   "id": "d048994a",
   "metadata": {
    "hidden": true
   },
   "outputs": [],
   "source": [
    "def make_point(df):\n",
    "    df_point=df.copy()\n",
    "    df_point['centroid'] = df_point.representative_point()\n",
    "    df_point=df_point.set_geometry('centroid')\n",
    "    df_point=df_point.drop(columns=['geometry'],axis=1)\n",
    "    return df_point"
   ]
  },
  {
   "cell_type": "code",
   "execution_count": 960,
   "id": "86bf5cad",
   "metadata": {
    "hidden": true
   },
   "outputs": [],
   "source": [
    "def up_load_gdb(path,layer_name):\n",
    "    path='{}'.format(path)\n",
    "    layer_list=fiona.listlayers(path)\n",
    "    gpd_layer=gpd.read_file(path, layer=layer_list.index(layer_name))\n",
    "    return gpd_layer"
   ]
  },
  {
   "cell_type": "code",
   "execution_count": 961,
   "id": "6acc6aa7",
   "metadata": {
    "hidden": true
   },
   "outputs": [],
   "source": [
    "def up_load_shp(path):\n",
    "    path='{}'.format(path)\n",
    "    gpd_layer=gpd.read_file(path)\n",
    "    return gpd_layer"
   ]
  },
  {
   "cell_type": "code",
   "execution_count": 962,
   "id": "cb093800",
   "metadata": {
    "hidden": true
   },
   "outputs": [],
   "source": [
    "def unique_id_in_one_taz(df_to_geoode,unique_field,gpd_for_geocode,taz):\n",
    "    \n",
    "    code_to_find=list(df_to_geoode[unique_field].unique())\n",
    "\n",
    "    gpd_for_geocode_to_sum_by_taz=gpd_for_geocode[[unique_field,'geometry']].loc[gpd_for_geocode[unique_field].isin(code_to_find)]\n",
    "\n",
    "    gpd_for_geocode_to_sum_by_taz=gpd.sjoin(taz[['Taz_num','geometry']],gpd_for_geocode_to_sum_by_taz)\n",
    "\n",
    "    gpd_for_geocode_in_one_taz=list(gpd_for_geocode_to_sum_by_taz.groupby(unique_field)[['Taz_num']].nunique().query('Taz_num==1').reset_index()[unique_field])\n",
    "\n",
    "    return gpd_for_geocode_in_one_taz"
   ]
  },
  {
   "cell_type": "code",
   "execution_count": 963,
   "id": "b1a16060",
   "metadata": {
    "hidden": true
   },
   "outputs": [],
   "source": [
    "def up_load_df(folder_path,file_name):\n",
    "    \n",
    "    path_df=r'{}\\{}.xlsx'.format(folder_path,file_name)\n",
    "    df=pd.read_excel(path_df)\n",
    "    df=df.dropna(how='all')\n",
    "\n",
    "    return df\n"
   ]
  },
  {
   "cell_type": "markdown",
   "id": "d3bf0a64",
   "metadata": {},
   "source": [
    "### ביצוע"
   ]
  },
  {
   "cell_type": "markdown",
   "id": "7d72c1cb",
   "metadata": {},
   "source": [
    "#### העלת שכבות"
   ]
  },
  {
   "cell_type": "code",
   "execution_count": 964,
   "id": "c6573404",
   "metadata": {},
   "outputs": [],
   "source": [
    "taz=up_load_shp(r'W:\\Model Versions\\4.0\\TAZ\\TAZ_V4_221212_Published.shp')"
   ]
  },
  {
   "cell_type": "code",
   "execution_count": 965,
   "id": "95fe557a",
   "metadata": {},
   "outputs": [],
   "source": [
    "taz=taz.query('main_secto==\"Arab\" | main_secto==\"arabs_behined_seperation_wall\" ').set_index('Taz_num')"
   ]
  },
  {
   "cell_type": "code",
   "execution_count": 966,
   "id": "12aaee1d",
   "metadata": {},
   "outputs": [],
   "source": [
    "taz_point=make_point(taz)"
   ]
  },
  {
   "cell_type": "markdown",
   "id": "927d22d7",
   "metadata": {},
   "source": [
    "#### יצירת אוכלוסיה לפי קיבולת"
   ]
  },
  {
   "cell_type": "markdown",
   "id": "94bf3e68",
   "metadata": {},
   "source": [
    "תוספת קיבולת אפשרית"
   ]
  },
  {
   "cell_type": "code",
   "execution_count": 967,
   "id": "30681720",
   "metadata": {},
   "outputs": [],
   "source": [
    "path=r'K:\\projections_team\\תכניות אסטרטגיות לתחבורה ירושלים\\תחזיות 2050\\קיבולת_ערבי_מחוז_ירושלים\\kibolet_with_behind_wall_230709.shp'"
   ]
  },
  {
   "cell_type": "code",
   "execution_count": 968,
   "id": "a3d30f47",
   "metadata": {},
   "outputs": [],
   "source": [
    "kibolet_with_behind_wall=up_load_shp(path).set_index('Taz_num')"
   ]
  },
  {
   "cell_type": "markdown",
   "id": "9e506c2b",
   "metadata": {},
   "source": [
    "יח\"ד דיור קיימות"
   ]
  },
  {
   "cell_type": "code",
   "execution_count": 969,
   "id": "a5bae121",
   "metadata": {},
   "outputs": [],
   "source": [
    "folder_path=r'\\\\FILE-SRV\\Jtmt\\projections_team\\כללי\\פעולות\\יצירת_מצב_קיים_למס\\output'"
   ]
  },
  {
   "cell_type": "code",
   "execution_count": 970,
   "id": "1d806f24",
   "metadata": {},
   "outputs": [],
   "source": [
    "file_name='2020_jtmt_forcast_full_230710'"
   ]
  },
  {
   "cell_type": "code",
   "execution_count": 971,
   "id": "1084c839",
   "metadata": {},
   "outputs": [],
   "source": [
    "taz_kayim=up_load_df(folder_path,file_name).set_index('Taz_num')"
   ]
  },
  {
   "cell_type": "markdown",
   "id": "5476e31c",
   "metadata": {},
   "source": [
    "ג\"מ"
   ]
  },
  {
   "cell_type": "code",
   "execution_count": 972,
   "id": "0f06fa69",
   "metadata": {},
   "outputs": [],
   "source": [
    "path=r'\\\\FILE-SRV\\Jtmt\\projections_team\\תכניות אסטרטגיות לתחבורה ירושלים\\תחזיות 2050\\קבלת מידע\\גודל משק בית\\hh_size_2050.shp'"
   ]
  },
  {
   "cell_type": "code",
   "execution_count": 973,
   "id": "623fbf46",
   "metadata": {},
   "outputs": [],
   "source": [
    "hh_size_2050=up_load_shp(path)"
   ]
  },
  {
   "cell_type": "code",
   "execution_count": 974,
   "id": "9ae9ff80",
   "metadata": {},
   "outputs": [],
   "source": [
    "hh_size_2050=taz_point.sjoin(hh_size_2050,how='left')[['2050_hh_si']]"
   ]
  },
  {
   "cell_type": "code",
   "execution_count": 975,
   "id": "89d85ecf",
   "metadata": {
    "scrolled": true
   },
   "outputs": [],
   "source": [
    "taz['hh_size']=hh_size_2050['2050_hh_si']"
   ]
  },
  {
   "cell_type": "markdown",
   "id": "4fded2fe",
   "metadata": {},
   "source": [
    "הכנה ללופ : מצב קיים הופך למצב נוכחי"
   ]
  },
  {
   "cell_type": "code",
   "execution_count": 976,
   "id": "486e5102",
   "metadata": {},
   "outputs": [],
   "source": [
    "taz['current_pop']=taz_kayim['pop']"
   ]
  },
  {
   "cell_type": "code",
   "execution_count": 977,
   "id": "b5d5c093",
   "metadata": {},
   "outputs": [],
   "source": [
    "taz['pop_2020']=taz_kayim['pop']"
   ]
  },
  {
   "cell_type": "code",
   "execution_count": 978,
   "id": "01842021",
   "metadata": {},
   "outputs": [],
   "source": [
    "taz['current_hh']=taz_kayim['aprt_20']"
   ]
  },
  {
   "cell_type": "code",
   "execution_count": 979,
   "id": "be21cb54",
   "metadata": {},
   "outputs": [],
   "source": [
    "taz['hh_2020']=taz_kayim['aprt_20']"
   ]
  },
  {
   "cell_type": "markdown",
   "id": "127b1d73",
   "metadata": {},
   "source": [
    "להוציא את האזורים שמחוץ לירושלים"
   ]
  },
  {
   "cell_type": "code",
   "execution_count": 980,
   "id": "5a6e76ad",
   "metadata": {},
   "outputs": [],
   "source": [
    "taz_out_of_jeru=taz.loc[taz.index.isin([7651.0, 7652.0])]"
   ]
  },
  {
   "cell_type": "code",
   "execution_count": 981,
   "id": "c00ef96d",
   "metadata": {},
   "outputs": [],
   "source": [
    "taz=taz.loc[~taz.index.isin([7651.0, 7652.0])]"
   ]
  },
  {
   "cell_type": "markdown",
   "id": "41d46587",
   "metadata": {},
   "source": [
    "עכשיו חישוב של כמות אוכלוסיה כל חומש"
   ]
  },
  {
   "cell_type": "code",
   "execution_count": 982,
   "id": "1b3d88e7",
   "metadata": {},
   "outputs": [],
   "source": [
    "taz['pop_kibolet']=taz['hh_size']*kibolet_with_behind_wall['kibolet']"
   ]
  },
  {
   "cell_type": "markdown",
   "id": "ead6089f",
   "metadata": {},
   "source": [
    "הכנה ללופ : הלאה של אוכלסייה פלסטינאית"
   ]
  },
  {
   "cell_type": "code",
   "execution_count": 983,
   "id": "25c6855f",
   "metadata": {},
   "outputs": [],
   "source": [
    "folder_path=r'W:\\Projects\\הסעת המונים\\01_שלב ה\\קבצי עבודה\\תחזיות_דמוגרפיות\\תחזיות_2020\\מרכיבי_תחזית'\n",
    "\n",
    "file_name='taz_demo_pls_2020_and_pre_growth_till_2050'\n",
    "\n",
    "taz_demo_pls=up_load_df(folder_path,file_name)\n",
    "\n",
    "taz_demo_pls['current_pop']=taz_demo_pls['pop_2020']"
   ]
  },
  {
   "cell_type": "markdown",
   "id": "4f1f077e",
   "metadata": {},
   "source": [
    "#### לופ לייצר אנשים כל חומש"
   ]
  },
  {
   "cell_type": "code",
   "execution_count": 984,
   "id": "59e15953",
   "metadata": {
    "code_folding": []
   },
   "outputs": [],
   "source": [
    "col_age=['Taz_num','pop_0',\n",
    " 'pop_10',\n",
    " 'pop_15',\n",
    " 'pop_20',\n",
    " 'pop_25',\n",
    " 'pop_30',\n",
    " 'pop_35',\n",
    " 'pop_40',\n",
    " 'pop_45',\n",
    " 'pop_5',\n",
    " 'pop_50',\n",
    " 'pop_55',\n",
    " 'pop_60',\n",
    " 'pop_65',\n",
    " 'pop_70',\n",
    " 'pop_75up']"
   ]
  },
  {
   "cell_type": "markdown",
   "id": "2b2fb96f",
   "metadata": {},
   "source": [
    "חישוב מחוץ לירושלים"
   ]
  },
  {
   "cell_type": "code",
   "execution_count": 985,
   "id": "5e8dfe79",
   "metadata": {},
   "outputs": [],
   "source": [
    "taz_out_of_jeru_point=make_point(taz_out_of_jeru)"
   ]
  },
  {
   "cell_type": "code",
   "execution_count": 986,
   "id": "b7891435",
   "metadata": {},
   "outputs": [],
   "source": [
    "year=['2025','2030','2035','2040','2045','2050']\n",
    "\n",
    "for y in year:\n",
    "    # לחבר למצב הנוכחי את הגידול והתפלגות שהוא צריך לקבל\n",
    "    path=r'W:\\Projects\\הסעת המונים\\01_שלב ה\\קבצי עבודה\\תחזיות_דמוגרפיות\\תחזיות_2050\\עבודת_דמוגרף\\SHP\\pre_demo_growth_dislov_{}.shp'.format(y)\n",
    "\n",
    "    demo=up_load_shp(path)  \n",
    "\n",
    "    demand=taz_out_of_jeru_point.sjoin(demo,how='left')\n",
    "\n",
    "    taz_age=demand.reset_index()[col_age]\n",
    "    \n",
    "    taz_out_of_jeru_point['add_current_pop']=taz_out_of_jeru_point['current_pop']*demand['precent_ad']-taz_out_of_jeru_point['current_pop']\n",
    "    \n",
    "    taz_out_of_jeru_point['current_pop']=taz_out_of_jeru_point['current_pop']+taz_out_of_jeru_point['add_current_pop']\n",
    "    \n",
    "    taz_out_of_jeru_point['current_hh']=taz_out_of_jeru_point['current_hh']+taz_out_of_jeru_point['add_current_pop']/taz_out_of_jeru_point['hh_size']\n",
    "    \n",
    "    taz_out_of_jeru_point['hh_{}'.format(y)]=taz_out_of_jeru_point['current_hh']\n",
    "    \n",
    "    taz_out_of_jeru_point['pop_{}'.format(y)]=taz_out_of_jeru_point['current_pop']\n",
    "\n",
    "    \n",
    "    col=['Taz_num','hh_{}'.format(y),'pop_{}'.format(y)]\n",
    "\n",
    "    \n",
    "    locals()['taz_out_jeru_{}'.format(y)]=taz_out_of_jeru_point.reset_index()[col].merge(taz_age,how='left',on='Taz_num')\n",
    "    \n",
    "   "
   ]
  },
  {
   "cell_type": "markdown",
   "id": "6c98ca92",
   "metadata": {},
   "source": [
    "חישוב לירושלים ואז הוספה של המרכיבים"
   ]
  },
  {
   "cell_type": "code",
   "execution_count": 987,
   "id": "5207f2ab",
   "metadata": {
    "code_folding": [
     2
    ]
   },
   "outputs": [],
   "source": [
    "#מייצר קטלוג לאזורים ללא התפלגות מדמוגרף\n",
    "\n",
    "age_dis=up_load_df(r'W:\\Projects\\הסעת המונים\\01_שלב ה\\קבצי עבודה\\תחזיות_דמוגרפיות\\תחזיות_2050\\התפלגות גילים\\backround_files','age_des_types')\n",
    "\n",
    "age_col_catalog=['pop_0',\n",
    " 'pop_10',\n",
    " 'pop_15',\n",
    " 'pop_20',\n",
    " 'pop_25',\n",
    " 'pop_30',\n",
    " 'pop_35',\n",
    " 'pop_40',\n",
    " 'pop_45',\n",
    " 'pop_5',\n",
    " 'pop_50',\n",
    " 'pop_55',\n",
    " 'pop_60',\n",
    " 'pop_65',\n",
    " 'pop_70',\n",
    " 'pop_75up']\n",
    "\n",
    "age_dis=age_dis.query('sector==\"Arab\" & age_cycle==2')[age_col_catalog]"
   ]
  },
  {
   "cell_type": "code",
   "execution_count": 988,
   "id": "a74ac237",
   "metadata": {},
   "outputs": [],
   "source": [
    "taz['precent_ad']=0"
   ]
  },
  {
   "cell_type": "code",
   "execution_count": 989,
   "id": "e57e26cd",
   "metadata": {},
   "outputs": [],
   "source": [
    "x=2020"
   ]
  },
  {
   "cell_type": "code",
   "execution_count": 990,
   "id": "aa7a5c89",
   "metadata": {},
   "outputs": [],
   "source": [
    "year=['2025','2030','2035','2040','2045','2050']"
   ]
  },
  {
   "cell_type": "code",
   "execution_count": 991,
   "id": "a23bd772",
   "metadata": {},
   "outputs": [
    {
     "name": "stdout",
     "output_type": "stream",
     "text": [
      "------------------------------------------\n",
      "2025\n",
      "total_kibolet:  235869.44800000003\n",
      "total_demand:  47430.234621365526\n",
      "pop_not_fit_in_taz:  384.917684082295\n",
      "pop_kibolet_left:  188824.13106271677\n",
      "pop_not_fit_in_taz<=pop_kibolet_left\n",
      "------------------------------------------\n",
      "2030\n",
      "total_kibolet:  188439.2133786345\n",
      "total_demand:  51026.3190359476\n",
      "pop_not_fit_in_taz:  2584.069729024657\n",
      "pop_kibolet_left:  139996.96407171153\n",
      "pop_not_fit_in_taz<=pop_kibolet_left\n",
      "------------------------------------------\n",
      "2035\n",
      "total_kibolet:  137412.8943426869\n",
      "total_demand:  51123.054362418145\n",
      "pop_not_fit_in_taz:  13483.049203796638\n",
      "pop_kibolet_left:  99772.88918406538\n",
      "pop_not_fit_in_taz<=pop_kibolet_left\n",
      "------------------------------------------\n",
      "2040\n",
      "total_kibolet:  86289.83998026873\n",
      "total_demand:  49928.79164103979\n",
      "pop_not_fit_in_taz:  24961.756650629217\n",
      "pop_kibolet_left:  61322.804989858174\n",
      "pop_not_fit_in_taz<=pop_kibolet_left\n",
      "------------------------------------------\n",
      "2045\n",
      "total_kibolet:  36361.048339228946\n",
      "total_demand:  48230.99258328684\n",
      "pop_not_fit_in_taz:  34907.62661013286\n",
      "pop_kibolet_left:  23037.68236607497\n",
      "pop_not_fit_in_taz>pop_kibolet_left\n",
      "pop_not_fit_in_jeru:  11869.94424405789\n",
      "------------------------------------------\n",
      "2050\n",
      "total_kibolet:  0\n",
      "total_demand:  46798.07357171309\n",
      "pop_not_fit_in_taz:  46798.07357171309\n",
      "pop_kibolet_left:  0\n",
      "pop_not_fit_in_taz>pop_kibolet_left\n",
      "pop_not_fit_in_jeru:  46798.07357171309\n"
     ]
    }
   ],
   "source": [
    " for y in year:\n",
    "        \n",
    "    # לחבר למצב הנוכחי את הגידול והתפלגות שהוא צריך לקבל\n",
    "    path=r'W:\\Projects\\הסעת המונים\\01_שלב ה\\קבצי עבודה\\תחזיות_דמוגרפיות\\תחזיות_2050\\עבודת_דמוגרף\\SHP\\pre_demo_growth_dislov_{}.shp'.format(y)\n",
    "\n",
    "    demo=up_load_shp(path)\n",
    "\n",
    "    taz_point=make_point(taz.reset_index()[['Taz_num','geometry']])\n",
    "\n",
    "    demand=taz_point.sjoin(demo,how='left')\n",
    "    taz_age=demand.reset_index()[col_age]\n",
    "    \n",
    "    demand=demand[['Taz_num','precent_ad']].set_index('Taz_num')\n",
    "\n",
    "\n",
    "    \n",
    "    taz['precent_ad']=demand['precent_ad']\n",
    "    taz['precent_ad']=taz['precent_ad'].fillna(0)\n",
    "    taz['precent_ad_{}'.format(y)]=taz['precent_ad']\n",
    "\n",
    "    taz.loc[taz['precent_ad']>0,'pop_demand']=taz['current_pop']*taz['precent_ad']-taz['current_pop']\n",
    "    taz.loc[taz['precent_ad']<=0,'pop_demand']=0\n",
    "    taz['pop_demand_{}'.format(y)]=taz['pop_demand']\n",
    "    taz['pop_kibolet_{}'.format(y)]=taz['pop_kibolet']\n",
    "\n",
    "    # יצירת התפלגות,גידול וג\"מ הממוצע של כל אחד מהערכים האלו בחומש\n",
    "\n",
    "    # אזורים עם אוכלוסייה וללא התפלגות,גידול וג\"מ יקבלו את הערך הממוצע הנל\n",
    "\n",
    "    # מצב נוכחי גדל לפי אחוז\n",
    "\n",
    "    # השוואה בין אוכלוסית ביקוש לקיבולת\n",
    "\n",
    "    print(\"------------------------------------------\")\n",
    "    print(y)\n",
    "    print(\"total_kibolet: \",taz['pop_kibolet'].sum().item())\n",
    "    print(\"total_demand: \",taz['pop_demand'].sum().item())\n",
    "    \n",
    "    taz['pop_delta']=taz['pop_kibolet']-taz['pop_demand']\n",
    "    taz['pop_delta_{}'.format(y)]=taz['pop_delta']\n",
    "\n",
    "    # יש מקום לביקוש - לקחת את הביקוש\n",
    "    taz.loc[taz['pop_delta']>0,'current_pop']=taz['pop_demand']+taz['current_pop']\n",
    "    taz.loc[taz['pop_delta']>0,'pop_kibolet']=taz['pop_kibolet']-taz['pop_demand']\n",
    "    taz.loc[taz['pop_delta']>0,'pop_{}_explanation'.format(y)]='pop_demand'\n",
    "\n",
    "\n",
    "    # אין מקום לביקוש - לקחת את הקיבולת\n",
    "    taz.loc[(taz['pop_delta']<=0)&(taz['pop_kibolet']>0),'current_pop']=taz['pop_kibolet']+taz['current_pop']\n",
    "    taz.loc[(taz['pop_delta']<=0)&(taz['pop_kibolet']>0),'pop_kibolet']=0\n",
    "    taz.loc[(taz['pop_delta']<=0)&(taz['pop_kibolet']>0),'pop_{}_explanation'.format(y)]='full_pop_kibolet'\n",
    "    \n",
    "    \n",
    "\n",
    "    \n",
    "\n",
    "    \n",
    "    \n",
    "\n",
    "    # לקבץ את כלל האוכלוסיה ללא בית לסל אחד\n",
    "\n",
    "    pop_not_fit_in_taz=taz.loc[taz['pop_delta']<=0]['pop_delta'].sum().item()\n",
    "    \n",
    "    \n",
    "    \n",
    "    pop_not_fit_in_taz=abs(pop_not_fit_in_taz)\n",
    "    \n",
    "\n",
    "    \n",
    "    print(\"pop_not_fit_in_taz: \",pop_not_fit_in_taz)\n",
    "\n",
    "    # כימות כמה עוד מקום יש בקיבולת של ירושלים\n",
    "    pop_kibolet_left=taz['pop_kibolet'].sum().item()\n",
    "    \n",
    "    print(\"pop_kibolet_left: \",pop_kibolet_left)\n",
    "    \n",
    "    \n",
    "\n",
    "    \n",
    "\n",
    "\n",
    "    if pop_not_fit_in_taz>pop_kibolet_left:\n",
    "\n",
    "        print(\"pop_not_fit_in_taz>pop_kibolet_left\")\n",
    "\n",
    "\n",
    "        taz['current_pop']=taz['pop_kibolet']+taz['current_pop']\n",
    "        taz['pop_kibolet']=0\n",
    "        taz['pop_{}_explanation'.format(y)]=taz['pop_{}_explanation'.format(y)]+' +add_pop_to_fill_kibolet'\n",
    "                \n",
    "        pop_not_fit_in_jeru=pop_not_fit_in_taz-pop_kibolet_left\n",
    "        \n",
    "        print(\"pop_not_fit_in_jeru: \",pop_not_fit_in_jeru)\n",
    "        \n",
    "        taz_demo_pls['current_pop_pre']=taz_demo_pls['current_pop']/taz_demo_pls['current_pop'].sum().item()\n",
    "        taz_demo_pls['add_pop_{}_from_jeru'.format(y)]=taz_demo_pls['current_pop_pre']*pop_not_fit_in_jeru\n",
    "        taz_demo_pls['current_pop']=taz_demo_pls['current_pop']*taz_demo_pls['precent_add_pop_{}'.format(y)]\n",
    "        taz_demo_pls['current_pop']=taz_demo_pls['current_pop']+taz_demo_pls['add_pop_{}_from_jeru'.format(y)]\n",
    "        taz_demo_pls['pop_{}'.format(y)]=taz_demo_pls['current_pop']\n",
    "\n",
    "    else:\n",
    "\n",
    "        print(\"pop_not_fit_in_taz<=pop_kibolet_left\")\n",
    "        \n",
    "        \n",
    "        taz['add_pop_kibolet_from_pre']=taz['pop_kibolet']*(pop_not_fit_in_taz/pop_kibolet_left)\n",
    "        taz['add_pop_kibolet_from_pre_{}'.format(y)]=taz['add_pop_kibolet_from_pre']\n",
    "        taz['current_pop']=taz['add_pop_kibolet_from_pre']+taz['current_pop']\n",
    "        taz['pop_kibolet']=taz['pop_kibolet']-taz['add_pop_kibolet_from_pre']\n",
    "        taz.loc[taz['add_pop_kibolet_from_pre']>0,'pop_{}_explanation'.format(y)]=taz['pop_{}_explanation'.format(y)]+' +add_pop_by_pre_of_kibolet_pre'\n",
    "        \n",
    "        taz_demo_pls['current_pop']=taz_demo_pls['current_pop']*taz_demo_pls['precent_add_pop_{}'.format(y)]\n",
    "        taz_demo_pls['pop_{}'.format(y)]=taz_demo_pls['current_pop']\n",
    "        \n",
    "    \n",
    "    taz['pop_{}'.format(y)]=taz['current_pop']\n",
    "    taz['add_pop_{}_{}'.format(y,str(x))]=taz['current_pop']-taz['pop_{}'.format(str(x))]\n",
    "    taz.loc[(taz['add_pop_{}_{}'.format(y,str(x))]>0)&(taz['hh_size']<=0),'current_hh']=taz['current_hh']+taz['add_pop_{}_{}'.format(y,str(x))]/4.5\n",
    "    \n",
    "    taz.loc[(taz['add_pop_{}_{}'.format(y,str(x))]>0)&(taz['hh_size']>0),'current_hh']=taz['current_hh']+taz['add_pop_{}_{}'.format(y,str(x))]/4.5\n",
    "    \n",
    "    taz['hh_{}'.format(y)]=taz['current_hh']\n",
    "\n",
    "\n",
    "\n",
    "    \n",
    "    x=x+5\n",
    "    col_current=['Taz_num','hh_{}'.format(y),'pop_{}'.format(y)]\n",
    "    col=['pop_0',\n",
    "     'pop_10',\n",
    "     'pop_15',\n",
    "     'pop_20',\n",
    "     'pop_25',\n",
    "     'pop_30',\n",
    "     'pop_35',\n",
    "     'pop_40',\n",
    "     'pop_45',\n",
    "     'pop_5',\n",
    "     'pop_50',\n",
    "     'pop_55',\n",
    "     'pop_60',\n",
    "     'pop_65',\n",
    "     'pop_70',\n",
    "     'pop_75up']\n",
    "    \n",
    "    df=taz.reset_index()[col_current].merge(taz_age,how='left',on='Taz_num')\n",
    "    \n",
    "    df=pd.concat([df,locals()['taz_out_jeru_{}'.format(y)]],axis=0)\n",
    "    \n",
    "    \n",
    "\n",
    "    df1=df.loc[((df[col].sum(axis=1)==0)&(df['pop_{}'.format(y)]>0))]\n",
    "    \n",
    "    \n",
    "\n",
    "    df1=df1[col_current]\n",
    "\n",
    "    df1['join']=1\n",
    "\n",
    "    age_dis['join']=1\n",
    "\n",
    "    df1=df1.merge(age_dis,on='join',how='left').drop(columns='join')\n",
    "\n",
    "    df=df.loc[~((df[col].sum(axis=1)==0)&(df['pop_{}'.format(y)]>0))]\n",
    "\n",
    "    df=pd.concat([df,df1],axis=0)\n",
    "\n",
    "    \n",
    "    df=df.round(2)\n",
    "\n",
    "    \n",
    "    df[col]=df[col].div(df[col].sum(axis=1), axis=0)\n",
    "\n",
    "    \n",
    "    df[col] = df[col].apply(lambda x: x * df['pop_{}'.format(y)])\n",
    "    \n",
    "    df['pop_{}'.format(y)]=df[col].sum(axis=1)\n",
    "           \n",
    "    df=pd.concat([df,taz_demo_pls[['Taz_num','pop_{}'.format(y)]]],axis=0)  \n",
    "   \n",
    "\n",
    "    \n",
    "    col=['Taz_num','hh_{}'.format(y),'pop_{}'.format(y),'pop_0',\n",
    "         'pop_10',\n",
    "         'pop_15',\n",
    "         'pop_20',\n",
    "         'pop_25',\n",
    "         'pop_30',\n",
    "         'pop_35',\n",
    "         'pop_40',\n",
    "         'pop_45',\n",
    "         'pop_5',\n",
    "         'pop_50',\n",
    "         'pop_55',\n",
    "         'pop_60',\n",
    "         'pop_65',\n",
    "         'pop_70',\n",
    "         'pop_75up']\n",
    "    \n",
    "    df[col].to_excel(r'W:\\Projects\\הסעת המונים\\01_שלב ה\\קבצי עבודה\\תחזיות_דמוגרפיות\\תחזיות_2050\\jtmt\\arab_pop\\taz_Arab_Palestinian_{}.xlsx'.format(y),index=False)"
   ]
  }
 ],
 "metadata": {
  "kernelspec": {
   "display_name": "Python 3 (ipykernel)",
   "language": "python",
   "name": "python3"
  },
  "language_info": {
   "codemirror_mode": {
    "name": "ipython",
    "version": 3
   },
   "file_extension": ".py",
   "mimetype": "text/x-python",
   "name": "python",
   "nbconvert_exporter": "python",
   "pygments_lexer": "ipython3",
   "version": "3.10.4"
  },
  "toc": {
   "base_numbering": 1,
   "nav_menu": {},
   "number_sections": true,
   "sideBar": true,
   "skip_h1_title": false,
   "title_cell": "Table of Contents",
   "title_sidebar": "Contents",
   "toc_cell": false,
   "toc_position": {},
   "toc_section_display": true,
   "toc_window_display": true
  }
 },
 "nbformat": 4,
 "nbformat_minor": 5
}
