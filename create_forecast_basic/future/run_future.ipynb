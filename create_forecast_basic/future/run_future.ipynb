{
 "cells": [
  {
   "cell_type": "code",
   "execution_count": 1,
   "metadata": {},
   "outputs": [],
   "source": [
    "import os\n",
    "import sys"
   ]
  },
  {
   "cell_type": "code",
   "execution_count": 2,
   "metadata": {},
   "outputs": [],
   "source": [
    "cwd = os.getcwd()\n",
    "\n",
    "JTMT_directory = r'{}\\JTMT'.format(cwd)\n",
    "\n",
    "bau_directory = r'{}\\bau'.format(cwd)\n",
    "\n",
    "iplan_directory = r'{}\\iplan'.format(cwd)\n",
    "\n",
    "general_directory = r'{}\\General'.format(cwd)"
   ]
  },
  {
   "cell_type": "code",
   "execution_count": 3,
   "metadata": {},
   "outputs": [],
   "source": [
    "sys.path.append(JTMT_directory)\n",
    "sys.path.append(bau_directory)\n",
    "sys.path.append(iplan_directory)\n",
    "sys.path.append(general_directory)"
   ]
  },
  {
   "cell_type": "code",
   "execution_count": 4,
   "metadata": {},
   "outputs": [],
   "source": [
    "import run_JTMT_from_future\n",
    "import run_iplan_from_future\n",
    "import run_bau_from_future\n",
    "import run_General_from_future"
   ]
  },
  {
   "cell_type": "code",
   "execution_count": null,
   "metadata": {},
   "outputs": [],
   "source": [
    "os.chdir(JTMT_directory)\n",
    "\n",
    "run_JTMT_from_future.run_notebook(r'{}\\JTMT\\run_jtmt.ipynb'.format(cwd))  # Call the function from the imported module\n",
    "\n",
    "os.chdir(iplan_directory)\n",
    "\n",
    "run_iplan_from_future.run_notebook(r'{}\\iplan\\run_iplan.ipynb'.format(cwd))  # Call the function from the imported module\n",
    "\n",
    "os.chdir(bau_directory)\n",
    "\n",
    "run_bau_from_future.run_notebook(r'{}\\bau\\run_bau.ipynb'.format(cwd))  # Call the function from the imported module\n",
    "\n",
    "os.chdir(general_directory)\n",
    "\n",
    "run_General_from_future.run_notebook(r'{}\\General\\run_General.ipynb'.format(cwd))  # Call the function from the imported module"
   ]
  }
 ],
 "metadata": {
  "kernelspec": {
   "display_name": "creat_forecast_ad_hoc_env",
   "language": "python",
   "name": "python3"
  },
  "language_info": {
   "codemirror_mode": {
    "name": "ipython",
    "version": 3
   },
   "file_extension": ".py",
   "mimetype": "text/x-python",
   "name": "python",
   "nbconvert_exporter": "python",
   "pygments_lexer": "ipython3",
   "version": "3.11.5"
  }
 },
 "nbformat": 4,
 "nbformat_minor": 2
}
