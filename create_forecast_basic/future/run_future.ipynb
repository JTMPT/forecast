{
 "cells": [
  {
   "cell_type": "markdown",
   "metadata": {},
   "source": [
    "### ייבוא ספריות\n"
   ]
  },
  {
   "cell_type": "code",
   "execution_count": 1,
   "metadata": {},
   "outputs": [],
   "source": [
    "import os\n",
    "import sys"
   ]
  },
  {
   "cell_type": "markdown",
   "metadata": {},
   "source": [
    "### הגדרת נתיבים\n"
   ]
  },
  {
   "cell_type": "code",
   "execution_count": 2,
   "metadata": {},
   "outputs": [],
   "source": [
    "# cwd: מאחסן את הנתיב הנוכחי.\n",
    "cwd = os.getcwd()\n",
    "\n",
    "# JTMT מגדיר נתיב לתיקית\n",
    "JTMT_directory = r'{}\\JTMT'.format(cwd)\n",
    "\n",
    "# bau מגדיר נתיב לתיקית\n",
    "bau_directory = r'{}\\bau'.format(cwd)\n",
    "\n",
    "# iplan מגדיר נתיב לתיקית\n",
    "iplan_directory = r'{}\\iplan'.format(cwd)\n",
    "\n",
    "# General מגדיר נתיב לתיקית\n",
    "general_directory = r'{}\\General'.format(cwd)"
   ]
  },
  {
   "cell_type": "markdown",
   "metadata": {},
   "source": [
    "### הוספת נתיבים\n"
   ]
  },
  {
   "cell_type": "code",
   "execution_count": 3,
   "metadata": {},
   "outputs": [],
   "source": [
    "# מוסיף את הנתיבים של התיקיות השונות, כך שניתן לייבא מודולים מהתיקיות הללו.\n",
    "sys.path.append(JTMT_directory)\n",
    "sys.path.append(bau_directory)\n",
    "sys.path.append(iplan_directory)\n",
    "sys.path.append(general_directory)"
   ]
  },
  {
   "cell_type": "markdown",
   "metadata": {},
   "source": [
    "### ייבוא מודולים\n"
   ]
  },
  {
   "cell_type": "code",
   "execution_count": 4,
   "metadata": {},
   "outputs": [],
   "source": [
    "# מייבא את המודולים המכילים את הפונקציות להרצת המחברות\n",
    "import run_JTMT_from_future\n",
    "import run_iplan_from_future\n",
    "import run_bau_from_future\n",
    "import run_General_from_future"
   ]
  },
  {
   "cell_type": "markdown",
   "metadata": {},
   "source": [
    "### הרצת מחברות\n"
   ]
  },
  {
   "cell_type": "code",
   "execution_count": null,
   "metadata": {},
   "outputs": [],
   "source": [
    "# מחליף את הנתיב הנוכחי לתיקייה JTMT\n",
    "os.chdir(JTMT_directory)\n",
    "\n",
    "# מריץ את המחברת באמצעות הפונקציה run_notebook\n",
    "run_JTMT_from_future.run_notebook(r'{}\\JTMT\\run_jtmt.ipynb'.format(cwd))  # Call the function from the imported module\n",
    "\n",
    "# מחליף את הנתיב הנוכחי לתיקייה iplan\n",
    "os.chdir(iplan_directory)\n",
    "\n",
    "# מריץ את המחברת באמצעות הפונקציה run_notebook\n",
    "run_iplan_from_future.run_notebook(r'{}\\iplan\\run_iplan.ipynb'.format(cwd))  # Call the function from the imported module\n",
    "\n",
    "# מחליף את הנתיב הנוכחי לתיקייה bau\n",
    "os.chdir(bau_directory)\n",
    "\n",
    "# מריץ את המחברת באמצעות הפונקציה run_notebook\n",
    "run_bau_from_future.run_notebook(r'{}\\bau\\run_bau.ipynb'.format(cwd))  # Call the function from the imported module\n",
    "\n",
    "# מחליף את הנתיב הנוכחי לתיקייה General\n",
    "os.chdir(general_directory)\n",
    "\n",
    "# מריץ את המחברת באמצעות הפונקציה run_notebook\n",
    "run_General_from_future.run_notebook(r'{}\\General\\run_General.ipynb'.format(cwd))  # Call the function from the imported module"
   ]
  }
 ],
 "metadata": {
  "kernelspec": {
   "display_name": "creat_forecast_ad_hoc_env",
   "language": "python",
   "name": "python3"
  },
  "language_info": {
   "codemirror_mode": {
    "name": "ipython",
    "version": 3
   },
   "file_extension": ".py",
   "mimetype": "text/x-python",
   "name": "python",
   "nbconvert_exporter": "python",
   "pygments_lexer": "ipython3",
   "version": "3.11.5"
  }
 },
 "nbformat": 4,
 "nbformat_minor": 2
}
