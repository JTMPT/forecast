{
 "cells": [
  {
   "cell_type": "code",
   "execution_count": 1,
   "metadata": {},
   "outputs": [],
   "source": [
    "import os\n",
    "import shutil\n",
    "\n",
    "def delete_folder_contents_and_create_new(folder_path, new_folder_path):\n",
    "    # Delete the contents of the folder\n",
    "    shutil.rmtree(folder_path)\n",
    "    \n",
    "    # Create a new folder\n",
    "    os.makedirs(new_folder_path)\n",
    "\n",
    "# Example usage\n",
    "folder_path = \"./Intermediates\"\n",
    "new_folder_path = \"./Intermediates/change_pop\"\n",
    "delete_folder_contents_and_create_new(folder_path, new_folder_path)\n"
   ]
  },
  {
   "cell_type": "code",
   "execution_count": 2,
   "metadata": {},
   "outputs": [
    {
     "name": "stderr",
     "output_type": "stream",
     "text": [
      "C:\\Users\\dpere\\AppData\\Local\\Temp\\ipykernel_15368\\1990018708.py:17: FutureWarning: Setting an item of incompatible dtype is deprecated and will raise in a future error of pandas. Value 'Shrinkable' has dtype incompatible with int64, please explicitly cast to a compatible dtype first.\n",
      "  Jewish_kibolt_some_by_taz.loc[Jewish_kibolt_some_by_taz['kibolet_type']==1,'kibolet_type']='Shrinkable'\n",
      "c:\\Users\\dpere\\miniconda3\\envs\\creat_forecast_ad_hoc_env\\Lib\\site-packages\\openpyxl\\worksheet\\_read_only.py:79: UserWarning: Data Validation extension is not supported and will be removed\n",
      "  for idx, row in parser.parse():\n",
      "c:\\Users\\dpere\\miniconda3\\envs\\creat_forecast_ad_hoc_env\\Lib\\site-packages\\geopandas\\geodataframe.py:2469: UserWarning: `keep_geom_type=True` in overlay resulted in 13 dropped geometries of different geometry types than df1 has. Set `keep_geom_type=False` to retain all geometries\n",
      "  return geopandas.overlay(\n"
     ]
    }
   ],
   "source": [
    "%run \"./join_kibolt_2050_Jewish_iplan_230711.ipynb\""
   ]
  },
  {
   "cell_type": "code",
   "execution_count": 6,
   "metadata": {},
   "outputs": [
    {
     "name": "stderr",
     "output_type": "stream",
     "text": [
      "C:\\Users\\dpere\\AppData\\Local\\Temp\\ipykernel_15368\\754801771.py:6: FutureWarning: Setting an item of incompatible dtype is deprecated and will raise in a future error of pandas. Value ' | new diverse neighborhood | ' has dtype incompatible with float64, please explicitly cast to a compatible dtype first.\n",
      "  taz_2020_catalog.loc[\n",
      "C:\\Users\\dpere\\AppData\\Local\\Temp\\ipykernel_15368\\754801771.py:6: FutureWarning: Setting an item of incompatible dtype is deprecated and will raise in a future error of pandas. Value ' | new diverse neighborhood | ' has dtype incompatible with float64, please explicitly cast to a compatible dtype first.\n",
      "  taz_2020_catalog.loc[\n",
      "C:\\Users\\dpere\\AppData\\Local\\Temp\\ipykernel_15368\\754801771.py:6: FutureWarning: Setting an item of incompatible dtype is deprecated and will raise in a future error of pandas. Value ' | new diverse neighborhood | ' has dtype incompatible with float64, please explicitly cast to a compatible dtype first.\n",
      "  taz_2020_catalog.loc[\n",
      "C:\\Users\\dpere\\AppData\\Local\\Temp\\ipykernel_15368\\754801771.py:6: FutureWarning: Setting an item of incompatible dtype is deprecated and will raise in a future error of pandas. Value ' | new diverse neighborhood | ' has dtype incompatible with float64, please explicitly cast to a compatible dtype first.\n",
      "  taz_2020_catalog.loc[\n",
      "C:\\Users\\dpere\\AppData\\Local\\Temp\\ipykernel_15368\\754801771.py:6: FutureWarning: Setting an item of incompatible dtype is deprecated and will raise in a future error of pandas. Value ' | new diverse neighborhood | ' has dtype incompatible with float64, please explicitly cast to a compatible dtype first.\n",
      "  taz_2020_catalog.loc[\n",
      "C:\\Users\\dpere\\AppData\\Local\\Temp\\ipykernel_15368\\754801771.py:6: FutureWarning: Setting an item of incompatible dtype is deprecated and will raise in a future error of pandas. Value ' | new diverse neighborhood | ' has dtype incompatible with float64, please explicitly cast to a compatible dtype first.\n",
      "  taz_2020_catalog.loc[\n"
     ]
    }
   ],
   "source": [
    "%run \"./create_age_distribution_iplan_230720.ipynb\""
   ]
  },
  {
   "cell_type": "code",
   "execution_count": 9,
   "metadata": {},
   "outputs": [],
   "source": [
    "%run \"./230709_join_arab_jew_pop_iplan.ipynb\""
   ]
  },
  {
   "cell_type": "code",
   "execution_count": null,
   "metadata": {},
   "outputs": [],
   "source": [
    "%run $cwd\\change_pop_to_iplan_goals_till_2050_230711.ipynb"
   ]
  }
 ],
 "metadata": {
  "kernelspec": {
   "display_name": "creat_forecast_ad_hoc_env",
   "language": "python",
   "name": "python3"
  },
  "language_info": {
   "codemirror_mode": {
    "name": "ipython",
    "version": 3
   },
   "file_extension": ".py",
   "mimetype": "text/x-python",
   "name": "python",
   "nbconvert_exporter": "python",
   "pygments_lexer": "ipython3",
   "version": "3.11.5"
  }
 },
 "nbformat": 4,
 "nbformat_minor": 2
}
