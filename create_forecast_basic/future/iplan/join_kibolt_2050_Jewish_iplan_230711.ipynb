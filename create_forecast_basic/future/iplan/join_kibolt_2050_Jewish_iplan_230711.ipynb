{
 "cells": [
  {
   "cell_type": "markdown",
   "id": "0e7214ba",
   "metadata": {
    "heading_collapsed": true
   },
   "source": [
    "### קוד מבוא"
   ]
  },
  {
   "cell_type": "code",
   "execution_count": 77,
   "id": "f8405d52",
   "metadata": {
    "hidden": true
   },
   "outputs": [],
   "source": [
    "import pandas as pd\n",
    "import geopandas as gpd\n",
    "import numpy as np\n",
    "from shapely import wkt\n",
    "from matplotlib import pyplot as plt \n",
    "import contextily as cx\n",
    "import folium\n",
    "import fiona\n",
    "from mpl_toolkits.axes_grid1 import make_axes_locatable\n",
    "from shapely.geometry import Point\n",
    "import adjustText as aT"
   ]
  },
  {
   "cell_type": "code",
   "execution_count": 78,
   "id": "2dacbc13",
   "metadata": {
    "hidden": true
   },
   "outputs": [],
   "source": [
    "pd.set_option('display.max_rows', None)\n",
    "pd.set_option('display.max_columns', None)"
   ]
  },
  {
   "cell_type": "code",
   "execution_count": 79,
   "id": "b2c3b3ca",
   "metadata": {
    "hidden": true
   },
   "outputs": [],
   "source": [
    "pd.options.display.float_format = '{:.4f}'.format\n",
    "pd.set_option('display.float_format',  '{:,.2f}'.format)"
   ]
  },
  {
   "cell_type": "markdown",
   "id": "9624443e",
   "metadata": {
    "heading_collapsed": true
   },
   "source": [
    "### פונקציות"
   ]
  },
  {
   "cell_type": "code",
   "execution_count": 80,
   "id": "d69c42ff",
   "metadata": {
    "hidden": true
   },
   "outputs": [],
   "source": [
    "def double_taz_num(df):\n",
    "    dup_taz_num=df.groupby(['Taz_num']).size().reset_index(name='count').query('count>1').Taz_num.to_list()\n",
    "    return df.loc[df['Taz_num'].isin(dup_taz_num)]"
   ]
  },
  {
   "cell_type": "code",
   "execution_count": 81,
   "id": "d048994a",
   "metadata": {
    "hidden": true
   },
   "outputs": [],
   "source": [
    "def make_point(df):\n",
    "    df_point=df.copy()\n",
    "    df_point['centroid'] = df_point.representative_point()\n",
    "    df_point=df_point.set_geometry('centroid')\n",
    "    df_point=df_point.drop(columns=['geometry'],axis=1)\n",
    "    return df_point"
   ]
  },
  {
   "cell_type": "code",
   "execution_count": 82,
   "id": "86bf5cad",
   "metadata": {
    "hidden": true
   },
   "outputs": [],
   "source": [
    "def up_load_gdb(path,layer_name):\n",
    "    path='{}'.format(path)\n",
    "    layer_list=fiona.listlayers(path)\n",
    "    gpd_layer=gpd.read_file(path, layer=layer_list.index(layer_name))\n",
    "    return gpd_layer"
   ]
  },
  {
   "cell_type": "code",
   "execution_count": 83,
   "id": "6acc6aa7",
   "metadata": {
    "hidden": true
   },
   "outputs": [],
   "source": [
    "def up_load_shp(path):\n",
    "    path='{}'.format(path)\n",
    "    gpd_layer=gpd.read_file(path)\n",
    "    return gpd_layer"
   ]
  },
  {
   "cell_type": "code",
   "execution_count": 84,
   "id": "b1a16060",
   "metadata": {
    "hidden": true
   },
   "outputs": [],
   "source": [
    "def up_load_df(folder_path,file_name):\n",
    "    \n",
    "    path_df=r'{}\\{}.xlsx'.format(folder_path,file_name)\n",
    "    df=pd.read_excel(path_df)\n",
    "    df=df.dropna(how='all')\n",
    "\n",
    "    return df\n"
   ]
  },
  {
   "cell_type": "code",
   "execution_count": 85,
   "id": "38e28850",
   "metadata": {
    "hidden": true
   },
   "outputs": [],
   "source": [
    "\n",
    "def split_index_by_taz(index,taz,min_prec,col_name_to_split):\n",
    "    index['index_area']=index.area\n",
    "    \n",
    "    taz['taz_area']=taz.area\n",
    "\n",
    "    index_taz=index.overlay(taz[['Taz_num','taz_area','geometry']])\n",
    "\n",
    "    index_taz['small_area']=index_taz.area\n",
    "\n",
    "    index_taz['precent_from_big_index']=index_taz['small_area']/index_taz['index_area']\n",
    "    \n",
    "    index_taz['precent_from_big_taz']=index_taz['small_area']/index_taz['taz_area']\n",
    "\n",
    "    index_taz=index_taz.loc[(index_taz['precent_from_big_index']>min_prec)|(index_taz['precent_from_big_taz']>0.9)]\n",
    "    \n",
    "    index_taz=index_taz[['id','Taz_num','precent_from_big_index']]\n",
    "\n",
    "    new_big=index_taz.groupby(['id']).sum()\n",
    "\n",
    "    index=index.set_index('id')\n",
    "    index['new_big']=new_big['precent_from_big_index']\n",
    "\n",
    "    index=pd.merge(index.reset_index(),index_taz,on='id')\n",
    "\n",
    "    for c in col_name_to_split:\n",
    "        index['{}'.format(c)]=index['{}'.format(c)]*(index['precent_from_big_index']/index['new_big'])\n",
    "        \n",
    "        \n",
    "    return index"
   ]
  },
  {
   "cell_type": "markdown",
   "id": "21ecf8a3",
   "metadata": {},
   "source": [
    "### העלת קבצים"
   ]
  },
  {
   "cell_type": "markdown",
   "id": "861cbb99",
   "metadata": {},
   "source": [
    "#### קיבולת ברמת יישוב (חלקי) ביו\"ש"
   ]
  },
  {
   "cell_type": "code",
   "execution_count": 86,
   "id": "9565a6c5",
   "metadata": {
    "scrolled": true
   },
   "outputs": [],
   "source": [
    "kibolt_yosh_some_towns=up_load_df(r'W:\\Projects\\הסעת המונים\\01_שלב ה\\קבצי עבודה\\תחזיות_דמוגרפיות\\תחזיות_2050\\מרכיבי_תחזית','230628_Jewish_kibolt_some_towns_in_yosh_till_2050')"
   ]
  },
  {
   "cell_type": "code",
   "execution_count": 87,
   "id": "3d290290",
   "metadata": {
    "code_folding": []
   },
   "outputs": [],
   "source": [
    "col=[ 'Taz_num', 'add_aprt_2020__2025',\n",
    " 'add_aprt_2025__2030',\n",
    " 'add_aprt_2030__2035',\n",
    " 'add_aprt_2035__2040',\n",
    " 'add_aprt_2040_2045',\n",
    " 'add_aprt_2045_2050']"
   ]
  },
  {
   "cell_type": "code",
   "execution_count": 88,
   "id": "da445984",
   "metadata": {},
   "outputs": [],
   "source": [
    "kibolt_yosh_some_towns_sum_by_taz=kibolt_yosh_some_towns.pivot_table(index='Taz_num',aggfunc=sum).reset_index()[col]"
   ]
  },
  {
   "cell_type": "code",
   "execution_count": 89,
   "id": "7e4c0ca5",
   "metadata": {},
   "outputs": [],
   "source": [
    "kibolt_yosh_some_towns_sum_by_taz['kibolet_type']='Shrinkable'"
   ]
  },
  {
   "cell_type": "code",
   "execution_count": 90,
   "id": "b49b541a",
   "metadata": {},
   "outputs": [],
   "source": [
    "old_col=[ 'Taz_num','add_aprt_2020__2025',\n",
    " 'add_aprt_2025__2030',\n",
    " 'add_aprt_2030__2035',\n",
    " 'add_aprt_2035__2040',\n",
    " 'add_aprt_2040_2045',\n",
    " 'add_aprt_2045_2050','kibolet_type']\n",
    "\n",
    "new_col=[ 'Taz_num','2025',\n",
    " '2030',\n",
    " '2035',\n",
    " '2040',\n",
    " '2045',\n",
    " '2050','kibolet_type']\n",
    "\n",
    "kibolt_yosh_some_towns_sum_by_taz=kibolt_yosh_some_towns_sum_by_taz[old_col]\n",
    "\n",
    "kibolt_yosh_some_towns_sum_by_taz.columns=new_col"
   ]
  },
  {
   "cell_type": "code",
   "execution_count": 91,
   "id": "9cb111f3",
   "metadata": {
    "scrolled": true
   },
   "outputs": [],
   "source": [
    "kibolt_yosh_some_towns_sum_by_taz=kibolt_yosh_some_towns_sum_by_taz.melt(id_vars=['Taz_num', 'kibolet_type'], var_name='year', value_name='add_aprt').query('add_aprt!=0')"
   ]
  },
  {
   "cell_type": "code",
   "execution_count": 92,
   "id": "1ae14cc7",
   "metadata": {},
   "outputs": [],
   "source": [
    "kibolt_yosh_some_towns_sum_by_taz['source']='by_town'"
   ]
  },
  {
   "cell_type": "markdown",
   "id": "dcca1319",
   "metadata": {},
   "source": [
    "#### קיבולת ברמת אזור תנועה (חלקי)"
   ]
  },
  {
   "cell_type": "code",
   "execution_count": 93,
   "id": "4ac812fe",
   "metadata": {},
   "outputs": [],
   "source": [
    "Jewish_kibolt_some_by_taz=up_load_shp(r'W:\\Projects\\הסעת המונים\\01_שלב ה\\קבצי עבודה\\תחזיות_דמוגרפיות\\תחזיות_2050\\מרכיבי_תחזית\\SHP\\kibolt_jew_by_some_taz_230628.shp')"
   ]
  },
  {
   "cell_type": "code",
   "execution_count": 94,
   "id": "b14c589e",
   "metadata": {},
   "outputs": [],
   "source": [
    "old_col=[ 'Taz_num','add_aprt_2',\n",
    " 'add_aprt_3',\n",
    " 'add_aprt_4',\n",
    " 'add_aprt_5',\n",
    " 'add_aprt_6',\n",
    " 'add_aprt_7','type_kibol']"
   ]
  },
  {
   "cell_type": "code",
   "execution_count": 95,
   "id": "efa8d731",
   "metadata": {},
   "outputs": [],
   "source": [
    "new_col=[ 'Taz_num','2025',\n",
    " '2030',\n",
    " '2035',\n",
    " '2040',\n",
    " '2045',\n",
    " '2050','kibolet_type']"
   ]
  },
  {
   "cell_type": "code",
   "execution_count": 96,
   "id": "aedf6794",
   "metadata": {},
   "outputs": [],
   "source": [
    "Jewish_kibolt_some_by_taz=Jewish_kibolt_some_by_taz[old_col]"
   ]
  },
  {
   "cell_type": "code",
   "execution_count": 97,
   "id": "8560dad3",
   "metadata": {},
   "outputs": [],
   "source": [
    "Jewish_kibolt_some_by_taz.columns=new_col"
   ]
  },
  {
   "cell_type": "code",
   "execution_count": 98,
   "id": "aa49eb95",
   "metadata": {},
   "outputs": [],
   "source": [
    "Jewish_kibolt_some_by_taz.loc[Jewish_kibolt_some_by_taz['kibolet_type']==1,'kibolet_type']='Shrinkable'"
   ]
  },
  {
   "cell_type": "code",
   "execution_count": 99,
   "id": "0cb1e03a",
   "metadata": {},
   "outputs": [],
   "source": [
    "Jewish_kibolt_some_by_taz.loc[Jewish_kibolt_some_by_taz['kibolet_type']==2,'kibolet_type']='left_the_station'"
   ]
  },
  {
   "cell_type": "code",
   "execution_count": 100,
   "id": "b20da14b",
   "metadata": {},
   "outputs": [],
   "source": [
    "Jewish_kibolt_some_by_taz.loc[Jewish_kibolt_some_by_taz['kibolet_type']==3,'kibolet_type']='Depends_on_policy'"
   ]
  },
  {
   "cell_type": "code",
   "execution_count": 101,
   "id": "85e0d604",
   "metadata": {
    "scrolled": true
   },
   "outputs": [],
   "source": [
    "Jewish_kibolt_some_by_taz=Jewish_kibolt_some_by_taz.melt(id_vars=['Taz_num', 'kibolet_type'], var_name='year', value_name='add_aprt').query('add_aprt!=0')"
   ]
  },
  {
   "cell_type": "code",
   "execution_count": 102,
   "id": "1e1e84bb",
   "metadata": {},
   "outputs": [],
   "source": [
    "Jewish_kibolt_some_by_taz['source']='by_taz'"
   ]
  },
  {
   "cell_type": "markdown",
   "id": "5b73c44b",
   "metadata": {
    "heading_collapsed": true
   },
   "source": [
    "#### קיבולת ברמת תכנית עם אזורי תנועה בלבד (חלקי)"
   ]
  },
  {
   "cell_type": "code",
   "execution_count": 103,
   "id": "2ea77f45",
   "metadata": {
    "hidden": true
   },
   "outputs": [],
   "source": [
    "Jewish_kibolt_some_by_plan_only_with_taz=up_load_shp(r'W:\\Projects\\הסעת המונים\\01_שלב ה\\קבצי עבודה\\תחזיות_דמוגרפיות\\תחזיות_2050\\מרכיבי_תחזית\\SHP\\Jewish_kibolt_some_by_plan_with_taz_num.shp')\n",
    "Jewish_kibolt_some_by_plan_only_with_taz=Jewish_kibolt_some_by_plan_only_with_taz[['Taz_num','2025',\n",
    " '2030',\n",
    " '2035',\n",
    " '2040',\n",
    " '2045',\n",
    " '2050','kibolet_ty']].rename(columns={'kibolet_ty':'kibolet_type'})\n",
    "\n",
    "Jewish_kibolt_some_by_plan_only_with_taz=Jewish_kibolt_some_by_plan_only_with_taz.melt(id_vars=['Taz_num', 'kibolet_type'], var_name='year', value_name='add_aprt').query('add_aprt!=0')"
   ]
  },
  {
   "cell_type": "code",
   "execution_count": 104,
   "id": "948fe387",
   "metadata": {
    "hidden": true
   },
   "outputs": [],
   "source": [
    "Jewish_kibolt_some_by_plan_only_with_taz['source']='plan_only_with_taz'"
   ]
  },
  {
   "cell_type": "markdown",
   "id": "833378f0",
   "metadata": {
    "heading_collapsed": true
   },
   "source": [
    "#### קיבולת ברמת תכנית  (חלקי)"
   ]
  },
  {
   "cell_type": "code",
   "execution_count": 105,
   "id": "395590b8",
   "metadata": {
    "hidden": true
   },
   "outputs": [
    {
     "name": "stderr",
     "output_type": "stream",
     "text": [
      "C:\\Users\\gidon\\Anaconda3\\envs\\geo_env\\lib\\site-packages\\openpyxl\\worksheet\\_reader.py:312: UserWarning: Data Validation extension is not supported and will be removed\n",
      "  warn(msg)\n",
      "C:\\Users\\gidon\\Anaconda3\\envs\\geo_env\\lib\\site-packages\\geopandas\\geodataframe.py:2196: UserWarning: `keep_geom_type=True` in overlay resulted in 13 dropped geometries of different geometry types than df1 has. Set `keep_geom_type=False` to retain all geometries\n",
      "  return geopandas.overlay(\n"
     ]
    }
   ],
   "source": [
    "df=up_load_df(r'W:\\Projects\\הסעת המונים\\01_שלב ה\\קבצי עבודה\\תחזיות_דמוגרפיות\\תחזיות_2050\\iplan\\jew_kibolet\\input','index_for_id_polygons_230712')\n",
    "\n",
    "shp=up_load_shp(r'W:\\Projects\\הסעת המונים\\01_שלב ה\\קבצי עבודה\\תחזיות_דמוגרפיות\\תחזיות_2050\\מרכיבי_תחזית\\SHP\\230628_id_polygons_for_index.shp')\n",
    "\n",
    "taz=up_load_shp(r'W:\\Model Versions\\4.0\\TAZ\\TAZ_V4_230518_Published.shp')\n",
    "\n",
    "index=shp.merge(df,on='id',how='outer')\n",
    "\n",
    "#לחלק את התכניות לפי אזורי תנועה\n",
    "\n",
    "index=split_index_by_taz(index,taz,0.25,['add_aprt'])\n",
    "\n",
    "#לייצר קיבולת כל חומש\n",
    "\n",
    "years=[ '2025', '2030', '2035', '2040', '2045', '2050']\n",
    "\n",
    "index[years]=index[years].apply(lambda x: x * index['risk_factor']*index['add_aprt'])\n",
    "\n",
    "col=['Taz_num','2025',\n",
    " '2030',\n",
    " '2035',\n",
    " '2040',\n",
    " '2045',\n",
    " '2050','kibolet_type']\n",
    "\n",
    "Jewish_kibolt_some_by_plan=index[col].fillna(0).melt(id_vars=['Taz_num', 'kibolet_type'], var_name='year', value_name='add_aprt').query('add_aprt!=0')"
   ]
  },
  {
   "cell_type": "code",
   "execution_count": 106,
   "id": "aff243af",
   "metadata": {
    "hidden": true
   },
   "outputs": [],
   "source": [
    "Jewish_kibolt_some_by_plan['source']='by_plan'"
   ]
  },
  {
   "cell_type": "markdown",
   "id": "d94ff62e",
   "metadata": {},
   "source": [
    "### מכאן  צריך לחבר ביחד את כל הטבלאות"
   ]
  },
  {
   "cell_type": "code",
   "execution_count": 107,
   "id": "5b9da3bf",
   "metadata": {},
   "outputs": [],
   "source": [
    "kibolt_jew=pd.concat([Jewish_kibolt_some_by_plan,Jewish_kibolt_some_by_plan_only_with_taz,kibolt_yosh_some_towns_sum_by_taz,Jewish_kibolt_some_by_taz],axis=0)"
   ]
  },
  {
   "cell_type": "code",
   "execution_count": 108,
   "id": "b6f6cf24",
   "metadata": {},
   "outputs": [],
   "source": [
    "kibolt_jew['year']=kibolt_jew['year'].astype(str)"
   ]
  },
  {
   "cell_type": "code",
   "execution_count": 109,
   "id": "515ba643",
   "metadata": {},
   "outputs": [],
   "source": [
    "file_date=pd.Timestamp.today().strftime('%y%m%d')"
   ]
  },
  {
   "cell_type": "markdown",
   "id": "8a161c5d",
   "metadata": {},
   "source": [
    "### לשנות קיבולת"
   ]
  },
  {
   "cell_type": "markdown",
   "id": "7959727a",
   "metadata": {},
   "source": [
    "כדי לשנות קיבולת צריך לעשות את זה לפי מגזר"
   ]
  },
  {
   "cell_type": "code",
   "execution_count": 110,
   "id": "43d6a5c0",
   "metadata": {
    "code_folding": []
   },
   "outputs": [],
   "source": [
    "\n",
    "\n",
    "folder_path=r'W:\\Projects\\הסעת המונים\\01_שלב ה\\קבצי עבודה\\תחזיות_דמוגרפיות\\תרחישי_מלל\\מרכיבי_תחזית'\n",
    "\n",
    "taz_sector_change=up_load_df(folder_path,'230704_taz_num_convert_from_jewish_to_u_orthodox')\n",
    "\n",
    "lst_change_sector=list(taz_sector_change.Taz_num)\n",
    "\n",
    "\n",
    "taz.loc[(taz['Taz_num'].isin(lst_change_sector))&(taz['zonetype']=='Judea and Samaria'),'main_secto']='U_Orthodox'"
   ]
  },
  {
   "cell_type": "code",
   "execution_count": 111,
   "id": "a86b0ac9",
   "metadata": {},
   "outputs": [],
   "source": [
    "kibolt_jew=kibolt_jew.merge(taz[['Taz_num','main_secto','zonetype']],on='Taz_num',how='left')"
   ]
  },
  {
   "cell_type": "markdown",
   "id": "72dd365c",
   "metadata": {},
   "source": [
    "שינוי בקיבולת לפי מגזר"
   ]
  },
  {
   "cell_type": "code",
   "execution_count": 113,
   "id": "0d34c9a8",
   "metadata": {},
   "outputs": [],
   "source": [
    "kibolt_jew=kibolt_jew.loc[~((kibolt_jew['main_secto']==\"Jewish\")&\n",
    "                            (kibolt_jew['zonetype']==\"Jerusalem\")&\n",
    "                            (kibolt_jew['kibolet_type']!=\"left_the_station\"))&\n",
    "                           ~((kibolt_jew['main_secto']==\"Jewish\")&\n",
    "                            (kibolt_jew['zonetype']==\"Judea and Samaria\")&\n",
    "                            (kibolt_jew['kibolet_type']==\"Depends_on_policy\"))\n",
    "                         ]"
   ]
  },
  {
   "cell_type": "code",
   "execution_count": null,
   "id": "ad8c7557",
   "metadata": {},
   "outputs": [],
   "source": [
    "kibolt_jew.loc[(kibolt_jew['main_secto']==\"Jewish\")&\n",
    "               (kibolt_jew['zonetype']==\"Judea and Samaria\")&\n",
    "               (kibolt_jew['kibolet_type']==\"Shrinkable\"),'add_aprt']=kibolt_jew['add_aprt']*0.65"
   ]
  },
  {
   "cell_type": "markdown",
   "id": "2e66b798",
   "metadata": {},
   "source": [
    "### ייצוא לקלט של מכונת התפלגות גילים תרחיש דיור"
   ]
  },
  {
   "cell_type": "code",
   "execution_count": 75,
   "id": "c49d5517",
   "metadata": {},
   "outputs": [],
   "source": [
    "kibolt_jew=kibolt_jew.pivot_table(index='Taz_num',columns='year',values='add_aprt',aggfunc=sum).fillna(0).reset_index()"
   ]
  },
  {
   "cell_type": "code",
   "execution_count": 76,
   "id": "1f5db944",
   "metadata": {},
   "outputs": [],
   "source": [
    "old_col=[ 'Taz_num','2025',\n",
    " '2030',\n",
    " '2035',\n",
    " '2040',\n",
    " '2045',\n",
    " '2050']\n",
    "\n",
    "new_col=[ 'Taz_num','add_aprt_2020_2025',\n",
    " 'add_aprt_2025_2030',\n",
    " 'add_aprt_2030_2035',\n",
    " 'add_aprt_2035_2040',\n",
    " 'add_aprt_2040_2045',\n",
    " 'add_aprt_2045_2050']\n",
    "\n",
    "kibolt_jew=kibolt_jew[old_col]\n",
    "\n",
    "kibolt_jew.columns=new_col\n",
    "\n",
    "save_file=r'W:\\Projects\\הסעת המונים\\01_שלב ה\\קבצי עבודה\\תחזיות_דמוגרפיות\\תחזיות_2050\\iplan\\jew_kibolet\\output'\n",
    "\n",
    "kibolt_jew.to_excel('{}\\{}_kibolt_jew_till_2050.xlsx'.format(save_file,file_date),index=False)"
   ]
  }
 ],
 "metadata": {
  "kernelspec": {
   "display_name": "Python 3 (ipykernel)",
   "language": "python",
   "name": "python3"
  },
  "language_info": {
   "codemirror_mode": {
    "name": "ipython",
    "version": 3
   },
   "file_extension": ".py",
   "mimetype": "text/x-python",
   "name": "python",
   "nbconvert_exporter": "python",
   "pygments_lexer": "ipython3",
   "version": "3.10.4"
  },
  "toc": {
   "base_numbering": 1,
   "nav_menu": {},
   "number_sections": true,
   "sideBar": true,
   "skip_h1_title": false,
   "title_cell": "Table of Contents",
   "title_sidebar": "Contents",
   "toc_cell": false,
   "toc_position": {},
   "toc_section_display": true,
   "toc_window_display": true
  }
 },
 "nbformat": 4,
 "nbformat_minor": 5
}
