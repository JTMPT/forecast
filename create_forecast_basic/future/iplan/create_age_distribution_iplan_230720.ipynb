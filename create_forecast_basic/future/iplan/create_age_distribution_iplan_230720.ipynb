{
 "cells": [
  {
   "cell_type": "markdown",
   "id": "0e7214ba",
   "metadata": {
    "heading_collapsed": true
   },
   "source": [
    "## קוד מבוא"
   ]
  },
  {
   "cell_type": "markdown",
   "id": "886e1add",
   "metadata": {},
   "source": [
    "#### ספריות"
   ]
  },
  {
   "cell_type": "code",
   "execution_count": 1,
   "id": "f8405d52",
   "metadata": {
    "hidden": true
   },
   "outputs": [],
   "source": [
    "import os\n",
    "import sys\n",
    "import pandas as pd"
   ]
  },
  {
   "cell_type": "code",
   "execution_count": 2,
   "id": "2dacbc13",
   "metadata": {
    "hidden": true
   },
   "outputs": [],
   "source": [
    "pd.set_option('display.max_rows', None)\n",
    "pd.set_option('display.max_columns', None)"
   ]
  },
  {
   "cell_type": "markdown",
   "id": "8b006952",
   "metadata": {},
   "source": [
    "#### העלאת משתנים להרצת הקוד"
   ]
  },
  {
   "cell_type": "code",
   "execution_count": 3,
   "id": "a83f94c2",
   "metadata": {},
   "outputs": [],
   "source": [
    "cwd = os.getcwd()\n",
    "\n",
    "create_forecast_basic_future_folder_path = os.path.dirname(cwd)\n",
    "\n",
    "create_forecast_basic_folder_path = os.path.dirname(create_forecast_basic_future_folder_path)\n",
    "\n",
    "sys.path.append(create_forecast_basic_folder_path)"
   ]
  },
  {
   "cell_type": "markdown",
   "id": "9624443e",
   "metadata": {
    "heading_collapsed": true
   },
   "source": [
    "## פונקציות"
   ]
  },
  {
   "cell_type": "markdown",
   "id": "04f4a045",
   "metadata": {},
   "source": [
    "### פונקציות גלובליות"
   ]
  },
  {
   "cell_type": "code",
   "execution_count": 4,
   "id": "ade2b0e9",
   "metadata": {},
   "outputs": [],
   "source": [
    "from global_functions import get_forecast_version_folder_location, get_newest_date_file, up_load_shp, up_load_df, find_files_with_pattern"
   ]
  },
  {
   "cell_type": "code",
   "execution_count": 5,
   "id": "1565764b",
   "metadata": {},
   "outputs": [],
   "source": [
    "forecast_version_folder_location=get_forecast_version_folder_location(r'{}\\background_files\\forecast_version_folder_location.txt'.format(create_forecast_basic_folder_path))\n",
    "\n",
    "forecast_version_folder_location=r'{}\\BASE_YEAR'.format(forecast_version_folder_location)"
   ]
  },
  {
   "cell_type": "markdown",
   "id": "78ef9832",
   "metadata": {},
   "source": [
    "## code"
   ]
  },
  {
   "cell_type": "markdown",
   "id": "9aa5b911",
   "metadata": {},
   "source": [
    "### עיבוד חומר מקדים"
   ]
  },
  {
   "cell_type": "markdown",
   "id": "7ae9924a",
   "metadata": {},
   "source": [
    "##### העלאת טבלה"
   ]
  },
  {
   "cell_type": "code",
   "execution_count": 6,
   "id": "2744f84f",
   "metadata": {},
   "outputs": [],
   "source": [
    "taz_2020_catalog_date = get_newest_date_file(r'{}\\current\\Intermediates'.format(create_forecast_basic_folder_path), '_age_dis_type')\n",
    "\n",
    "taz_2020_catalog = up_load_df(r'{}\\current\\Intermediates'.format(create_forecast_basic_folder_path), r'forecast_2020_{}_age_dis_type'.format(taz_2020_catalog_date))"
   ]
  },
  {
   "cell_type": "markdown",
   "id": "597a57f6",
   "metadata": {},
   "source": [
    "##### העלאת טבלה"
   ]
  },
  {
   "cell_type": "code",
   "execution_count": 7,
   "id": "f706925c",
   "metadata": {},
   "outputs": [],
   "source": [
    "forecast_version_date = get_newest_date_file(forecast_version_folder_location, '2020_jtmt_forcast_full')\n",
    "\n",
    "file_name = r'2020_jtmt_forcast_full_{}'.format(forecast_version_date)\n",
    "\n",
    "taz_2020_aprt=up_load_df(forecast_version_folder_location, file_name)"
   ]
  },
  {
   "cell_type": "markdown",
   "id": "8edc5bf1",
   "metadata": {},
   "source": [
    "##### העלאת טבלה"
   ]
  },
  {
   "cell_type": "code",
   "execution_count": 10,
   "id": "df2c6006",
   "metadata": {},
   "outputs": [],
   "source": [
    "kibolt_jew_2050_date = get_newest_date_file(r'{}\\Intermediates'.format(cwd), '_kibolt_jew_till_2050_iplan')\n",
    "\n",
    "kibolt_jew_2050 = up_load_df(r'{}\\Intermediates'.format(cwd), r'{}_kibolt_jew_till_2050_iplan'.format(kibolt_jew_2050_date)).set_index('Taz_num')"
   ]
  },
  {
   "cell_type": "markdown",
   "id": "ab73033b",
   "metadata": {},
   "source": [
    "##### העלאת טבלה ושכבה"
   ]
  },
  {
   "cell_type": "code",
   "execution_count": 8,
   "id": "64124d93",
   "metadata": {},
   "outputs": [],
   "source": [
    "age_catalog=up_load_df(r'{}\\background_files'.format(cwd),'age_des_types')\n",
    "\n",
    "taz_with_aprt_diversity=up_load_shp(r'{}\\background_files\\cost_diversity_for_age_distribution.shp'.format(create_forecast_basic_folder_path)).set_index('Taz_num')"
   ]
  },
  {
   "cell_type": "code",
   "execution_count": 9,
   "id": "083a4e51",
   "metadata": {},
   "outputs": [],
   "source": [
    "taz_2020_catalog=taz_2020_catalog.merge(taz_2020_aprt[['Taz_num','zonetype','aprt_20','pop_without_dorms_yeshiva','Taz_name','Muni_Heb']],on='Taz_num',how='left').set_index('Taz_num')\n",
    "\n",
    "taz_2020_catalog['taz_with_aprt_diversity']=taz_with_aprt_diversity['div']\n",
    "\n",
    "taz_2020_catalog['taz_expensive']=taz_with_aprt_diversity['cost']\n",
    "\n",
    "col=['classification_name','age_cycle']\n",
    "\n",
    "taz_2020_catalog=taz_2020_catalog.reset_index().merge(age_catalog[col],on='classification_name',how='left').set_index('Taz_num')\n",
    "\n",
    "taz_2020_catalog=taz_2020_catalog.join(kibolt_jew_2050).query('sector_for_age != \"Arab\"')\n",
    "\n",
    "taz_2020_catalog=taz_2020_catalog.fillna(0)"
   ]
  },
  {
   "cell_type": "markdown",
   "id": "649afd98",
   "metadata": {},
   "source": [
    "##### העלאת טבלה"
   ]
  },
  {
   "cell_type": "code",
   "execution_count": 10,
   "id": "c37a96db",
   "metadata": {},
   "outputs": [],
   "source": [
    "folder_path=r'{}\\background_files'.format(cwd)\n",
    "\n",
    "taz_sector_change=up_load_df(folder_path,'230704_taz_num_convert_from_jewish_to_u_orthodox')"
   ]
  },
  {
   "cell_type": "code",
   "execution_count": 11,
   "id": "8a05fa87",
   "metadata": {},
   "outputs": [],
   "source": [
    "lst_change_sector=list(taz_sector_change.Taz_num)\n",
    "\n",
    "taz_2020_catalog.loc[(taz_2020_catalog.index.isin(lst_change_sector))&(taz_2020_catalog['zonetype']=='Judea and Samaria'),'sector_for_age']='U_Orthodox'"
   ]
  },
  {
   "cell_type": "markdown",
   "id": "4d10f201",
   "metadata": {},
   "source": [
    "## חישוב "
   ]
  },
  {
   "cell_type": "code",
   "execution_count": 12,
   "id": "5f9c1f36",
   "metadata": {},
   "outputs": [],
   "source": [
    "singal_year=list(range(2025,2051,5))"
   ]
  },
  {
   "cell_type": "code",
   "execution_count": 13,
   "id": "0240b0f9",
   "metadata": {},
   "outputs": [],
   "source": [
    "years=['add_aprt_2020_2025',\n",
    " 'add_aprt_2025_2030',\n",
    " 'add_aprt_2030_2035',\n",
    " 'add_aprt_2035_2040',\n",
    " 'add_aprt_2040_2045',\n",
    " 'add_aprt_2045_2050']\n",
    "\n",
    "y_before=['2020','2020_2025',\n",
    " '2025_2030',\n",
    " '2030_2035',\n",
    " '2035_2040',\n",
    " '2040_2045']\n",
    "\n",
    "only_years=['2020_2025',\n",
    " '2025_2030',\n",
    " '2030_2035',\n",
    " '2035_2040',\n",
    " '2040_2045',\n",
    " '2045_2050']"
   ]
  },
  {
   "cell_type": "code",
   "execution_count": 14,
   "id": "5cc6778a",
   "metadata": {},
   "outputs": [],
   "source": [
    "taz_2020_catalog['age_cycle_time']=0\n",
    "taz_2020_catalog['current_aprt']=taz_2020_catalog['aprt_20']\n",
    "years_to_change_cycle_stage=20\n",
    "age_cycle_limit=4\n",
    "taz_2020_catalog['age_cycle_2020']=taz_2020_catalog['age_cycle']\n",
    "taz_2020_catalog['changed_this_cycle']=0"
   ]
  },
  {
   "cell_type": "code",
   "execution_count": 15,
   "id": "0cd01ab9",
   "metadata": {
    "code_folding": []
   },
   "outputs": [],
   "source": [
    "for y, y1 in zip(years, only_years):\n",
    "    #### אזורים ללא יח\"ד קיימות בשנת הבסיס מתאכלסים בהתפלגות גילים הראשוני\n",
    "    taz_with_aprt_diversity_condition = taz_2020_catalog['taz_with_aprt_diversity']==1\n",
    "    taz_expensive_condition = taz_2020_catalog['taz_expensive']==1\n",
    "\n",
    "    taz_2020_catalog.loc[\n",
    "        (taz_2020_catalog['current_aprt']==0)&\n",
    "        (taz_2020_catalog['{}'.format(y)]>0)&\n",
    "        (taz_2020_catalog['changed_this_cycle']==0)&\n",
    "        taz_with_aprt_diversity_condition,['age_cycle','age_cycle_time','explanation_{}'.format(y1),'changed_this_cycle']\n",
    "    ]=[3,0,' | new diverse neighborhood | ',1]\n",
    "    \n",
    "    taz_2020_catalog.loc[\n",
    "        (taz_2020_catalog['current_aprt']==0)&\n",
    "        (taz_2020_catalog['{}'.format(y)]>0)&\n",
    "        (taz_2020_catalog['changed_this_cycle']==0)&\n",
    "        taz_expensive_condition&\n",
    "        ~taz_with_aprt_diversity_condition,['age_cycle','age_cycle_time','explanation_{}'.format(y1),'changed_this_cycle']\n",
    "    ]=[2,0,' | new non-diverse expensive neighborhood  | ',1]\n",
    "    \n",
    "    taz_2020_catalog.loc[\n",
    "        (taz_2020_catalog['current_aprt']==0)&\n",
    "        (taz_2020_catalog['{}'.format(y)]>0)&\n",
    "        (taz_2020_catalog['changed_this_cycle']==0)&\n",
    "        ~taz_expensive_condition&\n",
    "        ~taz_with_aprt_diversity_condition,['age_cycle','age_cycle_time','explanation_{}'.format(y1),'changed_this_cycle']\n",
    "    ]=[1,0,' | new non-diverse neighborhood  | ',1]\n",
    "\n",
    "    #### אזורים עם יח\"ד קיימות בשנת הבסיס מתאכלסים בהתפלגות גילים כפונצקיה של יחס קיבולת למצב הקיים\n",
    "    taz_2020_catalog.loc[\n",
    "        (taz_2020_catalog['current_aprt']>0),'precent_add_to_current'\n",
    "    ]=taz_2020_catalog['{}'.format(y)]/taz_2020_catalog['current_aprt']\n",
    "\n",
    "    #### יחס נמוך - הקיבולת בטלה ביחס למצב הקיים\n",
    "    #### יחס גדול - הקיבולת מבטלת את המצב הקיים\n",
    "    kibolet_condition = taz_2020_catalog['precent_add_to_current'] > 0.5\n",
    "    yush_condition =  taz_2020_catalog['zonetype']=='Judea and Samaria'\n",
    "\n",
    "    taz_2020_catalog.loc[\n",
    "        kibolet_condition &\n",
    "        ~yush_condition &\n",
    "        (taz_2020_catalog['changed_this_cycle']==0)&\n",
    "        taz_with_aprt_diversity_condition,['age_cycle','age_cycle_time','explanation_{}'.format(y1),'changed_this_cycle']\n",
    "    ]=[3,0,'| renew diverse neighborhood |',1]\n",
    "    \n",
    "    taz_2020_catalog.loc[\n",
    "        kibolet_condition &\n",
    "        taz_expensive_condition &\n",
    "        (taz_2020_catalog['changed_this_cycle']==0)&\n",
    "        ~taz_with_aprt_diversity_condition,['age_cycle','age_cycle_time','explanation_{}'.format(y1),'changed_this_cycle']\n",
    "    ]=[2,0,'| a lot of new aprts in non-diverse expensive neighborhood|',1]\n",
    "\n",
    "    taz_2020_catalog.loc[\n",
    "        kibolet_condition &\n",
    "        (taz_2020_catalog['changed_this_cycle']==0)&\n",
    "        ~taz_expensive_condition &\n",
    "        ~taz_with_aprt_diversity_condition,['age_cycle','age_cycle_time','explanation_{}'.format(y1),'changed_this_cycle']\n",
    "    ]=[1,0,'| a lot of new aprts in non-diverse neighborhood|',1]\n",
    "\n",
    "    #### יחס בינוני\n",
    "    ##### ביוש אין התחדשות עירונית לכן אם יחס גבוהה יחסית זה כמו בנייה חדשה עם אכלוס של סוג התפלגות גילים הראשוני\n",
    "    kibolet_condition =  taz_2020_catalog['precent_add_to_current']>= 0.20\n",
    "\n",
    "    taz_2020_catalog.loc[\n",
    "        (yush_condition)&\n",
    "        (taz_2020_catalog['changed_this_cycle']==0)&\n",
    "        (kibolet_condition) , ['age_cycle','age_cycle_time','explanation_{}'.format(y1),'changed_this_cycle']\n",
    "    ] = [1, 0,'| a lot of new aprts in non-diverse neighborhood in yush |',1]\n",
    "\n",
    "    ##### יוש אין התחדשות עירונית לכן אם יחס לא גבוהה יחסית זה מונע התבגרות של המצב הקיים\n",
    "    ##### אם לא ביוש אז יש אפשרות התחדשות עירונית לכן המקום נהיה מגוון\n",
    "    kibolet_condition =  (taz_2020_catalog['precent_add_to_current']>= 0.25) & (taz_2020_catalog['precent_add_to_current'] <= 0.5)\n",
    "\n",
    "    taz_2020_catalog.loc[\n",
    "        ~(yush_condition)&\n",
    "        (kibolet_condition)&\n",
    "        (taz_with_aprt_diversity_condition) , ['age_cycle','explanation_{}'.format(y1)]\n",
    "    ] =  [3,'| a lot of new aprts in diverse neighborhood|']\n",
    "    \n",
    "    #השעון התקדם כבר ולא צריך לשנות כלום\n",
    "    #### קוד לתהליך התבגרות התפלגות הגילים כפונקציה של סוג מגזר\n",
    "    age_cycle_condition = taz_2020_catalog['age_cycle']<age_cycle_limit\n",
    "\n",
    "    age_cycle_time_condition=(taz_2020_catalog['age_cycle_time']%years_to_change_cycle_stage==0)&(taz_2020_catalog['age_cycle_time']>0)\n",
    "\n",
    "    sector_condition=taz_2020_catalog['sector_for_age']=='hitnachlut' \n",
    "    \n",
    "    taz_2020_catalog.loc[\n",
    "        (age_cycle_time_condition) &\n",
    "        (sector_condition) &\n",
    "        (taz_2020_catalog['changed_this_cycle']==0)&\n",
    "        (age_cycle_condition),['explanation_{}'.format(y1),'changed_this_cycle']\n",
    "    ]=['| natural aging |',1]\n",
    "    \n",
    "    taz_2020_catalog.loc[\n",
    "        (age_cycle_time_condition) &\n",
    "        (sector_condition) &\n",
    "        (age_cycle_condition),'age_cycle'\n",
    "    ]=taz_2020_catalog['age_cycle']+1\n",
    "    \n",
    "    taz_2020_catalog.loc[\n",
    "        (age_cycle_time_condition) &\n",
    "        (sector_condition) &\n",
    "        (age_cycle_condition),'age_cycle_time'\n",
    "    ]=taz_2020_catalog['age_cycle_time']+5\n",
    "\n",
    "    sector_condition=taz_2020_catalog['sector_for_age']=='Jewish'\n",
    "\n",
    "    age_cycle_condition = taz_2020_catalog['age_cycle']==1\n",
    "\n",
    "    taz_2020_catalog.loc[\n",
    "        (age_cycle_time_condition) &\n",
    "        (taz_2020_catalog['changed_this_cycle']==0)&\n",
    "        (sector_condition) &\n",
    "        (age_cycle_condition),['age_cycle','explanation_{}'.format(y1),'changed_this_cycle']\n",
    "    ]=[2 ,'| natural aging |',1]    \n",
    "    \n",
    "    taz_2020_catalog.loc[\n",
    "        (age_cycle_time_condition) & \n",
    "        (sector_condition) &\n",
    "        (age_cycle_condition),'age_cycle_time'\n",
    "    ]=taz_2020_catalog['age_cycle_time']+5\n",
    "\n",
    "    sector_condition=taz_2020_catalog['sector_for_age']=='Jewish'\n",
    "\n",
    "    age_cycle_condition = taz_2020_catalog['age_cycle']==2\n",
    "    \n",
    "    taz_2020_catalog.loc[\n",
    "        (age_cycle_time_condition) &\n",
    "        (age_cycle_condition) &\n",
    "        (sector_condition) &\n",
    "        (taz_2020_catalog['changed_this_cycle']==0) &\n",
    "        (taz_with_aprt_diversity_condition),['age_cycle','explanation_{}'.format(y1),'changed_this_cycle']\n",
    "    ]=[3,'| natural aging to a diverse neighborhood |',1]\n",
    "    \n",
    "    taz_2020_catalog.loc[\n",
    "        (age_cycle_time_condition) &\n",
    "        (age_cycle_condition) &\n",
    "        (sector_condition) &\n",
    "        (taz_with_aprt_diversity_condition),'age_cycle_time'\n",
    "    ]=taz_2020_catalog['age_cycle_time']+5\n",
    "\n",
    "    sector_condition=taz_2020_catalog['sector_for_age']=='Jewish'\n",
    "\n",
    "    age_cycle_condition = taz_2020_catalog['age_cycle']==4\n",
    "    \n",
    "    taz_2020_catalog.loc[\n",
    "        (age_cycle_time_condition) &\n",
    "        (age_cycle_condition) &\n",
    "        (sector_condition) &\n",
    "        (taz_2020_catalog['changed_this_cycle']==0) &\n",
    "        (taz_with_aprt_diversity_condition),['age_cycle','explanation_{}'.format(y1),'changed_this_cycle']\n",
    "    ]=[3,'| old to a diverse neighborhood |',1]\n",
    "    \n",
    "    taz_2020_catalog.loc[\n",
    "        (age_cycle_time_condition) &\n",
    "        (age_cycle_condition) &\n",
    "        (sector_condition) &\n",
    "        (taz_with_aprt_diversity_condition),'age_cycle_time'\n",
    "    ]=taz_2020_catalog['age_cycle_time']+5\n",
    "   \n",
    "    sector_condition=taz_2020_catalog['sector_for_age']=='U_Orthodox'\n",
    "\n",
    "    age_cycle_condition = taz_2020_catalog['age_cycle']==1\n",
    "\n",
    "    taz_2020_catalog.loc[\n",
    "        (age_cycle_time_condition) &\n",
    "        (sector_condition) &\n",
    "        (taz_2020_catalog['changed_this_cycle']==0) &\n",
    "        (age_cycle_condition),['age_cycle','explanation_{}'.format(y1),'changed_this_cycle']\n",
    "    ]=[2 ,'| natural aging |',1]\n",
    "        \n",
    "    taz_2020_catalog.loc[\n",
    "        (age_cycle_time_condition) &\n",
    "        (sector_condition) &\n",
    "        (age_cycle_condition),'age_cycle_time'\n",
    "    ]=taz_2020_catalog['age_cycle_time']+5\n",
    "\n",
    "    age_cycle_condition = taz_2020_catalog['age_cycle']==2\n",
    "\n",
    "    taz_2020_catalog.loc[\n",
    "        (age_cycle_time_condition) &\n",
    "        (taz_2020_catalog['changed_this_cycle']==0) &\n",
    "        (age_cycle_condition) &\n",
    "        (sector_condition) &\n",
    "        (taz_with_aprt_diversity_condition),['age_cycle','explanation_{}'.format(y1),'changed_this_cycle']\n",
    "    ]=[3,'| natural aging to a diverse neighborhood |',1]\n",
    "    \n",
    "    taz_2020_catalog.loc[\n",
    "        (age_cycle_time_condition) &\n",
    "        (age_cycle_condition) &\n",
    "        (sector_condition) &\n",
    "        (taz_with_aprt_diversity_condition),'age_cycle_time'\n",
    "    ]=taz_2020_catalog['age_cycle_time']+5\n",
    "    \n",
    "    taz_2020_catalog.loc[\n",
    "        (age_cycle_time_condition) &\n",
    "         (taz_2020_catalog['changed_this_cycle']==0) &\n",
    "        (age_cycle_condition) &\n",
    "        (sector_condition) &\n",
    "        ~(taz_with_aprt_diversity_condition),['age_cycle','explanation_{}'.format(y1),'changed_this_cycle']\n",
    "    ]=[4,'| natural aging |',1]\n",
    "    \n",
    "    age_cycle_condition = taz_2020_catalog['age_cycle']==4\n",
    "    \n",
    "    taz_2020_catalog.loc[\n",
    "        (age_cycle_time_condition) &\n",
    "        (taz_2020_catalog['changed_this_cycle']==0) &\n",
    "        (age_cycle_condition) &\n",
    "        (sector_condition) &\n",
    "        (taz_with_aprt_diversity_condition),['age_cycle','explanation_{}'.format(y1),'changed_this_cycle']\n",
    "    ]=[3,'| old to a diverse neighborhood |',1]\n",
    "    \n",
    "    taz_2020_catalog.loc[\n",
    "        (age_cycle_time_condition) &\n",
    "        (age_cycle_condition) &\n",
    "        (sector_condition) &\n",
    "        (taz_with_aprt_diversity_condition),'age_cycle_time'\n",
    "    ]=taz_2020_catalog['age_cycle_time']+5\n",
    "    \n",
    "    taz_2020_catalog.loc[\n",
    "        (age_cycle_time_condition) &\n",
    "        (age_cycle_condition) &\n",
    "        (sector_condition) &\n",
    "        ~(taz_with_aprt_diversity_condition),'age_cycle_time'\n",
    "    ]=taz_2020_catalog['age_cycle_time']+5\n",
    "\n",
    "    taz_2020_catalog.loc[(taz_2020_catalog['changed_this_cycle']==0),'age_cycle_time'\n",
    "    ]=taz_2020_catalog['age_cycle_time']+5\n",
    "    \n",
    "    taz_2020_catalog['changed_this_cycle']=0\n",
    "    \n",
    "    taz_2020_catalog['current_aprt']=taz_2020_catalog['current_aprt']+taz_2020_catalog['{}'.format(y)]\n",
    "    taz_2020_catalog['current_aprt_{}'.format(y1)]= taz_2020_catalog['current_aprt']\n",
    "    taz_2020_catalog['age_cycle_{}'.format(y1)]= taz_2020_catalog['age_cycle']\n",
    "    taz_2020_catalog['age_cycle_time_{}'.format(y1)]= taz_2020_catalog['age_cycle_time']\n",
    "    taz_2020_catalog['precent_add_to_current_{}'.format(y1)]= taz_2020_catalog['precent_add_to_current']"
   ]
  },
  {
   "cell_type": "markdown",
   "id": "614f26f0",
   "metadata": {
    "heading_collapsed": true
   },
   "source": [
    "## ייצוא"
   ]
  },
  {
   "cell_type": "code",
   "execution_count": 16,
   "id": "6fcc8ea0",
   "metadata": {},
   "outputs": [],
   "source": [
    "#### תאריך\n",
    "file_date=pd.Timestamp.today().strftime('%y%m%d')"
   ]
  },
  {
   "cell_type": "code",
   "execution_count": 17,
   "id": "a36aa769",
   "metadata": {
    "hidden": true
   },
   "outputs": [],
   "source": [
    "taz_2020_catalog['hh_size_2020']=taz_2020_catalog['pop_without_dorms_yeshiva']/taz_2020_catalog['aprt_20']"
   ]
  },
  {
   "cell_type": "code",
   "execution_count": 18,
   "id": "a8a94092",
   "metadata": {
    "hidden": true
   },
   "outputs": [],
   "source": [
    "for y1,sy,y_b, in zip(only_years, singal_year,y_before):\n",
    "    taz_2020_catalog.loc[(taz_2020_catalog['age_cycle_{}'.format(y1)]==taz_2020_catalog['age_cycle_{}'.format(y_b)])&(taz_2020_catalog['age_cycle_{}'.format(y1)]==3),'hh_size_{}'.format(y1)]=taz_2020_catalog['hh_size_{}'.format(y_b)]\n",
    "    taz_2020_catalog.loc[(taz_2020_catalog['age_cycle_{}'.format(y1)]==taz_2020_catalog['age_cycle_{}'.format(y_b)])&(taz_2020_catalog['age_cycle_{}'.format(y1)]==3),'hh_size_{}'.format(y1)]=taz_2020_catalog['hh_size_{}'.format(y1)]+0.15"
   ]
  },
  {
   "cell_type": "code",
   "execution_count": 19,
   "id": "6899f257",
   "metadata": {
    "hidden": true
   },
   "outputs": [],
   "source": [
    "col_age=[ 'pop_0',\n",
    " 'pop_10',\n",
    " 'pop_15',\n",
    " 'pop_20',\n",
    " 'pop_25',\n",
    " 'pop_30',\n",
    " 'pop_35',\n",
    " 'pop_40',\n",
    " 'pop_45',\n",
    " 'pop_5',\n",
    " 'pop_50',\n",
    " 'pop_55',\n",
    " 'pop_60',\n",
    " 'pop_65',\n",
    " 'pop_70',\n",
    " 'pop_75up']"
   ]
  },
  {
   "cell_type": "code",
   "execution_count": 20,
   "id": "b6e47829",
   "metadata": {
    "hidden": true
   },
   "outputs": [],
   "source": [
    "for y1,sy,y_b, in zip(only_years, singal_year,y_before):\n",
    "    \n",
    "    col_taz=['Taz_num','current_aprt_{}'.format(y1),'explanation_{}'.format(y1),'age_cycle_{}'.format(y1),'hh_size_{}'.format(y1),'sector_for_age']\n",
    "    \n",
    "    left_col=['sector_for_age','age_cycle_{}'.format(y1)]\n",
    "    right_col=['sector','age_cycle']\n",
    "\n",
    "    df=taz_2020_catalog.reset_index()[col_taz].merge(age_catalog,left_on=left_col,right_on=right_col,how='left').set_index('Taz_num')\n",
    "\n",
    "    df['pop']=df['current_aprt_{}'.format(y1)]*df['hh_size_{}'.format(y1)]\n",
    "    df.loc[df['hh_size_{}'.format(y1)].isna(),'pop']=df['current_aprt_{}'.format(y1)]*df['hh_size']\n",
    "        \n",
    "    df['pop_{}'.format(sy)]=df['pop']\n",
    "    \n",
    "    df['aprt_{}'.format(sy)]=df['current_aprt_{}'.format(y1)]\n",
    "    \n",
    "    df[col_age]=df[col_age].multiply(df['pop'], axis=\"index\")    \n",
    "    \n",
    "    file_save=r'{}\\Intermediates'.format(cwd)\n",
    "\n",
    "    save_excel_path=r'{}\\{}_forecast_pop_jewish_{}_iplan.xlsx'.format(file_save,file_date,y1)\n",
    "    \n",
    "    df.to_excel(save_excel_path,index=True)\n",
    "    \n",
    "    taz_2020_catalog=taz_2020_catalog.join(df[['pop_{}'.format(sy),'aprt_{}'.format(sy)]])"
   ]
  }
 ],
 "metadata": {
  "kernelspec": {
   "display_name": "Python 3 (ipykernel)",
   "language": "python",
   "name": "python3"
  },
  "language_info": {
   "codemirror_mode": {
    "name": "ipython",
    "version": 3
   },
   "file_extension": ".py",
   "mimetype": "text/x-python",
   "name": "python",
   "nbconvert_exporter": "python",
   "pygments_lexer": "ipython3",
   "version": "3.11.5"
  },
  "toc": {
   "base_numbering": 1,
   "nav_menu": {},
   "number_sections": true,
   "sideBar": true,
   "skip_h1_title": false,
   "title_cell": "Table of Contents",
   "title_sidebar": "Contents",
   "toc_cell": false,
   "toc_position": {},
   "toc_section_display": true,
   "toc_window_display": true
  }
 },
 "nbformat": 4,
 "nbformat_minor": 5
}
