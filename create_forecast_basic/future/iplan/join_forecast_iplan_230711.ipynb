{
 "cells": [
  {
   "cell_type": "markdown",
   "id": "0e7214ba",
   "metadata": {
    "heading_collapsed": true
   },
   "source": [
    "## קוד מבוא"
   ]
  },
  {
   "cell_type": "markdown",
   "id": "4497595f",
   "metadata": {},
   "source": [
    "#### ספריות"
   ]
  },
  {
   "cell_type": "code",
   "execution_count": 1,
   "id": "f8405d52",
   "metadata": {
    "hidden": true
   },
   "outputs": [],
   "source": [
    "import os\n",
    "import sys\n",
    "import pathlib\n",
    "import pandas as pd"
   ]
  },
  {
   "cell_type": "code",
   "execution_count": 2,
   "id": "2dacbc13",
   "metadata": {
    "hidden": true
   },
   "outputs": [],
   "source": [
    "pd.set_option('display.max_rows', None)\n",
    "pd.set_option('display.max_columns', None)"
   ]
  },
  {
   "cell_type": "markdown",
   "id": "c51f3442",
   "metadata": {},
   "source": [
    "#### העלאת משתנים להרצת הקוד"
   ]
  },
  {
   "cell_type": "code",
   "execution_count": 3,
   "id": "224c1a58",
   "metadata": {},
   "outputs": [],
   "source": [
    "df_inputs_outputs = pd.read_excel('inputs_outputs.xlsx')\n",
    "\n",
    "software_data_folder_location=df_inputs_outputs['location'][0]\n",
    "\n",
    "forecast_version_folder_location=df_inputs_outputs['location'][1]\n",
    "\n",
    "future_folder = os.path.dirname(software_data_folder_location)\n",
    "\n",
    "create_forecast_basic_software_location = os.path.dirname(future_folder)\n",
    "\n",
    "sys.path.append(future_folder)"
   ]
  },
  {
   "cell_type": "markdown",
   "id": "9624443e",
   "metadata": {
    "heading_collapsed": true
   },
   "source": [
    "## פונקציות"
   ]
  },
  {
   "cell_type": "markdown",
   "id": "f57e92bd",
   "metadata": {},
   "source": [
    "### פונקציות גלובליות"
   ]
  },
  {
   "cell_type": "code",
   "execution_count": 4,
   "id": "7ca0564c",
   "metadata": {},
   "outputs": [],
   "source": [
    "from global_functions import up_load_df, find_files_with_pattern, up_load_shp"
   ]
  },
  {
   "cell_type": "markdown",
   "id": "1319865e",
   "metadata": {},
   "source": [
    "##  העלאת טבלאות תחזית"
   ]
  },
  {
   "cell_type": "markdown",
   "id": "39f7521d",
   "metadata": {},
   "source": [
    "מצב קיים"
   ]
  },
  {
   "cell_type": "code",
   "execution_count": 5,
   "id": "6ecaf228",
   "metadata": {},
   "outputs": [],
   "source": [
    "matching_files=find_files_with_pattern(r'{}'.format(forecast_version_folder_location), '2020_jtmt_forcast_full')\n",
    "    \n",
    "file = pathlib.Path(matching_files[0])\n",
    "file_name = file.name\n",
    "    \n",
    "forecast_2020=up_load_df(forecast_version_folder_location, file_name[:-5])"
   ]
  },
  {
   "cell_type": "markdown",
   "id": "42015a4f",
   "metadata": {},
   "source": [
    "מצב עתידי כל שנה"
   ]
  },
  {
   "cell_type": "code",
   "execution_count": 6,
   "id": "e98d7369",
   "metadata": {},
   "outputs": [],
   "source": [
    "file_date=pd.Timestamp.today().strftime('%y%m%d')\n",
    "\n",
    "matching_files=find_files_with_pattern(r'{}\\Intermediates'.format(software_data_folder_location), '_pop_2040_iplan')\n",
    "file = pathlib.Path(matching_files[0])\n",
    "v_date = file.name[:6]\n",
    "\n",
    "year=['2025','2030','2035','2040','2045','2050']\n",
    "\n",
    "for y in year: \n",
    "    folder_path=r'{}\\Intermediates'.format(software_data_folder_location)\n",
    "    file_name='{}_forecast_{}_full'.format(v_date,y)\n",
    "\n",
    "    locals()['forecast_{}'.format(y)]=up_load_df(folder_path,file_name)"
   ]
  },
  {
   "cell_type": "code",
   "execution_count": 7,
   "id": "6c1a7a36",
   "metadata": {},
   "outputs": [],
   "source": [
    "col_2050=['Taz_num','student_yeshiva',\n",
    " 'student',\n",
    " 'uni_students','aprt',\n",
    " 'pop_without_dorms_yeshiva','emp_Education','emp_okev', 'emp_not_okev',\n",
    " 'total_emp',\n",
    " 'agri',\n",
    " 'Indus',\n",
    " 'Com_hotel',\n",
    " 'Business',\n",
    " 'Public']"
   ]
  },
  {
   "cell_type": "code",
   "execution_count": 8,
   "id": "7c21453b",
   "metadata": {},
   "outputs": [],
   "source": [
    "col_2020=['Taz_num',\n",
    " 'aprt_20','pop_without_dorms_yeshiva','student',\n",
    " 'uni_students',\n",
    " 'student_yeshiva','total_emp','emp_okev',\n",
    " 'emp_not_okev','emp_Education',\n",
    " 'agri',\n",
    " 'Indus',\n",
    " 'Com_hotel',\n",
    " 'Business',\n",
    " 'Public']"
   ]
  },
  {
   "cell_type": "markdown",
   "id": "8db7d302",
   "metadata": {},
   "source": [
    "שכבת אזורי תנועה"
   ]
  },
  {
   "cell_type": "code",
   "execution_count": 9,
   "id": "5007662d",
   "metadata": {},
   "outputs": [],
   "source": [
    "# shp=up_load_shp(r'{}\\background_files\\TAZ_V4_230518_Published.shp'.format(software_data_folder_location))\n",
    "\n",
    "taz=up_load_shp(r'{}\\background_files\\TAZ_V4_240404_with_geo_info.shp'.format(create_forecast_basic_software_location))\n",
    "\n",
    "folder_path=r'{}\\background_files'.format(software_data_folder_location)\n",
    "\n",
    "taz_sector_change=up_load_df(folder_path,'230704_taz_num_convert_from_jewish_to_u_orthodox')\n",
    "\n",
    "lst_change_sector=list(taz_sector_change.Taz_num)\n",
    "\n",
    "shp.loc[(shp['Taz_num'].isin(lst_change_sector))&(shp['zonetype']=='Judea and Samaria'),'main_secto']='U_Orthodox'\n",
    "\n",
    "col_taz=['Taz_num',\n",
    " 'Taz_name',\n",
    " 'main_secto',\n",
    " 'Muni_Heb',\n",
    " 'jeru_metro',\n",
    " 'zonetype',\n",
    " 'in_jerusal',\n",
    " 'SCHN_NAME',]"
   ]
  },
  {
   "cell_type": "markdown",
   "id": "d4f70fab",
   "metadata": {},
   "source": [
    "חיבור הכל"
   ]
  },
  {
   "cell_type": "code",
   "execution_count": 10,
   "id": "0ee2e7c8",
   "metadata": {},
   "outputs": [],
   "source": [
    "df=shp[col_taz].merge(forecast_2020[col_2020],on='Taz_num',how='left')"
   ]
  },
  {
   "cell_type": "markdown",
   "id": "ef278900",
   "metadata": {},
   "source": [
    "שלב ראשון קיצרתי את השמות שלהם"
   ]
  },
  {
   "cell_type": "code",
   "execution_count": 11,
   "id": "de25a511",
   "metadata": {},
   "outputs": [],
   "source": [
    "for y in year: \n",
    "    locals()['forecast_{}'.format(y)]=locals()['forecast_{}'.format(y)][col_2050]"
   ]
  },
  {
   "cell_type": "markdown",
   "id": "bb45983c",
   "metadata": {},
   "source": [
    "שלב שני לייצר לכל שנה רשימה חדשה של שמות השדות שלו עם שינוי"
   ]
  },
  {
   "cell_type": "code",
   "execution_count": 12,
   "id": "250e768b",
   "metadata": {
    "code_folding": [
     1
    ]
   },
   "outputs": [],
   "source": [
    "for y in year: \n",
    "    col=['student_yeshiva',\n",
    "         'student',\n",
    "         'uni_students','aprt',\n",
    "         'pop_without_dorms_yeshiva','emp_Education','emp_okev', 'emp_not_okev',\n",
    "         'total_emp',\n",
    "         'agri',\n",
    "         'Indus',\n",
    "         'Com_hotel',\n",
    "         'Business',\n",
    "         'Public']\n",
    "    \n",
    "    x=[]\n",
    "    \n",
    "    for i in col: x=x+[i+'_{}'.format(y)]\n",
    "        \n",
    "    x=['Taz_num']+x\n",
    "    \n",
    "    locals()['col_{}'.format(y)]=x"
   ]
  },
  {
   "cell_type": "markdown",
   "id": "350bb6b8",
   "metadata": {},
   "source": [
    "שלב שלישי לקחת את השמות החדשים ולשנות את העמודות של כל אחד"
   ]
  },
  {
   "cell_type": "code",
   "execution_count": 13,
   "id": "18a5e225",
   "metadata": {},
   "outputs": [],
   "source": [
    "for y in year: \n",
    "    locals()['forecast_{}'.format(y)].columns=locals()['col_{}'.format(y)]"
   ]
  },
  {
   "cell_type": "markdown",
   "id": "03acd0d6",
   "metadata": {},
   "source": [
    "שלב אחרון לחבר את כולם אל הקיים"
   ]
  },
  {
   "cell_type": "code",
   "execution_count": 14,
   "id": "39d1a4a4",
   "metadata": {},
   "outputs": [],
   "source": [
    "for y in year: \n",
    "    df=df.merge(locals()['forecast_{}'.format(y)],on='Taz_num',how='left')"
   ]
  },
  {
   "cell_type": "markdown",
   "id": "85701ba5",
   "metadata": {},
   "source": [
    "x='Public'\n",
    "my_list = [x]\n",
    "start_year = 2025\n",
    "end_year = 2050\n",
    "step = 5\n",
    "\n",
    "for year in range(start_year, end_year + 1, step):\n",
    "    text = x +'_'+ str(year)\n",
    "    my_list.append(text)\n",
    "\n",
    "print(my_list)\n"
   ]
  },
  {
   "cell_type": "code",
   "execution_count": 15,
   "id": "42deb8c1",
   "metadata": {
    "code_folding": [
     0
    ]
   },
   "outputs": [],
   "source": [
    "col_order=['zonetype',\n",
    " 'jeru_metro',\n",
    " 'Muni_Heb',\n",
    " 'main_secto',\n",
    " 'in_jerusal',\n",
    " 'SCHN_NAME',\n",
    " 'Taz_num',\n",
    " 'Taz_name',\n",
    " 'aprt_20',\n",
    " 'aprt_2025',\n",
    " 'aprt_2030',\n",
    " 'aprt_2035',\n",
    " 'aprt_2040',\n",
    " 'aprt_2045',\n",
    " 'aprt_2050',\n",
    " 'pop_without_dorms_yeshiva',\n",
    " 'pop_without_dorms_yeshiva_2025',\n",
    " 'pop_without_dorms_yeshiva_2030',\n",
    " 'pop_without_dorms_yeshiva_2035',\n",
    " 'pop_without_dorms_yeshiva_2040',\n",
    " 'pop_without_dorms_yeshiva_2045',\n",
    " 'pop_without_dorms_yeshiva_2050',\n",
    " 'student',\n",
    " 'student_2025',\n",
    " 'student_2030',\n",
    " 'student_2035',\n",
    " 'student_2040',\n",
    " 'student_2045',\n",
    " 'student_2050',\n",
    " 'uni_students',\n",
    " 'uni_students_2025',\n",
    " 'uni_students_2030',\n",
    " 'uni_students_2035',\n",
    " 'uni_students_2040',\n",
    " 'uni_students_2045',\n",
    " 'uni_students_2050',\n",
    " 'student_yeshiva',\n",
    " 'student_yeshiva_2025',\n",
    " 'student_yeshiva_2030',\n",
    " 'student_yeshiva_2035',\n",
    " 'student_yeshiva_2040',\n",
    " 'student_yeshiva_2045',\n",
    " 'student_yeshiva_2050',\n",
    " 'total_emp',\n",
    " 'total_emp_2025',\n",
    " 'total_emp_2030',\n",
    " 'total_emp_2035',\n",
    " 'total_emp_2040',\n",
    " 'total_emp_2045',\n",
    " 'total_emp_2050',\n",
    " 'emp_okev',\n",
    " 'emp_okev_2025',\n",
    " 'emp_okev_2030',\n",
    " 'emp_okev_2035',\n",
    " 'emp_okev_2040',\n",
    " 'emp_okev_2045',\n",
    " 'emp_okev_2050',\n",
    " 'emp_not_okev',\n",
    " 'emp_not_okev_2025',\n",
    " 'emp_not_okev_2030',\n",
    " 'emp_not_okev_2035',\n",
    " 'emp_not_okev_2040',\n",
    " 'emp_not_okev_2045',\n",
    " 'emp_not_okev_2050',\n",
    " 'emp_Education',\n",
    " 'emp_Education_2025',\n",
    " 'emp_Education_2030',\n",
    " 'emp_Education_2035',\n",
    " 'emp_Education_2040',\n",
    " 'emp_Education_2045',\n",
    " 'emp_Education_2050',\n",
    " 'agri',\n",
    " 'agri_2025',\n",
    " 'agri_2030',\n",
    " 'agri_2035',\n",
    " 'agri_2040',\n",
    " 'agri_2045',\n",
    " 'agri_2050',\n",
    " 'Indus',\n",
    " 'Indus_2025',\n",
    " 'Indus_2030',\n",
    " 'Indus_2035',\n",
    " 'Indus_2040',\n",
    " 'Indus_2045',\n",
    " 'Indus_2050',\n",
    " 'Com_hotel',\n",
    " 'Com_hotel_2025',\n",
    " 'Com_hotel_2030',\n",
    " 'Com_hotel_2035',\n",
    " 'Com_hotel_2040',\n",
    " 'Com_hotel_2045',\n",
    " 'Com_hotel_2050',\n",
    " 'Business',\n",
    " 'Business_2025',\n",
    " 'Business_2030',\n",
    " 'Business_2035',\n",
    " 'Business_2040',\n",
    " 'Business_2045',\n",
    " 'Business_2050',\n",
    " 'Public',\n",
    " 'Public_2025',\n",
    " 'Public_2030',\n",
    " 'Public_2035',\n",
    " 'Public_2040',\n",
    " 'Public_2045',\n",
    " 'Public_2050']"
   ]
  },
  {
   "cell_type": "code",
   "execution_count": 16,
   "id": "c9a1fe93",
   "metadata": {},
   "outputs": [],
   "source": [
    "save_file_path=r'{}'.format(forecast_version_folder_location)\n",
    "\n",
    "save_excel_path=r'{}\\{}_forecast_2020_till_2050_iplan.xlsx'.format(save_file_path,file_date)\n",
    "\n",
    "df[col_order].to_excel(save_excel_path,index=False)"
   ]
  }
 ],
 "metadata": {
  "kernelspec": {
   "display_name": "Python 3 (ipykernel)",
   "language": "python",
   "name": "python3"
  },
  "language_info": {
   "codemirror_mode": {
    "name": "ipython",
    "version": 3
   },
   "file_extension": ".py",
   "mimetype": "text/x-python",
   "name": "python",
   "nbconvert_exporter": "python",
   "pygments_lexer": "ipython3",
   "version": "3.11.5"
  },
  "toc": {
   "base_numbering": 1,
   "nav_menu": {},
   "number_sections": true,
   "sideBar": true,
   "skip_h1_title": false,
   "title_cell": "Table of Contents",
   "title_sidebar": "Contents",
   "toc_cell": false,
   "toc_position": {},
   "toc_section_display": true,
   "toc_window_display": true
  }
 },
 "nbformat": 4,
 "nbformat_minor": 5
}
