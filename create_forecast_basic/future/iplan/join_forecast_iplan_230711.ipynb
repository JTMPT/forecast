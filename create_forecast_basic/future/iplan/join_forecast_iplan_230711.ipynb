{
 "cells": [
  {
   "cell_type": "markdown",
   "id": "0e7214ba",
   "metadata": {
    "heading_collapsed": true
   },
   "source": [
    "## קוד מבוא"
   ]
  },
  {
   "cell_type": "code",
   "execution_count": 1,
   "id": "f8405d52",
   "metadata": {
    "hidden": true
   },
   "outputs": [],
   "source": [
    "import pandas as pd\n",
    "import geopandas as gpd\n",
    "import numpy as np\n",
    "from shapely import wkt\n",
    "from matplotlib import pyplot as plt \n",
    "import contextily as cx\n",
    "import folium\n",
    "import fiona\n",
    "from mpl_toolkits.axes_grid1 import make_axes_locatable\n",
    "from shapely.geometry import Point\n",
    "import adjustText as aT"
   ]
  },
  {
   "cell_type": "code",
   "execution_count": 2,
   "id": "2dacbc13",
   "metadata": {
    "hidden": true
   },
   "outputs": [],
   "source": [
    "pd.set_option('display.max_rows', None)\n",
    "pd.set_option('display.max_columns', None)"
   ]
  },
  {
   "cell_type": "markdown",
   "id": "9624443e",
   "metadata": {
    "heading_collapsed": true
   },
   "source": [
    "## פונקציות"
   ]
  },
  {
   "cell_type": "code",
   "execution_count": 3,
   "id": "d69c42ff",
   "metadata": {
    "hidden": true
   },
   "outputs": [],
   "source": [
    "def double_taz_num(df):\n",
    "    dup_taz_num=df.groupby(['Taz_num']).size().reset_index(name='count').query('count>1').Taz_num.to_list()\n",
    "    return df.loc[df['Taz_num'].isin(dup_taz_num)]"
   ]
  },
  {
   "cell_type": "code",
   "execution_count": 4,
   "id": "d048994a",
   "metadata": {
    "hidden": true
   },
   "outputs": [],
   "source": [
    "def make_point(df):\n",
    "    df_point=df.copy()\n",
    "    df_point['centroid'] = df_point.representative_point()\n",
    "    df_point=df_point.set_geometry('centroid')\n",
    "    df_point=df_point.drop(columns=['geometry'],axis=1)\n",
    "    return df_point"
   ]
  },
  {
   "cell_type": "code",
   "execution_count": 5,
   "id": "86bf5cad",
   "metadata": {
    "hidden": true
   },
   "outputs": [],
   "source": [
    "def up_load_gdb(path,layer_name):\n",
    "    path='{}'.format(path)\n",
    "    layer_list=fiona.listlayers(path)\n",
    "    gpd_layer=gpd.read_file(path, layer=layer_list.index(layer_name))\n",
    "    return gpd_layer"
   ]
  },
  {
   "cell_type": "code",
   "execution_count": 6,
   "id": "6acc6aa7",
   "metadata": {
    "hidden": true
   },
   "outputs": [],
   "source": [
    "def up_load_shp(path):\n",
    "    path='{}'.format(path)\n",
    "    gpd_layer=gpd.read_file(path)\n",
    "    return gpd_layer"
   ]
  },
  {
   "cell_type": "code",
   "execution_count": 7,
   "id": "cb093800",
   "metadata": {
    "hidden": true
   },
   "outputs": [],
   "source": [
    "def unique_id_in_one_taz(df_to_geoode,unique_field,gpd_for_geocode,taz):\n",
    "    \n",
    "    code_to_find=list(df_to_geoode[unique_field].unique())\n",
    "\n",
    "    gpd_for_geocode_to_sum_by_taz=gpd_for_geocode[[unique_field,'geometry']].loc[gpd_for_geocode[unique_field].isin(code_to_find)]\n",
    "\n",
    "    gpd_for_geocode_to_sum_by_taz=gpd.sjoin(taz[['Taz_num','geometry']],gpd_for_geocode_to_sum_by_taz)\n",
    "\n",
    "    gpd_for_geocode_in_one_taz=list(gpd_for_geocode_to_sum_by_taz.groupby(unique_field)[['Taz_num']].nunique().query('Taz_num==1').reset_index()[unique_field])\n",
    "\n",
    "    return gpd_for_geocode_in_one_taz"
   ]
  },
  {
   "cell_type": "code",
   "execution_count": 8,
   "id": "b1a16060",
   "metadata": {
    "hidden": true
   },
   "outputs": [],
   "source": [
    "def up_load_df(folder_path,file_name):\n",
    "    \n",
    "    path_df=r'{}\\{}.xlsx'.format(folder_path,file_name)\n",
    "    df=pd.read_excel(path_df)\n",
    "    df=df.dropna(how='all')\n",
    "\n",
    "    return df\n"
   ]
  },
  {
   "cell_type": "code",
   "execution_count": 9,
   "id": "3b59de81",
   "metadata": {
    "hidden": true
   },
   "outputs": [],
   "source": [
    "def logic_test_for_forecast(taz):\n",
    "    \n",
    "    \n",
    "    print ('taz num under 0:',list(taz.loc[taz['TAZ']<=0]['TAZ']))\n",
    "    \n",
    "    print ('taz num duplicate:',list(taz.loc[taz.duplicated(subset='TAZ',keep=False)]['TAZ']))\n",
    "    \n",
    "    print ('yosh_unique:',list(taz.yosh.unique()))\n",
    "    \n",
    "    print ('in_jerusalem_metropolin_unique:',list(taz.in_jerusalem_metropolin.unique()))\n",
    "    \n",
    "    print ('jerusalem_city_unique:',list(taz.jerusalem_city.unique()))\n",
    "    \n",
    "    print ('sector_unique:',list(taz.sector.unique()))\n",
    "    \n",
    "\n",
    "\n",
    "    col=['hh_total',\n",
    "    'pop',\n",
    "    'age0_4',\n",
    "    'age5_9',\n",
    "    'age10_14',\n",
    "    'age15_19',\n",
    "    'age20_24',\n",
    "    'age25_29',\n",
    "    'age30_34',\n",
    "    'age35_39',\n",
    "    'age40_44',\n",
    "    'age45_49',\n",
    "    'age50_54',\n",
    "    'age55_59',\n",
    "    'age60_64',\n",
    "    'age65_69',\n",
    "    'age70_74',\n",
    "    'age75up',\n",
    "    'emp_tot',\n",
    "    'indus',\n",
    "    'com_hotel',\n",
    "    'business',\n",
    "    'public',\n",
    "    'education',\n",
    "    'agri',\n",
    "    'student',\n",
    "    'univ',\n",
    "    'UO_Hi_Ed',\n",
    "    'pop_emp_employed']\n",
    "\n",
    "    taz_to_check_minus=[]\n",
    "    col_to_check_minus=[]\n",
    "    for i in col:\n",
    "        taz_to_check_minus=taz_to_check_minus+list(taz.loc[taz['{}'.format(i)]<0]['TAZ'])\n",
    "    \n",
    "    \n",
    "    print ('taz num with minus:',list(set(taz_to_check_minus)))\n",
    "    \n",
    "    print ('pop more then hh:',list(taz.loc[taz['sector']!=\"Palestinian\"].loc[~(taz['hh_total']<=taz['pop'])]['TAZ']))\n",
    "    \n",
    "    print ('hh missing pop:',list(taz.loc[taz['sector']!=\"Palestinian\"].loc[taz['hh_total']>0].loc[taz['pop']<=0]['TAZ']))\n",
    "    \n",
    "    print ('pop missing hh:',list(taz.loc[taz['sector']!=\"Palestinian\"].loc[taz['pop']>0].loc[taz['hh_total']<=0]['TAZ']))\n",
    "\n",
    "\n",
    "\n",
    "    col=['age0_4',\n",
    "    'age5_9',\n",
    "    'age10_14',\n",
    "    'age15_19',\n",
    "    'age20_24',\n",
    "    'age25_29',\n",
    "    'age30_34',\n",
    "    'age35_39',\n",
    "    'age40_44',\n",
    "    'age45_49',\n",
    "    'age50_54',\n",
    "    'age55_59',\n",
    "    'age60_64',\n",
    "    'age65_69',\n",
    "    'age70_74',\n",
    "    'age75up',]\n",
    "\n",
    "    taz['pop_check']=taz[col].sum(axis=1)-taz['pop']\n",
    "    \n",
    "    taz['pop_check']=taz['pop_check'].round(0)\n",
    "    \n",
    "    print ('pop vs age dis Mistake:',list(taz.loc[taz['sector']!=\"Palestinian\"].loc[taz['pop_check']!=0]['TAZ']))   \n",
    "\n",
    "    \n",
    "\n",
    "    col=[\n",
    "    'age0_4',\n",
    "    'age5_9',\n",
    "    'age10_14',\n",
    "    'age15_19',\n",
    "    'age20_24',\n",
    "    'age25_29',\n",
    "    'age30_34',\n",
    "    'age35_39',\n",
    "    'age40_44',\n",
    "    'age45_49',\n",
    "    'age50_54',\n",
    "    'age55_59',\n",
    "    'age60_64',\n",
    "    'age65_69',\n",
    "    'age70_74',\n",
    "    'age75up']\n",
    "\n",
    "    taz_to_check_for_age=[]\n",
    "    for i in col:\n",
    "        taz_to_check_for_age=taz_to_check_for_age+list(taz.loc[taz['{}'.format(i)]>0].loc[taz['pop']<=0]['TAZ'])\n",
    "        taz_to_check_for_age=taz_to_check_for_age+list(taz.loc[taz['{}'.format(i)]>0].loc[taz['hh_total']<=0]['TAZ'])\n",
    "        \n",
    "    print ('taz num with age dis prob:',taz_to_check_for_age)\n",
    "\n",
    "    col=['indus',\n",
    "    'com_hotel',\n",
    "    'business',\n",
    "    'public',\n",
    "    'education',\n",
    "    'agri']\n",
    "\n",
    "    taz['emp_check']=taz[col].sum(axis=1)-taz['emp_tot']\n",
    "    taz['emp_check']=abs(taz['emp_check'].round(0))\n",
    "    \n",
    "    taz_prob_emp_total=list(taz.loc[taz['emp_check']>1]['TAZ'])\n",
    "    \n",
    "    print ('taz num with emp total prob:',taz_prob_emp_total)\n",
    "\n",
    "    \n",
    "\n",
    "    taz_to_check_for_split_emp=[]\n",
    "    \n",
    "    for i in col:\n",
    "        taz_to_check_for_split_emp=taz_to_check_for_split_emp+list(taz.loc[taz['{}'.format(i)]>0].loc[taz['emp_tot']<=0]['TAZ'])\n",
    "\n",
    "        \n",
    "    print ('taz num with emp dis prob:',taz_to_check_for_split_emp)\n",
    "    \n",
    "\n",
    "    print ('taz num with pop_emp_employed worng :',list(taz.loc[taz['sector']!=\"Palestinian\"].loc[taz['pop_emp_employed']>0].loc[taz['pop']<=0]['TAZ']))\n",
    "    \n",
    "    return"
   ]
  },
  {
   "cell_type": "markdown",
   "id": "1319865e",
   "metadata": {},
   "source": [
    "##  העלת טבלאות תחזית"
   ]
  },
  {
   "cell_type": "markdown",
   "id": "39f7521d",
   "metadata": {},
   "source": [
    "מצב קיים"
   ]
  },
  {
   "cell_type": "code",
   "execution_count": 10,
   "id": "6ecaf228",
   "metadata": {},
   "outputs": [],
   "source": [
    "folder_path=r'\\\\FILE-SRV\\Jtmt\\projections_team\\כללי\\פעולות\\יצירת_מצב_קיים_למס\\output'\n",
    "    \n",
    "file_name='2020_jtmt_forcast_full_230720'\n",
    "\n",
    "forecast_2020=up_load_df(folder_path,file_name)"
   ]
  },
  {
   "cell_type": "markdown",
   "id": "42015a4f",
   "metadata": {},
   "source": [
    "מצב עתידי כל שנה"
   ]
  },
  {
   "cell_type": "code",
   "execution_count": 11,
   "id": "e98d7369",
   "metadata": {},
   "outputs": [],
   "source": [
    "file_date=pd.Timestamp.today().strftime('%y%m%d')\n",
    "\n",
    "v_date='230720'\n",
    "\n",
    "year=['2025','2030','2035','2040','2045','2050']\n",
    "\n",
    "for y in year: \n",
    "    \n",
    "  \n",
    "    folder_path=r'W:\\Projects\\הסעת המונים\\01_שלב ה\\קבצי עבודה\\תחזיות_דמוגרפיות\\תחזיות_2050\\iplan\\join_forecast'\n",
    "\n",
    "    file_name='{}_forecast_{}_full'.format(v_date,y)\n",
    "\n",
    "    locals()['forecast_{}'.format(y)]=up_load_df(folder_path,file_name)"
   ]
  },
  {
   "cell_type": "code",
   "execution_count": 12,
   "id": "6c1a7a36",
   "metadata": {},
   "outputs": [],
   "source": [
    "col_2050=['Taz_num','student_yeshiva',\n",
    " 'student',\n",
    " 'uni_students','aprt',\n",
    " 'pop_without_dorms_yeshiva','emp_Education','emp_okev', 'emp_not_okev',\n",
    " 'total_emp',\n",
    " 'agri',\n",
    " 'Indus',\n",
    " 'Com_hotel',\n",
    " 'Business',\n",
    " 'Public']"
   ]
  },
  {
   "cell_type": "code",
   "execution_count": 13,
   "id": "7c21453b",
   "metadata": {},
   "outputs": [],
   "source": [
    "col_2020=['Taz_num',\n",
    " 'aprt_20','pop_without_dorms_yeshiva','student',\n",
    " 'uni_students',\n",
    " 'student_yeshiva','total_emp','emp_okev',\n",
    " 'emp_not_okev','emp_Education',\n",
    " 'agri',\n",
    " 'Indus',\n",
    " 'Com_hotel',\n",
    " 'Business',\n",
    " 'Public']"
   ]
  },
  {
   "cell_type": "markdown",
   "id": "8db7d302",
   "metadata": {},
   "source": [
    "שכבת אזורי תנועה"
   ]
  },
  {
   "cell_type": "code",
   "execution_count": 14,
   "id": "5007662d",
   "metadata": {},
   "outputs": [],
   "source": [
    "\n",
    "shp=up_load_shp(r'W:\\Model Versions\\4.0\\TAZ\\TAZ_V4_230518_Published.shp')\n",
    "\n",
    "folder_path=r'W:\\Projects\\הסעת המונים\\01_שלב ה\\קבצי עבודה\\תחזיות_דמוגרפיות\\תרחישי_מלל\\מרכיבי_תחזית'\n",
    "\n",
    "taz_sector_change=up_load_df(folder_path,'230704_taz_num_convert_from_jewish_to_u_orthodox')\n",
    "\n",
    "lst_change_sector=list(taz_sector_change.Taz_num)\n",
    "\n",
    "\n",
    "shp.loc[(shp['Taz_num'].isin(lst_change_sector))&(shp['zonetype']=='Judea and Samaria'),'main_secto']='U_Orthodox'\n",
    "\n",
    "col_taz=['Taz_num',\n",
    " 'Taz_name',\n",
    " 'main_secto',\n",
    " 'Muni_Heb',\n",
    " 'jeru_metro',\n",
    " 'zonetype',\n",
    " 'in_jerusal',\n",
    " 'SCHN_NAME',]\n"
   ]
  },
  {
   "cell_type": "markdown",
   "id": "d4f70fab",
   "metadata": {},
   "source": [
    "חיבור הכל"
   ]
  },
  {
   "cell_type": "code",
   "execution_count": 15,
   "id": "0ee2e7c8",
   "metadata": {},
   "outputs": [],
   "source": [
    "df=shp[col_taz].merge(forecast_2020[col_2020],on='Taz_num',how='left')"
   ]
  },
  {
   "cell_type": "markdown",
   "id": "ef278900",
   "metadata": {},
   "source": [
    "שלב ראשון קיצרתי את השמות שלהם"
   ]
  },
  {
   "cell_type": "code",
   "execution_count": 16,
   "id": "de25a511",
   "metadata": {},
   "outputs": [],
   "source": [
    "for y in year: \n",
    "    \n",
    "    locals()['forecast_{}'.format(y)]=locals()['forecast_{}'.format(y)][col_2050]"
   ]
  },
  {
   "cell_type": "markdown",
   "id": "bb45983c",
   "metadata": {},
   "source": [
    "שלב שני לייצר לכל שנה רשימה חדשה של שמות השדות שלו עם שינוי"
   ]
  },
  {
   "cell_type": "code",
   "execution_count": 17,
   "id": "250e768b",
   "metadata": {
    "code_folding": [
     1
    ]
   },
   "outputs": [],
   "source": [
    "for y in year: \n",
    "    col=['student_yeshiva',\n",
    "         'student',\n",
    "         'uni_students','aprt',\n",
    "         'pop_without_dorms_yeshiva','emp_Education','emp_okev', 'emp_not_okev',\n",
    "         'total_emp',\n",
    "         'agri',\n",
    "         'Indus',\n",
    "         'Com_hotel',\n",
    "         'Business',\n",
    "         'Public']\n",
    "    \n",
    "    x=[]\n",
    "    \n",
    "    for i in col: x=x+[i+'_{}'.format(y)]\n",
    "        \n",
    "    x=['Taz_num']+x\n",
    "    \n",
    "    locals()['col_{}'.format(y)]=x"
   ]
  },
  {
   "cell_type": "markdown",
   "id": "350bb6b8",
   "metadata": {},
   "source": [
    "שלב שלישי לקחת את השמות החדשים ולשנות את העמודות של כל אחד"
   ]
  },
  {
   "cell_type": "code",
   "execution_count": 18,
   "id": "18a5e225",
   "metadata": {},
   "outputs": [],
   "source": [
    "for y in year: \n",
    "    \n",
    "    locals()['forecast_{}'.format(y)].columns=locals()['col_{}'.format(y)]"
   ]
  },
  {
   "cell_type": "markdown",
   "id": "03acd0d6",
   "metadata": {},
   "source": [
    "שלב אחרון לחבר את כולם אל הקיים"
   ]
  },
  {
   "cell_type": "code",
   "execution_count": 19,
   "id": "39d1a4a4",
   "metadata": {},
   "outputs": [],
   "source": [
    "for y in year: \n",
    "    df=df.merge(locals()['forecast_{}'.format(y)],on='Taz_num',how='left')\n",
    "    "
   ]
  },
  {
   "cell_type": "markdown",
   "id": "85701ba5",
   "metadata": {},
   "source": [
    "x='Public'\n",
    "my_list = [x]\n",
    "start_year = 2025\n",
    "end_year = 2050\n",
    "step = 5\n",
    "\n",
    "for year in range(start_year, end_year + 1, step):\n",
    "    text = x +'_'+ str(year)\n",
    "    my_list.append(text)\n",
    "\n",
    "print(my_list)\n"
   ]
  },
  {
   "cell_type": "code",
   "execution_count": 20,
   "id": "42deb8c1",
   "metadata": {
    "code_folding": [
     0
    ]
   },
   "outputs": [],
   "source": [
    "col_order=['zonetype',\n",
    " 'jeru_metro',\n",
    " 'Muni_Heb',\n",
    " 'main_secto',\n",
    " 'in_jerusal',\n",
    " 'SCHN_NAME',\n",
    " 'Taz_num',\n",
    " 'Taz_name',\n",
    " 'aprt_20',\n",
    " 'aprt_2025',\n",
    " 'aprt_2030',\n",
    " 'aprt_2035',\n",
    " 'aprt_2040',\n",
    " 'aprt_2045',\n",
    " 'aprt_2050',\n",
    " 'pop_without_dorms_yeshiva',\n",
    " 'pop_without_dorms_yeshiva_2025',\n",
    " 'pop_without_dorms_yeshiva_2030',\n",
    " 'pop_without_dorms_yeshiva_2035',\n",
    " 'pop_without_dorms_yeshiva_2040',\n",
    " 'pop_without_dorms_yeshiva_2045',\n",
    " 'pop_without_dorms_yeshiva_2050',\n",
    " 'student',\n",
    " 'student_2025',\n",
    " 'student_2030',\n",
    " 'student_2035',\n",
    " 'student_2040',\n",
    " 'student_2045',\n",
    " 'student_2050',\n",
    " 'uni_students',\n",
    " 'uni_students_2025',\n",
    " 'uni_students_2030',\n",
    " 'uni_students_2035',\n",
    " 'uni_students_2040',\n",
    " 'uni_students_2045',\n",
    " 'uni_students_2050',\n",
    " 'student_yeshiva',\n",
    " 'student_yeshiva_2025',\n",
    " 'student_yeshiva_2030',\n",
    " 'student_yeshiva_2035',\n",
    " 'student_yeshiva_2040',\n",
    " 'student_yeshiva_2045',\n",
    " 'student_yeshiva_2050',\n",
    " 'total_emp',\n",
    " 'total_emp_2025',\n",
    " 'total_emp_2030',\n",
    " 'total_emp_2035',\n",
    " 'total_emp_2040',\n",
    " 'total_emp_2045',\n",
    " 'total_emp_2050',\n",
    " 'emp_okev',\n",
    " 'emp_okev_2025',\n",
    " 'emp_okev_2030',\n",
    " 'emp_okev_2035',\n",
    " 'emp_okev_2040',\n",
    " 'emp_okev_2045',\n",
    " 'emp_okev_2050',\n",
    " 'emp_not_okev',\n",
    " 'emp_not_okev_2025',\n",
    " 'emp_not_okev_2030',\n",
    " 'emp_not_okev_2035',\n",
    " 'emp_not_okev_2040',\n",
    " 'emp_not_okev_2045',\n",
    " 'emp_not_okev_2050',\n",
    " 'emp_Education',\n",
    " 'emp_Education_2025',\n",
    " 'emp_Education_2030',\n",
    " 'emp_Education_2035',\n",
    " 'emp_Education_2040',\n",
    " 'emp_Education_2045',\n",
    " 'emp_Education_2050',\n",
    " 'agri',\n",
    " 'agri_2025',\n",
    " 'agri_2030',\n",
    " 'agri_2035',\n",
    " 'agri_2040',\n",
    " 'agri_2045',\n",
    " 'agri_2050',\n",
    " 'Indus',\n",
    " 'Indus_2025',\n",
    " 'Indus_2030',\n",
    " 'Indus_2035',\n",
    " 'Indus_2040',\n",
    " 'Indus_2045',\n",
    " 'Indus_2050',\n",
    " 'Com_hotel',\n",
    " 'Com_hotel_2025',\n",
    " 'Com_hotel_2030',\n",
    " 'Com_hotel_2035',\n",
    " 'Com_hotel_2040',\n",
    " 'Com_hotel_2045',\n",
    " 'Com_hotel_2050',\n",
    " 'Business',\n",
    " 'Business_2025',\n",
    " 'Business_2030',\n",
    " 'Business_2035',\n",
    " 'Business_2040',\n",
    " 'Business_2045',\n",
    " 'Business_2050',\n",
    " 'Public',\n",
    " 'Public_2025',\n",
    " 'Public_2030',\n",
    " 'Public_2035',\n",
    " 'Public_2040',\n",
    " 'Public_2045',\n",
    " 'Public_2050']\n"
   ]
  },
  {
   "cell_type": "code",
   "execution_count": 21,
   "id": "c9a1fe93",
   "metadata": {},
   "outputs": [],
   "source": [
    "save_file_path=r'W:\\Projects\\הסעת המונים\\01_שלב ה\\קבצי עבודה\\תחזיות_דמוגרפיות\\תחזיות_2050\\iplan\\join_forecast'\n",
    "\n",
    "save_excel_path=r'{}\\{}_forecast_2020_till_2050_iplan.xlsx'.format(save_file_path,file_date)\n",
    "\n",
    "df[col_order].to_excel(save_excel_path,index=False)"
   ]
  }
 ],
 "metadata": {
  "kernelspec": {
   "display_name": "Python 3 (ipykernel)",
   "language": "python",
   "name": "python3"
  },
  "language_info": {
   "codemirror_mode": {
    "name": "ipython",
    "version": 3
   },
   "file_extension": ".py",
   "mimetype": "text/x-python",
   "name": "python",
   "nbconvert_exporter": "python",
   "pygments_lexer": "ipython3",
   "version": "3.10.4"
  },
  "toc": {
   "base_numbering": 1,
   "nav_menu": {},
   "number_sections": true,
   "sideBar": true,
   "skip_h1_title": false,
   "title_cell": "Table of Contents",
   "title_sidebar": "Contents",
   "toc_cell": false,
   "toc_position": {},
   "toc_section_display": true,
   "toc_window_display": true
  }
 },
 "nbformat": 4,
 "nbformat_minor": 5
}
