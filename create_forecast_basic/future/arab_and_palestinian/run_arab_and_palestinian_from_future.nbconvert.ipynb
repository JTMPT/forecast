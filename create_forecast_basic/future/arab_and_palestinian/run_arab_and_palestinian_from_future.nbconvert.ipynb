{
 "cells": [
  {
   "cell_type": "code",
   "execution_count": 1,
   "metadata": {
    "execution": {
     "iopub.execute_input": "2024-03-19T09:23:21.338667Z",
     "iopub.status.busy": "2024-03-19T09:23:21.338667Z",
     "iopub.status.idle": "2024-03-19T09:23:26.321581Z",
     "shell.execute_reply": "2024-03-19T09:23:26.321581Z"
    }
   },
   "outputs": [
    {
     "name": "stderr",
     "output_type": "stream",
     "text": [
      "C:\\Users\\dpere\\AppData\\Local\\Temp\\ipykernel_17304\\3931132013.py:1: FutureWarning: The provided callable <built-in function sum> is currently using DataFrameGroupBy.sum. In a future version of pandas, the provided callable will be used directly. To keep current behavior pass the string \"sum\" instead.\n",
      "  demo=demo.pivot_table(index='Proj_Area',aggfunc=sum)[col]\n",
      "C:\\Users\\dpere\\miniconda3\\envs\\creat_forecast_ad_hoc_env\\Lib\\site-packages\\geopandas\\geodataframe.py:2469: UserWarning: `keep_geom_type=True` in overlay resulted in 4 dropped geometries of different geometry types than df1 has. Set `keep_geom_type=False` to retain all geometries\n",
      "  return geopandas.overlay(\n",
      "C:\\Users\\dpere\\AppData\\Local\\Temp\\ipykernel_17304\\1244303127.py:1: FutureWarning: The provided callable <built-in function sum> is currently using DataFrameGroupBy.sum. In a future version of pandas, the provided callable will be used directly. To keep current behavior pass the string \"sum\" instead.\n",
      "  taz_demo_pls=drop_geo(demo_taz_bld).pivot_table(index='Taz_num',aggfunc=sum)\n"
     ]
    }
   ],
   "source": [
    "%run \"./palestinian_from_demo_230622.ipynb\"\n",
    "# %run \"./arab_growth_till_2050_from_demo_230618.ipynb\"\n",
    "# %run \"./230709_arab_growth_vs_kibolt.ipynb\""
   ]
  }
 ],
 "metadata": {
  "language_info": {
   "codemirror_mode": {
    "name": "ipython",
    "version": 3
   },
   "file_extension": ".py",
   "mimetype": "text/x-python",
   "name": "python",
   "nbconvert_exporter": "python",
   "pygments_lexer": "ipython3",
   "version": "3.11.5"
  }
 },
 "nbformat": 4,
 "nbformat_minor": 2
}
