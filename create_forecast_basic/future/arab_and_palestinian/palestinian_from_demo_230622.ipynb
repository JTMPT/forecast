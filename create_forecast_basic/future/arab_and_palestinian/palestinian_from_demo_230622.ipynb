{
 "cells": [
  {
   "cell_type": "markdown",
   "id": "0e7214ba",
   "metadata": {
    "heading_collapsed": true
   },
   "source": [
    "### קוד מבוא"
   ]
  },
  {
   "cell_type": "markdown",
   "id": "7d4573e8",
   "metadata": {},
   "source": [
    "#### ספריות"
   ]
  },
  {
   "cell_type": "code",
   "execution_count": 1,
   "id": "f8405d52",
   "metadata": {
    "hidden": true
   },
   "outputs": [],
   "source": [
    "import os\n",
    "import sys\n",
    "import pandas as pd"
   ]
  },
  {
   "cell_type": "code",
   "execution_count": 2,
   "id": "2dacbc13",
   "metadata": {
    "hidden": true
   },
   "outputs": [],
   "source": [
    "pd.set_option('display.max_rows', None)\n",
    "pd.set_option('display.max_columns', None)\n",
    "pd.options.display.float_format = '{:.4f}'.format\n",
    "pd.set_option('display.float_format',  '{:,.2f}'.format)"
   ]
  },
  {
   "cell_type": "markdown",
   "id": "e149d388",
   "metadata": {},
   "source": [
    "#### העלאת משתנים להרצת הקוד"
   ]
  },
  {
   "cell_type": "code",
   "execution_count": 3,
   "id": "ead392ab",
   "metadata": {},
   "outputs": [],
   "source": [
    "df_inputs_outputs = pd.read_excel('inputs_outputs.xlsx')\n",
    "\n",
    "software_data_folder_location=df_inputs_outputs['location'][0]\n",
    "\n",
    "forecast_version_folder_location=df_inputs_outputs['location'][1]\n",
    "\n",
    "future_folder = os.path.dirname(software_data_folder_location)\n",
    "\n",
    "create_forecast_basic_software_location = os.path.dirname(future_folder)\n",
    "\n",
    "sys.path.append(create_forecast_basic_software_location)\n",
    "\n",
    "create_forecast_basic_software_df = pd.read_excel(r'{}\\inputs_outputs.xlsx'.format(create_forecast_basic_software_location))\n",
    "\n",
    "TAZ_V4_date = create_forecast_basic_software_df['location'][1]"
   ]
  },
  {
   "cell_type": "markdown",
   "id": "9624443e",
   "metadata": {
    "heading_collapsed": true
   },
   "source": [
    "### פונקציות"
   ]
  },
  {
   "cell_type": "markdown",
   "id": "44b3831c",
   "metadata": {},
   "source": [
    "### פונקציות גלובליות"
   ]
  },
  {
   "cell_type": "code",
   "execution_count": 4,
   "id": "72acfad4",
   "metadata": {},
   "outputs": [],
   "source": [
    "from global_functions import up_load_shp, up_load_df, drop_geo"
   ]
  },
  {
   "cell_type": "markdown",
   "id": "d66f6096",
   "metadata": {},
   "source": [
    "### ביצוע"
   ]
  },
  {
   "cell_type": "markdown",
   "id": "b7fe1fcf",
   "metadata": {
    "heading_collapsed": true
   },
   "source": [
    "#### עיבוד מידע טבלאי של הדמוגרף"
   ]
  },
  {
   "cell_type": "code",
   "execution_count": 5,
   "id": "29a27436",
   "metadata": {
    "hidden": true
   },
   "outputs": [],
   "source": [
    "demo=up_load_df(r'{}\\background_files'.format(software_data_folder_location),'‏‏PalestiniansResults_forecast_zone')"
   ]
  },
  {
   "cell_type": "code",
   "execution_count": 37,
   "id": "1b4e5a72",
   "metadata": {
    "hidden": true
   },
   "outputs": [
    {
     "name": "stderr",
     "output_type": "stream",
     "text": [
      "C:\\Users\\dpere\\AppData\\Local\\Temp\\ipykernel_20632\\858144232.py:16: FutureWarning: The provided callable <built-in function sum> is currently using DataFrameGroupBy.sum. In a future version of pandas, the provided callable will be used directly. To keep current behavior pass the string \"sum\" instead.\n",
      "  demo=demo.pivot_table(index='Proj_Area',aggfunc=sum)[col]\n"
     ]
    }
   ],
   "source": [
    "col=['male_2020',\n",
    " 'female_2020',\n",
    " 'male_2025',\n",
    " 'female_2025',\n",
    " 'male_2030',\n",
    " 'female_2030',\n",
    " 'male_2035',\n",
    " 'female_2035',\n",
    " 'male_2040',\n",
    " 'female_2040',\n",
    " 'male_2045',\n",
    " 'female_2045',\n",
    " 'male_2050',\n",
    " 'female_2050']\n",
    "\n",
    "demo=demo.pivot_table(index='Proj_Area',aggfunc=sum)[col]"
   ]
  },
  {
   "cell_type": "code",
   "execution_count": 38,
   "id": "e32b97be",
   "metadata": {
    "hidden": true
   },
   "outputs": [],
   "source": [
    "year=['2020','2025','2030','2035','2040','2045','2050']\n",
    "\n",
    "for x in year:\n",
    "    demo['pop_{}'.format(x)]= demo['female_{}'.format(x)]+demo['male_{}'.format(x)]"
   ]
  },
  {
   "cell_type": "markdown",
   "id": "ed27ed27",
   "metadata": {
    "heading_collapsed": true
   },
   "source": [
    "#### שכבת אזורי תחזית של דמוגרף"
   ]
  },
  {
   "cell_type": "code",
   "execution_count": 39,
   "id": "16fc512d",
   "metadata": {
    "hidden": true
   },
   "outputs": [],
   "source": [
    "proj_zones=up_load_shp(r'{}\\background_files\\proj_zones_pls.shp'.format(software_data_folder_location))\n",
    "\n",
    "proj_zones['Proj_Area']=proj_zones['projection']\n",
    "\n",
    "proj_zones=proj_zones[['Proj_Area', 'geometry']]"
   ]
  },
  {
   "cell_type": "markdown",
   "id": "ae0b11cb",
   "metadata": {
    "heading_collapsed": true
   },
   "source": [
    "#### חיבור נתוני דמוגרף"
   ]
  },
  {
   "cell_type": "code",
   "execution_count": 40,
   "id": "60a2f03f",
   "metadata": {
    "hidden": true
   },
   "outputs": [
    {
     "data": {
      "text/html": [
       "<div>\n",
       "<style scoped>\n",
       "    .dataframe tbody tr th:only-of-type {\n",
       "        vertical-align: middle;\n",
       "    }\n",
       "\n",
       "    .dataframe tbody tr th {\n",
       "        vertical-align: top;\n",
       "    }\n",
       "\n",
       "    .dataframe thead th {\n",
       "        text-align: right;\n",
       "    }\n",
       "</style>\n",
       "<table border=\"1\" class=\"dataframe\">\n",
       "  <thead>\n",
       "    <tr style=\"text-align: right;\">\n",
       "      <th></th>\n",
       "      <th>Proj_Area</th>\n",
       "      <th>geometry</th>\n",
       "      <th>male_2020</th>\n",
       "      <th>female_2020</th>\n",
       "      <th>male_2025</th>\n",
       "      <th>female_2025</th>\n",
       "      <th>male_2030</th>\n",
       "      <th>female_2030</th>\n",
       "      <th>male_2035</th>\n",
       "      <th>female_2035</th>\n",
       "      <th>male_2040</th>\n",
       "      <th>female_2040</th>\n",
       "      <th>male_2045</th>\n",
       "      <th>female_2045</th>\n",
       "      <th>male_2050</th>\n",
       "      <th>female_2050</th>\n",
       "      <th>pop_2020</th>\n",
       "      <th>pop_2025</th>\n",
       "      <th>pop_2030</th>\n",
       "      <th>pop_2035</th>\n",
       "      <th>pop_2040</th>\n",
       "      <th>pop_2045</th>\n",
       "      <th>pop_2050</th>\n",
       "    </tr>\n",
       "  </thead>\n",
       "  <tbody>\n",
       "    <tr>\n",
       "      <th>36</th>\n",
       "      <td>50</td>\n",
       "      <td>None</td>\n",
       "      <td>1,232.43</td>\n",
       "      <td>1,124.17</td>\n",
       "      <td>1,379.29</td>\n",
       "      <td>1,269.85</td>\n",
       "      <td>1,546.52</td>\n",
       "      <td>1,436.05</td>\n",
       "      <td>1,738.47</td>\n",
       "      <td>1,625.90</td>\n",
       "      <td>1,942.32</td>\n",
       "      <td>1,827.51</td>\n",
       "      <td>2,142.52</td>\n",
       "      <td>2,026.16</td>\n",
       "      <td>2,334.97</td>\n",
       "      <td>2,216.95</td>\n",
       "      <td>2,356.60</td>\n",
       "      <td>2,649.13</td>\n",
       "      <td>2,982.57</td>\n",
       "      <td>3,364.37</td>\n",
       "      <td>3,769.84</td>\n",
       "      <td>4,168.67</td>\n",
       "      <td>4,551.91</td>\n",
       "    </tr>\n",
       "  </tbody>\n",
       "</table>\n",
       "</div>"
      ],
      "text/plain": [
       "    Proj_Area geometry  male_2020  female_2020  male_2025  female_2025  \\\n",
       "36         50     None   1,232.43     1,124.17   1,379.29     1,269.85   \n",
       "\n",
       "    male_2030  female_2030  male_2035  female_2035  male_2040  female_2040  \\\n",
       "36   1,546.52     1,436.05   1,738.47     1,625.90   1,942.32     1,827.51   \n",
       "\n",
       "    male_2045  female_2045  male_2050  female_2050  pop_2020  pop_2025  \\\n",
       "36   2,142.52     2,026.16   2,334.97     2,216.95  2,356.60  2,649.13   \n",
       "\n",
       "    pop_2030  pop_2035  pop_2040  pop_2045  pop_2050  \n",
       "36  2,982.57  3,364.37  3,769.84  4,168.67  4,551.91  "
      ]
     },
     "execution_count": 40,
     "metadata": {},
     "output_type": "execute_result"
    }
   ],
   "source": [
    "pd.merge(proj_zones,demo,on='Proj_Area',how='right').query('geometry.isna()')"
   ]
  },
  {
   "cell_type": "markdown",
   "id": "35a8fd1c",
   "metadata": {
    "hidden": true
   },
   "source": [
    " אנחנו מוכנים לוותר עליהם \n",
    " זה ניקוז של כל הבדואיים שאין להם אזור תחזית"
   ]
  },
  {
   "cell_type": "code",
   "execution_count": 41,
   "id": "e2daa51f",
   "metadata": {
    "hidden": true
   },
   "outputs": [],
   "source": [
    "proj_zones=pd.merge(proj_zones,demo,on='Proj_Area',how='left')"
   ]
  },
  {
   "cell_type": "markdown",
   "id": "434fc183",
   "metadata": {
    "heading_collapsed": true
   },
   "source": [
    "#### שכבת אזורי תנועה"
   ]
  },
  {
   "cell_type": "code",
   "execution_count": 42,
   "id": "d8c0b86b",
   "metadata": {
    "hidden": true
   },
   "outputs": [],
   "source": [
    "taz=up_load_shp(r'{}\\background_files\\TAZ_V4_{}_with_geo_info.shp'.format(create_forecast_basic_software_location, TAZ_V4_date))\n",
    "\n",
    "taz=taz.query('main_secto==\"Palestinian\"')[['Taz_num','geometry']]"
   ]
  },
  {
   "cell_type": "markdown",
   "id": "884acf41",
   "metadata": {
    "heading_collapsed": true
   },
   "source": [
    "#### שכבת בינוי"
   ]
  },
  {
   "cell_type": "code",
   "execution_count": 43,
   "id": "af06d3f5",
   "metadata": {
    "hidden": true
   },
   "outputs": [],
   "source": [
    "bld=up_load_shp(r'{}\\background_files\\palestinian_bld_area_pcbs_220710.shp'.format(software_data_folder_location))\n",
    "\n",
    "bld=bld.to_crs(2039)\n",
    "\n",
    "bld=bld.dissolve()\n",
    "\n",
    "bld=bld[['geometry']]"
   ]
  },
  {
   "cell_type": "markdown",
   "id": "de4caae0",
   "metadata": {
    "heading_collapsed": true
   },
   "source": [
    "#### הצלבת בין בינוי לבין אזורי תחזית ותנועה"
   ]
  },
  {
   "cell_type": "code",
   "execution_count": 44,
   "id": "a62f0cd3",
   "metadata": {
    "hidden": true
   },
   "outputs": [
    {
     "name": "stderr",
     "output_type": "stream",
     "text": [
      "c:\\Users\\dpere\\miniconda3\\envs\\creat_forecast_ad_hoc_env\\Lib\\site-packages\\geopandas\\geodataframe.py:2469: UserWarning: `keep_geom_type=True` in overlay resulted in 4 dropped geometries of different geometry types than df1 has. Set `keep_geom_type=False` to retain all geometries\n",
      "  return geopandas.overlay(\n"
     ]
    }
   ],
   "source": [
    "col=['Proj_Area',\n",
    " 'geometry',\n",
    " 'pop_2020',\n",
    " 'pop_2025',\n",
    " 'pop_2030',\n",
    " 'pop_2035',\n",
    " 'pop_2040',\n",
    " 'pop_2045',\n",
    " 'pop_2050']\n",
    "\n",
    "demo_taz_bld=bld.overlay(taz).overlay(proj_zones[col])\n",
    "\n",
    "demo_taz_bld['small_area']=demo_taz_bld.area\n",
    "\n",
    "demo_taz_bld=demo_taz_bld.set_index('Proj_Area')\n",
    "\n",
    "demo_taz_bld['proj_sum_area']=drop_geo(demo_taz_bld).groupby(by='Proj_Area').sum()[['small_area']]\n",
    "\n",
    "demo_taz_bld['pre_from_proj']=demo_taz_bld['small_area']/demo_taz_bld['proj_sum_area']"
   ]
  },
  {
   "cell_type": "code",
   "execution_count": 45,
   "id": "9c5d9f21",
   "metadata": {
    "hidden": true
   },
   "outputs": [],
   "source": [
    "pop_year=['pop_2020',\n",
    " 'pop_2025',\n",
    " 'pop_2030',\n",
    " 'pop_2035',\n",
    " 'pop_2040',\n",
    " 'pop_2045',\n",
    " 'pop_2050']\n",
    "\n",
    "for y in pop_year:\n",
    "    demo_taz_bld['{}'.format(y)]=demo_taz_bld['{}'.format(y)]*demo_taz_bld['pre_from_proj']"
   ]
  },
  {
   "cell_type": "markdown",
   "id": "e97d590c",
   "metadata": {
    "hidden": true
   },
   "source": [
    "בדיקה שלא הומצא כמות אנשים"
   ]
  },
  {
   "cell_type": "code",
   "execution_count": 46,
   "id": "8fc75dd5",
   "metadata": {
    "hidden": true,
    "scrolled": true
   },
   "outputs": [
    {
     "data": {
      "text/plain": [
       "3.725290298461914e-09"
      ]
     },
     "execution_count": 46,
     "metadata": {},
     "output_type": "execute_result"
    }
   ],
   "source": [
    "demo_taz_bld[pop_year].sum().sum()-proj_zones[pop_year].sum().sum()"
   ]
  },
  {
   "cell_type": "markdown",
   "id": "9ad03703",
   "metadata": {},
   "source": [
    "#### סכום אנשים לפי אזורי תנועה"
   ]
  },
  {
   "cell_type": "code",
   "execution_count": 47,
   "id": "ad3be1a1",
   "metadata": {},
   "outputs": [
    {
     "name": "stderr",
     "output_type": "stream",
     "text": [
      "C:\\Users\\dpere\\AppData\\Local\\Temp\\ipykernel_20632\\1244303127.py:1: FutureWarning: The provided callable <built-in function sum> is currently using DataFrameGroupBy.sum. In a future version of pandas, the provided callable will be used directly. To keep current behavior pass the string \"sum\" instead.\n",
      "  taz_demo_pls=drop_geo(demo_taz_bld).pivot_table(index='Taz_num',aggfunc=sum)\n"
     ]
    }
   ],
   "source": [
    "taz_demo_pls=drop_geo(demo_taz_bld).pivot_table(index='Taz_num',aggfunc=sum)"
   ]
  },
  {
   "cell_type": "code",
   "execution_count": 48,
   "id": "fe850b54",
   "metadata": {},
   "outputs": [],
   "source": [
    "add_year=['2025', '2030', '2035', '2040', '2045', '2050']\n",
    "\n",
    "x=2020\n",
    "\n",
    "for y in add_year:\n",
    "    taz_demo_pls['precent_add_pop_{}'.format(y)]=taz_demo_pls['pop_{}'.format(y)]/taz_demo_pls['pop_{}'.format(str(x))]\n",
    "    taz_demo_pls['precent_add_pop_{}'.format(y)]=taz_demo_pls['precent_add_pop_{}'.format(y)].round(2)\n",
    "    taz_demo_pls['precent_add_pop_{}'.format(y)].fillna(0)\n",
    "    x+=5"
   ]
  },
  {
   "cell_type": "markdown",
   "id": "3a023675",
   "metadata": {},
   "source": [
    "#### ייצוא"
   ]
  },
  {
   "cell_type": "code",
   "execution_count": 49,
   "id": "62aefe6e",
   "metadata": {},
   "outputs": [],
   "source": [
    "col=['pop_2020',\n",
    " 'precent_add_pop_2025',\n",
    " 'precent_add_pop_2030',\n",
    " 'precent_add_pop_2035',\n",
    " 'precent_add_pop_2040',\n",
    " 'precent_add_pop_2045',\n",
    " 'precent_add_pop_2050']"
   ]
  },
  {
   "cell_type": "code",
   "execution_count": 50,
   "id": "7b8cb2cd",
   "metadata": {},
   "outputs": [
    {
     "data": {
      "text/plain": [
       "'C:\\\\Users\\\\dpere\\\\Documents\\\\JTMT\\\\forecast_git\\\\create_forecast_basic\\\\future\\\\arab_and_palestinian\\\\Intermediates\\\\taz_demo_pls_2020_and_pre_growth_till_2050.xlsx'"
      ]
     },
     "execution_count": 50,
     "metadata": {},
     "output_type": "execute_result"
    }
   ],
   "source": [
    "r'{}\\Intermediates\\taz_demo_pls_2020_and_pre_growth_till_2050.xlsx'.format(software_data_folder_location)"
   ]
  },
  {
   "cell_type": "code",
   "execution_count": 51,
   "id": "1f17c816",
   "metadata": {},
   "outputs": [],
   "source": [
    "taz_demo_pls[col].to_excel(r'{}\\Intermediates\\taz_demo_pls_2020_and_pre_growth_till_2050.xlsx'.format(software_data_folder_location))"
   ]
  }
 ],
 "metadata": {
  "kernelspec": {
   "display_name": "Python 3 (ipykernel)",
   "language": "python",
   "name": "python3"
  },
  "language_info": {
   "codemirror_mode": {
    "name": "ipython",
    "version": 3
   },
   "file_extension": ".py",
   "mimetype": "text/x-python",
   "name": "python",
   "nbconvert_exporter": "python",
   "pygments_lexer": "ipython3",
   "version": "3.11.5"
  },
  "toc": {
   "base_numbering": 1,
   "nav_menu": {},
   "number_sections": true,
   "sideBar": true,
   "skip_h1_title": false,
   "title_cell": "Table of Contents",
   "title_sidebar": "Contents",
   "toc_cell": false,
   "toc_position": {},
   "toc_section_display": true,
   "toc_window_display": true
  }
 },
 "nbformat": 4,
 "nbformat_minor": 5
}
