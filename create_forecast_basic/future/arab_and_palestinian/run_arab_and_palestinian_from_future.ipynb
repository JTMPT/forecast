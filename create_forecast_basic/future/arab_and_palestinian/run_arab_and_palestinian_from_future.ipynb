{
 "cells": [
  {
   "cell_type": "code",
   "execution_count": null,
   "metadata": {},
   "outputs": [],
   "source": [
    "%run \"./palestinian_from_demo_230622.ipynb\"\n",
    "%run \"./arab_growth_till_2050_from_demo_230618.ipynb\"\n",
    "%run \"./230709_arab_growth_vs_kibolt.ipynb\""
   ]
  }
 ],
 "metadata": {
  "language_info": {
   "name": "python"
  }
 },
 "nbformat": 4,
 "nbformat_minor": 2
}
