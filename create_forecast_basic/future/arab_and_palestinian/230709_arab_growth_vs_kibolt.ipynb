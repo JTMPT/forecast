{
 "cells": [
  {
   "cell_type": "markdown",
   "id": "0e7214ba",
   "metadata": {
    "heading_collapsed": true
   },
   "source": [
    "### קוד מבוא"
   ]
  },
  {
   "cell_type": "markdown",
   "id": "6be9fb8c",
   "metadata": {},
   "source": [
    "#### ספריות"
   ]
  },
  {
   "cell_type": "code",
   "execution_count": 39,
   "id": "f8405d52",
   "metadata": {
    "hidden": true
   },
   "outputs": [],
   "source": [
    "import os\n",
    "import sys\n",
    "import pathlib\n",
    "import pandas as pd\n",
    "import geopandas as gpd\n",
    "import fiona"
   ]
  },
  {
   "cell_type": "code",
   "execution_count": 40,
   "id": "2dacbc13",
   "metadata": {
    "hidden": true
   },
   "outputs": [],
   "source": [
    "pd.set_option('display.max_rows', None)\n",
    "pd.set_option('display.max_columns', None)\n",
    "pd.options.display.float_format = '{:.4f}'.format\n",
    "pd.set_option('display.float_format',  '{:,.2f}'.format)"
   ]
  },
  {
   "cell_type": "markdown",
   "id": "8295f95f",
   "metadata": {},
   "source": [
    "#### העלת משתנים להרצת הקוד"
   ]
  },
  {
   "cell_type": "code",
   "execution_count": null,
   "id": "3697fbcf",
   "metadata": {},
   "outputs": [],
   "source": [
    "df_inputs_outputs = pd.read_excel('inputs_outputs.xlsx')\n",
    "\n",
    "software_data_folder_location=df_inputs_outputs['location'][0]\n",
    "\n",
    "forecast_version_folder_location=df_inputs_outputs['location'][1]\n",
    "\n",
    "future_folder = os.path.dirname(software_data_folder_location)\n",
    "\n",
    "sys.path.append(future_folder)"
   ]
  },
  {
   "cell_type": "markdown",
   "id": "9624443e",
   "metadata": {
    "heading_collapsed": true
   },
   "source": [
    "### פונקציות"
   ]
  },
  {
   "cell_type": "markdown",
   "id": "df225eba",
   "metadata": {},
   "source": [
    "### פונקציות גלובליות"
   ]
  },
  {
   "cell_type": "code",
   "execution_count": null,
   "id": "dd8a5876",
   "metadata": {},
   "outputs": [],
   "source": [
    "from global_functions import make_point, up_load_shp, up_load_df, find_files_with_pattern"
   ]
  },
  {
   "cell_type": "code",
   "execution_count": 48,
   "id": "02dfe286",
   "metadata": {},
   "outputs": [],
   "source": [
    "def find_files_with_pattern(folder_path, pattern):\n",
    "    \"\"\"\n",
    "    Find files in a directory that match a certain pattern.\n",
    "    \n",
    "    Args:\n",
    "    - directory (str): The directory path.\n",
    "    - pattern (str): The pattern to search for in file names.\n",
    "    \n",
    "    Returns:\n",
    "    - List of file paths matching the pattern.\n",
    "    \"\"\"\n",
    "    files = []\n",
    "    for root, _, filenames in os.walk(folder_path):\n",
    "        for filename in filenames:\n",
    "            if pattern in filename:\n",
    "                files.append(os.path.join(root, filename))\n",
    "    return files"
   ]
  },
  {
   "cell_type": "markdown",
   "id": "d3bf0a64",
   "metadata": {},
   "source": [
    "### ביצוע"
   ]
  },
  {
   "cell_type": "markdown",
   "id": "7d72c1cb",
   "metadata": {},
   "source": [
    "#### העלת שכבות"
   ]
  },
  {
   "cell_type": "code",
   "execution_count": 50,
   "id": "c6573404",
   "metadata": {},
   "outputs": [],
   "source": [
    "taz=up_load_shp(r'{}\\background_files\\TAZ_V4_230518_Published.shp'.format(software_data_folder_location))"
   ]
  },
  {
   "cell_type": "code",
   "execution_count": 51,
   "id": "95fe557a",
   "metadata": {},
   "outputs": [],
   "source": [
    "taz=taz.query('main_secto==\"Arab\" | main_secto==\"arabs_behined_seperation_wall\" ').set_index('Taz_num')"
   ]
  },
  {
   "cell_type": "code",
   "execution_count": 52,
   "id": "12aaee1d",
   "metadata": {},
   "outputs": [],
   "source": [
    "taz_point=make_point(taz)"
   ]
  },
  {
   "cell_type": "markdown",
   "id": "927d22d7",
   "metadata": {},
   "source": [
    "#### יצירת אוכלוסיה לפי קיבולת"
   ]
  },
  {
   "cell_type": "markdown",
   "id": "94bf3e68",
   "metadata": {},
   "source": [
    "תוספת קיבולת אפשרית"
   ]
  },
  {
   "cell_type": "code",
   "execution_count": 53,
   "id": "30681720",
   "metadata": {},
   "outputs": [],
   "source": [
    "path=r'{}\\background_files\\kibolet_with_behind_wall_230709.shp'.format(software_data_folder_location)"
   ]
  },
  {
   "cell_type": "code",
   "execution_count": 54,
   "id": "a3d30f47",
   "metadata": {},
   "outputs": [],
   "source": [
    "kibolet_with_behind_wall=up_load_shp(path).set_index('Taz_num')"
   ]
  },
  {
   "cell_type": "markdown",
   "id": "9e506c2b",
   "metadata": {},
   "source": [
    "יח\"ד דיור קיימות"
   ]
  },
  {
   "cell_type": "code",
   "execution_count": 55,
   "id": "56ab9fb0",
   "metadata": {},
   "outputs": [],
   "source": [
    "v_date='230720'"
   ]
  },
  {
   "cell_type": "code",
   "execution_count": 56,
   "id": "629caad3",
   "metadata": {},
   "outputs": [],
   "source": [
    "matching_files=find_files_with_pattern(r'{}'.format(forecast_version_folder_location), '2020_jtmt_forcast_full')\n",
    "\n",
    "file = pathlib.Path(matching_files[0])\n",
    "file_name = file.name\n",
    "folder = str(file.parent)\n",
    "file_name[:-5]\n",
    "\n",
    "taz_kayim=up_load_df(forecast_version_folder_location,file_name[:-5]).set_index('Taz_num')"
   ]
  },
  {
   "cell_type": "markdown",
   "id": "5476e31c",
   "metadata": {},
   "source": [
    "ג\"מ"
   ]
  },
  {
   "cell_type": "code",
   "execution_count": 57,
   "id": "0f06fa69",
   "metadata": {},
   "outputs": [],
   "source": [
    "path=r'{}\\background_files\\hh_size_2050.shp'.format(software_data_folder_location)"
   ]
  },
  {
   "cell_type": "code",
   "execution_count": 58,
   "id": "623fbf46",
   "metadata": {},
   "outputs": [],
   "source": [
    "hh_size_2050=up_load_shp(path)"
   ]
  },
  {
   "cell_type": "code",
   "execution_count": 59,
   "id": "9ae9ff80",
   "metadata": {},
   "outputs": [],
   "source": [
    "hh_size_2050=taz_point.sjoin(hh_size_2050,how='left')[['2050_hh_si']]"
   ]
  },
  {
   "cell_type": "code",
   "execution_count": 60,
   "id": "89d85ecf",
   "metadata": {
    "scrolled": true
   },
   "outputs": [],
   "source": [
    "taz['hh_size']=hh_size_2050['2050_hh_si']"
   ]
  },
  {
   "cell_type": "markdown",
   "id": "4fded2fe",
   "metadata": {},
   "source": [
    "הכנה ללופ : מצב קיים הופך למצב נוכחי"
   ]
  },
  {
   "cell_type": "code",
   "execution_count": 61,
   "id": "486e5102",
   "metadata": {},
   "outputs": [],
   "source": [
    "taz['current_pop']=taz_kayim['pop']"
   ]
  },
  {
   "cell_type": "code",
   "execution_count": 62,
   "id": "b5d5c093",
   "metadata": {},
   "outputs": [],
   "source": [
    "taz['pop_2020']=taz_kayim['pop']"
   ]
  },
  {
   "cell_type": "code",
   "execution_count": 63,
   "id": "01842021",
   "metadata": {},
   "outputs": [],
   "source": [
    "taz['current_hh']=taz_kayim['aprt_20']"
   ]
  },
  {
   "cell_type": "code",
   "execution_count": 64,
   "id": "be21cb54",
   "metadata": {},
   "outputs": [],
   "source": [
    "taz['hh_2020']=taz_kayim['aprt_20']"
   ]
  },
  {
   "cell_type": "markdown",
   "id": "127b1d73",
   "metadata": {},
   "source": [
    "להוציא את האזורים שמחוץ לירושלים"
   ]
  },
  {
   "cell_type": "code",
   "execution_count": 65,
   "id": "5a6e76ad",
   "metadata": {},
   "outputs": [],
   "source": [
    "taz_out_of_jeru=taz.loc[taz.index.isin([7651.0, 7652.0])]"
   ]
  },
  {
   "cell_type": "code",
   "execution_count": 66,
   "id": "c00ef96d",
   "metadata": {},
   "outputs": [],
   "source": [
    "taz=taz.loc[~taz.index.isin([7651.0, 7652.0])]"
   ]
  },
  {
   "cell_type": "markdown",
   "id": "41d46587",
   "metadata": {},
   "source": [
    "עכשיו חישוב של כמות אוכלוסיה כל חומש"
   ]
  },
  {
   "cell_type": "code",
   "execution_count": 67,
   "id": "1b3d88e7",
   "metadata": {},
   "outputs": [],
   "source": [
    "taz['pop_kibolet']=taz['hh_size']*kibolet_with_behind_wall['kibolet']"
   ]
  },
  {
   "cell_type": "markdown",
   "id": "ead6089f",
   "metadata": {},
   "source": [
    "הכנה ללופ : הלאה של אוכלסייה פלסטינאית"
   ]
  },
  {
   "cell_type": "code",
   "execution_count": 68,
   "id": "25c6855f",
   "metadata": {},
   "outputs": [],
   "source": [
    "folder_path=r'{}\\background_files'.format(software_data_folder_location)\n",
    "file_name='taz_demo_pls_2020_and_pre_growth_till_2050'\n",
    "\n",
    "taz_demo_pls=up_load_df(folder_path,file_name)\n",
    "\n",
    "taz_demo_pls['current_pop']=taz_demo_pls['pop_2020']"
   ]
  },
  {
   "cell_type": "markdown",
   "id": "4f1f077e",
   "metadata": {},
   "source": [
    "#### לופ לייצר אנשים כל חומש"
   ]
  },
  {
   "cell_type": "code",
   "execution_count": 69,
   "id": "59e15953",
   "metadata": {
    "code_folding": []
   },
   "outputs": [],
   "source": [
    "col_age=['Taz_num','pop_0',\n",
    " 'pop_10',\n",
    " 'pop_15',\n",
    " 'pop_20',\n",
    " 'pop_25',\n",
    " 'pop_30',\n",
    " 'pop_35',\n",
    " 'pop_40',\n",
    " 'pop_45',\n",
    " 'pop_5',\n",
    " 'pop_50',\n",
    " 'pop_55',\n",
    " 'pop_60',\n",
    " 'pop_65',\n",
    " 'pop_70',\n",
    " 'pop_75up']"
   ]
  },
  {
   "cell_type": "markdown",
   "id": "2b2fb96f",
   "metadata": {},
   "source": [
    "חישוב מחוץ לירושלים"
   ]
  },
  {
   "cell_type": "code",
   "execution_count": 70,
   "id": "5e8dfe79",
   "metadata": {},
   "outputs": [],
   "source": [
    "taz_out_of_jeru_point=make_point(taz_out_of_jeru)"
   ]
  },
  {
   "cell_type": "code",
   "execution_count": 71,
   "id": "b7891435",
   "metadata": {},
   "outputs": [],
   "source": [
    "year=['2025','2030','2035','2040','2045','2050']\n",
    "\n",
    "for y in year:\n",
    "    # לחבר למצב הנוכחי את הגידול והתפלגות שהוא צריך לקבל\n",
    "    path=r'{}\\background_files\\pre_demo_growth_dislov_{}.shp'.format(software_data_folder_location, y)\n",
    "\n",
    "    demo=up_load_shp(path)  \n",
    "\n",
    "    demand=taz_out_of_jeru_point.sjoin(demo,how='left')\n",
    "\n",
    "    taz_age=demand.reset_index()[col_age]\n",
    "    \n",
    "    taz_out_of_jeru_point['add_current_pop']=taz_out_of_jeru_point['current_pop']*demand['precent_ad']-taz_out_of_jeru_point['current_pop']\n",
    "    \n",
    "    taz_out_of_jeru_point['current_pop']=taz_out_of_jeru_point['current_pop']+taz_out_of_jeru_point['add_current_pop']\n",
    "    \n",
    "    taz_out_of_jeru_point['current_hh']=taz_out_of_jeru_point['current_hh']+taz_out_of_jeru_point['add_current_pop']/taz_out_of_jeru_point['hh_size']\n",
    "    \n",
    "    taz_out_of_jeru_point['hh_{}'.format(y)]=taz_out_of_jeru_point['current_hh']\n",
    "    \n",
    "    taz_out_of_jeru_point['pop_{}'.format(y)]=taz_out_of_jeru_point['current_pop']\n",
    "\n",
    "    \n",
    "    col=['Taz_num','hh_{}'.format(y),'pop_{}'.format(y)]\n",
    "\n",
    "    \n",
    "    locals()['taz_out_jeru_{}'.format(y)]=taz_out_of_jeru_point.reset_index()[col].merge(taz_age,how='left',on='Taz_num')\n",
    "    \n",
    "   "
   ]
  },
  {
   "cell_type": "markdown",
   "id": "6c98ca92",
   "metadata": {},
   "source": [
    "חישוב לירושלים ואז הוספה של המרכיבים"
   ]
  },
  {
   "cell_type": "code",
   "execution_count": 72,
   "id": "5207f2ab",
   "metadata": {
    "code_folding": [
     2
    ]
   },
   "outputs": [],
   "source": [
    "#מייצר קטלוג לאזורים ללא התפלגות מדמוגרף\n",
    "\n",
    "age_dis=up_load_df(r'{}\\background_files'.format(software_data_folder_location),'age_des_types')\n",
    "\n",
    "age_col_catalog=['pop_0',\n",
    " 'pop_10',\n",
    " 'pop_15',\n",
    " 'pop_20',\n",
    " 'pop_25',\n",
    " 'pop_30',\n",
    " 'pop_35',\n",
    " 'pop_40',\n",
    " 'pop_45',\n",
    " 'pop_5',\n",
    " 'pop_50',\n",
    " 'pop_55',\n",
    " 'pop_60',\n",
    " 'pop_65',\n",
    " 'pop_70',\n",
    " 'pop_75up']\n",
    "\n",
    "age_dis=age_dis.query('sector==\"Arab\" & age_cycle==2')[age_col_catalog]"
   ]
  },
  {
   "cell_type": "code",
   "execution_count": 73,
   "id": "a74ac237",
   "metadata": {},
   "outputs": [],
   "source": [
    "taz['precent_ad']=0"
   ]
  },
  {
   "cell_type": "code",
   "execution_count": 74,
   "id": "e57e26cd",
   "metadata": {},
   "outputs": [],
   "source": [
    "x=2020"
   ]
  },
  {
   "cell_type": "code",
   "execution_count": 75,
   "id": "aa7a5c89",
   "metadata": {},
   "outputs": [],
   "source": [
    "year=['2025','2030','2035','2040','2045','2050']"
   ]
  },
  {
   "cell_type": "code",
   "execution_count": 76,
   "id": "a23bd772",
   "metadata": {},
   "outputs": [
    {
     "name": "stdout",
     "output_type": "stream",
     "text": [
      "------------------------------------------\n",
      "2025\n",
      "total_kibolet:  235869.44800000003\n",
      "total_demand:  47430.294430891474\n",
      "pop_not_fit_in_taz:  343.6068327890348\n",
      "pop_kibolet_left:  188782.76040189757\n",
      "pop_not_fit_in_taz<=pop_kibolet_left\n",
      "------------------------------------------\n",
      "2030\n",
      "total_kibolet:  188439.15356910854\n",
      "total_demand:  51025.89936713023\n",
      "pop_not_fit_in_taz:  2707.642208727688\n",
      "pop_kibolet_left:  140120.896410706\n",
      "pop_not_fit_in_taz<=pop_kibolet_left\n"
     ]
    },
    {
     "name": "stderr",
     "output_type": "stream",
     "text": [
      "C:\\Users\\dpere\\AppData\\Local\\Temp\\ipykernel_13240\\1356680665.py:45: FutureWarning: Setting an item of incompatible dtype is deprecated and will raise in a future error of pandas. Value 'pop_demand' has dtype incompatible with float64, please explicitly cast to a compatible dtype first.\n",
      "  taz.loc[taz['pop_delta']>0,'pop_{}_explanation'.format(y)]='pop_demand'\n",
      "C:\\Users\\dpere\\AppData\\Local\\Temp\\ipykernel_13240\\1356680665.py:45: FutureWarning: Setting an item of incompatible dtype is deprecated and will raise in a future error of pandas. Value 'pop_demand' has dtype incompatible with float64, please explicitly cast to a compatible dtype first.\n",
      "  taz.loc[taz['pop_delta']>0,'pop_{}_explanation'.format(y)]='pop_demand'\n"
     ]
    },
    {
     "name": "stdout",
     "output_type": "stream",
     "text": [
      "------------------------------------------\n",
      "2035\n",
      "total_kibolet:  137413.25420197833\n",
      "total_demand:  51121.438766827094\n",
      "pop_not_fit_in_taz:  13332.138296832742\n",
      "pop_kibolet_left:  99623.95373198394\n",
      "pop_not_fit_in_taz<=pop_kibolet_left\n",
      "------------------------------------------\n",
      "2040\n",
      "total_kibolet:  86291.8154351512\n",
      "total_demand:  49927.5882063552\n",
      "pop_not_fit_in_taz:  25023.76916806403\n",
      "pop_kibolet_left:  61387.996396860035\n",
      "pop_not_fit_in_taz<=pop_kibolet_left\n"
     ]
    },
    {
     "name": "stderr",
     "output_type": "stream",
     "text": [
      "C:\\Users\\dpere\\AppData\\Local\\Temp\\ipykernel_13240\\1356680665.py:45: FutureWarning: Setting an item of incompatible dtype is deprecated and will raise in a future error of pandas. Value 'pop_demand' has dtype incompatible with float64, please explicitly cast to a compatible dtype first.\n",
      "  taz.loc[taz['pop_delta']>0,'pop_{}_explanation'.format(y)]='pop_demand'\n",
      "C:\\Users\\dpere\\AppData\\Local\\Temp\\ipykernel_13240\\1356680665.py:45: FutureWarning: Setting an item of incompatible dtype is deprecated and will raise in a future error of pandas. Value 'pop_demand' has dtype incompatible with float64, please explicitly cast to a compatible dtype first.\n",
      "  taz.loc[taz['pop_delta']>0,'pop_{}_explanation'.format(y)]='pop_demand'\n"
     ]
    },
    {
     "name": "stdout",
     "output_type": "stream",
     "text": [
      "------------------------------------------\n",
      "2045\n",
      "total_kibolet:  36364.22722879601\n",
      "total_demand:  48230.6222676434\n",
      "pop_not_fit_in_taz:  34904.56295391077\n",
      "pop_kibolet_left:  23038.16791506338\n",
      "pop_not_fit_in_taz>pop_kibolet_left\n",
      "pop_not_fit_in_jeru:  11866.39503884739\n",
      "------------------------------------------\n",
      "2050\n",
      "total_kibolet:  0\n",
      "total_demand:  46798.07357171309\n",
      "pop_not_fit_in_taz:  46798.07357171309\n",
      "pop_kibolet_left:  0\n",
      "pop_not_fit_in_taz>pop_kibolet_left\n",
      "pop_not_fit_in_jeru:  46798.07357171309\n"
     ]
    },
    {
     "name": "stderr",
     "output_type": "stream",
     "text": [
      "C:\\Users\\dpere\\AppData\\Local\\Temp\\ipykernel_13240\\1356680665.py:45: FutureWarning: Setting an item of incompatible dtype is deprecated and will raise in a future error of pandas. Value 'pop_demand' has dtype incompatible with float64, please explicitly cast to a compatible dtype first.\n",
      "  taz.loc[taz['pop_delta']>0,'pop_{}_explanation'.format(y)]='pop_demand'\n",
      "C:\\Users\\dpere\\AppData\\Local\\Temp\\ipykernel_13240\\1356680665.py:45: FutureWarning: Setting an item of incompatible dtype is deprecated and will raise in a future error of pandas. Value 'pop_demand' has dtype incompatible with float64, please explicitly cast to a compatible dtype first.\n",
      "  taz.loc[taz['pop_delta']>0,'pop_{}_explanation'.format(y)]='pop_demand'\n"
     ]
    }
   ],
   "source": [
    "for y in year:\n",
    "        \n",
    "    # לחבר למצב הנוכחי את הגידול והתפלגות שהוא צריך לקבל\n",
    "    path=r'{}\\background_files\\pre_demo_growth_dislov_{}.shp'.format(software_data_folder_location, y)\n",
    "\n",
    "    demo=up_load_shp(path)\n",
    "\n",
    "    taz_point=make_point(taz.reset_index()[['Taz_num','geometry']])\n",
    "\n",
    "    demand=taz_point.sjoin(demo,how='left')\n",
    "    taz_age=demand.reset_index()[col_age]\n",
    "    \n",
    "    demand=demand[['Taz_num','precent_ad']].set_index('Taz_num')\n",
    "\n",
    "\n",
    "    \n",
    "    taz['precent_ad']=demand['precent_ad']\n",
    "    taz['precent_ad']=taz['precent_ad'].fillna(0)\n",
    "    taz['precent_ad_{}'.format(y)]=taz['precent_ad']\n",
    "\n",
    "    taz.loc[taz['precent_ad']>0,'pop_demand']=taz['current_pop']*taz['precent_ad']-taz['current_pop']\n",
    "    taz.loc[taz['precent_ad']<=0,'pop_demand']=0\n",
    "    taz['pop_demand_{}'.format(y)]=taz['pop_demand']\n",
    "    taz['pop_kibolet_{}'.format(y)]=taz['pop_kibolet']\n",
    "\n",
    "    # יצירת התפלגות,גידול וג\"מ הממוצע של כל אחד מהערכים האלו בחומש\n",
    "\n",
    "    # אזורים עם אוכלוסייה וללא התפלגות,גידול וג\"מ יקבלו את הערך הממוצע הנל\n",
    "\n",
    "    # מצב נוכחי גדל לפי אחוז\n",
    "\n",
    "    # השוואה בין אוכלוסית ביקוש לקיבולת\n",
    "\n",
    "    print(\"------------------------------------------\")\n",
    "    print(y)\n",
    "    print(\"total_kibolet: \",taz['pop_kibolet'].sum().item())\n",
    "    print(\"total_demand: \",taz['pop_demand'].sum().item())\n",
    "    \n",
    "    taz['pop_delta']=taz['pop_kibolet']-taz['pop_demand']\n",
    "    taz['pop_delta_{}'.format(y)]=taz['pop_delta']\n",
    "\n",
    "    # יש מקום לביקוש - לקחת את הביקוש\n",
    "    taz.loc[taz['pop_delta']>0,'current_pop']=taz['pop_demand']+taz['current_pop']\n",
    "    taz.loc[taz['pop_delta']>0,'pop_kibolet']=taz['pop_kibolet']-taz['pop_demand']\n",
    "    taz.loc[taz['pop_delta']>0,'pop_{}_explanation'.format(y)]='pop_demand'\n",
    "\n",
    "\n",
    "    # אין מקום לביקוש - לקחת את הקיבולת\n",
    "    taz.loc[(taz['pop_delta']<=0)&(taz['pop_kibolet']>0),'current_pop']=taz['pop_kibolet']+taz['current_pop']\n",
    "    taz.loc[(taz['pop_delta']<=0)&(taz['pop_kibolet']>0),'pop_kibolet']=0\n",
    "    taz.loc[(taz['pop_delta']<=0)&(taz['pop_kibolet']>0),'pop_{}_explanation'.format(y)]='full_pop_kibolet'\n",
    "    \n",
    "    \n",
    "\n",
    "    \n",
    "\n",
    "    \n",
    "    \n",
    "\n",
    "    # לקבץ את כלל האוכלוסיה ללא בית לסל אחד\n",
    "\n",
    "    pop_not_fit_in_taz=taz.loc[taz['pop_delta']<=0]['pop_delta'].sum().item()\n",
    "    \n",
    "    \n",
    "    \n",
    "    pop_not_fit_in_taz=abs(pop_not_fit_in_taz)\n",
    "    \n",
    "\n",
    "    \n",
    "    print(\"pop_not_fit_in_taz: \",pop_not_fit_in_taz)\n",
    "\n",
    "    # כימות כמה עוד מקום יש בקיבולת של ירושלים\n",
    "    pop_kibolet_left=taz['pop_kibolet'].sum().item()\n",
    "    \n",
    "    print(\"pop_kibolet_left: \",pop_kibolet_left)\n",
    "    \n",
    "    \n",
    "\n",
    "    \n",
    "\n",
    "\n",
    "    if pop_not_fit_in_taz>pop_kibolet_left:\n",
    "\n",
    "        print(\"pop_not_fit_in_taz>pop_kibolet_left\")\n",
    "\n",
    "\n",
    "        taz['current_pop']=taz['pop_kibolet']+taz['current_pop']\n",
    "        taz['pop_kibolet']=0\n",
    "        taz['pop_{}_explanation'.format(y)]=taz['pop_{}_explanation'.format(y)]+' +add_pop_to_fill_kibolet'\n",
    "                \n",
    "        pop_not_fit_in_jeru=pop_not_fit_in_taz-pop_kibolet_left\n",
    "        \n",
    "        print(\"pop_not_fit_in_jeru: \",pop_not_fit_in_jeru)\n",
    "        \n",
    "        taz_demo_pls['current_pop_pre']=taz_demo_pls['current_pop']/taz_demo_pls['current_pop'].sum().item()\n",
    "        taz_demo_pls['add_pop_{}_from_jeru'.format(y)]=taz_demo_pls['current_pop_pre']*pop_not_fit_in_jeru\n",
    "        taz_demo_pls['current_pop']=taz_demo_pls['current_pop']*taz_demo_pls['precent_add_pop_{}'.format(y)]\n",
    "        taz_demo_pls['current_pop']=taz_demo_pls['current_pop']+taz_demo_pls['add_pop_{}_from_jeru'.format(y)]\n",
    "        taz_demo_pls['pop_{}'.format(y)]=taz_demo_pls['current_pop']\n",
    "\n",
    "    else:\n",
    "\n",
    "        print(\"pop_not_fit_in_taz<=pop_kibolet_left\")\n",
    "        \n",
    "        \n",
    "        taz['add_pop_kibolet_from_pre']=taz['pop_kibolet']*(pop_not_fit_in_taz/pop_kibolet_left)\n",
    "        taz['add_pop_kibolet_from_pre_{}'.format(y)]=taz['add_pop_kibolet_from_pre']\n",
    "        taz['current_pop']=taz['add_pop_kibolet_from_pre']+taz['current_pop']\n",
    "        taz['pop_kibolet']=taz['pop_kibolet']-taz['add_pop_kibolet_from_pre']\n",
    "        taz.loc[taz['add_pop_kibolet_from_pre']>0,'pop_{}_explanation'.format(y)]=taz['pop_{}_explanation'.format(y)]+' +add_pop_by_pre_of_kibolet_pre'\n",
    "        \n",
    "        taz_demo_pls['current_pop']=taz_demo_pls['current_pop']*taz_demo_pls['precent_add_pop_{}'.format(y)]\n",
    "        taz_demo_pls['pop_{}'.format(y)]=taz_demo_pls['current_pop']\n",
    "        \n",
    "    \n",
    "    taz['pop_{}'.format(y)]=taz['current_pop']\n",
    "    taz['add_pop_{}_{}'.format(y,str(x))]=taz['current_pop']-taz['pop_{}'.format(str(x))]\n",
    "    taz.loc[(taz['add_pop_{}_{}'.format(y,str(x))]>0)&(taz['hh_size']<=0),'current_hh']=taz['current_hh']+taz['add_pop_{}_{}'.format(y,str(x))]/4.5\n",
    "    \n",
    "    taz.loc[(taz['add_pop_{}_{}'.format(y,str(x))]>0)&(taz['hh_size']>0),'current_hh']=taz['current_hh']+taz['add_pop_{}_{}'.format(y,str(x))]/4.5\n",
    "    \n",
    "    taz['hh_{}'.format(y)]=taz['current_hh']\n",
    "\n",
    "\n",
    "\n",
    "    \n",
    "    x=x+5\n",
    "    col_current=['Taz_num','hh_{}'.format(y),'pop_{}'.format(y)]\n",
    "    col=['pop_0',\n",
    "     'pop_10',\n",
    "     'pop_15',\n",
    "     'pop_20',\n",
    "     'pop_25',\n",
    "     'pop_30',\n",
    "     'pop_35',\n",
    "     'pop_40',\n",
    "     'pop_45',\n",
    "     'pop_5',\n",
    "     'pop_50',\n",
    "     'pop_55',\n",
    "     'pop_60',\n",
    "     'pop_65',\n",
    "     'pop_70',\n",
    "     'pop_75up']\n",
    "    \n",
    "    df=taz.reset_index()[col_current].merge(taz_age,how='left',on='Taz_num')\n",
    "    \n",
    "    df=pd.concat([df,locals()['taz_out_jeru_{}'.format(y)]],axis=0)\n",
    "    \n",
    "    \n",
    "\n",
    "    df1=df.loc[((df[col].sum(axis=1)==0)&(df['pop_{}'.format(y)]>0))]\n",
    "    \n",
    "    \n",
    "\n",
    "    df1=df1[col_current]\n",
    "\n",
    "    df1['join']=1\n",
    "\n",
    "    age_dis['join']=1\n",
    "\n",
    "    df1=df1.merge(age_dis,on='join',how='left').drop(columns='join')\n",
    "\n",
    "    df=df.loc[~((df[col].sum(axis=1)==0)&(df['pop_{}'.format(y)]>0))]\n",
    "\n",
    "    df=pd.concat([df,df1],axis=0)\n",
    "\n",
    "    \n",
    "    df=df.round(2)\n",
    "\n",
    "    \n",
    "    df[col]=df[col].div(df[col].sum(axis=1), axis=0)\n",
    "\n",
    "    \n",
    "    df[col] = df[col].apply(lambda x: x * df['pop_{}'.format(y)])\n",
    "    \n",
    "    df['pop_{}'.format(y)]=df[col].sum(axis=1)\n",
    "           \n",
    "    df=pd.concat([df,taz_demo_pls[['Taz_num','pop_{}'.format(y)]]],axis=0)  \n",
    "   \n",
    "\n",
    "    \n",
    "    col=['Taz_num','hh_{}'.format(y),'pop_{}'.format(y),'pop_0',\n",
    "         'pop_10',\n",
    "         'pop_15',\n",
    "         'pop_20',\n",
    "         'pop_25',\n",
    "         'pop_30',\n",
    "         'pop_35',\n",
    "         'pop_40',\n",
    "         'pop_45',\n",
    "         'pop_5',\n",
    "         'pop_50',\n",
    "         'pop_55',\n",
    "         'pop_60',\n",
    "         'pop_65',\n",
    "         'pop_70',\n",
    "         'pop_75up']\n",
    "        \n",
    "    df[col].to_excel(r'{}\\Intermediates\\taz_Arab_Palestinian_{}.xlsx'.format(software_data_folder_location, y),index=False)"
   ]
  }
 ],
 "metadata": {
  "kernelspec": {
   "display_name": "Python 3 (ipykernel)",
   "language": "python",
   "name": "python3"
  },
  "language_info": {
   "codemirror_mode": {
    "name": "ipython",
    "version": 3
   },
   "file_extension": ".py",
   "mimetype": "text/x-python",
   "name": "python",
   "nbconvert_exporter": "python",
   "pygments_lexer": "ipython3",
   "version": "3.11.5"
  },
  "toc": {
   "base_numbering": 1,
   "nav_menu": {},
   "number_sections": true,
   "sideBar": true,
   "skip_h1_title": false,
   "title_cell": "Table of Contents",
   "title_sidebar": "Contents",
   "toc_cell": false,
   "toc_position": {},
   "toc_section_display": true,
   "toc_window_display": true
  }
 },
 "nbformat": 4,
 "nbformat_minor": 5
}
