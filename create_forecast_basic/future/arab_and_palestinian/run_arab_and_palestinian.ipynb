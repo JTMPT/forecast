{
 "cells": [
  {
   "cell_type": "code",
   "execution_count": 1,
   "metadata": {},
   "outputs": [],
   "source": [
    "import os\n",
    "\n",
    "cwd = os.getcwd()\n",
    "\n",
    "def delete_folder_contents(folder_path):\n",
    "    for filename in os.listdir(folder_path):\n",
    "        file_path = os.path.join(folder_path, filename)\n",
    "        # Check if the path is a file or directory\n",
    "        if os.path.isfile(file_path):\n",
    "            # If it's a file, delete it\n",
    "            os.remove(file_path)\n",
    "        elif os.path.isdir(file_path):\n",
    "            # If it's a directory, recursively delete its contents\n",
    "            delete_folder_contents(file_path)\n",
    "            # After deleting the contents, remove the directory itself\n",
    "            os.rmdir(file_path)\n",
    "\n",
    "folder_path = './Intermediates'\n",
    "delete_folder_contents(folder_path)"
   ]
  },
  {
   "cell_type": "code",
   "execution_count": 3,
   "metadata": {},
   "outputs": [
    {
     "name": "stderr",
     "output_type": "stream",
     "text": [
      "C:\\Users\\dpere\\AppData\\Local\\Temp\\ipykernel_27188\\858144232.py:16: FutureWarning: The provided callable <built-in function sum> is currently using DataFrameGroupBy.sum. In a future version of pandas, the provided callable will be used directly. To keep current behavior pass the string \"sum\" instead.\n",
      "  demo=demo.pivot_table(index='Proj_Area',aggfunc=sum)[col]\n",
      "c:\\Users\\dpere\\miniconda3\\envs\\creat_forecast_ad_hoc_env\\Lib\\site-packages\\geopandas\\geodataframe.py:2469: UserWarning: `keep_geom_type=True` in overlay resulted in 4 dropped geometries of different geometry types than df1 has. Set `keep_geom_type=False` to retain all geometries\n",
      "  return geopandas.overlay(\n",
      "C:\\Users\\dpere\\AppData\\Local\\Temp\\ipykernel_27188\\1244303127.py:1: FutureWarning: The provided callable <built-in function sum> is currently using DataFrameGroupBy.sum. In a future version of pandas, the provided callable will be used directly. To keep current behavior pass the string \"sum\" instead.\n",
      "  taz_demo_pls=drop_geo(demo_taz_bld).pivot_table(index='Taz_num',aggfunc=sum)\n"
     ]
    }
   ],
   "source": [
    "%run $cwd\\palestinian_from_demo_230622.ipynb"
   ]
  },
  {
   "cell_type": "code",
   "execution_count": 4,
   "metadata": {},
   "outputs": [
    {
     "name": "stderr",
     "output_type": "stream",
     "text": [
      "C:\\Users\\dpere\\AppData\\Local\\Temp\\ipykernel_27188\\3984579034.py:1: FutureWarning: The provided callable <built-in function sum> is currently using DataFrameGroupBy.sum. In a future version of pandas, the provided callable will be used directly. To keep current behavior pass the string \"sum\" instead.\n",
      "  taz_arab_demo=pd.pivot_table(taz_arab_demo,index='taz',aggfunc=sum)[['pop_2020',\n",
      "C:\\Users\\dpere\\AppData\\Local\\Temp\\ipykernel_27188\\1852264142.py:6: UserWarning: Column names longer than 10 characters will be truncated when saved to ESRI Shapefile.\n",
      "  pd.merge(taz16_info,locals()['taz_arab_demo_age_{}'.format(y)],how='left',on='taz').dissolve(by=col_age_new)[['geometry']].reset_index().to_file(r'{}\\Intermediates\\pre_demo_growth_dislov_{}.shp'.format(cwd,y))\n",
      "C:\\Users\\dpere\\AppData\\Local\\Temp\\ipykernel_27188\\1852264142.py:6: UserWarning: Column names longer than 10 characters will be truncated when saved to ESRI Shapefile.\n",
      "  pd.merge(taz16_info,locals()['taz_arab_demo_age_{}'.format(y)],how='left',on='taz').dissolve(by=col_age_new)[['geometry']].reset_index().to_file(r'{}\\Intermediates\\pre_demo_growth_dislov_{}.shp'.format(cwd,y))\n",
      "C:\\Users\\dpere\\AppData\\Local\\Temp\\ipykernel_27188\\1852264142.py:6: UserWarning: Column names longer than 10 characters will be truncated when saved to ESRI Shapefile.\n",
      "  pd.merge(taz16_info,locals()['taz_arab_demo_age_{}'.format(y)],how='left',on='taz').dissolve(by=col_age_new)[['geometry']].reset_index().to_file(r'{}\\Intermediates\\pre_demo_growth_dislov_{}.shp'.format(cwd,y))\n",
      "C:\\Users\\dpere\\AppData\\Local\\Temp\\ipykernel_27188\\1852264142.py:6: UserWarning: Column names longer than 10 characters will be truncated when saved to ESRI Shapefile.\n",
      "  pd.merge(taz16_info,locals()['taz_arab_demo_age_{}'.format(y)],how='left',on='taz').dissolve(by=col_age_new)[['geometry']].reset_index().to_file(r'{}\\Intermediates\\pre_demo_growth_dislov_{}.shp'.format(cwd,y))\n",
      "C:\\Users\\dpere\\AppData\\Local\\Temp\\ipykernel_27188\\1852264142.py:6: UserWarning: Column names longer than 10 characters will be truncated when saved to ESRI Shapefile.\n",
      "  pd.merge(taz16_info,locals()['taz_arab_demo_age_{}'.format(y)],how='left',on='taz').dissolve(by=col_age_new)[['geometry']].reset_index().to_file(r'{}\\Intermediates\\pre_demo_growth_dislov_{}.shp'.format(cwd,y))\n",
      "C:\\Users\\dpere\\AppData\\Local\\Temp\\ipykernel_27188\\1852264142.py:6: UserWarning: Column names longer than 10 characters will be truncated when saved to ESRI Shapefile.\n",
      "  pd.merge(taz16_info,locals()['taz_arab_demo_age_{}'.format(y)],how='left',on='taz').dissolve(by=col_age_new)[['geometry']].reset_index().to_file(r'{}\\Intermediates\\pre_demo_growth_dislov_{}.shp'.format(cwd,y))\n"
     ]
    }
   ],
   "source": [
    "%run $cwd\\arab_growth_till_2050_from_demo_230618.ipynb"
   ]
  },
  {
   "cell_type": "code",
   "execution_count": 5,
   "metadata": {},
   "outputs": [
    {
     "name": "stdout",
     "output_type": "stream",
     "text": [
      "------------------------------------------\n",
      "2025\n",
      "total_kibolet:  235869.44800000003\n",
      "total_demand:  47413.55443089148\n",
      "pop_not_fit_in_taz:  343.6068327890348\n",
      "pop_kibolet_left:  188799.50040189756\n",
      "pop_not_fit_in_taz<=pop_kibolet_left\n",
      "------------------------------------------\n",
      "2030\n",
      "total_kibolet:  188455.89356910854\n",
      "total_demand:  51008.15310447636\n",
      "pop_not_fit_in_taz:  2707.6405935581056\n",
      "pop_kibolet_left:  140155.38105819025\n",
      "pop_not_fit_in_taz<=pop_kibolet_left\n"
     ]
    },
    {
     "name": "stderr",
     "output_type": "stream",
     "text": [
      "C:\\Users\\dpere\\AppData\\Local\\Temp\\ipykernel_27188\\3949940699.py:38: FutureWarning: Setting an item of incompatible dtype is deprecated and will raise in a future error of pandas. Value 'pop_demand' has dtype incompatible with float64, please explicitly cast to a compatible dtype first.\n",
      "  taz.loc[taz['pop_delta']>0,'pop_{}_explanation'.format(y)]='pop_demand'\n",
      "C:\\Users\\dpere\\AppData\\Local\\Temp\\ipykernel_27188\\3949940699.py:38: FutureWarning: Setting an item of incompatible dtype is deprecated and will raise in a future error of pandas. Value 'pop_demand' has dtype incompatible with float64, please explicitly cast to a compatible dtype first.\n",
      "  taz.loc[taz['pop_delta']>0,'pop_{}_explanation'.format(y)]='pop_demand'\n"
     ]
    },
    {
     "name": "stdout",
     "output_type": "stream",
     "text": [
      "------------------------------------------\n",
      "2035\n",
      "total_kibolet:  137447.74046463217\n",
      "total_demand:  51102.59765978278\n",
      "pop_not_fit_in_taz:  13332.122759871569\n",
      "pop_kibolet_left:  99677.26556472093\n",
      "pop_not_fit_in_taz<=pop_kibolet_left\n",
      "------------------------------------------\n",
      "2040\n",
      "total_kibolet:  86345.14280484937\n",
      "total_demand:  49907.386488863885\n",
      "pop_not_fit_in_taz:  25022.798589946415\n",
      "pop_kibolet_left:  61460.554905931895\n",
      "pop_not_fit_in_taz<=pop_kibolet_left\n"
     ]
    },
    {
     "name": "stderr",
     "output_type": "stream",
     "text": [
      "C:\\Users\\dpere\\AppData\\Local\\Temp\\ipykernel_27188\\3949940699.py:38: FutureWarning: Setting an item of incompatible dtype is deprecated and will raise in a future error of pandas. Value 'pop_demand' has dtype incompatible with float64, please explicitly cast to a compatible dtype first.\n",
      "  taz.loc[taz['pop_delta']>0,'pop_{}_explanation'.format(y)]='pop_demand'\n",
      "C:\\Users\\dpere\\AppData\\Local\\Temp\\ipykernel_27188\\3949940699.py:38: FutureWarning: Setting an item of incompatible dtype is deprecated and will raise in a future error of pandas. Value 'pop_demand' has dtype incompatible with float64, please explicitly cast to a compatible dtype first.\n",
      "  taz.loc[taz['pop_delta']>0,'pop_{}_explanation'.format(y)]='pop_demand'\n"
     ]
    },
    {
     "name": "stdout",
     "output_type": "stream",
     "text": [
      "------------------------------------------\n",
      "2045\n",
      "total_kibolet:  36437.75631598548\n",
      "total_demand:  48208.796329349\n",
      "pop_not_fit_in_taz:  34842.938414229946\n",
      "pop_kibolet_left:  23071.898400866427\n",
      "pop_not_fit_in_taz>pop_kibolet_left\n",
      "pop_not_fit_in_jeru:  11771.04001336352\n",
      "------------------------------------------\n",
      "2050\n",
      "total_kibolet:  0\n",
      "total_demand:  46784.12357171309\n",
      "pop_not_fit_in_taz:  46784.12357171309\n",
      "pop_kibolet_left:  0\n",
      "pop_not_fit_in_taz>pop_kibolet_left\n",
      "pop_not_fit_in_jeru:  46784.12357171309\n"
     ]
    },
    {
     "name": "stderr",
     "output_type": "stream",
     "text": [
      "C:\\Users\\dpere\\AppData\\Local\\Temp\\ipykernel_27188\\3949940699.py:38: FutureWarning: Setting an item of incompatible dtype is deprecated and will raise in a future error of pandas. Value 'pop_demand' has dtype incompatible with float64, please explicitly cast to a compatible dtype first.\n",
      "  taz.loc[taz['pop_delta']>0,'pop_{}_explanation'.format(y)]='pop_demand'\n",
      "C:\\Users\\dpere\\AppData\\Local\\Temp\\ipykernel_27188\\3949940699.py:38: FutureWarning: Setting an item of incompatible dtype is deprecated and will raise in a future error of pandas. Value 'pop_demand' has dtype incompatible with float64, please explicitly cast to a compatible dtype first.\n",
      "  taz.loc[taz['pop_delta']>0,'pop_{}_explanation'.format(y)]='pop_demand'\n"
     ]
    }
   ],
   "source": [
    "%run $cwd\\230709_arab_growth_vs_kibolt.ipynb"
   ]
  }
 ],
 "metadata": {
  "kernelspec": {
   "display_name": "creat_forecast_ad_hoc_env",
   "language": "python",
   "name": "python3"
  },
  "language_info": {
   "codemirror_mode": {
    "name": "ipython",
    "version": 3
   },
   "file_extension": ".py",
   "mimetype": "text/x-python",
   "name": "python",
   "nbconvert_exporter": "python",
   "pygments_lexer": "ipython3",
   "version": "3.11.5"
  }
 },
 "nbformat": 4,
 "nbformat_minor": 2
}
