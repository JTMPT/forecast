{
 "cells": [
  {
   "cell_type": "markdown",
   "id": "0e7214ba",
   "metadata": {
    "heading_collapsed": true
   },
   "source": [
    "### קוד מבוא"
   ]
  },
  {
   "cell_type": "markdown",
   "id": "06f4712a",
   "metadata": {},
   "source": [
    "#### ספריות"
   ]
  },
  {
   "cell_type": "code",
   "execution_count": 1,
   "id": "f8405d52",
   "metadata": {
    "hidden": true
   },
   "outputs": [],
   "source": [
    "import os\n",
    "import sys\n",
    "import pandas as pd"
   ]
  },
  {
   "cell_type": "code",
   "execution_count": 2,
   "id": "2dacbc13",
   "metadata": {
    "hidden": true
   },
   "outputs": [],
   "source": [
    "pd.set_option('display.max_rows', None)\n",
    "pd.set_option('display.max_columns', None)\n",
    "pd.options.display.float_format = '{:.4f}'.format\n",
    "pd.set_option('display.float_format',  '{:,.2f}'.format)"
   ]
  },
  {
   "cell_type": "markdown",
   "id": "9cb6f056",
   "metadata": {},
   "source": [
    "#### העלאת משתנים להרצת הקוד"
   ]
  },
  {
   "cell_type": "code",
   "execution_count": 3,
   "id": "73376f98",
   "metadata": {},
   "outputs": [],
   "source": [
    "df_inputs_outputs = pd.read_excel('inputs_outputs.xlsx')\n",
    "\n",
    "software_data_folder_location=df_inputs_outputs['location'][0]\n",
    "\n",
    "forecast_version_folder_location=df_inputs_outputs['location'][1]\n",
    "\n",
    "future_folder = os.path.dirname(software_data_folder_location)\n",
    "\n",
    "sys.path.append(future_folder)"
   ]
  },
  {
   "cell_type": "markdown",
   "id": "9624443e",
   "metadata": {
    "heading_collapsed": true
   },
   "source": [
    "### פונקציות"
   ]
  },
  {
   "cell_type": "markdown",
   "id": "b7016be0",
   "metadata": {},
   "source": [
    "### פונקציות גלובליות"
   ]
  },
  {
   "cell_type": "code",
   "execution_count": 4,
   "id": "5ab38b13",
   "metadata": {},
   "outputs": [],
   "source": [
    "from global_functions import up_load_shp, up_load_df"
   ]
  },
  {
   "cell_type": "markdown",
   "id": "b1283c8d",
   "metadata": {
    "heading_collapsed": true
   },
   "source": [
    "### העלאת שכבת אזורי תנועה ישנים"
   ]
  },
  {
   "cell_type": "code",
   "execution_count": 6,
   "id": "c1e6223b",
   "metadata": {
    "hidden": true
   },
   "outputs": [],
   "source": [
    "taz16=up_load_shp(r'{}\\background_files\\ezorey_tnua_600_2015_ITM.shp'.format(software_data_folder_location))\n",
    "\n",
    "taz16['taz']=taz16['TAZ_Num'].astype(str).astype(int)"
   ]
  },
  {
   "cell_type": "markdown",
   "id": "fa642ab4",
   "metadata": {},
   "source": [
    "### העלאת טבלת תחזיות ערבים מחוז ירושלים"
   ]
  },
  {
   "cell_type": "code",
   "execution_count": 11,
   "id": "c0d0798b",
   "metadata": {},
   "outputs": [],
   "source": [
    "taz_arab_demo=up_load_df(r'{}\\background_files'.format(software_data_folder_location), '‏‏ArabTAZ_in_jeru_dis_after_jtmt')"
   ]
  },
  {
   "cell_type": "code",
   "execution_count": 9,
   "id": "566554d2",
   "metadata": {},
   "outputs": [],
   "source": [
    "year=[\"2020\",\n",
    "\"2025\",\n",
    "\"2030\",\n",
    "\"2035\",\n",
    "\"2040\",\n",
    "\"2045\",\n",
    "\"2050\"]\n",
    "\n",
    "for y in year:\n",
    "    taz_arab_demo['pop_{}'.format(y)]=taz_arab_demo['זכרים {}'.format(y)]+taz_arab_demo['נקבות {}'.format(y)]\n",
    "\n",
    "    locals()['taz_arab_demo_age_{}'.format(y)]=pd.pivot_table(taz_arab_demo,columns='Age',values='pop_{}'.format(y),index='taz',aggfunc='sum')\n",
    "    \n",
    "    locals()['taz_arab_demo_age_{}'.format(y)]=locals()['taz_arab_demo_age_{}'.format(y)].apply(lambda row: row / row.sum(), axis=1).round(2).fillna(0).reset_index()\n",
    "\n",
    "    col_new=['taz','pop_0','pop_10','pop_15','pop_20','pop_25','pop_30','pop_35','pop_40','pop_45','pop_5','pop_50','pop_55','pop_60','pop_65','pop_70','pop_75up']\n",
    "    \n",
    "    locals()['taz_arab_demo_age_{}'.format(y)].columns=col_new"
   ]
  },
  {
   "cell_type": "markdown",
   "id": "216da2b3",
   "metadata": {},
   "source": [
    "לייצר גידול שנתי"
   ]
  },
  {
   "cell_type": "code",
   "execution_count": null,
   "id": "9f02af9c",
   "metadata": {
    "code_folding": []
   },
   "outputs": [],
   "source": [
    "taz_arab_demo=pd.pivot_table(taz_arab_demo,index='taz',aggfunc=sum)[['pop_2020',\n",
    " 'pop_2025',\n",
    " 'pop_2030',\n",
    " 'pop_2035',\n",
    " 'pop_2040',\n",
    " 'pop_2045',\n",
    " 'pop_2050']]"
   ]
  },
  {
   "cell_type": "code",
   "execution_count": null,
   "id": "141c95ed",
   "metadata": {
    "scrolled": true
   },
   "outputs": [],
   "source": [
    "add_year=['2025', '2030', '2035', '2040', '2045', '2050']\n",
    "\n",
    "x=2020\n",
    "for y in add_year:\n",
    "    taz_arab_demo['precent_add_pop_{}'.format(y)]=taz_arab_demo['pop_{}'.format(y)]/taz_arab_demo['pop_{}'.format(str(x))]\n",
    "    taz_arab_demo['precent_add_pop_{}'.format(y)]=taz_arab_demo['precent_add_pop_{}'.format(y)].round(2)\n",
    "    taz_arab_demo['precent_add_pop_{}'.format(y)].fillna(0)\n",
    "    x+=5"
   ]
  },
  {
   "cell_type": "code",
   "execution_count": null,
   "id": "072df9a3",
   "metadata": {},
   "outputs": [],
   "source": [
    "taz_arab_demo=taz_arab_demo.fillna(0).reset_index()"
   ]
  },
  {
   "cell_type": "markdown",
   "id": "1a1e6d11",
   "metadata": {},
   "source": [
    "### חיבור בין הטבלה לשכבה של דמוגרף "
   ]
  },
  {
   "cell_type": "code",
   "execution_count": null,
   "id": "2c112e71",
   "metadata": {},
   "outputs": [],
   "source": [
    "taz16_info=pd.merge(taz16[['taz','geometry']],taz_arab_demo,on='taz')"
   ]
  },
  {
   "cell_type": "code",
   "execution_count": null,
   "id": "fb503098",
   "metadata": {
    "scrolled": true
   },
   "outputs": [],
   "source": [
    "col_age=['pop_0','pop_10','pop_15','pop_20','pop_25','pop_30','pop_35','pop_40','pop_45','pop_5','pop_50','pop_55','pop_60','pop_65','pop_70','pop_75up']\n",
    "\n",
    "for y in add_year:\n",
    "    col_age_new = col_age[:] \n",
    "    col_age_new.append('precent_add_pop_{}'.format(y))\n",
    "    pd.merge(taz16_info,locals()['taz_arab_demo_age_{}'.format(y)],how='left',on='taz').dissolve(by=col_age_new)[['geometry']].reset_index().to_file(r'{}\\Intermediates\\pre_demo_growth_dislov_{}.shp'.format(software_data_folder_location,y))"
   ]
  }
 ],
 "metadata": {
  "kernelspec": {
   "display_name": "Python 3 (ipykernel)",
   "language": "python",
   "name": "python3"
  },
  "language_info": {
   "codemirror_mode": {
    "name": "ipython",
    "version": 3
   },
   "file_extension": ".py",
   "mimetype": "text/x-python",
   "name": "python",
   "nbconvert_exporter": "python",
   "pygments_lexer": "ipython3",
   "version": "3.11.5"
  },
  "toc": {
   "base_numbering": 1,
   "nav_menu": {},
   "number_sections": true,
   "sideBar": true,
   "skip_h1_title": false,
   "title_cell": "Table of Contents",
   "title_sidebar": "Contents",
   "toc_cell": false,
   "toc_position": {},
   "toc_section_display": true,
   "toc_window_display": true
  }
 },
 "nbformat": 4,
 "nbformat_minor": 5
}
