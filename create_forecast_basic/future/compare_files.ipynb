{
 "cells": [
  {
   "cell_type": "code",
   "execution_count": 1,
   "metadata": {},
   "outputs": [],
   "source": [
    "import pandas as pd"
   ]
  },
  {
   "cell_type": "code",
   "execution_count": 3,
   "metadata": {},
   "outputs": [],
   "source": [
    "\n",
    "# הקבצים שאנחנו רוצים להשוות\n",
    "df1 = pd.read_excel(r\"C:\\Users\\dpere\\Downloads\\230720_kibolt_jew_2050_by_type.xlsx\").set_index('Taz_num').sort_index()\n",
    "df2 = pd.read_excel(r\"C:\\Users\\dpere\\Documents\\JTMT\\forecast_git\\create_forecast_basic\\future\\JTMT\\Intermediates\\240304_kibolt_jew_2050_by_type.xlsx\").set_index('Taz_num').sort_index()\n"
   ]
  },
  {
   "cell_type": "code",
   "execution_count": 4,
   "metadata": {},
   "outputs": [],
   "source": [
    "compare= df1.compare(df2)\n",
    "compare.to_excel(r\"C:\\Users\\dpere\\Documents\\JTMT\\forecast_by_version\\V4\\BASE_YEAR\\compare.xlsx\")"
   ]
  }
 ],
 "metadata": {
  "kernelspec": {
   "display_name": "creat_forecast_ad_hoc_env",
   "language": "python",
   "name": "python3"
  },
  "language_info": {
   "codemirror_mode": {
    "name": "ipython",
    "version": 3
   },
   "file_extension": ".py",
   "mimetype": "text/x-python",
   "name": "python",
   "nbconvert_exporter": "python",
   "pygments_lexer": "ipython3",
   "version": "3.11.5"
  }
 },
 "nbformat": 4,
 "nbformat_minor": 2
}
