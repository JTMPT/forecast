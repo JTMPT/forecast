{
 "cells": [
  {
   "cell_type": "code",
   "execution_count": 206,
   "metadata": {},
   "outputs": [],
   "source": [
    "import pandas as pd\n",
    "import numpy as np"
   ]
  },
  {
   "cell_type": "code",
   "execution_count": 225,
   "metadata": {},
   "outputs": [],
   "source": [
    "# הקבצים שאנחנו רוצים להשוות\n",
    "df1_summer = pd.read_excel(r\"C:\\Users\\dpere\\Documents\\JTMT\\קיץ\\forecast_by_version\\230720_forecast_2020_till_2050_jtmt.xlsx\").set_index('Taz_num').sort_index()\n",
    "df2_now = pd.read_excel(r\"C:\\Users\\dpere\\Documents\\JTMT\\forecast_by_version\\V4\\BASE_YEAR\\240318_forecast_2020_till_2050_jtmt.xlsx\").set_index('Taz_num').sort_index() "
   ]
  },
  {
   "cell_type": "code",
   "execution_count": 208,
   "metadata": {},
   "outputs": [],
   "source": [
    "# df1 = pd.read_excel(r\"C:\\Users\\dpere\\Documents\\JTMT\\קיץ\\iplan\\Intermediates\\change_pop\\230720_pop_2025_iplan_changed.xlsx\").set_index('Taz_num').sort_index() \n",
    "# df2 = pd.read_excel(r\"C:\\Users\\dpere\\Documents\\JTMT\\forecast_git\\create_forecast_basic\\future\\iplan\\Intermediates\\change_pop\\240318_pop_2025_iplan_changed.xlsx\").set_index('Taz_num').sort_index() "
   ]
  },
  {
   "cell_type": "code",
   "execution_count": 226,
   "metadata": {},
   "outputs": [
    {
     "data": {
      "text/plain": [
       "Taz_num\n",
       "1         Jerusalem\n",
       "2         Jerusalem\n",
       "3         Jerusalem\n",
       "4         Jerusalem\n",
       "5         Jerusalem\n",
       "           ...     \n",
       "8975    Palestinian\n",
       "8976    Palestinian\n",
       "8977    Palestinian\n",
       "8978    Palestinian\n",
       "8979    Palestinian\n",
       "Name: zonetype, Length: 904, dtype: object"
      ]
     },
     "execution_count": 226,
     "metadata": {},
     "output_type": "execute_result"
    }
   ],
   "source": [
    "# sum1 = df1['pop_0'].sum()\n",
    "# sum2 = df2['pop_0'].sum()\n",
    "# sum1 - sum2\n",
    "df2_now['zonetype']"
   ]
  },
  {
   "cell_type": "code",
   "execution_count": 235,
   "metadata": {},
   "outputs": [
    {
     "data": {
      "text/plain": [
       "main_secto\n",
       "Arab                             5.880000e+00\n",
       "Jewish                          -3.492460e-10\n",
       "U_Orthodox                      -1.164153e-10\n",
       "arabs_behined_seperation_wall   -3.360000e+01\n",
       "Name: pop_without_dorms_yeshiva_2045, dtype: float64"
      ]
     },
     "execution_count": 235,
     "metadata": {},
     "output_type": "execute_result"
    }
   ],
   "source": [
    "# Filter the DataFrame based on 'zonetype' column\n",
    "df1_filtered = df1_summer[df1_summer['zonetype'] == 'Jerusalem']\n",
    "df2_filtered = df2_now[df2_now['zonetype'] == 'Jerusalem']\n",
    "\n",
    "# Group by 'main_sector' and sum 'pop_70' for each group\n",
    "sum_by_sector1 = df1_filtered.groupby('main_secto')['pop_without_dorms_yeshiva_2045'].sum()\n",
    "sum_by_sector1['Arab'] = sum_by_sector1['Arab'] + sum_by_sector1['arabs_behined_seperation_wall']\n",
    "sum_by_sector1\n",
    "\n",
    "# Group by 'main_sector' and sum 'pop_70' for each group\n",
    "sum_by_sector2 = df2_filtered.groupby('main_secto')['pop_without_dorms_yeshiva_2045'].sum()\n",
    "sum_by_sector2['Arab'] = sum_by_sector2['Arab'] + sum_by_sector2['arabs_behined_seperation_wall']\n",
    "sum_by_sector2-sum_by_sector1"
   ]
  },
  {
   "cell_type": "code",
   "execution_count": 198,
   "metadata": {},
   "outputs": [],
   "source": [
    "for col in df1_summer.columns:\n",
    "    df1_summer[col] = pd.to_numeric(df1_summer[col], errors='coerce')\n",
    "\n",
    "for col in df2_now.columns:\n",
    "    df2_now[col] = pd.to_numeric(df2_now[col], errors='coerce')"
   ]
  },
  {
   "cell_type": "code",
   "execution_count": 199,
   "metadata": {},
   "outputs": [],
   "source": [
    "# # Filter the DataFrame based on 'zonetype' column\n",
    "# df_filtered = df2_summer[df2_summer['zonetype'] == 'Jerusalem']\n",
    "\n",
    "# # Group by 'main_sector' and sum 'pop_70' for each group\n",
    "# sum_by_sector = df_filtered.groupby('group')['pop_0'].sum()\n",
    "# # sum_by_sector['Arab'] = sum_by_sector['Arab'] + sum_by_sector['arabs_behined_seperation_wall']\n",
    "# # sum_by_sector['arabs_behined_seperation_wall'] = 0\n",
    "# # sum_by_sector\n",
    "# sum_by_sector"
   ]
  },
  {
   "cell_type": "code",
   "execution_count": 200,
   "metadata": {},
   "outputs": [],
   "source": [
    "# compare= df1_summer.apply(np.ceil).compare(df2_now.apply(np.ceil))\n",
    "compare = df1_summer.apply(lambda x: np.ceil(x / 10) * 10).compare(df2_now.apply(lambda x: np.ceil(x / 10) * 10))"
   ]
  },
  {
   "cell_type": "code",
   "execution_count": 201,
   "metadata": {},
   "outputs": [
    {
     "data": {
      "text/html": [
       "<div>\n",
       "<style scoped>\n",
       "    .dataframe tbody tr th:only-of-type {\n",
       "        vertical-align: middle;\n",
       "    }\n",
       "\n",
       "    .dataframe tbody tr th {\n",
       "        vertical-align: top;\n",
       "    }\n",
       "\n",
       "    .dataframe thead tr th {\n",
       "        text-align: left;\n",
       "    }\n",
       "\n",
       "    .dataframe thead tr:last-of-type th {\n",
       "        text-align: right;\n",
       "    }\n",
       "</style>\n",
       "<table border=\"1\" class=\"dataframe\">\n",
       "  <thead>\n",
       "    <tr>\n",
       "      <th></th>\n",
       "      <th colspan=\"2\" halign=\"left\">current_aprt_2025_2030</th>\n",
       "      <th colspan=\"2\" halign=\"left\">pop_0</th>\n",
       "      <th colspan=\"2\" halign=\"left\">pop_5</th>\n",
       "      <th colspan=\"2\" halign=\"left\">pop_10</th>\n",
       "      <th colspan=\"2\" halign=\"left\">pop_15</th>\n",
       "      <th>...</th>\n",
       "      <th colspan=\"2\" halign=\"left\">pop_70</th>\n",
       "      <th colspan=\"2\" halign=\"left\">pop_75up</th>\n",
       "      <th colspan=\"2\" halign=\"left\">pop</th>\n",
       "      <th colspan=\"2\" halign=\"left\">pop_2030</th>\n",
       "      <th colspan=\"2\" halign=\"left\">aprt_2030</th>\n",
       "    </tr>\n",
       "    <tr>\n",
       "      <th></th>\n",
       "      <th>self</th>\n",
       "      <th>other</th>\n",
       "      <th>self</th>\n",
       "      <th>other</th>\n",
       "      <th>self</th>\n",
       "      <th>other</th>\n",
       "      <th>self</th>\n",
       "      <th>other</th>\n",
       "      <th>self</th>\n",
       "      <th>other</th>\n",
       "      <th>...</th>\n",
       "      <th>self</th>\n",
       "      <th>other</th>\n",
       "      <th>self</th>\n",
       "      <th>other</th>\n",
       "      <th>self</th>\n",
       "      <th>other</th>\n",
       "      <th>self</th>\n",
       "      <th>other</th>\n",
       "      <th>self</th>\n",
       "      <th>other</th>\n",
       "    </tr>\n",
       "    <tr>\n",
       "      <th>Taz_num</th>\n",
       "      <th></th>\n",
       "      <th></th>\n",
       "      <th></th>\n",
       "      <th></th>\n",
       "      <th></th>\n",
       "      <th></th>\n",
       "      <th></th>\n",
       "      <th></th>\n",
       "      <th></th>\n",
       "      <th></th>\n",
       "      <th></th>\n",
       "      <th></th>\n",
       "      <th></th>\n",
       "      <th></th>\n",
       "      <th></th>\n",
       "      <th></th>\n",
       "      <th></th>\n",
       "      <th></th>\n",
       "      <th></th>\n",
       "      <th></th>\n",
       "      <th></th>\n",
       "    </tr>\n",
       "  </thead>\n",
       "  <tbody>\n",
       "    <tr>\n",
       "      <th>7801</th>\n",
       "      <td>870.0</td>\n",
       "      <td>920.0</td>\n",
       "      <td>660.0</td>\n",
       "      <td>690.0</td>\n",
       "      <td>540.0</td>\n",
       "      <td>570.0</td>\n",
       "      <td>490.0</td>\n",
       "      <td>510.0</td>\n",
       "      <td>370.0</td>\n",
       "      <td>390.0</td>\n",
       "      <td>...</td>\n",
       "      <td>NaN</td>\n",
       "      <td>NaN</td>\n",
       "      <td>140.0</td>\n",
       "      <td>150.0</td>\n",
       "      <td>3920.0</td>\n",
       "      <td>4100.0</td>\n",
       "      <td>3920.0</td>\n",
       "      <td>4100.0</td>\n",
       "      <td>870.0</td>\n",
       "      <td>920.0</td>\n",
       "    </tr>\n",
       "    <tr>\n",
       "      <th>7802</th>\n",
       "      <td>1580.0</td>\n",
       "      <td>1540.0</td>\n",
       "      <td>1430.0</td>\n",
       "      <td>1390.0</td>\n",
       "      <td>1320.0</td>\n",
       "      <td>1290.0</td>\n",
       "      <td>1060.0</td>\n",
       "      <td>1040.0</td>\n",
       "      <td>500.0</td>\n",
       "      <td>490.0</td>\n",
       "      <td>...</td>\n",
       "      <td>70.0</td>\n",
       "      <td>60.0</td>\n",
       "      <td>NaN</td>\n",
       "      <td>NaN</td>\n",
       "      <td>7880.0</td>\n",
       "      <td>7680.0</td>\n",
       "      <td>7880.0</td>\n",
       "      <td>7680.0</td>\n",
       "      <td>1580.0</td>\n",
       "      <td>1540.0</td>\n",
       "    </tr>\n",
       "  </tbody>\n",
       "</table>\n",
       "<p>2 rows × 38 columns</p>\n",
       "</div>"
      ],
      "text/plain": [
       "        current_aprt_2025_2030           pop_0           pop_5          \\\n",
       "                          self   other    self   other    self   other   \n",
       "Taz_num                                                                  \n",
       "7801                     870.0   920.0   660.0   690.0   540.0   570.0   \n",
       "7802                    1580.0  1540.0  1430.0  1390.0  1320.0  1290.0   \n",
       "\n",
       "         pop_10         pop_15         ... pop_70       pop_75up         \\\n",
       "           self   other   self  other  ...   self other     self  other   \n",
       "Taz_num                                ...                                \n",
       "7801      490.0   510.0  370.0  390.0  ...    NaN   NaN    140.0  150.0   \n",
       "7802     1060.0  1040.0  500.0  490.0  ...   70.0  60.0      NaN    NaN   \n",
       "\n",
       "            pop         pop_2030         aprt_2030          \n",
       "           self   other     self   other      self   other  \n",
       "Taz_num                                                     \n",
       "7801     3920.0  4100.0   3920.0  4100.0     870.0   920.0  \n",
       "7802     7880.0  7680.0   7880.0  7680.0    1580.0  1540.0  \n",
       "\n",
       "[2 rows x 38 columns]"
      ]
     },
     "execution_count": 201,
     "metadata": {},
     "output_type": "execute_result"
    }
   ],
   "source": [
    "# compare = df1_summer.compare(df2_now)\n",
    "name = '230720_forecast_pop_jewish_2025_2030_iplan'\n",
    "compare.to_excel(r\"C:\\Users\\dpere\\Documents\\JTMT\\compare\\{}_compare.xlsx\".format(name))\n",
    "compare"
   ]
  }
 ],
 "metadata": {
  "kernelspec": {
   "display_name": "creat_forecast_ad_hoc_env",
   "language": "python",
   "name": "python3"
  },
  "language_info": {
   "codemirror_mode": {
    "name": "ipython",
    "version": 3
   },
   "file_extension": ".py",
   "mimetype": "text/x-python",
   "name": "python",
   "nbconvert_exporter": "python",
   "pygments_lexer": "ipython3",
   "version": "3.11.5"
  }
 },
 "nbformat": 4,
 "nbformat_minor": 2
}
