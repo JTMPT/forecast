{
 "cells": [
  {
   "cell_type": "code",
   "execution_count": 3,
   "metadata": {},
   "outputs": [],
   "source": [
    "import pandas as pd\n",
    "import numpy as np"
   ]
  },
  {
   "cell_type": "code",
   "execution_count": 4,
   "metadata": {},
   "outputs": [],
   "source": [
    "# הקבצים שאנחנו רוצים להשוות\n",
    "df1_summer = pd.read_excel(r\"C:\\Users\\dpere\\Documents\\JTMT\\קיץ\\iplan\\Intermediates\\230720_kibolt_jew_till_2050_iplan.xlsx\").set_index('Taz_num').sort_index()\n",
    "df2_now = pd.read_excel(r\"C:\\Users\\dpere\\Documents\\JTMT\\forecast_git\\create_forecast_basic\\future\\iplan\\Intermediates\\240318_kibolt_jew_till_2050_iplan.xlsx\").set_index('Taz_num').sort_index() "
   ]
  },
  {
   "cell_type": "code",
   "execution_count": 5,
   "metadata": {},
   "outputs": [],
   "source": [
    "# df1 = pd.read_excel(r\"C:\\Users\\dpere\\Documents\\JTMT\\forecast_git\\create_forecast_basic\\future\\JTMT\\Intermediates\\240314_forecast_2020_till_2050_jtmt.xlsx\").set_index('Taz_num').sort_index() \n",
    "# df2 = pd.read_excel(r\"C:\\Users\\dpere\\Documents\\JTMT\\קיץ\\JTMT\\Intermediates\\230720_forecast_2020_till_2050_jtmt.xlsx\").set_index('Taz_num').sort_index() "
   ]
  },
  {
   "cell_type": "code",
   "execution_count": 6,
   "metadata": {},
   "outputs": [],
   "source": [
    "# # Filter the DataFrame based on 'zonetype' column\n",
    "# df_filtered = df1[df1['zonetype'] == 'Jerusalem']\n",
    "\n",
    "# # Group by 'main_sector' and sum 'pop_70' for each group\n",
    "# sum_by_sector = df_filtered.groupby('main_secto')['pop_without_dorms_yeshiva_2045'].sum()\n",
    "# # sum_by_sector['Arab'] = sum_by_sector['Arab'] + sum_by_sector['arabs_behined_seperation_wall']\n",
    "# sum_by_sector"
   ]
  },
  {
   "cell_type": "code",
   "execution_count": 7,
   "metadata": {},
   "outputs": [],
   "source": [
    "# # Filter the DataFrame based on 'zonetype' column\n",
    "# df_filtered = df2[df2['zonetype'] == 'Jerusalem']\n",
    "\n",
    "# # Group by 'main_sector' and sum 'pop_70' for each group\n",
    "# sum_by_sector = df_filtered.groupby('main_secto')['pop_without_dorms_yeshiva_2045'].sum()\n",
    "# # sum_by_sector['Arab'] = sum_by_sector['Arab'] + sum_by_sector['arabs_behined_seperation_wall']\n",
    "# sum_by_sector"
   ]
  },
  {
   "cell_type": "code",
   "execution_count": 8,
   "metadata": {},
   "outputs": [],
   "source": [
    "# for col in df1_now.columns:\n",
    "#     df1_now[col] = pd.to_numeric(df1_now[col], errors='coerce')\n",
    "\n",
    "# for col in df2_summer.columns:\n",
    "#     df2_summer[col] = pd.to_numeric(df2_summer[col], errors='coerce')"
   ]
  },
  {
   "cell_type": "code",
   "execution_count": 9,
   "metadata": {},
   "outputs": [],
   "source": [
    "# # Filter the DataFrame based on 'zonetype' column\n",
    "# df_filtered = df2_summer[df2_summer['zonetype'] == 'Jerusalem']\n",
    "\n",
    "# # Group by 'main_sector' and sum 'pop_70' for each group\n",
    "# sum_by_sector = df_filtered.groupby('group')['pop_0'].sum()\n",
    "# # sum_by_sector['Arab'] = sum_by_sector['Arab'] + sum_by_sector['arabs_behined_seperation_wall']\n",
    "# # sum_by_sector['arabs_behined_seperation_wall'] = 0\n",
    "# # sum_by_sector\n",
    "# sum_by_sector"
   ]
  },
  {
   "cell_type": "code",
   "execution_count": 10,
   "metadata": {},
   "outputs": [],
   "source": [
    "# compare= df1_now.apply(np.ceil).compare(df2_summer.apply(np.ceil))\n",
    "# compare = df1_now.apply(lambda x: np.ceil(x / 10) * 10).compare(df2_summer.apply(lambda x: np.ceil(x / 10) * 10))"
   ]
  },
  {
   "cell_type": "code",
   "execution_count": 11,
   "metadata": {},
   "outputs": [
    {
     "data": {
      "text/html": [
       "<div>\n",
       "<style scoped>\n",
       "    .dataframe tbody tr th:only-of-type {\n",
       "        vertical-align: middle;\n",
       "    }\n",
       "\n",
       "    .dataframe tbody tr th {\n",
       "        vertical-align: top;\n",
       "    }\n",
       "\n",
       "    .dataframe thead tr th {\n",
       "        text-align: left;\n",
       "    }\n",
       "\n",
       "    .dataframe thead tr:last-of-type th {\n",
       "        text-align: right;\n",
       "    }\n",
       "</style>\n",
       "<table border=\"1\" class=\"dataframe\">\n",
       "  <thead>\n",
       "    <tr>\n",
       "      <th>Taz_num</th>\n",
       "    </tr>\n",
       "  </thead>\n",
       "  <tbody>\n",
       "  </tbody>\n",
       "</table>\n",
       "</div>"
      ],
      "text/plain": [
       "Empty DataFrame\n",
       "Columns: []\n",
       "Index: []"
      ]
     },
     "execution_count": 11,
     "metadata": {},
     "output_type": "execute_result"
    }
   ],
   "source": [
    "compare = df1_summer.compare(df2_now)\n",
    "name = '230720_kibolt_jew_till_2050_iplan'\n",
    "compare.to_excel(r\"C:\\Users\\dpere\\Documents\\JTMT\\compare\\{}_compare.xlsx\".format(name))\n",
    "compare"
   ]
  }
 ],
 "metadata": {
  "kernelspec": {
   "display_name": "creat_forecast_ad_hoc_env",
   "language": "python",
   "name": "python3"
  },
  "language_info": {
   "codemirror_mode": {
    "name": "ipython",
    "version": 3
   },
   "file_extension": ".py",
   "mimetype": "text/x-python",
   "name": "python",
   "nbconvert_exporter": "python",
   "pygments_lexer": "ipython3",
   "version": "3.11.5"
  }
 },
 "nbformat": 4,
 "nbformat_minor": 2
}
