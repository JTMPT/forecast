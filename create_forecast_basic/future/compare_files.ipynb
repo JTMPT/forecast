{
 "cells": [
  {
   "cell_type": "code",
   "execution_count": 99,
   "metadata": {},
   "outputs": [],
   "source": [
    "import pandas as pd\n",
    "import numpy as np"
   ]
  },
  {
   "cell_type": "code",
   "execution_count": 100,
   "metadata": {},
   "outputs": [],
   "source": [
    "# הקבצים שאנחנו רוצים להשוות\n",
    "df1 = pd.read_excel(r\"C:\\Users\\dpere\\Downloads\\230720_forecast_pop_jewish_2020_2025_jtmt.xlsx\").set_index('Taz_num').sort_index()\n",
    "df2 = pd.read_excel(r\"C:\\Users\\dpere\\Documents\\JTMT\\forecast_git\\create_forecast_basic\\future\\JTMT\\Intermediates\\240307_forecast_pop_jewish_2020_2025_jtmt.xlsx\").set_index('Taz_num').sort_index() "
   ]
  },
  {
   "cell_type": "code",
   "execution_count": 101,
   "metadata": {},
   "outputs": [],
   "source": [
    "for col in df1.columns:\n",
    "    df1[col] = pd.to_numeric(df1[col], errors='coerce')\n",
    "\n",
    "for col in df2.columns:\n",
    "    df2[col] = pd.to_numeric(df2[col], errors='coerce')"
   ]
  },
  {
   "cell_type": "code",
   "execution_count": 102,
   "metadata": {},
   "outputs": [],
   "source": [
    "compare= df1.apply(np.ceil).compare(df2.apply(np.ceil))\n",
    "# compare = df1.apply(lambda x: np.ceil(x / 10) * 10).compare(df2.apply(lambda x: np.ceil(x / 10) * 10))"
   ]
  },
  {
   "cell_type": "code",
   "execution_count": 103,
   "metadata": {},
   "outputs": [],
   "source": [
    "compare = df1.compare(df2)\n",
    "compare.to_excel(r\"C:\\Users\\dpere\\Documents\\JTMT\\compare\\230720_forecast_pop_jewish_2020_2025_jtmt_compare.xlsx\")\n",
    "compare"
   ]
  }
 ],
 "metadata": {
  "kernelspec": {
   "display_name": "creat_forecast_ad_hoc_env",
   "language": "python",
   "name": "python3"
  },
  "language_info": {
   "codemirror_mode": {
    "name": "ipython",
    "version": 3
   },
   "file_extension": ".py",
   "mimetype": "text/x-python",
   "name": "python",
   "nbconvert_exporter": "python",
   "pygments_lexer": "ipython3",
   "version": "3.11.5"
  }
 },
 "nbformat": 4,
 "nbformat_minor": 2
}
