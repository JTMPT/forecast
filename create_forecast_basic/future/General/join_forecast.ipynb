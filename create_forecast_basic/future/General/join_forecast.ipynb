{
 "cells": [
  {
   "cell_type": "markdown",
   "metadata": {},
   "source": [
    "#### ספריות"
   ]
  },
  {
   "cell_type": "code",
   "execution_count": 14,
   "metadata": {},
   "outputs": [],
   "source": [
    "import os\n",
    "import sys\n",
    "import pandas as pd\n",
    "import geopandas as gpd"
   ]
  },
  {
   "cell_type": "code",
   "execution_count": 15,
   "metadata": {},
   "outputs": [],
   "source": [
    "pd.set_option('display.max_rows', None)\n",
    "pd.set_option('display.max_columns', None)"
   ]
  },
  {
   "cell_type": "markdown",
   "metadata": {},
   "source": [
    "#### העלאת משתנים להרצת הקוד"
   ]
  },
  {
   "cell_type": "code",
   "execution_count": 16,
   "metadata": {},
   "outputs": [],
   "source": [
    "cwd = os.getcwd()\n",
    "\n",
    "create_forecast_basic_future_folder_path = os.path.dirname(cwd)\n",
    "\n",
    "create_forecast_basic_folder_path = os.path.dirname(create_forecast_basic_future_folder_path)\n",
    "\n",
    "sys.path.append(create_forecast_basic_folder_path)"
   ]
  },
  {
   "cell_type": "markdown",
   "metadata": {},
   "source": [
    "### פונקציות"
   ]
  },
  {
   "cell_type": "markdown",
   "metadata": {},
   "source": [
    "### פונקציות גלובליות"
   ]
  },
  {
   "cell_type": "code",
   "execution_count": 17,
   "metadata": {},
   "outputs": [],
   "source": [
    "from global_functions import get_forecast_version_folder_location, get_newest_date_file, up_load_df, up_load_shp"
   ]
  },
  {
   "cell_type": "code",
   "execution_count": 18,
   "metadata": {},
   "outputs": [],
   "source": [
    "forecast_version_folder_location=get_forecast_version_folder_location(r'{}\\background_files\\forecast_version_folder_location.txt'.format(create_forecast_basic_folder_path))\n",
    "\n",
    "forecast_version_base_year_folder_location=r'{}\\BASE_YEAR'.format(forecast_version_folder_location)"
   ]
  },
  {
   "cell_type": "code",
   "execution_count": 19,
   "metadata": {},
   "outputs": [],
   "source": [
    "forecast_version_date = get_newest_date_file(forecast_version_base_year_folder_location, '2020_jtmt_forcast_full')\n",
    "\n",
    "file_name = r'2020_jtmt_forcast_full_{}'.format(forecast_version_date)\n",
    "\n",
    "forecast_2020=pd.read_excel(r'{}\\{}.xlsx'.format(forecast_version_base_year_folder_location, file_name))"
   ]
  },
  {
   "cell_type": "code",
   "execution_count": 20,
   "metadata": {},
   "outputs": [],
   "source": [
    "folder_path=r'{}\\{}'.format(create_forecast_basic_future_folder_path, 'JTMT\\Intermediates')\n",
    "\n",
    "v_date = get_newest_date_file(folder_path, 'forecast_2025_full')"
   ]
  },
  {
   "cell_type": "code",
   "execution_count": 21,
   "metadata": {},
   "outputs": [
    {
     "name": "stdout",
     "output_type": "stream",
     "text": [
      "jtmt\n"
     ]
    },
    {
     "ename": "KeyError",
     "evalue": "\"['Taz_name', 'Muni_Heb', 'jeru_metro', 'zonetype', 'in_jerusal', 'SCHN_NAME'] not in index\"",
     "output_type": "error",
     "traceback": [
      "\u001b[1;31m---------------------------------------------------------------------------\u001b[0m",
      "\u001b[1;31mKeyError\u001b[0m                                  Traceback (most recent call last)",
      "Cell \u001b[1;32mIn[21], line 57\u001b[0m\n\u001b[0;32m     47\u001b[0m taz\u001b[38;5;241m=\u001b[39mup_load_shp(\u001b[38;5;124mr\u001b[39m\u001b[38;5;124m'\u001b[39m\u001b[38;5;132;01m{}\u001b[39;00m\u001b[38;5;124m\\\u001b[39m\u001b[38;5;124mbackground_files\u001b[39m\u001b[38;5;124m\\\u001b[39m\u001b[38;5;124mTAZ_V4_\u001b[39m\u001b[38;5;132;01m{}\u001b[39;00m\u001b[38;5;124m_with_geo_info.shp\u001b[39m\u001b[38;5;124m'\u001b[39m\u001b[38;5;241m.\u001b[39mformat(create_forecast_basic_folder_path, TAZ_V4_date))[[\u001b[38;5;124m'\u001b[39m\u001b[38;5;124mTaz_num\u001b[39m\u001b[38;5;124m'\u001b[39m,\u001b[38;5;124m'\u001b[39m\u001b[38;5;124magri\u001b[39m\u001b[38;5;124m'\u001b[39m, \u001b[38;5;124m'\u001b[39m\u001b[38;5;124mIndus\u001b[39m\u001b[38;5;124m'\u001b[39m, \u001b[38;5;124m'\u001b[39m\u001b[38;5;124mCom_hotel\u001b[39m\u001b[38;5;124m'\u001b[39m, \u001b[38;5;124m'\u001b[39m\u001b[38;5;124mBusiness\u001b[39m\u001b[38;5;124m'\u001b[39m, \u001b[38;5;124m'\u001b[39m\u001b[38;5;124mPublic\u001b[39m\u001b[38;5;124m'\u001b[39m,\u001b[38;5;124m'\u001b[39m\u001b[38;5;124mgeometry\u001b[39m\u001b[38;5;124m'\u001b[39m]]\n\u001b[0;32m     49\u001b[0m col_taz\u001b[38;5;241m=\u001b[39m[\u001b[38;5;124m'\u001b[39m\u001b[38;5;124mTaz_num\u001b[39m\u001b[38;5;124m'\u001b[39m,\n\u001b[0;32m     50\u001b[0m \u001b[38;5;124m'\u001b[39m\u001b[38;5;124mTaz_name\u001b[39m\u001b[38;5;124m'\u001b[39m,\n\u001b[0;32m     51\u001b[0m \u001b[38;5;124m'\u001b[39m\u001b[38;5;124mMuni_Heb\u001b[39m\u001b[38;5;124m'\u001b[39m,\n\u001b[1;32m   (...)\u001b[0m\n\u001b[0;32m     54\u001b[0m \u001b[38;5;124m'\u001b[39m\u001b[38;5;124min_jerusal\u001b[39m\u001b[38;5;124m'\u001b[39m,\n\u001b[0;32m     55\u001b[0m \u001b[38;5;124m'\u001b[39m\u001b[38;5;124mSCHN_NAME\u001b[39m\u001b[38;5;124m'\u001b[39m,]\n\u001b[1;32m---> 57\u001b[0m df\u001b[38;5;241m=\u001b[39m\u001b[43mtaz\u001b[49m\u001b[43m[\u001b[49m\u001b[43mcol_taz\u001b[49m\u001b[43m]\u001b[49m\u001b[38;5;241m.\u001b[39mmerge(forecast_2020[col_2020],on\u001b[38;5;241m=\u001b[39m\u001b[38;5;124m'\u001b[39m\u001b[38;5;124mTaz_num\u001b[39m\u001b[38;5;124m'\u001b[39m,how\u001b[38;5;241m=\u001b[39m\u001b[38;5;124m'\u001b[39m\u001b[38;5;124mleft\u001b[39m\u001b[38;5;124m'\u001b[39m)\u001b[38;5;241m.\u001b[39mmerge(\u001b[38;5;28mlocals\u001b[39m()[\u001b[38;5;124m'\u001b[39m\u001b[38;5;124mforecast_2025_\u001b[39m\u001b[38;5;132;01m{}\u001b[39;00m\u001b[38;5;124m'\u001b[39m\u001b[38;5;241m.\u001b[39mformat(s)][[\u001b[38;5;124m'\u001b[39m\u001b[38;5;124mTaz_num\u001b[39m\u001b[38;5;124m'\u001b[39m,\u001b[38;5;124m'\u001b[39m\u001b[38;5;124mmain_secto\u001b[39m\u001b[38;5;124m'\u001b[39m]],on\u001b[38;5;241m=\u001b[39m\u001b[38;5;124m'\u001b[39m\u001b[38;5;124mTaz_num\u001b[39m\u001b[38;5;124m'\u001b[39m,how\u001b[38;5;241m=\u001b[39m\u001b[38;5;124m'\u001b[39m\u001b[38;5;124mleft\u001b[39m\u001b[38;5;124m'\u001b[39m)\n\u001b[0;32m     60\u001b[0m \u001b[38;5;28;01mfor\u001b[39;00m y \u001b[38;5;129;01min\u001b[39;00m year: \n\u001b[0;32m     61\u001b[0m     \u001b[38;5;28mlocals\u001b[39m()[\u001b[38;5;124m'\u001b[39m\u001b[38;5;124mforecast_\u001b[39m\u001b[38;5;132;01m{}\u001b[39;00m\u001b[38;5;124m_\u001b[39m\u001b[38;5;132;01m{}\u001b[39;00m\u001b[38;5;124m'\u001b[39m\u001b[38;5;241m.\u001b[39mformat(y,s)]\u001b[38;5;241m=\u001b[39m\u001b[38;5;28mlocals\u001b[39m()[\u001b[38;5;124m'\u001b[39m\u001b[38;5;124mforecast_\u001b[39m\u001b[38;5;132;01m{}\u001b[39;00m\u001b[38;5;124m_\u001b[39m\u001b[38;5;132;01m{}\u001b[39;00m\u001b[38;5;124m'\u001b[39m\u001b[38;5;241m.\u001b[39mformat(y,s)][col_2050]\n",
      "File \u001b[1;32mc:\\Users\\dpere\\miniconda3\\envs\\creat_forecast_ad_hoc_env\\Lib\\site-packages\\geopandas\\geodataframe.py:1474\u001b[0m, in \u001b[0;36mGeoDataFrame.__getitem__\u001b[1;34m(self, key)\u001b[0m\n\u001b[0;32m   1468\u001b[0m \u001b[38;5;28;01mdef\u001b[39;00m \u001b[38;5;21m__getitem__\u001b[39m(\u001b[38;5;28mself\u001b[39m, key):\n\u001b[0;32m   1469\u001b[0m \u001b[38;5;250m    \u001b[39m\u001b[38;5;124;03m\"\"\"\u001b[39;00m\n\u001b[0;32m   1470\u001b[0m \u001b[38;5;124;03m    If the result is a column containing only 'geometry', return a\u001b[39;00m\n\u001b[0;32m   1471\u001b[0m \u001b[38;5;124;03m    GeoSeries. If it's a DataFrame with any columns of GeometryDtype,\u001b[39;00m\n\u001b[0;32m   1472\u001b[0m \u001b[38;5;124;03m    return a GeoDataFrame.\u001b[39;00m\n\u001b[0;32m   1473\u001b[0m \u001b[38;5;124;03m    \"\"\"\u001b[39;00m\n\u001b[1;32m-> 1474\u001b[0m     result \u001b[38;5;241m=\u001b[39m \u001b[38;5;28;43msuper\u001b[39;49m\u001b[43m(\u001b[49m\u001b[43m)\u001b[49m\u001b[38;5;241;43m.\u001b[39;49m\u001b[38;5;21;43m__getitem__\u001b[39;49m\u001b[43m(\u001b[49m\u001b[43mkey\u001b[49m\u001b[43m)\u001b[49m\n\u001b[0;32m   1475\u001b[0m     \u001b[38;5;66;03m# Custom logic to avoid waiting for pandas GH51895\u001b[39;00m\n\u001b[0;32m   1476\u001b[0m     \u001b[38;5;66;03m# result is not geometry dtype for multi-indexes\u001b[39;00m\n\u001b[0;32m   1477\u001b[0m     \u001b[38;5;28;01mif\u001b[39;00m (\n\u001b[0;32m   1478\u001b[0m         pd\u001b[38;5;241m.\u001b[39mapi\u001b[38;5;241m.\u001b[39mtypes\u001b[38;5;241m.\u001b[39mis_scalar(key)\n\u001b[0;32m   1479\u001b[0m         \u001b[38;5;129;01mand\u001b[39;00m key \u001b[38;5;241m==\u001b[39m \u001b[38;5;124m\"\u001b[39m\u001b[38;5;124m\"\u001b[39m\n\u001b[1;32m   (...)\u001b[0m\n\u001b[0;32m   1482\u001b[0m         \u001b[38;5;129;01mand\u001b[39;00m \u001b[38;5;129;01mnot\u001b[39;00m is_geometry_type(result)\n\u001b[0;32m   1483\u001b[0m     ):\n",
      "File \u001b[1;32mc:\\Users\\dpere\\miniconda3\\envs\\creat_forecast_ad_hoc_env\\Lib\\site-packages\\pandas\\core\\frame.py:3902\u001b[0m, in \u001b[0;36mDataFrame.__getitem__\u001b[1;34m(self, key)\u001b[0m\n\u001b[0;32m   3900\u001b[0m     \u001b[38;5;28;01mif\u001b[39;00m is_iterator(key):\n\u001b[0;32m   3901\u001b[0m         key \u001b[38;5;241m=\u001b[39m \u001b[38;5;28mlist\u001b[39m(key)\n\u001b[1;32m-> 3902\u001b[0m     indexer \u001b[38;5;241m=\u001b[39m \u001b[38;5;28;43mself\u001b[39;49m\u001b[38;5;241;43m.\u001b[39;49m\u001b[43mcolumns\u001b[49m\u001b[38;5;241;43m.\u001b[39;49m\u001b[43m_get_indexer_strict\u001b[49m\u001b[43m(\u001b[49m\u001b[43mkey\u001b[49m\u001b[43m,\u001b[49m\u001b[43m \u001b[49m\u001b[38;5;124;43m\"\u001b[39;49m\u001b[38;5;124;43mcolumns\u001b[39;49m\u001b[38;5;124;43m\"\u001b[39;49m\u001b[43m)\u001b[49m[\u001b[38;5;241m1\u001b[39m]\n\u001b[0;32m   3904\u001b[0m \u001b[38;5;66;03m# take() does not accept boolean indexers\u001b[39;00m\n\u001b[0;32m   3905\u001b[0m \u001b[38;5;28;01mif\u001b[39;00m \u001b[38;5;28mgetattr\u001b[39m(indexer, \u001b[38;5;124m\"\u001b[39m\u001b[38;5;124mdtype\u001b[39m\u001b[38;5;124m\"\u001b[39m, \u001b[38;5;28;01mNone\u001b[39;00m) \u001b[38;5;241m==\u001b[39m \u001b[38;5;28mbool\u001b[39m:\n",
      "File \u001b[1;32mc:\\Users\\dpere\\miniconda3\\envs\\creat_forecast_ad_hoc_env\\Lib\\site-packages\\pandas\\core\\indexes\\base.py:6114\u001b[0m, in \u001b[0;36mIndex._get_indexer_strict\u001b[1;34m(self, key, axis_name)\u001b[0m\n\u001b[0;32m   6111\u001b[0m \u001b[38;5;28;01melse\u001b[39;00m:\n\u001b[0;32m   6112\u001b[0m     keyarr, indexer, new_indexer \u001b[38;5;241m=\u001b[39m \u001b[38;5;28mself\u001b[39m\u001b[38;5;241m.\u001b[39m_reindex_non_unique(keyarr)\n\u001b[1;32m-> 6114\u001b[0m \u001b[38;5;28;43mself\u001b[39;49m\u001b[38;5;241;43m.\u001b[39;49m\u001b[43m_raise_if_missing\u001b[49m\u001b[43m(\u001b[49m\u001b[43mkeyarr\u001b[49m\u001b[43m,\u001b[49m\u001b[43m \u001b[49m\u001b[43mindexer\u001b[49m\u001b[43m,\u001b[49m\u001b[43m \u001b[49m\u001b[43maxis_name\u001b[49m\u001b[43m)\u001b[49m\n\u001b[0;32m   6116\u001b[0m keyarr \u001b[38;5;241m=\u001b[39m \u001b[38;5;28mself\u001b[39m\u001b[38;5;241m.\u001b[39mtake(indexer)\n\u001b[0;32m   6117\u001b[0m \u001b[38;5;28;01mif\u001b[39;00m \u001b[38;5;28misinstance\u001b[39m(key, Index):\n\u001b[0;32m   6118\u001b[0m     \u001b[38;5;66;03m# GH 42790 - Preserve name from an Index\u001b[39;00m\n",
      "File \u001b[1;32mc:\\Users\\dpere\\miniconda3\\envs\\creat_forecast_ad_hoc_env\\Lib\\site-packages\\pandas\\core\\indexes\\base.py:6178\u001b[0m, in \u001b[0;36mIndex._raise_if_missing\u001b[1;34m(self, key, indexer, axis_name)\u001b[0m\n\u001b[0;32m   6175\u001b[0m     \u001b[38;5;28;01mraise\u001b[39;00m \u001b[38;5;167;01mKeyError\u001b[39;00m(\u001b[38;5;124mf\u001b[39m\u001b[38;5;124m\"\u001b[39m\u001b[38;5;124mNone of [\u001b[39m\u001b[38;5;132;01m{\u001b[39;00mkey\u001b[38;5;132;01m}\u001b[39;00m\u001b[38;5;124m] are in the [\u001b[39m\u001b[38;5;132;01m{\u001b[39;00maxis_name\u001b[38;5;132;01m}\u001b[39;00m\u001b[38;5;124m]\u001b[39m\u001b[38;5;124m\"\u001b[39m)\n\u001b[0;32m   6177\u001b[0m not_found \u001b[38;5;241m=\u001b[39m \u001b[38;5;28mlist\u001b[39m(ensure_index(key)[missing_mask\u001b[38;5;241m.\u001b[39mnonzero()[\u001b[38;5;241m0\u001b[39m]]\u001b[38;5;241m.\u001b[39munique())\n\u001b[1;32m-> 6178\u001b[0m \u001b[38;5;28;01mraise\u001b[39;00m \u001b[38;5;167;01mKeyError\u001b[39;00m(\u001b[38;5;124mf\u001b[39m\u001b[38;5;124m\"\u001b[39m\u001b[38;5;132;01m{\u001b[39;00mnot_found\u001b[38;5;132;01m}\u001b[39;00m\u001b[38;5;124m not in index\u001b[39m\u001b[38;5;124m\"\u001b[39m)\n",
      "\u001b[1;31mKeyError\u001b[0m: \"['Taz_name', 'Muni_Heb', 'jeru_metro', 'zonetype', 'in_jerusal', 'SCHN_NAME'] not in index\""
     ]
    }
   ],
   "source": [
    "sen=['jtmt','iplan','bau']\n",
    "for s in sen:\n",
    "\n",
    "    if s=='jtmt':\n",
    "        output_location=r'{}\\JTMT'.format(forecast_version_folder_location)\n",
    "        save_intermediates=r'{}\\JTMT\\Intermediates'.format(create_forecast_basic_future_folder_path)  \n",
    "    if s=='iplan':\n",
    "        output_location=r'{}\\IPLAN'.format(forecast_version_folder_location)\n",
    "        save_intermediates=r'{}\\iplan\\Intermediates'.format(create_forecast_basic_future_folder_path)\n",
    "    if s=='bau':\n",
    "        output_location=r'{}\\BAU'.format(forecast_version_folder_location)\n",
    "        save_intermediates=r'{}\\bau\\Intermediates'.format(create_forecast_basic_future_folder_path)\n",
    "\n",
    "\n",
    "    year=['2025','2030','2035','2040','2045','2050']\n",
    "    for y in year: \n",
    "        \n",
    "        file_name='{}_forecast_{}_full_{}'.format(v_date,y,s)\n",
    "        locals()['forecast_{}_{}'.format(y,s)]=up_load_df(save_intermediates,file_name)\n",
    "\n",
    "\n",
    "    col_2050=['Taz_num','student_yeshiva_and_kollim',\n",
    "    'student',\n",
    "    'univ','aprt',\n",
    "    'pop_without_dorms_yeshiva','emp_Education','emp_okev', 'emp_not_okev',\n",
    "    'total_emp',\n",
    "    'agri',\n",
    "    'Indus',\n",
    "    'Com_hotel',\n",
    "    'Business',\n",
    "    'Public']\n",
    "    col_2020=['Taz_num',\n",
    "    'aprt_20','pop_without_dorms_yeshiva','student',\n",
    "    'univ',\n",
    "    'student_yeshiva_and_kollim','total_emp','emp_okev',\n",
    "    'emp_not_okev','emp_Education',\n",
    "    'agri',\n",
    "    'Indus',\n",
    "    'Com_hotel',\n",
    "    'Business',\n",
    "    'Public']\n",
    "\n",
    "    TAZ_V4_date = get_newest_date_file(create_forecast_basic_folder_path, 'with_geo_info')\n",
    "\n",
    "    taz=up_load_shp(r'{}\\background_files\\TAZ_V4_{}_with_geo_info.shp'.format(create_forecast_basic_folder_path, TAZ_V4_date))\n",
    "\n",
    "    col_taz=['Taz_num',\n",
    "    'Taz_name',\n",
    "    'Muni_Heb',\n",
    "    'jeru_metro',\n",
    "    'zonetype',\n",
    "    'in_jerusal',\n",
    "    'SCHN_NAME',]\n",
    "\n",
    "    df=taz[col_taz].merge(forecast_2020[col_2020],on='Taz_num',how='left').merge(locals()['forecast_2025_{}'.format(s)][['Taz_num','main_secto']],on='Taz_num',how='left')\n",
    "\n",
    "\n",
    "    for y in year: \n",
    "        locals()['forecast_{}_{}'.format(y,s)]=locals()['forecast_{}_{}'.format(y,s)][col_2050]\n",
    "        \n",
    "    for y in year: \n",
    "        col=['student_yeshiva_and_kollim',\n",
    "            'student',\n",
    "            'univ','aprt',\n",
    "            'pop_without_dorms_yeshiva','emp_Education','emp_okev', 'emp_not_okev',\n",
    "            'total_emp',\n",
    "            'agri',\n",
    "            'Indus',\n",
    "            'Com_hotel',\n",
    "            'Business',\n",
    "            'Public']\n",
    "        x=[]\n",
    "        for i in col: x=x+[i+'_{}'.format(y)]\n",
    "        x=['Taz_num']+x\n",
    "        locals()['col_{}'.format(y)]=x\n",
    "\n",
    "    for y in year: \n",
    "        locals()['forecast_{}_{}'.format(y,s)].columns=locals()['col_{}'.format(y)]\n",
    "\n",
    "    for y in year: \n",
    "        df=df.merge(locals()['forecast_{}_{}'.format(y,s)],on='Taz_num',how='left')\n",
    "\n",
    "\n",
    "    col_order=['zonetype',\n",
    "    'jeru_metro',\n",
    "    'Muni_Heb',\n",
    "    'main_secto',\n",
    "    'in_jerusal',\n",
    "    'SCHN_NAME',\n",
    "    'Taz_num',\n",
    "    'Taz_name',\n",
    "    'aprt_20',\n",
    "    'aprt_2025',\n",
    "    'aprt_2030',\n",
    "    'aprt_2035',\n",
    "    'aprt_2040',\n",
    "    'aprt_2045',\n",
    "    'aprt_2050',\n",
    "    'pop_without_dorms_yeshiva',\n",
    "    'pop_without_dorms_yeshiva_2025',\n",
    "    'pop_without_dorms_yeshiva_2030',\n",
    "    'pop_without_dorms_yeshiva_2035',\n",
    "    'pop_without_dorms_yeshiva_2040',\n",
    "    'pop_without_dorms_yeshiva_2045',\n",
    "    'pop_without_dorms_yeshiva_2050',\n",
    "    'student',\n",
    "    'student_2025',\n",
    "    'student_2030',\n",
    "    'student_2035',\n",
    "    'student_2040',\n",
    "    'student_2045',\n",
    "    'student_2050',\n",
    "    'univ',\n",
    "    'univ_2025',\n",
    "    'univ_2030',\n",
    "    'univ_2035',\n",
    "    'univ_2040',\n",
    "    'univ_2045',\n",
    "    'univ_2050',\n",
    "    'student_yeshiva_and_kollim',\n",
    "    'student_yeshiva_and_kollim_2025',\n",
    "    'student_yeshiva_and_kollim_2030',\n",
    "    'student_yeshiva_and_kollim_2035',\n",
    "    'student_yeshiva_and_kollim_2040',\n",
    "    'student_yeshiva_and_kollim_2045',\n",
    "    'student_yeshiva_and_kollim_2050',\n",
    "    'total_emp',\n",
    "    'total_emp_2025',\n",
    "    'total_emp_2030',\n",
    "    'total_emp_2035',\n",
    "    'total_emp_2040',\n",
    "    'total_emp_2045',\n",
    "    'total_emp_2050',\n",
    "    'emp_okev',\n",
    "    'emp_okev_2025',\n",
    "    'emp_okev_2030',\n",
    "    'emp_okev_2035',\n",
    "    'emp_okev_2040',\n",
    "    'emp_okev_2045',\n",
    "    'emp_okev_2050',\n",
    "    'emp_not_okev',\n",
    "    'emp_not_okev_2025',\n",
    "    'emp_not_okev_2030',\n",
    "    'emp_not_okev_2035',\n",
    "    'emp_not_okev_2040',\n",
    "    'emp_not_okev_2045',\n",
    "    'emp_not_okev_2050',\n",
    "    'emp_Education',\n",
    "    'emp_Education_2025',\n",
    "    'emp_Education_2030',\n",
    "    'emp_Education_2035',\n",
    "    'emp_Education_2040',\n",
    "    'emp_Education_2045',\n",
    "    'emp_Education_2050',\n",
    "    'agri',\n",
    "    'agri_2025',\n",
    "    'agri_2030',\n",
    "    'agri_2035',\n",
    "    'agri_2040',\n",
    "    'agri_2045',\n",
    "    'agri_2050',\n",
    "    'Indus',\n",
    "    'Indus_2025',\n",
    "    'Indus_2030',\n",
    "    'Indus_2035',\n",
    "    'Indus_2040',\n",
    "    'Indus_2045',\n",
    "    'Indus_2050',\n",
    "    'Com_hotel',\n",
    "    'Com_hotel_2025',\n",
    "    'Com_hotel_2030',\n",
    "    'Com_hotel_2035',\n",
    "    'Com_hotel_2040',\n",
    "    'Com_hotel_2045',\n",
    "    'Com_hotel_2050',\n",
    "    'Business',\n",
    "    'Business_2025',\n",
    "    'Business_2030',\n",
    "    'Business_2035',\n",
    "    'Business_2040',\n",
    "    'Business_2045',\n",
    "    'Business_2050',\n",
    "    'Public',\n",
    "    'Public_2025',\n",
    "    'Public_2030',\n",
    "    'Public_2035',\n",
    "    'Public_2040',\n",
    "    'Public_2045',\n",
    "    'Public_2050']\n",
    "    \n",
    "    save_excel_path=r'{}\\{}_forecast_2020_till_2050_{}.xlsx'.format(forecast_version_folder_location,v_date,s)\n",
    "    df[col_order].to_excel(save_excel_path,index=False)\n"
   ]
  }
 ],
 "metadata": {
  "kernelspec": {
   "display_name": "base",
   "language": "python",
   "name": "python3"
  },
  "language_info": {
   "codemirror_mode": {
    "name": "ipython",
    "version": 3
   },
   "file_extension": ".py",
   "mimetype": "text/x-python",
   "name": "python",
   "nbconvert_exporter": "python",
   "pygments_lexer": "ipython3",
   "version": "3.11.5"
  }
 },
 "nbformat": 4,
 "nbformat_minor": 2
}
