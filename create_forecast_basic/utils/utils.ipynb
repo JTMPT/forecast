{
 "cells": [
  {
   "cell_type": "code",
   "execution_count": 2,
   "metadata": {},
   "outputs": [],
   "source": [
    "import os\n",
    "import sys\n",
    "import pandas as pd"
   ]
  },
  {
   "cell_type": "code",
   "execution_count": 3,
   "metadata": {},
   "outputs": [],
   "source": [
    "create_forecast_basic_software_location = os.path.dirname(os.getcwd())\n",
    "\n",
    "df_inputs_outputs = pd.read_excel(r'{}\\inputs_outputs.xlsx'.format(create_forecast_basic_software_location))\n",
    "\n",
    "software_folder_location=df_inputs_outputs['location'][0]\n",
    "\n",
    "sys.path.append(create_forecast_basic_software_location)\n",
    "\n",
    "TAZ_V4_date=df_inputs_outputs['location'][1]"
   ]
  },
  {
   "cell_type": "code",
   "execution_count": 4,
   "metadata": {},
   "outputs": [],
   "source": [
    "from global_functions import up_load_shp, make_point, add_geo_info_shp"
   ]
  },
  {
   "cell_type": "code",
   "execution_count": 5,
   "metadata": {},
   "outputs": [],
   "source": [
    "#### תאריך\n",
    "file_date=pd.Timestamp.today().strftime('%y%m%d')"
   ]
  },
  {
   "cell_type": "code",
   "execution_count": 6,
   "metadata": {},
   "outputs": [],
   "source": [
    "taz=up_load_shp(r'{}\\background_files\\TAZ_V4_{}.shp'.format(software_folder_location, TAZ_V4_date))"
   ]
  },
  {
   "cell_type": "code",
   "execution_count": 8,
   "metadata": {},
   "outputs": [],
   "source": [
    "taz = add_geo_info_shp(taz,taz, software_folder_location, 'jeru_metro_jtmt_border_240402', 'jeru_metro')"
   ]
  },
  {
   "cell_type": "code",
   "execution_count": 30,
   "metadata": {},
   "outputs": [],
   "source": [
    "taz.to_file(r\"{}\\background_files\\TAZ_V4_{}_with_geo_info.shp\".format(software_folder_location, file_date), encoding='utf-8')"
   ]
  }
 ],
 "metadata": {
  "kernelspec": {
   "display_name": "creat_forecast_ad_hoc_env",
   "language": "python",
   "name": "python3"
  },
  "language_info": {
   "codemirror_mode": {
    "name": "ipython",
    "version": 3
   },
   "file_extension": ".py",
   "mimetype": "text/x-python",
   "name": "python",
   "nbconvert_exporter": "python",
   "pygments_lexer": "ipython3",
   "version": "3.11.5"
  }
 },
 "nbformat": 4,
 "nbformat_minor": 2
}
