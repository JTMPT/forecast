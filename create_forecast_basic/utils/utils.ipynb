{
  "cells": [
    {
      "cell_type": "code",
      "execution_count": 1,
      "metadata": {},
      "outputs": [],
      "source": [
        "import os\n",
        "import sys\n",
        "import pandas as pd"
      ]
    },
    {
      "cell_type": "code",
      "execution_count": 2,
      "metadata": {},
      "outputs": [],
      "source": [
        "from global_functions import up_load_shp, make_point, add_geo_info_shp,add_geo_info_gdb"
      ]
    },
    {
      "cell_type": "code",
      "execution_count": 3,
      "metadata": {},
      "outputs": [],
      "source": [
        "#### תאריך\n",
        "file_date=pd.Timestamp.today().strftime('%y%m%d')"
      ]
    },
    {
      "cell_type": "code",
      "execution_count": 4,
      "metadata": {},
      "outputs": [],
      "source": [
        "TAZ_V4_date='240929'"
      ]
    },
    {
      "cell_type": "code",
      "execution_count": 5,
      "metadata": {},
      "outputs": [],
      "source": [
        "software_folder_location=r'W:\\Data\\Forecast\\Tools\\forecast_git\\create_forecast_basic'"
      ]
    },
    {
      "cell_type": "code",
      "execution_count": 6,
      "metadata": {},
      "outputs": [],
      "source": [
        "taz=up_load_shp(r'{}\\background_files\\TAZ_V4_{}.shp'.format(software_folder_location, TAZ_V4_date))"
      ]
    },
    {
      "cell_type": "code",
      "execution_count": 7,
      "metadata": {},
      "outputs": [],
      "source": [
        "taz = add_geo_info_shp(taz,taz, software_folder_location, 'jeru_metro_jtmt_border_240402', 'jeru_metro')"
      ]
    },
    {
      "cell_type": "code",
      "execution_count": 8,
      "metadata": {},
      "outputs": [],
      "source": [
        "taz = add_geo_info_shp(taz,taz, software_folder_location, 'in_jeru', 'in_jerusal')\n",
        "taz.loc[taz['in_jerusal']==0,'in_jerusal']='no'"
      ]
    },
    {
      "cell_type": "code",
      "execution_count": 9,
      "metadata": {},
      "outputs": [],
      "source": [
        "taz = add_geo_info_shp(taz,taz, software_folder_location, 'main_secto', 'main_secto')"
      ]
    },
    {
      "cell_type": "code",
      "execution_count": 10,
      "metadata": {},
      "outputs": [],
      "source": [
        "taz = add_geo_info_shp(taz,taz, software_folder_location, 'SCHN_NAME', 'SCHN_NAME')"
      ]
    },
    {
      "cell_type": "code",
      "execution_count": 11,
      "metadata": {},
      "outputs": [],
      "source": [
        "taz = add_geo_info_shp(taz,taz, software_folder_location, 'subdistrict2008','ENG_NAME_n')\n",
        "taz['zonetype']=taz['ENG_NAME_n']"
      ]
    },
    {
      "cell_type": "code",
      "execution_count": 12,
      "metadata": {},
      "outputs": [],
      "source": [
        "taz = add_geo_info_shp(taz,taz, software_folder_location, 'muni_under_JTMT_ITM', 'Muni_Heb')"
      ]
    },
    {
      "cell_type": "code",
      "execution_count": 13,
      "metadata": {},
      "outputs": [],
      "source": [
        "taz = add_geo_info_shp(taz,taz, software_folder_location, 'muni_under_JTMT_ITM', 'Sug_Muni')"
      ]
    },
    {
      "cell_type": "code",
      "execution_count": 14,
      "metadata": {},
      "outputs": [],
      "source": [
        "taz = add_geo_info_shp(taz,taz, software_folder_location, 'muni_under_JTMT_ITM', 'CR_PNIM')"
      ]
    },
    {
      "cell_type": "code",
      "execution_count": 15,
      "metadata": {},
      "outputs": [],
      "source": [
        "taz.loc[taz['main_secto']=='Palestinian','zonetype']='Palestinian'"
      ]
    },
    {
      "cell_type": "code",
      "execution_count": 16,
      "metadata": {},
      "outputs": [],
      "source": [
        "taz.loc[taz['main_secto']=='Palestinian','Muni_Heb']=' '"
      ]
    },
    {
      "cell_type": "code",
      "execution_count": 17,
      "metadata": {},
      "outputs": [],
      "source": [
        "taz = add_geo_info_shp(taz,taz, software_folder_location, 'highBusinessFlag', 'HighBiz')\n",
        "taz.rename(columns={'HighBiz': 'highBusinessFlag'}, inplace=True)"
      ]
    },
    {
      "cell_type": "code",
      "execution_count": 18,
      "metadata": {},
      "outputs": [],
      "source": [
        "taz=add_geo_info_shp(taz,taz,software_folder_location,'schDistrict','ID').rename(columns={'ID':'SCHOOLDISTRICT'})\n",
        "taz.loc[taz['SCHOOLDISTRICT']==0,'SCHOOLDISTRICT']=999"
      ]
    },
    {
      "cell_type": "code",
      "execution_count": 19,
      "metadata": {},
      "outputs": [],
      "source": [
        "taz=add_geo_info_shp(taz,taz,software_folder_location,'urban','Urban')"
      ]
    },
    {
      "cell_type": "code",
      "execution_count": 20,
      "metadata": {},
      "outputs": [],
      "source": [
        "taz=add_geo_info_shp(taz,taz,software_folder_location,'EIProp','EIProp')"
      ]
    },
    {
      "cell_type": "code",
      "execution_count": 21,
      "metadata": {},
      "outputs": [],
      "source": [
        "col=['poly_puma', 'F3', 'F2', 'F1']\n",
        "\n",
        "for c in col:\n",
        "    taz=add_geo_info_shp(taz,taz,software_folder_location,'poly_pumas',c)\n",
        "    "
      ]
    },
    {
      "cell_type": "code",
      "execution_count": 22,
      "metadata": {},
      "outputs": [],
      "source": [
        "col=['agri', 'Indus', 'Com_hotel', 'Business', 'Public']\n",
        "\n",
        "for c in col:\n",
        "    taz=add_geo_info_shp(taz,taz,software_folder_location,'emp_category_type',c)\n",
        "    taz['{}'.format(c)]=taz['{}'.format(c)]/100\n",
        "    "
      ]
    },
    {
      "cell_type": "code",
      "execution_count": 23,
      "metadata": {},
      "outputs": [],
      "source": [
        "taz = add_geo_info_shp(taz,taz, software_folder_location, 'commuting_230712', 'commuting')\n",
        "taz['commuting']=taz['commuting']/100"
      ]
    },
    {
      "cell_type": "code",
      "execution_count": 24,
      "metadata": {},
      "outputs": [],
      "source": [
        "taz['ieold']=0\n",
        "taz.loc[taz['jeru_metro']==1,'ieold']=taz['commuting']\n",
        "taz['IEProp']=taz['ieold']"
      ]
    },
    {
      "cell_type": "code",
      "execution_count": 25,
      "metadata": {},
      "outputs": [],
      "source": [
        "taz['perScaled']=1-taz['EIProp']"
      ]
    },
    {
      "cell_type": "code",
      "execution_count": 26,
      "metadata": {},
      "outputs": [],
      "source": [
        "col_parking=['FreeBuffer',\n",
        "'PaidBuffer',\n",
        "'Rest_EmpBuffer',\n",
        "'searchtime',\n",
        "'walktime',\n",
        "'cost']\n",
        "\n",
        "for c in col_parking:\n",
        "    taz=add_geo_info_gdb(taz,taz,software_folder_location,'parking_abm',c,c)"
      ]
    },
    {
      "cell_type": "code",
      "execution_count": 27,
      "metadata": {},
      "outputs": [],
      "source": [
        "taz.loc[taz['Taz_num'] < 7001, 'Agg_taz_nu'] = taz['Taz_num'] // 100\n",
        "taz.loc[taz['Taz_num'] >= 7001, 'Agg_taz_nu'] = taz['Taz_num'] // 10"
      ]
    },
    {
      "cell_type": "code",
      "execution_count": 28,
      "metadata": {},
      "outputs": [],
      "source": [
        "col_with_fix_num=['area',\n",
        " 'CITYCODE1',\n",
        " 'CITYCODE2',\n",
        " 'CITYCODE3',\n",
        " 'CITYCODE4',\n",
        " 'codeseq',\n",
        " 'codeseqCons',\n",
        " 'county',\n",
        " 'majunivenr',\n",
        " 'parktot',\n",
        " 'superZone',\n",
        " 'Taz1','slope','REGION']\n"
      ]
    },
    {
      "cell_type": "code",
      "execution_count": 29,
      "metadata": {},
      "outputs": [],
      "source": [
        "\n",
        "taz[col_with_fix_num]=1"
      ]
    },
    {
      "cell_type": "code",
      "execution_count": 30,
      "metadata": {},
      "outputs": [],
      "source": [
        "taz['yosh']=0\n",
        "\n",
        "taz.loc[taz['zonetype']=='Judea and Samaria','yosh']=1\n",
        "\n",
        "taz['jerusalem_city']=0\n",
        "\n",
        "taz.loc[taz['in_jerusal']=='yes','jerusalem_city']=1"
      ]
    },
    {
      "cell_type": "code",
      "execution_count": 31,
      "metadata": {},
      "outputs": [],
      "source": [
        "columns = taz.columns\n",
        "# Create an empty DataFrame with only column names\n",
        "empty_df = pd.DataFrame(columns=columns)"
      ]
    },
    {
      "cell_type": "code",
      "execution_count": 32,
      "metadata": {},
      "outputs": [],
      "source": [
        "empty_df.to_excel(r\"{}\\background_files\\col_names.xlsx\".format(software_folder_location), index=False)"
      ]
    },
    {
      "cell_type": "code",
      "execution_count": 33,
      "metadata": {},
      "outputs": [
        {
          "name": "stderr",
          "output_type": "stream",
          "text": [
            "C:\\Users\\gidon\\AppData\\Local\\Temp\\ipykernel_25620\\2075935453.py:1: UserWarning: Column names longer than 10 characters will be truncated when saved to ESRI Shapefile.\n",
            "  taz.to_file(r\"{}\\background_files\\TAZ_V4_{}_with_geo_info.shp\".format(software_folder_location, file_date), encoding='utf-8')\n"
          ]
        }
      ],
      "source": [
        "taz.to_file(r\"{}\\background_files\\TAZ_V4_{}_with_geo_info.shp\".format(software_folder_location, file_date), encoding='utf-8')"
      ]
    }
  ],
  "metadata": {
    "kernelspec": {
      "display_name": "creat_forecast_ad_hoc_env",
      "language": "python",
      "name": "python3"
    },
    "language_info": {
      "codemirror_mode": {
        "name": "ipython",
        "version": 3
      },
      "file_extension": ".py",
      "mimetype": "text/x-python",
      "name": "python",
      "nbconvert_exporter": "python",
      "pygments_lexer": "ipython3",
      "version": "3.11.5"
    }
  },
  "nbformat": 4,
  "nbformat_minor": 2
}
