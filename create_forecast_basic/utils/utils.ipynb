{
  "cells": [
    {
      "cell_type": "code",
      "execution_count": 61,
      "metadata": {},
      "outputs": [],
      "source": [
        "import os\n",
        "import sys\n",
        "import pandas as pd"
      ]
    },
    {
      "cell_type": "code",
      "execution_count": 62,
      "metadata": {},
      "outputs": [],
      "source": [
        "from global_functions import up_load_shp, make_point, add_geo_info_shp,add_geo_info_gdb"
      ]
    },
    {
      "cell_type": "code",
      "execution_count": 63,
      "metadata": {},
      "outputs": [],
      "source": [
        "#### תאריך\n",
        "file_date=pd.Timestamp.today().strftime('%y%m%d')"
      ]
    },
    {
      "cell_type": "code",
      "execution_count": 64,
      "metadata": {},
      "outputs": [],
      "source": [
        "TAZ_V4_date='240404'"
      ]
    },
    {
      "cell_type": "code",
      "execution_count": 65,
      "metadata": {},
      "outputs": [],
      "source": [
        "software_folder_location=r'W:\\Data\\Forecast\\Tools\\forecast_git\\create_forecast_basic'"
      ]
    },
    {
      "cell_type": "code",
      "execution_count": 66,
      "metadata": {},
      "outputs": [],
      "source": [
        "taz=up_load_shp(r'{}\\background_files\\TAZ_V4_{}.shp'.format(software_folder_location, TAZ_V4_date))"
      ]
    },
    {
      "cell_type": "code",
      "execution_count": 67,
      "metadata": {},
      "outputs": [],
      "source": [
        "taz = add_geo_info_shp(taz,taz, software_folder_location, 'jeru_metro_jtmt_border_240402', 'jeru_metro')"
      ]
    },
    {
      "cell_type": "code",
      "execution_count": 68,
      "metadata": {},
      "outputs": [],
      "source": [
        "taz = add_geo_info_shp(taz,taz, software_folder_location, 'in_jeru', 'in_jerusal')\n",
        "taz.loc[taz['in_jerusal']==0,'in_jerusal']='no'"
      ]
    },
    {
      "cell_type": "code",
      "execution_count": 69,
      "metadata": {},
      "outputs": [],
      "source": [
        "taz = add_geo_info_shp(taz,taz, software_folder_location, 'main_secto', 'main_secto')"
      ]
    },
    {
      "cell_type": "code",
      "execution_count": 70,
      "metadata": {},
      "outputs": [],
      "source": [
        "taz = add_geo_info_shp(taz,taz, software_folder_location, 'SCHN_NAME', 'SCHN_NAME')"
      ]
    },
    {
      "cell_type": "code",
      "execution_count": 71,
      "metadata": {},
      "outputs": [],
      "source": [
        "taz = add_geo_info_shp(taz,taz, software_folder_location, 'subdistrict2008','ENG_NAME_n')\n",
        "taz['zonetype']=taz['ENG_NAME_n']"
      ]
    },
    {
      "cell_type": "code",
      "execution_count": 72,
      "metadata": {},
      "outputs": [],
      "source": [
        "taz = add_geo_info_shp(taz,taz, software_folder_location, 'muni_under_JTMT_ITM', 'Muni_Heb')"
      ]
    },
    {
      "cell_type": "code",
      "execution_count": 73,
      "metadata": {},
      "outputs": [],
      "source": [
        "taz = add_geo_info_shp(taz,taz, software_folder_location, 'muni_under_JTMT_ITM', 'Sug_Muni')"
      ]
    },
    {
      "cell_type": "code",
      "execution_count": 74,
      "metadata": {},
      "outputs": [],
      "source": [
        "taz = add_geo_info_shp(taz,taz, software_folder_location, 'muni_under_JTMT_ITM', 'CR_PNIM')"
      ]
    },
    {
      "cell_type": "code",
      "execution_count": 75,
      "metadata": {},
      "outputs": [],
      "source": [
        "taz = add_geo_info_shp(taz,taz, software_folder_location, 'highBusinessFlag', 'HighBiz')\n",
        "taz.rename(columns={'HighBiz': 'highBusinessFlag'}, inplace=True)"
      ]
    },
    {
      "cell_type": "code",
      "execution_count": 76,
      "metadata": {},
      "outputs": [],
      "source": [
        "taz=add_geo_info_shp(taz,taz,software_folder_location,'schDistrict','ID').rename(columns={'ID':'SCHOOLDISTRICT'})"
      ]
    },
    {
      "cell_type": "code",
      "execution_count": 77,
      "metadata": {},
      "outputs": [],
      "source": [
        "taz=add_geo_info_shp(taz,taz,software_folder_location,'urban','Urban')"
      ]
    },
    {
      "cell_type": "code",
      "execution_count": 78,
      "metadata": {},
      "outputs": [],
      "source": [
        "taz=add_geo_info_shp(taz,taz,software_folder_location,'EIProp','EIProp')"
      ]
    },
    {
      "cell_type": "code",
      "execution_count": 79,
      "metadata": {},
      "outputs": [],
      "source": [
        "col=['poly_puma', 'F3', 'F2', 'F1']\n",
        "\n",
        "for c in col:\n",
        "    taz=add_geo_info_shp(taz,taz,software_folder_location,'poly_pumas',c)\n",
        "    "
      ]
    },
    {
      "cell_type": "code",
      "execution_count": 80,
      "metadata": {},
      "outputs": [],
      "source": [
        "col=['agri', 'Indus', 'Com_hotel', 'Business', 'Public']\n",
        "\n",
        "for c in col:\n",
        "    taz=add_geo_info_shp(taz,taz,software_folder_location,'emp_category_type',c)\n",
        "    taz['{}'.format(c)]=taz['{}'.format(c)]/100\n",
        "    "
      ]
    },
    {
      "cell_type": "code",
      "execution_count": 81,
      "metadata": {},
      "outputs": [],
      "source": [
        "taz = add_geo_info_shp(taz,taz, software_folder_location, 'commuting_230712', 'commuting')\n",
        "taz['commuting']=taz['commuting']/100"
      ]
    },
    {
      "cell_type": "code",
      "execution_count": 82,
      "metadata": {},
      "outputs": [],
      "source": [
        "taz['ieold']=0\n",
        "taz.loc[taz['jeru_metro']==1,'ieold']=taz['commuting']\n",
        "taz['IEProp']=taz['ieold']"
      ]
    },
    {
      "cell_type": "code",
      "execution_count": 83,
      "metadata": {},
      "outputs": [],
      "source": [
        "taz['perScaled']=1-taz['EIProp']"
      ]
    },
    {
      "cell_type": "code",
      "execution_count": 84,
      "metadata": {},
      "outputs": [],
      "source": [
        "col_parking=['FreeBuffer',\n",
        "'PaidBuffer',\n",
        "'Rest_EmpBuffer',\n",
        "'searchtime',\n",
        "'walktime',\n",
        "'cost']\n",
        "\n",
        "for c in col_parking:\n",
        "    taz=add_geo_info_gdb(taz,taz,software_folder_location,'parking_abm',c,c)"
      ]
    },
    {
      "cell_type": "code",
      "execution_count": 85,
      "metadata": {},
      "outputs": [],
      "source": [
        "taz.loc[taz['Taz_num'] < 7001, 'Agg_taz_nu'] = taz['Taz_num'] // 100\n",
        "taz.loc[taz['Taz_num'] >= 7001, 'Agg_taz_nu'] = taz['Taz_num'] // 10"
      ]
    },
    {
      "cell_type": "code",
      "execution_count": 86,
      "metadata": {},
      "outputs": [],
      "source": [
        "col_with_fix_num=['area',\n",
        " 'CITYCODE1',\n",
        " 'CITYCODE2',\n",
        " 'CITYCODE3',\n",
        " 'CITYCODE4',\n",
        " 'codeseq',\n",
        " 'codeseqCons',\n",
        " 'county',\n",
        " 'majunivenr',\n",
        " 'parktot',\n",
        " 'superZone',\n",
        " 'Taz1','slope','REGION']\n"
      ]
    },
    {
      "cell_type": "code",
      "execution_count": 87,
      "metadata": {},
      "outputs": [],
      "source": [
        "\n",
        "taz[col_with_fix_num]=1"
      ]
    },
    {
      "cell_type": "code",
      "execution_count": 88,
      "metadata": {},
      "outputs": [],
      "source": [
        "taz['yosh']=0\n",
        "\n",
        "taz.loc[taz['zonetype']=='Judea and Samaria','yosh']=1\n",
        "\n",
        "taz['jerusalem_city']=0\n",
        "\n",
        "taz.loc[taz['in_jerusal']=='yes','jerusalem_city']=1"
      ]
    },
    {
      "cell_type": "code",
      "execution_count": 89,
      "metadata": {},
      "outputs": [],
      "source": [
        "taz.to_excel(r\"{}\\background_files\\TAZ_V4_{}_with_geo_info.xlsx\".format(software_folder_location, file_date), index=False)"
      ]
    }
  ],
  "metadata": {
    "kernelspec": {
      "display_name": "creat_forecast_ad_hoc_env",
      "language": "python",
      "name": "python3"
    },
    "language_info": {
      "codemirror_mode": {
        "name": "ipython",
        "version": 3
      },
      "file_extension": ".py",
      "mimetype": "text/x-python",
      "name": "python",
      "nbconvert_exporter": "python",
      "pygments_lexer": "ipython3",
      "version": "3.11.5"
    }
  },
  "nbformat": 4,
  "nbformat_minor": 2
}
