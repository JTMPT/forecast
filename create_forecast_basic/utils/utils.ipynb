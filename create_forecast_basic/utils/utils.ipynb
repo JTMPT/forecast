{
 "cells": [
  {
   "cell_type": "code",
   "execution_count": 21,
   "metadata": {},
   "outputs": [],
   "source": [
    "import sys\n",
    "import pandas as pd"
   ]
  },
  {
   "cell_type": "code",
   "execution_count": 22,
   "metadata": {},
   "outputs": [],
   "source": [
    "df_inputs_outputs = pd.read_excel('inputs_outputs.xlsx')\n",
    "\n",
    "software_folder_location=df_inputs_outputs['location'][0]\n",
    "\n",
    "current_folder=r'{}\\current'.format(software_folder_location)\n",
    "\n",
    "future_folder=r'{}\\future'.format(software_folder_location)\n",
    "\n",
    "sys.path.append(future_folder)\n",
    "\n",
    "sys.path.append(current_folder)"
   ]
  },
  {
   "cell_type": "code",
   "execution_count": 23,
   "metadata": {},
   "outputs": [],
   "source": [
    "from global_functions import up_load_shp, make_point"
   ]
  },
  {
   "cell_type": "code",
   "execution_count": 24,
   "metadata": {},
   "outputs": [],
   "source": [
    "#### תאריך\n",
    "file_date=pd.Timestamp.today().strftime('%y%m%d')"
   ]
  },
  {
   "cell_type": "code",
   "execution_count": 25,
   "metadata": {},
   "outputs": [],
   "source": [
    "taz=up_load_shp(r'{}\\background_files\\TAZ_V4_{}.shp'.format(software_folder_location, file_date)) #זה לא טוב אמרת לי שאתה תעשה שקלט של התאריך של הקובץ יגיע מאקסל"
   ]
  },
  {
   "cell_type": "code",
   "execution_count": 26,
   "metadata": {},
   "outputs": [],
   "source": [
    "def add_geo_info_shp(taz,taz_border,software_folder_location,shp_name,col_name): #זה אמור להיות כפונקציה גלובלית\n",
    "\n",
    "    forecast_point = make_point(taz_border)\n",
    "\n",
    "    # Load data layers\n",
    "    geo_info = up_load_shp(r'{}\\background_files\\{}.shp'.format(software_folder_location,shp_name))\n",
    "    \n",
    "    forecast_point_geo_info = forecast_point.sjoin(geo_info)[['Taz_num', '{}'.format(col_name)]]\n",
    "\n",
    "    taz = taz.merge(forecast_point_geo_info, on='Taz_num', how='left')\n",
    "\n",
    "    taz=taz.fillna(0)\n",
    "\n",
    "    return taz"
   ]
  },
  {
   "cell_type": "code",
   "execution_count": 28,
   "metadata": {},
   "outputs": [
    {
     "data": {
      "text/plain": [
       "'W:\\\\Data\\\\Forecast\\\\Tools\\\\forecast_git\\\\create_forecast_basic'"
      ]
     },
     "execution_count": 28,
     "metadata": {},
     "output_type": "execute_result"
    }
   ],
   "source": [
    "software_folder_location"
   ]
  },
  {
   "cell_type": "code",
   "execution_count": 29,
   "metadata": {},
   "outputs": [],
   "source": [
    "shp_name = r'TAZ_V4_{}'.format(file_date)#כנל\n",
    "taz = add_geo_info_shp(taz,taz, software_folder_location, 'jeru_metro_jtmt_border_240402', 'jeru_metro')"
   ]
  },
  {
   "cell_type": "code",
   "execution_count": 30,
   "metadata": {},
   "outputs": [],
   "source": [
    "taz.to_file(r\"{}\\background_files\\TAZ_V4_{}_with_geo_info.shp\".format(software_folder_location, file_date), encoding='utf-8')"
   ]
  }
 ],
 "metadata": {
  "kernelspec": {
   "display_name": "creat_forecast_ad_hoc_env",
   "language": "python",
   "name": "python3"
  },
  "language_info": {
   "codemirror_mode": {
    "name": "ipython",
    "version": 3
   },
   "file_extension": ".py",
   "mimetype": "text/x-python",
   "name": "python",
   "nbconvert_exporter": "python",
   "pygments_lexer": "ipython3",
   "version": "3.11.5"
  }
 },
 "nbformat": 4,
 "nbformat_minor": 2
}
