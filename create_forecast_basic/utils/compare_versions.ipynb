{
 "cells": [
  {
   "cell_type": "code",
   "execution_count": 1,
   "metadata": {},
   "outputs": [],
   "source": [
    "import os\n",
    "import sys\n",
    "import pandas as pd\n",
    "import geopandas as gpd\n",
    "from global_functions import up_load_shp, make_point, add_geo_info_shp,add_geo_info_gdb"
   ]
  },
  {
   "cell_type": "code",
   "execution_count": 2,
   "metadata": {},
   "outputs": [
    {
     "name": "stdout",
     "output_type": "stream",
     "text": [
      "Loaded v2_2040 as a DataFrame.\n",
      "Loaded v3_2040 as a DataFrame.\n",
      "Loaded v4_2040 as a DataFrame.\n",
      "Loaded v4_2050 as a DataFrame.\n"
     ]
    }
   ],
   "source": [
    "# נגדיר את הנתיב לתיקייה שבה נמצאים קבצי ה-Excel\n",
    "folder_path = r'W:\\Data\\Forecast\\פרוייקטים\\השוואת גירסאות 2 3 4 ביוש לפי רשויות\\df'\n",
    "\n",
    "# נעבור על כל הקבצים בתיקייה\n",
    "for file_name in os.listdir(folder_path):\n",
    "    # נבדוק שהקובץ הוא קובץ אקסל\n",
    "    if file_name.endswith('.xlsx') or file_name.endswith('.xls'):\n",
    "        # נבנה את הנתיב המלא לקובץ\n",
    "        file_path = os.path.join(folder_path, file_name)\n",
    "        \n",
    "        # נשתמש בשם הקובץ ללא הסיומת כשם למשתנה\n",
    "        variable_name = os.path.splitext(file_name)[0]\n",
    "        \n",
    "        # נטען את הקובץ ל-DataFrame\n",
    "        globals()[variable_name] = pd.read_excel(file_path)\n",
    "        \n",
    "        print(f\"Loaded {variable_name} as a DataFrame.\")\n",
    "\n",
    "# כעת לכל קובץ יש DataFrame בשם שלו"
   ]
  },
  {
   "cell_type": "code",
   "execution_count": 3,
   "metadata": {},
   "outputs": [
    {
     "name": "stdout",
     "output_type": "stream",
     "text": [
      "Loaded TAZ_V2_241103_with_geo_info as a GeoDataFrame.\n",
      "Loaded TAZ_V3_241103_with_geo_info as a GeoDataFrame.\n",
      "Loaded TAZ_V4_241103_with_geo_info as a GeoDataFrame.\n"
     ]
    }
   ],
   "source": [
    "# נגדיר את הנתיב לתיקייה שבה נמצאים קבצי ה-SHP\n",
    "folder_path = r'W:\\Data\\Forecast\\פרוייקטים\\השוואת גירסאות 2 3 4 ביוש לפי רשויות\\shp'\n",
    "\n",
    "# נעבור על כל הקבצים בתיקייה\n",
    "for file_name in os.listdir(folder_path):\n",
    "    # נבדוק שהקובץ הוא קובץ SHP\n",
    "    if file_name.endswith('.shp'):\n",
    "        # נבנה את הנתיב המלא לקובץ\n",
    "        file_path = os.path.join(folder_path, file_name)\n",
    "        \n",
    "        # נשתמש בשם הקובץ ללא הסיומת כשם למשתנה\n",
    "        variable_name = os.path.splitext(file_name)[0]\n",
    "        \n",
    "        # נטען את הקובץ ל-GeoDataFrame\n",
    "        globals()[variable_name] = gpd.read_file(file_path)\n",
    "        \n",
    "        print(f\"Loaded {variable_name} as a GeoDataFrame.\")"
   ]
  },
  {
   "cell_type": "code",
   "execution_count": 5,
   "metadata": {},
   "outputs": [],
   "source": [
    "v2=TAZ_V2_241103_with_geo_info.merge(v2_2040,left_on='Taz_num',right_on='TAZ')"
   ]
  },
  {
   "cell_type": "code",
   "execution_count": 6,
   "metadata": {},
   "outputs": [],
   "source": [
    "v3=TAZ_V3_241103_with_geo_info.merge(v3_2040,left_on='Taz_num',right_on='TAZ')"
   ]
  },
  {
   "cell_type": "code",
   "execution_count": 7,
   "metadata": {},
   "outputs": [],
   "source": [
    "v4_2040=TAZ_V4_241103_with_geo_info.merge(v4_2040,left_on='Taz_num',right_on='TAZ')"
   ]
  },
  {
   "cell_type": "code",
   "execution_count": 8,
   "metadata": {},
   "outputs": [],
   "source": [
    "v4_2050=TAZ_V4_241103_with_geo_info.merge(v4_2050,left_on='Taz_num',right_on='TAZ')"
   ]
  },
  {
   "cell_type": "code",
   "execution_count": 9,
   "metadata": {},
   "outputs": [],
   "source": [
    "col=['v','zonetype', 'Muni_Heb', 'hh_total', 'pop', 'emp_tot']\n"
   ]
  },
  {
   "cell_type": "code",
   "execution_count": 10,
   "metadata": {},
   "outputs": [],
   "source": [
    "variables = [v2, v3, v4_2040, v4_2050]"
   ]
  },
  {
   "cell_type": "code",
   "execution_count": 11,
   "metadata": {},
   "outputs": [],
   "source": [
    "\n",
    "variable_names = [\"v2_2040\", \"v3_2040\", \"v4_2040\", \"v4_2050\"]\n",
    "\n",
    "for var, name in zip(variables, variable_names):\n",
    "    var['v']=name\n",
    "    "
   ]
  },
  {
   "cell_type": "code",
   "execution_count": 12,
   "metadata": {},
   "outputs": [],
   "source": [
    "variables = [df[col] for df in variables]"
   ]
  },
  {
   "cell_type": "code",
   "execution_count": 13,
   "metadata": {},
   "outputs": [],
   "source": [
    "for i in range(4):\n",
    "    variables[i]=pd.pivot_table(variables[i],index=['zonetype', 'Muni_Heb'],columns='v',aggfunc=sum)"
   ]
  },
  {
   "cell_type": "code",
   "execution_count": 14,
   "metadata": {},
   "outputs": [],
   "source": [
    "df=pd.concat([variables[0], variables[1]],axis=1)\n"
   ]
  },
  {
   "cell_type": "code",
   "execution_count": 15,
   "metadata": {},
   "outputs": [],
   "source": [
    "df1=pd.concat([variables[2], variables[3]],axis=1)\n"
   ]
  },
  {
   "cell_type": "code",
   "execution_count": 16,
   "metadata": {},
   "outputs": [],
   "source": [
    "\n",
    "df_join=pd.concat([df,df1],axis=1)"
   ]
  },
  {
   "cell_type": "code",
   "execution_count": 17,
   "metadata": {},
   "outputs": [],
   "source": [
    "df_join.sort_index(axis=1).to_excel('output.xlsx')"
   ]
  }
 ],
 "metadata": {
  "kernelspec": {
   "display_name": "base",
   "language": "python",
   "name": "python3"
  },
  "language_info": {
   "codemirror_mode": {
    "name": "ipython",
    "version": 3
   },
   "file_extension": ".py",
   "mimetype": "text/x-python",
   "name": "python",
   "nbconvert_exporter": "python",
   "pygments_lexer": "ipython3",
   "version": "3.11.5"
  }
 },
 "nbformat": 4,
 "nbformat_minor": 2
}
