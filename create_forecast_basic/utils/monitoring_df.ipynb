{
 "cells": [
  {
   "cell_type": "code",
   "execution_count": null,
   "metadata": {},
   "outputs": [],
   "source": [
    "import pandas as pd\n",
    "import numpy as np\n",
    "from global_functions import get_newest_date_file"
   ]
  },
  {
   "cell_type": "code",
   "execution_count": null,
   "metadata": {},
   "outputs": [],
   "source": [
    "pd.options.display.max_columns = None"
   ]
  },
  {
   "cell_type": "code",
   "execution_count": null,
   "metadata": {},
   "outputs": [],
   "source": [
    "df_2020 = pd.read_excel(r\"C:\\Users\\dpere\\Documents\\JTMT\\forecast_by_version\\V4\\BASE_YEAR\\2020_jtmt_forcast_full_240506.xlsx\").set_index('Taz_num').sort_index() \n",
    "df_jtmt_2050 = pd.read_excel(r\"C:\\Users\\dpere\\Documents\\JTMT\\forecast_by_version\\V4\\240506_forecast_2020_till_2050_jtmt.xlsx\").set_index('Taz_num').sort_index() \n",
    "df_iplan_2050 = pd.read_excel(r\"C:\\Users\\dpere\\Documents\\JTMT\\forecast_by_version\\V4\\240506_forecast_2020_till_2050_iplan.xlsx\").set_index('Taz_num').sort_index() \n",
    "df_bau_2050 = pd.read_excel(r\"C:\\Users\\dpere\\Documents\\JTMT\\forecast_by_version\\V4\\240506_forecast_2020_till_2050_bau.xlsx\").set_index('Taz_num').sort_index() "
   ]
  },
  {
   "cell_type": "code",
   "execution_count": null,
   "metadata": {},
   "outputs": [],
   "source": [
    "BaseProjections_version = get_newest_date_file(r'C:\\Users\\dpere\\Documents\\JTMT\\forecast_by_version\\V4\\JTMT', 'BaseProjections2025_')\n",
    "\n",
    "years = ['2025', '2030','2035', '2040', '2045', '2050']\n",
    "\n",
    "senarios = ['JTMT', 'IPLAN', 'BAU']\n",
    "\n",
    "for sen in senarios:\n",
    "    for year in years:\n",
    "        locals()[f'BaseProjections_{sen}_{year}'] = pd.read_excel(fr'C:\\Users\\dpere\\Documents\\JTMT\\forecast_by_version\\V4\\{sen}\\BaseProjections{year}_{BaseProjections_version}_{sen.lower()}.xlsx')\n",
    "        locals()[f'values_list_{sen}'] = ['NaN']"
   ]
  },
  {
   "cell_type": "code",
   "execution_count": null,
   "metadata": {},
   "outputs": [],
   "source": [
    "# BaseProjections_JTMT_2050 = pd.merge(locals()[f'BaseProjections_JTMT_2050'],df_2020[['SCHOOLDIST']],left_on='TAZ', right_on='Taz_num')\n",
    "\n",
    "# BaseProjections_JTMT_2050 = pd.pivot_table(BaseProjections_JTMT_2050, index=['SCHOOLDIST'], aggfunc=\"sum\")\n",
    "# calculate_age5_9 = BaseProjections_JTMT_2050['age5_9']/5*4\n",
    "# calculate_age15_19 = BaseProjections_JTMT_2050['age15_19']/5*4"
   ]
  },
  {
   "cell_type": "code",
   "execution_count": null,
   "metadata": {},
   "outputs": [],
   "source": [
    "# sum = calculate_age5_9 + BaseProjections_JTMT_2050['age10_14'] + calculate_age15_19\n",
    "# sum\n",
    "# BaseProjections_JTMT_2050"
   ]
  },
  {
   "cell_type": "code",
   "execution_count": null,
   "metadata": {},
   "outputs": [],
   "source": [
    "df_jtmt_2050 = pd.merge(df_jtmt_2050,df_2020[['SCHOOLDIST']],on='Taz_num', how='left')\n",
    "df_iplan_2050 = pd.merge(df_iplan_2050,df_2020[['SCHOOLDIST']],on='Taz_num', how='left')\n",
    "df_bau_2050 = pd.merge(df_bau_2050,df_2020[['SCHOOLDIST']],on='Taz_num', how='left')"
   ]
  },
  {
   "cell_type": "code",
   "execution_count": null,
   "metadata": {},
   "outputs": [],
   "source": [
    "def convert_to_int(float_list):\n",
    "  int_list = []\n",
    "  for num in float_list:\n",
    "    if not isinstance(num, float):\n",
    "      raise ValueError(\"Input list must contain only floats\")\n",
    "    # Check if conversion to int results in a loss of precision\n",
    "    if num != int(num):\n",
    "      raise ValueError(f\"Float {num} cannot be converted to int without losing precision\")\n",
    "    int_list.append(int(num))\n",
    "  return int_list"
   ]
  },
  {
   "cell_type": "code",
   "execution_count": null,
   "metadata": {},
   "outputs": [],
   "source": [
    "def add_total_by_type_row(output_df, column_input_name, column_input_value, column_output_name):\n",
    "    values_list = []\n",
    "    \n",
    "    for idx, df in enumerate([df_2020, df_jtmt_2050, df_iplan_2050, df_bau_2050]):\n",
    "        val = df[df[f'{column_input_name}'] == column_input_value] \n",
    "        values_list.append(len(val))\n",
    "\n",
    "    output_df.loc[f'{column_output_name}'] = values_list\n",
    "\n",
    "    return output_df"
   ]
  },
  {
   "cell_type": "code",
   "execution_count": null,
   "metadata": {},
   "outputs": [],
   "source": [
    "def add_total_row(output_df, column_input_name, column_output_name):\n",
    "    values_list = []\n",
    "\n",
    "    for idx, df in enumerate([df_2020, df_jtmt_2050, df_iplan_2050, df_bau_2050]):\n",
    "        if column_input_name in df.columns:\n",
    "            val = df[f'{column_input_name}'].sum()\n",
    "            # val = df.pivot_table(index='main_secto', values=f'{column_input_name}', aggfunc=\"sum\", fill_value=0).astype('float32').sum()\n",
    "            values_list.append(\"{:,}\".format(int(val)))\n",
    "        else:\n",
    "            values_list.append('NaN')\n",
    "\n",
    "    output_df.loc[f'{column_output_name}'] = values_list\n",
    "\n",
    "    return output_df"
   ]
  },
  {
   "cell_type": "code",
   "execution_count": null,
   "metadata": {},
   "outputs": [],
   "source": [
    "def add_taz_num_is_unique_row(output_df, column_output_name):\n",
    "    values_list = []\n",
    "    \n",
    "    for idx, df in enumerate([df_2020, df_jtmt_2050, df_iplan_2050, df_bau_2050]):\n",
    "        val = df_2020.index.is_unique\n",
    "        values_list.append(val)\n",
    "\n",
    "    output_df.loc[f'{column_output_name}'] = values_list\n",
    "\n",
    "    return output_df"
   ]
  },
  {
   "cell_type": "code",
   "execution_count": null,
   "metadata": {},
   "outputs": [],
   "source": [
    "def add_taz_num_count_row(output_df, column_output_name):\n",
    "    values_list = []\n",
    "    \n",
    "    for idx, df in enumerate([df_2020, df_jtmt_2050, df_iplan_2050, df_bau_2050]):\n",
    "        val = len(df.index)\n",
    "        values_list.append(val)\n",
    "\n",
    "    output_df.loc[f'{column_output_name}'] = values_list\n",
    "\n",
    "    return output_df"
   ]
  },
  {
   "cell_type": "code",
   "execution_count": null,
   "metadata": {},
   "outputs": [],
   "source": [
    "def add_percentage_growth_row(current, previous, output_df, column_output_name):\n",
    "    values_list = []\n",
    "\n",
    "    for idx, df in enumerate([df_2020, df_jtmt_2050, df_iplan_2050, df_bau_2050]):\n",
    "        if len(list(df)) == 135:\n",
    "                values_list.append('NaN')\n",
    "\n",
    "        else:\n",
    "            if df[f'{current}'].sum() == df[f'{previous}'].sum():\n",
    "                values_list.append(100.0)\n",
    "            else:\n",
    "                try:\n",
    "                    values_list.append((df[f'{current}'].sum() / df[f'{previous}'].sum()) * 100.0)\n",
    "                except ZeroDivisionError:\n",
    "                    values_list.append(0)\n",
    "    \n",
    "    output_df.loc[f'{column_output_name}'] = values_list\n",
    "\n",
    "    return output_df"
   ]
  },
  {
   "cell_type": "code",
   "execution_count": null,
   "metadata": {},
   "outputs": [],
   "source": [
    "def add_percentage_growth_BaseProjections_row(current_year, previous_year, output_df, column_output_name):\n",
    "    values_list = ['NaN']\n",
    "\n",
    "    for idx, sen in enumerate(['JTMT', 'IPLAN', 'BAU']):\n",
    "        if globals()[f'BaseProjections_age20_29_{sen}_{current_year}'] == globals()[f'BaseProjections_age20_29_{sen}_{previous_year}']:\n",
    "                values_list.append(100.0)\n",
    "        else:\n",
    "            try:\n",
    "                values_list.append((globals()[f'BaseProjections_age20_29_{sen}_{current_year}'] / globals()[f'BaseProjections_age20_29_{sen}_{previous_year}']) * 100.0)\n",
    "            except ZeroDivisionError:\n",
    "                values_list.append(0)\n",
    "            \n",
    "    output_df.loc[f'{column_output_name}'] = values_list\n",
    "\n",
    "    return output_df"
   ]
  },
  {
   "cell_type": "code",
   "execution_count": null,
   "metadata": {},
   "outputs": [],
   "source": [
    "def add_students_by_SCHOOLDIST(output_df, column_key_name, column_input_name, column_input_value, column_output_name):\n",
    "    values_list = []\n",
    "    \n",
    "    # if column_key_name in df.columns:\n",
    "    for idx, df in enumerate([df_2020, df_jtmt_2050, df_iplan_2050, df_bau_2050]):\n",
    "        val = pd.pivot_table(df, index=[f'{column_input_name}'], aggfunc=\"sum\")\n",
    "        if column_key_name in val.columns:\n",
    "            values_list.append(val[column_key_name][column_input_value])\n",
    "        else:\n",
    "            values_list.append('NaN')\n",
    "\n",
    "    output_df.loc[f'{column_output_name}'] = values_list\n",
    "\n",
    "    return output_df"
   ]
  },
  {
   "cell_type": "code",
   "execution_count": null,
   "metadata": {},
   "outputs": [],
   "source": [
    "for sen in senarios:\n",
    "        globals()[f'pivot_sector_{sen.lower()}'] = pd.pivot_table(locals()[f'df_{sen.lower()}_2050'], index=['main_secto'], aggfunc=\"sum\")"
   ]
  },
  {
   "cell_type": "code",
   "execution_count": null,
   "metadata": {},
   "outputs": [],
   "source": [
    "def add_percentage_growth_by_sector_row(current_year, previous_year, output_df, column_output_name):\n",
    "        values_list = ['NaN']\n",
    "\n",
    "        for i, index in enumerate(pivot_sector_jtmt.index):\n",
    "                for sen in [pivot_sector_jtmt, pivot_sector_iplan, pivot_sector_bau]:\n",
    "                        if previous_year == '2020':\n",
    "                                if current_year == previous_year:\n",
    "                                        values_list.append(100)\n",
    "                                else:\n",
    "                                        val = ((sen.iloc[i][f'pop_without_dorms_yeshiva_{current_year}'] / sen.iloc[i]['pop_without_dorms_yeshiva']) * 100.0)\n",
    "                                        if val == float(\"inf\"):\n",
    "                                                values_list.append(0)\n",
    "                                        else:\n",
    "                                                values_list.append(val)\n",
    "                        else:\n",
    "                                if current_year == previous_year:\n",
    "                                        values_list.append(100)\n",
    "                                else:\n",
    "                                        val = ((sen.iloc[i][f'pop_without_dorms_yeshiva_{current_year}'] / sen.iloc[i][f'pop_without_dorms_yeshiva_{previous_year}']) * 100.0)\n",
    "                                        if val == float(\"inf\"):\n",
    "                                                values_list.append(0)\n",
    "                                        else:\n",
    "                                                values_list.append(val)\n",
    "                output_df.loc[f'percentage growth {pivot_sector_jtmt.index[i]} {previous_year}-{current_year}'] = np.float32(values_list)\n",
    "                values_list = ['NaN']\n",
    "                \n",
    "        return output_df"
   ]
  },
  {
   "cell_type": "code",
   "execution_count": null,
   "metadata": {},
   "outputs": [],
   "source": [
    "monitoring_df = pd.DataFrame(columns=['2020', 'JTMT', 'iplan', 'bau'])"
   ]
  },
  {
   "cell_type": "code",
   "execution_count": null,
   "metadata": {},
   "outputs": [],
   "source": [
    "SCHOOLDIST_list = list(df_2020['SCHOOLDIST'].value_counts().index)\n",
    "sectors_list = list(df_2020['main_secto'].value_counts().index)\n",
    "zonetypes_list = list(df_2020['zonetype'].value_counts().index)\n",
    "jeru_metros_list = list(df_2020['jeru_metro'].value_counts().index)\n",
    "in_jerusals_list = list(df_2020['in_jerusal'].value_counts().index)"
   ]
  },
  {
   "cell_type": "code",
   "execution_count": null,
   "metadata": {},
   "outputs": [],
   "source": [
    "# אוכלוסיה\n",
    "monitoring_df = add_total_row(monitoring_df, 'pop_without_dorms_yeshiva', 'pop_2020')\n",
    "monitoring_df = add_total_row(monitoring_df, 'pop_without_dorms_yeshiva_2050', 'pop_2050')\n",
    "\n",
    "# מועסקים\n",
    "monitoring_df = add_total_row(monitoring_df, 'total_emp', 'emp_2020')\n",
    "monitoring_df = add_total_row(monitoring_df, 'total_emp_2050', 'emp_2050')\n",
    "\n",
    "# מספר א\"ת לפי סקטור\n",
    "for item in sectors_list:\n",
    "    monitoring_df = add_total_by_type_row(monitoring_df, 'main_secto', item, f'Taz_U_{item}')\n",
    "\n",
    "# סטודנטים\n",
    "monitoring_df = add_total_row(monitoring_df, 'univ', 'univ_2020')\n",
    "monitoring_df = add_total_row(monitoring_df, 'univ_2050', 'univ_2050')\n",
    "\n",
    "# בתי ספר\n",
    "monitoring_df = add_total_row(monitoring_df, 'student', 'student_2020')\n",
    "monitoring_df = add_total_row(monitoring_df, 'student_2050', 'student_2050')\n",
    "\n",
    "# ישיבות\n",
    "monitoring_df = add_total_row(monitoring_df, 'student_yeshiva_and_kollim', 'student_yeshiva_and_kollim_2020')\n",
    "monitoring_df = add_total_row(monitoring_df, 'student_yeshiva_and_kollim_2050', 'student_yeshiva_and_kollim_2050')\n",
    "\n",
    "# zonetype\n",
    "for item in zonetypes_list:\n",
    "    monitoring_df = add_total_by_type_row(monitoring_df, 'zonetype', item, f'zonetype_{item}')\n",
    "\n",
    "# jeru_metro\n",
    "for item in jeru_metros_list:\n",
    "    monitoring_df = add_total_by_type_row(monitoring_df, 'jeru_metro', item, f'jeru_metro_{item}')\n",
    "\n",
    "# in_jerusal\n",
    "for item in in_jerusals_list:\n",
    "    monitoring_df = add_total_by_type_row(monitoring_df, 'in_jerusal', item, f'in_jerusal_{item}')\n",
    "\n",
    "# אין א\"ת שחוזר פעמיים\n",
    "monitoring_df = add_taz_num_is_unique_row(monitoring_df, 'taz_num_is_unique')\n",
    "# מספר א\"ת\n",
    "monitoring_df = add_taz_num_count_row(monitoring_df, 'taz_num_count')"
   ]
  },
  {
   "cell_type": "code",
   "execution_count": null,
   "metadata": {},
   "outputs": [],
   "source": [
    "# גידול אוכלוסיה כל חומש בכל תרחיש\n",
    "monitoring_df = add_percentage_growth_row('pop_without_dorms_yeshiva_2025', 'pop_without_dorms_yeshiva', monitoring_df, 'percentage growth pop 2020-2025')\n",
    "monitoring_df = add_percentage_growth_row('pop_without_dorms_yeshiva_2030', 'pop_without_dorms_yeshiva_2025', monitoring_df, 'percentage growth pop 2025-2030')\n",
    "monitoring_df = add_percentage_growth_row('pop_without_dorms_yeshiva_2035', 'pop_without_dorms_yeshiva_2030', monitoring_df, 'percentage growth pop 2030-2035')\n",
    "monitoring_df = add_percentage_growth_row('pop_without_dorms_yeshiva_2040', 'pop_without_dorms_yeshiva_2035', monitoring_df, 'percentage growth pop 2035-2040')\n",
    "monitoring_df = add_percentage_growth_row('pop_without_dorms_yeshiva_2045', 'pop_without_dorms_yeshiva_2050', monitoring_df, 'percentage growth pop 2045-2050')\n",
    "\n",
    "# גידול סטודנטים כל חומש בכל תרחיש\n",
    "monitoring_df = add_percentage_growth_row('univ_2025', 'univ', monitoring_df, 'percentage growth univ 2020-2025')\n",
    "monitoring_df = add_percentage_growth_row('univ_2030', 'univ_2025', monitoring_df, 'percentage growth univ 2025-2030')\n",
    "monitoring_df = add_percentage_growth_row('univ_2035', 'univ_2030', monitoring_df, 'percentage growth univ 2030-2035')\n",
    "monitoring_df = add_percentage_growth_row('univ_2040', 'univ_2035', monitoring_df, 'percentage growth univ 2035-2040')\n",
    "monitoring_df = add_percentage_growth_row('univ_2045', 'univ_2050', monitoring_df, 'percentage growth univ 2045-2050')\n",
    "\n",
    "# גידול אוכלוסיה כל חומש בכל תרחיש לפי מגזר\n",
    "monitoring_df = add_percentage_growth_by_sector_row('2025', '2020', monitoring_df, 'percentage growth univ 2020-2025')\n",
    "monitoring_df = add_percentage_growth_by_sector_row('2030', '2025', monitoring_df, 'percentage growth univ 2025-2030')\n",
    "monitoring_df = add_percentage_growth_by_sector_row('2035', '2030', monitoring_df, 'percentage growth univ 2030-2035')\n",
    "monitoring_df = add_percentage_growth_by_sector_row('2040', '2035', monitoring_df, 'percentage growth univ 2035-2040')\n",
    "monitoring_df = add_percentage_growth_by_sector_row('2045', '2040', monitoring_df, 'percentage growth univ 2035-2040')\n",
    "monitoring_df = add_percentage_growth_by_sector_row('2050', '2045', monitoring_df, 'percentage growth univ 2045-2050')"
   ]
  },
  {
   "cell_type": "code",
   "execution_count": null,
   "metadata": {},
   "outputs": [],
   "source": [
    "for sen in senarios:\n",
    "    for year in years:\n",
    "        globals()[f'BaseProjections_age20_29_{sen}_{year}'] = globals()[f'BaseProjections_{sen}_{year}']['age20_24'].sum()/5*3 + globals()[f'BaseProjections_{sen}_{year}']['age25_29'].sum()/5*4\n",
    "\n",
    "monitoring_df = add_percentage_growth_BaseProjections_row('2030', '2025', monitoring_df, 'percentage growth BaseProjections age20_29 2025-2030')\n",
    "monitoring_df = add_percentage_growth_BaseProjections_row('2035', '2030', monitoring_df, 'percentage growth BaseProjections age20_29 2030-2035')\n",
    "monitoring_df = add_percentage_growth_BaseProjections_row('2040', '2035', monitoring_df, 'percentage growth BaseProjections age20_29 2035-2040')\n",
    "monitoring_df = add_percentage_growth_BaseProjections_row('2045', '2040', monitoring_df, 'percentage growth BaseProjections age20_29 2040-2045')\n",
    "monitoring_df = add_percentage_growth_BaseProjections_row('2050', '2045', monitoring_df, 'percentage growth BaseProjections age20_29 2045-2050')"
   ]
  },
  {
   "cell_type": "code",
   "execution_count": null,
   "metadata": {},
   "outputs": [],
   "source": [
    "# SCHOOLDIST 2020\n",
    "for item in SCHOOLDIST_list:\n",
    "    monitoring_df = add_students_by_SCHOOLDIST(monitoring_df, 'student', 'SCHOOLDIST', item, f'SCHOOLDIST_{item}_2020')\n",
    "\n",
    "# SCHOOLDIST 2025\n",
    "for item in SCHOOLDIST_list:\n",
    "    monitoring_df = add_students_by_SCHOOLDIST(monitoring_df, 'student_2025', 'SCHOOLDIST', item, f'SCHOOLDIST_{item}_2025')\n",
    "\n",
    "# SCHOOLDIST 2030\n",
    "for item in SCHOOLDIST_list:\n",
    "    monitoring_df = add_students_by_SCHOOLDIST(monitoring_df, 'student_2030', 'SCHOOLDIST', item, f'SCHOOLDIST_{item}_2030')\n",
    "\n",
    "# SCHOOLDIST 2035\n",
    "for item in SCHOOLDIST_list:\n",
    "    monitoring_df = add_students_by_SCHOOLDIST(monitoring_df, 'student_2035', 'SCHOOLDIST', item, f'SCHOOLDIST_{item}_2035')\n",
    "\n",
    "# SCHOOLDIST 2040\n",
    "for item in SCHOOLDIST_list:\n",
    "    monitoring_df = add_students_by_SCHOOLDIST(monitoring_df, 'student_2040', 'SCHOOLDIST', item, f'SCHOOLDIST_{item}_2040')\n",
    "\n",
    "# SCHOOLDIST 2045\n",
    "for item in SCHOOLDIST_list:\n",
    "    monitoring_df = add_students_by_SCHOOLDIST(monitoring_df, 'student_2045', 'SCHOOLDIST', item, f'SCHOOLDIST_{item}_2045')\n",
    "\n",
    "# SCHOOLDIST 2050\n",
    "for item in SCHOOLDIST_list:\n",
    "    monitoring_df = add_students_by_SCHOOLDIST(monitoring_df, 'student_2050', 'SCHOOLDIST', item, f'SCHOOLDIST_{item}_2050')"
   ]
  },
  {
   "cell_type": "code",
   "execution_count": null,
   "metadata": {},
   "outputs": [],
   "source": [
    "yearbooks = ['5_9', '10_14', '15_19']\n",
    "\n",
    "values_list = ['NaN']\n",
    "\n",
    "for yearbook in yearbooks:\n",
    "    for year in years:\n",
    "        for idx, sen in enumerate(senarios):\n",
    "            locals()[f'values_list_{year}']  = ['NaN']\n",
    "            values_list.append(locals()[f'BaseProjections_{senarios[idx]}_{year}'][f'age{yearbook}'].sum()/5*4)\n",
    "        monitoring_df.loc[f'BaseProjections_{year}_age{yearbook}'] = values_list\n",
    "        values_list = ['NaN']"
   ]
  },
  {
   "cell_type": "code",
   "execution_count": null,
   "metadata": {},
   "outputs": [],
   "source": [
    "# yearbooks = ['5_9', '10_14', '15_19']\n",
    "\n",
    "# values_list = ['NaN']\n",
    "\n",
    "# for yearbook in yearbooks:\n",
    "#     for year in years:\n",
    "#         for idx, sen in enumerate(senarios):\n",
    "#             locals()[f'values_list_{year}']  = ['NaN']\n",
    "#             values_list.append(locals()[f'BaseProjections_{senarios[idx]}_{year}'][f'age{yearbook}'].sum()/5*4)\n",
    "#         monitoring_df.loc[f'BaseProjections_{year}_age{yearbook}'] = values_list\n",
    "#         values_list = ['NaN']"
   ]
  },
  {
   "cell_type": "code",
   "execution_count": null,
   "metadata": {},
   "outputs": [],
   "source": [
    "monitoring_df.to_excel('monitoring_df.xlsx')\n",
    "monitoring_df"
   ]
  }
 ],
 "metadata": {
  "kernelspec": {
   "display_name": "creat_forecast_ad_hoc_env",
   "language": "python",
   "name": "python3"
  },
  "language_info": {
   "codemirror_mode": {
    "name": "ipython",
    "version": 3
   },
   "file_extension": ".py",
   "mimetype": "text/x-python",
   "name": "python",
   "nbconvert_exporter": "python",
   "pygments_lexer": "ipython3",
   "version": "3.11.5"
  }
 },
 "nbformat": 4,
 "nbformat_minor": 2
}
