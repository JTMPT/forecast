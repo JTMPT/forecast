{
 "cells": [
  {
   "cell_type": "code",
   "execution_count": 1,
   "metadata": {},
   "outputs": [],
   "source": [
    "import pandas as pd\n",
    "import numpy as np\n",
    "from global_functions import get_newest_date_file"
   ]
  },
  {
   "cell_type": "code",
   "execution_count": 2,
   "metadata": {},
   "outputs": [],
   "source": [
    "pd.options.display.max_columns = None"
   ]
  },
  {
   "cell_type": "code",
   "execution_count": 3,
   "metadata": {},
   "outputs": [],
   "source": [
    "df_2020 = pd.read_excel(r\"C:\\Users\\dpere\\Documents\\JTMT\\forecast_by_version\\V4\\BASE_YEAR\\2020_jtmt_forcast_full_240506.xlsx\").set_index('Taz_num').sort_index() \n",
    "df_jtmt_2050 = pd.read_excel(r\"C:\\Users\\dpere\\Documents\\JTMT\\forecast_by_version\\V4\\240506_forecast_2020_till_2050_jtmt.xlsx\").set_index('Taz_num').sort_index() \n",
    "df_iplan_2050 = pd.read_excel(r\"C:\\Users\\dpere\\Documents\\JTMT\\forecast_by_version\\V4\\240506_forecast_2020_till_2050_iplan.xlsx\").set_index('Taz_num').sort_index() \n",
    "df_bau_2050 = pd.read_excel(r\"C:\\Users\\dpere\\Documents\\JTMT\\forecast_by_version\\V4\\240506_forecast_2020_till_2050_bau.xlsx\").set_index('Taz_num').sort_index() "
   ]
  },
  {
   "cell_type": "code",
   "execution_count": 4,
   "metadata": {},
   "outputs": [],
   "source": [
    "BaseProjections_version = get_newest_date_file(r'C:\\Users\\dpere\\Documents\\JTMT\\forecast_by_version\\V4\\JTMT', 'BaseProjections2025_')\n",
    "\n",
    "years = ['2025', '2030','2035', '2040', '2045', '2050']\n",
    "\n",
    "senarios = ['JTMT', 'IPLAN', 'BAU']\n",
    "\n",
    "BaseProjections_jtmt_2020 = pd.read_excel(fr'C:\\Users\\dpere\\Documents\\JTMT\\forecast_by_version\\V4\\BASE_YEAR\\BaseProjections2020_{BaseProjections_version}.xlsx')\n",
    "\n",
    "for sen in senarios:\n",
    "    for year in years:\n",
    "        globals()[f'BaseProjections_{sen}_{year}'] = pd.read_excel(fr'C:\\Users\\dpere\\Documents\\JTMT\\forecast_by_version\\V4\\{sen}\\BaseProjections{year}_{BaseProjections_version}_{sen.lower()}.xlsx')\n",
    "        globals()[f'values_list_{sen}'] = [np.nan]"
   ]
  },
  {
   "cell_type": "code",
   "execution_count": 5,
   "metadata": {},
   "outputs": [],
   "source": [
    "df_jtmt_2050 = pd.merge(df_jtmt_2050,df_2020[['SCHOOLDIST']],on='Taz_num', how='left')\n",
    "df_iplan_2050 = pd.merge(df_iplan_2050,df_2020[['SCHOOLDIST']],on='Taz_num', how='left')\n",
    "df_bau_2050 = pd.merge(df_bau_2050,df_2020[['SCHOOLDIST']],on='Taz_num', how='left')"
   ]
  },
  {
   "cell_type": "code",
   "execution_count": 6,
   "metadata": {},
   "outputs": [],
   "source": [
    "SCHOOLDISTS = pd.pivot_table(df_jtmt_2050, index=['SCHOOLDIST'], aggfunc='sum').index\n",
    "SCHN_NAMES = pd.pivot_table(df_iplan_2050, index=['SCHN_NAME'], aggfunc='sum').index"
   ]
  },
  {
   "cell_type": "code",
   "execution_count": 7,
   "metadata": {},
   "outputs": [],
   "source": [
    "def convert_to_int(float_list):\n",
    "  int_list = []\n",
    "  for num in float_list:\n",
    "    if not isinstance(num, float):\n",
    "      raise ValueError(\"Input list must contain only floats\")\n",
    "    # Check if conversion to int results in a loss of precision\n",
    "    if num != int(num):\n",
    "      raise ValueError(f\"Float {num} cannot be converted to int without losing precision\")\n",
    "    int_list.append(int(num))\n",
    "  return int_list"
   ]
  },
  {
   "cell_type": "code",
   "execution_count": 8,
   "metadata": {},
   "outputs": [],
   "source": [
    "def add_total_by_type_row(output_df, column_input_name, column_input_value, column_output_name):\n",
    "    values_list = []\n",
    "    \n",
    "    for idx, df in enumerate([df_2020, df_jtmt_2050, df_iplan_2050, df_bau_2050]):\n",
    "        val = df[df[f'{column_input_name}'] == column_input_value] \n",
    "        values_list.append(len(val))\n",
    "\n",
    "    output_df.loc[f'{column_output_name}'] = values_list\n",
    "\n",
    "    return output_df"
   ]
  },
  {
   "cell_type": "code",
   "execution_count": 9,
   "metadata": {},
   "outputs": [],
   "source": [
    "def add_total_row(output_df, column_input_name, column_output_name):\n",
    "    values_list = []\n",
    "\n",
    "    for idx, df in enumerate([df_2020, df_jtmt_2050, df_iplan_2050, df_bau_2050]):\n",
    "        if column_input_name in df.columns:\n",
    "            val = df[f'{column_input_name}'].sum()\n",
    "            # val = df.pivot_table(index='main_secto', values=f'{column_input_name}', aggfunc=\"sum\", fill_value=0).astype('float32').sum()\n",
    "            values_list.append(\"{:,}\".format(int(val)))\n",
    "        else:\n",
    "            values_list.append(np.nan)\n",
    "\n",
    "    output_df.loc[f'{column_output_name}'] = values_list\n",
    "\n",
    "    return output_df"
   ]
  },
  {
   "cell_type": "code",
   "execution_count": 10,
   "metadata": {},
   "outputs": [],
   "source": [
    "def add_taz_num_is_unique_row(output_df, column_output_name):\n",
    "    values_list = []\n",
    "    \n",
    "    for idx, df in enumerate([df_2020, df_jtmt_2050, df_iplan_2050, df_bau_2050]):\n",
    "        val = df_2020.index.is_unique\n",
    "        values_list.append(val)\n",
    "\n",
    "    output_df.loc[f'{column_output_name}'] = values_list\n",
    "\n",
    "    return output_df"
   ]
  },
  {
   "cell_type": "code",
   "execution_count": 11,
   "metadata": {},
   "outputs": [],
   "source": [
    "def add_taz_num_count_row(output_df, column_output_name):\n",
    "    values_list = []\n",
    "    \n",
    "    for idx, df in enumerate([df_2020, df_jtmt_2050, df_iplan_2050, df_bau_2050]):\n",
    "        val = len(df.index)\n",
    "        values_list.append(val)\n",
    "\n",
    "    output_df.loc[f'{column_output_name}'] = values_list\n",
    "\n",
    "    return output_df"
   ]
  },
  {
   "cell_type": "code",
   "execution_count": 12,
   "metadata": {},
   "outputs": [],
   "source": [
    "def add_percentage_growth_row(current, previous, output_df, column_output_name):\n",
    "    values_list = []\n",
    "\n",
    "    for idx, df in enumerate([df_2020, df_jtmt_2050, df_iplan_2050, df_bau_2050]):\n",
    "        if len(list(df)) == 135:\n",
    "                values_list.append(np.nan)\n",
    "\n",
    "        else:\n",
    "                try:\n",
    "                    values_list.append((df[f'{current}'].sum() - df[f'{previous}'].sum())/ df[f'{previous}'].sum() * 100.0)\n",
    "                except ZeroDivisionError:\n",
    "                    values_list.append(0)\n",
    "    \n",
    "    output_df.loc[f'{column_output_name}'] = values_list\n",
    "\n",
    "    return output_df"
   ]
  },
  {
   "cell_type": "code",
   "execution_count": 13,
   "metadata": {},
   "outputs": [],
   "source": [
    "# (current-previous)/previous*100"
   ]
  },
  {
   "cell_type": "code",
   "execution_count": 14,
   "metadata": {},
   "outputs": [],
   "source": [
    "def add_students_by_SCHOOLDIST(output_df, column_key_name, column_input_name, column_input_value, column_output_name):\n",
    "    values_list = []\n",
    "    \n",
    "    # if column_key_name in df.columns:\n",
    "    for idx, df in enumerate([df_2020, df_jtmt_2050, df_iplan_2050, df_bau_2050]):\n",
    "        val = pd.pivot_table(df, index=[f'{column_input_name}'], aggfunc=\"sum\")\n",
    "        if column_key_name in val.columns:\n",
    "            values_list.append(val[column_key_name][column_input_value])\n",
    "        else:\n",
    "            values_list.append(np.nan)\n",
    "\n",
    "    output_df.loc[f'{column_output_name}'] = values_list\n",
    "\n",
    "    return output_df"
   ]
  },
  {
   "cell_type": "code",
   "execution_count": 15,
   "metadata": {},
   "outputs": [],
   "source": [
    "for sen in senarios:\n",
    "        globals()[f'pivot_sector_{sen.lower()}'] = pd.pivot_table(locals()[f'df_{sen.lower()}_2050'], index=['main_secto'], aggfunc=\"sum\")"
   ]
  },
  {
   "cell_type": "code",
   "execution_count": 16,
   "metadata": {},
   "outputs": [],
   "source": [
    "def add_percentage_growth_by_sector_row(current_year, previous_year, output_df):\n",
    "        values_list = [np.nan]\n",
    "\n",
    "        for i, index in enumerate(pivot_sector_jtmt.index):\n",
    "                for sen in [pivot_sector_jtmt, pivot_sector_iplan, pivot_sector_bau]:\n",
    "                        if previous_year == '2020':\n",
    "                                        val = ((sen.iloc[i][f'pop_without_dorms_yeshiva_{current_year}'] - sen.iloc[i]['pop_without_dorms_yeshiva']) / sen.iloc[i]['pop_without_dorms_yeshiva'] * 100.0)\n",
    "                                        if val == float(\"inf\"):\n",
    "                                                values_list.append(0)\n",
    "                                        else:\n",
    "                                                values_list.append(val)\n",
    "                        else:\n",
    "                                        val = ((sen.iloc[i][f'pop_without_dorms_yeshiva_{current_year}'] - sen.iloc[i][f'pop_without_dorms_yeshiva_{previous_year}'])/ sen.iloc[i][f'pop_without_dorms_yeshiva_{previous_year}'] * 100.0)\n",
    "                                        if val == float(\"inf\"):\n",
    "                                                values_list.append(0)\n",
    "                                        else:\n",
    "                                                values_list.append(val)\n",
    "                output_df.loc[f'percentage growth {pivot_sector_jtmt.index[i]} {previous_year}-{current_year}'] = np.float32(values_list)\n",
    "                values_list = [np.nan]\n",
    "                \n",
    "        return output_df"
   ]
  },
  {
   "cell_type": "code",
   "execution_count": 17,
   "metadata": {},
   "outputs": [],
   "source": [
    "monitoring_df = pd.DataFrame(columns=['2020', 'JTMT', 'iplan', 'bau'])\n",
    "monitoring_df_1 = pd.DataFrame(columns=['2020', 'JTMT', 'iplan', 'bau'])"
   ]
  },
  {
   "cell_type": "code",
   "execution_count": 18,
   "metadata": {},
   "outputs": [],
   "source": [
    "SCHOOLDIST_list = list(df_2020['SCHOOLDIST'].value_counts().index)\n",
    "sectors_list = list(df_2020['main_secto'].value_counts().index)\n",
    "zonetypes_list = list(df_2020['zonetype'].value_counts().index)\n",
    "jeru_metros_list = list(df_2020['jeru_metro'].value_counts().index)\n",
    "in_jerusals_list = list(df_2020['in_jerusal'].value_counts().index)"
   ]
  },
  {
   "cell_type": "code",
   "execution_count": 19,
   "metadata": {},
   "outputs": [],
   "source": [
    "# אוכלוסיה\n",
    "monitoring_df = add_total_row(monitoring_df, 'pop_without_dorms_yeshiva', 'pop_2020')\n",
    "monitoring_df = add_total_row(monitoring_df, 'pop_without_dorms_yeshiva_2050', 'pop_2050')\n",
    "\n",
    "# מועסקים\n",
    "monitoring_df = add_total_row(monitoring_df, 'total_emp', 'emp_2020')\n",
    "monitoring_df = add_total_row(monitoring_df, 'total_emp_2050', 'emp_2050')\n",
    "\n",
    "# מספר א\"ת לפי סקטור\n",
    "for item in sectors_list:\n",
    "    monitoring_df = add_total_by_type_row(monitoring_df, 'main_secto', item, f'Taz_U_{item}')\n",
    "\n",
    "# סטודנטים\n",
    "monitoring_df = add_total_row(monitoring_df, 'univ', 'univ_2020')\n",
    "monitoring_df = add_total_row(monitoring_df, 'univ_2050', 'univ_2050')\n",
    "\n",
    "# בתי ספר\n",
    "monitoring_df = add_total_row(monitoring_df, 'student', 'student_2020')\n",
    "monitoring_df = add_total_row(monitoring_df, 'student_2050', 'student_2050')\n",
    "\n",
    "# ישיבות\n",
    "monitoring_df = add_total_row(monitoring_df, 'student_yeshiva_and_kollim', 'student_yeshiva_and_kollim_2020')\n",
    "monitoring_df = add_total_row(monitoring_df, 'student_yeshiva_and_kollim_2050', 'student_yeshiva_and_kollim_2050')\n",
    "\n",
    "# zonetype\n",
    "for item in zonetypes_list:\n",
    "    monitoring_df = add_total_by_type_row(monitoring_df, 'zonetype', item, f'zonetype_{item}')\n",
    "\n",
    "# jeru_metro\n",
    "for item in jeru_metros_list:\n",
    "    monitoring_df = add_total_by_type_row(monitoring_df, 'jeru_metro', item, f'jeru_metro_{item}')\n",
    "\n",
    "# in_jerusal\n",
    "for item in in_jerusals_list:\n",
    "    monitoring_df = add_total_by_type_row(monitoring_df, 'in_jerusal', item, f'in_jerusal_{item}')\n",
    "\n",
    "# אין א\"ת שחוזר פעמיים\n",
    "monitoring_df = add_taz_num_is_unique_row(monitoring_df, 'taz_num_is_unique')\n",
    "# מספר א\"ת\n",
    "monitoring_df = add_taz_num_count_row(monitoring_df, 'taz_num_count')"
   ]
  },
  {
   "cell_type": "code",
   "execution_count": 20,
   "metadata": {},
   "outputs": [
    {
     "name": "stderr",
     "output_type": "stream",
     "text": [
      "C:\\Users\\dpere\\AppData\\Local\\Temp\\ipykernel_16412\\4194639832.py:7: RuntimeWarning: divide by zero encountered in scalar divide\n",
      "  val = ((sen.iloc[i][f'pop_without_dorms_yeshiva_{current_year}'] - sen.iloc[i]['pop_without_dorms_yeshiva']) / sen.iloc[i]['pop_without_dorms_yeshiva'] * 100.0)\n"
     ]
    }
   ],
   "source": [
    "# גידול אוכלוסיה כל חומש בכל תרחיש\n",
    "monitoring_df = add_percentage_growth_row('pop_without_dorms_yeshiva_2025', 'pop_without_dorms_yeshiva', monitoring_df, 'percentage growth pop 2020-2025')\n",
    "monitoring_df = add_percentage_growth_row('pop_without_dorms_yeshiva_2030', 'pop_without_dorms_yeshiva_2025', monitoring_df, 'percentage growth pop 2025-2030')\n",
    "monitoring_df = add_percentage_growth_row('pop_without_dorms_yeshiva_2035', 'pop_without_dorms_yeshiva_2030', monitoring_df, 'percentage growth pop 2030-2035')\n",
    "monitoring_df = add_percentage_growth_row('pop_without_dorms_yeshiva_2040', 'pop_without_dorms_yeshiva_2035', monitoring_df, 'percentage growth pop 2035-2040')\n",
    "monitoring_df = add_percentage_growth_row('pop_without_dorms_yeshiva_2045', 'pop_without_dorms_yeshiva_2040', monitoring_df, 'percentage growth pop 2040-2045')\n",
    "monitoring_df = add_percentage_growth_row('pop_without_dorms_yeshiva_2050', 'pop_without_dorms_yeshiva_2045', monitoring_df, 'percentage growth pop 2045-2050')\n",
    "\n",
    "# גידול סטודנטים כל חומש בכל תרחיש\n",
    "monitoring_df = add_percentage_growth_row('univ_2025', 'univ', monitoring_df, 'percentage growth univ 2020-2025')\n",
    "monitoring_df = add_percentage_growth_row('univ_2030', 'univ_2025', monitoring_df, 'percentage growth univ 2025-2030')\n",
    "monitoring_df = add_percentage_growth_row('univ_2035', 'univ_2030', monitoring_df, 'percentage growth univ 2030-2035')\n",
    "monitoring_df = add_percentage_growth_row('univ_2040', 'univ_2035', monitoring_df, 'percentage growth univ 2035-2040')\n",
    "monitoring_df = add_percentage_growth_row('univ_2045', 'univ_2040', monitoring_df, 'percentage growth univ 2040-2045')\n",
    "monitoring_df = add_percentage_growth_row('univ_2050', 'univ_2045', monitoring_df, 'percentage growth univ 2045-2050')\n",
    "\n",
    "# גידול תלמידי ישיבה כל חומש בכל תרחיש\n",
    "monitoring_df = add_percentage_growth_row('student_yeshiva_and_kollim_2025', 'student_yeshiva_and_kollim', monitoring_df, 'percentage growth student_yeshiva_and_kollim 2020-2025')\n",
    "monitoring_df = add_percentage_growth_row('student_yeshiva_and_kollim_2030', 'student_yeshiva_and_kollim_2025', monitoring_df, 'percentage growth student_yeshiva_and_kollim 2025-2030')\n",
    "monitoring_df = add_percentage_growth_row('student_yeshiva_and_kollim_2035', 'student_yeshiva_and_kollim_2030', monitoring_df, 'percentage growth student_yeshiva_and_kollim 2030-2035')\n",
    "monitoring_df = add_percentage_growth_row('student_yeshiva_and_kollim_2040', 'student_yeshiva_and_kollim_2035', monitoring_df, 'percentage growth student_yeshiva_and_kollim 2035-2040')\n",
    "monitoring_df = add_percentage_growth_row('student_yeshiva_and_kollim_2045', 'student_yeshiva_and_kollim_2040', monitoring_df, 'percentage growth student_yeshiva_and_kollim 2040-2045')\n",
    "monitoring_df = add_percentage_growth_row('student_yeshiva_and_kollim_2050', 'student_yeshiva_and_kollim_2045', monitoring_df, 'percentage growth student_yeshiva_and_kollim 2045-2050')\n",
    "\n",
    "# גידול אוכלוסיה כל חומש בכל תרחיש לפי מגזר\n",
    "monitoring_df = add_percentage_growth_by_sector_row('2025', '2020', monitoring_df)\n",
    "monitoring_df = add_percentage_growth_by_sector_row('2030', '2025', monitoring_df)\n",
    "monitoring_df = add_percentage_growth_by_sector_row('2035', '2030', monitoring_df)\n",
    "monitoring_df = add_percentage_growth_by_sector_row('2040', '2035', monitoring_df)\n",
    "monitoring_df = add_percentage_growth_by_sector_row('2045', '2040', monitoring_df)\n",
    "monitoring_df = add_percentage_growth_by_sector_row('2050', '2045', monitoring_df)"
   ]
  },
  {
   "cell_type": "code",
   "execution_count": 21,
   "metadata": {},
   "outputs": [],
   "source": [
    "# # SCHOOLDIST 2020\n",
    "# for item in SCHOOLDIST_list:\n",
    "#     monitoring_df = add_students_by_SCHOOLDIST(monitoring_df, 'student', 'SCHOOLDIST', item, f'SCHOOLDIST_{item}_2020')\n",
    "\n",
    "# # SCHOOLDIST 2025\n",
    "# for item in SCHOOLDIST_list:\n",
    "#     monitoring_df = add_students_by_SCHOOLDIST(monitoring_df, 'student_2025', 'SCHOOLDIST', item, f'SCHOOLDIST_{item}_2025')\n",
    "\n",
    "# # SCHOOLDIST 2030\n",
    "# for item in SCHOOLDIST_list:\n",
    "#     monitoring_df = add_students_by_SCHOOLDIST(monitoring_df, 'student_2030', 'SCHOOLDIST', item, f'SCHOOLDIST_{item}_2030')\n",
    "\n",
    "# # SCHOOLDIST 2035\n",
    "# for item in SCHOOLDIST_list:\n",
    "#     monitoring_df = add_students_by_SCHOOLDIST(monitoring_df, 'student_2035', 'SCHOOLDIST', item, f'SCHOOLDIST_{item}_2035')\n",
    "\n",
    "# # SCHOOLDIST 2040\n",
    "# for item in SCHOOLDIST_list:\n",
    "#     monitoring_df = add_students_by_SCHOOLDIST(monitoring_df, 'student_2040', 'SCHOOLDIST', item, f'SCHOOLDIST_{item}_2040')\n",
    "\n",
    "# # SCHOOLDIST 2045\n",
    "# for item in SCHOOLDIST_list:\n",
    "#     monitoring_df = add_students_by_SCHOOLDIST(monitoring_df, 'student_2045', 'SCHOOLDIST', item, f'SCHOOLDIST_{item}_2045')\n",
    "\n",
    "# # SCHOOLDIST 2050\n",
    "# for item in SCHOOLDIST_list:\n",
    "#     monitoring_df = add_students_by_SCHOOLDIST(monitoring_df, 'student_2050', 'SCHOOLDIST', item, f'SCHOOLDIST_{item}_2050')"
   ]
  },
  {
   "cell_type": "code",
   "execution_count": 22,
   "metadata": {},
   "outputs": [],
   "source": [
    "years = ['2020', '2025', '2030','2035', '2040', '2045', '2050']\n",
    "values_list = [np.nan]"
   ]
  },
  {
   "cell_type": "code",
   "execution_count": 23,
   "metadata": {},
   "outputs": [],
   "source": [
    "for previous, current in zip(years, years[1:]):\n",
    "    for sen in senarios:\n",
    "        BaseProjections_current_sector = pd.pivot_table(globals()[f'BaseProjections_{sen}_{current}'], index=['sector'], aggfunc=\"sum\")\n",
    "        if previous == '2020':\n",
    "            BaseProjections_previous_sector = pd.pivot_table(BaseProjections_jtmt_2020, index=['sector'], aggfunc=\"sum\")\n",
    "        else:\n",
    "            BaseProjections_previous_sector = pd.pivot_table(globals()[f'BaseProjections_{sen}_{previous}'], index=['sector'], aggfunc=\"sum\")\n",
    "\n",
    "        previous_total = BaseProjections_previous_sector.iloc[3]['age15_19'] + BaseProjections_previous_sector.iloc[3]['age20_24']\n",
    "        BaseProjections_age15_24_U_previous_total = previous_total / 2\n",
    "\n",
    "        current_total = BaseProjections_current_sector.iloc[3]['age15_19'] + BaseProjections_current_sector.iloc[3]['age20_24']\n",
    "        BaseProjections_age15_24_U_current_total = current_total / 2\n",
    "\n",
    "        val = ((BaseProjections_age15_24_U_current_total - BaseProjections_age15_24_U_previous_total) / BaseProjections_age15_24_U_previous_total * 100.0)\n",
    "        values_list.append(val)\n",
    "    monitoring_df.loc[f'percentage growth U_Orthodox age15_24 {previous}-{current}'] = values_list\n",
    "    values_list = [np.nan]"
   ]
  },
  {
   "cell_type": "code",
   "execution_count": 24,
   "metadata": {},
   "outputs": [],
   "source": [
    "for i, sector in enumerate(pivot_sector_jtmt.index):\n",
    "    for previous, current in zip(years, years[1:]):\n",
    "        for sen in senarios:\n",
    "            BaseProjections_current_sector = pd.pivot_table(globals()[f'BaseProjections_{sen}_{current}'], index=['sector'], aggfunc=\"sum\")\n",
    "            if previous == '2020':\n",
    "                BaseProjections_previous_sector = pd.pivot_table(BaseProjections_jtmt_2020, index=['sector'], aggfunc=\"sum\")\n",
    "            else:\n",
    "                BaseProjections_previous_sector = pd.pivot_table(globals()[f'BaseProjections_{sen}_{previous}'], index=['sector'], aggfunc=\"sum\")\n",
    "\n",
    "            previous_total = BaseProjections_previous_sector.iloc[i]['age20_24']/ 5 * 3 + BaseProjections_previous_sector.iloc[i]['age25_29']/ 5 * 4\n",
    "            current_total = BaseProjections_current_sector.iloc[i]['age20_24']/ 5 * 3 + BaseProjections_current_sector.iloc[i]['age25_29']/ 5 * 4\n",
    "\n",
    "            val = ((current_total - previous_total) / previous_total * 100.0)\n",
    "            values_list.append(val)\n",
    "        monitoring_df.loc[f'percentage growth {sector} age20_29 {previous}-{current}'] = values_list\n",
    "        values_list = [np.nan]"
   ]
  },
  {
   "cell_type": "code",
   "execution_count": 25,
   "metadata": {},
   "outputs": [
    {
     "name": "stderr",
     "output_type": "stream",
     "text": [
      "C:\\Users\\dpere\\AppData\\Local\\Temp\\ipykernel_16412\\3650920773.py:22: RuntimeWarning: divide by zero encountered in scalar divide\n",
      "  demand_percentages_list.append((age6_18[i] - globals()[f'BaseProjections_students_{sen}_{year}']['student'][i]) / globals()[f'BaseProjections_students_{sen}_{year}']['student'][i] * 100)\n",
      "C:\\Users\\dpere\\AppData\\Local\\Temp\\ipykernel_16412\\3650920773.py:22: RuntimeWarning: divide by zero encountered in scalar divide\n",
      "  demand_percentages_list.append((age6_18[i] - globals()[f'BaseProjections_students_{sen}_{year}']['student'][i]) / globals()[f'BaseProjections_students_{sen}_{year}']['student'][i] * 100)\n",
      "C:\\Users\\dpere\\AppData\\Local\\Temp\\ipykernel_16412\\3650920773.py:22: RuntimeWarning: divide by zero encountered in scalar divide\n",
      "  demand_percentages_list.append((age6_18[i] - globals()[f'BaseProjections_students_{sen}_{year}']['student'][i]) / globals()[f'BaseProjections_students_{sen}_{year}']['student'][i] * 100)\n",
      "C:\\Users\\dpere\\AppData\\Local\\Temp\\ipykernel_16412\\3650920773.py:22: RuntimeWarning: divide by zero encountered in scalar divide\n",
      "  demand_percentages_list.append((age6_18[i] - globals()[f'BaseProjections_students_{sen}_{year}']['student'][i]) / globals()[f'BaseProjections_students_{sen}_{year}']['student'][i] * 100)\n",
      "C:\\Users\\dpere\\AppData\\Local\\Temp\\ipykernel_16412\\3650920773.py:22: RuntimeWarning: divide by zero encountered in scalar divide\n",
      "  demand_percentages_list.append((age6_18[i] - globals()[f'BaseProjections_students_{sen}_{year}']['student'][i]) / globals()[f'BaseProjections_students_{sen}_{year}']['student'][i] * 100)\n",
      "C:\\Users\\dpere\\AppData\\Local\\Temp\\ipykernel_16412\\3650920773.py:22: RuntimeWarning: divide by zero encountered in scalar divide\n",
      "  demand_percentages_list.append((age6_18[i] - globals()[f'BaseProjections_students_{sen}_{year}']['student'][i]) / globals()[f'BaseProjections_students_{sen}_{year}']['student'][i] * 100)\n",
      "C:\\Users\\dpere\\AppData\\Local\\Temp\\ipykernel_16412\\3650920773.py:22: RuntimeWarning: divide by zero encountered in scalar divide\n",
      "  demand_percentages_list.append((age6_18[i] - globals()[f'BaseProjections_students_{sen}_{year}']['student'][i]) / globals()[f'BaseProjections_students_{sen}_{year}']['student'][i] * 100)\n",
      "C:\\Users\\dpere\\AppData\\Local\\Temp\\ipykernel_16412\\3650920773.py:22: RuntimeWarning: divide by zero encountered in scalar divide\n",
      "  demand_percentages_list.append((age6_18[i] - globals()[f'BaseProjections_students_{sen}_{year}']['student'][i]) / globals()[f'BaseProjections_students_{sen}_{year}']['student'][i] * 100)\n",
      "C:\\Users\\dpere\\AppData\\Local\\Temp\\ipykernel_16412\\3650920773.py:22: RuntimeWarning: divide by zero encountered in scalar divide\n",
      "  demand_percentages_list.append((age6_18[i] - globals()[f'BaseProjections_students_{sen}_{year}']['student'][i]) / globals()[f'BaseProjections_students_{sen}_{year}']['student'][i] * 100)\n",
      "C:\\Users\\dpere\\AppData\\Local\\Temp\\ipykernel_16412\\3650920773.py:22: RuntimeWarning: divide by zero encountered in scalar divide\n",
      "  demand_percentages_list.append((age6_18[i] - globals()[f'BaseProjections_students_{sen}_{year}']['student'][i]) / globals()[f'BaseProjections_students_{sen}_{year}']['student'][i] * 100)\n"
     ]
    }
   ],
   "source": [
    "age6_18_list = [np.nan]\n",
    "students_list = [np.nan]\n",
    "demand_percentages_list = [np.nan]\n",
    "\n",
    "for i, SCHOOLDIST in enumerate(SCHOOLDISTS):\n",
    "    for year in years:\n",
    "        \n",
    "        for sen in senarios:\n",
    "            if year == '2020':\n",
    "                globals()[f'BaseProjections_students_{sen}_2020'] = pd.merge(BaseProjections_jtmt_2020, df_2020[['SCHOOLDIST']],left_on='TAZ', right_on='Taz_num')\n",
    "                globals()[f'BaseProjections_students_{sen}_2020'] = pd.pivot_table(globals()[f'BaseProjections_students_{sen}_2020'], index=['SCHOOLDIST'], aggfunc=\"sum\")\n",
    "            else:\n",
    "                globals()[f'BaseProjections_students_{sen}_{year}'] = pd.merge(globals()[f'BaseProjections_{sen}_{year}'],df_2020[['SCHOOLDIST']],left_on='TAZ', right_on='Taz_num')\n",
    "                globals()[f'BaseProjections_students_{sen}_{year}'] = pd.pivot_table(globals()[f'BaseProjections_students_{sen}_{year}'], index=['SCHOOLDIST'], aggfunc='sum')\n",
    "            \n",
    "            age6_9 = globals()[f'BaseProjections_students_{sen}_{year}']['age5_9']/5*4\n",
    "            age15_18 = globals()[f'BaseProjections_students_{sen}_{year}']['age15_19']/5*4\n",
    "            age6_18 = age6_9 + globals()[f'BaseProjections_students_{sen}_{year}']['age10_14'] + age15_18\n",
    "\n",
    "            age6_18_list.append(age6_18[i])\n",
    "            students_list.append(globals()[f'BaseProjections_students_{sen}_{year}']['student'][i])\n",
    "            if globals()[f'BaseProjections_students_{sen}_{year}']['student'][i]!= 0:\n",
    "                demand_percentages_list.append((age6_18[i] - globals()[f'BaseProjections_students_{sen}_{year}']['student'][i]) / globals()[f'BaseProjections_students_{sen}_{year}']['student'][i] * 100)\n",
    "            else:\n",
    "                demand_percentages_list.append(0)\n",
    "\n",
    "        monitoring_df.loc[f'students at district {i} {year}'] = students_list\n",
    "        monitoring_df.loc[f'age6_18 at district {i} {year}'] = age6_18_list\n",
    "        monitoring_df.loc[f'demand percentages at district {i} {year}'] = demand_percentages_list\n",
    "\n",
    "        age6_18_list = [np.nan]\n",
    "        students_list = [np.nan]\n",
    "        demand_percentages_list = [np.nan]"
   ]
  },
  {
   "cell_type": "code",
   "execution_count": 26,
   "metadata": {},
   "outputs": [],
   "source": [
    "values_list = [np.nan]\n",
    "\n",
    "for i, SCHN_NAME in enumerate(SCHN_NAMES):\n",
    "    for year in years:\n",
    "        for sen in senarios:\n",
    "            if year == '2020':\n",
    "                val = pd.pivot_table(df_2020, index=['SCHN_NAME'], aggfunc=\"sum\")\n",
    "                values_list.append(val.iloc[i][f'emp_okev'])\n",
    "            else:\n",
    "                val = pd.pivot_table(globals()[f'df_{sen.lower()}_2050'], index=['SCHN_NAME'], aggfunc='sum')\n",
    "                values_list.append(val.iloc[i][f'emp_okev_{year}'])\n",
    "        monitoring_df.loc[f'emp_okev at {SCHN_NAME} in {year}'] = values_list\n",
    "        values_list = [np.nan]"
   ]
  },
  {
   "cell_type": "code",
   "execution_count": 27,
   "metadata": {},
   "outputs": [],
   "source": [
    "# monitoring_df = monitoring_df.fillna('NaN')"
   ]
  },
  {
   "cell_type": "code",
   "execution_count": 28,
   "metadata": {},
   "outputs": [],
   "source": [
    "# def highlight_cols(s): \n",
    "#     if s > 100:\n",
    "#         color ='red'\n",
    "#     elif s < -100:\n",
    "#         color = 'red'\n",
    "#     else: \n",
    "#         color = 'none'\n",
    "#     return 'background-color: % s' % color\n",
    "\n",
    "# idx = pd.IndexSlice[monitoring_df.index.get_level_values(0).str.contains('different'), :]\n",
    "# monitoring_df = monitoring_df.style.applymap(highlight_cols, subset=idx)"
   ]
  },
  {
   "cell_type": "code",
   "execution_count": 29,
   "metadata": {},
   "outputs": [],
   "source": [
    "monitoring_df.to_excel('monitoring_df_fixed_2.xlsx')\n",
    "# monitoring_df\n",
    "# monitoring_df"
   ]
  }
 ],
 "metadata": {
  "kernelspec": {
   "display_name": "creat_forecast_ad_hoc_env",
   "language": "python",
   "name": "python3"
  },
  "language_info": {
   "codemirror_mode": {
    "name": "ipython",
    "version": 3
   },
   "file_extension": ".py",
   "mimetype": "text/x-python",
   "name": "python",
   "nbconvert_exporter": "python",
   "pygments_lexer": "ipython3",
   "version": "3.11.5"
  }
 },
 "nbformat": 4,
 "nbformat_minor": 2
}
