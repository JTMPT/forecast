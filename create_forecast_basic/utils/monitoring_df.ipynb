{
 "cells": [
  {
   "cell_type": "code",
   "execution_count": 1,
   "metadata": {},
   "outputs": [],
   "source": [
    "import os\n",
    "import sys\n",
    "import pandas as pd\n",
    "import numpy as np"
   ]
  },
  {
   "cell_type": "code",
   "execution_count": 2,
   "metadata": {},
   "outputs": [],
   "source": [
    "pd.options.display.max_columns = None"
   ]
  },
  {
   "cell_type": "code",
   "execution_count": 3,
   "metadata": {},
   "outputs": [],
   "source": [
    "cwd = os.getcwd()\n",
    "\n",
    "create_forecast_basic_folder_path = os.path.dirname(cwd)\n",
    "\n",
    "sys.path.append(create_forecast_basic_folder_path)"
   ]
  },
  {
   "cell_type": "code",
   "execution_count": 4,
   "metadata": {},
   "outputs": [],
   "source": [
    "from global_functions import get_forecast_version_folder_location, get_newest_date_file"
   ]
  },
  {
   "cell_type": "code",
   "execution_count": 5,
   "metadata": {},
   "outputs": [],
   "source": [
    "forecast_version_folder_location=get_forecast_version_folder_location(r'{}\\background_files\\forecast_version_folder_location.txt'.format(create_forecast_basic_folder_path))\n",
    "\n",
    "forecast_version_base_year_folder_location=r'{}\\BASE_YEAR'.format(forecast_version_folder_location)"
   ]
  },
  {
   "cell_type": "code",
   "execution_count": 6,
   "metadata": {},
   "outputs": [],
   "source": [
    "forecast_version = get_newest_date_file(fr'{forecast_version_folder_location}', '_forecast_2020_till_2050_jtmt')\n",
    "\n",
    "df_2020 = pd.read_excel(fr\"{forecast_version_folder_location}\\BASE_YEAR\\2020_jtmt_forcast_full_{forecast_version}.xlsx\").set_index('Taz_num').sort_index()\n",
    "df_jtmt_2050 = pd.read_excel(fr\"{forecast_version_folder_location}\\{forecast_version}_forecast_2020_till_2050_jtmt.xlsx\").set_index('Taz_num').sort_index()\n",
    "df_iplan_2050 = pd.read_excel(fr\"{forecast_version_folder_location}\\{forecast_version}_forecast_2020_till_2050_iplan.xlsx\").set_index('Taz_num').sort_index()\n",
    "df_bau_2050 = pd.read_excel(fr\"{forecast_version_folder_location}\\{forecast_version}_forecast_2020_till_2050_bau.xlsx\").set_index('Taz_num').sort_index()"
   ]
  },
  {
   "cell_type": "code",
   "execution_count": 7,
   "metadata": {},
   "outputs": [],
   "source": [
    "BaseProjections_version = get_newest_date_file(r'{}\\JTMT'.format(forecast_version_folder_location), 'BaseProjections2025_')\n",
    "\n",
    "years = ['2020', '2025', '2030','2035', '2040', '2045', '2050']\n",
    "\n",
    "senarios = ['JTMT', 'IPLAN', 'BAU']\n",
    "\n",
    "BaseProjections_jtmt_2020 = pd.read_excel(fr'{forecast_version_folder_location}\\BASE_YEAR\\BaseProjections2020_{BaseProjections_version}.xlsx')\n",
    "\n",
    "for sen in senarios:\n",
    "    for year in years[1:]:\n",
    "        globals()[f'BaseProjections_{sen}_{year}'] = pd.read_excel(fr'{forecast_version_folder_location}\\{sen}\\BaseProjections{year}_{BaseProjections_version}_{sen.lower()}.xlsx')"
   ]
  },
  {
   "cell_type": "code",
   "execution_count": 8,
   "metadata": {},
   "outputs": [],
   "source": [
    "df_jtmt_2050 = pd.merge(df_jtmt_2050,df_2020[['SCHOOLDIST']],on='Taz_num', how='left')\n",
    "df_iplan_2050 = pd.merge(df_iplan_2050,df_2020[['SCHOOLDIST']],on='Taz_num', how='left')\n",
    "df_bau_2050 = pd.merge(df_bau_2050,df_2020[['SCHOOLDIST']],on='Taz_num', how='left')"
   ]
  },
  {
   "cell_type": "code",
   "execution_count": 9,
   "metadata": {},
   "outputs": [],
   "source": [
    "schooldists = pd.pivot_table(df_jtmt_2050, index=['SCHOOLDIST'], aggfunc='sum').index\n",
    "schn_names = pd.pivot_table(df_iplan_2050, index=['SCHN_NAME'], aggfunc='sum').index\n",
    "muni_hebs = pd.pivot_table(df_iplan_2050, index=['Muni_Heb'], aggfunc='sum').index\n",
    "main_sectors = pd.pivot_table(df_iplan_2050, index=['main_secto'], aggfunc='sum').index"
   ]
  },
  {
   "cell_type": "code",
   "execution_count": 10,
   "metadata": {},
   "outputs": [],
   "source": [
    "def add_total_numbers_by_type_row(output_df, column_input_name, column_input_value, column_output_name):\n",
    "    values_list = []\n",
    "    \n",
    "    for idx, df in enumerate([df_2020, df_jtmt_2050, df_iplan_2050, df_bau_2050]):\n",
    "        val = df[df[f'{column_input_name}'] == column_input_value] \n",
    "        values_list.append(len(val))\n",
    "\n",
    "    output_df.loc[f'{column_output_name}'] = values_list\n",
    "\n",
    "    return output_df"
   ]
  },
  {
   "cell_type": "code",
   "execution_count": 11,
   "metadata": {},
   "outputs": [],
   "source": [
    "# חישוב מספר לפי סוג\n",
    "def add_total_row(output_df, column_input_name, column_output_name):\n",
    "    values_list = []\n",
    "\n",
    "    for idx, df in enumerate([df_2020, df_jtmt_2050, df_iplan_2050, df_bau_2050]):\n",
    "        if column_input_name in df.columns:\n",
    "            val = df[f'{column_input_name}'].sum()\n",
    "            values_list.append(\"{:,}\".format(int(val)))\n",
    "        else:\n",
    "            values_list.append(np.nan)\n",
    "\n",
    "    output_df.loc[f'{column_output_name}'] = values_list\n",
    "\n",
    "    return output_df"
   ]
  },
  {
   "cell_type": "code",
   "execution_count": 12,
   "metadata": {},
   "outputs": [],
   "source": [
    "# בודק שאין מספר שחוזר פעמיים\n",
    "def add_taz_num_is_unique_row(output_df, column_output_name):\n",
    "    values_list = []\n",
    "    \n",
    "    for idx, df in enumerate([df_2020, df_jtmt_2050, df_iplan_2050, df_bau_2050]):\n",
    "        val = df_2020.index.is_unique\n",
    "        values_list.append(val)\n",
    "\n",
    "    output_df.loc[f'{column_output_name}'] = values_list\n",
    "\n",
    "    return output_df"
   ]
  },
  {
   "cell_type": "code",
   "execution_count": 13,
   "metadata": {},
   "outputs": [],
   "source": [
    "# חישוב מספר א\"ת\n",
    "def add_taz_num_count_row(output_df, column_output_name):\n",
    "    values_list = []\n",
    "    \n",
    "    for idx, df in enumerate([df_2020, df_jtmt_2050, df_iplan_2050, df_bau_2050]):\n",
    "        val = len(df.index)\n",
    "        values_list.append(val)\n",
    "\n",
    "    output_df.loc[f'{column_output_name}'] = values_list\n",
    "\n",
    "    return output_df"
   ]
  },
  {
   "cell_type": "code",
   "execution_count": 14,
   "metadata": {},
   "outputs": [],
   "source": [
    "def add_students_by_SCHOOLDIST(output_df, column_key_name, column_input_name, column_input_value, column_output_name):\n",
    "    values_list = []\n",
    "    \n",
    "    for idx, df in enumerate([df_2020, df_jtmt_2050, df_iplan_2050, df_bau_2050]):\n",
    "        val = pd.pivot_table(df, index=[f'{column_input_name}'], aggfunc=\"sum\")\n",
    "        if column_key_name in val.columns:\n",
    "            values_list.append(val[column_key_name][column_input_value])\n",
    "        else:\n",
    "            values_list.append(np.nan)\n",
    "\n",
    "    output_df.loc[f'{column_output_name}'] = values_list\n",
    "\n",
    "    return output_df"
   ]
  },
  {
   "cell_type": "code",
   "execution_count": 15,
   "metadata": {},
   "outputs": [],
   "source": [
    "# חישוב אחוזי גידול\n",
    "def calculate_growth_percentage(current_total, previous_total):\n",
    "    val = ((current_total - previous_total) / previous_total * 100.0)\n",
    "    return val"
   ]
  },
  {
   "cell_type": "code",
   "execution_count": 16,
   "metadata": {},
   "outputs": [],
   "source": [
    "def set_percentage_growth_value(previous, df, sector_type_filter, current_total):\n",
    "    if previous == '2020':\n",
    "            previous_total = df[f'{sector_type_filter}'].sum()\n",
    "    else:\n",
    "            previous_total = df[f'{sector_type_filter}_{previous}'].sum()\n",
    "    val = calculate_growth_percentage(current_total, previous_total)\n",
    "    return val"
   ]
  },
  {
   "cell_type": "code",
   "execution_count": 17,
   "metadata": {},
   "outputs": [],
   "source": [
    "def add_percentage_growth_row(sector_type_filter, output_df):\n",
    "        values_list = [np.nan]\n",
    "\n",
    "        for previous, current in zip(years, years[1:]):\n",
    "                for sen in senarios:\n",
    "                        current_total = globals()[f'df_{sen.lower()}_2050'][f'{sector_type_filter}_{current}'].sum()\n",
    "                        val = set_percentage_growth_value(previous, globals()[f'df_{sen.lower()}_2050'], sector_type_filter, current_total)\n",
    "                        values_list.append(val)\n",
    "                output_df.loc[f'percentage growth {sector_type_filter} {previous}-{current}'] = values_list\n",
    "                values_list = [np.nan]\n",
    "        return output_df"
   ]
  },
  {
   "cell_type": "code",
   "execution_count": 18,
   "metadata": {},
   "outputs": [],
   "source": [
    "def add_percentage_growth_by_filter_row(filter, pivot_filter, sector_type_filter, output_df, row_title):\n",
    "        values_list = [np.nan]\n",
    "\n",
    "        for previous, current in zip(years, years[1:]):\n",
    "                for i, item in enumerate(filter):\n",
    "                        for sen in senarios:\n",
    "                                df_sector = pd.pivot_table(globals()[f'df_{sen.lower()}_2050'], index=[pivot_filter], aggfunc=\"sum\")\n",
    "                                current_total = df_sector.iloc[i][f'{sector_type_filter}_{current}']\n",
    "                                val = set_percentage_growth_value(previous, df_sector.iloc[i], sector_type_filter, current_total)\n",
    "                                values_list.append(val)\n",
    "                        output_df.loc[f'percentage growth {row_title} {filter[i]} {previous}-{current}'] = np.float32(values_list)\n",
    "                        values_list = [np.nan]\n",
    "        return output_df"
   ]
  },
  {
   "cell_type": "code",
   "execution_count": 19,
   "metadata": {},
   "outputs": [],
   "source": [
    "monitoring_df = pd.DataFrame(columns=['2020', 'JTMT', 'iplan', 'bau'])"
   ]
  },
  {
   "cell_type": "code",
   "execution_count": 20,
   "metadata": {},
   "outputs": [],
   "source": [
    "SCHOOLDIST_list = list(df_2020['SCHOOLDIST'].value_counts().index)\n",
    "sectors_list = list(df_2020['main_secto'].value_counts().index)\n",
    "zonetypes_list = list(df_2020['zonetype'].value_counts().index)\n",
    "jeru_metros_list = list(df_2020['jeru_metro'].value_counts().index)\n",
    "in_jerusals_list = list(df_2020['in_jerusal'].value_counts().index)"
   ]
  },
  {
   "cell_type": "code",
   "execution_count": 21,
   "metadata": {},
   "outputs": [],
   "source": [
    "# אוכלוסיה\n",
    "monitoring_df = add_total_row(monitoring_df, 'pop_without_dorms_yeshiva', 'pop_2020')\n",
    "monitoring_df = add_total_row(monitoring_df, 'pop_without_dorms_yeshiva_2050', 'pop_2050')\n",
    "\n",
    "# מועסקים\n",
    "monitoring_df = add_total_row(monitoring_df, 'total_emp', 'emp_2020')\n",
    "monitoring_df = add_total_row(monitoring_df, 'total_emp_2050', 'emp_2050')\n",
    "\n",
    "# מספר א\"ת לפי סקטור\n",
    "for item in sectors_list:\n",
    "    monitoring_df = add_total_numbers_by_type_row(monitoring_df, 'main_secto', item, f'Taz_nums for {item} sector')\n",
    "\n",
    "# סטודנטים\n",
    "monitoring_df = add_total_row(monitoring_df, 'univ', 'univ_2020')\n",
    "monitoring_df = add_total_row(monitoring_df, 'univ_2050', 'univ_2050')\n",
    "\n",
    "# בתי ספר\n",
    "monitoring_df = add_total_row(monitoring_df, 'student', 'student_2020')\n",
    "monitoring_df = add_total_row(monitoring_df, 'student_2050', 'student_2050')\n",
    "\n",
    "# ישיבות\n",
    "monitoring_df = add_total_row(monitoring_df, 'student_yeshiva_and_kollim', 'student_yeshiva_and_kollim_2020')\n",
    "monitoring_df = add_total_row(monitoring_df, 'student_yeshiva_and_kollim_2050', 'student_yeshiva_and_kollim_2050')\n",
    "\n",
    "# מספר zonetype\n",
    "for item in zonetypes_list:\n",
    "    monitoring_df = add_total_numbers_by_type_row(monitoring_df, 'zonetype', item, f'zonetype_{item}')\n",
    "\n",
    "# מספר jeru_metro\n",
    "for item in jeru_metros_list:\n",
    "    monitoring_df = add_total_numbers_by_type_row(monitoring_df, 'jeru_metro', item, f'jeru_metro_{item}')\n",
    "\n",
    "# מספר in_jerusal\n",
    "for item in in_jerusals_list:\n",
    "    monitoring_df = add_total_numbers_by_type_row(monitoring_df, 'in_jerusal', item, f'in_jerusal_{item}')\n",
    "\n",
    "# אין א\"ת שחוזר פעמיים\n",
    "monitoring_df = add_taz_num_is_unique_row(monitoring_df, 'taz_num_is_unique')\n",
    "\n",
    "# מספר א\"ת\n",
    "monitoring_df = add_taz_num_count_row(monitoring_df, 'taz_num_count')"
   ]
  },
  {
   "cell_type": "code",
   "execution_count": 22,
   "metadata": {},
   "outputs": [],
   "source": [
    "values_list = [np.nan]"
   ]
  },
  {
   "cell_type": "code",
   "execution_count": 23,
   "metadata": {},
   "outputs": [
    {
     "name": "stderr",
     "output_type": "stream",
     "text": [
      "C:\\Users\\dpere\\AppData\\Local\\Temp\\ipykernel_27612\\3179375671.py:3: RuntimeWarning: divide by zero encountered in scalar divide\n",
      "  val = ((current_total - previous_total) / previous_total * 100.0)\n",
      "C:\\Users\\dpere\\AppData\\Local\\Temp\\ipykernel_27612\\3179375671.py:3: RuntimeWarning: divide by zero encountered in scalar divide\n",
      "  val = ((current_total - previous_total) / previous_total * 100.0)\n",
      "C:\\Users\\dpere\\AppData\\Local\\Temp\\ipykernel_27612\\3179375671.py:3: RuntimeWarning: divide by zero encountered in scalar divide\n",
      "  val = ((current_total - previous_total) / previous_total * 100.0)\n"
     ]
    }
   ],
   "source": [
    "# גידול אוכלוסיה בכל חומש בכל תרחיש\n",
    "monitoring_df = add_percentage_growth_row('pop_without_dorms_yeshiva', monitoring_df)\n",
    "\n",
    "# גידול סטודנטים בכל חומש בכל תרחיש\n",
    "monitoring_df = add_percentage_growth_row('univ', monitoring_df)\n",
    "\n",
    "# גידול תלמידי ישיבה בכל חומש בכל תרחיש\n",
    "monitoring_df = add_percentage_growth_row('student_yeshiva_and_kollim', monitoring_df)\n",
    "\n",
    "# גידול אוכלוסיה בכל חומש בכל תרחיש לפי מגזר\n",
    "monitoring_df = add_percentage_growth_by_filter_row(main_sectors, 'main_secto', 'pop_without_dorms_yeshiva', monitoring_df, 'sector')"
   ]
  },
  {
   "cell_type": "code",
   "execution_count": 24,
   "metadata": {},
   "outputs": [],
   "source": [
    "def set_BaseProjections_previous_sector(previous):\n",
    "    if previous == '2020':\n",
    "        BaseProjections_previous_sector = pd.pivot_table(BaseProjections_jtmt_2020, index=['sector'], aggfunc=\"sum\")\n",
    "    else:\n",
    "        BaseProjections_previous_sector = pd.pivot_table(globals()[f'BaseProjections_{sen}_{previous}'], index=['sector'], aggfunc=\"sum\")\n",
    "    \n",
    "    return BaseProjections_previous_sector"
   ]
  },
  {
   "cell_type": "code",
   "execution_count": 25,
   "metadata": {},
   "outputs": [],
   "source": [
    "# גידול גילאים 15-24 באוכלוסיה החרדית בכל חומש בכל תרחיש\n",
    "for previous, current in zip(years, years[1:]):\n",
    "    for sen in senarios:\n",
    "        BaseProjections_current_sector = pd.pivot_table(globals()[f'BaseProjections_{sen}_{current}'], index=['sector'], aggfunc=\"sum\")\n",
    "        BaseProjections_previous_sector = set_BaseProjections_previous_sector(previous)\n",
    "\n",
    "        previous_total = (BaseProjections_previous_sector.iloc[3]['age15_19']/ 5 * 1) + BaseProjections_previous_sector.iloc[3]['age20_24']\n",
    "        BaseProjections_age15_24_U_previous_total = previous_total / 2\n",
    "\n",
    "        current_total = (BaseProjections_current_sector.iloc[3]['age15_19']/ 5 * 1) + BaseProjections_current_sector.iloc[3]['age20_24']\n",
    "        BaseProjections_age15_24_U_current_total = current_total / 2\n",
    "\n",
    "        val = calculate_growth_percentage(BaseProjections_age15_24_U_current_total, BaseProjections_age15_24_U_previous_total)\n",
    "        values_list.append(val)\n",
    "    monitoring_df.loc[f'percentage growth U_Orthodox age18_24 {previous}-{current}'] = values_list\n",
    "    values_list = [np.nan]"
   ]
  },
  {
   "cell_type": "code",
   "execution_count": 26,
   "metadata": {},
   "outputs": [],
   "source": [
    "# גידול גילאים 20-29 בכל מגזר בכל חומש בכל תרחיש\n",
    "for i, sector in enumerate(main_sectors):\n",
    "    for previous, current in zip(years, years[1:]):\n",
    "        for sen in senarios:\n",
    "            BaseProjections_current_sector = pd.pivot_table(globals()[f'BaseProjections_{sen}_{current}'], index=['sector'], aggfunc=\"sum\")\n",
    "            BaseProjections_previous_sector = set_BaseProjections_previous_sector(previous)\n",
    "\n",
    "            previous_total = (BaseProjections_previous_sector.iloc[i]['age20_24']/ 5 * 3) + BaseProjections_previous_sector.iloc[i]['age25_29']/ 5 * 4\n",
    "            current_total = (BaseProjections_current_sector.iloc[i]['age20_24']/ 5 * 3) + BaseProjections_current_sector.iloc[i]['age25_29']/ 5 * 4\n",
    "\n",
    "            val = calculate_growth_percentage(current_total, previous_total)\n",
    "            values_list.append(val)\n",
    "        monitoring_df.loc[f'percentage growth {sector} age20_29 {previous}-{current}'] = values_list\n",
    "        values_list = [np.nan]"
   ]
  },
  {
   "cell_type": "code",
   "execution_count": 27,
   "metadata": {},
   "outputs": [],
   "source": [
    "age6_18_list = [np.nan]\n",
    "students_list = [np.nan]\n",
    "demand_percentages_list = [np.nan]\n",
    "\n",
    "for i, schooldist in enumerate(schooldists):\n",
    "    for year in years:\n",
    "        for sen in senarios:\n",
    "            if year == '2020':\n",
    "                globals()[f'BaseProjections_students_{sen}_2020'] = pd.merge(BaseProjections_jtmt_2020, df_2020[['SCHOOLDIST']],left_on='TAZ', right_on='Taz_num')\n",
    "                globals()[f'BaseProjections_students_{sen}_2020'] = pd.pivot_table(globals()[f'BaseProjections_students_{sen}_2020'], index=['SCHOOLDIST'], aggfunc=\"sum\")\n",
    "            else:\n",
    "                globals()[f'BaseProjections_students_{sen}_{year}'] = pd.merge(globals()[f'BaseProjections_{sen}_{year}'],df_2020[['SCHOOLDIST']],left_on='TAZ', right_on='Taz_num')\n",
    "                globals()[f'BaseProjections_students_{sen}_{year}'] = pd.pivot_table(globals()[f'BaseProjections_students_{sen}_{year}'], index=['SCHOOLDIST'], aggfunc='sum')\n",
    "            \n",
    "            age6_9 = globals()[f'BaseProjections_students_{sen}_{year}']['age5_9']/5*4\n",
    "            age15_18 = globals()[f'BaseProjections_students_{sen}_{year}']['age15_19']/5*4\n",
    "            age6_18 = age6_9 + globals()[f'BaseProjections_students_{sen}_{year}']['age10_14'] + age15_18\n",
    "\n",
    "            age6_18_list.append(age6_18.iloc[i])\n",
    "            students_list.append(globals()[f'BaseProjections_students_{sen}_{year}']['student'].iloc[i])\n",
    "\n",
    "            if globals()[f'BaseProjections_students_{sen}_{year}']['student'].iloc[i]!= 0:\n",
    "                demand_percentages_list.append((age6_18.iloc[i] - globals()[f'BaseProjections_students_{sen}_{year}']['student'].iloc[i]) / globals()[f'BaseProjections_students_{sen}_{year}']['student'].iloc[i] * 100)\n",
    "            else:\n",
    "                demand_percentages_list.append(0)\n",
    "            \n",
    "        monitoring_df.loc[f'students at district {i} {year}'] = students_list\n",
    "        monitoring_df.loc[f'age6_18 at district {i} {year}'] = age6_18_list\n",
    "        monitoring_df.loc[f'demand percentages at district {i} {year}'] = demand_percentages_list\n",
    "\n",
    "        age6_18_list = [np.nan]\n",
    "        students_list = [np.nan]\n",
    "        demand_percentages_list = [np.nan]"
   ]
  },
  {
   "cell_type": "code",
   "execution_count": 28,
   "metadata": {},
   "outputs": [],
   "source": [
    "def add_total_sum_by_type_row(col_filters, type_filter, index):    \n",
    "    values_list = [np.nan]\n",
    "\n",
    "    for i, col_filter in enumerate(col_filters):\n",
    "        for year in years:\n",
    "            for sen in senarios:\n",
    "                if year == '2020':\n",
    "                    val = pd.pivot_table(df_2020, index=[index], aggfunc=\"sum\")\n",
    "                    values_list.append(val.iloc[i][f'{type_filter}'])\n",
    "                else:\n",
    "                    val = pd.pivot_table(globals()[f'df_{sen.lower()}_2050'], index=[index], aggfunc='sum')\n",
    "                    values_list.append(val.iloc[i][f'{type_filter}_{year}'])\n",
    "            monitoring_df.loc[f'{type_filter} at {col_filter} in {year}'] = values_list\n",
    "            values_list = [np.nan]\n",
    "    return monitoring_df"
   ]
  },
  {
   "cell_type": "code",
   "execution_count": 29,
   "metadata": {},
   "outputs": [],
   "source": [
    "# חישוב מועסקים עוקב אוכלוסיה לפי שכונות בירושלים כל חומש בכל תרחיש\n",
    "monitoring_df = add_total_sum_by_type_row(schn_names, 'emp_okev', 'SCHN_NAME')\n",
    "\n",
    "# חישוב מועסקים עוקב אוכלוסיה לפי רשות כל חומש בכל תרחיש\n",
    "monitoring_df = add_total_sum_by_type_row(muni_hebs, 'emp_okev', 'Muni_Heb')\n",
    "\n",
    "# חישוב מועסקים לפי רשות כל חומש בכל תרחיש\n",
    "monitoring_df = add_total_sum_by_type_row(muni_hebs, 'total_emp', 'Muni_Heb')"
   ]
  },
  {
   "cell_type": "code",
   "execution_count": 30,
   "metadata": {},
   "outputs": [],
   "source": [
    "def add_pop_division_emp_okev_by_SCHN_NAME(col_filters, type_filter, index):    \n",
    "    values_list = [np.nan]\n",
    "\n",
    "    for i, col_filter in enumerate(col_filters):\n",
    "        for year in years[:2]:\n",
    "            for sen in senarios:\n",
    "                if year == '2020':\n",
    "                    val = pd.pivot_table(df_2020, index=[index], aggfunc=\"sum\")\n",
    "                    if val['emp_okev'].iloc[i] != 0:\n",
    "                        values_list.append((val['pop_without_dorms_yeshiva'].iloc[i] / val['emp_okev'].iloc[i]))\n",
    "                    else:\n",
    "                        values_list.append(0)\n",
    "                else:\n",
    "                    val = pd.pivot_table(globals()[f'df_{sen.lower()}_2050'], index=[index], aggfunc='sum')\n",
    "                    if val['emp_okev_2025'].iloc[i] != 0:\n",
    "                        values_list.append(val['pop_without_dorms_yeshiva_2025'].iloc[i] / val['emp_okev_2025'].iloc[i])\n",
    "                    else:\n",
    "                        values_list.append(0)\n",
    "            monitoring_df.loc[f'pop division {type_filter} at {col_filter} in {year}'] = values_list\n",
    "            values_list = [np.nan]\n",
    "    return monitoring_df"
   ]
  },
  {
   "cell_type": "code",
   "execution_count": 31,
   "metadata": {},
   "outputs": [],
   "source": [
    "monitoring_df = add_pop_division_emp_okev_by_SCHN_NAME(schn_names, 'emp_okev', 'SCHN_NAME')"
   ]
  },
  {
   "cell_type": "code",
   "execution_count": 34,
   "metadata": {},
   "outputs": [],
   "source": [
    "def division_total_emp_in_key(second_key, row_title):\n",
    "    values_list = [np.nan]\n",
    "\n",
    "    for year in years:\n",
    "        for idx, df in enumerate([df_jtmt_2050, df_iplan_2050, df_bau_2050]):\n",
    "            if year == '2020':\n",
    "                if second_key == 'aprt':\n",
    "                    value = df['total_emp'].sum() / df[fr'{second_key}_20'].sum()\n",
    "                else:\n",
    "                    value = df['total_emp'].sum() / df[second_key].sum()\n",
    "                values_list.append(value)\n",
    "            else:\n",
    "                value = df[fr'total_emp_{year}'].sum() / df[fr'{second_key}_{year}'].sum()\n",
    "                values_list.append(value)\n",
    "        monitoring_df.loc[f'{row_title} division total_emp in {year}'] = values_list\n",
    "        values_list = [np.nan]\n",
    "    return monitoring_df"
   ]
  },
  {
   "cell_type": "code",
   "execution_count": 35,
   "metadata": {},
   "outputs": [],
   "source": [
    "# מועסקים חלוקה באוכלוסייה\n",
    "monitoring_df = division_total_emp_in_key('pop_without_dorms_yeshiva', 'pop')\n",
    "\n",
    "# מועסקים חלוקה ביח\"ד\n",
    "monitoring_df = division_total_emp_in_key('aprt', 'aprt')"
   ]
  },
  {
   "cell_type": "code",
   "execution_count": 36,
   "metadata": {},
   "outputs": [
    {
     "name": "stderr",
     "output_type": "stream",
     "text": [
      "C:\\Users\\dpere\\AppData\\Local\\Temp\\ipykernel_27612\\3179375671.py:3: RuntimeWarning: invalid value encountered in scalar divide\n",
      "  val = ((current_total - previous_total) / previous_total * 100.0)\n",
      "C:\\Users\\dpere\\AppData\\Local\\Temp\\ipykernel_27612\\3179375671.py:3: RuntimeWarning: invalid value encountered in scalar divide\n",
      "  val = ((current_total - previous_total) / previous_total * 100.0)\n",
      "C:\\Users\\dpere\\AppData\\Local\\Temp\\ipykernel_27612\\3179375671.py:3: RuntimeWarning: invalid value encountered in scalar divide\n",
      "  val = ((current_total - previous_total) / previous_total * 100.0)\n",
      "C:\\Users\\dpere\\AppData\\Local\\Temp\\ipykernel_27612\\3179375671.py:3: RuntimeWarning: invalid value encountered in scalar divide\n",
      "  val = ((current_total - previous_total) / previous_total * 100.0)\n",
      "C:\\Users\\dpere\\AppData\\Local\\Temp\\ipykernel_27612\\3179375671.py:3: RuntimeWarning: invalid value encountered in scalar divide\n",
      "  val = ((current_total - previous_total) / previous_total * 100.0)\n",
      "C:\\Users\\dpere\\AppData\\Local\\Temp\\ipykernel_27612\\3179375671.py:3: RuntimeWarning: invalid value encountered in scalar divide\n",
      "  val = ((current_total - previous_total) / previous_total * 100.0)\n",
      "C:\\Users\\dpere\\AppData\\Local\\Temp\\ipykernel_27612\\3179375671.py:3: RuntimeWarning: divide by zero encountered in scalar divide\n",
      "  val = ((current_total - previous_total) / previous_total * 100.0)\n",
      "C:\\Users\\dpere\\AppData\\Local\\Temp\\ipykernel_27612\\3179375671.py:3: RuntimeWarning: divide by zero encountered in scalar divide\n",
      "  val = ((current_total - previous_total) / previous_total * 100.0)\n",
      "C:\\Users\\dpere\\AppData\\Local\\Temp\\ipykernel_27612\\3179375671.py:3: RuntimeWarning: divide by zero encountered in scalar divide\n",
      "  val = ((current_total - previous_total) / previous_total * 100.0)\n",
      "C:\\Users\\dpere\\AppData\\Local\\Temp\\ipykernel_27612\\3179375671.py:3: RuntimeWarning: invalid value encountered in scalar divide\n",
      "  val = ((current_total - previous_total) / previous_total * 100.0)\n",
      "C:\\Users\\dpere\\AppData\\Local\\Temp\\ipykernel_27612\\3179375671.py:3: RuntimeWarning: invalid value encountered in scalar divide\n",
      "  val = ((current_total - previous_total) / previous_total * 100.0)\n",
      "C:\\Users\\dpere\\AppData\\Local\\Temp\\ipykernel_27612\\3179375671.py:3: RuntimeWarning: invalid value encountered in scalar divide\n",
      "  val = ((current_total - previous_total) / previous_total * 100.0)\n",
      "C:\\Users\\dpere\\AppData\\Local\\Temp\\ipykernel_27612\\3179375671.py:3: RuntimeWarning: invalid value encountered in scalar divide\n",
      "  val = ((current_total - previous_total) / previous_total * 100.0)\n",
      "C:\\Users\\dpere\\AppData\\Local\\Temp\\ipykernel_27612\\3179375671.py:3: RuntimeWarning: invalid value encountered in scalar divide\n",
      "  val = ((current_total - previous_total) / previous_total * 100.0)\n",
      "C:\\Users\\dpere\\AppData\\Local\\Temp\\ipykernel_27612\\3179375671.py:3: RuntimeWarning: invalid value encountered in scalar divide\n",
      "  val = ((current_total - previous_total) / previous_total * 100.0)\n",
      "C:\\Users\\dpere\\AppData\\Local\\Temp\\ipykernel_27612\\3179375671.py:3: RuntimeWarning: divide by zero encountered in scalar divide\n",
      "  val = ((current_total - previous_total) / previous_total * 100.0)\n",
      "C:\\Users\\dpere\\AppData\\Local\\Temp\\ipykernel_27612\\3179375671.py:3: RuntimeWarning: divide by zero encountered in scalar divide\n",
      "  val = ((current_total - previous_total) / previous_total * 100.0)\n",
      "C:\\Users\\dpere\\AppData\\Local\\Temp\\ipykernel_27612\\3179375671.py:3: RuntimeWarning: divide by zero encountered in scalar divide\n",
      "  val = ((current_total - previous_total) / previous_total * 100.0)\n",
      "C:\\Users\\dpere\\AppData\\Local\\Temp\\ipykernel_27612\\3179375671.py:3: RuntimeWarning: invalid value encountered in scalar divide\n",
      "  val = ((current_total - previous_total) / previous_total * 100.0)\n",
      "C:\\Users\\dpere\\AppData\\Local\\Temp\\ipykernel_27612\\3179375671.py:3: RuntimeWarning: invalid value encountered in scalar divide\n",
      "  val = ((current_total - previous_total) / previous_total * 100.0)\n",
      "C:\\Users\\dpere\\AppData\\Local\\Temp\\ipykernel_27612\\3179375671.py:3: RuntimeWarning: invalid value encountered in scalar divide\n",
      "  val = ((current_total - previous_total) / previous_total * 100.0)\n",
      "C:\\Users\\dpere\\AppData\\Local\\Temp\\ipykernel_27612\\3179375671.py:3: RuntimeWarning: invalid value encountered in scalar divide\n",
      "  val = ((current_total - previous_total) / previous_total * 100.0)\n",
      "C:\\Users\\dpere\\AppData\\Local\\Temp\\ipykernel_27612\\3179375671.py:3: RuntimeWarning: invalid value encountered in scalar divide\n",
      "  val = ((current_total - previous_total) / previous_total * 100.0)\n",
      "C:\\Users\\dpere\\AppData\\Local\\Temp\\ipykernel_27612\\3179375671.py:3: RuntimeWarning: invalid value encountered in scalar divide\n",
      "  val = ((current_total - previous_total) / previous_total * 100.0)\n",
      "C:\\Users\\dpere\\AppData\\Local\\Temp\\ipykernel_27612\\3179375671.py:3: RuntimeWarning: invalid value encountered in scalar divide\n",
      "  val = ((current_total - previous_total) / previous_total * 100.0)\n",
      "C:\\Users\\dpere\\AppData\\Local\\Temp\\ipykernel_27612\\3179375671.py:3: RuntimeWarning: invalid value encountered in scalar divide\n",
      "  val = ((current_total - previous_total) / previous_total * 100.0)\n",
      "C:\\Users\\dpere\\AppData\\Local\\Temp\\ipykernel_27612\\3179375671.py:3: RuntimeWarning: invalid value encountered in scalar divide\n",
      "  val = ((current_total - previous_total) / previous_total * 100.0)\n",
      "C:\\Users\\dpere\\AppData\\Local\\Temp\\ipykernel_27612\\3179375671.py:3: RuntimeWarning: divide by zero encountered in scalar divide\n",
      "  val = ((current_total - previous_total) / previous_total * 100.0)\n",
      "C:\\Users\\dpere\\AppData\\Local\\Temp\\ipykernel_27612\\3179375671.py:3: RuntimeWarning: divide by zero encountered in scalar divide\n",
      "  val = ((current_total - previous_total) / previous_total * 100.0)\n",
      "C:\\Users\\dpere\\AppData\\Local\\Temp\\ipykernel_27612\\3179375671.py:3: RuntimeWarning: divide by zero encountered in scalar divide\n",
      "  val = ((current_total - previous_total) / previous_total * 100.0)\n",
      "C:\\Users\\dpere\\AppData\\Local\\Temp\\ipykernel_27612\\3179375671.py:3: RuntimeWarning: invalid value encountered in scalar divide\n",
      "  val = ((current_total - previous_total) / previous_total * 100.0)\n",
      "C:\\Users\\dpere\\AppData\\Local\\Temp\\ipykernel_27612\\3179375671.py:3: RuntimeWarning: invalid value encountered in scalar divide\n",
      "  val = ((current_total - previous_total) / previous_total * 100.0)\n",
      "C:\\Users\\dpere\\AppData\\Local\\Temp\\ipykernel_27612\\3179375671.py:3: RuntimeWarning: invalid value encountered in scalar divide\n",
      "  val = ((current_total - previous_total) / previous_total * 100.0)\n",
      "C:\\Users\\dpere\\AppData\\Local\\Temp\\ipykernel_27612\\3179375671.py:3: RuntimeWarning: divide by zero encountered in scalar divide\n",
      "  val = ((current_total - previous_total) / previous_total * 100.0)\n",
      "C:\\Users\\dpere\\AppData\\Local\\Temp\\ipykernel_27612\\3179375671.py:3: RuntimeWarning: invalid value encountered in scalar divide\n",
      "  val = ((current_total - previous_total) / previous_total * 100.0)\n",
      "C:\\Users\\dpere\\AppData\\Local\\Temp\\ipykernel_27612\\3179375671.py:3: RuntimeWarning: invalid value encountered in scalar divide\n",
      "  val = ((current_total - previous_total) / previous_total * 100.0)\n",
      "C:\\Users\\dpere\\AppData\\Local\\Temp\\ipykernel_27612\\3179375671.py:3: RuntimeWarning: invalid value encountered in scalar divide\n",
      "  val = ((current_total - previous_total) / previous_total * 100.0)\n",
      "C:\\Users\\dpere\\AppData\\Local\\Temp\\ipykernel_27612\\3179375671.py:3: RuntimeWarning: invalid value encountered in scalar divide\n",
      "  val = ((current_total - previous_total) / previous_total * 100.0)\n",
      "C:\\Users\\dpere\\AppData\\Local\\Temp\\ipykernel_27612\\3179375671.py:3: RuntimeWarning: invalid value encountered in scalar divide\n",
      "  val = ((current_total - previous_total) / previous_total * 100.0)\n",
      "C:\\Users\\dpere\\AppData\\Local\\Temp\\ipykernel_27612\\3179375671.py:3: RuntimeWarning: invalid value encountered in scalar divide\n",
      "  val = ((current_total - previous_total) / previous_total * 100.0)\n",
      "C:\\Users\\dpere\\AppData\\Local\\Temp\\ipykernel_27612\\3179375671.py:3: RuntimeWarning: invalid value encountered in scalar divide\n",
      "  val = ((current_total - previous_total) / previous_total * 100.0)\n",
      "C:\\Users\\dpere\\AppData\\Local\\Temp\\ipykernel_27612\\3179375671.py:3: RuntimeWarning: divide by zero encountered in scalar divide\n",
      "  val = ((current_total - previous_total) / previous_total * 100.0)\n",
      "C:\\Users\\dpere\\AppData\\Local\\Temp\\ipykernel_27612\\3179375671.py:3: RuntimeWarning: invalid value encountered in scalar divide\n",
      "  val = ((current_total - previous_total) / previous_total * 100.0)\n",
      "C:\\Users\\dpere\\AppData\\Local\\Temp\\ipykernel_27612\\3179375671.py:3: RuntimeWarning: divide by zero encountered in scalar divide\n",
      "  val = ((current_total - previous_total) / previous_total * 100.0)\n",
      "C:\\Users\\dpere\\AppData\\Local\\Temp\\ipykernel_27612\\3179375671.py:3: RuntimeWarning: invalid value encountered in scalar divide\n",
      "  val = ((current_total - previous_total) / previous_total * 100.0)\n",
      "C:\\Users\\dpere\\AppData\\Local\\Temp\\ipykernel_27612\\3179375671.py:3: RuntimeWarning: invalid value encountered in scalar divide\n",
      "  val = ((current_total - previous_total) / previous_total * 100.0)\n",
      "C:\\Users\\dpere\\AppData\\Local\\Temp\\ipykernel_27612\\3179375671.py:3: RuntimeWarning: invalid value encountered in scalar divide\n",
      "  val = ((current_total - previous_total) / previous_total * 100.0)\n",
      "C:\\Users\\dpere\\AppData\\Local\\Temp\\ipykernel_27612\\3179375671.py:3: RuntimeWarning: invalid value encountered in scalar divide\n",
      "  val = ((current_total - previous_total) / previous_total * 100.0)\n",
      "C:\\Users\\dpere\\AppData\\Local\\Temp\\ipykernel_27612\\3179375671.py:3: RuntimeWarning: invalid value encountered in scalar divide\n",
      "  val = ((current_total - previous_total) / previous_total * 100.0)\n",
      "C:\\Users\\dpere\\AppData\\Local\\Temp\\ipykernel_27612\\3179375671.py:3: RuntimeWarning: invalid value encountered in scalar divide\n",
      "  val = ((current_total - previous_total) / previous_total * 100.0)\n",
      "C:\\Users\\dpere\\AppData\\Local\\Temp\\ipykernel_27612\\3179375671.py:3: RuntimeWarning: invalid value encountered in scalar divide\n",
      "  val = ((current_total - previous_total) / previous_total * 100.0)\n",
      "C:\\Users\\dpere\\AppData\\Local\\Temp\\ipykernel_27612\\3179375671.py:3: RuntimeWarning: invalid value encountered in scalar divide\n",
      "  val = ((current_total - previous_total) / previous_total * 100.0)\n",
      "C:\\Users\\dpere\\AppData\\Local\\Temp\\ipykernel_27612\\3179375671.py:3: RuntimeWarning: divide by zero encountered in scalar divide\n",
      "  val = ((current_total - previous_total) / previous_total * 100.0)\n",
      "C:\\Users\\dpere\\AppData\\Local\\Temp\\ipykernel_27612\\3179375671.py:3: RuntimeWarning: invalid value encountered in scalar divide\n",
      "  val = ((current_total - previous_total) / previous_total * 100.0)\n",
      "C:\\Users\\dpere\\AppData\\Local\\Temp\\ipykernel_27612\\3179375671.py:3: RuntimeWarning: invalid value encountered in scalar divide\n",
      "  val = ((current_total - previous_total) / previous_total * 100.0)\n",
      "C:\\Users\\dpere\\AppData\\Local\\Temp\\ipykernel_27612\\3179375671.py:3: RuntimeWarning: divide by zero encountered in scalar divide\n",
      "  val = ((current_total - previous_total) / previous_total * 100.0)\n",
      "C:\\Users\\dpere\\AppData\\Local\\Temp\\ipykernel_27612\\3179375671.py:3: RuntimeWarning: divide by zero encountered in scalar divide\n",
      "  val = ((current_total - previous_total) / previous_total * 100.0)\n",
      "C:\\Users\\dpere\\AppData\\Local\\Temp\\ipykernel_27612\\3179375671.py:3: RuntimeWarning: invalid value encountered in scalar divide\n",
      "  val = ((current_total - previous_total) / previous_total * 100.0)\n",
      "C:\\Users\\dpere\\AppData\\Local\\Temp\\ipykernel_27612\\3179375671.py:3: RuntimeWarning: invalid value encountered in scalar divide\n",
      "  val = ((current_total - previous_total) / previous_total * 100.0)\n",
      "C:\\Users\\dpere\\AppData\\Local\\Temp\\ipykernel_27612\\3179375671.py:3: RuntimeWarning: divide by zero encountered in scalar divide\n",
      "  val = ((current_total - previous_total) / previous_total * 100.0)\n",
      "C:\\Users\\dpere\\AppData\\Local\\Temp\\ipykernel_27612\\3179375671.py:3: RuntimeWarning: invalid value encountered in scalar divide\n",
      "  val = ((current_total - previous_total) / previous_total * 100.0)\n",
      "C:\\Users\\dpere\\AppData\\Local\\Temp\\ipykernel_27612\\3179375671.py:3: RuntimeWarning: invalid value encountered in scalar divide\n",
      "  val = ((current_total - previous_total) / previous_total * 100.0)\n",
      "C:\\Users\\dpere\\AppData\\Local\\Temp\\ipykernel_27612\\3179375671.py:3: RuntimeWarning: invalid value encountered in scalar divide\n",
      "  val = ((current_total - previous_total) / previous_total * 100.0)\n",
      "C:\\Users\\dpere\\AppData\\Local\\Temp\\ipykernel_27612\\3179375671.py:3: RuntimeWarning: invalid value encountered in scalar divide\n",
      "  val = ((current_total - previous_total) / previous_total * 100.0)\n",
      "C:\\Users\\dpere\\AppData\\Local\\Temp\\ipykernel_27612\\3179375671.py:3: RuntimeWarning: divide by zero encountered in scalar divide\n",
      "  val = ((current_total - previous_total) / previous_total * 100.0)\n",
      "C:\\Users\\dpere\\AppData\\Local\\Temp\\ipykernel_27612\\3179375671.py:3: RuntimeWarning: divide by zero encountered in scalar divide\n",
      "  val = ((current_total - previous_total) / previous_total * 100.0)\n",
      "C:\\Users\\dpere\\AppData\\Local\\Temp\\ipykernel_27612\\3179375671.py:3: RuntimeWarning: invalid value encountered in scalar divide\n",
      "  val = ((current_total - previous_total) / previous_total * 100.0)\n",
      "C:\\Users\\dpere\\AppData\\Local\\Temp\\ipykernel_27612\\3179375671.py:3: RuntimeWarning: invalid value encountered in scalar divide\n",
      "  val = ((current_total - previous_total) / previous_total * 100.0)\n",
      "C:\\Users\\dpere\\AppData\\Local\\Temp\\ipykernel_27612\\3179375671.py:3: RuntimeWarning: divide by zero encountered in scalar divide\n",
      "  val = ((current_total - previous_total) / previous_total * 100.0)\n",
      "C:\\Users\\dpere\\AppData\\Local\\Temp\\ipykernel_27612\\3179375671.py:3: RuntimeWarning: invalid value encountered in scalar divide\n",
      "  val = ((current_total - previous_total) / previous_total * 100.0)\n",
      "C:\\Users\\dpere\\AppData\\Local\\Temp\\ipykernel_27612\\3179375671.py:3: RuntimeWarning: divide by zero encountered in scalar divide\n",
      "  val = ((current_total - previous_total) / previous_total * 100.0)\n",
      "C:\\Users\\dpere\\AppData\\Local\\Temp\\ipykernel_27612\\3179375671.py:3: RuntimeWarning: divide by zero encountered in scalar divide\n",
      "  val = ((current_total - previous_total) / previous_total * 100.0)\n",
      "C:\\Users\\dpere\\AppData\\Local\\Temp\\ipykernel_27612\\3179375671.py:3: RuntimeWarning: invalid value encountered in scalar divide\n",
      "  val = ((current_total - previous_total) / previous_total * 100.0)\n",
      "C:\\Users\\dpere\\AppData\\Local\\Temp\\ipykernel_27612\\3179375671.py:3: RuntimeWarning: divide by zero encountered in scalar divide\n",
      "  val = ((current_total - previous_total) / previous_total * 100.0)\n",
      "C:\\Users\\dpere\\AppData\\Local\\Temp\\ipykernel_27612\\3179375671.py:3: RuntimeWarning: divide by zero encountered in scalar divide\n",
      "  val = ((current_total - previous_total) / previous_total * 100.0)\n",
      "C:\\Users\\dpere\\AppData\\Local\\Temp\\ipykernel_27612\\3179375671.py:3: RuntimeWarning: divide by zero encountered in scalar divide\n",
      "  val = ((current_total - previous_total) / previous_total * 100.0)\n",
      "C:\\Users\\dpere\\AppData\\Local\\Temp\\ipykernel_27612\\3179375671.py:3: RuntimeWarning: divide by zero encountered in scalar divide\n",
      "  val = ((current_total - previous_total) / previous_total * 100.0)\n",
      "C:\\Users\\dpere\\AppData\\Local\\Temp\\ipykernel_27612\\3179375671.py:3: RuntimeWarning: divide by zero encountered in scalar divide\n",
      "  val = ((current_total - previous_total) / previous_total * 100.0)\n",
      "C:\\Users\\dpere\\AppData\\Local\\Temp\\ipykernel_27612\\3179375671.py:3: RuntimeWarning: divide by zero encountered in scalar divide\n",
      "  val = ((current_total - previous_total) / previous_total * 100.0)\n",
      "C:\\Users\\dpere\\AppData\\Local\\Temp\\ipykernel_27612\\3179375671.py:3: RuntimeWarning: divide by zero encountered in scalar divide\n",
      "  val = ((current_total - previous_total) / previous_total * 100.0)\n",
      "C:\\Users\\dpere\\AppData\\Local\\Temp\\ipykernel_27612\\3179375671.py:3: RuntimeWarning: divide by zero encountered in scalar divide\n",
      "  val = ((current_total - previous_total) / previous_total * 100.0)\n",
      "C:\\Users\\dpere\\AppData\\Local\\Temp\\ipykernel_27612\\3179375671.py:3: RuntimeWarning: divide by zero encountered in scalar divide\n",
      "  val = ((current_total - previous_total) / previous_total * 100.0)\n"
     ]
    }
   ],
   "source": [
    "# גידול מועסקים בחינוך בכל חומש בכל תרחיש לפי שכונה\n",
    "monitoring_df = add_percentage_growth_by_filter_row(schn_names, 'SCHN_NAME', 'emp_Education', monitoring_df, 'emp education')\n",
    "\n",
    "# גידול מועסקים בחינוך בכל חומש בכל תרחיש לפי רשות\n",
    "monitoring_df = add_percentage_growth_by_filter_row(muni_hebs, 'Muni_Heb', 'emp_Education', monitoring_df, 'emp education')"
   ]
  },
  {
   "cell_type": "code",
   "execution_count": 37,
   "metadata": {},
   "outputs": [],
   "source": [
    "# def highlight_cols(s): \n",
    "#     if s > 100:\n",
    "#         color ='red'\n",
    "#     elif s < -100:\n",
    "#         color = 'red'\n",
    "#     else: \n",
    "#         color = 'none'\n",
    "#     return 'background-color: % s' % color\n",
    "\n",
    "# idx = pd.IndexSlice[monitoring_df.index.get_level_values(0).str.contains('different'), :]\n",
    "# monitoring_df = monitoring_df.style.applymap(highlight_cols, subset=idx)"
   ]
  },
  {
   "cell_type": "code",
   "execution_count": 38,
   "metadata": {},
   "outputs": [],
   "source": [
    "monitoring_df.to_excel('monitoring_df_fixed_2.xlsx')\n",
    "# monitoring_df"
   ]
  }
 ],
 "metadata": {
  "kernelspec": {
   "display_name": "creat_forecast_ad_hoc_env",
   "language": "python",
   "name": "python3"
  },
  "language_info": {
   "codemirror_mode": {
    "name": "ipython",
    "version": 3
   },
   "file_extension": ".py",
   "mimetype": "text/x-python",
   "name": "python",
   "nbconvert_exporter": "python",
   "pygments_lexer": "ipython3",
   "version": "3.11.5"
  }
 },
 "nbformat": 4,
 "nbformat_minor": 2
}
