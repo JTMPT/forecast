{
 "cells": [
  {
   "cell_type": "code",
   "execution_count": 1,
   "metadata": {},
   "outputs": [],
   "source": [
    "import pandas as pd\n",
    "import numpy as np"
   ]
  },
  {
   "cell_type": "code",
   "execution_count": 2,
   "metadata": {},
   "outputs": [],
   "source": [
    "df_2020 = pd.read_excel(r\"C:\\Users\\dpere\\Documents\\JTMT\\forecast_by_version\\V4\\BASE_YEAR\\2020_jtmt_forcast_full_240506.xlsx\").set_index('Taz_num').sort_index() \n",
    "df_2050 = pd.read_excel(r\"C:\\Users\\dpere\\Documents\\JTMT\\forecast_by_version\\V4\\240506_forecast_2020_till_2050_bau.xlsx\").set_index('Taz_num').sort_index() "
   ]
  },
  {
   "cell_type": "code",
   "execution_count": 3,
   "metadata": {},
   "outputs": [],
   "source": [
    "# Calculate the sums\n",
    "sum_2020 = df_2020['pop_without_dorms_yeshiva'].sum()\n",
    "sum_2050 = df_2050['pop_without_dorms_yeshiva'].sum()\n",
    "\n",
    "# Create a DataFrame with the sums\n",
    "data = {\n",
    "    'table_year': ['2020', '2050'],\n",
    "    'pop_2020_without_dorms_yeshiva': [sum_2020.astype('float32'), sum_2050.astype('float32')]\n",
    "}\n",
    "df = pd.DataFrame(data)\n",
    "\n",
    "pop_2020_without_dorms_yeshiva_sum = df.set_index('table_year')"
   ]
  },
  {
   "cell_type": "code",
   "execution_count": 4,
   "metadata": {},
   "outputs": [],
   "source": [
    "df_2050_pop_2020_without_dorms_yeshiva = df_2050.pivot_table(index='main_secto', values='pop_without_dorms_yeshiva', aggfunc=\"sum\")"
   ]
  },
  {
   "cell_type": "code",
   "execution_count": 5,
   "metadata": {},
   "outputs": [],
   "source": [
    "df_2050_pop_2050_without_dorms_yeshiva = df_2050.pivot_table(index='main_secto', values='pop_without_dorms_yeshiva_2050', aggfunc=\"sum\", fill_value=0).astype('float32')\n",
    "\n",
    "# Convert the column to int64\n",
    "df_2050_pop_2050_without_dorms_yeshiva['pop_without_dorms_yeshiva_2050'] = df_2050_pop_2050_without_dorms_yeshiva['pop_without_dorms_yeshiva_2050'].astype('int64')"
   ]
  },
  {
   "cell_type": "code",
   "execution_count": 6,
   "metadata": {},
   "outputs": [
    {
     "data": {
      "text/html": [
       "<div>\n",
       "<style scoped>\n",
       "    .dataframe tbody tr th:only-of-type {\n",
       "        vertical-align: middle;\n",
       "    }\n",
       "\n",
       "    .dataframe tbody tr th {\n",
       "        vertical-align: top;\n",
       "    }\n",
       "\n",
       "    .dataframe thead th {\n",
       "        text-align: right;\n",
       "    }\n",
       "</style>\n",
       "<table border=\"1\" class=\"dataframe\">\n",
       "  <thead>\n",
       "    <tr style=\"text-align: right;\">\n",
       "      <th></th>\n",
       "      <th>total_emp</th>\n",
       "    </tr>\n",
       "    <tr>\n",
       "      <th>main_secto</th>\n",
       "      <th></th>\n",
       "    </tr>\n",
       "  </thead>\n",
       "  <tbody>\n",
       "    <tr>\n",
       "      <th>Arab</th>\n",
       "      <td>60954.001007</td>\n",
       "    </tr>\n",
       "    <tr>\n",
       "      <th>Jewish</th>\n",
       "      <td>298061.550662</td>\n",
       "    </tr>\n",
       "    <tr>\n",
       "      <th>Palestinian</th>\n",
       "      <td>18.000000</td>\n",
       "    </tr>\n",
       "    <tr>\n",
       "      <th>U_Orthodox</th>\n",
       "      <td>112134.149154</td>\n",
       "    </tr>\n",
       "    <tr>\n",
       "      <th>arabs_behined_seperation_wall</th>\n",
       "      <td>11548.540655</td>\n",
       "    </tr>\n",
       "  </tbody>\n",
       "</table>\n",
       "</div>"
      ],
      "text/plain": [
       "                                   total_emp\n",
       "main_secto                                  \n",
       "Arab                            60954.001007\n",
       "Jewish                         298061.550662\n",
       "Palestinian                        18.000000\n",
       "U_Orthodox                     112134.149154\n",
       "arabs_behined_seperation_wall   11548.540655"
      ]
     },
     "execution_count": 6,
     "metadata": {},
     "output_type": "execute_result"
    }
   ],
   "source": [
    "df_2050_emp_2020 = df_2050.pivot_table(index='main_secto', values='total_emp', aggfunc=\"sum\")\n",
    "df_2050_emp_2020"
   ]
  },
  {
   "cell_type": "code",
   "execution_count": 7,
   "metadata": {},
   "outputs": [
    {
     "data": {
      "text/html": [
       "<div>\n",
       "<style scoped>\n",
       "    .dataframe tbody tr th:only-of-type {\n",
       "        vertical-align: middle;\n",
       "    }\n",
       "\n",
       "    .dataframe tbody tr th {\n",
       "        vertical-align: top;\n",
       "    }\n",
       "\n",
       "    .dataframe thead th {\n",
       "        text-align: right;\n",
       "    }\n",
       "</style>\n",
       "<table border=\"1\" class=\"dataframe\">\n",
       "  <thead>\n",
       "    <tr style=\"text-align: right;\">\n",
       "      <th></th>\n",
       "      <th>total_emp_2050</th>\n",
       "    </tr>\n",
       "    <tr>\n",
       "      <th>main_secto</th>\n",
       "      <th></th>\n",
       "    </tr>\n",
       "  </thead>\n",
       "  <tbody>\n",
       "    <tr>\n",
       "      <th>Arab</th>\n",
       "      <td>98209.167210</td>\n",
       "    </tr>\n",
       "    <tr>\n",
       "      <th>Jewish</th>\n",
       "      <td>612315.972781</td>\n",
       "    </tr>\n",
       "    <tr>\n",
       "      <th>Palestinian</th>\n",
       "      <td>59.719173</td>\n",
       "    </tr>\n",
       "    <tr>\n",
       "      <th>U_Orthodox</th>\n",
       "      <td>233440.899602</td>\n",
       "    </tr>\n",
       "    <tr>\n",
       "      <th>arabs_behined_seperation_wall</th>\n",
       "      <td>18275.796235</td>\n",
       "    </tr>\n",
       "  </tbody>\n",
       "</table>\n",
       "</div>"
      ],
      "text/plain": [
       "                               total_emp_2050\n",
       "main_secto                                   \n",
       "Arab                             98209.167210\n",
       "Jewish                          612315.972781\n",
       "Palestinian                         59.719173\n",
       "U_Orthodox                      233440.899602\n",
       "arabs_behined_seperation_wall    18275.796235"
      ]
     },
     "execution_count": 7,
     "metadata": {},
     "output_type": "execute_result"
    }
   ],
   "source": [
    "df_2050_emp_2050 = df_2050.pivot_table(index='main_secto', values='total_emp_2050', aggfunc=\"sum\")\n",
    "df_2050_emp_2050"
   ]
  },
  {
   "cell_type": "code",
   "execution_count": 8,
   "metadata": {},
   "outputs": [
    {
     "name": "stdout",
     "output_type": "stream",
     "text": [
      "            pop_2020_without_dorms_yeshiva\n",
      "table_year                                \n",
      "2020                            1758461.25\n",
      "2050                            1758461.25\n",
      "                               pop_without_dorms_yeshiva\n",
      "main_secto                                              \n",
      "Arab                                       272831.541375\n",
      "Jewish                                     855533.391787\n",
      "Palestinian                                     0.000000\n",
      "U_Orthodox                                 525185.694210\n",
      "arabs_behined_seperation_wall              104910.645214\n",
      "                               pop_without_dorms_yeshiva_2050\n",
      "main_secto                                                   \n",
      "Arab                                                   476374\n",
      "Jewish                                                1436318\n",
      "Palestinian                                           4174786\n",
      "U_Orthodox                                            1511838\n",
      "arabs_behined_seperation_wall                          160331\n"
     ]
    }
   ],
   "source": [
    "df1 = pop_2020_without_dorms_yeshiva_sum\n",
    "df1.name = \"pop 2020 without dorms yeshiva sum\"\n",
    "df2 = df_2050_pop_2020_without_dorms_yeshiva\n",
    "df2.name = \"pop 2020 without dorms yeshiva by sector\"\n",
    "df3 = df_2050_pop_2050_without_dorms_yeshiva\n",
    "df3.name = \"pop 2050 without dorms yeshiva by sector\"\n",
    "df4 = df_2050_emp_2020\n",
    "df4.name = \"emp 2020 by sector\"\n",
    "df5 = df_2050_emp_2050\n",
    "df5.name = \"emp 2050 by sector\"\n",
    "print(df1);print(df2);print(df3)"
   ]
  },
  {
   "cell_type": "code",
   "execution_count": 9,
   "metadata": {},
   "outputs": [],
   "source": [
    "writer = pd.ExcelWriter('bau_monitoring.xlsx',engine='xlsxwriter')\n",
    "workbook=writer.book\n",
    "worksheet=workbook.add_worksheet('bau')\n",
    "writer.sheets['bau'] = worksheet\n",
    "\n",
    "worksheet.write_string(0, 0, df1.name)\n",
    "df1.to_excel(writer,sheet_name='bau',startrow=1 , startcol=0)\n",
    "\n",
    "worksheet.write_string(df1.shape[0] + 3, 0, df2.name)\n",
    "df2.to_excel(writer,sheet_name='bau',startrow=df1.shape[0] + 4, startcol=0)\n",
    "\n",
    "worksheet.write_string(df2.shape[0] + 8, 0, df3.name)\n",
    "df3.to_excel(writer,sheet_name='bau',startrow=df2.shape[0] + 9, startcol=0)\n",
    "\n",
    "worksheet.write_string(df3.shape[0] + 16, 0, df4.name)\n",
    "df4.to_excel(writer,sheet_name='bau',startrow=df3.shape[0] + 17, startcol=0)\n",
    "\n",
    "worksheet.write_string(df4.shape[0] + 24, 0, df5.name)\n",
    "df5.to_excel(writer,sheet_name='bau',startrow=df4.shape[0] + 25, startcol=0)\n",
    "\n",
    "writer.close()"
   ]
  }
 ],
 "metadata": {
  "kernelspec": {
   "display_name": "creat_forecast_ad_hoc_env",
   "language": "python",
   "name": "python3"
  },
  "language_info": {
   "codemirror_mode": {
    "name": "ipython",
    "version": 3
   },
   "file_extension": ".py",
   "mimetype": "text/x-python",
   "name": "python",
   "nbconvert_exporter": "python",
   "pygments_lexer": "ipython3",
   "version": "3.11.5"
  }
 },
 "nbformat": 4,
 "nbformat_minor": 2
}
