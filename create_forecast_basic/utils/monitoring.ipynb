{
 "cells": [
  {
   "cell_type": "code",
   "execution_count": null,
   "metadata": {},
   "outputs": [],
   "source": [
    "import pandas as pd\n",
    "import numpy as np"
   ]
  },
  {
   "cell_type": "code",
   "execution_count": null,
   "metadata": {},
   "outputs": [],
   "source": [
    "df_2020 = pd.read_excel(r\"C:\\Users\\dpere\\Documents\\JTMT\\forecast_by_version\\V4\\BASE_YEAR\\2020_jtmt_forcast_full_240506.xlsx\").set_index('Taz_num').sort_index() \n",
    "df_jtmt_2050 = pd.read_excel(r\"C:\\Users\\dpere\\Documents\\JTMT\\forecast_by_version\\V4\\240506_forecast_2020_till_2050_jtmt.xlsx\").set_index('Taz_num').sort_index() \n",
    "df_iplan_2050 = pd.read_excel(r\"C:\\Users\\dpere\\Documents\\JTMT\\forecast_by_version\\V4\\240506_forecast_2020_till_2050_iplan.xlsx\").set_index('Taz_num').sort_index() \n",
    "df_bau_2050 = pd.read_excel(r\"C:\\Users\\dpere\\Documents\\JTMT\\forecast_by_version\\V4\\240506_forecast_2020_till_2050_bau.xlsx\").set_index('Taz_num').sort_index() "
   ]
  },
  {
   "cell_type": "code",
   "execution_count": null,
   "metadata": {},
   "outputs": [],
   "source": [
    "# list(df_bau_2050)\n",
    "# df = pd.DataFrame(list(df_bau_2050))\n",
    "# df.to_excel(\"שדות.xlsx\")  "
   ]
  },
  {
   "cell_type": "code",
   "execution_count": null,
   "metadata": {},
   "outputs": [],
   "source": [
    "def add_sector_row(output_df, sector, column_output_name):\n",
    "    values_list = []\n",
    "    \n",
    "    for idx, df in enumerate([df_2020, df_jtmt_2050, df_iplan_2050, df_bau_2050]):\n",
    "        val = df[df['main_secto'] == f'{sector}'] \n",
    "        values_list.append(len(val))\n",
    "\n",
    "    output_df.loc[f'{column_output_name}'] = values_list\n",
    "\n",
    "    return output_df"
   ]
  },
  {
   "cell_type": "code",
   "execution_count": null,
   "metadata": {},
   "outputs": [],
   "source": [
    "def add_row(output_df, column_input_name, column_output_name):\n",
    "    values_list = []\n",
    "\n",
    "    for idx, df in enumerate([df_2020, df_jtmt_2050, df_iplan_2050, df_bau_2050]):\n",
    "        if column_input_name in df.columns:\n",
    "            val = df.pivot_table(index='main_secto', values=f'{column_input_name}', aggfunc=\"sum\", fill_value=0).astype('float32').sum()\n",
    "            values_list.append(\"{:,}\".format(int(val.iloc[0])))\n",
    "        else:\n",
    "            values_list.append('NaN')\n",
    "\n",
    "    output_df.loc[f'{column_output_name}'] = values_list\n",
    "\n",
    "    return output_df"
   ]
  },
  {
   "cell_type": "code",
   "execution_count": null,
   "metadata": {},
   "outputs": [],
   "source": [
    "ID_df = pd.DataFrame(columns=['2020', 'JTMT', 'iplan', 'bau'], index=['pop_2020', 'pop_2050','emp_2020', 'emp_2050', 'Taz_U_Orthodox',\n",
    "                            'Taz_arabs_behined_seperation_wall', 'Taz_Arab', 'Taz_Jewish'])"
   ]
  },
  {
   "cell_type": "code",
   "execution_count": null,
   "metadata": {},
   "outputs": [],
   "source": [
    "ID_df = add_row(ID_df, 'pop_without_dorms_yeshiva', 'pop_2020')\n",
    "ID_df = add_row(ID_df, 'pop_without_dorms_yeshiva_2050', 'pop_2050')\n",
    "ID_df = add_row(ID_df, 'total_emp', 'emp_2020')\n",
    "ID_df = add_row(ID_df, 'total_emp_2050', 'emp_2050')\n",
    "\n",
    "ID_df = add_sector_row(ID_df, 'U_Orthodox', 'Taz_U_Orthodox')\n",
    "ID_df = add_sector_row(ID_df, 'arabs_behined_seperation_wall', 'Taz_arabs_behined_seperation_wall')\n",
    "ID_df = add_sector_row(ID_df, 'Arab', 'Taz_Arab')\n",
    "ID_df = add_sector_row(ID_df, 'Jewish', 'Taz_Jewish')\n",
    "\n",
    "ID_df = add_row(ID_df, 'univ', 'univ_2020')\n",
    "ID_df = add_row(ID_df, 'univ_2050', 'univ_2050')\n",
    "\n",
    "ID_df = add_row(ID_df, 'student', 'student_2020')\n",
    "ID_df = add_row(ID_df, 'student_2050', 'student_2050')\n",
    "\n",
    "ID_df = add_row(ID_df, 'student_yeshiva_and_kollim', 'student_yeshiva_and_kollim_2020')\n",
    "ID_df = add_row(ID_df, 'student_yeshiva_and_kollim_2050', 'student_yeshiva_and_kollim_2050')"
   ]
  },
  {
   "cell_type": "code",
   "execution_count": null,
   "metadata": {},
   "outputs": [],
   "source": [
    "ID_df.to_excel(\"ID_df.xlsx\")  "
   ]
  }
 ],
 "metadata": {
  "kernelspec": {
   "display_name": "creat_forecast_ad_hoc_env",
   "language": "python",
   "name": "python3"
  },
  "language_info": {
   "codemirror_mode": {
    "name": "ipython",
    "version": 3
   },
   "file_extension": ".py",
   "mimetype": "text/x-python",
   "name": "python",
   "nbconvert_exporter": "python",
   "pygments_lexer": "ipython3",
   "version": "3.11.5"
  }
 },
 "nbformat": 4,
 "nbformat_minor": 2
}
