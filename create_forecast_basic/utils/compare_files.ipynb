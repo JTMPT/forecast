{
 "cells": [
  {
   "cell_type": "code",
   "execution_count": 1,
   "metadata": {},
   "outputs": [],
   "source": [
    "import pandas as pd\n",
    "import numpy as np"
   ]
  },
  {
   "cell_type": "code",
   "execution_count": 2,
   "metadata": {},
   "outputs": [],
   "source": [
    "# הקבצים שאנחנו רוצים להשוות\n",
    "df1 = pd.read_excel(r\"C:\\Users\\dpere\\Documents\\JTMT\\forecast_archive\\forecast-create_ABM_forecast_v1.3\\create_forecast_basic\\current\\Intermediates\\stat_cbs_jtmt_2020.xlsx\").set_index('STAT').sort_index()\n",
    "df2 = pd.read_excel(r\"C:\\Users\\dpere\\Documents\\JTMT\\forecast_git\\create_forecast_basic\\current\\Intermediates\\stat_cbs_jtmt_2020.xlsx\").set_index('STAT').sort_index() "
   ]
  },
  {
   "cell_type": "code",
   "execution_count": 5,
   "metadata": {},
   "outputs": [
    {
     "data": {
      "text/html": [
       "<div>\n",
       "<style scoped>\n",
       "    .dataframe tbody tr th:only-of-type {\n",
       "        vertical-align: middle;\n",
       "    }\n",
       "\n",
       "    .dataframe tbody tr th {\n",
       "        vertical-align: top;\n",
       "    }\n",
       "\n",
       "    .dataframe thead tr th {\n",
       "        text-align: left;\n",
       "    }\n",
       "\n",
       "    .dataframe thead tr:last-of-type th {\n",
       "        text-align: right;\n",
       "    }\n",
       "</style>\n",
       "<table border=\"1\" class=\"dataframe\">\n",
       "  <thead>\n",
       "    <tr>\n",
       "      <th></th>\n",
       "      <th colspan=\"2\" halign=\"left\">geometry</th>\n",
       "    </tr>\n",
       "    <tr>\n",
       "      <th></th>\n",
       "      <th>self</th>\n",
       "      <th>other</th>\n",
       "    </tr>\n",
       "    <tr>\n",
       "      <th>STAT</th>\n",
       "      <th></th>\n",
       "      <th></th>\n",
       "    </tr>\n",
       "  </thead>\n",
       "  <tbody>\n",
       "    <tr>\n",
       "      <th>100001</th>\n",
       "      <td>MULTIPOLYGON (((188996.6205000002 628298.35019...</td>\n",
       "      <td>MULTIPOLYGON (((188996.6205000002 628298.35019...</td>\n",
       "    </tr>\n",
       "    <tr>\n",
       "      <th>270001</th>\n",
       "      <td>MULTIPOLYGON (((193001.1001000004 626052.00009...</td>\n",
       "      <td>MULTIPOLYGON (((193001.1001000004 626052.00009...</td>\n",
       "    </tr>\n",
       "    <tr>\n",
       "      <th>390001</th>\n",
       "      <td>MULTIPOLYGON (((188996.6205000002 628298.35019...</td>\n",
       "      <td>MULTIPOLYGON (((188996.6205000002 628298.35019...</td>\n",
       "    </tr>\n",
       "    <tr>\n",
       "      <th>520001</th>\n",
       "      <td>MULTIPOLYGON (((189415.6885000002 622021.93869...</td>\n",
       "      <td>MULTIPOLYGON (((189415.68850000016 622021.9386...</td>\n",
       "    </tr>\n",
       "    <tr>\n",
       "      <th>590001</th>\n",
       "      <td>MULTIPOLYGON (((195708.8179000001 615676.64010...</td>\n",
       "      <td>MULTIPOLYGON (((195708.81790000014 615676.6401...</td>\n",
       "    </tr>\n",
       "    <tr>\n",
       "      <th>...</th>\n",
       "      <td>...</td>\n",
       "      <td>...</td>\n",
       "    </tr>\n",
       "    <tr>\n",
       "      <th>37970010</th>\n",
       "      <td>MULTIPOLYGON (((204519.5702999998 648115.22399...</td>\n",
       "      <td>MULTIPOLYGON (((204519.5702999998 648115.22399...</td>\n",
       "    </tr>\n",
       "    <tr>\n",
       "      <th>38220001</th>\n",
       "      <td>MULTIPOLYGON (((224415.3203999996 667725.19429...</td>\n",
       "      <td>MULTIPOLYGON (((224415.32039999962 667725.1942...</td>\n",
       "    </tr>\n",
       "    <tr>\n",
       "      <th>38230001</th>\n",
       "      <td>MULTIPOLYGON (((201755.6988000004 648522.01600...</td>\n",
       "      <td>MULTIPOLYGON (((201755.69880000036 648522.0160...</td>\n",
       "    </tr>\n",
       "    <tr>\n",
       "      <th>38240001</th>\n",
       "      <td>MULTIPOLYGON (((231169.1950000003 661458.09249...</td>\n",
       "      <td>MULTIPOLYGON (((231169.1950000003 661458.09249...</td>\n",
       "    </tr>\n",
       "    <tr>\n",
       "      <th>38250001</th>\n",
       "      <td>MULTIPOLYGON (((239668.9949000003 645947.45879...</td>\n",
       "      <td>MULTIPOLYGON (((239668.99490000028 645947.4587...</td>\n",
       "    </tr>\n",
       "  </tbody>\n",
       "</table>\n",
       "<p>484 rows × 2 columns</p>\n",
       "</div>"
      ],
      "text/plain": [
       "                                                   geometry  \\\n",
       "                                                       self   \n",
       "STAT                                                          \n",
       "100001    MULTIPOLYGON (((188996.6205000002 628298.35019...   \n",
       "270001    MULTIPOLYGON (((193001.1001000004 626052.00009...   \n",
       "390001    MULTIPOLYGON (((188996.6205000002 628298.35019...   \n",
       "520001    MULTIPOLYGON (((189415.6885000002 622021.93869...   \n",
       "590001    MULTIPOLYGON (((195708.8179000001 615676.64010...   \n",
       "...                                                     ...   \n",
       "37970010  MULTIPOLYGON (((204519.5702999998 648115.22399...   \n",
       "38220001  MULTIPOLYGON (((224415.3203999996 667725.19429...   \n",
       "38230001  MULTIPOLYGON (((201755.6988000004 648522.01600...   \n",
       "38240001  MULTIPOLYGON (((231169.1950000003 661458.09249...   \n",
       "38250001  MULTIPOLYGON (((239668.9949000003 645947.45879...   \n",
       "\n",
       "                                                             \n",
       "                                                      other  \n",
       "STAT                                                         \n",
       "100001    MULTIPOLYGON (((188996.6205000002 628298.35019...  \n",
       "270001    MULTIPOLYGON (((193001.1001000004 626052.00009...  \n",
       "390001    MULTIPOLYGON (((188996.6205000002 628298.35019...  \n",
       "520001    MULTIPOLYGON (((189415.68850000016 622021.9386...  \n",
       "590001    MULTIPOLYGON (((195708.81790000014 615676.6401...  \n",
       "...                                                     ...  \n",
       "37970010  MULTIPOLYGON (((204519.5702999998 648115.22399...  \n",
       "38220001  MULTIPOLYGON (((224415.32039999962 667725.1942...  \n",
       "38230001  MULTIPOLYGON (((201755.69880000036 648522.0160...  \n",
       "38240001  MULTIPOLYGON (((231169.1950000003 661458.09249...  \n",
       "38250001  MULTIPOLYGON (((239668.99490000028 645947.4587...  \n",
       "\n",
       "[484 rows x 2 columns]"
      ]
     },
     "execution_count": 5,
     "metadata": {},
     "output_type": "execute_result"
    }
   ],
   "source": [
    "df1.compare(df2)"
   ]
  },
  {
   "cell_type": "code",
   "execution_count": null,
   "metadata": {},
   "outputs": [],
   "source": [
    "# הקבצים שאנחנו רוצים להשוות\n",
    "df1_summer = pd.read_excel(r\"C:\\Users\\dpere\\Documents\\JTMT\\קיץ\\forecast_by_version\\230720_forecast_2020_till_2050_bau.xlsx\").set_index('Taz_num').sort_index()\n",
    "df2_now = pd.read_excel(r\"C:\\Users\\dpere\\Documents\\JTMT\\forecast_by_version\\V4\\BASE_YEAR\\240318_forecast_2020_till_2050_bau.xlsx\").set_index('Taz_num').sort_index() "
   ]
  },
  {
   "cell_type": "code",
   "execution_count": null,
   "metadata": {},
   "outputs": [],
   "source": [
    "# sum1 = df1['pop_0'].sum()\n",
    "# sum2 = df2['pop_0'].sum()\n",
    "# sum1 - sum2"
   ]
  },
  {
   "cell_type": "code",
   "execution_count": null,
   "metadata": {},
   "outputs": [],
   "source": [
    "# Filter the DataFrame based on 'zonetype' column\n",
    "df1_filtered = df1_summer[df1_summer['zonetype'] == 'Jerusalem']\n",
    "df2_filtered = df2_now[df2_now['zonetype'] == 'Jerusalem']\n",
    "\n",
    "# Group by 'main_sector' and sum 'pop_70' for each group\n",
    "sum_by_sector1 = df1_filtered.groupby('main_secto')['total_emp'].sum()\n",
    "sum_by_sector1['Arab'] = sum_by_sector1['Arab'] + sum_by_sector1['arabs_behined_seperation_wall']\n",
    "\n",
    "# Group by 'main_sector' and sum 'pop_70' for each group\n",
    "sum_by_sector2 = df2_filtered.groupby('main_secto')['total_emp'].sum()\n",
    "sum_by_sector2['Arab'] = sum_by_sector2['Arab'] + sum_by_sector2['arabs_behined_seperation_wall']\n",
    "\n",
    "sum_by_sector2\n",
    "sum_by_sector1-sum_by_sector2"
   ]
  },
  {
   "cell_type": "code",
   "execution_count": null,
   "metadata": {},
   "outputs": [],
   "source": [
    "for col in df1_summer.columns:\n",
    "    df1_summer[col] = pd.to_numeric(df1_summer[col], errors='coerce')\n",
    "\n",
    "for col in df2_now.columns:\n",
    "    df2_now[col] = pd.to_numeric(df2_now[col], errors='coerce')"
   ]
  },
  {
   "cell_type": "code",
   "execution_count": null,
   "metadata": {},
   "outputs": [],
   "source": [
    "# # Filter the DataFrame based on 'zonetype' column\n",
    "# df_filtered = df2_summer[df2_summer['zonetype'] == 'Jerusalem']\n",
    "\n",
    "# # Group by 'main_sector' and sum 'pop_70' for each group\n",
    "# sum_by_sector = df_filtered.groupby('group')['pop_0'].sum()\n",
    "# # sum_by_sector['Arab'] = sum_by_sector['Arab'] + sum_by_sector['arabs_behined_seperation_wall']\n",
    "# # sum_by_sector['arabs_behined_seperation_wall'] = 0\n",
    "# # sum_by_sector\n",
    "# sum_by_sector"
   ]
  },
  {
   "cell_type": "code",
   "execution_count": null,
   "metadata": {},
   "outputs": [],
   "source": [
    "# compare= df1_summer.apply(np.ceil).compare(df2_now.apply(np.ceil))\n",
    "compare = df1_summer.apply(lambda x: np.ceil(x / 10) * 10).compare(df2_now.apply(lambda x: np.ceil(x / 10) * 10))"
   ]
  },
  {
   "cell_type": "code",
   "execution_count": null,
   "metadata": {},
   "outputs": [],
   "source": [
    "# compare = df1_summer.compare(df2_now)\n",
    "name = '230720_pop_2025_bau'\n",
    "# compare.to_excel(r\"C:\\Users\\dpere\\Documents\\JTMT\\compare\\{}_compare.xlsx\".format(name))\n",
    "# compare"
   ]
  }
 ],
 "metadata": {
  "kernelspec": {
   "display_name": "creat_forecast_ad_hoc_env",
   "language": "python",
   "name": "python3"
  },
  "language_info": {
   "codemirror_mode": {
    "name": "ipython",
    "version": 3
   },
   "file_extension": ".py",
   "mimetype": "text/x-python",
   "name": "python",
   "nbconvert_exporter": "python",
   "pygments_lexer": "ipython3",
   "version": "3.11.5"
  }
 },
 "nbformat": 4,
 "nbformat_minor": 2
}
