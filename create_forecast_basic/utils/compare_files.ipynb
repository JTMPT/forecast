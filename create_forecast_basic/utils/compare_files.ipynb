{
 "cells": [
  {
   "cell_type": "code",
   "execution_count": 1,
   "metadata": {},
   "outputs": [],
   "source": [
    "import pandas as pd\n",
    "import numpy as np"
   ]
  },
  {
   "cell_type": "code",
   "execution_count": 2,
   "metadata": {},
   "outputs": [
    {
     "data": {
      "text/html": [
       "<div>\n",
       "<style scoped>\n",
       "    .dataframe tbody tr th:only-of-type {\n",
       "        vertical-align: middle;\n",
       "    }\n",
       "\n",
       "    .dataframe tbody tr th {\n",
       "        vertical-align: top;\n",
       "    }\n",
       "\n",
       "    .dataframe thead tr th {\n",
       "        text-align: left;\n",
       "    }\n",
       "</style>\n",
       "<table border=\"1\" class=\"dataframe\">\n",
       "  <thead>\n",
       "  </thead>\n",
       "  <tbody>\n",
       "  </tbody>\n",
       "</table>\n",
       "</div>"
      ],
      "text/plain": [
       "Empty DataFrame\n",
       "Columns: []\n",
       "Index: []"
      ]
     },
     "execution_count": 2,
     "metadata": {},
     "output_type": "execute_result"
    }
   ],
   "source": [
    "df1 = pd.read_excel(r\"C:\\Users\\dpere\\Documents\\JTMT\\forecast_git\\create_forecast_basic\\utils\\monitoring_df_fixed_1.xlsx\")\n",
    "df2 = pd.read_excel(r\"C:\\Users\\dpere\\Documents\\JTMT\\forecast_git\\create_forecast_basic\\utils\\monitoring_df_fixed_2.xlsx\")\n",
    "df1.compare(df2)"
   ]
  },
  {
   "cell_type": "code",
   "execution_count": null,
   "metadata": {},
   "outputs": [],
   "source": [
    "# # הקבצים שאנחנו רוצים להשוות\n",
    "# df1 = pd.read_excel(r\"C:\\Users\\dpere\\Documents\\JTMT\\forecast_by_version\\V4\\BASE_YEAR\\2020_jtmt_forcast_full_240502.xlsx\").set_index('Taz_num').sort_index() \n",
    "# df2 = pd.read_excel(r\"C:\\Users\\dpere\\Documents\\JTMT\\forecast_by_version\\V4\\BASE_YEAR\\2020_jtmt_forcast_full_240506.xlsx\").set_index('Taz_num').sort_index() \n",
    "# # df2 = pd.read_excel(r\"C:\\Users\\dpere\\Downloads\\taz_with_pop_info.xlsx\").set_index('Taz_num').sort_index() \n",
    "# df1.equals(df2)"
   ]
  },
  {
   "cell_type": "code",
   "execution_count": null,
   "metadata": {},
   "outputs": [],
   "source": [
    "# # הקבצים שאנחנו רוצים להשוות\n",
    "# df1 = pd.read_excel(r\"C:\\Users\\dpere\\Downloads\\240506_forecast_2020_till_2050_bau.xlsx\").set_index('Taz_num').sort_index() \n",
    "# df2 = pd.read_excel(r\"C:\\Users\\dpere\\Documents\\JTMT\\forecast_by_version\\V4\\240506_forecast_2020_till_2050_bau.xlsx\").set_index('Taz_num').sort_index() \n",
    "df1 = pd.read_excel(r\"C:\\Users\\dpere\\Documents\\JTMT\\forecast_git\\create_forecast_basic\\current\\Intermediates\\taz_with_pop_info.xlsx\").set_index('Taz_num').sort_index() \n",
    "df2 = pd.read_excel(r\"C:\\Users\\dpere\\Documents\\JTMT\\forecast_by_version\\V4\\BASE_YEAR\\2020_jtmt_forcast_full_240502.xlsx\").set_index('Taz_num').sort_index() \n",
    "df1.equals(df2)"
   ]
  },
  {
   "cell_type": "code",
   "execution_count": null,
   "metadata": {},
   "outputs": [],
   "source": [
    "filtered_df = df1[df1.index.isin(df2.index)]"
   ]
  },
  {
   "cell_type": "code",
   "execution_count": null,
   "metadata": {},
   "outputs": [],
   "source": [
    "print('df1 index: ', len(df1.index))\n",
    "print('df2 index: ', len(filtered_df .index))"
   ]
  },
  {
   "cell_type": "code",
   "execution_count": null,
   "metadata": {},
   "outputs": [],
   "source": [
    "print('df1: ', df1['aprt_20'].sum())\n",
    "print('filtered_df : ', filtered_df ['aprt_20'].sum())\n",
    "\n",
    "print(df1['aprt_20'].sum()-filtered_df ['aprt_20'].sum())"
   ]
  },
  {
   "cell_type": "code",
   "execution_count": null,
   "metadata": {},
   "outputs": [],
   "source": [
    "compare = df1.compare(df2)\n",
    "compare"
   ]
  },
  {
   "cell_type": "code",
   "execution_count": null,
   "metadata": {},
   "outputs": [],
   "source": [
    "# # הקבצים שאנחנו רוצים להשוות\n",
    "# df1_summer = pd.read_excel(r\"C:\\Users\\dpere\\Documents\\JTMT\\קיץ\\forecast_by_version\\230720_forecast_2020_till_2050_bau.xlsx\").set_index('Taz_num').sort_index()\n",
    "# df2_now = pd.read_excel(r\"C:\\Users\\dpere\\Documents\\JTMT\\forecast_by_version\\V4\\BASE_YEAR\\240318_forecast_2020_till_2050_bau.xlsx\").set_index('Taz_num').sort_index() "
   ]
  },
  {
   "cell_type": "code",
   "execution_count": null,
   "metadata": {},
   "outputs": [],
   "source": [
    "# sum1 = df1['pop_0'].sum()\n",
    "# sum2 = df2['pop_0'].sum()\n",
    "# sum1 - sum2"
   ]
  },
  {
   "cell_type": "code",
   "execution_count": null,
   "metadata": {},
   "outputs": [],
   "source": [
    "# # Filter the DataFrame based on 'zonetype' column\n",
    "# df1_filtered = df1_summer[df1_summer['zonetype'] == 'Jerusalem']\n",
    "# df2_filtered = df2_now[df2_now['zonetype'] == 'Jerusalem']\n",
    "\n",
    "# # Group by 'main_sector' and sum 'pop_70' for each group\n",
    "# sum_by_sector1 = df1_filtered.groupby('main_secto')['total_emp'].sum()\n",
    "# sum_by_sector1['Arab'] = sum_by_sector1['Arab'] + sum_by_sector1['arabs_behined_seperation_wall']\n",
    "\n",
    "# # Group by 'main_sector' and sum 'pop_70' for each group\n",
    "# sum_by_sector2 = df2_filtered.groupby('main_secto')['total_emp'].sum()\n",
    "# sum_by_sector2['Arab'] = sum_by_sector2['Arab'] + sum_by_sector2['arabs_behined_seperation_wall']\n",
    "\n",
    "# sum_by_sector2\n",
    "# sum_by_sector1-sum_by_sector2"
   ]
  },
  {
   "cell_type": "code",
   "execution_count": null,
   "metadata": {},
   "outputs": [],
   "source": [
    "# for col in df1_summer.columns:\n",
    "#     df1_summer[col] = pd.to_numeric(df1_summer[col], errors='coerce')\n",
    "\n",
    "# for col in df2_now.columns:\n",
    "#     df2_now[col] = pd.to_numeric(df2_now[col], errors='coerce')"
   ]
  },
  {
   "cell_type": "code",
   "execution_count": null,
   "metadata": {},
   "outputs": [],
   "source": [
    "# # Filter the DataFrame based on 'zonetype' column\n",
    "# df_filtered = df2_summer[df2_summer['zonetype'] == 'Jerusalem']\n",
    "\n",
    "# # Group by 'main_sector' and sum 'pop_70' for each group\n",
    "# sum_by_sector = df_filtered.groupby('group')['pop_0'].sum()\n",
    "# # sum_by_sector['Arab'] = sum_by_sector['Arab'] + sum_by_sector['arabs_behined_seperation_wall']\n",
    "# # sum_by_sector['arabs_behined_seperation_wall'] = 0\n",
    "# # sum_by_sector\n",
    "# sum_by_sector"
   ]
  },
  {
   "cell_type": "code",
   "execution_count": null,
   "metadata": {},
   "outputs": [],
   "source": [
    "# compare= df1_summer.apply(np.ceil).compare(df2_now.apply(np.ceil))\n",
    "# compare = df1_summer.apply(lambda x: np.ceil(x / 10) * 10).compare(df2_now.apply(lambda x: np.ceil(x / 10) * 10))"
   ]
  },
  {
   "cell_type": "code",
   "execution_count": null,
   "metadata": {},
   "outputs": [],
   "source": [
    "# # compare = df1_summer.compare(df2_now)\n",
    "# name = '240502_forecast_2020_till_2050_jtmt'\n",
    "# compare.to_excel(r\"C:\\Users\\dpere\\Downloads\\{}_compare.xlsx\".format(name))\n",
    "# # compare"
   ]
  }
 ],
 "metadata": {
  "kernelspec": {
   "display_name": "creat_forecast_ad_hoc_env",
   "language": "python",
   "name": "python3"
  },
  "language_info": {
   "codemirror_mode": {
    "name": "ipython",
    "version": 3
   },
   "file_extension": ".py",
   "mimetype": "text/x-python",
   "name": "python",
   "nbconvert_exporter": "python",
   "pygments_lexer": "ipython3",
   "version": "3.11.5"
  }
 },
 "nbformat": 4,
 "nbformat_minor": 2
}
