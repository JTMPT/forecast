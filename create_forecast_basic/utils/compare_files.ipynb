{
 "cells": [
  {
   "cell_type": "code",
   "execution_count": 94,
   "metadata": {},
   "outputs": [],
   "source": [
    "import pandas as pd\n",
    "import numpy as np"
   ]
  },
  {
   "cell_type": "code",
   "execution_count": 95,
   "metadata": {},
   "outputs": [
    {
     "data": {
      "text/plain": [
       "False"
      ]
     },
     "execution_count": 95,
     "metadata": {},
     "output_type": "execute_result"
    }
   ],
   "source": [
    "# הקבצים שאנחנו רוצים להשוות\n",
    "# df1 = pd.read_excel(r\"C:\\Users\\dpere\\Documents\\JTMT\\forecast_git\\create_forecast_basic\\current\\background_files\\age_des_types.xlsx\").set_index('classification_name').sort_index()\n",
    "# df2 = pd.read_excel(r\"C:\\Users\\dpere\\Documents\\JTMT\\forecast_git\\create_forecast_basic\\future\\iplan\\background_files\\age_des_types.xlsx\").set_index('classification_name').sort_index() \n",
    "df1 = pd.read_excel(r\"C:\\Users\\dpere\\Documents\\JTMT\\forecast_by_version\\V4\\240421_forecast_2020_till_2050_bau.xlsx\").set_index('Taz_num').sort_index()\n",
    "df2 = pd.read_excel(r\"C:\\Users\\dpere\\Documents\\JTMT\\forecast_by_version\\V4\\240501_forecast_2020_till_2050_bau.xlsx\").set_index('Taz_num').sort_index() \n",
    "df1.equals(df2)"
   ]
  },
  {
   "cell_type": "code",
   "execution_count": 96,
   "metadata": {},
   "outputs": [
    {
     "name": "stdout",
     "output_type": "stream",
     "text": [
      "df1 index:  904\n",
      "df2 index:  904\n"
     ]
    }
   ],
   "source": [
    "print('df1 index: ', len(df1.index))\n",
    "print('df2 index: ', len(df2.index))"
   ]
  },
  {
   "cell_type": "code",
   "execution_count": 97,
   "metadata": {},
   "outputs": [],
   "source": [
    "# print('df1: ', df1['Indus'].sum())\n",
    "# print('df2: ', df2['Indus'].sum())"
   ]
  },
  {
   "cell_type": "code",
   "execution_count": 98,
   "metadata": {},
   "outputs": [
    {
     "data": {
      "text/html": [
       "<div>\n",
       "<style scoped>\n",
       "    .dataframe tbody tr th:only-of-type {\n",
       "        vertical-align: middle;\n",
       "    }\n",
       "\n",
       "    .dataframe tbody tr th {\n",
       "        vertical-align: top;\n",
       "    }\n",
       "\n",
       "    .dataframe thead tr th {\n",
       "        text-align: left;\n",
       "    }\n",
       "\n",
       "    .dataframe thead tr:last-of-type th {\n",
       "        text-align: right;\n",
       "    }\n",
       "</style>\n",
       "<table border=\"1\" class=\"dataframe\">\n",
       "  <thead>\n",
       "    <tr>\n",
       "      <th></th>\n",
       "      <th colspan=\"2\" halign=\"left\">pop_without_dorms_yeshiva_2025</th>\n",
       "      <th colspan=\"2\" halign=\"left\">pop_without_dorms_yeshiva_2030</th>\n",
       "      <th colspan=\"2\" halign=\"left\">pop_without_dorms_yeshiva_2035</th>\n",
       "      <th colspan=\"2\" halign=\"left\">pop_without_dorms_yeshiva_2040</th>\n",
       "      <th colspan=\"2\" halign=\"left\">pop_without_dorms_yeshiva_2045</th>\n",
       "      <th colspan=\"2\" halign=\"left\">pop_without_dorms_yeshiva_2050</th>\n",
       "    </tr>\n",
       "    <tr>\n",
       "      <th></th>\n",
       "      <th>self</th>\n",
       "      <th>other</th>\n",
       "      <th>self</th>\n",
       "      <th>other</th>\n",
       "      <th>self</th>\n",
       "      <th>other</th>\n",
       "      <th>self</th>\n",
       "      <th>other</th>\n",
       "      <th>self</th>\n",
       "      <th>other</th>\n",
       "      <th>self</th>\n",
       "      <th>other</th>\n",
       "    </tr>\n",
       "    <tr>\n",
       "      <th>Taz_num</th>\n",
       "      <th></th>\n",
       "      <th></th>\n",
       "      <th></th>\n",
       "      <th></th>\n",
       "      <th></th>\n",
       "      <th></th>\n",
       "      <th></th>\n",
       "      <th></th>\n",
       "      <th></th>\n",
       "      <th></th>\n",
       "      <th></th>\n",
       "      <th></th>\n",
       "    </tr>\n",
       "  </thead>\n",
       "  <tbody>\n",
       "    <tr>\n",
       "      <th>8922</th>\n",
       "      <td>23035.211010</td>\n",
       "      <td>23381.284862</td>\n",
       "      <td>24647.675781</td>\n",
       "      <td>25017.974802</td>\n",
       "      <td>26126.536327</td>\n",
       "      <td>26519.053290</td>\n",
       "      <td>27694.128507</td>\n",
       "      <td>28110.196488</td>\n",
       "      <td>29166.391330</td>\n",
       "      <td>29604.578129</td>\n",
       "      <td>30679.175960</td>\n",
       "      <td>31140.090366</td>\n",
       "    </tr>\n",
       "    <tr>\n",
       "      <th>8923</th>\n",
       "      <td>9763.874814</td>\n",
       "      <td>9260.656768</td>\n",
       "      <td>10447.346051</td>\n",
       "      <td>9908.902742</td>\n",
       "      <td>11074.186814</td>\n",
       "      <td>10503.436906</td>\n",
       "      <td>11738.638023</td>\n",
       "      <td>11133.643120</td>\n",
       "      <td>12362.682226</td>\n",
       "      <td>11725.524856</td>\n",
       "      <td>13003.902301</td>\n",
       "      <td>12333.697241</td>\n",
       "    </tr>\n",
       "    <tr>\n",
       "      <th>8924</th>\n",
       "      <td>10459.760683</td>\n",
       "      <td>10616.904877</td>\n",
       "      <td>11191.943931</td>\n",
       "      <td>11360.088219</td>\n",
       "      <td>11863.460567</td>\n",
       "      <td>12041.693512</td>\n",
       "      <td>12575.268201</td>\n",
       "      <td>12764.195122</td>\n",
       "      <td>13243.788962</td>\n",
       "      <td>13442.759531</td>\n",
       "      <td>13930.709745</td>\n",
       "      <td>14140.000399</td>\n",
       "    </tr>\n",
       "  </tbody>\n",
       "</table>\n",
       "</div>"
      ],
      "text/plain": [
       "        pop_without_dorms_yeshiva_2025                \\\n",
       "                                  self         other   \n",
       "Taz_num                                                \n",
       "8922                      23035.211010  23381.284862   \n",
       "8923                       9763.874814   9260.656768   \n",
       "8924                      10459.760683  10616.904877   \n",
       "\n",
       "        pop_without_dorms_yeshiva_2030                \\\n",
       "                                  self         other   \n",
       "Taz_num                                                \n",
       "8922                      24647.675781  25017.974802   \n",
       "8923                      10447.346051   9908.902742   \n",
       "8924                      11191.943931  11360.088219   \n",
       "\n",
       "        pop_without_dorms_yeshiva_2035                \\\n",
       "                                  self         other   \n",
       "Taz_num                                                \n",
       "8922                      26126.536327  26519.053290   \n",
       "8923                      11074.186814  10503.436906   \n",
       "8924                      11863.460567  12041.693512   \n",
       "\n",
       "        pop_without_dorms_yeshiva_2040                \\\n",
       "                                  self         other   \n",
       "Taz_num                                                \n",
       "8922                      27694.128507  28110.196488   \n",
       "8923                      11738.638023  11133.643120   \n",
       "8924                      12575.268201  12764.195122   \n",
       "\n",
       "        pop_without_dorms_yeshiva_2045                \\\n",
       "                                  self         other   \n",
       "Taz_num                                                \n",
       "8922                      29166.391330  29604.578129   \n",
       "8923                      12362.682226  11725.524856   \n",
       "8924                      13243.788962  13442.759531   \n",
       "\n",
       "        pop_without_dorms_yeshiva_2050                \n",
       "                                  self         other  \n",
       "Taz_num                                               \n",
       "8922                      30679.175960  31140.090366  \n",
       "8923                      13003.902301  12333.697241  \n",
       "8924                      13930.709745  14140.000399  "
      ]
     },
     "execution_count": 98,
     "metadata": {},
     "output_type": "execute_result"
    }
   ],
   "source": [
    "df1.compare(df2)"
   ]
  },
  {
   "cell_type": "code",
   "execution_count": null,
   "metadata": {},
   "outputs": [],
   "source": [
    "# הקבצים שאנחנו רוצים להשוות\n",
    "df1_summer = pd.read_excel(r\"C:\\Users\\dpere\\Documents\\JTMT\\קיץ\\forecast_by_version\\230720_forecast_2020_till_2050_bau.xlsx\").set_index('Taz_num').sort_index()\n",
    "df2_now = pd.read_excel(r\"C:\\Users\\dpere\\Documents\\JTMT\\forecast_by_version\\V4\\BASE_YEAR\\240318_forecast_2020_till_2050_bau.xlsx\").set_index('Taz_num').sort_index() "
   ]
  },
  {
   "cell_type": "code",
   "execution_count": null,
   "metadata": {},
   "outputs": [],
   "source": [
    "# sum1 = df1['pop_0'].sum()\n",
    "# sum2 = df2['pop_0'].sum()\n",
    "# sum1 - sum2"
   ]
  },
  {
   "cell_type": "code",
   "execution_count": null,
   "metadata": {},
   "outputs": [],
   "source": [
    "# Filter the DataFrame based on 'zonetype' column\n",
    "df1_filtered = df1_summer[df1_summer['zonetype'] == 'Jerusalem']\n",
    "df2_filtered = df2_now[df2_now['zonetype'] == 'Jerusalem']\n",
    "\n",
    "# Group by 'main_sector' and sum 'pop_70' for each group\n",
    "sum_by_sector1 = df1_filtered.groupby('main_secto')['total_emp'].sum()\n",
    "sum_by_sector1['Arab'] = sum_by_sector1['Arab'] + sum_by_sector1['arabs_behined_seperation_wall']\n",
    "\n",
    "# Group by 'main_sector' and sum 'pop_70' for each group\n",
    "sum_by_sector2 = df2_filtered.groupby('main_secto')['total_emp'].sum()\n",
    "sum_by_sector2['Arab'] = sum_by_sector2['Arab'] + sum_by_sector2['arabs_behined_seperation_wall']\n",
    "\n",
    "sum_by_sector2\n",
    "sum_by_sector1-sum_by_sector2"
   ]
  },
  {
   "cell_type": "code",
   "execution_count": null,
   "metadata": {},
   "outputs": [],
   "source": [
    "for col in df1_summer.columns:\n",
    "    df1_summer[col] = pd.to_numeric(df1_summer[col], errors='coerce')\n",
    "\n",
    "for col in df2_now.columns:\n",
    "    df2_now[col] = pd.to_numeric(df2_now[col], errors='coerce')"
   ]
  },
  {
   "cell_type": "code",
   "execution_count": null,
   "metadata": {},
   "outputs": [],
   "source": [
    "# # Filter the DataFrame based on 'zonetype' column\n",
    "# df_filtered = df2_summer[df2_summer['zonetype'] == 'Jerusalem']\n",
    "\n",
    "# # Group by 'main_sector' and sum 'pop_70' for each group\n",
    "# sum_by_sector = df_filtered.groupby('group')['pop_0'].sum()\n",
    "# # sum_by_sector['Arab'] = sum_by_sector['Arab'] + sum_by_sector['arabs_behined_seperation_wall']\n",
    "# # sum_by_sector['arabs_behined_seperation_wall'] = 0\n",
    "# # sum_by_sector\n",
    "# sum_by_sector"
   ]
  },
  {
   "cell_type": "code",
   "execution_count": null,
   "metadata": {},
   "outputs": [],
   "source": [
    "# compare= df1_summer.apply(np.ceil).compare(df2_now.apply(np.ceil))\n",
    "compare = df1_summer.apply(lambda x: np.ceil(x / 10) * 10).compare(df2_now.apply(lambda x: np.ceil(x / 10) * 10))"
   ]
  },
  {
   "cell_type": "code",
   "execution_count": null,
   "metadata": {},
   "outputs": [],
   "source": [
    "# compare = df1_summer.compare(df2_now)\n",
    "name = '230720_pop_2025_bau'\n",
    "# compare.to_excel(r\"C:\\Users\\dpere\\Documents\\JTMT\\compare\\{}_compare.xlsx\".format(name))\n",
    "# compare"
   ]
  }
 ],
 "metadata": {
  "kernelspec": {
   "display_name": "creat_forecast_ad_hoc_env",
   "language": "python",
   "name": "python3"
  },
  "language_info": {
   "codemirror_mode": {
    "name": "ipython",
    "version": 3
   },
   "file_extension": ".py",
   "mimetype": "text/x-python",
   "name": "python",
   "nbconvert_exporter": "python",
   "pygments_lexer": "ipython3",
   "version": "3.11.5"
  }
 },
 "nbformat": 4,
 "nbformat_minor": 2
}
