{
 "cells": [
  {
   "cell_type": "code",
   "execution_count": 1,
   "metadata": {},
   "outputs": [],
   "source": [
    "import pandas as pd\n",
    "import numpy as np"
   ]
  },
  {
   "cell_type": "code",
   "execution_count": 2,
   "metadata": {},
   "outputs": [
    {
     "data": {
      "text/plain": [
       "False"
      ]
     },
     "execution_count": 2,
     "metadata": {},
     "output_type": "execute_result"
    }
   ],
   "source": [
    "# הקבצים שאנחנו רוצים להשוות\n",
    "df1 = pd.read_excel(r\"C:\\Users\\dpere\\Documents\\JTMT\\forecast_archive\\forecast-create_ABM_forecast_v1.3\\create_forecast_basic\\future\\arab_and_palestinian\\Intermediates\\taz_demo_pls_2020_and_pre_growth_till_2050.xlsx\").set_index('Taz_num').sort_index()\n",
    "df2 = pd.read_excel(r\"C:\\Users\\dpere\\Documents\\JTMT\\forecast_git\\create_forecast_basic\\future\\arab_and_palestinian\\Intermediates\\taz_demo_pls_2020_and_pre_growth_till_2050.xlsx\").set_index('Taz_num').sort_index() \n",
    "df1.equals(df2)"
   ]
  },
  {
   "cell_type": "code",
   "execution_count": 4,
   "metadata": {},
   "outputs": [
    {
     "name": "stdout",
     "output_type": "stream",
     "text": [
      "df1:  2756496.5554535124\n",
      "df2:  2756496.555453513\n"
     ]
    }
   ],
   "source": [
    "print('df1: ', df1['pop_2020'].sum())\n",
    "print('df2: ', df2['pop_2020'].sum())"
   ]
  },
  {
   "cell_type": "code",
   "execution_count": 3,
   "metadata": {},
   "outputs": [
    {
     "data": {
      "text/html": [
       "<div>\n",
       "<style scoped>\n",
       "    .dataframe tbody tr th:only-of-type {\n",
       "        vertical-align: middle;\n",
       "    }\n",
       "\n",
       "    .dataframe tbody tr th {\n",
       "        vertical-align: top;\n",
       "    }\n",
       "\n",
       "    .dataframe thead tr th {\n",
       "        text-align: left;\n",
       "    }\n",
       "\n",
       "    .dataframe thead tr:last-of-type th {\n",
       "        text-align: right;\n",
       "    }\n",
       "</style>\n",
       "<table border=\"1\" class=\"dataframe\">\n",
       "  <thead>\n",
       "    <tr>\n",
       "      <th></th>\n",
       "      <th colspan=\"2\" halign=\"left\">pop_2020</th>\n",
       "    </tr>\n",
       "    <tr>\n",
       "      <th></th>\n",
       "      <th>self</th>\n",
       "      <th>other</th>\n",
       "    </tr>\n",
       "    <tr>\n",
       "      <th>Taz_num</th>\n",
       "      <th></th>\n",
       "      <th></th>\n",
       "    </tr>\n",
       "  </thead>\n",
       "  <tbody>\n",
       "    <tr>\n",
       "      <th>3608</th>\n",
       "      <td>1056.376144</td>\n",
       "      <td>1056.376144</td>\n",
       "    </tr>\n",
       "    <tr>\n",
       "      <th>7043</th>\n",
       "      <td>3351.030090</td>\n",
       "      <td>3351.030090</td>\n",
       "    </tr>\n",
       "    <tr>\n",
       "      <th>7101</th>\n",
       "      <td>2962.840831</td>\n",
       "      <td>2962.840831</td>\n",
       "    </tr>\n",
       "    <tr>\n",
       "      <th>7102</th>\n",
       "      <td>13657.092560</td>\n",
       "      <td>13657.092560</td>\n",
       "    </tr>\n",
       "    <tr>\n",
       "      <th>7104</th>\n",
       "      <td>7745.569440</td>\n",
       "      <td>7745.569440</td>\n",
       "    </tr>\n",
       "    <tr>\n",
       "      <th>...</th>\n",
       "      <td>...</td>\n",
       "      <td>...</td>\n",
       "    </tr>\n",
       "    <tr>\n",
       "      <th>8970</th>\n",
       "      <td>35620.447820</td>\n",
       "      <td>35620.447820</td>\n",
       "    </tr>\n",
       "    <tr>\n",
       "      <th>8971</th>\n",
       "      <td>36729.908163</td>\n",
       "      <td>36729.908163</td>\n",
       "    </tr>\n",
       "    <tr>\n",
       "      <th>8972</th>\n",
       "      <td>25183.069603</td>\n",
       "      <td>25183.069603</td>\n",
       "    </tr>\n",
       "    <tr>\n",
       "      <th>8974</th>\n",
       "      <td>34829.099590</td>\n",
       "      <td>34829.099590</td>\n",
       "    </tr>\n",
       "    <tr>\n",
       "      <th>8979</th>\n",
       "      <td>25601.043945</td>\n",
       "      <td>25601.043945</td>\n",
       "    </tr>\n",
       "  </tbody>\n",
       "</table>\n",
       "<p>80 rows × 2 columns</p>\n",
       "</div>"
      ],
      "text/plain": [
       "             pop_2020              \n",
       "                 self         other\n",
       "Taz_num                            \n",
       "3608      1056.376144   1056.376144\n",
       "7043      3351.030090   3351.030090\n",
       "7101      2962.840831   2962.840831\n",
       "7102     13657.092560  13657.092560\n",
       "7104      7745.569440   7745.569440\n",
       "...               ...           ...\n",
       "8970     35620.447820  35620.447820\n",
       "8971     36729.908163  36729.908163\n",
       "8972     25183.069603  25183.069603\n",
       "8974     34829.099590  34829.099590\n",
       "8979     25601.043945  25601.043945\n",
       "\n",
       "[80 rows x 2 columns]"
      ]
     },
     "execution_count": 3,
     "metadata": {},
     "output_type": "execute_result"
    }
   ],
   "source": [
    "df1.compare(df2)"
   ]
  },
  {
   "cell_type": "code",
   "execution_count": null,
   "metadata": {},
   "outputs": [],
   "source": [
    "# הקבצים שאנחנו רוצים להשוות\n",
    "df1_summer = pd.read_excel(r\"C:\\Users\\dpere\\Documents\\JTMT\\קיץ\\forecast_by_version\\230720_forecast_2020_till_2050_bau.xlsx\").set_index('Taz_num').sort_index()\n",
    "df2_now = pd.read_excel(r\"C:\\Users\\dpere\\Documents\\JTMT\\forecast_by_version\\V4\\BASE_YEAR\\240318_forecast_2020_till_2050_bau.xlsx\").set_index('Taz_num').sort_index() "
   ]
  },
  {
   "cell_type": "code",
   "execution_count": null,
   "metadata": {},
   "outputs": [],
   "source": [
    "# sum1 = df1['pop_0'].sum()\n",
    "# sum2 = df2['pop_0'].sum()\n",
    "# sum1 - sum2"
   ]
  },
  {
   "cell_type": "code",
   "execution_count": null,
   "metadata": {},
   "outputs": [],
   "source": [
    "# Filter the DataFrame based on 'zonetype' column\n",
    "df1_filtered = df1_summer[df1_summer['zonetype'] == 'Jerusalem']\n",
    "df2_filtered = df2_now[df2_now['zonetype'] == 'Jerusalem']\n",
    "\n",
    "# Group by 'main_sector' and sum 'pop_70' for each group\n",
    "sum_by_sector1 = df1_filtered.groupby('main_secto')['total_emp'].sum()\n",
    "sum_by_sector1['Arab'] = sum_by_sector1['Arab'] + sum_by_sector1['arabs_behined_seperation_wall']\n",
    "\n",
    "# Group by 'main_sector' and sum 'pop_70' for each group\n",
    "sum_by_sector2 = df2_filtered.groupby('main_secto')['total_emp'].sum()\n",
    "sum_by_sector2['Arab'] = sum_by_sector2['Arab'] + sum_by_sector2['arabs_behined_seperation_wall']\n",
    "\n",
    "sum_by_sector2\n",
    "sum_by_sector1-sum_by_sector2"
   ]
  },
  {
   "cell_type": "code",
   "execution_count": null,
   "metadata": {},
   "outputs": [],
   "source": [
    "for col in df1_summer.columns:\n",
    "    df1_summer[col] = pd.to_numeric(df1_summer[col], errors='coerce')\n",
    "\n",
    "for col in df2_now.columns:\n",
    "    df2_now[col] = pd.to_numeric(df2_now[col], errors='coerce')"
   ]
  },
  {
   "cell_type": "code",
   "execution_count": null,
   "metadata": {},
   "outputs": [],
   "source": [
    "# # Filter the DataFrame based on 'zonetype' column\n",
    "# df_filtered = df2_summer[df2_summer['zonetype'] == 'Jerusalem']\n",
    "\n",
    "# # Group by 'main_sector' and sum 'pop_70' for each group\n",
    "# sum_by_sector = df_filtered.groupby('group')['pop_0'].sum()\n",
    "# # sum_by_sector['Arab'] = sum_by_sector['Arab'] + sum_by_sector['arabs_behined_seperation_wall']\n",
    "# # sum_by_sector['arabs_behined_seperation_wall'] = 0\n",
    "# # sum_by_sector\n",
    "# sum_by_sector"
   ]
  },
  {
   "cell_type": "code",
   "execution_count": null,
   "metadata": {},
   "outputs": [],
   "source": [
    "# compare= df1_summer.apply(np.ceil).compare(df2_now.apply(np.ceil))\n",
    "compare = df1_summer.apply(lambda x: np.ceil(x / 10) * 10).compare(df2_now.apply(lambda x: np.ceil(x / 10) * 10))"
   ]
  },
  {
   "cell_type": "code",
   "execution_count": null,
   "metadata": {},
   "outputs": [],
   "source": [
    "# compare = df1_summer.compare(df2_now)\n",
    "name = '230720_pop_2025_bau'\n",
    "# compare.to_excel(r\"C:\\Users\\dpere\\Documents\\JTMT\\compare\\{}_compare.xlsx\".format(name))\n",
    "# compare"
   ]
  }
 ],
 "metadata": {
  "kernelspec": {
   "display_name": "creat_forecast_ad_hoc_env",
   "language": "python",
   "name": "python3"
  },
  "language_info": {
   "codemirror_mode": {
    "name": "ipython",
    "version": 3
   },
   "file_extension": ".py",
   "mimetype": "text/x-python",
   "name": "python",
   "nbconvert_exporter": "python",
   "pygments_lexer": "ipython3",
   "version": "3.11.5"
  }
 },
 "nbformat": 4,
 "nbformat_minor": 2
}
