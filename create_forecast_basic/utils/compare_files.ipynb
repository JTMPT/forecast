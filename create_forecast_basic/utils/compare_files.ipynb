{
 "cells": [
  {
   "cell_type": "code",
   "execution_count": 56,
   "metadata": {},
   "outputs": [],
   "source": [
    "import pandas as pd\n",
    "import numpy as np"
   ]
  },
  {
   "cell_type": "code",
   "execution_count": 61,
   "metadata": {},
   "outputs": [
    {
     "data": {
      "text/plain": [
       "True"
      ]
     },
     "execution_count": 61,
     "metadata": {},
     "output_type": "execute_result"
    }
   ],
   "source": [
    "# הקבצים שאנחנו רוצים להשוות\n",
    "df1 = pd.read_excel(r\"C:\\Users\\dpere\\Documents\\Bandicut\\‏‏תיקיה חדשה (4)\\‏‏תיקיה חדשה (3)\\taz_demo_pls_2020_and_pre_growth_till_2050.xlsx\").set_index('Taz_num').sort_index()\n",
    "df2 = pd.read_excel(r\"C:\\Users\\dpere\\Documents\\JTMT\\forecast_git\\create_forecast_basic\\future\\arab_and_palestinian\\Intermediates\\taz_demo_pls_2020_and_pre_growth_till_2050.xlsx\").set_index('Taz_num').sort_index() \n",
    "# df1 = pd.read_excel(r\"C:\\Users\\dpere\\Documents\\JTMT\\forecast_by_version\\V4\\240421_forecast_2020_till_2050_jtmt.xlsx\").set_index('Taz_num').sort_index()\n",
    "# df2 = pd.read_excel(r\"C:\\Users\\dpere\\Documents\\JTMT\\forecast_by_version\\V4\\240501_forecast_2020_till_2050_jtmt.xlsx\").set_index('Taz_num').sort_index() \n",
    "df1.equals(df2)"
   ]
  },
  {
   "cell_type": "code",
   "execution_count": 58,
   "metadata": {},
   "outputs": [
    {
     "name": "stdout",
     "output_type": "stream",
     "text": [
      "df1 index:  157\n",
      "df2 index:  157\n"
     ]
    }
   ],
   "source": [
    "print('df1 index: ', len(df1.index))\n",
    "print('df2 index: ', len(df2.index))"
   ]
  },
  {
   "cell_type": "code",
   "execution_count": 59,
   "metadata": {},
   "outputs": [],
   "source": [
    "# print('df1: ', df1['Indus'].sum())\n",
    "# print('df2: ', df2['Indus'].sum())"
   ]
  },
  {
   "cell_type": "code",
   "execution_count": 60,
   "metadata": {},
   "outputs": [
    {
     "data": {
      "text/html": [
       "<div>\n",
       "<style scoped>\n",
       "    .dataframe tbody tr th:only-of-type {\n",
       "        vertical-align: middle;\n",
       "    }\n",
       "\n",
       "    .dataframe tbody tr th {\n",
       "        vertical-align: top;\n",
       "    }\n",
       "\n",
       "    .dataframe thead tr th {\n",
       "        text-align: left;\n",
       "    }\n",
       "\n",
       "    .dataframe thead tr:last-of-type th {\n",
       "        text-align: right;\n",
       "    }\n",
       "</style>\n",
       "<table border=\"1\" class=\"dataframe\">\n",
       "  <thead>\n",
       "    <tr>\n",
       "      <th></th>\n",
       "      <th colspan=\"2\" halign=\"left\">pop_2020</th>\n",
       "    </tr>\n",
       "    <tr>\n",
       "      <th></th>\n",
       "      <th>self</th>\n",
       "      <th>other</th>\n",
       "    </tr>\n",
       "    <tr>\n",
       "      <th>Taz_num</th>\n",
       "      <th></th>\n",
       "      <th></th>\n",
       "    </tr>\n",
       "  </thead>\n",
       "  <tbody>\n",
       "    <tr>\n",
       "      <th>8922</th>\n",
       "      <td>21133.221110</td>\n",
       "      <td>21450.720057</td>\n",
       "    </tr>\n",
       "    <tr>\n",
       "      <th>8923</th>\n",
       "      <td>8957.683315</td>\n",
       "      <td>8496.015383</td>\n",
       "    </tr>\n",
       "    <tr>\n",
       "      <th>8924</th>\n",
       "      <td>9596.110718</td>\n",
       "      <td>9740.279704</td>\n",
       "    </tr>\n",
       "  </tbody>\n",
       "</table>\n",
       "</div>"
      ],
      "text/plain": [
       "             pop_2020              \n",
       "                 self         other\n",
       "Taz_num                            \n",
       "8922     21133.221110  21450.720057\n",
       "8923      8957.683315   8496.015383\n",
       "8924      9596.110718   9740.279704"
      ]
     },
     "execution_count": 60,
     "metadata": {},
     "output_type": "execute_result"
    }
   ],
   "source": [
    "df1.compare(df2)"
   ]
  },
  {
   "cell_type": "code",
   "execution_count": null,
   "metadata": {},
   "outputs": [],
   "source": [
    "# הקבצים שאנחנו רוצים להשוות\n",
    "df1_summer = pd.read_excel(r\"C:\\Users\\dpere\\Documents\\JTMT\\קיץ\\forecast_by_version\\230720_forecast_2020_till_2050_bau.xlsx\").set_index('Taz_num').sort_index()\n",
    "df2_now = pd.read_excel(r\"C:\\Users\\dpere\\Documents\\JTMT\\forecast_by_version\\V4\\BASE_YEAR\\240318_forecast_2020_till_2050_bau.xlsx\").set_index('Taz_num').sort_index() "
   ]
  },
  {
   "cell_type": "code",
   "execution_count": null,
   "metadata": {},
   "outputs": [],
   "source": [
    "# sum1 = df1['pop_0'].sum()\n",
    "# sum2 = df2['pop_0'].sum()\n",
    "# sum1 - sum2"
   ]
  },
  {
   "cell_type": "code",
   "execution_count": null,
   "metadata": {},
   "outputs": [],
   "source": [
    "# Filter the DataFrame based on 'zonetype' column\n",
    "df1_filtered = df1_summer[df1_summer['zonetype'] == 'Jerusalem']\n",
    "df2_filtered = df2_now[df2_now['zonetype'] == 'Jerusalem']\n",
    "\n",
    "# Group by 'main_sector' and sum 'pop_70' for each group\n",
    "sum_by_sector1 = df1_filtered.groupby('main_secto')['total_emp'].sum()\n",
    "sum_by_sector1['Arab'] = sum_by_sector1['Arab'] + sum_by_sector1['arabs_behined_seperation_wall']\n",
    "\n",
    "# Group by 'main_sector' and sum 'pop_70' for each group\n",
    "sum_by_sector2 = df2_filtered.groupby('main_secto')['total_emp'].sum()\n",
    "sum_by_sector2['Arab'] = sum_by_sector2['Arab'] + sum_by_sector2['arabs_behined_seperation_wall']\n",
    "\n",
    "sum_by_sector2\n",
    "sum_by_sector1-sum_by_sector2"
   ]
  },
  {
   "cell_type": "code",
   "execution_count": null,
   "metadata": {},
   "outputs": [],
   "source": [
    "for col in df1_summer.columns:\n",
    "    df1_summer[col] = pd.to_numeric(df1_summer[col], errors='coerce')\n",
    "\n",
    "for col in df2_now.columns:\n",
    "    df2_now[col] = pd.to_numeric(df2_now[col], errors='coerce')"
   ]
  },
  {
   "cell_type": "code",
   "execution_count": null,
   "metadata": {},
   "outputs": [],
   "source": [
    "# # Filter the DataFrame based on 'zonetype' column\n",
    "# df_filtered = df2_summer[df2_summer['zonetype'] == 'Jerusalem']\n",
    "\n",
    "# # Group by 'main_sector' and sum 'pop_70' for each group\n",
    "# sum_by_sector = df_filtered.groupby('group')['pop_0'].sum()\n",
    "# # sum_by_sector['Arab'] = sum_by_sector['Arab'] + sum_by_sector['arabs_behined_seperation_wall']\n",
    "# # sum_by_sector['arabs_behined_seperation_wall'] = 0\n",
    "# # sum_by_sector\n",
    "# sum_by_sector"
   ]
  },
  {
   "cell_type": "code",
   "execution_count": null,
   "metadata": {},
   "outputs": [],
   "source": [
    "# compare= df1_summer.apply(np.ceil).compare(df2_now.apply(np.ceil))\n",
    "compare = df1_summer.apply(lambda x: np.ceil(x / 10) * 10).compare(df2_now.apply(lambda x: np.ceil(x / 10) * 10))"
   ]
  },
  {
   "cell_type": "code",
   "execution_count": null,
   "metadata": {},
   "outputs": [],
   "source": [
    "# compare = df1_summer.compare(df2_now)\n",
    "name = '230720_pop_2025_bau'\n",
    "# compare.to_excel(r\"C:\\Users\\dpere\\Documents\\JTMT\\compare\\{}_compare.xlsx\".format(name))\n",
    "# compare"
   ]
  }
 ],
 "metadata": {
  "kernelspec": {
   "display_name": "creat_forecast_ad_hoc_env",
   "language": "python",
   "name": "python3"
  },
  "language_info": {
   "codemirror_mode": {
    "name": "ipython",
    "version": 3
   },
   "file_extension": ".py",
   "mimetype": "text/x-python",
   "name": "python",
   "nbconvert_exporter": "python",
   "pygments_lexer": "ipython3",
   "version": "3.11.5"
  }
 },
 "nbformat": 4,
 "nbformat_minor": 2
}
