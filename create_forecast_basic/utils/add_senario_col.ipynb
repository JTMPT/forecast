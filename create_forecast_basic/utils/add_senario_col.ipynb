{
 "cells": [
  {
   "cell_type": "markdown",
   "metadata": {},
   "source": [
    "#### ספריות"
   ]
  },
  {
   "cell_type": "code",
   "execution_count": 1,
   "metadata": {},
   "outputs": [],
   "source": [
    "import pandas as pd\n",
    "import os\n",
    "import sys\n",
    "import glob"
   ]
  },
  {
   "cell_type": "markdown",
   "metadata": {},
   "source": [
    "#### העלאת משתנים להרצת הקוד"
   ]
  },
  {
   "cell_type": "code",
   "execution_count": 2,
   "metadata": {},
   "outputs": [],
   "source": [
    "cwd = os.getcwd()\n",
    "\n",
    "create_forecast_basic_folder_path = os.path.dirname(cwd)\n",
    "\n",
    "sys.path.append(create_forecast_basic_folder_path)"
   ]
  },
  {
   "cell_type": "markdown",
   "metadata": {},
   "source": [
    "### פונקציות גלובליות"
   ]
  },
  {
   "cell_type": "code",
   "execution_count": 3,
   "metadata": {},
   "outputs": [],
   "source": [
    "from global_functions import get_forecast_version_folder_location"
   ]
  },
  {
   "cell_type": "markdown",
   "metadata": {},
   "source": [
    "### פונקציות"
   ]
  },
  {
   "cell_type": "code",
   "execution_count": 4,
   "metadata": {},
   "outputs": [],
   "source": [
    "# בדיקה אם זה קובץ אקסל\n",
    "def is_xlsx_file(filename):\n",
    "  base, ext = os.path.splitext(filename)\n",
    "  return ext.lower() == \".xlsx\""
   ]
  },
  {
   "cell_type": "code",
   "execution_count": 5,
   "metadata": {},
   "outputs": [],
   "source": [
    "# הוספת עמודת תרחיש לתחזיות\n",
    "def add_senario_col_of_forecast(dir_path, senario):\n",
    "    for filename in os.listdir(dir_path):\n",
    "        if is_xlsx_file(filename):\n",
    "            # בדיקת שם הקובץ\n",
    "            if senario in filename:\n",
    "                # קריאה של קובץ אקסל ל-DataFrame\n",
    "                df = pd.read_excel(os.path.join(dir_path, filename))\n",
    "\n",
    "                # הוספת עמודה חדשה בשם \"senario\"\n",
    "                df['senario'] = senario.upper()\n",
    "\n",
    "                # שמירת ה-DataFrame בחזרה לקובץ אקסל\n",
    "                df.to_excel(os.path.join(dir_path, filename), index=False)"
   ]
  },
  {
   "cell_type": "code",
   "execution_count": 6,
   "metadata": {},
   "outputs": [],
   "source": [
    "# הוספת עמודת תרחיש לתיקיות של החזיות\n",
    "def add_senario_col_by_senario_folder(dir_path, senario):\n",
    "    for filename in os.listdir(dir_path):\n",
    "        if is_xlsx_file(filename):\n",
    "            # קריאה של קובץ אקסל ל-DataFrame\n",
    "            df = pd.read_excel(os.path.join(dir_path, filename))\n",
    "\n",
    "            # הוספת עמודה חדשה בשם \"senario\"\n",
    "            df['senario'] = senario.upper()\n",
    "\n",
    "            # שמירת ה-DataFrame בחזרה לקובץ אקסל\n",
    "            df.to_excel(os.path.join(dir_path, filename), index=False)"
   ]
  },
  {
   "cell_type": "code",
   "execution_count": 7,
   "metadata": {},
   "outputs": [],
   "source": [
    "# פונקציה זו מוצאת את כל נתיבי התיקיות המשנה בתוך תיקייה נתונה\n",
    "def find_subfolders(dir_path):\n",
    "  return glob.glob(os.path.join(dir_path, \"*\"), recursive=True)\n"
   ]
  },
  {
   "cell_type": "code",
   "execution_count": 8,
   "metadata": {},
   "outputs": [],
   "source": [
    "forecast_version_folder_location = get_forecast_version_folder_location(r'{}\\background_files\\forecast_version_folder_location.txt'.format(create_forecast_basic_folder_path))"
   ]
  },
  {
   "cell_type": "markdown",
   "metadata": {},
   "source": [
    "### הוספת עמודת תרחיש לתחזיות"
   ]
  },
  {
   "cell_type": "code",
   "execution_count": 9,
   "metadata": {},
   "outputs": [],
   "source": [
    "senarios = ['jtmt', 'iplan', 'bau']\n",
    "\n",
    "for senario in senarios:\n",
    "    add_senario_col_of_forecast(forecast_version_folder_location, senario)"
   ]
  },
  {
   "cell_type": "markdown",
   "metadata": {},
   "source": [
    "### הוספת עמודת תרחיש לתיקיות של החזיות"
   ]
  },
  {
   "cell_type": "code",
   "execution_count": 10,
   "metadata": {},
   "outputs": [],
   "source": [
    "subfolders = find_subfolders(forecast_version_folder_location)\n",
    "\n",
    "for subfolder in subfolders:\n",
    "  if os.path.isdir(subfolder):\n",
    "    add_senario_col_by_senario_folder(subfolder, subfolder[53:])"
   ]
  }
 ],
 "metadata": {
  "kernelspec": {
   "display_name": "creat_forecast_ad_hoc_env",
   "language": "python",
   "name": "python3"
  },
  "language_info": {
   "codemirror_mode": {
    "name": "ipython",
    "version": 3
   },
   "file_extension": ".py",
   "mimetype": "text/x-python",
   "name": "python",
   "nbconvert_exporter": "python",
   "pygments_lexer": "ipython3",
   "version": "3.11.5"
  }
 },
 "nbformat": 4,
 "nbformat_minor": 2
}
