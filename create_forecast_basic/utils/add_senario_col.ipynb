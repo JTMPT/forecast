{
 "cells": [
  {
   "cell_type": "code",
   "execution_count": 1,
   "metadata": {},
   "outputs": [],
   "source": [
    "import pandas as pd\n",
    "import os"
   ]
  },
  {
   "cell_type": "code",
   "execution_count": 2,
   "metadata": {},
   "outputs": [],
   "source": [
    "def is_xlsx_file(filename):\n",
    "  \"\"\"\n",
    "  פונקציה זו בודקת אם קובץ נתון הוא מסוג XLSX.\n",
    "\n",
    "  Args:\n",
    "    filename: שם הקובץ.\n",
    "\n",
    "  Returns:\n",
    "    True אם הקובץ הוא מסוג XLSX, False אחרת.\n",
    "  \"\"\"\n",
    "  base, ext = os.path.splitext(filename)\n",
    "  return ext.lower() == \".xlsx\""
   ]
  },
  {
   "cell_type": "code",
   "execution_count": 3,
   "metadata": {},
   "outputs": [],
   "source": [
    "def add_senario_col_of_forecast(dir_path, senario):\n",
    "    for filename in os.listdir(dir_path):\n",
    "        if is_xlsx_file(filename):\n",
    "            # בדיקת שם הקובץ\n",
    "            if senario in filename:\n",
    "                # קריאה של קובץ אקסל ל-DataFrame\n",
    "                df = pd.read_excel(os.path.join(dir_path, filename))\n",
    "\n",
    "                # הוספת עמודה חדשה בשם \"senario\"\n",
    "                df['senario'] = senario.upper()\n",
    "\n",
    "                # שמירת ה-DataFrame בחזרה לקובץ אקסל\n",
    "                df.to_excel(os.path.join(dir_path, filename), index=False)"
   ]
  },
  {
   "cell_type": "code",
   "execution_count": 4,
   "metadata": {},
   "outputs": [
    {
     "name": "stdout",
     "output_type": "stream",
     "text": [
      "Done\n",
      "Done\n",
      "Done\n"
     ]
    }
   ],
   "source": [
    "# הגדרת נתיב התיקייה\n",
    "dir_path = r\"C:\\Users\\dpere\\Documents\\JTMT\\forecast_by_version\\V4\"\n",
    "\n",
    "senarios = ['jtmt', 'iplan', 'bau']\n",
    "\n",
    "for senario in senarios:\n",
    "    add_senario_col_of_forecast(dir_path, senario)"
   ]
  }
 ],
 "metadata": {
  "kernelspec": {
   "display_name": "creat_forecast_ad_hoc_env",
   "language": "python",
   "name": "python3"
  },
  "language_info": {
   "codemirror_mode": {
    "name": "ipython",
    "version": 3
   },
   "file_extension": ".py",
   "mimetype": "text/x-python",
   "name": "python",
   "nbconvert_exporter": "python",
   "pygments_lexer": "ipython3",
   "version": "3.11.5"
  }
 },
 "nbformat": 4,
 "nbformat_minor": 2
}
