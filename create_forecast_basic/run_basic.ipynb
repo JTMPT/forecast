{
 "cells": [
  {
   "cell_type": "code",
   "execution_count": 1,
   "metadata": {},
   "outputs": [],
   "source": [
    "import os\n",
    "import sys"
   ]
  },
  {
   "cell_type": "code",
   "execution_count": 2,
   "metadata": {},
   "outputs": [],
   "source": [
    "cwd = os.getcwd()\n",
    "\n",
    "arab_and_palestinian_directory = r'{}\\arab_and_palestinian'.format(cwd)\n",
    "\n",
    "current_directory = r'{}\\current'.format(cwd)\n",
    "\n",
    "future_directory = r'{}\\future'.format(cwd)\n",
    "\n",
    "comparison_tools_directory = r'{}\\comparison_tools'.format(cwd)\n",
    "\n",
    "utils_directory = r'{}\\utils'.format(cwd)"
   ]
  },
  {
   "cell_type": "code",
   "execution_count": 3,
   "metadata": {},
   "outputs": [],
   "source": [
    "sys.path.append(arab_and_palestinian_directory)\n",
    "sys.path.append(current_directory)\n",
    "sys.path.append(future_directory)\n",
    "sys.path.append(comparison_tools_directory)\n",
    "sys.path.append(utils_directory)"
   ]
  },
  {
   "cell_type": "code",
   "execution_count": 4,
   "metadata": {},
   "outputs": [],
   "source": [
    "import run_current_from_basic\n",
    "import run_future_from_basic\n",
    "import run_forecast_comparisons_from_basic\n",
    "import run_utils_from_basic"
   ]
  },
  {
   "cell_type": "code",
   "execution_count": 5,
   "metadata": {},
   "outputs": [],
   "source": [
    "os.chdir(current_directory)\n",
    "\n",
    "run_current_from_basic.run_notebook(r'{}\\current\\run_current.ipynb'.format(cwd))  # Call the function from the imported module\n",
    "\n",
    "os.chdir(future_directory)\n",
    "\n",
    "run_future_from_basic.run_notebook(r'{}\\future\\run_future.ipynb'.format(cwd))  # Call the function from the imported module\n"
   ]
  }
 ],
 "metadata": {
  "kernelspec": {
   "display_name": "base",
   "language": "python",
   "name": "python3"
  },
  "language_info": {
   "codemirror_mode": {
    "name": "ipython",
    "version": 3
   },
   "file_extension": ".py",
   "mimetype": "text/x-python",
   "name": "python",
   "nbconvert_exporter": "python",
   "pygments_lexer": "ipython3",
   "version": "3.11.5"
  }
 },
 "nbformat": 4,
 "nbformat_minor": 4
}
