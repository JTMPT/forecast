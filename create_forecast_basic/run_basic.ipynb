{
 "cells": [
  {
   "cell_type": "markdown",
   "metadata": {},
   "source": [
    "### ייבוא ספריות\n"
   ]
  },
  {
   "cell_type": "code",
   "execution_count": 1,
   "metadata": {},
   "outputs": [],
   "source": [
    "import os\n",
    "import sys"
   ]
  },
  {
   "cell_type": "markdown",
   "metadata": {},
   "source": [
    "### הגדרת נתיבים\n"
   ]
  },
  {
   "cell_type": "code",
   "execution_count": 5,
   "metadata": {},
   "outputs": [],
   "source": [
    "# cwd: מאחסן את הנתיב הנוכחי.\n",
    "cwd = os.getcwd()\n",
    "\n",
    "# arab_and_palestinian מגדיר נתיב לתיקית\n",
    "arab_and_palestinian_directory = r'{}\\arab_and_palestinian'.format(cwd)\n",
    "\n",
    "# current מגדיר נתיב לתיקית\n",
    "current_directory = r'{}\\current'.format(cwd)\n",
    "\n",
    "# future מגדיר נתיב לתיקית\n",
    "future_directory = r'{}\\future'.format(cwd)\n",
    "\n",
    "# comparison_tools מגדיר נתיב לתיקית\n",
    "comparison_tools_directory = r'{}\\comparison_tools'.format(cwd)\n",
    "\n",
    "# utils מגדיר נתיב לתיקית\n",
    "utils_directory = r'{}\\utils'.format(cwd)"
   ]
  },
  {
   "cell_type": "markdown",
   "metadata": {},
   "source": [
    "### הוספת נתיבים\n"
   ]
  },
  {
   "cell_type": "code",
   "execution_count": 6,
   "metadata": {},
   "outputs": [],
   "source": [
    "# מוסיף את הנתיבים של התיקיות השונות, כך שניתן לייבא מודולים מהתיקיות הללו.\n",
    "sys.path.append(arab_and_palestinian_directory)\n",
    "sys.path.append(current_directory)\n",
    "sys.path.append(future_directory)\n",
    "sys.path.append(comparison_tools_directory)\n",
    "sys.path.append(utils_directory)"
   ]
  },
  {
   "cell_type": "markdown",
   "metadata": {},
   "source": [
    "### ייבוא מודולים\n"
   ]
  },
  {
   "cell_type": "code",
   "execution_count": 7,
   "metadata": {},
   "outputs": [],
   "source": [
    "# מייבא את המודולים המכילים את הפונקציות להרצת המחברות\n",
    "import run_current_from_basic\n",
    "import run_future_from_basic\n",
    "import run_forecast_comparisons_from_basic\n",
    "import run_utils_from_basic"
   ]
  },
  {
   "cell_type": "markdown",
   "metadata": {},
   "source": [
    "### הרצת מחברות\n"
   ]
  },
  {
   "cell_type": "code",
   "execution_count": 9,
   "metadata": {},
   "outputs": [],
   "source": [
    "# מחליף את הנתיב הנוכחי לתיקייה current_directory\n",
    "os.chdir(current_directory)\n",
    "\n",
    "# מריץ את המחברת באמצעות הפונקציה run_notebook\n",
    "run_current_from_basic.run_notebook(r'{}\\current\\run_current.ipynb'.format(cwd))\n",
    "\n",
    "# מחליף את הנתיב הנוכחי לתיקייה future_directory\n",
    "os.chdir(future_directory)\n",
    "\n",
    "# מריץ את המחברת באמצעות הפונקציה run_notebook\n",
    "run_future_from_basic.run_notebook(r'{}\\future\\run_future.ipynb'.format(cwd))\n",
    "\n",
    "# מחליף את הנתיב הנוכחי לתיקייה comparison_tools_directory\n",
    "os.chdir(comparison_tools_directory)\n",
    "\n",
    "# מריץ את המחברת באמצעות הפונקציה run_notebook\n",
    "run_forecast_comparisons_from_basic.run_notebook(r'{}\\comparison_tools\\forecast_comparisons.ipynb'.format(cwd))\n",
    "\n",
    "# מחליף את הנתיב הנוכחי לתיקייה utils_directory\n",
    "os.chdir(utils_directory)\n",
    "\n",
    "# מריץ את המחברת באמצעות הפונקציה run_notebook\n",
    "run_utils_from_basic.run_notebook(r'{}\\utils\\run_utils.ipynb'.format(cwd))"
   ]
  }
 ],
 "metadata": {
  "kernelspec": {
   "display_name": "Python 3 (ipykernel)",
   "language": "python",
   "name": "python3"
  },
  "language_info": {
   "codemirror_mode": {
    "name": "ipython",
    "version": 3
   },
   "file_extension": ".py",
   "mimetype": "text/x-python",
   "name": "python",
   "nbconvert_exporter": "python",
   "pygments_lexer": "ipython3",
   "version": "3.11.5"
  }
 },
 "nbformat": 4,
 "nbformat_minor": 4
}
