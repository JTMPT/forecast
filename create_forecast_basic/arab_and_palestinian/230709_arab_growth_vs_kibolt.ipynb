{
 "cells": [
  {
   "cell_type": "markdown",
   "id": "0e7214ba",
   "metadata": {
    "heading_collapsed": true
   },
   "source": [
    "### קוד מבוא\n"
   ]
  },
  {
   "cell_type": "markdown",
   "id": "6be9fb8c",
   "metadata": {},
   "source": [
    "#### ספריות\n"
   ]
  },
  {
   "cell_type": "code",
   "execution_count": 2,
   "id": "f8405d52",
   "metadata": {
    "hidden": true
   },
   "outputs": [],
   "source": [
    "import os\n",
    "import sys\n",
    "import pathlib\n",
    "import pandas as pd"
   ]
  },
  {
   "cell_type": "code",
   "execution_count": 3,
   "id": "2dacbc13",
   "metadata": {
    "hidden": true
   },
   "outputs": [],
   "source": [
    "pd.set_option('display.max_rows', None)\n",
    "pd.set_option('display.max_columns', None)\n",
    "pd.options.display.float_format = '{:.4f}'.format\n",
    "pd.set_option('display.float_format',  '{:,.2f}'.format)"
   ]
  },
  {
   "cell_type": "markdown",
   "id": "8295f95f",
   "metadata": {},
   "source": [
    "#### העלאת משתנים להרצת הקוד\n"
   ]
  },
  {
   "cell_type": "code",
   "execution_count": null,
   "id": "e42845f1",
   "metadata": {},
   "outputs": [],
   "source": [
    "cwd = os.getcwd()\n",
    "\n",
    "create_forecast_basic_folder_path = os.path.dirname(cwd)\n",
    "\n",
    "forecast_folder_path = os.path.dirname(create_forecast_basic_folder_path)\n",
    "\n",
    "forecast_version_folder_location = r'{}\\forecast_by_version\\V4'.format(forecast_folder_path)\n",
    "\n",
    "forecast_version_base_year_folder_location=r'{}\\BASE_YEAR'.format(forecast_version_folder_location)\n",
    "\n",
    "sys.path.append(create_forecast_basic_folder_path)"
   ]
  },
  {
   "cell_type": "markdown",
   "id": "9624443e",
   "metadata": {
    "heading_collapsed": true
   },
   "source": [
    "### פונקציות\n"
   ]
  },
  {
   "cell_type": "markdown",
   "id": "df225eba",
   "metadata": {},
   "source": [
    "### פונקציות גלובליות\n"
   ]
  },
  {
   "cell_type": "code",
   "execution_count": null,
   "id": "dd8a5876",
   "metadata": {},
   "outputs": [],
   "source": [
    "from global_functions import get_newest_date_file, make_point, up_load_shp, up_load_df, find_files_with_pattern"
   ]
  },
  {
   "cell_type": "markdown",
   "id": "d3bf0a64",
   "metadata": {},
   "source": [
    "### ביצוע\n"
   ]
  },
  {
   "cell_type": "markdown",
   "id": "7d72c1cb",
   "metadata": {},
   "source": [
    "#### העלאת שכבות\n"
   ]
  },
  {
   "cell_type": "code",
   "execution_count": 7,
   "id": "c6573404",
   "metadata": {},
   "outputs": [],
   "source": [
    "TAZ_V4_date = get_newest_date_file(r'{}\\background_files'.format(create_forecast_basic_folder_path), 'with_geo_info')\n",
    "\n",
    "taz=up_load_shp(r'{}\\background_files\\TAZ_V4_{}_with_geo_info.shp'.format(create_forecast_basic_folder_path, TAZ_V4_date))"
   ]
  },
  {
   "cell_type": "code",
   "execution_count": 8,
   "id": "95fe557a",
   "metadata": {},
   "outputs": [],
   "source": [
    "taz=taz.query('main_secto==\"Arab\" | main_secto==\"arabs_behined_seperation_wall\" ').set_index('Taz_num')\n",
    "\n",
    "taz_point=make_point(taz)"
   ]
  },
  {
   "cell_type": "markdown",
   "id": "927d22d7",
   "metadata": {},
   "source": [
    "#### יצירת אוכלוסיה לפי קיבולת\n"
   ]
  },
  {
   "cell_type": "markdown",
   "id": "94bf3e68",
   "metadata": {},
   "source": [
    "תוספת קיבולת אפשרית\n"
   ]
  },
  {
   "cell_type": "code",
   "execution_count": 9,
   "id": "30681720",
   "metadata": {},
   "outputs": [],
   "source": [
    "path=r'{}\\background_files\\kibolet_with_behind_wall_230709.shp'.format(cwd)\n",
    "\n",
    "kibolet_with_behind_wall=up_load_shp(path).set_index('Taz_num')"
   ]
  },
  {
   "cell_type": "markdown",
   "id": "9e506c2b",
   "metadata": {},
   "source": [
    "יח\"ד דיור קיימות\n"
   ]
  },
  {
   "cell_type": "markdown",
   "id": "629caad3",
   "metadata": {},
   "source": [
    "matching_files=find_files_with_pattern(r'{}'.format(forecast_version_folder_location), '2020_jtmt_forcast_full')\n",
    "\n",
    "file = pathlib.Path(matching_files[0])\n",
    "file_name = file.name[:-5]\n"
   ]
  },
  {
   "cell_type": "code",
   "execution_count": 10,
   "id": "84c7372b",
   "metadata": {},
   "outputs": [],
   "source": [
    "taz_kayim=up_load_df(r'{}\\current\\Intermediates'.format(create_forecast_basic_folder_path), 'taz_with_pop_info').set_index('Taz_num')"
   ]
  },
  {
   "cell_type": "markdown",
   "id": "5476e31c",
   "metadata": {},
   "source": [
    "ג\"מ\n"
   ]
  },
  {
   "cell_type": "code",
   "execution_count": 10,
   "id": "0f06fa69",
   "metadata": {},
   "outputs": [],
   "source": [
    "path=r'{}\\background_files\\hh_size_2050.shp'.format(cwd)\n",
    "\n",
    "hh_size_2050=up_load_shp(path)"
   ]
  },
  {
   "cell_type": "code",
   "execution_count": 11,
   "id": "9ae9ff80",
   "metadata": {},
   "outputs": [],
   "source": [
    "hh_size_2050=taz_point.sjoin(hh_size_2050,how='left')[['2050_hh_si']]\n",
    "\n",
    "taz['hh_size']=hh_size_2050['2050_hh_si']"
   ]
  },
  {
   "cell_type": "markdown",
   "id": "4fded2fe",
   "metadata": {},
   "source": [
    "הכנה ללופ : מצב קיים הופך למצב נוכחי\n"
   ]
  },
  {
   "cell_type": "code",
   "execution_count": 12,
   "id": "486e5102",
   "metadata": {},
   "outputs": [],
   "source": [
    "taz['current_pop']=taz_kayim['pop']\n",
    "\n",
    "taz['pop_2020']=taz_kayim['pop']\n",
    "\n",
    "taz['current_hh']=taz_kayim['aprt_20']\n",
    "\n",
    "taz['hh_2020']=taz_kayim['aprt_20']"
   ]
  },
  {
   "cell_type": "markdown",
   "id": "127b1d73",
   "metadata": {},
   "source": [
    "להוציא את האזורים שמחוץ לירושלים\n"
   ]
  },
  {
   "cell_type": "code",
   "execution_count": 13,
   "id": "5a6e76ad",
   "metadata": {},
   "outputs": [],
   "source": [
    "taz_out_of_jeru=taz.loc[taz.index.isin([7651.0, 7652.0])]"
   ]
  },
  {
   "cell_type": "code",
   "execution_count": 14,
   "id": "c00ef96d",
   "metadata": {},
   "outputs": [],
   "source": [
    "taz=taz.loc[~taz.index.isin([7651.0, 7652.0])]"
   ]
  },
  {
   "cell_type": "markdown",
   "id": "41d46587",
   "metadata": {},
   "source": [
    "עכשיו חישוב של כמות אוכלוסיה כל חומש\n"
   ]
  },
  {
   "cell_type": "code",
   "execution_count": 15,
   "id": "1b3d88e7",
   "metadata": {},
   "outputs": [],
   "source": [
    "taz['pop_kibolet']=taz['hh_size']*kibolet_with_behind_wall['kibolet']"
   ]
  },
  {
   "cell_type": "markdown",
   "id": "ead6089f",
   "metadata": {},
   "source": [
    "הכנה ללופ : הלאה של אוכלסייה פלסטינאית\n"
   ]
  },
  {
   "cell_type": "code",
   "execution_count": 16,
   "id": "25c6855f",
   "metadata": {},
   "outputs": [],
   "source": [
    "folder_path=r'{}\\Intermediates'.format(cwd)\n",
    "file_name='taz_demo_pls_2020_and_pre_growth_till_2050'\n",
    "\n",
    "taz_demo_pls=up_load_df(folder_path,file_name)\n",
    "\n",
    "taz_demo_pls['current_pop']=taz_demo_pls['pop_2020']"
   ]
  },
  {
   "cell_type": "markdown",
   "id": "4f1f077e",
   "metadata": {},
   "source": [
    "#### לופ לייצר אנשים כל חומש\n"
   ]
  },
  {
   "cell_type": "code",
   "execution_count": 17,
   "id": "59e15953",
   "metadata": {
    "code_folding": []
   },
   "outputs": [],
   "source": [
    "col_age=['Taz_num','pop_0',\n",
    " 'pop_10',\n",
    " 'pop_15',\n",
    " 'pop_20',\n",
    " 'pop_25',\n",
    " 'pop_30',\n",
    " 'pop_35',\n",
    " 'pop_40',\n",
    " 'pop_45',\n",
    " 'pop_5',\n",
    " 'pop_50',\n",
    " 'pop_55',\n",
    " 'pop_60',\n",
    " 'pop_65',\n",
    " 'pop_70',\n",
    " 'pop_75up']"
   ]
  },
  {
   "cell_type": "markdown",
   "id": "2b2fb96f",
   "metadata": {},
   "source": [
    "חישוב מחוץ לירושלים\n"
   ]
  },
  {
   "cell_type": "code",
   "execution_count": 18,
   "id": "5e8dfe79",
   "metadata": {},
   "outputs": [],
   "source": [
    "taz_out_of_jeru_point=make_point(taz_out_of_jeru)"
   ]
  },
  {
   "cell_type": "code",
   "execution_count": 19,
   "id": "b7891435",
   "metadata": {},
   "outputs": [],
   "source": [
    "year=['2025','2030','2035','2040','2045','2050']\n",
    "\n",
    "for y in year:\n",
    "    # לחבר למצב הנוכחי את הגידול והתפלגות שהוא צריך לקבל\n",
    "    path=r'{}\\Intermediates\\pre_demo_growth_dislov_{}.shp'.format(cwd, y)\n",
    "\n",
    "    demo=up_load_shp(path)  \n",
    "\n",
    "    demand=taz_out_of_jeru_point.sjoin(demo,how='left')\n",
    "\n",
    "    taz_age=demand.reset_index()[col_age]\n",
    "    \n",
    "    taz_out_of_jeru_point['add_current_pop']=taz_out_of_jeru_point['current_pop']*demand['precent_ad']-taz_out_of_jeru_point['current_pop']\n",
    "    \n",
    "    taz_out_of_jeru_point['current_pop']=taz_out_of_jeru_point['current_pop']+taz_out_of_jeru_point['add_current_pop']\n",
    "    \n",
    "    taz_out_of_jeru_point['current_hh']=taz_out_of_jeru_point['current_hh']+taz_out_of_jeru_point['add_current_pop']/taz_out_of_jeru_point['hh_size']\n",
    "    \n",
    "    taz_out_of_jeru_point['hh_{}'.format(y)]=taz_out_of_jeru_point['current_hh']\n",
    "    \n",
    "    taz_out_of_jeru_point['pop_{}'.format(y)]=taz_out_of_jeru_point['current_pop']\n",
    "    \n",
    "    col=['Taz_num','hh_{}'.format(y),'pop_{}'.format(y)]\n",
    "\n",
    "    locals()['taz_out_jeru_{}'.format(y)]=taz_out_of_jeru_point.reset_index()[col].merge(taz_age,how='left',on='Taz_num')   "
   ]
  },
  {
   "cell_type": "markdown",
   "id": "6c98ca92",
   "metadata": {},
   "source": [
    "חישוב לירושלים ואז הוספה של המרכיבים\n"
   ]
  },
  {
   "cell_type": "code",
   "execution_count": 20,
   "id": "5207f2ab",
   "metadata": {
    "code_folding": [
     2
    ]
   },
   "outputs": [],
   "source": [
    "#מייצר קטלוג לאזורים ללא התפלגות מדמוגרף\n",
    "age_dis=up_load_df(r'{}\\background_files'.format(create_forecast_basic_folder_path),'age_des_types')\n",
    "\n",
    "age_col_catalog=['pop_0',\n",
    " 'pop_10',\n",
    " 'pop_15',\n",
    " 'pop_20',\n",
    " 'pop_25',\n",
    " 'pop_30',\n",
    " 'pop_35',\n",
    " 'pop_40',\n",
    " 'pop_45',\n",
    " 'pop_5',\n",
    " 'pop_50',\n",
    " 'pop_55',\n",
    " 'pop_60',\n",
    " 'pop_65',\n",
    " 'pop_70',\n",
    " 'pop_75up']\n",
    "\n",
    "age_dis=age_dis.query('sector==\"Arab\" & age_cycle==2')[age_col_catalog]"
   ]
  },
  {
   "cell_type": "code",
   "execution_count": 21,
   "id": "a74ac237",
   "metadata": {},
   "outputs": [],
   "source": [
    "taz['precent_ad']=0"
   ]
  },
  {
   "cell_type": "code",
   "execution_count": 22,
   "id": "e57e26cd",
   "metadata": {},
   "outputs": [],
   "source": [
    "x=2020"
   ]
  },
  {
   "cell_type": "code",
   "execution_count": 23,
   "id": "aa7a5c89",
   "metadata": {},
   "outputs": [],
   "source": [
    "year=['2025','2030','2035','2040','2045','2050']"
   ]
  },
  {
   "cell_type": "code",
   "execution_count": 24,
   "id": "a23bd772",
   "metadata": {},
   "outputs": [
    {
     "name": "stdout",
     "output_type": "stream",
     "text": [
      "------------------------------------------\n",
      "2025\n",
      "total_kibolet:  235869.44800000003\n",
      "total_demand:  47413.55443089148\n",
      "pop_not_fit_in_taz:  343.6068327890348\n",
      "pop_kibolet_left:  188799.50040189756\n",
      "pop_not_fit_in_taz<=pop_kibolet_left\n"
     ]
    },
    {
     "name": "stderr",
     "output_type": "stream",
     "text": [
      "C:\\Users\\dpere\\AppData\\Local\\Temp\\ipykernel_31220\\3784191077.py:38: FutureWarning: Setting an item of incompatible dtype is deprecated and will raise in a future error of pandas. Value 'pop_demand' has dtype incompatible with float64, please explicitly cast to a compatible dtype first.\n",
      "  taz.loc[taz['pop_delta']>0,'pop_{}_explanation'.format(y)]='pop_demand'\n"
     ]
    },
    {
     "name": "stdout",
     "output_type": "stream",
     "text": [
      "------------------------------------------\n",
      "2030\n",
      "total_kibolet:  188455.89356910854\n",
      "total_demand:  51008.15310447636\n",
      "pop_not_fit_in_taz:  2707.6405935581056\n",
      "pop_kibolet_left:  140155.38105819025\n",
      "pop_not_fit_in_taz<=pop_kibolet_left\n"
     ]
    },
    {
     "name": "stderr",
     "output_type": "stream",
     "text": [
      "C:\\Users\\dpere\\AppData\\Local\\Temp\\ipykernel_31220\\3784191077.py:38: FutureWarning: Setting an item of incompatible dtype is deprecated and will raise in a future error of pandas. Value 'pop_demand' has dtype incompatible with float64, please explicitly cast to a compatible dtype first.\n",
      "  taz.loc[taz['pop_delta']>0,'pop_{}_explanation'.format(y)]='pop_demand'\n"
     ]
    },
    {
     "name": "stdout",
     "output_type": "stream",
     "text": [
      "------------------------------------------\n",
      "2035\n",
      "total_kibolet:  137447.74046463217\n",
      "total_demand:  51102.59765978278\n",
      "pop_not_fit_in_taz:  13332.122759871569\n",
      "pop_kibolet_left:  99677.26556472093\n",
      "pop_not_fit_in_taz<=pop_kibolet_left\n"
     ]
    },
    {
     "name": "stderr",
     "output_type": "stream",
     "text": [
      "C:\\Users\\dpere\\AppData\\Local\\Temp\\ipykernel_31220\\3784191077.py:38: FutureWarning: Setting an item of incompatible dtype is deprecated and will raise in a future error of pandas. Value 'pop_demand' has dtype incompatible with float64, please explicitly cast to a compatible dtype first.\n",
      "  taz.loc[taz['pop_delta']>0,'pop_{}_explanation'.format(y)]='pop_demand'\n"
     ]
    },
    {
     "name": "stdout",
     "output_type": "stream",
     "text": [
      "------------------------------------------\n",
      "2040\n",
      "total_kibolet:  86345.14280484937\n",
      "total_demand:  49907.386488863885\n",
      "pop_not_fit_in_taz:  25022.798589946415\n",
      "pop_kibolet_left:  61460.554905931895\n",
      "pop_not_fit_in_taz<=pop_kibolet_left\n"
     ]
    },
    {
     "name": "stderr",
     "output_type": "stream",
     "text": [
      "C:\\Users\\dpere\\AppData\\Local\\Temp\\ipykernel_31220\\3784191077.py:38: FutureWarning: Setting an item of incompatible dtype is deprecated and will raise in a future error of pandas. Value 'pop_demand' has dtype incompatible with float64, please explicitly cast to a compatible dtype first.\n",
      "  taz.loc[taz['pop_delta']>0,'pop_{}_explanation'.format(y)]='pop_demand'\n"
     ]
    },
    {
     "name": "stdout",
     "output_type": "stream",
     "text": [
      "------------------------------------------\n",
      "2045\n",
      "total_kibolet:  36437.75631598548\n",
      "total_demand:  48208.796329349\n",
      "pop_not_fit_in_taz:  34842.938414229946\n",
      "pop_kibolet_left:  23071.898400866427\n",
      "pop_not_fit_in_taz>pop_kibolet_left\n",
      "pop_not_fit_in_jeru:  11771.04001336352\n"
     ]
    },
    {
     "name": "stderr",
     "output_type": "stream",
     "text": [
      "C:\\Users\\dpere\\AppData\\Local\\Temp\\ipykernel_31220\\3784191077.py:38: FutureWarning: Setting an item of incompatible dtype is deprecated and will raise in a future error of pandas. Value 'pop_demand' has dtype incompatible with float64, please explicitly cast to a compatible dtype first.\n",
      "  taz.loc[taz['pop_delta']>0,'pop_{}_explanation'.format(y)]='pop_demand'\n"
     ]
    },
    {
     "name": "stdout",
     "output_type": "stream",
     "text": [
      "------------------------------------------\n",
      "2050\n",
      "total_kibolet:  0\n",
      "total_demand:  46784.12357171309\n",
      "pop_not_fit_in_taz:  46784.12357171309\n",
      "pop_kibolet_left:  0\n",
      "pop_not_fit_in_taz>pop_kibolet_left\n",
      "pop_not_fit_in_jeru:  46784.12357171309\n"
     ]
    },
    {
     "name": "stderr",
     "output_type": "stream",
     "text": [
      "C:\\Users\\dpere\\AppData\\Local\\Temp\\ipykernel_31220\\3784191077.py:38: FutureWarning: Setting an item of incompatible dtype is deprecated and will raise in a future error of pandas. Value 'pop_demand' has dtype incompatible with float64, please explicitly cast to a compatible dtype first.\n",
      "  taz.loc[taz['pop_delta']>0,'pop_{}_explanation'.format(y)]='pop_demand'\n"
     ]
    }
   ],
   "source": [
    "for y in year:\n",
    "    # לחבר למצב הנוכחי את הגידול והתפלגות שהוא צריך לקבל\n",
    "    path=r'{}\\Intermediates\\pre_demo_growth_dislov_{}.shp'.format(cwd, y)\n",
    "\n",
    "    demo=up_load_shp(path)\n",
    "\n",
    "    taz_point=make_point(taz.reset_index()[['Taz_num','geometry']])\n",
    "\n",
    "    demand=taz_point.sjoin(demo,how='left')\n",
    "    taz_age=demand.reset_index()[col_age]\n",
    "    \n",
    "    demand=demand[['Taz_num','precent_ad']].set_index('Taz_num')\n",
    "\n",
    "    taz['precent_ad']=demand['precent_ad']\n",
    "    taz['precent_ad']=taz['precent_ad'].fillna(0)\n",
    "    taz['precent_ad_{}'.format(y)]=taz['precent_ad']\n",
    "\n",
    "    taz.loc[taz['precent_ad']>0,'pop_demand']=taz['current_pop']*taz['precent_ad']-taz['current_pop']\n",
    "    taz.loc[taz['precent_ad']<=0,'pop_demand']=0\n",
    "    taz['pop_demand_{}'.format(y)]=taz['pop_demand']\n",
    "    taz['pop_kibolet_{}'.format(y)]=taz['pop_kibolet']\n",
    "\n",
    "    # יצירת התפלגות,גידול וג\"מ הממוצע של כל אחד מהערכים האלו בחומש\n",
    "    # אזורים עם אוכלוסייה וללא התפלגות,גידול וג\"מ יקבלו את הערך הממוצע הנל\n",
    "    # מצב נוכחי גדל לפי אחוז\n",
    "    # השוואה בין אוכלוסית ביקוש לקיבולת\n",
    "    print(\"------------------------------------------\")\n",
    "    print(y)\n",
    "    print(\"total_kibolet: \",taz['pop_kibolet'].sum().item())\n",
    "    print(\"total_demand: \",taz['pop_demand'].sum().item())\n",
    "    \n",
    "    taz['pop_delta']=taz['pop_kibolet']-taz['pop_demand']\n",
    "    taz['pop_delta_{}'.format(y)]=taz['pop_delta']\n",
    "\n",
    "    # יש מקום לביקוש - לקחת את הביקוש\n",
    "    taz.loc[taz['pop_delta']>0,'current_pop']=taz['pop_demand']+taz['current_pop']\n",
    "    taz.loc[taz['pop_delta']>0,'pop_kibolet']=taz['pop_kibolet']-taz['pop_demand']\n",
    "    taz.loc[taz['pop_delta']>0,'pop_{}_explanation'.format(y)]='pop_demand'\n",
    "\n",
    "\n",
    "    # אין מקום לביקוש - לקחת את הקיבולת\n",
    "    taz.loc[(taz['pop_delta']<=0)&(taz['pop_kibolet']>0),'current_pop']=taz['pop_kibolet']+taz['current_pop']\n",
    "    taz.loc[(taz['pop_delta']<=0)&(taz['pop_kibolet']>0),'pop_kibolet']=0\n",
    "    taz.loc[(taz['pop_delta']<=0)&(taz['pop_kibolet']>0),'pop_{}_explanation'.format(y)]='full_pop_kibolet'\n",
    "\n",
    "    # לקבץ את כלל האוכלוסיה ללא בית לסל אחד\n",
    "    pop_not_fit_in_taz=taz.loc[taz['pop_delta']<=0]['pop_delta'].sum().item()\n",
    "    \n",
    "    pop_not_fit_in_taz=abs(pop_not_fit_in_taz)\n",
    "    \n",
    "    print(\"pop_not_fit_in_taz: \",pop_not_fit_in_taz)\n",
    "\n",
    "    # כימות כמה עוד מקום יש בקיבולת של ירושלים\n",
    "    pop_kibolet_left=taz['pop_kibolet'].sum().item()\n",
    "    \n",
    "    print(\"pop_kibolet_left: \",pop_kibolet_left)\n",
    "\n",
    "    if pop_not_fit_in_taz>pop_kibolet_left:\n",
    "        print(\"pop_not_fit_in_taz>pop_kibolet_left\")\n",
    "\n",
    "        taz['current_pop']=taz['pop_kibolet']+taz['current_pop']\n",
    "        taz['pop_kibolet']=0\n",
    "        taz['pop_{}_explanation'.format(y)]=taz['pop_{}_explanation'.format(y)]+' +add_pop_to_fill_kibolet'\n",
    "                \n",
    "        pop_not_fit_in_jeru=pop_not_fit_in_taz-pop_kibolet_left\n",
    "        \n",
    "        print(\"pop_not_fit_in_jeru: \",pop_not_fit_in_jeru)\n",
    "        \n",
    "        taz_demo_pls['current_pop_pre']=taz_demo_pls['current_pop']/taz_demo_pls['current_pop'].sum().item()\n",
    "        taz_demo_pls['add_pop_{}_from_jeru'.format(y)]=taz_demo_pls['current_pop_pre']*pop_not_fit_in_jeru\n",
    "        taz_demo_pls['current_pop']=taz_demo_pls['current_pop']*taz_demo_pls['precent_add_pop_{}'.format(y)]\n",
    "        taz_demo_pls['current_pop']=taz_demo_pls['current_pop']+taz_demo_pls['add_pop_{}_from_jeru'.format(y)]\n",
    "        taz_demo_pls['pop_{}'.format(y)]=taz_demo_pls['current_pop']\n",
    "    else:\n",
    "        print(\"pop_not_fit_in_taz<=pop_kibolet_left\")\n",
    "\n",
    "        taz['add_pop_kibolet_from_pre']=taz['pop_kibolet']*(pop_not_fit_in_taz/pop_kibolet_left)\n",
    "        taz['add_pop_kibolet_from_pre_{}'.format(y)]=taz['add_pop_kibolet_from_pre']\n",
    "        taz['current_pop']=taz['add_pop_kibolet_from_pre']+taz['current_pop']\n",
    "        taz['pop_kibolet']=taz['pop_kibolet']-taz['add_pop_kibolet_from_pre']\n",
    "        taz.loc[taz['add_pop_kibolet_from_pre']>0,'pop_{}_explanation'.format(y)]=taz['pop_{}_explanation'.format(y)]+' +add_pop_by_pre_of_kibolet_pre'\n",
    "        \n",
    "        taz_demo_pls['current_pop']=taz_demo_pls['current_pop']*taz_demo_pls['precent_add_pop_{}'.format(y)]\n",
    "        taz_demo_pls['pop_{}'.format(y)]=taz_demo_pls['current_pop']        \n",
    "    \n",
    "    taz['pop_{}'.format(y)]=taz['current_pop']\n",
    "    taz['add_pop_{}_{}'.format(y,str(x))]=taz['current_pop']-taz['pop_{}'.format(str(x))]\n",
    "    taz.loc[(taz['add_pop_{}_{}'.format(y,str(x))]>0)&(taz['hh_size']<=0),'current_hh']=taz['current_hh']+taz['add_pop_{}_{}'.format(y,str(x))]/4.5\n",
    "    \n",
    "    taz.loc[(taz['add_pop_{}_{}'.format(y,str(x))]>0)&(taz['hh_size']>0),'current_hh']=taz['current_hh']+taz['add_pop_{}_{}'.format(y,str(x))]/4.5\n",
    "    \n",
    "    taz['hh_{}'.format(y)]=taz['current_hh']\n",
    " \n",
    "    x=x+5\n",
    "    col_current=['Taz_num','hh_{}'.format(y),'pop_{}'.format(y)]\n",
    "    col=['pop_0',\n",
    "     'pop_10',\n",
    "     'pop_15',\n",
    "     'pop_20',\n",
    "     'pop_25',\n",
    "     'pop_30',\n",
    "     'pop_35',\n",
    "     'pop_40',\n",
    "     'pop_45',\n",
    "     'pop_5',\n",
    "     'pop_50',\n",
    "     'pop_55',\n",
    "     'pop_60',\n",
    "     'pop_65',\n",
    "     'pop_70',\n",
    "     'pop_75up']\n",
    "    \n",
    "    df=taz.reset_index()[col_current].merge(taz_age,how='left',on='Taz_num')\n",
    "    \n",
    "    df=pd.concat([df,locals()['taz_out_jeru_{}'.format(y)]],axis=0)\n",
    "\n",
    "    df1=df.loc[((df[col].sum(axis=1)==0)&(df['pop_{}'.format(y)]>0))]\n",
    "\n",
    "    df1=df1[col_current]\n",
    "\n",
    "    df1['join']=1\n",
    "\n",
    "    age_dis['join']=1\n",
    "\n",
    "    df1=df1.merge(age_dis,on='join',how='left').drop(columns='join')\n",
    "\n",
    "    df=df.loc[~((df[col].sum(axis=1)==0)&(df['pop_{}'.format(y)]>0))]\n",
    "\n",
    "    df=pd.concat([df,df1],axis=0)\n",
    "\n",
    "    df=df.round(2)\n",
    "    \n",
    "    df[col]=df[col].div(df[col].sum(axis=1), axis=0)\n",
    "    \n",
    "    df[col] = df[col].apply(lambda x: x * df['pop_{}'.format(y)])\n",
    "    \n",
    "    df['pop_{}'.format(y)]=df[col].sum(axis=1)\n",
    "           \n",
    "    df=pd.concat([df,taz_demo_pls[['Taz_num','pop_{}'.format(y)]]],axis=0)  \n",
    "    \n",
    "    col=['Taz_num','hh_{}'.format(y),'pop_{}'.format(y),'pop_0',\n",
    "         'pop_10',\n",
    "         'pop_15',\n",
    "         'pop_20',\n",
    "         'pop_25',\n",
    "         'pop_30',\n",
    "         'pop_35',\n",
    "         'pop_40',\n",
    "         'pop_45',\n",
    "         'pop_5',\n",
    "         'pop_50',\n",
    "         'pop_55',\n",
    "         'pop_60',\n",
    "         'pop_65',\n",
    "         'pop_70',\n",
    "         'pop_75up']\n",
    "        \n",
    "    df[col].to_excel(r'{}\\Intermediates\\taz_Arab_Palestinian_{}.xlsx'.format(cwd, y),index=False)"
   ]
  }
 ],
 "metadata": {
  "kernelspec": {
   "display_name": "creat_forecast_ad_hoc_env",
   "language": "python",
   "name": "python3"
  },
  "language_info": {
   "codemirror_mode": {
    "name": "ipython",
    "version": 3
   },
   "file_extension": ".py",
   "mimetype": "text/x-python",
   "name": "python",
   "nbconvert_exporter": "python",
   "pygments_lexer": "ipython3",
   "version": "3.11.5"
  },
  "toc": {
   "base_numbering": 1,
   "nav_menu": {},
   "number_sections": true,
   "sideBar": true,
   "skip_h1_title": false,
   "title_cell": "Table of Contents",
   "title_sidebar": "Contents",
   "toc_cell": false,
   "toc_position": {},
   "toc_section_display": true,
   "toc_window_display": true
  }
 },
 "nbformat": 4,
 "nbformat_minor": 5
}
