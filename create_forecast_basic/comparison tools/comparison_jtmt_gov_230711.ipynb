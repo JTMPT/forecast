{
 "cells": [
  {
   "cell_type": "markdown",
   "id": "0e7214ba",
   "metadata": {
    "heading_collapsed": true
   },
   "source": [
    "### קוד מבוא"
   ]
  },
  {
   "cell_type": "code",
   "execution_count": 26,
   "id": "f8405d52",
   "metadata": {
    "hidden": true
   },
   "outputs": [],
   "source": [
    "import pandas as pd\n",
    "import geopandas as gpd\n",
    "import numpy as np\n",
    "from shapely import wkt\n",
    "from matplotlib import pyplot as plt \n",
    "import contextily as cx\n",
    "import folium\n",
    "import fiona\n",
    "from mpl_toolkits.axes_grid1 import make_axes_locatable\n",
    "from shapely.geometry import Point\n",
    "import adjustText as aT"
   ]
  },
  {
   "cell_type": "code",
   "execution_count": 27,
   "id": "2dacbc13",
   "metadata": {
    "hidden": true
   },
   "outputs": [],
   "source": [
    "pd.set_option('display.max_rows', None)\n",
    "pd.set_option('display.max_columns', None)"
   ]
  },
  {
   "cell_type": "code",
   "execution_count": 28,
   "id": "b2c3b3ca",
   "metadata": {
    "hidden": true
   },
   "outputs": [],
   "source": [
    "pd.options.display.float_format = '{:.4f}'.format\n",
    "pd.set_option('display.float_format',  '{:,.2f}'.format)"
   ]
  },
  {
   "cell_type": "markdown",
   "id": "9624443e",
   "metadata": {
    "heading_collapsed": true
   },
   "source": [
    "### פונקציות"
   ]
  },
  {
   "cell_type": "code",
   "execution_count": 29,
   "id": "d69c42ff",
   "metadata": {
    "hidden": true
   },
   "outputs": [],
   "source": [
    "def double_taz_num(df):\n",
    "    dup_taz_num=df.groupby(['Taz_num']).size().reset_index(name='count').query('count>1').Taz_num.to_list()\n",
    "    return df.loc[df['Taz_num'].isin(dup_taz_num)]"
   ]
  },
  {
   "cell_type": "code",
   "execution_count": 30,
   "id": "d048994a",
   "metadata": {
    "hidden": true
   },
   "outputs": [],
   "source": [
    "def make_point(df):\n",
    "    df_point=df.copy()\n",
    "    df_point['centroid'] = df_point.representative_point()\n",
    "    df_point=df_point.set_geometry('centroid')\n",
    "    df_point=df_point.drop(columns=['geometry'],axis=1)\n",
    "    return df_point"
   ]
  },
  {
   "cell_type": "code",
   "execution_count": 31,
   "id": "86bf5cad",
   "metadata": {
    "hidden": true
   },
   "outputs": [],
   "source": [
    "def up_load_gdb(path,layer_name):\n",
    "    path='{}'.format(path)\n",
    "    layer_list=fiona.listlayers(path)\n",
    "    gpd_layer=gpd.read_file(path, layer=layer_list.index(layer_name))\n",
    "    return gpd_layer"
   ]
  },
  {
   "cell_type": "code",
   "execution_count": 32,
   "id": "6acc6aa7",
   "metadata": {
    "hidden": true
   },
   "outputs": [],
   "source": [
    "def up_load_shp(path):\n",
    "    path='{}'.format(path)\n",
    "    gpd_layer=gpd.read_file(path)\n",
    "    return gpd_layer"
   ]
  },
  {
   "cell_type": "code",
   "execution_count": 33,
   "id": "cb093800",
   "metadata": {
    "hidden": true
   },
   "outputs": [],
   "source": [
    "def unique_id_in_one_taz(df_to_geoode,unique_field,gpd_for_geocode,taz):\n",
    "    \n",
    "    code_to_find=list(df_to_geoode[unique_field].unique())\n",
    "\n",
    "    gpd_for_geocode_to_sum_by_taz=gpd_for_geocode[[unique_field,'geometry']].loc[gpd_for_geocode[unique_field].isin(code_to_find)]\n",
    "\n",
    "    gpd_for_geocode_to_sum_by_taz=gpd.sjoin(taz[['Taz_num','geometry']],gpd_for_geocode_to_sum_by_taz)\n",
    "\n",
    "    gpd_for_geocode_in_one_taz=list(gpd_for_geocode_to_sum_by_taz.groupby(unique_field)[['Taz_num']].nunique().query('Taz_num==1').reset_index()[unique_field])\n",
    "\n",
    "    return gpd_for_geocode_in_one_taz"
   ]
  },
  {
   "cell_type": "code",
   "execution_count": 34,
   "id": "b1a16060",
   "metadata": {
    "hidden": true
   },
   "outputs": [],
   "source": [
    "def up_load_df(folder_path,file_name):\n",
    "    \n",
    "    path_df=r'{}\\{}.xlsx'.format(folder_path,file_name)\n",
    "    df=pd.read_excel(path_df)\n",
    "    df=df.dropna(how='all')\n",
    "\n",
    "    return df\n"
   ]
  },
  {
   "cell_type": "markdown",
   "id": "b1283c8d",
   "metadata": {},
   "source": [
    "### קוד"
   ]
  },
  {
   "cell_type": "markdown",
   "id": "fbcf2129",
   "metadata": {
    "heading_collapsed": true
   },
   "source": [
    "#### מידע של מלל"
   ]
  },
  {
   "cell_type": "code",
   "execution_count": 35,
   "id": "afacb4ab",
   "metadata": {
    "hidden": true
   },
   "outputs": [],
   "source": [
    "gov=up_load_df(r'\\\\FILE-SRV\\Jtmt\\projections_team\\כללי\\שיתופי פעולה\\תחזיות כלל ארציות מועצה הלאומית לכלכלה\\210512_תוצאות_סופיות','טיוטת תוצאות לתרחישי אוכלוסייה אזוריים - 2020-2050 - טיוטה')"
   ]
  },
  {
   "cell_type": "code",
   "execution_count": 36,
   "id": "d1f4d654",
   "metadata": {
    "hidden": true
   },
   "outputs": [],
   "source": [
    "gov_bau=gov.query('proj==\"medium\" & housing_adjusted ==False & year==2050 & (district==\"Jerusalem District\" | district==\"Yehuda and Shomron\")')"
   ]
  },
  {
   "cell_type": "code",
   "execution_count": 37,
   "id": "d2db8d21",
   "metadata": {
    "hidden": true
   },
   "outputs": [],
   "source": [
    "gov_plan=gov.query('proj==\"medium\" & housing_adjusted ==True & year==2050 & (district==\"Jerusalem District\" | district==\"Yehuda and Shomron\")')"
   ]
  },
  {
   "cell_type": "code",
   "execution_count": 38,
   "id": "356cabc6",
   "metadata": {
    "hidden": true
   },
   "outputs": [],
   "source": [
    "gov_bau_pivot=gov_bau.pivot_table(values='pop',index=['district','group'],aggfunc=sum)"
   ]
  },
  {
   "cell_type": "code",
   "execution_count": 39,
   "id": "fcf4eb6d",
   "metadata": {
    "hidden": true
   },
   "outputs": [],
   "source": [
    "gov_plan_pivot=gov_plan.pivot_table(values='pop',index=['district','group'],aggfunc=sum)"
   ]
  },
  {
   "cell_type": "code",
   "execution_count": 40,
   "id": "8f11681a",
   "metadata": {
    "hidden": true
   },
   "outputs": [],
   "source": [
    "gov_bau_pivot=gov_bau_pivot.loc[[('Jerusalem District',           'arab'),\n",
    "            ('Jerusalem District',         'haredi'),\n",
    "            ('Jerusalem District', 'jew_not_haredi'),\n",
    "            \n",
    "            ('Yehuda and Shomron',         'haredi'),\n",
    "            ('Yehuda and Shomron', 'jew_not_haredi')]]"
   ]
  },
  {
   "cell_type": "code",
   "execution_count": 41,
   "id": "b2d2172b",
   "metadata": {
    "hidden": true
   },
   "outputs": [],
   "source": [
    "gov_plan_pivot=gov_plan_pivot.loc[[('Jerusalem District',           'arab'),\n",
    "            ('Jerusalem District',         'haredi'),\n",
    "            ('Jerusalem District', 'jew_not_haredi'),\n",
    "            \n",
    "            ('Yehuda and Shomron',         'haredi'),\n",
    "            ('Yehuda and Shomron', 'jew_not_haredi')]]"
   ]
  },
  {
   "cell_type": "markdown",
   "id": "3168b795",
   "metadata": {
    "heading_collapsed": true
   },
   "source": [
    "#### מידע של צתאל"
   ]
  },
  {
   "cell_type": "code",
   "execution_count": 42,
   "id": "d69eac27",
   "metadata": {
    "hidden": true
   },
   "outputs": [],
   "source": [
    "jtmt=up_load_df(r'W:\\Projects\\הסעת המונים\\01_שלב ה\\קבצי עבודה\\תחזיות_דמוגרפיות\\תחזיות_2050\\jtmt\\join_forecast','230720_forecast_2020_till_2050_jtmt')"
   ]
  },
  {
   "cell_type": "code",
   "execution_count": 43,
   "id": "54e5b495",
   "metadata": {
    "hidden": true
   },
   "outputs": [],
   "source": [
    "jtmt.loc[jtmt['main_secto']==\"U_Orthodox\",'group']='haredi'\n",
    "\n",
    "jtmt.loc[jtmt['main_secto']==\"arabs_behined_seperation_wall\",'group']='arab'\n",
    "\n",
    "jtmt.loc[jtmt['main_secto']==\"Arab\",'group']='arab'\n",
    "\n",
    "jtmt.loc[jtmt['main_secto']==\"Jewish\",'group']='jew_not_haredi'\n",
    "\n",
    "jtmt.loc[jtmt['zonetype']==\"Jerusalem\",'district']='Jerusalem District'\n",
    "\n",
    "jtmt.loc[jtmt['zonetype']==\"Judea and Samaria\",'district']='Yehuda and Shomron'"
   ]
  },
  {
   "cell_type": "code",
   "execution_count": 44,
   "id": "e6e25b00",
   "metadata": {
    "hidden": true,
    "scrolled": true
   },
   "outputs": [],
   "source": [
    "jtmt_pivot=jtmt.pivot_table(values='pop_without_dorms_yeshiva_2050',index=['district','group'],aggfunc=sum)"
   ]
  },
  {
   "cell_type": "markdown",
   "id": "e7c48cd9",
   "metadata": {
    "heading_collapsed": true
   },
   "source": [
    "#### תרחיש דיור לפי צתאל"
   ]
  },
  {
   "cell_type": "code",
   "execution_count": 45,
   "id": "dbe048af",
   "metadata": {
    "hidden": true
   },
   "outputs": [],
   "source": [
    "iplan=up_load_df(r'W:\\Projects\\הסעת המונים\\01_שלב ה\\קבצי עבודה\\תחזיות_דמוגרפיות\\תחזיות_2050\\iplan\\join_forecast','230720_forecast_2020_till_2050_iplan')"
   ]
  },
  {
   "cell_type": "code",
   "execution_count": 46,
   "id": "132a42ef",
   "metadata": {
    "hidden": true
   },
   "outputs": [],
   "source": [
    "iplan.loc[iplan['main_secto']==\"U_Orthodox\",'group']='haredi'\n",
    "\n",
    "iplan.loc[iplan['main_secto']==\"arabs_behined_seperation_wall\",'group']='arab'\n",
    "\n",
    "iplan.loc[iplan['main_secto']==\"Arab\",'group']='arab'\n",
    "\n",
    "iplan.loc[iplan['main_secto']==\"Jewish\",'group']='jew_not_haredi'\n",
    "\n",
    "iplan.loc[iplan['zonetype']==\"Jerusalem\",'district']='Jerusalem District'\n",
    "\n",
    "iplan.loc[iplan['zonetype']==\"Judea and Samaria\",'district']='Yehuda and Shomron'"
   ]
  },
  {
   "cell_type": "code",
   "execution_count": 47,
   "id": "98ee2d1b",
   "metadata": {
    "hidden": true,
    "scrolled": true
   },
   "outputs": [],
   "source": [
    "iplan_pivot=iplan.pivot_table(values='pop_without_dorms_yeshiva_2050',index=['district','group'],aggfunc=sum)"
   ]
  },
  {
   "cell_type": "markdown",
   "id": "07f085d4",
   "metadata": {},
   "source": [
    "#### תרחיש עסקים כרגיל לפי צתאל"
   ]
  },
  {
   "cell_type": "code",
   "execution_count": 48,
   "id": "8e1c6d5c",
   "metadata": {},
   "outputs": [],
   "source": [
    "bau=up_load_df(r'W:\\Projects\\הסעת המונים\\01_שלב ה\\קבצי עבודה\\תחזיות_דמוגרפיות\\תחזיות_2050\\bau\\join_forecast','230720_forecast_2020_till_2050_bau')"
   ]
  },
  {
   "cell_type": "code",
   "execution_count": 49,
   "id": "1554bca0",
   "metadata": {},
   "outputs": [],
   "source": [
    "bau.loc[bau['main_secto']==\"U_Orthodox\",'group']='haredi'\n",
    "\n",
    "bau.loc[bau['main_secto']==\"arabs_behined_seperation_wall\",'group']='arab'\n",
    "\n",
    "bau.loc[bau['main_secto']==\"Arab\",'group']='arab'\n",
    "\n",
    "bau.loc[bau['main_secto']==\"Jewish\",'group']='jew_not_haredi'\n",
    "\n",
    "bau.loc[bau['zonetype']==\"Jerusalem\",'district']='Jerusalem District'\n",
    "\n",
    "bau.loc[bau['zonetype']==\"Judea and Samaria\",'district']='Yehuda and Shomron'"
   ]
  },
  {
   "cell_type": "code",
   "execution_count": 50,
   "id": "4bf2f133",
   "metadata": {
    "scrolled": true
   },
   "outputs": [],
   "source": [
    "bau_pivot=bau.pivot_table(values='pop_without_dorms_yeshiva_2050',index=['district','group'],aggfunc=sum)"
   ]
  },
  {
   "cell_type": "markdown",
   "id": "de48278c",
   "metadata": {},
   "source": [
    "#### חיבור טבלאות"
   ]
  },
  {
   "cell_type": "code",
   "execution_count": 52,
   "id": "0b76b977",
   "metadata": {},
   "outputs": [],
   "source": [
    "jtmt_pivot.join(gov_plan_pivot).join(gov_bau_pivot,lsuffix='_iplan',rsuffix='_bau').join(iplan_pivot,rsuffix='_iplan_from_jtmt').join(bau_pivot,rsuffix='_bau_from_jtmt').to_excel('delet.xlsx')"
   ]
  }
 ],
 "metadata": {
  "kernelspec": {
   "display_name": "Python 3 (ipykernel)",
   "language": "python",
   "name": "python3"
  },
  "language_info": {
   "codemirror_mode": {
    "name": "ipython",
    "version": 3
   },
   "file_extension": ".py",
   "mimetype": "text/x-python",
   "name": "python",
   "nbconvert_exporter": "python",
   "pygments_lexer": "ipython3",
   "version": "3.10.4"
  },
  "toc": {
   "base_numbering": 1,
   "nav_menu": {},
   "number_sections": true,
   "sideBar": true,
   "skip_h1_title": false,
   "title_cell": "Table of Contents",
   "title_sidebar": "Contents",
   "toc_cell": false,
   "toc_position": {},
   "toc_section_display": true,
   "toc_window_display": true
  }
 },
 "nbformat": 4,
 "nbformat_minor": 5
}
