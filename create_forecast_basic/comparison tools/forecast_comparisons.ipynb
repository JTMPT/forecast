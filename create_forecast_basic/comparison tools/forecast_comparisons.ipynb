{
 "cells": [
  {
   "cell_type": "markdown",
   "id": "0e7214ba",
   "metadata": {
    "heading_collapsed": true
   },
   "source": [
    "### קוד מבוא"
   ]
  },
  {
   "cell_type": "code",
   "execution_count": 1,
   "id": "f8405d52",
   "metadata": {
    "hidden": true
   },
   "outputs": [],
   "source": [
    "import pandas as pd\n",
    "import geopandas as gpd\n",
    "import numpy as np\n",
    "from shapely import wkt\n",
    "from matplotlib import pyplot as plt \n",
    "import contextily as cx\n",
    "import folium\n",
    "import fiona\n",
    "from mpl_toolkits.axes_grid1 import make_axes_locatable\n",
    "from shapely.geometry import Point\n",
    "import adjustText as aT"
   ]
  },
  {
   "cell_type": "code",
   "execution_count": 2,
   "id": "2dacbc13",
   "metadata": {
    "hidden": true
   },
   "outputs": [],
   "source": [
    "pd.set_option('display.max_rows', None)\n",
    "pd.set_option('display.max_columns', None)"
   ]
  },
  {
   "cell_type": "code",
   "execution_count": 3,
   "id": "b2c3b3ca",
   "metadata": {
    "hidden": true
   },
   "outputs": [],
   "source": [
    "pd.options.display.float_format = '{:.4f}'.format\n",
    "pd.set_option('display.float_format',  '{:,.2f}'.format)"
   ]
  },
  {
   "cell_type": "markdown",
   "id": "9624443e",
   "metadata": {
    "heading_collapsed": true
   },
   "source": [
    "### פונקציות"
   ]
  },
  {
   "cell_type": "code",
   "execution_count": 4,
   "id": "d69c42ff",
   "metadata": {
    "hidden": true
   },
   "outputs": [],
   "source": [
    "def double_taz_num(df):\n",
    "    dup_taz_num=df.groupby(['Taz_num']).size().reset_index(name='count').query('count>1').Taz_num.to_list()\n",
    "    return df.loc[df['Taz_num'].isin(dup_taz_num)]"
   ]
  },
  {
   "cell_type": "code",
   "execution_count": 5,
   "id": "d048994a",
   "metadata": {
    "hidden": true
   },
   "outputs": [],
   "source": [
    "def make_point(df):\n",
    "    df_point=df.copy()\n",
    "    df_point['centroid'] = df_point.representative_point()\n",
    "    df_point=df_point.set_geometry('centroid')\n",
    "    df_point=df_point.drop(columns=['geometry'],axis=1)\n",
    "    return df_point"
   ]
  },
  {
   "cell_type": "code",
   "execution_count": 6,
   "id": "86bf5cad",
   "metadata": {
    "hidden": true
   },
   "outputs": [],
   "source": [
    "def up_load_gdb(path,layer_name):\n",
    "    path='{}'.format(path)\n",
    "    layer_list=fiona.listlayers(path)\n",
    "    gpd_layer=gpd.read_file(path, layer=layer_list.index(layer_name))\n",
    "    return gpd_layer"
   ]
  },
  {
   "cell_type": "code",
   "execution_count": 7,
   "id": "6acc6aa7",
   "metadata": {
    "hidden": true
   },
   "outputs": [],
   "source": [
    "def up_load_shp(path):\n",
    "    path='{}'.format(path)\n",
    "    gpd_layer=gpd.read_file(path)\n",
    "    return gpd_layer"
   ]
  },
  {
   "cell_type": "code",
   "execution_count": 8,
   "id": "b1a16060",
   "metadata": {
    "hidden": true
   },
   "outputs": [],
   "source": [
    "def up_load_df(folder_path,file_name):\n",
    "    \n",
    "    path_df=r'{}\\{}.xlsx'.format(folder_path,file_name)\n",
    "    df=pd.read_excel(path_df)\n",
    "    df=df.dropna(how='all')\n",
    "\n",
    "    return df\n"
   ]
  },
  {
   "cell_type": "code",
   "execution_count": 9,
   "id": "38e28850",
   "metadata": {
    "hidden": true
   },
   "outputs": [],
   "source": [
    "\n",
    "def split_index_by_taz(index,taz,min_prec,col_name_to_split):\n",
    "    index['index_area']=index.area\n",
    "    \n",
    "    taz['taz_area']=taz.area\n",
    "\n",
    "    index_taz=index.overlay(taz[['Taz_num','taz_area','geometry']])\n",
    "\n",
    "    index_taz['small_area']=index_taz.area\n",
    "\n",
    "    index_taz['precent_from_big_index']=index_taz['small_area']/index_taz['index_area']\n",
    "    \n",
    "    index_taz['precent_from_big_taz']=index_taz['small_area']/index_taz['taz_area']\n",
    "\n",
    "    index_taz=index_taz.loc[(index_taz['precent_from_big_index']>min_prec)|(index_taz['precent_from_big_taz']>0.9)]\n",
    "    \n",
    "    index_taz=index_taz[['id','Taz_num','precent_from_big_index']]\n",
    "\n",
    "    new_big=index_taz.groupby(['id']).sum()\n",
    "\n",
    "    index=index.set_index('id')\n",
    "    index['new_big']=new_big['precent_from_big_index']\n",
    "\n",
    "    index=pd.merge(index.reset_index(),index_taz,on='id')\n",
    "\n",
    "    for c in col_name_to_split:\n",
    "        index['{}'.format(c)]=index['{}'.format(c)]*(index['precent_from_big_index']/index['new_big'])\n",
    "        \n",
    "        \n",
    "    return index"
   ]
  },
  {
   "cell_type": "code",
   "execution_count": 10,
   "id": "2cb4172d",
   "metadata": {
    "hidden": true
   },
   "outputs": [],
   "source": [
    "def sum_scenarios(sum_df,df,scenario_name,col_name,col_need,num_round):\n",
    "\n",
    "    df=round(pd.pivot_table(df,index=col_name,aggfunc=sum)[col_need],num_round)\n",
    "\n",
    "    df['scenario']=scenario_name\n",
    "    \n",
    "    sum_df=pd.concat([sum_df,df],axis=0)\n",
    "    \n",
    "    return sum_df"
   ]
  },
  {
   "cell_type": "code",
   "execution_count": 11,
   "id": "1625baa9",
   "metadata": {
    "code_folding": [],
    "hidden": true
   },
   "outputs": [],
   "source": [
    "def group_sector(df):\n",
    "    \n",
    "    df['group']=df['main_secto']\n",
    "\n",
    "    df.loc[df['group']=='arabs_behined_seperation_wall','group']='Arab'\n",
    "\n",
    "    df.loc[df['group']=='arabs_behined_seperation_wall','group']='Arab'\n",
    "    return df"
   ]
  },
  {
   "cell_type": "code",
   "execution_count": 12,
   "id": "14b504a4",
   "metadata": {
    "hidden": true
   },
   "outputs": [],
   "source": [
    "def compare_scenarios(sum_df,col_index):\n",
    "    sum_df=sum_df.pivot_table(index=col_index,columns='scenario',aggfunc=sum)\n",
    "\n",
    "    sum_df=sum_df.fillna(0)\n",
    "\n",
    "    sum_df = sum_df.loc[:, ~(sum_df == 0).all(axis=0)]\n",
    "\n",
    "    sum_df=sum_df.loc[ ~(sum_df == 0).all(axis=1),:]\n",
    "    \n",
    "    return sum_df"
   ]
  },
  {
   "cell_type": "markdown",
   "id": "21ecf8a3",
   "metadata": {
    "heading_collapsed": true
   },
   "source": [
    "### העלת קבצים"
   ]
  },
  {
   "cell_type": "code",
   "execution_count": 13,
   "id": "a0f8b5ed",
   "metadata": {
    "hidden": true
   },
   "outputs": [],
   "source": [
    "save_file=r'W:\\Projects\\הסעת המונים\\01_שלב ה\\קבצי עבודה\\תחזיות_דמוגרפיות\\תחזיות_2050\\jtmt\\join_forecast'\n",
    "\n",
    "jtmt=up_load_df(save_file,'230720_forecast_2020_till_2050_jtmt')"
   ]
  },
  {
   "cell_type": "code",
   "execution_count": 14,
   "id": "5d9d3d99",
   "metadata": {
    "hidden": true
   },
   "outputs": [],
   "source": [
    "jtmt=jtmt.query('zonetype!=\"Palestinian\"')"
   ]
  },
  {
   "cell_type": "code",
   "execution_count": 15,
   "id": "dd753a8f",
   "metadata": {
    "hidden": true
   },
   "outputs": [],
   "source": [
    "save_file=r'W:\\Projects\\הסעת המונים\\01_שלב ה\\קבצי עבודה\\תחזיות_דמוגרפיות\\תחזיות_2050\\bau\\join_forecast'\n",
    "\n",
    "bau=up_load_df(save_file,'230720_forecast_2020_till_2050_bau')"
   ]
  },
  {
   "cell_type": "code",
   "execution_count": 16,
   "id": "939c7d2a",
   "metadata": {
    "hidden": true
   },
   "outputs": [],
   "source": [
    "bau=bau.query('zonetype==\"Jerusalem\" | zonetype==\"Judea and Samaria\" ')"
   ]
  },
  {
   "cell_type": "code",
   "execution_count": 17,
   "id": "0d226f28",
   "metadata": {
    "hidden": true
   },
   "outputs": [],
   "source": [
    "save_file=r'W:\\Projects\\הסעת המונים\\01_שלב ה\\קבצי עבודה\\תחזיות_דמוגרפיות\\תחזיות_2050\\iplan\\join_forecast'\n",
    "\n",
    "iplan=up_load_df(save_file,'230720_forecast_2020_till_2050_iplan')"
   ]
  },
  {
   "cell_type": "code",
   "execution_count": 18,
   "id": "eefb4212",
   "metadata": {
    "hidden": true
   },
   "outputs": [],
   "source": [
    "iplan=iplan.query('zonetype==\"Jerusalem\" | zonetype==\"Judea and Samaria\" ')"
   ]
  },
  {
   "cell_type": "code",
   "execution_count": 19,
   "id": "2c14cfef",
   "metadata": {
    "hidden": true
   },
   "outputs": [],
   "source": [
    "save_file=r'W:\\Model Versions\\3.1\\Forecasts'\n",
    "\n",
    "v3=up_load_df(save_file,'v3_for_comparison_to_v4')"
   ]
  },
  {
   "cell_type": "code",
   "execution_count": 20,
   "id": "09cfb023",
   "metadata": {
    "hidden": true
   },
   "outputs": [],
   "source": [
    "v3=v3.query('zonetype!=\"Palestinian\"')"
   ]
  },
  {
   "cell_type": "code",
   "execution_count": 21,
   "id": "a64f11b6",
   "metadata": {
    "hidden": true
   },
   "outputs": [],
   "source": [
    "save_file=r'\\\\FILE-SRV\\Jtmt\\projections_team\\GIS_backround\\INFO\\למ_ס\\נתוני עבר'\n",
    "\n",
    "past_2010=up_load_df(save_file,'נתוני ישובים ומועצות  2010 - עיבוד')"
   ]
  },
  {
   "cell_type": "code",
   "execution_count": 22,
   "id": "e5214226",
   "metadata": {
    "hidden": true
   },
   "outputs": [],
   "source": [
    "save_file=r'\\\\FILE-SRV\\Jtmt\\projections_team\\GIS_backround\\INFO\\למ_ס\\נתוני עבר'\n",
    "\n",
    "past_2000=up_load_df(save_file,'נתוני ישובים ומועצות  2000 -עיבוד')"
   ]
  },
  {
   "cell_type": "code",
   "execution_count": 23,
   "id": "5cce9bfe",
   "metadata": {
    "hidden": true
   },
   "outputs": [],
   "source": [
    "save_file=r'\\\\FILE-SRV\\Jtmt\\projections_team\\GIS_backround\\INFO\\למ_ס\\נתוני עבר'\n",
    "\n",
    "past_2020=up_load_df(save_file,'נתוני רשויות 2020 - עיבוד')"
   ]
  },
  {
   "cell_type": "code",
   "execution_count": 24,
   "id": "e26c0789",
   "metadata": {
    "hidden": true
   },
   "outputs": [],
   "source": [
    "gov=up_load_df(r'\\\\FILE-SRV\\Jtmt\\projections_team\\כללי\\שיתופי פעולה\\תחזיות כלל ארציות מועצה הלאומית לכלכלה\\210512_תוצאות_סופיות','טיוטת תוצאות לתרחישי אוכלוסייה אזוריים - 2020-2050 - טיוטה')"
   ]
  },
  {
   "cell_type": "markdown",
   "id": "acd472c0",
   "metadata": {},
   "source": [
    "## אחוז תרחיש מכלל ארצי"
   ]
  },
  {
   "cell_type": "code",
   "execution_count": 25,
   "id": "c6ed7981",
   "metadata": {},
   "outputs": [],
   "source": [
    "def gov_goal_by_year(sum_df,df,year,scenario_True,machoz):\n",
    "    \n",
    "    \n",
    "    \n",
    "    goal=df.query('proj==\"medium\" & housing_adjusted ==@scenario_True & year==@year')['pop'].sum().item()\n",
    "    \n",
    "    data = [ {'scenario': 'iplan' if scenario_True else 'bau', 'year': year,'pop':goal}]\n",
    "     \n",
    "    df_to_add = pd.DataFrame(data)\n",
    "    \n",
    "    \n",
    "    sum_df=pd.concat([sum_df,df_to_add],axis=0)\n",
    "    \n",
    "    return sum_df\n",
    "    "
   ]
  },
  {
   "cell_type": "code",
   "execution_count": 26,
   "id": "60aa93f9",
   "metadata": {},
   "outputs": [],
   "source": [
    "def gov_goal_by_year_machoz(sum_df,df,year,scenario_True,machoz_name):\n",
    "    \n",
    "    \n",
    "    \n",
    "    goal=df.query('proj==\"medium\" & housing_adjusted ==@scenario_True & year==@year & district==@machoz_name')['pop'].sum().item()\n",
    "    \n",
    "    data = [ {'scenario': 'iplan' if scenario_True else 'bau', 'year': year,'zonetype':machoz_name,'pop':goal}]\n",
    "     \n",
    "    df_to_add = pd.DataFrame(data)\n",
    "    \n",
    "    sum_df=pd.concat([sum_df,df_to_add],axis=0)\n",
    "    \n",
    "    return sum_df\n",
    "    "
   ]
  },
  {
   "cell_type": "code",
   "execution_count": 27,
   "id": "0d14a7e6",
   "metadata": {},
   "outputs": [],
   "source": [
    "def jtmt_forecast_by_year_machoz(sum_df,jtmt,year,machoz_name):\n",
    "    \n",
    "    \n",
    "    \n",
    "    goal=jtmt.query('zonetype==@machoz_name')['pop_without_dorms_yeshiva_{}'.format(year)].sum().item()\n",
    "    \n",
    "    data = [ {'scenario': 'jtmt' , 'year': year,'zonetype':machoz_name,'pop':goal}]\n",
    "     \n",
    "    df_to_add = pd.DataFrame(data)\n",
    "    \n",
    "    sum_df=pd.concat([sum_df,df_to_add],axis=0)\n",
    "    \n",
    "    return sum_df\n",
    "    "
   ]
  },
  {
   "cell_type": "code",
   "execution_count": 28,
   "id": "374ced2e",
   "metadata": {},
   "outputs": [],
   "source": [
    "sum_df = pd.DataFrame()\n",
    "for t in [True,False]:\n",
    "    for m in [\"Jerusalem District\",\"Yehuda and Shomron\"]:\n",
    "        for y in list(range(2020,2051,5)):\n",
    "            sum_df=gov_goal_by_year_machoz(sum_df,gov,y,t,m)\n",
    "\n"
   ]
  },
  {
   "cell_type": "code",
   "execution_count": 29,
   "id": "9498ced0",
   "metadata": {},
   "outputs": [],
   "source": [
    "for m in [\"Jerusalem\",\"Judea and Samaria\"]:\n",
    "        for y in list(range(2025,2051,5)):\n",
    "            sum_df=jtmt_forecast_by_year_machoz(sum_df,jtmt,y,m)\n"
   ]
  },
  {
   "cell_type": "code",
   "execution_count": 30,
   "id": "6ec510fc",
   "metadata": {},
   "outputs": [],
   "source": [
    "sum_df.loc[sum_df['zonetype']==\"Jerusalem\",'zonetype']=\"Jerusalem District\""
   ]
  },
  {
   "cell_type": "code",
   "execution_count": 31,
   "id": "34a0f531",
   "metadata": {},
   "outputs": [],
   "source": [
    "sum_df.loc[sum_df['zonetype']==\"Judea and Samaria\",'zonetype']=\"Yehuda and Shomron\""
   ]
  },
  {
   "cell_type": "code",
   "execution_count": 32,
   "id": "f7f393fd",
   "metadata": {},
   "outputs": [],
   "source": [
    "df=sum_df.pivot_table(index=['year'],columns=['zonetype','scenario'],aggfunc=sum)"
   ]
  },
  {
   "cell_type": "code",
   "execution_count": 33,
   "id": "c9160f74",
   "metadata": {},
   "outputs": [
    {
     "ename": "TypeError",
     "evalue": "gov_goal_by_year() missing 1 required positional argument: 'machoz'",
     "output_type": "error",
     "traceback": [
      "\u001b[1;31m---------------------------------------------------------------------------\u001b[0m",
      "\u001b[1;31mTypeError\u001b[0m                                 Traceback (most recent call last)",
      "Input \u001b[1;32mIn [33]\u001b[0m, in \u001b[0;36m<cell line: 2>\u001b[1;34m()\u001b[0m\n\u001b[0;32m      2\u001b[0m \u001b[38;5;28;01mfor\u001b[39;00m t \u001b[38;5;129;01min\u001b[39;00m [\u001b[38;5;28;01mTrue\u001b[39;00m,\u001b[38;5;28;01mFalse\u001b[39;00m]:\n\u001b[0;32m      3\u001b[0m     \u001b[38;5;28;01mfor\u001b[39;00m y \u001b[38;5;129;01min\u001b[39;00m \u001b[38;5;28mlist\u001b[39m(\u001b[38;5;28mrange\u001b[39m(\u001b[38;5;241m2020\u001b[39m,\u001b[38;5;241m2051\u001b[39m,\u001b[38;5;241m5\u001b[39m)):\n\u001b[1;32m----> 4\u001b[0m         sum_total\u001b[38;5;241m=\u001b[39m\u001b[43mgov_goal_by_year\u001b[49m\u001b[43m(\u001b[49m\u001b[43msum_total\u001b[49m\u001b[43m,\u001b[49m\u001b[43mgov\u001b[49m\u001b[43m,\u001b[49m\u001b[43my\u001b[49m\u001b[43m,\u001b[49m\u001b[43mt\u001b[49m\u001b[43m)\u001b[49m\n\u001b[0;32m      6\u001b[0m sum_total\u001b[38;5;241m=\u001b[39msum_total\u001b[38;5;241m.\u001b[39mpivot_table(index\u001b[38;5;241m=\u001b[39m[\u001b[38;5;124m'\u001b[39m\u001b[38;5;124myear\u001b[39m\u001b[38;5;124m'\u001b[39m],columns\u001b[38;5;241m=\u001b[39m[\u001b[38;5;124m'\u001b[39m\u001b[38;5;124mscenario\u001b[39m\u001b[38;5;124m'\u001b[39m],aggfunc\u001b[38;5;241m=\u001b[39m\u001b[38;5;28msum\u001b[39m)\n",
      "\u001b[1;31mTypeError\u001b[0m: gov_goal_by_year() missing 1 required positional argument: 'machoz'"
     ]
    }
   ],
   "source": [
    "sum_total = pd.DataFrame()\n",
    "for t in [True,False]:\n",
    "    for y in list(range(2020,2051,5)):\n",
    "        sum_total=gov_goal_by_year(sum_total,gov,y,t)\n",
    "\n",
    "sum_total=sum_total.pivot_table(index=['year'],columns=['scenario'],aggfunc=sum)"
   ]
  },
  {
   "cell_type": "code",
   "execution_count": null,
   "id": "b04f3d09",
   "metadata": {},
   "outputs": [],
   "source": [
    "df['Totatl_pop_il']=sum_total['pop']['bau']"
   ]
  },
  {
   "cell_type": "code",
   "execution_count": null,
   "id": "e64b44de",
   "metadata": {},
   "outputs": [],
   "source": [
    "df.to_excel('scenario_precent_of_pop_il.xlsx')"
   ]
  },
  {
   "cell_type": "markdown",
   "id": "bd65cc35",
   "metadata": {},
   "source": [
    "## נתוני עבר"
   ]
  },
  {
   "cell_type": "code",
   "execution_count": 34,
   "id": "d73c77b9",
   "metadata": {},
   "outputs": [],
   "source": [
    "sum_df = pd.DataFrame()\n",
    "\n",
    "col_index=['zonetype','muni_name']\n",
    "\n",
    "col_need=[ 'pop_without_dorms_yeshiva','pop_0_20','pop_21_45','pop_45_65','pop_65+','student','jew_precent']\n",
    "\n",
    "sum_df=sum_scenarios(sum_df,past_2000,'2000',col_index,col_need,2)\n",
    "\n",
    "sum_df=sum_scenarios(sum_df,past_2010,'2010',col_index,col_need,2)\n",
    "\n",
    "sum_df=sum_scenarios(sum_df,past_2020,'2020',col_index,col_need,2)"
   ]
  },
  {
   "cell_type": "code",
   "execution_count": 35,
   "id": "a4ab112c",
   "metadata": {},
   "outputs": [],
   "source": [
    "sum_df=sum_df.pivot_table(index=col_index,columns='scenario',aggfunc=sum)\n",
    "\n",
    "sum_df=sum_df.fillna(0)\n",
    "\n",
    "sum_df = sum_df.loc[:, ~(sum_df == 0).all(axis=0)]\n",
    "\n",
    "sum_df=sum_df.loc[ ~(sum_df == 0).all(axis=1),:]"
   ]
  },
  {
   "cell_type": "code",
   "execution_count": 36,
   "id": "06748338",
   "metadata": {
    "scrolled": false
   },
   "outputs": [],
   "source": [
    "sum_df.sort_values(col_index).to_excel('past_data_2000till2020_muni.xlsx')"
   ]
  },
  {
   "cell_type": "markdown",
   "id": "b038e0aa",
   "metadata": {},
   "source": [
    "## השוואות בין התרחישים"
   ]
  },
  {
   "cell_type": "code",
   "execution_count": 37,
   "id": "d69968ef",
   "metadata": {},
   "outputs": [],
   "source": [
    "jtmt_full=jtmt"
   ]
  },
  {
   "cell_type": "code",
   "execution_count": 38,
   "id": "523e7dbe",
   "metadata": {},
   "outputs": [],
   "source": [
    "jtmt=jtmt.query('zonetype==\"Jerusalem\" | zonetype==\"Judea and Samaria\" ')"
   ]
  },
  {
   "cell_type": "markdown",
   "id": "b9ef8bd1",
   "metadata": {},
   "source": [
    "### אוכלוסייה  לפי מחוז תרחיש כל עשור"
   ]
  },
  {
   "cell_type": "code",
   "execution_count": 49,
   "id": "ce001013",
   "metadata": {},
   "outputs": [],
   "source": [
    "col_index=['zonetype','Muni_Heb']\n",
    "\n",
    "col_need=['pop_without_dorms_yeshiva',\n",
    " 'pop_without_dorms_yeshiva_2030',\n",
    " 'pop_without_dorms_yeshiva_2040',\n",
    " 'pop_without_dorms_yeshiva_2050']\n",
    "\n",
    "sum_df = pd.DataFrame()\n",
    "\n",
    "sum_df=sum_scenarios(sum_df,jtmt,'jtmt',col_index,col_need,-3)\n",
    "\n",
    "sum_df=sum_scenarios(sum_df,iplan,'iplan',col_index,col_need,-3)\n",
    "\n",
    "sum_df=sum_scenarios(sum_df,bau,'bau',col_index,col_need,-3)"
   ]
  },
  {
   "cell_type": "code",
   "execution_count": 50,
   "id": "4144e28b",
   "metadata": {},
   "outputs": [],
   "source": [
    "sum_df.to_excel('sum_scenario_pop_by_muni_for_pre.xlsx')"
   ]
  },
  {
   "cell_type": "code",
   "execution_count": 47,
   "id": "2118937a",
   "metadata": {},
   "outputs": [],
   "source": [
    "col_index=['zonetype']\n",
    "\n",
    "col_need=['pop_without_dorms_yeshiva',\n",
    " 'pop_without_dorms_yeshiva_2030',\n",
    " 'pop_without_dorms_yeshiva_2040',\n",
    " 'pop_without_dorms_yeshiva_2050']\n",
    "\n",
    "sum_df = pd.DataFrame()\n",
    "\n",
    "sum_df=sum_scenarios(sum_df,jtmt,'jtmt',col_index,col_need,-3)\n",
    "\n",
    "sum_df=sum_scenarios(sum_df,iplan,'iplan',col_index,col_need,-3)\n",
    "\n",
    "sum_df=sum_scenarios(sum_df,bau,'bau',col_index,col_need,-3)"
   ]
  },
  {
   "cell_type": "code",
   "execution_count": 48,
   "id": "df73c6d5",
   "metadata": {},
   "outputs": [],
   "source": [
    "sum_df.to_excel('sum_scenario_pop_by_macoz_for_pre.xlsx')"
   ]
  },
  {
   "cell_type": "code",
   "execution_count": null,
   "id": "65b20bbb",
   "metadata": {},
   "outputs": [],
   "source": [
    "sum_df[['scenario',\n",
    " 'pop_without_dorms_yeshiva',\n",
    " 'pop_without_dorms_yeshiva_2025',\n",
    " 'pop_without_dorms_yeshiva_2030',\n",
    " 'pop_without_dorms_yeshiva_2035',\n",
    " 'pop_without_dorms_yeshiva_2040',\n",
    " 'pop_without_dorms_yeshiva_2045',\n",
    " 'pop_without_dorms_yeshiva_2050']].sort_values('group').to_excel('sum_scenario_group_pop.xlsx')"
   ]
  },
  {
   "cell_type": "markdown",
   "id": "407f3444",
   "metadata": {},
   "source": [
    "### אוכלוסייה ותעסוקה לפי מחוז תרחיש בשנת 2050"
   ]
  },
  {
   "cell_type": "code",
   "execution_count": null,
   "id": "8c7d7f9f",
   "metadata": {
    "scrolled": true
   },
   "outputs": [],
   "source": [
    "col=['zonetype']\n",
    "\n",
    "col_need=['pop_without_dorms_yeshiva','total_emp']\n",
    "\n",
    "kayim=round(pd.pivot_table(jtmt,index='zonetype',aggfunc=sum)[col_need],-4)\n",
    "\n",
    "kayim['year']=2020"
   ]
  },
  {
   "cell_type": "code",
   "execution_count": null,
   "id": "236c28eb",
   "metadata": {
    "scrolled": true
   },
   "outputs": [],
   "source": [
    "col=['zonetype']\n",
    "\n",
    "col_need=['pop_without_dorms_yeshiva_2050','total_emp_2050']\n",
    "\n",
    "df=round(pd.pivot_table(jtmt,index='zonetype',aggfunc=sum)[col_need],-4)\n",
    "\n",
    "df['year']=2050\n",
    "\n",
    "df['scenario']='jtmt'"
   ]
  },
  {
   "cell_type": "code",
   "execution_count": null,
   "id": "6d2bf0cd",
   "metadata": {},
   "outputs": [],
   "source": [
    "sum_df=df"
   ]
  },
  {
   "cell_type": "code",
   "execution_count": null,
   "id": "943c5638",
   "metadata": {
    "scrolled": true
   },
   "outputs": [],
   "source": [
    "col=['zonetype']\n",
    "\n",
    "col_need=['pop_without_dorms_yeshiva_2050','total_emp_2050']\n",
    "\n",
    "df=round(pd.pivot_table(iplan,index='zonetype',aggfunc=sum)[col_need],-4)\n",
    "\n",
    "df['year']=2050\n",
    "\n",
    "df['scenario']='iplan'"
   ]
  },
  {
   "cell_type": "code",
   "execution_count": null,
   "id": "9a75e1a2",
   "metadata": {},
   "outputs": [],
   "source": [
    "sum_df=pd.concat([sum_df,df],axis=0)"
   ]
  },
  {
   "cell_type": "code",
   "execution_count": null,
   "id": "1b2595e6",
   "metadata": {
    "scrolled": true
   },
   "outputs": [],
   "source": [
    "col=['zonetype']\n",
    "\n",
    "col_need=['pop_without_dorms_yeshiva_2050','total_emp_2050']\n",
    "\n",
    "df=round(pd.pivot_table(bau,index='zonetype',aggfunc=sum)[col_need],-4)\n",
    "\n",
    "df['year']=2050\n",
    "\n",
    "df['scenario']='bau'"
   ]
  },
  {
   "cell_type": "code",
   "execution_count": null,
   "id": "7861c396",
   "metadata": {},
   "outputs": [],
   "source": [
    "sum_df=pd.concat([sum_df,df],axis=0)"
   ]
  },
  {
   "cell_type": "code",
   "execution_count": null,
   "id": "d88fe196",
   "metadata": {},
   "outputs": [],
   "source": [
    "sum_df=sum_df.sort_values('zonetype')"
   ]
  },
  {
   "cell_type": "code",
   "execution_count": null,
   "id": "b1b36b4f",
   "metadata": {},
   "outputs": [],
   "source": [
    "col=['scenario','pop_without_dorms_yeshiva_2050', 'total_emp_2050']"
   ]
  },
  {
   "cell_type": "code",
   "execution_count": null,
   "id": "4c305516",
   "metadata": {},
   "outputs": [],
   "source": [
    "sum_df[col].to_excel('sum_scenario_machoz_pop_emp.xlsx')"
   ]
  },
  {
   "cell_type": "code",
   "execution_count": null,
   "id": "b32036eb",
   "metadata": {},
   "outputs": [],
   "source": [
    "kayim.to_excel('kayim_sum_machoz_pop_emp.xlsx')"
   ]
  },
  {
   "cell_type": "markdown",
   "id": "87feecdd",
   "metadata": {},
   "source": [
    "### אוכלוסייה  לפי מגזר חומשים ותרחיש"
   ]
  },
  {
   "cell_type": "code",
   "execution_count": null,
   "id": "a0d0d479",
   "metadata": {},
   "outputs": [],
   "source": [
    "iplan=group_sector(iplan)"
   ]
  },
  {
   "cell_type": "code",
   "execution_count": null,
   "id": "61f1e16f",
   "metadata": {},
   "outputs": [],
   "source": [
    "bau=group_sector(bau)"
   ]
  },
  {
   "cell_type": "code",
   "execution_count": null,
   "id": "5ddfb0ea",
   "metadata": {},
   "outputs": [],
   "source": [
    "jtmt=group_sector(jtmt)"
   ]
  },
  {
   "cell_type": "code",
   "execution_count": null,
   "id": "7f773ad3",
   "metadata": {},
   "outputs": [],
   "source": [
    "col_need=['pop_without_dorms_yeshiva',\n",
    " 'pop_without_dorms_yeshiva_2025',\n",
    " 'pop_without_dorms_yeshiva_2030',\n",
    " 'pop_without_dorms_yeshiva_2035',\n",
    " 'pop_without_dorms_yeshiva_2040',\n",
    " 'pop_without_dorms_yeshiva_2045',\n",
    " 'pop_without_dorms_yeshiva_2050']\n",
    "\n",
    "sum_df = pd.DataFrame()\n",
    "\n",
    "sum_df=sum_scenarios(sum_df,jtmt,'jtmt','group',col_need,-3)\n",
    "\n",
    "sum_df=sum_scenarios(sum_df,iplan,'iplan','group',col_need,-3)\n",
    "\n",
    "sum_df=sum_scenarios(sum_df,bau,'bau','group',col_need,-3)"
   ]
  },
  {
   "cell_type": "code",
   "execution_count": 209,
   "id": "3d3797aa",
   "metadata": {},
   "outputs": [],
   "source": [
    "sum_df[['scenario',\n",
    " 'pop_without_dorms_yeshiva',\n",
    " 'pop_without_dorms_yeshiva_2025',\n",
    " 'pop_without_dorms_yeshiva_2030',\n",
    " 'pop_without_dorms_yeshiva_2035',\n",
    " 'pop_without_dorms_yeshiva_2040',\n",
    " 'pop_without_dorms_yeshiva_2045',\n",
    " 'pop_without_dorms_yeshiva_2050']].sort_values('group').to_excel('sum_scenario_group_pop.xlsx')"
   ]
  },
  {
   "cell_type": "markdown",
   "id": "38683dc8",
   "metadata": {
    "heading_collapsed": true
   },
   "source": [
    "### אוכלוסיה לפי תרחיש ורשות"
   ]
  },
  {
   "cell_type": "code",
   "execution_count": 173,
   "id": "6db7d97c",
   "metadata": {
    "hidden": true
   },
   "outputs": [],
   "source": [
    "col_need=['pop_without_dorms_yeshiva_2050','total_emp_2050']\n",
    "\n",
    "df=round(pd.pivot_table(jtmt,index=['zonetype','Muni_Heb'],aggfunc=sum)[col_need],-2)\n",
    "\n",
    "df['scenario']='jtmt'\n",
    "\n",
    "sum_df=df"
   ]
  },
  {
   "cell_type": "code",
   "execution_count": 174,
   "id": "498e43ed",
   "metadata": {
    "hidden": true
   },
   "outputs": [],
   "source": [
    "col_index=['zonetype','Muni_Heb']"
   ]
  },
  {
   "cell_type": "code",
   "execution_count": 175,
   "id": "f1ce8d11",
   "metadata": {
    "hidden": true
   },
   "outputs": [],
   "source": [
    "sum_df=sum_scenarios(sum_df,iplan,'iplan',col_index,col_need,-2)\n",
    "\n",
    "sum_df=sum_scenarios(sum_df,bau,'bau',col_index,col_need,-2)\n",
    "\n",
    "sum_df=sum_scenarios(sum_df,jtmt,'kayim',col_index,['pop_without_dorms_yeshiva','total_emp'],-2)"
   ]
  },
  {
   "cell_type": "code",
   "execution_count": 176,
   "id": "d3ffce4b",
   "metadata": {
    "hidden": true,
    "scrolled": true
   },
   "outputs": [],
   "source": [
    "sum_df=sum_df.pivot_table(index=col_index,columns='scenario',aggfunc=sum)\n",
    "\n",
    "sum_df = sum_df.loc[:, ~(sum_df == 0).all(axis=0)]"
   ]
  },
  {
   "cell_type": "code",
   "execution_count": 177,
   "id": "b2c7d9a8",
   "metadata": {
    "hidden": true
   },
   "outputs": [],
   "source": [
    "sum_df.to_excel('sum_scenario_Muni_Heb_pop_emp.xlsx')"
   ]
  },
  {
   "cell_type": "markdown",
   "id": "5d47cf81",
   "metadata": {
    "heading_collapsed": true
   },
   "source": [
    "### אוכלוסייה לפי מחוז מגזר חומשים ותרחיש"
   ]
  },
  {
   "cell_type": "code",
   "execution_count": 208,
   "id": "fd806b49",
   "metadata": {
    "hidden": true
   },
   "outputs": [],
   "source": [
    "sum_df = pd.DataFrame()\n",
    "\n",
    "col_index=['zonetype','group']\n",
    "\n",
    "col_need=['pop_without_dorms_yeshiva',\n",
    " 'pop_without_dorms_yeshiva_2025',\n",
    " 'pop_without_dorms_yeshiva_2030',\n",
    " 'pop_without_dorms_yeshiva_2035',\n",
    " 'pop_without_dorms_yeshiva_2040',\n",
    " 'pop_without_dorms_yeshiva_2045',\n",
    " 'pop_without_dorms_yeshiva_2050']\n",
    "\n",
    "sum_df=sum_scenarios(sum_df,jtmt,'jtmt',col_index,col_need,-3)\n",
    "\n",
    "sum_df=sum_scenarios(sum_df,iplan,'iplan',col_index,col_need,-3)\n",
    "\n",
    "sum_df=sum_scenarios(sum_df,bau,'bau',col_index,col_need,-3)\n",
    "\n",
    "sum_df[['scenario',\n",
    " 'pop_without_dorms_yeshiva',\n",
    " 'pop_without_dorms_yeshiva_2025',\n",
    " 'pop_without_dorms_yeshiva_2030',\n",
    " 'pop_without_dorms_yeshiva_2035',\n",
    " 'pop_without_dorms_yeshiva_2040',\n",
    " 'pop_without_dorms_yeshiva_2045',\n",
    " 'pop_without_dorms_yeshiva_2050']].sort_values(by=col_index).to_excel('sum_scenario_machoz_group_pop.xlsx')"
   ]
  },
  {
   "cell_type": "markdown",
   "id": "a2c2ed43",
   "metadata": {
    "heading_collapsed": true
   },
   "source": [
    "### אוכלוסייה בשכונות של ירושלים לפי מגזר ותרחיש"
   ]
  },
  {
   "cell_type": "code",
   "execution_count": 179,
   "id": "091e6bb9",
   "metadata": {
    "hidden": true
   },
   "outputs": [],
   "source": [
    "sum_df = pd.DataFrame()\n",
    "\n",
    "col_index=['SCHN_NAME','group']\n",
    "\n",
    "col_need=[ 'pop_without_dorms_yeshiva_2050']\n",
    "\n",
    "sum_df=sum_scenarios(sum_df,jtmt,'jtmt',col_index,col_need,-3)\n",
    "\n",
    "sum_df=sum_scenarios(sum_df,iplan,'iplan',col_index,col_need,-3)\n",
    "\n",
    "sum_df=sum_scenarios(sum_df,bau,'bau',col_index,col_need,-3)\n",
    "\n",
    "sum_df=sum_scenarios(sum_df,jtmt,'kayim',col_index,['pop_without_dorms_yeshiva'],-3)"
   ]
  },
  {
   "cell_type": "code",
   "execution_count": 181,
   "id": "692e74e9",
   "metadata": {
    "hidden": true
   },
   "outputs": [],
   "source": [
    "sum_df=sum_df.pivot_table(index=col_index,columns='scenario',aggfunc=sum)\n",
    "\n",
    "sum_df=sum_df.fillna(0)\n",
    "\n",
    "sum_df = sum_df.loc[:, ~(sum_df == 0).all(axis=0)]\n",
    "\n",
    "sum_df=sum_df.loc[ ~(sum_df == 0).all(axis=1),:]"
   ]
  },
  {
   "cell_type": "code",
   "execution_count": 182,
   "id": "587a7b65",
   "metadata": {
    "hidden": true
   },
   "outputs": [],
   "source": [
    "sum_df.to_excel('sum_scenario_jeru_group_pop.xlsx')"
   ]
  },
  {
   "cell_type": "markdown",
   "id": "5e7c237e",
   "metadata": {},
   "source": [
    "### אוכלוסייה  לפי מגזר ותרחיש השוואה לפי מחוז"
   ]
  },
  {
   "cell_type": "code",
   "execution_count": 183,
   "id": "ec7682dc",
   "metadata": {},
   "outputs": [],
   "source": [
    "sum_df = pd.DataFrame()\n",
    "\n",
    "col_index=['zonetype','group']\n",
    "\n",
    "col_need=['pop_without_dorms_yeshiva_2050']\n",
    "\n",
    "sum_df=sum_scenarios(sum_df,jtmt,'jtmt',col_index,col_need,-3)\n",
    "\n",
    "sum_df=sum_scenarios(sum_df,iplan,'iplan',col_index,col_need,-3)\n",
    "\n",
    "sum_df=sum_scenarios(sum_df,bau,'bau',col_index,col_need,-3)\n",
    "\n",
    "sum_df=sum_scenarios(sum_df,jtmt,'kayim',col_index,['pop_without_dorms_yeshiva'],-3)\n",
    "\n",
    "compare_scenarios(sum_df,col_index).T.to_excel('sum_scenario_machoz_group_pop_for_precent.xlsx')"
   ]
  },
  {
   "cell_type": "markdown",
   "id": "652aa907",
   "metadata": {
    "heading_collapsed": true
   },
   "source": [
    "### אוכלוסייה  לפי מגזר ותרחיש השוואה לפי העיר ירושלים"
   ]
  },
  {
   "cell_type": "code",
   "execution_count": 184,
   "id": "267a57f7",
   "metadata": {
    "hidden": true
   },
   "outputs": [],
   "source": [
    "sum_df = pd.DataFrame()\n",
    "\n",
    "col_index=['in_jerusal','group']\n",
    "\n",
    "col_need=['pop_without_dorms_yeshiva_2050']\n",
    "\n",
    "sum_df=sum_scenarios(sum_df,jtmt,'jtmt',col_index,col_need,-3)\n",
    "\n",
    "sum_df=sum_scenarios(sum_df,iplan,'iplan',col_index,col_need,-3)\n",
    "\n",
    "sum_df=sum_scenarios(sum_df,bau,'bau',col_index,col_need,-3)\n",
    "\n",
    "sum_df=sum_scenarios(sum_df,jtmt,'kayim',col_index,['pop_without_dorms_yeshiva'],-3)\n",
    "\n",
    "compare_scenarios(sum_df,col_index).T.to_excel('sum_scenario_jeru_group_pop_for_precent.xlsx')"
   ]
  },
  {
   "cell_type": "markdown",
   "id": "0c7e270a",
   "metadata": {
    "heading_collapsed": true
   },
   "source": [
    "## השוואות בין הגירסאות"
   ]
  },
  {
   "cell_type": "markdown",
   "id": "1a3c7fbe",
   "metadata": {
    "heading_collapsed": true,
    "hidden": true
   },
   "source": [
    "### אוכלוסיה חינוך ותעסוקה סך הכל "
   ]
  },
  {
   "cell_type": "code",
   "execution_count": 185,
   "id": "aa0d7687",
   "metadata": {
    "hidden": true,
    "scrolled": true
   },
   "outputs": [],
   "source": [
    "sum_df = pd.DataFrame()\n",
    "\n",
    "col_index=['zonetype']\n",
    "\n",
    "col_need=['pop_without_dorms_yeshiva','pop_without_dorms_yeshiva_2040','total_emp','total_emp_2040','student','student_2040','uni_students','uni_students_2040','student_yeshiva','student_yeshiva_2040']\n",
    "\n",
    "sum_df=sum_scenarios(sum_df,jtmt_full,'v4',col_index,col_need,-3)\n",
    "\n",
    "sum_df=sum_scenarios(sum_df,v3,'v3',col_index,col_need,-3)"
   ]
  },
  {
   "cell_type": "code",
   "execution_count": 186,
   "id": "8b19bb64",
   "metadata": {
    "hidden": true,
    "scrolled": true
   },
   "outputs": [],
   "source": [
    "sum_df.groupby(by='scenario').sum().T.to_excel('versions_total_pop_emp_student.xlsx')"
   ]
  },
  {
   "cell_type": "markdown",
   "id": "69cc7ebe",
   "metadata": {
    "heading_collapsed": true,
    "hidden": true
   },
   "source": [
    "### אוכלוסיה ותעסוקה לפי מחוז "
   ]
  },
  {
   "cell_type": "code",
   "execution_count": 187,
   "id": "34cf1902",
   "metadata": {
    "hidden": true,
    "scrolled": true
   },
   "outputs": [],
   "source": [
    "sum_df = pd.DataFrame()\n",
    "\n",
    "col_index=['zonetype']\n",
    "\n",
    "col_need=['pop_without_dorms_yeshiva','pop_without_dorms_yeshiva_2040','total_emp','total_emp_2040']\n",
    "\n",
    "sum_df=sum_scenarios(sum_df,jtmt_full,'v4',col_index,col_need,-3)\n",
    "\n",
    "sum_df=sum_scenarios(sum_df,v3,'v3',col_index,col_need,-3)"
   ]
  },
  {
   "cell_type": "code",
   "execution_count": 188,
   "id": "60e162a9",
   "metadata": {
    "hidden": true,
    "scrolled": false
   },
   "outputs": [],
   "source": [
    "compare_scenarios(sum_df,col_index).to_excel('versions_machoz_pop_emp.xlsx')"
   ]
  },
  {
   "cell_type": "markdown",
   "id": "79e0bb84",
   "metadata": {
    "heading_collapsed": true,
    "hidden": true
   },
   "source": [
    "###   חומש אוכלוסייה לפי מגזר "
   ]
  },
  {
   "cell_type": "code",
   "execution_count": 189,
   "id": "419fc7d0",
   "metadata": {
    "hidden": true
   },
   "outputs": [],
   "source": [
    "jtmt_full=group_sector(jtmt_full)\n",
    "\n",
    "v3=group_sector(v3)"
   ]
  },
  {
   "cell_type": "code",
   "execution_count": 207,
   "id": "435fe930",
   "metadata": {
    "hidden": true
   },
   "outputs": [],
   "source": [
    "sum_df = pd.DataFrame()\n",
    "\n",
    "col_index=['group']\n",
    "\n",
    "col_need=['pop_without_dorms_yeshiva',\n",
    " 'pop_without_dorms_yeshiva_2025',\n",
    " 'pop_without_dorms_yeshiva_2030',\n",
    " 'pop_without_dorms_yeshiva_2035',\n",
    " 'pop_without_dorms_yeshiva_2040']\n",
    "\n",
    "\n",
    "sum_df=sum_scenarios(sum_df,jtmt_full,'v4',col_index,col_need,-3)\n",
    "\n",
    "sum_df=sum_scenarios(sum_df,v3,'v3',col_index,col_need,-3)\n",
    "\n",
    "sum_df.sort_values('group').to_excel('sum_versions_group_pop.xlsx')"
   ]
  },
  {
   "cell_type": "markdown",
   "id": "8718cdd6",
   "metadata": {
    "heading_collapsed": true,
    "hidden": true
   },
   "source": [
    "###   התפלגות גילים "
   ]
  },
  {
   "cell_type": "code",
   "execution_count": 191,
   "id": "06ad64de",
   "metadata": {
    "hidden": true
   },
   "outputs": [],
   "source": [
    "v3_age=up_load_df(r'\\\\FILE-SRV\\Jtmt\\projections_team\\כללי\\סיכום_תחזיות\\תחזיות_V3.3','220303_התפלגות_גילים_V3_3_Published')\n",
    "\n",
    "v3=v3.merge(v3_age,right_on='taz_V3_2',left_on='Taz_num',how='left')"
   ]
  },
  {
   "cell_type": "code",
   "execution_count": 192,
   "id": "0764472d",
   "metadata": {
    "hidden": true
   },
   "outputs": [],
   "source": [
    "def sum_age(df,name_col,col_to_sum):\n",
    "    df[name_col]=df[col].sum(axis=1)\n",
    "    return df"
   ]
  },
  {
   "cell_type": "code",
   "execution_count": 193,
   "id": "6036ab72",
   "metadata": {
    "hidden": true
   },
   "outputs": [],
   "source": [
    "col=['2020_0-4',\n",
    " '2020_5-9',\n",
    " '2020_10-14',\n",
    " '2020_15-19']\n",
    "\n",
    "v3=sum_age(v3,'pop_0_20_2020',col)\n",
    "\n",
    "col=[\n",
    " '2020_20-24',\n",
    " '2020_25-29',\n",
    " '2020_30-34',\n",
    " '2020_35-39',\n",
    " '2020_40-44']\n",
    "\n",
    "v3=sum_age(v3,'pop_21_45_2020',col)\n",
    "\n",
    "col=[\n",
    " '2020_45-49',\n",
    " '2020_50-54',\n",
    " '2020_55-59',\n",
    " '2020_60-64']\n",
    "\n",
    "v3=sum_age(v3,'pop_45_65_2020',col)\n",
    "\n",
    "col=[\n",
    " '2020_65-69',\n",
    " '2020_70-74',\n",
    " '2020_75+']\n",
    "\n",
    "v3=sum_age(v3,'pop_65+_2020',col)"
   ]
  },
  {
   "cell_type": "code",
   "execution_count": 194,
   "id": "a81e5767",
   "metadata": {
    "hidden": true
   },
   "outputs": [],
   "source": [
    "col=['2040_0-4',\n",
    " '2040_5-9',\n",
    " '2040_10-14',\n",
    " '2040_15-19']\n",
    "\n",
    "v3=sum_age(v3,'pop_0_20_2040',col)\n",
    "\n",
    "col=[\n",
    " '2040_20-24',\n",
    " '2040_25-29',\n",
    " '2040_30-34',\n",
    " '2040_35-39',\n",
    " '2040_40-44']\n",
    "\n",
    "v3=sum_age(v3,'pop_21_45_2040',col)\n",
    "\n",
    "col=[\n",
    " '2040_45-49',\n",
    " '2040_50-54',\n",
    " '2040_55-59',\n",
    " '2040_60-64']\n",
    "\n",
    "v3=sum_age(v3,'pop_45_65_2040',col)\n",
    "\n",
    "col=[\n",
    " '2040_65-69',\n",
    " '2040_70-74',\n",
    " '2040_75+']\n",
    "\n",
    "v3=sum_age(v3,'pop_65+_2040',col)"
   ]
  },
  {
   "cell_type": "code",
   "execution_count": 195,
   "id": "e157c96f",
   "metadata": {
    "hidden": true
   },
   "outputs": [],
   "source": [
    "percentage_cols=['pop_0_20_2040','pop_21_45_2040','pop_45_65_2040','pop_65+_2040']"
   ]
  },
  {
   "cell_type": "code",
   "execution_count": 196,
   "id": "bc55b23c",
   "metadata": {
    "hidden": true
   },
   "outputs": [],
   "source": [
    "v3[percentage_cols] = v3[percentage_cols].mul(v3['pop_without_dorms_yeshiva_2040'], axis=0)"
   ]
  },
  {
   "cell_type": "code",
   "execution_count": 197,
   "id": "3c171776",
   "metadata": {
    "hidden": true
   },
   "outputs": [],
   "source": [
    "percentage_cols=['pop_0_20_2020','pop_21_45_2020','pop_45_65_2020','pop_65+_2020']"
   ]
  },
  {
   "cell_type": "code",
   "execution_count": 198,
   "id": "55b0b43b",
   "metadata": {
    "hidden": true
   },
   "outputs": [],
   "source": [
    "v3[percentage_cols] = v3[percentage_cols].mul(v3['pop_without_dorms_yeshiva'], axis=0)"
   ]
  },
  {
   "cell_type": "code",
   "execution_count": 199,
   "id": "ca0854bd",
   "metadata": {
    "hidden": true
   },
   "outputs": [],
   "source": [
    "jtmt_2040=up_load_df(r'W:\\Projects\\הסעת המונים\\01_שלב ה\\קבצי עבודה\\תחזיות_דמוגרפיות\\תחזיות_2050\\jtmt\\join_forecast','230720_forecast_2040')\n",
    "\n",
    "jtmt_2040=jtmt_full.merge(jtmt_2040,right_on='TAZ',left_on='Taz_num',how='left')\n",
    "\n",
    "col=['age0_4',\n",
    " 'age5_9',\n",
    " 'age10_14',\n",
    " 'age15_19',]\n",
    "\n",
    "jtmt_2040=sum_age(jtmt_2040,'pop_0_20_2040',col)\n",
    "\n",
    "col=['age20_24',\n",
    " 'age25_29',\n",
    " 'age30_34',\n",
    " 'age35_39',\n",
    " 'age40_44',]\n",
    "\n",
    "jtmt_2040=sum_age(jtmt_2040,'pop_21_45_2040',col)\n",
    "\n",
    "col=[\n",
    "'age45_49',\n",
    " 'age50_54',\n",
    " 'age55_59',\n",
    " 'age60_64',]\n",
    "\n",
    "jtmt_2040=sum_age(jtmt_2040,'pop_45_65_2040',col)\n",
    "\n",
    "col=[\n",
    "  \n",
    " 'age65_69',\n",
    " 'age70_74',\n",
    " 'age75up',]\n",
    "\n",
    "jtmt_2040=sum_age(jtmt_2040,'pop_65+_2040',col)"
   ]
  },
  {
   "cell_type": "code",
   "execution_count": 200,
   "id": "cbc3b761",
   "metadata": {
    "hidden": true
   },
   "outputs": [],
   "source": [
    "jtmt_2020=up_load_df(r'W:\\Projects\\הסעת המונים\\01_שלב ה\\קבצי עבודה\\תחזיות_דמוגרפיות\\תחזיות_2020','forecast_2020_230720')\n",
    "\n",
    "jtmt_2020=jtmt_full.merge(jtmt_2020,right_on='TAZ',left_on='Taz_num',how='left')\n",
    "\n",
    "col=['age0_4',\n",
    " 'age5_9',\n",
    " 'age10_14',\n",
    " 'age15_19',]\n",
    "\n",
    "jtmt_2020=sum_age(jtmt_2020,'pop_0_20_2020',col)\n",
    "\n",
    "col=['age20_24',\n",
    " 'age25_29',\n",
    " 'age30_34',\n",
    " 'age35_39',\n",
    " 'age40_44',]\n",
    "\n",
    "jtmt_2020=sum_age(jtmt_2020,'pop_21_45_2020',col)\n",
    "\n",
    "col=[\n",
    "'age45_49',\n",
    " 'age50_54',\n",
    " 'age55_59',\n",
    " 'age60_64',]\n",
    "\n",
    "jtmt_2020=sum_age(jtmt_2020,'pop_45_65_2020',col)\n",
    "\n",
    "col=[\n",
    "  \n",
    " 'age65_69',\n",
    " 'age70_74',\n",
    " 'age75up',]\n",
    "\n",
    "jtmt_2020=sum_age(jtmt_2020,'pop_65+_2020',col)"
   ]
  },
  {
   "cell_type": "code",
   "execution_count": 201,
   "id": "ab8ec298",
   "metadata": {
    "hidden": true
   },
   "outputs": [],
   "source": [
    "jtmt_2020=group_sector(jtmt_2020)"
   ]
  },
  {
   "cell_type": "code",
   "execution_count": 202,
   "id": "6d984c81",
   "metadata": {
    "hidden": true
   },
   "outputs": [],
   "source": [
    "jtmt_2040=group_sector(jtmt_2040)"
   ]
  },
  {
   "cell_type": "code",
   "execution_count": 203,
   "id": "3f65b028",
   "metadata": {
    "hidden": true
   },
   "outputs": [],
   "source": [
    "sum_df = pd.DataFrame()\n",
    "\n",
    "col_index=['group']\n",
    "\n",
    "col_need=['pop_0_20_2020',\n",
    " 'pop_21_45_2020',\n",
    " 'pop_45_65_2020',\n",
    " 'pop_65+_2020']\n",
    "\n",
    "sum_df=sum_scenarios(sum_df,jtmt_2020,'v4',col_index,col_need,-3)\n",
    "\n",
    "sum_df=sum_scenarios(sum_df,v3,'v3',col_index,col_need,-3)"
   ]
  },
  {
   "cell_type": "code",
   "execution_count": 204,
   "id": "04678f74",
   "metadata": {
    "hidden": true
   },
   "outputs": [],
   "source": [
    "col_need=[\n",
    " 'pop_0_20_2040',\n",
    " 'pop_21_45_2040',\n",
    " 'pop_45_65_2040',\n",
    " 'pop_65+_2040']\n",
    "\n",
    "sum_df=sum_scenarios(sum_df,jtmt_2040,'v4',col_index,col_need,-3)\n",
    "\n",
    "sum_df=sum_scenarios(sum_df,v3,'v3',col_index,col_need,-3)"
   ]
  },
  {
   "cell_type": "code",
   "execution_count": 205,
   "id": "8c6951fc",
   "metadata": {
    "hidden": true
   },
   "outputs": [],
   "source": [
    "sum_df.groupby(by=['group','scenario']).sum().to_excel('sum_versions_group_age_des.xlsx')"
   ]
  }
 ],
 "metadata": {
  "kernelspec": {
   "display_name": "Python 3 (ipykernel)",
   "language": "python",
   "name": "python3"
  },
  "language_info": {
   "codemirror_mode": {
    "name": "ipython",
    "version": 3
   },
   "file_extension": ".py",
   "mimetype": "text/x-python",
   "name": "python",
   "nbconvert_exporter": "python",
   "pygments_lexer": "ipython3",
   "version": "3.10.4"
  },
  "toc": {
   "base_numbering": 1,
   "nav_menu": {},
   "number_sections": true,
   "sideBar": true,
   "skip_h1_title": false,
   "title_cell": "Table of Contents",
   "title_sidebar": "Contents",
   "toc_cell": false,
   "toc_position": {
    "height": "calc(100% - 180px)",
    "left": "10px",
    "top": "150px",
    "width": "426.656px"
   },
   "toc_section_display": true,
   "toc_window_display": true
  }
 },
 "nbformat": 4,
 "nbformat_minor": 5
}
