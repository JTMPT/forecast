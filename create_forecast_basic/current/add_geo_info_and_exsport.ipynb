{
 "cells": [
  {
   "cell_type": "markdown",
   "metadata": {},
   "source": [
    "### ספריות"
   ]
  },
  {
   "cell_type": "code",
   "execution_count": 3,
   "metadata": {},
   "outputs": [],
   "source": [
    "import os\n",
    "import sys\n",
    "import fiona\n",
    "import pandas as pd\n",
    "import geopandas as gpd\n",
    "from openpyxl import load_workbook"
   ]
  },
  {
   "cell_type": "code",
   "execution_count": 4,
   "metadata": {},
   "outputs": [],
   "source": [
    "pd.set_option('display.max_rows', None)\n",
    "pd.set_option('display.max_columns', None)\n",
    "pd.set_option('display.float_format', lambda x: '%.3f' % x)"
   ]
  },
  {
   "cell_type": "markdown",
   "metadata": {},
   "source": [
    "### העלת משתנים להרצת הקוד"
   ]
  },
  {
   "cell_type": "code",
   "execution_count": 5,
   "metadata": {},
   "outputs": [],
   "source": [
    "path = os.getcwd()\n",
    "\n",
    "software_root_folder = os.path.dirname(path)\n",
    "\n",
    "software_folder_location = r'{}\\current'.format(software_root_folder)\n",
    "\n",
    "df_inputs_outputs = pd.read_excel(r'{}\\inputs_outputs.xlsx'.format(software_folder_location))\n",
    "\n",
    "forecast_version_folder_location=df_inputs_outputs['location'][1]\n",
    "\n",
    "output_location=df_inputs_outputs['location'][2]\n",
    "\n",
    "sys.path.append(software_root_folder)"
   ]
  },
  {
   "cell_type": "markdown",
   "metadata": {},
   "source": [
    "### פונקציות גלובליות"
   ]
  },
  {
   "cell_type": "code",
   "execution_count": 6,
   "metadata": {},
   "outputs": [],
   "source": [
    "from global_functions import up_load_shp, up_load_df, drop_geo, make_point, up_load_gdb, change_cols_names"
   ]
  },
  {
   "cell_type": "markdown",
   "metadata": {},
   "source": [
    "ממשיך את הקוד עכשיו שיכלול גם את המאפיינים הגיאוגרפים שעיסא צריך"
   ]
  },
  {
   "cell_type": "code",
   "execution_count": 7,
   "metadata": {},
   "outputs": [],
   "source": [
    "col=['Taz_num','geometry']"
   ]
  },
  {
   "cell_type": "code",
   "execution_count": 8,
   "metadata": {},
   "outputs": [],
   "source": [
    "taz_border=up_load_shp(r'W:\\Data\\Forecast\\Tools\\forecast_git\\create_forecast_basic\\current\\background_files\\TAZ_V4_230518_Published.shp')[col]"
   ]
  },
  {
   "cell_type": "code",
   "execution_count": 9,
   "metadata": {},
   "outputs": [],
   "source": [
    "forecast_point = make_point(taz_border)\n",
    "\n",
    "# Load data layers\n",
    "DISTRICT = up_load_gdb(\n",
    "r'{}\\background_files\\GIS_jtmt_forcast_v_3_2_Published.gdb'.format(software_folder_location), 'TAZ_V3_2_220123_DISTRICT')\n",
    "urban = up_load_gdb(\n",
    "r'{}\\background_files\\GIS_jtmt_forcast_v_3_2_Published.gdb'.format(software_folder_location), 'TAZ_V3_2_220123_urban')\n",
    "SCHOOLDISTRICT = up_load_gdb(\n",
    "r'{}\\background_files\\GIS_jtmt_forcast_v_3_2_Published.gdb'.format(software_folder_location), 'TAZ_V3_2_220123_SCHOOLDISTRICT')\n",
    "PUMA = up_load_gdb(\n",
    "r'{}\\background_files\\GIS_jtmt_forcast_v_3_2_Published.gdb'.format(software_folder_location), 'TAZ_V3_2_220123_PUMA')\n",
    "\n",
    "\n",
    "# Geographical join between traffic zones and data layers\n",
    "forecast_point_DISTRICT = forecast_point.sjoin(\n",
    "DISTRICT)[['Taz_num', 'puma2040_csv_DISTRICT']]\n",
    "forecast_point_urban = forecast_point.sjoin(\n",
    "urban)[['Taz_num', 'BaseProjections2040_csv_urban']]\n",
    "forecast_point_SCHOOLDISTRICT = forecast_point.sjoin(\n",
    "SCHOOLDISTRICT)[['Taz_num', 'puma2040_csv_SCHOOLDISTRICT']]\n",
    "forecast_point_PUMA = forecast_point.sjoin(\n",
    "PUMA)[['Taz_num', 'puma2040_csv_PUMA']]\n"
   ]
  },
  {
   "cell_type": "code",
   "execution_count": 10,
   "metadata": {},
   "outputs": [],
   "source": [
    "\n",
    "# Merge tables into one table\n",
    "taz_border = (taz_border\n",
    "        .merge(forecast_point_DISTRICT, on='Taz_num', how='left')\n",
    "        .merge(forecast_point_urban, on='Taz_num', how='left')\n",
    "        .merge(forecast_point_SCHOOLDISTRICT, on='Taz_num', how='left')\n",
    "        .merge(forecast_point_PUMA, on='Taz_num', how='left'))\n",
    "\n",
    "# Rename columns# Rename columns with flipped names\n",
    "taz_border.rename(columns={'puma2040_csv_DISTRICT': 'DISTRICT'}, inplace=True)\n",
    "taz_border.rename(columns={'BaseProjections2040_csv_urban': 'urban'}, inplace=True)\n",
    "taz_border.rename(columns={'puma2040_csv_PUMA': 'PUMA'}, inplace=True)\n",
    "taz_border.rename(columns={'puma2040_csv_SCHOOLDISTRICT': 'SCHOOLDISTRICT'}, inplace=True)\n",
    "\n"
   ]
  },
  {
   "cell_type": "code",
   "execution_count": 11,
   "metadata": {},
   "outputs": [],
   "source": [
    "# Add constant columns\n",
    "taz_border['REGION'] = 1\n",
    "taz_border['slop'] = 0"
   ]
  },
  {
   "cell_type": "markdown",
   "metadata": {},
   "source": [
    "להעלות את המידע שנעשה עד עכשיו כדי לייצא פורמט שעיסא רוצה"
   ]
  },
  {
   "cell_type": "code",
   "execution_count": 12,
   "metadata": {},
   "outputs": [],
   "source": [
    "#העלה של נתוני אנשים התפלגות גילים שנוצר לפני הקוד הזה\n",
    "path=r'{}\\Intermediates'.format(software_folder_location)\n",
    "taz=up_load_df(path,'taz_before_add_geo')"
   ]
  },
  {
   "cell_type": "code",
   "execution_count": 13,
   "metadata": {},
   "outputs": [],
   "source": [
    "taz=taz.merge(drop_geo(taz_border),on='Taz_num',how='left')"
   ]
  },
  {
   "cell_type": "code",
   "execution_count": 14,
   "metadata": {},
   "outputs": [],
   "source": [
    "taz['yosh']=0\n",
    "\n",
    "taz.loc[taz['zonetype']=='Judea and Samaria','yosh']=1\n",
    "\n",
    "taz['jerusalem_city']=0\n",
    "\n",
    "taz.loc[taz['in_jerusal']=='yes','jerusalem_city']=1\n",
    "\n",
    "taz=taz.reset_index()"
   ]
  },
  {
   "cell_type": "markdown",
   "metadata": {},
   "source": [
    "פלט של ההיברדי"
   ]
  },
  {
   "cell_type": "code",
   "execution_count": 15,
   "metadata": {},
   "outputs": [],
   "source": [
    "#### תאריך\n",
    "file_date=pd.Timestamp.today().strftime('%y%m%d')"
   ]
  },
  {
   "cell_type": "code",
   "execution_count": 16,
   "metadata": {},
   "outputs": [],
   "source": [
    "\n",
    "col_needed=['Taz_num',\n",
    "'yosh',\n",
    "'jeru_metro',\n",
    "'jerusalem_city',\n",
    "'main_secto',\n",
    "'hh',\n",
    "'pop',\n",
    "'pop_0',\n",
    "'pop_5',\n",
    "'pop_10',\n",
    "'pop_15',\n",
    "'pop_20',\n",
    "'pop_25',\n",
    "'pop_30',\n",
    "'pop_35',\n",
    "'pop_40',\n",
    "'pop_45',\n",
    "'pop_50',\n",
    "'pop_55',\n",
    "'pop_60',\n",
    "'pop_65',\n",
    "'pop_70',\n",
    "'pop_75up',\n",
    "'total_emp',\n",
    "'Indus',\n",
    "'Com_hotel',\n",
    "'Business',\n",
    "'Public',\n",
    "'emp_Education',\n",
    "'agri',\n",
    "'student',\n",
    "'univ',\n",
    "'UO_Hi_Ed',\n",
    "'pop_emp_employed',\n",
    "'slop',\n",
    "'urban']\n",
    "\n",
    "col_new_name=['TAZ',\n",
    "'yosh',\n",
    "'in_jerusalem_metropolin',\n",
    "'jerusalem_city',\n",
    "'sector',\n",
    "'hh_total',\n",
    "'pop',\n",
    "'age0_4',\n",
    "'age5_9',\n",
    "'age10_14',\n",
    "'age15_19',\n",
    "'age20_24',\n",
    "'age25_29',\n",
    "'age30_34',\n",
    "'age35_39',\n",
    "'age40_44',\n",
    "'age45_49',\n",
    "'age50_54',\n",
    "'age55_59',\n",
    "'age60_64',\n",
    "'age65_69',\n",
    "'age70_74',\n",
    "'age75up',\n",
    "'emp_tot',\n",
    "'indus',\n",
    "'com_hotel',\n",
    "'business',\n",
    "'public',\n",
    "'education',\n",
    "'agri',\n",
    "'student',\n",
    "'univ',\n",
    "'UO_Hi_Ed',\n",
    "'pop_emp_employed',\n",
    "'slop',\n",
    "'urban']"
   ]
  },
  {
   "cell_type": "code",
   "execution_count": 17,
   "metadata": {},
   "outputs": [],
   "source": [
    "#### תאריך\n",
    "file_date=pd.Timestamp.today().strftime('%y%m%d')"
   ]
  },
  {
   "cell_type": "code",
   "execution_count": 18,
   "metadata": {},
   "outputs": [],
   "source": [
    "change_cols_names(taz, col_needed, col_new_name).to_excel(r'{}\\BaseProjections2020_{}.xlsx'.format(output_location,file_date),index=False)"
   ]
  },
  {
   "cell_type": "code",
   "execution_count": 19,
   "metadata": {},
   "outputs": [],
   "source": [
    "\n",
    "col_needed=['Taz_num','Agg_taz_nu','PUMA','DISTRICT','REGION','SCHOOLDISTRICT']\n",
    "\n",
    "col_new_name=['TAZ','AGG_TAZ','PUMA','DISTRICT','REGION','SCHOOLDISTRICT']"
   ]
  },
  {
   "cell_type": "code",
   "execution_count": 20,
   "metadata": {},
   "outputs": [],
   "source": [
    "change_cols_names(taz, col_needed, col_new_name).to_excel(r'{}\\puma2020_{}.xlsx'.format(output_location,file_date),index=False)"
   ]
  },
  {
   "cell_type": "markdown",
   "metadata": {},
   "source": [
    "פלט של הנוסף שצריך בשביל הABM"
   ]
  },
  {
   "cell_type": "code",
   "execution_count": 21,
   "metadata": {},
   "outputs": [],
   "source": [
    "col_with_fix_num=['area',\n",
    " 'CITYCODE1',\n",
    " 'CITYCODE2',\n",
    " 'CITYCODE3',\n",
    " 'CITYCODE4',\n",
    " 'codeseq',\n",
    " 'codeseqCons',\n",
    " 'county',\n",
    " 'majunivenr',\n",
    " 'parktot',\n",
    " 'superZone',\n",
    " 'Taz1']"
   ]
  },
  {
   "cell_type": "code",
   "execution_count": 22,
   "metadata": {},
   "outputs": [],
   "source": [
    "taz[col_with_fix_num]=1"
   ]
  },
  {
   "cell_type": "code",
   "execution_count": 23,
   "metadata": {},
   "outputs": [],
   "source": [
    "taz['UNIVENRORTHFEMALE']=taz['Univ_UO']/2\n",
    "taz['UNIVENRORTHMALE']=taz['Univ_UO']/2\n"
   ]
  },
  {
   "cell_type": "code",
   "execution_count": 24,
   "metadata": {},
   "outputs": [],
   "source": [
    "taz['TOA1']=taz['SEA1']+taz['UOA1']+taz['ARA1']\n",
    "taz['TOA2']=taz['SEA2']+taz['UOA2']+taz['ARA2']\n",
    "taz['TOA3']=taz['SEA3']+taz['UOA3']+taz['ARA3']"
   ]
  },
  {
   "cell_type": "code",
   "execution_count": 25,
   "metadata": {},
   "outputs": [],
   "source": [
    "taz['tazSector']=1 #ערבי"
   ]
  },
  {
   "cell_type": "code",
   "execution_count": 26,
   "metadata": {},
   "outputs": [],
   "source": [
    "taz.loc[taz['main_secto']=='U_Orthodox','tazSector']=2"
   ]
  },
  {
   "cell_type": "code",
   "execution_count": 27,
   "metadata": {},
   "outputs": [],
   "source": [
    "taz.loc[taz['main_secto']=='Jewish','tazSector']=3"
   ]
  },
  {
   "cell_type": "code",
   "execution_count": 28,
   "metadata": {},
   "outputs": [],
   "source": [
    "taz.loc[taz['main_secto']=='Palestinian','tazSector']=4"
   ]
  },
  {
   "cell_type": "code",
   "execution_count": 29,
   "metadata": {},
   "outputs": [],
   "source": [
    "forecast_point = make_point(taz_border)\n",
    "\n",
    "# Load data layers\n",
    "hibiz = up_load_shp(r'{}\\background_files\\highBusinessFlag.shp'.format(software_folder_location))[['HighBiz', 'geometry']]\n"
   ]
  },
  {
   "cell_type": "code",
   "execution_count": 30,
   "metadata": {},
   "outputs": [],
   "source": [
    "\n",
    "forecast_point_hibiz = forecast_point.sjoin(hibiz)[['Taz_num', 'HighBiz']]\n",
    "\n",
    "taz = taz.merge(forecast_point_hibiz, on='Taz_num', how='left')\n",
    "\n",
    "taz.rename(columns={'HighBiz': 'highBusinessFlag'}, inplace=True)\n"
   ]
  },
  {
   "cell_type": "code",
   "execution_count": 31,
   "metadata": {},
   "outputs": [],
   "source": [
    "def add_geo_info_gdb(taz,taz_border,software_folder_location,gdb_name,layer_name,col_name):\n",
    "\n",
    "    forecast_point = make_point(taz_border)\n",
    "\n",
    "    # Load data layers\n",
    "    geo_info =  up_load_gdb(r'{}\\background_files\\{}.gdb'.format(software_folder_location,gdb_name), '{}'.format(layer_name))\n",
    "    \n",
    "    forecast_point_geo_info = forecast_point.sjoin(geo_info)[['Taz_num', '{}'.format(col_name)]]\n",
    "\n",
    "    taz = taz.merge(forecast_point_geo_info, on='Taz_num', how='left')\n",
    "\n",
    "    taz=taz.fillna(0)\n",
    "\n",
    "    \n",
    "    return taz"
   ]
  },
  {
   "cell_type": "code",
   "execution_count": 32,
   "metadata": {},
   "outputs": [],
   "source": [
    "col_parking=['FreeBuffer',\n",
    "'PaidBuffer',\n",
    "'Rest_EmpBuffer',\n",
    "'searchtime',\n",
    "'walktime',\n",
    "'cost']"
   ]
  },
  {
   "cell_type": "code",
   "execution_count": 33,
   "metadata": {},
   "outputs": [],
   "source": [
    "for c in col_parking:\n",
    "    taz=add_geo_info_gdb(taz,taz_border,software_folder_location,'parking_abm',c,c)"
   ]
  },
  {
   "cell_type": "code",
   "execution_count": 34,
   "metadata": {},
   "outputs": [],
   "source": [
    "col_emp_EI=['ieold','EIProp']"
   ]
  },
  {
   "cell_type": "code",
   "execution_count": 35,
   "metadata": {},
   "outputs": [],
   "source": [
    "for c in col_emp_EI:\n",
    "    taz=add_geo_info_gdb(taz,taz_border,software_folder_location,'emp_EI',c,c)"
   ]
  },
  {
   "cell_type": "code",
   "execution_count": 37,
   "metadata": {},
   "outputs": [],
   "source": [
    "taz['IEProp']=taz['ieold']"
   ]
  },
  {
   "cell_type": "code",
   "execution_count": 38,
   "metadata": {},
   "outputs": [],
   "source": [
    "taz['perScaled']=1-taz['EIProp']"
   ]
  },
  {
   "cell_type": "markdown",
   "metadata": {},
   "source": [
    "הייצוא עצמו לטובת הSED FILE"
   ]
  },
  {
   "cell_type": "code",
   "execution_count": 45,
   "metadata": {},
   "outputs": [],
   "source": [
    "col_needed=['Taz_num',\n",
    " 'Taz_num',\n",
    " 'hh',\n",
    " 'PUMA',\n",
    " 'DISTRICT',\n",
    " 'county',\n",
    " 'area',\n",
    " 'parktot',\n",
    " 'majunivenr',\n",
    " 'tazSector',\n",
    " 'Indus',\n",
    " 'Com_hotel',\n",
    " 'Business',\n",
    " 'Public',\n",
    " 'emp_Education',\n",
    " 'agri',\n",
    " 'total_emp',\n",
    " 'UOA1',\n",
    " 'UOA2',\n",
    " 'UOA3',\n",
    " 'SEA1',\n",
    " 'SEA2',\n",
    " 'SEA3',\n",
    " 'ARA1',\n",
    " 'ARA2',\n",
    " 'ARA3',\n",
    " 'TOA1',\n",
    " 'TOA2',\n",
    " 'TOA3',\n",
    " 'Univ_AR',\n",
    " 'Univ_SE',\n",
    " 'UNIVENRORTHMALE',\n",
    " 'UNIVENRORTHFEMALE',\n",
    " 'ieold',\n",
    " 'superZone',\n",
    " 'IEProp',\n",
    " 'Taz1',\n",
    " 'perScaled',\n",
    " 'EIProp',\n",
    " 'CITYCODE1',\n",
    " 'CITYCODE2',\n",
    " 'CITYCODE3',\n",
    " 'CITYCODE4',\n",
    " 'codeseq',\n",
    " 'codeseqCons',\n",
    " 'PaidBuffer',\n",
    " 'Rest_EmpBuffer',\n",
    " 'FreeBuffer',\n",
    " 'SCHOOLDISTRICT',\n",
    " 'SCHOOLDISTRICT',\n",
    " 'highBusinessFlag',\n",
    " 'searchtime',\n",
    " 'walktime',\n",
    " 'cost']"
   ]
  },
  {
   "cell_type": "code",
   "execution_count": 47,
   "metadata": {},
   "outputs": [],
   "source": [
    "col_new_name=['maz',\n",
    " 'taz',\n",
    " 'hh_total',\n",
    " 'puma',\n",
    " 'district',\n",
    " 'county',\n",
    " 'area',\n",
    " 'parktot',\n",
    " 'majunivenr',\n",
    " 'tazSector',\n",
    " 'Indus',\n",
    " 'Com_hotel',\n",
    " 'Off_Bsness',\n",
    " 'Public',\n",
    " 'Education',\n",
    " 'Agri',\n",
    " 'totemp',\n",
    " 'UOA1',\n",
    " 'UOA2',\n",
    " 'UOA3',\n",
    " 'SEA1',\n",
    " 'SEA2',\n",
    " 'SEA3',\n",
    " 'ARA1',\n",
    " 'ARA2',\n",
    " 'ARA3',\n",
    " 'TOA1',\n",
    " 'TOA2',\n",
    " 'TOA3',\n",
    " 'UNIVENRARAB',\n",
    " 'UNIVENRSEC',\n",
    " 'UNIVENRORTHMALE',\n",
    " 'UNIVENRORTHFEMALE',\n",
    " 'ieold',\n",
    " 'superZone',\n",
    " 'IEProp',\n",
    " 'Taz1',\n",
    " 'perScaled',\n",
    " 'EIProp',\n",
    " 'CITYCODE1',\n",
    " 'CITYCODE2',\n",
    " 'CITYCODE3',\n",
    " 'CITYCODE4',\n",
    " 'codeseq',\n",
    " 'codeseqCons',\n",
    " 'PaidBuffer',\n",
    " 'Rest_EmpBuffer',\n",
    " 'FreeBuffer',\n",
    " 'schDistrict',\n",
    " 'schDistrictAgg',\n",
    " 'highBusinessFlag',\n",
    " 'searchtime',\n",
    " 'walktime',\n",
    " 'cost']"
   ]
  },
  {
   "cell_type": "code",
   "execution_count": 48,
   "metadata": {},
   "outputs": [],
   "source": [
    "change_cols_names(taz, col_needed, col_new_name).to_excel(r'{}\\SED_2020_{}.xlsx'.format(output_location,file_date),index=False)"
   ]
  },
  {
   "cell_type": "code",
   "execution_count": null,
   "metadata": {},
   "outputs": [],
   "source": [
    "#load excel file\n",
    "workbook = load_workbook(filename=r'{}\\inputs_outputs.xlsx'.format(software_folder_location))\n",
    "\n",
    "#open workbook\n",
    "sheet = workbook.active\n",
    "\n",
    "#modify the desired cell\n",
    "sheet[\"B4\"] = forecast_version_folder_location\n",
    "sheet[\"B5\"] = False\n",
    "sheet[\"B6\"] = r'{}\\current\\background_files\\TAZ_V4_230518_Published.shp'.format(software_root_folder)\n",
    "\n",
    "#save the file\n",
    "workbook.save(filename=r'{}\\inputs_outputs.xlsx'.format(software_folder_location))"
   ]
  }
 ],
 "metadata": {
  "kernelspec": {
   "display_name": "base",
   "language": "python",
   "name": "python3"
  },
  "language_info": {
   "codemirror_mode": {
    "name": "ipython",
    "version": 3
   },
   "file_extension": ".py",
   "mimetype": "text/x-python",
   "name": "python",
   "nbconvert_exporter": "python",
   "pygments_lexer": "ipython3",
   "version": "3.11.5"
  }
 },
 "nbformat": 4,
 "nbformat_minor": 2
}
