{
  "cells": [
    {
      "cell_type": "markdown",
      "metadata": {},
      "source": [
        "### ספריות"
      ]
    },
    {
      "cell_type": "code",
      "execution_count": 175,
      "metadata": {},
      "outputs": [],
      "source": [
        "import os\n",
        "import sys\n",
        "import fiona\n",
        "import pandas as pd\n",
        "import geopandas as gpd\n",
        "from openpyxl import load_workbook"
      ]
    },
    {
      "cell_type": "code",
      "execution_count": 176,
      "metadata": {},
      "outputs": [],
      "source": [
        "pd.set_option('display.max_rows', None)\n",
        "pd.set_option('display.max_columns', None)\n",
        "pd.set_option('display.float_format', lambda x: '%.3f' % x)"
      ]
    },
    {
      "cell_type": "markdown",
      "metadata": {},
      "source": [
        "### העלת משתנים להרצת הקוד"
      ]
    },
    {
      "cell_type": "code",
      "execution_count": 177,
      "metadata": {},
      "outputs": [],
      "source": [
        "df_inputs_outputs = pd.read_excel('inputs_outputs.xlsx')\n",
        "\n",
        "software_folder_location=df_inputs_outputs['location'][0]\n",
        "\n",
        "forecast_version_folder_location=df_inputs_outputs['location'][1]\n",
        "\n",
        "output_location=df_inputs_outputs['location'][2]\n",
        "\n",
        "create_forecast_basic_software_location = os.path.dirname(software_folder_location)\n",
        "\n",
        "sys.path.append(create_forecast_basic_software_location)\n",
        "\n",
        "create_forecast_basic_software_df = pd.read_excel(r'{}\\inputs_outputs.xlsx'.format(create_forecast_basic_software_location))\n",
        "\n",
        "TAZ_V4_date = '240408'"
      ]
    },
    {
      "cell_type": "markdown",
      "metadata": {},
      "source": [
        "### פונקציות גלובליות"
      ]
    },
    {
      "cell_type": "code",
      "execution_count": 178,
      "metadata": {},
      "outputs": [],
      "source": [
        "from global_functions import up_load_shp, up_load_df, drop_geo, make_point, up_load_gdb, change_cols_names,add_geo_info_gdb,add_geo_info_shp"
      ]
    },
    {
      "cell_type": "markdown",
      "metadata": {},
      "source": [
        "ממשיך את הקוד עכשיו שיכלול גם את המאפיינים הגיאוגרפים שעיסא צריך"
      ]
    },
    {
      "cell_type": "code",
      "execution_count": 179,
      "metadata": {},
      "outputs": [],
      "source": [
        "col=['Taz_num','geometry']"
      ]
    },
    {
      "cell_type": "code",
      "execution_count": 180,
      "metadata": {},
      "outputs": [],
      "source": [
        "taz_border=up_load_shp(r'{}\\background_files\\TAZ_V4_{}_with_geo_info.shp'.format(create_forecast_basic_software_location, TAZ_V4_date))[col]"
      ]
    },
    {
      "cell_type": "code",
      "execution_count": 181,
      "metadata": {},
      "outputs": [],
      "source": [
        "#העלה של נתוני אנשים התפלגות גילים שנוצר לפני הקוד הזה\n",
        "path=r'{}\\Intermediates'.format(software_folder_location)\n",
        "taz=up_load_df(path,'taz_before_add_geo')"
      ]
    },
    {
      "cell_type": "code",
      "execution_count": 182,
      "metadata": {},
      "outputs": [],
      "source": [
        "taz['tazSector']=1 #ערבי\n",
        "taz.loc[taz['main_secto']=='U_Orthodox','tazSector']=2\n",
        "taz.loc[taz['main_secto']=='Jewish','tazSector']=3\n",
        "taz.loc[taz['main_secto']=='Palestinian','tazSector']=4"
      ]
    },
    {
      "cell_type": "markdown",
      "metadata": {},
      "source": [
        "לייצר פומה"
      ]
    },
    {
      "cell_type": "code",
      "execution_count": 183,
      "metadata": {},
      "outputs": [],
      "source": [
        "poly_pumas=up_load_shp(r'W:\\Data\\Forecast\\Tools\\forecast_git\\create_forecast_basic\\background_files\\poly_pumas.shp')\n",
        "col_old=['poly_puma',  'F3', 'F2', 'F1', 'geometry']\n",
        "col_new=['poly_puma',  '3', '2', '1', 'geometry']\n",
        "poly_pumas=drop_geo(change_cols_names(poly_pumas,col_old,col_new))\n",
        "pumas_by_poly_sector=poly_pumas.melt(id_vars='poly_puma',var_name='tazSector',value_name='PUMA')\n",
        "pumas_by_poly_sector['tazSector']=pumas_by_poly_sector['tazSector'].astype(int)"
      ]
    },
    {
      "cell_type": "code",
      "execution_count": 184,
      "metadata": {},
      "outputs": [],
      "source": [
        "taz=taz.merge(pumas_by_poly_sector,on=['poly_puma','tazSector'],how='left')"
      ]
    },
    {
      "cell_type": "code",
      "execution_count": 185,
      "metadata": {},
      "outputs": [],
      "source": [
        "taz.loc[taz['PUMA']==0,'PUMA']=999\n",
        "taz.loc[taz['pop']==0,'PUMA']=999\n",
        "taz.loc[taz['main_secto']=='Palestinian','PUMA']=999\n",
        "taz.loc[taz['jeru_metro']==0,'PUMA']=999"
      ]
    },
    {
      "cell_type": "markdown",
      "metadata": {},
      "source": [
        "פלט של ההיברדי"
      ]
    },
    {
      "cell_type": "code",
      "execution_count": 186,
      "metadata": {},
      "outputs": [],
      "source": [
        "#### תאריך\n",
        "file_date=pd.Timestamp.today().strftime('%y%m%d')"
      ]
    },
    {
      "cell_type": "code",
      "execution_count": 187,
      "metadata": {},
      "outputs": [],
      "source": [
        "\n",
        "col_needed=['Taz_num',\n",
        "'yosh',\n",
        "'jeru_metro',\n",
        "'jerusalem_',\n",
        "'main_secto',\n",
        "'hh',\n",
        "'pop',\n",
        "'pop_0',\n",
        "'pop_5',\n",
        "'pop_10',\n",
        "'pop_15',\n",
        "'pop_20',\n",
        "'pop_25',\n",
        "'pop_30',\n",
        "'pop_35',\n",
        "'pop_40',\n",
        "'pop_45',\n",
        "'pop_50',\n",
        "'pop_55',\n",
        "'pop_60',\n",
        "'pop_65',\n",
        "'pop_70',\n",
        "'pop_75up',\n",
        "'total_emp',\n",
        "'Indus',\n",
        "'Com_hotel',\n",
        "'Business',\n",
        "'Public',\n",
        "'emp_Education',\n",
        "'agri',\n",
        "'student',\n",
        "'univ',\n",
        "'UO_Hi_Ed',\n",
        "'pop_emp_employed',\n",
        "'slope',\n",
        "'Urban']\n",
        "\n",
        "col_new_name=['TAZ',\n",
        "'yosh',\n",
        "'in_jerusalem_metropolin',\n",
        "'jerusalem_city',\n",
        "'sector',\n",
        "'hh_total',\n",
        "'pop',\n",
        "'age0_4',\n",
        "'age5_9',\n",
        "'age10_14',\n",
        "'age15_19',\n",
        "'age20_24',\n",
        "'age25_29',\n",
        "'age30_34',\n",
        "'age35_39',\n",
        "'age40_44',\n",
        "'age45_49',\n",
        "'age50_54',\n",
        "'age55_59',\n",
        "'age60_64',\n",
        "'age65_69',\n",
        "'age70_74',\n",
        "'age75up',\n",
        "'emp_tot',\n",
        "'indus',\n",
        "'com_hotel',\n",
        "'business',\n",
        "'public',\n",
        "'education',\n",
        "'agri',\n",
        "'student',\n",
        "'univ',\n",
        "'UO_Hi_Ed',\n",
        "'pop_emp_employed',\n",
        "'slop',\n",
        "'urban']"
      ]
    },
    {
      "cell_type": "code",
      "execution_count": 188,
      "metadata": {},
      "outputs": [],
      "source": [
        "#### תאריך\n",
        "file_date=pd.Timestamp.today().strftime('%y%m%d')"
      ]
    },
    {
      "cell_type": "code",
      "execution_count": 189,
      "metadata": {},
      "outputs": [],
      "source": [
        "df=change_cols_names(taz, col_needed, col_new_name)"
      ]
    },
    {
      "cell_type": "code",
      "execution_count": 190,
      "metadata": {},
      "outputs": [],
      "source": [
        "col_to_int=['TAZ',\n",
        "'yosh',\n",
        "'in_jerusalem_metropolin',\n",
        "'jerusalem_city',\n",
        "'hh_total',\n",
        "'pop',\n",
        "'age0_4',\n",
        "'age5_9',\n",
        "'age10_14',\n",
        "'age15_19',\n",
        "'age20_24',\n",
        "'age25_29',\n",
        "'age30_34',\n",
        "'age35_39',\n",
        "'age40_44',\n",
        "'age45_49',\n",
        "'age50_54',\n",
        "'age55_59',\n",
        "'age60_64',\n",
        "'age65_69',\n",
        "'age70_74',\n",
        "'age75up',\n",
        "'emp_tot',\n",
        "'indus',\n",
        "'com_hotel',\n",
        "'business',\n",
        "'public',\n",
        "'education',\n",
        "'agri',\n",
        "'student',\n",
        "'univ',\n",
        "'UO_Hi_Ed',\n",
        "'pop_emp_employed',\n",
        "'slop',\n",
        "'urban']"
      ]
    },
    {
      "cell_type": "code",
      "execution_count": 191,
      "metadata": {},
      "outputs": [],
      "source": [
        "for c in col_to_int:\n",
        "    df.loc[:, c] = df.loc[:, c].astype(int)"
      ]
    },
    {
      "cell_type": "code",
      "execution_count": 192,
      "metadata": {},
      "outputs": [],
      "source": [
        "df.sort_values(by='TAZ',ascending=True).to_excel(r'{}\\BaseProjections2020_{}.xlsx'.format(output_location,file_date),index=False)"
      ]
    },
    {
      "cell_type": "markdown",
      "metadata": {},
      "source": [
        "DISTRICT"
      ]
    },
    {
      "cell_type": "code",
      "execution_count": 193,
      "metadata": {},
      "outputs": [],
      "source": [
        "taz['DISTRICT']=999\n",
        "taz.loc[taz['jew']==0,'DISTRICT']=1\n",
        "taz.loc[(taz['main_secto']=='U_Orthodox')&(taz['in_jerusal']=='yes'),'DISTRICT']=2\n",
        "taz.loc[(taz['main_secto']=='Jewish')&(taz['in_jerusal']=='yes'),'DISTRICT']=3\n",
        "taz.loc[(taz['main_secto']=='Jewish')&(taz['in_jerusal']=='no')&(taz['jeru_metro']==1),'DISTRICT']=5\n",
        "taz.loc[(taz['main_secto']=='U_Orthodox')&(taz['in_jerusal']=='no')&(taz['jeru_metro']==1),'DISTRICT']=6\n",
        "taz.loc[taz['pop']==0,'DISTRICT']=999"
      ]
    },
    {
      "cell_type": "code",
      "execution_count": 194,
      "metadata": {},
      "outputs": [],
      "source": [
        "\n",
        "col_needed=['Taz_num','Agg_taz_nu','PUMA','DISTRICT','REGION','SCHOOLDIST']\n",
        "\n",
        "col_new_name=['TAZ','AGG_TAZ','PUMA','DISTRICT','REGION','SCHOOLDISTRICT']"
      ]
    },
    {
      "cell_type": "code",
      "execution_count": 195,
      "metadata": {},
      "outputs": [],
      "source": [
        "change_cols_names(taz, col_needed, col_new_name).sort_values(by='TAZ',ascending=True).to_excel(r'{}\\puma2020_{}.xlsx'.format(output_location,file_date),index=False)"
      ]
    },
    {
      "cell_type": "markdown",
      "metadata": {},
      "source": [
        "SED"
      ]
    },
    {
      "cell_type": "code",
      "execution_count": 196,
      "metadata": {},
      "outputs": [],
      "source": [
        "col_needed=['Taz_num',\n",
        " 'Taz_num',\n",
        " 'hh',\n",
        " 'PUMA',\n",
        " 'DISTRICT',\n",
        " 'county',\n",
        " 'area',\n",
        " 'parktot',\n",
        " 'majunivenr',\n",
        " 'tazSector',\n",
        " 'Indus',\n",
        " 'Com_hotel',\n",
        " 'Business',\n",
        " 'Public',\n",
        " 'emp_Education',\n",
        " 'agri',\n",
        " 'total_emp',\n",
        " 'UOA1',\n",
        " 'UOA2',\n",
        " 'UOA3',\n",
        " 'SEA1',\n",
        " 'SEA2',\n",
        " 'SEA3',\n",
        " 'ARA1',\n",
        " 'ARA2',\n",
        " 'ARA3',\n",
        " 'TOA1',\n",
        " 'TOA2',\n",
        " 'TOA3',\n",
        " 'Univ_AR',\n",
        " 'Univ_SE',\n",
        " 'UNIVENRORTHMALE',\n",
        " 'UNIVENRORTHFEMALE',\n",
        " 'ieold',\n",
        " 'superZone',\n",
        " 'IEProp',\n",
        " 'Taz1',\n",
        " 'perScaled',\n",
        " 'EIProp',\n",
        " 'CITYCODE1',\n",
        " 'CITYCODE2',\n",
        " 'CITYCODE3',\n",
        " 'CITYCODE4',\n",
        " 'codeseq',\n",
        " 'codeseqCon',\n",
        " 'PaidBuffer',\n",
        " 'Rest_EmpBu',\n",
        " 'FreeBuffer',\n",
        " 'SCHOOLDIST',\n",
        " 'SCHOOLDIST',\n",
        " 'highBusine',\n",
        " 'searchtime',\n",
        " 'walktime',\n",
        " 'cost']"
      ]
    },
    {
      "cell_type": "code",
      "execution_count": 197,
      "metadata": {},
      "outputs": [],
      "source": [
        "col_new_name=['maz',\n",
        " 'taz',\n",
        " 'hh_total',\n",
        " 'puma',\n",
        " 'district',\n",
        " 'county',\n",
        " 'area',\n",
        " 'parktot',\n",
        " 'majunivenr',\n",
        " 'tazSector',\n",
        " 'Indus',\n",
        " 'Com_hotel',\n",
        " 'Off_Bsness',\n",
        " 'Public',\n",
        " 'Education',\n",
        " 'Agri',\n",
        " 'totemp',\n",
        " 'UOA1',\n",
        " 'UOA2',\n",
        " 'UOA3',\n",
        " 'SEA1',\n",
        " 'SEA2',\n",
        " 'SEA3',\n",
        " 'ARA1',\n",
        " 'ARA2',\n",
        " 'ARA3',\n",
        " 'TOA1',\n",
        " 'TOA2',\n",
        " 'TOA3',\n",
        " 'UNIVENRARAB',\n",
        " 'UNIVENRSEC',\n",
        " 'UNIVENRORTHMALE',\n",
        " 'UNIVENRORTHFEMALE',\n",
        " 'ieold',\n",
        " 'superZone',\n",
        " 'IEProp',\n",
        " 'Taz1',\n",
        " 'perScaled',\n",
        " 'EIProp',\n",
        " 'CITYCODE1',\n",
        " 'CITYCODE2',\n",
        " 'CITYCODE3',\n",
        " 'CITYCODE4',\n",
        " 'codeseq',\n",
        " 'codeseqCons',\n",
        " 'PaidBuffer',\n",
        " 'Rest_EmpBuffer',\n",
        " 'FreeBuffer',\n",
        " 'schDistrict',\n",
        " 'schDistrictAgg',\n",
        " 'highBusinessFlag',\n",
        " 'searchtime',\n",
        " 'walktime',\n",
        " 'cost']"
      ]
    },
    {
      "cell_type": "code",
      "execution_count": 199,
      "metadata": {},
      "outputs": [],
      "source": [
        "change_cols_names(taz, col_needed, col_new_name).sort_values(by='maz',ascending=True).to_excel(r'{}\\SED_2020_{}.xlsx'.format(output_location,file_date),index=False)"
      ]
    },
    {
      "cell_type": "code",
      "execution_count": 200,
      "metadata": {},
      "outputs": [],
      "source": [
        "taz.to_excel(r'{}\\2020_jtmt_forcast_full_{}.xlsx'.format(output_location,file_date),index=False)"
      ]
    },
    {
      "cell_type": "code",
      "execution_count": 201,
      "metadata": {},
      "outputs": [],
      "source": [
        "#load excel file\n",
        "workbook = load_workbook(filename=r'{}\\inputs_outputs.xlsx'.format(software_folder_location))\n",
        "\n",
        "#open workbook\n",
        "sheet = workbook.active\n",
        "\n",
        "#modify the desired cell\n",
        "sheet[\"B4\"] = forecast_version_folder_location\n",
        "sheet[\"B5\"] = False\n",
        "sheet[\"B6\"] = r'{}\\background_files\\TAZ_V4_{}_with_geo_info.shp'.format(create_forecast_basic_software_location, TAZ_V4_date)\n",
        "\n",
        "#save the file\n",
        "workbook.save(filename=r'{}\\inputs_outputs.xlsx'.format(software_folder_location))"
      ]
    }
  ],
  "metadata": {
    "kernelspec": {
      "display_name": "base",
      "language": "python",
      "name": "python3"
    },
    "language_info": {
      "codemirror_mode": {
        "name": "ipython",
        "version": 3
      },
      "file_extension": ".py",
      "mimetype": "text/x-python",
      "name": "python",
      "nbconvert_exporter": "python",
      "pygments_lexer": "ipython3",
      "version": "3.11.5"
    }
  },
  "nbformat": 4,
  "nbformat_minor": 2
}
