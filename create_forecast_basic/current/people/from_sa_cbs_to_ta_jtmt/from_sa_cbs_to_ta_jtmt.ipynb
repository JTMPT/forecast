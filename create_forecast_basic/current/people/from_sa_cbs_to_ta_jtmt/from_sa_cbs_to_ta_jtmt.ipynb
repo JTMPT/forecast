{
 "cells": [
  {
   "cell_type": "markdown",
   "id": "0e7214ba",
   "metadata": {
    "heading_collapsed": true
   },
   "source": [
    "## קוד מבוא"
   ]
  },
  {
   "cell_type": "code",
   "execution_count": 1,
   "id": "f8405d52",
   "metadata": {
    "hidden": true
   },
   "outputs": [],
   "source": [
    "import os\n",
    "import sys\n",
    "import pandas as pd\n",
    "import geopandas as gpd\n",
    "import fiona"
   ]
  },
  {
   "cell_type": "code",
   "execution_count": 2,
   "id": "2dacbc13",
   "metadata": {
    "hidden": true
   },
   "outputs": [],
   "source": [
    "pd.set_option('display.max_rows', None)\n",
    "pd.set_option('display.max_columns', None)"
   ]
  },
  {
   "cell_type": "markdown",
   "id": "0a6dcf09",
   "metadata": {},
   "source": [
    "### העלת משתנים להרצת הקוד"
   ]
  },
  {
   "cell_type": "code",
   "execution_count": 3,
   "id": "e1738824",
   "metadata": {},
   "outputs": [],
   "source": [
    "path = os.getcwd()\n",
    "\n",
    "parent = os.path.dirname(path)\n",
    "\n",
    "software_data_folder_location = os.path.dirname(parent)\n",
    "\n",
    "df_inputs_outputs = pd.read_excel(r'{}\\inputs_outputs.xlsx'.format(software_data_folder_location))\n",
    "\n",
    "software_data_folder_location=df_inputs_outputs['location'][0]\n",
    "\n",
    "forecast_version_folder_location=df_inputs_outputs['location'][1]\n",
    "\n",
    "sys.path.append(software_data_folder_location)"
   ]
  },
  {
   "cell_type": "markdown",
   "id": "9624443e",
   "metadata": {
    "heading_collapsed": true
   },
   "source": [
    "## פונקציות"
   ]
  },
  {
   "cell_type": "code",
   "execution_count": 4,
   "id": "8eae1b6c",
   "metadata": {},
   "outputs": [],
   "source": [
    "from py_scripts.buildings_layer import buildings_layer\n",
    "from py_scripts.remove_irrelevant_buildings import remove_irrelevant_buildings\n",
    "from py_scripts.create_100_percent_for_every_AS import create_100_percent_for_every_AS"
   ]
  },
  {
   "cell_type": "code",
   "execution_count": 5,
   "id": "d69c42ff",
   "metadata": {
    "hidden": true
   },
   "outputs": [],
   "source": [
    "# def double_taz_num(df):\n",
    "#     dup_taz_num=df.groupby(['Taz_num']).size().reset_index(name='count').query('count>1').Taz_num.to_list()\n",
    "#     return df.loc[df['Taz_num'].isin(dup_taz_num)]"
   ]
  },
  {
   "cell_type": "code",
   "execution_count": 6,
   "id": "d048994a",
   "metadata": {
    "hidden": true
   },
   "outputs": [],
   "source": [
    "# def make_point(df):\n",
    "#     df_point=df.copy()\n",
    "#     df_point['centroid'] = df_point.representative_point()\n",
    "#     df_point=df_point.set_geometry('centroid')\n",
    "#     df_point=df_point.drop(columns=['geometry'],axis=1)\n",
    "#     return df_point"
   ]
  },
  {
   "cell_type": "code",
   "execution_count": 7,
   "id": "86bf5cad",
   "metadata": {
    "hidden": true
   },
   "outputs": [],
   "source": [
    "# def up_load_gdb(path,layer_name):\n",
    "#     path='{}'.format(path)\n",
    "#     layer_list=fiona.listlayers(path)\n",
    "#     gpd_layer=gpd.read_file(path, layer=layer_list.index(layer_name))\n",
    "#     return gpd_layer"
   ]
  },
  {
   "cell_type": "code",
   "execution_count": 8,
   "id": "6acc6aa7",
   "metadata": {
    "hidden": true
   },
   "outputs": [],
   "source": [
    "# def up_load_shp(path):\n",
    "#     path='{}'.format(path)\n",
    "#     gpd_layer=gpd.read_file(path)\n",
    "#     return gpd_layer"
   ]
  },
  {
   "cell_type": "code",
   "execution_count": 9,
   "id": "cb093800",
   "metadata": {
    "hidden": true
   },
   "outputs": [],
   "source": [
    "# def unique_id_in_one_taz(df_to_geoode,unique_field,gpd_for_geocode,taz):\n",
    "    \n",
    "#     code_to_find=list(df_to_geoode[unique_field].unique())\n",
    "\n",
    "#     gpd_for_geocode_to_sum_by_taz=gpd_for_geocode[[unique_field,'geometry']].loc[gpd_for_geocode[unique_field].isin(code_to_find)]\n",
    "\n",
    "#     gpd_for_geocode_to_sum_by_taz=gpd.sjoin(taz[['Taz_num','geometry']],gpd_for_geocode_to_sum_by_taz)\n",
    "\n",
    "#     gpd_for_geocode_in_one_taz=list(gpd_for_geocode_to_sum_by_taz.groupby(unique_field)[['Taz_num']].nunique().query('Taz_num==1').reset_index()[unique_field])\n",
    "\n",
    "#     return gpd_for_geocode_in_one_taz"
   ]
  },
  {
   "cell_type": "code",
   "execution_count": 10,
   "id": "b1a16060",
   "metadata": {
    "hidden": true
   },
   "outputs": [],
   "source": [
    "# def up_load_df(folder_path,file_name):\n",
    "    \n",
    "#     path_df=r'{}\\{}.xlsx'.format(folder_path,file_name)\n",
    "#     df=pd.read_excel(path_df)\n",
    "#     df=df.dropna(how='all')\n",
    "\n",
    "#     return df\n"
   ]
  },
  {
   "cell_type": "markdown",
   "id": "dbda3397",
   "metadata": {},
   "source": [
    "### פונקציות גלובליות"
   ]
  },
  {
   "cell_type": "code",
   "execution_count": 11,
   "id": "431f9f62",
   "metadata": {},
   "outputs": [],
   "source": [
    "from functions import make_point\n",
    "from functions import up_load_df\n",
    "from functions import up_load_gdb\n",
    "from functions import up_load_shp"
   ]
  },
  {
   "cell_type": "markdown",
   "id": "3ab3aa08",
   "metadata": {},
   "source": [
    "## "
   ]
  },
  {
   "cell_type": "markdown",
   "id": "a9907b86",
   "metadata": {},
   "source": [
    "### העלת מידע"
   ]
  },
  {
   "cell_type": "code",
   "execution_count": 12,
   "id": "aba49f13",
   "metadata": {},
   "outputs": [],
   "source": [
    "stat=up_load_shp(r'{}\\background_files\\stat_11_cbs_2020_with_jtmt_fix.shp'.format(software_data_folder_location))"
   ]
  },
  {
   "cell_type": "code",
   "execution_count": 13,
   "id": "47ba101e",
   "metadata": {},
   "outputs": [],
   "source": [
    "stat_in_taz=stat.loc[stat['type_stat']=='in_taz']"
   ]
  },
  {
   "cell_type": "code",
   "execution_count": 14,
   "id": "49cf9956",
   "metadata": {},
   "outputs": [],
   "source": [
    "stat=stat.loc[stat['type_stat']!='in_taz']"
   ]
  },
  {
   "cell_type": "code",
   "execution_count": 15,
   "id": "1ab84674",
   "metadata": {},
   "outputs": [],
   "source": [
    "taz=up_load_shp(r'{}\\background_files\\TAZ_V4_230518_Published.shp'.format(software_data_folder_location))"
   ]
  },
  {
   "cell_type": "code",
   "execution_count": 16,
   "id": "7596adbc",
   "metadata": {},
   "outputs": [],
   "source": [
    "path=r'{}\\background_files\\BNTL_2022.gdb'.format(software_data_folder_location)\n",
    "bld=up_load_gdb(path,'BLDG_Clip')"
   ]
  },
  {
   "cell_type": "code",
   "execution_count": 17,
   "id": "81640b33",
   "metadata": {},
   "outputs": [],
   "source": [
    "path=r'{}\\background_files\\BNTL_2022.gdb'.format(software_data_folder_location)\n",
    "bld_poi=up_load_gdb(path,'POI_BLDG_Clip')"
   ]
  },
  {
   "cell_type": "code",
   "execution_count": 18,
   "id": "63f1fce2",
   "metadata": {},
   "outputs": [],
   "source": [
    "taz_not_relevant=up_load_df(r'{}\\background_files'.format(software_data_folder_location),'taz_not_relevant_for_pop_2020')"
   ]
  },
  {
   "cell_type": "code",
   "execution_count": 19,
   "id": "f7ecdb8a",
   "metadata": {},
   "outputs": [],
   "source": [
    "taz_not_relevant=list(taz_not_relevant.Taz_num)"
   ]
  },
  {
   "cell_type": "markdown",
   "id": "0e6478a9",
   "metadata": {},
   "source": [
    "### שכבת בניינים"
   ]
  },
  {
   "cell_type": "code",
   "execution_count": 20,
   "id": "d5ec6923",
   "metadata": {},
   "outputs": [
    {
     "name": "stderr",
     "output_type": "stream",
     "text": [
      "c:\\Users\\dpere\\Documents\\JTMT\\forecast\\create_forecast_basic\\current\\people\\from_sa_cbs_to_ta_jtmt\\py_scripts\\buildings_layer.py:18: FutureWarning: Setting an item of incompatible dtype is deprecated and will raise in a future error of pandas. Value '[ 31.3225      20.58816099  23.03316663 ...  79.56155771  86.00171698\n",
      " 411.10230836]' has dtype incompatible with int32, please explicitly cast to a compatible dtype first.\n",
      "  bld_point.loc[(bld_point['HEIGHT']-ceiling_height)<=0,'bld_m3']=bld_point['bld_area']\n"
     ]
    }
   ],
   "source": [
    "bld_point=buildings_layer(bld, bld_poi)"
   ]
  },
  {
   "cell_type": "markdown",
   "id": "264fc0c2",
   "metadata": {},
   "source": [
    "### הורדת מבנים לא רלוונטים"
   ]
  },
  {
   "cell_type": "code",
   "execution_count": 21,
   "id": "177dfe0a",
   "metadata": {},
   "outputs": [],
   "source": [
    "bld_point=remove_irrelevant_buildings(bld_point, taz, taz_not_relevant, stat)"
   ]
  },
  {
   "cell_type": "markdown",
   "id": "3df73395",
   "metadata": {},
   "source": [
    "### יצירת מאה אחוז לכל א\"ס"
   ]
  },
  {
   "cell_type": "code",
   "execution_count": 29,
   "id": "ac75da44",
   "metadata": {},
   "outputs": [
    {
     "name": "stderr",
     "output_type": "stream",
     "text": [
      "c:\\Users\\dpere\\Documents\\JTMT\\forecast\\create_forecast_basic\\current\\people\\from_sa_cbs_to_ta_jtmt\\py_scripts\\create_100_percent_for_every_AS.py:4: FutureWarning: The provided callable <built-in function sum> is currently using DataFrameGroupBy.sum. In a future version of pandas, the provided callable will be used directly. To keep current behavior pass the string \"sum\" instead.\n",
      "  sum_bld_m3=pd.pivot_table(bld_point.drop(columns='centroid'),index=['Taz_num','STAT'],aggfunc=sum)[['bld_m3']].reset_index()\n",
      "c:\\Users\\dpere\\Documents\\JTMT\\forecast\\create_forecast_basic\\current\\people\\from_sa_cbs_to_ta_jtmt\\py_scripts\\create_100_percent_for_every_AS.py:6: FutureWarning: The provided callable <built-in function sum> is currently using DataFrameGroupBy.sum. In a future version of pandas, the provided callable will be used directly. To keep current behavior pass the string \"sum\" instead.\n",
      "  sum_bld_m3_by_stat=sum_bld_m3.pivot_table(index='STAT',aggfunc=sum)[['bld_m3']].rename(columns={'bld_m3':'bld_m3_stat'}).reset_index()\n",
      "c:\\Users\\dpere\\Documents\\JTMT\\forecast\\create_forecast_basic\\current\\people\\from_sa_cbs_to_ta_jtmt\\py_scripts\\create_100_percent_for_every_AS.py:14: FutureWarning: The provided callable <built-in function sum> is currently using DataFrameGroupBy.sum. In a future version of pandas, the provided callable will be used directly. To keep current behavior pass the string \"sum\" instead.\n",
      "  sum_bld_m3_by_stat=sum_bld_m3.pivot_table(index='STAT',aggfunc=sum)[['bld_m3']].rename(columns={'bld_m3':'bld_m3_stat_new'}).reset_index()\n"
     ]
    }
   ],
   "source": [
    "sum_bld_m3=create_100_percent_for_every_AS(bld_point)"
   ]
  },
  {
   "cell_type": "markdown",
   "id": "5521276d",
   "metadata": {},
   "source": [
    "### א\"ס ללא פוליגון\n",
    "\n"
   ]
  },
  {
   "cell_type": "code",
   "execution_count": 30,
   "id": "1e4578f9",
   "metadata": {},
   "outputs": [],
   "source": [
    "stat_in_taz=make_point(stat_in_taz).sjoin(taz[['Taz_num','geometry']])[['STAT','Taz_num']]"
   ]
  },
  {
   "cell_type": "code",
   "execution_count": 31,
   "id": "a7ec583f",
   "metadata": {},
   "outputs": [],
   "source": [
    "stat_in_taz['precent_of_stat_data']=1"
   ]
  },
  {
   "cell_type": "markdown",
   "id": "39210892",
   "metadata": {},
   "source": [
    "### איחוד לטבלה אחת\n",
    "\n"
   ]
  },
  {
   "cell_type": "code",
   "execution_count": 32,
   "id": "e43f398d",
   "metadata": {},
   "outputs": [],
   "source": [
    "col=['Taz_num', 'STAT',  'precent_of_stat_data']"
   ]
  },
  {
   "cell_type": "code",
   "execution_count": 33,
   "id": "2b122eaa",
   "metadata": {},
   "outputs": [],
   "source": [
    "precent_of_stat_data=pd.concat([sum_bld_m3[col], stat_in_taz])"
   ]
  },
  {
   "cell_type": "code",
   "execution_count": 34,
   "id": "fef5a970",
   "metadata": {},
   "outputs": [],
   "source": [
    "precent_of_stat_data.to_excel(r'{}\\Intermediates\\precent_of_stat_data.xlsx'.format(software_data_folder_location),index=False)"
   ]
  },
  {
   "cell_type": "markdown",
   "id": "c14e12da",
   "metadata": {},
   "source": [
    "###  יצירת מידע ברמת אזור תנועה"
   ]
  },
  {
   "cell_type": "code",
   "execution_count": 35,
   "id": "1a59c059",
   "metadata": {},
   "outputs": [],
   "source": [
    "stat=up_load_df(r'{}\\Intermediates'.format(software_data_folder_location),'stat_cbs_jtmt_2020')"
   ]
  },
  {
   "cell_type": "code",
   "execution_count": 36,
   "id": "64152620",
   "metadata": {
    "code_folding": []
   },
   "outputs": [],
   "source": [
    "col=['pop_0',\n",
    " 'pop_5',\n",
    " 'pop_10',\n",
    " 'pop_15',\n",
    " 'pop_20',\n",
    " 'pop_25',\n",
    " 'pop_30',\n",
    " 'pop_35',\n",
    " 'pop_40',\n",
    " 'pop_45',\n",
    " 'pop_50',\n",
    " 'pop_55',\n",
    " 'pop_60',\n",
    " 'pop_65',\n",
    " 'pop_70',\n",
    " 'pop_75up']"
   ]
  },
  {
   "cell_type": "code",
   "execution_count": 37,
   "id": "24014869",
   "metadata": {
    "scrolled": true
   },
   "outputs": [],
   "source": [
    "stat[col]=stat[col].multiply(stat['pop'], axis=\"index\")"
   ]
  },
  {
   "cell_type": "code",
   "execution_count": 38,
   "id": "d1d3cde8",
   "metadata": {},
   "outputs": [],
   "source": [
    "stat['pop_hardi']=stat['pop']*(stat['pre_hardi']/100)"
   ]
  },
  {
   "cell_type": "code",
   "execution_count": 39,
   "id": "ef039678",
   "metadata": {},
   "outputs": [],
   "source": [
    "taz_stat_conver=precent_of_stat_data"
   ]
  },
  {
   "cell_type": "code",
   "execution_count": 40,
   "id": "af1147b3",
   "metadata": {
    "code_folding": []
   },
   "outputs": [],
   "source": [
    "col=['STAT',\n",
    " 'aprt_20',\n",
    " 'pop_0',\n",
    " 'pop_5',\n",
    " 'pop_10',\n",
    " 'pop_15',\n",
    " 'pop_20',\n",
    " 'pop_25',\n",
    " 'pop_30',\n",
    " 'pop_35',\n",
    " 'pop_40',\n",
    " 'pop_45',\n",
    " 'pop_50',\n",
    " 'pop_55',\n",
    " 'pop_60',\n",
    " 'pop_65',\n",
    " 'pop_70',\n",
    " 'pop_75up',\n",
    " 'pop',\n",
    " 'pop_hardi']"
   ]
  },
  {
   "cell_type": "markdown",
   "id": "49c52c8e",
   "metadata": {},
   "source": [
    "בשכבת האזורי תנועה יהיו רק אזורי תנועה שמפצלים את המידע של למס"
   ]
  },
  {
   "cell_type": "code",
   "execution_count": 41,
   "id": "8fe4e938",
   "metadata": {
    "scrolled": false
   },
   "outputs": [],
   "source": [
    "taz=pd.merge(taz_stat_conver,stat[col],on='STAT',how='left')"
   ]
  },
  {
   "cell_type": "code",
   "execution_count": 42,
   "id": "2515adf8",
   "metadata": {
    "code_folding": []
   },
   "outputs": [],
   "source": [
    "col=['aprt_20',\n",
    " 'pop_0',\n",
    " 'pop_5',\n",
    " 'pop_10',\n",
    " 'pop_15',\n",
    " 'pop_20',\n",
    " 'pop_25',\n",
    " 'pop_30',\n",
    " 'pop_35',\n",
    " 'pop_40',\n",
    " 'pop_45',\n",
    " 'pop_50',\n",
    " 'pop_55',\n",
    " 'pop_60',\n",
    " 'pop_65',\n",
    " 'pop_70',\n",
    " 'pop_75up',\n",
    " 'pop',\n",
    " 'pop_hardi']"
   ]
  },
  {
   "cell_type": "code",
   "execution_count": 43,
   "id": "14e43c8b",
   "metadata": {},
   "outputs": [],
   "source": [
    "taz[col]=taz[col].multiply(taz['precent_of_stat_data'], axis=\"index\")"
   ]
  },
  {
   "cell_type": "code",
   "execution_count": 44,
   "id": "6dd570e1",
   "metadata": {},
   "outputs": [
    {
     "name": "stderr",
     "output_type": "stream",
     "text": [
      "C:\\Users\\dpere\\AppData\\Local\\Temp\\ipykernel_11404\\3759065189.py:1: FutureWarning: The provided callable <built-in function sum> is currently using DataFrameGroupBy.sum. In a future version of pandas, the provided callable will be used directly. To keep current behavior pass the string \"sum\" instead.\n",
      "  taz=pd.pivot_table(taz,index='Taz_num',aggfunc=sum)\n"
     ]
    }
   ],
   "source": [
    "taz=pd.pivot_table(taz,index='Taz_num',aggfunc=sum)"
   ]
  },
  {
   "cell_type": "code",
   "execution_count": 45,
   "id": "da1c1a43",
   "metadata": {},
   "outputs": [],
   "source": [
    "taz['pre_hardi']=taz['pop_hardi']/taz['pop']"
   ]
  },
  {
   "cell_type": "code",
   "execution_count": 46,
   "id": "fd127472",
   "metadata": {},
   "outputs": [],
   "source": [
    "taz['hh_size']=taz['pop']/taz['aprt_20']"
   ]
  },
  {
   "cell_type": "code",
   "execution_count": 47,
   "id": "13037c69",
   "metadata": {},
   "outputs": [],
   "source": [
    "save_taz_path=r'{}\\Intermediates'.format(software_data_folder_location)"
   ]
  },
  {
   "cell_type": "code",
   "execution_count": 48,
   "id": "9792ae5b",
   "metadata": {},
   "outputs": [],
   "source": [
    "taz.to_excel(r'{}\\taz_with_pop_info.xlsx'.format(save_taz_path))"
   ]
  }
 ],
 "metadata": {
  "kernelspec": {
   "display_name": "Python 3 (ipykernel)",
   "language": "python",
   "name": "python3"
  },
  "language_info": {
   "codemirror_mode": {
    "name": "ipython",
    "version": 3
   },
   "file_extension": ".py",
   "mimetype": "text/x-python",
   "name": "python",
   "nbconvert_exporter": "python",
   "pygments_lexer": "ipython3",
   "version": "3.11.5"
  },
  "toc": {
   "base_numbering": 1,
   "nav_menu": {},
   "number_sections": true,
   "sideBar": true,
   "skip_h1_title": false,
   "title_cell": "Table of Contents",
   "title_sidebar": "Contents",
   "toc_cell": false,
   "toc_position": {
    "height": "calc(100% - 180px)",
    "left": "10px",
    "top": "150px",
    "width": "415.996px"
   },
   "toc_section_display": true,
   "toc_window_display": true
  }
 },
 "nbformat": 4,
 "nbformat_minor": 5
}
