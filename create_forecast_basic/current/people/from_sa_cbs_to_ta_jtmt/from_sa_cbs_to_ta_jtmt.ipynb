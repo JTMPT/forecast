{
 "cells": [
  {
   "cell_type": "markdown",
   "id": "0e7214ba",
   "metadata": {
    "heading_collapsed": true
   },
   "source": [
    "## קוד מבוא"
   ]
  },
  {
   "cell_type": "code",
   "execution_count": null,
   "id": "f8405d52",
   "metadata": {
    "hidden": true
   },
   "outputs": [],
   "source": [
    "import os\n",
    "import sys\n",
    "import pandas as pd\n",
    "import geopandas as gpd\n",
    "import fiona"
   ]
  },
  {
   "cell_type": "code",
   "execution_count": null,
   "id": "2dacbc13",
   "metadata": {
    "hidden": true
   },
   "outputs": [],
   "source": [
    "pd.set_option('display.max_rows', None)\n",
    "pd.set_option('display.max_columns', None)"
   ]
  },
  {
   "cell_type": "markdown",
   "id": "0a6dcf09",
   "metadata": {},
   "source": [
    "### העלת משתנים להרצת הקוד"
   ]
  },
  {
   "cell_type": "code",
   "execution_count": null,
   "id": "e1738824",
   "metadata": {},
   "outputs": [],
   "source": [
    "path = os.getcwd()\n",
    "\n",
    "parent = os.path.dirname(path)\n",
    "\n",
    "software_data_folder_location = os.path.dirname(parent)\n",
    "\n",
    "df_inputs_outputs = pd.read_excel(r'{}\\inputs_outputs.xlsx'.format(software_data_folder_location))\n",
    "\n",
    "software_data_folder_location=df_inputs_outputs['location'][0]\n",
    "\n",
    "forecast_version_folder_location=df_inputs_outputs['location'][1]\n",
    "\n",
    "sys.path.append(software_data_folder_location)"
   ]
  },
  {
   "cell_type": "markdown",
   "id": "9624443e",
   "metadata": {
    "heading_collapsed": true
   },
   "source": [
    "## פונקציות"
   ]
  },
  {
   "cell_type": "code",
   "execution_count": null,
   "id": "8eae1b6c",
   "metadata": {},
   "outputs": [],
   "source": [
    "from py_scripts.buildings_layer import buildings_layer\n",
    "from py_scripts.remove_irrelevant_buildings import remove_irrelevant_buildings\n",
    "from py_scripts.create_100_percent_for_every_AS import create_100_percent_for_every_AS\n",
    "from py_scripts.create_information_at_taz import create_information_at_taz\n",
    "from py_scripts.taz_that_split_lms_information import taz_that_split_lms_information"
   ]
  },
  {
   "cell_type": "markdown",
   "id": "dbda3397",
   "metadata": {},
   "source": [
    "### פונקציות גלובליות"
   ]
  },
  {
   "cell_type": "code",
   "execution_count": null,
   "id": "431f9f62",
   "metadata": {},
   "outputs": [],
   "source": [
    "from functions import make_point\n",
    "from functions import up_load_df\n",
    "from functions import up_load_gdb\n",
    "from functions import up_load_shp"
   ]
  },
  {
   "cell_type": "markdown",
   "id": "a9907b86",
   "metadata": {},
   "source": [
    "### העלת מידע"
   ]
  },
  {
   "cell_type": "code",
   "execution_count": null,
   "id": "aba49f13",
   "metadata": {},
   "outputs": [],
   "source": [
    "stat=up_load_shp(r'{}\\background_files\\stat_11_cbs_2020_with_jtmt_fix.shp'.format(software_data_folder_location))"
   ]
  },
  {
   "cell_type": "code",
   "execution_count": null,
   "id": "47ba101e",
   "metadata": {},
   "outputs": [],
   "source": [
    "stat_in_taz=stat.loc[stat['type_stat']=='in_taz']"
   ]
  },
  {
   "cell_type": "code",
   "execution_count": null,
   "id": "49cf9956",
   "metadata": {},
   "outputs": [],
   "source": [
    "stat=stat.loc[stat['type_stat']!='in_taz']"
   ]
  },
  {
   "cell_type": "code",
   "execution_count": null,
   "id": "1ab84674",
   "metadata": {},
   "outputs": [],
   "source": [
    "taz=up_load_shp(r'{}\\background_files\\TAZ_V4_230518_Published.shp'.format(software_data_folder_location))"
   ]
  },
  {
   "cell_type": "code",
   "execution_count": null,
   "id": "7596adbc",
   "metadata": {},
   "outputs": [],
   "source": [
    "path=r'{}\\background_files\\BNTL_2022.gdb'.format(software_data_folder_location)\n",
    "bld=up_load_gdb(path,'BLDG_Clip')"
   ]
  },
  {
   "cell_type": "code",
   "execution_count": null,
   "id": "81640b33",
   "metadata": {},
   "outputs": [],
   "source": [
    "path=r'{}\\background_files\\BNTL_2022.gdb'.format(software_data_folder_location)\n",
    "bld_poi=up_load_gdb(path,'POI_BLDG_Clip')"
   ]
  },
  {
   "cell_type": "code",
   "execution_count": null,
   "id": "63f1fce2",
   "metadata": {},
   "outputs": [],
   "source": [
    "taz_not_relevant=up_load_df(r'{}\\background_files'.format(software_data_folder_location),'taz_not_relevant_for_pop_2020')"
   ]
  },
  {
   "cell_type": "code",
   "execution_count": null,
   "id": "f7ecdb8a",
   "metadata": {},
   "outputs": [],
   "source": [
    "taz_not_relevant=list(taz_not_relevant.Taz_num)"
   ]
  },
  {
   "cell_type": "markdown",
   "id": "0e6478a9",
   "metadata": {},
   "source": [
    "### שכבת בניינים"
   ]
  },
  {
   "cell_type": "code",
   "execution_count": null,
   "id": "d5ec6923",
   "metadata": {},
   "outputs": [],
   "source": [
    "bld_point=buildings_layer(bld, bld_poi)"
   ]
  },
  {
   "cell_type": "markdown",
   "id": "264fc0c2",
   "metadata": {},
   "source": [
    "### הורדת מבנים לא רלוונטים"
   ]
  },
  {
   "cell_type": "code",
   "execution_count": null,
   "id": "177dfe0a",
   "metadata": {},
   "outputs": [],
   "source": [
    "bld_point=remove_irrelevant_buildings(bld_point, taz, taz_not_relevant, stat)"
   ]
  },
  {
   "cell_type": "markdown",
   "id": "3df73395",
   "metadata": {},
   "source": [
    "### יצירת מאה אחוז לכל א\"ס"
   ]
  },
  {
   "cell_type": "code",
   "execution_count": null,
   "id": "ac75da44",
   "metadata": {},
   "outputs": [],
   "source": [
    "sum_bld_m3=create_100_percent_for_every_AS(bld_point)"
   ]
  },
  {
   "cell_type": "markdown",
   "id": "5521276d",
   "metadata": {},
   "source": [
    "### א\"ס ללא פוליגון\n",
    "\n"
   ]
  },
  {
   "cell_type": "code",
   "execution_count": null,
   "id": "1e4578f9",
   "metadata": {},
   "outputs": [],
   "source": [
    "stat_in_taz=make_point(stat_in_taz).sjoin(taz[['Taz_num','geometry']])[['STAT','Taz_num']]"
   ]
  },
  {
   "cell_type": "code",
   "execution_count": null,
   "id": "a7ec583f",
   "metadata": {},
   "outputs": [],
   "source": [
    "stat_in_taz['precent_of_stat_data']=1"
   ]
  },
  {
   "cell_type": "markdown",
   "id": "39210892",
   "metadata": {},
   "source": [
    "### איחוד לטבלה אחת\n",
    "\n"
   ]
  },
  {
   "cell_type": "code",
   "execution_count": null,
   "id": "e43f398d",
   "metadata": {},
   "outputs": [],
   "source": [
    "col=['Taz_num', 'STAT',  'precent_of_stat_data']"
   ]
  },
  {
   "cell_type": "code",
   "execution_count": null,
   "id": "2b122eaa",
   "metadata": {},
   "outputs": [],
   "source": [
    "precent_of_stat_data=pd.concat([sum_bld_m3[col], stat_in_taz])"
   ]
  },
  {
   "cell_type": "code",
   "execution_count": null,
   "id": "fef5a970",
   "metadata": {},
   "outputs": [],
   "source": [
    "precent_of_stat_data.to_excel(r'{}\\Intermediates\\precent_of_stat_data.xlsx'.format(software_data_folder_location),index=False)"
   ]
  },
  {
   "cell_type": "markdown",
   "id": "c14e12da",
   "metadata": {},
   "source": [
    "###  יצירת מידע ברמת אזור תנועה"
   ]
  },
  {
   "cell_type": "code",
   "execution_count": null,
   "id": "1a59c059",
   "metadata": {},
   "outputs": [],
   "source": [
    "stat=up_load_df(r'{}\\Intermediates'.format(software_data_folder_location),'stat_cbs_jtmt_2020')"
   ]
  },
  {
   "cell_type": "code",
   "execution_count": null,
   "id": "af1147b3",
   "metadata": {
    "code_folding": []
   },
   "outputs": [],
   "source": [
    "taz_stat_conver=create_information_at_taz(stat, precent_of_stat_data)"
   ]
  },
  {
   "cell_type": "markdown",
   "id": "49c52c8e",
   "metadata": {},
   "source": [
    "### בשכבת האזורי תנועה יהיו רק אזורי תנועה שמפצלים את המידע של למס"
   ]
  },
  {
   "cell_type": "code",
   "execution_count": null,
   "id": "fd127472",
   "metadata": {},
   "outputs": [],
   "source": [
    "taz=taz_that_split_lms_information(taz_stat_conver, stat)"
   ]
  },
  {
   "cell_type": "code",
   "execution_count": null,
   "id": "13037c69",
   "metadata": {},
   "outputs": [],
   "source": [
    "save_taz_path=r'{}\\Intermediates'.format(software_data_folder_location)"
   ]
  },
  {
   "cell_type": "code",
   "execution_count": null,
   "id": "9792ae5b",
   "metadata": {},
   "outputs": [],
   "source": [
    "taz.to_excel(r'{}\\taz_with_pop_info.xlsx'.format(save_taz_path))"
   ]
  }
 ],
 "metadata": {
  "kernelspec": {
   "display_name": "Python 3 (ipykernel)",
   "language": "python",
   "name": "python3"
  },
  "language_info": {
   "codemirror_mode": {
    "name": "ipython",
    "version": 3
   },
   "file_extension": ".py",
   "mimetype": "text/x-python",
   "name": "python",
   "nbconvert_exporter": "python",
   "pygments_lexer": "ipython3",
   "version": "3.11.5"
  },
  "toc": {
   "base_numbering": 1,
   "nav_menu": {},
   "number_sections": true,
   "sideBar": true,
   "skip_h1_title": false,
   "title_cell": "Table of Contents",
   "title_sidebar": "Contents",
   "toc_cell": false,
   "toc_position": {
    "height": "calc(100% - 180px)",
    "left": "10px",
    "top": "150px",
    "width": "415.996px"
   },
   "toc_section_display": true,
   "toc_window_display": true
  }
 },
 "nbformat": 4,
 "nbformat_minor": 5
}
