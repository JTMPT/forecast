{
 "cells": [
  {
   "cell_type": "markdown",
   "id": "0e7214ba",
   "metadata": {},
   "source": [
    "### קוד מבוא"
   ]
  },
  {
   "cell_type": "markdown",
   "id": "b43666d7",
   "metadata": {},
   "source": [
    "### ספריות"
   ]
  },
  {
   "cell_type": "code",
   "execution_count": 52,
   "id": "f8405d52",
   "metadata": {},
   "outputs": [],
   "source": [
    "import os\n",
    "import sys\n",
    "import pandas as pd\n",
    "import geopandas as gpd\n",
    "import fiona"
   ]
  },
  {
   "cell_type": "code",
   "execution_count": 53,
   "id": "2dacbc13",
   "metadata": {},
   "outputs": [],
   "source": [
    "pd.set_option('display.max_rows', None)\n",
    "pd.set_option('display.max_columns', None)"
   ]
  },
  {
   "cell_type": "code",
   "execution_count": 54,
   "id": "b2c3b3ca",
   "metadata": {},
   "outputs": [],
   "source": [
    "pd.options.display.float_format = '{:.4f}'.format\n",
    "pd.set_option('display.float_format',  '{:,.2f}'.format)"
   ]
  },
  {
   "cell_type": "markdown",
   "id": "9624443e",
   "metadata": {},
   "source": [
    "### העלת משתנים להרצת הקוד"
   ]
  },
  {
   "cell_type": "code",
   "execution_count": 55,
   "id": "5319a90d",
   "metadata": {},
   "outputs": [],
   "source": [
    "path = os.getcwd()\n",
    "\n",
    "parent = os.path.dirname(path)\n",
    "\n",
    "software_data_folder_location = os.path.dirname(parent)\n",
    "\n",
    "df_inputs_outputs = pd.read_excel(r'{}\\inputs_outputs.xlsx'.format(software_data_folder_location))\n",
    "\n",
    "software_data_folder_location=df_inputs_outputs['location'][0]\n",
    "\n",
    "forecast_version_folder_location=df_inputs_outputs['location'][1]\n",
    "\n",
    "sys.path.append(software_data_folder_location)"
   ]
  },
  {
   "cell_type": "markdown",
   "id": "f548f8c4",
   "metadata": {},
   "source": [
    "### פונקציות"
   ]
  },
  {
   "cell_type": "code",
   "execution_count": 56,
   "id": "12afd590",
   "metadata": {},
   "outputs": [],
   "source": [
    "from py_scripts.statistical_areas_layer import statistical_areas_layer\n",
    "from py_scripts.authority_level_information import authority_level_information\n",
    "from py_scripts.upload_population_information import upload_population_information\n",
    "from py_scripts.create_age_distribution_table import create_age_distribution_table\n",
    "from py_scripts.percentage_of_hardi_of_statistical_area import percentage_of_hardi_of_statistical_area\n",
    "from py_scripts.fix_level_a_arab_jerus import fix_level_a_arab_jerus\n",
    "from py_scripts.assimilation_fix_level_a import assimilation_fix_level_a\n",
    "from py_scripts.uploading_problematic_statistical_area_for_correction_level_b import uploading_problematic_statistical_area_for_correction_level_b\n",
    "from py_scripts.create_GM_according_to_catalog import create_GM_according_to_catalog\n",
    "from py_scripts.fix_lebel_b import fix_lebel_b\n",
    "from py_scripts.creating_apartments_according_to_household_size import creating_apartments_according_to_household_size\n",
    "from py_scripts.information_control_lms_at_authority_level import information_control_lms_at_authority_level\n",
    "from py_scripts.export_stat_area_level_information import export_stat_area_level_information"
   ]
  },
  {
   "cell_type": "markdown",
   "id": "07eb026a",
   "metadata": {},
   "source": [
    "### פונקציות גלובליות"
   ]
  },
  {
   "cell_type": "code",
   "execution_count": 57,
   "id": "0ab12fd6",
   "metadata": {},
   "outputs": [],
   "source": [
    "from functions import make_point\n",
    "from functions import up_load_df\n",
    "from functions import up_load_gdb\n",
    "from functions import up_load_shp"
   ]
  },
  {
   "cell_type": "markdown",
   "id": "d66f6096",
   "metadata": {},
   "source": [
    "### העלת טבלת המרה בין למס מרכזי למשני"
   ]
  },
  {
   "cell_type": "code",
   "execution_count": 58,
   "id": "1366eb07",
   "metadata": {},
   "outputs": [],
   "source": [
    "stat_join_from_main_to_secondary=up_load_df(\n",
    "        r'{}\\background_files'.format(software_data_folder_location),'stat_join_from_main_to_secondary')"
   ]
  },
  {
   "cell_type": "markdown",
   "id": "366eb7ab",
   "metadata": {},
   "source": [
    "### העלת טבלת יח_ד למ_ס"
   ]
  },
  {
   "cell_type": "code",
   "execution_count": 59,
   "id": "809075ee",
   "metadata": {},
   "outputs": [],
   "source": [
    "folder_path=r'{}\\background_files'.format(software_data_folder_location)\n",
    "file_name='מספר דירות לפי אזורים סטטיסטיים'\n",
    "\n",
    "path_df=r'{}\\{}.xlsx'.format(folder_path,file_name)\n",
    "df=pd.read_excel(path_df)\n",
    "df=df.dropna(how='all')\n",
    "\n",
    "\n",
    "stat_aprt=df"
   ]
  },
  {
   "cell_type": "code",
   "execution_count": 60,
   "id": "fb77759a",
   "metadata": {},
   "outputs": [],
   "source": [
    "col=['STAT', 'aprt_20']"
   ]
  },
  {
   "cell_type": "code",
   "execution_count": 61,
   "id": "f0722888",
   "metadata": {},
   "outputs": [],
   "source": [
    "stat_aprt=stat_aprt[col]"
   ]
  },
  {
   "cell_type": "markdown",
   "id": "9a0d615f",
   "metadata": {},
   "source": [
    "### שכבת אזורים סטטיסטים"
   ]
  },
  {
   "cell_type": "code",
   "execution_count": 62,
   "id": "206ca65c",
   "metadata": {},
   "outputs": [],
   "source": [
    "path=r'{}\\background_files\\statisticalareas_2020_demography.gdb'.format(software_data_folder_location)\n",
    "layer_list=fiona.listlayers(path)\n",
    "\n",
    "layer_name='statisticalareas_2020_demography_jtmt_area'\n",
    "\n",
    "gpd_layer=gpd.read_file(path, layer=layer_list.index(layer_name)).fillna(0)\n",
    "\n",
    "stat=gpd_layer.rename(columns={'YISHUV_STAT11':'STAT'})"
   ]
  },
  {
   "cell_type": "code",
   "execution_count": 63,
   "id": "de9afefb",
   "metadata": {},
   "outputs": [],
   "source": [
    "stat=statistical_areas_layer(stat, stat_aprt, stat_join_from_main_to_secondary)"
   ]
  },
  {
   "cell_type": "markdown",
   "id": "3c339905",
   "metadata": {},
   "source": [
    "###  מידע ברמת רשות"
   ]
  },
  {
   "cell_type": "code",
   "execution_count": 64,
   "id": "58258f84",
   "metadata": {},
   "outputs": [],
   "source": [
    "stat_point=make_point(stat[['STAT', 'geometry']])\n",
    "muni_under_JTMT_ITM=up_load_gdb(r'{}\\background_files\\MUNI_border.gdb'.format(software_data_folder_location),'muni_under_JTMT_ITM')\n",
    "muni_under_JTMT_ITM=muni_under_JTMT_ITM[['CR_PNIM','geometry']]"
   ]
  },
  {
   "cell_type": "code",
   "execution_count": 65,
   "id": "0acb7baf",
   "metadata": {},
   "outputs": [],
   "source": [
    "stat=authority_level_information(stat, stat_point, muni_under_JTMT_ITM)"
   ]
  },
  {
   "cell_type": "markdown",
   "id": "01e0f653",
   "metadata": {},
   "source": [
    "###  העלת מידע אוכלוסייה"
   ]
  },
  {
   "cell_type": "code",
   "execution_count": 66,
   "id": "00235be5",
   "metadata": {},
   "outputs": [],
   "source": [
    "folder_path=r'{}\\background_files'.format(software_data_folder_location)\n",
    "file_name='cbs_2020_with_age_distribution_type'\n",
    "\n",
    "path_df=r'{}\\{}.xlsx'.format(folder_path,file_name)\n",
    "df=pd.read_excel(path_df,sheet_name='classification')\n",
    "df=df.dropna(how='all')\n",
    "\n",
    "classification=df"
   ]
  },
  {
   "cell_type": "code",
   "execution_count": 67,
   "id": "140b5dd4",
   "metadata": {},
   "outputs": [],
   "source": [
    "stat=upload_population_information(stat, classification)"
   ]
  },
  {
   "cell_type": "code",
   "execution_count": 68,
   "id": "137bc6bd",
   "metadata": {},
   "outputs": [],
   "source": [
    "folder_path=r'{}\\background_files'.format(software_data_folder_location)\n",
    "file_name='cbs_2020_with_age_distribution_type'\n",
    "\n",
    "path_df=r'{}\\{}.xlsx'.format(folder_path,file_name)\n",
    "df=pd.read_excel(path_df,sheet_name='hh_size')\n",
    "df=df.dropna(how='all')\n",
    "\n",
    "hh_size=df"
   ]
  },
  {
   "cell_type": "code",
   "execution_count": 69,
   "id": "1d32f57a",
   "metadata": {},
   "outputs": [],
   "source": [
    "stat=pd.merge(stat,hh_size,on='classification_name',how='left')"
   ]
  },
  {
   "cell_type": "code",
   "execution_count": 70,
   "id": "b160ea0a",
   "metadata": {},
   "outputs": [],
   "source": [
    "folder_path=r'{}\\background_files'.format(software_data_folder_location)\n",
    "file_name='cbs_2020_with_age_distribution_type'\n",
    "\n",
    "path_df=r'{}\\{}.xlsx'.format(folder_path,file_name)\n",
    "df=pd.read_excel(path_df,sheet_name='types')\n",
    "df=df.dropna(how='all')\n",
    "\n",
    "age_des_types=df"
   ]
  },
  {
   "cell_type": "code",
   "execution_count": 71,
   "id": "3b26f902",
   "metadata": {},
   "outputs": [],
   "source": [
    "folder_path=r'{}\\background_files'.format(software_data_folder_location)\n",
    "file_name='cbs_2020_with_age_distribution_type'\n",
    "\n",
    "path_df=r'{}\\{}.xlsx'.format(folder_path,file_name)\n",
    "df=pd.read_excel(path_df,sheet_name='absolute_numbers')\n",
    "df=df.dropna(how='all').fillna(0)\n",
    "\n",
    "cbs_pop=df"
   ]
  },
  {
   "cell_type": "code",
   "execution_count": 72,
   "id": "14017fd8",
   "metadata": {},
   "outputs": [],
   "source": [
    "cbs_pop['pop']=cbs_pop.iloc[:,3:].sum(axis=1)"
   ]
  },
  {
   "cell_type": "code",
   "execution_count": 73,
   "id": "dc270fea",
   "metadata": {},
   "outputs": [],
   "source": [
    "age=['0','5','10','15','20','25','30','35','40','45','50','55','60','65','70','75','80','85']"
   ]
  },
  {
   "cell_type": "code",
   "execution_count": 74,
   "id": "396c2129",
   "metadata": {
    "code_folding": [],
    "scrolled": true
   },
   "outputs": [],
   "source": [
    "for x in age:\n",
    "    cbs_pop['pop_{}'.format(x)]= cbs_pop['female_{}'.format(x)]+cbs_pop['male_{}'.format(x)]"
   ]
  },
  {
   "cell_type": "code",
   "execution_count": 75,
   "id": "cf489af3",
   "metadata": {},
   "outputs": [],
   "source": [
    "cbs_pop['pop_75up']= cbs_pop[['pop_75', 'pop_80', 'pop_85']].sum(axis=1)"
   ]
  },
  {
   "cell_type": "code",
   "execution_count": 76,
   "id": "a0eef3a3",
   "metadata": {
    "code_folding": [
     0
    ]
   },
   "outputs": [],
   "source": [
    "col=[ 'main_stat', 'pop', 'pop_0', 'pop_5', 'pop_10', 'pop_15', 'pop_20', 'pop_25', 'pop_30', 'pop_35', 'pop_40', 'pop_45', 'pop_50',\n",
    " 'pop_55',\n",
    " 'pop_60',\n",
    " 'pop_65',\n",
    " 'pop_70',\n",
    " 'pop_75up']"
   ]
  },
  {
   "cell_type": "code",
   "execution_count": 77,
   "id": "7b43602f",
   "metadata": {},
   "outputs": [],
   "source": [
    "cbs_pop=cbs_pop[col]"
   ]
  },
  {
   "cell_type": "markdown",
   "id": "5a2d8e68",
   "metadata": {},
   "source": [
    "יצירת טבלת התפלגות גילים באחוזים לטובת המשך הקוד כאשר יש שינויים בסך הכל אוכלוסיה אבל מעוניינים עדיין בהתפלגות גילים המקורית"
   ]
  },
  {
   "cell_type": "code",
   "execution_count": 78,
   "id": "1466d104",
   "metadata": {},
   "outputs": [],
   "source": [
    "cbs_pop_pre=cbs_pop.copy()"
   ]
  },
  {
   "cell_type": "code",
   "execution_count": 79,
   "id": "a830aefb",
   "metadata": {},
   "outputs": [],
   "source": [
    "stat=create_age_distribution_table(cbs_pop_pre, cbs_pop, stat)"
   ]
  },
  {
   "cell_type": "markdown",
   "id": "a6d2b0bc",
   "metadata": {},
   "source": [
    "###  אחוז חרדים מכלל א\"ס"
   ]
  },
  {
   "cell_type": "code",
   "execution_count": 80,
   "id": "107ecbc8",
   "metadata": {},
   "outputs": [],
   "source": [
    "folder_path=r'{}\\background_files'.format(software_data_folder_location)\n",
    "file_name='אוכלוסייה חרדית לפי מחוז, יישוב, ואזור סטטיסטי - 2020'\n",
    "\n",
    "path_df=r'{}\\{}.xlsx'.format(folder_path,file_name)\n",
    "df=pd.read_excel(path_df)\n",
    "df=df.dropna(how='all')\n",
    "\n",
    "stat_hardi=df"
   ]
  },
  {
   "cell_type": "code",
   "execution_count": 81,
   "id": "59929e2a",
   "metadata": {},
   "outputs": [],
   "source": [
    "stat=percentage_of_hardi_of_statistical_area(stat_hardi, stat)"
   ]
  },
  {
   "cell_type": "markdown",
   "id": "7e82075f",
   "metadata": {},
   "source": [
    "###  תיקון שלב א ערבי ירושלים"
   ]
  },
  {
   "cell_type": "code",
   "execution_count": 82,
   "id": "575f6f29",
   "metadata": {},
   "outputs": [],
   "source": [
    "path=r'{}\\background_files\\statisticalareas_2020_demography.gdb'.format(software_data_folder_location)\n",
    "layer_name='statisticalareas_2020_demography_arab_jtmt'\n",
    "stat_arab=up_load_gdb(path,layer_name)"
   ]
  },
  {
   "cell_type": "code",
   "execution_count": 83,
   "id": "1d4ab79a",
   "metadata": {},
   "outputs": [
    {
     "name": "stderr",
     "output_type": "stream",
     "text": [
      "c:\\Users\\dpere\\Documents\\JTMT\\forecast\\create_forecast_basic\\current\\people\\fix_cbs_data_230717\\py_scripts\\fix_level_a_arab_jerus.py:16: FutureWarning: Setting an item of incompatible dtype is deprecated and will raise in a future error of pandas. Value '-103981.8' has dtype incompatible with int64, please explicitly cast to a compatible dtype first.\n",
      "  group_pop_jtmt.loc['east_jeru_left','pop']=group_pop_delta.item()\n"
     ]
    }
   ],
   "source": [
    "stat_arab=fix_level_a_arab_jerus(col, stat_arab, cbs_pop_pre)"
   ]
  },
  {
   "cell_type": "markdown",
   "id": "0f4bb507",
   "metadata": {},
   "source": [
    "###  הטמעת תיקון שלב א"
   ]
  },
  {
   "cell_type": "code",
   "execution_count": 84,
   "id": "45fcc199",
   "metadata": {
    "scrolled": true
   },
   "outputs": [],
   "source": [
    "stat=assimilation_fix_level_a(stat_arab, stat)"
   ]
  },
  {
   "cell_type": "markdown",
   "id": "da453a3f",
   "metadata": {},
   "source": [
    "###  העלת א\"ס בעייתי לתיקון שלב ב"
   ]
  },
  {
   "cell_type": "code",
   "execution_count": 85,
   "id": "97f9a11d",
   "metadata": {},
   "outputs": [],
   "source": [
    "path=r'{}\\background_files\\jtmt_fix_for_cbs_data_2020.shp'.format(software_data_folder_location)\n",
    "\n",
    "jtmt_fix_stat=up_load_shp(path)"
   ]
  },
  {
   "cell_type": "code",
   "execution_count": 86,
   "id": "a1b5dcbb",
   "metadata": {},
   "outputs": [],
   "source": [
    "stat=uploading_problematic_statistical_area_for_correction_level_b(jtmt_fix_stat, stat)"
   ]
  },
  {
   "cell_type": "markdown",
   "id": "7109edd7",
   "metadata": {},
   "source": [
    "###  יצירת גמ לפי קטלוג"
   ]
  },
  {
   "cell_type": "code",
   "execution_count": 87,
   "id": "a95835fb",
   "metadata": {},
   "outputs": [
    {
     "name": "stderr",
     "output_type": "stream",
     "text": [
      "c:\\Users\\dpere\\Documents\\JTMT\\forecast\\create_forecast_basic\\current\\people\\fix_cbs_data_230717\\py_scripts\\create_GM_according_to_catalog.py:21: FutureWarning: The provided callable <built-in function sum> is currently using DataFrameGroupBy.sum. In a future version of pandas, the provided callable will be used directly. To keep current behavior pass the string \"sum\" instead.\n",
      "  hh_size_by_classification=drop_geo(stat).loc[(stat['aprt_20']>0)&(stat['STAT'].isin(cbs_not_lie_lst))].pivot_table(index='classification_name',aggfunc=sum)[['aprt_20','pop','count']]\n"
     ]
    }
   ],
   "source": [
    "stat=create_GM_according_to_catalog(stat, hh_size)"
   ]
  },
  {
   "cell_type": "markdown",
   "id": "7bcd0aa1",
   "metadata": {},
   "source": [
    "###  תיקון שלב ב"
   ]
  },
  {
   "cell_type": "code",
   "execution_count": 88,
   "id": "f8976b5f",
   "metadata": {},
   "outputs": [],
   "source": [
    "stat=fix_lebel_b(stat)"
   ]
  },
  {
   "cell_type": "markdown",
   "id": "bcbb161d",
   "metadata": {},
   "source": [
    "###  יצירת דירות לפי גודל משק בית"
   ]
  },
  {
   "cell_type": "code",
   "execution_count": 89,
   "id": "e4dfffa5",
   "metadata": {},
   "outputs": [],
   "source": [
    "stat=creating_apartments_according_to_household_size(stat)"
   ]
  },
  {
   "cell_type": "markdown",
   "id": "8af12531",
   "metadata": {},
   "source": [
    "### בקרת מידע למס ברמה של רשות\n"
   ]
  },
  {
   "cell_type": "code",
   "execution_count": 90,
   "id": "78771eb4",
   "metadata": {},
   "outputs": [],
   "source": [
    "pop_2020_cbs_muni=up_load_df(r'{}\\background_files'.format(software_data_folder_location),'pop_2020_cbs_muni')"
   ]
  },
  {
   "cell_type": "code",
   "execution_count": 91,
   "id": "8dbbb377",
   "metadata": {
    "scrolled": true
   },
   "outputs": [
    {
     "name": "stderr",
     "output_type": "stream",
     "text": [
      "c:\\Users\\dpere\\Documents\\JTMT\\forecast\\create_forecast_basic\\current\\people\\fix_cbs_data_230717\\py_scripts\\information_control_lms_at_authority_level.py:17: FutureWarning: The provided callable <built-in function sum> is currently using DataFrameGroupBy.sum. In a future version of pandas, the provided callable will be used directly. To keep current behavior pass the string \"sum\" instead.\n",
      "  stat_by_muni_sum=drop_geo(stat).pivot_table(index='CR_PNIM',aggfunc=sum)[['pop_cbs','pop']]\n"
     ]
    }
   ],
   "source": [
    "stat=information_control_lms_at_authority_level(stat, pop_2020_cbs_muni)"
   ]
  },
  {
   "cell_type": "markdown",
   "id": "aec1b2c2",
   "metadata": {},
   "source": [
    "### ייצא מידע ברמת אזור סטט עם השינוים שלנו"
   ]
  },
  {
   "cell_type": "code",
   "execution_count": 92,
   "id": "24920510",
   "metadata": {},
   "outputs": [],
   "source": [
    "stat=export_stat_area_level_information(stat)"
   ]
  },
  {
   "cell_type": "code",
   "execution_count": 93,
   "id": "2c061de6",
   "metadata": {},
   "outputs": [],
   "source": [
    "col=['STAT','precent_of_stat_data','classification_name','pop','pop_cbs','aprt_20','aprt_20_cbs','pop_delta','aprt_20_delta','change_from_cbs']"
   ]
  },
  {
   "cell_type": "code",
   "execution_count": 94,
   "id": "e45ff6e5",
   "metadata": {
    "scrolled": true
   },
   "outputs": [],
   "source": [
    "stat[col].query('STAT!=5526 & STAT!=9975').to_excel(r'{}\\Intermediates\\stat_cbs_jtmt_2020_short.xlsx'.format(software_data_folder_location),index=False)"
   ]
  },
  {
   "cell_type": "code",
   "execution_count": 95,
   "id": "b620819c",
   "metadata": {},
   "outputs": [],
   "source": [
    "stat.query('STAT!=5526 & STAT!=9975').to_excel(r'{}\\Intermediates\\stat_cbs_jtmt_2020.xlsx'.format(software_data_folder_location),index=False)"
   ]
  }
 ],
 "metadata": {
  "kernelspec": {
   "display_name": "Python 3 (ipykernel)",
   "language": "python",
   "name": "python3"
  },
  "language_info": {
   "codemirror_mode": {
    "name": "ipython",
    "version": 3
   },
   "file_extension": ".py",
   "mimetype": "text/x-python",
   "name": "python",
   "nbconvert_exporter": "python",
   "pygments_lexer": "ipython3",
   "version": "3.11.5"
  },
  "toc": {
   "base_numbering": 1,
   "nav_menu": {},
   "number_sections": true,
   "sideBar": true,
   "skip_h1_title": false,
   "title_cell": "Table of Contents",
   "title_sidebar": "Contents",
   "toc_cell": false,
   "toc_position": {
    "height": "calc(100% - 180px)",
    "left": "10px",
    "top": "150px",
    "width": "373.333px"
   },
   "toc_section_display": true,
   "toc_window_display": true
  }
 },
 "nbformat": 4,
 "nbformat_minor": 5
}
