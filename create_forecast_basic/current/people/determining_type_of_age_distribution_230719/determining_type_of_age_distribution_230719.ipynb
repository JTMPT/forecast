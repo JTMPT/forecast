{
 "cells": [
  {
   "cell_type": "markdown",
   "id": "88cf13a3",
   "metadata": {},
   "source": [
    "### ספריות"
   ]
  },
  {
   "cell_type": "code",
   "execution_count": 1,
   "id": "0c16c15f",
   "metadata": {},
   "outputs": [],
   "source": [
    "import os\n",
    "import sys\n",
    "import pandas as pd\n",
    "import geopandas as gpd\n",
    "import numpy as np"
   ]
  },
  {
   "cell_type": "code",
   "execution_count": 2,
   "id": "7ff93804",
   "metadata": {},
   "outputs": [],
   "source": [
    "pd.set_option('display.max_rows', None)\n",
    "pd.set_option('display.max_columns', None)\n",
    "pd.set_option('display.float_format', lambda x: '%.3f' % x)"
   ]
  },
  {
   "cell_type": "markdown",
   "id": "ce43d361",
   "metadata": {},
   "source": [
    "### העלת משתנים להרצת הקוד"
   ]
  },
  {
   "cell_type": "code",
   "execution_count": 3,
   "id": "3b5fad15",
   "metadata": {},
   "outputs": [],
   "source": [
    "path = os.getcwd()\n",
    "\n",
    "parent = os.path.dirname(path)\n",
    "\n",
    "software_data_folder_location = os.path.dirname(parent)\n",
    "\n",
    "df_inputs_outputs = pd.read_excel(r'{}\\inputs_outputs.xlsx'.format(software_data_folder_location))\n",
    "\n",
    "software_data_folder_location=df_inputs_outputs['location'][0]\n",
    "\n",
    "forecast_version_folder_location=df_inputs_outputs['location'][1]\n",
    "\n",
    "sys.path.append(software_data_folder_location)"
   ]
  },
  {
   "cell_type": "markdown",
   "id": "85fbf2e4",
   "metadata": {},
   "source": [
    "### פונקציות"
   ]
  },
  {
   "cell_type": "code",
   "execution_count": 4,
   "id": "b31b8c9d",
   "metadata": {},
   "outputs": [],
   "source": [
    "from py_scripts.category_for_age_distribution import category_for_age_distribution"
   ]
  },
  {
   "cell_type": "markdown",
   "id": "0fbd57ba",
   "metadata": {},
   "source": [
    "### פונקציות גלובליות"
   ]
  },
  {
   "cell_type": "code",
   "execution_count": 5,
   "id": "81c49da2",
   "metadata": {},
   "outputs": [],
   "source": [
    "def find_files_with_pattern(directory, pattern):\n",
    "    \"\"\"\n",
    "    Find files in a directory that match a certain pattern.\n",
    "    \n",
    "    Args:\n",
    "    - directory (str): The directory path.\n",
    "    - pattern (str): The pattern to search for in file names.\n",
    "    \n",
    "    Returns:\n",
    "    - List of file paths matching the pattern.\n",
    "    \"\"\"\n",
    "    files = []\n",
    "    for root, _, filenames in os.walk(directory):\n",
    "        for filename in filenames:\n",
    "            if pattern in filename:\n",
    "                files.append(os.path.join(root, filename))\n",
    "    return files\n"
   ]
  },
  {
   "cell_type": "markdown",
   "id": "cf0e75ee",
   "metadata": {},
   "source": [
    "### העלת שכבות רלוונטים"
   ]
  },
  {
   "cell_type": "code",
   "execution_count": 7,
   "id": "9489dea4",
   "metadata": {},
   "outputs": [],
   "source": [
    "# Find files matching the pattern in the specified directory\n",
    "matching_files = find_files_with_pattern(forecast_version_folder_location, \"forecast_2020\")"
   ]
  },
  {
   "cell_type": "code",
   "execution_count": 8,
   "id": "e9ef92d4",
   "metadata": {},
   "outputs": [],
   "source": [
    "prototypes_df=pd.read_excel(r\"{}\\background_files\\age_des_types.xlsx\".format(software_data_folder_location))"
   ]
  },
  {
   "cell_type": "code",
   "execution_count": 9,
   "id": "ba207225",
   "metadata": {},
   "outputs": [],
   "source": [
    "data_df = pd.read_excel(matching_files[0])"
   ]
  },
  {
   "cell_type": "code",
   "execution_count": 10,
   "id": "b7dab5f0",
   "metadata": {},
   "outputs": [],
   "source": [
    "filename = os.path.basename(matching_files[0])\n",
    "\n",
    "# Remove the file extension if present\n",
    "filename = os.path.splitext(filename)[0]"
   ]
  },
  {
   "cell_type": "code",
   "execution_count": 11,
   "id": "752f13c7",
   "metadata": {},
   "outputs": [],
   "source": [
    "sectors=gpd.read_file(r'{}\\background_files\\TAZ_V4_230518_Published.shp'.format(software_data_folder_location))"
   ]
  },
  {
   "cell_type": "code",
   "execution_count": 12,
   "id": "f80fce18",
   "metadata": {},
   "outputs": [
    {
     "name": "stderr",
     "output_type": "stream",
     "text": [
      "c:\\Users\\dpere\\miniconda3\\envs\\creat_forecast_ad_hoc_env\\Lib\\site-packages\\geopandas\\geodataframe.py:1543: SettingWithCopyWarning: \n",
      "A value is trying to be set on a copy of a slice from a DataFrame.\n",
      "Try using .loc[row_indexer,col_indexer] = value instead\n",
      "\n",
      "See the caveats in the documentation: https://pandas.pydata.org/pandas-docs/stable/user_guide/indexing.html#returning-a-view-versus-a-copy\n",
      "  super().__setitem__(key, value)\n",
      "c:\\Users\\dpere\\Documents\\JTMT\\forecast\\create_forecast_basic\\current\\people\\determining_type_of_age_distribution_230719\\py_scripts\\my_function.py:115: FutureWarning: Setting an item of incompatible dtype is deprecated and will raise in a future error of pandas. Value 'חרדי צעיר' has dtype incompatible with float64, please explicitly cast to a compatible dtype first.\n",
      "  locals()['data_df_{}'.format(s)].at[index,'classification_name'] = closest_prototype\n",
      "c:\\Users\\dpere\\miniconda3\\envs\\creat_forecast_ad_hoc_env\\Lib\\site-packages\\geopandas\\geodataframe.py:1543: SettingWithCopyWarning: \n",
      "A value is trying to be set on a copy of a slice from a DataFrame.\n",
      "Try using .loc[row_indexer,col_indexer] = value instead\n",
      "\n",
      "See the caveats in the documentation: https://pandas.pydata.org/pandas-docs/stable/user_guide/indexing.html#returning-a-view-versus-a-copy\n",
      "  super().__setitem__(key, value)\n",
      "c:\\Users\\dpere\\Documents\\JTMT\\forecast\\create_forecast_basic\\current\\people\\determining_type_of_age_distribution_230719\\py_scripts\\my_function.py:115: FutureWarning: Setting an item of incompatible dtype is deprecated and will raise in a future error of pandas. Value 'כללי מאוזן' has dtype incompatible with float64, please explicitly cast to a compatible dtype first.\n",
      "  locals()['data_df_{}'.format(s)].at[index,'classification_name'] = closest_prototype\n",
      "c:\\Users\\dpere\\miniconda3\\envs\\creat_forecast_ad_hoc_env\\Lib\\site-packages\\geopandas\\geodataframe.py:1543: SettingWithCopyWarning: \n",
      "A value is trying to be set on a copy of a slice from a DataFrame.\n",
      "Try using .loc[row_indexer,col_indexer] = value instead\n",
      "\n",
      "See the caveats in the documentation: https://pandas.pydata.org/pandas-docs/stable/user_guide/indexing.html#returning-a-view-versus-a-copy\n",
      "  super().__setitem__(key, value)\n",
      "c:\\Users\\dpere\\Documents\\JTMT\\forecast\\create_forecast_basic\\current\\people\\determining_type_of_age_distribution_230719\\py_scripts\\my_function.py:115: FutureWarning: Setting an item of incompatible dtype is deprecated and will raise in a future error of pandas. Value 'מתנחלי מאוזן ' has dtype incompatible with float64, please explicitly cast to a compatible dtype first.\n",
      "  locals()['data_df_{}'.format(s)].at[index,'classification_name'] = closest_prototype\n",
      "c:\\Users\\dpere\\miniconda3\\envs\\creat_forecast_ad_hoc_env\\Lib\\site-packages\\geopandas\\geodataframe.py:1543: SettingWithCopyWarning: \n",
      "A value is trying to be set on a copy of a slice from a DataFrame.\n",
      "Try using .loc[row_indexer,col_indexer] = value instead\n",
      "\n",
      "See the caveats in the documentation: https://pandas.pydata.org/pandas-docs/stable/user_guide/indexing.html#returning-a-view-versus-a-copy\n",
      "  super().__setitem__(key, value)\n",
      "c:\\Users\\dpere\\Documents\\JTMT\\forecast\\create_forecast_basic\\current\\people\\determining_type_of_age_distribution_230719\\py_scripts\\my_function.py:115: FutureWarning: Setting an item of incompatible dtype is deprecated and will raise in a future error of pandas. Value 'ערבי צעיר' has dtype incompatible with float64, please explicitly cast to a compatible dtype first.\n",
      "  locals()['data_df_{}'.format(s)].at[index,'classification_name'] = closest_prototype\n"
     ]
    }
   ],
   "source": [
    "data_df=category_for_age_distribution(sectors, data_df, prototypes_df)"
   ]
  },
  {
   "cell_type": "code",
   "execution_count": 28,
   "id": "26921127",
   "metadata": {},
   "outputs": [],
   "source": [
    "data_df[['Taz_num','sector_for_age','classification_name']].to_excel(r'{}\\Intermediates\\{}_age_dis_type.xlsx'.format(software_data_folder_location,filename),index=False)"
   ]
  }
 ],
 "metadata": {
  "kernelspec": {
   "display_name": "Python 3 (ipykernel)",
   "language": "python",
   "name": "python3"
  },
  "language_info": {
   "codemirror_mode": {
    "name": "ipython",
    "version": 3
   },
   "file_extension": ".py",
   "mimetype": "text/x-python",
   "name": "python",
   "nbconvert_exporter": "python",
   "pygments_lexer": "ipython3",
   "version": "3.11.5"
  },
  "toc": {
   "base_numbering": 1,
   "nav_menu": {},
   "number_sections": true,
   "sideBar": true,
   "skip_h1_title": false,
   "title_cell": "Table of Contents",
   "title_sidebar": "Contents",
   "toc_cell": false,
   "toc_position": {},
   "toc_section_display": true,
   "toc_window_display": true
  }
 },
 "nbformat": 4,
 "nbformat_minor": 5
}
