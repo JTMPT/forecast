{
 "cells": [
  {
   "cell_type": "markdown",
   "id": "65e4c2ef",
   "metadata": {},
   "source": [
    "### ספריות"
   ]
  },
  {
   "cell_type": "code",
   "execution_count": 28,
   "id": "a43ce0cf",
   "metadata": {},
   "outputs": [],
   "source": [
    "import os\n",
    "import sys\n",
    "import pandas as pd\n",
    "import geopandas as gpd\n",
    "import fiona\n",
    "from shapely.geometry import Point"
   ]
  },
  {
   "cell_type": "code",
   "execution_count": 2,
   "id": "e351ed54",
   "metadata": {},
   "outputs": [],
   "source": [
    "pd.set_option('display.max_rows', None)\n",
    "pd.set_option('display.max_columns', None)\n",
    "pd.set_option('display.float_format', lambda x: '%.3f' % x)\n"
   ]
  },
  {
   "cell_type": "markdown",
   "id": "aa9d11a2",
   "metadata": {},
   "source": [
    "### העלת משתנים להרצת הקוד"
   ]
  },
  {
   "cell_type": "code",
   "execution_count": 3,
   "id": "25fb6262",
   "metadata": {},
   "outputs": [],
   "source": [
    "path = os.getcwd()\n",
    "\n",
    "parent = os.path.dirname(path)\n",
    "\n",
    "software_data_folder_location = os.path.dirname(parent)\n",
    "\n",
    "df_inputs_outputs = pd.read_excel(r'{}\\inputs_outputs.xlsx'.format(software_data_folder_location))\n",
    "\n",
    "software_data_folder_location=df_inputs_outputs['location'][0]\n",
    "\n",
    "forecast_version_folder_location=df_inputs_outputs['location'][1]\n",
    "\n",
    "sys.path.append(software_data_folder_location)"
   ]
  },
  {
   "cell_type": "markdown",
   "id": "9624443e",
   "metadata": {},
   "source": [
    "## פונקציות"
   ]
  },
  {
   "cell_type": "code",
   "execution_count": 4,
   "id": "b5e6cd99",
   "metadata": {},
   "outputs": [],
   "source": [
    "# def drop_geo(geoDF):\n",
    "#     geoDF = geoDF.drop(columns='geometry')\n",
    "#     return geoDF"
   ]
  },
  {
   "cell_type": "code",
   "execution_count": 5,
   "id": "d69c42ff",
   "metadata": {},
   "outputs": [],
   "source": [
    "# def double_taz_num(df):\n",
    "#     dup_taz_num=df.groupby(['Taz_num']).size().reset_index(name='count').query('count>1').Taz_num.to_list()\n",
    "#     return df.loc[df['Taz_num'].isin(dup_taz_num)]"
   ]
  },
  {
   "cell_type": "code",
   "execution_count": 6,
   "id": "d048994a",
   "metadata": {},
   "outputs": [],
   "source": [
    "# def make_point(df):\n",
    "#     df_point=df.copy()\n",
    "#     df_point['centroid'] = df_point.representative_point()\n",
    "#     df_point=df_point.set_geometry('centroid')\n",
    "#     df_point=df_point.drop(columns=['geometry'],axis=1)\n",
    "#     return df_point"
   ]
  },
  {
   "cell_type": "code",
   "execution_count": 7,
   "id": "86bf5cad",
   "metadata": {},
   "outputs": [],
   "source": [
    "# def up_load_gdb(path,layer_name):\n",
    "#     path='{}'.format(path)\n",
    "#     layer_list=fiona.listlayers(path)\n",
    "#     gpd_layer=gpd.read_file(path, layer=layer_list.index(layer_name))\n",
    "#     return gpd_layer"
   ]
  },
  {
   "cell_type": "code",
   "execution_count": 8,
   "id": "6acc6aa7",
   "metadata": {},
   "outputs": [],
   "source": [
    "# def up_load_shp(path):\n",
    "#     path='{}'.format(path)\n",
    "#     gpd_layer=gpd.read_file(path)\n",
    "#     return gpd_layer"
   ]
  },
  {
   "cell_type": "code",
   "execution_count": 9,
   "id": "cb093800",
   "metadata": {},
   "outputs": [],
   "source": [
    "# def unique_id_in_one_taz(df_to_geoode,unique_field,gpd_for_geocode,taz):\n",
    "    \n",
    "#     code_to_find=list(df_to_geoode[unique_field].unique())\n",
    "\n",
    "#     gpd_for_geocode_to_sum_by_taz=gpd_for_geocode[[unique_field,'geometry']].loc[gpd_for_geocode[unique_field].isin(code_to_find)]\n",
    "\n",
    "#     gpd_for_geocode_to_sum_by_taz=gpd.sjoin(taz[['Taz_num','geometry']],gpd_for_geocode_to_sum_by_taz)\n",
    "\n",
    "#     gpd_for_geocode_in_one_taz=list(gpd_for_geocode_to_sum_by_taz.groupby(unique_field)[['Taz_num']].nunique().query('Taz_num==1').reset_index()[unique_field])\n",
    "\n",
    "#     return gpd_for_geocode_in_one_taz"
   ]
  },
  {
   "cell_type": "code",
   "execution_count": 10,
   "id": "b1a16060",
   "metadata": {},
   "outputs": [],
   "source": [
    "# def up_load_df(folder_path,file_name):\n",
    "    \n",
    "#     path_df=r'{}\\{}.xlsx'.format(folder_path,file_name)\n",
    "#     df=pd.read_excel(path_df)\n",
    "#     df=df.dropna(how='all')\n",
    "\n",
    "#     return df\n"
   ]
  },
  {
   "cell_type": "markdown",
   "id": "3094f5fd",
   "metadata": {},
   "source": [
    "### פונקציות גלובליות"
   ]
  },
  {
   "cell_type": "code",
   "execution_count": 11,
   "id": "2081e72d",
   "metadata": {},
   "outputs": [],
   "source": [
    "from functions import make_point\n",
    "from functions import up_load_df\n",
    "from functions import up_load_gdb\n",
    "from functions import up_load_shp"
   ]
  },
  {
   "cell_type": "code",
   "execution_count": 12,
   "id": "e7c3a612",
   "metadata": {},
   "outputs": [],
   "source": [
    "#העלת משתנים להרצת הקוד\n",
    "# df_inputs_outputs = pd.read_excel('inputs_outputs.xlsx')\n",
    "\n",
    "# software_data_folder_location=df_inputs_outputs['location'][0]\n",
    "\n",
    "# forecast_version_folder_location=df_inputs_outputs['location'][1]\n"
   ]
  },
  {
   "cell_type": "markdown",
   "id": "9e298bcd",
   "metadata": {},
   "source": [
    "## להריץ תלמידים"
   ]
  },
  {
   "cell_type": "code",
   "execution_count": 33,
   "id": "7cd351ae",
   "metadata": {},
   "outputs": [
    {
     "ename": "Exception",
     "evalue": "File `\"'C:\\\\Users\\\\dpere\\\\Documents\\\\JTMT\\\\forecast\\\\create_forecast_basic\\\\current\\\\people\\\\students_current_year_230706'\"` not found.",
     "output_type": "error",
     "traceback": [
      "\u001b[1;31m---------------------------------------------------------------------------\u001b[0m",
      "\u001b[1;31mOSError\u001b[0m                                   Traceback (most recent call last)",
      "File \u001b[1;32m~\\AppData\\Roaming\\Python\\Python311\\site-packages\\IPython\\core\\magics\\execution.py:716\u001b[0m, in \u001b[0;36mExecutionMagics.run\u001b[1;34m(self, parameter_s, runner, file_finder)\u001b[0m\n\u001b[0;32m    715\u001b[0m     fpath \u001b[38;5;241m=\u001b[39m arg_lst[\u001b[38;5;241m0\u001b[39m]\n\u001b[1;32m--> 716\u001b[0m     filename \u001b[38;5;241m=\u001b[39m \u001b[43mfile_finder\u001b[49m\u001b[43m(\u001b[49m\u001b[43mfpath\u001b[49m\u001b[43m)\u001b[49m\n\u001b[0;32m    717\u001b[0m \u001b[38;5;28;01mexcept\u001b[39;00m \u001b[38;5;167;01mIndexError\u001b[39;00m \u001b[38;5;28;01mas\u001b[39;00m e:\n",
      "File \u001b[1;32m~\\AppData\\Roaming\\Python\\Python311\\site-packages\\IPython\\utils\\path.py:90\u001b[0m, in \u001b[0;36mget_py_filename\u001b[1;34m(name)\u001b[0m\n\u001b[0;32m     89\u001b[0m         \u001b[38;5;28;01mreturn\u001b[39;00m py_name\n\u001b[1;32m---> 90\u001b[0m \u001b[38;5;28;01mraise\u001b[39;00m \u001b[38;5;167;01mIOError\u001b[39;00m(\u001b[38;5;124m\"\u001b[39m\u001b[38;5;124mFile `\u001b[39m\u001b[38;5;132;01m%r\u001b[39;00m\u001b[38;5;124m` not found.\u001b[39m\u001b[38;5;124m\"\u001b[39m \u001b[38;5;241m%\u001b[39m name)\n",
      "\u001b[1;31mOSError\u001b[0m: File `\"'C:\\\\Users\\\\dpere\\\\Documents\\\\JTMT\\\\forecast\\\\create_forecast_basic\\\\current\\\\people\\\\students_current_year_230706'\"` not found.",
      "\nThe above exception was the direct cause of the following exception:\n",
      "\u001b[1;31mException\u001b[0m                                 Traceback (most recent call last)",
      "Cell \u001b[1;32mIn[33], line 1\u001b[0m\n\u001b[1;32m----> 1\u001b[0m \u001b[43mget_ipython\u001b[49m\u001b[43m(\u001b[49m\u001b[43m)\u001b[49m\u001b[38;5;241;43m.\u001b[39;49m\u001b[43mrun_line_magic\u001b[49m\u001b[43m(\u001b[49m\u001b[38;5;124;43m'\u001b[39;49m\u001b[38;5;124;43mrun\u001b[39;49m\u001b[38;5;124;43m'\u001b[39;49m\u001b[43m,\u001b[49m\u001b[43m \u001b[49m\u001b[38;5;124;43m\"\u001b[39;49m\u001b[38;5;124;43m'\u001b[39;49m\u001b[38;5;124;43mC:\u001b[39;49m\u001b[38;5;130;43;01m\\\\\u001b[39;49;00m\u001b[38;5;124;43mUsers\u001b[39;49m\u001b[38;5;130;43;01m\\\\\u001b[39;49;00m\u001b[38;5;124;43mdpere\u001b[39;49m\u001b[38;5;130;43;01m\\\\\u001b[39;49;00m\u001b[38;5;124;43mDocuments\u001b[39;49m\u001b[38;5;130;43;01m\\\\\u001b[39;49;00m\u001b[38;5;124;43mJTMT\u001b[39;49m\u001b[38;5;130;43;01m\\\\\u001b[39;49;00m\u001b[38;5;124;43mforecast\u001b[39;49m\u001b[38;5;130;43;01m\\\\\u001b[39;49;00m\u001b[38;5;124;43mcreate_forecast_basic\u001b[39;49m\u001b[38;5;130;43;01m\\\\\u001b[39;49;00m\u001b[38;5;124;43mcurrent\u001b[39;49m\u001b[38;5;130;43;01m\\\\\u001b[39;49;00m\u001b[38;5;124;43mpeople\u001b[39;49m\u001b[38;5;130;43;01m\\\\\u001b[39;49;00m\u001b[38;5;124;43mstudents_current_year_230706\u001b[39;49m\u001b[38;5;124;43m'\u001b[39;49m\u001b[38;5;124;43m\"\u001b[39;49m\u001b[43m)\u001b[49m\n\u001b[0;32m      2\u001b[0m \u001b[38;5;28;01mimport\u001b[39;00m \u001b[38;5;21;01mstudents_current_year_230706\u001b[39;00m\n\u001b[0;32m      3\u001b[0m \u001b[38;5;66;03m# %run '/people/students_current_year_230706/students_current_year_230706.ipynb'\u001b[39;00m\n",
      "File \u001b[1;32m~\\AppData\\Roaming\\Python\\Python311\\site-packages\\IPython\\core\\interactiveshell.py:2432\u001b[0m, in \u001b[0;36mInteractiveShell.run_line_magic\u001b[1;34m(self, magic_name, line, _stack_depth)\u001b[0m\n\u001b[0;32m   2430\u001b[0m     kwargs[\u001b[38;5;124m'\u001b[39m\u001b[38;5;124mlocal_ns\u001b[39m\u001b[38;5;124m'\u001b[39m] \u001b[38;5;241m=\u001b[39m \u001b[38;5;28mself\u001b[39m\u001b[38;5;241m.\u001b[39mget_local_scope(stack_depth)\n\u001b[0;32m   2431\u001b[0m \u001b[38;5;28;01mwith\u001b[39;00m \u001b[38;5;28mself\u001b[39m\u001b[38;5;241m.\u001b[39mbuiltin_trap:\n\u001b[1;32m-> 2432\u001b[0m     result \u001b[38;5;241m=\u001b[39m \u001b[43mfn\u001b[49m\u001b[43m(\u001b[49m\u001b[38;5;241;43m*\u001b[39;49m\u001b[43margs\u001b[49m\u001b[43m,\u001b[49m\u001b[43m \u001b[49m\u001b[38;5;241;43m*\u001b[39;49m\u001b[38;5;241;43m*\u001b[39;49m\u001b[43mkwargs\u001b[49m\u001b[43m)\u001b[49m\n\u001b[0;32m   2434\u001b[0m \u001b[38;5;66;03m# The code below prevents the output from being displayed\u001b[39;00m\n\u001b[0;32m   2435\u001b[0m \u001b[38;5;66;03m# when using magics with decorator @output_can_be_silenced\u001b[39;00m\n\u001b[0;32m   2436\u001b[0m \u001b[38;5;66;03m# when the last Python token in the expression is a ';'.\u001b[39;00m\n\u001b[0;32m   2437\u001b[0m \u001b[38;5;28;01mif\u001b[39;00m \u001b[38;5;28mgetattr\u001b[39m(fn, magic\u001b[38;5;241m.\u001b[39mMAGIC_OUTPUT_CAN_BE_SILENCED, \u001b[38;5;28;01mFalse\u001b[39;00m):\n",
      "File \u001b[1;32m~\\AppData\\Roaming\\Python\\Python311\\site-packages\\IPython\\core\\magics\\execution.py:727\u001b[0m, in \u001b[0;36mExecutionMagics.run\u001b[1;34m(self, parameter_s, runner, file_finder)\u001b[0m\n\u001b[0;32m    725\u001b[0m     \u001b[38;5;28;01mif\u001b[39;00m os\u001b[38;5;241m.\u001b[39mname \u001b[38;5;241m==\u001b[39m \u001b[38;5;124m'\u001b[39m\u001b[38;5;124mnt\u001b[39m\u001b[38;5;124m'\u001b[39m \u001b[38;5;129;01mand\u001b[39;00m re\u001b[38;5;241m.\u001b[39mmatch(\u001b[38;5;124mr\u001b[39m\u001b[38;5;124m\"\u001b[39m\u001b[38;5;124m^\u001b[39m\u001b[38;5;124m'\u001b[39m\u001b[38;5;124m.*\u001b[39m\u001b[38;5;124m'\u001b[39m\u001b[38;5;124m$\u001b[39m\u001b[38;5;124m\"\u001b[39m,fpath):\n\u001b[0;32m    726\u001b[0m         warn(\u001b[38;5;124m'\u001b[39m\u001b[38;5;124mFor Windows, use double quotes to wrap a filename: \u001b[39m\u001b[38;5;132;01m%r\u001b[39;00m\u001b[38;5;124mun \u001b[39m\u001b[38;5;124m\"\u001b[39m\u001b[38;5;124mmypath\u001b[39m\u001b[38;5;130;01m\\\\\u001b[39;00m\u001b[38;5;124mmyfile.py\u001b[39m\u001b[38;5;124m\"\u001b[39m\u001b[38;5;124m'\u001b[39m)\n\u001b[1;32m--> 727\u001b[0m     \u001b[38;5;28;01mraise\u001b[39;00m \u001b[38;5;167;01mException\u001b[39;00m(msg) \u001b[38;5;28;01mfrom\u001b[39;00m \u001b[38;5;21;01me\u001b[39;00m\n\u001b[0;32m    728\u001b[0m \u001b[38;5;28;01mexcept\u001b[39;00m \u001b[38;5;167;01mTypeError\u001b[39;00m:\n\u001b[0;32m    729\u001b[0m     \u001b[38;5;28;01mif\u001b[39;00m fpath \u001b[38;5;129;01min\u001b[39;00m sys\u001b[38;5;241m.\u001b[39mmeta_path:\n",
      "\u001b[1;31mException\u001b[0m: File `\"'C:\\\\Users\\\\dpere\\\\Documents\\\\JTMT\\\\forecast\\\\create_forecast_basic\\\\current\\\\people\\\\students_current_year_230706'\"` not found."
     ]
    }
   ],
   "source": [
    "%run \"C:\\Users\\dpere\\Documents\\JTMT\\forecast\\create_forecast_basic\\current\\people\\students_current_year_230706\\students_current_year_230706.ipynb\"\n",
    "# %run '/people/students_current_year_230706/students_current_year_230706.ipynb'"
   ]
  },
  {
   "cell_type": "markdown",
   "id": "4e3f42f8",
   "metadata": {},
   "source": [
    "## להעלות שכבות"
   ]
  },
  {
   "cell_type": "code",
   "execution_count": 14,
   "id": "e9d5e721",
   "metadata": {},
   "outputs": [],
   "source": [
    "#העלת משתנים להרצת הקוד\n",
    "# df_inputs_outputs = pd.read_excel('inputs_outputs.xlsx')\n",
    "\n",
    "# software_data_folder_location=df_inputs_outputs['location'][0]\n",
    "\n",
    "# forecast_version_folder_location=df_inputs_outputs['location'][1]\n"
   ]
  },
  {
   "cell_type": "code",
   "execution_count": 15,
   "id": "eafdef2a",
   "metadata": {},
   "outputs": [],
   "source": [
    "path=r'{}\\background_files\\EMP_KIBOLET.gdb'.format(software_data_folder_location)\n",
    "EMP_kibolet=up_load_gdb(path,'EMP_kibolet')"
   ]
  },
  {
   "cell_type": "code",
   "execution_count": 16,
   "id": "ad8ab1b1",
   "metadata": {},
   "outputs": [],
   "source": [
    "EMP_kibolet=EMP_kibolet.fillna(0)"
   ]
  },
  {
   "cell_type": "code",
   "execution_count": 17,
   "id": "b2d50ac8",
   "metadata": {},
   "outputs": [],
   "source": [
    "EMP_kibolet['emp_without_palestin']=EMP_kibolet['kayim_emp']-EMP_kibolet['Palestinians']"
   ]
  },
  {
   "cell_type": "code",
   "execution_count": 18,
   "id": "b417c7e4",
   "metadata": {},
   "outputs": [],
   "source": [
    "emp_without_palestin_not_okev=EMP_kibolet['emp_without_palestin'].sum().item()"
   ]
  },
  {
   "cell_type": "code",
   "execution_count": 19,
   "id": "aa5bd8a4",
   "metadata": {},
   "outputs": [
    {
     "ename": "NameError",
     "evalue": "name 'taz' is not defined",
     "output_type": "error",
     "traceback": [
      "\u001b[1;31m---------------------------------------------------------------------------\u001b[0m",
      "\u001b[1;31mNameError\u001b[0m                                 Traceback (most recent call last)",
      "Cell \u001b[1;32mIn[19], line 1\u001b[0m\n\u001b[1;32m----> 1\u001b[0m emp_Education\u001b[38;5;241m=\u001b[39m\u001b[43mtaz\u001b[49m\u001b[38;5;241m.\u001b[39mquery(\u001b[38;5;124m'\u001b[39m\u001b[38;5;124mmain_secto!=\u001b[39m\u001b[38;5;124m\"\u001b[39m\u001b[38;5;124mPalestinian\u001b[39m\u001b[38;5;124m\"\u001b[39m\u001b[38;5;124m'\u001b[39m)[\u001b[38;5;124m'\u001b[39m\u001b[38;5;124memp_Education\u001b[39m\u001b[38;5;124m'\u001b[39m]\u001b[38;5;241m.\u001b[39msum()\u001b[38;5;241m.\u001b[39mitem()\n",
      "\u001b[1;31mNameError\u001b[0m: name 'taz' is not defined"
     ]
    }
   ],
   "source": [
    "emp_Education=taz.query('main_secto!=\"Palestinian\"')['emp_Education'].sum().item()"
   ]
  },
  {
   "cell_type": "markdown",
   "id": "2bfcfaff",
   "metadata": {},
   "source": [
    "## הוספת סטודנטים לאוכלוסיה ולהתפלגות גילים"
   ]
  },
  {
   "cell_type": "code",
   "execution_count": null,
   "id": "03a9b835",
   "metadata": {},
   "outputs": [],
   "source": [
    "student_dorms=up_load_shp(r'{}\\background_files\\student_dorms.shp'.format(software_data_folder_location))"
   ]
  },
  {
   "cell_type": "code",
   "execution_count": null,
   "id": "8dbf0217",
   "metadata": {},
   "outputs": [],
   "source": [
    "taz['student_dorms']=gpd.sjoin(taz[['geometry']].reset_index(),student_dorms)[['Taz_num','student_nu']].pivot_table(index='Taz_num',aggfunc=sum)"
   ]
  },
  {
   "cell_type": "code",
   "execution_count": null,
   "id": "07653bd4",
   "metadata": {},
   "outputs": [],
   "source": [
    "taz=taz.fillna(0)"
   ]
  },
  {
   "cell_type": "code",
   "execution_count": null,
   "id": "770e8459",
   "metadata": {},
   "outputs": [],
   "source": [
    "taz['pop_without_dorms_yeshiva']=taz['pop']"
   ]
  },
  {
   "cell_type": "code",
   "execution_count": null,
   "id": "51f6c975",
   "metadata": {},
   "outputs": [],
   "source": [
    "taz['pop']=taz['pop']+taz['student_dorms']"
   ]
  },
  {
   "cell_type": "code",
   "execution_count": null,
   "id": "8cd43571",
   "metadata": {},
   "outputs": [],
   "source": [
    "taz['pop_20_just_from_aprt']=taz['pop_20']"
   ]
  },
  {
   "cell_type": "code",
   "execution_count": null,
   "id": "c8425b9b",
   "metadata": {},
   "outputs": [],
   "source": [
    "taz['pop_25_just_from_aprt']=taz['pop_25']"
   ]
  },
  {
   "cell_type": "code",
   "execution_count": null,
   "id": "8aea7898",
   "metadata": {},
   "outputs": [],
   "source": [
    "taz['pop_20']=taz['pop_20']+taz['student_dorms']*0.6"
   ]
  },
  {
   "cell_type": "code",
   "execution_count": null,
   "id": "67609ae7",
   "metadata": {},
   "outputs": [],
   "source": [
    "taz['pop_25']=taz['pop_25']+taz['student_dorms']*0.4"
   ]
  },
  {
   "cell_type": "code",
   "execution_count": null,
   "id": "95bbcee0",
   "metadata": {},
   "outputs": [],
   "source": [
    "col=['pop_0',\n",
    " 'pop_10',\n",
    " 'pop_15',\n",
    " 'pop_20',\n",
    " 'pop_25',\n",
    " 'pop_30',\n",
    " 'pop_35',\n",
    " 'pop_40',\n",
    " 'pop_45',\n",
    " 'pop_5',\n",
    " 'pop_50',\n",
    " 'pop_55',\n",
    " 'pop_60',\n",
    " 'pop_65',\n",
    " 'pop_70',\n",
    " 'pop_75up',]\n",
    "\n",
    "taz['pop_check']=round(taz[col].sum(axis=1)-taz['pop'])\n",
    "\n",
    "taz.loc[taz['main_secto']!=\"Palestinian\"].loc[taz['pop_check']!=0]"
   ]
  },
  {
   "cell_type": "markdown",
   "id": "1863c88f",
   "metadata": {},
   "source": [
    "## הוספת תלמידי ישיבה (באזורים חרדיים) אל כמות אוכלוסיה,התפלגות גילים "
   ]
  },
  {
   "cell_type": "code",
   "execution_count": null,
   "id": "efbf252c",
   "metadata": {},
   "outputs": [],
   "source": [
    "taz['pop_15_just_from_aprt']=taz['pop_15']"
   ]
  },
  {
   "cell_type": "code",
   "execution_count": null,
   "id": "db0567b1",
   "metadata": {},
   "outputs": [],
   "source": [
    "\n",
    "taz.loc[taz['main_secto']==\"U_Orthodox\",'pop']=taz['pop']+taz['yeshiva_dorms_pop_sum']\n",
    "\n",
    "taz.loc[taz['main_secto']==\"U_Orthodox\",'pop_15']=taz['pop_15']+taz['yeshiva_dorms_pop_15']\n",
    "\n",
    "taz.loc[taz['main_secto']==\"U_Orthodox\",'pop_20']=taz['pop_20']+taz['yeshiva_dorms_pop_20']\n",
    "\n",
    "taz.loc[taz['main_secto']==\"U_Orthodox\",'pop_25']=taz['pop_25']+taz['yeshiva_dorms_pop_25']"
   ]
  },
  {
   "cell_type": "code",
   "execution_count": null,
   "id": "d2667d70",
   "metadata": {},
   "outputs": [],
   "source": [
    "col=['pop_0',\n",
    " 'pop_10',\n",
    " 'pop_15',\n",
    " 'pop_20',\n",
    " 'pop_25',\n",
    " 'pop_30',\n",
    " 'pop_35',\n",
    " 'pop_40',\n",
    " 'pop_45',\n",
    " 'pop_5',\n",
    " 'pop_50',\n",
    " 'pop_55',\n",
    " 'pop_60',\n",
    " 'pop_65',\n",
    " 'pop_70',\n",
    " 'pop_75up',]\n",
    "\n",
    "taz['pop_check']=round(taz[col].sum(axis=1)-taz['pop'])\n",
    "\n",
    "taz.loc[taz['main_secto']!=\"Palestinian\"].loc[taz['pop_check']!=0]"
   ]
  },
  {
   "cell_type": "markdown",
   "id": "206b2d14",
   "metadata": {},
   "source": [
    "## כימות מועסקים במרחב צתאל"
   ]
  },
  {
   "cell_type": "code",
   "execution_count": null,
   "id": "2f32e11c",
   "metadata": {},
   "outputs": [],
   "source": [
    "pre_woman=0.5"
   ]
  },
  {
   "cell_type": "code",
   "execution_count": null,
   "id": "4d75461d",
   "metadata": {},
   "outputs": [],
   "source": [
    "pre_man=1-pre_woman"
   ]
  },
  {
   "cell_type": "code",
   "execution_count": null,
   "id": "0cfc5eee",
   "metadata": {},
   "outputs": [],
   "source": [
    "work_age=[ 'pop_25',\n",
    " 'pop_30',\n",
    " 'pop_35',\n",
    " 'pop_40',\n",
    " 'pop_45',\n",
    " 'pop_50',\n",
    " 'pop_55',\n",
    " 'pop_60']"
   ]
  },
  {
   "cell_type": "code",
   "execution_count": null,
   "id": "05e96c7c",
   "metadata": {},
   "outputs": [],
   "source": [
    "under_work_age=[ 'pop_15', 'pop_20']"
   ]
  },
  {
   "cell_type": "code",
   "execution_count": null,
   "id": "6f834426",
   "metadata": {},
   "outputs": [],
   "source": [
    "over_work_age=[ 'pop_65', 'pop_70', 'pop_75up']"
   ]
  },
  {
   "cell_type": "code",
   "execution_count": null,
   "id": "eb487660",
   "metadata": {},
   "outputs": [],
   "source": [
    "taz['work_age']=taz[work_age].sum(axis=1)\n",
    "\n",
    "taz['under_work_age']=taz[under_work_age].sum(axis=1)\n",
    "\n",
    "taz['over_work_age']=taz[over_work_age].sum(axis=1)"
   ]
  },
  {
   "cell_type": "code",
   "execution_count": null,
   "id": "d2d78477",
   "metadata": {},
   "outputs": [],
   "source": [
    "sector='U_Orthodox'\n",
    "\n",
    "taz.loc[taz['main_secto']==sector,'pop_emp']=taz['work_age']*pre_woman*0.75+taz['work_age']*pre_man*0.55\n",
    "taz.loc[taz['main_secto']==sector,'pop_emp']=taz['pop_emp']+taz['under_work_age']*pre_woman*0.07+taz['under_work_age']*pre_man*0.09\n",
    "taz.loc[taz['main_secto']==sector,'pop_emp']=taz['pop_emp']+taz['over_work_age']*pre_woman*0.05+taz['over_work_age']*pre_man*0.09\n",
    "\n",
    "sector='Jewish'\n",
    "\n",
    "taz.loc[taz['main_secto']==sector,'pop_emp']=taz['work_age']*pre_woman*0.9+taz['work_age']*pre_man*0.92\n",
    "taz.loc[taz['main_secto']==sector,'pop_emp']=taz['pop_emp']+taz['under_work_age']*pre_woman*0.20+taz['under_work_age']*pre_man*0.15\n",
    "taz.loc[taz['main_secto']==sector,'pop_emp']=taz['pop_emp']+taz['over_work_age']*pre_woman*0.2+taz['over_work_age']*pre_man*0.15\n",
    "\n",
    "sector='Arab'\n",
    "\n",
    "taz.loc[taz['main_secto']==sector,'pop_emp']=taz['work_age']*pre_woman*0.25+taz['work_age']*pre_man*0.7\n",
    "taz.loc[taz['main_secto']==sector,'pop_emp']=taz['pop_emp']+taz['under_work_age']*pre_woman*0.2+taz['under_work_age']*pre_man*0.15\n",
    "taz.loc[taz['main_secto']==sector,'pop_emp']=taz['pop_emp']+taz['over_work_age']*pre_woman*0.05+taz['over_work_age']*pre_man*0.09\n",
    "\n",
    "sector='arabs_behined_seperation_wall'\n",
    "\n",
    "taz.loc[taz['main_secto']==sector,'pop_emp']=taz['work_age']*pre_woman*0.25+taz['work_age']*pre_man*0.7\n",
    "taz.loc[taz['main_secto']==sector,'pop_emp']=taz['pop_emp']+taz['under_work_age']*pre_woman*0.2+taz['under_work_age']*pre_man*0.15\n",
    "taz.loc[taz['main_secto']==sector,'pop_emp']=taz['pop_emp']+taz['over_work_age']*pre_woman*0.05+taz['over_work_age']*pre_man*0.09\n"
   ]
  },
  {
   "cell_type": "markdown",
   "id": "30a016c8",
   "metadata": {},
   "source": [
    "## חישוב אבטלה"
   ]
  },
  {
   "cell_type": "code",
   "execution_count": null,
   "id": "d415a3fb",
   "metadata": {},
   "outputs": [],
   "source": [
    "taz['pop_emp_employed']=0"
   ]
  },
  {
   "cell_type": "code",
   "execution_count": null,
   "id": "2b419962",
   "metadata": {},
   "outputs": [],
   "source": [
    "taz.loc[taz['main_secto']==\"U_Orthodox\",'pop_emp_employed']=taz['pop_emp']*0.97"
   ]
  },
  {
   "cell_type": "code",
   "execution_count": null,
   "id": "44040e85",
   "metadata": {},
   "outputs": [],
   "source": [
    "taz.loc[taz['main_secto']==\"Jewish\",'pop_emp_employed']=taz['pop_emp']*0.98"
   ]
  },
  {
   "cell_type": "code",
   "execution_count": null,
   "id": "df2839c5",
   "metadata": {},
   "outputs": [],
   "source": [
    "taz.loc[taz['jew']==0,'pop_emp_employed']=taz['pop_emp']*0.95"
   ]
  },
  {
   "cell_type": "markdown",
   "id": "e72fd7be",
   "metadata": {},
   "source": [
    "## חישוב יוממות"
   ]
  },
  {
   "cell_type": "code",
   "execution_count": null,
   "id": "a92b3fa4",
   "metadata": {},
   "outputs": [],
   "source": [
    "commuting=up_load_shp(r'{}\\background_files\\commuting_230712.shp'.format(software_data_folder_location))"
   ]
  },
  {
   "cell_type": "code",
   "execution_count": null,
   "id": "21645b99",
   "metadata": {},
   "outputs": [],
   "source": [
    "taz['commuting']=gpd.sjoin(make_point(taz.reset_index())[['Taz_num','centroid']],commuting[['commuting', 'geometry']]).set_index('Taz_num')['commuting']/100"
   ]
  },
  {
   "cell_type": "code",
   "execution_count": null,
   "id": "5e4c9b3a",
   "metadata": {},
   "outputs": [],
   "source": [
    "taz['pop_emp_employed_out_of_jtmt_area']=taz['pop_emp_employed']*taz['commuting']"
   ]
  },
  {
   "cell_type": "code",
   "execution_count": null,
   "id": "e825e90d",
   "metadata": {},
   "outputs": [],
   "source": [
    "emp_left_jtmt_area=taz['pop_emp_employed_out_of_jtmt_area'].sum().item()"
   ]
  },
  {
   "cell_type": "code",
   "execution_count": null,
   "id": "cefb2329",
   "metadata": {
    "scrolled": false
   },
   "outputs": [],
   "source": [
    "round(emp_left_jtmt_area,-3)"
   ]
  },
  {
   "cell_type": "code",
   "execution_count": null,
   "id": "7f72ccef",
   "metadata": {},
   "outputs": [],
   "source": [
    "emp_from_jtmt_area=taz['pop_emp_employed'].sum().item()-emp_left_jtmt_area"
   ]
  },
  {
   "cell_type": "code",
   "execution_count": null,
   "id": "e24fa16b",
   "metadata": {},
   "outputs": [],
   "source": [
    "emp_in_jtmt_area=emp_from_jtmt_area*1.07 #יוממות פנימה מחוץ למרחב"
   ]
  },
  {
   "cell_type": "code",
   "execution_count": null,
   "id": "f25551a6",
   "metadata": {
    "scrolled": false
   },
   "outputs": [],
   "source": [
    "round(emp_in_jtmt_area,-3)"
   ]
  },
  {
   "cell_type": "code",
   "execution_count": null,
   "id": "7bc62ff1",
   "metadata": {},
   "outputs": [],
   "source": [
    "emp_in_jtmt_area_without_mobile=emp_in_jtmt_area*0.95 #הפחחת עובדים ניידים"
   ]
  },
  {
   "cell_type": "code",
   "execution_count": null,
   "id": "c70b8679",
   "metadata": {
    "scrolled": true
   },
   "outputs": [],
   "source": [
    "round(emp_in_jtmt_area_without_mobile,-3)"
   ]
  },
  {
   "cell_type": "code",
   "execution_count": null,
   "id": "6ef875a9",
   "metadata": {},
   "outputs": [],
   "source": [
    "emp_okev=emp_in_jtmt_area_without_mobile-emp_Education-emp_without_palestin_not_okev"
   ]
  },
  {
   "cell_type": "markdown",
   "id": "83ca98c0",
   "metadata": {},
   "source": [
    "## פיזור עוקב"
   ]
  },
  {
   "cell_type": "code",
   "execution_count": null,
   "id": "0ebeff07",
   "metadata": {},
   "outputs": [],
   "source": [
    "EMP_kibolet['geometry_buff']=EMP_kibolet.buffer(250)"
   ]
  },
  {
   "cell_type": "code",
   "execution_count": null,
   "id": "582a6617",
   "metadata": {},
   "outputs": [],
   "source": [
    "EMP_buffer=EMP_kibolet.set_geometry('geometry_buff').query('kayim_emp>0')"
   ]
  },
  {
   "cell_type": "code",
   "execution_count": null,
   "id": "03971ff0",
   "metadata": {},
   "outputs": [],
   "source": [
    "EMP_buffer=EMP_buffer.dissolve()[['geometry_buff']]"
   ]
  },
  {
   "cell_type": "code",
   "execution_count": null,
   "id": "03388b7e",
   "metadata": {},
   "outputs": [],
   "source": [
    "taz['taz_area']=taz.area"
   ]
  },
  {
   "cell_type": "code",
   "execution_count": null,
   "id": "ff021294",
   "metadata": {},
   "outputs": [],
   "source": [
    "emp_buffer_taz=gpd.overlay(EMP_buffer,taz.reset_index())"
   ]
  },
  {
   "cell_type": "code",
   "execution_count": null,
   "id": "f38427fd",
   "metadata": {},
   "outputs": [],
   "source": [
    "emp_buffer_taz['emp_samll_area']=emp_buffer_taz.area"
   ]
  },
  {
   "cell_type": "code",
   "execution_count": null,
   "id": "3a0eea39",
   "metadata": {},
   "outputs": [],
   "source": [
    "emp_buffer_taz['emp_pre_from_taz']=emp_buffer_taz['emp_samll_area']/emp_buffer_taz['taz_area']"
   ]
  },
  {
   "cell_type": "code",
   "execution_count": null,
   "id": "3c05c92c",
   "metadata": {
    "scrolled": true
   },
   "outputs": [],
   "source": [
    "taz_num_no_need_okev=emp_buffer_taz.loc[emp_buffer_taz['emp_pre_from_taz']>0.4].Taz_num.to_list()"
   ]
  },
  {
   "cell_type": "code",
   "execution_count": null,
   "id": "452348ee",
   "metadata": {},
   "outputs": [],
   "source": [
    "taz['okev']=0\n",
    "taz.loc[(~taz.index.isin(taz_num_no_need_okev))&(taz['pop']>0)&(taz['main_secto']!=\"Palestinia\"),'okev']=1"
   ]
  },
  {
   "cell_type": "code",
   "execution_count": null,
   "id": "3201c278",
   "metadata": {},
   "outputs": [],
   "source": [
    "taz.loc[taz['main_secto']==\"arabs_behined_seperation_wall\",'okev']=1"
   ]
  },
  {
   "cell_type": "code",
   "execution_count": null,
   "id": "3c577b92",
   "metadata": {},
   "outputs": [],
   "source": [
    "city_muni=['מודיעין עילית','בית שמש','ירושלים','מודיעין - מכבים - רעות']"
   ]
  },
  {
   "cell_type": "markdown",
   "id": "d0f04db5",
   "metadata": {},
   "source": [
    "## מקדם עוקב"
   ]
  },
  {
   "cell_type": "code",
   "execution_count": null,
   "id": "ff866567",
   "metadata": {},
   "outputs": [],
   "source": [
    "okev_level=0.15"
   ]
  },
  {
   "cell_type": "code",
   "execution_count": null,
   "id": "e61741ea",
   "metadata": {},
   "outputs": [],
   "source": [
    "arab_city=taz.query('jew==0 & okev==1')['aprt_20'].sum().item()"
   ]
  },
  {
   "cell_type": "code",
   "execution_count": null,
   "id": "d0b3ca02",
   "metadata": {},
   "outputs": [],
   "source": [
    "arab_sub=0"
   ]
  },
  {
   "cell_type": "code",
   "execution_count": null,
   "id": "e39bf93e",
   "metadata": {},
   "outputs": [],
   "source": [
    "ou_sub=taz.query('main_secto==\"U_Orthodox\" & ~Muni_Heb.isin(@city_muni) & okev==1')['aprt_20'].sum().item()"
   ]
  },
  {
   "cell_type": "code",
   "execution_count": null,
   "id": "64eb71e1",
   "metadata": {},
   "outputs": [],
   "source": [
    "ou_city=taz.query('main_secto==\"U_Orthodox\" & Muni_Heb.isin(@city_muni) & okev==1')['aprt_20'].sum().item()"
   ]
  },
  {
   "cell_type": "code",
   "execution_count": null,
   "id": "bffba35b",
   "metadata": {},
   "outputs": [],
   "source": [
    "general_city=taz.query('main_secto==\"Jewish\" & Muni_Heb.isin(@city_muni) & okev==1')['aprt_20'].sum().item()"
   ]
  },
  {
   "cell_type": "code",
   "execution_count": null,
   "id": "9ec329b2",
   "metadata": {},
   "outputs": [],
   "source": [
    "general_sub=taz.query('main_secto==\"Jewish\" & ~Muni_Heb.isin(@city_muni) & okev==1')['aprt_20'].sum().item()"
   ]
  },
  {
   "cell_type": "code",
   "execution_count": null,
   "id": "52ec1ec4",
   "metadata": {
    "scrolled": true
   },
   "outputs": [],
   "source": [
    "base_okev_factor=(emp_okev-(okev_level*general_city-okev_level*(ou_sub+arab_city)-2*okev_level*arab_sub))/(general_sub+general_city+ou_city+ou_sub+arab_city+arab_sub)"
   ]
  },
  {
   "cell_type": "code",
   "execution_count": null,
   "id": "689012fb",
   "metadata": {},
   "outputs": [],
   "source": [
    "base_okev_factor=round(base_okev_factor,3)"
   ]
  },
  {
   "cell_type": "code",
   "execution_count": null,
   "id": "9a28cde3",
   "metadata": {},
   "outputs": [],
   "source": [
    "data = [['Jewish', base_okev_factor,base_okev_factor+okev_level],['arab', base_okev_factor-okev_level,base_okev_factor], ['U_Orthodox',base_okev_factor-2*okev_level,base_okev_factor-okev_level]]\n",
    " \n",
    "# Create the pandas DataFrame\n",
    "df = pd.DataFrame(data, columns=['sector', 'sub','city'])\n",
    "okev_factor=df.set_index('sector')\n",
    "okev_factor.to_excel(r'{}\\Intermediates\\okev_factor.xlsx'.format(software_data_folder_location))"
   ]
  },
  {
   "cell_type": "code",
   "execution_count": null,
   "id": "f5bc6a17",
   "metadata": {},
   "outputs": [],
   "source": [
    "taz['emp_okev']=0"
   ]
  },
  {
   "cell_type": "code",
   "execution_count": null,
   "id": "5721b2ed",
   "metadata": {},
   "outputs": [],
   "source": [
    "taz.loc[(taz['jew']==0)&(taz['okev']==1),'emp_okev']=taz['aprt_20']*okev_factor.loc['arab','city']"
   ]
  },
  {
   "cell_type": "code",
   "execution_count": null,
   "id": "e3c0b430",
   "metadata": {},
   "outputs": [],
   "source": [
    "taz.loc[(taz['main_secto']==\"U_Orthodox\")&(~taz['Muni_Heb'].isin(city_muni))&(taz['okev']==1),'emp_okev']=taz['aprt_20']*okev_factor.loc['U_Orthodox','sub']"
   ]
  },
  {
   "cell_type": "code",
   "execution_count": null,
   "id": "a7a50494",
   "metadata": {},
   "outputs": [],
   "source": [
    "taz.loc[(taz['main_secto']==\"U_Orthodox\")&(taz['Muni_Heb'].isin(city_muni))&(taz['okev']==1),'emp_okev']=taz['aprt_20']*okev_factor.loc['U_Orthodox','city']"
   ]
  },
  {
   "cell_type": "code",
   "execution_count": null,
   "id": "0bfbaee2",
   "metadata": {},
   "outputs": [],
   "source": [
    "taz.loc[(taz['main_secto']==\"Jewish\")&(taz['Muni_Heb'].isin(city_muni))&(taz['okev']==1),'emp_okev']=taz['aprt_20']*okev_factor.loc['Jewish','city']"
   ]
  },
  {
   "cell_type": "code",
   "execution_count": null,
   "id": "8b57bf6d",
   "metadata": {},
   "outputs": [],
   "source": [
    "taz.loc[(taz['main_secto']==\"Jewish\")&(~taz['Muni_Heb'].isin(city_muni))&(taz['okev']==1),'emp_okev']=taz['aprt_20']*okev_factor.loc['Jewish','sub']"
   ]
  },
  {
   "cell_type": "code",
   "execution_count": null,
   "id": "4a7a73bd",
   "metadata": {
    "scrolled": true
   },
   "outputs": [],
   "source": [
    "taz.emp_okev.sum().item()-emp_okev"
   ]
  },
  {
   "cell_type": "markdown",
   "id": "d8615aa7",
   "metadata": {},
   "source": [
    "## פיצול שכבת לא עוקב לאזורי תנועה"
   ]
  },
  {
   "cell_type": "code",
   "execution_count": null,
   "id": "d0a412e7",
   "metadata": {},
   "outputs": [],
   "source": [
    "EMP_kibolet['emp_area']=EMP_kibolet.area"
   ]
  },
  {
   "cell_type": "code",
   "execution_count": null,
   "id": "f3f9211d",
   "metadata": {},
   "outputs": [],
   "source": [
    "EMP_kibolet['ID']=EMP_kibolet.index"
   ]
  },
  {
   "cell_type": "code",
   "execution_count": null,
   "id": "0421b10a",
   "metadata": {
    "scrolled": false
   },
   "outputs": [],
   "source": [
    "EMP_kibolet_by_taz=gpd.overlay(taz.reset_index()[['Taz_num','taz_area','geometry']],EMP_kibolet)"
   ]
  },
  {
   "cell_type": "code",
   "execution_count": null,
   "id": "7695a9a3",
   "metadata": {},
   "outputs": [],
   "source": [
    "EMP_kibolet_by_taz['small_area']=EMP_kibolet_by_taz.area"
   ]
  },
  {
   "cell_type": "code",
   "execution_count": null,
   "id": "a40c4d94",
   "metadata": {},
   "outputs": [],
   "source": [
    "EMP_kibolet_by_taz['pre_small_area_emp']=EMP_kibolet_by_taz['small_area']/EMP_kibolet_by_taz['emp_area']"
   ]
  },
  {
   "cell_type": "code",
   "execution_count": null,
   "id": "aa3c6749",
   "metadata": {},
   "outputs": [],
   "source": [
    "EMP_kibolet_by_taz['pre_small_area_taz']=EMP_kibolet_by_taz['small_area']/EMP_kibolet_by_taz['taz_area']"
   ]
  },
  {
   "cell_type": "code",
   "execution_count": null,
   "id": "a9d0716a",
   "metadata": {},
   "outputs": [],
   "source": [
    "EMP_kibolet_by_taz=EMP_kibolet_by_taz.query('(pre_small_area_taz >0.7) | (pre_small_area_emp >0.1)').drop(columns='geometry_buff')"
   ]
  },
  {
   "cell_type": "code",
   "execution_count": null,
   "id": "15911049",
   "metadata": {},
   "outputs": [],
   "source": [
    "EMP_kibolet_by_taz=EMP_kibolet_by_taz.set_index('ID')"
   ]
  },
  {
   "cell_type": "code",
   "execution_count": null,
   "id": "5d4b9325",
   "metadata": {},
   "outputs": [],
   "source": [
    "EMP_kibolet_by_taz['id_area_for_pre']=EMP_kibolet_by_taz.reset_index().groupby(by='ID')['small_area'].sum()"
   ]
  },
  {
   "cell_type": "code",
   "execution_count": null,
   "id": "c841da29",
   "metadata": {},
   "outputs": [],
   "source": [
    "EMP_kibolet_by_taz[['id_area_for_pre']]"
   ]
  },
  {
   "cell_type": "code",
   "execution_count": null,
   "id": "f00fbbc8",
   "metadata": {},
   "outputs": [],
   "source": [
    "EMP_kibolet_by_taz['prec_from_id']=EMP_kibolet_by_taz['small_area']/EMP_kibolet_by_taz['id_area_for_pre']"
   ]
  },
  {
   "cell_type": "code",
   "execution_count": null,
   "id": "a618ac44",
   "metadata": {},
   "outputs": [],
   "source": [
    "EMP_kibolet_by_taz['emp_without_palestin_in_taz']=EMP_kibolet_by_taz['emp_without_palestin']*EMP_kibolet_by_taz['prec_from_id']"
   ]
  },
  {
   "cell_type": "code",
   "execution_count": null,
   "id": "d948fcc5",
   "metadata": {},
   "outputs": [],
   "source": [
    "taz['emp_not_okev']=drop_geo(EMP_kibolet_by_taz).pivot_table(index='Taz_num',aggfunc=sum)[['emp_without_palestin_in_taz']]"
   ]
  },
  {
   "cell_type": "code",
   "execution_count": null,
   "id": "9968f2f3",
   "metadata": {},
   "outputs": [],
   "source": [
    "taz=taz.fillna(0)"
   ]
  },
  {
   "cell_type": "code",
   "execution_count": null,
   "id": "5adc958a",
   "metadata": {},
   "outputs": [],
   "source": [
    "taz['total_emp']=taz['emp_not_okev']+taz['emp_okev']+taz['emp_Education']"
   ]
  },
  {
   "cell_type": "code",
   "execution_count": null,
   "id": "8c725e21",
   "metadata": {
    "scrolled": false
   },
   "outputs": [],
   "source": [
    "taz.query('main_secto!=\"Palestinian\"')['total_emp'].sum()-emp_in_jtmt_area_without_mobile"
   ]
  },
  {
   "cell_type": "markdown",
   "id": "250d570c",
   "metadata": {},
   "source": [
    "## תוצאות"
   ]
  },
  {
   "cell_type": "code",
   "execution_count": null,
   "id": "ce728f1a",
   "metadata": {},
   "outputs": [],
   "source": [
    "taz.groupby(by='zonetype')[['total_emp']].sum()#.loc[['Jerusalem','Judea and Samaria']]"
   ]
  },
  {
   "cell_type": "code",
   "execution_count": null,
   "id": "051dd7df",
   "metadata": {
    "scrolled": true
   },
   "outputs": [],
   "source": [
    "taz.groupby(by='Muni_Heb')[['total_emp']].sum().loc[['ירושלים','בית שמש','ביתר עילית','מודיעין - מכבים - רעות','מעלה אדומים','מודיעין עילית']]"
   ]
  },
  {
   "cell_type": "code",
   "execution_count": null,
   "id": "6dce3b2f",
   "metadata": {
    "scrolled": false
   },
   "outputs": [],
   "source": [
    "taz.groupby(by=['Muni_Heb','main_secto'])[['total_emp']].sum().loc[['ירושלים']]"
   ]
  },
  {
   "cell_type": "markdown",
   "id": "a9e9a3c5",
   "metadata": {},
   "source": [
    "## התפלגות ענפי תעסוקה"
   ]
  },
  {
   "cell_type": "code",
   "execution_count": null,
   "id": "0aee928f",
   "metadata": {},
   "outputs": [],
   "source": [
    "emp_category_type=up_load_shp(r'{}\\background_files\\emp_category_type.shp'.format(software_data_folder_location)).fillna(0)"
   ]
  },
  {
   "cell_type": "code",
   "execution_count": null,
   "id": "157ae567",
   "metadata": {},
   "outputs": [],
   "source": [
    "col=['agri', 'Indus', 'Com_hotel', 'Business', 'Public']"
   ]
  },
  {
   "cell_type": "code",
   "execution_count": null,
   "id": "6c482c26",
   "metadata": {},
   "outputs": [],
   "source": [
    "emp_category_type[col]=emp_category_type[col]/100"
   ]
  },
  {
   "cell_type": "code",
   "execution_count": null,
   "id": "98f3a0cf",
   "metadata": {},
   "outputs": [],
   "source": [
    "emp_category_type=gpd.sjoin(make_point(taz.reset_index())[['Taz_num','centroid']],emp_category_type).set_index('Taz_num')"
   ]
  },
  {
   "cell_type": "code",
   "execution_count": null,
   "id": "43974707",
   "metadata": {},
   "outputs": [],
   "source": [
    "col=['agri', 'Indus', 'Com_hotel', 'Business', 'Public']"
   ]
  },
  {
   "cell_type": "code",
   "execution_count": null,
   "id": "d65ed8fc",
   "metadata": {},
   "outputs": [],
   "source": [
    "taz.join(emp_category_type[col]).query('(emp_not_okev>0 | emp_okev>0 )& agri.isna() & main_secto!=\"Palestinian\" ')"
   ]
  },
  {
   "cell_type": "code",
   "execution_count": null,
   "id": "6111c7f3",
   "metadata": {},
   "outputs": [],
   "source": [
    "taz=taz.join(emp_category_type[col]).fillna(0)"
   ]
  },
  {
   "cell_type": "code",
   "execution_count": null,
   "id": "538879ce",
   "metadata": {},
   "outputs": [],
   "source": [
    "for i in col:\n",
    "    taz['{}'.format(i)]=taz['{}'.format(i)]*(taz['emp_not_okev']+taz['emp_okev'])"
   ]
  },
  {
   "cell_type": "code",
   "execution_count": null,
   "id": "73d7cde4",
   "metadata": {},
   "outputs": [],
   "source": [
    "taz['check_emp_sum']=taz[col].sum(axis=1)-(taz['emp_not_okev']+taz['emp_okev'])"
   ]
  },
  {
   "cell_type": "code",
   "execution_count": null,
   "id": "827ec351",
   "metadata": {
    "scrolled": false
   },
   "outputs": [],
   "source": [
    "taz.query('check_emp_sum>10 |check_emp_sum<-10')"
   ]
  },
  {
   "cell_type": "markdown",
   "id": "95e0cc68",
   "metadata": {},
   "source": [
    "## הוספת סטודנטים אל כמות משקי בית"
   ]
  },
  {
   "cell_type": "code",
   "execution_count": null,
   "id": "8e6b7713",
   "metadata": {},
   "outputs": [],
   "source": [
    "taz=taz.fillna(0)"
   ]
  },
  {
   "cell_type": "code",
   "execution_count": null,
   "id": "dfa33d6c",
   "metadata": {},
   "outputs": [],
   "source": [
    "taz['hh']=taz['aprt_20']+taz['student_dorms']/1.5"
   ]
  },
  {
   "cell_type": "markdown",
   "id": "15cc71d7",
   "metadata": {},
   "source": [
    "## הוספת תלמידי ישיבה (באזורים לא חרדיים) אל כמות אוכלוסיה,התפלגות גילים ומשקי בית (לכלל תלמידי הישיבה)"
   ]
  },
  {
   "cell_type": "code",
   "execution_count": null,
   "id": "42714de0",
   "metadata": {},
   "outputs": [],
   "source": [
    "taz['hh']=taz['hh']+taz['yeshiva_dorms_pop_sum']"
   ]
  },
  {
   "cell_type": "code",
   "execution_count": null,
   "id": "b5a1f454",
   "metadata": {},
   "outputs": [],
   "source": [
    "taz.loc[taz['main_secto']!=\"U_Orthodox\",'pop']=taz['pop']+taz['yeshiva_dorms_pop_sum']\n",
    "\n",
    "taz.loc[taz['main_secto']!=\"U_Orthodox\",'pop_15']=taz['pop_15']+taz['yeshiva_dorms_pop_15']\n",
    "\n",
    "taz.loc[taz['main_secto']!=\"U_Orthodox\",'pop_20']=taz['pop_20']+taz['yeshiva_dorms_pop_20']\n",
    "\n",
    "taz.loc[taz['main_secto']!=\"U_Orthodox\",'pop_25']=taz['pop_25']+taz['yeshiva_dorms_pop_25']"
   ]
  },
  {
   "cell_type": "markdown",
   "id": "26046a0a",
   "metadata": {},
   "source": [
    "## הוספת אוכלוסיה פלסטינאית"
   ]
  },
  {
   "cell_type": "code",
   "execution_count": null,
   "id": "ab51a53c",
   "metadata": {},
   "outputs": [],
   "source": [
    "path=r'{}\\background_files'.format(software_data_folder_location)\n",
    "taz_demo_pls_2020=up_load_df(path,'taz_demo_pls_2020_and_pre_growth_till_2050')[['Taz_num','pop_2020']].set_index('Taz_num')"
   ]
  },
  {
   "cell_type": "code",
   "execution_count": null,
   "id": "3bc9a869",
   "metadata": {},
   "outputs": [],
   "source": [
    "col=['pop',\n",
    "'pop_0',\n",
    "'pop_10',\n",
    "'pop_15',\n",
    "'pop_20',\n",
    "'pop_25',\n",
    "'pop_30',\n",
    "'pop_35',\n",
    "'pop_40',\n",
    "'pop_45',\n",
    "'pop_5',\n",
    "'pop_50',\n",
    "'pop_55',\n",
    "'pop_60',\n",
    "'pop_65',\n",
    "'pop_70',\n",
    "'pop_75up',\n",
    "'student',\n",
    "'uni_students',\n",
    "'student_yeshiva_and_kollim',\n",
    "'emp_Education',\n",
    "'pop_emp_employed',\n",
    "'total_emp',\n",
    "'agri',\n",
    "'Indus',\n",
    "'Com_hotel',\n",
    "'Business',\n",
    "'Public',\n",
    "'hh']"
   ]
  },
  {
   "cell_type": "code",
   "execution_count": null,
   "id": "f01d47c3",
   "metadata": {},
   "outputs": [],
   "source": [
    "taz.loc[taz['main_secto']=='Palestinian',col]=0"
   ]
  },
  {
   "cell_type": "code",
   "execution_count": null,
   "id": "2b3bf466",
   "metadata": {},
   "outputs": [],
   "source": [
    "taz.loc[taz['main_secto']=='Palestinian','pop']=taz['pop']+taz_demo_pls_2020['pop_2020']"
   ]
  },
  {
   "cell_type": "markdown",
   "id": "34c1d5c0",
   "metadata": {},
   "source": [
    "## ייצוא לבקרה"
   ]
  },
  {
   "cell_type": "code",
   "execution_count": null,
   "id": "2463d2bf",
   "metadata": {},
   "outputs": [],
   "source": [
    "taz=taz.reset_index()"
   ]
  },
  {
   "cell_type": "code",
   "execution_count": null,
   "id": "bbc55652",
   "metadata": {},
   "outputs": [],
   "source": [
    "pre_yeshiva_from_20_30_age=taz[['student_yeshiva_with_add_from_old']].sum().sum()/taz.query('jew==1')[['pop_20_just_from_aprt','pop_25_just_from_aprt']].sum().sum()"
   ]
  },
  {
   "cell_type": "code",
   "execution_count": null,
   "id": "7ccb828c",
   "metadata": {
    "scrolled": false
   },
   "outputs": [],
   "source": [
    "pre_yeshiva_from_20_30_age"
   ]
  },
  {
   "cell_type": "code",
   "execution_count": null,
   "id": "eb1227c1",
   "metadata": {},
   "outputs": [],
   "source": [
    "taz.main_secto.unique()"
   ]
  },
  {
   "cell_type": "code",
   "execution_count": null,
   "id": "f003a657",
   "metadata": {},
   "outputs": [],
   "source": [
    "pre_uni_from_20_30_age=taz[['uni_students']].sum().sum()/taz.query('main_secto!=\"Palestinian\"')[['pop_20_just_from_aprt','pop_25_just_from_aprt']].sum().sum()"
   ]
  },
  {
   "cell_type": "code",
   "execution_count": null,
   "id": "e40c4ac5",
   "metadata": {
    "scrolled": false
   },
   "outputs": [],
   "source": [
    "pre_uni_from_20_30_age"
   ]
  },
  {
   "cell_type": "code",
   "execution_count": null,
   "id": "53e4429d",
   "metadata": {
    "scrolled": true
   },
   "outputs": [],
   "source": [
    "list(taz)"
   ]
  },
  {
   "cell_type": "code",
   "execution_count": null,
   "id": "83c03ab6",
   "metadata": {},
   "outputs": [],
   "source": [
    "col=['Taz_num','Agg_taz_nu','Taz_name','Muni_Heb','jeru_metro',\n",
    " 'zonetype',\n",
    " 'in_jerusal','main_secto','aprt_20','student_dorms','student_yeshiva_with_add_from_old','hh','pop_without_dorms_yeshiva',\n",
    " 'pop', 'hh_size','pop_emp_employed',\n",
    " 'commuting','student_toddlers',\n",
    " 'student_gov','cbs_muni_student_left_by_pre_of_demand_left','cbs_muni_student_left_by_pre_of_demand','student_chardi_not_gov',\n",
    " 'student_arab_not_gov','student','uni_students',\n",
    " 'student_yeshiva','yeshiva_dorms_pop_15',\n",
    " 'yeshiva_dorms_pop_20',\n",
    " 'yeshiva_dorms_pop_25',\n",
    " 'yeshiva_dorms_pop_sum',\n",
    " 'add_from_old_student_yeshiva',\n",
    " 'add_from_kollim_demand', 'emp_from_uni_student','emp_from_Yeshiva_student','emp_from_student',\n",
    " 'emp_Education','okev',\n",
    " 'emp_okev',\n",
    " 'emp_not_okev','total_emp',\n",
    " 'agri',\n",
    " 'Indus',\n",
    " 'Com_hotel',\n",
    " 'Business',\n",
    " 'Public']"
   ]
  },
  {
   "cell_type": "code",
   "execution_count": null,
   "id": "e2bd9936",
   "metadata": {},
   "outputs": [],
   "source": [
    "file_date=pd.Timestamp.today().strftime('%y%m%d')"
   ]
  },
  {
   "cell_type": "code",
   "execution_count": null,
   "id": "3b0573bb",
   "metadata": {
    "scrolled": true
   },
   "outputs": [],
   "source": [
    "taz[col].to_excel(r'{}\\2020_jtmt_forcast_full_{}.xlsx'.format(forecast_version_folder_location,file_date),index=False)"
   ]
  },
  {
   "cell_type": "markdown",
   "id": "166ba3e5",
   "metadata": {},
   "source": [
    "## ייצוא בפורמט של מודלים"
   ]
  },
  {
   "cell_type": "code",
   "execution_count": null,
   "id": "17ee6f94",
   "metadata": {},
   "outputs": [],
   "source": [
    "taz['yosh']=0"
   ]
  },
  {
   "cell_type": "code",
   "execution_count": null,
   "id": "d25bb3b1",
   "metadata": {},
   "outputs": [],
   "source": [
    "taz.loc[taz['zonetype']=='Judea and Samaria','yosh']=1"
   ]
  },
  {
   "cell_type": "code",
   "execution_count": null,
   "id": "90fc0ebe",
   "metadata": {},
   "outputs": [],
   "source": [
    "taz['jerusalem_city']=0"
   ]
  },
  {
   "cell_type": "code",
   "execution_count": null,
   "id": "9e3f95b7",
   "metadata": {},
   "outputs": [],
   "source": [
    "taz.loc[taz['in_jerusal']=='yes','jerusalem_city']=1"
   ]
  },
  {
   "cell_type": "code",
   "execution_count": null,
   "id": "daec6b41",
   "metadata": {},
   "outputs": [],
   "source": [
    "taz=taz.reset_index()"
   ]
  },
  {
   "cell_type": "code",
   "execution_count": null,
   "id": "c104fe43",
   "metadata": {},
   "outputs": [],
   "source": [
    "col=['Taz_num',\n",
    "'yosh',\n",
    "'jeru_metro',\n",
    "'jerusalem_city',\n",
    "'main_secto',\n",
    "'hh',\n",
    "'pop',\n",
    "'pop_0',\n",
    "'pop_5',\n",
    "'pop_10',\n",
    "'pop_15',\n",
    "'pop_20',\n",
    "'pop_25',\n",
    "'pop_30',\n",
    "'pop_35',\n",
    "'pop_40',\n",
    "'pop_45',\n",
    "'pop_50',\n",
    "'pop_55',\n",
    "'pop_60',\n",
    "'pop_65',\n",
    "'pop_70',\n",
    "'pop_75up',\n",
    "'total_emp',\n",
    "'Indus',\n",
    "'Com_hotel',\n",
    "'Business',\n",
    "'Public',\n",
    "'emp_Education',\n",
    "'agri',\n",
    "'student',\n",
    "'uni_students',\n",
    "'student_yeshiva_and_kollim',\n",
    "'pop_emp_employed']"
   ]
  },
  {
   "cell_type": "code",
   "execution_count": null,
   "id": "41cec04f",
   "metadata": {},
   "outputs": [],
   "source": [
    "col_new_name=['TAZ',\n",
    "'yosh',\n",
    "'in_jerusalem_metropolin',\n",
    "'jerusalem_city',\n",
    "'sector',\n",
    "'hh_total',\n",
    "'pop',\n",
    "'age0_4',\n",
    "'age5_9',\n",
    "'age10_14',\n",
    "'age15_19',\n",
    "'age20_24',\n",
    "'age25_29',\n",
    "'age30_34',\n",
    "'age35_39',\n",
    "'age40_44',\n",
    "'age45_49',\n",
    "'age50_54',\n",
    "'age55_59',\n",
    "'age60_64',\n",
    "'age65_69',\n",
    "'age70_74',\n",
    "'age75up',\n",
    "'emp_tot',\n",
    "'indus',\n",
    "'com_hotel',\n",
    "'business',\n",
    "'public',\n",
    "'education',\n",
    "'agri',\n",
    "'student',\n",
    "'univ',\n",
    "'UO_Hi_Ed',\n",
    "'pop_emp_employed']"
   ]
  },
  {
   "cell_type": "code",
   "execution_count": null,
   "id": "d2bd1f1a",
   "metadata": {},
   "outputs": [],
   "source": [
    "taz=taz[col]"
   ]
  },
  {
   "cell_type": "code",
   "execution_count": null,
   "id": "141c3d0f",
   "metadata": {},
   "outputs": [],
   "source": [
    "taz.columns=col_new_name"
   ]
  },
  {
   "cell_type": "code",
   "execution_count": null,
   "id": "21d0a080",
   "metadata": {},
   "outputs": [],
   "source": [
    "taz.to_excel(r'{}\\forecast_2020_{}.xlsx'.format(forecast_version_folder_location,file_date),index=False)"
   ]
  },
  {
   "cell_type": "markdown",
   "id": "219c80d4",
   "metadata": {},
   "source": [
    "## בקרות לוגיות"
   ]
  },
  {
   "cell_type": "code",
   "execution_count": null,
   "id": "2c03dc03",
   "metadata": {
    "scrolled": true
   },
   "outputs": [],
   "source": [
    "taz.loc[taz['TAZ']<=0]"
   ]
  },
  {
   "cell_type": "code",
   "execution_count": null,
   "id": "8a0fac2d",
   "metadata": {},
   "outputs": [],
   "source": [
    "taz.yosh.unique()"
   ]
  },
  {
   "cell_type": "code",
   "execution_count": null,
   "id": "18983b7a",
   "metadata": {},
   "outputs": [],
   "source": [
    "taz.in_jerusalem_metropolin.unique()"
   ]
  },
  {
   "cell_type": "code",
   "execution_count": null,
   "id": "bdea01e1",
   "metadata": {},
   "outputs": [],
   "source": [
    "taz.jerusalem_city.unique()"
   ]
  },
  {
   "cell_type": "code",
   "execution_count": null,
   "id": "dce32672",
   "metadata": {},
   "outputs": [],
   "source": [
    "taz.sector.unique()"
   ]
  },
  {
   "cell_type": "code",
   "execution_count": null,
   "id": "96a36660",
   "metadata": {},
   "outputs": [],
   "source": [
    "col=['hh_total',\n",
    "'pop',\n",
    "'age0_4',\n",
    "'age5_9',\n",
    "'age10_14',\n",
    "'age15_19',\n",
    "'age20_24',\n",
    "'age25_29',\n",
    "'age30_34',\n",
    "'age35_39',\n",
    "'age40_44',\n",
    "'age45_49',\n",
    "'age50_54',\n",
    "'age55_59',\n",
    "'age60_64',\n",
    "'age65_69',\n",
    "'age70_74',\n",
    "'age75up',\n",
    "'emp_tot',\n",
    "'indus',\n",
    "'com_hotel',\n",
    "'business',\n",
    "'public',\n",
    "'education',\n",
    "'agri',\n",
    "'student',\n",
    "'univ',\n",
    "'UO_Hi_Ed',\n",
    "'pop_emp_employed']"
   ]
  },
  {
   "cell_type": "code",
   "execution_count": null,
   "id": "eb46ecea",
   "metadata": {
    "scrolled": true
   },
   "outputs": [],
   "source": [
    "taz_to_check=[]\n",
    "for i in col:\n",
    "    taz_to_check=taz_to_check+list(taz.loc[taz['{}'.format(i)]<0]['TAZ'])"
   ]
  },
  {
   "cell_type": "code",
   "execution_count": null,
   "id": "971c496d",
   "metadata": {
    "scrolled": true
   },
   "outputs": [],
   "source": [
    "taz_to_check"
   ]
  },
  {
   "cell_type": "code",
   "execution_count": null,
   "id": "2dd9793f",
   "metadata": {
    "scrolled": false
   },
   "outputs": [],
   "source": [
    "taz.loc[~(taz['hh_total']<=taz['pop'])]"
   ]
  },
  {
   "cell_type": "code",
   "execution_count": null,
   "id": "6478d5a4",
   "metadata": {
    "scrolled": true
   },
   "outputs": [],
   "source": [
    "taz.loc[taz['sector']!=\"Palestinian\"].loc[taz['hh_total']>0].loc[taz['pop']<=0]"
   ]
  },
  {
   "cell_type": "code",
   "execution_count": null,
   "id": "43c734e1",
   "metadata": {},
   "outputs": [],
   "source": [
    "col=['age0_4',\n",
    "'age5_9',\n",
    "'age10_14',\n",
    "'age15_19',\n",
    "'age20_24',\n",
    "'age25_29',\n",
    "'age30_34',\n",
    "'age35_39',\n",
    "'age40_44',\n",
    "'age45_49',\n",
    "'age50_54',\n",
    "'age55_59',\n",
    "'age60_64',\n",
    "'age65_69',\n",
    "'age70_74',\n",
    "'age75up',]\n",
    "\n",
    "taz['pop_check']=round(taz[col].sum(axis=1)-taz['pop'])"
   ]
  },
  {
   "cell_type": "code",
   "execution_count": null,
   "id": "e9d56913",
   "metadata": {
    "scrolled": true
   },
   "outputs": [],
   "source": [
    "taz.loc[taz['sector']!=\"Palestinian\"].loc[taz['pop_check']!=0].query('TAZ==511')#.to_excel('delet.xlsx')#[col].sum(axis=1)"
   ]
  },
  {
   "cell_type": "code",
   "execution_count": null,
   "id": "20bbf335",
   "metadata": {
    "scrolled": true
   },
   "outputs": [],
   "source": [
    "len(taz.loc[taz['sector']!=\"Palestinian\"].loc[taz['pop_check']!=0])"
   ]
  },
  {
   "cell_type": "code",
   "execution_count": null,
   "id": "59887389",
   "metadata": {
    "scrolled": true
   },
   "outputs": [],
   "source": [
    "taz.loc[taz['sector']!=\"Palestinian\"].loc[taz['pop']>0].loc[taz['hh_total']<=0]"
   ]
  },
  {
   "cell_type": "code",
   "execution_count": null,
   "id": "2363e35a",
   "metadata": {},
   "outputs": [],
   "source": [
    "col=[\n",
    "'age0_4',\n",
    "'age5_9',\n",
    "'age10_14',\n",
    "'age15_19',\n",
    "'age20_24',\n",
    "'age25_29',\n",
    "'age30_34',\n",
    "'age35_39',\n",
    "'age40_44',\n",
    "'age45_49',\n",
    "'age50_54',\n",
    "'age55_59',\n",
    "'age60_64',\n",
    "'age65_69',\n",
    "'age70_74',\n",
    "'age75up']"
   ]
  },
  {
   "cell_type": "code",
   "execution_count": null,
   "id": "db72a666",
   "metadata": {
    "scrolled": true
   },
   "outputs": [],
   "source": [
    "taz_to_check=[]\n",
    "for i in col:\n",
    "    taz_to_check=taz_to_check+list(taz.loc[taz['{}'.format(i)]>0].loc[taz['pop']<=0]['TAZ'])\n",
    "    taz_to_check=taz_to_check+list(taz.loc[taz['{}'.format(i)]>0].loc[taz['hh_total']<=0]['TAZ'])"
   ]
  },
  {
   "cell_type": "code",
   "execution_count": null,
   "id": "35e2ce5b",
   "metadata": {
    "scrolled": true
   },
   "outputs": [],
   "source": [
    "taz_to_check"
   ]
  },
  {
   "cell_type": "code",
   "execution_count": null,
   "id": "942205c6",
   "metadata": {},
   "outputs": [],
   "source": [
    "col=['indus',\n",
    "'com_hotel',\n",
    "'business',\n",
    "'public',\n",
    "'education',\n",
    "'agri']"
   ]
  },
  {
   "cell_type": "code",
   "execution_count": null,
   "id": "0feb931d",
   "metadata": {},
   "outputs": [],
   "source": [
    "taz['emp_check']=round(taz[col].sum(axis=1)-taz['emp_tot'])"
   ]
  },
  {
   "cell_type": "code",
   "execution_count": null,
   "id": "b833bf57",
   "metadata": {
    "scrolled": true
   },
   "outputs": [],
   "source": [
    "taz.loc[taz['sector']!=\"Palestinian\"].loc[taz['emp_check']!=0]"
   ]
  },
  {
   "cell_type": "code",
   "execution_count": null,
   "id": "7e37c96a",
   "metadata": {
    "scrolled": true
   },
   "outputs": [],
   "source": [
    "taz_to_check=[]\n",
    "for i in col:\n",
    "    taz_to_check=taz_to_check+list(taz.loc[taz['{}'.format(i)]>0].loc[taz['emp_tot']<=0]['TAZ'])"
   ]
  },
  {
   "cell_type": "code",
   "execution_count": null,
   "id": "81e09b2e",
   "metadata": {
    "scrolled": true
   },
   "outputs": [],
   "source": [
    "taz_to_check"
   ]
  },
  {
   "cell_type": "code",
   "execution_count": null,
   "id": "e4a46880",
   "metadata": {
    "scrolled": false
   },
   "outputs": [],
   "source": [
    "taz.loc[taz['sector']!=\"Palestinian\"].loc[taz['pop_emp_employed']>0].loc[taz['pop']<=0]"
   ]
  }
 ],
 "metadata": {
  "kernelspec": {
   "display_name": "Python 3 (ipykernel)",
   "language": "python",
   "name": "python3"
  },
  "language_info": {
   "codemirror_mode": {
    "name": "ipython",
    "version": 3
   },
   "file_extension": ".py",
   "mimetype": "text/x-python",
   "name": "python",
   "nbconvert_exporter": "python",
   "pygments_lexer": "ipython3",
   "version": "3.11.5"
  },
  "toc": {
   "base_numbering": 1,
   "nav_menu": {},
   "number_sections": true,
   "sideBar": true,
   "skip_h1_title": false,
   "title_cell": "Table of Contents",
   "title_sidebar": "Contents",
   "toc_cell": false,
   "toc_position": {
    "height": "calc(100% - 180px)",
    "left": "10px",
    "top": "150px",
    "width": "347.297px"
   },
   "toc_section_display": true,
   "toc_window_display": true
  }
 },
 "nbformat": 4,
 "nbformat_minor": 5
}
