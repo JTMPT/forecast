{
 "cells": [
  {
   "cell_type": "markdown",
   "id": "65e4c2ef",
   "metadata": {},
   "source": [
    "### ספריות"
   ]
  },
  {
   "cell_type": "code",
   "execution_count": 1,
   "id": "a43ce0cf",
   "metadata": {},
   "outputs": [],
   "source": [
    "import os\n",
    "import sys\n",
    "import pandas as pd\n",
    "import geopandas as gpd\n",
    "import fiona\n",
    "from shapely.geometry import Point"
   ]
  },
  {
   "cell_type": "code",
   "execution_count": 2,
   "id": "e351ed54",
   "metadata": {},
   "outputs": [],
   "source": [
    "pd.set_option('display.max_rows', None)\n",
    "pd.set_option('display.max_columns', None)\n",
    "pd.set_option('display.float_format', lambda x: '%.3f' % x)\n"
   ]
  },
  {
   "cell_type": "markdown",
   "id": "aa9d11a2",
   "metadata": {},
   "source": [
    "### העלת משתנים להרצת הקוד"
   ]
  },
  {
   "cell_type": "code",
   "execution_count": 3,
   "id": "25fb6262",
   "metadata": {},
   "outputs": [],
   "source": [
    "path = os.getcwd()\n",
    "\n",
    "parent = os.path.dirname(path)\n",
    "\n",
    "software_data_folder_location = os.path.dirname(parent)\n",
    "\n",
    "df_inputs_outputs = pd.read_excel(r'{}\\inputs_outputs.xlsx'.format(software_data_folder_location))\n",
    "\n",
    "# software_data_folder_location=df_inputs_outputs['location'][0]\n",
    "\n",
    "forecast_version_folder_location=r'C:\\Users\\dpere\\Documents\\JTMT\\forecast_by_version\\V4\\BASE_YEAR'\n",
    "\n",
    "# forecast_version_folder_location=df_inputs_outputs['location'][1]\n",
    "\n",
    "sys.path.append(software_data_folder_location)"
   ]
  },
  {
   "cell_type": "markdown",
   "id": "9624443e",
   "metadata": {},
   "source": [
    "## פונקציות"
   ]
  },
  {
   "cell_type": "code",
   "execution_count": 4,
   "id": "9af745aa",
   "metadata": {},
   "outputs": [],
   "source": [
    "from py_scripts.adding_students_to_the_population_and_age_distribution import adding_students_to_the_population_and_age_distribution\n",
    "from py_scripts.adding_yeshiva_students_to_the_population_size import adding_yeshiva_students_to_the_population_size\n",
    "from py_scripts.quantification_of_employees_in_jtmt_area import quantification_of_employees_in_jtmt_area\n",
    "from py_scripts.unemployment_calculation import unemployment_calculation\n",
    "from py_scripts.calculation_of_days import calculation_of_days\n",
    "from py_scripts.successive_dispersion import successive_dispersion\n",
    "from py_scripts.successive_coefficient import successive_coefficient\n",
    "from py_scripts.layer_splitting_not_follow_traffic_zones import layer_splitting_not_follow_traffic_zones\n",
    "from py_scripts.distribution_of_employment_branches import distribution_of_employment_branches\n",
    "from py_scripts.adding_yeshiva_students_to_amount_of_population import adding_yeshiva_students_to_amount_of_population\n",
    "from py_scripts.adding_palestinian_population import adding_palestinian_population\n",
    "from py_scripts.export_for_control import export_for_control\n",
    "from py_scripts.export_in_model_format import export_in_model_format"
   ]
  },
  {
   "cell_type": "code",
   "execution_count": 5,
   "id": "b5e6cd99",
   "metadata": {},
   "outputs": [],
   "source": [
    "# def drop_geo(geoDF):\n",
    "#     geoDF = geoDF.drop(columns='geometry')\n",
    "#     return geoDF"
   ]
  },
  {
   "cell_type": "code",
   "execution_count": 6,
   "id": "d69c42ff",
   "metadata": {},
   "outputs": [],
   "source": [
    "# def double_taz_num(df):\n",
    "#     dup_taz_num=df.groupby(['Taz_num']).size().reset_index(name='count').query('count>1').Taz_num.to_list()\n",
    "#     return df.loc[df['Taz_num'].isin(dup_taz_num)]"
   ]
  },
  {
   "cell_type": "code",
   "execution_count": 7,
   "id": "d048994a",
   "metadata": {},
   "outputs": [],
   "source": [
    "# def make_point(df):\n",
    "#     df_point=df.copy()\n",
    "#     df_point['centroid'] = df_point.representative_point()\n",
    "#     df_point=df_point.set_geometry('centroid')\n",
    "#     df_point=df_point.drop(columns=['geometry'],axis=1)\n",
    "#     return df_point"
   ]
  },
  {
   "cell_type": "code",
   "execution_count": 8,
   "id": "86bf5cad",
   "metadata": {},
   "outputs": [],
   "source": [
    "# def up_load_gdb(path,layer_name):\n",
    "#     path='{}'.format(path)\n",
    "#     layer_list=fiona.listlayers(path)\n",
    "#     gpd_layer=gpd.read_file(path, layer=layer_list.index(layer_name))\n",
    "#     return gpd_layer"
   ]
  },
  {
   "cell_type": "code",
   "execution_count": 9,
   "id": "6acc6aa7",
   "metadata": {},
   "outputs": [],
   "source": [
    "# def up_load_shp(path):\n",
    "#     path='{}'.format(path)\n",
    "#     gpd_layer=gpd.read_file(path)\n",
    "#     return gpd_layer"
   ]
  },
  {
   "cell_type": "code",
   "execution_count": 10,
   "id": "cb093800",
   "metadata": {},
   "outputs": [],
   "source": [
    "# def unique_id_in_one_taz(df_to_geoode,unique_field,gpd_for_geocode,taz):\n",
    "    \n",
    "#     code_to_find=list(df_to_geoode[unique_field].unique())\n",
    "\n",
    "#     gpd_for_geocode_to_sum_by_taz=gpd_for_geocode[[unique_field,'geometry']].loc[gpd_for_geocode[unique_field].isin(code_to_find)]\n",
    "\n",
    "#     gpd_for_geocode_to_sum_by_taz=gpd.sjoin(taz[['Taz_num','geometry']],gpd_for_geocode_to_sum_by_taz)\n",
    "\n",
    "#     gpd_for_geocode_in_one_taz=list(gpd_for_geocode_to_sum_by_taz.groupby(unique_field)[['Taz_num']].nunique().query('Taz_num==1').reset_index()[unique_field])\n",
    "\n",
    "#     return gpd_for_geocode_in_one_taz"
   ]
  },
  {
   "cell_type": "code",
   "execution_count": 11,
   "id": "b1a16060",
   "metadata": {},
   "outputs": [],
   "source": [
    "# def up_load_df(folder_path,file_name):\n",
    "    \n",
    "#     path_df=r'{}\\{}.xlsx'.format(folder_path,file_name)\n",
    "#     df=pd.read_excel(path_df)\n",
    "#     df=df.dropna(how='all')\n",
    "\n",
    "#     return df"
   ]
  },
  {
   "cell_type": "markdown",
   "id": "3094f5fd",
   "metadata": {},
   "source": [
    "### פונקציות גלובליות"
   ]
  },
  {
   "cell_type": "code",
   "execution_count": 12,
   "id": "2081e72d",
   "metadata": {},
   "outputs": [],
   "source": [
    "from functions import make_point\n",
    "from functions import up_load_df\n",
    "from functions import up_load_gdb\n",
    "from functions import up_load_shp"
   ]
  },
  {
   "cell_type": "code",
   "execution_count": 13,
   "id": "e7c3a612",
   "metadata": {},
   "outputs": [],
   "source": [
    "#העלת משתנים להרצת הקוד\n",
    "# df_inputs_outputs = pd.read_excel('inputs_outputs.xlsx')\n",
    "\n",
    "# software_data_folder_location=df_inputs_outputs['location'][0]\n",
    "\n",
    "# forecast_version_folder_location=df_inputs_outputs['location'][1]"
   ]
  },
  {
   "cell_type": "markdown",
   "id": "9e298bcd",
   "metadata": {},
   "source": [
    "## להריץ תלמידים"
   ]
  },
  {
   "cell_type": "code",
   "execution_count": 14,
   "id": "7cd351ae",
   "metadata": {},
   "outputs": [
    {
     "name": "stderr",
     "output_type": "stream",
     "text": [
      "C:\\Users\\dpere\\AppData\\Local\\Temp\\ipykernel_32668\\284509738.py:1: FutureWarning: The provided callable <built-in function sum> is currently using DataFrameGroupBy.sum. In a future version of pandas, the provided callable will be used directly. To keep current behavior pass the string \"sum\" instead.\n",
      "  student_yeshiva=student_yeshiva[col].pivot_table(index='Taz_num',aggfunc=sum)[[\n",
      "C:\\Users\\dpere\\Documents\\JTMT\\forecast\\create_forecast_basic\\current\\people\\students_current_year_230706\\py_scripts\\school.py:8: FutureWarning: The provided callable <built-in function sum> is currently using DataFrameGroupBy.sum. In a future version of pandas, the provided callable will be used directly. To keep current behavior pass the string \"sum\" instead.\n",
      "  taz['student_gov']=taz_student[['Taz_num','num_of_students']].pivot_table(index='Taz_num',aggfunc=sum)[['num_of_students']]\n",
      "C:\\Users\\dpere\\Documents\\JTMT\\forecast\\create_forecast_basic\\current\\people\\students_current_year_230706\\py_scripts\\school.py:14: SettingWithCopyWarning: \n",
      "A value is trying to be set on a copy of a slice from a DataFrame.\n",
      "Try using .loc[row_indexer,col_indexer] = value instead\n",
      "\n",
      "See the caveats in the documentation: https://pandas.pydata.org/pandas-docs/stable/user_guide/indexing.html#returning-a-view-versus-a-copy\n",
      "  muni_JTMT['CR_PNIM']=muni_JTMT['CR_PNIM'].astype(int)\n",
      "C:\\Users\\dpere\\Documents\\JTMT\\forecast\\create_forecast_basic\\current\\people\\students_current_year_230706\\py_scripts\\school.py:54: FutureWarning: The provided callable <built-in function sum> is currently using DataFrameGroupBy.sum. In a future version of pandas, the provided callable will be used directly. To keep current behavior pass the string \"sum\" instead.\n",
      "  jtmt_muni_student_gov=drop_geo(taz).pivot_table(index='CR_PNIM',aggfunc=sum)[['student_gov']].fillna(0)\n",
      "C:\\Users\\dpere\\Documents\\JTMT\\forecast\\create_forecast_basic\\current\\people\\students_current_year_230706\\py_scripts\\students_not_in_ministry_of_education.py:7: FutureWarning: The provided callable <built-in function sum> is currently using DataFrameGroupBy.sum. In a future version of pandas, the provided callable will be used directly. To keep current behavior pass the string \"sum\" instead.\n",
      "  taz['student_chardi_not_gov']=drop_geo(gpd.sjoin(taz.reset_index(),student_chardi_not_gov)).pivot_table(index='Taz_num',aggfunc=sum)[['num_students']]\n",
      "C:\\Users\\dpere\\Documents\\JTMT\\forecast\\create_forecast_basic\\current\\people\\students_current_year_230706\\py_scripts\\students_not_in_ministry_of_education.py:9: FutureWarning: The provided callable <built-in function sum> is currently using DataFrameGroupBy.sum. In a future version of pandas, the provided callable will be used directly. To keep current behavior pass the string \"sum\" instead.\n",
      "  student_arab_not_gov=student_arab_not_gov.pivot_table(index='Taz_num',aggfunc=sum)[['num_student']]\n",
      "C:\\Users\\dpere\\Documents\\JTMT\\forecast\\create_forecast_basic\\current\\people\\students_current_year_230706\\py_scripts\\higher_education.py:8: FutureWarning: The provided callable <built-in function sum> is currently using DataFrameGroupBy.sum. In a future version of pandas, the provided callable will be used directly. To keep current behavior pass the string \"sum\" instead.\n",
      "  taz['uni_students']=gpd.sjoin(taz[['geometry']].reset_index(),uni)[['Taz_num','num_students']].pivot_table(index='Taz_num',aggfunc=sum)\n",
      "C:\\Users\\dpere\\Documents\\JTMT\\forecast\\create_forecast_basic\\current\\people\\students_current_year_230706\\py_scripts\\higher_education.py:10: FutureWarning: The provided callable <built-in function sum> is currently using DataFrameGroupBy.sum. In a future version of pandas, the provided callable will be used directly. To keep current behavior pass the string \"sum\" instead.\n",
      "  taz['emp_from_uni_student']=gpd.sjoin(taz[['geometry']].reset_index(),uni)[['Taz_num','emp_uni']].pivot_table(index='Taz_num',aggfunc=sum)\n",
      "C:\\Users\\dpere\\Documents\\JTMT\\forecast\\create_forecast_basic\\current\\people\\students_current_year_230706\\py_scripts\\yeshivot.py:20: FutureWarning: Setting an item of incompatible dtype is deprecated and will raise in a future error of pandas. Value '[211.55       311.6        203.4        219.5        344.425\n",
      "  90.35        56.075       25.39016076  73.20626374  73.23431062\n",
      "  82.10695662 230.30070665 343.62390833 337.025      366.03886321\n",
      " 105.80109167 231.87527165  55.25400185  77.16804338 253.975\n",
      " 271.6075202  128.8788284  132.64795356 192.81912699 152.39663145\n",
      "  41.96477747  13.99356016  95.41456334 242.36643815 121.83933175\n",
      " 217.05580154  79.4         61.525      194.025       89.10633285\n",
      " 261.06314994  13.61840831  66.66415402 125.9366734  493.40591382\n",
      "  13.875      303.175      179.34455817  52.35639892  74.39291965\n",
      " 534.43208035 416.82403926 222.70253076 354.0576974  276.\n",
      " 350.08974276 300.08391068   8.1        103.24850102  62.84563695\n",
      " 294.26060716 188.67566285  44.13980319 159.3154777  196.63301559\n",
      " 193.97893162  45.89112945]' has dtype incompatible with int64, please explicitly cast to a compatible dtype first.\n",
      "  taz.loc[(taz['main_secto']=='U_Orthodox')&(taz['kollim_demand']>taz['student_yeshiva_with_add_from_old']),'add_from_kollim_demand']=taz['kollim_demand']-taz['student_yeshiva_with_add_from_old']\n"
     ]
    }
   ],
   "source": [
    "%run \"C:\\Users\\dpere\\Documents\\JTMT\\forecast\\create_forecast_basic\\current\\people\\students_current_year_230706\\students_current_year_230706.ipynb\""
   ]
  },
  {
   "cell_type": "markdown",
   "id": "4e3f42f8",
   "metadata": {},
   "source": [
    "## להעלות שכבות"
   ]
  },
  {
   "cell_type": "code",
   "execution_count": 15,
   "id": "e9d5e721",
   "metadata": {},
   "outputs": [],
   "source": [
    "#העלת משתנים להרצת הקוד\n",
    "# df_inputs_outputs = pd.read_excel('inputs_outputs.xlsx')\n",
    "\n",
    "# software_data_folder_location=df_inputs_outputs['location'][0]\n",
    "\n",
    "# forecast_version_folder_location=df_inputs_outputs['location'][1]\n"
   ]
  },
  {
   "cell_type": "code",
   "execution_count": 16,
   "id": "eafdef2a",
   "metadata": {},
   "outputs": [],
   "source": [
    "path=r'{}\\background_files\\EMP_KIBOLET.gdb'.format(software_data_folder_location)\n",
    "EMP_kibolet=up_load_gdb(path,'EMP_kibolet')"
   ]
  },
  {
   "cell_type": "code",
   "execution_count": 17,
   "id": "ad8ab1b1",
   "metadata": {},
   "outputs": [],
   "source": [
    "EMP_kibolet=EMP_kibolet.fillna(0)"
   ]
  },
  {
   "cell_type": "code",
   "execution_count": 18,
   "id": "b2d50ac8",
   "metadata": {},
   "outputs": [],
   "source": [
    "EMP_kibolet['emp_without_palestin']=EMP_kibolet['kayim_emp']-EMP_kibolet['Palestinians']"
   ]
  },
  {
   "cell_type": "code",
   "execution_count": 19,
   "id": "b417c7e4",
   "metadata": {},
   "outputs": [],
   "source": [
    "emp_without_palestin_not_okev=EMP_kibolet['emp_without_palestin'].sum().item()"
   ]
  },
  {
   "cell_type": "code",
   "execution_count": 20,
   "id": "aa5bd8a4",
   "metadata": {},
   "outputs": [],
   "source": [
    "emp_Education=taz.query('main_secto!=\"Palestinian\"')['emp_Education'].sum().item()"
   ]
  },
  {
   "cell_type": "markdown",
   "id": "2bfcfaff",
   "metadata": {},
   "source": [
    "## הוספת סטודנטים לאוכלוסיה ולהתפלגות גילים"
   ]
  },
  {
   "cell_type": "code",
   "execution_count": 21,
   "id": "03a9b835",
   "metadata": {},
   "outputs": [],
   "source": [
    "student_dorms=up_load_shp(r'{}\\background_files\\student_dorms.shp'.format(software_data_folder_location))"
   ]
  },
  {
   "cell_type": "code",
   "execution_count": 22,
   "id": "95bbcee0",
   "metadata": {},
   "outputs": [
    {
     "name": "stderr",
     "output_type": "stream",
     "text": [
      "c:\\Users\\dpere\\Documents\\JTMT\\forecast\\create_forecast_basic\\current\\people\\emp_current_year_230718\\py_scripts\\adding_students_to_the_population_and_age_distribution.py:4: FutureWarning: The provided callable <built-in function sum> is currently using DataFrameGroupBy.sum. In a future version of pandas, the provided callable will be used directly. To keep current behavior pass the string \"sum\" instead.\n",
      "  taz['student_dorms']=gpd.sjoin(taz[['geometry']].reset_index(),student_dorms)[['Taz_num','student_nu']].pivot_table(index='Taz_num',aggfunc=sum)\n"
     ]
    }
   ],
   "source": [
    "taz=adding_students_to_the_population_and_age_distribution(student_dorms, taz)"
   ]
  },
  {
   "cell_type": "markdown",
   "id": "1863c88f",
   "metadata": {},
   "source": [
    "## הוספת תלמידי ישיבה (באזורים חרדיים) אל כמות אוכלוסיה,התפלגות גילים "
   ]
  },
  {
   "cell_type": "code",
   "execution_count": 23,
   "id": "efbf252c",
   "metadata": {},
   "outputs": [],
   "source": [
    "taz=adding_yeshiva_students_to_the_population_size(taz)"
   ]
  },
  {
   "cell_type": "markdown",
   "id": "206b2d14",
   "metadata": {},
   "source": [
    "## כימות מועסקים במרחב צתאל"
   ]
  },
  {
   "cell_type": "code",
   "execution_count": 24,
   "id": "4d75461d",
   "metadata": {},
   "outputs": [],
   "source": [
    "taz=quantification_of_employees_in_jtmt_area(taz)"
   ]
  },
  {
   "cell_type": "markdown",
   "id": "30a016c8",
   "metadata": {},
   "source": [
    "## חישוב אבטלה"
   ]
  },
  {
   "cell_type": "code",
   "execution_count": 25,
   "id": "2b419962",
   "metadata": {},
   "outputs": [
    {
     "name": "stderr",
     "output_type": "stream",
     "text": [
      "c:\\Users\\dpere\\Documents\\JTMT\\forecast\\create_forecast_basic\\current\\people\\emp_current_year_230718\\py_scripts\\unemployment_calculation.py:4: FutureWarning: Setting an item of incompatible dtype is deprecated and will raise in a future error of pandas. Value '[1058.5125      925.0696     1368.9416     1401.4269      900.4801\n",
      "  662.6458      925.0599      932.1215      931.33828983  997.1115\n",
      "  567.256       832.8517     1120.5246      658.6882      798.3682\n",
      " 1469.065      1668.1284      882.8552     1070.52809036  841.5235\n",
      "  547.8269      625.63533771  421.00136291 1126.267       588.8191\n",
      "  497.06827099  192.98137702  550.82128767  652.67722429    0.\n",
      "  199.05712       0.         1029.46150669  958.554      1089.47169269\n",
      "  258.27169331  316.24394151  868.35219351  381.68004435  346.99131233\n",
      " 1150.0223      711.9509      926.2918      586.98056974  970.0056804\n",
      "  242.39101412  485.02180886  448.62910236  700.57393582  187.79718023\n",
      "  912.98938137  491.97901778    0.           31.82368444  345.50725071\n",
      "  424.43994929  589.5392783   674.3028217  1079.7244229   492.62749824\n",
      "  397.46436239  377.25696761   98.36363601  188.35185548  126.558586\n",
      "  223.64763843  264.48028347 1127.07201653  345.29532287  731.3357684\n",
      "  540.14168147 1054.80462152  395.49862658 1556.6851      594.36104784\n",
      "  435.31335216  221.451         0.            0.         1393.9198457\n",
      "  721.1368      704.8214      527.7338739   610.28614103  825.11645426\n",
      " 1169.80494574  763.64114769  722.70549344  363.89497342  859.62638597\n",
      "  337.5187576   331.66453881   26.4907     1149.159       807.03981728\n",
      "    0.          821.38017823  164.60664178    0.          859.88343512\n",
      "  874.92297156  958.18094175 1030.52232733 1260.89713291  813.1122\n",
      " 1294.95        883.7476     1285.5022      831.9884      994.5216\n",
      "  526.15593447 1330.4035     1047.30046553    0.          196.82521355\n",
      " 3559.29679765  386.69356528 3016.20211554 3209.42870797 1792.68761483\n",
      " 2014.03858517    0.            0.         1303.98795982    0.\n",
      "    0.            6.693         0.            0.            0.\n",
      "    0.            0.            0.         2327.0543108   767.54910769\n",
      "  862.49276997  692.2211     1139.98081887    0.            0.\n",
      "    0.         1778.49546086 1068.60878644  343.6128        0.\n",
      "    0.            0.          288.31147246  158.6891602     0.\n",
      "    0.            0.            0.            0.            0.\n",
      "    0.            0.            0.         1420.66653216 1756.07376784\n",
      "    0.            0.            0.         1284.46185064  651.42724071\n",
      "  806.00014809 1395.7161253  1064.02380638  523.46352561    0.\n",
      "  601.7333678   675.71254652    0.            0.        ]' has dtype incompatible with int64, please explicitly cast to a compatible dtype first.\n",
      "  taz.loc[taz['main_secto']==\"U_Orthodox\",'pop_emp_employed']=taz['pop_emp']*0.97\n"
     ]
    }
   ],
   "source": [
    "taz=unemployment_calculation(taz)"
   ]
  },
  {
   "cell_type": "markdown",
   "id": "e72fd7be",
   "metadata": {},
   "source": [
    "## חישוב יוממות"
   ]
  },
  {
   "cell_type": "code",
   "execution_count": 26,
   "id": "a92b3fa4",
   "metadata": {},
   "outputs": [],
   "source": [
    "commuting=up_load_shp(r'{}\\background_files\\commuting_230712.shp'.format(software_data_folder_location))"
   ]
  },
  {
   "cell_type": "code",
   "execution_count": 27,
   "id": "21645b99",
   "metadata": {},
   "outputs": [],
   "source": [
    "taz['commuting']=gpd.sjoin(make_point(taz.reset_index())[['Taz_num','centroid']],commuting[['commuting', 'geometry']]).set_index('Taz_num')['commuting']/100\n",
    "\n",
    "taz['pop_emp_employed_out_of_jtmt_area']=taz['pop_emp_employed']*taz['commuting']\n",
    "\n",
    "emp_left_jtmt_area=taz['pop_emp_employed_out_of_jtmt_area'].sum().item()\n",
    "\n",
    "round(emp_left_jtmt_area,-3)\n",
    "\n",
    "emp_from_jtmt_area=taz['pop_emp_employed'].sum().item()-emp_left_jtmt_area\n",
    "\n",
    "# יוממות פנימה מחוץ למרחב\n",
    "emp_in_jtmt_area=emp_from_jtmt_area*1.07\n",
    "\n",
    "emp_in_jtmt_area_without_mobile=emp_in_jtmt_area*0.95 #הפחחת עובדים ניידים\n",
    "\n",
    "round(emp_in_jtmt_area_without_mobile,-3)\n",
    "\n",
    "emp_okev=emp_in_jtmt_area_without_mobile-emp_Education-emp_without_palestin_not_okev\n",
    "\n",
    "# taz=calculation_of_days(taz, commuting)"
   ]
  },
  {
   "cell_type": "markdown",
   "id": "83ca98c0",
   "metadata": {},
   "source": [
    "## פיזור עוקב"
   ]
  },
  {
   "cell_type": "code",
   "execution_count": 28,
   "id": "f38427fd",
   "metadata": {},
   "outputs": [],
   "source": [
    "taz=successive_dispersion(EMP_kibolet, taz)"
   ]
  },
  {
   "cell_type": "markdown",
   "id": "d0f04db5",
   "metadata": {},
   "source": [
    "## מקדם עוקב"
   ]
  },
  {
   "cell_type": "code",
   "execution_count": 29,
   "id": "4a7a73bd",
   "metadata": {
    "scrolled": true
   },
   "outputs": [
    {
     "name": "stderr",
     "output_type": "stream",
     "text": [
      "c:\\Users\\dpere\\Documents\\JTMT\\forecast\\create_forecast_basic\\current\\people\\emp_current_year_230718\\py_scripts\\successive_coefficient.py:33: FutureWarning: Setting an item of incompatible dtype is deprecated and will raise in a future error of pandas. Value '[2536.68600793  663.95841106 1454.6965302  1162.87507074  461.71011345\n",
      "  181.0381023   563.90819034  387.9984432  1427.00791646  592.29263186\n",
      "  116.29186861  302.98046383  356.89141041  152.32446631   97.17332518\n",
      "  564.66626503  405.94487016  577.96949449  172.90532509  439.25456267\n",
      "  636.55659017  568.59927227  589.87006481  458.39639966  500.73884984\n",
      " 1018.37538885  563.732      2552.23499218  816.3985081   586.78536878\n",
      "  316.21990544  316.56324671  244.08331939  722.5343934   781.28637177\n",
      "  383.56703406  700.3088952   678.22662547  503.27967819  580.20120115\n",
      "  865.88369491 2152.10293558   49.66809796  427.22990387  427.66448377\n",
      "  266.99793209  284.79444143  120.61427701  585.40124266  206.79138999\n",
      "  198.92284348  988.44736647  526.70374934]' has dtype incompatible with int64, please explicitly cast to a compatible dtype first.\n",
      "  taz.loc[(taz['jew']==0)&(taz['okev']==1),'emp_okev']=taz['aprt_20']*okev_factor.loc['arab','city']\n"
     ]
    }
   ],
   "source": [
    "taz=successive_coefficient(taz, emp_okev, software_data_folder_location)"
   ]
  },
  {
   "cell_type": "markdown",
   "id": "d8615aa7",
   "metadata": {},
   "source": [
    "## פיצול שכבת לא עוקב לאזורי תנועה"
   ]
  },
  {
   "cell_type": "code",
   "execution_count": 30,
   "id": "8c725e21",
   "metadata": {
    "scrolled": false
   },
   "outputs": [
    {
     "name": "stderr",
     "output_type": "stream",
     "text": [
      "c:\\Users\\dpere\\Documents\\JTMT\\forecast\\create_forecast_basic\\current\\people\\emp_current_year_230718\\py_scripts\\layer_splitting_not_follow_traffic_zones.py:9: UserWarning: `keep_geom_type=True` in overlay resulted in 279 dropped geometries of different geometry types than df1 has. Set `keep_geom_type=False` to retain all geometries\n",
      "  EMP_kibolet_by_taz=gpd.overlay(taz.reset_index()[['Taz_num','taz_area','geometry']],EMP_kibolet)\n",
      "c:\\Users\\dpere\\Documents\\JTMT\\forecast\\create_forecast_basic\\current\\people\\emp_current_year_230718\\py_scripts\\layer_splitting_not_follow_traffic_zones.py:29: FutureWarning: The provided callable <built-in function sum> is currently using DataFrameGroupBy.sum. In a future version of pandas, the provided callable will be used directly. To keep current behavior pass the string \"sum\" instead.\n",
      "  taz['emp_not_okev']=drop_geo(EMP_kibolet_by_taz).pivot_table(index='Taz_num',aggfunc=sum)[['emp_without_palestin_in_taz']]\n"
     ]
    }
   ],
   "source": [
    "taz=layer_splitting_not_follow_traffic_zones(EMP_kibolet, taz, emp_in_jtmt_area_without_mobile)"
   ]
  },
  {
   "cell_type": "markdown",
   "id": "250d570c",
   "metadata": {},
   "source": [
    "## תוצאות"
   ]
  },
  {
   "cell_type": "code",
   "execution_count": 31,
   "id": "ce728f1a",
   "metadata": {},
   "outputs": [
    {
     "data": {
      "text/html": [
       "<div>\n",
       "<style scoped>\n",
       "    .dataframe tbody tr th:only-of-type {\n",
       "        vertical-align: middle;\n",
       "    }\n",
       "\n",
       "    .dataframe tbody tr th {\n",
       "        vertical-align: top;\n",
       "    }\n",
       "\n",
       "    .dataframe thead th {\n",
       "        text-align: right;\n",
       "    }\n",
       "</style>\n",
       "<table border=\"1\" class=\"dataframe\">\n",
       "  <thead>\n",
       "    <tr style=\"text-align: right;\">\n",
       "      <th></th>\n",
       "      <th>total_emp</th>\n",
       "    </tr>\n",
       "    <tr>\n",
       "      <th>zonetype</th>\n",
       "      <th></th>\n",
       "    </tr>\n",
       "  </thead>\n",
       "  <tbody>\n",
       "    <tr>\n",
       "      <th>Jerusalem</th>\n",
       "      <td>372287.064</td>\n",
       "    </tr>\n",
       "    <tr>\n",
       "      <th>Judea and Samaria</th>\n",
       "      <td>82187.101</td>\n",
       "    </tr>\n",
       "    <tr>\n",
       "      <th>Palestinian</th>\n",
       "      <td>18.000</td>\n",
       "    </tr>\n",
       "    <tr>\n",
       "      <th>Ramla</th>\n",
       "      <td>28207.725</td>\n",
       "    </tr>\n",
       "  </tbody>\n",
       "</table>\n",
       "</div>"
      ],
      "text/plain": [
       "                   total_emp\n",
       "zonetype                    \n",
       "Jerusalem         372287.064\n",
       "Judea and Samaria  82187.101\n",
       "Palestinian           18.000\n",
       "Ramla              28207.725"
      ]
     },
     "execution_count": 31,
     "metadata": {},
     "output_type": "execute_result"
    }
   ],
   "source": [
    "taz.groupby(by='zonetype')[['total_emp']].sum()#.loc[['Jerusalem','Judea and Samaria']]"
   ]
  },
  {
   "cell_type": "code",
   "execution_count": 32,
   "id": "051dd7df",
   "metadata": {
    "scrolled": true
   },
   "outputs": [
    {
     "data": {
      "text/html": [
       "<div>\n",
       "<style scoped>\n",
       "    .dataframe tbody tr th:only-of-type {\n",
       "        vertical-align: middle;\n",
       "    }\n",
       "\n",
       "    .dataframe tbody tr th {\n",
       "        vertical-align: top;\n",
       "    }\n",
       "\n",
       "    .dataframe thead th {\n",
       "        text-align: right;\n",
       "    }\n",
       "</style>\n",
       "<table border=\"1\" class=\"dataframe\">\n",
       "  <thead>\n",
       "    <tr style=\"text-align: right;\">\n",
       "      <th></th>\n",
       "      <th>total_emp</th>\n",
       "    </tr>\n",
       "    <tr>\n",
       "      <th>Muni_Heb</th>\n",
       "      <th></th>\n",
       "    </tr>\n",
       "  </thead>\n",
       "  <tbody>\n",
       "    <tr>\n",
       "      <th>ירושלים</th>\n",
       "      <td>324011.114</td>\n",
       "    </tr>\n",
       "    <tr>\n",
       "      <th>בית שמש</th>\n",
       "      <td>26993.914</td>\n",
       "    </tr>\n",
       "    <tr>\n",
       "      <th>ביתר עילית</th>\n",
       "      <td>7183.027</td>\n",
       "    </tr>\n",
       "    <tr>\n",
       "      <th>מודיעין - מכבים - רעות</th>\n",
       "      <td>25599.930</td>\n",
       "    </tr>\n",
       "    <tr>\n",
       "      <th>מעלה אדומים</th>\n",
       "      <td>7633.667</td>\n",
       "    </tr>\n",
       "    <tr>\n",
       "      <th>מודיעין עילית</th>\n",
       "      <td>10778.885</td>\n",
       "    </tr>\n",
       "  </tbody>\n",
       "</table>\n",
       "</div>"
      ],
      "text/plain": [
       "                        total_emp\n",
       "Muni_Heb                         \n",
       "ירושלים                324011.114\n",
       "בית שמש                 26993.914\n",
       "ביתר עילית               7183.027\n",
       "מודיעין - מכבים - רעות  25599.930\n",
       "מעלה אדומים              7633.667\n",
       "מודיעין עילית           10778.885"
      ]
     },
     "execution_count": 32,
     "metadata": {},
     "output_type": "execute_result"
    }
   ],
   "source": [
    "taz.groupby(by='Muni_Heb')[['total_emp']].sum().loc[['ירושלים','בית שמש','ביתר עילית','מודיעין - מכבים - רעות','מעלה אדומים','מודיעין עילית']]"
   ]
  },
  {
   "cell_type": "code",
   "execution_count": 33,
   "id": "6dce3b2f",
   "metadata": {
    "scrolled": false
   },
   "outputs": [
    {
     "data": {
      "text/html": [
       "<div>\n",
       "<style scoped>\n",
       "    .dataframe tbody tr th:only-of-type {\n",
       "        vertical-align: middle;\n",
       "    }\n",
       "\n",
       "    .dataframe tbody tr th {\n",
       "        vertical-align: top;\n",
       "    }\n",
       "\n",
       "    .dataframe thead th {\n",
       "        text-align: right;\n",
       "    }\n",
       "</style>\n",
       "<table border=\"1\" class=\"dataframe\">\n",
       "  <thead>\n",
       "    <tr style=\"text-align: right;\">\n",
       "      <th></th>\n",
       "      <th></th>\n",
       "      <th>total_emp</th>\n",
       "    </tr>\n",
       "    <tr>\n",
       "      <th>Muni_Heb</th>\n",
       "      <th>main_secto</th>\n",
       "      <th></th>\n",
       "    </tr>\n",
       "  </thead>\n",
       "  <tbody>\n",
       "    <tr>\n",
       "      <th rowspan=\"4\" valign=\"top\">ירושלים</th>\n",
       "      <th>Arab</th>\n",
       "      <td>57190.378</td>\n",
       "    </tr>\n",
       "    <tr>\n",
       "      <th>Jewish</th>\n",
       "      <td>197846.853</td>\n",
       "    </tr>\n",
       "    <tr>\n",
       "      <th>U_Orthodox</th>\n",
       "      <td>55886.933</td>\n",
       "    </tr>\n",
       "    <tr>\n",
       "      <th>arabs_behined_seperation_wall</th>\n",
       "      <td>13086.951</td>\n",
       "    </tr>\n",
       "  </tbody>\n",
       "</table>\n",
       "</div>"
      ],
      "text/plain": [
       "                                        total_emp\n",
       "Muni_Heb main_secto                              \n",
       "ירושלים  Arab                           57190.378\n",
       "         Jewish                        197846.853\n",
       "         U_Orthodox                     55886.933\n",
       "         arabs_behined_seperation_wall  13086.951"
      ]
     },
     "execution_count": 33,
     "metadata": {},
     "output_type": "execute_result"
    }
   ],
   "source": [
    "taz.groupby(by=['Muni_Heb','main_secto'])[['total_emp']].sum().loc[['ירושלים']]"
   ]
  },
  {
   "cell_type": "markdown",
   "id": "a9e9a3c5",
   "metadata": {},
   "source": [
    "## התפלגות ענפי תעסוקה"
   ]
  },
  {
   "cell_type": "code",
   "execution_count": 34,
   "id": "0aee928f",
   "metadata": {},
   "outputs": [],
   "source": [
    "emp_category_type=up_load_shp(r'{}\\background_files\\emp_category_type.shp'.format(software_data_folder_location)).fillna(0)"
   ]
  },
  {
   "cell_type": "code",
   "execution_count": 35,
   "id": "827ec351",
   "metadata": {
    "scrolled": false
   },
   "outputs": [],
   "source": [
    "taz=distribution_of_employment_branches(emp_category_type, taz)"
   ]
  },
  {
   "cell_type": "markdown",
   "id": "95e0cc68",
   "metadata": {},
   "source": [
    "## הוספת סטודנטים אל כמות משקי בית"
   ]
  },
  {
   "cell_type": "code",
   "execution_count": 36,
   "id": "8e6b7713",
   "metadata": {},
   "outputs": [],
   "source": [
    "taz=taz.fillna(0)"
   ]
  },
  {
   "cell_type": "code",
   "execution_count": 37,
   "id": "dfa33d6c",
   "metadata": {},
   "outputs": [],
   "source": [
    "taz['hh']=taz['aprt_20']+taz['student_dorms']/1.5"
   ]
  },
  {
   "cell_type": "markdown",
   "id": "15cc71d7",
   "metadata": {},
   "source": [
    "## הוספת תלמידי ישיבה (באזורים לא חרדיים) אל כמות אוכלוסיה,התפלגות גילים ומשקי בית (לכלל תלמידי הישיבה)"
   ]
  },
  {
   "cell_type": "code",
   "execution_count": 38,
   "id": "b5a1f454",
   "metadata": {},
   "outputs": [],
   "source": [
    "taz=adding_yeshiva_students_to_amount_of_population(taz)"
   ]
  },
  {
   "cell_type": "markdown",
   "id": "26046a0a",
   "metadata": {},
   "source": [
    "## הוספת אוכלוסיה פלסטינאית"
   ]
  },
  {
   "cell_type": "code",
   "execution_count": 39,
   "id": "ab51a53c",
   "metadata": {},
   "outputs": [],
   "source": [
    "path=r'{}\\background_files'.format(software_data_folder_location)\n",
    "taz_demo_pls_2020=up_load_df(path,'taz_demo_pls_2020_and_pre_growth_till_2050')[['Taz_num','pop_2020']].set_index('Taz_num')"
   ]
  },
  {
   "cell_type": "code",
   "execution_count": 40,
   "id": "2b3bf466",
   "metadata": {},
   "outputs": [],
   "source": [
    "taz=adding_palestinian_population(taz, taz_demo_pls_2020)"
   ]
  },
  {
   "cell_type": "markdown",
   "id": "34c1d5c0",
   "metadata": {},
   "source": [
    "## ייצוא לבקרה"
   ]
  },
  {
   "cell_type": "code",
   "execution_count": 41,
   "id": "53e4429d",
   "metadata": {
    "scrolled": true
   },
   "outputs": [],
   "source": [
    "taz=export_for_control(taz)"
   ]
  },
  {
   "cell_type": "code",
   "execution_count": 42,
   "id": "83c03ab6",
   "metadata": {},
   "outputs": [],
   "source": [
    "col=['Taz_num','Agg_taz_nu','Taz_name','Muni_Heb','jeru_metro',\n",
    " 'zonetype',\n",
    " 'in_jerusal','main_secto','aprt_20','student_dorms','student_yeshiva_with_add_from_old','hh','pop_without_dorms_yeshiva',\n",
    " 'pop', 'hh_size','pop_emp_employed',\n",
    " 'commuting','student_toddlers',\n",
    " 'student_gov','cbs_muni_student_left_by_pre_of_demand_left','cbs_muni_student_left_by_pre_of_demand','student_chardi_not_gov',\n",
    " 'student_arab_not_gov','student','uni_students',\n",
    " 'student_yeshiva','yeshiva_dorms_pop_15',\n",
    " 'yeshiva_dorms_pop_20',\n",
    " 'yeshiva_dorms_pop_25',\n",
    " 'yeshiva_dorms_pop_sum',\n",
    " 'add_from_old_student_yeshiva',\n",
    " 'add_from_kollim_demand', 'emp_from_uni_student','emp_from_Yeshiva_student','emp_from_student',\n",
    " 'emp_Education','okev',\n",
    " 'emp_okev',\n",
    " 'emp_not_okev','total_emp',\n",
    " 'agri',\n",
    " 'Indus',\n",
    " 'Com_hotel',\n",
    " 'Business',\n",
    " 'Public']"
   ]
  },
  {
   "cell_type": "code",
   "execution_count": 43,
   "id": "e2bd9936",
   "metadata": {},
   "outputs": [],
   "source": [
    "file_date=pd.Timestamp.today().strftime('%y%m%d')"
   ]
  },
  {
   "cell_type": "code",
   "execution_count": 44,
   "id": "3b0573bb",
   "metadata": {
    "scrolled": true
   },
   "outputs": [],
   "source": [
    "taz[col].to_excel(r'{}\\2020_jtmt_forcast_full_{}.xlsx'.format(forecast_version_folder_location,file_date),index=False)"
   ]
  },
  {
   "cell_type": "markdown",
   "id": "166ba3e5",
   "metadata": {},
   "source": [
    "## ייצוא בפורמט של מודלים"
   ]
  },
  {
   "cell_type": "code",
   "execution_count": 49,
   "id": "daec6b41",
   "metadata": {},
   "outputs": [],
   "source": [
    "taz=export_in_model_format(taz)"
   ]
  },
  {
   "cell_type": "code",
   "execution_count": 50,
   "id": "c104fe43",
   "metadata": {},
   "outputs": [],
   "source": [
    "col=['Taz_num',\n",
    "'yosh',\n",
    "'jeru_metro',\n",
    "'jerusalem_city',\n",
    "'main_secto',\n",
    "'hh',\n",
    "'pop',\n",
    "'pop_0',\n",
    "'pop_5',\n",
    "'pop_10',\n",
    "'pop_15',\n",
    "'pop_20',\n",
    "'pop_25',\n",
    "'pop_30',\n",
    "'pop_35',\n",
    "'pop_40',\n",
    "'pop_45',\n",
    "'pop_50',\n",
    "'pop_55',\n",
    "'pop_60',\n",
    "'pop_65',\n",
    "'pop_70',\n",
    "'pop_75up',\n",
    "'total_emp',\n",
    "'Indus',\n",
    "'Com_hotel',\n",
    "'Business',\n",
    "'Public',\n",
    "'emp_Education',\n",
    "'agri',\n",
    "'student',\n",
    "'uni_students',\n",
    "'student_yeshiva_and_kollim',\n",
    "'pop_emp_employed']"
   ]
  },
  {
   "cell_type": "code",
   "execution_count": 51,
   "id": "41cec04f",
   "metadata": {},
   "outputs": [],
   "source": [
    "col_new_name=['TAZ',\n",
    "'yosh',\n",
    "'in_jerusalem_metropolin',\n",
    "'jerusalem_city',\n",
    "'sector',\n",
    "'hh_total',\n",
    "'pop',\n",
    "'age0_4',\n",
    "'age5_9',\n",
    "'age10_14',\n",
    "'age15_19',\n",
    "'age20_24',\n",
    "'age25_29',\n",
    "'age30_34',\n",
    "'age35_39',\n",
    "'age40_44',\n",
    "'age45_49',\n",
    "'age50_54',\n",
    "'age55_59',\n",
    "'age60_64',\n",
    "'age65_69',\n",
    "'age70_74',\n",
    "'age75up',\n",
    "'emp_tot',\n",
    "'indus',\n",
    "'com_hotel',\n",
    "'business',\n",
    "'public',\n",
    "'education',\n",
    "'agri',\n",
    "'student',\n",
    "'univ',\n",
    "'UO_Hi_Ed',\n",
    "'pop_emp_employed']"
   ]
  },
  {
   "cell_type": "code",
   "execution_count": 52,
   "id": "d2bd1f1a",
   "metadata": {},
   "outputs": [],
   "source": [
    "taz=taz[col]"
   ]
  },
  {
   "cell_type": "code",
   "execution_count": 53,
   "id": "141c3d0f",
   "metadata": {},
   "outputs": [],
   "source": [
    "taz.columns=col_new_name"
   ]
  },
  {
   "cell_type": "code",
   "execution_count": 54,
   "id": "21d0a080",
   "metadata": {},
   "outputs": [],
   "source": [
    "taz.to_excel(r'{}\\forecast_2020_{}.xlsx'.format(forecast_version_folder_location,file_date),index=False)"
   ]
  },
  {
   "cell_type": "markdown",
   "id": "219c80d4",
   "metadata": {},
   "source": [
    "## בקרות לוגיות"
   ]
  },
  {
   "cell_type": "code",
   "execution_count": 55,
   "id": "2c03dc03",
   "metadata": {
    "scrolled": true
   },
   "outputs": [
    {
     "data": {
      "text/html": [
       "<div>\n",
       "<style scoped>\n",
       "    .dataframe tbody tr th:only-of-type {\n",
       "        vertical-align: middle;\n",
       "    }\n",
       "\n",
       "    .dataframe tbody tr th {\n",
       "        vertical-align: top;\n",
       "    }\n",
       "\n",
       "    .dataframe thead th {\n",
       "        text-align: right;\n",
       "    }\n",
       "</style>\n",
       "<table border=\"1\" class=\"dataframe\">\n",
       "  <thead>\n",
       "    <tr style=\"text-align: right;\">\n",
       "      <th></th>\n",
       "      <th>TAZ</th>\n",
       "      <th>yosh</th>\n",
       "      <th>in_jerusalem_metropolin</th>\n",
       "      <th>jerusalem_city</th>\n",
       "      <th>sector</th>\n",
       "      <th>hh_total</th>\n",
       "      <th>pop</th>\n",
       "      <th>age0_4</th>\n",
       "      <th>age5_9</th>\n",
       "      <th>age10_14</th>\n",
       "      <th>age15_19</th>\n",
       "      <th>age20_24</th>\n",
       "      <th>age25_29</th>\n",
       "      <th>age30_34</th>\n",
       "      <th>age35_39</th>\n",
       "      <th>age40_44</th>\n",
       "      <th>age45_49</th>\n",
       "      <th>age50_54</th>\n",
       "      <th>age55_59</th>\n",
       "      <th>age60_64</th>\n",
       "      <th>age65_69</th>\n",
       "      <th>age70_74</th>\n",
       "      <th>age75up</th>\n",
       "      <th>emp_tot</th>\n",
       "      <th>indus</th>\n",
       "      <th>com_hotel</th>\n",
       "      <th>business</th>\n",
       "      <th>public</th>\n",
       "      <th>education</th>\n",
       "      <th>agri</th>\n",
       "      <th>student</th>\n",
       "      <th>univ</th>\n",
       "      <th>UO_Hi_Ed</th>\n",
       "      <th>pop_emp_employed</th>\n",
       "    </tr>\n",
       "  </thead>\n",
       "  <tbody>\n",
       "  </tbody>\n",
       "</table>\n",
       "</div>"
      ],
      "text/plain": [
       "Empty DataFrame\n",
       "Columns: [TAZ, yosh, in_jerusalem_metropolin, jerusalem_city, sector, hh_total, pop, age0_4, age5_9, age10_14, age15_19, age20_24, age25_29, age30_34, age35_39, age40_44, age45_49, age50_54, age55_59, age60_64, age65_69, age70_74, age75up, emp_tot, indus, com_hotel, business, public, education, agri, student, univ, UO_Hi_Ed, pop_emp_employed]\n",
       "Index: []"
      ]
     },
     "execution_count": 55,
     "metadata": {},
     "output_type": "execute_result"
    }
   ],
   "source": [
    "taz.loc[taz['TAZ']<=0]"
   ]
  },
  {
   "cell_type": "code",
   "execution_count": 56,
   "id": "8a0fac2d",
   "metadata": {},
   "outputs": [
    {
     "data": {
      "text/plain": [
       "array([0, 1], dtype=int64)"
      ]
     },
     "execution_count": 56,
     "metadata": {},
     "output_type": "execute_result"
    }
   ],
   "source": [
    "taz.yosh.unique()"
   ]
  },
  {
   "cell_type": "code",
   "execution_count": 57,
   "id": "18983b7a",
   "metadata": {},
   "outputs": [
    {
     "data": {
      "text/plain": [
       "array([1., 0.])"
      ]
     },
     "execution_count": 57,
     "metadata": {},
     "output_type": "execute_result"
    }
   ],
   "source": [
    "taz.in_jerusalem_metropolin.unique()"
   ]
  },
  {
   "cell_type": "code",
   "execution_count": 58,
   "id": "bdea01e1",
   "metadata": {},
   "outputs": [
    {
     "data": {
      "text/plain": [
       "array([1, 0], dtype=int64)"
      ]
     },
     "execution_count": 58,
     "metadata": {},
     "output_type": "execute_result"
    }
   ],
   "source": [
    "taz.jerusalem_city.unique()"
   ]
  },
  {
   "cell_type": "code",
   "execution_count": 59,
   "id": "dce32672",
   "metadata": {},
   "outputs": [
    {
     "data": {
      "text/plain": [
       "array(['U_Orthodox', 'arabs_behined_seperation_wall', 'Arab', 'Jewish',\n",
       "       'Palestinian'], dtype=object)"
      ]
     },
     "execution_count": 59,
     "metadata": {},
     "output_type": "execute_result"
    }
   ],
   "source": [
    "taz.sector.unique()"
   ]
  },
  {
   "cell_type": "code",
   "execution_count": 60,
   "id": "96a36660",
   "metadata": {},
   "outputs": [],
   "source": [
    "col=['hh_total',\n",
    "'pop',\n",
    "'age0_4',\n",
    "'age5_9',\n",
    "'age10_14',\n",
    "'age15_19',\n",
    "'age20_24',\n",
    "'age25_29',\n",
    "'age30_34',\n",
    "'age35_39',\n",
    "'age40_44',\n",
    "'age45_49',\n",
    "'age50_54',\n",
    "'age55_59',\n",
    "'age60_64',\n",
    "'age65_69',\n",
    "'age70_74',\n",
    "'age75up',\n",
    "'emp_tot',\n",
    "'indus',\n",
    "'com_hotel',\n",
    "'business',\n",
    "'public',\n",
    "'education',\n",
    "'agri',\n",
    "'student',\n",
    "'univ',\n",
    "'UO_Hi_Ed',\n",
    "'pop_emp_employed']"
   ]
  },
  {
   "cell_type": "code",
   "execution_count": 61,
   "id": "eb46ecea",
   "metadata": {
    "scrolled": true
   },
   "outputs": [],
   "source": [
    "taz_to_check=[]\n",
    "for i in col:\n",
    "    taz_to_check=taz_to_check+list(taz.loc[taz['{}'.format(i)]<0]['TAZ'])"
   ]
  },
  {
   "cell_type": "code",
   "execution_count": 62,
   "id": "971c496d",
   "metadata": {
    "scrolled": true
   },
   "outputs": [
    {
     "data": {
      "text/plain": [
       "[]"
      ]
     },
     "execution_count": 62,
     "metadata": {},
     "output_type": "execute_result"
    }
   ],
   "source": [
    "taz_to_check"
   ]
  },
  {
   "cell_type": "code",
   "execution_count": 63,
   "id": "2dd9793f",
   "metadata": {
    "scrolled": false
   },
   "outputs": [
    {
     "data": {
      "text/html": [
       "<div>\n",
       "<style scoped>\n",
       "    .dataframe tbody tr th:only-of-type {\n",
       "        vertical-align: middle;\n",
       "    }\n",
       "\n",
       "    .dataframe tbody tr th {\n",
       "        vertical-align: top;\n",
       "    }\n",
       "\n",
       "    .dataframe thead th {\n",
       "        text-align: right;\n",
       "    }\n",
       "</style>\n",
       "<table border=\"1\" class=\"dataframe\">\n",
       "  <thead>\n",
       "    <tr style=\"text-align: right;\">\n",
       "      <th></th>\n",
       "      <th>TAZ</th>\n",
       "      <th>yosh</th>\n",
       "      <th>in_jerusalem_metropolin</th>\n",
       "      <th>jerusalem_city</th>\n",
       "      <th>sector</th>\n",
       "      <th>hh_total</th>\n",
       "      <th>pop</th>\n",
       "      <th>age0_4</th>\n",
       "      <th>age5_9</th>\n",
       "      <th>age10_14</th>\n",
       "      <th>age15_19</th>\n",
       "      <th>age20_24</th>\n",
       "      <th>age25_29</th>\n",
       "      <th>age30_34</th>\n",
       "      <th>age35_39</th>\n",
       "      <th>age40_44</th>\n",
       "      <th>age45_49</th>\n",
       "      <th>age50_54</th>\n",
       "      <th>age55_59</th>\n",
       "      <th>age60_64</th>\n",
       "      <th>age65_69</th>\n",
       "      <th>age70_74</th>\n",
       "      <th>age75up</th>\n",
       "      <th>emp_tot</th>\n",
       "      <th>indus</th>\n",
       "      <th>com_hotel</th>\n",
       "      <th>business</th>\n",
       "      <th>public</th>\n",
       "      <th>education</th>\n",
       "      <th>agri</th>\n",
       "      <th>student</th>\n",
       "      <th>univ</th>\n",
       "      <th>UO_Hi_Ed</th>\n",
       "      <th>pop_emp_employed</th>\n",
       "    </tr>\n",
       "  </thead>\n",
       "  <tbody>\n",
       "  </tbody>\n",
       "</table>\n",
       "</div>"
      ],
      "text/plain": [
       "Empty DataFrame\n",
       "Columns: [TAZ, yosh, in_jerusalem_metropolin, jerusalem_city, sector, hh_total, pop, age0_4, age5_9, age10_14, age15_19, age20_24, age25_29, age30_34, age35_39, age40_44, age45_49, age50_54, age55_59, age60_64, age65_69, age70_74, age75up, emp_tot, indus, com_hotel, business, public, education, agri, student, univ, UO_Hi_Ed, pop_emp_employed]\n",
       "Index: []"
      ]
     },
     "execution_count": 63,
     "metadata": {},
     "output_type": "execute_result"
    }
   ],
   "source": [
    "taz.loc[~(taz['hh_total']<=taz['pop'])]"
   ]
  },
  {
   "cell_type": "code",
   "execution_count": 64,
   "id": "6478d5a4",
   "metadata": {
    "scrolled": true
   },
   "outputs": [
    {
     "data": {
      "text/html": [
       "<div>\n",
       "<style scoped>\n",
       "    .dataframe tbody tr th:only-of-type {\n",
       "        vertical-align: middle;\n",
       "    }\n",
       "\n",
       "    .dataframe tbody tr th {\n",
       "        vertical-align: top;\n",
       "    }\n",
       "\n",
       "    .dataframe thead th {\n",
       "        text-align: right;\n",
       "    }\n",
       "</style>\n",
       "<table border=\"1\" class=\"dataframe\">\n",
       "  <thead>\n",
       "    <tr style=\"text-align: right;\">\n",
       "      <th></th>\n",
       "      <th>TAZ</th>\n",
       "      <th>yosh</th>\n",
       "      <th>in_jerusalem_metropolin</th>\n",
       "      <th>jerusalem_city</th>\n",
       "      <th>sector</th>\n",
       "      <th>hh_total</th>\n",
       "      <th>pop</th>\n",
       "      <th>age0_4</th>\n",
       "      <th>age5_9</th>\n",
       "      <th>age10_14</th>\n",
       "      <th>age15_19</th>\n",
       "      <th>age20_24</th>\n",
       "      <th>age25_29</th>\n",
       "      <th>age30_34</th>\n",
       "      <th>age35_39</th>\n",
       "      <th>age40_44</th>\n",
       "      <th>age45_49</th>\n",
       "      <th>age50_54</th>\n",
       "      <th>age55_59</th>\n",
       "      <th>age60_64</th>\n",
       "      <th>age65_69</th>\n",
       "      <th>age70_74</th>\n",
       "      <th>age75up</th>\n",
       "      <th>emp_tot</th>\n",
       "      <th>indus</th>\n",
       "      <th>com_hotel</th>\n",
       "      <th>business</th>\n",
       "      <th>public</th>\n",
       "      <th>education</th>\n",
       "      <th>agri</th>\n",
       "      <th>student</th>\n",
       "      <th>univ</th>\n",
       "      <th>UO_Hi_Ed</th>\n",
       "      <th>pop_emp_employed</th>\n",
       "    </tr>\n",
       "  </thead>\n",
       "  <tbody>\n",
       "  </tbody>\n",
       "</table>\n",
       "</div>"
      ],
      "text/plain": [
       "Empty DataFrame\n",
       "Columns: [TAZ, yosh, in_jerusalem_metropolin, jerusalem_city, sector, hh_total, pop, age0_4, age5_9, age10_14, age15_19, age20_24, age25_29, age30_34, age35_39, age40_44, age45_49, age50_54, age55_59, age60_64, age65_69, age70_74, age75up, emp_tot, indus, com_hotel, business, public, education, agri, student, univ, UO_Hi_Ed, pop_emp_employed]\n",
       "Index: []"
      ]
     },
     "execution_count": 64,
     "metadata": {},
     "output_type": "execute_result"
    }
   ],
   "source": [
    "taz.loc[taz['sector']!=\"Palestinian\"].loc[taz['hh_total']>0].loc[taz['pop']<=0]"
   ]
  },
  {
   "cell_type": "code",
   "execution_count": 65,
   "id": "43c734e1",
   "metadata": {},
   "outputs": [],
   "source": [
    "col=['age0_4',\n",
    "'age5_9',\n",
    "'age10_14',\n",
    "'age15_19',\n",
    "'age20_24',\n",
    "'age25_29',\n",
    "'age30_34',\n",
    "'age35_39',\n",
    "'age40_44',\n",
    "'age45_49',\n",
    "'age50_54',\n",
    "'age55_59',\n",
    "'age60_64',\n",
    "'age65_69',\n",
    "'age70_74',\n",
    "'age75up',]\n",
    "\n",
    "taz['pop_check']=round(taz[col].sum(axis=1)-taz['pop'])"
   ]
  },
  {
   "cell_type": "code",
   "execution_count": 66,
   "id": "e9d56913",
   "metadata": {
    "scrolled": true
   },
   "outputs": [
    {
     "data": {
      "text/html": [
       "<div>\n",
       "<style scoped>\n",
       "    .dataframe tbody tr th:only-of-type {\n",
       "        vertical-align: middle;\n",
       "    }\n",
       "\n",
       "    .dataframe tbody tr th {\n",
       "        vertical-align: top;\n",
       "    }\n",
       "\n",
       "    .dataframe thead th {\n",
       "        text-align: right;\n",
       "    }\n",
       "</style>\n",
       "<table border=\"1\" class=\"dataframe\">\n",
       "  <thead>\n",
       "    <tr style=\"text-align: right;\">\n",
       "      <th></th>\n",
       "      <th>TAZ</th>\n",
       "      <th>yosh</th>\n",
       "      <th>in_jerusalem_metropolin</th>\n",
       "      <th>jerusalem_city</th>\n",
       "      <th>sector</th>\n",
       "      <th>hh_total</th>\n",
       "      <th>pop</th>\n",
       "      <th>age0_4</th>\n",
       "      <th>age5_9</th>\n",
       "      <th>age10_14</th>\n",
       "      <th>age15_19</th>\n",
       "      <th>age20_24</th>\n",
       "      <th>age25_29</th>\n",
       "      <th>age30_34</th>\n",
       "      <th>age35_39</th>\n",
       "      <th>age40_44</th>\n",
       "      <th>age45_49</th>\n",
       "      <th>age50_54</th>\n",
       "      <th>age55_59</th>\n",
       "      <th>age60_64</th>\n",
       "      <th>age65_69</th>\n",
       "      <th>age70_74</th>\n",
       "      <th>age75up</th>\n",
       "      <th>emp_tot</th>\n",
       "      <th>indus</th>\n",
       "      <th>com_hotel</th>\n",
       "      <th>business</th>\n",
       "      <th>public</th>\n",
       "      <th>education</th>\n",
       "      <th>agri</th>\n",
       "      <th>student</th>\n",
       "      <th>univ</th>\n",
       "      <th>UO_Hi_Ed</th>\n",
       "      <th>pop_emp_employed</th>\n",
       "      <th>pop_check</th>\n",
       "    </tr>\n",
       "  </thead>\n",
       "  <tbody>\n",
       "  </tbody>\n",
       "</table>\n",
       "</div>"
      ],
      "text/plain": [
       "Empty DataFrame\n",
       "Columns: [TAZ, yosh, in_jerusalem_metropolin, jerusalem_city, sector, hh_total, pop, age0_4, age5_9, age10_14, age15_19, age20_24, age25_29, age30_34, age35_39, age40_44, age45_49, age50_54, age55_59, age60_64, age65_69, age70_74, age75up, emp_tot, indus, com_hotel, business, public, education, agri, student, univ, UO_Hi_Ed, pop_emp_employed, pop_check]\n",
       "Index: []"
      ]
     },
     "execution_count": 66,
     "metadata": {},
     "output_type": "execute_result"
    }
   ],
   "source": [
    "taz.loc[taz['sector']!=\"Palestinian\"].loc[taz['pop_check']!=0].query('TAZ==511')#.to_excel('delet.xlsx')#[col].sum(axis=1)"
   ]
  },
  {
   "cell_type": "code",
   "execution_count": 67,
   "id": "20bbf335",
   "metadata": {
    "scrolled": true
   },
   "outputs": [
    {
     "data": {
      "text/plain": [
       "0"
      ]
     },
     "execution_count": 67,
     "metadata": {},
     "output_type": "execute_result"
    }
   ],
   "source": [
    "len(taz.loc[taz['sector']!=\"Palestinian\"].loc[taz['pop_check']!=0])"
   ]
  },
  {
   "cell_type": "code",
   "execution_count": 68,
   "id": "59887389",
   "metadata": {
    "scrolled": true
   },
   "outputs": [
    {
     "data": {
      "text/html": [
       "<div>\n",
       "<style scoped>\n",
       "    .dataframe tbody tr th:only-of-type {\n",
       "        vertical-align: middle;\n",
       "    }\n",
       "\n",
       "    .dataframe tbody tr th {\n",
       "        vertical-align: top;\n",
       "    }\n",
       "\n",
       "    .dataframe thead th {\n",
       "        text-align: right;\n",
       "    }\n",
       "</style>\n",
       "<table border=\"1\" class=\"dataframe\">\n",
       "  <thead>\n",
       "    <tr style=\"text-align: right;\">\n",
       "      <th></th>\n",
       "      <th>TAZ</th>\n",
       "      <th>yosh</th>\n",
       "      <th>in_jerusalem_metropolin</th>\n",
       "      <th>jerusalem_city</th>\n",
       "      <th>sector</th>\n",
       "      <th>hh_total</th>\n",
       "      <th>pop</th>\n",
       "      <th>age0_4</th>\n",
       "      <th>age5_9</th>\n",
       "      <th>age10_14</th>\n",
       "      <th>age15_19</th>\n",
       "      <th>age20_24</th>\n",
       "      <th>age25_29</th>\n",
       "      <th>age30_34</th>\n",
       "      <th>age35_39</th>\n",
       "      <th>age40_44</th>\n",
       "      <th>age45_49</th>\n",
       "      <th>age50_54</th>\n",
       "      <th>age55_59</th>\n",
       "      <th>age60_64</th>\n",
       "      <th>age65_69</th>\n",
       "      <th>age70_74</th>\n",
       "      <th>age75up</th>\n",
       "      <th>emp_tot</th>\n",
       "      <th>indus</th>\n",
       "      <th>com_hotel</th>\n",
       "      <th>business</th>\n",
       "      <th>public</th>\n",
       "      <th>education</th>\n",
       "      <th>agri</th>\n",
       "      <th>student</th>\n",
       "      <th>univ</th>\n",
       "      <th>UO_Hi_Ed</th>\n",
       "      <th>pop_emp_employed</th>\n",
       "      <th>pop_check</th>\n",
       "    </tr>\n",
       "  </thead>\n",
       "  <tbody>\n",
       "  </tbody>\n",
       "</table>\n",
       "</div>"
      ],
      "text/plain": [
       "Empty DataFrame\n",
       "Columns: [TAZ, yosh, in_jerusalem_metropolin, jerusalem_city, sector, hh_total, pop, age0_4, age5_9, age10_14, age15_19, age20_24, age25_29, age30_34, age35_39, age40_44, age45_49, age50_54, age55_59, age60_64, age65_69, age70_74, age75up, emp_tot, indus, com_hotel, business, public, education, agri, student, univ, UO_Hi_Ed, pop_emp_employed, pop_check]\n",
       "Index: []"
      ]
     },
     "execution_count": 68,
     "metadata": {},
     "output_type": "execute_result"
    }
   ],
   "source": [
    "taz.loc[taz['sector']!=\"Palestinian\"].loc[taz['pop']>0].loc[taz['hh_total']<=0]"
   ]
  },
  {
   "cell_type": "code",
   "execution_count": 69,
   "id": "2363e35a",
   "metadata": {},
   "outputs": [],
   "source": [
    "col=[\n",
    "'age0_4',\n",
    "'age5_9',\n",
    "'age10_14',\n",
    "'age15_19',\n",
    "'age20_24',\n",
    "'age25_29',\n",
    "'age30_34',\n",
    "'age35_39',\n",
    "'age40_44',\n",
    "'age45_49',\n",
    "'age50_54',\n",
    "'age55_59',\n",
    "'age60_64',\n",
    "'age65_69',\n",
    "'age70_74',\n",
    "'age75up']"
   ]
  },
  {
   "cell_type": "code",
   "execution_count": 70,
   "id": "db72a666",
   "metadata": {
    "scrolled": true
   },
   "outputs": [],
   "source": [
    "taz_to_check=[]\n",
    "for i in col:\n",
    "    taz_to_check=taz_to_check+list(taz.loc[taz['{}'.format(i)]>0].loc[taz['pop']<=0]['TAZ'])\n",
    "    taz_to_check=taz_to_check+list(taz.loc[taz['{}'.format(i)]>0].loc[taz['hh_total']<=0]['TAZ'])"
   ]
  },
  {
   "cell_type": "code",
   "execution_count": 71,
   "id": "35e2ce5b",
   "metadata": {
    "scrolled": true
   },
   "outputs": [
    {
     "data": {
      "text/plain": [
       "[]"
      ]
     },
     "execution_count": 71,
     "metadata": {},
     "output_type": "execute_result"
    }
   ],
   "source": [
    "taz_to_check"
   ]
  },
  {
   "cell_type": "code",
   "execution_count": 72,
   "id": "942205c6",
   "metadata": {},
   "outputs": [],
   "source": [
    "col=['indus',\n",
    "'com_hotel',\n",
    "'business',\n",
    "'public',\n",
    "'education',\n",
    "'agri']"
   ]
  },
  {
   "cell_type": "code",
   "execution_count": 73,
   "id": "0feb931d",
   "metadata": {},
   "outputs": [],
   "source": [
    "taz['emp_check']=round(taz[col].sum(axis=1)-taz['emp_tot'])"
   ]
  },
  {
   "cell_type": "code",
   "execution_count": 74,
   "id": "b833bf57",
   "metadata": {
    "scrolled": true
   },
   "outputs": [
    {
     "data": {
      "text/html": [
       "<div>\n",
       "<style scoped>\n",
       "    .dataframe tbody tr th:only-of-type {\n",
       "        vertical-align: middle;\n",
       "    }\n",
       "\n",
       "    .dataframe tbody tr th {\n",
       "        vertical-align: top;\n",
       "    }\n",
       "\n",
       "    .dataframe thead th {\n",
       "        text-align: right;\n",
       "    }\n",
       "</style>\n",
       "<table border=\"1\" class=\"dataframe\">\n",
       "  <thead>\n",
       "    <tr style=\"text-align: right;\">\n",
       "      <th></th>\n",
       "      <th>TAZ</th>\n",
       "      <th>yosh</th>\n",
       "      <th>in_jerusalem_metropolin</th>\n",
       "      <th>jerusalem_city</th>\n",
       "      <th>sector</th>\n",
       "      <th>hh_total</th>\n",
       "      <th>pop</th>\n",
       "      <th>age0_4</th>\n",
       "      <th>age5_9</th>\n",
       "      <th>age10_14</th>\n",
       "      <th>age15_19</th>\n",
       "      <th>age20_24</th>\n",
       "      <th>age25_29</th>\n",
       "      <th>age30_34</th>\n",
       "      <th>age35_39</th>\n",
       "      <th>age40_44</th>\n",
       "      <th>age45_49</th>\n",
       "      <th>age50_54</th>\n",
       "      <th>age55_59</th>\n",
       "      <th>age60_64</th>\n",
       "      <th>age65_69</th>\n",
       "      <th>age70_74</th>\n",
       "      <th>age75up</th>\n",
       "      <th>emp_tot</th>\n",
       "      <th>indus</th>\n",
       "      <th>com_hotel</th>\n",
       "      <th>business</th>\n",
       "      <th>public</th>\n",
       "      <th>education</th>\n",
       "      <th>agri</th>\n",
       "      <th>student</th>\n",
       "      <th>univ</th>\n",
       "      <th>UO_Hi_Ed</th>\n",
       "      <th>pop_emp_employed</th>\n",
       "      <th>pop_check</th>\n",
       "      <th>emp_check</th>\n",
       "    </tr>\n",
       "  </thead>\n",
       "  <tbody>\n",
       "  </tbody>\n",
       "</table>\n",
       "</div>"
      ],
      "text/plain": [
       "Empty DataFrame\n",
       "Columns: [TAZ, yosh, in_jerusalem_metropolin, jerusalem_city, sector, hh_total, pop, age0_4, age5_9, age10_14, age15_19, age20_24, age25_29, age30_34, age35_39, age40_44, age45_49, age50_54, age55_59, age60_64, age65_69, age70_74, age75up, emp_tot, indus, com_hotel, business, public, education, agri, student, univ, UO_Hi_Ed, pop_emp_employed, pop_check, emp_check]\n",
       "Index: []"
      ]
     },
     "execution_count": 74,
     "metadata": {},
     "output_type": "execute_result"
    }
   ],
   "source": [
    "taz.loc[taz['sector']!=\"Palestinian\"].loc[taz['emp_check']!=0]"
   ]
  },
  {
   "cell_type": "code",
   "execution_count": 75,
   "id": "7e37c96a",
   "metadata": {
    "scrolled": true
   },
   "outputs": [],
   "source": [
    "taz_to_check=[]\n",
    "for i in col:\n",
    "    taz_to_check=taz_to_check+list(taz.loc[taz['{}'.format(i)]>0].loc[taz['emp_tot']<=0]['TAZ'])"
   ]
  },
  {
   "cell_type": "code",
   "execution_count": 76,
   "id": "81e09b2e",
   "metadata": {
    "scrolled": true
   },
   "outputs": [
    {
     "data": {
      "text/plain": [
       "[]"
      ]
     },
     "execution_count": 76,
     "metadata": {},
     "output_type": "execute_result"
    }
   ],
   "source": [
    "taz_to_check"
   ]
  },
  {
   "cell_type": "code",
   "execution_count": 77,
   "id": "e4a46880",
   "metadata": {
    "scrolled": false
   },
   "outputs": [
    {
     "data": {
      "text/html": [
       "<div>\n",
       "<style scoped>\n",
       "    .dataframe tbody tr th:only-of-type {\n",
       "        vertical-align: middle;\n",
       "    }\n",
       "\n",
       "    .dataframe tbody tr th {\n",
       "        vertical-align: top;\n",
       "    }\n",
       "\n",
       "    .dataframe thead th {\n",
       "        text-align: right;\n",
       "    }\n",
       "</style>\n",
       "<table border=\"1\" class=\"dataframe\">\n",
       "  <thead>\n",
       "    <tr style=\"text-align: right;\">\n",
       "      <th></th>\n",
       "      <th>TAZ</th>\n",
       "      <th>yosh</th>\n",
       "      <th>in_jerusalem_metropolin</th>\n",
       "      <th>jerusalem_city</th>\n",
       "      <th>sector</th>\n",
       "      <th>hh_total</th>\n",
       "      <th>pop</th>\n",
       "      <th>age0_4</th>\n",
       "      <th>age5_9</th>\n",
       "      <th>age10_14</th>\n",
       "      <th>age15_19</th>\n",
       "      <th>age20_24</th>\n",
       "      <th>age25_29</th>\n",
       "      <th>age30_34</th>\n",
       "      <th>age35_39</th>\n",
       "      <th>age40_44</th>\n",
       "      <th>age45_49</th>\n",
       "      <th>age50_54</th>\n",
       "      <th>age55_59</th>\n",
       "      <th>age60_64</th>\n",
       "      <th>age65_69</th>\n",
       "      <th>age70_74</th>\n",
       "      <th>age75up</th>\n",
       "      <th>emp_tot</th>\n",
       "      <th>indus</th>\n",
       "      <th>com_hotel</th>\n",
       "      <th>business</th>\n",
       "      <th>public</th>\n",
       "      <th>education</th>\n",
       "      <th>agri</th>\n",
       "      <th>student</th>\n",
       "      <th>univ</th>\n",
       "      <th>UO_Hi_Ed</th>\n",
       "      <th>pop_emp_employed</th>\n",
       "      <th>pop_check</th>\n",
       "      <th>emp_check</th>\n",
       "    </tr>\n",
       "  </thead>\n",
       "  <tbody>\n",
       "  </tbody>\n",
       "</table>\n",
       "</div>"
      ],
      "text/plain": [
       "Empty DataFrame\n",
       "Columns: [TAZ, yosh, in_jerusalem_metropolin, jerusalem_city, sector, hh_total, pop, age0_4, age5_9, age10_14, age15_19, age20_24, age25_29, age30_34, age35_39, age40_44, age45_49, age50_54, age55_59, age60_64, age65_69, age70_74, age75up, emp_tot, indus, com_hotel, business, public, education, agri, student, univ, UO_Hi_Ed, pop_emp_employed, pop_check, emp_check]\n",
       "Index: []"
      ]
     },
     "execution_count": 77,
     "metadata": {},
     "output_type": "execute_result"
    }
   ],
   "source": [
    "taz.loc[taz['sector']!=\"Palestinian\"].loc[taz['pop_emp_employed']>0].loc[taz['pop']<=0]"
   ]
  }
 ],
 "metadata": {
  "kernelspec": {
   "display_name": "Python 3 (ipykernel)",
   "language": "python",
   "name": "python3"
  },
  "language_info": {
   "codemirror_mode": {
    "name": "ipython",
    "version": 3
   },
   "file_extension": ".py",
   "mimetype": "text/x-python",
   "name": "python",
   "nbconvert_exporter": "python",
   "pygments_lexer": "ipython3",
   "version": "3.11.5"
  },
  "toc": {
   "base_numbering": 1,
   "nav_menu": {},
   "number_sections": true,
   "sideBar": true,
   "skip_h1_title": false,
   "title_cell": "Table of Contents",
   "title_sidebar": "Contents",
   "toc_cell": false,
   "toc_position": {
    "height": "calc(100% - 180px)",
    "left": "10px",
    "top": "150px",
    "width": "347.297px"
   },
   "toc_section_display": true,
   "toc_window_display": true
  }
 },
 "nbformat": 4,
 "nbformat_minor": 5
}
