{
 "cells": [
  {
   "cell_type": "markdown",
   "id": "0e7214ba",
   "metadata": {
    "heading_collapsed": true
   },
   "source": [
    "## קוד מבוא"
   ]
  },
  {
   "cell_type": "markdown",
   "id": "9b643559",
   "metadata": {},
   "source": [
    "### ספריות"
   ]
  },
  {
   "cell_type": "code",
   "execution_count": 1,
   "id": "f8405d52",
   "metadata": {
    "hidden": true
   },
   "outputs": [],
   "source": [
    "import os\n",
    "import sys\n",
    "import pandas as pd\n",
    "import geopandas as gpd"
   ]
  },
  {
   "cell_type": "code",
   "execution_count": 2,
   "id": "2dacbc13",
   "metadata": {
    "hidden": true
   },
   "outputs": [],
   "source": [
    "pd.set_option('display.max_rows', None)\n",
    "pd.set_option('display.max_columns', None)"
   ]
  },
  {
   "cell_type": "markdown",
   "id": "1bd8c584",
   "metadata": {},
   "source": [
    "### העלאת משתנים להרצת הקוד"
   ]
  },
  {
   "cell_type": "code",
   "execution_count": 3,
   "id": "43cbd034",
   "metadata": {},
   "outputs": [],
   "source": [
    "path = os.getcwd()\n",
    "\n",
    "software_root_folder = os.path.dirname(path)\n",
    "\n",
    "software_folder_location = r'{}\\current'.format(software_root_folder)\n",
    "\n",
    "df_inputs_outputs = pd.read_excel(r'{}\\inputs_outputs.xlsx'.format(software_folder_location))\n",
    "\n",
    "forecast_version_folder_location=df_inputs_outputs['location'][1]\n",
    "\n",
    "sys.path.append(software_root_folder)"
   ]
  },
  {
   "cell_type": "markdown",
   "id": "9624443e",
   "metadata": {
    "heading_collapsed": true
   },
   "source": [
    "## פונקציות"
   ]
  },
  {
   "cell_type": "markdown",
   "id": "45f9a136",
   "metadata": {},
   "source": [
    "### פונקציות גלובליות"
   ]
  },
  {
   "cell_type": "code",
   "execution_count": 4,
   "id": "1fd37569",
   "metadata": {},
   "outputs": [],
   "source": [
    "from global_functions import up_load_shp, up_load_df, make_point, up_load_gdb"
   ]
  },
  {
   "cell_type": "markdown",
   "id": "3ab3aa08",
   "metadata": {},
   "source": [
    "## "
   ]
  },
  {
   "cell_type": "markdown",
   "id": "a9907b86",
   "metadata": {},
   "source": [
    "### העלאת מידע"
   ]
  },
  {
   "cell_type": "code",
   "execution_count": 5,
   "id": "aba49f13",
   "metadata": {},
   "outputs": [],
   "source": [
    "stat=up_load_shp(r'{}\\background_files\\stat_11_cbs_2020_with_jtmt_fix.shp'.format(software_folder_location))"
   ]
  },
  {
   "cell_type": "code",
   "execution_count": 6,
   "id": "47ba101e",
   "metadata": {},
   "outputs": [],
   "source": [
    "stat_in_taz=stat.loc[stat['type_stat']=='in_taz']\n",
    "\n",
    "stat=stat.loc[stat['type_stat']!='in_taz']"
   ]
  },
  {
   "cell_type": "code",
   "execution_count": 7,
   "id": "c83d99ce",
   "metadata": {},
   "outputs": [],
   "source": [
    "taz=up_load_shp(df_inputs_outputs.loc[4]['location'])"
   ]
  },
  {
   "cell_type": "code",
   "execution_count": 8,
   "id": "7596adbc",
   "metadata": {},
   "outputs": [],
   "source": [
    "path=r'{}\\background_files\\BNTL_2022.gdb'.format(software_folder_location)"
   ]
  },
  {
   "cell_type": "code",
   "execution_count": 9,
   "id": "cfd9906f",
   "metadata": {},
   "outputs": [],
   "source": [
    "bld=up_load_gdb(path,'BLDG_Clip')\n",
    "\n",
    "bld_poi=up_load_gdb(path,'POI_BLDG_Clip')"
   ]
  },
  {
   "cell_type": "code",
   "execution_count": 10,
   "id": "63f1fce2",
   "metadata": {},
   "outputs": [],
   "source": [
    "taz_not_relevant=up_load_df(r'{}\\background_files'.format(software_folder_location),'taz_not_relevant_for_pop_2020')"
   ]
  },
  {
   "cell_type": "code",
   "execution_count": 11,
   "id": "f7ecdb8a",
   "metadata": {},
   "outputs": [],
   "source": [
    "taz_not_relevant=list(taz_not_relevant.Taz_num)"
   ]
  },
  {
   "cell_type": "markdown",
   "id": "0e6478a9",
   "metadata": {},
   "source": [
    "### שכבת בניינים"
   ]
  },
  {
   "cell_type": "code",
   "execution_count": 12,
   "id": "4088e6bb",
   "metadata": {},
   "outputs": [
    {
     "name": "stderr",
     "output_type": "stream",
     "text": [
      "C:\\Users\\dpere\\AppData\\Local\\Temp\\ipykernel_35800\\3886493543.py:15: FutureWarning: Setting an item of incompatible dtype is deprecated and will raise in a future error of pandas. Value '[ 31.3225      20.58816099  23.03316663 ...  79.56155771  86.00171698\n",
      " 411.10230836]' has dtype incompatible with int32, please explicitly cast to a compatible dtype first.\n",
      "  bld_point.loc[(bld_point['HEIGHT']-ceiling_height)<=0,'bld_m3']=bld_point['bld_area']\n"
     ]
    }
   ],
   "source": [
    "bld=bld.merge(bld_poi[[ 'FCODE', 'USG_GROUP', 'USG_CODE','USG_SP_NM_LTN','BLDG_ID']],how='left',left_on='UNIQ_ID',right_on='BLDG_ID')\n",
    "\n",
    "bld=bld.loc[(bld['FCODE_y'].isna())|(bld['USG_CODE']==7600)] #זה קוד לבניינים מעורב שימושים אני מניח שעדיף לשים בניינים מיותרים מאשר הפוך\n",
    "\n",
    "bld['bld_area']=bld.area\n",
    "\n",
    "bld_point=make_point(bld).fillna(0)\n",
    "\n",
    "bld_point.loc[bld_point['HEIGHT']<=0,'HEIGHT']=bld_point['HI_PNT_Z']-bld_point['HT_LAND']\n",
    "\n",
    "ceiling_height=3\n",
    "\n",
    "bld_point['bld_m3']=(bld_point['HEIGHT']/ceiling_height).astype(int)*bld_point['bld_area'].astype(int)\n",
    "\n",
    "bld_point.loc[(bld_point['HEIGHT']-ceiling_height)<=0,'bld_m3']=bld_point['bld_area']"
   ]
  },
  {
   "cell_type": "markdown",
   "id": "264fc0c2",
   "metadata": {},
   "source": [
    "### הורדת מבנים לא רלוונטים"
   ]
  },
  {
   "cell_type": "code",
   "execution_count": 13,
   "id": "385b6f5c",
   "metadata": {},
   "outputs": [],
   "source": [
    "bld_point=gpd.sjoin(bld_point,taz.loc[(~taz['Taz_num'].isin(taz_not_relevant))&(taz['Palestinia']==0)])"
   ]
  },
  {
   "cell_type": "code",
   "execution_count": 14,
   "id": "8daddcdf",
   "metadata": {},
   "outputs": [],
   "source": [
    "col=['bld_m3','centroid','Taz_num']\n",
    "\n",
    "bld_point=bld_point[col]\n",
    "\n",
    "bld_point=gpd.sjoin(bld_point,stat[['STAT','geometry']])\n",
    "\n",
    "bld_point['bld_m3']=bld_point['bld_m3'].astype(int)"
   ]
  },
  {
   "cell_type": "markdown",
   "id": "3df73395",
   "metadata": {},
   "source": [
    "### יצירת מאה אחוז לכל א\"ס"
   ]
  },
  {
   "cell_type": "code",
   "execution_count": 15,
   "id": "f60637f2",
   "metadata": {},
   "outputs": [
    {
     "name": "stderr",
     "output_type": "stream",
     "text": [
      "C:\\Users\\dpere\\AppData\\Local\\Temp\\ipykernel_35800\\3533048335.py:1: FutureWarning: The provided callable <built-in function sum> is currently using DataFrameGroupBy.sum. In a future version of pandas, the provided callable will be used directly. To keep current behavior pass the string \"sum\" instead.\n",
      "  sum_bld_m3=pd.pivot_table(bld_point.drop(columns='centroid'),index=['Taz_num','STAT'],aggfunc=sum)[['bld_m3']].reset_index()\n"
     ]
    }
   ],
   "source": [
    "sum_bld_m3=pd.pivot_table(bld_point.drop(columns='centroid'),index=['Taz_num','STAT'],aggfunc=sum)[['bld_m3']].reset_index()"
   ]
  },
  {
   "cell_type": "code",
   "execution_count": 16,
   "id": "9daab28c",
   "metadata": {},
   "outputs": [
    {
     "name": "stderr",
     "output_type": "stream",
     "text": [
      "C:\\Users\\dpere\\AppData\\Local\\Temp\\ipykernel_35800\\3687277795.py:1: FutureWarning: The provided callable <built-in function sum> is currently using DataFrameGroupBy.sum. In a future version of pandas, the provided callable will be used directly. To keep current behavior pass the string \"sum\" instead.\n",
      "  sum_bld_m3_by_stat=sum_bld_m3.pivot_table(index='STAT',aggfunc=sum)[['bld_m3']].rename(columns={'bld_m3':'bld_m3_stat'}).reset_index()\n"
     ]
    }
   ],
   "source": [
    "sum_bld_m3_by_stat=sum_bld_m3.pivot_table(index='STAT',aggfunc=sum)[['bld_m3']].rename(columns={'bld_m3':'bld_m3_stat'}).reset_index()"
   ]
  },
  {
   "cell_type": "code",
   "execution_count": 17,
   "id": "eb9ae33a",
   "metadata": {},
   "outputs": [],
   "source": [
    "sum_bld_m3=sum_bld_m3.merge(sum_bld_m3_by_stat,on='STAT')\n",
    "\n",
    "sum_bld_m3['precent_of_stat_data']=sum_bld_m3['bld_m3']/sum_bld_m3['bld_m3_stat']\n",
    "\n",
    "sum_bld_m3=sum_bld_m3.loc[(sum_bld_m3['precent_of_stat_data']>0.01)|(sum_bld_m3['Taz_num']==2001)]"
   ]
  },
  {
   "cell_type": "code",
   "execution_count": 18,
   "id": "2c725fc7",
   "metadata": {},
   "outputs": [
    {
     "name": "stderr",
     "output_type": "stream",
     "text": [
      "C:\\Users\\dpere\\AppData\\Local\\Temp\\ipykernel_35800\\573162633.py:1: FutureWarning: The provided callable <built-in function sum> is currently using DataFrameGroupBy.sum. In a future version of pandas, the provided callable will be used directly. To keep current behavior pass the string \"sum\" instead.\n",
      "  sum_bld_m3_by_stat=sum_bld_m3.pivot_table(index='STAT',aggfunc=sum)[['bld_m3']].rename(columns={'bld_m3':'bld_m3_stat_new'}).reset_index()\n"
     ]
    }
   ],
   "source": [
    "sum_bld_m3_by_stat=sum_bld_m3.pivot_table(index='STAT',aggfunc=sum)[['bld_m3']].rename(columns={'bld_m3':'bld_m3_stat_new'}).reset_index()"
   ]
  },
  {
   "cell_type": "code",
   "execution_count": 19,
   "id": "d3bad2af",
   "metadata": {},
   "outputs": [],
   "source": [
    "sum_bld_m3=sum_bld_m3.merge(sum_bld_m3_by_stat,on='STAT')\n",
    "\n",
    "sum_bld_m3['precent_of_stat_data']=sum_bld_m3['bld_m3']/sum_bld_m3['bld_m3_stat_new']"
   ]
  },
  {
   "cell_type": "markdown",
   "id": "5521276d",
   "metadata": {},
   "source": [
    "### א\"ס ללא פוליגון\n",
    "\n"
   ]
  },
  {
   "cell_type": "code",
   "execution_count": 20,
   "id": "1e4578f9",
   "metadata": {},
   "outputs": [],
   "source": [
    "stat_in_taz=make_point(stat_in_taz).sjoin(taz[['Taz_num','geometry']])[['STAT','Taz_num']]\n",
    "\n",
    "stat_in_taz['precent_of_stat_data']=1"
   ]
  },
  {
   "cell_type": "markdown",
   "id": "39210892",
   "metadata": {},
   "source": [
    "### איחוד לטבלה אחת\n",
    "\n"
   ]
  },
  {
   "cell_type": "code",
   "execution_count": 21,
   "id": "e43f398d",
   "metadata": {},
   "outputs": [],
   "source": [
    "col=['Taz_num', 'STAT',  'precent_of_stat_data']\n",
    "\n",
    "precent_of_stat_data=pd.concat([sum_bld_m3[col], stat_in_taz])"
   ]
  },
  {
   "cell_type": "code",
   "execution_count": 22,
   "id": "fef5a970",
   "metadata": {},
   "outputs": [],
   "source": [
    "precent_of_stat_data.to_excel(r'{}\\Intermediates\\precent_of_stat_data.xlsx'.format(software_folder_location),index=False)"
   ]
  },
  {
   "cell_type": "markdown",
   "id": "c14e12da",
   "metadata": {},
   "source": [
    "###  יצירת מידע ברמת אזור תנועה"
   ]
  },
  {
   "cell_type": "code",
   "execution_count": 23,
   "id": "1a59c059",
   "metadata": {},
   "outputs": [],
   "source": [
    "stat=up_load_df(r'{}\\Intermediates'.format(software_folder_location),'stat_cbs_jtmt_2020')"
   ]
  },
  {
   "cell_type": "code",
   "execution_count": 24,
   "id": "64152620",
   "metadata": {
    "code_folding": []
   },
   "outputs": [],
   "source": [
    "col=['pop_0',\n",
    " 'pop_5',\n",
    " 'pop_10',\n",
    " 'pop_15',\n",
    " 'pop_20',\n",
    " 'pop_25',\n",
    " 'pop_30',\n",
    " 'pop_35',\n",
    " 'pop_40',\n",
    " 'pop_45',\n",
    " 'pop_50',\n",
    " 'pop_55',\n",
    " 'pop_60',\n",
    " 'pop_65',\n",
    " 'pop_70',\n",
    " 'pop_75up']\n",
    "\n",
    "stat[col]=stat[col].multiply(stat['pop'], axis=\"index\")\n",
    "\n",
    "stat['pop_hardi']=stat['pop']*(stat['pre_hardi']/100)"
   ]
  },
  {
   "cell_type": "code",
   "execution_count": 25,
   "id": "ef039678",
   "metadata": {},
   "outputs": [],
   "source": [
    "taz_stat_conver=precent_of_stat_data"
   ]
  },
  {
   "cell_type": "code",
   "execution_count": 26,
   "id": "af1147b3",
   "metadata": {
    "code_folding": []
   },
   "outputs": [],
   "source": [
    "col=['STAT',\n",
    " 'aprt_20',\n",
    " 'pop_0',\n",
    " 'pop_5',\n",
    " 'pop_10',\n",
    " 'pop_15',\n",
    " 'pop_20',\n",
    " 'pop_25',\n",
    " 'pop_30',\n",
    " 'pop_35',\n",
    " 'pop_40',\n",
    " 'pop_45',\n",
    " 'pop_50',\n",
    " 'pop_55',\n",
    " 'pop_60',\n",
    " 'pop_65',\n",
    " 'pop_70',\n",
    " 'pop_75up',\n",
    " 'pop',\n",
    " 'pop_hardi']"
   ]
  },
  {
   "cell_type": "markdown",
   "id": "49c52c8e",
   "metadata": {},
   "source": [
    "בשכבת האזורי תנועה יהיו רק אזורי תנועה שמפצלים את המידע של למס"
   ]
  },
  {
   "cell_type": "code",
   "execution_count": 27,
   "id": "8fe4e938",
   "metadata": {
    "scrolled": false
   },
   "outputs": [],
   "source": [
    "taz=pd.merge(taz_stat_conver,stat[col],on='STAT',how='left')"
   ]
  },
  {
   "cell_type": "code",
   "execution_count": 28,
   "id": "2515adf8",
   "metadata": {
    "code_folding": []
   },
   "outputs": [],
   "source": [
    "col=['aprt_20',\n",
    " 'pop_0',\n",
    " 'pop_5',\n",
    " 'pop_10',\n",
    " 'pop_15',\n",
    " 'pop_20',\n",
    " 'pop_25',\n",
    " 'pop_30',\n",
    " 'pop_35',\n",
    " 'pop_40',\n",
    " 'pop_45',\n",
    " 'pop_50',\n",
    " 'pop_55',\n",
    " 'pop_60',\n",
    " 'pop_65',\n",
    " 'pop_70',\n",
    " 'pop_75up',\n",
    " 'pop',\n",
    " 'pop_hardi']"
   ]
  },
  {
   "cell_type": "code",
   "execution_count": 29,
   "id": "14e43c8b",
   "metadata": {},
   "outputs": [
    {
     "name": "stderr",
     "output_type": "stream",
     "text": [
      "C:\\Users\\dpere\\AppData\\Local\\Temp\\ipykernel_35800\\196819694.py:3: FutureWarning: The provided callable <built-in function sum> is currently using DataFrameGroupBy.sum. In a future version of pandas, the provided callable will be used directly. To keep current behavior pass the string \"sum\" instead.\n",
      "  taz=pd.pivot_table(taz,index='Taz_num',aggfunc=sum)\n"
     ]
    }
   ],
   "source": [
    "taz[col]=taz[col].multiply(taz['precent_of_stat_data'], axis=\"index\")\n",
    "\n",
    "taz=pd.pivot_table(taz,index='Taz_num',aggfunc=sum)\n",
    "\n",
    "taz['pre_hardi']=taz['pop_hardi']/taz['pop']\n",
    "\n",
    "taz['hh_size']=taz['pop']/taz['aprt_20']"
   ]
  },
  {
   "cell_type": "code",
   "execution_count": 30,
   "id": "13037c69",
   "metadata": {},
   "outputs": [],
   "source": [
    "save_taz_path=r'{}\\Intermediates'.format(software_folder_location)"
   ]
  },
  {
   "cell_type": "code",
   "execution_count": 31,
   "id": "68f79b7c",
   "metadata": {},
   "outputs": [],
   "source": [
    "#### תאריך\n",
    "file_date=pd.Timestamp.today().strftime('%y%m%d')"
   ]
  },
  {
   "cell_type": "code",
   "execution_count": 32,
   "id": "9792ae5b",
   "metadata": {},
   "outputs": [],
   "source": [
    "taz.to_excel(r'{}\\taz_with_pop_info.xlsx'.format(save_taz_path,file_date))"
   ]
  }
 ],
 "metadata": {
  "kernelspec": {
   "display_name": "Python 3 (ipykernel)",
   "language": "python",
   "name": "python3"
  },
  "language_info": {
   "codemirror_mode": {
    "name": "ipython",
    "version": 3
   },
   "file_extension": ".py",
   "mimetype": "text/x-python",
   "name": "python",
   "nbconvert_exporter": "python",
   "pygments_lexer": "ipython3",
   "version": "3.11.5"
  },
  "toc": {
   "base_numbering": 1,
   "nav_menu": {},
   "number_sections": true,
   "sideBar": true,
   "skip_h1_title": false,
   "title_cell": "Table of Contents",
   "title_sidebar": "Contents",
   "toc_cell": false,
   "toc_position": {
    "height": "calc(100% - 180px)",
    "left": "10px",
    "top": "150px",
    "width": "415.996px"
   },
   "toc_section_display": true,
   "toc_window_display": true
  }
 },
 "nbformat": 4,
 "nbformat_minor": 5
}
