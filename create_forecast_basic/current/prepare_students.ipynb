{
 "cells": [
  {
   "cell_type": "markdown",
   "metadata": {},
   "source": [
    "קודים של הקדמה\n"
   ]
  },
  {
   "cell_type": "code",
   "execution_count": 1,
   "metadata": {},
   "outputs": [],
   "source": [
    "import os\n",
    "import sys\n",
    "import geopandas as gpd"
   ]
  },
  {
   "cell_type": "code",
   "execution_count": 2,
   "metadata": {},
   "outputs": [],
   "source": [
    "cwd = os.getcwd()\n",
    "\n",
    "create_forecast_basic_folder_path = os.path.dirname(cwd)\n",
    "\n",
    "sys.path.append(create_forecast_basic_folder_path)"
   ]
  },
  {
   "cell_type": "code",
   "execution_count": 3,
   "metadata": {},
   "outputs": [],
   "source": [
    "from global_functions import get_newest_date_file, up_load_shp, up_load_df, drop_geo"
   ]
  },
  {
   "cell_type": "markdown",
   "metadata": {},
   "source": [
    "להעלות את הטבלה של גורי\n"
   ]
  },
  {
   "cell_type": "code",
   "execution_count": 4,
   "metadata": {},
   "outputs": [],
   "source": [
    "col=['sector', 'geometry', 'ele_stu', 'mid_stu', 'high_stu']"
   ]
  },
  {
   "cell_type": "code",
   "execution_count": 5,
   "metadata": {},
   "outputs": [],
   "source": [
    "shcl=up_load_shp(r\"{}\\background_files\\education.shp\".format(cwd))[col] #לסנן רק את השכבות שצריך בלי גנים"
   ]
  },
  {
   "cell_type": "markdown",
   "metadata": {},
   "source": [
    "העלת שכבת טאז\n"
   ]
  },
  {
   "cell_type": "code",
   "execution_count": 6,
   "metadata": {},
   "outputs": [],
   "source": [
    "col=['Taz_num','Taz_name','main_secto','Muni_Heb','zonetype','geometry']"
   ]
  },
  {
   "cell_type": "code",
   "execution_count": 7,
   "metadata": {},
   "outputs": [
    {
     "name": "stdout",
     "output_type": "stream",
     "text": [
      "['c:\\\\Users\\\\dpere\\\\Documents\\\\JTMT\\\\forecast_git\\\\create_forecast_basic\\\\background_files\\\\TAZ_V4_240404_with_geo_info.cpg', 'c:\\\\Users\\\\dpere\\\\Documents\\\\JTMT\\\\forecast_git\\\\create_forecast_basic\\\\background_files\\\\TAZ_V4_240404_with_geo_info.dbf', 'c:\\\\Users\\\\dpere\\\\Documents\\\\JTMT\\\\forecast_git\\\\create_forecast_basic\\\\background_files\\\\TAZ_V4_240404_with_geo_info.prj', 'c:\\\\Users\\\\dpere\\\\Documents\\\\JTMT\\\\forecast_git\\\\create_forecast_basic\\\\background_files\\\\TAZ_V4_240404_with_geo_info.sbn', 'c:\\\\Users\\\\dpere\\\\Documents\\\\JTMT\\\\forecast_git\\\\create_forecast_basic\\\\background_files\\\\TAZ_V4_240404_with_geo_info.sbx', 'c:\\\\Users\\\\dpere\\\\Documents\\\\JTMT\\\\forecast_git\\\\create_forecast_basic\\\\background_files\\\\TAZ_V4_240404_with_geo_info.shp', 'c:\\\\Users\\\\dpere\\\\Documents\\\\JTMT\\\\forecast_git\\\\create_forecast_basic\\\\background_files\\\\TAZ_V4_240404_with_geo_info.shx', 'c:\\\\Users\\\\dpere\\\\Documents\\\\JTMT\\\\forecast_git\\\\create_forecast_basic\\\\background_files\\\\TAZ_V4_240404_with_geo_info.Taz_num.atx', 'c:\\\\Users\\\\dpere\\\\Documents\\\\JTMT\\\\forecast_git\\\\create_forecast_basic\\\\background_files\\\\TAZ_V4_240408_with_geo_info.cpg', 'c:\\\\Users\\\\dpere\\\\Documents\\\\JTMT\\\\forecast_git\\\\create_forecast_basic\\\\background_files\\\\TAZ_V4_240408_with_geo_info.dbf', 'c:\\\\Users\\\\dpere\\\\Documents\\\\JTMT\\\\forecast_git\\\\create_forecast_basic\\\\background_files\\\\TAZ_V4_240408_with_geo_info.prj', 'c:\\\\Users\\\\dpere\\\\Documents\\\\JTMT\\\\forecast_git\\\\create_forecast_basic\\\\background_files\\\\TAZ_V4_240408_with_geo_info.shp', 'c:\\\\Users\\\\dpere\\\\Documents\\\\JTMT\\\\forecast_git\\\\create_forecast_basic\\\\background_files\\\\TAZ_V4_240408_with_geo_info.shx', 'c:\\\\Users\\\\dpere\\\\Documents\\\\JTMT\\\\forecast_git\\\\create_forecast_basic\\\\background_files\\\\TAZ_V4_240408_with_geo_info.xlsx']\n"
     ]
    }
   ],
   "source": [
    "TAZ_V4_date = get_newest_date_file(create_forecast_basic_folder_path, 'with_geo_info')\n",
    "\n",
    "taz=up_load_shp(r'{}\\background_files\\TAZ_V4_{}_with_geo_info.shp'.format(create_forecast_basic_folder_path, TAZ_V4_date))"
   ]
  },
  {
   "cell_type": "code",
   "execution_count": 8,
   "metadata": {},
   "outputs": [],
   "source": [
    "taz['sector_for_students']=taz['main_secto']"
   ]
  },
  {
   "cell_type": "code",
   "execution_count": 9,
   "metadata": {},
   "outputs": [],
   "source": [
    "sector_of_arabs=['arabs_behined_seperation_wall','Arab']"
   ]
  },
  {
   "cell_type": "code",
   "execution_count": 10,
   "metadata": {},
   "outputs": [],
   "source": [
    "taz.loc[taz['main_secto'].isin(sector_of_arabs),'sector_for_students']='arab'"
   ]
  },
  {
   "cell_type": "markdown",
   "metadata": {},
   "source": [
    "להחבר לגיאוגרפיה ולהוריד אזורים שמחוץ לתחום שלנו\n"
   ]
  },
  {
   "cell_type": "code",
   "execution_count": 11,
   "metadata": {},
   "outputs": [],
   "source": [
    "taz_without_palestinian=taz.loc[taz['main_secto']!='Palestinian']"
   ]
  },
  {
   "cell_type": "code",
   "execution_count": 12,
   "metadata": {},
   "outputs": [],
   "source": [
    "shcl_with_taz=gpd.sjoin(taz_without_palestinian,shcl).drop(columns='geometry')"
   ]
  },
  {
   "cell_type": "markdown",
   "metadata": {},
   "source": [
    "לסכום לפי אזור תנועה ומגזר\n"
   ]
  },
  {
   "cell_type": "markdown",
   "metadata": {},
   "source": [
    "לשנות את השמות עמודות לפי איך שאני מודלים צריכים\n"
   ]
  },
  {
   "cell_type": "code",
   "execution_count": 13,
   "metadata": {},
   "outputs": [],
   "source": [
    "old_col=['ele_stu','mid_stu','high_stu']"
   ]
  },
  {
   "cell_type": "code",
   "execution_count": 14,
   "metadata": {},
   "outputs": [
    {
     "name": "stderr",
     "output_type": "stream",
     "text": [
      "C:\\Users\\dpere\\AppData\\Local\\Temp\\ipykernel_22092\\3236687485.py:1: FutureWarning: The provided callable <built-in function sum> is currently using DataFrameGroupBy.sum. In a future version of pandas, the provided callable will be used directly. To keep current behavior pass the string \"sum\" instead.\n",
      "  shcl_with_taz_arab=shcl_with_taz.loc[shcl_with_taz['sector']==1].pivot_table(index='Taz_num',aggfunc=sum)[old_col]\n"
     ]
    }
   ],
   "source": [
    "shcl_with_taz_arab=shcl_with_taz.loc[shcl_with_taz['sector']==1].pivot_table(index='Taz_num',aggfunc=sum)[old_col]"
   ]
  },
  {
   "cell_type": "code",
   "execution_count": 15,
   "metadata": {},
   "outputs": [],
   "source": [
    "new_col=['ARA1','ARA2','ARA3']"
   ]
  },
  {
   "cell_type": "code",
   "execution_count": 16,
   "metadata": {},
   "outputs": [],
   "source": [
    "shcl_with_taz_arab.columns=new_col"
   ]
  },
  {
   "cell_type": "code",
   "execution_count": 17,
   "metadata": {},
   "outputs": [
    {
     "name": "stderr",
     "output_type": "stream",
     "text": [
      "C:\\Users\\dpere\\AppData\\Local\\Temp\\ipykernel_22092\\2028788263.py:1: FutureWarning: The provided callable <built-in function sum> is currently using DataFrameGroupBy.sum. In a future version of pandas, the provided callable will be used directly. To keep current behavior pass the string \"sum\" instead.\n",
      "  shcl_with_taz_hardi=shcl_with_taz.loc[shcl_with_taz['sector']==2].pivot_table(index='Taz_num',aggfunc=sum)[old_col]\n"
     ]
    }
   ],
   "source": [
    "shcl_with_taz_hardi=shcl_with_taz.loc[shcl_with_taz['sector']==2].pivot_table(index='Taz_num',aggfunc=sum)[old_col]"
   ]
  },
  {
   "cell_type": "code",
   "execution_count": 18,
   "metadata": {},
   "outputs": [],
   "source": [
    "new_col=['UOA1','UOA2','UOA3']"
   ]
  },
  {
   "cell_type": "code",
   "execution_count": 19,
   "metadata": {},
   "outputs": [],
   "source": [
    "shcl_with_taz_hardi.columns=new_col"
   ]
  },
  {
   "cell_type": "code",
   "execution_count": 20,
   "metadata": {},
   "outputs": [
    {
     "name": "stderr",
     "output_type": "stream",
     "text": [
      "C:\\Users\\dpere\\AppData\\Local\\Temp\\ipykernel_22092\\2629452214.py:1: FutureWarning: The provided callable <built-in function sum> is currently using DataFrameGroupBy.sum. In a future version of pandas, the provided callable will be used directly. To keep current behavior pass the string \"sum\" instead.\n",
      "  shcl_with_taz_Jewish=shcl_with_taz.loc[shcl_with_taz['sector']==3].pivot_table(index='Taz_num',aggfunc=sum)[old_col]\n"
     ]
    }
   ],
   "source": [
    "shcl_with_taz_Jewish=shcl_with_taz.loc[shcl_with_taz['sector']==3].pivot_table(index='Taz_num',aggfunc=sum)[old_col]"
   ]
  },
  {
   "cell_type": "code",
   "execution_count": 21,
   "metadata": {},
   "outputs": [],
   "source": [
    "new_col=['SEA1','SEA2','SEA3']"
   ]
  },
  {
   "cell_type": "code",
   "execution_count": 22,
   "metadata": {},
   "outputs": [],
   "source": [
    "shcl_with_taz_Jewish.columns=new_col"
   ]
  },
  {
   "cell_type": "code",
   "execution_count": 23,
   "metadata": {},
   "outputs": [],
   "source": [
    "taz_students=taz.merge(shcl_with_taz_Jewish.reset_index(), on='Taz_num', how='left') \\\n",
    "   .merge(shcl_with_taz_hardi.reset_index(), on='Taz_num', how='left') \\\n",
    "   .merge(shcl_with_taz_arab.reset_index(), on='Taz_num', how='left') \\\n",
    "   \n",
    "taz_students=taz_students.fillna(0)"
   ]
  },
  {
   "cell_type": "code",
   "execution_count": 24,
   "metadata": {},
   "outputs": [],
   "source": [
    "# Columns to be summed\n",
    "columns_to_sum = [\n",
    "    'SEA1',\n",
    "    'SEA2',\n",
    "    'SEA3',\n",
    "    'UOA1',\n",
    "    'UOA2',\n",
    "    'UOA3',\n",
    "    'ARA1',\n",
    "    'ARA2',\n",
    "    'ARA3'\n",
    "]\n",
    "\n",
    "# Sum the values across each row for the selected columns\n",
    "taz_students['student_gov'] = taz_students[columns_to_sum].sum(axis=1)\n"
   ]
  },
  {
   "cell_type": "markdown",
   "metadata": {},
   "source": [
    "מהשוואה אל נתוני משרד החינוך ברמת רשות אני יודע שחסר לי תלמידים ברשויות מסויימים\n",
    "אני צריך לפזר את התלמידים שחסרים לי\n",
    "השיטה לפיזור בהתאם לביקוש לחינוך\n"
   ]
  },
  {
   "cell_type": "code",
   "execution_count": 25,
   "metadata": {},
   "outputs": [],
   "source": [
    "#העלה של נתוני אנשים התפלגות גילים שנוצר לפני הקוד הזה\n",
    "path=r'{}\\Intermediates'.format(cwd)\n",
    "taz_with_pop=up_load_df(path,'taz_with_pop_info')"
   ]
  },
  {
   "cell_type": "code",
   "execution_count": 26,
   "metadata": {},
   "outputs": [],
   "source": [
    "#לחשב ביקוש בהתאם למקדמים לכל שנתון\n",
    "taz_with_pop['student_demand']=taz_with_pop['pop_5']/5*4+taz_with_pop['pop_10']+taz_with_pop['pop_15']/5*3"
   ]
  },
  {
   "cell_type": "markdown",
   "metadata": {},
   "source": [
    "אחוז מתוך הביקוש\n"
   ]
  },
  {
   "cell_type": "code",
   "execution_count": 27,
   "metadata": {},
   "outputs": [],
   "source": [
    "taz_students_with_demand=taz_students.merge(taz_with_pop[['Taz_num','student_demand']],on='Taz_num',how='left')"
   ]
  },
  {
   "cell_type": "code",
   "execution_count": 28,
   "metadata": {},
   "outputs": [],
   "source": [
    "taz_students_with_demand=taz_students_with_demand.fillna(0)"
   ]
  },
  {
   "cell_type": "code",
   "execution_count": 29,
   "metadata": {},
   "outputs": [],
   "source": [
    "taz_students_with_demand['student_demand_left']=taz_students_with_demand['student_demand']-taz_students_with_demand['student_gov']\n",
    "taz_students_with_demand.loc[taz_students_with_demand['student_demand_left']<0,'student_demand_left']=0"
   ]
  },
  {
   "cell_type": "code",
   "execution_count": 30,
   "metadata": {},
   "outputs": [],
   "source": [
    "# Group by 'Muni_Heb' and 'main_secto', then calculate the sum for each group\n",
    "sum_students_by_demand_by_muni_sector=drop_geo(taz_students_with_demand).groupby(by=['Muni_Heb', 'sector_for_students'])[['student_demand_left']].sum().reset_index()"
   ]
  },
  {
   "cell_type": "code",
   "execution_count": 31,
   "metadata": {},
   "outputs": [],
   "source": [
    "muni_to_keep=['ביתר עילית','מודיעין עילית','ירושלים'] #אלו הרשויות שאני רוצה להוסיף תלמידים"
   ]
  },
  {
   "cell_type": "code",
   "execution_count": 32,
   "metadata": {},
   "outputs": [],
   "source": [
    "sum_students_by_muni_sector_demand_add_from_gov_by_muni=sum_students_by_demand_by_muni_sector.loc[sum_students_by_demand_by_muni_sector['Muni_Heb'].isin(muni_to_keep)]"
   ]
  },
  {
   "cell_type": "code",
   "execution_count": 33,
   "metadata": {},
   "outputs": [
    {
     "name": "stderr",
     "output_type": "stream",
     "text": [
      "C:\\Users\\dpere\\AppData\\Local\\Temp\\ipykernel_22092\\3903377412.py:2: SettingWithCopyWarning: \n",
      "A value is trying to be set on a copy of a slice from a DataFrame.\n",
      "Try using .loc[row_indexer,col_indexer] = value instead\n",
      "\n",
      "See the caveats in the documentation: https://pandas.pydata.org/pandas-docs/stable/user_guide/indexing.html#returning-a-view-versus-a-copy\n",
      "  sum_students_by_muni_sector_demand_add_from_gov_by_muni.loc[filter_condition, 'sum_add_students'] = 3000\n"
     ]
    }
   ],
   "source": [
    "filter_condition = sum_students_by_muni_sector_demand_add_from_gov_by_muni['Muni_Heb'] == 'ביתר עילית'\n",
    "sum_students_by_muni_sector_demand_add_from_gov_by_muni.loc[filter_condition, 'sum_add_students'] = 3000\n",
    "filter_condition = sum_students_by_muni_sector_demand_add_from_gov_by_muni['Muni_Heb'] == 'מודיעין עילית'\n",
    "sum_students_by_muni_sector_demand_add_from_gov_by_muni.loc[filter_condition, 'sum_add_students'] = 10000\n",
    "filter_condition = (sum_students_by_muni_sector_demand_add_from_gov_by_muni['Muni_Heb'] == 'ירושלים') & (sum_students_by_muni_sector_demand_add_from_gov_by_muni['sector_for_students'] == 'U_Orthodox')\n",
    "sum_students_by_muni_sector_demand_add_from_gov_by_muni.loc[filter_condition, 'sum_add_students'] = 20000\n",
    "filter_condition = (sum_students_by_muni_sector_demand_add_from_gov_by_muni['Muni_Heb'] == 'ירושלים') & (sum_students_by_muni_sector_demand_add_from_gov_by_muni['sector_for_students'] == 'arab')\n",
    "sum_students_by_muni_sector_demand_add_from_gov_by_muni.loc[filter_condition, 'sum_add_students'] = 5000"
   ]
  },
  {
   "cell_type": "code",
   "execution_count": 34,
   "metadata": {},
   "outputs": [],
   "source": [
    "sum_students_by_muni_sector_demand_add_from_gov_by_muni=sum_students_by_muni_sector_demand_add_from_gov_by_muni.fillna(0)"
   ]
  },
  {
   "cell_type": "code",
   "execution_count": 35,
   "metadata": {},
   "outputs": [],
   "source": [
    "# Rename the column 'student_demand_left' to 'sum_student_demand_left'\n",
    "sum_students_by_muni_sector_demand_add_from_gov_by_muni.rename(columns={'student_demand_left': 'sum_student_demand_left'}, inplace=True)"
   ]
  },
  {
   "cell_type": "code",
   "execution_count": 36,
   "metadata": {},
   "outputs": [],
   "source": [
    "taz_students=taz_students.merge(sum_students_by_muni_sector_demand_add_from_gov_by_muni,on=['Muni_Heb','sector_for_students'],how='left').fillna(0)"
   ]
  },
  {
   "cell_type": "code",
   "execution_count": 37,
   "metadata": {},
   "outputs": [],
   "source": [
    "taz_students=taz_students.merge(taz_students_with_demand[['Taz_num','student_demand_left']],on='Taz_num',how='left').fillna(0)"
   ]
  },
  {
   "cell_type": "code",
   "execution_count": 38,
   "metadata": {},
   "outputs": [],
   "source": [
    "taz_students['add_students_from_gov_by_muni']=taz_students['student_demand_left']/taz_students['sum_student_demand_left']*taz_students['sum_add_students']\n",
    "taz_students=taz_students.fillna(0)"
   ]
  },
  {
   "cell_type": "markdown",
   "metadata": {},
   "source": [
    "זה היה הוספה של סך הכל תלמידים אבל את הסך הכל צריך להוסיף לעמודות שמפצלות לפי שכבה\n"
   ]
  },
  {
   "cell_type": "code",
   "execution_count": 39,
   "metadata": {},
   "outputs": [],
   "source": [
    "# Filter rows where 'sector_for_students' is 'sector' and update the 'ARA1' column\n",
    "sector_filter = taz_students['sector_for_students'] == 'arab'\n",
    "\n",
    "\n",
    "# List of columns to be updated\n",
    "columns_to_update = ['ARA1', 'ARA2', 'ARA3']\n",
    "\n",
    "# Iterate over each column and perform the operation\n",
    "for column in columns_to_update:\n",
    "    # Perform the operation for each column\n",
    "    taz_students.loc[sector_filter, column] += taz_students['add_students_from_gov_by_muni'] / 3"
   ]
  },
  {
   "cell_type": "code",
   "execution_count": 40,
   "metadata": {},
   "outputs": [],
   "source": [
    "# Filter rows where 'sector_for_students' is 'sector' and update the 'ARA1' column\n",
    "sector_filter = taz_students['sector_for_students'] == 'U_Orthodox'\n",
    "\n",
    "# List of columns to be updated\n",
    "columns_to_update = ['UOA1', 'UOA2', 'UOA3']\n",
    "\n",
    "# Iterate over each column and perform the operation\n",
    "for column in columns_to_update:\n",
    "    # Perform the operation for each column\n",
    "    taz_students.loc[sector_filter, column] += taz_students['add_students_from_gov_by_muni'] / 3\n"
   ]
  },
  {
   "cell_type": "code",
   "execution_count": 46,
   "metadata": {},
   "outputs": [],
   "source": [
    "save_taz_path=r'{}\\Intermediates'.format(cwd)\n",
    "taz_students.to_excel(r'{}\\taz_with_gov_students.xlsx'.format(save_taz_path))"
   ]
  },
  {
   "cell_type": "code",
   "execution_count": 47,
   "metadata": {},
   "outputs": [],
   "source": [
    "taz_with_pop['kollim_demand']=(taz_with_pop['pop_20']*0.8+taz_with_pop['pop_25']*0.65+taz_with_pop['pop_30']*0.30+taz_with_pop['pop_35']*0.30+taz_with_pop['pop_40']*0.30+taz_with_pop['pop_45']*0.20+taz_with_pop['pop_50']*0.20+taz_with_pop['pop_55']*0.20+taz_with_pop['pop_60']*0.20)*0.5 #הכפלה בחצי בשביל לקבל אוכלוסיית גברים מעורכת"
   ]
  },
  {
   "cell_type": "code",
   "execution_count": 48,
   "metadata": {},
   "outputs": [],
   "source": [
    "save_taz_path=r'{}\\Intermediates'.format(cwd)\n",
    "taz_with_pop.to_excel(r'{}\\taz_with_kollim_demand.xlsx'.format(save_taz_path))"
   ]
  }
 ],
 "metadata": {
  "kernelspec": {
   "display_name": "creat_forecast_ad_hoc_env",
   "language": "python",
   "name": "python3"
  },
  "language_info": {
   "codemirror_mode": {
    "name": "ipython",
    "version": 3
   },
   "file_extension": ".py",
   "mimetype": "text/x-python",
   "name": "python",
   "nbconvert_exporter": "python",
   "pygments_lexer": "ipython3",
   "version": "3.11.5"
  }
 },
 "nbformat": 4,
 "nbformat_minor": 2
}
