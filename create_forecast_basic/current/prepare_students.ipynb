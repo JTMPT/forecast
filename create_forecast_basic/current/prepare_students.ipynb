{
 "cells": [
  {
   "cell_type": "markdown",
   "metadata": {},
   "source": [
    "קודים של הקדמה"
   ]
  },
  {
   "cell_type": "code",
   "execution_count": 26,
   "metadata": {},
   "outputs": [],
   "source": [
    "\n",
    "import pandas as pd\n",
    "import geopandas as gpd\n"
   ]
  },
  {
   "cell_type": "code",
   "execution_count": 27,
   "metadata": {},
   "outputs": [],
   "source": [
    "def make_point(df):\n",
    "    df_point=df.copy()\n",
    "    df_point['centroid'] = df_point.representative_point()\n",
    "    df_point=df_point.set_geometry('centroid')\n",
    "    df_point=df_point.drop(columns=['geometry'],axis=1)\n",
    "    return df_point"
   ]
  },
  {
   "cell_type": "code",
   "execution_count": 28,
   "metadata": {},
   "outputs": [],
   "source": [
    "def up_load_gdb(path,layer_name):\n",
    "    path='{}'.format(path)\n",
    "    layer_list=fiona.listlayers(path)\n",
    "    gpd_layer=gpd.read_file(path, layer=layer_list.index(layer_name))\n",
    "    return gpd_layer"
   ]
  },
  {
   "cell_type": "code",
   "execution_count": 29,
   "metadata": {},
   "outputs": [],
   "source": [
    "def up_load_shp(path):\n",
    "    path='{}'.format(path)\n",
    "    gpd_layer=gpd.read_file(path)\n",
    "    return gpd_layer"
   ]
  },
  {
   "cell_type": "code",
   "execution_count": 51,
   "metadata": {},
   "outputs": [],
   "source": [
    "def up_load_df(folder_path,file_name):\n",
    "    \n",
    "    path_df=r'{}\\{}.xlsx'.format(folder_path,file_name)\n",
    "    df=pd.read_excel(path_df)\n",
    "    df=df.dropna(how='all')\n",
    "\n",
    "    return df"
   ]
  },
  {
   "cell_type": "markdown",
   "metadata": {},
   "source": [
    "להעלות את הטבלה של גורי"
   ]
  },
  {
   "cell_type": "code",
   "execution_count": 30,
   "metadata": {},
   "outputs": [],
   "source": [
    "col=['sector', 'geometry', 'ele_stu', 'mid_stu', 'high_stu']"
   ]
  },
  {
   "cell_type": "code",
   "execution_count": 31,
   "metadata": {},
   "outputs": [],
   "source": [
    "shcl=up_load_shp(r'W:\\Data\\Forecast\\תחומי אחריות\\יצירת מידע\\בתי ספר\\education.shp')[col] #לסנן רק את השכבות שצריך בלי גנים"
   ]
  },
  {
   "cell_type": "markdown",
   "metadata": {},
   "source": [
    "העלת שכבת טאז"
   ]
  },
  {
   "cell_type": "code",
   "execution_count": 32,
   "metadata": {},
   "outputs": [],
   "source": [
    "col=['Taz_num','Taz_name','main_secto','Muni_Heb','zonetype','geometry']"
   ]
  },
  {
   "cell_type": "code",
   "execution_count": 33,
   "metadata": {},
   "outputs": [],
   "source": [
    "taz=up_load_shp(r'W:\\Data\\Forecast\\Tools\\forecast_git\\create_forecast_basic\\current\\background_files\\TAZ_V4_230518_Published.shp')[col]"
   ]
  },
  {
   "cell_type": "markdown",
   "metadata": {},
   "source": [
    "להחבר לגיאוגרפיה ולהוריד אזורים שמחוץ לתחום שלנו"
   ]
  },
  {
   "cell_type": "code",
   "execution_count": 34,
   "metadata": {},
   "outputs": [],
   "source": [
    "taz_without_palestinian=taz.loc[taz['main_secto']!='Palestinian']"
   ]
  },
  {
   "cell_type": "code",
   "execution_count": 35,
   "metadata": {},
   "outputs": [],
   "source": [
    "shcl_with_taz=gpd.sjoin(taz_without_palestinian,shcl).drop(columns='geometry')"
   ]
  },
  {
   "cell_type": "markdown",
   "metadata": {},
   "source": [
    "לסכום לפי אזור תנועה ומגזר"
   ]
  },
  {
   "cell_type": "markdown",
   "metadata": {},
   "source": [
    "לשנות את השמות עמודות לפי איך שאני מודלים צריכים"
   ]
  },
  {
   "cell_type": "code",
   "execution_count": 36,
   "metadata": {},
   "outputs": [],
   "source": [
    "old_col=['ele_stu','mid_stu','high_stu']"
   ]
  },
  {
   "cell_type": "code",
   "execution_count": 37,
   "metadata": {},
   "outputs": [],
   "source": [
    "shcl_with_taz_arab=shcl_with_taz.loc[shcl_with_taz['sector']==1].pivot_table(index='Taz_num',aggfunc=sum)[old_col]"
   ]
  },
  {
   "cell_type": "code",
   "execution_count": 38,
   "metadata": {},
   "outputs": [],
   "source": [
    "new_col=['ARA1','ARA2','ARA3']"
   ]
  },
  {
   "cell_type": "code",
   "execution_count": 39,
   "metadata": {},
   "outputs": [],
   "source": [
    "shcl_with_taz_arab.columns=new_col"
   ]
  },
  {
   "cell_type": "code",
   "execution_count": 40,
   "metadata": {},
   "outputs": [],
   "source": [
    "shcl_with_taz_hardi=shcl_with_taz.loc[shcl_with_taz['sector']==2].pivot_table(index='Taz_num',aggfunc=sum)[old_col]"
   ]
  },
  {
   "cell_type": "code",
   "execution_count": 41,
   "metadata": {},
   "outputs": [],
   "source": [
    "new_col=['UOA1','UOA2','UOA3']"
   ]
  },
  {
   "cell_type": "code",
   "execution_count": 42,
   "metadata": {},
   "outputs": [],
   "source": [
    "shcl_with_taz_hardi.columns=new_col"
   ]
  },
  {
   "cell_type": "code",
   "execution_count": 43,
   "metadata": {},
   "outputs": [],
   "source": [
    "shcl_with_taz_Jewish=shcl_with_taz.loc[shcl_with_taz['sector']==3].pivot_table(index='Taz_num',aggfunc=sum)[old_col]"
   ]
  },
  {
   "cell_type": "code",
   "execution_count": 44,
   "metadata": {},
   "outputs": [],
   "source": [
    "new_col=['SEA1','SEA2','SEA3']"
   ]
  },
  {
   "cell_type": "code",
   "execution_count": 45,
   "metadata": {},
   "outputs": [],
   "source": [
    "shcl_with_taz_Jewish.columns=new_col"
   ]
  },
  {
   "cell_type": "markdown",
   "metadata": {},
   "source": [
    "לבדוק אל מול נתוני למ\"ס מה המצב של המידע שגורי יצר"
   ]
  },
  {
   "cell_type": "markdown",
   "metadata": {},
   "source": [
    "כדי לעשות את ההשוואה צריך לצרף את הנתונים לטבלת אזורי התנועה ולייצא\n"
   ]
  },
  {
   "cell_type": "code",
   "execution_count": 46,
   "metadata": {},
   "outputs": [],
   "source": [
    "taz.merge(shcl_with_taz_Jewish.reset_index(), on='Taz_num', how='left') \\\n",
    "   .merge(shcl_with_taz_hardi.reset_index(), on='Taz_num', how='left') \\\n",
    "   .merge(shcl_with_taz_arab.reset_index(), on='Taz_num', how='left') \\\n",
    "   .to_excel('delet.xlsx')\n"
   ]
  },
  {
   "cell_type": "markdown",
   "metadata": {},
   "source": [
    "לייצר טבלה עם כמות תלמידים לפי רשות"
   ]
  },
  {
   "cell_type": "code",
   "execution_count": 60,
   "metadata": {},
   "outputs": [],
   "source": [
    "software_folder_location=r'W:\\Data\\Forecast\\Tools\\forecast_git\\create_forecast_basic\\current'"
   ]
  },
  {
   "cell_type": "code",
   "execution_count": 61,
   "metadata": {},
   "outputs": [],
   "source": [
    "muni_JTMT=up_load_shp(r'{}\\background_files\\muni_under_JTMT_ITM.shp'.format(software_folder_location))\n"
   ]
  },
  {
   "cell_type": "code",
   "execution_count": 62,
   "metadata": {},
   "outputs": [],
   "source": [
    "col=['CR_PNIM','Muni_Heb']\n",
    "muni_JTMT=muni_JTMT[col]\n",
    "muni_JTMT['CR_PNIM']=muni_JTMT['CR_PNIM'].astype(int)"
   ]
  },
  {
   "cell_type": "code",
   "execution_count": 63,
   "metadata": {},
   "outputs": [],
   "source": [
    "# Define the directory path\n",
    "directory_path = r'{}\\background_files'.format(software_folder_location)\n",
    "\n",
    "# # Load each DataFrame separately\n",
    "df1 = up_load_df(directory_path, 'cbs_student_2020_by_muni_3')\n",
    "df2 = up_load_df(directory_path, 'cbs_student_2020_by_muni_1')\n",
    "df3 = up_load_df(directory_path, 'cbs_student_2020_by_muni_2')\n",
    "\n",
    "# # Concatenate the DataFrames\n",
    "student_gov_by_muni = pd.concat([df1, df2, df3])"
   ]
  },
  {
   "cell_type": "code",
   "execution_count": 64,
   "metadata": {},
   "outputs": [],
   "source": [
    "col=[ 'סמל_יישוב',\n",
    " 'תלמידים_בבתי_ספר_יסודיים_תש_ף_2019_20',\n",
    " 'תלמידים_בחטיבות_ביניים_תש_ף_2019_20',\n",
    " 'תלמידים_בבתי_ספר_תיכוניים_תש_ף_2019_20']\n",
    "\n",
    "student_gov_by_muni=student_gov_by_muni[col]"
   ]
  },
  {
   "cell_type": "code",
   "execution_count": 65,
   "metadata": {},
   "outputs": [],
   "source": [
    "student_gov_by_muni=student_gov_by_muni.merge(muni_JTMT,left_on='סמל_יישוב',right_on='CR_PNIM')\n",
    "student_gov_by_muni=student_gov_by_muni.drop_duplicates(subset='CR_PNIM',keep='first')\n"
   ]
  },
  {
   "cell_type": "code",
   "execution_count": 66,
   "metadata": {},
   "outputs": [],
   "source": [
    "col=[ 'תלמידים_בבתי_ספר_יסודיים_תש_ף_2019_20',\n",
    " 'תלמידים_בחטיבות_ביניים_תש_ף_2019_20',\n",
    " 'תלמידים_בבתי_ספר_תיכוניים_תש_ף_2019_20']"
   ]
  },
  {
   "cell_type": "code",
   "execution_count": 67,
   "metadata": {},
   "outputs": [],
   "source": [
    "student_gov_by_muni['student_gov']=student_gov_by_muni[col].sum(axis=1)"
   ]
  },
  {
   "cell_type": "code",
   "execution_count": 68,
   "metadata": {},
   "outputs": [],
   "source": [
    "student_gov_by_muni.to_excel('gov_muni_students_to_delet.xlsx')"
   ]
  }
 ],
 "metadata": {
  "kernelspec": {
   "display_name": "base",
   "language": "python",
   "name": "python3"
  },
  "language_info": {
   "codemirror_mode": {
    "name": "ipython",
    "version": 3
   },
   "file_extension": ".py",
   "mimetype": "text/x-python",
   "name": "python",
   "nbconvert_exporter": "python",
   "pygments_lexer": "ipython3",
   "version": "3.11.5"
  }
 },
 "nbformat": 4,
 "nbformat_minor": 2
}
