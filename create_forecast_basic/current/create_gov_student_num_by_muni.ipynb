{
 "cells": [
  {
   "cell_type": "markdown",
   "metadata": {},
   "source": [
    "קודים של הקדמה"
   ]
  },
  {
   "cell_type": "code",
   "execution_count": 1,
   "metadata": {},
   "outputs": [],
   "source": [
    "import os\n",
    "import sys\n",
    "import pandas as pd\n",
    "import geopandas as gpd\n",
    "import fiona"
   ]
  },
  {
   "cell_type": "code",
   "execution_count": 2,
   "metadata": {},
   "outputs": [],
   "source": [
    "def make_point(df):\n",
    "    df_point=df.copy()\n",
    "    df_point['centroid'] = df_point.representative_point()\n",
    "    df_point=df_point.set_geometry('centroid')\n",
    "    df_point=df_point.drop(columns=['geometry'],axis=1)\n",
    "    return df_point"
   ]
  },
  {
   "cell_type": "code",
   "execution_count": 3,
   "metadata": {},
   "outputs": [],
   "source": [
    "def up_load_gdb(path,layer_name):\n",
    "    path='{}'.format(path)\n",
    "    layer_list=fiona.listlayers(path)\n",
    "    gpd_layer=gpd.read_file(path, layer=layer_list.index(layer_name))\n",
    "    return gpd_layer"
   ]
  },
  {
   "cell_type": "code",
   "execution_count": 4,
   "metadata": {},
   "outputs": [],
   "source": [
    "def up_load_shp(path):\n",
    "    path='{}'.format(path)\n",
    "    gpd_layer=gpd.read_file(path)\n",
    "    return gpd_layer"
   ]
  },
  {
   "cell_type": "code",
   "execution_count": 5,
   "metadata": {},
   "outputs": [],
   "source": [
    "def up_load_df(folder_path,file_name):\n",
    "    \n",
    "    path_df=r'{}\\{}.xlsx'.format(folder_path,file_name)\n",
    "    df=pd.read_excel(path_df)\n",
    "    df=df.dropna(how='all')\n",
    "\n",
    "    return df"
   ]
  },
  {
   "cell_type": "markdown",
   "metadata": {},
   "source": [
    "לייצר טבלה עם כמות תלמידים לפי רשות"
   ]
  },
  {
   "cell_type": "code",
   "execution_count": 6,
   "metadata": {},
   "outputs": [],
   "source": [
    "cwd = os.getcwd()\n",
    "\n",
    "create_forecast_basic_folder_path = os.path.dirname(cwd)\n",
    "\n",
    "sys.path.append(create_forecast_basic_folder_path)"
   ]
  },
  {
   "cell_type": "code",
   "execution_count": 7,
   "metadata": {},
   "outputs": [],
   "source": [
    "muni_JTMT=up_load_shp(r'{}\\background_files\\muni_under_JTMT_ITM.shp'.format(cwd))\n"
   ]
  },
  {
   "cell_type": "code",
   "execution_count": 8,
   "metadata": {},
   "outputs": [],
   "source": [
    "col=['CR_PNIM','Muni_Heb']\n",
    "muni_JTMT=muni_JTMT[col]\n",
    "muni_JTMT['CR_PNIM']=muni_JTMT['CR_PNIM'].astype(int)"
   ]
  },
  {
   "cell_type": "code",
   "execution_count": 9,
   "metadata": {},
   "outputs": [],
   "source": [
    "# Define the directory path\n",
    "directory_path = r'{}\\background_files'.format(cwd)\n",
    "\n",
    "# # Load each DataFrame separately\n",
    "df1 = up_load_df(directory_path, 'cbs_student_2020_by_muni_3')\n",
    "df2 = up_load_df(directory_path, 'cbs_student_2020_by_muni_1')\n",
    "df3 = up_load_df(directory_path, 'cbs_student_2020_by_muni_2')\n",
    "\n",
    "# # Concatenate the DataFrames\n",
    "student_gov_by_muni = pd.concat([df1, df2, df3])"
   ]
  },
  {
   "cell_type": "code",
   "execution_count": 10,
   "metadata": {},
   "outputs": [],
   "source": [
    "col=[ 'סמל_יישוב',\n",
    " 'תלמידים_בבתי_ספר_יסודיים_תש_ף_2019_20',\n",
    " 'תלמידים_בחטיבות_ביניים_תש_ף_2019_20',\n",
    " 'תלמידים_בבתי_ספר_תיכוניים_תש_ף_2019_20']\n",
    "\n",
    "student_gov_by_muni=student_gov_by_muni[col]"
   ]
  },
  {
   "cell_type": "code",
   "execution_count": 11,
   "metadata": {},
   "outputs": [],
   "source": [
    "student_gov_by_muni=student_gov_by_muni.merge(muni_JTMT,left_on='סמל_יישוב',right_on='CR_PNIM')\n",
    "student_gov_by_muni=student_gov_by_muni.drop_duplicates(subset='CR_PNIM',keep='first')\n"
   ]
  },
  {
   "cell_type": "code",
   "execution_count": 12,
   "metadata": {},
   "outputs": [],
   "source": [
    "col=[ 'תלמידים_בבתי_ספר_יסודיים_תש_ף_2019_20',\n",
    " 'תלמידים_בחטיבות_ביניים_תש_ף_2019_20',\n",
    " 'תלמידים_בבתי_ספר_תיכוניים_תש_ף_2019_20']"
   ]
  },
  {
   "cell_type": "code",
   "execution_count": 13,
   "metadata": {},
   "outputs": [],
   "source": [
    "student_gov_by_muni['student_gov']=student_gov_by_muni[col].sum(axis=1)"
   ]
  },
  {
   "cell_type": "code",
   "execution_count": 14,
   "metadata": {},
   "outputs": [],
   "source": [
    "student_gov_by_muni.to_excel('gov_muni_students.xlsx')"
   ]
  }
 ],
 "metadata": {
  "kernelspec": {
   "display_name": "base",
   "language": "python",
   "name": "python3"
  },
  "language_info": {
   "codemirror_mode": {
    "name": "ipython",
    "version": 3
   },
   "file_extension": ".py",
   "mimetype": "text/x-python",
   "name": "python",
   "nbconvert_exporter": "python",
   "pygments_lexer": "ipython3",
   "version": "3.11.5"
  }
 },
 "nbformat": 4,
 "nbformat_minor": 2
}
