{
 "cells": [
  {
   "cell_type": "markdown",
   "id": "65e4c2ef",
   "metadata": {},
   "source": [
    "## הגדרות ומקדים"
   ]
  },
  {
   "cell_type": "markdown",
   "id": "986ae99c",
   "metadata": {},
   "source": [
    "### ספריות"
   ]
  },
  {
   "cell_type": "code",
   "execution_count": 1,
   "id": "a43ce0cf",
   "metadata": {},
   "outputs": [],
   "source": [
    "import os\n",
    "import sys\n",
    "import fiona\n",
    "import pandas as pd\n",
    "import geopandas as gpd\n",
    "from openpyxl import load_workbook"
   ]
  },
  {
   "cell_type": "code",
   "execution_count": 2,
   "id": "e351ed54",
   "metadata": {},
   "outputs": [],
   "source": [
    "pd.set_option('display.max_rows', None)\n",
    "pd.set_option('display.max_columns', None)\n",
    "pd.set_option('display.float_format', lambda x: '%.3f' % x)"
   ]
  },
  {
   "cell_type": "markdown",
   "id": "c29b5441",
   "metadata": {},
   "source": [
    "### העלת משתנים להרצת הקוד"
   ]
  },
  {
   "cell_type": "code",
   "execution_count": 6,
   "id": "2a61ddcb",
   "metadata": {},
   "outputs": [
    {
     "data": {
      "text/plain": [
       "'C:\\\\Users\\\\dpere\\\\Documents\\\\JTMT\\\\forecast_by_version\\\\V4\\\\BASE_YEAR'"
      ]
     },
     "execution_count": 6,
     "metadata": {},
     "output_type": "execute_result"
    }
   ],
   "source": [
    "path = os.getcwd()\n",
    "\n",
    "software_root_folder = os.path.dirname(path)\n",
    "\n",
    "software_folder_location = r'{}\\current'.format(software_root_folder)\n",
    "\n",
    "df_inputs_outputs = pd.read_excel(r'{}\\inputs_outputs.xlsx'.format(software_folder_location))\n",
    "\n",
    "forecast_version_folder_location=df_inputs_outputs['location'][1]\n",
    "\n",
    "output_location=df_inputs_outputs['location'][2]\n",
    "\n",
    "sys.path.append(software_root_folder)"
   ]
  },
  {
   "cell_type": "markdown",
   "id": "9624443e",
   "metadata": {},
   "source": [
    "## פונקציות"
   ]
  },
  {
   "cell_type": "code",
   "execution_count": 4,
   "id": "3f7b9809",
   "metadata": {},
   "outputs": [],
   "source": [
    "def drop_geo(geoDF):\n",
    "    geoDF = geoDF.drop(columns='geometry')\n",
    "    return geoDF"
   ]
  },
  {
   "cell_type": "code",
   "execution_count": 5,
   "id": "d69c42ff",
   "metadata": {},
   "outputs": [],
   "source": [
    "def double_taz_num(df):\n",
    "    dup_taz_num=df.groupby(['Taz_num']).size().reset_index(name='count').query('count>1').Taz_num.to_list()\n",
    "    return df.loc[df['Taz_num'].isin(dup_taz_num)]"
   ]
  },
  {
   "cell_type": "code",
   "execution_count": 6,
   "id": "d048994a",
   "metadata": {},
   "outputs": [],
   "source": [
    "def make_point(df):\n",
    "    df_point=df.copy()\n",
    "    df_point['centroid'] = df_point.representative_point()\n",
    "    df_point=df_point.set_geometry('centroid')\n",
    "    df_point=df_point.drop(columns=['geometry'],axis=1)\n",
    "    return df_point"
   ]
  },
  {
   "cell_type": "code",
   "execution_count": 7,
   "id": "86bf5cad",
   "metadata": {},
   "outputs": [],
   "source": [
    "def up_load_gdb(path,layer_name):\n",
    "    path='{}'.format(path)\n",
    "    layer_list=fiona.listlayers(path)\n",
    "    gpd_layer=gpd.read_file(path, layer=layer_list.index(layer_name))\n",
    "    return gpd_layer"
   ]
  },
  {
   "cell_type": "code",
   "execution_count": 8,
   "id": "6acc6aa7",
   "metadata": {},
   "outputs": [],
   "source": [
    "def up_load_shp(path):\n",
    "    path='{}'.format(path)\n",
    "    gpd_layer=gpd.read_file(path)\n",
    "    return gpd_layer"
   ]
  },
  {
   "cell_type": "code",
   "execution_count": 9,
   "id": "cb093800",
   "metadata": {},
   "outputs": [],
   "source": [
    "def unique_id_in_one_taz(df_to_geoode,unique_field,gpd_for_geocode,taz):\n",
    "    \n",
    "    code_to_find=list(df_to_geoode[unique_field].unique())\n",
    "\n",
    "    gpd_for_geocode_to_sum_by_taz=gpd_for_geocode[[unique_field,'geometry']].loc[gpd_for_geocode[unique_field].isin(code_to_find)]\n",
    "\n",
    "    gpd_for_geocode_to_sum_by_taz=gpd.sjoin(taz[['Taz_num','geometry']],gpd_for_geocode_to_sum_by_taz)\n",
    "\n",
    "    gpd_for_geocode_in_one_taz=list(gpd_for_geocode_to_sum_by_taz.groupby(unique_field)[['Taz_num']].nunique().query('Taz_num==1').reset_index()[unique_field])\n",
    "\n",
    "    return gpd_for_geocode_in_one_taz"
   ]
  },
  {
   "cell_type": "code",
   "execution_count": 10,
   "id": "b1a16060",
   "metadata": {},
   "outputs": [],
   "source": [
    "def up_load_df(folder_path,file_name):\n",
    "    \n",
    "    path_df=r'{}\\{}.xlsx'.format(folder_path,file_name)\n",
    "    df=pd.read_excel(path_df)\n",
    "    df=df.dropna(how='all')\n",
    "\n",
    "    return df"
   ]
  },
  {
   "cell_type": "markdown",
   "id": "9e298bcd",
   "metadata": {},
   "source": [
    "## להריץ תלמידים"
   ]
  },
  {
   "cell_type": "code",
   "execution_count": 11,
   "id": "7cd351ae",
   "metadata": {},
   "outputs": [
    {
     "name": "stderr",
     "output_type": "stream",
     "text": [
      "C:\\Users\\dpere\\AppData\\Local\\Temp\\ipykernel_3432\\3525234411.py:14: FutureWarning: The provided callable <built-in function sum> is currently using DataFrameGroupBy.sum. In a future version of pandas, the provided callable will be used directly. To keep current behavior pass the string \"sum\" instead.\n",
      "  student_yeshiva=student_yeshiva[col].pivot_table(index='Taz_num',aggfunc=sum)[[\n",
      "C:\\Users\\dpere\\AppData\\Local\\Temp\\ipykernel_3432\\2976863300.py:1: FutureWarning: The provided callable <built-in function sum> is currently using DataFrameGroupBy.sum. In a future version of pandas, the provided callable will be used directly. To keep current behavior pass the string \"sum\" instead.\n",
      "  taz['student_gov']=drop_geo(student_gov_taz).pivot_table(index='Taz_num',aggfunc=sum)[['num_of_students']]\n",
      "C:\\Users\\dpere\\AppData\\Local\\Temp\\ipykernel_3432\\3559353202.py:1: FutureWarning: The provided callable <built-in function sum> is currently using DataFrameGroupBy.sum. In a future version of pandas, the provided callable will be used directly. To keep current behavior pass the string \"sum\" instead.\n",
      "  jtmt_muni_student_gov=drop_geo(taz).pivot_table(index='CR_PNIM',aggfunc=sum)[['student_gov']].fillna(0)\n",
      "C:\\Users\\dpere\\AppData\\Local\\Temp\\ipykernel_3432\\2039466339.py:1: FutureWarning: The provided callable <built-in function sum> is currently using DataFrameGroupBy.sum. In a future version of pandas, the provided callable will be used directly. To keep current behavior pass the string \"sum\" instead.\n",
      "  taz['student_chardi_not_gov']=drop_geo(student_chardi_not_gov_with_taz).pivot_table(index='Taz_num',aggfunc=sum)[['num_students']]\n",
      "C:\\Users\\dpere\\AppData\\Local\\Temp\\ipykernel_3432\\3154822318.py:1: FutureWarning: The provided callable <built-in function sum> is currently using DataFrameGroupBy.sum. In a future version of pandas, the provided callable will be used directly. To keep current behavior pass the string \"sum\" instead.\n",
      "  drop_geo(student_chardi_not_gov_with_taz).pivot_table(index='Taz_num',aggfunc=sum)#[['num_students']]\n",
      "C:\\Users\\dpere\\AppData\\Local\\Temp\\ipykernel_3432\\4193798019.py:1: FutureWarning: The provided callable <built-in function sum> is currently using DataFrameGroupBy.sum. In a future version of pandas, the provided callable will be used directly. To keep current behavior pass the string \"sum\" instead.\n",
      "  student_arab_not_gov=student_arab_not_gov.pivot_table(index='Taz_num',aggfunc=sum)[['num_student']]\n",
      "C:\\Users\\dpere\\AppData\\Local\\Temp\\ipykernel_3432\\3280035634.py:1: FutureWarning: The provided callable <built-in function sum> is currently using DataFrameGroupBy.sum. In a future version of pandas, the provided callable will be used directly. To keep current behavior pass the string \"sum\" instead.\n",
      "  taz['uni_students']=uni_students_with_taz[['Taz_num','num_students']].pivot_table(index='Taz_num',aggfunc=sum)\n",
      "C:\\Users\\dpere\\AppData\\Local\\Temp\\ipykernel_3432\\1149148403.py:1: FutureWarning: The provided callable <built-in function sum> is currently using DataFrameGroupBy.sum. In a future version of pandas, the provided callable will be used directly. To keep current behavior pass the string \"sum\" instead.\n",
      "  taz['emp_from_uni_student']=uni_students_with_taz[['Taz_num','emp_uni']].pivot_table(index='Taz_num',aggfunc=sum)\n",
      "C:\\Users\\dpere\\AppData\\Local\\Temp\\ipykernel_3432\\1027504701.py:1: FutureWarning: Setting an item of incompatible dtype is deprecated and will raise in a future error of pandas. Value '[211.55       311.6        203.4        219.5        344.425\n",
      "  90.35        56.075       25.39016076  73.20626374  73.23431062\n",
      "  82.10695662 230.30070665 343.62390833 337.025      366.03886321\n",
      " 105.80109167 231.87527165  55.25400185  77.16804338 253.975\n",
      " 271.6075202  128.8788284  132.64795356 192.81912699 152.39663145\n",
      "  41.96477747  13.99356016  95.41456334 242.36643815 121.83933175\n",
      " 217.05580154  79.4         61.525      194.025       89.10633285\n",
      " 261.06314994  13.61840831  66.66415402 125.9366734  493.40591382\n",
      "  13.875      303.175      179.34455817  52.35639892  74.39291965\n",
      " 534.43208035 416.82403926 222.70253076 354.0576974  276.\n",
      " 350.08974276 300.08391068   8.1        103.24850102  62.84563695\n",
      " 294.26060716 188.67566285  44.13980319 159.3154777  196.63301559\n",
      " 193.97893162  45.89112945]' has dtype incompatible with int64, please explicitly cast to a compatible dtype first.\n",
      "  taz.loc[(taz['main_secto']=='U_Orthodox')&(taz['kollim_demand']>taz['student_yeshiva_with_add_from_old']),'add_from_kollim_demand']=taz['kollim_demand']-taz['student_yeshiva_with_add_from_old']\n"
     ]
    }
   ],
   "source": [
    "%run \"students_current_year_230706.ipynb\""
   ]
  },
  {
   "cell_type": "markdown",
   "id": "4e3f42f8",
   "metadata": {},
   "source": [
    "## להעלות שכבות"
   ]
  },
  {
   "cell_type": "code",
   "execution_count": 12,
   "id": "a0fdda8d",
   "metadata": {},
   "outputs": [],
   "source": [
    "path=r'{}\\background_files\\EMP_KIBOLET.gdb'.format(software_folder_location)\n",
    "EMP_kibolet=up_load_gdb(path,'EMP_kibolet')"
   ]
  },
  {
   "cell_type": "code",
   "execution_count": 13,
   "id": "ad8ab1b1",
   "metadata": {},
   "outputs": [],
   "source": [
    "EMP_kibolet=EMP_kibolet.fillna(0)"
   ]
  },
  {
   "cell_type": "code",
   "execution_count": 14,
   "id": "b2d50ac8",
   "metadata": {},
   "outputs": [],
   "source": [
    "EMP_kibolet['emp_without_palestin']=EMP_kibolet['kayim_emp']-EMP_kibolet['Palestinians']"
   ]
  },
  {
   "cell_type": "code",
   "execution_count": 15,
   "id": "b417c7e4",
   "metadata": {},
   "outputs": [],
   "source": [
    "emp_without_palestin_not_okev=EMP_kibolet['emp_without_palestin'].sum().item()"
   ]
  },
  {
   "cell_type": "code",
   "execution_count": 16,
   "id": "aa5bd8a4",
   "metadata": {},
   "outputs": [],
   "source": [
    "emp_Education=taz.query('main_secto!=\"Palestinian\"')['emp_Education'].sum().item()"
   ]
  },
  {
   "cell_type": "markdown",
   "id": "2bfcfaff",
   "metadata": {},
   "source": [
    "## הוספת סטודנטים לאוכלוסיה ולהתפלגות גילים"
   ]
  },
  {
   "cell_type": "code",
   "execution_count": 17,
   "id": "03a9b835",
   "metadata": {},
   "outputs": [],
   "source": [
    "student_dorms=up_load_shp(r'{}\\background_files\\student_dorms.shp'.format(software_folder_location))\n"
   ]
  },
  {
   "cell_type": "code",
   "execution_count": 18,
   "id": "8dbf0217",
   "metadata": {},
   "outputs": [
    {
     "name": "stderr",
     "output_type": "stream",
     "text": [
      "C:\\Users\\dpere\\AppData\\Local\\Temp\\ipykernel_3432\\1459382123.py:2: FutureWarning: The provided callable <built-in function sum> is currently using DataFrameGroupBy.sum. In a future version of pandas, the provided callable will be used directly. To keep current behavior pass the string \"sum\" instead.\n",
      "  taz['student_dorms']=gpd.sjoin(taz[['geometry']].reset_index(),student_dorms)[['Taz_num','student_nu']].pivot_table(index='Taz_num',aggfunc=sum)\n"
     ]
    }
   ],
   "source": [
    "# taz['student_dorms']=gpd.sjoin(taz[['geometry']].reset_index(),student_dorms).pivot_table(index='Taz_num',aggfunc=sum)[['student_nu']]\n",
    "taz['student_dorms']=gpd.sjoin(taz[['geometry']].reset_index(),student_dorms)[['Taz_num','student_nu']].pivot_table(index='Taz_num',aggfunc=sum)"
   ]
  },
  {
   "cell_type": "code",
   "execution_count": 19,
   "id": "07653bd4",
   "metadata": {},
   "outputs": [],
   "source": [
    "taz=taz.fillna(0)"
   ]
  },
  {
   "cell_type": "code",
   "execution_count": 20,
   "id": "770e8459",
   "metadata": {},
   "outputs": [],
   "source": [
    "taz['pop_without_dorms_yeshiva']=taz['pop']"
   ]
  },
  {
   "cell_type": "code",
   "execution_count": 21,
   "id": "51f6c975",
   "metadata": {},
   "outputs": [],
   "source": [
    "taz['pop']=taz['pop']+taz['student_dorms']"
   ]
  },
  {
   "cell_type": "code",
   "execution_count": 22,
   "id": "8cd43571",
   "metadata": {},
   "outputs": [],
   "source": [
    "taz['pop_20_just_from_aprt']=taz['pop_20']"
   ]
  },
  {
   "cell_type": "code",
   "execution_count": 23,
   "id": "c8425b9b",
   "metadata": {},
   "outputs": [],
   "source": [
    "taz['pop_25_just_from_aprt']=taz['pop_25']"
   ]
  },
  {
   "cell_type": "code",
   "execution_count": 24,
   "id": "8aea7898",
   "metadata": {},
   "outputs": [],
   "source": [
    "taz['pop_20']=taz['pop_20']+taz['student_dorms']*0.6"
   ]
  },
  {
   "cell_type": "code",
   "execution_count": 25,
   "id": "67609ae7",
   "metadata": {},
   "outputs": [],
   "source": [
    "taz['pop_25']=taz['pop_25']+taz['student_dorms']*0.4"
   ]
  },
  {
   "cell_type": "code",
   "execution_count": 26,
   "id": "95bbcee0",
   "metadata": {},
   "outputs": [
    {
     "data": {
      "text/html": [
       "<div>\n",
       "<style scoped>\n",
       "    .dataframe tbody tr th:only-of-type {\n",
       "        vertical-align: middle;\n",
       "    }\n",
       "\n",
       "    .dataframe tbody tr th {\n",
       "        vertical-align: top;\n",
       "    }\n",
       "\n",
       "    .dataframe thead th {\n",
       "        text-align: right;\n",
       "    }\n",
       "</style>\n",
       "<table border=\"1\" class=\"dataframe\">\n",
       "  <thead>\n",
       "    <tr style=\"text-align: right;\">\n",
       "      <th></th>\n",
       "      <th>CR_PNIM</th>\n",
       "      <th>Join_Count</th>\n",
       "      <th>TARGET_FID</th>\n",
       "      <th>Agg_taz_nu</th>\n",
       "      <th>Taz_name</th>\n",
       "      <th>Arab</th>\n",
       "      <th>arabs_behi</th>\n",
       "      <th>Jewish</th>\n",
       "      <th>Palestinia</th>\n",
       "      <th>U_Orthodox</th>\n",
       "      <th>main_secto</th>\n",
       "      <th>ENG_NAME_n</th>\n",
       "      <th>Muni_Heb</th>\n",
       "      <th>Sug_Muni</th>\n",
       "      <th>jeru_metro</th>\n",
       "      <th>zonetype</th>\n",
       "      <th>in_jerusal</th>\n",
       "      <th>SCHN_NAME</th>\n",
       "      <th>geometry</th>\n",
       "      <th>STAT</th>\n",
       "      <th>aprt_20</th>\n",
       "      <th>pop</th>\n",
       "      <th>pop_0</th>\n",
       "      <th>pop_10</th>\n",
       "      <th>pop_15</th>\n",
       "      <th>pop_20</th>\n",
       "      <th>pop_25</th>\n",
       "      <th>pop_30</th>\n",
       "      <th>pop_35</th>\n",
       "      <th>pop_40</th>\n",
       "      <th>pop_45</th>\n",
       "      <th>pop_5</th>\n",
       "      <th>pop_50</th>\n",
       "      <th>pop_55</th>\n",
       "      <th>pop_60</th>\n",
       "      <th>pop_65</th>\n",
       "      <th>pop_70</th>\n",
       "      <th>pop_75up</th>\n",
       "      <th>pop_hardi</th>\n",
       "      <th>precent_of_stat_data</th>\n",
       "      <th>pre_hardi</th>\n",
       "      <th>hh_size</th>\n",
       "      <th>pop_check</th>\n",
       "      <th>student_toddlers</th>\n",
       "      <th>student_gov</th>\n",
       "      <th>delta_student</th>\n",
       "      <th>student_demand</th>\n",
       "      <th>student_demand_left</th>\n",
       "      <th>student_demand_left_sum_by_muni</th>\n",
       "      <th>student_demand_left_pre</th>\n",
       "      <th>cbs_muni_student_left_by_pre_of_demand_left</th>\n",
       "      <th>jew</th>\n",
       "      <th>student_demand_pre</th>\n",
       "      <th>cbs_muni_student_left_by_pre_of_demand</th>\n",
       "      <th>student_for_Control</th>\n",
       "      <th>student_chardi_not_gov</th>\n",
       "      <th>student_arab_not_gov</th>\n",
       "      <th>student</th>\n",
       "      <th>uni_students</th>\n",
       "      <th>emp_from_uni_student</th>\n",
       "      <th>old_student_yeshiva</th>\n",
       "      <th>yeshiva_dorms_pop_15</th>\n",
       "      <th>yeshiva_dorms_pop_20</th>\n",
       "      <th>yeshiva_dorms_pop_25</th>\n",
       "      <th>yeshiva_dorms_pop_sum</th>\n",
       "      <th>emp_from_Yeshiva_student</th>\n",
       "      <th>student_yeshiva</th>\n",
       "      <th>add_from_old_student_yeshiva</th>\n",
       "      <th>kollim_demand</th>\n",
       "      <th>add_from_kollim_demand</th>\n",
       "      <th>student_yeshiva_with_add_from_old</th>\n",
       "      <th>student_yeshiva_and_kollim</th>\n",
       "      <th>emp_from_student</th>\n",
       "      <th>emp_Education</th>\n",
       "      <th>student_dorms</th>\n",
       "      <th>pop_without_dorms_yeshiva</th>\n",
       "      <th>pop_20_just_from_aprt</th>\n",
       "      <th>pop_25_just_from_aprt</th>\n",
       "    </tr>\n",
       "    <tr>\n",
       "      <th>Taz_num</th>\n",
       "      <th></th>\n",
       "      <th></th>\n",
       "      <th></th>\n",
       "      <th></th>\n",
       "      <th></th>\n",
       "      <th></th>\n",
       "      <th></th>\n",
       "      <th></th>\n",
       "      <th></th>\n",
       "      <th></th>\n",
       "      <th></th>\n",
       "      <th></th>\n",
       "      <th></th>\n",
       "      <th></th>\n",
       "      <th></th>\n",
       "      <th></th>\n",
       "      <th></th>\n",
       "      <th></th>\n",
       "      <th></th>\n",
       "      <th></th>\n",
       "      <th></th>\n",
       "      <th></th>\n",
       "      <th></th>\n",
       "      <th></th>\n",
       "      <th></th>\n",
       "      <th></th>\n",
       "      <th></th>\n",
       "      <th></th>\n",
       "      <th></th>\n",
       "      <th></th>\n",
       "      <th></th>\n",
       "      <th></th>\n",
       "      <th></th>\n",
       "      <th></th>\n",
       "      <th></th>\n",
       "      <th></th>\n",
       "      <th></th>\n",
       "      <th></th>\n",
       "      <th></th>\n",
       "      <th></th>\n",
       "      <th></th>\n",
       "      <th></th>\n",
       "      <th></th>\n",
       "      <th></th>\n",
       "      <th></th>\n",
       "      <th></th>\n",
       "      <th></th>\n",
       "      <th></th>\n",
       "      <th></th>\n",
       "      <th></th>\n",
       "      <th></th>\n",
       "      <th></th>\n",
       "      <th></th>\n",
       "      <th></th>\n",
       "      <th></th>\n",
       "      <th></th>\n",
       "      <th></th>\n",
       "      <th></th>\n",
       "      <th></th>\n",
       "      <th></th>\n",
       "      <th></th>\n",
       "      <th></th>\n",
       "      <th></th>\n",
       "      <th></th>\n",
       "      <th></th>\n",
       "      <th></th>\n",
       "      <th></th>\n",
       "      <th></th>\n",
       "      <th></th>\n",
       "      <th></th>\n",
       "      <th></th>\n",
       "      <th></th>\n",
       "      <th></th>\n",
       "      <th></th>\n",
       "      <th></th>\n",
       "      <th></th>\n",
       "      <th></th>\n",
       "      <th></th>\n",
       "    </tr>\n",
       "  </thead>\n",
       "  <tbody>\n",
       "  </tbody>\n",
       "</table>\n",
       "</div>"
      ],
      "text/plain": [
       "Empty GeoDataFrame\n",
       "Columns: [CR_PNIM, Join_Count, TARGET_FID, Agg_taz_nu, Taz_name, Arab, arabs_behi, Jewish, Palestinia, U_Orthodox, main_secto, ENG_NAME_n, Muni_Heb, Sug_Muni, jeru_metro, zonetype, in_jerusal, SCHN_NAME, geometry, STAT, aprt_20, pop, pop_0, pop_10, pop_15, pop_20, pop_25, pop_30, pop_35, pop_40, pop_45, pop_5, pop_50, pop_55, pop_60, pop_65, pop_70, pop_75up, pop_hardi, precent_of_stat_data, pre_hardi, hh_size, pop_check, student_toddlers, student_gov, delta_student, student_demand, student_demand_left, student_demand_left_sum_by_muni, student_demand_left_pre, cbs_muni_student_left_by_pre_of_demand_left, jew, student_demand_pre, cbs_muni_student_left_by_pre_of_demand, student_for_Control, student_chardi_not_gov, student_arab_not_gov, student, uni_students, emp_from_uni_student, old_student_yeshiva, yeshiva_dorms_pop_15, yeshiva_dorms_pop_20, yeshiva_dorms_pop_25, yeshiva_dorms_pop_sum, emp_from_Yeshiva_student, student_yeshiva, add_from_old_student_yeshiva, kollim_demand, add_from_kollim_demand, student_yeshiva_with_add_from_old, student_yeshiva_and_kollim, emp_from_student, emp_Education, student_dorms, pop_without_dorms_yeshiva, pop_20_just_from_aprt, pop_25_just_from_aprt]\n",
       "Index: []"
      ]
     },
     "execution_count": 26,
     "metadata": {},
     "output_type": "execute_result"
    }
   ],
   "source": [
    "col=['pop_0',\n",
    " 'pop_10',\n",
    " 'pop_15',\n",
    " 'pop_20',\n",
    " 'pop_25',\n",
    " 'pop_30',\n",
    " 'pop_35',\n",
    " 'pop_40',\n",
    " 'pop_45',\n",
    " 'pop_5',\n",
    " 'pop_50',\n",
    " 'pop_55',\n",
    " 'pop_60',\n",
    " 'pop_65',\n",
    " 'pop_70',\n",
    " 'pop_75up',]\n",
    "\n",
    "taz['pop_check']=round(taz[col].sum(axis=1)-taz['pop'])\n",
    "\n",
    "taz.loc[taz['main_secto']!=\"Palestinian\"].loc[taz['pop_check']!=0]"
   ]
  },
  {
   "cell_type": "markdown",
   "id": "1863c88f",
   "metadata": {},
   "source": [
    "## הוספת תלמידי ישיבה (באזורים חרדיים) אל כמות אוכלוסיה,התפלגות גילים "
   ]
  },
  {
   "cell_type": "code",
   "execution_count": 27,
   "id": "efbf252c",
   "metadata": {},
   "outputs": [],
   "source": [
    "taz['pop_15_just_from_aprt']=taz['pop_15']"
   ]
  },
  {
   "cell_type": "code",
   "execution_count": 28,
   "id": "db0567b1",
   "metadata": {},
   "outputs": [],
   "source": [
    "\n",
    "taz.loc[taz['main_secto']==\"U_Orthodox\",'pop']=taz['pop']+taz['yeshiva_dorms_pop_sum']\n",
    "\n",
    "taz.loc[taz['main_secto']==\"U_Orthodox\",'pop_15']=taz['pop_15']+taz['yeshiva_dorms_pop_15']\n",
    "\n",
    "taz.loc[taz['main_secto']==\"U_Orthodox\",'pop_20']=taz['pop_20']+taz['yeshiva_dorms_pop_20']\n",
    "\n",
    "taz.loc[taz['main_secto']==\"U_Orthodox\",'pop_25']=taz['pop_25']+taz['yeshiva_dorms_pop_25']"
   ]
  },
  {
   "cell_type": "code",
   "execution_count": 29,
   "id": "d2667d70",
   "metadata": {},
   "outputs": [
    {
     "data": {
      "text/html": [
       "<div>\n",
       "<style scoped>\n",
       "    .dataframe tbody tr th:only-of-type {\n",
       "        vertical-align: middle;\n",
       "    }\n",
       "\n",
       "    .dataframe tbody tr th {\n",
       "        vertical-align: top;\n",
       "    }\n",
       "\n",
       "    .dataframe thead th {\n",
       "        text-align: right;\n",
       "    }\n",
       "</style>\n",
       "<table border=\"1\" class=\"dataframe\">\n",
       "  <thead>\n",
       "    <tr style=\"text-align: right;\">\n",
       "      <th></th>\n",
       "      <th>CR_PNIM</th>\n",
       "      <th>Join_Count</th>\n",
       "      <th>TARGET_FID</th>\n",
       "      <th>Agg_taz_nu</th>\n",
       "      <th>Taz_name</th>\n",
       "      <th>Arab</th>\n",
       "      <th>arabs_behi</th>\n",
       "      <th>Jewish</th>\n",
       "      <th>Palestinia</th>\n",
       "      <th>U_Orthodox</th>\n",
       "      <th>main_secto</th>\n",
       "      <th>ENG_NAME_n</th>\n",
       "      <th>Muni_Heb</th>\n",
       "      <th>Sug_Muni</th>\n",
       "      <th>jeru_metro</th>\n",
       "      <th>zonetype</th>\n",
       "      <th>in_jerusal</th>\n",
       "      <th>SCHN_NAME</th>\n",
       "      <th>geometry</th>\n",
       "      <th>STAT</th>\n",
       "      <th>aprt_20</th>\n",
       "      <th>pop</th>\n",
       "      <th>pop_0</th>\n",
       "      <th>pop_10</th>\n",
       "      <th>pop_15</th>\n",
       "      <th>pop_20</th>\n",
       "      <th>pop_25</th>\n",
       "      <th>pop_30</th>\n",
       "      <th>pop_35</th>\n",
       "      <th>pop_40</th>\n",
       "      <th>pop_45</th>\n",
       "      <th>pop_5</th>\n",
       "      <th>pop_50</th>\n",
       "      <th>pop_55</th>\n",
       "      <th>pop_60</th>\n",
       "      <th>pop_65</th>\n",
       "      <th>pop_70</th>\n",
       "      <th>pop_75up</th>\n",
       "      <th>pop_hardi</th>\n",
       "      <th>precent_of_stat_data</th>\n",
       "      <th>pre_hardi</th>\n",
       "      <th>hh_size</th>\n",
       "      <th>pop_check</th>\n",
       "      <th>student_toddlers</th>\n",
       "      <th>student_gov</th>\n",
       "      <th>delta_student</th>\n",
       "      <th>student_demand</th>\n",
       "      <th>student_demand_left</th>\n",
       "      <th>student_demand_left_sum_by_muni</th>\n",
       "      <th>student_demand_left_pre</th>\n",
       "      <th>cbs_muni_student_left_by_pre_of_demand_left</th>\n",
       "      <th>jew</th>\n",
       "      <th>student_demand_pre</th>\n",
       "      <th>cbs_muni_student_left_by_pre_of_demand</th>\n",
       "      <th>student_for_Control</th>\n",
       "      <th>student_chardi_not_gov</th>\n",
       "      <th>student_arab_not_gov</th>\n",
       "      <th>student</th>\n",
       "      <th>uni_students</th>\n",
       "      <th>emp_from_uni_student</th>\n",
       "      <th>old_student_yeshiva</th>\n",
       "      <th>yeshiva_dorms_pop_15</th>\n",
       "      <th>yeshiva_dorms_pop_20</th>\n",
       "      <th>yeshiva_dorms_pop_25</th>\n",
       "      <th>yeshiva_dorms_pop_sum</th>\n",
       "      <th>emp_from_Yeshiva_student</th>\n",
       "      <th>student_yeshiva</th>\n",
       "      <th>add_from_old_student_yeshiva</th>\n",
       "      <th>kollim_demand</th>\n",
       "      <th>add_from_kollim_demand</th>\n",
       "      <th>student_yeshiva_with_add_from_old</th>\n",
       "      <th>student_yeshiva_and_kollim</th>\n",
       "      <th>emp_from_student</th>\n",
       "      <th>emp_Education</th>\n",
       "      <th>student_dorms</th>\n",
       "      <th>pop_without_dorms_yeshiva</th>\n",
       "      <th>pop_20_just_from_aprt</th>\n",
       "      <th>pop_25_just_from_aprt</th>\n",
       "      <th>pop_15_just_from_aprt</th>\n",
       "    </tr>\n",
       "    <tr>\n",
       "      <th>Taz_num</th>\n",
       "      <th></th>\n",
       "      <th></th>\n",
       "      <th></th>\n",
       "      <th></th>\n",
       "      <th></th>\n",
       "      <th></th>\n",
       "      <th></th>\n",
       "      <th></th>\n",
       "      <th></th>\n",
       "      <th></th>\n",
       "      <th></th>\n",
       "      <th></th>\n",
       "      <th></th>\n",
       "      <th></th>\n",
       "      <th></th>\n",
       "      <th></th>\n",
       "      <th></th>\n",
       "      <th></th>\n",
       "      <th></th>\n",
       "      <th></th>\n",
       "      <th></th>\n",
       "      <th></th>\n",
       "      <th></th>\n",
       "      <th></th>\n",
       "      <th></th>\n",
       "      <th></th>\n",
       "      <th></th>\n",
       "      <th></th>\n",
       "      <th></th>\n",
       "      <th></th>\n",
       "      <th></th>\n",
       "      <th></th>\n",
       "      <th></th>\n",
       "      <th></th>\n",
       "      <th></th>\n",
       "      <th></th>\n",
       "      <th></th>\n",
       "      <th></th>\n",
       "      <th></th>\n",
       "      <th></th>\n",
       "      <th></th>\n",
       "      <th></th>\n",
       "      <th></th>\n",
       "      <th></th>\n",
       "      <th></th>\n",
       "      <th></th>\n",
       "      <th></th>\n",
       "      <th></th>\n",
       "      <th></th>\n",
       "      <th></th>\n",
       "      <th></th>\n",
       "      <th></th>\n",
       "      <th></th>\n",
       "      <th></th>\n",
       "      <th></th>\n",
       "      <th></th>\n",
       "      <th></th>\n",
       "      <th></th>\n",
       "      <th></th>\n",
       "      <th></th>\n",
       "      <th></th>\n",
       "      <th></th>\n",
       "      <th></th>\n",
       "      <th></th>\n",
       "      <th></th>\n",
       "      <th></th>\n",
       "      <th></th>\n",
       "      <th></th>\n",
       "      <th></th>\n",
       "      <th></th>\n",
       "      <th></th>\n",
       "      <th></th>\n",
       "      <th></th>\n",
       "      <th></th>\n",
       "      <th></th>\n",
       "      <th></th>\n",
       "      <th></th>\n",
       "      <th></th>\n",
       "      <th></th>\n",
       "    </tr>\n",
       "  </thead>\n",
       "  <tbody>\n",
       "  </tbody>\n",
       "</table>\n",
       "</div>"
      ],
      "text/plain": [
       "Empty GeoDataFrame\n",
       "Columns: [CR_PNIM, Join_Count, TARGET_FID, Agg_taz_nu, Taz_name, Arab, arabs_behi, Jewish, Palestinia, U_Orthodox, main_secto, ENG_NAME_n, Muni_Heb, Sug_Muni, jeru_metro, zonetype, in_jerusal, SCHN_NAME, geometry, STAT, aprt_20, pop, pop_0, pop_10, pop_15, pop_20, pop_25, pop_30, pop_35, pop_40, pop_45, pop_5, pop_50, pop_55, pop_60, pop_65, pop_70, pop_75up, pop_hardi, precent_of_stat_data, pre_hardi, hh_size, pop_check, student_toddlers, student_gov, delta_student, student_demand, student_demand_left, student_demand_left_sum_by_muni, student_demand_left_pre, cbs_muni_student_left_by_pre_of_demand_left, jew, student_demand_pre, cbs_muni_student_left_by_pre_of_demand, student_for_Control, student_chardi_not_gov, student_arab_not_gov, student, uni_students, emp_from_uni_student, old_student_yeshiva, yeshiva_dorms_pop_15, yeshiva_dorms_pop_20, yeshiva_dorms_pop_25, yeshiva_dorms_pop_sum, emp_from_Yeshiva_student, student_yeshiva, add_from_old_student_yeshiva, kollim_demand, add_from_kollim_demand, student_yeshiva_with_add_from_old, student_yeshiva_and_kollim, emp_from_student, emp_Education, student_dorms, pop_without_dorms_yeshiva, pop_20_just_from_aprt, pop_25_just_from_aprt, pop_15_just_from_aprt]\n",
       "Index: []"
      ]
     },
     "execution_count": 29,
     "metadata": {},
     "output_type": "execute_result"
    }
   ],
   "source": [
    "col=['pop_0',\n",
    " 'pop_10',\n",
    " 'pop_15',\n",
    " 'pop_20',\n",
    " 'pop_25',\n",
    " 'pop_30',\n",
    " 'pop_35',\n",
    " 'pop_40',\n",
    " 'pop_45',\n",
    " 'pop_5',\n",
    " 'pop_50',\n",
    " 'pop_55',\n",
    " 'pop_60',\n",
    " 'pop_65',\n",
    " 'pop_70',\n",
    " 'pop_75up',]\n",
    "\n",
    "taz['pop_check']=round(taz[col].sum(axis=1)-taz['pop'])\n",
    "\n",
    "taz.loc[taz['main_secto']!=\"Palestinian\"].loc[taz['pop_check']!=0]"
   ]
  },
  {
   "cell_type": "markdown",
   "id": "206b2d14",
   "metadata": {},
   "source": [
    "## כימות מועסקים במרחב צתאל"
   ]
  },
  {
   "cell_type": "code",
   "execution_count": 30,
   "id": "2f32e11c",
   "metadata": {},
   "outputs": [],
   "source": [
    "pre_woman=0.5"
   ]
  },
  {
   "cell_type": "code",
   "execution_count": 31,
   "id": "4d75461d",
   "metadata": {},
   "outputs": [],
   "source": [
    "pre_man=1-pre_woman"
   ]
  },
  {
   "cell_type": "code",
   "execution_count": 32,
   "id": "0cfc5eee",
   "metadata": {},
   "outputs": [],
   "source": [
    "work_age=[ 'pop_25',\n",
    " 'pop_30',\n",
    " 'pop_35',\n",
    " 'pop_40',\n",
    " 'pop_45',\n",
    " 'pop_50',\n",
    " 'pop_55',\n",
    " 'pop_60']"
   ]
  },
  {
   "cell_type": "code",
   "execution_count": 33,
   "id": "05e96c7c",
   "metadata": {},
   "outputs": [],
   "source": [
    "under_work_age=[ 'pop_15', 'pop_20']"
   ]
  },
  {
   "cell_type": "code",
   "execution_count": 34,
   "id": "6f834426",
   "metadata": {},
   "outputs": [],
   "source": [
    "over_work_age=[ 'pop_65', 'pop_70', 'pop_75up']"
   ]
  },
  {
   "cell_type": "code",
   "execution_count": 35,
   "id": "eb487660",
   "metadata": {},
   "outputs": [],
   "source": [
    "taz['work_age']=taz[work_age].sum(axis=1)\n",
    "\n",
    "taz['under_work_age']=taz[under_work_age].sum(axis=1)\n",
    "\n",
    "taz['over_work_age']=taz[over_work_age].sum(axis=1)"
   ]
  },
  {
   "cell_type": "code",
   "execution_count": 36,
   "id": "d2d78477",
   "metadata": {},
   "outputs": [],
   "source": [
    "sector='U_Orthodox'\n",
    "\n",
    "taz.loc[taz['main_secto']==sector,'pop_emp']=taz['work_age']*pre_woman*0.75+taz['work_age']*pre_man*0.55\n",
    "taz.loc[taz['main_secto']==sector,'pop_emp']=taz['pop_emp']+taz['under_work_age']*pre_woman*0.07+taz['under_work_age']*pre_man*0.09\n",
    "taz.loc[taz['main_secto']==sector,'pop_emp']=taz['pop_emp']+taz['over_work_age']*pre_woman*0.05+taz['over_work_age']*pre_man*0.09\n",
    "\n",
    "sector='Jewish'\n",
    "\n",
    "taz.loc[taz['main_secto']==sector,'pop_emp']=taz['work_age']*pre_woman*0.9+taz['work_age']*pre_man*0.92\n",
    "taz.loc[taz['main_secto']==sector,'pop_emp']=taz['pop_emp']+taz['under_work_age']*pre_woman*0.20+taz['under_work_age']*pre_man*0.15\n",
    "taz.loc[taz['main_secto']==sector,'pop_emp']=taz['pop_emp']+taz['over_work_age']*pre_woman*0.2+taz['over_work_age']*pre_man*0.15\n",
    "\n",
    "sector='Arab'\n",
    "\n",
    "taz.loc[taz['main_secto']==sector,'pop_emp']=taz['work_age']*pre_woman*0.25+taz['work_age']*pre_man*0.7\n",
    "taz.loc[taz['main_secto']==sector,'pop_emp']=taz['pop_emp']+taz['under_work_age']*pre_woman*0.2+taz['under_work_age']*pre_man*0.15\n",
    "taz.loc[taz['main_secto']==sector,'pop_emp']=taz['pop_emp']+taz['over_work_age']*pre_woman*0.05+taz['over_work_age']*pre_man*0.09\n",
    "\n",
    "sector='arabs_behined_seperation_wall'\n",
    "\n",
    "taz.loc[taz['main_secto']==sector,'pop_emp']=taz['work_age']*pre_woman*0.25+taz['work_age']*pre_man*0.7\n",
    "taz.loc[taz['main_secto']==sector,'pop_emp']=taz['pop_emp']+taz['under_work_age']*pre_woman*0.2+taz['under_work_age']*pre_man*0.15\n",
    "taz.loc[taz['main_secto']==sector,'pop_emp']=taz['pop_emp']+taz['over_work_age']*pre_woman*0.05+taz['over_work_age']*pre_man*0.09\n"
   ]
  },
  {
   "cell_type": "markdown",
   "id": "30a016c8",
   "metadata": {},
   "source": [
    "## חישוב אבטלה"
   ]
  },
  {
   "cell_type": "code",
   "execution_count": 37,
   "id": "d415a3fb",
   "metadata": {},
   "outputs": [],
   "source": [
    "taz['pop_emp_employed']=0"
   ]
  },
  {
   "cell_type": "code",
   "execution_count": 38,
   "id": "2b419962",
   "metadata": {},
   "outputs": [
    {
     "name": "stderr",
     "output_type": "stream",
     "text": [
      "C:\\Users\\dpere\\AppData\\Local\\Temp\\ipykernel_3432\\2869267454.py:1: FutureWarning: Setting an item of incompatible dtype is deprecated and will raise in a future error of pandas. Value '[1058.5125      925.0696     1368.9416     1401.4269      900.4801\n",
      "  662.6458      925.0599      932.1215      931.33828983  997.1115\n",
      "  567.256       832.8517     1120.5246      658.6882      798.3682\n",
      " 1469.065      1668.1284      882.8552     1070.52809036  841.5235\n",
      "  547.8269      625.63533771  421.00136291 1126.267       588.8191\n",
      "  497.06827099  192.98137702  550.82128767  652.67722429    0.\n",
      "  199.05712       0.         1029.46150669  958.554      1089.47169269\n",
      "  258.27169331  316.24394151  868.35219351  381.68004435  346.99131233\n",
      " 1150.0223      711.9509      926.2918      586.98056974  970.0056804\n",
      "  242.39101412  485.02180886  448.62910236  700.57393582  187.79718023\n",
      "  912.98938137  491.97901778    0.           31.82368444  345.50725071\n",
      "  424.43994929  589.5392783   674.3028217  1079.7244229   492.62749824\n",
      "  397.46436239  377.25696761   98.36363601  188.35185548  126.558586\n",
      "  223.64763843  264.48028347 1127.07201653  345.29532287  731.3357684\n",
      "  540.14168147 1054.80462152  395.49862658 1556.6851      594.36104784\n",
      "  435.31335216  221.451         0.            0.         1393.9198457\n",
      "  721.1368      704.8214      527.7338739   610.28614103  825.11645426\n",
      " 1169.80494574  763.64114769  722.70549344  363.89497342  859.62638597\n",
      "  337.5187576   331.66453881   26.4907     1149.159       807.03981728\n",
      "    0.          821.38017823  164.60664178    0.          859.88343512\n",
      "  874.92297156  958.18094175 1030.52232733 1260.89713291  813.1122\n",
      " 1294.95        883.7476     1285.5022      831.9884      994.5216\n",
      "  526.15593447 1330.4035     1047.30046553    0.          196.82521355\n",
      " 3559.29679765  386.69356528 3016.20211554 3209.42870797 1792.68761483\n",
      " 2014.03858517    0.            0.         1303.98795982    0.\n",
      "    0.            6.693         0.            0.            0.\n",
      "    0.            0.            0.         2327.0543108   767.54910769\n",
      "  862.49276997  692.2211     1139.98081887    0.            0.\n",
      "    0.         1778.49546086 1068.60878644  343.6128        0.\n",
      "    0.            0.          288.31147246  158.6891602     0.\n",
      "    0.            0.            0.            0.            0.\n",
      "    0.            0.            0.         1420.66653216 1756.07376784\n",
      "    0.            0.            0.         1284.46185064  651.42724071\n",
      "  806.00014809 1395.7161253  1064.02380638  523.46352561    0.\n",
      "  601.7333678   675.71254652    0.            0.        ]' has dtype incompatible with int64, please explicitly cast to a compatible dtype first.\n",
      "  taz.loc[taz['main_secto']==\"U_Orthodox\",'pop_emp_employed']=taz['pop_emp']*0.97\n"
     ]
    }
   ],
   "source": [
    "taz.loc[taz['main_secto']==\"U_Orthodox\",'pop_emp_employed']=taz['pop_emp']*0.97"
   ]
  },
  {
   "cell_type": "code",
   "execution_count": 39,
   "id": "44040e85",
   "metadata": {},
   "outputs": [],
   "source": [
    "taz.loc[taz['main_secto']==\"Jewish\",'pop_emp_employed']=taz['pop_emp']*0.98"
   ]
  },
  {
   "cell_type": "code",
   "execution_count": 40,
   "id": "df2839c5",
   "metadata": {},
   "outputs": [],
   "source": [
    "taz.loc[taz['jew']==0,'pop_emp_employed']=taz['pop_emp']*0.95"
   ]
  },
  {
   "cell_type": "markdown",
   "id": "e72fd7be",
   "metadata": {},
   "source": [
    "## חישוב יוממות"
   ]
  },
  {
   "cell_type": "code",
   "execution_count": 41,
   "id": "8fcfa506",
   "metadata": {},
   "outputs": [],
   "source": [
    "commuting=up_load_shp(r'{}\\background_files\\commuting_230712.shp'.format(software_folder_location))\n"
   ]
  },
  {
   "cell_type": "code",
   "execution_count": 42,
   "id": "21645b99",
   "metadata": {},
   "outputs": [],
   "source": [
    "taz['commuting']=gpd.sjoin(make_point(taz.reset_index())[['Taz_num','centroid']],commuting[['commuting', 'geometry']]).set_index('Taz_num')['commuting']/100"
   ]
  },
  {
   "cell_type": "code",
   "execution_count": 43,
   "id": "5e4c9b3a",
   "metadata": {},
   "outputs": [],
   "source": [
    "taz['pop_emp_employed_out_of_jtmt_area']=taz['pop_emp_employed']*taz['commuting']"
   ]
  },
  {
   "cell_type": "code",
   "execution_count": 44,
   "id": "e825e90d",
   "metadata": {},
   "outputs": [],
   "source": [
    "emp_left_jtmt_area=taz['pop_emp_employed_out_of_jtmt_area'].sum().item()"
   ]
  },
  {
   "cell_type": "code",
   "execution_count": 45,
   "id": "cefb2329",
   "metadata": {
    "scrolled": false
   },
   "outputs": [
    {
     "data": {
      "text/plain": [
       "94000.0"
      ]
     },
     "execution_count": 45,
     "metadata": {},
     "output_type": "execute_result"
    }
   ],
   "source": [
    "round(emp_left_jtmt_area,-3)"
   ]
  },
  {
   "cell_type": "code",
   "execution_count": 46,
   "id": "7f72ccef",
   "metadata": {},
   "outputs": [],
   "source": [
    "emp_from_jtmt_area=taz['pop_emp_employed'].sum().item()-emp_left_jtmt_area"
   ]
  },
  {
   "cell_type": "code",
   "execution_count": 47,
   "id": "e24fa16b",
   "metadata": {},
   "outputs": [],
   "source": [
    "emp_in_jtmt_area=emp_from_jtmt_area*1.07 #יוממות פנימה מחוץ למרחב"
   ]
  },
  {
   "cell_type": "code",
   "execution_count": 48,
   "id": "f25551a6",
   "metadata": {
    "scrolled": false
   },
   "outputs": [
    {
     "data": {
      "text/plain": [
       "510000.0"
      ]
     },
     "execution_count": 48,
     "metadata": {},
     "output_type": "execute_result"
    }
   ],
   "source": [
    "round(emp_in_jtmt_area,-3)"
   ]
  },
  {
   "cell_type": "code",
   "execution_count": 49,
   "id": "7bc62ff1",
   "metadata": {},
   "outputs": [],
   "source": [
    "emp_in_jtmt_area_without_mobile=emp_in_jtmt_area*0.95 #הפחחת עובדים ניידים"
   ]
  },
  {
   "cell_type": "code",
   "execution_count": 50,
   "id": "c70b8679",
   "metadata": {
    "scrolled": true
   },
   "outputs": [
    {
     "data": {
      "text/plain": [
       "484000.0"
      ]
     },
     "execution_count": 50,
     "metadata": {},
     "output_type": "execute_result"
    }
   ],
   "source": [
    "round(emp_in_jtmt_area_without_mobile,-3)"
   ]
  },
  {
   "cell_type": "code",
   "execution_count": 51,
   "id": "6ef875a9",
   "metadata": {},
   "outputs": [],
   "source": [
    "emp_okev=emp_in_jtmt_area_without_mobile-emp_Education-emp_without_palestin_not_okev"
   ]
  },
  {
   "cell_type": "markdown",
   "id": "83ca98c0",
   "metadata": {},
   "source": [
    "## פיזור עוקב"
   ]
  },
  {
   "cell_type": "code",
   "execution_count": 52,
   "id": "0ebeff07",
   "metadata": {},
   "outputs": [],
   "source": [
    "EMP_kibolet['geometry_buff']=EMP_kibolet.buffer(250)"
   ]
  },
  {
   "cell_type": "code",
   "execution_count": 53,
   "id": "582a6617",
   "metadata": {},
   "outputs": [],
   "source": [
    "EMP_buffer=EMP_kibolet.set_geometry('geometry_buff').query('kayim_emp>0')"
   ]
  },
  {
   "cell_type": "code",
   "execution_count": 54,
   "id": "03971ff0",
   "metadata": {},
   "outputs": [],
   "source": [
    "EMP_buffer=EMP_buffer.dissolve()[['geometry_buff']]"
   ]
  },
  {
   "cell_type": "code",
   "execution_count": 55,
   "id": "03388b7e",
   "metadata": {},
   "outputs": [],
   "source": [
    "taz['taz_area']=taz.area"
   ]
  },
  {
   "cell_type": "code",
   "execution_count": 56,
   "id": "ff021294",
   "metadata": {},
   "outputs": [],
   "source": [
    "emp_buffer_taz=gpd.overlay(EMP_buffer,taz.reset_index())"
   ]
  },
  {
   "cell_type": "code",
   "execution_count": 57,
   "id": "f38427fd",
   "metadata": {},
   "outputs": [],
   "source": [
    "emp_buffer_taz['emp_samll_area']=emp_buffer_taz.area"
   ]
  },
  {
   "cell_type": "code",
   "execution_count": 58,
   "id": "3a0eea39",
   "metadata": {},
   "outputs": [],
   "source": [
    "emp_buffer_taz['emp_pre_from_taz']=emp_buffer_taz['emp_samll_area']/emp_buffer_taz['taz_area']"
   ]
  },
  {
   "cell_type": "code",
   "execution_count": 59,
   "id": "3c05c92c",
   "metadata": {
    "scrolled": true
   },
   "outputs": [],
   "source": [
    "taz_num_no_need_okev=emp_buffer_taz.loc[emp_buffer_taz['emp_pre_from_taz']>0.4].Taz_num.to_list()"
   ]
  },
  {
   "cell_type": "code",
   "execution_count": 60,
   "id": "452348ee",
   "metadata": {},
   "outputs": [],
   "source": [
    "taz['okev']=0\n",
    "taz.loc[(~taz.index.isin(taz_num_no_need_okev))&(taz['pop']>0)&(taz['main_secto']!=\"Palestinia\"),'okev']=1"
   ]
  },
  {
   "cell_type": "code",
   "execution_count": 61,
   "id": "3201c278",
   "metadata": {},
   "outputs": [],
   "source": [
    "taz.loc[taz['main_secto']==\"arabs_behined_seperation_wall\",'okev']=1"
   ]
  },
  {
   "cell_type": "code",
   "execution_count": 62,
   "id": "3c577b92",
   "metadata": {},
   "outputs": [],
   "source": [
    "city_muni=['מודיעין עילית','בית שמש','ירושלים','מודיעין - מכבים - רעות']"
   ]
  },
  {
   "cell_type": "markdown",
   "id": "d0f04db5",
   "metadata": {},
   "source": [
    "## מקדם עוקב"
   ]
  },
  {
   "cell_type": "code",
   "execution_count": 63,
   "id": "ff866567",
   "metadata": {},
   "outputs": [],
   "source": [
    "okev_level=0.15"
   ]
  },
  {
   "cell_type": "code",
   "execution_count": 64,
   "id": "e61741ea",
   "metadata": {},
   "outputs": [],
   "source": [
    "arab_city=taz.query('jew==0 & okev==1')['aprt_20'].sum().item()"
   ]
  },
  {
   "cell_type": "code",
   "execution_count": 65,
   "id": "d0b3ca02",
   "metadata": {},
   "outputs": [],
   "source": [
    "arab_sub=0"
   ]
  },
  {
   "cell_type": "code",
   "execution_count": 66,
   "id": "e39bf93e",
   "metadata": {},
   "outputs": [],
   "source": [
    "ou_sub=taz.query('main_secto==\"U_Orthodox\" & ~Muni_Heb.isin(@city_muni) & okev==1')['aprt_20'].sum().item()"
   ]
  },
  {
   "cell_type": "code",
   "execution_count": 67,
   "id": "64eb71e1",
   "metadata": {},
   "outputs": [],
   "source": [
    "ou_city=taz.query('main_secto==\"U_Orthodox\" & Muni_Heb.isin(@city_muni) & okev==1')['aprt_20'].sum().item()"
   ]
  },
  {
   "cell_type": "code",
   "execution_count": 68,
   "id": "bffba35b",
   "metadata": {},
   "outputs": [],
   "source": [
    "general_city=taz.query('main_secto==\"Jewish\" & Muni_Heb.isin(@city_muni) & okev==1')['aprt_20'].sum().item()"
   ]
  },
  {
   "cell_type": "code",
   "execution_count": 69,
   "id": "9ec329b2",
   "metadata": {},
   "outputs": [],
   "source": [
    "general_sub=taz.query('main_secto==\"Jewish\" & ~Muni_Heb.isin(@city_muni) & okev==1')['aprt_20'].sum().item()"
   ]
  },
  {
   "cell_type": "code",
   "execution_count": 70,
   "id": "52ec1ec4",
   "metadata": {
    "scrolled": true
   },
   "outputs": [],
   "source": [
    "base_okev_factor=(emp_okev-(okev_level*general_city-okev_level*(ou_sub+arab_city)-2*okev_level*arab_sub))/(general_sub+general_city+ou_city+ou_sub+arab_city+arab_sub)"
   ]
  },
  {
   "cell_type": "code",
   "execution_count": 71,
   "id": "689012fb",
   "metadata": {},
   "outputs": [],
   "source": [
    "base_okev_factor=round(base_okev_factor,3)"
   ]
  },
  {
   "cell_type": "code",
   "execution_count": 72,
   "id": "9a28cde3",
   "metadata": {},
   "outputs": [],
   "source": [
    "data = [['Jewish', base_okev_factor,base_okev_factor+okev_level],['arab', base_okev_factor-okev_level,base_okev_factor], ['U_Orthodox',base_okev_factor-2*okev_level,base_okev_factor-okev_level]]\n",
    " \n",
    "# Create the pandas DataFrame\n",
    "df = pd.DataFrame(data, columns=['sector', 'sub','city'])\n",
    "okev_factor=df.set_index('sector')\n",
    "# okev_factor.to_excel(r'\\\\FILE-SRV\\Jtmt\\projections_team\\כללי\\פעולות\\יצירת_מצב_קיים_למס\\output\\okev_factor.xlsx')\n",
    "okev_factor.to_excel(r'{}\\Intermediates\\okev_factor.xlsx'.format(software_folder_location))"
   ]
  },
  {
   "cell_type": "code",
   "execution_count": 73,
   "id": "932873f8",
   "metadata": {},
   "outputs": [],
   "source": [
    "#okev_factor  ##אם ארצה לראות את הטבלה"
   ]
  },
  {
   "cell_type": "code",
   "execution_count": 74,
   "id": "f5bc6a17",
   "metadata": {},
   "outputs": [],
   "source": [
    "taz['emp_okev']=0"
   ]
  },
  {
   "cell_type": "code",
   "execution_count": 75,
   "id": "5721b2ed",
   "metadata": {},
   "outputs": [
    {
     "name": "stderr",
     "output_type": "stream",
     "text": [
      "C:\\Users\\dpere\\AppData\\Local\\Temp\\ipykernel_3432\\2496725524.py:1: FutureWarning: Setting an item of incompatible dtype is deprecated and will raise in a future error of pandas. Value '[2536.68600793  663.95841106 1454.6965302  1162.87507074  461.71011345\n",
      "  181.0381023   563.90819034  387.9984432  1427.00791646  592.29263186\n",
      "  116.29186861  302.98046383  356.89141041  152.32446631   97.17332518\n",
      "  564.66626503  405.94487016  577.96949449  172.90532509  439.25456267\n",
      "  636.55659017  568.59927227  589.87006481  458.39639966  500.73884984\n",
      " 1018.37538885  563.732      2552.23499218  816.3985081   586.78536878\n",
      "  316.21990544  316.56324671  244.08331939  722.5343934   781.28637177\n",
      "  383.56703406  700.3088952   678.22662547  503.27967819  580.20120115\n",
      "  865.88369491 2152.10293558   49.66809796  427.22990387  427.66448377\n",
      "  266.99793209  284.79444143  120.61427701  585.40124266  206.79138999\n",
      "  198.92284348  988.44736647  526.70374934]' has dtype incompatible with int64, please explicitly cast to a compatible dtype first.\n",
      "  taz.loc[(taz['jew']==0)&(taz['okev']==1),'emp_okev']=taz['aprt_20']*okev_factor.loc['arab','city']\n"
     ]
    }
   ],
   "source": [
    "taz.loc[(taz['jew']==0)&(taz['okev']==1),'emp_okev']=taz['aprt_20']*okev_factor.loc['arab','city']"
   ]
  },
  {
   "cell_type": "code",
   "execution_count": 76,
   "id": "e3c0b430",
   "metadata": {},
   "outputs": [],
   "source": [
    "taz.loc[(taz['main_secto']==\"U_Orthodox\")&(~taz['Muni_Heb'].isin(city_muni))&(taz['okev']==1),'emp_okev']=taz['aprt_20']*okev_factor.loc['U_Orthodox','sub']"
   ]
  },
  {
   "cell_type": "code",
   "execution_count": 77,
   "id": "a7a50494",
   "metadata": {},
   "outputs": [],
   "source": [
    "taz.loc[(taz['main_secto']==\"U_Orthodox\")&(taz['Muni_Heb'].isin(city_muni))&(taz['okev']==1),'emp_okev']=taz['aprt_20']*okev_factor.loc['U_Orthodox','city']"
   ]
  },
  {
   "cell_type": "code",
   "execution_count": 78,
   "id": "0bfbaee2",
   "metadata": {},
   "outputs": [],
   "source": [
    "taz.loc[(taz['main_secto']==\"Jewish\")&(taz['Muni_Heb'].isin(city_muni))&(taz['okev']==1),'emp_okev']=taz['aprt_20']*okev_factor.loc['Jewish','city']"
   ]
  },
  {
   "cell_type": "code",
   "execution_count": 79,
   "id": "8b57bf6d",
   "metadata": {},
   "outputs": [],
   "source": [
    "taz.loc[(taz['main_secto']==\"Jewish\")&(~taz['Muni_Heb'].isin(city_muni))&(taz['okev']==1),'emp_okev']=taz['aprt_20']*okev_factor.loc['Jewish','sub']"
   ]
  },
  {
   "cell_type": "code",
   "execution_count": 80,
   "id": "4a7a73bd",
   "metadata": {
    "scrolled": true
   },
   "outputs": [
    {
     "data": {
      "text/plain": [
       "-1816.5115199011634"
      ]
     },
     "execution_count": 80,
     "metadata": {},
     "output_type": "execute_result"
    }
   ],
   "source": [
    "taz.emp_okev.sum().item()-emp_okev"
   ]
  },
  {
   "cell_type": "markdown",
   "id": "d8615aa7",
   "metadata": {},
   "source": [
    "## פיצול שכבת לא עוקב לאזורי תנועה"
   ]
  },
  {
   "cell_type": "code",
   "execution_count": 81,
   "id": "d0a412e7",
   "metadata": {},
   "outputs": [],
   "source": [
    "EMP_kibolet['emp_area']=EMP_kibolet.area"
   ]
  },
  {
   "cell_type": "code",
   "execution_count": 82,
   "id": "f3f9211d",
   "metadata": {},
   "outputs": [],
   "source": [
    "EMP_kibolet['ID']=EMP_kibolet.index"
   ]
  },
  {
   "cell_type": "code",
   "execution_count": 83,
   "id": "0421b10a",
   "metadata": {
    "scrolled": false
   },
   "outputs": [
    {
     "name": "stderr",
     "output_type": "stream",
     "text": [
      "C:\\Users\\dpere\\AppData\\Local\\Temp\\ipykernel_3432\\35171637.py:1: UserWarning: `keep_geom_type=True` in overlay resulted in 270 dropped geometries of different geometry types than df1 has. Set `keep_geom_type=False` to retain all geometries\n",
      "  EMP_kibolet_by_taz=gpd.overlay(taz.reset_index()[['Taz_num','taz_area','geometry']],EMP_kibolet)\n"
     ]
    }
   ],
   "source": [
    "EMP_kibolet_by_taz=gpd.overlay(taz.reset_index()[['Taz_num','taz_area','geometry']],EMP_kibolet)"
   ]
  },
  {
   "cell_type": "code",
   "execution_count": 84,
   "id": "7695a9a3",
   "metadata": {},
   "outputs": [],
   "source": [
    "EMP_kibolet_by_taz['small_area']=EMP_kibolet_by_taz.area"
   ]
  },
  {
   "cell_type": "code",
   "execution_count": 85,
   "id": "a40c4d94",
   "metadata": {},
   "outputs": [],
   "source": [
    "EMP_kibolet_by_taz['pre_small_area_emp']=EMP_kibolet_by_taz['small_area']/EMP_kibolet_by_taz['emp_area']"
   ]
  },
  {
   "cell_type": "code",
   "execution_count": 86,
   "id": "aa3c6749",
   "metadata": {},
   "outputs": [],
   "source": [
    "EMP_kibolet_by_taz['pre_small_area_taz']=EMP_kibolet_by_taz['small_area']/EMP_kibolet_by_taz['taz_area']"
   ]
  },
  {
   "cell_type": "code",
   "execution_count": 87,
   "id": "a9d0716a",
   "metadata": {},
   "outputs": [],
   "source": [
    "EMP_kibolet_by_taz=EMP_kibolet_by_taz.query('(pre_small_area_taz >0.7) | (pre_small_area_emp >0.1)').drop(columns='geometry_buff')"
   ]
  },
  {
   "cell_type": "code",
   "execution_count": 88,
   "id": "15911049",
   "metadata": {},
   "outputs": [],
   "source": [
    "EMP_kibolet_by_taz=EMP_kibolet_by_taz.set_index('ID')"
   ]
  },
  {
   "cell_type": "code",
   "execution_count": 89,
   "id": "5d4b9325",
   "metadata": {},
   "outputs": [],
   "source": [
    "# EMP_kibolet_by_taz['id_area_for_pre']=EMP_kibolet_by_taz.reset_index().groupby(by='ID').sum()['small_area']\n",
    "EMP_kibolet_by_taz['id_area_for_pre']=EMP_kibolet_by_taz.reset_index().groupby(by='ID')['small_area'].sum()"
   ]
  },
  {
   "cell_type": "code",
   "execution_count": 90,
   "id": "f00fbbc8",
   "metadata": {},
   "outputs": [],
   "source": [
    "EMP_kibolet_by_taz['prec_from_id']=EMP_kibolet_by_taz['small_area']/EMP_kibolet_by_taz['id_area_for_pre']"
   ]
  },
  {
   "cell_type": "code",
   "execution_count": 91,
   "id": "a618ac44",
   "metadata": {},
   "outputs": [],
   "source": [
    "EMP_kibolet_by_taz['emp_without_palestin_in_taz']=EMP_kibolet_by_taz['emp_without_palestin']*EMP_kibolet_by_taz['prec_from_id']"
   ]
  },
  {
   "cell_type": "code",
   "execution_count": 92,
   "id": "d948fcc5",
   "metadata": {},
   "outputs": [
    {
     "name": "stderr",
     "output_type": "stream",
     "text": [
      "C:\\Users\\dpere\\AppData\\Local\\Temp\\ipykernel_3432\\1761427109.py:1: FutureWarning: The provided callable <built-in function sum> is currently using DataFrameGroupBy.sum. In a future version of pandas, the provided callable will be used directly. To keep current behavior pass the string \"sum\" instead.\n",
      "  taz['emp_not_okev']=drop_geo(EMP_kibolet_by_taz).pivot_table(index='Taz_num',aggfunc=sum)[['emp_without_palestin_in_taz']]\n"
     ]
    }
   ],
   "source": [
    "taz['emp_not_okev']=drop_geo(EMP_kibolet_by_taz).pivot_table(index='Taz_num',aggfunc=sum)[['emp_without_palestin_in_taz']]"
   ]
  },
  {
   "cell_type": "code",
   "execution_count": 93,
   "id": "9968f2f3",
   "metadata": {},
   "outputs": [],
   "source": [
    "taz=taz.fillna(0)"
   ]
  },
  {
   "cell_type": "code",
   "execution_count": 94,
   "id": "5adc958a",
   "metadata": {},
   "outputs": [],
   "source": [
    "taz['total_emp']=taz['emp_not_okev']+taz['emp_okev']+taz['emp_Education']"
   ]
  },
  {
   "cell_type": "code",
   "execution_count": 95,
   "id": "8c725e21",
   "metadata": {
    "scrolled": false
   },
   "outputs": [
    {
     "data": {
      "text/plain": [
       "-1816.5115199011634"
      ]
     },
     "execution_count": 95,
     "metadata": {},
     "output_type": "execute_result"
    }
   ],
   "source": [
    "taz.query('main_secto!=\"Palestinian\"')['total_emp'].sum()-emp_in_jtmt_area_without_mobile"
   ]
  },
  {
   "cell_type": "markdown",
   "id": "250d570c",
   "metadata": {},
   "source": [
    "## תוצאות"
   ]
  },
  {
   "cell_type": "code",
   "execution_count": 96,
   "id": "ce728f1a",
   "metadata": {},
   "outputs": [
    {
     "data": {
      "text/html": [
       "<div>\n",
       "<style scoped>\n",
       "    .dataframe tbody tr th:only-of-type {\n",
       "        vertical-align: middle;\n",
       "    }\n",
       "\n",
       "    .dataframe tbody tr th {\n",
       "        vertical-align: top;\n",
       "    }\n",
       "\n",
       "    .dataframe thead th {\n",
       "        text-align: right;\n",
       "    }\n",
       "</style>\n",
       "<table border=\"1\" class=\"dataframe\">\n",
       "  <thead>\n",
       "    <tr style=\"text-align: right;\">\n",
       "      <th></th>\n",
       "      <th>total_emp</th>\n",
       "    </tr>\n",
       "    <tr>\n",
       "      <th>zonetype</th>\n",
       "      <th></th>\n",
       "    </tr>\n",
       "  </thead>\n",
       "  <tbody>\n",
       "    <tr>\n",
       "      <th>Jerusalem</th>\n",
       "      <td>372287.064</td>\n",
       "    </tr>\n",
       "    <tr>\n",
       "      <th>Judea and Samaria</th>\n",
       "      <td>82187.101</td>\n",
       "    </tr>\n",
       "    <tr>\n",
       "      <th>Ramla</th>\n",
       "      <td>28207.725</td>\n",
       "    </tr>\n",
       "  </tbody>\n",
       "</table>\n",
       "</div>"
      ],
      "text/plain": [
       "                   total_emp\n",
       "zonetype                    \n",
       "Jerusalem         372287.064\n",
       "Judea and Samaria  82187.101\n",
       "Ramla              28207.725"
      ]
     },
     "execution_count": 96,
     "metadata": {},
     "output_type": "execute_result"
    }
   ],
   "source": [
    "# taz.groupby(by='zonetype').sum()[['total_emp']]#.loc[['Jerusalem','Judea and Samaria']]\n",
    "taz.groupby(by='zonetype')[['total_emp']].sum()#.loc[['Jerusalem','Judea and Samaria']]"
   ]
  },
  {
   "cell_type": "code",
   "execution_count": 97,
   "id": "051dd7df",
   "metadata": {
    "scrolled": true
   },
   "outputs": [
    {
     "data": {
      "text/html": [
       "<div>\n",
       "<style scoped>\n",
       "    .dataframe tbody tr th:only-of-type {\n",
       "        vertical-align: middle;\n",
       "    }\n",
       "\n",
       "    .dataframe tbody tr th {\n",
       "        vertical-align: top;\n",
       "    }\n",
       "\n",
       "    .dataframe thead th {\n",
       "        text-align: right;\n",
       "    }\n",
       "</style>\n",
       "<table border=\"1\" class=\"dataframe\">\n",
       "  <thead>\n",
       "    <tr style=\"text-align: right;\">\n",
       "      <th></th>\n",
       "      <th>total_emp</th>\n",
       "    </tr>\n",
       "    <tr>\n",
       "      <th>Muni_Heb</th>\n",
       "      <th></th>\n",
       "    </tr>\n",
       "  </thead>\n",
       "  <tbody>\n",
       "    <tr>\n",
       "      <th>ירושלים</th>\n",
       "      <td>324011.114</td>\n",
       "    </tr>\n",
       "    <tr>\n",
       "      <th>בית שמש</th>\n",
       "      <td>26993.914</td>\n",
       "    </tr>\n",
       "    <tr>\n",
       "      <th>ביתר עילית</th>\n",
       "      <td>7183.027</td>\n",
       "    </tr>\n",
       "    <tr>\n",
       "      <th>מודיעין - מכבים - רעות</th>\n",
       "      <td>25599.930</td>\n",
       "    </tr>\n",
       "    <tr>\n",
       "      <th>מעלה אדומים</th>\n",
       "      <td>7633.667</td>\n",
       "    </tr>\n",
       "    <tr>\n",
       "      <th>מודיעין עילית</th>\n",
       "      <td>10778.885</td>\n",
       "    </tr>\n",
       "  </tbody>\n",
       "</table>\n",
       "</div>"
      ],
      "text/plain": [
       "                        total_emp\n",
       "Muni_Heb                         \n",
       "ירושלים                324011.114\n",
       "בית שמש                 26993.914\n",
       "ביתר עילית               7183.027\n",
       "מודיעין - מכבים - רעות  25599.930\n",
       "מעלה אדומים              7633.667\n",
       "מודיעין עילית           10778.885"
      ]
     },
     "execution_count": 97,
     "metadata": {},
     "output_type": "execute_result"
    }
   ],
   "source": [
    "# taz.groupby(by='Muni_Heb').sum()[['total_emp']].loc[['ירושלים','בית שמש','ביתר עילית','מודיעין - מכבים - רעות','מעלה אדומים','מודיעין עילית']]\n",
    "taz.groupby(by='Muni_Heb')[['total_emp']].sum().loc[['ירושלים','בית שמש','ביתר עילית','מודיעין - מכבים - רעות','מעלה אדומים','מודיעין עילית']]"
   ]
  },
  {
   "cell_type": "code",
   "execution_count": 98,
   "id": "6dce3b2f",
   "metadata": {
    "scrolled": false
   },
   "outputs": [
    {
     "data": {
      "text/html": [
       "<div>\n",
       "<style scoped>\n",
       "    .dataframe tbody tr th:only-of-type {\n",
       "        vertical-align: middle;\n",
       "    }\n",
       "\n",
       "    .dataframe tbody tr th {\n",
       "        vertical-align: top;\n",
       "    }\n",
       "\n",
       "    .dataframe thead th {\n",
       "        text-align: right;\n",
       "    }\n",
       "</style>\n",
       "<table border=\"1\" class=\"dataframe\">\n",
       "  <thead>\n",
       "    <tr style=\"text-align: right;\">\n",
       "      <th></th>\n",
       "      <th></th>\n",
       "      <th>total_emp</th>\n",
       "    </tr>\n",
       "    <tr>\n",
       "      <th>Muni_Heb</th>\n",
       "      <th>main_secto</th>\n",
       "      <th></th>\n",
       "    </tr>\n",
       "  </thead>\n",
       "  <tbody>\n",
       "    <tr>\n",
       "      <th rowspan=\"4\" valign=\"top\">ירושלים</th>\n",
       "      <th>Arab</th>\n",
       "      <td>57190.378</td>\n",
       "    </tr>\n",
       "    <tr>\n",
       "      <th>Jewish</th>\n",
       "      <td>197846.853</td>\n",
       "    </tr>\n",
       "    <tr>\n",
       "      <th>U_Orthodox</th>\n",
       "      <td>55886.933</td>\n",
       "    </tr>\n",
       "    <tr>\n",
       "      <th>arabs_behined_seperation_wall</th>\n",
       "      <td>13086.951</td>\n",
       "    </tr>\n",
       "  </tbody>\n",
       "</table>\n",
       "</div>"
      ],
      "text/plain": [
       "                                        total_emp\n",
       "Muni_Heb main_secto                              \n",
       "ירושלים  Arab                           57190.378\n",
       "         Jewish                        197846.853\n",
       "         U_Orthodox                     55886.933\n",
       "         arabs_behined_seperation_wall  13086.951"
      ]
     },
     "execution_count": 98,
     "metadata": {},
     "output_type": "execute_result"
    }
   ],
   "source": [
    "# taz.groupby(by=['Muni_Heb','main_secto']).sum()[['total_emp']].loc[['ירושלים']]\n",
    "taz.groupby(by=['Muni_Heb','main_secto'])[['total_emp']].sum().loc[['ירושלים']]"
   ]
  },
  {
   "cell_type": "markdown",
   "id": "a9e9a3c5",
   "metadata": {},
   "source": [
    "## התפלגות ענפי תעסוקה"
   ]
  },
  {
   "cell_type": "code",
   "execution_count": 99,
   "id": "fdb1eca3",
   "metadata": {},
   "outputs": [],
   "source": [
    "emp_category_type=up_load_shp(r'{}\\background_files\\emp_category_type.shp'.format(software_folder_location)).fillna(0)"
   ]
  },
  {
   "cell_type": "code",
   "execution_count": 100,
   "id": "157ae567",
   "metadata": {},
   "outputs": [],
   "source": [
    "col=['agri', 'Indus', 'Com_hotel', 'Business', 'Public']"
   ]
  },
  {
   "cell_type": "code",
   "execution_count": 101,
   "id": "6c482c26",
   "metadata": {},
   "outputs": [],
   "source": [
    "emp_category_type[col]=emp_category_type[col]/100"
   ]
  },
  {
   "cell_type": "code",
   "execution_count": 102,
   "id": "98f3a0cf",
   "metadata": {},
   "outputs": [],
   "source": [
    "emp_category_type=gpd.sjoin(make_point(taz.reset_index())[['Taz_num','centroid']],emp_category_type).set_index('Taz_num')"
   ]
  },
  {
   "cell_type": "code",
   "execution_count": 103,
   "id": "43974707",
   "metadata": {},
   "outputs": [],
   "source": [
    "col=['agri', 'Indus', 'Com_hotel', 'Business', 'Public']"
   ]
  },
  {
   "cell_type": "code",
   "execution_count": 104,
   "id": "d65ed8fc",
   "metadata": {},
   "outputs": [
    {
     "data": {
      "text/html": [
       "<div>\n",
       "<style scoped>\n",
       "    .dataframe tbody tr th:only-of-type {\n",
       "        vertical-align: middle;\n",
       "    }\n",
       "\n",
       "    .dataframe tbody tr th {\n",
       "        vertical-align: top;\n",
       "    }\n",
       "\n",
       "    .dataframe thead th {\n",
       "        text-align: right;\n",
       "    }\n",
       "</style>\n",
       "<table border=\"1\" class=\"dataframe\">\n",
       "  <thead>\n",
       "    <tr style=\"text-align: right;\">\n",
       "      <th></th>\n",
       "      <th>CR_PNIM</th>\n",
       "      <th>Join_Count</th>\n",
       "      <th>TARGET_FID</th>\n",
       "      <th>Agg_taz_nu</th>\n",
       "      <th>Taz_name</th>\n",
       "      <th>Arab</th>\n",
       "      <th>arabs_behi</th>\n",
       "      <th>Jewish</th>\n",
       "      <th>Palestinia</th>\n",
       "      <th>U_Orthodox</th>\n",
       "      <th>main_secto</th>\n",
       "      <th>ENG_NAME_n</th>\n",
       "      <th>Muni_Heb</th>\n",
       "      <th>Sug_Muni</th>\n",
       "      <th>jeru_metro</th>\n",
       "      <th>zonetype</th>\n",
       "      <th>in_jerusal</th>\n",
       "      <th>SCHN_NAME</th>\n",
       "      <th>geometry</th>\n",
       "      <th>STAT</th>\n",
       "      <th>aprt_20</th>\n",
       "      <th>pop</th>\n",
       "      <th>pop_0</th>\n",
       "      <th>pop_10</th>\n",
       "      <th>pop_15</th>\n",
       "      <th>pop_20</th>\n",
       "      <th>pop_25</th>\n",
       "      <th>pop_30</th>\n",
       "      <th>pop_35</th>\n",
       "      <th>pop_40</th>\n",
       "      <th>pop_45</th>\n",
       "      <th>pop_5</th>\n",
       "      <th>pop_50</th>\n",
       "      <th>pop_55</th>\n",
       "      <th>pop_60</th>\n",
       "      <th>pop_65</th>\n",
       "      <th>pop_70</th>\n",
       "      <th>pop_75up</th>\n",
       "      <th>pop_hardi</th>\n",
       "      <th>precent_of_stat_data</th>\n",
       "      <th>pre_hardi</th>\n",
       "      <th>hh_size</th>\n",
       "      <th>pop_check</th>\n",
       "      <th>student_toddlers</th>\n",
       "      <th>student_gov</th>\n",
       "      <th>delta_student</th>\n",
       "      <th>student_demand</th>\n",
       "      <th>student_demand_left</th>\n",
       "      <th>student_demand_left_sum_by_muni</th>\n",
       "      <th>student_demand_left_pre</th>\n",
       "      <th>cbs_muni_student_left_by_pre_of_demand_left</th>\n",
       "      <th>jew</th>\n",
       "      <th>student_demand_pre</th>\n",
       "      <th>cbs_muni_student_left_by_pre_of_demand</th>\n",
       "      <th>student_for_Control</th>\n",
       "      <th>student_chardi_not_gov</th>\n",
       "      <th>student_arab_not_gov</th>\n",
       "      <th>student</th>\n",
       "      <th>uni_students</th>\n",
       "      <th>emp_from_uni_student</th>\n",
       "      <th>old_student_yeshiva</th>\n",
       "      <th>yeshiva_dorms_pop_15</th>\n",
       "      <th>yeshiva_dorms_pop_20</th>\n",
       "      <th>yeshiva_dorms_pop_25</th>\n",
       "      <th>yeshiva_dorms_pop_sum</th>\n",
       "      <th>emp_from_Yeshiva_student</th>\n",
       "      <th>student_yeshiva</th>\n",
       "      <th>add_from_old_student_yeshiva</th>\n",
       "      <th>kollim_demand</th>\n",
       "      <th>add_from_kollim_demand</th>\n",
       "      <th>student_yeshiva_with_add_from_old</th>\n",
       "      <th>student_yeshiva_and_kollim</th>\n",
       "      <th>emp_from_student</th>\n",
       "      <th>emp_Education</th>\n",
       "      <th>student_dorms</th>\n",
       "      <th>pop_without_dorms_yeshiva</th>\n",
       "      <th>pop_20_just_from_aprt</th>\n",
       "      <th>pop_25_just_from_aprt</th>\n",
       "      <th>pop_15_just_from_aprt</th>\n",
       "      <th>work_age</th>\n",
       "      <th>under_work_age</th>\n",
       "      <th>over_work_age</th>\n",
       "      <th>pop_emp</th>\n",
       "      <th>pop_emp_employed</th>\n",
       "      <th>commuting</th>\n",
       "      <th>pop_emp_employed_out_of_jtmt_area</th>\n",
       "      <th>taz_area</th>\n",
       "      <th>okev</th>\n",
       "      <th>emp_okev</th>\n",
       "      <th>emp_not_okev</th>\n",
       "      <th>total_emp</th>\n",
       "      <th>agri</th>\n",
       "      <th>Indus</th>\n",
       "      <th>Com_hotel</th>\n",
       "      <th>Business</th>\n",
       "      <th>Public</th>\n",
       "    </tr>\n",
       "    <tr>\n",
       "      <th>Taz_num</th>\n",
       "      <th></th>\n",
       "      <th></th>\n",
       "      <th></th>\n",
       "      <th></th>\n",
       "      <th></th>\n",
       "      <th></th>\n",
       "      <th></th>\n",
       "      <th></th>\n",
       "      <th></th>\n",
       "      <th></th>\n",
       "      <th></th>\n",
       "      <th></th>\n",
       "      <th></th>\n",
       "      <th></th>\n",
       "      <th></th>\n",
       "      <th></th>\n",
       "      <th></th>\n",
       "      <th></th>\n",
       "      <th></th>\n",
       "      <th></th>\n",
       "      <th></th>\n",
       "      <th></th>\n",
       "      <th></th>\n",
       "      <th></th>\n",
       "      <th></th>\n",
       "      <th></th>\n",
       "      <th></th>\n",
       "      <th></th>\n",
       "      <th></th>\n",
       "      <th></th>\n",
       "      <th></th>\n",
       "      <th></th>\n",
       "      <th></th>\n",
       "      <th></th>\n",
       "      <th></th>\n",
       "      <th></th>\n",
       "      <th></th>\n",
       "      <th></th>\n",
       "      <th></th>\n",
       "      <th></th>\n",
       "      <th></th>\n",
       "      <th></th>\n",
       "      <th></th>\n",
       "      <th></th>\n",
       "      <th></th>\n",
       "      <th></th>\n",
       "      <th></th>\n",
       "      <th></th>\n",
       "      <th></th>\n",
       "      <th></th>\n",
       "      <th></th>\n",
       "      <th></th>\n",
       "      <th></th>\n",
       "      <th></th>\n",
       "      <th></th>\n",
       "      <th></th>\n",
       "      <th></th>\n",
       "      <th></th>\n",
       "      <th></th>\n",
       "      <th></th>\n",
       "      <th></th>\n",
       "      <th></th>\n",
       "      <th></th>\n",
       "      <th></th>\n",
       "      <th></th>\n",
       "      <th></th>\n",
       "      <th></th>\n",
       "      <th></th>\n",
       "      <th></th>\n",
       "      <th></th>\n",
       "      <th></th>\n",
       "      <th></th>\n",
       "      <th></th>\n",
       "      <th></th>\n",
       "      <th></th>\n",
       "      <th></th>\n",
       "      <th></th>\n",
       "      <th></th>\n",
       "      <th></th>\n",
       "      <th></th>\n",
       "      <th></th>\n",
       "      <th></th>\n",
       "      <th></th>\n",
       "      <th></th>\n",
       "      <th></th>\n",
       "      <th></th>\n",
       "      <th></th>\n",
       "      <th></th>\n",
       "      <th></th>\n",
       "      <th></th>\n",
       "      <th></th>\n",
       "      <th></th>\n",
       "      <th></th>\n",
       "      <th></th>\n",
       "      <th></th>\n",
       "      <th></th>\n",
       "    </tr>\n",
       "  </thead>\n",
       "  <tbody>\n",
       "  </tbody>\n",
       "</table>\n",
       "</div>"
      ],
      "text/plain": [
       "Empty GeoDataFrame\n",
       "Columns: [CR_PNIM, Join_Count, TARGET_FID, Agg_taz_nu, Taz_name, Arab, arabs_behi, Jewish, Palestinia, U_Orthodox, main_secto, ENG_NAME_n, Muni_Heb, Sug_Muni, jeru_metro, zonetype, in_jerusal, SCHN_NAME, geometry, STAT, aprt_20, pop, pop_0, pop_10, pop_15, pop_20, pop_25, pop_30, pop_35, pop_40, pop_45, pop_5, pop_50, pop_55, pop_60, pop_65, pop_70, pop_75up, pop_hardi, precent_of_stat_data, pre_hardi, hh_size, pop_check, student_toddlers, student_gov, delta_student, student_demand, student_demand_left, student_demand_left_sum_by_muni, student_demand_left_pre, cbs_muni_student_left_by_pre_of_demand_left, jew, student_demand_pre, cbs_muni_student_left_by_pre_of_demand, student_for_Control, student_chardi_not_gov, student_arab_not_gov, student, uni_students, emp_from_uni_student, old_student_yeshiva, yeshiva_dorms_pop_15, yeshiva_dorms_pop_20, yeshiva_dorms_pop_25, yeshiva_dorms_pop_sum, emp_from_Yeshiva_student, student_yeshiva, add_from_old_student_yeshiva, kollim_demand, add_from_kollim_demand, student_yeshiva_with_add_from_old, student_yeshiva_and_kollim, emp_from_student, emp_Education, student_dorms, pop_without_dorms_yeshiva, pop_20_just_from_aprt, pop_25_just_from_aprt, pop_15_just_from_aprt, work_age, under_work_age, over_work_age, pop_emp, pop_emp_employed, commuting, pop_emp_employed_out_of_jtmt_area, taz_area, okev, emp_okev, emp_not_okev, total_emp, agri, Indus, Com_hotel, Business, Public]\n",
       "Index: []"
      ]
     },
     "execution_count": 104,
     "metadata": {},
     "output_type": "execute_result"
    }
   ],
   "source": [
    "taz.join(emp_category_type[col]).query('(emp_not_okev>0 | emp_okev>0 )& agri.isna() & main_secto!=\"Palestinian\" ')#[['geometry']].to_file(r'\\\\FILE-SRV\\Jtmt\\projections_team\\תכניות אסטרטגיות לתחבורה ירושלים\\תחזיות 2050\\קבלת מידע\\התפלגות ענפי כלכלה תעסוקה\\emp_category_type_to_delet.shp')"
   ]
  },
  {
   "cell_type": "code",
   "execution_count": 105,
   "id": "6111c7f3",
   "metadata": {},
   "outputs": [],
   "source": [
    "taz=taz.join(emp_category_type[col]).fillna(0)"
   ]
  },
  {
   "cell_type": "code",
   "execution_count": 106,
   "id": "538879ce",
   "metadata": {},
   "outputs": [],
   "source": [
    "for i in col:\n",
    "    taz['{}'.format(i)]=taz['{}'.format(i)]*(taz['emp_not_okev']+taz['emp_okev'])"
   ]
  },
  {
   "cell_type": "code",
   "execution_count": 107,
   "id": "73d7cde4",
   "metadata": {},
   "outputs": [],
   "source": [
    "taz['check_emp_sum']=taz[col].sum(axis=1)-(taz['emp_not_okev']+taz['emp_okev'])"
   ]
  },
  {
   "cell_type": "code",
   "execution_count": 108,
   "id": "827ec351",
   "metadata": {
    "scrolled": false
   },
   "outputs": [
    {
     "data": {
      "text/html": [
       "<div>\n",
       "<style scoped>\n",
       "    .dataframe tbody tr th:only-of-type {\n",
       "        vertical-align: middle;\n",
       "    }\n",
       "\n",
       "    .dataframe tbody tr th {\n",
       "        vertical-align: top;\n",
       "    }\n",
       "\n",
       "    .dataframe thead th {\n",
       "        text-align: right;\n",
       "    }\n",
       "</style>\n",
       "<table border=\"1\" class=\"dataframe\">\n",
       "  <thead>\n",
       "    <tr style=\"text-align: right;\">\n",
       "      <th></th>\n",
       "      <th>CR_PNIM</th>\n",
       "      <th>Join_Count</th>\n",
       "      <th>TARGET_FID</th>\n",
       "      <th>Agg_taz_nu</th>\n",
       "      <th>Taz_name</th>\n",
       "      <th>Arab</th>\n",
       "      <th>arabs_behi</th>\n",
       "      <th>Jewish</th>\n",
       "      <th>Palestinia</th>\n",
       "      <th>U_Orthodox</th>\n",
       "      <th>main_secto</th>\n",
       "      <th>ENG_NAME_n</th>\n",
       "      <th>Muni_Heb</th>\n",
       "      <th>Sug_Muni</th>\n",
       "      <th>jeru_metro</th>\n",
       "      <th>zonetype</th>\n",
       "      <th>in_jerusal</th>\n",
       "      <th>SCHN_NAME</th>\n",
       "      <th>geometry</th>\n",
       "      <th>STAT</th>\n",
       "      <th>aprt_20</th>\n",
       "      <th>pop</th>\n",
       "      <th>pop_0</th>\n",
       "      <th>pop_10</th>\n",
       "      <th>pop_15</th>\n",
       "      <th>pop_20</th>\n",
       "      <th>pop_25</th>\n",
       "      <th>pop_30</th>\n",
       "      <th>pop_35</th>\n",
       "      <th>pop_40</th>\n",
       "      <th>pop_45</th>\n",
       "      <th>pop_5</th>\n",
       "      <th>pop_50</th>\n",
       "      <th>pop_55</th>\n",
       "      <th>pop_60</th>\n",
       "      <th>pop_65</th>\n",
       "      <th>pop_70</th>\n",
       "      <th>pop_75up</th>\n",
       "      <th>pop_hardi</th>\n",
       "      <th>precent_of_stat_data</th>\n",
       "      <th>pre_hardi</th>\n",
       "      <th>hh_size</th>\n",
       "      <th>pop_check</th>\n",
       "      <th>student_toddlers</th>\n",
       "      <th>student_gov</th>\n",
       "      <th>delta_student</th>\n",
       "      <th>student_demand</th>\n",
       "      <th>student_demand_left</th>\n",
       "      <th>student_demand_left_sum_by_muni</th>\n",
       "      <th>student_demand_left_pre</th>\n",
       "      <th>cbs_muni_student_left_by_pre_of_demand_left</th>\n",
       "      <th>jew</th>\n",
       "      <th>student_demand_pre</th>\n",
       "      <th>cbs_muni_student_left_by_pre_of_demand</th>\n",
       "      <th>student_for_Control</th>\n",
       "      <th>student_chardi_not_gov</th>\n",
       "      <th>student_arab_not_gov</th>\n",
       "      <th>student</th>\n",
       "      <th>uni_students</th>\n",
       "      <th>emp_from_uni_student</th>\n",
       "      <th>old_student_yeshiva</th>\n",
       "      <th>yeshiva_dorms_pop_15</th>\n",
       "      <th>yeshiva_dorms_pop_20</th>\n",
       "      <th>yeshiva_dorms_pop_25</th>\n",
       "      <th>yeshiva_dorms_pop_sum</th>\n",
       "      <th>emp_from_Yeshiva_student</th>\n",
       "      <th>student_yeshiva</th>\n",
       "      <th>add_from_old_student_yeshiva</th>\n",
       "      <th>kollim_demand</th>\n",
       "      <th>add_from_kollim_demand</th>\n",
       "      <th>student_yeshiva_with_add_from_old</th>\n",
       "      <th>student_yeshiva_and_kollim</th>\n",
       "      <th>emp_from_student</th>\n",
       "      <th>emp_Education</th>\n",
       "      <th>student_dorms</th>\n",
       "      <th>pop_without_dorms_yeshiva</th>\n",
       "      <th>pop_20_just_from_aprt</th>\n",
       "      <th>pop_25_just_from_aprt</th>\n",
       "      <th>pop_15_just_from_aprt</th>\n",
       "      <th>work_age</th>\n",
       "      <th>under_work_age</th>\n",
       "      <th>over_work_age</th>\n",
       "      <th>pop_emp</th>\n",
       "      <th>pop_emp_employed</th>\n",
       "      <th>commuting</th>\n",
       "      <th>pop_emp_employed_out_of_jtmt_area</th>\n",
       "      <th>taz_area</th>\n",
       "      <th>okev</th>\n",
       "      <th>emp_okev</th>\n",
       "      <th>emp_not_okev</th>\n",
       "      <th>total_emp</th>\n",
       "      <th>agri</th>\n",
       "      <th>Indus</th>\n",
       "      <th>Com_hotel</th>\n",
       "      <th>Business</th>\n",
       "      <th>Public</th>\n",
       "      <th>check_emp_sum</th>\n",
       "    </tr>\n",
       "    <tr>\n",
       "      <th>Taz_num</th>\n",
       "      <th></th>\n",
       "      <th></th>\n",
       "      <th></th>\n",
       "      <th></th>\n",
       "      <th></th>\n",
       "      <th></th>\n",
       "      <th></th>\n",
       "      <th></th>\n",
       "      <th></th>\n",
       "      <th></th>\n",
       "      <th></th>\n",
       "      <th></th>\n",
       "      <th></th>\n",
       "      <th></th>\n",
       "      <th></th>\n",
       "      <th></th>\n",
       "      <th></th>\n",
       "      <th></th>\n",
       "      <th></th>\n",
       "      <th></th>\n",
       "      <th></th>\n",
       "      <th></th>\n",
       "      <th></th>\n",
       "      <th></th>\n",
       "      <th></th>\n",
       "      <th></th>\n",
       "      <th></th>\n",
       "      <th></th>\n",
       "      <th></th>\n",
       "      <th></th>\n",
       "      <th></th>\n",
       "      <th></th>\n",
       "      <th></th>\n",
       "      <th></th>\n",
       "      <th></th>\n",
       "      <th></th>\n",
       "      <th></th>\n",
       "      <th></th>\n",
       "      <th></th>\n",
       "      <th></th>\n",
       "      <th></th>\n",
       "      <th></th>\n",
       "      <th></th>\n",
       "      <th></th>\n",
       "      <th></th>\n",
       "      <th></th>\n",
       "      <th></th>\n",
       "      <th></th>\n",
       "      <th></th>\n",
       "      <th></th>\n",
       "      <th></th>\n",
       "      <th></th>\n",
       "      <th></th>\n",
       "      <th></th>\n",
       "      <th></th>\n",
       "      <th></th>\n",
       "      <th></th>\n",
       "      <th></th>\n",
       "      <th></th>\n",
       "      <th></th>\n",
       "      <th></th>\n",
       "      <th></th>\n",
       "      <th></th>\n",
       "      <th></th>\n",
       "      <th></th>\n",
       "      <th></th>\n",
       "      <th></th>\n",
       "      <th></th>\n",
       "      <th></th>\n",
       "      <th></th>\n",
       "      <th></th>\n",
       "      <th></th>\n",
       "      <th></th>\n",
       "      <th></th>\n",
       "      <th></th>\n",
       "      <th></th>\n",
       "      <th></th>\n",
       "      <th></th>\n",
       "      <th></th>\n",
       "      <th></th>\n",
       "      <th></th>\n",
       "      <th></th>\n",
       "      <th></th>\n",
       "      <th></th>\n",
       "      <th></th>\n",
       "      <th></th>\n",
       "      <th></th>\n",
       "      <th></th>\n",
       "      <th></th>\n",
       "      <th></th>\n",
       "      <th></th>\n",
       "      <th></th>\n",
       "      <th></th>\n",
       "      <th></th>\n",
       "      <th></th>\n",
       "      <th></th>\n",
       "      <th></th>\n",
       "    </tr>\n",
       "  </thead>\n",
       "  <tbody>\n",
       "  </tbody>\n",
       "</table>\n",
       "</div>"
      ],
      "text/plain": [
       "Empty GeoDataFrame\n",
       "Columns: [CR_PNIM, Join_Count, TARGET_FID, Agg_taz_nu, Taz_name, Arab, arabs_behi, Jewish, Palestinia, U_Orthodox, main_secto, ENG_NAME_n, Muni_Heb, Sug_Muni, jeru_metro, zonetype, in_jerusal, SCHN_NAME, geometry, STAT, aprt_20, pop, pop_0, pop_10, pop_15, pop_20, pop_25, pop_30, pop_35, pop_40, pop_45, pop_5, pop_50, pop_55, pop_60, pop_65, pop_70, pop_75up, pop_hardi, precent_of_stat_data, pre_hardi, hh_size, pop_check, student_toddlers, student_gov, delta_student, student_demand, student_demand_left, student_demand_left_sum_by_muni, student_demand_left_pre, cbs_muni_student_left_by_pre_of_demand_left, jew, student_demand_pre, cbs_muni_student_left_by_pre_of_demand, student_for_Control, student_chardi_not_gov, student_arab_not_gov, student, uni_students, emp_from_uni_student, old_student_yeshiva, yeshiva_dorms_pop_15, yeshiva_dorms_pop_20, yeshiva_dorms_pop_25, yeshiva_dorms_pop_sum, emp_from_Yeshiva_student, student_yeshiva, add_from_old_student_yeshiva, kollim_demand, add_from_kollim_demand, student_yeshiva_with_add_from_old, student_yeshiva_and_kollim, emp_from_student, emp_Education, student_dorms, pop_without_dorms_yeshiva, pop_20_just_from_aprt, pop_25_just_from_aprt, pop_15_just_from_aprt, work_age, under_work_age, over_work_age, pop_emp, pop_emp_employed, commuting, pop_emp_employed_out_of_jtmt_area, taz_area, okev, emp_okev, emp_not_okev, total_emp, agri, Indus, Com_hotel, Business, Public, check_emp_sum]\n",
       "Index: []"
      ]
     },
     "execution_count": 108,
     "metadata": {},
     "output_type": "execute_result"
    }
   ],
   "source": [
    "taz.query('check_emp_sum>10 |check_emp_sum<-10')"
   ]
  },
  {
   "cell_type": "markdown",
   "id": "95e0cc68",
   "metadata": {},
   "source": [
    "## הוספת סטודנטים אל כמות משקי בית"
   ]
  },
  {
   "cell_type": "code",
   "execution_count": 109,
   "id": "8e6b7713",
   "metadata": {},
   "outputs": [],
   "source": [
    "taz=taz.fillna(0)"
   ]
  },
  {
   "cell_type": "code",
   "execution_count": 110,
   "id": "dfa33d6c",
   "metadata": {},
   "outputs": [],
   "source": [
    "taz['hh']=taz['aprt_20']+taz['student_dorms']/1.5"
   ]
  },
  {
   "cell_type": "markdown",
   "id": "15cc71d7",
   "metadata": {},
   "source": [
    "## הוספת תלמידי ישיבה (באזורים לא חרדיים) אל כמות אוכלוסיה,התפלגות גילים ומשקי בית (לכלל תלמידי הישיבה)"
   ]
  },
  {
   "cell_type": "code",
   "execution_count": 111,
   "id": "42714de0",
   "metadata": {},
   "outputs": [],
   "source": [
    "taz['hh']=taz['hh']+taz['yeshiva_dorms_pop_sum']"
   ]
  },
  {
   "cell_type": "code",
   "execution_count": 112,
   "id": "b5a1f454",
   "metadata": {},
   "outputs": [],
   "source": [
    "taz.loc[taz['main_secto']!=\"U_Orthodox\",'pop']=taz['pop']+taz['yeshiva_dorms_pop_sum']\n",
    "\n",
    "taz.loc[taz['main_secto']!=\"U_Orthodox\",'pop_15']=taz['pop_15']+taz['yeshiva_dorms_pop_15']\n",
    "\n",
    "taz.loc[taz['main_secto']!=\"U_Orthodox\",'pop_20']=taz['pop_20']+taz['yeshiva_dorms_pop_20']\n",
    "\n",
    "taz.loc[taz['main_secto']!=\"U_Orthodox\",'pop_25']=taz['pop_25']+taz['yeshiva_dorms_pop_25']"
   ]
  },
  {
   "cell_type": "markdown",
   "id": "26046a0a",
   "metadata": {},
   "source": [
    "## הוספת אוכלוסיה פלסטינאית"
   ]
  },
  {
   "cell_type": "code",
   "execution_count": 113,
   "id": "ab51a53c",
   "metadata": {},
   "outputs": [],
   "source": [
    "path=r'{}\\background_files'.format(software_folder_location)\n",
    "taz_demo_pls_2020=up_load_df(path,'taz_demo_pls_2020_and_pre_growth_till_2050')[['Taz_num','pop_2020']].set_index('Taz_num')"
   ]
  },
  {
   "cell_type": "code",
   "execution_count": 114,
   "id": "3bc9a869",
   "metadata": {},
   "outputs": [],
   "source": [
    "col=['pop',\n",
    "'pop_0',\n",
    "'pop_10',\n",
    "'pop_15',\n",
    "'pop_20',\n",
    "'pop_25',\n",
    "'pop_30',\n",
    "'pop_35',\n",
    "'pop_40',\n",
    "'pop_45',\n",
    "'pop_5',\n",
    "'pop_50',\n",
    "'pop_55',\n",
    "'pop_60',\n",
    "'pop_65',\n",
    "'pop_70',\n",
    "'pop_75up',\n",
    "'student',\n",
    "'uni_students',\n",
    "'student_yeshiva_and_kollim',\n",
    "'emp_Education',\n",
    "'pop_emp_employed',\n",
    "'total_emp',\n",
    "'agri',\n",
    "'Indus',\n",
    "'Com_hotel',\n",
    "'Business',\n",
    "'Public',\n",
    "'hh']"
   ]
  },
  {
   "cell_type": "code",
   "execution_count": 115,
   "id": "ea4c8a22",
   "metadata": {},
   "outputs": [],
   "source": [
    "taz=pd.concat([taz.reset_index(),taz_border.loc[taz_border['main_secto']=='Palestinian']]).set_index('Taz_num').fillna(0)"
   ]
  },
  {
   "cell_type": "code",
   "execution_count": 116,
   "id": "2b3bf466",
   "metadata": {},
   "outputs": [],
   "source": [
    "taz.loc[taz['main_secto']=='Palestinian','pop']=taz['pop']+taz_demo_pls_2020['pop_2020']"
   ]
  },
  {
   "cell_type": "markdown",
   "id": "34c1d5c0",
   "metadata": {},
   "source": [
    "## ייצוא לבקרה"
   ]
  },
  {
   "cell_type": "code",
   "execution_count": 117,
   "id": "2463d2bf",
   "metadata": {},
   "outputs": [],
   "source": [
    "taz=taz.reset_index()"
   ]
  },
  {
   "cell_type": "code",
   "execution_count": 118,
   "id": "bbc55652",
   "metadata": {},
   "outputs": [],
   "source": [
    "pre_yeshiva_from_20_30_age=taz[['student_yeshiva_with_add_from_old']].sum().sum()/taz.query('jew==1')[['pop_20_just_from_aprt','pop_25_just_from_aprt']].sum().sum()"
   ]
  },
  {
   "cell_type": "code",
   "execution_count": 119,
   "id": "7ccb828c",
   "metadata": {
    "scrolled": false
   },
   "outputs": [
    {
     "data": {
      "text/plain": [
       "0.524143764307828"
      ]
     },
     "execution_count": 119,
     "metadata": {},
     "output_type": "execute_result"
    }
   ],
   "source": [
    "pre_yeshiva_from_20_30_age"
   ]
  },
  {
   "cell_type": "code",
   "execution_count": 120,
   "id": "eb1227c1",
   "metadata": {},
   "outputs": [
    {
     "data": {
      "text/plain": [
       "array(['U_Orthodox', 'arabs_behined_seperation_wall', 'Arab', 'Jewish',\n",
       "       'Palestinian'], dtype=object)"
      ]
     },
     "execution_count": 120,
     "metadata": {},
     "output_type": "execute_result"
    }
   ],
   "source": [
    "taz.main_secto.unique()"
   ]
  },
  {
   "cell_type": "code",
   "execution_count": 121,
   "id": "f003a657",
   "metadata": {},
   "outputs": [],
   "source": [
    "pre_uni_from_20_30_age=taz[['uni_students']].sum().sum()/taz.query('main_secto!=\"Palestinian\"')[['pop_20_just_from_aprt','pop_25_just_from_aprt']].sum().sum()"
   ]
  },
  {
   "cell_type": "code",
   "execution_count": 122,
   "id": "e40c4ac5",
   "metadata": {
    "scrolled": false
   },
   "outputs": [
    {
     "data": {
      "text/plain": [
       "0.3034760359349936"
      ]
     },
     "execution_count": 122,
     "metadata": {},
     "output_type": "execute_result"
    }
   ],
   "source": [
    "pre_uni_from_20_30_age"
   ]
  },
  {
   "cell_type": "code",
   "execution_count": 123,
   "id": "83c03ab6",
   "metadata": {},
   "outputs": [],
   "source": [
    "col=['Taz_num','Agg_taz_nu','Taz_name','Muni_Heb','jeru_metro',\n",
    " 'zonetype',\n",
    " 'in_jerusal','main_secto','aprt_20','student_dorms','student_yeshiva_with_add_from_old','hh','pop_without_dorms_yeshiva',\n",
    " 'pop', 'hh_size','pop_emp_employed',\n",
    " 'commuting','student_toddlers',\n",
    " 'student_gov','cbs_muni_student_left_by_pre_of_demand_left','cbs_muni_student_left_by_pre_of_demand','student_chardi_not_gov',\n",
    " 'student_arab_not_gov','student','uni_students',\n",
    " 'student_yeshiva','yeshiva_dorms_pop_15',\n",
    " 'yeshiva_dorms_pop_20',\n",
    " 'yeshiva_dorms_pop_25',\n",
    " 'yeshiva_dorms_pop_sum',\n",
    " 'add_from_old_student_yeshiva',\n",
    " 'add_from_kollim_demand', 'emp_from_uni_student','emp_from_Yeshiva_student','emp_from_student',\n",
    " 'emp_Education','okev',\n",
    " 'emp_okev',\n",
    " 'emp_not_okev','total_emp',\n",
    " 'agri',\n",
    " 'Indus',\n",
    " 'Com_hotel',\n",
    " 'Business',\n",
    " 'Public']"
   ]
  },
  {
   "cell_type": "code",
   "execution_count": 124,
   "id": "e2bd9936",
   "metadata": {},
   "outputs": [],
   "source": [
    "file_date=pd.Timestamp.today().strftime('%y%m%d')"
   ]
  },
  {
   "cell_type": "code",
   "execution_count": 125,
   "id": "3b0573bb",
   "metadata": {
    "scrolled": true
   },
   "outputs": [],
   "source": [
    "taz[col].to_excel(r'{}\\2020_jtmt_forcast_full_{}.xlsx'.format(output_location,file_date),index=False)"
   ]
  },
  {
   "cell_type": "markdown",
   "id": "166ba3e5",
   "metadata": {},
   "source": [
    "## ייצוא בפורמט של מודלים"
   ]
  },
  {
   "cell_type": "code",
   "execution_count": 126,
   "id": "17ee6f94",
   "metadata": {},
   "outputs": [],
   "source": [
    "taz['yosh']=0"
   ]
  },
  {
   "cell_type": "code",
   "execution_count": 127,
   "id": "d25bb3b1",
   "metadata": {},
   "outputs": [],
   "source": [
    "taz.loc[taz['zonetype']=='Judea and Samaria','yosh']=1"
   ]
  },
  {
   "cell_type": "code",
   "execution_count": 128,
   "id": "90fc0ebe",
   "metadata": {},
   "outputs": [],
   "source": [
    "taz['jerusalem_city']=0"
   ]
  },
  {
   "cell_type": "code",
   "execution_count": 129,
   "id": "9e3f95b7",
   "metadata": {},
   "outputs": [],
   "source": [
    "taz.loc[taz['in_jerusal']=='yes','jerusalem_city']=1"
   ]
  },
  {
   "cell_type": "code",
   "execution_count": 130,
   "id": "daec6b41",
   "metadata": {},
   "outputs": [],
   "source": [
    "taz=taz.reset_index()"
   ]
  },
  {
   "cell_type": "code",
   "execution_count": 131,
   "id": "c104fe43",
   "metadata": {},
   "outputs": [],
   "source": [
    "col=['Taz_num',\n",
    "'yosh',\n",
    "'jeru_metro',\n",
    "'jerusalem_city',\n",
    "'main_secto',\n",
    "'hh',\n",
    "'pop',\n",
    "'pop_0',\n",
    "'pop_5',\n",
    "'pop_10',\n",
    "'pop_15',\n",
    "'pop_20',\n",
    "'pop_25',\n",
    "'pop_30',\n",
    "'pop_35',\n",
    "'pop_40',\n",
    "'pop_45',\n",
    "'pop_50',\n",
    "'pop_55',\n",
    "'pop_60',\n",
    "'pop_65',\n",
    "'pop_70',\n",
    "'pop_75up',\n",
    "'total_emp',\n",
    "'Indus',\n",
    "'Com_hotel',\n",
    "'Business',\n",
    "'Public',\n",
    "'emp_Education',\n",
    "'agri',\n",
    "'student',\n",
    "'uni_students',\n",
    "'student_yeshiva_and_kollim',\n",
    "'pop_emp_employed']"
   ]
  },
  {
   "cell_type": "code",
   "execution_count": 132,
   "id": "41cec04f",
   "metadata": {},
   "outputs": [],
   "source": [
    "col_new_name=['TAZ',\n",
    "'yosh',\n",
    "'in_jerusalem_metropolin',\n",
    "'jerusalem_city',\n",
    "'sector',\n",
    "'hh_total',\n",
    "'pop',\n",
    "'age0_4',\n",
    "'age5_9',\n",
    "'age10_14',\n",
    "'age15_19',\n",
    "'age20_24',\n",
    "'age25_29',\n",
    "'age30_34',\n",
    "'age35_39',\n",
    "'age40_44',\n",
    "'age45_49',\n",
    "'age50_54',\n",
    "'age55_59',\n",
    "'age60_64',\n",
    "'age65_69',\n",
    "'age70_74',\n",
    "'age75up',\n",
    "'emp_tot',\n",
    "'indus',\n",
    "'com_hotel',\n",
    "'business',\n",
    "'public',\n",
    "'education',\n",
    "'agri',\n",
    "'student',\n",
    "'univ',\n",
    "'UO_Hi_Ed',\n",
    "'pop_emp_employed']"
   ]
  },
  {
   "cell_type": "code",
   "execution_count": 133,
   "id": "d2bd1f1a",
   "metadata": {},
   "outputs": [],
   "source": [
    "taz=taz[col]"
   ]
  },
  {
   "cell_type": "code",
   "execution_count": 134,
   "id": "141c3d0f",
   "metadata": {},
   "outputs": [],
   "source": [
    "taz.columns=col_new_name"
   ]
  },
  {
   "cell_type": "code",
   "execution_count": 135,
   "id": "21d0a080",
   "metadata": {},
   "outputs": [],
   "source": [
    "taz.to_excel(r'{}\\forecast_2020_{}.xlsx'.format(output_location,file_date),index=False)"
   ]
  },
  {
   "cell_type": "code",
   "execution_count": 137,
   "id": "8aeec9ab",
   "metadata": {},
   "outputs": [],
   "source": [
    "#load excel file\n",
    "workbook = load_workbook(filename=r'{}\\inputs_outputs.xlsx'.format(software_folder_location))\n",
    "\n",
    "#open workbook\n",
    "sheet = workbook.active\n",
    "\n",
    "#modify the desired cell\n",
    "sheet[\"B4\"] = forecast_version_folder_location\n",
    "sheet[\"B5\"] = False\n",
    "sheet[\"B6\"] = ''\n",
    "\n",
    "#save the file\n",
    "workbook.save(filename=r'{}\\inputs_outputs.xlsx'.format(software_folder_location))"
   ]
  },
  {
   "cell_type": "markdown",
   "id": "219c80d4",
   "metadata": {},
   "source": [
    "## בקרות לוגיות"
   ]
  },
  {
   "cell_type": "code",
   "execution_count": 672,
   "id": "2c03dc03",
   "metadata": {
    "scrolled": true
   },
   "outputs": [
    {
     "data": {
      "text/html": [
       "<div>\n",
       "<style scoped>\n",
       "    .dataframe tbody tr th:only-of-type {\n",
       "        vertical-align: middle;\n",
       "    }\n",
       "\n",
       "    .dataframe tbody tr th {\n",
       "        vertical-align: top;\n",
       "    }\n",
       "\n",
       "    .dataframe thead th {\n",
       "        text-align: right;\n",
       "    }\n",
       "</style>\n",
       "<table border=\"1\" class=\"dataframe\">\n",
       "  <thead>\n",
       "    <tr style=\"text-align: right;\">\n",
       "      <th></th>\n",
       "      <th>TAZ</th>\n",
       "      <th>yosh</th>\n",
       "      <th>in_jerusalem_metropolin</th>\n",
       "      <th>jerusalem_city</th>\n",
       "      <th>sector</th>\n",
       "      <th>hh_total</th>\n",
       "      <th>pop</th>\n",
       "      <th>age0_4</th>\n",
       "      <th>age5_9</th>\n",
       "      <th>age10_14</th>\n",
       "      <th>age15_19</th>\n",
       "      <th>age20_24</th>\n",
       "      <th>age25_29</th>\n",
       "      <th>age30_34</th>\n",
       "      <th>age35_39</th>\n",
       "      <th>age40_44</th>\n",
       "      <th>age45_49</th>\n",
       "      <th>age50_54</th>\n",
       "      <th>age55_59</th>\n",
       "      <th>age60_64</th>\n",
       "      <th>age65_69</th>\n",
       "      <th>age70_74</th>\n",
       "      <th>age75up</th>\n",
       "      <th>emp_tot</th>\n",
       "      <th>indus</th>\n",
       "      <th>com_hotel</th>\n",
       "      <th>business</th>\n",
       "      <th>public</th>\n",
       "      <th>education</th>\n",
       "      <th>agri</th>\n",
       "      <th>student</th>\n",
       "      <th>univ</th>\n",
       "      <th>UO_Hi_Ed</th>\n",
       "      <th>pop_emp_employed</th>\n",
       "    </tr>\n",
       "  </thead>\n",
       "  <tbody>\n",
       "  </tbody>\n",
       "</table>\n",
       "</div>"
      ],
      "text/plain": [
       "Empty DataFrame\n",
       "Columns: [TAZ, yosh, in_jerusalem_metropolin, jerusalem_city, sector, hh_total, pop, age0_4, age5_9, age10_14, age15_19, age20_24, age25_29, age30_34, age35_39, age40_44, age45_49, age50_54, age55_59, age60_64, age65_69, age70_74, age75up, emp_tot, indus, com_hotel, business, public, education, agri, student, univ, UO_Hi_Ed, pop_emp_employed]\n",
       "Index: []"
      ]
     },
     "execution_count": 672,
     "metadata": {},
     "output_type": "execute_result"
    }
   ],
   "source": [
    "taz.loc[taz['TAZ']<=0]"
   ]
  },
  {
   "cell_type": "code",
   "execution_count": 673,
   "id": "8a0fac2d",
   "metadata": {},
   "outputs": [
    {
     "data": {
      "text/plain": [
       "array([0, 1], dtype=int64)"
      ]
     },
     "execution_count": 673,
     "metadata": {},
     "output_type": "execute_result"
    }
   ],
   "source": [
    "taz.yosh.unique()"
   ]
  },
  {
   "cell_type": "code",
   "execution_count": 674,
   "id": "18983b7a",
   "metadata": {},
   "outputs": [
    {
     "data": {
      "text/plain": [
       "array([1., 0.])"
      ]
     },
     "execution_count": 674,
     "metadata": {},
     "output_type": "execute_result"
    }
   ],
   "source": [
    "taz.in_jerusalem_metropolin.unique()"
   ]
  },
  {
   "cell_type": "code",
   "execution_count": 675,
   "id": "bdea01e1",
   "metadata": {},
   "outputs": [
    {
     "data": {
      "text/plain": [
       "array([1, 0], dtype=int64)"
      ]
     },
     "execution_count": 675,
     "metadata": {},
     "output_type": "execute_result"
    }
   ],
   "source": [
    "taz.jerusalem_city.unique()"
   ]
  },
  {
   "cell_type": "code",
   "execution_count": 676,
   "id": "dce32672",
   "metadata": {},
   "outputs": [
    {
     "data": {
      "text/plain": [
       "array(['U_Orthodox', 'arabs_behined_seperation_wall', 'Arab', 'Jewish',\n",
       "       'Palestinian'], dtype=object)"
      ]
     },
     "execution_count": 676,
     "metadata": {},
     "output_type": "execute_result"
    }
   ],
   "source": [
    "taz.sector.unique()"
   ]
  },
  {
   "cell_type": "code",
   "execution_count": 677,
   "id": "96a36660",
   "metadata": {},
   "outputs": [],
   "source": [
    "col=['hh_total',\n",
    "'pop',\n",
    "'age0_4',\n",
    "'age5_9',\n",
    "'age10_14',\n",
    "'age15_19',\n",
    "'age20_24',\n",
    "'age25_29',\n",
    "'age30_34',\n",
    "'age35_39',\n",
    "'age40_44',\n",
    "'age45_49',\n",
    "'age50_54',\n",
    "'age55_59',\n",
    "'age60_64',\n",
    "'age65_69',\n",
    "'age70_74',\n",
    "'age75up',\n",
    "'emp_tot',\n",
    "'indus',\n",
    "'com_hotel',\n",
    "'business',\n",
    "'public',\n",
    "'education',\n",
    "'agri',\n",
    "'student',\n",
    "'univ',\n",
    "'UO_Hi_Ed',\n",
    "'pop_emp_employed']"
   ]
  },
  {
   "cell_type": "code",
   "execution_count": 678,
   "id": "eb46ecea",
   "metadata": {
    "scrolled": true
   },
   "outputs": [],
   "source": [
    "taz_to_check=[]\n",
    "for i in col:\n",
    "    taz_to_check=taz_to_check+list(taz.loc[taz['{}'.format(i)]<0]['TAZ'])"
   ]
  },
  {
   "cell_type": "code",
   "execution_count": 679,
   "id": "971c496d",
   "metadata": {
    "scrolled": true
   },
   "outputs": [
    {
     "data": {
      "text/plain": [
       "[]"
      ]
     },
     "execution_count": 679,
     "metadata": {},
     "output_type": "execute_result"
    }
   ],
   "source": [
    "taz_to_check"
   ]
  },
  {
   "cell_type": "code",
   "execution_count": 680,
   "id": "2dd9793f",
   "metadata": {
    "scrolled": false
   },
   "outputs": [
    {
     "data": {
      "text/html": [
       "<div>\n",
       "<style scoped>\n",
       "    .dataframe tbody tr th:only-of-type {\n",
       "        vertical-align: middle;\n",
       "    }\n",
       "\n",
       "    .dataframe tbody tr th {\n",
       "        vertical-align: top;\n",
       "    }\n",
       "\n",
       "    .dataframe thead th {\n",
       "        text-align: right;\n",
       "    }\n",
       "</style>\n",
       "<table border=\"1\" class=\"dataframe\">\n",
       "  <thead>\n",
       "    <tr style=\"text-align: right;\">\n",
       "      <th></th>\n",
       "      <th>TAZ</th>\n",
       "      <th>yosh</th>\n",
       "      <th>in_jerusalem_metropolin</th>\n",
       "      <th>jerusalem_city</th>\n",
       "      <th>sector</th>\n",
       "      <th>hh_total</th>\n",
       "      <th>pop</th>\n",
       "      <th>age0_4</th>\n",
       "      <th>age5_9</th>\n",
       "      <th>age10_14</th>\n",
       "      <th>age15_19</th>\n",
       "      <th>age20_24</th>\n",
       "      <th>age25_29</th>\n",
       "      <th>age30_34</th>\n",
       "      <th>age35_39</th>\n",
       "      <th>age40_44</th>\n",
       "      <th>age45_49</th>\n",
       "      <th>age50_54</th>\n",
       "      <th>age55_59</th>\n",
       "      <th>age60_64</th>\n",
       "      <th>age65_69</th>\n",
       "      <th>age70_74</th>\n",
       "      <th>age75up</th>\n",
       "      <th>emp_tot</th>\n",
       "      <th>indus</th>\n",
       "      <th>com_hotel</th>\n",
       "      <th>business</th>\n",
       "      <th>public</th>\n",
       "      <th>education</th>\n",
       "      <th>agri</th>\n",
       "      <th>student</th>\n",
       "      <th>univ</th>\n",
       "      <th>UO_Hi_Ed</th>\n",
       "      <th>pop_emp_employed</th>\n",
       "    </tr>\n",
       "  </thead>\n",
       "  <tbody>\n",
       "  </tbody>\n",
       "</table>\n",
       "</div>"
      ],
      "text/plain": [
       "Empty DataFrame\n",
       "Columns: [TAZ, yosh, in_jerusalem_metropolin, jerusalem_city, sector, hh_total, pop, age0_4, age5_9, age10_14, age15_19, age20_24, age25_29, age30_34, age35_39, age40_44, age45_49, age50_54, age55_59, age60_64, age65_69, age70_74, age75up, emp_tot, indus, com_hotel, business, public, education, agri, student, univ, UO_Hi_Ed, pop_emp_employed]\n",
       "Index: []"
      ]
     },
     "execution_count": 680,
     "metadata": {},
     "output_type": "execute_result"
    }
   ],
   "source": [
    "taz.loc[~(taz['hh_total']<=taz['pop'])]"
   ]
  },
  {
   "cell_type": "code",
   "execution_count": 681,
   "id": "6478d5a4",
   "metadata": {
    "scrolled": true
   },
   "outputs": [
    {
     "data": {
      "text/html": [
       "<div>\n",
       "<style scoped>\n",
       "    .dataframe tbody tr th:only-of-type {\n",
       "        vertical-align: middle;\n",
       "    }\n",
       "\n",
       "    .dataframe tbody tr th {\n",
       "        vertical-align: top;\n",
       "    }\n",
       "\n",
       "    .dataframe thead th {\n",
       "        text-align: right;\n",
       "    }\n",
       "</style>\n",
       "<table border=\"1\" class=\"dataframe\">\n",
       "  <thead>\n",
       "    <tr style=\"text-align: right;\">\n",
       "      <th></th>\n",
       "      <th>TAZ</th>\n",
       "      <th>yosh</th>\n",
       "      <th>in_jerusalem_metropolin</th>\n",
       "      <th>jerusalem_city</th>\n",
       "      <th>sector</th>\n",
       "      <th>hh_total</th>\n",
       "      <th>pop</th>\n",
       "      <th>age0_4</th>\n",
       "      <th>age5_9</th>\n",
       "      <th>age10_14</th>\n",
       "      <th>age15_19</th>\n",
       "      <th>age20_24</th>\n",
       "      <th>age25_29</th>\n",
       "      <th>age30_34</th>\n",
       "      <th>age35_39</th>\n",
       "      <th>age40_44</th>\n",
       "      <th>age45_49</th>\n",
       "      <th>age50_54</th>\n",
       "      <th>age55_59</th>\n",
       "      <th>age60_64</th>\n",
       "      <th>age65_69</th>\n",
       "      <th>age70_74</th>\n",
       "      <th>age75up</th>\n",
       "      <th>emp_tot</th>\n",
       "      <th>indus</th>\n",
       "      <th>com_hotel</th>\n",
       "      <th>business</th>\n",
       "      <th>public</th>\n",
       "      <th>education</th>\n",
       "      <th>agri</th>\n",
       "      <th>student</th>\n",
       "      <th>univ</th>\n",
       "      <th>UO_Hi_Ed</th>\n",
       "      <th>pop_emp_employed</th>\n",
       "    </tr>\n",
       "  </thead>\n",
       "  <tbody>\n",
       "  </tbody>\n",
       "</table>\n",
       "</div>"
      ],
      "text/plain": [
       "Empty DataFrame\n",
       "Columns: [TAZ, yosh, in_jerusalem_metropolin, jerusalem_city, sector, hh_total, pop, age0_4, age5_9, age10_14, age15_19, age20_24, age25_29, age30_34, age35_39, age40_44, age45_49, age50_54, age55_59, age60_64, age65_69, age70_74, age75up, emp_tot, indus, com_hotel, business, public, education, agri, student, univ, UO_Hi_Ed, pop_emp_employed]\n",
       "Index: []"
      ]
     },
     "execution_count": 681,
     "metadata": {},
     "output_type": "execute_result"
    }
   ],
   "source": [
    "taz.loc[taz['sector']!=\"Palestinian\"].loc[taz['hh_total']>0].loc[taz['pop']<=0]"
   ]
  },
  {
   "cell_type": "code",
   "execution_count": 682,
   "id": "43c734e1",
   "metadata": {},
   "outputs": [],
   "source": [
    "col=['age0_4',\n",
    "'age5_9',\n",
    "'age10_14',\n",
    "'age15_19',\n",
    "'age20_24',\n",
    "'age25_29',\n",
    "'age30_34',\n",
    "'age35_39',\n",
    "'age40_44',\n",
    "'age45_49',\n",
    "'age50_54',\n",
    "'age55_59',\n",
    "'age60_64',\n",
    "'age65_69',\n",
    "'age70_74',\n",
    "'age75up',]\n",
    "\n",
    "taz['pop_check']=round(taz[col].sum(axis=1)-taz['pop'])"
   ]
  },
  {
   "cell_type": "code",
   "execution_count": 683,
   "id": "e9d56913",
   "metadata": {
    "scrolled": true
   },
   "outputs": [
    {
     "data": {
      "text/html": [
       "<div>\n",
       "<style scoped>\n",
       "    .dataframe tbody tr th:only-of-type {\n",
       "        vertical-align: middle;\n",
       "    }\n",
       "\n",
       "    .dataframe tbody tr th {\n",
       "        vertical-align: top;\n",
       "    }\n",
       "\n",
       "    .dataframe thead th {\n",
       "        text-align: right;\n",
       "    }\n",
       "</style>\n",
       "<table border=\"1\" class=\"dataframe\">\n",
       "  <thead>\n",
       "    <tr style=\"text-align: right;\">\n",
       "      <th></th>\n",
       "      <th>TAZ</th>\n",
       "      <th>yosh</th>\n",
       "      <th>in_jerusalem_metropolin</th>\n",
       "      <th>jerusalem_city</th>\n",
       "      <th>sector</th>\n",
       "      <th>hh_total</th>\n",
       "      <th>pop</th>\n",
       "      <th>age0_4</th>\n",
       "      <th>age5_9</th>\n",
       "      <th>age10_14</th>\n",
       "      <th>age15_19</th>\n",
       "      <th>age20_24</th>\n",
       "      <th>age25_29</th>\n",
       "      <th>age30_34</th>\n",
       "      <th>age35_39</th>\n",
       "      <th>age40_44</th>\n",
       "      <th>age45_49</th>\n",
       "      <th>age50_54</th>\n",
       "      <th>age55_59</th>\n",
       "      <th>age60_64</th>\n",
       "      <th>age65_69</th>\n",
       "      <th>age70_74</th>\n",
       "      <th>age75up</th>\n",
       "      <th>emp_tot</th>\n",
       "      <th>indus</th>\n",
       "      <th>com_hotel</th>\n",
       "      <th>business</th>\n",
       "      <th>public</th>\n",
       "      <th>education</th>\n",
       "      <th>agri</th>\n",
       "      <th>student</th>\n",
       "      <th>univ</th>\n",
       "      <th>UO_Hi_Ed</th>\n",
       "      <th>pop_emp_employed</th>\n",
       "      <th>pop_check</th>\n",
       "    </tr>\n",
       "  </thead>\n",
       "  <tbody>\n",
       "  </tbody>\n",
       "</table>\n",
       "</div>"
      ],
      "text/plain": [
       "Empty DataFrame\n",
       "Columns: [TAZ, yosh, in_jerusalem_metropolin, jerusalem_city, sector, hh_total, pop, age0_4, age5_9, age10_14, age15_19, age20_24, age25_29, age30_34, age35_39, age40_44, age45_49, age50_54, age55_59, age60_64, age65_69, age70_74, age75up, emp_tot, indus, com_hotel, business, public, education, agri, student, univ, UO_Hi_Ed, pop_emp_employed, pop_check]\n",
       "Index: []"
      ]
     },
     "execution_count": 683,
     "metadata": {},
     "output_type": "execute_result"
    }
   ],
   "source": [
    "taz.loc[taz['sector']!=\"Palestinian\"].loc[taz['pop_check']!=0].query('TAZ==511')#.to_excel('delet.xlsx')#[col].sum(axis=1)"
   ]
  },
  {
   "cell_type": "code",
   "execution_count": 684,
   "id": "20bbf335",
   "metadata": {
    "scrolled": true
   },
   "outputs": [
    {
     "data": {
      "text/plain": [
       "0"
      ]
     },
     "execution_count": 684,
     "metadata": {},
     "output_type": "execute_result"
    }
   ],
   "source": [
    "len(taz.loc[taz['sector']!=\"Palestinian\"].loc[taz['pop_check']!=0])"
   ]
  },
  {
   "cell_type": "code",
   "execution_count": 685,
   "id": "59887389",
   "metadata": {
    "scrolled": true
   },
   "outputs": [
    {
     "data": {
      "text/html": [
       "<div>\n",
       "<style scoped>\n",
       "    .dataframe tbody tr th:only-of-type {\n",
       "        vertical-align: middle;\n",
       "    }\n",
       "\n",
       "    .dataframe tbody tr th {\n",
       "        vertical-align: top;\n",
       "    }\n",
       "\n",
       "    .dataframe thead th {\n",
       "        text-align: right;\n",
       "    }\n",
       "</style>\n",
       "<table border=\"1\" class=\"dataframe\">\n",
       "  <thead>\n",
       "    <tr style=\"text-align: right;\">\n",
       "      <th></th>\n",
       "      <th>TAZ</th>\n",
       "      <th>yosh</th>\n",
       "      <th>in_jerusalem_metropolin</th>\n",
       "      <th>jerusalem_city</th>\n",
       "      <th>sector</th>\n",
       "      <th>hh_total</th>\n",
       "      <th>pop</th>\n",
       "      <th>age0_4</th>\n",
       "      <th>age5_9</th>\n",
       "      <th>age10_14</th>\n",
       "      <th>age15_19</th>\n",
       "      <th>age20_24</th>\n",
       "      <th>age25_29</th>\n",
       "      <th>age30_34</th>\n",
       "      <th>age35_39</th>\n",
       "      <th>age40_44</th>\n",
       "      <th>age45_49</th>\n",
       "      <th>age50_54</th>\n",
       "      <th>age55_59</th>\n",
       "      <th>age60_64</th>\n",
       "      <th>age65_69</th>\n",
       "      <th>age70_74</th>\n",
       "      <th>age75up</th>\n",
       "      <th>emp_tot</th>\n",
       "      <th>indus</th>\n",
       "      <th>com_hotel</th>\n",
       "      <th>business</th>\n",
       "      <th>public</th>\n",
       "      <th>education</th>\n",
       "      <th>agri</th>\n",
       "      <th>student</th>\n",
       "      <th>univ</th>\n",
       "      <th>UO_Hi_Ed</th>\n",
       "      <th>pop_emp_employed</th>\n",
       "      <th>pop_check</th>\n",
       "    </tr>\n",
       "  </thead>\n",
       "  <tbody>\n",
       "  </tbody>\n",
       "</table>\n",
       "</div>"
      ],
      "text/plain": [
       "Empty DataFrame\n",
       "Columns: [TAZ, yosh, in_jerusalem_metropolin, jerusalem_city, sector, hh_total, pop, age0_4, age5_9, age10_14, age15_19, age20_24, age25_29, age30_34, age35_39, age40_44, age45_49, age50_54, age55_59, age60_64, age65_69, age70_74, age75up, emp_tot, indus, com_hotel, business, public, education, agri, student, univ, UO_Hi_Ed, pop_emp_employed, pop_check]\n",
       "Index: []"
      ]
     },
     "execution_count": 685,
     "metadata": {},
     "output_type": "execute_result"
    }
   ],
   "source": [
    "taz.loc[taz['sector']!=\"Palestinian\"].loc[taz['pop']>0].loc[taz['hh_total']<=0]"
   ]
  },
  {
   "cell_type": "code",
   "execution_count": 686,
   "id": "2363e35a",
   "metadata": {},
   "outputs": [],
   "source": [
    "col=[\n",
    "'age0_4',\n",
    "'age5_9',\n",
    "'age10_14',\n",
    "'age15_19',\n",
    "'age20_24',\n",
    "'age25_29',\n",
    "'age30_34',\n",
    "'age35_39',\n",
    "'age40_44',\n",
    "'age45_49',\n",
    "'age50_54',\n",
    "'age55_59',\n",
    "'age60_64',\n",
    "'age65_69',\n",
    "'age70_74',\n",
    "'age75up']"
   ]
  },
  {
   "cell_type": "code",
   "execution_count": 687,
   "id": "db72a666",
   "metadata": {
    "scrolled": true
   },
   "outputs": [],
   "source": [
    "taz_to_check=[]\n",
    "for i in col:\n",
    "    taz_to_check=taz_to_check+list(taz.loc[taz['{}'.format(i)]>0].loc[taz['pop']<=0]['TAZ'])\n",
    "    taz_to_check=taz_to_check+list(taz.loc[taz['{}'.format(i)]>0].loc[taz['hh_total']<=0]['TAZ'])"
   ]
  },
  {
   "cell_type": "code",
   "execution_count": 688,
   "id": "35e2ce5b",
   "metadata": {
    "scrolled": true
   },
   "outputs": [
    {
     "data": {
      "text/plain": [
       "[]"
      ]
     },
     "execution_count": 688,
     "metadata": {},
     "output_type": "execute_result"
    }
   ],
   "source": [
    "taz_to_check"
   ]
  },
  {
   "cell_type": "code",
   "execution_count": 689,
   "id": "942205c6",
   "metadata": {},
   "outputs": [],
   "source": [
    "col=['indus',\n",
    "'com_hotel',\n",
    "'business',\n",
    "'public',\n",
    "'education',\n",
    "'agri']"
   ]
  },
  {
   "cell_type": "code",
   "execution_count": 690,
   "id": "0feb931d",
   "metadata": {},
   "outputs": [],
   "source": [
    "taz['emp_check']=round(taz[col].sum(axis=1)-taz['emp_tot'])"
   ]
  },
  {
   "cell_type": "code",
   "execution_count": 691,
   "id": "b833bf57",
   "metadata": {
    "scrolled": true
   },
   "outputs": [
    {
     "data": {
      "text/html": [
       "<div>\n",
       "<style scoped>\n",
       "    .dataframe tbody tr th:only-of-type {\n",
       "        vertical-align: middle;\n",
       "    }\n",
       "\n",
       "    .dataframe tbody tr th {\n",
       "        vertical-align: top;\n",
       "    }\n",
       "\n",
       "    .dataframe thead th {\n",
       "        text-align: right;\n",
       "    }\n",
       "</style>\n",
       "<table border=\"1\" class=\"dataframe\">\n",
       "  <thead>\n",
       "    <tr style=\"text-align: right;\">\n",
       "      <th></th>\n",
       "      <th>TAZ</th>\n",
       "      <th>yosh</th>\n",
       "      <th>in_jerusalem_metropolin</th>\n",
       "      <th>jerusalem_city</th>\n",
       "      <th>sector</th>\n",
       "      <th>hh_total</th>\n",
       "      <th>pop</th>\n",
       "      <th>age0_4</th>\n",
       "      <th>age5_9</th>\n",
       "      <th>age10_14</th>\n",
       "      <th>age15_19</th>\n",
       "      <th>age20_24</th>\n",
       "      <th>age25_29</th>\n",
       "      <th>age30_34</th>\n",
       "      <th>age35_39</th>\n",
       "      <th>age40_44</th>\n",
       "      <th>age45_49</th>\n",
       "      <th>age50_54</th>\n",
       "      <th>age55_59</th>\n",
       "      <th>age60_64</th>\n",
       "      <th>age65_69</th>\n",
       "      <th>age70_74</th>\n",
       "      <th>age75up</th>\n",
       "      <th>emp_tot</th>\n",
       "      <th>indus</th>\n",
       "      <th>com_hotel</th>\n",
       "      <th>business</th>\n",
       "      <th>public</th>\n",
       "      <th>education</th>\n",
       "      <th>agri</th>\n",
       "      <th>student</th>\n",
       "      <th>univ</th>\n",
       "      <th>UO_Hi_Ed</th>\n",
       "      <th>pop_emp_employed</th>\n",
       "      <th>pop_check</th>\n",
       "      <th>emp_check</th>\n",
       "    </tr>\n",
       "  </thead>\n",
       "  <tbody>\n",
       "  </tbody>\n",
       "</table>\n",
       "</div>"
      ],
      "text/plain": [
       "Empty DataFrame\n",
       "Columns: [TAZ, yosh, in_jerusalem_metropolin, jerusalem_city, sector, hh_total, pop, age0_4, age5_9, age10_14, age15_19, age20_24, age25_29, age30_34, age35_39, age40_44, age45_49, age50_54, age55_59, age60_64, age65_69, age70_74, age75up, emp_tot, indus, com_hotel, business, public, education, agri, student, univ, UO_Hi_Ed, pop_emp_employed, pop_check, emp_check]\n",
       "Index: []"
      ]
     },
     "execution_count": 691,
     "metadata": {},
     "output_type": "execute_result"
    }
   ],
   "source": [
    "taz.loc[taz['sector']!=\"Palestinian\"].loc[taz['emp_check']!=0]"
   ]
  },
  {
   "cell_type": "code",
   "execution_count": 692,
   "id": "7e37c96a",
   "metadata": {
    "scrolled": true
   },
   "outputs": [],
   "source": [
    "taz_to_check=[]\n",
    "for i in col:\n",
    "    taz_to_check=taz_to_check+list(taz.loc[taz['{}'.format(i)]>0].loc[taz['emp_tot']<=0]['TAZ'])"
   ]
  },
  {
   "cell_type": "code",
   "execution_count": 693,
   "id": "81e09b2e",
   "metadata": {
    "scrolled": true
   },
   "outputs": [
    {
     "data": {
      "text/plain": [
       "[]"
      ]
     },
     "execution_count": 693,
     "metadata": {},
     "output_type": "execute_result"
    }
   ],
   "source": [
    "taz_to_check"
   ]
  },
  {
   "cell_type": "code",
   "execution_count": 694,
   "id": "e4a46880",
   "metadata": {
    "scrolled": false
   },
   "outputs": [
    {
     "data": {
      "text/html": [
       "<div>\n",
       "<style scoped>\n",
       "    .dataframe tbody tr th:only-of-type {\n",
       "        vertical-align: middle;\n",
       "    }\n",
       "\n",
       "    .dataframe tbody tr th {\n",
       "        vertical-align: top;\n",
       "    }\n",
       "\n",
       "    .dataframe thead th {\n",
       "        text-align: right;\n",
       "    }\n",
       "</style>\n",
       "<table border=\"1\" class=\"dataframe\">\n",
       "  <thead>\n",
       "    <tr style=\"text-align: right;\">\n",
       "      <th></th>\n",
       "      <th>TAZ</th>\n",
       "      <th>yosh</th>\n",
       "      <th>in_jerusalem_metropolin</th>\n",
       "      <th>jerusalem_city</th>\n",
       "      <th>sector</th>\n",
       "      <th>hh_total</th>\n",
       "      <th>pop</th>\n",
       "      <th>age0_4</th>\n",
       "      <th>age5_9</th>\n",
       "      <th>age10_14</th>\n",
       "      <th>age15_19</th>\n",
       "      <th>age20_24</th>\n",
       "      <th>age25_29</th>\n",
       "      <th>age30_34</th>\n",
       "      <th>age35_39</th>\n",
       "      <th>age40_44</th>\n",
       "      <th>age45_49</th>\n",
       "      <th>age50_54</th>\n",
       "      <th>age55_59</th>\n",
       "      <th>age60_64</th>\n",
       "      <th>age65_69</th>\n",
       "      <th>age70_74</th>\n",
       "      <th>age75up</th>\n",
       "      <th>emp_tot</th>\n",
       "      <th>indus</th>\n",
       "      <th>com_hotel</th>\n",
       "      <th>business</th>\n",
       "      <th>public</th>\n",
       "      <th>education</th>\n",
       "      <th>agri</th>\n",
       "      <th>student</th>\n",
       "      <th>univ</th>\n",
       "      <th>UO_Hi_Ed</th>\n",
       "      <th>pop_emp_employed</th>\n",
       "      <th>pop_check</th>\n",
       "      <th>emp_check</th>\n",
       "    </tr>\n",
       "  </thead>\n",
       "  <tbody>\n",
       "  </tbody>\n",
       "</table>\n",
       "</div>"
      ],
      "text/plain": [
       "Empty DataFrame\n",
       "Columns: [TAZ, yosh, in_jerusalem_metropolin, jerusalem_city, sector, hh_total, pop, age0_4, age5_9, age10_14, age15_19, age20_24, age25_29, age30_34, age35_39, age40_44, age45_49, age50_54, age55_59, age60_64, age65_69, age70_74, age75up, emp_tot, indus, com_hotel, business, public, education, agri, student, univ, UO_Hi_Ed, pop_emp_employed, pop_check, emp_check]\n",
       "Index: []"
      ]
     },
     "execution_count": 694,
     "metadata": {},
     "output_type": "execute_result"
    }
   ],
   "source": [
    "taz.loc[taz['sector']!=\"Palestinian\"].loc[taz['pop_emp_employed']>0].loc[taz['pop']<=0]"
   ]
  }
 ],
 "metadata": {
  "kernelspec": {
   "display_name": "Python 3 (ipykernel)",
   "language": "python",
   "name": "python3"
  },
  "language_info": {
   "codemirror_mode": {
    "name": "ipython",
    "version": 3
   },
   "file_extension": ".py",
   "mimetype": "text/x-python",
   "name": "python",
   "nbconvert_exporter": "python",
   "pygments_lexer": "ipython3",
   "version": "3.11.5"
  },
  "toc": {
   "base_numbering": 1,
   "nav_menu": {},
   "number_sections": true,
   "sideBar": true,
   "skip_h1_title": false,
   "title_cell": "Table of Contents",
   "title_sidebar": "Contents",
   "toc_cell": false,
   "toc_position": {
    "height": "calc(100% - 180px)",
    "left": "10px",
    "top": "150px",
    "width": "347.297px"
   },
   "toc_section_display": true,
   "toc_window_display": true
  }
 },
 "nbformat": 4,
 "nbformat_minor": 5
}
