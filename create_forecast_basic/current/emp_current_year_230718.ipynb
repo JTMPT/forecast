{
 "cells": [
  {
   "cell_type": "markdown",
   "id": "65e4c2ef",
   "metadata": {},
   "source": [
    "## הגדרות ומקדים"
   ]
  },
  {
   "cell_type": "code",
   "execution_count": 21,
   "id": "a43ce0cf",
   "metadata": {},
   "outputs": [],
   "source": [
    "\n",
    "\n",
    "import pandas as pd\n",
    "import geopandas as gpd\n",
    "import numpy as np\n",
    "from shapely import wkt\n",
    "from matplotlib import pyplot as plt \n",
    "import folium\n",
    "import fiona\n",
    "from shapely.geometry import Point\n"
   ]
  },
  {
   "cell_type": "code",
   "execution_count": 22,
   "id": "e351ed54",
   "metadata": {},
   "outputs": [],
   "source": [
    "pd.set_option('display.max_rows', None)\n",
    "pd.set_option('display.max_columns', None)\n",
    "pd.set_option('display.float_format', lambda x: '%.3f' % x)\n"
   ]
  },
  {
   "cell_type": "markdown",
   "id": "9624443e",
   "metadata": {},
   "source": [
    "## פונקציות"
   ]
  },
  {
   "cell_type": "code",
   "execution_count": 23,
   "id": "d69c42ff",
   "metadata": {},
   "outputs": [],
   "source": [
    "def double_taz_num(df):\n",
    "    dup_taz_num=df.groupby(['Taz_num']).size().reset_index(name='count').query('count>1').Taz_num.to_list()\n",
    "    return df.loc[df['Taz_num'].isin(dup_taz_num)]"
   ]
  },
  {
   "cell_type": "code",
   "execution_count": 24,
   "id": "d048994a",
   "metadata": {},
   "outputs": [],
   "source": [
    "def make_point(df):\n",
    "    df_point=df.copy()\n",
    "    df_point['centroid'] = df_point.representative_point()\n",
    "    df_point=df_point.set_geometry('centroid')\n",
    "    df_point=df_point.drop(columns=['geometry'],axis=1)\n",
    "    return df_point"
   ]
  },
  {
   "cell_type": "code",
   "execution_count": 25,
   "id": "86bf5cad",
   "metadata": {},
   "outputs": [],
   "source": [
    "def up_load_gdb(path,layer_name):\n",
    "    path='{}'.format(path)\n",
    "    layer_list=fiona.listlayers(path)\n",
    "    gpd_layer=gpd.read_file(path, layer=layer_list.index(layer_name))\n",
    "    return gpd_layer"
   ]
  },
  {
   "cell_type": "code",
   "execution_count": 26,
   "id": "6acc6aa7",
   "metadata": {},
   "outputs": [],
   "source": [
    "def up_load_shp(path):\n",
    "    path='{}'.format(path)\n",
    "    gpd_layer=gpd.read_file(path)\n",
    "    return gpd_layer"
   ]
  },
  {
   "cell_type": "code",
   "execution_count": 27,
   "id": "cb093800",
   "metadata": {},
   "outputs": [],
   "source": [
    "def unique_id_in_one_taz(df_to_geoode,unique_field,gpd_for_geocode,taz):\n",
    "    \n",
    "    code_to_find=list(df_to_geoode[unique_field].unique())\n",
    "\n",
    "    gpd_for_geocode_to_sum_by_taz=gpd_for_geocode[[unique_field,'geometry']].loc[gpd_for_geocode[unique_field].isin(code_to_find)]\n",
    "\n",
    "    gpd_for_geocode_to_sum_by_taz=gpd.sjoin(taz[['Taz_num','geometry']],gpd_for_geocode_to_sum_by_taz)\n",
    "\n",
    "    gpd_for_geocode_in_one_taz=list(gpd_for_geocode_to_sum_by_taz.groupby(unique_field)[['Taz_num']].nunique().query('Taz_num==1').reset_index()[unique_field])\n",
    "\n",
    "    return gpd_for_geocode_in_one_taz"
   ]
  },
  {
   "cell_type": "code",
   "execution_count": 28,
   "id": "b1a16060",
   "metadata": {},
   "outputs": [],
   "source": [
    "def up_load_df(folder_path,file_name):\n",
    "    \n",
    "    path_df=r'{}\\{}.xlsx'.format(folder_path,file_name)\n",
    "    df=pd.read_excel(path_df)\n",
    "    df=df.dropna(how='all')\n",
    "\n",
    "    return df\n"
   ]
  },
  {
   "cell_type": "code",
   "execution_count": 29,
   "id": "e7c3a612",
   "metadata": {},
   "outputs": [],
   "source": [
    "#העלת משתנים להרצת הקוד\n",
    "df_inputs_outputs = pd.read_excel('inputs_outputs.xlsx')\n",
    "\n",
    "software_data_folder_location=df_inputs_outputs['location'][0]\n",
    "\n",
    "forecast_version_folder_location=df_inputs_outputs['location'][1]\n"
   ]
  },
  {
   "cell_type": "markdown",
   "id": "9e298bcd",
   "metadata": {},
   "source": [
    "## להריץ תלמידים"
   ]
  },
  {
   "cell_type": "code",
   "execution_count": 30,
   "id": "7cd351ae",
   "metadata": {},
   "outputs": [
    {
     "ename": "TypeError",
     "evalue": "'GeometryArray' with dtype geometry does not support reduction 'sum'",
     "output_type": "error",
     "traceback": [
      "\u001b[1;31m---------------------------------------------------------------------------\u001b[0m",
      "\u001b[1;31mNotImplementedError\u001b[0m                       Traceback (most recent call last)",
      "File \u001b[1;32mc:\\Users\\gidon\\AppData\\Local\\anaconda3\\Lib\\site-packages\\pandas\\core\\groupby\\groupby.py:1490\u001b[0m, in \u001b[0;36mGroupBy._cython_agg_general.<locals>.array_func\u001b[1;34m(values)\u001b[0m\n\u001b[0;32m   1489\u001b[0m \u001b[38;5;28;01mtry\u001b[39;00m:\n\u001b[1;32m-> 1490\u001b[0m     result \u001b[38;5;241m=\u001b[39m \u001b[38;5;28mself\u001b[39m\u001b[38;5;241m.\u001b[39mgrouper\u001b[38;5;241m.\u001b[39m_cython_operation(\n\u001b[0;32m   1491\u001b[0m         \u001b[38;5;124m\"\u001b[39m\u001b[38;5;124maggregate\u001b[39m\u001b[38;5;124m\"\u001b[39m,\n\u001b[0;32m   1492\u001b[0m         values,\n\u001b[0;32m   1493\u001b[0m         how,\n\u001b[0;32m   1494\u001b[0m         axis\u001b[38;5;241m=\u001b[39mdata\u001b[38;5;241m.\u001b[39mndim \u001b[38;5;241m-\u001b[39m \u001b[38;5;241m1\u001b[39m,\n\u001b[0;32m   1495\u001b[0m         min_count\u001b[38;5;241m=\u001b[39mmin_count,\n\u001b[0;32m   1496\u001b[0m         \u001b[38;5;241m*\u001b[39m\u001b[38;5;241m*\u001b[39mkwargs,\n\u001b[0;32m   1497\u001b[0m     )\n\u001b[0;32m   1498\u001b[0m \u001b[38;5;28;01mexcept\u001b[39;00m \u001b[38;5;167;01mNotImplementedError\u001b[39;00m:\n\u001b[0;32m   1499\u001b[0m     \u001b[38;5;66;03m# generally if we have numeric_only=False\u001b[39;00m\n\u001b[0;32m   1500\u001b[0m     \u001b[38;5;66;03m# and non-applicable functions\u001b[39;00m\n\u001b[0;32m   1501\u001b[0m     \u001b[38;5;66;03m# try to python agg\u001b[39;00m\n\u001b[0;32m   1502\u001b[0m     \u001b[38;5;66;03m# TODO: shouldn't min_count matter?\u001b[39;00m\n",
      "File \u001b[1;32mc:\\Users\\gidon\\AppData\\Local\\anaconda3\\Lib\\site-packages\\pandas\\core\\groupby\\ops.py:959\u001b[0m, in \u001b[0;36mBaseGrouper._cython_operation\u001b[1;34m(self, kind, values, how, axis, min_count, **kwargs)\u001b[0m\n\u001b[0;32m    958\u001b[0m ngroups \u001b[38;5;241m=\u001b[39m \u001b[38;5;28mself\u001b[39m\u001b[38;5;241m.\u001b[39mngroups\n\u001b[1;32m--> 959\u001b[0m \u001b[38;5;28;01mreturn\u001b[39;00m cy_op\u001b[38;5;241m.\u001b[39mcython_operation(\n\u001b[0;32m    960\u001b[0m     values\u001b[38;5;241m=\u001b[39mvalues,\n\u001b[0;32m    961\u001b[0m     axis\u001b[38;5;241m=\u001b[39maxis,\n\u001b[0;32m    962\u001b[0m     min_count\u001b[38;5;241m=\u001b[39mmin_count,\n\u001b[0;32m    963\u001b[0m     comp_ids\u001b[38;5;241m=\u001b[39mids,\n\u001b[0;32m    964\u001b[0m     ngroups\u001b[38;5;241m=\u001b[39mngroups,\n\u001b[0;32m    965\u001b[0m     \u001b[38;5;241m*\u001b[39m\u001b[38;5;241m*\u001b[39mkwargs,\n\u001b[0;32m    966\u001b[0m )\n",
      "File \u001b[1;32mc:\\Users\\gidon\\AppData\\Local\\anaconda3\\Lib\\site-packages\\pandas\\core\\groupby\\ops.py:649\u001b[0m, in \u001b[0;36mWrappedCythonOp.cython_operation\u001b[1;34m(self, values, axis, min_count, comp_ids, ngroups, **kwargs)\u001b[0m\n\u001b[0;32m    647\u001b[0m \u001b[38;5;28;01mif\u001b[39;00m \u001b[38;5;129;01mnot\u001b[39;00m \u001b[38;5;28misinstance\u001b[39m(values, np\u001b[38;5;241m.\u001b[39mndarray):\n\u001b[0;32m    648\u001b[0m     \u001b[38;5;66;03m# i.e. ExtensionArray\u001b[39;00m\n\u001b[1;32m--> 649\u001b[0m     \u001b[38;5;28;01mreturn\u001b[39;00m \u001b[38;5;28mself\u001b[39m\u001b[38;5;241m.\u001b[39m_ea_wrap_cython_operation(\n\u001b[0;32m    650\u001b[0m         values,\n\u001b[0;32m    651\u001b[0m         min_count\u001b[38;5;241m=\u001b[39mmin_count,\n\u001b[0;32m    652\u001b[0m         ngroups\u001b[38;5;241m=\u001b[39mngroups,\n\u001b[0;32m    653\u001b[0m         comp_ids\u001b[38;5;241m=\u001b[39mcomp_ids,\n\u001b[0;32m    654\u001b[0m         \u001b[38;5;241m*\u001b[39m\u001b[38;5;241m*\u001b[39mkwargs,\n\u001b[0;32m    655\u001b[0m     )\n\u001b[0;32m    657\u001b[0m \u001b[38;5;28;01mreturn\u001b[39;00m \u001b[38;5;28mself\u001b[39m\u001b[38;5;241m.\u001b[39m_cython_op_ndim_compat(\n\u001b[0;32m    658\u001b[0m     values,\n\u001b[0;32m    659\u001b[0m     min_count\u001b[38;5;241m=\u001b[39mmin_count,\n\u001b[1;32m   (...)\u001b[0m\n\u001b[0;32m    663\u001b[0m     \u001b[38;5;241m*\u001b[39m\u001b[38;5;241m*\u001b[39mkwargs,\n\u001b[0;32m    664\u001b[0m )\n",
      "File \u001b[1;32mc:\\Users\\gidon\\AppData\\Local\\anaconda3\\Lib\\site-packages\\pandas\\core\\groupby\\ops.py:365\u001b[0m, in \u001b[0;36mWrappedCythonOp._ea_wrap_cython_operation\u001b[1;34m(self, values, min_count, ngroups, comp_ids, **kwargs)\u001b[0m\n\u001b[0;32m    363\u001b[0m     \u001b[38;5;28;01mreturn\u001b[39;00m res_values\n\u001b[1;32m--> 365\u001b[0m npvalues \u001b[38;5;241m=\u001b[39m \u001b[38;5;28mself\u001b[39m\u001b[38;5;241m.\u001b[39m_ea_to_cython_values(values)\n\u001b[0;32m    367\u001b[0m res_values \u001b[38;5;241m=\u001b[39m \u001b[38;5;28mself\u001b[39m\u001b[38;5;241m.\u001b[39m_cython_op_ndim_compat(\n\u001b[0;32m    368\u001b[0m     npvalues,\n\u001b[0;32m    369\u001b[0m     min_count\u001b[38;5;241m=\u001b[39mmin_count,\n\u001b[1;32m   (...)\u001b[0m\n\u001b[0;32m    373\u001b[0m     \u001b[38;5;241m*\u001b[39m\u001b[38;5;241m*\u001b[39mkwargs,\n\u001b[0;32m    374\u001b[0m )\n",
      "File \u001b[1;32mc:\\Users\\gidon\\AppData\\Local\\anaconda3\\Lib\\site-packages\\pandas\\core\\groupby\\ops.py:394\u001b[0m, in \u001b[0;36mWrappedCythonOp._ea_to_cython_values\u001b[1;34m(self, values)\u001b[0m\n\u001b[0;32m    393\u001b[0m \u001b[38;5;28;01melse\u001b[39;00m:\n\u001b[1;32m--> 394\u001b[0m     \u001b[38;5;28;01mraise\u001b[39;00m \u001b[38;5;167;01mNotImplementedError\u001b[39;00m(\n\u001b[0;32m    395\u001b[0m         \u001b[38;5;124mf\u001b[39m\u001b[38;5;124m\"\u001b[39m\u001b[38;5;124mfunction is not implemented for this dtype: \u001b[39m\u001b[38;5;132;01m{\u001b[39;00mvalues\u001b[38;5;241m.\u001b[39mdtype\u001b[38;5;132;01m}\u001b[39;00m\u001b[38;5;124m\"\u001b[39m\n\u001b[0;32m    396\u001b[0m     )\n\u001b[0;32m    397\u001b[0m \u001b[38;5;28;01mreturn\u001b[39;00m npvalues\n",
      "\u001b[1;31mNotImplementedError\u001b[0m: function is not implemented for this dtype: geometry",
      "\nDuring handling of the above exception, another exception occurred:\n",
      "\u001b[1;31mTypeError\u001b[0m                                 Traceback (most recent call last)",
      "File \u001b[1;32m~\\AppData\\Local\\Temp\\ipykernel_28060\\2283233485.py:1\u001b[0m\n\u001b[1;32m----> 1\u001b[0m taz[\u001b[38;5;124m'\u001b[39m\u001b[38;5;124mstudent_gov\u001b[39m\u001b[38;5;124m'\u001b[39m]\u001b[38;5;241m=\u001b[39mgpd\u001b[38;5;241m.\u001b[39msjoin(taz\u001b[38;5;241m.\u001b[39mreset_index(),student_gov)\u001b[38;5;241m.\u001b[39mpivot_table(index\u001b[38;5;241m=\u001b[39m\u001b[38;5;124m'\u001b[39m\u001b[38;5;124mTaz_num\u001b[39m\u001b[38;5;124m'\u001b[39m,aggfunc\u001b[38;5;241m=\u001b[39m\u001b[38;5;28msum\u001b[39m)[[\u001b[38;5;124m'\u001b[39m\u001b[38;5;124mnum_of_students\u001b[39m\u001b[38;5;124m'\u001b[39m]]\n",
      "File \u001b[1;32mc:\\Users\\gidon\\AppData\\Local\\anaconda3\\Lib\\site-packages\\pandas\\core\\frame.py:8579\u001b[0m, in \u001b[0;36mDataFrame.pivot_table\u001b[1;34m(self, values, index, columns, aggfunc, fill_value, margins, dropna, margins_name, observed, sort)\u001b[0m\n\u001b[0;32m   8562\u001b[0m \u001b[38;5;129m@Substitution\u001b[39m(\u001b[38;5;124m\"\u001b[39m\u001b[38;5;124m\"\u001b[39m)\n\u001b[0;32m   8563\u001b[0m \u001b[38;5;129m@Appender\u001b[39m(_shared_docs[\u001b[38;5;124m\"\u001b[39m\u001b[38;5;124mpivot_table\u001b[39m\u001b[38;5;124m\"\u001b[39m])\n\u001b[0;32m   8564\u001b[0m \u001b[38;5;28;01mdef\u001b[39;00m \u001b[38;5;21mpivot_table\u001b[39m(\n\u001b[1;32m   (...)\u001b[0m\n\u001b[0;32m   8575\u001b[0m     sort: \u001b[38;5;28mbool\u001b[39m \u001b[38;5;241m=\u001b[39m \u001b[38;5;28;01mTrue\u001b[39;00m,\n\u001b[0;32m   8576\u001b[0m ) \u001b[38;5;241m-\u001b[39m\u001b[38;5;241m>\u001b[39m DataFrame:\n\u001b[0;32m   8577\u001b[0m     \u001b[38;5;28;01mfrom\u001b[39;00m \u001b[38;5;21;01mpandas\u001b[39;00m\u001b[38;5;21;01m.\u001b[39;00m\u001b[38;5;21;01mcore\u001b[39;00m\u001b[38;5;21;01m.\u001b[39;00m\u001b[38;5;21;01mreshape\u001b[39;00m\u001b[38;5;21;01m.\u001b[39;00m\u001b[38;5;21;01mpivot\u001b[39;00m \u001b[38;5;28;01mimport\u001b[39;00m pivot_table\n\u001b[1;32m-> 8579\u001b[0m     \u001b[38;5;28;01mreturn\u001b[39;00m pivot_table(\n\u001b[0;32m   8580\u001b[0m         \u001b[38;5;28mself\u001b[39m,\n\u001b[0;32m   8581\u001b[0m         values\u001b[38;5;241m=\u001b[39mvalues,\n\u001b[0;32m   8582\u001b[0m         index\u001b[38;5;241m=\u001b[39mindex,\n\u001b[0;32m   8583\u001b[0m         columns\u001b[38;5;241m=\u001b[39mcolumns,\n\u001b[0;32m   8584\u001b[0m         aggfunc\u001b[38;5;241m=\u001b[39maggfunc,\n\u001b[0;32m   8585\u001b[0m         fill_value\u001b[38;5;241m=\u001b[39mfill_value,\n\u001b[0;32m   8586\u001b[0m         margins\u001b[38;5;241m=\u001b[39mmargins,\n\u001b[0;32m   8587\u001b[0m         dropna\u001b[38;5;241m=\u001b[39mdropna,\n\u001b[0;32m   8588\u001b[0m         margins_name\u001b[38;5;241m=\u001b[39mmargins_name,\n\u001b[0;32m   8589\u001b[0m         observed\u001b[38;5;241m=\u001b[39mobserved,\n\u001b[0;32m   8590\u001b[0m         sort\u001b[38;5;241m=\u001b[39msort,\n\u001b[0;32m   8591\u001b[0m     )\n",
      "File \u001b[1;32mc:\\Users\\gidon\\AppData\\Local\\anaconda3\\Lib\\site-packages\\pandas\\core\\reshape\\pivot.py:97\u001b[0m, in \u001b[0;36mpivot_table\u001b[1;34m(data, values, index, columns, aggfunc, fill_value, margins, dropna, margins_name, observed, sort)\u001b[0m\n\u001b[0;32m     94\u001b[0m     table \u001b[38;5;241m=\u001b[39m concat(pieces, keys\u001b[38;5;241m=\u001b[39mkeys, axis\u001b[38;5;241m=\u001b[39m\u001b[38;5;241m1\u001b[39m)\n\u001b[0;32m     95\u001b[0m     \u001b[38;5;28;01mreturn\u001b[39;00m table\u001b[38;5;241m.\u001b[39m__finalize__(data, method\u001b[38;5;241m=\u001b[39m\u001b[38;5;124m\"\u001b[39m\u001b[38;5;124mpivot_table\u001b[39m\u001b[38;5;124m\"\u001b[39m)\n\u001b[1;32m---> 97\u001b[0m table \u001b[38;5;241m=\u001b[39m __internal_pivot_table(\n\u001b[0;32m     98\u001b[0m     data,\n\u001b[0;32m     99\u001b[0m     values,\n\u001b[0;32m    100\u001b[0m     index,\n\u001b[0;32m    101\u001b[0m     columns,\n\u001b[0;32m    102\u001b[0m     aggfunc,\n\u001b[0;32m    103\u001b[0m     fill_value,\n\u001b[0;32m    104\u001b[0m     margins,\n\u001b[0;32m    105\u001b[0m     dropna,\n\u001b[0;32m    106\u001b[0m     margins_name,\n\u001b[0;32m    107\u001b[0m     observed,\n\u001b[0;32m    108\u001b[0m     sort,\n\u001b[0;32m    109\u001b[0m )\n\u001b[0;32m    110\u001b[0m \u001b[38;5;28;01mreturn\u001b[39;00m table\u001b[38;5;241m.\u001b[39m__finalize__(data, method\u001b[38;5;241m=\u001b[39m\u001b[38;5;124m\"\u001b[39m\u001b[38;5;124mpivot_table\u001b[39m\u001b[38;5;124m\"\u001b[39m)\n",
      "File \u001b[1;32mc:\\Users\\gidon\\AppData\\Local\\anaconda3\\Lib\\site-packages\\pandas\\core\\reshape\\pivot.py:167\u001b[0m, in \u001b[0;36m__internal_pivot_table\u001b[1;34m(data, values, index, columns, aggfunc, fill_value, margins, dropna, margins_name, observed, sort)\u001b[0m\n\u001b[0;32m    164\u001b[0m     values \u001b[38;5;241m=\u001b[39m \u001b[38;5;28mlist\u001b[39m(values)\n\u001b[0;32m    166\u001b[0m grouped \u001b[38;5;241m=\u001b[39m data\u001b[38;5;241m.\u001b[39mgroupby(keys, observed\u001b[38;5;241m=\u001b[39mobserved, sort\u001b[38;5;241m=\u001b[39msort)\n\u001b[1;32m--> 167\u001b[0m agged \u001b[38;5;241m=\u001b[39m grouped\u001b[38;5;241m.\u001b[39magg(aggfunc)\n\u001b[0;32m    169\u001b[0m \u001b[38;5;28;01mif\u001b[39;00m dropna \u001b[38;5;129;01mand\u001b[39;00m \u001b[38;5;28misinstance\u001b[39m(agged, ABCDataFrame) \u001b[38;5;129;01mand\u001b[39;00m \u001b[38;5;28mlen\u001b[39m(agged\u001b[38;5;241m.\u001b[39mcolumns):\n\u001b[0;32m    170\u001b[0m     agged \u001b[38;5;241m=\u001b[39m agged\u001b[38;5;241m.\u001b[39mdropna(how\u001b[38;5;241m=\u001b[39m\u001b[38;5;124m\"\u001b[39m\u001b[38;5;124mall\u001b[39m\u001b[38;5;124m\"\u001b[39m)\n",
      "File \u001b[1;32mc:\\Users\\gidon\\AppData\\Local\\anaconda3\\Lib\\site-packages\\pandas\\core\\groupby\\generic.py:1269\u001b[0m, in \u001b[0;36mDataFrameGroupBy.aggregate\u001b[1;34m(self, func, engine, engine_kwargs, *args, **kwargs)\u001b[0m\n\u001b[0;32m   1266\u001b[0m func \u001b[38;5;241m=\u001b[39m maybe_mangle_lambdas(func)\n\u001b[0;32m   1268\u001b[0m op \u001b[38;5;241m=\u001b[39m GroupByApply(\u001b[38;5;28mself\u001b[39m, func, args, kwargs)\n\u001b[1;32m-> 1269\u001b[0m result \u001b[38;5;241m=\u001b[39m op\u001b[38;5;241m.\u001b[39magg()\n\u001b[0;32m   1270\u001b[0m \u001b[38;5;28;01mif\u001b[39;00m \u001b[38;5;129;01mnot\u001b[39;00m is_dict_like(func) \u001b[38;5;129;01mand\u001b[39;00m result \u001b[38;5;129;01mis\u001b[39;00m \u001b[38;5;129;01mnot\u001b[39;00m \u001b[38;5;28;01mNone\u001b[39;00m:\n\u001b[0;32m   1271\u001b[0m     \u001b[38;5;28;01mreturn\u001b[39;00m result\n",
      "File \u001b[1;32mc:\\Users\\gidon\\AppData\\Local\\anaconda3\\Lib\\site-packages\\pandas\\core\\apply.py:171\u001b[0m, in \u001b[0;36mApply.agg\u001b[1;34m(self)\u001b[0m\n\u001b[0;32m    169\u001b[0m     f \u001b[38;5;241m=\u001b[39m com\u001b[38;5;241m.\u001b[39mget_cython_func(arg)\n\u001b[0;32m    170\u001b[0m     \u001b[38;5;28;01mif\u001b[39;00m f \u001b[38;5;129;01mand\u001b[39;00m \u001b[38;5;129;01mnot\u001b[39;00m args \u001b[38;5;129;01mand\u001b[39;00m \u001b[38;5;129;01mnot\u001b[39;00m kwargs:\n\u001b[1;32m--> 171\u001b[0m         \u001b[38;5;28;01mreturn\u001b[39;00m \u001b[38;5;28mgetattr\u001b[39m(obj, f)()\n\u001b[0;32m    173\u001b[0m \u001b[38;5;66;03m# caller can react\u001b[39;00m\n\u001b[0;32m    174\u001b[0m \u001b[38;5;28;01mreturn\u001b[39;00m \u001b[38;5;28;01mNone\u001b[39;00m\n",
      "File \u001b[1;32mc:\\Users\\gidon\\AppData\\Local\\anaconda3\\Lib\\site-packages\\pandas\\core\\groupby\\groupby.py:2263\u001b[0m, in \u001b[0;36mGroupBy.sum\u001b[1;34m(self, numeric_only, min_count, engine, engine_kwargs)\u001b[0m\n\u001b[0;32m   2258\u001b[0m \u001b[38;5;28;01melse\u001b[39;00m:\n\u001b[0;32m   2259\u001b[0m     \u001b[38;5;66;03m# If we are grouping on categoricals we want unobserved categories to\u001b[39;00m\n\u001b[0;32m   2260\u001b[0m     \u001b[38;5;66;03m# return zero, rather than the default of NaN which the reindexing in\u001b[39;00m\n\u001b[0;32m   2261\u001b[0m     \u001b[38;5;66;03m# _agg_general() returns. GH #31422\u001b[39;00m\n\u001b[0;32m   2262\u001b[0m     \u001b[38;5;28;01mwith\u001b[39;00m com\u001b[38;5;241m.\u001b[39mtemp_setattr(\u001b[38;5;28mself\u001b[39m, \u001b[38;5;124m\"\u001b[39m\u001b[38;5;124mobserved\u001b[39m\u001b[38;5;124m\"\u001b[39m, \u001b[38;5;28;01mTrue\u001b[39;00m):\n\u001b[1;32m-> 2263\u001b[0m         result \u001b[38;5;241m=\u001b[39m \u001b[38;5;28mself\u001b[39m\u001b[38;5;241m.\u001b[39m_agg_general(\n\u001b[0;32m   2264\u001b[0m             numeric_only\u001b[38;5;241m=\u001b[39mnumeric_only,\n\u001b[0;32m   2265\u001b[0m             min_count\u001b[38;5;241m=\u001b[39mmin_count,\n\u001b[0;32m   2266\u001b[0m             alias\u001b[38;5;241m=\u001b[39m\u001b[38;5;124m\"\u001b[39m\u001b[38;5;124msum\u001b[39m\u001b[38;5;124m\"\u001b[39m,\n\u001b[0;32m   2267\u001b[0m             npfunc\u001b[38;5;241m=\u001b[39mnp\u001b[38;5;241m.\u001b[39msum,\n\u001b[0;32m   2268\u001b[0m         )\n\u001b[0;32m   2270\u001b[0m     \u001b[38;5;28;01mreturn\u001b[39;00m \u001b[38;5;28mself\u001b[39m\u001b[38;5;241m.\u001b[39m_reindex_output(result, fill_value\u001b[38;5;241m=\u001b[39m\u001b[38;5;241m0\u001b[39m)\n",
      "File \u001b[1;32mc:\\Users\\gidon\\AppData\\Local\\anaconda3\\Lib\\site-packages\\pandas\\core\\groupby\\groupby.py:1422\u001b[0m, in \u001b[0;36mGroupBy._agg_general\u001b[1;34m(self, numeric_only, min_count, alias, npfunc)\u001b[0m\n\u001b[0;32m   1413\u001b[0m \u001b[38;5;129m@final\u001b[39m\n\u001b[0;32m   1414\u001b[0m \u001b[38;5;28;01mdef\u001b[39;00m \u001b[38;5;21m_agg_general\u001b[39m(\n\u001b[0;32m   1415\u001b[0m     \u001b[38;5;28mself\u001b[39m,\n\u001b[1;32m   (...)\u001b[0m\n\u001b[0;32m   1420\u001b[0m     npfunc: Callable,\n\u001b[0;32m   1421\u001b[0m ):\n\u001b[1;32m-> 1422\u001b[0m     result \u001b[38;5;241m=\u001b[39m \u001b[38;5;28mself\u001b[39m\u001b[38;5;241m.\u001b[39m_cython_agg_general(\n\u001b[0;32m   1423\u001b[0m         how\u001b[38;5;241m=\u001b[39malias,\n\u001b[0;32m   1424\u001b[0m         alt\u001b[38;5;241m=\u001b[39mnpfunc,\n\u001b[0;32m   1425\u001b[0m         numeric_only\u001b[38;5;241m=\u001b[39mnumeric_only,\n\u001b[0;32m   1426\u001b[0m         min_count\u001b[38;5;241m=\u001b[39mmin_count,\n\u001b[0;32m   1427\u001b[0m     )\n\u001b[0;32m   1428\u001b[0m     \u001b[38;5;28;01mreturn\u001b[39;00m result\u001b[38;5;241m.\u001b[39m__finalize__(\u001b[38;5;28mself\u001b[39m\u001b[38;5;241m.\u001b[39mobj, method\u001b[38;5;241m=\u001b[39m\u001b[38;5;124m\"\u001b[39m\u001b[38;5;124mgroupby\u001b[39m\u001b[38;5;124m\"\u001b[39m)\n",
      "File \u001b[1;32mc:\\Users\\gidon\\AppData\\Local\\anaconda3\\Lib\\site-packages\\pandas\\core\\groupby\\groupby.py:1507\u001b[0m, in \u001b[0;36mGroupBy._cython_agg_general\u001b[1;34m(self, how, alt, numeric_only, min_count, **kwargs)\u001b[0m\n\u001b[0;32m   1503\u001b[0m         result \u001b[38;5;241m=\u001b[39m \u001b[38;5;28mself\u001b[39m\u001b[38;5;241m.\u001b[39m_agg_py_fallback(values, ndim\u001b[38;5;241m=\u001b[39mdata\u001b[38;5;241m.\u001b[39mndim, alt\u001b[38;5;241m=\u001b[39malt)\n\u001b[0;32m   1505\u001b[0m     \u001b[38;5;28;01mreturn\u001b[39;00m result\n\u001b[1;32m-> 1507\u001b[0m new_mgr \u001b[38;5;241m=\u001b[39m data\u001b[38;5;241m.\u001b[39mgrouped_reduce(array_func)\n\u001b[0;32m   1508\u001b[0m res \u001b[38;5;241m=\u001b[39m \u001b[38;5;28mself\u001b[39m\u001b[38;5;241m.\u001b[39m_wrap_agged_manager(new_mgr)\n\u001b[0;32m   1509\u001b[0m out \u001b[38;5;241m=\u001b[39m \u001b[38;5;28mself\u001b[39m\u001b[38;5;241m.\u001b[39m_wrap_aggregated_output(res)\n",
      "File \u001b[1;32mc:\\Users\\gidon\\AppData\\Local\\anaconda3\\Lib\\site-packages\\pandas\\core\\internals\\managers.py:1506\u001b[0m, in \u001b[0;36mBlockManager.grouped_reduce\u001b[1;34m(self, func)\u001b[0m\n\u001b[0;32m   1504\u001b[0m             result_blocks \u001b[38;5;241m=\u001b[39m extend_blocks(applied, result_blocks)\n\u001b[0;32m   1505\u001b[0m     \u001b[38;5;28;01melse\u001b[39;00m:\n\u001b[1;32m-> 1506\u001b[0m         applied \u001b[38;5;241m=\u001b[39m blk\u001b[38;5;241m.\u001b[39mapply(func)\n\u001b[0;32m   1507\u001b[0m         result_blocks \u001b[38;5;241m=\u001b[39m extend_blocks(applied, result_blocks)\n\u001b[0;32m   1509\u001b[0m \u001b[38;5;28;01mif\u001b[39;00m \u001b[38;5;28mlen\u001b[39m(result_blocks) \u001b[38;5;241m==\u001b[39m \u001b[38;5;241m0\u001b[39m:\n",
      "File \u001b[1;32mc:\\Users\\gidon\\AppData\\Local\\anaconda3\\Lib\\site-packages\\pandas\\core\\internals\\blocks.py:329\u001b[0m, in \u001b[0;36mBlock.apply\u001b[1;34m(self, func, **kwargs)\u001b[0m\n\u001b[0;32m    323\u001b[0m \u001b[38;5;129m@final\u001b[39m\n\u001b[0;32m    324\u001b[0m \u001b[38;5;28;01mdef\u001b[39;00m \u001b[38;5;21mapply\u001b[39m(\u001b[38;5;28mself\u001b[39m, func, \u001b[38;5;241m*\u001b[39m\u001b[38;5;241m*\u001b[39mkwargs) \u001b[38;5;241m-\u001b[39m\u001b[38;5;241m>\u001b[39m \u001b[38;5;28mlist\u001b[39m[Block]:\n\u001b[0;32m    325\u001b[0m \u001b[38;5;250m    \u001b[39m\u001b[38;5;124;03m\"\"\"\u001b[39;00m\n\u001b[0;32m    326\u001b[0m \u001b[38;5;124;03m    apply the function to my values; return a block if we are not\u001b[39;00m\n\u001b[0;32m    327\u001b[0m \u001b[38;5;124;03m    one\u001b[39;00m\n\u001b[0;32m    328\u001b[0m \u001b[38;5;124;03m    \"\"\"\u001b[39;00m\n\u001b[1;32m--> 329\u001b[0m     result \u001b[38;5;241m=\u001b[39m func(\u001b[38;5;28mself\u001b[39m\u001b[38;5;241m.\u001b[39mvalues, \u001b[38;5;241m*\u001b[39m\u001b[38;5;241m*\u001b[39mkwargs)\n\u001b[0;32m    331\u001b[0m     \u001b[38;5;28;01mreturn\u001b[39;00m \u001b[38;5;28mself\u001b[39m\u001b[38;5;241m.\u001b[39m_split_op_result(result)\n",
      "File \u001b[1;32mc:\\Users\\gidon\\AppData\\Local\\anaconda3\\Lib\\site-packages\\pandas\\core\\groupby\\groupby.py:1503\u001b[0m, in \u001b[0;36mGroupBy._cython_agg_general.<locals>.array_func\u001b[1;34m(values)\u001b[0m\n\u001b[0;32m   1490\u001b[0m     result \u001b[38;5;241m=\u001b[39m \u001b[38;5;28mself\u001b[39m\u001b[38;5;241m.\u001b[39mgrouper\u001b[38;5;241m.\u001b[39m_cython_operation(\n\u001b[0;32m   1491\u001b[0m         \u001b[38;5;124m\"\u001b[39m\u001b[38;5;124maggregate\u001b[39m\u001b[38;5;124m\"\u001b[39m,\n\u001b[0;32m   1492\u001b[0m         values,\n\u001b[1;32m   (...)\u001b[0m\n\u001b[0;32m   1496\u001b[0m         \u001b[38;5;241m*\u001b[39m\u001b[38;5;241m*\u001b[39mkwargs,\n\u001b[0;32m   1497\u001b[0m     )\n\u001b[0;32m   1498\u001b[0m \u001b[38;5;28;01mexcept\u001b[39;00m \u001b[38;5;167;01mNotImplementedError\u001b[39;00m:\n\u001b[0;32m   1499\u001b[0m     \u001b[38;5;66;03m# generally if we have numeric_only=False\u001b[39;00m\n\u001b[0;32m   1500\u001b[0m     \u001b[38;5;66;03m# and non-applicable functions\u001b[39;00m\n\u001b[0;32m   1501\u001b[0m     \u001b[38;5;66;03m# try to python agg\u001b[39;00m\n\u001b[0;32m   1502\u001b[0m     \u001b[38;5;66;03m# TODO: shouldn't min_count matter?\u001b[39;00m\n\u001b[1;32m-> 1503\u001b[0m     result \u001b[38;5;241m=\u001b[39m \u001b[38;5;28mself\u001b[39m\u001b[38;5;241m.\u001b[39m_agg_py_fallback(values, ndim\u001b[38;5;241m=\u001b[39mdata\u001b[38;5;241m.\u001b[39mndim, alt\u001b[38;5;241m=\u001b[39malt)\n\u001b[0;32m   1505\u001b[0m \u001b[38;5;28;01mreturn\u001b[39;00m result\n",
      "File \u001b[1;32mc:\\Users\\gidon\\AppData\\Local\\anaconda3\\Lib\\site-packages\\pandas\\core\\groupby\\groupby.py:1457\u001b[0m, in \u001b[0;36mGroupBy._agg_py_fallback\u001b[1;34m(self, values, ndim, alt)\u001b[0m\n\u001b[0;32m   1452\u001b[0m     ser \u001b[38;5;241m=\u001b[39m df\u001b[38;5;241m.\u001b[39miloc[:, \u001b[38;5;241m0\u001b[39m]\n\u001b[0;32m   1454\u001b[0m \u001b[38;5;66;03m# We do not get here with UDFs, so we know that our dtype\u001b[39;00m\n\u001b[0;32m   1455\u001b[0m \u001b[38;5;66;03m#  should always be preserved by the implemented aggregations\u001b[39;00m\n\u001b[0;32m   1456\u001b[0m \u001b[38;5;66;03m# TODO: Is this exactly right; see WrappedCythonOp get_result_dtype?\u001b[39;00m\n\u001b[1;32m-> 1457\u001b[0m res_values \u001b[38;5;241m=\u001b[39m \u001b[38;5;28mself\u001b[39m\u001b[38;5;241m.\u001b[39mgrouper\u001b[38;5;241m.\u001b[39magg_series(ser, alt, preserve_dtype\u001b[38;5;241m=\u001b[39m\u001b[38;5;28;01mTrue\u001b[39;00m)\n\u001b[0;32m   1459\u001b[0m \u001b[38;5;28;01mif\u001b[39;00m \u001b[38;5;28misinstance\u001b[39m(values, Categorical):\n\u001b[0;32m   1460\u001b[0m     \u001b[38;5;66;03m# Because we only get here with known dtype-preserving\u001b[39;00m\n\u001b[0;32m   1461\u001b[0m     \u001b[38;5;66;03m#  reductions, we cast back to Categorical.\u001b[39;00m\n\u001b[0;32m   1462\u001b[0m     \u001b[38;5;66;03m# TODO: if we ever get \"rank\" working, exclude it here.\u001b[39;00m\n\u001b[0;32m   1463\u001b[0m     res_values \u001b[38;5;241m=\u001b[39m \u001b[38;5;28mtype\u001b[39m(values)\u001b[38;5;241m.\u001b[39m_from_sequence(res_values, dtype\u001b[38;5;241m=\u001b[39mvalues\u001b[38;5;241m.\u001b[39mdtype)\n",
      "File \u001b[1;32mc:\\Users\\gidon\\AppData\\Local\\anaconda3\\Lib\\site-packages\\pandas\\core\\groupby\\ops.py:994\u001b[0m, in \u001b[0;36mBaseGrouper.agg_series\u001b[1;34m(self, obj, func, preserve_dtype)\u001b[0m\n\u001b[0;32m    987\u001b[0m \u001b[38;5;28;01mif\u001b[39;00m \u001b[38;5;28mlen\u001b[39m(obj) \u001b[38;5;241m>\u001b[39m \u001b[38;5;241m0\u001b[39m \u001b[38;5;129;01mand\u001b[39;00m \u001b[38;5;129;01mnot\u001b[39;00m \u001b[38;5;28misinstance\u001b[39m(obj\u001b[38;5;241m.\u001b[39m_values, np\u001b[38;5;241m.\u001b[39mndarray):\n\u001b[0;32m    988\u001b[0m     \u001b[38;5;66;03m# we can preserve a little bit more aggressively with EA dtype\u001b[39;00m\n\u001b[0;32m    989\u001b[0m     \u001b[38;5;66;03m#  because maybe_cast_pointwise_result will do a try/except\u001b[39;00m\n\u001b[0;32m    990\u001b[0m     \u001b[38;5;66;03m#  with _from_sequence.  NB we are assuming here that _from_sequence\u001b[39;00m\n\u001b[0;32m    991\u001b[0m     \u001b[38;5;66;03m#  is sufficiently strict that it casts appropriately.\u001b[39;00m\n\u001b[0;32m    992\u001b[0m     preserve_dtype \u001b[38;5;241m=\u001b[39m \u001b[38;5;28;01mTrue\u001b[39;00m\n\u001b[1;32m--> 994\u001b[0m result \u001b[38;5;241m=\u001b[39m \u001b[38;5;28mself\u001b[39m\u001b[38;5;241m.\u001b[39m_aggregate_series_pure_python(obj, func)\n\u001b[0;32m    996\u001b[0m npvalues \u001b[38;5;241m=\u001b[39m lib\u001b[38;5;241m.\u001b[39mmaybe_convert_objects(result, try_float\u001b[38;5;241m=\u001b[39m\u001b[38;5;28;01mFalse\u001b[39;00m)\n\u001b[0;32m    997\u001b[0m \u001b[38;5;28;01mif\u001b[39;00m preserve_dtype:\n",
      "File \u001b[1;32mc:\\Users\\gidon\\AppData\\Local\\anaconda3\\Lib\\site-packages\\pandas\\core\\groupby\\ops.py:1015\u001b[0m, in \u001b[0;36mBaseGrouper._aggregate_series_pure_python\u001b[1;34m(self, obj, func)\u001b[0m\n\u001b[0;32m   1012\u001b[0m splitter \u001b[38;5;241m=\u001b[39m \u001b[38;5;28mself\u001b[39m\u001b[38;5;241m.\u001b[39m_get_splitter(obj, axis\u001b[38;5;241m=\u001b[39m\u001b[38;5;241m0\u001b[39m)\n\u001b[0;32m   1014\u001b[0m \u001b[38;5;28;01mfor\u001b[39;00m i, group \u001b[38;5;129;01min\u001b[39;00m \u001b[38;5;28menumerate\u001b[39m(splitter):\n\u001b[1;32m-> 1015\u001b[0m     res \u001b[38;5;241m=\u001b[39m func(group)\n\u001b[0;32m   1016\u001b[0m     res \u001b[38;5;241m=\u001b[39m libreduction\u001b[38;5;241m.\u001b[39mextract_result(res)\n\u001b[0;32m   1018\u001b[0m     \u001b[38;5;28;01mif\u001b[39;00m \u001b[38;5;129;01mnot\u001b[39;00m initialized:\n\u001b[0;32m   1019\u001b[0m         \u001b[38;5;66;03m# We only do this validation on the first iteration\u001b[39;00m\n",
      "File \u001b[1;32m<__array_function__ internals>:200\u001b[0m, in \u001b[0;36msum\u001b[1;34m(*args, **kwargs)\u001b[0m\n",
      "File \u001b[1;32mc:\\Users\\gidon\\AppData\\Local\\anaconda3\\Lib\\site-packages\\numpy\\core\\fromnumeric.py:2324\u001b[0m, in \u001b[0;36msum\u001b[1;34m(a, axis, dtype, out, keepdims, initial, where)\u001b[0m\n\u001b[0;32m   2321\u001b[0m         \u001b[38;5;28;01mreturn\u001b[39;00m out\n\u001b[0;32m   2322\u001b[0m     \u001b[38;5;28;01mreturn\u001b[39;00m res\n\u001b[1;32m-> 2324\u001b[0m \u001b[38;5;28;01mreturn\u001b[39;00m _wrapreduction(a, np\u001b[38;5;241m.\u001b[39madd, \u001b[38;5;124m'\u001b[39m\u001b[38;5;124msum\u001b[39m\u001b[38;5;124m'\u001b[39m, axis, dtype, out, keepdims\u001b[38;5;241m=\u001b[39mkeepdims,\n\u001b[0;32m   2325\u001b[0m                       initial\u001b[38;5;241m=\u001b[39minitial, where\u001b[38;5;241m=\u001b[39mwhere)\n",
      "File \u001b[1;32mc:\\Users\\gidon\\AppData\\Local\\anaconda3\\Lib\\site-packages\\numpy\\core\\fromnumeric.py:84\u001b[0m, in \u001b[0;36m_wrapreduction\u001b[1;34m(obj, ufunc, method, axis, dtype, out, **kwargs)\u001b[0m\n\u001b[0;32m     82\u001b[0m             \u001b[38;5;28;01mreturn\u001b[39;00m reduction(axis\u001b[38;5;241m=\u001b[39maxis, dtype\u001b[38;5;241m=\u001b[39mdtype, out\u001b[38;5;241m=\u001b[39mout, \u001b[38;5;241m*\u001b[39m\u001b[38;5;241m*\u001b[39mpasskwargs)\n\u001b[0;32m     83\u001b[0m         \u001b[38;5;28;01melse\u001b[39;00m:\n\u001b[1;32m---> 84\u001b[0m             \u001b[38;5;28;01mreturn\u001b[39;00m reduction(axis\u001b[38;5;241m=\u001b[39maxis, out\u001b[38;5;241m=\u001b[39mout, \u001b[38;5;241m*\u001b[39m\u001b[38;5;241m*\u001b[39mpasskwargs)\n\u001b[0;32m     86\u001b[0m \u001b[38;5;28;01mreturn\u001b[39;00m ufunc\u001b[38;5;241m.\u001b[39mreduce(obj, axis, dtype, out, \u001b[38;5;241m*\u001b[39m\u001b[38;5;241m*\u001b[39mpasskwargs)\n",
      "File \u001b[1;32mc:\\Users\\gidon\\AppData\\Local\\anaconda3\\Lib\\site-packages\\pandas\\core\\generic.py:11512\u001b[0m, in \u001b[0;36mNDFrame._add_numeric_operations.<locals>.sum\u001b[1;34m(self, axis, skipna, numeric_only, min_count, **kwargs)\u001b[0m\n\u001b[0;32m  11493\u001b[0m \u001b[38;5;129m@doc\u001b[39m(  \u001b[38;5;66;03m# type: ignore[misc]\u001b[39;00m\n\u001b[0;32m  11494\u001b[0m     _num_doc,\n\u001b[0;32m  11495\u001b[0m     desc\u001b[38;5;241m=\u001b[39m\u001b[38;5;124m\"\u001b[39m\u001b[38;5;124mReturn the sum of the values over the requested axis.\u001b[39m\u001b[38;5;130;01m\\n\u001b[39;00m\u001b[38;5;130;01m\\n\u001b[39;00m\u001b[38;5;124m\"\u001b[39m\n\u001b[1;32m   (...)\u001b[0m\n\u001b[0;32m  11510\u001b[0m     \u001b[38;5;241m*\u001b[39m\u001b[38;5;241m*\u001b[39mkwargs,\n\u001b[0;32m  11511\u001b[0m ):\n\u001b[1;32m> 11512\u001b[0m     \u001b[38;5;28;01mreturn\u001b[39;00m NDFrame\u001b[38;5;241m.\u001b[39msum(\u001b[38;5;28mself\u001b[39m, axis, skipna, numeric_only, min_count, \u001b[38;5;241m*\u001b[39m\u001b[38;5;241m*\u001b[39mkwargs)\n",
      "File \u001b[1;32mc:\\Users\\gidon\\AppData\\Local\\anaconda3\\Lib\\site-packages\\pandas\\core\\generic.py:11280\u001b[0m, in \u001b[0;36mNDFrame.sum\u001b[1;34m(self, axis, skipna, numeric_only, min_count, **kwargs)\u001b[0m\n\u001b[0;32m  11272\u001b[0m \u001b[38;5;28;01mdef\u001b[39;00m \u001b[38;5;21msum\u001b[39m(\n\u001b[0;32m  11273\u001b[0m     \u001b[38;5;28mself\u001b[39m,\n\u001b[0;32m  11274\u001b[0m     axis: Axis \u001b[38;5;241m|\u001b[39m \u001b[38;5;28;01mNone\u001b[39;00m \u001b[38;5;241m=\u001b[39m \u001b[38;5;28;01mNone\u001b[39;00m,\n\u001b[1;32m   (...)\u001b[0m\n\u001b[0;32m  11278\u001b[0m     \u001b[38;5;241m*\u001b[39m\u001b[38;5;241m*\u001b[39mkwargs,\n\u001b[0;32m  11279\u001b[0m ):\n\u001b[1;32m> 11280\u001b[0m     \u001b[38;5;28;01mreturn\u001b[39;00m \u001b[38;5;28mself\u001b[39m\u001b[38;5;241m.\u001b[39m_min_count_stat_function(\n\u001b[0;32m  11281\u001b[0m         \u001b[38;5;124m\"\u001b[39m\u001b[38;5;124msum\u001b[39m\u001b[38;5;124m\"\u001b[39m, nanops\u001b[38;5;241m.\u001b[39mnansum, axis, skipna, numeric_only, min_count, \u001b[38;5;241m*\u001b[39m\u001b[38;5;241m*\u001b[39mkwargs\n\u001b[0;32m  11282\u001b[0m     )\n",
      "File \u001b[1;32mc:\\Users\\gidon\\AppData\\Local\\anaconda3\\Lib\\site-packages\\pandas\\core\\generic.py:11263\u001b[0m, in \u001b[0;36mNDFrame._min_count_stat_function\u001b[1;34m(self, name, func, axis, skipna, numeric_only, min_count, **kwargs)\u001b[0m\n\u001b[0;32m  11260\u001b[0m \u001b[38;5;28;01mif\u001b[39;00m axis \u001b[38;5;129;01mis\u001b[39;00m \u001b[38;5;28;01mNone\u001b[39;00m:\n\u001b[0;32m  11261\u001b[0m     axis \u001b[38;5;241m=\u001b[39m \u001b[38;5;28mself\u001b[39m\u001b[38;5;241m.\u001b[39m_stat_axis_number\n\u001b[1;32m> 11263\u001b[0m \u001b[38;5;28;01mreturn\u001b[39;00m \u001b[38;5;28mself\u001b[39m\u001b[38;5;241m.\u001b[39m_reduce(\n\u001b[0;32m  11264\u001b[0m     func,\n\u001b[0;32m  11265\u001b[0m     name\u001b[38;5;241m=\u001b[39mname,\n\u001b[0;32m  11266\u001b[0m     axis\u001b[38;5;241m=\u001b[39maxis,\n\u001b[0;32m  11267\u001b[0m     skipna\u001b[38;5;241m=\u001b[39mskipna,\n\u001b[0;32m  11268\u001b[0m     numeric_only\u001b[38;5;241m=\u001b[39mnumeric_only,\n\u001b[0;32m  11269\u001b[0m     min_count\u001b[38;5;241m=\u001b[39mmin_count,\n\u001b[0;32m  11270\u001b[0m )\n",
      "File \u001b[1;32mc:\\Users\\gidon\\AppData\\Local\\anaconda3\\Lib\\site-packages\\pandas\\core\\series.py:4656\u001b[0m, in \u001b[0;36mSeries._reduce\u001b[1;34m(self, op, name, axis, skipna, numeric_only, filter_type, **kwds)\u001b[0m\n\u001b[0;32m   4652\u001b[0m     \u001b[38;5;28mself\u001b[39m\u001b[38;5;241m.\u001b[39m_get_axis_number(axis)\n\u001b[0;32m   4654\u001b[0m \u001b[38;5;28;01mif\u001b[39;00m \u001b[38;5;28misinstance\u001b[39m(delegate, ExtensionArray):\n\u001b[0;32m   4655\u001b[0m     \u001b[38;5;66;03m# dispatch to ExtensionArray interface\u001b[39;00m\n\u001b[1;32m-> 4656\u001b[0m     \u001b[38;5;28;01mreturn\u001b[39;00m delegate\u001b[38;5;241m.\u001b[39m_reduce(name, skipna\u001b[38;5;241m=\u001b[39mskipna, \u001b[38;5;241m*\u001b[39m\u001b[38;5;241m*\u001b[39mkwds)\n\u001b[0;32m   4658\u001b[0m \u001b[38;5;28;01melse\u001b[39;00m:\n\u001b[0;32m   4659\u001b[0m     \u001b[38;5;66;03m# dispatch to numpy arrays\u001b[39;00m\n\u001b[0;32m   4660\u001b[0m     \u001b[38;5;28;01mif\u001b[39;00m numeric_only \u001b[38;5;129;01mand\u001b[39;00m \u001b[38;5;129;01mnot\u001b[39;00m is_numeric_dtype(\u001b[38;5;28mself\u001b[39m\u001b[38;5;241m.\u001b[39mdtype):\n",
      "File \u001b[1;32mc:\\Users\\gidon\\AppData\\Local\\anaconda3\\Lib\\site-packages\\geopandas\\array.py:1467\u001b[0m, in \u001b[0;36mGeometryArray._reduce\u001b[1;34m(self, name, skipna, **kwargs)\u001b[0m\n\u001b[0;32m   1464\u001b[0m \u001b[38;5;28;01mif\u001b[39;00m name \u001b[38;5;241m==\u001b[39m \u001b[38;5;124m\"\u001b[39m\u001b[38;5;124many\u001b[39m\u001b[38;5;124m\"\u001b[39m \u001b[38;5;129;01mor\u001b[39;00m name \u001b[38;5;241m==\u001b[39m \u001b[38;5;124m\"\u001b[39m\u001b[38;5;124mall\u001b[39m\u001b[38;5;124m\"\u001b[39m:\n\u001b[0;32m   1465\u001b[0m     \u001b[38;5;66;03m# TODO(pygeos)\u001b[39;00m\n\u001b[0;32m   1466\u001b[0m     \u001b[38;5;28;01mreturn\u001b[39;00m \u001b[38;5;28mgetattr\u001b[39m(to_shapely(\u001b[38;5;28mself\u001b[39m), name)()\n\u001b[1;32m-> 1467\u001b[0m \u001b[38;5;28;01mraise\u001b[39;00m \u001b[38;5;167;01mTypeError\u001b[39;00m(\n\u001b[0;32m   1468\u001b[0m     \u001b[38;5;124mf\u001b[39m\u001b[38;5;124m\"\u001b[39m\u001b[38;5;124m'\u001b[39m\u001b[38;5;132;01m{\u001b[39;00m\u001b[38;5;28mtype\u001b[39m(\u001b[38;5;28mself\u001b[39m)\u001b[38;5;241m.\u001b[39m\u001b[38;5;18m__name__\u001b[39m\u001b[38;5;132;01m}\u001b[39;00m\u001b[38;5;124m'\u001b[39m\u001b[38;5;124m with dtype \u001b[39m\u001b[38;5;132;01m{\u001b[39;00m\u001b[38;5;28mself\u001b[39m\u001b[38;5;241m.\u001b[39mdtype\u001b[38;5;132;01m}\u001b[39;00m\u001b[38;5;124m \u001b[39m\u001b[38;5;124m\"\u001b[39m\n\u001b[0;32m   1469\u001b[0m     \u001b[38;5;124mf\u001b[39m\u001b[38;5;124m\"\u001b[39m\u001b[38;5;124mdoes not support reduction \u001b[39m\u001b[38;5;124m'\u001b[39m\u001b[38;5;132;01m{\u001b[39;00mname\u001b[38;5;132;01m}\u001b[39;00m\u001b[38;5;124m'\u001b[39m\u001b[38;5;124m\"\u001b[39m\n\u001b[0;32m   1470\u001b[0m )\n",
      "\u001b[1;31mTypeError\u001b[0m: 'GeometryArray' with dtype geometry does not support reduction 'sum'"
     ]
    },
    {
     "ename": "TypeError",
     "evalue": "'GeometryArray' with dtype geometry does not support reduction 'sum'",
     "output_type": "error",
     "traceback": [
      "\u001b[1;31m---------------------------------------------------------------------------\u001b[0m",
      "\u001b[1;31mNotImplementedError\u001b[0m                       Traceback (most recent call last)",
      "File \u001b[1;32mc:\\Users\\gidon\\AppData\\Local\\anaconda3\\Lib\\site-packages\\pandas\\core\\groupby\\groupby.py:1490\u001b[0m, in \u001b[0;36mGroupBy._cython_agg_general.<locals>.array_func\u001b[1;34m(values)\u001b[0m\n\u001b[0;32m   1489\u001b[0m \u001b[38;5;28;01mtry\u001b[39;00m:\n\u001b[1;32m-> 1490\u001b[0m     result \u001b[38;5;241m=\u001b[39m \u001b[38;5;28mself\u001b[39m\u001b[38;5;241m.\u001b[39mgrouper\u001b[38;5;241m.\u001b[39m_cython_operation(\n\u001b[0;32m   1491\u001b[0m         \u001b[38;5;124m\"\u001b[39m\u001b[38;5;124maggregate\u001b[39m\u001b[38;5;124m\"\u001b[39m,\n\u001b[0;32m   1492\u001b[0m         values,\n\u001b[0;32m   1493\u001b[0m         how,\n\u001b[0;32m   1494\u001b[0m         axis\u001b[38;5;241m=\u001b[39mdata\u001b[38;5;241m.\u001b[39mndim \u001b[38;5;241m-\u001b[39m \u001b[38;5;241m1\u001b[39m,\n\u001b[0;32m   1495\u001b[0m         min_count\u001b[38;5;241m=\u001b[39mmin_count,\n\u001b[0;32m   1496\u001b[0m         \u001b[38;5;241m*\u001b[39m\u001b[38;5;241m*\u001b[39mkwargs,\n\u001b[0;32m   1497\u001b[0m     )\n\u001b[0;32m   1498\u001b[0m \u001b[38;5;28;01mexcept\u001b[39;00m \u001b[38;5;167;01mNotImplementedError\u001b[39;00m:\n\u001b[0;32m   1499\u001b[0m     \u001b[38;5;66;03m# generally if we have numeric_only=False\u001b[39;00m\n\u001b[0;32m   1500\u001b[0m     \u001b[38;5;66;03m# and non-applicable functions\u001b[39;00m\n\u001b[0;32m   1501\u001b[0m     \u001b[38;5;66;03m# try to python agg\u001b[39;00m\n\u001b[0;32m   1502\u001b[0m     \u001b[38;5;66;03m# TODO: shouldn't min_count matter?\u001b[39;00m\n",
      "File \u001b[1;32mc:\\Users\\gidon\\AppData\\Local\\anaconda3\\Lib\\site-packages\\pandas\\core\\groupby\\ops.py:959\u001b[0m, in \u001b[0;36mBaseGrouper._cython_operation\u001b[1;34m(self, kind, values, how, axis, min_count, **kwargs)\u001b[0m\n\u001b[0;32m    958\u001b[0m ngroups \u001b[38;5;241m=\u001b[39m \u001b[38;5;28mself\u001b[39m\u001b[38;5;241m.\u001b[39mngroups\n\u001b[1;32m--> 959\u001b[0m \u001b[38;5;28;01mreturn\u001b[39;00m cy_op\u001b[38;5;241m.\u001b[39mcython_operation(\n\u001b[0;32m    960\u001b[0m     values\u001b[38;5;241m=\u001b[39mvalues,\n\u001b[0;32m    961\u001b[0m     axis\u001b[38;5;241m=\u001b[39maxis,\n\u001b[0;32m    962\u001b[0m     min_count\u001b[38;5;241m=\u001b[39mmin_count,\n\u001b[0;32m    963\u001b[0m     comp_ids\u001b[38;5;241m=\u001b[39mids,\n\u001b[0;32m    964\u001b[0m     ngroups\u001b[38;5;241m=\u001b[39mngroups,\n\u001b[0;32m    965\u001b[0m     \u001b[38;5;241m*\u001b[39m\u001b[38;5;241m*\u001b[39mkwargs,\n\u001b[0;32m    966\u001b[0m )\n",
      "File \u001b[1;32mc:\\Users\\gidon\\AppData\\Local\\anaconda3\\Lib\\site-packages\\pandas\\core\\groupby\\ops.py:649\u001b[0m, in \u001b[0;36mWrappedCythonOp.cython_operation\u001b[1;34m(self, values, axis, min_count, comp_ids, ngroups, **kwargs)\u001b[0m\n\u001b[0;32m    647\u001b[0m \u001b[38;5;28;01mif\u001b[39;00m \u001b[38;5;129;01mnot\u001b[39;00m \u001b[38;5;28misinstance\u001b[39m(values, np\u001b[38;5;241m.\u001b[39mndarray):\n\u001b[0;32m    648\u001b[0m     \u001b[38;5;66;03m# i.e. ExtensionArray\u001b[39;00m\n\u001b[1;32m--> 649\u001b[0m     \u001b[38;5;28;01mreturn\u001b[39;00m \u001b[38;5;28mself\u001b[39m\u001b[38;5;241m.\u001b[39m_ea_wrap_cython_operation(\n\u001b[0;32m    650\u001b[0m         values,\n\u001b[0;32m    651\u001b[0m         min_count\u001b[38;5;241m=\u001b[39mmin_count,\n\u001b[0;32m    652\u001b[0m         ngroups\u001b[38;5;241m=\u001b[39mngroups,\n\u001b[0;32m    653\u001b[0m         comp_ids\u001b[38;5;241m=\u001b[39mcomp_ids,\n\u001b[0;32m    654\u001b[0m         \u001b[38;5;241m*\u001b[39m\u001b[38;5;241m*\u001b[39mkwargs,\n\u001b[0;32m    655\u001b[0m     )\n\u001b[0;32m    657\u001b[0m \u001b[38;5;28;01mreturn\u001b[39;00m \u001b[38;5;28mself\u001b[39m\u001b[38;5;241m.\u001b[39m_cython_op_ndim_compat(\n\u001b[0;32m    658\u001b[0m     values,\n\u001b[0;32m    659\u001b[0m     min_count\u001b[38;5;241m=\u001b[39mmin_count,\n\u001b[1;32m   (...)\u001b[0m\n\u001b[0;32m    663\u001b[0m     \u001b[38;5;241m*\u001b[39m\u001b[38;5;241m*\u001b[39mkwargs,\n\u001b[0;32m    664\u001b[0m )\n",
      "File \u001b[1;32mc:\\Users\\gidon\\AppData\\Local\\anaconda3\\Lib\\site-packages\\pandas\\core\\groupby\\ops.py:365\u001b[0m, in \u001b[0;36mWrappedCythonOp._ea_wrap_cython_operation\u001b[1;34m(self, values, min_count, ngroups, comp_ids, **kwargs)\u001b[0m\n\u001b[0;32m    363\u001b[0m     \u001b[38;5;28;01mreturn\u001b[39;00m res_values\n\u001b[1;32m--> 365\u001b[0m npvalues \u001b[38;5;241m=\u001b[39m \u001b[38;5;28mself\u001b[39m\u001b[38;5;241m.\u001b[39m_ea_to_cython_values(values)\n\u001b[0;32m    367\u001b[0m res_values \u001b[38;5;241m=\u001b[39m \u001b[38;5;28mself\u001b[39m\u001b[38;5;241m.\u001b[39m_cython_op_ndim_compat(\n\u001b[0;32m    368\u001b[0m     npvalues,\n\u001b[0;32m    369\u001b[0m     min_count\u001b[38;5;241m=\u001b[39mmin_count,\n\u001b[1;32m   (...)\u001b[0m\n\u001b[0;32m    373\u001b[0m     \u001b[38;5;241m*\u001b[39m\u001b[38;5;241m*\u001b[39mkwargs,\n\u001b[0;32m    374\u001b[0m )\n",
      "File \u001b[1;32mc:\\Users\\gidon\\AppData\\Local\\anaconda3\\Lib\\site-packages\\pandas\\core\\groupby\\ops.py:394\u001b[0m, in \u001b[0;36mWrappedCythonOp._ea_to_cython_values\u001b[1;34m(self, values)\u001b[0m\n\u001b[0;32m    393\u001b[0m \u001b[38;5;28;01melse\u001b[39;00m:\n\u001b[1;32m--> 394\u001b[0m     \u001b[38;5;28;01mraise\u001b[39;00m \u001b[38;5;167;01mNotImplementedError\u001b[39;00m(\n\u001b[0;32m    395\u001b[0m         \u001b[38;5;124mf\u001b[39m\u001b[38;5;124m\"\u001b[39m\u001b[38;5;124mfunction is not implemented for this dtype: \u001b[39m\u001b[38;5;132;01m{\u001b[39;00mvalues\u001b[38;5;241m.\u001b[39mdtype\u001b[38;5;132;01m}\u001b[39;00m\u001b[38;5;124m\"\u001b[39m\n\u001b[0;32m    396\u001b[0m     )\n\u001b[0;32m    397\u001b[0m \u001b[38;5;28;01mreturn\u001b[39;00m npvalues\n",
      "\u001b[1;31mNotImplementedError\u001b[0m: function is not implemented for this dtype: geometry",
      "\nDuring handling of the above exception, another exception occurred:\n",
      "\u001b[1;31mTypeError\u001b[0m                                 Traceback (most recent call last)",
      "Cell \u001b[1;32mIn[30], line 1\u001b[0m\n\u001b[1;32m----> 1\u001b[0m get_ipython()\u001b[38;5;241m.\u001b[39mrun_line_magic(\u001b[38;5;124m'\u001b[39m\u001b[38;5;124mrun\u001b[39m\u001b[38;5;124m'\u001b[39m, \u001b[38;5;124m'\u001b[39m\u001b[38;5;124m\"\u001b[39m\u001b[38;5;124mstudents_current_year_230706.ipynb\u001b[39m\u001b[38;5;124m\"\u001b[39m\u001b[38;5;124m'\u001b[39m)\n",
      "File \u001b[1;32mc:\\Users\\gidon\\AppData\\Local\\anaconda3\\Lib\\site-packages\\IPython\\core\\interactiveshell.py:2432\u001b[0m, in \u001b[0;36mInteractiveShell.run_line_magic\u001b[1;34m(self, magic_name, line, _stack_depth)\u001b[0m\n\u001b[0;32m   2430\u001b[0m     kwargs[\u001b[38;5;124m'\u001b[39m\u001b[38;5;124mlocal_ns\u001b[39m\u001b[38;5;124m'\u001b[39m] \u001b[38;5;241m=\u001b[39m \u001b[38;5;28mself\u001b[39m\u001b[38;5;241m.\u001b[39mget_local_scope(stack_depth)\n\u001b[0;32m   2431\u001b[0m \u001b[38;5;28;01mwith\u001b[39;00m \u001b[38;5;28mself\u001b[39m\u001b[38;5;241m.\u001b[39mbuiltin_trap:\n\u001b[1;32m-> 2432\u001b[0m     result \u001b[38;5;241m=\u001b[39m fn(\u001b[38;5;241m*\u001b[39margs, \u001b[38;5;241m*\u001b[39m\u001b[38;5;241m*\u001b[39mkwargs)\n\u001b[0;32m   2434\u001b[0m \u001b[38;5;66;03m# The code below prevents the output from being displayed\u001b[39;00m\n\u001b[0;32m   2435\u001b[0m \u001b[38;5;66;03m# when using magics with decorator @output_can_be_silenced\u001b[39;00m\n\u001b[0;32m   2436\u001b[0m \u001b[38;5;66;03m# when the last Python token in the expression is a ';'.\u001b[39;00m\n\u001b[0;32m   2437\u001b[0m \u001b[38;5;28;01mif\u001b[39;00m \u001b[38;5;28mgetattr\u001b[39m(fn, magic\u001b[38;5;241m.\u001b[39mMAGIC_OUTPUT_CAN_BE_SILENCED, \u001b[38;5;28;01mFalse\u001b[39;00m):\n",
      "File \u001b[1;32mc:\\Users\\gidon\\AppData\\Local\\anaconda3\\Lib\\site-packages\\IPython\\core\\magics\\execution.py:737\u001b[0m, in \u001b[0;36mExecutionMagics.run\u001b[1;34m(self, parameter_s, runner, file_finder)\u001b[0m\n\u001b[0;32m    735\u001b[0m     \u001b[38;5;28;01mwith\u001b[39;00m preserve_keys(\u001b[38;5;28mself\u001b[39m\u001b[38;5;241m.\u001b[39mshell\u001b[38;5;241m.\u001b[39muser_ns, \u001b[38;5;124m'\u001b[39m\u001b[38;5;124m__file__\u001b[39m\u001b[38;5;124m'\u001b[39m):\n\u001b[0;32m    736\u001b[0m         \u001b[38;5;28mself\u001b[39m\u001b[38;5;241m.\u001b[39mshell\u001b[38;5;241m.\u001b[39muser_ns[\u001b[38;5;124m'\u001b[39m\u001b[38;5;124m__file__\u001b[39m\u001b[38;5;124m'\u001b[39m] \u001b[38;5;241m=\u001b[39m filename\n\u001b[1;32m--> 737\u001b[0m         \u001b[38;5;28mself\u001b[39m\u001b[38;5;241m.\u001b[39mshell\u001b[38;5;241m.\u001b[39msafe_execfile_ipy(filename, raise_exceptions\u001b[38;5;241m=\u001b[39m\u001b[38;5;28;01mTrue\u001b[39;00m)\n\u001b[0;32m    738\u001b[0m     \u001b[38;5;28;01mreturn\u001b[39;00m\n\u001b[0;32m    740\u001b[0m \u001b[38;5;66;03m# Control the response to exit() calls made by the script being run\u001b[39;00m\n",
      "File \u001b[1;32mc:\\Users\\gidon\\AppData\\Local\\anaconda3\\Lib\\site-packages\\IPython\\core\\interactiveshell.py:2954\u001b[0m, in \u001b[0;36mInteractiveShell.safe_execfile_ipy\u001b[1;34m(self, fname, shell_futures, raise_exceptions)\u001b[0m\n\u001b[0;32m   2952\u001b[0m result \u001b[38;5;241m=\u001b[39m \u001b[38;5;28mself\u001b[39m\u001b[38;5;241m.\u001b[39mrun_cell(cell, silent\u001b[38;5;241m=\u001b[39m\u001b[38;5;28;01mTrue\u001b[39;00m, shell_futures\u001b[38;5;241m=\u001b[39mshell_futures)\n\u001b[0;32m   2953\u001b[0m \u001b[38;5;28;01mif\u001b[39;00m raise_exceptions:\n\u001b[1;32m-> 2954\u001b[0m     result\u001b[38;5;241m.\u001b[39mraise_error()\n\u001b[0;32m   2955\u001b[0m \u001b[38;5;28;01melif\u001b[39;00m \u001b[38;5;129;01mnot\u001b[39;00m result\u001b[38;5;241m.\u001b[39msuccess:\n\u001b[0;32m   2956\u001b[0m     \u001b[38;5;28;01mbreak\u001b[39;00m\n",
      "File \u001b[1;32mc:\\Users\\gidon\\AppData\\Local\\anaconda3\\Lib\\site-packages\\IPython\\core\\interactiveshell.py:270\u001b[0m, in \u001b[0;36mExecutionResult.raise_error\u001b[1;34m(self)\u001b[0m\n\u001b[0;32m    268\u001b[0m     \u001b[38;5;28;01mraise\u001b[39;00m \u001b[38;5;28mself\u001b[39m\u001b[38;5;241m.\u001b[39merror_before_exec\n\u001b[0;32m    269\u001b[0m \u001b[38;5;28;01mif\u001b[39;00m \u001b[38;5;28mself\u001b[39m\u001b[38;5;241m.\u001b[39merror_in_exec \u001b[38;5;129;01mis\u001b[39;00m \u001b[38;5;129;01mnot\u001b[39;00m \u001b[38;5;28;01mNone\u001b[39;00m:\n\u001b[1;32m--> 270\u001b[0m     \u001b[38;5;28;01mraise\u001b[39;00m \u001b[38;5;28mself\u001b[39m\u001b[38;5;241m.\u001b[39merror_in_exec\n",
      "    \u001b[1;31m[... skipping hidden 1 frame]\u001b[0m\n",
      "File \u001b[1;32m~\\AppData\\Local\\Temp\\ipykernel_28060\\2283233485.py:1\u001b[0m\n\u001b[1;32m----> 1\u001b[0m taz[\u001b[38;5;124m'\u001b[39m\u001b[38;5;124mstudent_gov\u001b[39m\u001b[38;5;124m'\u001b[39m]\u001b[38;5;241m=\u001b[39mgpd\u001b[38;5;241m.\u001b[39msjoin(taz\u001b[38;5;241m.\u001b[39mreset_index(),student_gov)\u001b[38;5;241m.\u001b[39mpivot_table(index\u001b[38;5;241m=\u001b[39m\u001b[38;5;124m'\u001b[39m\u001b[38;5;124mTaz_num\u001b[39m\u001b[38;5;124m'\u001b[39m,aggfunc\u001b[38;5;241m=\u001b[39m\u001b[38;5;28msum\u001b[39m)[[\u001b[38;5;124m'\u001b[39m\u001b[38;5;124mnum_of_students\u001b[39m\u001b[38;5;124m'\u001b[39m]]\n",
      "File \u001b[1;32mc:\\Users\\gidon\\AppData\\Local\\anaconda3\\Lib\\site-packages\\pandas\\core\\frame.py:8579\u001b[0m, in \u001b[0;36mDataFrame.pivot_table\u001b[1;34m(self, values, index, columns, aggfunc, fill_value, margins, dropna, margins_name, observed, sort)\u001b[0m\n\u001b[0;32m   8562\u001b[0m \u001b[38;5;129m@Substitution\u001b[39m(\u001b[38;5;124m\"\u001b[39m\u001b[38;5;124m\"\u001b[39m)\n\u001b[0;32m   8563\u001b[0m \u001b[38;5;129m@Appender\u001b[39m(_shared_docs[\u001b[38;5;124m\"\u001b[39m\u001b[38;5;124mpivot_table\u001b[39m\u001b[38;5;124m\"\u001b[39m])\n\u001b[0;32m   8564\u001b[0m \u001b[38;5;28;01mdef\u001b[39;00m \u001b[38;5;21mpivot_table\u001b[39m(\n\u001b[1;32m   (...)\u001b[0m\n\u001b[0;32m   8575\u001b[0m     sort: \u001b[38;5;28mbool\u001b[39m \u001b[38;5;241m=\u001b[39m \u001b[38;5;28;01mTrue\u001b[39;00m,\n\u001b[0;32m   8576\u001b[0m ) \u001b[38;5;241m-\u001b[39m\u001b[38;5;241m>\u001b[39m DataFrame:\n\u001b[0;32m   8577\u001b[0m     \u001b[38;5;28;01mfrom\u001b[39;00m \u001b[38;5;21;01mpandas\u001b[39;00m\u001b[38;5;21;01m.\u001b[39;00m\u001b[38;5;21;01mcore\u001b[39;00m\u001b[38;5;21;01m.\u001b[39;00m\u001b[38;5;21;01mreshape\u001b[39;00m\u001b[38;5;21;01m.\u001b[39;00m\u001b[38;5;21;01mpivot\u001b[39;00m \u001b[38;5;28;01mimport\u001b[39;00m pivot_table\n\u001b[1;32m-> 8579\u001b[0m     \u001b[38;5;28;01mreturn\u001b[39;00m pivot_table(\n\u001b[0;32m   8580\u001b[0m         \u001b[38;5;28mself\u001b[39m,\n\u001b[0;32m   8581\u001b[0m         values\u001b[38;5;241m=\u001b[39mvalues,\n\u001b[0;32m   8582\u001b[0m         index\u001b[38;5;241m=\u001b[39mindex,\n\u001b[0;32m   8583\u001b[0m         columns\u001b[38;5;241m=\u001b[39mcolumns,\n\u001b[0;32m   8584\u001b[0m         aggfunc\u001b[38;5;241m=\u001b[39maggfunc,\n\u001b[0;32m   8585\u001b[0m         fill_value\u001b[38;5;241m=\u001b[39mfill_value,\n\u001b[0;32m   8586\u001b[0m         margins\u001b[38;5;241m=\u001b[39mmargins,\n\u001b[0;32m   8587\u001b[0m         dropna\u001b[38;5;241m=\u001b[39mdropna,\n\u001b[0;32m   8588\u001b[0m         margins_name\u001b[38;5;241m=\u001b[39mmargins_name,\n\u001b[0;32m   8589\u001b[0m         observed\u001b[38;5;241m=\u001b[39mobserved,\n\u001b[0;32m   8590\u001b[0m         sort\u001b[38;5;241m=\u001b[39msort,\n\u001b[0;32m   8591\u001b[0m     )\n",
      "File \u001b[1;32mc:\\Users\\gidon\\AppData\\Local\\anaconda3\\Lib\\site-packages\\pandas\\core\\reshape\\pivot.py:97\u001b[0m, in \u001b[0;36mpivot_table\u001b[1;34m(data, values, index, columns, aggfunc, fill_value, margins, dropna, margins_name, observed, sort)\u001b[0m\n\u001b[0;32m     94\u001b[0m     table \u001b[38;5;241m=\u001b[39m concat(pieces, keys\u001b[38;5;241m=\u001b[39mkeys, axis\u001b[38;5;241m=\u001b[39m\u001b[38;5;241m1\u001b[39m)\n\u001b[0;32m     95\u001b[0m     \u001b[38;5;28;01mreturn\u001b[39;00m table\u001b[38;5;241m.\u001b[39m__finalize__(data, method\u001b[38;5;241m=\u001b[39m\u001b[38;5;124m\"\u001b[39m\u001b[38;5;124mpivot_table\u001b[39m\u001b[38;5;124m\"\u001b[39m)\n\u001b[1;32m---> 97\u001b[0m table \u001b[38;5;241m=\u001b[39m __internal_pivot_table(\n\u001b[0;32m     98\u001b[0m     data,\n\u001b[0;32m     99\u001b[0m     values,\n\u001b[0;32m    100\u001b[0m     index,\n\u001b[0;32m    101\u001b[0m     columns,\n\u001b[0;32m    102\u001b[0m     aggfunc,\n\u001b[0;32m    103\u001b[0m     fill_value,\n\u001b[0;32m    104\u001b[0m     margins,\n\u001b[0;32m    105\u001b[0m     dropna,\n\u001b[0;32m    106\u001b[0m     margins_name,\n\u001b[0;32m    107\u001b[0m     observed,\n\u001b[0;32m    108\u001b[0m     sort,\n\u001b[0;32m    109\u001b[0m )\n\u001b[0;32m    110\u001b[0m \u001b[38;5;28;01mreturn\u001b[39;00m table\u001b[38;5;241m.\u001b[39m__finalize__(data, method\u001b[38;5;241m=\u001b[39m\u001b[38;5;124m\"\u001b[39m\u001b[38;5;124mpivot_table\u001b[39m\u001b[38;5;124m\"\u001b[39m)\n",
      "File \u001b[1;32mc:\\Users\\gidon\\AppData\\Local\\anaconda3\\Lib\\site-packages\\pandas\\core\\reshape\\pivot.py:167\u001b[0m, in \u001b[0;36m__internal_pivot_table\u001b[1;34m(data, values, index, columns, aggfunc, fill_value, margins, dropna, margins_name, observed, sort)\u001b[0m\n\u001b[0;32m    164\u001b[0m     values \u001b[38;5;241m=\u001b[39m \u001b[38;5;28mlist\u001b[39m(values)\n\u001b[0;32m    166\u001b[0m grouped \u001b[38;5;241m=\u001b[39m data\u001b[38;5;241m.\u001b[39mgroupby(keys, observed\u001b[38;5;241m=\u001b[39mobserved, sort\u001b[38;5;241m=\u001b[39msort)\n\u001b[1;32m--> 167\u001b[0m agged \u001b[38;5;241m=\u001b[39m grouped\u001b[38;5;241m.\u001b[39magg(aggfunc)\n\u001b[0;32m    169\u001b[0m \u001b[38;5;28;01mif\u001b[39;00m dropna \u001b[38;5;129;01mand\u001b[39;00m \u001b[38;5;28misinstance\u001b[39m(agged, ABCDataFrame) \u001b[38;5;129;01mand\u001b[39;00m \u001b[38;5;28mlen\u001b[39m(agged\u001b[38;5;241m.\u001b[39mcolumns):\n\u001b[0;32m    170\u001b[0m     agged \u001b[38;5;241m=\u001b[39m agged\u001b[38;5;241m.\u001b[39mdropna(how\u001b[38;5;241m=\u001b[39m\u001b[38;5;124m\"\u001b[39m\u001b[38;5;124mall\u001b[39m\u001b[38;5;124m\"\u001b[39m)\n",
      "File \u001b[1;32mc:\\Users\\gidon\\AppData\\Local\\anaconda3\\Lib\\site-packages\\pandas\\core\\groupby\\generic.py:1269\u001b[0m, in \u001b[0;36mDataFrameGroupBy.aggregate\u001b[1;34m(self, func, engine, engine_kwargs, *args, **kwargs)\u001b[0m\n\u001b[0;32m   1266\u001b[0m func \u001b[38;5;241m=\u001b[39m maybe_mangle_lambdas(func)\n\u001b[0;32m   1268\u001b[0m op \u001b[38;5;241m=\u001b[39m GroupByApply(\u001b[38;5;28mself\u001b[39m, func, args, kwargs)\n\u001b[1;32m-> 1269\u001b[0m result \u001b[38;5;241m=\u001b[39m op\u001b[38;5;241m.\u001b[39magg()\n\u001b[0;32m   1270\u001b[0m \u001b[38;5;28;01mif\u001b[39;00m \u001b[38;5;129;01mnot\u001b[39;00m is_dict_like(func) \u001b[38;5;129;01mand\u001b[39;00m result \u001b[38;5;129;01mis\u001b[39;00m \u001b[38;5;129;01mnot\u001b[39;00m \u001b[38;5;28;01mNone\u001b[39;00m:\n\u001b[0;32m   1271\u001b[0m     \u001b[38;5;28;01mreturn\u001b[39;00m result\n",
      "File \u001b[1;32mc:\\Users\\gidon\\AppData\\Local\\anaconda3\\Lib\\site-packages\\pandas\\core\\apply.py:171\u001b[0m, in \u001b[0;36mApply.agg\u001b[1;34m(self)\u001b[0m\n\u001b[0;32m    169\u001b[0m     f \u001b[38;5;241m=\u001b[39m com\u001b[38;5;241m.\u001b[39mget_cython_func(arg)\n\u001b[0;32m    170\u001b[0m     \u001b[38;5;28;01mif\u001b[39;00m f \u001b[38;5;129;01mand\u001b[39;00m \u001b[38;5;129;01mnot\u001b[39;00m args \u001b[38;5;129;01mand\u001b[39;00m \u001b[38;5;129;01mnot\u001b[39;00m kwargs:\n\u001b[1;32m--> 171\u001b[0m         \u001b[38;5;28;01mreturn\u001b[39;00m \u001b[38;5;28mgetattr\u001b[39m(obj, f)()\n\u001b[0;32m    173\u001b[0m \u001b[38;5;66;03m# caller can react\u001b[39;00m\n\u001b[0;32m    174\u001b[0m \u001b[38;5;28;01mreturn\u001b[39;00m \u001b[38;5;28;01mNone\u001b[39;00m\n",
      "File \u001b[1;32mc:\\Users\\gidon\\AppData\\Local\\anaconda3\\Lib\\site-packages\\pandas\\core\\groupby\\groupby.py:2263\u001b[0m, in \u001b[0;36mGroupBy.sum\u001b[1;34m(self, numeric_only, min_count, engine, engine_kwargs)\u001b[0m\n\u001b[0;32m   2258\u001b[0m \u001b[38;5;28;01melse\u001b[39;00m:\n\u001b[0;32m   2259\u001b[0m     \u001b[38;5;66;03m# If we are grouping on categoricals we want unobserved categories to\u001b[39;00m\n\u001b[0;32m   2260\u001b[0m     \u001b[38;5;66;03m# return zero, rather than the default of NaN which the reindexing in\u001b[39;00m\n\u001b[0;32m   2261\u001b[0m     \u001b[38;5;66;03m# _agg_general() returns. GH #31422\u001b[39;00m\n\u001b[0;32m   2262\u001b[0m     \u001b[38;5;28;01mwith\u001b[39;00m com\u001b[38;5;241m.\u001b[39mtemp_setattr(\u001b[38;5;28mself\u001b[39m, \u001b[38;5;124m\"\u001b[39m\u001b[38;5;124mobserved\u001b[39m\u001b[38;5;124m\"\u001b[39m, \u001b[38;5;28;01mTrue\u001b[39;00m):\n\u001b[1;32m-> 2263\u001b[0m         result \u001b[38;5;241m=\u001b[39m \u001b[38;5;28mself\u001b[39m\u001b[38;5;241m.\u001b[39m_agg_general(\n\u001b[0;32m   2264\u001b[0m             numeric_only\u001b[38;5;241m=\u001b[39mnumeric_only,\n\u001b[0;32m   2265\u001b[0m             min_count\u001b[38;5;241m=\u001b[39mmin_count,\n\u001b[0;32m   2266\u001b[0m             alias\u001b[38;5;241m=\u001b[39m\u001b[38;5;124m\"\u001b[39m\u001b[38;5;124msum\u001b[39m\u001b[38;5;124m\"\u001b[39m,\n\u001b[0;32m   2267\u001b[0m             npfunc\u001b[38;5;241m=\u001b[39mnp\u001b[38;5;241m.\u001b[39msum,\n\u001b[0;32m   2268\u001b[0m         )\n\u001b[0;32m   2270\u001b[0m     \u001b[38;5;28;01mreturn\u001b[39;00m \u001b[38;5;28mself\u001b[39m\u001b[38;5;241m.\u001b[39m_reindex_output(result, fill_value\u001b[38;5;241m=\u001b[39m\u001b[38;5;241m0\u001b[39m)\n",
      "File \u001b[1;32mc:\\Users\\gidon\\AppData\\Local\\anaconda3\\Lib\\site-packages\\pandas\\core\\groupby\\groupby.py:1422\u001b[0m, in \u001b[0;36mGroupBy._agg_general\u001b[1;34m(self, numeric_only, min_count, alias, npfunc)\u001b[0m\n\u001b[0;32m   1413\u001b[0m \u001b[38;5;129m@final\u001b[39m\n\u001b[0;32m   1414\u001b[0m \u001b[38;5;28;01mdef\u001b[39;00m \u001b[38;5;21m_agg_general\u001b[39m(\n\u001b[0;32m   1415\u001b[0m     \u001b[38;5;28mself\u001b[39m,\n\u001b[1;32m   (...)\u001b[0m\n\u001b[0;32m   1420\u001b[0m     npfunc: Callable,\n\u001b[0;32m   1421\u001b[0m ):\n\u001b[1;32m-> 1422\u001b[0m     result \u001b[38;5;241m=\u001b[39m \u001b[38;5;28mself\u001b[39m\u001b[38;5;241m.\u001b[39m_cython_agg_general(\n\u001b[0;32m   1423\u001b[0m         how\u001b[38;5;241m=\u001b[39malias,\n\u001b[0;32m   1424\u001b[0m         alt\u001b[38;5;241m=\u001b[39mnpfunc,\n\u001b[0;32m   1425\u001b[0m         numeric_only\u001b[38;5;241m=\u001b[39mnumeric_only,\n\u001b[0;32m   1426\u001b[0m         min_count\u001b[38;5;241m=\u001b[39mmin_count,\n\u001b[0;32m   1427\u001b[0m     )\n\u001b[0;32m   1428\u001b[0m     \u001b[38;5;28;01mreturn\u001b[39;00m result\u001b[38;5;241m.\u001b[39m__finalize__(\u001b[38;5;28mself\u001b[39m\u001b[38;5;241m.\u001b[39mobj, method\u001b[38;5;241m=\u001b[39m\u001b[38;5;124m\"\u001b[39m\u001b[38;5;124mgroupby\u001b[39m\u001b[38;5;124m\"\u001b[39m)\n",
      "File \u001b[1;32mc:\\Users\\gidon\\AppData\\Local\\anaconda3\\Lib\\site-packages\\pandas\\core\\groupby\\groupby.py:1507\u001b[0m, in \u001b[0;36mGroupBy._cython_agg_general\u001b[1;34m(self, how, alt, numeric_only, min_count, **kwargs)\u001b[0m\n\u001b[0;32m   1503\u001b[0m         result \u001b[38;5;241m=\u001b[39m \u001b[38;5;28mself\u001b[39m\u001b[38;5;241m.\u001b[39m_agg_py_fallback(values, ndim\u001b[38;5;241m=\u001b[39mdata\u001b[38;5;241m.\u001b[39mndim, alt\u001b[38;5;241m=\u001b[39malt)\n\u001b[0;32m   1505\u001b[0m     \u001b[38;5;28;01mreturn\u001b[39;00m result\n\u001b[1;32m-> 1507\u001b[0m new_mgr \u001b[38;5;241m=\u001b[39m data\u001b[38;5;241m.\u001b[39mgrouped_reduce(array_func)\n\u001b[0;32m   1508\u001b[0m res \u001b[38;5;241m=\u001b[39m \u001b[38;5;28mself\u001b[39m\u001b[38;5;241m.\u001b[39m_wrap_agged_manager(new_mgr)\n\u001b[0;32m   1509\u001b[0m out \u001b[38;5;241m=\u001b[39m \u001b[38;5;28mself\u001b[39m\u001b[38;5;241m.\u001b[39m_wrap_aggregated_output(res)\n",
      "File \u001b[1;32mc:\\Users\\gidon\\AppData\\Local\\anaconda3\\Lib\\site-packages\\pandas\\core\\internals\\managers.py:1506\u001b[0m, in \u001b[0;36mBlockManager.grouped_reduce\u001b[1;34m(self, func)\u001b[0m\n\u001b[0;32m   1504\u001b[0m             result_blocks \u001b[38;5;241m=\u001b[39m extend_blocks(applied, result_blocks)\n\u001b[0;32m   1505\u001b[0m     \u001b[38;5;28;01melse\u001b[39;00m:\n\u001b[1;32m-> 1506\u001b[0m         applied \u001b[38;5;241m=\u001b[39m blk\u001b[38;5;241m.\u001b[39mapply(func)\n\u001b[0;32m   1507\u001b[0m         result_blocks \u001b[38;5;241m=\u001b[39m extend_blocks(applied, result_blocks)\n\u001b[0;32m   1509\u001b[0m \u001b[38;5;28;01mif\u001b[39;00m \u001b[38;5;28mlen\u001b[39m(result_blocks) \u001b[38;5;241m==\u001b[39m \u001b[38;5;241m0\u001b[39m:\n",
      "File \u001b[1;32mc:\\Users\\gidon\\AppData\\Local\\anaconda3\\Lib\\site-packages\\pandas\\core\\internals\\blocks.py:329\u001b[0m, in \u001b[0;36mBlock.apply\u001b[1;34m(self, func, **kwargs)\u001b[0m\n\u001b[0;32m    323\u001b[0m \u001b[38;5;129m@final\u001b[39m\n\u001b[0;32m    324\u001b[0m \u001b[38;5;28;01mdef\u001b[39;00m \u001b[38;5;21mapply\u001b[39m(\u001b[38;5;28mself\u001b[39m, func, \u001b[38;5;241m*\u001b[39m\u001b[38;5;241m*\u001b[39mkwargs) \u001b[38;5;241m-\u001b[39m\u001b[38;5;241m>\u001b[39m \u001b[38;5;28mlist\u001b[39m[Block]:\n\u001b[0;32m    325\u001b[0m \u001b[38;5;250m    \u001b[39m\u001b[38;5;124;03m\"\"\"\u001b[39;00m\n\u001b[0;32m    326\u001b[0m \u001b[38;5;124;03m    apply the function to my values; return a block if we are not\u001b[39;00m\n\u001b[0;32m    327\u001b[0m \u001b[38;5;124;03m    one\u001b[39;00m\n\u001b[0;32m    328\u001b[0m \u001b[38;5;124;03m    \"\"\"\u001b[39;00m\n\u001b[1;32m--> 329\u001b[0m     result \u001b[38;5;241m=\u001b[39m func(\u001b[38;5;28mself\u001b[39m\u001b[38;5;241m.\u001b[39mvalues, \u001b[38;5;241m*\u001b[39m\u001b[38;5;241m*\u001b[39mkwargs)\n\u001b[0;32m    331\u001b[0m     \u001b[38;5;28;01mreturn\u001b[39;00m \u001b[38;5;28mself\u001b[39m\u001b[38;5;241m.\u001b[39m_split_op_result(result)\n",
      "File \u001b[1;32mc:\\Users\\gidon\\AppData\\Local\\anaconda3\\Lib\\site-packages\\pandas\\core\\groupby\\groupby.py:1503\u001b[0m, in \u001b[0;36mGroupBy._cython_agg_general.<locals>.array_func\u001b[1;34m(values)\u001b[0m\n\u001b[0;32m   1490\u001b[0m     result \u001b[38;5;241m=\u001b[39m \u001b[38;5;28mself\u001b[39m\u001b[38;5;241m.\u001b[39mgrouper\u001b[38;5;241m.\u001b[39m_cython_operation(\n\u001b[0;32m   1491\u001b[0m         \u001b[38;5;124m\"\u001b[39m\u001b[38;5;124maggregate\u001b[39m\u001b[38;5;124m\"\u001b[39m,\n\u001b[0;32m   1492\u001b[0m         values,\n\u001b[1;32m   (...)\u001b[0m\n\u001b[0;32m   1496\u001b[0m         \u001b[38;5;241m*\u001b[39m\u001b[38;5;241m*\u001b[39mkwargs,\n\u001b[0;32m   1497\u001b[0m     )\n\u001b[0;32m   1498\u001b[0m \u001b[38;5;28;01mexcept\u001b[39;00m \u001b[38;5;167;01mNotImplementedError\u001b[39;00m:\n\u001b[0;32m   1499\u001b[0m     \u001b[38;5;66;03m# generally if we have numeric_only=False\u001b[39;00m\n\u001b[0;32m   1500\u001b[0m     \u001b[38;5;66;03m# and non-applicable functions\u001b[39;00m\n\u001b[0;32m   1501\u001b[0m     \u001b[38;5;66;03m# try to python agg\u001b[39;00m\n\u001b[0;32m   1502\u001b[0m     \u001b[38;5;66;03m# TODO: shouldn't min_count matter?\u001b[39;00m\n\u001b[1;32m-> 1503\u001b[0m     result \u001b[38;5;241m=\u001b[39m \u001b[38;5;28mself\u001b[39m\u001b[38;5;241m.\u001b[39m_agg_py_fallback(values, ndim\u001b[38;5;241m=\u001b[39mdata\u001b[38;5;241m.\u001b[39mndim, alt\u001b[38;5;241m=\u001b[39malt)\n\u001b[0;32m   1505\u001b[0m \u001b[38;5;28;01mreturn\u001b[39;00m result\n",
      "File \u001b[1;32mc:\\Users\\gidon\\AppData\\Local\\anaconda3\\Lib\\site-packages\\pandas\\core\\groupby\\groupby.py:1457\u001b[0m, in \u001b[0;36mGroupBy._agg_py_fallback\u001b[1;34m(self, values, ndim, alt)\u001b[0m\n\u001b[0;32m   1452\u001b[0m     ser \u001b[38;5;241m=\u001b[39m df\u001b[38;5;241m.\u001b[39miloc[:, \u001b[38;5;241m0\u001b[39m]\n\u001b[0;32m   1454\u001b[0m \u001b[38;5;66;03m# We do not get here with UDFs, so we know that our dtype\u001b[39;00m\n\u001b[0;32m   1455\u001b[0m \u001b[38;5;66;03m#  should always be preserved by the implemented aggregations\u001b[39;00m\n\u001b[0;32m   1456\u001b[0m \u001b[38;5;66;03m# TODO: Is this exactly right; see WrappedCythonOp get_result_dtype?\u001b[39;00m\n\u001b[1;32m-> 1457\u001b[0m res_values \u001b[38;5;241m=\u001b[39m \u001b[38;5;28mself\u001b[39m\u001b[38;5;241m.\u001b[39mgrouper\u001b[38;5;241m.\u001b[39magg_series(ser, alt, preserve_dtype\u001b[38;5;241m=\u001b[39m\u001b[38;5;28;01mTrue\u001b[39;00m)\n\u001b[0;32m   1459\u001b[0m \u001b[38;5;28;01mif\u001b[39;00m \u001b[38;5;28misinstance\u001b[39m(values, Categorical):\n\u001b[0;32m   1460\u001b[0m     \u001b[38;5;66;03m# Because we only get here with known dtype-preserving\u001b[39;00m\n\u001b[0;32m   1461\u001b[0m     \u001b[38;5;66;03m#  reductions, we cast back to Categorical.\u001b[39;00m\n\u001b[0;32m   1462\u001b[0m     \u001b[38;5;66;03m# TODO: if we ever get \"rank\" working, exclude it here.\u001b[39;00m\n\u001b[0;32m   1463\u001b[0m     res_values \u001b[38;5;241m=\u001b[39m \u001b[38;5;28mtype\u001b[39m(values)\u001b[38;5;241m.\u001b[39m_from_sequence(res_values, dtype\u001b[38;5;241m=\u001b[39mvalues\u001b[38;5;241m.\u001b[39mdtype)\n",
      "File \u001b[1;32mc:\\Users\\gidon\\AppData\\Local\\anaconda3\\Lib\\site-packages\\pandas\\core\\groupby\\ops.py:994\u001b[0m, in \u001b[0;36mBaseGrouper.agg_series\u001b[1;34m(self, obj, func, preserve_dtype)\u001b[0m\n\u001b[0;32m    987\u001b[0m \u001b[38;5;28;01mif\u001b[39;00m \u001b[38;5;28mlen\u001b[39m(obj) \u001b[38;5;241m>\u001b[39m \u001b[38;5;241m0\u001b[39m \u001b[38;5;129;01mand\u001b[39;00m \u001b[38;5;129;01mnot\u001b[39;00m \u001b[38;5;28misinstance\u001b[39m(obj\u001b[38;5;241m.\u001b[39m_values, np\u001b[38;5;241m.\u001b[39mndarray):\n\u001b[0;32m    988\u001b[0m     \u001b[38;5;66;03m# we can preserve a little bit more aggressively with EA dtype\u001b[39;00m\n\u001b[0;32m    989\u001b[0m     \u001b[38;5;66;03m#  because maybe_cast_pointwise_result will do a try/except\u001b[39;00m\n\u001b[0;32m    990\u001b[0m     \u001b[38;5;66;03m#  with _from_sequence.  NB we are assuming here that _from_sequence\u001b[39;00m\n\u001b[0;32m    991\u001b[0m     \u001b[38;5;66;03m#  is sufficiently strict that it casts appropriately.\u001b[39;00m\n\u001b[0;32m    992\u001b[0m     preserve_dtype \u001b[38;5;241m=\u001b[39m \u001b[38;5;28;01mTrue\u001b[39;00m\n\u001b[1;32m--> 994\u001b[0m result \u001b[38;5;241m=\u001b[39m \u001b[38;5;28mself\u001b[39m\u001b[38;5;241m.\u001b[39m_aggregate_series_pure_python(obj, func)\n\u001b[0;32m    996\u001b[0m npvalues \u001b[38;5;241m=\u001b[39m lib\u001b[38;5;241m.\u001b[39mmaybe_convert_objects(result, try_float\u001b[38;5;241m=\u001b[39m\u001b[38;5;28;01mFalse\u001b[39;00m)\n\u001b[0;32m    997\u001b[0m \u001b[38;5;28;01mif\u001b[39;00m preserve_dtype:\n",
      "File \u001b[1;32mc:\\Users\\gidon\\AppData\\Local\\anaconda3\\Lib\\site-packages\\pandas\\core\\groupby\\ops.py:1015\u001b[0m, in \u001b[0;36mBaseGrouper._aggregate_series_pure_python\u001b[1;34m(self, obj, func)\u001b[0m\n\u001b[0;32m   1012\u001b[0m splitter \u001b[38;5;241m=\u001b[39m \u001b[38;5;28mself\u001b[39m\u001b[38;5;241m.\u001b[39m_get_splitter(obj, axis\u001b[38;5;241m=\u001b[39m\u001b[38;5;241m0\u001b[39m)\n\u001b[0;32m   1014\u001b[0m \u001b[38;5;28;01mfor\u001b[39;00m i, group \u001b[38;5;129;01min\u001b[39;00m \u001b[38;5;28menumerate\u001b[39m(splitter):\n\u001b[1;32m-> 1015\u001b[0m     res \u001b[38;5;241m=\u001b[39m func(group)\n\u001b[0;32m   1016\u001b[0m     res \u001b[38;5;241m=\u001b[39m libreduction\u001b[38;5;241m.\u001b[39mextract_result(res)\n\u001b[0;32m   1018\u001b[0m     \u001b[38;5;28;01mif\u001b[39;00m \u001b[38;5;129;01mnot\u001b[39;00m initialized:\n\u001b[0;32m   1019\u001b[0m         \u001b[38;5;66;03m# We only do this validation on the first iteration\u001b[39;00m\n",
      "File \u001b[1;32m<__array_function__ internals>:200\u001b[0m, in \u001b[0;36msum\u001b[1;34m(*args, **kwargs)\u001b[0m\n",
      "File \u001b[1;32mc:\\Users\\gidon\\AppData\\Local\\anaconda3\\Lib\\site-packages\\numpy\\core\\fromnumeric.py:2324\u001b[0m, in \u001b[0;36msum\u001b[1;34m(a, axis, dtype, out, keepdims, initial, where)\u001b[0m\n\u001b[0;32m   2321\u001b[0m         \u001b[38;5;28;01mreturn\u001b[39;00m out\n\u001b[0;32m   2322\u001b[0m     \u001b[38;5;28;01mreturn\u001b[39;00m res\n\u001b[1;32m-> 2324\u001b[0m \u001b[38;5;28;01mreturn\u001b[39;00m _wrapreduction(a, np\u001b[38;5;241m.\u001b[39madd, \u001b[38;5;124m'\u001b[39m\u001b[38;5;124msum\u001b[39m\u001b[38;5;124m'\u001b[39m, axis, dtype, out, keepdims\u001b[38;5;241m=\u001b[39mkeepdims,\n\u001b[0;32m   2325\u001b[0m                       initial\u001b[38;5;241m=\u001b[39minitial, where\u001b[38;5;241m=\u001b[39mwhere)\n",
      "File \u001b[1;32mc:\\Users\\gidon\\AppData\\Local\\anaconda3\\Lib\\site-packages\\numpy\\core\\fromnumeric.py:84\u001b[0m, in \u001b[0;36m_wrapreduction\u001b[1;34m(obj, ufunc, method, axis, dtype, out, **kwargs)\u001b[0m\n\u001b[0;32m     82\u001b[0m             \u001b[38;5;28;01mreturn\u001b[39;00m reduction(axis\u001b[38;5;241m=\u001b[39maxis, dtype\u001b[38;5;241m=\u001b[39mdtype, out\u001b[38;5;241m=\u001b[39mout, \u001b[38;5;241m*\u001b[39m\u001b[38;5;241m*\u001b[39mpasskwargs)\n\u001b[0;32m     83\u001b[0m         \u001b[38;5;28;01melse\u001b[39;00m:\n\u001b[1;32m---> 84\u001b[0m             \u001b[38;5;28;01mreturn\u001b[39;00m reduction(axis\u001b[38;5;241m=\u001b[39maxis, out\u001b[38;5;241m=\u001b[39mout, \u001b[38;5;241m*\u001b[39m\u001b[38;5;241m*\u001b[39mpasskwargs)\n\u001b[0;32m     86\u001b[0m \u001b[38;5;28;01mreturn\u001b[39;00m ufunc\u001b[38;5;241m.\u001b[39mreduce(obj, axis, dtype, out, \u001b[38;5;241m*\u001b[39m\u001b[38;5;241m*\u001b[39mpasskwargs)\n",
      "File \u001b[1;32mc:\\Users\\gidon\\AppData\\Local\\anaconda3\\Lib\\site-packages\\pandas\\core\\generic.py:11512\u001b[0m, in \u001b[0;36mNDFrame._add_numeric_operations.<locals>.sum\u001b[1;34m(self, axis, skipna, numeric_only, min_count, **kwargs)\u001b[0m\n\u001b[0;32m  11493\u001b[0m \u001b[38;5;129m@doc\u001b[39m(  \u001b[38;5;66;03m# type: ignore[misc]\u001b[39;00m\n\u001b[0;32m  11494\u001b[0m     _num_doc,\n\u001b[0;32m  11495\u001b[0m     desc\u001b[38;5;241m=\u001b[39m\u001b[38;5;124m\"\u001b[39m\u001b[38;5;124mReturn the sum of the values over the requested axis.\u001b[39m\u001b[38;5;130;01m\\n\u001b[39;00m\u001b[38;5;130;01m\\n\u001b[39;00m\u001b[38;5;124m\"\u001b[39m\n\u001b[1;32m   (...)\u001b[0m\n\u001b[0;32m  11510\u001b[0m     \u001b[38;5;241m*\u001b[39m\u001b[38;5;241m*\u001b[39mkwargs,\n\u001b[0;32m  11511\u001b[0m ):\n\u001b[1;32m> 11512\u001b[0m     \u001b[38;5;28;01mreturn\u001b[39;00m NDFrame\u001b[38;5;241m.\u001b[39msum(\u001b[38;5;28mself\u001b[39m, axis, skipna, numeric_only, min_count, \u001b[38;5;241m*\u001b[39m\u001b[38;5;241m*\u001b[39mkwargs)\n",
      "File \u001b[1;32mc:\\Users\\gidon\\AppData\\Local\\anaconda3\\Lib\\site-packages\\pandas\\core\\generic.py:11280\u001b[0m, in \u001b[0;36mNDFrame.sum\u001b[1;34m(self, axis, skipna, numeric_only, min_count, **kwargs)\u001b[0m\n\u001b[0;32m  11272\u001b[0m \u001b[38;5;28;01mdef\u001b[39;00m \u001b[38;5;21msum\u001b[39m(\n\u001b[0;32m  11273\u001b[0m     \u001b[38;5;28mself\u001b[39m,\n\u001b[0;32m  11274\u001b[0m     axis: Axis \u001b[38;5;241m|\u001b[39m \u001b[38;5;28;01mNone\u001b[39;00m \u001b[38;5;241m=\u001b[39m \u001b[38;5;28;01mNone\u001b[39;00m,\n\u001b[1;32m   (...)\u001b[0m\n\u001b[0;32m  11278\u001b[0m     \u001b[38;5;241m*\u001b[39m\u001b[38;5;241m*\u001b[39mkwargs,\n\u001b[0;32m  11279\u001b[0m ):\n\u001b[1;32m> 11280\u001b[0m     \u001b[38;5;28;01mreturn\u001b[39;00m \u001b[38;5;28mself\u001b[39m\u001b[38;5;241m.\u001b[39m_min_count_stat_function(\n\u001b[0;32m  11281\u001b[0m         \u001b[38;5;124m\"\u001b[39m\u001b[38;5;124msum\u001b[39m\u001b[38;5;124m\"\u001b[39m, nanops\u001b[38;5;241m.\u001b[39mnansum, axis, skipna, numeric_only, min_count, \u001b[38;5;241m*\u001b[39m\u001b[38;5;241m*\u001b[39mkwargs\n\u001b[0;32m  11282\u001b[0m     )\n",
      "File \u001b[1;32mc:\\Users\\gidon\\AppData\\Local\\anaconda3\\Lib\\site-packages\\pandas\\core\\generic.py:11263\u001b[0m, in \u001b[0;36mNDFrame._min_count_stat_function\u001b[1;34m(self, name, func, axis, skipna, numeric_only, min_count, **kwargs)\u001b[0m\n\u001b[0;32m  11260\u001b[0m \u001b[38;5;28;01mif\u001b[39;00m axis \u001b[38;5;129;01mis\u001b[39;00m \u001b[38;5;28;01mNone\u001b[39;00m:\n\u001b[0;32m  11261\u001b[0m     axis \u001b[38;5;241m=\u001b[39m \u001b[38;5;28mself\u001b[39m\u001b[38;5;241m.\u001b[39m_stat_axis_number\n\u001b[1;32m> 11263\u001b[0m \u001b[38;5;28;01mreturn\u001b[39;00m \u001b[38;5;28mself\u001b[39m\u001b[38;5;241m.\u001b[39m_reduce(\n\u001b[0;32m  11264\u001b[0m     func,\n\u001b[0;32m  11265\u001b[0m     name\u001b[38;5;241m=\u001b[39mname,\n\u001b[0;32m  11266\u001b[0m     axis\u001b[38;5;241m=\u001b[39maxis,\n\u001b[0;32m  11267\u001b[0m     skipna\u001b[38;5;241m=\u001b[39mskipna,\n\u001b[0;32m  11268\u001b[0m     numeric_only\u001b[38;5;241m=\u001b[39mnumeric_only,\n\u001b[0;32m  11269\u001b[0m     min_count\u001b[38;5;241m=\u001b[39mmin_count,\n\u001b[0;32m  11270\u001b[0m )\n",
      "File \u001b[1;32mc:\\Users\\gidon\\AppData\\Local\\anaconda3\\Lib\\site-packages\\pandas\\core\\series.py:4656\u001b[0m, in \u001b[0;36mSeries._reduce\u001b[1;34m(self, op, name, axis, skipna, numeric_only, filter_type, **kwds)\u001b[0m\n\u001b[0;32m   4652\u001b[0m     \u001b[38;5;28mself\u001b[39m\u001b[38;5;241m.\u001b[39m_get_axis_number(axis)\n\u001b[0;32m   4654\u001b[0m \u001b[38;5;28;01mif\u001b[39;00m \u001b[38;5;28misinstance\u001b[39m(delegate, ExtensionArray):\n\u001b[0;32m   4655\u001b[0m     \u001b[38;5;66;03m# dispatch to ExtensionArray interface\u001b[39;00m\n\u001b[1;32m-> 4656\u001b[0m     \u001b[38;5;28;01mreturn\u001b[39;00m delegate\u001b[38;5;241m.\u001b[39m_reduce(name, skipna\u001b[38;5;241m=\u001b[39mskipna, \u001b[38;5;241m*\u001b[39m\u001b[38;5;241m*\u001b[39mkwds)\n\u001b[0;32m   4658\u001b[0m \u001b[38;5;28;01melse\u001b[39;00m:\n\u001b[0;32m   4659\u001b[0m     \u001b[38;5;66;03m# dispatch to numpy arrays\u001b[39;00m\n\u001b[0;32m   4660\u001b[0m     \u001b[38;5;28;01mif\u001b[39;00m numeric_only \u001b[38;5;129;01mand\u001b[39;00m \u001b[38;5;129;01mnot\u001b[39;00m is_numeric_dtype(\u001b[38;5;28mself\u001b[39m\u001b[38;5;241m.\u001b[39mdtype):\n",
      "File \u001b[1;32mc:\\Users\\gidon\\AppData\\Local\\anaconda3\\Lib\\site-packages\\geopandas\\array.py:1467\u001b[0m, in \u001b[0;36mGeometryArray._reduce\u001b[1;34m(self, name, skipna, **kwargs)\u001b[0m\n\u001b[0;32m   1464\u001b[0m \u001b[38;5;28;01mif\u001b[39;00m name \u001b[38;5;241m==\u001b[39m \u001b[38;5;124m\"\u001b[39m\u001b[38;5;124many\u001b[39m\u001b[38;5;124m\"\u001b[39m \u001b[38;5;129;01mor\u001b[39;00m name \u001b[38;5;241m==\u001b[39m \u001b[38;5;124m\"\u001b[39m\u001b[38;5;124mall\u001b[39m\u001b[38;5;124m\"\u001b[39m:\n\u001b[0;32m   1465\u001b[0m     \u001b[38;5;66;03m# TODO(pygeos)\u001b[39;00m\n\u001b[0;32m   1466\u001b[0m     \u001b[38;5;28;01mreturn\u001b[39;00m \u001b[38;5;28mgetattr\u001b[39m(to_shapely(\u001b[38;5;28mself\u001b[39m), name)()\n\u001b[1;32m-> 1467\u001b[0m \u001b[38;5;28;01mraise\u001b[39;00m \u001b[38;5;167;01mTypeError\u001b[39;00m(\n\u001b[0;32m   1468\u001b[0m     \u001b[38;5;124mf\u001b[39m\u001b[38;5;124m\"\u001b[39m\u001b[38;5;124m'\u001b[39m\u001b[38;5;132;01m{\u001b[39;00m\u001b[38;5;28mtype\u001b[39m(\u001b[38;5;28mself\u001b[39m)\u001b[38;5;241m.\u001b[39m\u001b[38;5;18m__name__\u001b[39m\u001b[38;5;132;01m}\u001b[39;00m\u001b[38;5;124m'\u001b[39m\u001b[38;5;124m with dtype \u001b[39m\u001b[38;5;132;01m{\u001b[39;00m\u001b[38;5;28mself\u001b[39m\u001b[38;5;241m.\u001b[39mdtype\u001b[38;5;132;01m}\u001b[39;00m\u001b[38;5;124m \u001b[39m\u001b[38;5;124m\"\u001b[39m\n\u001b[0;32m   1469\u001b[0m     \u001b[38;5;124mf\u001b[39m\u001b[38;5;124m\"\u001b[39m\u001b[38;5;124mdoes not support reduction \u001b[39m\u001b[38;5;124m'\u001b[39m\u001b[38;5;132;01m{\u001b[39;00mname\u001b[38;5;132;01m}\u001b[39;00m\u001b[38;5;124m'\u001b[39m\u001b[38;5;124m\"\u001b[39m\n\u001b[0;32m   1470\u001b[0m )\n",
      "\u001b[1;31mTypeError\u001b[0m: 'GeometryArray' with dtype geometry does not support reduction 'sum'"
     ]
    }
   ],
   "source": [
    "%run \"students_current_year_230706.ipynb\""
   ]
  },
  {
   "cell_type": "markdown",
   "id": "4e3f42f8",
   "metadata": {},
   "source": [
    "## להעלות שכבות"
   ]
  },
  {
   "cell_type": "code",
   "execution_count": null,
   "id": "e9d5e721",
   "metadata": {},
   "outputs": [],
   "source": [
    "#העלת משתנים להרצת הקוד\n",
    "df_inputs_outputs = pd.read_excel('inputs_outputs.xlsx')\n",
    "\n",
    "software_data_folder_location=df_inputs_outputs['location'][0]\n",
    "\n",
    "forecast_version_folder_location=df_inputs_outputs['location'][1]\n"
   ]
  },
  {
   "cell_type": "code",
   "execution_count": null,
   "id": "eafdef2a",
   "metadata": {},
   "outputs": [],
   "source": [
    "path=r'{}\\background_files\\EMP_KIBOLET.gdb'.format(software_data_folder_location)\n",
    "EMP_kibolet=up_load_gdb(path,'EMP_kibolet')"
   ]
  },
  {
   "cell_type": "code",
   "execution_count": null,
   "id": "ad8ab1b1",
   "metadata": {},
   "outputs": [],
   "source": [
    "EMP_kibolet=EMP_kibolet.fillna(0)"
   ]
  },
  {
   "cell_type": "code",
   "execution_count": null,
   "id": "b2d50ac8",
   "metadata": {},
   "outputs": [],
   "source": [
    "EMP_kibolet['emp_without_palestin']=EMP_kibolet['kayim_emp']-EMP_kibolet['Palestinians']"
   ]
  },
  {
   "cell_type": "code",
   "execution_count": null,
   "id": "b417c7e4",
   "metadata": {},
   "outputs": [],
   "source": [
    "emp_without_palestin_not_okev=EMP_kibolet['emp_without_palestin'].sum().item()"
   ]
  },
  {
   "cell_type": "code",
   "execution_count": null,
   "id": "aa5bd8a4",
   "metadata": {},
   "outputs": [],
   "source": [
    "emp_Education=taz.query('main_secto!=\"Palestinian\"')['emp_Education'].sum().item()"
   ]
  },
  {
   "cell_type": "markdown",
   "id": "2bfcfaff",
   "metadata": {},
   "source": [
    "## הוספת סטודנטים לאוכלוסיה ולהתפלגות גילים"
   ]
  },
  {
   "cell_type": "code",
   "execution_count": null,
   "id": "03a9b835",
   "metadata": {},
   "outputs": [],
   "source": [
    "student_dorms=up_load_shp(r'{}\\background_files\\student_dorms.shp'.format(software_data_folder_location))"
   ]
  },
  {
   "cell_type": "code",
   "execution_count": null,
   "id": "8dbf0217",
   "metadata": {},
   "outputs": [],
   "source": [
    "taz['student_dorms']=gpd.sjoin(taz[['geometry']].reset_index(),student_dorms).pivot_table(index='Taz_num',aggfunc=sum)[['student_nu']]"
   ]
  },
  {
   "cell_type": "code",
   "execution_count": null,
   "id": "07653bd4",
   "metadata": {},
   "outputs": [],
   "source": [
    "taz=taz.fillna(0)"
   ]
  },
  {
   "cell_type": "code",
   "execution_count": null,
   "id": "770e8459",
   "metadata": {},
   "outputs": [],
   "source": [
    "taz['pop_without_dorms_yeshiva']=taz['pop']"
   ]
  },
  {
   "cell_type": "code",
   "execution_count": null,
   "id": "51f6c975",
   "metadata": {},
   "outputs": [],
   "source": [
    "taz['pop']=taz['pop']+taz['student_dorms']"
   ]
  },
  {
   "cell_type": "code",
   "execution_count": null,
   "id": "8cd43571",
   "metadata": {},
   "outputs": [],
   "source": [
    "taz['pop_20_just_from_aprt']=taz['pop_20']"
   ]
  },
  {
   "cell_type": "code",
   "execution_count": null,
   "id": "c8425b9b",
   "metadata": {},
   "outputs": [],
   "source": [
    "taz['pop_25_just_from_aprt']=taz['pop_25']"
   ]
  },
  {
   "cell_type": "code",
   "execution_count": null,
   "id": "8aea7898",
   "metadata": {},
   "outputs": [],
   "source": [
    "taz['pop_20']=taz['pop_20']+taz['student_dorms']*0.6"
   ]
  },
  {
   "cell_type": "code",
   "execution_count": null,
   "id": "67609ae7",
   "metadata": {},
   "outputs": [],
   "source": [
    "taz['pop_25']=taz['pop_25']+taz['student_dorms']*0.4"
   ]
  },
  {
   "cell_type": "code",
   "execution_count": null,
   "id": "95bbcee0",
   "metadata": {},
   "outputs": [
    {
     "data": {
      "text/html": [
       "<div>\n",
       "<style scoped>\n",
       "    .dataframe tbody tr th:only-of-type {\n",
       "        vertical-align: middle;\n",
       "    }\n",
       "\n",
       "    .dataframe tbody tr th {\n",
       "        vertical-align: top;\n",
       "    }\n",
       "\n",
       "    .dataframe thead th {\n",
       "        text-align: right;\n",
       "    }\n",
       "</style>\n",
       "<table border=\"1\" class=\"dataframe\">\n",
       "  <thead>\n",
       "    <tr style=\"text-align: right;\">\n",
       "      <th></th>\n",
       "      <th>CR_PNIM</th>\n",
       "      <th>Join_Count</th>\n",
       "      <th>TARGET_FID</th>\n",
       "      <th>Agg_taz_nu</th>\n",
       "      <th>Taz_name</th>\n",
       "      <th>Arab</th>\n",
       "      <th>arabs_behi</th>\n",
       "      <th>Jewish</th>\n",
       "      <th>Palestinia</th>\n",
       "      <th>U_Orthodox</th>\n",
       "      <th>main_secto</th>\n",
       "      <th>ENG_NAME_n</th>\n",
       "      <th>Muni_Heb</th>\n",
       "      <th>Sug_Muni</th>\n",
       "      <th>jeru_metro</th>\n",
       "      <th>zonetype</th>\n",
       "      <th>in_jerusal</th>\n",
       "      <th>SCHN_NAME</th>\n",
       "      <th>geometry</th>\n",
       "      <th>STAT</th>\n",
       "      <th>aprt_20</th>\n",
       "      <th>pop</th>\n",
       "      <th>pop_0</th>\n",
       "      <th>pop_10</th>\n",
       "      <th>pop_15</th>\n",
       "      <th>pop_20</th>\n",
       "      <th>pop_25</th>\n",
       "      <th>pop_30</th>\n",
       "      <th>pop_35</th>\n",
       "      <th>pop_40</th>\n",
       "      <th>pop_45</th>\n",
       "      <th>pop_5</th>\n",
       "      <th>pop_50</th>\n",
       "      <th>pop_55</th>\n",
       "      <th>pop_60</th>\n",
       "      <th>pop_65</th>\n",
       "      <th>pop_70</th>\n",
       "      <th>pop_75up</th>\n",
       "      <th>pop_hardi</th>\n",
       "      <th>precent_of_stat_data</th>\n",
       "      <th>pre_hardi</th>\n",
       "      <th>hh_size</th>\n",
       "      <th>pop_check</th>\n",
       "      <th>student_toddlers</th>\n",
       "      <th>student_gov</th>\n",
       "      <th>delta_student</th>\n",
       "      <th>student_demand</th>\n",
       "      <th>student_demand_left</th>\n",
       "      <th>student_demand_left_sum_by_muni</th>\n",
       "      <th>student_demand_left_pre</th>\n",
       "      <th>cbs_muni_student_left_by_pre_of_demand_left</th>\n",
       "      <th>jew</th>\n",
       "      <th>student_demand_pre</th>\n",
       "      <th>cbs_muni_student_left_by_pre_of_demand</th>\n",
       "      <th>student_for_Control</th>\n",
       "      <th>student_chardi_not_gov</th>\n",
       "      <th>student_arab_not_gov</th>\n",
       "      <th>student</th>\n",
       "      <th>uni_students</th>\n",
       "      <th>emp_from_uni_student</th>\n",
       "      <th>old_student_yeshiva</th>\n",
       "      <th>yeshiva_dorms_pop_15</th>\n",
       "      <th>yeshiva_dorms_pop_20</th>\n",
       "      <th>yeshiva_dorms_pop_25</th>\n",
       "      <th>yeshiva_dorms_pop_sum</th>\n",
       "      <th>emp_from_Yeshiva_student</th>\n",
       "      <th>student_yeshiva</th>\n",
       "      <th>add_from_old_student_yeshiva</th>\n",
       "      <th>kollim_demand</th>\n",
       "      <th>add_from_kollim_demand</th>\n",
       "      <th>student_yeshiva_with_add_from_old</th>\n",
       "      <th>student_yeshiva_and_kollim</th>\n",
       "      <th>emp_from_student</th>\n",
       "      <th>emp_Education</th>\n",
       "      <th>student_dorms</th>\n",
       "      <th>pop_without_dorms_yeshiva</th>\n",
       "      <th>pop_20_just_from_aprt</th>\n",
       "      <th>pop_25_just_from_aprt</th>\n",
       "    </tr>\n",
       "    <tr>\n",
       "      <th>Taz_num</th>\n",
       "      <th></th>\n",
       "      <th></th>\n",
       "      <th></th>\n",
       "      <th></th>\n",
       "      <th></th>\n",
       "      <th></th>\n",
       "      <th></th>\n",
       "      <th></th>\n",
       "      <th></th>\n",
       "      <th></th>\n",
       "      <th></th>\n",
       "      <th></th>\n",
       "      <th></th>\n",
       "      <th></th>\n",
       "      <th></th>\n",
       "      <th></th>\n",
       "      <th></th>\n",
       "      <th></th>\n",
       "      <th></th>\n",
       "      <th></th>\n",
       "      <th></th>\n",
       "      <th></th>\n",
       "      <th></th>\n",
       "      <th></th>\n",
       "      <th></th>\n",
       "      <th></th>\n",
       "      <th></th>\n",
       "      <th></th>\n",
       "      <th></th>\n",
       "      <th></th>\n",
       "      <th></th>\n",
       "      <th></th>\n",
       "      <th></th>\n",
       "      <th></th>\n",
       "      <th></th>\n",
       "      <th></th>\n",
       "      <th></th>\n",
       "      <th></th>\n",
       "      <th></th>\n",
       "      <th></th>\n",
       "      <th></th>\n",
       "      <th></th>\n",
       "      <th></th>\n",
       "      <th></th>\n",
       "      <th></th>\n",
       "      <th></th>\n",
       "      <th></th>\n",
       "      <th></th>\n",
       "      <th></th>\n",
       "      <th></th>\n",
       "      <th></th>\n",
       "      <th></th>\n",
       "      <th></th>\n",
       "      <th></th>\n",
       "      <th></th>\n",
       "      <th></th>\n",
       "      <th></th>\n",
       "      <th></th>\n",
       "      <th></th>\n",
       "      <th></th>\n",
       "      <th></th>\n",
       "      <th></th>\n",
       "      <th></th>\n",
       "      <th></th>\n",
       "      <th></th>\n",
       "      <th></th>\n",
       "      <th></th>\n",
       "      <th></th>\n",
       "      <th></th>\n",
       "      <th></th>\n",
       "      <th></th>\n",
       "      <th></th>\n",
       "      <th></th>\n",
       "      <th></th>\n",
       "      <th></th>\n",
       "      <th></th>\n",
       "      <th></th>\n",
       "      <th></th>\n",
       "    </tr>\n",
       "  </thead>\n",
       "  <tbody>\n",
       "  </tbody>\n",
       "</table>\n",
       "</div>"
      ],
      "text/plain": [
       "Empty GeoDataFrame\n",
       "Columns: [CR_PNIM, Join_Count, TARGET_FID, Agg_taz_nu, Taz_name, Arab, arabs_behi, Jewish, Palestinia, U_Orthodox, main_secto, ENG_NAME_n, Muni_Heb, Sug_Muni, jeru_metro, zonetype, in_jerusal, SCHN_NAME, geometry, STAT, aprt_20, pop, pop_0, pop_10, pop_15, pop_20, pop_25, pop_30, pop_35, pop_40, pop_45, pop_5, pop_50, pop_55, pop_60, pop_65, pop_70, pop_75up, pop_hardi, precent_of_stat_data, pre_hardi, hh_size, pop_check, student_toddlers, student_gov, delta_student, student_demand, student_demand_left, student_demand_left_sum_by_muni, student_demand_left_pre, cbs_muni_student_left_by_pre_of_demand_left, jew, student_demand_pre, cbs_muni_student_left_by_pre_of_demand, student_for_Control, student_chardi_not_gov, student_arab_not_gov, student, uni_students, emp_from_uni_student, old_student_yeshiva, yeshiva_dorms_pop_15, yeshiva_dorms_pop_20, yeshiva_dorms_pop_25, yeshiva_dorms_pop_sum, emp_from_Yeshiva_student, student_yeshiva, add_from_old_student_yeshiva, kollim_demand, add_from_kollim_demand, student_yeshiva_with_add_from_old, student_yeshiva_and_kollim, emp_from_student, emp_Education, student_dorms, pop_without_dorms_yeshiva, pop_20_just_from_aprt, pop_25_just_from_aprt]\n",
       "Index: []"
      ]
     },
     "execution_count": 766,
     "metadata": {},
     "output_type": "execute_result"
    }
   ],
   "source": [
    "col=['pop_0',\n",
    " 'pop_10',\n",
    " 'pop_15',\n",
    " 'pop_20',\n",
    " 'pop_25',\n",
    " 'pop_30',\n",
    " 'pop_35',\n",
    " 'pop_40',\n",
    " 'pop_45',\n",
    " 'pop_5',\n",
    " 'pop_50',\n",
    " 'pop_55',\n",
    " 'pop_60',\n",
    " 'pop_65',\n",
    " 'pop_70',\n",
    " 'pop_75up',]\n",
    "\n",
    "taz['pop_check']=round(taz[col].sum(axis=1)-taz['pop'])\n",
    "\n",
    "taz.loc[taz['main_secto']!=\"Palestinian\"].loc[taz['pop_check']!=0]"
   ]
  },
  {
   "cell_type": "markdown",
   "id": "1863c88f",
   "metadata": {},
   "source": [
    "## הוספת תלמידי ישיבה (באזורים חרדיים) אל כמות אוכלוסיה,התפלגות גילים "
   ]
  },
  {
   "cell_type": "code",
   "execution_count": null,
   "id": "efbf252c",
   "metadata": {},
   "outputs": [],
   "source": [
    "taz['pop_15_just_from_aprt']=taz['pop_15']"
   ]
  },
  {
   "cell_type": "code",
   "execution_count": null,
   "id": "db0567b1",
   "metadata": {},
   "outputs": [],
   "source": [
    "\n",
    "taz.loc[taz['main_secto']==\"U_Orthodox\",'pop']=taz['pop']+taz['yeshiva_dorms_pop_sum']\n",
    "\n",
    "taz.loc[taz['main_secto']==\"U_Orthodox\",'pop_15']=taz['pop_15']+taz['yeshiva_dorms_pop_15']\n",
    "\n",
    "taz.loc[taz['main_secto']==\"U_Orthodox\",'pop_20']=taz['pop_20']+taz['yeshiva_dorms_pop_20']\n",
    "\n",
    "taz.loc[taz['main_secto']==\"U_Orthodox\",'pop_25']=taz['pop_25']+taz['yeshiva_dorms_pop_25']"
   ]
  },
  {
   "cell_type": "code",
   "execution_count": null,
   "id": "d2667d70",
   "metadata": {},
   "outputs": [
    {
     "data": {
      "text/html": [
       "<div>\n",
       "<style scoped>\n",
       "    .dataframe tbody tr th:only-of-type {\n",
       "        vertical-align: middle;\n",
       "    }\n",
       "\n",
       "    .dataframe tbody tr th {\n",
       "        vertical-align: top;\n",
       "    }\n",
       "\n",
       "    .dataframe thead th {\n",
       "        text-align: right;\n",
       "    }\n",
       "</style>\n",
       "<table border=\"1\" class=\"dataframe\">\n",
       "  <thead>\n",
       "    <tr style=\"text-align: right;\">\n",
       "      <th></th>\n",
       "      <th>CR_PNIM</th>\n",
       "      <th>Join_Count</th>\n",
       "      <th>TARGET_FID</th>\n",
       "      <th>Agg_taz_nu</th>\n",
       "      <th>Taz_name</th>\n",
       "      <th>Arab</th>\n",
       "      <th>arabs_behi</th>\n",
       "      <th>Jewish</th>\n",
       "      <th>Palestinia</th>\n",
       "      <th>U_Orthodox</th>\n",
       "      <th>main_secto</th>\n",
       "      <th>ENG_NAME_n</th>\n",
       "      <th>Muni_Heb</th>\n",
       "      <th>Sug_Muni</th>\n",
       "      <th>jeru_metro</th>\n",
       "      <th>zonetype</th>\n",
       "      <th>in_jerusal</th>\n",
       "      <th>SCHN_NAME</th>\n",
       "      <th>geometry</th>\n",
       "      <th>STAT</th>\n",
       "      <th>aprt_20</th>\n",
       "      <th>pop</th>\n",
       "      <th>pop_0</th>\n",
       "      <th>pop_10</th>\n",
       "      <th>pop_15</th>\n",
       "      <th>pop_20</th>\n",
       "      <th>pop_25</th>\n",
       "      <th>pop_30</th>\n",
       "      <th>pop_35</th>\n",
       "      <th>pop_40</th>\n",
       "      <th>pop_45</th>\n",
       "      <th>pop_5</th>\n",
       "      <th>pop_50</th>\n",
       "      <th>pop_55</th>\n",
       "      <th>pop_60</th>\n",
       "      <th>pop_65</th>\n",
       "      <th>pop_70</th>\n",
       "      <th>pop_75up</th>\n",
       "      <th>pop_hardi</th>\n",
       "      <th>precent_of_stat_data</th>\n",
       "      <th>pre_hardi</th>\n",
       "      <th>hh_size</th>\n",
       "      <th>pop_check</th>\n",
       "      <th>student_toddlers</th>\n",
       "      <th>student_gov</th>\n",
       "      <th>delta_student</th>\n",
       "      <th>student_demand</th>\n",
       "      <th>student_demand_left</th>\n",
       "      <th>student_demand_left_sum_by_muni</th>\n",
       "      <th>student_demand_left_pre</th>\n",
       "      <th>cbs_muni_student_left_by_pre_of_demand_left</th>\n",
       "      <th>jew</th>\n",
       "      <th>student_demand_pre</th>\n",
       "      <th>cbs_muni_student_left_by_pre_of_demand</th>\n",
       "      <th>student_for_Control</th>\n",
       "      <th>student_chardi_not_gov</th>\n",
       "      <th>student_arab_not_gov</th>\n",
       "      <th>student</th>\n",
       "      <th>uni_students</th>\n",
       "      <th>emp_from_uni_student</th>\n",
       "      <th>old_student_yeshiva</th>\n",
       "      <th>yeshiva_dorms_pop_15</th>\n",
       "      <th>yeshiva_dorms_pop_20</th>\n",
       "      <th>yeshiva_dorms_pop_25</th>\n",
       "      <th>yeshiva_dorms_pop_sum</th>\n",
       "      <th>emp_from_Yeshiva_student</th>\n",
       "      <th>student_yeshiva</th>\n",
       "      <th>add_from_old_student_yeshiva</th>\n",
       "      <th>kollim_demand</th>\n",
       "      <th>add_from_kollim_demand</th>\n",
       "      <th>student_yeshiva_with_add_from_old</th>\n",
       "      <th>student_yeshiva_and_kollim</th>\n",
       "      <th>emp_from_student</th>\n",
       "      <th>emp_Education</th>\n",
       "      <th>student_dorms</th>\n",
       "      <th>pop_without_dorms_yeshiva</th>\n",
       "      <th>pop_20_just_from_aprt</th>\n",
       "      <th>pop_25_just_from_aprt</th>\n",
       "      <th>pop_15_just_from_aprt</th>\n",
       "    </tr>\n",
       "    <tr>\n",
       "      <th>Taz_num</th>\n",
       "      <th></th>\n",
       "      <th></th>\n",
       "      <th></th>\n",
       "      <th></th>\n",
       "      <th></th>\n",
       "      <th></th>\n",
       "      <th></th>\n",
       "      <th></th>\n",
       "      <th></th>\n",
       "      <th></th>\n",
       "      <th></th>\n",
       "      <th></th>\n",
       "      <th></th>\n",
       "      <th></th>\n",
       "      <th></th>\n",
       "      <th></th>\n",
       "      <th></th>\n",
       "      <th></th>\n",
       "      <th></th>\n",
       "      <th></th>\n",
       "      <th></th>\n",
       "      <th></th>\n",
       "      <th></th>\n",
       "      <th></th>\n",
       "      <th></th>\n",
       "      <th></th>\n",
       "      <th></th>\n",
       "      <th></th>\n",
       "      <th></th>\n",
       "      <th></th>\n",
       "      <th></th>\n",
       "      <th></th>\n",
       "      <th></th>\n",
       "      <th></th>\n",
       "      <th></th>\n",
       "      <th></th>\n",
       "      <th></th>\n",
       "      <th></th>\n",
       "      <th></th>\n",
       "      <th></th>\n",
       "      <th></th>\n",
       "      <th></th>\n",
       "      <th></th>\n",
       "      <th></th>\n",
       "      <th></th>\n",
       "      <th></th>\n",
       "      <th></th>\n",
       "      <th></th>\n",
       "      <th></th>\n",
       "      <th></th>\n",
       "      <th></th>\n",
       "      <th></th>\n",
       "      <th></th>\n",
       "      <th></th>\n",
       "      <th></th>\n",
       "      <th></th>\n",
       "      <th></th>\n",
       "      <th></th>\n",
       "      <th></th>\n",
       "      <th></th>\n",
       "      <th></th>\n",
       "      <th></th>\n",
       "      <th></th>\n",
       "      <th></th>\n",
       "      <th></th>\n",
       "      <th></th>\n",
       "      <th></th>\n",
       "      <th></th>\n",
       "      <th></th>\n",
       "      <th></th>\n",
       "      <th></th>\n",
       "      <th></th>\n",
       "      <th></th>\n",
       "      <th></th>\n",
       "      <th></th>\n",
       "      <th></th>\n",
       "      <th></th>\n",
       "      <th></th>\n",
       "      <th></th>\n",
       "    </tr>\n",
       "  </thead>\n",
       "  <tbody>\n",
       "  </tbody>\n",
       "</table>\n",
       "</div>"
      ],
      "text/plain": [
       "Empty GeoDataFrame\n",
       "Columns: [CR_PNIM, Join_Count, TARGET_FID, Agg_taz_nu, Taz_name, Arab, arabs_behi, Jewish, Palestinia, U_Orthodox, main_secto, ENG_NAME_n, Muni_Heb, Sug_Muni, jeru_metro, zonetype, in_jerusal, SCHN_NAME, geometry, STAT, aprt_20, pop, pop_0, pop_10, pop_15, pop_20, pop_25, pop_30, pop_35, pop_40, pop_45, pop_5, pop_50, pop_55, pop_60, pop_65, pop_70, pop_75up, pop_hardi, precent_of_stat_data, pre_hardi, hh_size, pop_check, student_toddlers, student_gov, delta_student, student_demand, student_demand_left, student_demand_left_sum_by_muni, student_demand_left_pre, cbs_muni_student_left_by_pre_of_demand_left, jew, student_demand_pre, cbs_muni_student_left_by_pre_of_demand, student_for_Control, student_chardi_not_gov, student_arab_not_gov, student, uni_students, emp_from_uni_student, old_student_yeshiva, yeshiva_dorms_pop_15, yeshiva_dorms_pop_20, yeshiva_dorms_pop_25, yeshiva_dorms_pop_sum, emp_from_Yeshiva_student, student_yeshiva, add_from_old_student_yeshiva, kollim_demand, add_from_kollim_demand, student_yeshiva_with_add_from_old, student_yeshiva_and_kollim, emp_from_student, emp_Education, student_dorms, pop_without_dorms_yeshiva, pop_20_just_from_aprt, pop_25_just_from_aprt, pop_15_just_from_aprt]\n",
       "Index: []"
      ]
     },
     "execution_count": 769,
     "metadata": {},
     "output_type": "execute_result"
    }
   ],
   "source": [
    "col=['pop_0',\n",
    " 'pop_10',\n",
    " 'pop_15',\n",
    " 'pop_20',\n",
    " 'pop_25',\n",
    " 'pop_30',\n",
    " 'pop_35',\n",
    " 'pop_40',\n",
    " 'pop_45',\n",
    " 'pop_5',\n",
    " 'pop_50',\n",
    " 'pop_55',\n",
    " 'pop_60',\n",
    " 'pop_65',\n",
    " 'pop_70',\n",
    " 'pop_75up',]\n",
    "\n",
    "taz['pop_check']=round(taz[col].sum(axis=1)-taz['pop'])\n",
    "\n",
    "taz.loc[taz['main_secto']!=\"Palestinian\"].loc[taz['pop_check']!=0]"
   ]
  },
  {
   "cell_type": "markdown",
   "id": "206b2d14",
   "metadata": {},
   "source": [
    "## כימות מועסקים במרחב צתאל"
   ]
  },
  {
   "cell_type": "code",
   "execution_count": null,
   "id": "2f32e11c",
   "metadata": {},
   "outputs": [],
   "source": [
    "pre_woman=0.5"
   ]
  },
  {
   "cell_type": "code",
   "execution_count": null,
   "id": "4d75461d",
   "metadata": {},
   "outputs": [],
   "source": [
    "pre_man=1-pre_woman"
   ]
  },
  {
   "cell_type": "code",
   "execution_count": null,
   "id": "0cfc5eee",
   "metadata": {},
   "outputs": [],
   "source": [
    "work_age=[ 'pop_25',\n",
    " 'pop_30',\n",
    " 'pop_35',\n",
    " 'pop_40',\n",
    " 'pop_45',\n",
    " 'pop_50',\n",
    " 'pop_55',\n",
    " 'pop_60']"
   ]
  },
  {
   "cell_type": "code",
   "execution_count": null,
   "id": "05e96c7c",
   "metadata": {},
   "outputs": [],
   "source": [
    "under_work_age=[ 'pop_15', 'pop_20']"
   ]
  },
  {
   "cell_type": "code",
   "execution_count": null,
   "id": "6f834426",
   "metadata": {},
   "outputs": [],
   "source": [
    "over_work_age=[ 'pop_65', 'pop_70', 'pop_75up']"
   ]
  },
  {
   "cell_type": "code",
   "execution_count": null,
   "id": "eb487660",
   "metadata": {},
   "outputs": [],
   "source": [
    "taz['work_age']=taz[work_age].sum(axis=1)\n",
    "\n",
    "taz['under_work_age']=taz[under_work_age].sum(axis=1)\n",
    "\n",
    "taz['over_work_age']=taz[over_work_age].sum(axis=1)"
   ]
  },
  {
   "cell_type": "code",
   "execution_count": null,
   "id": "d2d78477",
   "metadata": {},
   "outputs": [],
   "source": [
    "sector='U_Orthodox'\n",
    "\n",
    "taz.loc[taz['main_secto']==sector,'pop_emp']=taz['work_age']*pre_woman*0.75+taz['work_age']*pre_man*0.55\n",
    "taz.loc[taz['main_secto']==sector,'pop_emp']=taz['pop_emp']+taz['under_work_age']*pre_woman*0.07+taz['under_work_age']*pre_man*0.09\n",
    "taz.loc[taz['main_secto']==sector,'pop_emp']=taz['pop_emp']+taz['over_work_age']*pre_woman*0.05+taz['over_work_age']*pre_man*0.09\n",
    "\n",
    "sector='Jewish'\n",
    "\n",
    "taz.loc[taz['main_secto']==sector,'pop_emp']=taz['work_age']*pre_woman*0.9+taz['work_age']*pre_man*0.92\n",
    "taz.loc[taz['main_secto']==sector,'pop_emp']=taz['pop_emp']+taz['under_work_age']*pre_woman*0.20+taz['under_work_age']*pre_man*0.15\n",
    "taz.loc[taz['main_secto']==sector,'pop_emp']=taz['pop_emp']+taz['over_work_age']*pre_woman*0.2+taz['over_work_age']*pre_man*0.15\n",
    "\n",
    "sector='Arab'\n",
    "\n",
    "taz.loc[taz['main_secto']==sector,'pop_emp']=taz['work_age']*pre_woman*0.25+taz['work_age']*pre_man*0.7\n",
    "taz.loc[taz['main_secto']==sector,'pop_emp']=taz['pop_emp']+taz['under_work_age']*pre_woman*0.2+taz['under_work_age']*pre_man*0.15\n",
    "taz.loc[taz['main_secto']==sector,'pop_emp']=taz['pop_emp']+taz['over_work_age']*pre_woman*0.05+taz['over_work_age']*pre_man*0.09\n",
    "\n",
    "sector='arabs_behined_seperation_wall'\n",
    "\n",
    "taz.loc[taz['main_secto']==sector,'pop_emp']=taz['work_age']*pre_woman*0.25+taz['work_age']*pre_man*0.7\n",
    "taz.loc[taz['main_secto']==sector,'pop_emp']=taz['pop_emp']+taz['under_work_age']*pre_woman*0.2+taz['under_work_age']*pre_man*0.15\n",
    "taz.loc[taz['main_secto']==sector,'pop_emp']=taz['pop_emp']+taz['over_work_age']*pre_woman*0.05+taz['over_work_age']*pre_man*0.09\n"
   ]
  },
  {
   "cell_type": "markdown",
   "id": "30a016c8",
   "metadata": {},
   "source": [
    "## חישוב אבטלה"
   ]
  },
  {
   "cell_type": "code",
   "execution_count": null,
   "id": "d415a3fb",
   "metadata": {},
   "outputs": [],
   "source": [
    "taz['pop_emp_employed']=0"
   ]
  },
  {
   "cell_type": "code",
   "execution_count": null,
   "id": "2b419962",
   "metadata": {},
   "outputs": [],
   "source": [
    "taz.loc[taz['main_secto']==\"U_Orthodox\",'pop_emp_employed']=taz['pop_emp']*0.97"
   ]
  },
  {
   "cell_type": "code",
   "execution_count": null,
   "id": "44040e85",
   "metadata": {},
   "outputs": [],
   "source": [
    "taz.loc[taz['main_secto']==\"Jewish\",'pop_emp_employed']=taz['pop_emp']*0.98"
   ]
  },
  {
   "cell_type": "code",
   "execution_count": null,
   "id": "df2839c5",
   "metadata": {},
   "outputs": [],
   "source": [
    "taz.loc[taz['jew']==0,'pop_emp_employed']=taz['pop_emp']*0.95"
   ]
  },
  {
   "cell_type": "markdown",
   "id": "e72fd7be",
   "metadata": {},
   "source": [
    "## חישוב יוממות"
   ]
  },
  {
   "cell_type": "code",
   "execution_count": null,
   "id": "a92b3fa4",
   "metadata": {},
   "outputs": [],
   "source": [
    "commuting=up_load_shp(r'{}\\background_files\\commuting_230712.shp'.format(software_data_folder_location))"
   ]
  },
  {
   "cell_type": "code",
   "execution_count": null,
   "id": "21645b99",
   "metadata": {},
   "outputs": [],
   "source": [
    "taz['commuting']=gpd.sjoin(make_point(taz.reset_index())[['Taz_num','centroid']],commuting[['commuting', 'geometry']]).set_index('Taz_num')['commuting']/100"
   ]
  },
  {
   "cell_type": "code",
   "execution_count": null,
   "id": "5e4c9b3a",
   "metadata": {},
   "outputs": [],
   "source": [
    "taz['pop_emp_employed_out_of_jtmt_area']=taz['pop_emp_employed']*taz['commuting']"
   ]
  },
  {
   "cell_type": "code",
   "execution_count": null,
   "id": "e825e90d",
   "metadata": {},
   "outputs": [],
   "source": [
    "emp_left_jtmt_area=taz['pop_emp_employed_out_of_jtmt_area'].sum().item()"
   ]
  },
  {
   "cell_type": "code",
   "execution_count": null,
   "id": "cefb2329",
   "metadata": {
    "scrolled": false
   },
   "outputs": [
    {
     "data": {
      "text/plain": [
       "94000.0"
      ]
     },
     "execution_count": 785,
     "metadata": {},
     "output_type": "execute_result"
    }
   ],
   "source": [
    "round(emp_left_jtmt_area,-3)"
   ]
  },
  {
   "cell_type": "code",
   "execution_count": null,
   "id": "7f72ccef",
   "metadata": {},
   "outputs": [],
   "source": [
    "emp_from_jtmt_area=taz['pop_emp_employed'].sum().item()-emp_left_jtmt_area"
   ]
  },
  {
   "cell_type": "code",
   "execution_count": null,
   "id": "e24fa16b",
   "metadata": {},
   "outputs": [],
   "source": [
    "emp_in_jtmt_area=emp_from_jtmt_area*1.07 #יוממות פנימה מחוץ למרחב"
   ]
  },
  {
   "cell_type": "code",
   "execution_count": null,
   "id": "f25551a6",
   "metadata": {
    "scrolled": false
   },
   "outputs": [
    {
     "data": {
      "text/plain": [
       "510000.0"
      ]
     },
     "execution_count": 788,
     "metadata": {},
     "output_type": "execute_result"
    }
   ],
   "source": [
    "round(emp_in_jtmt_area,-3)"
   ]
  },
  {
   "cell_type": "code",
   "execution_count": null,
   "id": "7bc62ff1",
   "metadata": {},
   "outputs": [],
   "source": [
    "emp_in_jtmt_area_without_mobile=emp_in_jtmt_area*0.95 #הפחחת עובדים ניידים"
   ]
  },
  {
   "cell_type": "code",
   "execution_count": null,
   "id": "c70b8679",
   "metadata": {
    "scrolled": true
   },
   "outputs": [
    {
     "data": {
      "text/plain": [
       "485000.0"
      ]
     },
     "execution_count": 790,
     "metadata": {},
     "output_type": "execute_result"
    }
   ],
   "source": [
    "round(emp_in_jtmt_area_without_mobile,-3)"
   ]
  },
  {
   "cell_type": "code",
   "execution_count": null,
   "id": "6ef875a9",
   "metadata": {},
   "outputs": [],
   "source": [
    "emp_okev=emp_in_jtmt_area_without_mobile-emp_Education-emp_without_palestin_not_okev"
   ]
  },
  {
   "cell_type": "markdown",
   "id": "83ca98c0",
   "metadata": {},
   "source": [
    "## פיזור עוקב"
   ]
  },
  {
   "cell_type": "code",
   "execution_count": null,
   "id": "0ebeff07",
   "metadata": {},
   "outputs": [],
   "source": [
    "EMP_kibolet['geometry_buff']=EMP_kibolet.buffer(250)"
   ]
  },
  {
   "cell_type": "code",
   "execution_count": null,
   "id": "582a6617",
   "metadata": {},
   "outputs": [],
   "source": [
    "EMP_buffer=EMP_kibolet.set_geometry('geometry_buff').query('kayim_emp>0')"
   ]
  },
  {
   "cell_type": "code",
   "execution_count": null,
   "id": "03971ff0",
   "metadata": {},
   "outputs": [],
   "source": [
    "EMP_buffer=EMP_buffer.dissolve()[['geometry_buff']]"
   ]
  },
  {
   "cell_type": "code",
   "execution_count": null,
   "id": "03388b7e",
   "metadata": {},
   "outputs": [],
   "source": [
    "taz['taz_area']=taz.area"
   ]
  },
  {
   "cell_type": "code",
   "execution_count": null,
   "id": "ff021294",
   "metadata": {},
   "outputs": [],
   "source": [
    "emp_buffer_taz=gpd.overlay(EMP_buffer,taz.reset_index())"
   ]
  },
  {
   "cell_type": "code",
   "execution_count": null,
   "id": "f38427fd",
   "metadata": {},
   "outputs": [],
   "source": [
    "emp_buffer_taz['emp_samll_area']=emp_buffer_taz.area"
   ]
  },
  {
   "cell_type": "code",
   "execution_count": null,
   "id": "3a0eea39",
   "metadata": {},
   "outputs": [],
   "source": [
    "emp_buffer_taz['emp_pre_from_taz']=emp_buffer_taz['emp_samll_area']/emp_buffer_taz['taz_area']"
   ]
  },
  {
   "cell_type": "code",
   "execution_count": null,
   "id": "3c05c92c",
   "metadata": {
    "scrolled": true
   },
   "outputs": [],
   "source": [
    "taz_num_no_need_okev=emp_buffer_taz.loc[emp_buffer_taz['emp_pre_from_taz']>0.4].Taz_num.to_list()"
   ]
  },
  {
   "cell_type": "code",
   "execution_count": null,
   "id": "452348ee",
   "metadata": {},
   "outputs": [],
   "source": [
    "taz['okev']=0\n",
    "taz.loc[(~taz.index.isin(taz_num_no_need_okev))&(taz['pop']>0)&(taz['main_secto']!=\"Palestinia\"),'okev']=1"
   ]
  },
  {
   "cell_type": "code",
   "execution_count": null,
   "id": "3201c278",
   "metadata": {},
   "outputs": [],
   "source": [
    "taz.loc[taz['main_secto']==\"arabs_behined_seperation_wall\",'okev']=1"
   ]
  },
  {
   "cell_type": "code",
   "execution_count": null,
   "id": "3c577b92",
   "metadata": {},
   "outputs": [],
   "source": [
    "city_muni=['מודיעין עילית','בית שמש','ירושלים','מודיעין - מכבים - רעות']"
   ]
  },
  {
   "cell_type": "markdown",
   "id": "d0f04db5",
   "metadata": {},
   "source": [
    "## מקדם עוקב"
   ]
  },
  {
   "cell_type": "code",
   "execution_count": null,
   "id": "ff866567",
   "metadata": {},
   "outputs": [],
   "source": [
    "okev_level=0.15"
   ]
  },
  {
   "cell_type": "code",
   "execution_count": null,
   "id": "e61741ea",
   "metadata": {},
   "outputs": [],
   "source": [
    "arab_city=taz.query('jew==0 & okev==1')['aprt_20'].sum().item()"
   ]
  },
  {
   "cell_type": "code",
   "execution_count": null,
   "id": "d0b3ca02",
   "metadata": {},
   "outputs": [],
   "source": [
    "arab_sub=0"
   ]
  },
  {
   "cell_type": "code",
   "execution_count": null,
   "id": "e39bf93e",
   "metadata": {},
   "outputs": [],
   "source": [
    "ou_sub=taz.query('main_secto==\"U_Orthodox\" & ~Muni_Heb.isin(@city_muni) & okev==1')['aprt_20'].sum().item()"
   ]
  },
  {
   "cell_type": "code",
   "execution_count": null,
   "id": "64eb71e1",
   "metadata": {},
   "outputs": [],
   "source": [
    "ou_city=taz.query('main_secto==\"U_Orthodox\" & Muni_Heb.isin(@city_muni) & okev==1')['aprt_20'].sum().item()"
   ]
  },
  {
   "cell_type": "code",
   "execution_count": null,
   "id": "bffba35b",
   "metadata": {},
   "outputs": [],
   "source": [
    "general_city=taz.query('main_secto==\"Jewish\" & Muni_Heb.isin(@city_muni) & okev==1')['aprt_20'].sum().item()"
   ]
  },
  {
   "cell_type": "code",
   "execution_count": null,
   "id": "9ec329b2",
   "metadata": {},
   "outputs": [],
   "source": [
    "general_sub=taz.query('main_secto==\"Jewish\" & ~Muni_Heb.isin(@city_muni) & okev==1')['aprt_20'].sum().item()"
   ]
  },
  {
   "cell_type": "code",
   "execution_count": null,
   "id": "52ec1ec4",
   "metadata": {
    "scrolled": true
   },
   "outputs": [],
   "source": [
    "base_okev_factor=(emp_okev-(okev_level*general_city-okev_level*(ou_sub+arab_city)-2*okev_level*arab_sub))/(general_sub+general_city+ou_city+ou_sub+arab_city+arab_sub)"
   ]
  },
  {
   "cell_type": "code",
   "execution_count": null,
   "id": "689012fb",
   "metadata": {},
   "outputs": [],
   "source": [
    "base_okev_factor=round(base_okev_factor,3)"
   ]
  },
  {
   "cell_type": "code",
   "execution_count": null,
   "id": "9a28cde3",
   "metadata": {},
   "outputs": [],
   "source": [
    "data = [['Jewish', base_okev_factor,base_okev_factor+okev_level],['arab', base_okev_factor-okev_level,base_okev_factor], ['U_Orthodox',base_okev_factor-2*okev_level,base_okev_factor-okev_level]]\n",
    " \n",
    "# Create the pandas DataFrame\n",
    "df = pd.DataFrame(data, columns=['sector', 'sub','city'])\n",
    "okev_factor=df.set_index('sector')\n",
    "okev_factor.to_excel(r'{}\\Intermediates\\okev_factor.xlsx'.format(software_data_folder_location))"
   ]
  },
  {
   "cell_type": "code",
   "execution_count": null,
   "id": "f5bc6a17",
   "metadata": {},
   "outputs": [],
   "source": [
    "taz['emp_okev']=0"
   ]
  },
  {
   "cell_type": "code",
   "execution_count": null,
   "id": "5721b2ed",
   "metadata": {},
   "outputs": [],
   "source": [
    "taz.loc[(taz['jew']==0)&(taz['okev']==1),'emp_okev']=taz['aprt_20']*okev_factor.loc['arab','city']"
   ]
  },
  {
   "cell_type": "code",
   "execution_count": null,
   "id": "e3c0b430",
   "metadata": {},
   "outputs": [],
   "source": [
    "taz.loc[(taz['main_secto']==\"U_Orthodox\")&(~taz['Muni_Heb'].isin(city_muni))&(taz['okev']==1),'emp_okev']=taz['aprt_20']*okev_factor.loc['U_Orthodox','sub']"
   ]
  },
  {
   "cell_type": "code",
   "execution_count": null,
   "id": "a7a50494",
   "metadata": {},
   "outputs": [],
   "source": [
    "taz.loc[(taz['main_secto']==\"U_Orthodox\")&(taz['Muni_Heb'].isin(city_muni))&(taz['okev']==1),'emp_okev']=taz['aprt_20']*okev_factor.loc['U_Orthodox','city']"
   ]
  },
  {
   "cell_type": "code",
   "execution_count": null,
   "id": "0bfbaee2",
   "metadata": {},
   "outputs": [],
   "source": [
    "taz.loc[(taz['main_secto']==\"Jewish\")&(taz['Muni_Heb'].isin(city_muni))&(taz['okev']==1),'emp_okev']=taz['aprt_20']*okev_factor.loc['Jewish','city']"
   ]
  },
  {
   "cell_type": "code",
   "execution_count": null,
   "id": "8b57bf6d",
   "metadata": {},
   "outputs": [],
   "source": [
    "taz.loc[(taz['main_secto']==\"Jewish\")&(~taz['Muni_Heb'].isin(city_muni))&(taz['okev']==1),'emp_okev']=taz['aprt_20']*okev_factor.loc['Jewish','sub']"
   ]
  },
  {
   "cell_type": "code",
   "execution_count": null,
   "id": "4a7a73bd",
   "metadata": {
    "scrolled": true
   },
   "outputs": [
    {
     "data": {
      "text/plain": [
       "-1631.8376567774103"
      ]
     },
     "execution_count": 820,
     "metadata": {},
     "output_type": "execute_result"
    }
   ],
   "source": [
    "taz.emp_okev.sum().item()-emp_okev"
   ]
  },
  {
   "cell_type": "markdown",
   "id": "d8615aa7",
   "metadata": {},
   "source": [
    "## פיצול שכבת לא עוקב לאזורי תנועה"
   ]
  },
  {
   "cell_type": "code",
   "execution_count": null,
   "id": "d0a412e7",
   "metadata": {},
   "outputs": [],
   "source": [
    "EMP_kibolet['emp_area']=EMP_kibolet.area"
   ]
  },
  {
   "cell_type": "code",
   "execution_count": null,
   "id": "f3f9211d",
   "metadata": {},
   "outputs": [],
   "source": [
    "EMP_kibolet['ID']=EMP_kibolet.index"
   ]
  },
  {
   "cell_type": "code",
   "execution_count": null,
   "id": "0421b10a",
   "metadata": {
    "scrolled": false
   },
   "outputs": [
    {
     "name": "stderr",
     "output_type": "stream",
     "text": [
      "C:\\Users\\gidon\\AppData\\Local\\Temp\\ipykernel_27552\\35171637.py:1: UserWarning: `keep_geom_type=True` in overlay resulted in 280 dropped geometries of different geometry types than df1 has. Set `keep_geom_type=False` to retain all geometries\n",
      "  EMP_kibolet_by_taz=gpd.overlay(taz.reset_index()[['Taz_num','taz_area','geometry']],EMP_kibolet)\n"
     ]
    }
   ],
   "source": [
    "EMP_kibolet_by_taz=gpd.overlay(taz.reset_index()[['Taz_num','taz_area','geometry']],EMP_kibolet)"
   ]
  },
  {
   "cell_type": "code",
   "execution_count": null,
   "id": "7695a9a3",
   "metadata": {},
   "outputs": [],
   "source": [
    "EMP_kibolet_by_taz['small_area']=EMP_kibolet_by_taz.area"
   ]
  },
  {
   "cell_type": "code",
   "execution_count": null,
   "id": "a40c4d94",
   "metadata": {},
   "outputs": [],
   "source": [
    "EMP_kibolet_by_taz['pre_small_area_emp']=EMP_kibolet_by_taz['small_area']/EMP_kibolet_by_taz['emp_area']"
   ]
  },
  {
   "cell_type": "code",
   "execution_count": null,
   "id": "aa3c6749",
   "metadata": {},
   "outputs": [],
   "source": [
    "EMP_kibolet_by_taz['pre_small_area_taz']=EMP_kibolet_by_taz['small_area']/EMP_kibolet_by_taz['taz_area']"
   ]
  },
  {
   "cell_type": "code",
   "execution_count": null,
   "id": "a9d0716a",
   "metadata": {},
   "outputs": [],
   "source": [
    "EMP_kibolet_by_taz=EMP_kibolet_by_taz.query('(pre_small_area_taz >0.7) | (pre_small_area_emp >0.1)').drop(columns='geometry_buff')"
   ]
  },
  {
   "cell_type": "code",
   "execution_count": null,
   "id": "15911049",
   "metadata": {},
   "outputs": [],
   "source": [
    "EMP_kibolet_by_taz=EMP_kibolet_by_taz.set_index('ID')"
   ]
  },
  {
   "cell_type": "code",
   "execution_count": null,
   "id": "5d4b9325",
   "metadata": {},
   "outputs": [],
   "source": [
    "EMP_kibolet_by_taz['id_area_for_pre']=EMP_kibolet_by_taz.reset_index().groupby(by='ID').sum()['small_area']"
   ]
  },
  {
   "cell_type": "code",
   "execution_count": null,
   "id": "f00fbbc8",
   "metadata": {},
   "outputs": [],
   "source": [
    "EMP_kibolet_by_taz['prec_from_id']=EMP_kibolet_by_taz['small_area']/EMP_kibolet_by_taz['id_area_for_pre']"
   ]
  },
  {
   "cell_type": "code",
   "execution_count": null,
   "id": "a618ac44",
   "metadata": {},
   "outputs": [],
   "source": [
    "EMP_kibolet_by_taz['emp_without_palestin_in_taz']=EMP_kibolet_by_taz['emp_without_palestin']*EMP_kibolet_by_taz['prec_from_id']"
   ]
  },
  {
   "cell_type": "code",
   "execution_count": null,
   "id": "d948fcc5",
   "metadata": {},
   "outputs": [],
   "source": [
    "taz['emp_not_okev']=EMP_kibolet_by_taz.pivot_table(index='Taz_num',aggfunc=sum)[['emp_without_palestin_in_taz']]"
   ]
  },
  {
   "cell_type": "code",
   "execution_count": null,
   "id": "9968f2f3",
   "metadata": {},
   "outputs": [],
   "source": [
    "taz=taz.fillna(0)"
   ]
  },
  {
   "cell_type": "code",
   "execution_count": null,
   "id": "5adc958a",
   "metadata": {},
   "outputs": [],
   "source": [
    "taz['total_emp']=taz['emp_not_okev']+taz['emp_okev']+taz['emp_Education']"
   ]
  },
  {
   "cell_type": "code",
   "execution_count": null,
   "id": "8c725e21",
   "metadata": {
    "scrolled": false
   },
   "outputs": [
    {
     "data": {
      "text/plain": [
       "-1631.8376567774103"
      ]
     },
     "execution_count": 835,
     "metadata": {},
     "output_type": "execute_result"
    }
   ],
   "source": [
    "taz.query('main_secto!=\"Palestinian\"')['total_emp'].sum()-emp_in_jtmt_area_without_mobile"
   ]
  },
  {
   "cell_type": "markdown",
   "id": "250d570c",
   "metadata": {},
   "source": [
    "## תוצאות"
   ]
  },
  {
   "cell_type": "code",
   "execution_count": null,
   "id": "ce728f1a",
   "metadata": {},
   "outputs": [
    {
     "data": {
      "text/html": [
       "<div>\n",
       "<style scoped>\n",
       "    .dataframe tbody tr th:only-of-type {\n",
       "        vertical-align: middle;\n",
       "    }\n",
       "\n",
       "    .dataframe tbody tr th {\n",
       "        vertical-align: top;\n",
       "    }\n",
       "\n",
       "    .dataframe thead th {\n",
       "        text-align: right;\n",
       "    }\n",
       "</style>\n",
       "<table border=\"1\" class=\"dataframe\">\n",
       "  <thead>\n",
       "    <tr style=\"text-align: right;\">\n",
       "      <th></th>\n",
       "      <th>total_emp</th>\n",
       "    </tr>\n",
       "    <tr>\n",
       "      <th>zonetype</th>\n",
       "      <th></th>\n",
       "    </tr>\n",
       "  </thead>\n",
       "  <tbody>\n",
       "    <tr>\n",
       "      <th>Jerusalem</th>\n",
       "      <td>372399.821</td>\n",
       "    </tr>\n",
       "    <tr>\n",
       "      <th>Judea and Samaria</th>\n",
       "      <td>82220.279</td>\n",
       "    </tr>\n",
       "    <tr>\n",
       "      <th>Palestinian</th>\n",
       "      <td>18.000</td>\n",
       "    </tr>\n",
       "    <tr>\n",
       "      <th>Ramla</th>\n",
       "      <td>28263.971</td>\n",
       "    </tr>\n",
       "  </tbody>\n",
       "</table>\n",
       "</div>"
      ],
      "text/plain": [
       "                   total_emp\n",
       "zonetype                    \n",
       "Jerusalem         372399.821\n",
       "Judea and Samaria  82220.279\n",
       "Palestinian           18.000\n",
       "Ramla              28263.971"
      ]
     },
     "execution_count": 836,
     "metadata": {},
     "output_type": "execute_result"
    }
   ],
   "source": [
    "taz.groupby(by='zonetype').sum()[['total_emp']]#.loc[['Jerusalem','Judea and Samaria']]"
   ]
  },
  {
   "cell_type": "code",
   "execution_count": null,
   "id": "051dd7df",
   "metadata": {
    "scrolled": true
   },
   "outputs": [
    {
     "data": {
      "text/html": [
       "<div>\n",
       "<style scoped>\n",
       "    .dataframe tbody tr th:only-of-type {\n",
       "        vertical-align: middle;\n",
       "    }\n",
       "\n",
       "    .dataframe tbody tr th {\n",
       "        vertical-align: top;\n",
       "    }\n",
       "\n",
       "    .dataframe thead th {\n",
       "        text-align: right;\n",
       "    }\n",
       "</style>\n",
       "<table border=\"1\" class=\"dataframe\">\n",
       "  <thead>\n",
       "    <tr style=\"text-align: right;\">\n",
       "      <th></th>\n",
       "      <th>total_emp</th>\n",
       "    </tr>\n",
       "    <tr>\n",
       "      <th>Muni_Heb</th>\n",
       "      <th></th>\n",
       "    </tr>\n",
       "  </thead>\n",
       "  <tbody>\n",
       "    <tr>\n",
       "      <th>ירושלים</th>\n",
       "      <td>324049.187</td>\n",
       "    </tr>\n",
       "    <tr>\n",
       "      <th>בית שמש</th>\n",
       "      <td>26987.510</td>\n",
       "    </tr>\n",
       "    <tr>\n",
       "      <th>ביתר עילית</th>\n",
       "      <td>7146.349</td>\n",
       "    </tr>\n",
       "    <tr>\n",
       "      <th>מודיעין - מכבים - רעות</th>\n",
       "      <td>25654.360</td>\n",
       "    </tr>\n",
       "    <tr>\n",
       "      <th>מעלה אדומים</th>\n",
       "      <td>7653.404</td>\n",
       "    </tr>\n",
       "    <tr>\n",
       "      <th>מודיעין עילית</th>\n",
       "      <td>10724.250</td>\n",
       "    </tr>\n",
       "  </tbody>\n",
       "</table>\n",
       "</div>"
      ],
      "text/plain": [
       "                        total_emp\n",
       "Muni_Heb                         \n",
       "ירושלים                324049.187\n",
       "בית שמש                 26987.510\n",
       "ביתר עילית               7146.349\n",
       "מודיעין - מכבים - רעות  25654.360\n",
       "מעלה אדומים              7653.404\n",
       "מודיעין עילית           10724.250"
      ]
     },
     "execution_count": 837,
     "metadata": {},
     "output_type": "execute_result"
    }
   ],
   "source": [
    "taz.groupby(by='Muni_Heb').sum()[['total_emp']].loc[['ירושלים','בית שמש','ביתר עילית','מודיעין - מכבים - רעות','מעלה אדומים','מודיעין עילית']]"
   ]
  },
  {
   "cell_type": "code",
   "execution_count": null,
   "id": "6dce3b2f",
   "metadata": {
    "scrolled": false
   },
   "outputs": [
    {
     "data": {
      "text/html": [
       "<div>\n",
       "<style scoped>\n",
       "    .dataframe tbody tr th:only-of-type {\n",
       "        vertical-align: middle;\n",
       "    }\n",
       "\n",
       "    .dataframe tbody tr th {\n",
       "        vertical-align: top;\n",
       "    }\n",
       "\n",
       "    .dataframe thead th {\n",
       "        text-align: right;\n",
       "    }\n",
       "</style>\n",
       "<table border=\"1\" class=\"dataframe\">\n",
       "  <thead>\n",
       "    <tr style=\"text-align: right;\">\n",
       "      <th></th>\n",
       "      <th></th>\n",
       "      <th>total_emp</th>\n",
       "    </tr>\n",
       "    <tr>\n",
       "      <th>Muni_Heb</th>\n",
       "      <th>main_secto</th>\n",
       "      <th></th>\n",
       "    </tr>\n",
       "  </thead>\n",
       "  <tbody>\n",
       "    <tr>\n",
       "      <th rowspan=\"4\" valign=\"top\">ירושלים</th>\n",
       "      <th>Arab</th>\n",
       "      <td>57152.917</td>\n",
       "    </tr>\n",
       "    <tr>\n",
       "      <th>Jewish</th>\n",
       "      <td>198076.972</td>\n",
       "    </tr>\n",
       "    <tr>\n",
       "      <th>U_Orthodox</th>\n",
       "      <td>55686.526</td>\n",
       "    </tr>\n",
       "    <tr>\n",
       "      <th>arabs_behined_seperation_wall</th>\n",
       "      <td>13132.772</td>\n",
       "    </tr>\n",
       "  </tbody>\n",
       "</table>\n",
       "</div>"
      ],
      "text/plain": [
       "                                        total_emp\n",
       "Muni_Heb main_secto                              \n",
       "ירושלים  Arab                           57152.917\n",
       "         Jewish                        198076.972\n",
       "         U_Orthodox                     55686.526\n",
       "         arabs_behined_seperation_wall  13132.772"
      ]
     },
     "execution_count": 838,
     "metadata": {},
     "output_type": "execute_result"
    }
   ],
   "source": [
    "taz.groupby(by=['Muni_Heb','main_secto']).sum()[['total_emp']].loc[['ירושלים']]"
   ]
  },
  {
   "cell_type": "markdown",
   "id": "a9e9a3c5",
   "metadata": {},
   "source": [
    "## התפלגות ענפי תעסוקה"
   ]
  },
  {
   "cell_type": "code",
   "execution_count": null,
   "id": "0aee928f",
   "metadata": {},
   "outputs": [],
   "source": [
    "emp_category_type=up_load_shp(r'{}\\background_files\\emp_category_type.shp'.format(software_data_folder_location)).fillna(0)"
   ]
  },
  {
   "cell_type": "code",
   "execution_count": null,
   "id": "157ae567",
   "metadata": {},
   "outputs": [],
   "source": [
    "col=['agri', 'Indus', 'Com_hotel', 'Business', 'Public']"
   ]
  },
  {
   "cell_type": "code",
   "execution_count": null,
   "id": "6c482c26",
   "metadata": {},
   "outputs": [],
   "source": [
    "emp_category_type[col]=emp_category_type[col]/100"
   ]
  },
  {
   "cell_type": "code",
   "execution_count": null,
   "id": "98f3a0cf",
   "metadata": {},
   "outputs": [],
   "source": [
    "emp_category_type=gpd.sjoin(make_point(taz.reset_index())[['Taz_num','centroid']],emp_category_type).set_index('Taz_num')"
   ]
  },
  {
   "cell_type": "code",
   "execution_count": null,
   "id": "43974707",
   "metadata": {},
   "outputs": [],
   "source": [
    "col=['agri', 'Indus', 'Com_hotel', 'Business', 'Public']"
   ]
  },
  {
   "cell_type": "code",
   "execution_count": null,
   "id": "d65ed8fc",
   "metadata": {},
   "outputs": [
    {
     "data": {
      "text/html": [
       "<div>\n",
       "<style scoped>\n",
       "    .dataframe tbody tr th:only-of-type {\n",
       "        vertical-align: middle;\n",
       "    }\n",
       "\n",
       "    .dataframe tbody tr th {\n",
       "        vertical-align: top;\n",
       "    }\n",
       "\n",
       "    .dataframe thead th {\n",
       "        text-align: right;\n",
       "    }\n",
       "</style>\n",
       "<table border=\"1\" class=\"dataframe\">\n",
       "  <thead>\n",
       "    <tr style=\"text-align: right;\">\n",
       "      <th></th>\n",
       "      <th>CR_PNIM</th>\n",
       "      <th>Join_Count</th>\n",
       "      <th>TARGET_FID</th>\n",
       "      <th>Agg_taz_nu</th>\n",
       "      <th>Taz_name</th>\n",
       "      <th>Arab</th>\n",
       "      <th>arabs_behi</th>\n",
       "      <th>Jewish</th>\n",
       "      <th>Palestinia</th>\n",
       "      <th>U_Orthodox</th>\n",
       "      <th>main_secto</th>\n",
       "      <th>ENG_NAME_n</th>\n",
       "      <th>Muni_Heb</th>\n",
       "      <th>Sug_Muni</th>\n",
       "      <th>jeru_metro</th>\n",
       "      <th>zonetype</th>\n",
       "      <th>in_jerusal</th>\n",
       "      <th>SCHN_NAME</th>\n",
       "      <th>geometry</th>\n",
       "      <th>STAT</th>\n",
       "      <th>aprt_20</th>\n",
       "      <th>pop</th>\n",
       "      <th>pop_0</th>\n",
       "      <th>pop_10</th>\n",
       "      <th>pop_15</th>\n",
       "      <th>pop_20</th>\n",
       "      <th>pop_25</th>\n",
       "      <th>pop_30</th>\n",
       "      <th>pop_35</th>\n",
       "      <th>pop_40</th>\n",
       "      <th>pop_45</th>\n",
       "      <th>pop_5</th>\n",
       "      <th>pop_50</th>\n",
       "      <th>pop_55</th>\n",
       "      <th>pop_60</th>\n",
       "      <th>pop_65</th>\n",
       "      <th>pop_70</th>\n",
       "      <th>pop_75up</th>\n",
       "      <th>pop_hardi</th>\n",
       "      <th>precent_of_stat_data</th>\n",
       "      <th>pre_hardi</th>\n",
       "      <th>hh_size</th>\n",
       "      <th>pop_check</th>\n",
       "      <th>student_toddlers</th>\n",
       "      <th>student_gov</th>\n",
       "      <th>delta_student</th>\n",
       "      <th>student_demand</th>\n",
       "      <th>student_demand_left</th>\n",
       "      <th>student_demand_left_sum_by_muni</th>\n",
       "      <th>student_demand_left_pre</th>\n",
       "      <th>cbs_muni_student_left_by_pre_of_demand_left</th>\n",
       "      <th>jew</th>\n",
       "      <th>student_demand_pre</th>\n",
       "      <th>cbs_muni_student_left_by_pre_of_demand</th>\n",
       "      <th>student_for_Control</th>\n",
       "      <th>student_chardi_not_gov</th>\n",
       "      <th>student_arab_not_gov</th>\n",
       "      <th>student</th>\n",
       "      <th>uni_students</th>\n",
       "      <th>emp_from_uni_student</th>\n",
       "      <th>old_student_yeshiva</th>\n",
       "      <th>yeshiva_dorms_pop_15</th>\n",
       "      <th>yeshiva_dorms_pop_20</th>\n",
       "      <th>yeshiva_dorms_pop_25</th>\n",
       "      <th>yeshiva_dorms_pop_sum</th>\n",
       "      <th>emp_from_Yeshiva_student</th>\n",
       "      <th>student_yeshiva</th>\n",
       "      <th>add_from_old_student_yeshiva</th>\n",
       "      <th>kollim_demand</th>\n",
       "      <th>add_from_kollim_demand</th>\n",
       "      <th>student_yeshiva_with_add_from_old</th>\n",
       "      <th>student_yeshiva_and_kollim</th>\n",
       "      <th>emp_from_student</th>\n",
       "      <th>emp_Education</th>\n",
       "      <th>student_dorms</th>\n",
       "      <th>pop_without_dorms_yeshiva</th>\n",
       "      <th>pop_20_just_from_aprt</th>\n",
       "      <th>pop_25_just_from_aprt</th>\n",
       "      <th>pop_15_just_from_aprt</th>\n",
       "      <th>work_age</th>\n",
       "      <th>under_work_age</th>\n",
       "      <th>over_work_age</th>\n",
       "      <th>pop_emp</th>\n",
       "      <th>pop_emp_employed</th>\n",
       "      <th>commuting</th>\n",
       "      <th>pop_emp_employed_out_of_jtmt_area</th>\n",
       "      <th>taz_area</th>\n",
       "      <th>okev</th>\n",
       "      <th>emp_okev</th>\n",
       "      <th>emp_not_okev</th>\n",
       "      <th>total_emp</th>\n",
       "      <th>agri</th>\n",
       "      <th>Indus</th>\n",
       "      <th>Com_hotel</th>\n",
       "      <th>Business</th>\n",
       "      <th>Public</th>\n",
       "    </tr>\n",
       "    <tr>\n",
       "      <th>Taz_num</th>\n",
       "      <th></th>\n",
       "      <th></th>\n",
       "      <th></th>\n",
       "      <th></th>\n",
       "      <th></th>\n",
       "      <th></th>\n",
       "      <th></th>\n",
       "      <th></th>\n",
       "      <th></th>\n",
       "      <th></th>\n",
       "      <th></th>\n",
       "      <th></th>\n",
       "      <th></th>\n",
       "      <th></th>\n",
       "      <th></th>\n",
       "      <th></th>\n",
       "      <th></th>\n",
       "      <th></th>\n",
       "      <th></th>\n",
       "      <th></th>\n",
       "      <th></th>\n",
       "      <th></th>\n",
       "      <th></th>\n",
       "      <th></th>\n",
       "      <th></th>\n",
       "      <th></th>\n",
       "      <th></th>\n",
       "      <th></th>\n",
       "      <th></th>\n",
       "      <th></th>\n",
       "      <th></th>\n",
       "      <th></th>\n",
       "      <th></th>\n",
       "      <th></th>\n",
       "      <th></th>\n",
       "      <th></th>\n",
       "      <th></th>\n",
       "      <th></th>\n",
       "      <th></th>\n",
       "      <th></th>\n",
       "      <th></th>\n",
       "      <th></th>\n",
       "      <th></th>\n",
       "      <th></th>\n",
       "      <th></th>\n",
       "      <th></th>\n",
       "      <th></th>\n",
       "      <th></th>\n",
       "      <th></th>\n",
       "      <th></th>\n",
       "      <th></th>\n",
       "      <th></th>\n",
       "      <th></th>\n",
       "      <th></th>\n",
       "      <th></th>\n",
       "      <th></th>\n",
       "      <th></th>\n",
       "      <th></th>\n",
       "      <th></th>\n",
       "      <th></th>\n",
       "      <th></th>\n",
       "      <th></th>\n",
       "      <th></th>\n",
       "      <th></th>\n",
       "      <th></th>\n",
       "      <th></th>\n",
       "      <th></th>\n",
       "      <th></th>\n",
       "      <th></th>\n",
       "      <th></th>\n",
       "      <th></th>\n",
       "      <th></th>\n",
       "      <th></th>\n",
       "      <th></th>\n",
       "      <th></th>\n",
       "      <th></th>\n",
       "      <th></th>\n",
       "      <th></th>\n",
       "      <th></th>\n",
       "      <th></th>\n",
       "      <th></th>\n",
       "      <th></th>\n",
       "      <th></th>\n",
       "      <th></th>\n",
       "      <th></th>\n",
       "      <th></th>\n",
       "      <th></th>\n",
       "      <th></th>\n",
       "      <th></th>\n",
       "      <th></th>\n",
       "      <th></th>\n",
       "      <th></th>\n",
       "      <th></th>\n",
       "      <th></th>\n",
       "      <th></th>\n",
       "      <th></th>\n",
       "    </tr>\n",
       "  </thead>\n",
       "  <tbody>\n",
       "  </tbody>\n",
       "</table>\n",
       "</div>"
      ],
      "text/plain": [
       "Empty GeoDataFrame\n",
       "Columns: [CR_PNIM, Join_Count, TARGET_FID, Agg_taz_nu, Taz_name, Arab, arabs_behi, Jewish, Palestinia, U_Orthodox, main_secto, ENG_NAME_n, Muni_Heb, Sug_Muni, jeru_metro, zonetype, in_jerusal, SCHN_NAME, geometry, STAT, aprt_20, pop, pop_0, pop_10, pop_15, pop_20, pop_25, pop_30, pop_35, pop_40, pop_45, pop_5, pop_50, pop_55, pop_60, pop_65, pop_70, pop_75up, pop_hardi, precent_of_stat_data, pre_hardi, hh_size, pop_check, student_toddlers, student_gov, delta_student, student_demand, student_demand_left, student_demand_left_sum_by_muni, student_demand_left_pre, cbs_muni_student_left_by_pre_of_demand_left, jew, student_demand_pre, cbs_muni_student_left_by_pre_of_demand, student_for_Control, student_chardi_not_gov, student_arab_not_gov, student, uni_students, emp_from_uni_student, old_student_yeshiva, yeshiva_dorms_pop_15, yeshiva_dorms_pop_20, yeshiva_dorms_pop_25, yeshiva_dorms_pop_sum, emp_from_Yeshiva_student, student_yeshiva, add_from_old_student_yeshiva, kollim_demand, add_from_kollim_demand, student_yeshiva_with_add_from_old, student_yeshiva_and_kollim, emp_from_student, emp_Education, student_dorms, pop_without_dorms_yeshiva, pop_20_just_from_aprt, pop_25_just_from_aprt, pop_15_just_from_aprt, work_age, under_work_age, over_work_age, pop_emp, pop_emp_employed, commuting, pop_emp_employed_out_of_jtmt_area, taz_area, okev, emp_okev, emp_not_okev, total_emp, agri, Indus, Com_hotel, Business, Public]\n",
       "Index: []"
      ]
     },
     "execution_count": 844,
     "metadata": {},
     "output_type": "execute_result"
    }
   ],
   "source": [
    "taz.join(emp_category_type[col]).query('(emp_not_okev>0 | emp_okev>0 )& agri.isna() & main_secto!=\"Palestinian\" ')"
   ]
  },
  {
   "cell_type": "code",
   "execution_count": null,
   "id": "6111c7f3",
   "metadata": {},
   "outputs": [],
   "source": [
    "taz=taz.join(emp_category_type[col]).fillna(0)"
   ]
  },
  {
   "cell_type": "code",
   "execution_count": null,
   "id": "538879ce",
   "metadata": {},
   "outputs": [],
   "source": [
    "for i in col:\n",
    "    taz['{}'.format(i)]=taz['{}'.format(i)]*(taz['emp_not_okev']+taz['emp_okev'])"
   ]
  },
  {
   "cell_type": "code",
   "execution_count": null,
   "id": "73d7cde4",
   "metadata": {},
   "outputs": [],
   "source": [
    "taz['check_emp_sum']=taz[col].sum(axis=1)-(taz['emp_not_okev']+taz['emp_okev'])"
   ]
  },
  {
   "cell_type": "code",
   "execution_count": null,
   "id": "827ec351",
   "metadata": {
    "scrolled": false
   },
   "outputs": [
    {
     "data": {
      "text/html": [
       "<div>\n",
       "<style scoped>\n",
       "    .dataframe tbody tr th:only-of-type {\n",
       "        vertical-align: middle;\n",
       "    }\n",
       "\n",
       "    .dataframe tbody tr th {\n",
       "        vertical-align: top;\n",
       "    }\n",
       "\n",
       "    .dataframe thead th {\n",
       "        text-align: right;\n",
       "    }\n",
       "</style>\n",
       "<table border=\"1\" class=\"dataframe\">\n",
       "  <thead>\n",
       "    <tr style=\"text-align: right;\">\n",
       "      <th></th>\n",
       "      <th>CR_PNIM</th>\n",
       "      <th>Join_Count</th>\n",
       "      <th>TARGET_FID</th>\n",
       "      <th>Agg_taz_nu</th>\n",
       "      <th>Taz_name</th>\n",
       "      <th>Arab</th>\n",
       "      <th>arabs_behi</th>\n",
       "      <th>Jewish</th>\n",
       "      <th>Palestinia</th>\n",
       "      <th>U_Orthodox</th>\n",
       "      <th>main_secto</th>\n",
       "      <th>ENG_NAME_n</th>\n",
       "      <th>Muni_Heb</th>\n",
       "      <th>Sug_Muni</th>\n",
       "      <th>jeru_metro</th>\n",
       "      <th>zonetype</th>\n",
       "      <th>in_jerusal</th>\n",
       "      <th>SCHN_NAME</th>\n",
       "      <th>geometry</th>\n",
       "      <th>STAT</th>\n",
       "      <th>aprt_20</th>\n",
       "      <th>pop</th>\n",
       "      <th>pop_0</th>\n",
       "      <th>pop_10</th>\n",
       "      <th>pop_15</th>\n",
       "      <th>pop_20</th>\n",
       "      <th>pop_25</th>\n",
       "      <th>pop_30</th>\n",
       "      <th>pop_35</th>\n",
       "      <th>pop_40</th>\n",
       "      <th>pop_45</th>\n",
       "      <th>pop_5</th>\n",
       "      <th>pop_50</th>\n",
       "      <th>pop_55</th>\n",
       "      <th>pop_60</th>\n",
       "      <th>pop_65</th>\n",
       "      <th>pop_70</th>\n",
       "      <th>pop_75up</th>\n",
       "      <th>pop_hardi</th>\n",
       "      <th>precent_of_stat_data</th>\n",
       "      <th>pre_hardi</th>\n",
       "      <th>hh_size</th>\n",
       "      <th>pop_check</th>\n",
       "      <th>student_toddlers</th>\n",
       "      <th>student_gov</th>\n",
       "      <th>delta_student</th>\n",
       "      <th>student_demand</th>\n",
       "      <th>student_demand_left</th>\n",
       "      <th>student_demand_left_sum_by_muni</th>\n",
       "      <th>student_demand_left_pre</th>\n",
       "      <th>cbs_muni_student_left_by_pre_of_demand_left</th>\n",
       "      <th>jew</th>\n",
       "      <th>student_demand_pre</th>\n",
       "      <th>cbs_muni_student_left_by_pre_of_demand</th>\n",
       "      <th>student_for_Control</th>\n",
       "      <th>student_chardi_not_gov</th>\n",
       "      <th>student_arab_not_gov</th>\n",
       "      <th>student</th>\n",
       "      <th>uni_students</th>\n",
       "      <th>emp_from_uni_student</th>\n",
       "      <th>old_student_yeshiva</th>\n",
       "      <th>yeshiva_dorms_pop_15</th>\n",
       "      <th>yeshiva_dorms_pop_20</th>\n",
       "      <th>yeshiva_dorms_pop_25</th>\n",
       "      <th>yeshiva_dorms_pop_sum</th>\n",
       "      <th>emp_from_Yeshiva_student</th>\n",
       "      <th>student_yeshiva</th>\n",
       "      <th>add_from_old_student_yeshiva</th>\n",
       "      <th>kollim_demand</th>\n",
       "      <th>add_from_kollim_demand</th>\n",
       "      <th>student_yeshiva_with_add_from_old</th>\n",
       "      <th>student_yeshiva_and_kollim</th>\n",
       "      <th>emp_from_student</th>\n",
       "      <th>emp_Education</th>\n",
       "      <th>student_dorms</th>\n",
       "      <th>pop_without_dorms_yeshiva</th>\n",
       "      <th>pop_20_just_from_aprt</th>\n",
       "      <th>pop_25_just_from_aprt</th>\n",
       "      <th>pop_15_just_from_aprt</th>\n",
       "      <th>work_age</th>\n",
       "      <th>under_work_age</th>\n",
       "      <th>over_work_age</th>\n",
       "      <th>pop_emp</th>\n",
       "      <th>pop_emp_employed</th>\n",
       "      <th>commuting</th>\n",
       "      <th>pop_emp_employed_out_of_jtmt_area</th>\n",
       "      <th>taz_area</th>\n",
       "      <th>okev</th>\n",
       "      <th>emp_okev</th>\n",
       "      <th>emp_not_okev</th>\n",
       "      <th>total_emp</th>\n",
       "      <th>agri</th>\n",
       "      <th>Indus</th>\n",
       "      <th>Com_hotel</th>\n",
       "      <th>Business</th>\n",
       "      <th>Public</th>\n",
       "      <th>check_emp_sum</th>\n",
       "    </tr>\n",
       "    <tr>\n",
       "      <th>Taz_num</th>\n",
       "      <th></th>\n",
       "      <th></th>\n",
       "      <th></th>\n",
       "      <th></th>\n",
       "      <th></th>\n",
       "      <th></th>\n",
       "      <th></th>\n",
       "      <th></th>\n",
       "      <th></th>\n",
       "      <th></th>\n",
       "      <th></th>\n",
       "      <th></th>\n",
       "      <th></th>\n",
       "      <th></th>\n",
       "      <th></th>\n",
       "      <th></th>\n",
       "      <th></th>\n",
       "      <th></th>\n",
       "      <th></th>\n",
       "      <th></th>\n",
       "      <th></th>\n",
       "      <th></th>\n",
       "      <th></th>\n",
       "      <th></th>\n",
       "      <th></th>\n",
       "      <th></th>\n",
       "      <th></th>\n",
       "      <th></th>\n",
       "      <th></th>\n",
       "      <th></th>\n",
       "      <th></th>\n",
       "      <th></th>\n",
       "      <th></th>\n",
       "      <th></th>\n",
       "      <th></th>\n",
       "      <th></th>\n",
       "      <th></th>\n",
       "      <th></th>\n",
       "      <th></th>\n",
       "      <th></th>\n",
       "      <th></th>\n",
       "      <th></th>\n",
       "      <th></th>\n",
       "      <th></th>\n",
       "      <th></th>\n",
       "      <th></th>\n",
       "      <th></th>\n",
       "      <th></th>\n",
       "      <th></th>\n",
       "      <th></th>\n",
       "      <th></th>\n",
       "      <th></th>\n",
       "      <th></th>\n",
       "      <th></th>\n",
       "      <th></th>\n",
       "      <th></th>\n",
       "      <th></th>\n",
       "      <th></th>\n",
       "      <th></th>\n",
       "      <th></th>\n",
       "      <th></th>\n",
       "      <th></th>\n",
       "      <th></th>\n",
       "      <th></th>\n",
       "      <th></th>\n",
       "      <th></th>\n",
       "      <th></th>\n",
       "      <th></th>\n",
       "      <th></th>\n",
       "      <th></th>\n",
       "      <th></th>\n",
       "      <th></th>\n",
       "      <th></th>\n",
       "      <th></th>\n",
       "      <th></th>\n",
       "      <th></th>\n",
       "      <th></th>\n",
       "      <th></th>\n",
       "      <th></th>\n",
       "      <th></th>\n",
       "      <th></th>\n",
       "      <th></th>\n",
       "      <th></th>\n",
       "      <th></th>\n",
       "      <th></th>\n",
       "      <th></th>\n",
       "      <th></th>\n",
       "      <th></th>\n",
       "      <th></th>\n",
       "      <th></th>\n",
       "      <th></th>\n",
       "      <th></th>\n",
       "      <th></th>\n",
       "      <th></th>\n",
       "      <th></th>\n",
       "      <th></th>\n",
       "      <th></th>\n",
       "    </tr>\n",
       "  </thead>\n",
       "  <tbody>\n",
       "  </tbody>\n",
       "</table>\n",
       "</div>"
      ],
      "text/plain": [
       "Empty GeoDataFrame\n",
       "Columns: [CR_PNIM, Join_Count, TARGET_FID, Agg_taz_nu, Taz_name, Arab, arabs_behi, Jewish, Palestinia, U_Orthodox, main_secto, ENG_NAME_n, Muni_Heb, Sug_Muni, jeru_metro, zonetype, in_jerusal, SCHN_NAME, geometry, STAT, aprt_20, pop, pop_0, pop_10, pop_15, pop_20, pop_25, pop_30, pop_35, pop_40, pop_45, pop_5, pop_50, pop_55, pop_60, pop_65, pop_70, pop_75up, pop_hardi, precent_of_stat_data, pre_hardi, hh_size, pop_check, student_toddlers, student_gov, delta_student, student_demand, student_demand_left, student_demand_left_sum_by_muni, student_demand_left_pre, cbs_muni_student_left_by_pre_of_demand_left, jew, student_demand_pre, cbs_muni_student_left_by_pre_of_demand, student_for_Control, student_chardi_not_gov, student_arab_not_gov, student, uni_students, emp_from_uni_student, old_student_yeshiva, yeshiva_dorms_pop_15, yeshiva_dorms_pop_20, yeshiva_dorms_pop_25, yeshiva_dorms_pop_sum, emp_from_Yeshiva_student, student_yeshiva, add_from_old_student_yeshiva, kollim_demand, add_from_kollim_demand, student_yeshiva_with_add_from_old, student_yeshiva_and_kollim, emp_from_student, emp_Education, student_dorms, pop_without_dorms_yeshiva, pop_20_just_from_aprt, pop_25_just_from_aprt, pop_15_just_from_aprt, work_age, under_work_age, over_work_age, pop_emp, pop_emp_employed, commuting, pop_emp_employed_out_of_jtmt_area, taz_area, okev, emp_okev, emp_not_okev, total_emp, agri, Indus, Com_hotel, Business, Public, check_emp_sum]\n",
       "Index: []"
      ]
     },
     "execution_count": 848,
     "metadata": {},
     "output_type": "execute_result"
    }
   ],
   "source": [
    "taz.query('check_emp_sum>10 |check_emp_sum<-10')"
   ]
  },
  {
   "cell_type": "markdown",
   "id": "95e0cc68",
   "metadata": {},
   "source": [
    "## הוספת סטודנטים אל כמות משקי בית"
   ]
  },
  {
   "cell_type": "code",
   "execution_count": null,
   "id": "8e6b7713",
   "metadata": {},
   "outputs": [],
   "source": [
    "taz=taz.fillna(0)"
   ]
  },
  {
   "cell_type": "code",
   "execution_count": null,
   "id": "dfa33d6c",
   "metadata": {},
   "outputs": [],
   "source": [
    "taz['hh']=taz['aprt_20']+taz['student_dorms']/1.5"
   ]
  },
  {
   "cell_type": "markdown",
   "id": "15cc71d7",
   "metadata": {},
   "source": [
    "## הוספת תלמידי ישיבה (באזורים לא חרדיים) אל כמות אוכלוסיה,התפלגות גילים ומשקי בית (לכלל תלמידי הישיבה)"
   ]
  },
  {
   "cell_type": "code",
   "execution_count": null,
   "id": "42714de0",
   "metadata": {},
   "outputs": [],
   "source": [
    "taz['hh']=taz['hh']+taz['yeshiva_dorms_pop_sum']"
   ]
  },
  {
   "cell_type": "code",
   "execution_count": null,
   "id": "b5a1f454",
   "metadata": {},
   "outputs": [],
   "source": [
    "taz.loc[taz['main_secto']!=\"U_Orthodox\",'pop']=taz['pop']+taz['yeshiva_dorms_pop_sum']\n",
    "\n",
    "taz.loc[taz['main_secto']!=\"U_Orthodox\",'pop_15']=taz['pop_15']+taz['yeshiva_dorms_pop_15']\n",
    "\n",
    "taz.loc[taz['main_secto']!=\"U_Orthodox\",'pop_20']=taz['pop_20']+taz['yeshiva_dorms_pop_20']\n",
    "\n",
    "taz.loc[taz['main_secto']!=\"U_Orthodox\",'pop_25']=taz['pop_25']+taz['yeshiva_dorms_pop_25']"
   ]
  },
  {
   "cell_type": "markdown",
   "id": "26046a0a",
   "metadata": {},
   "source": [
    "## הוספת אוכלוסיה פלסטינאית"
   ]
  },
  {
   "cell_type": "code",
   "execution_count": null,
   "id": "ab51a53c",
   "metadata": {},
   "outputs": [],
   "source": [
    "path=r'{}\\background_files'.format(software_data_folder_location)\n",
    "taz_demo_pls_2020=up_load_df(path,'taz_demo_pls_2020_and_pre_growth_till_2050')[['Taz_num','pop_2020']].set_index('Taz_num')"
   ]
  },
  {
   "cell_type": "code",
   "execution_count": null,
   "id": "3bc9a869",
   "metadata": {},
   "outputs": [],
   "source": [
    "col=['pop',\n",
    "'pop_0',\n",
    "'pop_10',\n",
    "'pop_15',\n",
    "'pop_20',\n",
    "'pop_25',\n",
    "'pop_30',\n",
    "'pop_35',\n",
    "'pop_40',\n",
    "'pop_45',\n",
    "'pop_5',\n",
    "'pop_50',\n",
    "'pop_55',\n",
    "'pop_60',\n",
    "'pop_65',\n",
    "'pop_70',\n",
    "'pop_75up',\n",
    "'student',\n",
    "'uni_students',\n",
    "'student_yeshiva_and_kollim',\n",
    "'emp_Education',\n",
    "'pop_emp_employed',\n",
    "'total_emp',\n",
    "'agri',\n",
    "'Indus',\n",
    "'Com_hotel',\n",
    "'Business',\n",
    "'Public',\n",
    "'hh']"
   ]
  },
  {
   "cell_type": "code",
   "execution_count": null,
   "id": "f01d47c3",
   "metadata": {},
   "outputs": [],
   "source": [
    "taz.loc[taz['main_secto']=='Palestinian',col]=0"
   ]
  },
  {
   "cell_type": "code",
   "execution_count": null,
   "id": "2b3bf466",
   "metadata": {},
   "outputs": [],
   "source": [
    "taz.loc[taz['main_secto']=='Palestinian','pop']=taz['pop']+taz_demo_pls_2020['pop_2020']"
   ]
  },
  {
   "cell_type": "markdown",
   "id": "34c1d5c0",
   "metadata": {},
   "source": [
    "## ייצוא לבקרה"
   ]
  },
  {
   "cell_type": "code",
   "execution_count": null,
   "id": "2463d2bf",
   "metadata": {},
   "outputs": [],
   "source": [
    "taz=taz.reset_index()"
   ]
  },
  {
   "cell_type": "code",
   "execution_count": null,
   "id": "bbc55652",
   "metadata": {},
   "outputs": [],
   "source": [
    "pre_yeshiva_from_20_30_age=taz[['student_yeshiva_with_add_from_old']].sum().sum()/taz.query('jew==1')[['pop_20_just_from_aprt','pop_25_just_from_aprt']].sum().sum()"
   ]
  },
  {
   "cell_type": "code",
   "execution_count": null,
   "id": "7ccb828c",
   "metadata": {
    "scrolled": false
   },
   "outputs": [
    {
     "data": {
      "text/plain": [
       "0.5261022022178201"
      ]
     },
     "execution_count": 859,
     "metadata": {},
     "output_type": "execute_result"
    }
   ],
   "source": [
    "pre_yeshiva_from_20_30_age"
   ]
  },
  {
   "cell_type": "code",
   "execution_count": null,
   "id": "eb1227c1",
   "metadata": {},
   "outputs": [
    {
     "data": {
      "text/plain": [
       "array(['U_Orthodox', 'arabs_behined_seperation_wall', 'Arab', 'Jewish',\n",
       "       'Palestinian'], dtype=object)"
      ]
     },
     "execution_count": 860,
     "metadata": {},
     "output_type": "execute_result"
    }
   ],
   "source": [
    "taz.main_secto.unique()"
   ]
  },
  {
   "cell_type": "code",
   "execution_count": null,
   "id": "f003a657",
   "metadata": {},
   "outputs": [],
   "source": [
    "pre_uni_from_20_30_age=taz[['uni_students']].sum().sum()/taz.query('main_secto!=\"Palestinian\"')[['pop_20_just_from_aprt','pop_25_just_from_aprt']].sum().sum()"
   ]
  },
  {
   "cell_type": "code",
   "execution_count": null,
   "id": "e40c4ac5",
   "metadata": {
    "scrolled": false
   },
   "outputs": [
    {
     "data": {
      "text/plain": [
       "0.3034760359349936"
      ]
     },
     "execution_count": 862,
     "metadata": {},
     "output_type": "execute_result"
    }
   ],
   "source": [
    "pre_uni_from_20_30_age"
   ]
  },
  {
   "cell_type": "code",
   "execution_count": null,
   "id": "53e4429d",
   "metadata": {
    "scrolled": true
   },
   "outputs": [
    {
     "data": {
      "text/plain": [
       "['Taz_num',\n",
       " 'CR_PNIM',\n",
       " 'Join_Count',\n",
       " 'TARGET_FID',\n",
       " 'Agg_taz_nu',\n",
       " 'Taz_name',\n",
       " 'Arab',\n",
       " 'arabs_behi',\n",
       " 'Jewish',\n",
       " 'Palestinia',\n",
       " 'U_Orthodox',\n",
       " 'main_secto',\n",
       " 'ENG_NAME_n',\n",
       " 'Muni_Heb',\n",
       " 'Sug_Muni',\n",
       " 'jeru_metro',\n",
       " 'zonetype',\n",
       " 'in_jerusal',\n",
       " 'SCHN_NAME',\n",
       " 'geometry',\n",
       " 'STAT',\n",
       " 'aprt_20',\n",
       " 'pop',\n",
       " 'pop_0',\n",
       " 'pop_10',\n",
       " 'pop_15',\n",
       " 'pop_20',\n",
       " 'pop_25',\n",
       " 'pop_30',\n",
       " 'pop_35',\n",
       " 'pop_40',\n",
       " 'pop_45',\n",
       " 'pop_5',\n",
       " 'pop_50',\n",
       " 'pop_55',\n",
       " 'pop_60',\n",
       " 'pop_65',\n",
       " 'pop_70',\n",
       " 'pop_75up',\n",
       " 'pop_hardi',\n",
       " 'precent_of_stat_data',\n",
       " 'pre_hardi',\n",
       " 'hh_size',\n",
       " 'pop_check',\n",
       " 'student_toddlers',\n",
       " 'student_gov',\n",
       " 'delta_student',\n",
       " 'student_demand',\n",
       " 'student_demand_left',\n",
       " 'student_demand_left_sum_by_muni',\n",
       " 'student_demand_left_pre',\n",
       " 'cbs_muni_student_left_by_pre_of_demand_left',\n",
       " 'jew',\n",
       " 'student_demand_pre',\n",
       " 'cbs_muni_student_left_by_pre_of_demand',\n",
       " 'student_for_Control',\n",
       " 'student_chardi_not_gov',\n",
       " 'student_arab_not_gov',\n",
       " 'student',\n",
       " 'uni_students',\n",
       " 'emp_from_uni_student',\n",
       " 'old_student_yeshiva',\n",
       " 'yeshiva_dorms_pop_15',\n",
       " 'yeshiva_dorms_pop_20',\n",
       " 'yeshiva_dorms_pop_25',\n",
       " 'yeshiva_dorms_pop_sum',\n",
       " 'emp_from_Yeshiva_student',\n",
       " 'student_yeshiva',\n",
       " 'add_from_old_student_yeshiva',\n",
       " 'kollim_demand',\n",
       " 'add_from_kollim_demand',\n",
       " 'student_yeshiva_with_add_from_old',\n",
       " 'student_yeshiva_and_kollim',\n",
       " 'emp_from_student',\n",
       " 'emp_Education',\n",
       " 'student_dorms',\n",
       " 'pop_without_dorms_yeshiva',\n",
       " 'pop_20_just_from_aprt',\n",
       " 'pop_25_just_from_aprt',\n",
       " 'pop_15_just_from_aprt',\n",
       " 'work_age',\n",
       " 'under_work_age',\n",
       " 'over_work_age',\n",
       " 'pop_emp',\n",
       " 'pop_emp_employed',\n",
       " 'commuting',\n",
       " 'pop_emp_employed_out_of_jtmt_area',\n",
       " 'taz_area',\n",
       " 'okev',\n",
       " 'emp_okev',\n",
       " 'emp_not_okev',\n",
       " 'total_emp',\n",
       " 'agri',\n",
       " 'Indus',\n",
       " 'Com_hotel',\n",
       " 'Business',\n",
       " 'Public',\n",
       " 'check_emp_sum',\n",
       " 'hh']"
      ]
     },
     "execution_count": 863,
     "metadata": {},
     "output_type": "execute_result"
    }
   ],
   "source": [
    "list(taz)"
   ]
  },
  {
   "cell_type": "code",
   "execution_count": null,
   "id": "83c03ab6",
   "metadata": {},
   "outputs": [],
   "source": [
    "col=['Taz_num','Agg_taz_nu','Taz_name','Muni_Heb','jeru_metro',\n",
    " 'zonetype',\n",
    " 'in_jerusal','main_secto','aprt_20','student_dorms','student_yeshiva_with_add_from_old','hh','pop_without_dorms_yeshiva',\n",
    " 'pop', 'hh_size','pop_emp_employed',\n",
    " 'commuting','student_toddlers',\n",
    " 'student_gov','cbs_muni_student_left_by_pre_of_demand_left','cbs_muni_student_left_by_pre_of_demand','student_chardi_not_gov',\n",
    " 'student_arab_not_gov','student','uni_students',\n",
    " 'student_yeshiva','yeshiva_dorms_pop_15',\n",
    " 'yeshiva_dorms_pop_20',\n",
    " 'yeshiva_dorms_pop_25',\n",
    " 'yeshiva_dorms_pop_sum',\n",
    " 'add_from_old_student_yeshiva',\n",
    " 'add_from_kollim_demand', 'emp_from_uni_student','emp_from_Yeshiva_student','emp_from_student',\n",
    " 'emp_Education','okev',\n",
    " 'emp_okev',\n",
    " 'emp_not_okev','total_emp',\n",
    " 'agri',\n",
    " 'Indus',\n",
    " 'Com_hotel',\n",
    " 'Business',\n",
    " 'Public']"
   ]
  },
  {
   "cell_type": "code",
   "execution_count": null,
   "id": "e2bd9936",
   "metadata": {},
   "outputs": [],
   "source": [
    "file_date=pd.Timestamp.today().strftime('%y%m%d')"
   ]
  },
  {
   "cell_type": "code",
   "execution_count": null,
   "id": "3b0573bb",
   "metadata": {
    "scrolled": true
   },
   "outputs": [],
   "source": [
    "taz[col].to_excel(r'{}\\2020_jtmt_forcast_full_{}.xlsx'.format(forecast_version_folder_location,file_date),index=False)"
   ]
  },
  {
   "cell_type": "markdown",
   "id": "166ba3e5",
   "metadata": {},
   "source": [
    "## ייצוא בפורמט של מודלים"
   ]
  },
  {
   "cell_type": "code",
   "execution_count": null,
   "id": "17ee6f94",
   "metadata": {},
   "outputs": [],
   "source": [
    "taz['yosh']=0"
   ]
  },
  {
   "cell_type": "code",
   "execution_count": null,
   "id": "d25bb3b1",
   "metadata": {},
   "outputs": [],
   "source": [
    "taz.loc[taz['zonetype']=='Judea and Samaria','yosh']=1"
   ]
  },
  {
   "cell_type": "code",
   "execution_count": null,
   "id": "90fc0ebe",
   "metadata": {},
   "outputs": [],
   "source": [
    "taz['jerusalem_city']=0"
   ]
  },
  {
   "cell_type": "code",
   "execution_count": null,
   "id": "9e3f95b7",
   "metadata": {},
   "outputs": [],
   "source": [
    "taz.loc[taz['in_jerusal']=='yes','jerusalem_city']=1"
   ]
  },
  {
   "cell_type": "code",
   "execution_count": null,
   "id": "daec6b41",
   "metadata": {},
   "outputs": [],
   "source": [
    "taz=taz.reset_index()"
   ]
  },
  {
   "cell_type": "code",
   "execution_count": null,
   "id": "c104fe43",
   "metadata": {},
   "outputs": [],
   "source": [
    "col=['Taz_num',\n",
    "'yosh',\n",
    "'jeru_metro',\n",
    "'jerusalem_city',\n",
    "'main_secto',\n",
    "'hh',\n",
    "'pop',\n",
    "'pop_0',\n",
    "'pop_5',\n",
    "'pop_10',\n",
    "'pop_15',\n",
    "'pop_20',\n",
    "'pop_25',\n",
    "'pop_30',\n",
    "'pop_35',\n",
    "'pop_40',\n",
    "'pop_45',\n",
    "'pop_50',\n",
    "'pop_55',\n",
    "'pop_60',\n",
    "'pop_65',\n",
    "'pop_70',\n",
    "'pop_75up',\n",
    "'total_emp',\n",
    "'Indus',\n",
    "'Com_hotel',\n",
    "'Business',\n",
    "'Public',\n",
    "'emp_Education',\n",
    "'agri',\n",
    "'student',\n",
    "'uni_students',\n",
    "'student_yeshiva_and_kollim',\n",
    "'pop_emp_employed']"
   ]
  },
  {
   "cell_type": "code",
   "execution_count": null,
   "id": "41cec04f",
   "metadata": {},
   "outputs": [],
   "source": [
    "col_new_name=['TAZ',\n",
    "'yosh',\n",
    "'in_jerusalem_metropolin',\n",
    "'jerusalem_city',\n",
    "'sector',\n",
    "'hh_total',\n",
    "'pop',\n",
    "'age0_4',\n",
    "'age5_9',\n",
    "'age10_14',\n",
    "'age15_19',\n",
    "'age20_24',\n",
    "'age25_29',\n",
    "'age30_34',\n",
    "'age35_39',\n",
    "'age40_44',\n",
    "'age45_49',\n",
    "'age50_54',\n",
    "'age55_59',\n",
    "'age60_64',\n",
    "'age65_69',\n",
    "'age70_74',\n",
    "'age75up',\n",
    "'emp_tot',\n",
    "'indus',\n",
    "'com_hotel',\n",
    "'business',\n",
    "'public',\n",
    "'education',\n",
    "'agri',\n",
    "'student',\n",
    "'univ',\n",
    "'UO_Hi_Ed',\n",
    "'pop_emp_employed']"
   ]
  },
  {
   "cell_type": "code",
   "execution_count": null,
   "id": "d2bd1f1a",
   "metadata": {},
   "outputs": [],
   "source": [
    "taz=taz[col]"
   ]
  },
  {
   "cell_type": "code",
   "execution_count": null,
   "id": "141c3d0f",
   "metadata": {},
   "outputs": [],
   "source": [
    "taz.columns=col_new_name"
   ]
  },
  {
   "cell_type": "code",
   "execution_count": null,
   "id": "21d0a080",
   "metadata": {},
   "outputs": [],
   "source": [
    "taz.to_excel(r'{}\\forecast_2020_{}.xlsx'.format(forecast_version_folder_location,file_date),index=False)"
   ]
  },
  {
   "cell_type": "markdown",
   "id": "219c80d4",
   "metadata": {},
   "source": [
    "## בקרות לוגיות"
   ]
  },
  {
   "cell_type": "code",
   "execution_count": null,
   "id": "2c03dc03",
   "metadata": {
    "scrolled": true
   },
   "outputs": [
    {
     "data": {
      "text/html": [
       "<div>\n",
       "<style scoped>\n",
       "    .dataframe tbody tr th:only-of-type {\n",
       "        vertical-align: middle;\n",
       "    }\n",
       "\n",
       "    .dataframe tbody tr th {\n",
       "        vertical-align: top;\n",
       "    }\n",
       "\n",
       "    .dataframe thead th {\n",
       "        text-align: right;\n",
       "    }\n",
       "</style>\n",
       "<table border=\"1\" class=\"dataframe\">\n",
       "  <thead>\n",
       "    <tr style=\"text-align: right;\">\n",
       "      <th></th>\n",
       "      <th>TAZ</th>\n",
       "      <th>yosh</th>\n",
       "      <th>in_jerusalem_metropolin</th>\n",
       "      <th>jerusalem_city</th>\n",
       "      <th>sector</th>\n",
       "      <th>hh_total</th>\n",
       "      <th>pop</th>\n",
       "      <th>age0_4</th>\n",
       "      <th>age5_9</th>\n",
       "      <th>age10_14</th>\n",
       "      <th>age15_19</th>\n",
       "      <th>age20_24</th>\n",
       "      <th>age25_29</th>\n",
       "      <th>age30_34</th>\n",
       "      <th>age35_39</th>\n",
       "      <th>age40_44</th>\n",
       "      <th>age45_49</th>\n",
       "      <th>age50_54</th>\n",
       "      <th>age55_59</th>\n",
       "      <th>age60_64</th>\n",
       "      <th>age65_69</th>\n",
       "      <th>age70_74</th>\n",
       "      <th>age75up</th>\n",
       "      <th>emp_tot</th>\n",
       "      <th>indus</th>\n",
       "      <th>com_hotel</th>\n",
       "      <th>business</th>\n",
       "      <th>public</th>\n",
       "      <th>education</th>\n",
       "      <th>agri</th>\n",
       "      <th>student</th>\n",
       "      <th>univ</th>\n",
       "      <th>UO_Hi_Ed</th>\n",
       "      <th>pop_emp_employed</th>\n",
       "    </tr>\n",
       "  </thead>\n",
       "  <tbody>\n",
       "  </tbody>\n",
       "</table>\n",
       "</div>"
      ],
      "text/plain": [
       "Empty DataFrame\n",
       "Columns: [TAZ, yosh, in_jerusalem_metropolin, jerusalem_city, sector, hh_total, pop, age0_4, age5_9, age10_14, age15_19, age20_24, age25_29, age30_34, age35_39, age40_44, age45_49, age50_54, age55_59, age60_64, age65_69, age70_74, age75up, emp_tot, indus, com_hotel, business, public, education, agri, student, univ, UO_Hi_Ed, pop_emp_employed]\n",
       "Index: []"
      ]
     },
     "execution_count": 877,
     "metadata": {},
     "output_type": "execute_result"
    }
   ],
   "source": [
    "taz.loc[taz['TAZ']<=0]"
   ]
  },
  {
   "cell_type": "code",
   "execution_count": null,
   "id": "8a0fac2d",
   "metadata": {},
   "outputs": [
    {
     "data": {
      "text/plain": [
       "array([0, 1], dtype=int64)"
      ]
     },
     "execution_count": 878,
     "metadata": {},
     "output_type": "execute_result"
    }
   ],
   "source": [
    "taz.yosh.unique()"
   ]
  },
  {
   "cell_type": "code",
   "execution_count": null,
   "id": "18983b7a",
   "metadata": {},
   "outputs": [
    {
     "data": {
      "text/plain": [
       "array([1., 0.])"
      ]
     },
     "execution_count": 879,
     "metadata": {},
     "output_type": "execute_result"
    }
   ],
   "source": [
    "taz.in_jerusalem_metropolin.unique()"
   ]
  },
  {
   "cell_type": "code",
   "execution_count": null,
   "id": "bdea01e1",
   "metadata": {},
   "outputs": [
    {
     "data": {
      "text/plain": [
       "array([1, 0], dtype=int64)"
      ]
     },
     "execution_count": 880,
     "metadata": {},
     "output_type": "execute_result"
    }
   ],
   "source": [
    "taz.jerusalem_city.unique()"
   ]
  },
  {
   "cell_type": "code",
   "execution_count": null,
   "id": "dce32672",
   "metadata": {},
   "outputs": [
    {
     "data": {
      "text/plain": [
       "array(['U_Orthodox', 'arabs_behined_seperation_wall', 'Arab', 'Jewish',\n",
       "       'Palestinian'], dtype=object)"
      ]
     },
     "execution_count": 881,
     "metadata": {},
     "output_type": "execute_result"
    }
   ],
   "source": [
    "taz.sector.unique()"
   ]
  },
  {
   "cell_type": "code",
   "execution_count": null,
   "id": "96a36660",
   "metadata": {},
   "outputs": [],
   "source": [
    "col=['hh_total',\n",
    "'pop',\n",
    "'age0_4',\n",
    "'age5_9',\n",
    "'age10_14',\n",
    "'age15_19',\n",
    "'age20_24',\n",
    "'age25_29',\n",
    "'age30_34',\n",
    "'age35_39',\n",
    "'age40_44',\n",
    "'age45_49',\n",
    "'age50_54',\n",
    "'age55_59',\n",
    "'age60_64',\n",
    "'age65_69',\n",
    "'age70_74',\n",
    "'age75up',\n",
    "'emp_tot',\n",
    "'indus',\n",
    "'com_hotel',\n",
    "'business',\n",
    "'public',\n",
    "'education',\n",
    "'agri',\n",
    "'student',\n",
    "'univ',\n",
    "'UO_Hi_Ed',\n",
    "'pop_emp_employed']"
   ]
  },
  {
   "cell_type": "code",
   "execution_count": null,
   "id": "eb46ecea",
   "metadata": {
    "scrolled": true
   },
   "outputs": [],
   "source": [
    "taz_to_check=[]\n",
    "for i in col:\n",
    "    taz_to_check=taz_to_check+list(taz.loc[taz['{}'.format(i)]<0]['TAZ'])"
   ]
  },
  {
   "cell_type": "code",
   "execution_count": null,
   "id": "971c496d",
   "metadata": {
    "scrolled": true
   },
   "outputs": [
    {
     "data": {
      "text/plain": [
       "[]"
      ]
     },
     "execution_count": 884,
     "metadata": {},
     "output_type": "execute_result"
    }
   ],
   "source": [
    "taz_to_check"
   ]
  },
  {
   "cell_type": "code",
   "execution_count": null,
   "id": "2dd9793f",
   "metadata": {
    "scrolled": false
   },
   "outputs": [
    {
     "data": {
      "text/html": [
       "<div>\n",
       "<style scoped>\n",
       "    .dataframe tbody tr th:only-of-type {\n",
       "        vertical-align: middle;\n",
       "    }\n",
       "\n",
       "    .dataframe tbody tr th {\n",
       "        vertical-align: top;\n",
       "    }\n",
       "\n",
       "    .dataframe thead th {\n",
       "        text-align: right;\n",
       "    }\n",
       "</style>\n",
       "<table border=\"1\" class=\"dataframe\">\n",
       "  <thead>\n",
       "    <tr style=\"text-align: right;\">\n",
       "      <th></th>\n",
       "      <th>TAZ</th>\n",
       "      <th>yosh</th>\n",
       "      <th>in_jerusalem_metropolin</th>\n",
       "      <th>jerusalem_city</th>\n",
       "      <th>sector</th>\n",
       "      <th>hh_total</th>\n",
       "      <th>pop</th>\n",
       "      <th>age0_4</th>\n",
       "      <th>age5_9</th>\n",
       "      <th>age10_14</th>\n",
       "      <th>age15_19</th>\n",
       "      <th>age20_24</th>\n",
       "      <th>age25_29</th>\n",
       "      <th>age30_34</th>\n",
       "      <th>age35_39</th>\n",
       "      <th>age40_44</th>\n",
       "      <th>age45_49</th>\n",
       "      <th>age50_54</th>\n",
       "      <th>age55_59</th>\n",
       "      <th>age60_64</th>\n",
       "      <th>age65_69</th>\n",
       "      <th>age70_74</th>\n",
       "      <th>age75up</th>\n",
       "      <th>emp_tot</th>\n",
       "      <th>indus</th>\n",
       "      <th>com_hotel</th>\n",
       "      <th>business</th>\n",
       "      <th>public</th>\n",
       "      <th>education</th>\n",
       "      <th>agri</th>\n",
       "      <th>student</th>\n",
       "      <th>univ</th>\n",
       "      <th>UO_Hi_Ed</th>\n",
       "      <th>pop_emp_employed</th>\n",
       "    </tr>\n",
       "  </thead>\n",
       "  <tbody>\n",
       "  </tbody>\n",
       "</table>\n",
       "</div>"
      ],
      "text/plain": [
       "Empty DataFrame\n",
       "Columns: [TAZ, yosh, in_jerusalem_metropolin, jerusalem_city, sector, hh_total, pop, age0_4, age5_9, age10_14, age15_19, age20_24, age25_29, age30_34, age35_39, age40_44, age45_49, age50_54, age55_59, age60_64, age65_69, age70_74, age75up, emp_tot, indus, com_hotel, business, public, education, agri, student, univ, UO_Hi_Ed, pop_emp_employed]\n",
       "Index: []"
      ]
     },
     "execution_count": 885,
     "metadata": {},
     "output_type": "execute_result"
    }
   ],
   "source": [
    "taz.loc[~(taz['hh_total']<=taz['pop'])]"
   ]
  },
  {
   "cell_type": "code",
   "execution_count": null,
   "id": "6478d5a4",
   "metadata": {
    "scrolled": true
   },
   "outputs": [
    {
     "data": {
      "text/html": [
       "<div>\n",
       "<style scoped>\n",
       "    .dataframe tbody tr th:only-of-type {\n",
       "        vertical-align: middle;\n",
       "    }\n",
       "\n",
       "    .dataframe tbody tr th {\n",
       "        vertical-align: top;\n",
       "    }\n",
       "\n",
       "    .dataframe thead th {\n",
       "        text-align: right;\n",
       "    }\n",
       "</style>\n",
       "<table border=\"1\" class=\"dataframe\">\n",
       "  <thead>\n",
       "    <tr style=\"text-align: right;\">\n",
       "      <th></th>\n",
       "      <th>TAZ</th>\n",
       "      <th>yosh</th>\n",
       "      <th>in_jerusalem_metropolin</th>\n",
       "      <th>jerusalem_city</th>\n",
       "      <th>sector</th>\n",
       "      <th>hh_total</th>\n",
       "      <th>pop</th>\n",
       "      <th>age0_4</th>\n",
       "      <th>age5_9</th>\n",
       "      <th>age10_14</th>\n",
       "      <th>age15_19</th>\n",
       "      <th>age20_24</th>\n",
       "      <th>age25_29</th>\n",
       "      <th>age30_34</th>\n",
       "      <th>age35_39</th>\n",
       "      <th>age40_44</th>\n",
       "      <th>age45_49</th>\n",
       "      <th>age50_54</th>\n",
       "      <th>age55_59</th>\n",
       "      <th>age60_64</th>\n",
       "      <th>age65_69</th>\n",
       "      <th>age70_74</th>\n",
       "      <th>age75up</th>\n",
       "      <th>emp_tot</th>\n",
       "      <th>indus</th>\n",
       "      <th>com_hotel</th>\n",
       "      <th>business</th>\n",
       "      <th>public</th>\n",
       "      <th>education</th>\n",
       "      <th>agri</th>\n",
       "      <th>student</th>\n",
       "      <th>univ</th>\n",
       "      <th>UO_Hi_Ed</th>\n",
       "      <th>pop_emp_employed</th>\n",
       "    </tr>\n",
       "  </thead>\n",
       "  <tbody>\n",
       "  </tbody>\n",
       "</table>\n",
       "</div>"
      ],
      "text/plain": [
       "Empty DataFrame\n",
       "Columns: [TAZ, yosh, in_jerusalem_metropolin, jerusalem_city, sector, hh_total, pop, age0_4, age5_9, age10_14, age15_19, age20_24, age25_29, age30_34, age35_39, age40_44, age45_49, age50_54, age55_59, age60_64, age65_69, age70_74, age75up, emp_tot, indus, com_hotel, business, public, education, agri, student, univ, UO_Hi_Ed, pop_emp_employed]\n",
       "Index: []"
      ]
     },
     "execution_count": 886,
     "metadata": {},
     "output_type": "execute_result"
    }
   ],
   "source": [
    "taz.loc[taz['sector']!=\"Palestinian\"].loc[taz['hh_total']>0].loc[taz['pop']<=0]"
   ]
  },
  {
   "cell_type": "code",
   "execution_count": null,
   "id": "43c734e1",
   "metadata": {},
   "outputs": [],
   "source": [
    "col=['age0_4',\n",
    "'age5_9',\n",
    "'age10_14',\n",
    "'age15_19',\n",
    "'age20_24',\n",
    "'age25_29',\n",
    "'age30_34',\n",
    "'age35_39',\n",
    "'age40_44',\n",
    "'age45_49',\n",
    "'age50_54',\n",
    "'age55_59',\n",
    "'age60_64',\n",
    "'age65_69',\n",
    "'age70_74',\n",
    "'age75up',]\n",
    "\n",
    "taz['pop_check']=round(taz[col].sum(axis=1)-taz['pop'])"
   ]
  },
  {
   "cell_type": "code",
   "execution_count": null,
   "id": "e9d56913",
   "metadata": {
    "scrolled": true
   },
   "outputs": [
    {
     "data": {
      "text/html": [
       "<div>\n",
       "<style scoped>\n",
       "    .dataframe tbody tr th:only-of-type {\n",
       "        vertical-align: middle;\n",
       "    }\n",
       "\n",
       "    .dataframe tbody tr th {\n",
       "        vertical-align: top;\n",
       "    }\n",
       "\n",
       "    .dataframe thead th {\n",
       "        text-align: right;\n",
       "    }\n",
       "</style>\n",
       "<table border=\"1\" class=\"dataframe\">\n",
       "  <thead>\n",
       "    <tr style=\"text-align: right;\">\n",
       "      <th></th>\n",
       "      <th>TAZ</th>\n",
       "      <th>yosh</th>\n",
       "      <th>in_jerusalem_metropolin</th>\n",
       "      <th>jerusalem_city</th>\n",
       "      <th>sector</th>\n",
       "      <th>hh_total</th>\n",
       "      <th>pop</th>\n",
       "      <th>age0_4</th>\n",
       "      <th>age5_9</th>\n",
       "      <th>age10_14</th>\n",
       "      <th>age15_19</th>\n",
       "      <th>age20_24</th>\n",
       "      <th>age25_29</th>\n",
       "      <th>age30_34</th>\n",
       "      <th>age35_39</th>\n",
       "      <th>age40_44</th>\n",
       "      <th>age45_49</th>\n",
       "      <th>age50_54</th>\n",
       "      <th>age55_59</th>\n",
       "      <th>age60_64</th>\n",
       "      <th>age65_69</th>\n",
       "      <th>age70_74</th>\n",
       "      <th>age75up</th>\n",
       "      <th>emp_tot</th>\n",
       "      <th>indus</th>\n",
       "      <th>com_hotel</th>\n",
       "      <th>business</th>\n",
       "      <th>public</th>\n",
       "      <th>education</th>\n",
       "      <th>agri</th>\n",
       "      <th>student</th>\n",
       "      <th>univ</th>\n",
       "      <th>UO_Hi_Ed</th>\n",
       "      <th>pop_emp_employed</th>\n",
       "      <th>pop_check</th>\n",
       "    </tr>\n",
       "  </thead>\n",
       "  <tbody>\n",
       "  </tbody>\n",
       "</table>\n",
       "</div>"
      ],
      "text/plain": [
       "Empty DataFrame\n",
       "Columns: [TAZ, yosh, in_jerusalem_metropolin, jerusalem_city, sector, hh_total, pop, age0_4, age5_9, age10_14, age15_19, age20_24, age25_29, age30_34, age35_39, age40_44, age45_49, age50_54, age55_59, age60_64, age65_69, age70_74, age75up, emp_tot, indus, com_hotel, business, public, education, agri, student, univ, UO_Hi_Ed, pop_emp_employed, pop_check]\n",
       "Index: []"
      ]
     },
     "execution_count": 888,
     "metadata": {},
     "output_type": "execute_result"
    }
   ],
   "source": [
    "taz.loc[taz['sector']!=\"Palestinian\"].loc[taz['pop_check']!=0].query('TAZ==511')#.to_excel('delet.xlsx')#[col].sum(axis=1)"
   ]
  },
  {
   "cell_type": "code",
   "execution_count": null,
   "id": "20bbf335",
   "metadata": {
    "scrolled": true
   },
   "outputs": [
    {
     "data": {
      "text/plain": [
       "0"
      ]
     },
     "execution_count": 889,
     "metadata": {},
     "output_type": "execute_result"
    }
   ],
   "source": [
    "len(taz.loc[taz['sector']!=\"Palestinian\"].loc[taz['pop_check']!=0])"
   ]
  },
  {
   "cell_type": "code",
   "execution_count": null,
   "id": "59887389",
   "metadata": {
    "scrolled": true
   },
   "outputs": [
    {
     "data": {
      "text/html": [
       "<div>\n",
       "<style scoped>\n",
       "    .dataframe tbody tr th:only-of-type {\n",
       "        vertical-align: middle;\n",
       "    }\n",
       "\n",
       "    .dataframe tbody tr th {\n",
       "        vertical-align: top;\n",
       "    }\n",
       "\n",
       "    .dataframe thead th {\n",
       "        text-align: right;\n",
       "    }\n",
       "</style>\n",
       "<table border=\"1\" class=\"dataframe\">\n",
       "  <thead>\n",
       "    <tr style=\"text-align: right;\">\n",
       "      <th></th>\n",
       "      <th>TAZ</th>\n",
       "      <th>yosh</th>\n",
       "      <th>in_jerusalem_metropolin</th>\n",
       "      <th>jerusalem_city</th>\n",
       "      <th>sector</th>\n",
       "      <th>hh_total</th>\n",
       "      <th>pop</th>\n",
       "      <th>age0_4</th>\n",
       "      <th>age5_9</th>\n",
       "      <th>age10_14</th>\n",
       "      <th>age15_19</th>\n",
       "      <th>age20_24</th>\n",
       "      <th>age25_29</th>\n",
       "      <th>age30_34</th>\n",
       "      <th>age35_39</th>\n",
       "      <th>age40_44</th>\n",
       "      <th>age45_49</th>\n",
       "      <th>age50_54</th>\n",
       "      <th>age55_59</th>\n",
       "      <th>age60_64</th>\n",
       "      <th>age65_69</th>\n",
       "      <th>age70_74</th>\n",
       "      <th>age75up</th>\n",
       "      <th>emp_tot</th>\n",
       "      <th>indus</th>\n",
       "      <th>com_hotel</th>\n",
       "      <th>business</th>\n",
       "      <th>public</th>\n",
       "      <th>education</th>\n",
       "      <th>agri</th>\n",
       "      <th>student</th>\n",
       "      <th>univ</th>\n",
       "      <th>UO_Hi_Ed</th>\n",
       "      <th>pop_emp_employed</th>\n",
       "      <th>pop_check</th>\n",
       "    </tr>\n",
       "  </thead>\n",
       "  <tbody>\n",
       "  </tbody>\n",
       "</table>\n",
       "</div>"
      ],
      "text/plain": [
       "Empty DataFrame\n",
       "Columns: [TAZ, yosh, in_jerusalem_metropolin, jerusalem_city, sector, hh_total, pop, age0_4, age5_9, age10_14, age15_19, age20_24, age25_29, age30_34, age35_39, age40_44, age45_49, age50_54, age55_59, age60_64, age65_69, age70_74, age75up, emp_tot, indus, com_hotel, business, public, education, agri, student, univ, UO_Hi_Ed, pop_emp_employed, pop_check]\n",
       "Index: []"
      ]
     },
     "execution_count": 890,
     "metadata": {},
     "output_type": "execute_result"
    }
   ],
   "source": [
    "taz.loc[taz['sector']!=\"Palestinian\"].loc[taz['pop']>0].loc[taz['hh_total']<=0]"
   ]
  },
  {
   "cell_type": "code",
   "execution_count": null,
   "id": "2363e35a",
   "metadata": {},
   "outputs": [],
   "source": [
    "col=[\n",
    "'age0_4',\n",
    "'age5_9',\n",
    "'age10_14',\n",
    "'age15_19',\n",
    "'age20_24',\n",
    "'age25_29',\n",
    "'age30_34',\n",
    "'age35_39',\n",
    "'age40_44',\n",
    "'age45_49',\n",
    "'age50_54',\n",
    "'age55_59',\n",
    "'age60_64',\n",
    "'age65_69',\n",
    "'age70_74',\n",
    "'age75up']"
   ]
  },
  {
   "cell_type": "code",
   "execution_count": null,
   "id": "db72a666",
   "metadata": {
    "scrolled": true
   },
   "outputs": [],
   "source": [
    "taz_to_check=[]\n",
    "for i in col:\n",
    "    taz_to_check=taz_to_check+list(taz.loc[taz['{}'.format(i)]>0].loc[taz['pop']<=0]['TAZ'])\n",
    "    taz_to_check=taz_to_check+list(taz.loc[taz['{}'.format(i)]>0].loc[taz['hh_total']<=0]['TAZ'])"
   ]
  },
  {
   "cell_type": "code",
   "execution_count": null,
   "id": "35e2ce5b",
   "metadata": {
    "scrolled": true
   },
   "outputs": [
    {
     "data": {
      "text/plain": [
       "[]"
      ]
     },
     "execution_count": 893,
     "metadata": {},
     "output_type": "execute_result"
    }
   ],
   "source": [
    "taz_to_check"
   ]
  },
  {
   "cell_type": "code",
   "execution_count": null,
   "id": "942205c6",
   "metadata": {},
   "outputs": [],
   "source": [
    "col=['indus',\n",
    "'com_hotel',\n",
    "'business',\n",
    "'public',\n",
    "'education',\n",
    "'agri']"
   ]
  },
  {
   "cell_type": "code",
   "execution_count": null,
   "id": "0feb931d",
   "metadata": {},
   "outputs": [],
   "source": [
    "taz['emp_check']=round(taz[col].sum(axis=1)-taz['emp_tot'])"
   ]
  },
  {
   "cell_type": "code",
   "execution_count": null,
   "id": "b833bf57",
   "metadata": {
    "scrolled": true
   },
   "outputs": [
    {
     "data": {
      "text/html": [
       "<div>\n",
       "<style scoped>\n",
       "    .dataframe tbody tr th:only-of-type {\n",
       "        vertical-align: middle;\n",
       "    }\n",
       "\n",
       "    .dataframe tbody tr th {\n",
       "        vertical-align: top;\n",
       "    }\n",
       "\n",
       "    .dataframe thead th {\n",
       "        text-align: right;\n",
       "    }\n",
       "</style>\n",
       "<table border=\"1\" class=\"dataframe\">\n",
       "  <thead>\n",
       "    <tr style=\"text-align: right;\">\n",
       "      <th></th>\n",
       "      <th>TAZ</th>\n",
       "      <th>yosh</th>\n",
       "      <th>in_jerusalem_metropolin</th>\n",
       "      <th>jerusalem_city</th>\n",
       "      <th>sector</th>\n",
       "      <th>hh_total</th>\n",
       "      <th>pop</th>\n",
       "      <th>age0_4</th>\n",
       "      <th>age5_9</th>\n",
       "      <th>age10_14</th>\n",
       "      <th>age15_19</th>\n",
       "      <th>age20_24</th>\n",
       "      <th>age25_29</th>\n",
       "      <th>age30_34</th>\n",
       "      <th>age35_39</th>\n",
       "      <th>age40_44</th>\n",
       "      <th>age45_49</th>\n",
       "      <th>age50_54</th>\n",
       "      <th>age55_59</th>\n",
       "      <th>age60_64</th>\n",
       "      <th>age65_69</th>\n",
       "      <th>age70_74</th>\n",
       "      <th>age75up</th>\n",
       "      <th>emp_tot</th>\n",
       "      <th>indus</th>\n",
       "      <th>com_hotel</th>\n",
       "      <th>business</th>\n",
       "      <th>public</th>\n",
       "      <th>education</th>\n",
       "      <th>agri</th>\n",
       "      <th>student</th>\n",
       "      <th>univ</th>\n",
       "      <th>UO_Hi_Ed</th>\n",
       "      <th>pop_emp_employed</th>\n",
       "      <th>pop_check</th>\n",
       "      <th>emp_check</th>\n",
       "    </tr>\n",
       "  </thead>\n",
       "  <tbody>\n",
       "  </tbody>\n",
       "</table>\n",
       "</div>"
      ],
      "text/plain": [
       "Empty DataFrame\n",
       "Columns: [TAZ, yosh, in_jerusalem_metropolin, jerusalem_city, sector, hh_total, pop, age0_4, age5_9, age10_14, age15_19, age20_24, age25_29, age30_34, age35_39, age40_44, age45_49, age50_54, age55_59, age60_64, age65_69, age70_74, age75up, emp_tot, indus, com_hotel, business, public, education, agri, student, univ, UO_Hi_Ed, pop_emp_employed, pop_check, emp_check]\n",
       "Index: []"
      ]
     },
     "execution_count": 896,
     "metadata": {},
     "output_type": "execute_result"
    }
   ],
   "source": [
    "taz.loc[taz['sector']!=\"Palestinian\"].loc[taz['emp_check']!=0]"
   ]
  },
  {
   "cell_type": "code",
   "execution_count": null,
   "id": "7e37c96a",
   "metadata": {
    "scrolled": true
   },
   "outputs": [],
   "source": [
    "taz_to_check=[]\n",
    "for i in col:\n",
    "    taz_to_check=taz_to_check+list(taz.loc[taz['{}'.format(i)]>0].loc[taz['emp_tot']<=0]['TAZ'])"
   ]
  },
  {
   "cell_type": "code",
   "execution_count": null,
   "id": "81e09b2e",
   "metadata": {
    "scrolled": true
   },
   "outputs": [
    {
     "data": {
      "text/plain": [
       "[]"
      ]
     },
     "execution_count": 898,
     "metadata": {},
     "output_type": "execute_result"
    }
   ],
   "source": [
    "taz_to_check"
   ]
  },
  {
   "cell_type": "code",
   "execution_count": null,
   "id": "e4a46880",
   "metadata": {
    "scrolled": false
   },
   "outputs": [
    {
     "data": {
      "text/html": [
       "<div>\n",
       "<style scoped>\n",
       "    .dataframe tbody tr th:only-of-type {\n",
       "        vertical-align: middle;\n",
       "    }\n",
       "\n",
       "    .dataframe tbody tr th {\n",
       "        vertical-align: top;\n",
       "    }\n",
       "\n",
       "    .dataframe thead th {\n",
       "        text-align: right;\n",
       "    }\n",
       "</style>\n",
       "<table border=\"1\" class=\"dataframe\">\n",
       "  <thead>\n",
       "    <tr style=\"text-align: right;\">\n",
       "      <th></th>\n",
       "      <th>TAZ</th>\n",
       "      <th>yosh</th>\n",
       "      <th>in_jerusalem_metropolin</th>\n",
       "      <th>jerusalem_city</th>\n",
       "      <th>sector</th>\n",
       "      <th>hh_total</th>\n",
       "      <th>pop</th>\n",
       "      <th>age0_4</th>\n",
       "      <th>age5_9</th>\n",
       "      <th>age10_14</th>\n",
       "      <th>age15_19</th>\n",
       "      <th>age20_24</th>\n",
       "      <th>age25_29</th>\n",
       "      <th>age30_34</th>\n",
       "      <th>age35_39</th>\n",
       "      <th>age40_44</th>\n",
       "      <th>age45_49</th>\n",
       "      <th>age50_54</th>\n",
       "      <th>age55_59</th>\n",
       "      <th>age60_64</th>\n",
       "      <th>age65_69</th>\n",
       "      <th>age70_74</th>\n",
       "      <th>age75up</th>\n",
       "      <th>emp_tot</th>\n",
       "      <th>indus</th>\n",
       "      <th>com_hotel</th>\n",
       "      <th>business</th>\n",
       "      <th>public</th>\n",
       "      <th>education</th>\n",
       "      <th>agri</th>\n",
       "      <th>student</th>\n",
       "      <th>univ</th>\n",
       "      <th>UO_Hi_Ed</th>\n",
       "      <th>pop_emp_employed</th>\n",
       "      <th>pop_check</th>\n",
       "      <th>emp_check</th>\n",
       "    </tr>\n",
       "  </thead>\n",
       "  <tbody>\n",
       "  </tbody>\n",
       "</table>\n",
       "</div>"
      ],
      "text/plain": [
       "Empty DataFrame\n",
       "Columns: [TAZ, yosh, in_jerusalem_metropolin, jerusalem_city, sector, hh_total, pop, age0_4, age5_9, age10_14, age15_19, age20_24, age25_29, age30_34, age35_39, age40_44, age45_49, age50_54, age55_59, age60_64, age65_69, age70_74, age75up, emp_tot, indus, com_hotel, business, public, education, agri, student, univ, UO_Hi_Ed, pop_emp_employed, pop_check, emp_check]\n",
       "Index: []"
      ]
     },
     "execution_count": 899,
     "metadata": {},
     "output_type": "execute_result"
    }
   ],
   "source": [
    "taz.loc[taz['sector']!=\"Palestinian\"].loc[taz['pop_emp_employed']>0].loc[taz['pop']<=0]"
   ]
  }
 ],
 "metadata": {
  "kernelspec": {
   "display_name": "Python 3 (ipykernel)",
   "language": "python",
   "name": "python3"
  },
  "language_info": {
   "codemirror_mode": {
    "name": "ipython",
    "version": 3
   },
   "file_extension": ".py",
   "mimetype": "text/x-python",
   "name": "python",
   "nbconvert_exporter": "python",
   "pygments_lexer": "ipython3",
   "version": "3.11.5"
  },
  "toc": {
   "base_numbering": 1,
   "nav_menu": {},
   "number_sections": true,
   "sideBar": true,
   "skip_h1_title": false,
   "title_cell": "Table of Contents",
   "title_sidebar": "Contents",
   "toc_cell": false,
   "toc_position": {
    "height": "calc(100% - 180px)",
    "left": "10px",
    "top": "150px",
    "width": "347.297px"
   },
   "toc_section_display": true,
   "toc_window_display": true
  }
 },
 "nbformat": 4,
 "nbformat_minor": 5
}
