{
 "cells": [
  {
   "cell_type": "markdown",
   "id": "65e4c2ef",
   "metadata": {},
   "source": [
    "## הגדרות ומקדים"
   ]
  },
  {
   "cell_type": "markdown",
   "id": "986ae99c",
   "metadata": {},
   "source": [
    "### ספריות"
   ]
  },
  {
   "cell_type": "code",
   "execution_count": 2,
   "id": "a43ce0cf",
   "metadata": {},
   "outputs": [],
   "source": [
    "import os\n",
    "import sys\n",
    "import fiona\n",
    "import pandas as pd\n",
    "import geopandas as gpd\n",
    "from openpyxl import load_workbook"
   ]
  },
  {
   "cell_type": "code",
   "execution_count": 3,
   "id": "e351ed54",
   "metadata": {},
   "outputs": [],
   "source": [
    "pd.set_option('display.max_rows', None)\n",
    "pd.set_option('display.max_columns', None)\n",
    "pd.set_option('display.float_format', lambda x: '%.3f' % x)"
   ]
  },
  {
   "cell_type": "markdown",
   "id": "c29b5441",
   "metadata": {},
   "source": [
    "### העלת משתנים להרצת הקוד"
   ]
  },
  {
   "cell_type": "code",
   "execution_count": 4,
   "id": "2a61ddcb",
   "metadata": {},
   "outputs": [],
   "source": [
    "path = os.getcwd()\n",
    "\n",
    "software_root_folder = os.path.dirname(path)\n",
    "\n",
    "software_folder_location = r'{}\\current'.format(software_root_folder)\n",
    "\n",
    "df_inputs_outputs = pd.read_excel(r'{}\\inputs_outputs.xlsx'.format(software_folder_location))\n",
    "\n",
    "forecast_version_folder_location=df_inputs_outputs['location'][1]\n",
    "\n",
    "output_location=df_inputs_outputs['location'][2]\n",
    "\n",
    "sys.path.append(software_root_folder)"
   ]
  },
  {
   "cell_type": "markdown",
   "id": "9624443e",
   "metadata": {},
   "source": [
    "## פונקציות"
   ]
  },
  {
   "cell_type": "markdown",
   "id": "885c6a15",
   "metadata": {},
   "source": [
    "### פונקציות גלובליות"
   ]
  },
  {
   "cell_type": "code",
   "execution_count": 5,
   "id": "73a492e7",
   "metadata": {},
   "outputs": [],
   "source": [
    "from global_functions import up_load_shp, up_load_df, drop_geo, make_point, up_load_gdb, change_cols_names"
   ]
  },
  {
   "cell_type": "markdown",
   "id": "9e298bcd",
   "metadata": {},
   "source": [
    "## להריץ תלמידים"
   ]
  },
  {
   "cell_type": "code",
   "execution_count": 6,
   "id": "7cd351ae",
   "metadata": {},
   "outputs": [],
   "source": [
    "%run \"students_current_year.ipynb\""
   ]
  },
  {
   "cell_type": "markdown",
   "id": "4e3f42f8",
   "metadata": {},
   "source": [
    "## להעלות שכבות"
   ]
  },
  {
   "cell_type": "code",
   "execution_count": 7,
   "id": "a0fdda8d",
   "metadata": {},
   "outputs": [],
   "source": [
    "path=r'{}\\background_files\\EMP_KIBOLET.gdb'.format(software_folder_location)\n",
    "\n",
    "EMP_kibolet=up_load_gdb(path,'EMP_kibolet')"
   ]
  },
  {
   "cell_type": "code",
   "execution_count": 8,
   "id": "ad8ab1b1",
   "metadata": {},
   "outputs": [],
   "source": [
    "EMP_kibolet=EMP_kibolet.fillna(0)\n",
    "\n",
    "EMP_kibolet['emp_without_palestin']=EMP_kibolet['kayim_emp']-EMP_kibolet['Palestinians']\n",
    "\n",
    "emp_without_palestin_not_okev=EMP_kibolet['emp_without_palestin'].sum().item()\n",
    "\n",
    "emp_Education=taz.query('main_secto!=\"Palestinian\"')['emp_Education'].sum().item()"
   ]
  },
  {
   "cell_type": "markdown",
   "id": "2bfcfaff",
   "metadata": {},
   "source": [
    "## הוספת סטודנטים לאוכלוסיה ולהתפלגות גילים"
   ]
  },
  {
   "cell_type": "code",
   "execution_count": 9,
   "id": "03a9b835",
   "metadata": {},
   "outputs": [],
   "source": [
    "student_dorms=up_load_shp(r'{}\\background_files\\student_dorms.shp'.format(software_folder_location))"
   ]
  },
  {
   "cell_type": "code",
   "execution_count": 10,
   "id": "ceb2b3d0",
   "metadata": {},
   "outputs": [],
   "source": [
    "#העלה של נתוני אנשים התפלגות גילים שנוצר לפני הקוד הזה\n",
    "path=r'{}\\Intermediates'.format(software_folder_location)\n",
    "taz_with_pop=up_load_df(path,'taz_with_pop_info')"
   ]
  },
  {
   "cell_type": "code",
   "execution_count": 11,
   "id": "942e4722",
   "metadata": {},
   "outputs": [],
   "source": [
    "col_needed=['Taz_num','aprt_20',\n",
    " 'pop',\n",
    " 'pop_0',\n",
    " 'pop_10',\n",
    " 'pop_15',\n",
    " 'pop_20',\n",
    " 'pop_25',\n",
    " 'pop_30',\n",
    " 'pop_35',\n",
    " 'pop_40',\n",
    " 'pop_45',\n",
    " 'pop_5',\n",
    " 'pop_50',\n",
    " 'pop_55',\n",
    " 'pop_60',\n",
    " 'pop_65',\n",
    " 'pop_70',\n",
    " 'pop_75up', 'hh_size']"
   ]
  },
  {
   "cell_type": "code",
   "execution_count": 12,
   "id": "d1c756f6",
   "metadata": {},
   "outputs": [],
   "source": [
    "taz=taz.merge(taz_with_pop[col_needed],on='Taz_num',how='left')"
   ]
  },
  {
   "cell_type": "code",
   "execution_count": 13,
   "id": "38051742",
   "metadata": {},
   "outputs": [],
   "source": [
    "taz=taz.set_index('Taz_num')"
   ]
  },
  {
   "cell_type": "code",
   "execution_count": 14,
   "id": "8dbf0217",
   "metadata": {},
   "outputs": [],
   "source": [
    "taz['student_dorms']=gpd.sjoin(taz[['geometry']].reset_index(),student_dorms)[['Taz_num','student_nu']].pivot_table(index='Taz_num',aggfunc='sum')\n"
   ]
  },
  {
   "cell_type": "code",
   "execution_count": 15,
   "id": "b47cb737",
   "metadata": {},
   "outputs": [],
   "source": [
    "\n",
    "taz=taz.fillna(0)\n",
    "\n",
    "taz['pop_without_dorms_yeshiva']=taz['pop']\n",
    "\n",
    "taz['pop']=taz['pop']+taz['student_dorms']\n",
    "\n",
    "taz['pop_20_just_from_aprt']=taz['pop_20']\n",
    "\n",
    "taz['pop_25_just_from_aprt']=taz['pop_25']\n",
    "\n",
    "taz['pop_20']=taz['pop_20']+taz['student_dorms']*0.6\n",
    "\n",
    "taz['pop_25']=taz['pop_25']+taz['student_dorms']*0.4"
   ]
  },
  {
   "cell_type": "code",
   "execution_count": 16,
   "id": "95bbcee0",
   "metadata": {},
   "outputs": [
    {
     "data": {
      "text/html": [
       "<div>\n",
       "<style scoped>\n",
       "    .dataframe tbody tr th:only-of-type {\n",
       "        vertical-align: middle;\n",
       "    }\n",
       "\n",
       "    .dataframe tbody tr th {\n",
       "        vertical-align: top;\n",
       "    }\n",
       "\n",
       "    .dataframe thead th {\n",
       "        text-align: right;\n",
       "    }\n",
       "</style>\n",
       "<table border=\"1\" class=\"dataframe\">\n",
       "  <thead>\n",
       "    <tr style=\"text-align: right;\">\n",
       "      <th></th>\n",
       "      <th>Join_Count</th>\n",
       "      <th>TARGET_FID</th>\n",
       "      <th>Agg_taz_nu</th>\n",
       "      <th>Taz_name</th>\n",
       "      <th>Arab</th>\n",
       "      <th>arabs_behi</th>\n",
       "      <th>Jewish</th>\n",
       "      <th>Palestinia</th>\n",
       "      <th>U_Orthodox</th>\n",
       "      <th>main_secto</th>\n",
       "      <th>ENG_NAME_n</th>\n",
       "      <th>Muni_Heb</th>\n",
       "      <th>Sug_Muni</th>\n",
       "      <th>CR_PNIM</th>\n",
       "      <th>jeru_metro</th>\n",
       "      <th>zonetype</th>\n",
       "      <th>in_jerusal</th>\n",
       "      <th>SCHN_NAME</th>\n",
       "      <th>geometry</th>\n",
       "      <th>SEA1</th>\n",
       "      <th>SEA2</th>\n",
       "      <th>SEA3</th>\n",
       "      <th>UOA1</th>\n",
       "      <th>UOA2</th>\n",
       "      <th>UOA3</th>\n",
       "      <th>ARA1</th>\n",
       "      <th>ARA2</th>\n",
       "      <th>ARA3</th>\n",
       "      <th>student_chardi_not_gov</th>\n",
       "      <th>student_arab_not_gov</th>\n",
       "      <th>student</th>\n",
       "      <th>Univ_AR</th>\n",
       "      <th>Univ_SE</th>\n",
       "      <th>Univ_UO</th>\n",
       "      <th>emp_uni</th>\n",
       "      <th>univ</th>\n",
       "      <th>yeshiva_dorms_pop_15</th>\n",
       "      <th>yeshiva_dorms_pop_20</th>\n",
       "      <th>yeshiva_dorms_pop_25</th>\n",
       "      <th>yeshiva_dorms_pop_sum</th>\n",
       "      <th>emp_from_Yeshiva_student</th>\n",
       "      <th>Yeshiva</th>\n",
       "      <th>Seminar_dorms_pop_15</th>\n",
       "      <th>Seminar_dorms_pop_20</th>\n",
       "      <th>Seminar_dorms_pop_25</th>\n",
       "      <th>Seminar_dorms_pop_sum</th>\n",
       "      <th>emp_from_Seminar_student</th>\n",
       "      <th>Seminar</th>\n",
       "      <th>kollim_demand</th>\n",
       "      <th>add_from_kollim_demand</th>\n",
       "      <th>student_yeshiva_and_kollim</th>\n",
       "      <th>UO_Hi_Ed</th>\n",
       "      <th>emp_UO_Hi_Ed</th>\n",
       "      <th>jew</th>\n",
       "      <th>emp_from_student</th>\n",
       "      <th>emp_Education</th>\n",
       "      <th>aprt_20</th>\n",
       "      <th>pop</th>\n",
       "      <th>pop_0</th>\n",
       "      <th>pop_10</th>\n",
       "      <th>pop_15</th>\n",
       "      <th>pop_20</th>\n",
       "      <th>pop_25</th>\n",
       "      <th>pop_30</th>\n",
       "      <th>pop_35</th>\n",
       "      <th>pop_40</th>\n",
       "      <th>pop_45</th>\n",
       "      <th>pop_5</th>\n",
       "      <th>pop_50</th>\n",
       "      <th>pop_55</th>\n",
       "      <th>pop_60</th>\n",
       "      <th>pop_65</th>\n",
       "      <th>pop_70</th>\n",
       "      <th>pop_75up</th>\n",
       "      <th>hh_size</th>\n",
       "      <th>student_dorms</th>\n",
       "      <th>pop_without_dorms_yeshiva</th>\n",
       "      <th>pop_20_just_from_aprt</th>\n",
       "      <th>pop_25_just_from_aprt</th>\n",
       "      <th>pop_check</th>\n",
       "    </tr>\n",
       "    <tr>\n",
       "      <th>Taz_num</th>\n",
       "      <th></th>\n",
       "      <th></th>\n",
       "      <th></th>\n",
       "      <th></th>\n",
       "      <th></th>\n",
       "      <th></th>\n",
       "      <th></th>\n",
       "      <th></th>\n",
       "      <th></th>\n",
       "      <th></th>\n",
       "      <th></th>\n",
       "      <th></th>\n",
       "      <th></th>\n",
       "      <th></th>\n",
       "      <th></th>\n",
       "      <th></th>\n",
       "      <th></th>\n",
       "      <th></th>\n",
       "      <th></th>\n",
       "      <th></th>\n",
       "      <th></th>\n",
       "      <th></th>\n",
       "      <th></th>\n",
       "      <th></th>\n",
       "      <th></th>\n",
       "      <th></th>\n",
       "      <th></th>\n",
       "      <th></th>\n",
       "      <th></th>\n",
       "      <th></th>\n",
       "      <th></th>\n",
       "      <th></th>\n",
       "      <th></th>\n",
       "      <th></th>\n",
       "      <th></th>\n",
       "      <th></th>\n",
       "      <th></th>\n",
       "      <th></th>\n",
       "      <th></th>\n",
       "      <th></th>\n",
       "      <th></th>\n",
       "      <th></th>\n",
       "      <th></th>\n",
       "      <th></th>\n",
       "      <th></th>\n",
       "      <th></th>\n",
       "      <th></th>\n",
       "      <th></th>\n",
       "      <th></th>\n",
       "      <th></th>\n",
       "      <th></th>\n",
       "      <th></th>\n",
       "      <th></th>\n",
       "      <th></th>\n",
       "      <th></th>\n",
       "      <th></th>\n",
       "      <th></th>\n",
       "      <th></th>\n",
       "      <th></th>\n",
       "      <th></th>\n",
       "      <th></th>\n",
       "      <th></th>\n",
       "      <th></th>\n",
       "      <th></th>\n",
       "      <th></th>\n",
       "      <th></th>\n",
       "      <th></th>\n",
       "      <th></th>\n",
       "      <th></th>\n",
       "      <th></th>\n",
       "      <th></th>\n",
       "      <th></th>\n",
       "      <th></th>\n",
       "      <th></th>\n",
       "      <th></th>\n",
       "      <th></th>\n",
       "      <th></th>\n",
       "      <th></th>\n",
       "      <th></th>\n",
       "      <th></th>\n",
       "    </tr>\n",
       "  </thead>\n",
       "  <tbody>\n",
       "  </tbody>\n",
       "</table>\n",
       "</div>"
      ],
      "text/plain": [
       "Empty GeoDataFrame\n",
       "Columns: [Join_Count, TARGET_FID, Agg_taz_nu, Taz_name, Arab, arabs_behi, Jewish, Palestinia, U_Orthodox, main_secto, ENG_NAME_n, Muni_Heb, Sug_Muni, CR_PNIM, jeru_metro, zonetype, in_jerusal, SCHN_NAME, geometry, SEA1, SEA2, SEA3, UOA1, UOA2, UOA3, ARA1, ARA2, ARA3, student_chardi_not_gov, student_arab_not_gov, student, Univ_AR, Univ_SE, Univ_UO, emp_uni, univ, yeshiva_dorms_pop_15, yeshiva_dorms_pop_20, yeshiva_dorms_pop_25, yeshiva_dorms_pop_sum, emp_from_Yeshiva_student, Yeshiva, Seminar_dorms_pop_15, Seminar_dorms_pop_20, Seminar_dorms_pop_25, Seminar_dorms_pop_sum, emp_from_Seminar_student, Seminar, kollim_demand, add_from_kollim_demand, student_yeshiva_and_kollim, UO_Hi_Ed, emp_UO_Hi_Ed, jew, emp_from_student, emp_Education, aprt_20, pop, pop_0, pop_10, pop_15, pop_20, pop_25, pop_30, pop_35, pop_40, pop_45, pop_5, pop_50, pop_55, pop_60, pop_65, pop_70, pop_75up, hh_size, student_dorms, pop_without_dorms_yeshiva, pop_20_just_from_aprt, pop_25_just_from_aprt, pop_check]\n",
       "Index: []"
      ]
     },
     "execution_count": 16,
     "metadata": {},
     "output_type": "execute_result"
    }
   ],
   "source": [
    "col=['pop_0',\n",
    " 'pop_10',\n",
    " 'pop_15',\n",
    " 'pop_20',\n",
    " 'pop_25',\n",
    " 'pop_30',\n",
    " 'pop_35',\n",
    " 'pop_40',\n",
    " 'pop_45',\n",
    " 'pop_5',\n",
    " 'pop_50',\n",
    " 'pop_55',\n",
    " 'pop_60',\n",
    " 'pop_65',\n",
    " 'pop_70',\n",
    " 'pop_75up',]\n",
    "\n",
    "taz['pop_check']=round(taz[col].sum(axis=1)-taz['pop'])\n",
    "\n",
    "taz.loc[taz['main_secto']!=\"Palestinian\"].loc[taz['pop_check']!=0]"
   ]
  },
  {
   "cell_type": "markdown",
   "id": "1863c88f",
   "metadata": {},
   "source": [
    "## הוספת תלמידי ישיבה (באזורים חרדיים) אל כמות אוכלוסיה,התפלגות גילים "
   ]
  },
  {
   "cell_type": "code",
   "execution_count": 17,
   "id": "efbf252c",
   "metadata": {},
   "outputs": [],
   "source": [
    "taz['pop_15_just_from_aprt']=taz['pop_15']"
   ]
  },
  {
   "cell_type": "code",
   "execution_count": 18,
   "id": "db0567b1",
   "metadata": {},
   "outputs": [],
   "source": [
    "\n",
    "taz.loc[taz['main_secto']==\"U_Orthodox\",'pop']=taz['pop']+taz['yeshiva_dorms_pop_sum']\n",
    "\n",
    "taz.loc[taz['main_secto']==\"U_Orthodox\",'pop_15']=taz['pop_15']+taz['yeshiva_dorms_pop_15']\n",
    "\n",
    "taz.loc[taz['main_secto']==\"U_Orthodox\",'pop_20']=taz['pop_20']+taz['yeshiva_dorms_pop_20']\n",
    "\n",
    "taz.loc[taz['main_secto']==\"U_Orthodox\",'pop_25']=taz['pop_25']+taz['yeshiva_dorms_pop_25']"
   ]
  },
  {
   "cell_type": "code",
   "execution_count": 19,
   "id": "d2667d70",
   "metadata": {},
   "outputs": [
    {
     "data": {
      "text/html": [
       "<div>\n",
       "<style scoped>\n",
       "    .dataframe tbody tr th:only-of-type {\n",
       "        vertical-align: middle;\n",
       "    }\n",
       "\n",
       "    .dataframe tbody tr th {\n",
       "        vertical-align: top;\n",
       "    }\n",
       "\n",
       "    .dataframe thead th {\n",
       "        text-align: right;\n",
       "    }\n",
       "</style>\n",
       "<table border=\"1\" class=\"dataframe\">\n",
       "  <thead>\n",
       "    <tr style=\"text-align: right;\">\n",
       "      <th></th>\n",
       "      <th>Join_Count</th>\n",
       "      <th>TARGET_FID</th>\n",
       "      <th>Agg_taz_nu</th>\n",
       "      <th>Taz_name</th>\n",
       "      <th>Arab</th>\n",
       "      <th>arabs_behi</th>\n",
       "      <th>Jewish</th>\n",
       "      <th>Palestinia</th>\n",
       "      <th>U_Orthodox</th>\n",
       "      <th>main_secto</th>\n",
       "      <th>ENG_NAME_n</th>\n",
       "      <th>Muni_Heb</th>\n",
       "      <th>Sug_Muni</th>\n",
       "      <th>CR_PNIM</th>\n",
       "      <th>jeru_metro</th>\n",
       "      <th>zonetype</th>\n",
       "      <th>in_jerusal</th>\n",
       "      <th>SCHN_NAME</th>\n",
       "      <th>geometry</th>\n",
       "      <th>SEA1</th>\n",
       "      <th>SEA2</th>\n",
       "      <th>SEA3</th>\n",
       "      <th>UOA1</th>\n",
       "      <th>UOA2</th>\n",
       "      <th>UOA3</th>\n",
       "      <th>ARA1</th>\n",
       "      <th>ARA2</th>\n",
       "      <th>ARA3</th>\n",
       "      <th>student_chardi_not_gov</th>\n",
       "      <th>student_arab_not_gov</th>\n",
       "      <th>student</th>\n",
       "      <th>Univ_AR</th>\n",
       "      <th>Univ_SE</th>\n",
       "      <th>Univ_UO</th>\n",
       "      <th>emp_uni</th>\n",
       "      <th>univ</th>\n",
       "      <th>yeshiva_dorms_pop_15</th>\n",
       "      <th>yeshiva_dorms_pop_20</th>\n",
       "      <th>yeshiva_dorms_pop_25</th>\n",
       "      <th>yeshiva_dorms_pop_sum</th>\n",
       "      <th>emp_from_Yeshiva_student</th>\n",
       "      <th>Yeshiva</th>\n",
       "      <th>Seminar_dorms_pop_15</th>\n",
       "      <th>Seminar_dorms_pop_20</th>\n",
       "      <th>Seminar_dorms_pop_25</th>\n",
       "      <th>Seminar_dorms_pop_sum</th>\n",
       "      <th>emp_from_Seminar_student</th>\n",
       "      <th>Seminar</th>\n",
       "      <th>kollim_demand</th>\n",
       "      <th>add_from_kollim_demand</th>\n",
       "      <th>student_yeshiva_and_kollim</th>\n",
       "      <th>UO_Hi_Ed</th>\n",
       "      <th>emp_UO_Hi_Ed</th>\n",
       "      <th>jew</th>\n",
       "      <th>emp_from_student</th>\n",
       "      <th>emp_Education</th>\n",
       "      <th>aprt_20</th>\n",
       "      <th>pop</th>\n",
       "      <th>pop_0</th>\n",
       "      <th>pop_10</th>\n",
       "      <th>pop_15</th>\n",
       "      <th>pop_20</th>\n",
       "      <th>pop_25</th>\n",
       "      <th>pop_30</th>\n",
       "      <th>pop_35</th>\n",
       "      <th>pop_40</th>\n",
       "      <th>pop_45</th>\n",
       "      <th>pop_5</th>\n",
       "      <th>pop_50</th>\n",
       "      <th>pop_55</th>\n",
       "      <th>pop_60</th>\n",
       "      <th>pop_65</th>\n",
       "      <th>pop_70</th>\n",
       "      <th>pop_75up</th>\n",
       "      <th>hh_size</th>\n",
       "      <th>student_dorms</th>\n",
       "      <th>pop_without_dorms_yeshiva</th>\n",
       "      <th>pop_20_just_from_aprt</th>\n",
       "      <th>pop_25_just_from_aprt</th>\n",
       "      <th>pop_check</th>\n",
       "      <th>pop_15_just_from_aprt</th>\n",
       "    </tr>\n",
       "    <tr>\n",
       "      <th>Taz_num</th>\n",
       "      <th></th>\n",
       "      <th></th>\n",
       "      <th></th>\n",
       "      <th></th>\n",
       "      <th></th>\n",
       "      <th></th>\n",
       "      <th></th>\n",
       "      <th></th>\n",
       "      <th></th>\n",
       "      <th></th>\n",
       "      <th></th>\n",
       "      <th></th>\n",
       "      <th></th>\n",
       "      <th></th>\n",
       "      <th></th>\n",
       "      <th></th>\n",
       "      <th></th>\n",
       "      <th></th>\n",
       "      <th></th>\n",
       "      <th></th>\n",
       "      <th></th>\n",
       "      <th></th>\n",
       "      <th></th>\n",
       "      <th></th>\n",
       "      <th></th>\n",
       "      <th></th>\n",
       "      <th></th>\n",
       "      <th></th>\n",
       "      <th></th>\n",
       "      <th></th>\n",
       "      <th></th>\n",
       "      <th></th>\n",
       "      <th></th>\n",
       "      <th></th>\n",
       "      <th></th>\n",
       "      <th></th>\n",
       "      <th></th>\n",
       "      <th></th>\n",
       "      <th></th>\n",
       "      <th></th>\n",
       "      <th></th>\n",
       "      <th></th>\n",
       "      <th></th>\n",
       "      <th></th>\n",
       "      <th></th>\n",
       "      <th></th>\n",
       "      <th></th>\n",
       "      <th></th>\n",
       "      <th></th>\n",
       "      <th></th>\n",
       "      <th></th>\n",
       "      <th></th>\n",
       "      <th></th>\n",
       "      <th></th>\n",
       "      <th></th>\n",
       "      <th></th>\n",
       "      <th></th>\n",
       "      <th></th>\n",
       "      <th></th>\n",
       "      <th></th>\n",
       "      <th></th>\n",
       "      <th></th>\n",
       "      <th></th>\n",
       "      <th></th>\n",
       "      <th></th>\n",
       "      <th></th>\n",
       "      <th></th>\n",
       "      <th></th>\n",
       "      <th></th>\n",
       "      <th></th>\n",
       "      <th></th>\n",
       "      <th></th>\n",
       "      <th></th>\n",
       "      <th></th>\n",
       "      <th></th>\n",
       "      <th></th>\n",
       "      <th></th>\n",
       "      <th></th>\n",
       "      <th></th>\n",
       "      <th></th>\n",
       "      <th></th>\n",
       "    </tr>\n",
       "  </thead>\n",
       "  <tbody>\n",
       "  </tbody>\n",
       "</table>\n",
       "</div>"
      ],
      "text/plain": [
       "Empty GeoDataFrame\n",
       "Columns: [Join_Count, TARGET_FID, Agg_taz_nu, Taz_name, Arab, arabs_behi, Jewish, Palestinia, U_Orthodox, main_secto, ENG_NAME_n, Muni_Heb, Sug_Muni, CR_PNIM, jeru_metro, zonetype, in_jerusal, SCHN_NAME, geometry, SEA1, SEA2, SEA3, UOA1, UOA2, UOA3, ARA1, ARA2, ARA3, student_chardi_not_gov, student_arab_not_gov, student, Univ_AR, Univ_SE, Univ_UO, emp_uni, univ, yeshiva_dorms_pop_15, yeshiva_dorms_pop_20, yeshiva_dorms_pop_25, yeshiva_dorms_pop_sum, emp_from_Yeshiva_student, Yeshiva, Seminar_dorms_pop_15, Seminar_dorms_pop_20, Seminar_dorms_pop_25, Seminar_dorms_pop_sum, emp_from_Seminar_student, Seminar, kollim_demand, add_from_kollim_demand, student_yeshiva_and_kollim, UO_Hi_Ed, emp_UO_Hi_Ed, jew, emp_from_student, emp_Education, aprt_20, pop, pop_0, pop_10, pop_15, pop_20, pop_25, pop_30, pop_35, pop_40, pop_45, pop_5, pop_50, pop_55, pop_60, pop_65, pop_70, pop_75up, hh_size, student_dorms, pop_without_dorms_yeshiva, pop_20_just_from_aprt, pop_25_just_from_aprt, pop_check, pop_15_just_from_aprt]\n",
       "Index: []"
      ]
     },
     "execution_count": 19,
     "metadata": {},
     "output_type": "execute_result"
    }
   ],
   "source": [
    "col=['pop_0',\n",
    " 'pop_10',\n",
    " 'pop_15',\n",
    " 'pop_20',\n",
    " 'pop_25',\n",
    " 'pop_30',\n",
    " 'pop_35',\n",
    " 'pop_40',\n",
    " 'pop_45',\n",
    " 'pop_5',\n",
    " 'pop_50',\n",
    " 'pop_55',\n",
    " 'pop_60',\n",
    " 'pop_65',\n",
    " 'pop_70',\n",
    " 'pop_75up',]\n",
    "\n",
    "taz['pop_check']=round(taz[col].sum(axis=1)-taz['pop'])\n",
    "\n",
    "taz.loc[taz['main_secto']!=\"Palestinian\"].loc[taz['pop_check']!=0]"
   ]
  },
  {
   "cell_type": "markdown",
   "id": "206b2d14",
   "metadata": {},
   "source": [
    "## כימות מועסקים במרחב צתאל"
   ]
  },
  {
   "cell_type": "code",
   "execution_count": 20,
   "id": "2f32e11c",
   "metadata": {},
   "outputs": [],
   "source": [
    "pre_woman=0.5\n",
    "\n",
    "pre_man=1-pre_woman"
   ]
  },
  {
   "cell_type": "code",
   "execution_count": 21,
   "id": "0cfc5eee",
   "metadata": {},
   "outputs": [],
   "source": [
    "work_age=[ 'pop_25',\n",
    " 'pop_30',\n",
    " 'pop_35',\n",
    " 'pop_40',\n",
    " 'pop_45',\n",
    " 'pop_50',\n",
    " 'pop_55',\n",
    " 'pop_60']\n",
    "\n",
    "under_work_age=[ 'pop_15', 'pop_20']\n",
    "\n",
    "over_work_age=[ 'pop_65', 'pop_70', 'pop_75up']"
   ]
  },
  {
   "cell_type": "code",
   "execution_count": 22,
   "id": "eb487660",
   "metadata": {},
   "outputs": [],
   "source": [
    "taz['work_age']=taz[work_age].sum(axis=1)\n",
    "\n",
    "taz['under_work_age']=taz[under_work_age].sum(axis=1)\n",
    "\n",
    "taz['over_work_age']=taz[over_work_age].sum(axis=1)"
   ]
  },
  {
   "cell_type": "code",
   "execution_count": 23,
   "id": "d2d78477",
   "metadata": {},
   "outputs": [],
   "source": [
    "sector='U_Orthodox'\n",
    "\n",
    "taz.loc[taz['main_secto']==sector,'pop_emp']=taz['work_age']*pre_woman*0.75+taz['work_age']*pre_man*0.55\n",
    "taz.loc[taz['main_secto']==sector,'pop_emp']=taz['pop_emp']+taz['under_work_age']*pre_woman*0.07+taz['under_work_age']*pre_man*0.09\n",
    "taz.loc[taz['main_secto']==sector,'pop_emp']=taz['pop_emp']+taz['over_work_age']*pre_woman*0.05+taz['over_work_age']*pre_man*0.09\n",
    "\n",
    "sector='Jewish'\n",
    "\n",
    "taz.loc[taz['main_secto']==sector,'pop_emp']=taz['work_age']*pre_woman*0.9+taz['work_age']*pre_man*0.92\n",
    "taz.loc[taz['main_secto']==sector,'pop_emp']=taz['pop_emp']+taz['under_work_age']*pre_woman*0.20+taz['under_work_age']*pre_man*0.15\n",
    "taz.loc[taz['main_secto']==sector,'pop_emp']=taz['pop_emp']+taz['over_work_age']*pre_woman*0.2+taz['over_work_age']*pre_man*0.15\n",
    "\n",
    "sector='Arab'\n",
    "\n",
    "taz.loc[taz['main_secto']==sector,'pop_emp']=taz['work_age']*pre_woman*0.25+taz['work_age']*pre_man*0.7\n",
    "taz.loc[taz['main_secto']==sector,'pop_emp']=taz['pop_emp']+taz['under_work_age']*pre_woman*0.2+taz['under_work_age']*pre_man*0.15\n",
    "taz.loc[taz['main_secto']==sector,'pop_emp']=taz['pop_emp']+taz['over_work_age']*pre_woman*0.05+taz['over_work_age']*pre_man*0.09\n",
    "\n",
    "sector='arabs_behined_seperation_wall'\n",
    "\n",
    "taz.loc[taz['main_secto']==sector,'pop_emp']=taz['work_age']*pre_woman*0.25+taz['work_age']*pre_man*0.7\n",
    "taz.loc[taz['main_secto']==sector,'pop_emp']=taz['pop_emp']+taz['under_work_age']*pre_woman*0.2+taz['under_work_age']*pre_man*0.15\n",
    "taz.loc[taz['main_secto']==sector,'pop_emp']=taz['pop_emp']+taz['over_work_age']*pre_woman*0.05+taz['over_work_age']*pre_man*0.09\n"
   ]
  },
  {
   "cell_type": "markdown",
   "id": "30a016c8",
   "metadata": {},
   "source": [
    "## חישוב אבטלה"
   ]
  },
  {
   "cell_type": "code",
   "execution_count": 24,
   "id": "d415a3fb",
   "metadata": {},
   "outputs": [],
   "source": [
    "taz['pop_emp_employed']=0\n",
    "\n",
    "taz.loc[taz['main_secto']==\"U_Orthodox\",'pop_emp_employed']=taz['pop_emp']*0.97\n",
    "\n",
    "taz.loc[taz['main_secto']==\"Jewish\",'pop_emp_employed']=taz['pop_emp']*0.98\n",
    "\n",
    "taz.loc[taz['jew']==0,'pop_emp_employed']=taz['pop_emp']*0.95"
   ]
  },
  {
   "cell_type": "markdown",
   "id": "e72fd7be",
   "metadata": {},
   "source": [
    "## חישוב יוממות"
   ]
  },
  {
   "cell_type": "code",
   "execution_count": 25,
   "id": "8fcfa506",
   "metadata": {},
   "outputs": [],
   "source": [
    "commuting=up_load_shp(r'{}\\background_files\\commuting_230712.shp'.format(software_folder_location))"
   ]
  },
  {
   "cell_type": "code",
   "execution_count": 26,
   "id": "21645b99",
   "metadata": {},
   "outputs": [
    {
     "data": {
      "text/plain": [
       "94000.0"
      ]
     },
     "execution_count": 26,
     "metadata": {},
     "output_type": "execute_result"
    }
   ],
   "source": [
    "taz['commuting']=gpd.sjoin(make_point(taz.reset_index())[['Taz_num','centroid']],commuting[['commuting', 'geometry']]).set_index('Taz_num')['commuting']/100\n",
    "\n",
    "taz['pop_emp_employed_out_of_jtmt_area']=taz['pop_emp_employed']*taz['commuting']\n",
    "\n",
    "emp_left_jtmt_area=taz['pop_emp_employed_out_of_jtmt_area'].sum().item()\n",
    "\n",
    "round(emp_left_jtmt_area,-3)"
   ]
  },
  {
   "cell_type": "code",
   "execution_count": 27,
   "id": "7f72ccef",
   "metadata": {},
   "outputs": [
    {
     "data": {
      "text/plain": [
       "510000.0"
      ]
     },
     "execution_count": 27,
     "metadata": {},
     "output_type": "execute_result"
    }
   ],
   "source": [
    "emp_from_jtmt_area=taz['pop_emp_employed'].sum().item()-emp_left_jtmt_area\n",
    "\n",
    "emp_in_jtmt_area=emp_from_jtmt_area*1.07 #יוממות פנימה מחוץ למרחב\n",
    "\n",
    "round(emp_in_jtmt_area,-3)"
   ]
  },
  {
   "cell_type": "code",
   "execution_count": 28,
   "id": "7bc62ff1",
   "metadata": {},
   "outputs": [
    {
     "data": {
      "text/plain": [
       "484000.0"
      ]
     },
     "execution_count": 28,
     "metadata": {},
     "output_type": "execute_result"
    }
   ],
   "source": [
    "emp_in_jtmt_area_without_mobile=emp_in_jtmt_area*0.95 #הפחחת עובדים ניידים\n",
    "\n",
    "round(emp_in_jtmt_area_without_mobile,-3)"
   ]
  },
  {
   "cell_type": "code",
   "execution_count": 29,
   "id": "6ef875a9",
   "metadata": {},
   "outputs": [],
   "source": [
    "emp_okev=emp_in_jtmt_area_without_mobile-emp_Education-emp_without_palestin_not_okev"
   ]
  },
  {
   "cell_type": "markdown",
   "id": "83ca98c0",
   "metadata": {},
   "source": [
    "## פיזור עוקב"
   ]
  },
  {
   "cell_type": "code",
   "execution_count": 30,
   "id": "0ebeff07",
   "metadata": {},
   "outputs": [],
   "source": [
    "EMP_kibolet['geometry_buff']=EMP_kibolet.buffer(250)\n",
    "\n",
    "EMP_buffer=EMP_kibolet.set_geometry('geometry_buff').query('kayim_emp>0')\n",
    "\n",
    "EMP_buffer=EMP_buffer.dissolve()[['geometry_buff']]\n",
    "\n",
    "taz['taz_area']=taz.area"
   ]
  },
  {
   "cell_type": "code",
   "execution_count": 31,
   "id": "ff021294",
   "metadata": {},
   "outputs": [],
   "source": [
    "emp_buffer_taz=gpd.overlay(EMP_buffer,taz.reset_index())\n",
    "\n",
    "emp_buffer_taz['emp_samll_area']=emp_buffer_taz.area\n",
    "\n",
    "emp_buffer_taz['emp_pre_from_taz']=emp_buffer_taz['emp_samll_area']/emp_buffer_taz['taz_area']"
   ]
  },
  {
   "cell_type": "code",
   "execution_count": 32,
   "id": "3c05c92c",
   "metadata": {
    "scrolled": true
   },
   "outputs": [],
   "source": [
    "taz_num_no_need_okev=emp_buffer_taz.loc[emp_buffer_taz['emp_pre_from_taz']>0.4].Taz_num.to_list()"
   ]
  },
  {
   "cell_type": "code",
   "execution_count": 33,
   "id": "452348ee",
   "metadata": {},
   "outputs": [],
   "source": [
    "taz['okev']=0\n",
    "taz.loc[(~taz.index.isin(taz_num_no_need_okev))&(taz['pop']>0)&(taz['main_secto']!=\"Palestinia\"),'okev']=1\n",
    "\n",
    "taz.loc[taz['main_secto']==\"arabs_behined_seperation_wall\",'okev']=1"
   ]
  },
  {
   "cell_type": "code",
   "execution_count": 34,
   "id": "3c577b92",
   "metadata": {},
   "outputs": [],
   "source": [
    "city_muni=['מודיעין עילית','בית שמש','ירושלים','מודיעין - מכבים - רעות']"
   ]
  },
  {
   "cell_type": "markdown",
   "id": "d0f04db5",
   "metadata": {},
   "source": [
    "## מקדם עוקב"
   ]
  },
  {
   "cell_type": "code",
   "execution_count": 35,
   "id": "ff866567",
   "metadata": {},
   "outputs": [],
   "source": [
    "okev_level=0.15\n",
    "\n",
    "arab_city=taz.query('jew==0 & okev==1')['aprt_20'].sum().item()\n",
    "\n",
    "arab_sub=0\n",
    "\n",
    "ou_sub=taz.query('main_secto==\"U_Orthodox\" & ~Muni_Heb.isin(@city_muni) & okev==1')['aprt_20'].sum().item()"
   ]
  },
  {
   "cell_type": "code",
   "execution_count": 36,
   "id": "64eb71e1",
   "metadata": {},
   "outputs": [],
   "source": [
    "ou_city=taz.query('main_secto==\"U_Orthodox\" & Muni_Heb.isin(@city_muni) & okev==1')['aprt_20'].sum().item()\n",
    "\n",
    "general_city=taz.query('main_secto==\"Jewish\" & Muni_Heb.isin(@city_muni) & okev==1')['aprt_20'].sum().item()\n",
    "\n",
    "general_sub=taz.query('main_secto==\"Jewish\" & ~Muni_Heb.isin(@city_muni) & okev==1')['aprt_20'].sum().item()\n",
    "\n",
    "base_okev_factor=(emp_okev-(okev_level*general_city-okev_level*(ou_sub+arab_city)-2*okev_level*arab_sub))/(general_sub+general_city+ou_city+ou_sub+arab_city+arab_sub)\n",
    "\n",
    "base_okev_factor=round(base_okev_factor,3)"
   ]
  },
  {
   "cell_type": "code",
   "execution_count": 37,
   "id": "9a28cde3",
   "metadata": {},
   "outputs": [],
   "source": [
    "data = [['Jewish', base_okev_factor,base_okev_factor+okev_level],['arab', base_okev_factor-okev_level,base_okev_factor], ['U_Orthodox',base_okev_factor-2*okev_level,base_okev_factor-okev_level]]\n",
    " \n",
    "# Create the pandas DataFrame\n",
    "df = pd.DataFrame(data, columns=['sector', 'sub','city'])\n",
    "okev_factor=df.set_index('sector')\n",
    "okev_factor.to_excel(r'{}\\Intermediates\\okev_factor.xlsx'.format(software_folder_location))"
   ]
  },
  {
   "cell_type": "code",
   "execution_count": 38,
   "id": "f5bc6a17",
   "metadata": {},
   "outputs": [
    {
     "data": {
      "text/plain": [
       "-1640.507337908377"
      ]
     },
     "execution_count": 38,
     "metadata": {},
     "output_type": "execute_result"
    }
   ],
   "source": [
    "taz['emp_okev']=0\n",
    "\n",
    "taz.loc[(taz['jew']==0)&(taz['okev']==1),'emp_okev']=taz['aprt_20']*okev_factor.loc['arab','city']\n",
    "\n",
    "taz.loc[(taz['main_secto']==\"U_Orthodox\")&(~taz['Muni_Heb'].isin(city_muni))&(taz['okev']==1),'emp_okev']=taz['aprt_20']*okev_factor.loc['U_Orthodox','sub']\n",
    "\n",
    "taz.loc[(taz['main_secto']==\"U_Orthodox\")&(taz['Muni_Heb'].isin(city_muni))&(taz['okev']==1),'emp_okev']=taz['aprt_20']*okev_factor.loc['U_Orthodox','city']\n",
    "\n",
    "taz.loc[(taz['main_secto']==\"Jewish\")&(taz['Muni_Heb'].isin(city_muni))&(taz['okev']==1),'emp_okev']=taz['aprt_20']*okev_factor.loc['Jewish','city']\n",
    "\n",
    "taz.loc[(taz['main_secto']==\"Jewish\")&(~taz['Muni_Heb'].isin(city_muni))&(taz['okev']==1),'emp_okev']=taz['aprt_20']*okev_factor.loc['Jewish','sub']\n",
    "\n",
    "taz.emp_okev.sum().item()-emp_okev"
   ]
  },
  {
   "cell_type": "markdown",
   "id": "d8615aa7",
   "metadata": {},
   "source": [
    "## פיצול שכבת לא עוקב לאזורי תנועה"
   ]
  },
  {
   "cell_type": "code",
   "execution_count": 39,
   "id": "d0a412e7",
   "metadata": {},
   "outputs": [
    {
     "name": "stderr",
     "output_type": "stream",
     "text": [
      "C:\\Users\\gidon\\AppData\\Local\\Temp\\ipykernel_30372\\1806380584.py:5: UserWarning: `keep_geom_type=True` in overlay resulted in 279 dropped geometries of different geometry types than df1 has. Set `keep_geom_type=False` to retain all geometries\n",
      "  EMP_kibolet_by_taz=gpd.overlay(taz.reset_index()[['Taz_num','taz_area','geometry']],EMP_kibolet)\n"
     ]
    }
   ],
   "source": [
    "EMP_kibolet['emp_area']=EMP_kibolet.area\n",
    "\n",
    "EMP_kibolet['ID']=EMP_kibolet.index\n",
    "\n",
    "EMP_kibolet_by_taz=gpd.overlay(taz.reset_index()[['Taz_num','taz_area','geometry']],EMP_kibolet)\n",
    "\n",
    "EMP_kibolet_by_taz['small_area']=EMP_kibolet_by_taz.area"
   ]
  },
  {
   "cell_type": "code",
   "execution_count": 40,
   "id": "a40c4d94",
   "metadata": {},
   "outputs": [],
   "source": [
    "EMP_kibolet_by_taz['pre_small_area_emp']=EMP_kibolet_by_taz['small_area']/EMP_kibolet_by_taz['emp_area']\n",
    "\n",
    "EMP_kibolet_by_taz['pre_small_area_taz']=EMP_kibolet_by_taz['small_area']/EMP_kibolet_by_taz['taz_area']\n",
    "\n",
    "EMP_kibolet_by_taz=EMP_kibolet_by_taz.query('(pre_small_area_taz >0.7) | (pre_small_area_emp >0.1)').drop(columns='geometry_buff')\n",
    "\n",
    "EMP_kibolet_by_taz=EMP_kibolet_by_taz.set_index('ID')\n"
   ]
  },
  {
   "cell_type": "code",
   "execution_count": 41,
   "id": "5d4b9325",
   "metadata": {},
   "outputs": [],
   "source": [
    "EMP_kibolet_by_taz['id_area_for_pre']=EMP_kibolet_by_taz.reset_index().groupby(by='ID')['small_area'].sum()\n",
    "\n",
    "EMP_kibolet_by_taz['prec_from_id']=EMP_kibolet_by_taz['small_area']/EMP_kibolet_by_taz['id_area_for_pre']\n",
    "\n",
    "EMP_kibolet_by_taz['emp_without_palestin_in_taz']=EMP_kibolet_by_taz['emp_without_palestin']*EMP_kibolet_by_taz['prec_from_id']\n",
    "\n",
    "taz['emp_not_okev']=drop_geo(EMP_kibolet_by_taz).pivot_table(index='Taz_num',aggfunc='sum')[['emp_without_palestin_in_taz']]\n",
    "\n"
   ]
  },
  {
   "cell_type": "code",
   "execution_count": 42,
   "id": "9968f2f3",
   "metadata": {},
   "outputs": [
    {
     "data": {
      "text/plain": [
       "-1640.5073379084934"
      ]
     },
     "execution_count": 42,
     "metadata": {},
     "output_type": "execute_result"
    }
   ],
   "source": [
    "taz=taz.fillna(0)\n",
    "\n",
    "taz['total_emp']=taz['emp_not_okev']+taz['emp_okev']+taz['emp_Education']\n",
    "\n",
    "taz.query('main_secto!=\"Palestinian\"')['total_emp'].sum()-emp_in_jtmt_area_without_mobile"
   ]
  },
  {
   "cell_type": "markdown",
   "id": "a9e9a3c5",
   "metadata": {},
   "source": [
    "## התפלגות ענפי תעסוקה"
   ]
  },
  {
   "cell_type": "code",
   "execution_count": 43,
   "id": "fdb1eca3",
   "metadata": {},
   "outputs": [],
   "source": [
    "emp_category_type=up_load_shp(r'{}\\background_files\\emp_category_type.shp'.format(software_folder_location)).fillna(0)"
   ]
  },
  {
   "cell_type": "code",
   "execution_count": 44,
   "id": "157ae567",
   "metadata": {},
   "outputs": [],
   "source": [
    "col=['agri', 'Indus', 'Com_hotel', 'Business', 'Public']\n",
    "\n",
    "emp_category_type[col]=emp_category_type[col]/100\n",
    "\n",
    "emp_category_type=gpd.sjoin(make_point(taz.reset_index())[['Taz_num','centroid']],emp_category_type).set_index('Taz_num')"
   ]
  },
  {
   "cell_type": "code",
   "execution_count": 45,
   "id": "43974707",
   "metadata": {},
   "outputs": [],
   "source": [
    "col=['agri', 'Indus', 'Com_hotel', 'Business', 'Public']\n",
    "taz=taz.join(emp_category_type[col]).fillna(0)"
   ]
  },
  {
   "cell_type": "code",
   "execution_count": 46,
   "id": "538879ce",
   "metadata": {},
   "outputs": [],
   "source": [
    "for i in col:\n",
    "    taz['{}'.format(i)]=taz['{}'.format(i)]*(taz['emp_not_okev']+taz['emp_okev'])"
   ]
  },
  {
   "cell_type": "code",
   "execution_count": 47,
   "id": "73d7cde4",
   "metadata": {},
   "outputs": [
    {
     "data": {
      "text/html": [
       "<div>\n",
       "<style scoped>\n",
       "    .dataframe tbody tr th:only-of-type {\n",
       "        vertical-align: middle;\n",
       "    }\n",
       "\n",
       "    .dataframe tbody tr th {\n",
       "        vertical-align: top;\n",
       "    }\n",
       "\n",
       "    .dataframe thead th {\n",
       "        text-align: right;\n",
       "    }\n",
       "</style>\n",
       "<table border=\"1\" class=\"dataframe\">\n",
       "  <thead>\n",
       "    <tr style=\"text-align: right;\">\n",
       "      <th></th>\n",
       "      <th>Join_Count</th>\n",
       "      <th>TARGET_FID</th>\n",
       "      <th>Agg_taz_nu</th>\n",
       "      <th>Taz_name</th>\n",
       "      <th>Arab</th>\n",
       "      <th>arabs_behi</th>\n",
       "      <th>Jewish</th>\n",
       "      <th>Palestinia</th>\n",
       "      <th>U_Orthodox</th>\n",
       "      <th>main_secto</th>\n",
       "      <th>ENG_NAME_n</th>\n",
       "      <th>Muni_Heb</th>\n",
       "      <th>Sug_Muni</th>\n",
       "      <th>CR_PNIM</th>\n",
       "      <th>jeru_metro</th>\n",
       "      <th>zonetype</th>\n",
       "      <th>in_jerusal</th>\n",
       "      <th>SCHN_NAME</th>\n",
       "      <th>geometry</th>\n",
       "      <th>SEA1</th>\n",
       "      <th>SEA2</th>\n",
       "      <th>SEA3</th>\n",
       "      <th>UOA1</th>\n",
       "      <th>UOA2</th>\n",
       "      <th>UOA3</th>\n",
       "      <th>ARA1</th>\n",
       "      <th>ARA2</th>\n",
       "      <th>ARA3</th>\n",
       "      <th>student_chardi_not_gov</th>\n",
       "      <th>student_arab_not_gov</th>\n",
       "      <th>student</th>\n",
       "      <th>Univ_AR</th>\n",
       "      <th>Univ_SE</th>\n",
       "      <th>Univ_UO</th>\n",
       "      <th>emp_uni</th>\n",
       "      <th>univ</th>\n",
       "      <th>yeshiva_dorms_pop_15</th>\n",
       "      <th>yeshiva_dorms_pop_20</th>\n",
       "      <th>yeshiva_dorms_pop_25</th>\n",
       "      <th>yeshiva_dorms_pop_sum</th>\n",
       "      <th>emp_from_Yeshiva_student</th>\n",
       "      <th>Yeshiva</th>\n",
       "      <th>Seminar_dorms_pop_15</th>\n",
       "      <th>Seminar_dorms_pop_20</th>\n",
       "      <th>Seminar_dorms_pop_25</th>\n",
       "      <th>Seminar_dorms_pop_sum</th>\n",
       "      <th>emp_from_Seminar_student</th>\n",
       "      <th>Seminar</th>\n",
       "      <th>kollim_demand</th>\n",
       "      <th>add_from_kollim_demand</th>\n",
       "      <th>student_yeshiva_and_kollim</th>\n",
       "      <th>UO_Hi_Ed</th>\n",
       "      <th>emp_UO_Hi_Ed</th>\n",
       "      <th>jew</th>\n",
       "      <th>emp_from_student</th>\n",
       "      <th>emp_Education</th>\n",
       "      <th>aprt_20</th>\n",
       "      <th>pop</th>\n",
       "      <th>pop_0</th>\n",
       "      <th>pop_10</th>\n",
       "      <th>pop_15</th>\n",
       "      <th>pop_20</th>\n",
       "      <th>pop_25</th>\n",
       "      <th>pop_30</th>\n",
       "      <th>pop_35</th>\n",
       "      <th>pop_40</th>\n",
       "      <th>pop_45</th>\n",
       "      <th>pop_5</th>\n",
       "      <th>pop_50</th>\n",
       "      <th>pop_55</th>\n",
       "      <th>pop_60</th>\n",
       "      <th>pop_65</th>\n",
       "      <th>pop_70</th>\n",
       "      <th>pop_75up</th>\n",
       "      <th>hh_size</th>\n",
       "      <th>student_dorms</th>\n",
       "      <th>pop_without_dorms_yeshiva</th>\n",
       "      <th>pop_20_just_from_aprt</th>\n",
       "      <th>pop_25_just_from_aprt</th>\n",
       "      <th>pop_check</th>\n",
       "      <th>pop_15_just_from_aprt</th>\n",
       "      <th>work_age</th>\n",
       "      <th>under_work_age</th>\n",
       "      <th>over_work_age</th>\n",
       "      <th>pop_emp</th>\n",
       "      <th>pop_emp_employed</th>\n",
       "      <th>commuting</th>\n",
       "      <th>pop_emp_employed_out_of_jtmt_area</th>\n",
       "      <th>taz_area</th>\n",
       "      <th>okev</th>\n",
       "      <th>emp_okev</th>\n",
       "      <th>emp_not_okev</th>\n",
       "      <th>total_emp</th>\n",
       "      <th>agri</th>\n",
       "      <th>Indus</th>\n",
       "      <th>Com_hotel</th>\n",
       "      <th>Business</th>\n",
       "      <th>Public</th>\n",
       "      <th>check_emp_sum</th>\n",
       "    </tr>\n",
       "    <tr>\n",
       "      <th>Taz_num</th>\n",
       "      <th></th>\n",
       "      <th></th>\n",
       "      <th></th>\n",
       "      <th></th>\n",
       "      <th></th>\n",
       "      <th></th>\n",
       "      <th></th>\n",
       "      <th></th>\n",
       "      <th></th>\n",
       "      <th></th>\n",
       "      <th></th>\n",
       "      <th></th>\n",
       "      <th></th>\n",
       "      <th></th>\n",
       "      <th></th>\n",
       "      <th></th>\n",
       "      <th></th>\n",
       "      <th></th>\n",
       "      <th></th>\n",
       "      <th></th>\n",
       "      <th></th>\n",
       "      <th></th>\n",
       "      <th></th>\n",
       "      <th></th>\n",
       "      <th></th>\n",
       "      <th></th>\n",
       "      <th></th>\n",
       "      <th></th>\n",
       "      <th></th>\n",
       "      <th></th>\n",
       "      <th></th>\n",
       "      <th></th>\n",
       "      <th></th>\n",
       "      <th></th>\n",
       "      <th></th>\n",
       "      <th></th>\n",
       "      <th></th>\n",
       "      <th></th>\n",
       "      <th></th>\n",
       "      <th></th>\n",
       "      <th></th>\n",
       "      <th></th>\n",
       "      <th></th>\n",
       "      <th></th>\n",
       "      <th></th>\n",
       "      <th></th>\n",
       "      <th></th>\n",
       "      <th></th>\n",
       "      <th></th>\n",
       "      <th></th>\n",
       "      <th></th>\n",
       "      <th></th>\n",
       "      <th></th>\n",
       "      <th></th>\n",
       "      <th></th>\n",
       "      <th></th>\n",
       "      <th></th>\n",
       "      <th></th>\n",
       "      <th></th>\n",
       "      <th></th>\n",
       "      <th></th>\n",
       "      <th></th>\n",
       "      <th></th>\n",
       "      <th></th>\n",
       "      <th></th>\n",
       "      <th></th>\n",
       "      <th></th>\n",
       "      <th></th>\n",
       "      <th></th>\n",
       "      <th></th>\n",
       "      <th></th>\n",
       "      <th></th>\n",
       "      <th></th>\n",
       "      <th></th>\n",
       "      <th></th>\n",
       "      <th></th>\n",
       "      <th></th>\n",
       "      <th></th>\n",
       "      <th></th>\n",
       "      <th></th>\n",
       "      <th></th>\n",
       "      <th></th>\n",
       "      <th></th>\n",
       "      <th></th>\n",
       "      <th></th>\n",
       "      <th></th>\n",
       "      <th></th>\n",
       "      <th></th>\n",
       "      <th></th>\n",
       "      <th></th>\n",
       "      <th></th>\n",
       "      <th></th>\n",
       "      <th></th>\n",
       "      <th></th>\n",
       "      <th></th>\n",
       "      <th></th>\n",
       "      <th></th>\n",
       "      <th></th>\n",
       "      <th></th>\n",
       "    </tr>\n",
       "  </thead>\n",
       "  <tbody>\n",
       "  </tbody>\n",
       "</table>\n",
       "</div>"
      ],
      "text/plain": [
       "Empty GeoDataFrame\n",
       "Columns: [Join_Count, TARGET_FID, Agg_taz_nu, Taz_name, Arab, arabs_behi, Jewish, Palestinia, U_Orthodox, main_secto, ENG_NAME_n, Muni_Heb, Sug_Muni, CR_PNIM, jeru_metro, zonetype, in_jerusal, SCHN_NAME, geometry, SEA1, SEA2, SEA3, UOA1, UOA2, UOA3, ARA1, ARA2, ARA3, student_chardi_not_gov, student_arab_not_gov, student, Univ_AR, Univ_SE, Univ_UO, emp_uni, univ, yeshiva_dorms_pop_15, yeshiva_dorms_pop_20, yeshiva_dorms_pop_25, yeshiva_dorms_pop_sum, emp_from_Yeshiva_student, Yeshiva, Seminar_dorms_pop_15, Seminar_dorms_pop_20, Seminar_dorms_pop_25, Seminar_dorms_pop_sum, emp_from_Seminar_student, Seminar, kollim_demand, add_from_kollim_demand, student_yeshiva_and_kollim, UO_Hi_Ed, emp_UO_Hi_Ed, jew, emp_from_student, emp_Education, aprt_20, pop, pop_0, pop_10, pop_15, pop_20, pop_25, pop_30, pop_35, pop_40, pop_45, pop_5, pop_50, pop_55, pop_60, pop_65, pop_70, pop_75up, hh_size, student_dorms, pop_without_dorms_yeshiva, pop_20_just_from_aprt, pop_25_just_from_aprt, pop_check, pop_15_just_from_aprt, work_age, under_work_age, over_work_age, pop_emp, pop_emp_employed, commuting, pop_emp_employed_out_of_jtmt_area, taz_area, okev, emp_okev, emp_not_okev, total_emp, agri, Indus, Com_hotel, Business, Public, check_emp_sum]\n",
       "Index: []"
      ]
     },
     "execution_count": 47,
     "metadata": {},
     "output_type": "execute_result"
    }
   ],
   "source": [
    "taz['check_emp_sum']=taz[col].sum(axis=1)-(taz['emp_not_okev']+taz['emp_okev'])\n",
    "\n",
    "taz.query('check_emp_sum>10 |check_emp_sum<-10')"
   ]
  },
  {
   "cell_type": "markdown",
   "id": "95e0cc68",
   "metadata": {},
   "source": [
    "## הוספת סטודנטים אל כמות משקי בית"
   ]
  },
  {
   "cell_type": "code",
   "execution_count": 48,
   "id": "8e6b7713",
   "metadata": {},
   "outputs": [],
   "source": [
    "taz=taz.fillna(0)\n",
    "\n",
    "taz['hh']=taz['aprt_20']+taz['student_dorms']/1.5"
   ]
  },
  {
   "cell_type": "markdown",
   "id": "15cc71d7",
   "metadata": {},
   "source": [
    "## הוספת תלמידי ישיבה (באזורים לא חרדיים) אל כמות אוכלוסיה,התפלגות גילים ומשקי בית (לכלל תלמידי הישיבה)"
   ]
  },
  {
   "cell_type": "code",
   "execution_count": 49,
   "id": "42714de0",
   "metadata": {},
   "outputs": [],
   "source": [
    "taz['hh']=taz['hh']+taz['yeshiva_dorms_pop_sum']"
   ]
  },
  {
   "cell_type": "code",
   "execution_count": 50,
   "id": "b5a1f454",
   "metadata": {},
   "outputs": [],
   "source": [
    "taz.loc[taz['main_secto']!=\"U_Orthodox\",'pop']=taz['pop']+taz['yeshiva_dorms_pop_sum']\n",
    "\n",
    "taz.loc[taz['main_secto']!=\"U_Orthodox\",'pop_15']=taz['pop_15']+taz['yeshiva_dorms_pop_15']\n",
    "\n",
    "taz.loc[taz['main_secto']!=\"U_Orthodox\",'pop_20']=taz['pop_20']+taz['yeshiva_dorms_pop_20']\n",
    "\n",
    "taz.loc[taz['main_secto']!=\"U_Orthodox\",'pop_25']=taz['pop_25']+taz['yeshiva_dorms_pop_25']"
   ]
  },
  {
   "cell_type": "markdown",
   "id": "26046a0a",
   "metadata": {},
   "source": [
    "## הוספת אוכלוסיה פלסטינאית"
   ]
  },
  {
   "cell_type": "code",
   "execution_count": 51,
   "id": "ab51a53c",
   "metadata": {},
   "outputs": [],
   "source": [
    "path=r'{}\\background_files'.format(software_folder_location)\n",
    "taz_demo_pls_2020=up_load_df(path,'taz_demo_pls_2020_and_pre_growth_till_2050')[['Taz_num','pop_2020']].set_index('Taz_num')"
   ]
  },
  {
   "cell_type": "code",
   "execution_count": 52,
   "id": "ea4c8a22",
   "metadata": {},
   "outputs": [],
   "source": [
    "\n",
    "taz.loc[taz['main_secto']=='Palestinian','pop']=taz['pop']+taz_demo_pls_2020['pop_2020']"
   ]
  },
  {
   "cell_type": "code",
   "execution_count": 59,
   "id": "a588fa2f",
   "metadata": {},
   "outputs": [],
   "source": [
    "save_taz_path=r'{}\\Intermediates'.format(software_folder_location)\n",
    "taz.to_excel(r'{}\\taz_before_add_geo.xlsx'.format(save_taz_path))\n"
   ]
  },
  {
   "cell_type": "markdown",
   "id": "34c1d5c0",
   "metadata": {},
   "source": [
    "## ייצוא לבקרה"
   ]
  },
  {
   "cell_type": "code",
   "execution_count": 53,
   "id": "2463d2bf",
   "metadata": {},
   "outputs": [],
   "source": [
    "taz=taz.reset_index()"
   ]
  },
  {
   "cell_type": "code",
   "execution_count": 54,
   "id": "bbc55652",
   "metadata": {},
   "outputs": [
    {
     "data": {
      "text/plain": [
       "0.4971940640095134"
      ]
     },
     "execution_count": 54,
     "metadata": {},
     "output_type": "execute_result"
    }
   ],
   "source": [
    "pre_yeshiva_from_20_30_age=taz[['Yeshiva']].sum().sum()/taz.query('jew==1')[['pop_20_just_from_aprt','pop_25_just_from_aprt']].sum().sum()\n",
    "\n",
    "pre_yeshiva_from_20_30_age"
   ]
  },
  {
   "cell_type": "code",
   "execution_count": 55,
   "id": "f003a657",
   "metadata": {},
   "outputs": [
    {
     "data": {
      "text/plain": [
       "0.3034760359349936"
      ]
     },
     "execution_count": 55,
     "metadata": {},
     "output_type": "execute_result"
    }
   ],
   "source": [
    "pre_uni_from_20_30_age=taz[['univ']].sum().sum()/taz.query('main_secto!=\"Palestinian\"')[['pop_20_just_from_aprt','pop_25_just_from_aprt']].sum().sum()\n",
    "\n",
    "pre_uni_from_20_30_age"
   ]
  },
  {
   "cell_type": "markdown",
   "id": "166ba3e5",
   "metadata": {},
   "source": [
    "## ייצוא בפורמט של מודלים"
   ]
  },
  {
   "cell_type": "markdown",
   "id": "3c44c69e",
   "metadata": {},
   "source": [
    "הפעולה הבאה היא להוסיף אלמנטים גיאוגרפים שהם צריכים בשביל להריץ כמו אזורי חינוך וכו' וכו' שאני חושב שהכי נכון יהיה שזה יהיה בנפרד מהקוד הזה"
   ]
  },
  {
   "cell_type": "code",
   "execution_count": 252,
   "id": "17ee6f94",
   "metadata": {},
   "outputs": [],
   "source": [
    "taz['yosh']=0\n",
    "\n",
    "taz.loc[taz['zonetype']=='Judea and Samaria','yosh']=1\n",
    "\n",
    "taz['jerusalem_city']=0\n",
    "\n",
    "taz.loc[taz['in_jerusal']=='yes','jerusalem_city']=1\n",
    "\n",
    "taz=taz.reset_index()"
   ]
  },
  {
   "cell_type": "code",
   "execution_count": 253,
   "id": "c104fe43",
   "metadata": {},
   "outputs": [],
   "source": [
    "col=['Taz_num',\n",
    "'yosh',\n",
    "'jeru_metro',\n",
    "'jerusalem_city',\n",
    "'main_secto',\n",
    "'hh',\n",
    "'pop',\n",
    "'pop_0',\n",
    "'pop_5',\n",
    "'pop_10',\n",
    "'pop_15',\n",
    "'pop_20',\n",
    "'pop_25',\n",
    "'pop_30',\n",
    "'pop_35',\n",
    "'pop_40',\n",
    "'pop_45',\n",
    "'pop_50',\n",
    "'pop_55',\n",
    "'pop_60',\n",
    "'pop_65',\n",
    "'pop_70',\n",
    "'pop_75up',\n",
    "'total_emp',\n",
    "'Indus',\n",
    "'Com_hotel',\n",
    "'Business',\n",
    "'Public',\n",
    "'emp_Education',\n",
    "'agri',\n",
    "'student',\n",
    "'uni_students',\n",
    "'student_yeshiva_and_kollim',\n",
    "'pop_emp_employed']\n",
    "\n",
    "col_new_name=['TAZ',\n",
    "'yosh',\n",
    "'in_jerusalem_metropolin',\n",
    "'jerusalem_city',\n",
    "'sector',\n",
    "'hh_total',\n",
    "'pop',\n",
    "'age0_4',\n",
    "'age5_9',\n",
    "'age10_14',\n",
    "'age15_19',\n",
    "'age20_24',\n",
    "'age25_29',\n",
    "'age30_34',\n",
    "'age35_39',\n",
    "'age40_44',\n",
    "'age45_49',\n",
    "'age50_54',\n",
    "'age55_59',\n",
    "'age60_64',\n",
    "'age65_69',\n",
    "'age70_74',\n",
    "'age75up',\n",
    "'emp_tot',\n",
    "'indus',\n",
    "'com_hotel',\n",
    "'business',\n",
    "'public',\n",
    "'education',\n",
    "'agri',\n",
    "'student',\n",
    "'univ',\n",
    "'UO_Hi_Ed',\n",
    "'pop_emp_employed']\n",
    "\n",
    "taz=change_cols_names(taz, col, col_new_name)"
   ]
  },
  {
   "cell_type": "code",
   "execution_count": 254,
   "id": "21d0a080",
   "metadata": {},
   "outputs": [],
   "source": [
    "taz.to_excel(r'{}\\forecast_2020_{}.xlsx'.format(output_location,file_date),index=False)"
   ]
  },
  {
   "cell_type": "code",
   "execution_count": 255,
   "id": "8aeec9ab",
   "metadata": {},
   "outputs": [],
   "source": [
    "#load excel file\n",
    "workbook = load_workbook(filename=r'{}\\inputs_outputs.xlsx'.format(software_folder_location))\n",
    "\n",
    "#open workbook\n",
    "sheet = workbook.active\n",
    "\n",
    "#modify the desired cell\n",
    "sheet[\"B4\"] = forecast_version_folder_location\n",
    "sheet[\"B5\"] = False\n",
    "sheet[\"B6\"] = r'{}\\current\\background_files\\TAZ_V4_230518_Published.shp'.format(software_root_folder)\n",
    "\n",
    "#save the file\n",
    "workbook.save(filename=r'{}\\inputs_outputs.xlsx'.format(software_folder_location))"
   ]
  },
  {
   "cell_type": "markdown",
   "id": "219c80d4",
   "metadata": {},
   "source": [
    "## בקרות לוגיות"
   ]
  },
  {
   "cell_type": "code",
   "execution_count": 256,
   "id": "2c03dc03",
   "metadata": {
    "scrolled": true
   },
   "outputs": [
    {
     "data": {
      "text/html": [
       "<div>\n",
       "<style scoped>\n",
       "    .dataframe tbody tr th:only-of-type {\n",
       "        vertical-align: middle;\n",
       "    }\n",
       "\n",
       "    .dataframe tbody tr th {\n",
       "        vertical-align: top;\n",
       "    }\n",
       "\n",
       "    .dataframe thead th {\n",
       "        text-align: right;\n",
       "    }\n",
       "</style>\n",
       "<table border=\"1\" class=\"dataframe\">\n",
       "  <thead>\n",
       "    <tr style=\"text-align: right;\">\n",
       "      <th></th>\n",
       "      <th>TAZ</th>\n",
       "      <th>yosh</th>\n",
       "      <th>in_jerusalem_metropolin</th>\n",
       "      <th>jerusalem_city</th>\n",
       "      <th>sector</th>\n",
       "      <th>hh_total</th>\n",
       "      <th>pop</th>\n",
       "      <th>age0_4</th>\n",
       "      <th>age5_9</th>\n",
       "      <th>age10_14</th>\n",
       "      <th>age15_19</th>\n",
       "      <th>age20_24</th>\n",
       "      <th>age25_29</th>\n",
       "      <th>age30_34</th>\n",
       "      <th>age35_39</th>\n",
       "      <th>age40_44</th>\n",
       "      <th>age45_49</th>\n",
       "      <th>age50_54</th>\n",
       "      <th>age55_59</th>\n",
       "      <th>age60_64</th>\n",
       "      <th>age65_69</th>\n",
       "      <th>age70_74</th>\n",
       "      <th>age75up</th>\n",
       "      <th>emp_tot</th>\n",
       "      <th>indus</th>\n",
       "      <th>com_hotel</th>\n",
       "      <th>business</th>\n",
       "      <th>public</th>\n",
       "      <th>education</th>\n",
       "      <th>agri</th>\n",
       "      <th>student</th>\n",
       "      <th>univ</th>\n",
       "      <th>UO_Hi_Ed</th>\n",
       "      <th>pop_emp_employed</th>\n",
       "    </tr>\n",
       "  </thead>\n",
       "  <tbody>\n",
       "  </tbody>\n",
       "</table>\n",
       "</div>"
      ],
      "text/plain": [
       "Empty DataFrame\n",
       "Columns: [TAZ, yosh, in_jerusalem_metropolin, jerusalem_city, sector, hh_total, pop, age0_4, age5_9, age10_14, age15_19, age20_24, age25_29, age30_34, age35_39, age40_44, age45_49, age50_54, age55_59, age60_64, age65_69, age70_74, age75up, emp_tot, indus, com_hotel, business, public, education, agri, student, univ, UO_Hi_Ed, pop_emp_employed]\n",
       "Index: []"
      ]
     },
     "execution_count": 256,
     "metadata": {},
     "output_type": "execute_result"
    }
   ],
   "source": [
    "taz.loc[taz['TAZ']<=0]"
   ]
  },
  {
   "cell_type": "code",
   "execution_count": 257,
   "id": "8a0fac2d",
   "metadata": {},
   "outputs": [
    {
     "data": {
      "text/plain": [
       "array([0, 1], dtype=int64)"
      ]
     },
     "execution_count": 257,
     "metadata": {},
     "output_type": "execute_result"
    }
   ],
   "source": [
    "taz.yosh.unique()"
   ]
  },
  {
   "cell_type": "code",
   "execution_count": 258,
   "id": "18983b7a",
   "metadata": {},
   "outputs": [
    {
     "data": {
      "text/plain": [
       "array([1., 0.])"
      ]
     },
     "execution_count": 258,
     "metadata": {},
     "output_type": "execute_result"
    }
   ],
   "source": [
    "taz.in_jerusalem_metropolin.unique()"
   ]
  },
  {
   "cell_type": "code",
   "execution_count": 259,
   "id": "bdea01e1",
   "metadata": {},
   "outputs": [
    {
     "data": {
      "text/plain": [
       "array([1, 0], dtype=int64)"
      ]
     },
     "execution_count": 259,
     "metadata": {},
     "output_type": "execute_result"
    }
   ],
   "source": [
    "taz.jerusalem_city.unique()"
   ]
  },
  {
   "cell_type": "code",
   "execution_count": 260,
   "id": "dce32672",
   "metadata": {},
   "outputs": [
    {
     "data": {
      "text/plain": [
       "array(['U_Orthodox', 'arabs_behined_seperation_wall', 'Arab', 'Jewish',\n",
       "       'Palestinian'], dtype=object)"
      ]
     },
     "execution_count": 260,
     "metadata": {},
     "output_type": "execute_result"
    }
   ],
   "source": [
    "taz.sector.unique()"
   ]
  },
  {
   "cell_type": "code",
   "execution_count": 261,
   "id": "96a36660",
   "metadata": {},
   "outputs": [],
   "source": [
    "col=['hh_total',\n",
    "'pop',\n",
    "'age0_4',\n",
    "'age5_9',\n",
    "'age10_14',\n",
    "'age15_19',\n",
    "'age20_24',\n",
    "'age25_29',\n",
    "'age30_34',\n",
    "'age35_39',\n",
    "'age40_44',\n",
    "'age45_49',\n",
    "'age50_54',\n",
    "'age55_59',\n",
    "'age60_64',\n",
    "'age65_69',\n",
    "'age70_74',\n",
    "'age75up',\n",
    "'emp_tot',\n",
    "'indus',\n",
    "'com_hotel',\n",
    "'business',\n",
    "'public',\n",
    "'education',\n",
    "'agri',\n",
    "'student',\n",
    "'univ',\n",
    "'UO_Hi_Ed',\n",
    "'pop_emp_employed']"
   ]
  },
  {
   "cell_type": "code",
   "execution_count": 262,
   "id": "eb46ecea",
   "metadata": {
    "scrolled": true
   },
   "outputs": [],
   "source": [
    "taz_to_check=[]\n",
    "for i in col:\n",
    "    taz_to_check=taz_to_check+list(taz.loc[taz['{}'.format(i)]<0]['TAZ'])"
   ]
  },
  {
   "cell_type": "code",
   "execution_count": 263,
   "id": "971c496d",
   "metadata": {
    "scrolled": true
   },
   "outputs": [
    {
     "data": {
      "text/plain": [
       "[]"
      ]
     },
     "execution_count": 263,
     "metadata": {},
     "output_type": "execute_result"
    }
   ],
   "source": [
    "taz_to_check"
   ]
  },
  {
   "cell_type": "code",
   "execution_count": 264,
   "id": "2dd9793f",
   "metadata": {
    "scrolled": false
   },
   "outputs": [
    {
     "data": {
      "text/html": [
       "<div>\n",
       "<style scoped>\n",
       "    .dataframe tbody tr th:only-of-type {\n",
       "        vertical-align: middle;\n",
       "    }\n",
       "\n",
       "    .dataframe tbody tr th {\n",
       "        vertical-align: top;\n",
       "    }\n",
       "\n",
       "    .dataframe thead th {\n",
       "        text-align: right;\n",
       "    }\n",
       "</style>\n",
       "<table border=\"1\" class=\"dataframe\">\n",
       "  <thead>\n",
       "    <tr style=\"text-align: right;\">\n",
       "      <th></th>\n",
       "      <th>TAZ</th>\n",
       "      <th>yosh</th>\n",
       "      <th>in_jerusalem_metropolin</th>\n",
       "      <th>jerusalem_city</th>\n",
       "      <th>sector</th>\n",
       "      <th>hh_total</th>\n",
       "      <th>pop</th>\n",
       "      <th>age0_4</th>\n",
       "      <th>age5_9</th>\n",
       "      <th>age10_14</th>\n",
       "      <th>age15_19</th>\n",
       "      <th>age20_24</th>\n",
       "      <th>age25_29</th>\n",
       "      <th>age30_34</th>\n",
       "      <th>age35_39</th>\n",
       "      <th>age40_44</th>\n",
       "      <th>age45_49</th>\n",
       "      <th>age50_54</th>\n",
       "      <th>age55_59</th>\n",
       "      <th>age60_64</th>\n",
       "      <th>age65_69</th>\n",
       "      <th>age70_74</th>\n",
       "      <th>age75up</th>\n",
       "      <th>emp_tot</th>\n",
       "      <th>indus</th>\n",
       "      <th>com_hotel</th>\n",
       "      <th>business</th>\n",
       "      <th>public</th>\n",
       "      <th>education</th>\n",
       "      <th>agri</th>\n",
       "      <th>student</th>\n",
       "      <th>univ</th>\n",
       "      <th>UO_Hi_Ed</th>\n",
       "      <th>pop_emp_employed</th>\n",
       "    </tr>\n",
       "  </thead>\n",
       "  <tbody>\n",
       "  </tbody>\n",
       "</table>\n",
       "</div>"
      ],
      "text/plain": [
       "Empty DataFrame\n",
       "Columns: [TAZ, yosh, in_jerusalem_metropolin, jerusalem_city, sector, hh_total, pop, age0_4, age5_9, age10_14, age15_19, age20_24, age25_29, age30_34, age35_39, age40_44, age45_49, age50_54, age55_59, age60_64, age65_69, age70_74, age75up, emp_tot, indus, com_hotel, business, public, education, agri, student, univ, UO_Hi_Ed, pop_emp_employed]\n",
       "Index: []"
      ]
     },
     "execution_count": 264,
     "metadata": {},
     "output_type": "execute_result"
    }
   ],
   "source": [
    "taz.loc[~(taz['hh_total']<=taz['pop'])]"
   ]
  },
  {
   "cell_type": "code",
   "execution_count": 265,
   "id": "6478d5a4",
   "metadata": {
    "scrolled": true
   },
   "outputs": [
    {
     "data": {
      "text/html": [
       "<div>\n",
       "<style scoped>\n",
       "    .dataframe tbody tr th:only-of-type {\n",
       "        vertical-align: middle;\n",
       "    }\n",
       "\n",
       "    .dataframe tbody tr th {\n",
       "        vertical-align: top;\n",
       "    }\n",
       "\n",
       "    .dataframe thead th {\n",
       "        text-align: right;\n",
       "    }\n",
       "</style>\n",
       "<table border=\"1\" class=\"dataframe\">\n",
       "  <thead>\n",
       "    <tr style=\"text-align: right;\">\n",
       "      <th></th>\n",
       "      <th>TAZ</th>\n",
       "      <th>yosh</th>\n",
       "      <th>in_jerusalem_metropolin</th>\n",
       "      <th>jerusalem_city</th>\n",
       "      <th>sector</th>\n",
       "      <th>hh_total</th>\n",
       "      <th>pop</th>\n",
       "      <th>age0_4</th>\n",
       "      <th>age5_9</th>\n",
       "      <th>age10_14</th>\n",
       "      <th>age15_19</th>\n",
       "      <th>age20_24</th>\n",
       "      <th>age25_29</th>\n",
       "      <th>age30_34</th>\n",
       "      <th>age35_39</th>\n",
       "      <th>age40_44</th>\n",
       "      <th>age45_49</th>\n",
       "      <th>age50_54</th>\n",
       "      <th>age55_59</th>\n",
       "      <th>age60_64</th>\n",
       "      <th>age65_69</th>\n",
       "      <th>age70_74</th>\n",
       "      <th>age75up</th>\n",
       "      <th>emp_tot</th>\n",
       "      <th>indus</th>\n",
       "      <th>com_hotel</th>\n",
       "      <th>business</th>\n",
       "      <th>public</th>\n",
       "      <th>education</th>\n",
       "      <th>agri</th>\n",
       "      <th>student</th>\n",
       "      <th>univ</th>\n",
       "      <th>UO_Hi_Ed</th>\n",
       "      <th>pop_emp_employed</th>\n",
       "    </tr>\n",
       "  </thead>\n",
       "  <tbody>\n",
       "  </tbody>\n",
       "</table>\n",
       "</div>"
      ],
      "text/plain": [
       "Empty DataFrame\n",
       "Columns: [TAZ, yosh, in_jerusalem_metropolin, jerusalem_city, sector, hh_total, pop, age0_4, age5_9, age10_14, age15_19, age20_24, age25_29, age30_34, age35_39, age40_44, age45_49, age50_54, age55_59, age60_64, age65_69, age70_74, age75up, emp_tot, indus, com_hotel, business, public, education, agri, student, univ, UO_Hi_Ed, pop_emp_employed]\n",
       "Index: []"
      ]
     },
     "execution_count": 265,
     "metadata": {},
     "output_type": "execute_result"
    }
   ],
   "source": [
    "taz.loc[taz['sector']!=\"Palestinian\"].loc[taz['hh_total']>0].loc[taz['pop']<=0]"
   ]
  },
  {
   "cell_type": "code",
   "execution_count": 266,
   "id": "43c734e1",
   "metadata": {},
   "outputs": [],
   "source": [
    "col=['age0_4',\n",
    "'age5_9',\n",
    "'age10_14',\n",
    "'age15_19',\n",
    "'age20_24',\n",
    "'age25_29',\n",
    "'age30_34',\n",
    "'age35_39',\n",
    "'age40_44',\n",
    "'age45_49',\n",
    "'age50_54',\n",
    "'age55_59',\n",
    "'age60_64',\n",
    "'age65_69',\n",
    "'age70_74',\n",
    "'age75up',]\n",
    "\n",
    "taz['pop_check']=round(taz[col].sum(axis=1)-taz['pop'])"
   ]
  },
  {
   "cell_type": "code",
   "execution_count": 267,
   "id": "e9d56913",
   "metadata": {
    "scrolled": true
   },
   "outputs": [
    {
     "data": {
      "text/html": [
       "<div>\n",
       "<style scoped>\n",
       "    .dataframe tbody tr th:only-of-type {\n",
       "        vertical-align: middle;\n",
       "    }\n",
       "\n",
       "    .dataframe tbody tr th {\n",
       "        vertical-align: top;\n",
       "    }\n",
       "\n",
       "    .dataframe thead th {\n",
       "        text-align: right;\n",
       "    }\n",
       "</style>\n",
       "<table border=\"1\" class=\"dataframe\">\n",
       "  <thead>\n",
       "    <tr style=\"text-align: right;\">\n",
       "      <th></th>\n",
       "      <th>TAZ</th>\n",
       "      <th>yosh</th>\n",
       "      <th>in_jerusalem_metropolin</th>\n",
       "      <th>jerusalem_city</th>\n",
       "      <th>sector</th>\n",
       "      <th>hh_total</th>\n",
       "      <th>pop</th>\n",
       "      <th>age0_4</th>\n",
       "      <th>age5_9</th>\n",
       "      <th>age10_14</th>\n",
       "      <th>age15_19</th>\n",
       "      <th>age20_24</th>\n",
       "      <th>age25_29</th>\n",
       "      <th>age30_34</th>\n",
       "      <th>age35_39</th>\n",
       "      <th>age40_44</th>\n",
       "      <th>age45_49</th>\n",
       "      <th>age50_54</th>\n",
       "      <th>age55_59</th>\n",
       "      <th>age60_64</th>\n",
       "      <th>age65_69</th>\n",
       "      <th>age70_74</th>\n",
       "      <th>age75up</th>\n",
       "      <th>emp_tot</th>\n",
       "      <th>indus</th>\n",
       "      <th>com_hotel</th>\n",
       "      <th>business</th>\n",
       "      <th>public</th>\n",
       "      <th>education</th>\n",
       "      <th>agri</th>\n",
       "      <th>student</th>\n",
       "      <th>univ</th>\n",
       "      <th>UO_Hi_Ed</th>\n",
       "      <th>pop_emp_employed</th>\n",
       "      <th>pop_check</th>\n",
       "    </tr>\n",
       "  </thead>\n",
       "  <tbody>\n",
       "  </tbody>\n",
       "</table>\n",
       "</div>"
      ],
      "text/plain": [
       "Empty DataFrame\n",
       "Columns: [TAZ, yosh, in_jerusalem_metropolin, jerusalem_city, sector, hh_total, pop, age0_4, age5_9, age10_14, age15_19, age20_24, age25_29, age30_34, age35_39, age40_44, age45_49, age50_54, age55_59, age60_64, age65_69, age70_74, age75up, emp_tot, indus, com_hotel, business, public, education, agri, student, univ, UO_Hi_Ed, pop_emp_employed, pop_check]\n",
       "Index: []"
      ]
     },
     "execution_count": 267,
     "metadata": {},
     "output_type": "execute_result"
    }
   ],
   "source": [
    "taz.loc[taz['sector']!=\"Palestinian\"].loc[taz['pop_check']!=0].query('TAZ==511')#.to_excel('delet.xlsx')#[col].sum(axis=1)"
   ]
  },
  {
   "cell_type": "code",
   "execution_count": 268,
   "id": "20bbf335",
   "metadata": {
    "scrolled": true
   },
   "outputs": [
    {
     "data": {
      "text/plain": [
       "0"
      ]
     },
     "execution_count": 268,
     "metadata": {},
     "output_type": "execute_result"
    }
   ],
   "source": [
    "len(taz.loc[taz['sector']!=\"Palestinian\"].loc[taz['pop_check']!=0])"
   ]
  },
  {
   "cell_type": "code",
   "execution_count": 269,
   "id": "59887389",
   "metadata": {
    "scrolled": true
   },
   "outputs": [
    {
     "data": {
      "text/html": [
       "<div>\n",
       "<style scoped>\n",
       "    .dataframe tbody tr th:only-of-type {\n",
       "        vertical-align: middle;\n",
       "    }\n",
       "\n",
       "    .dataframe tbody tr th {\n",
       "        vertical-align: top;\n",
       "    }\n",
       "\n",
       "    .dataframe thead th {\n",
       "        text-align: right;\n",
       "    }\n",
       "</style>\n",
       "<table border=\"1\" class=\"dataframe\">\n",
       "  <thead>\n",
       "    <tr style=\"text-align: right;\">\n",
       "      <th></th>\n",
       "      <th>TAZ</th>\n",
       "      <th>yosh</th>\n",
       "      <th>in_jerusalem_metropolin</th>\n",
       "      <th>jerusalem_city</th>\n",
       "      <th>sector</th>\n",
       "      <th>hh_total</th>\n",
       "      <th>pop</th>\n",
       "      <th>age0_4</th>\n",
       "      <th>age5_9</th>\n",
       "      <th>age10_14</th>\n",
       "      <th>age15_19</th>\n",
       "      <th>age20_24</th>\n",
       "      <th>age25_29</th>\n",
       "      <th>age30_34</th>\n",
       "      <th>age35_39</th>\n",
       "      <th>age40_44</th>\n",
       "      <th>age45_49</th>\n",
       "      <th>age50_54</th>\n",
       "      <th>age55_59</th>\n",
       "      <th>age60_64</th>\n",
       "      <th>age65_69</th>\n",
       "      <th>age70_74</th>\n",
       "      <th>age75up</th>\n",
       "      <th>emp_tot</th>\n",
       "      <th>indus</th>\n",
       "      <th>com_hotel</th>\n",
       "      <th>business</th>\n",
       "      <th>public</th>\n",
       "      <th>education</th>\n",
       "      <th>agri</th>\n",
       "      <th>student</th>\n",
       "      <th>univ</th>\n",
       "      <th>UO_Hi_Ed</th>\n",
       "      <th>pop_emp_employed</th>\n",
       "      <th>pop_check</th>\n",
       "    </tr>\n",
       "  </thead>\n",
       "  <tbody>\n",
       "  </tbody>\n",
       "</table>\n",
       "</div>"
      ],
      "text/plain": [
       "Empty DataFrame\n",
       "Columns: [TAZ, yosh, in_jerusalem_metropolin, jerusalem_city, sector, hh_total, pop, age0_4, age5_9, age10_14, age15_19, age20_24, age25_29, age30_34, age35_39, age40_44, age45_49, age50_54, age55_59, age60_64, age65_69, age70_74, age75up, emp_tot, indus, com_hotel, business, public, education, agri, student, univ, UO_Hi_Ed, pop_emp_employed, pop_check]\n",
       "Index: []"
      ]
     },
     "execution_count": 269,
     "metadata": {},
     "output_type": "execute_result"
    }
   ],
   "source": [
    "taz.loc[taz['sector']!=\"Palestinian\"].loc[taz['pop']>0].loc[taz['hh_total']<=0]"
   ]
  },
  {
   "cell_type": "code",
   "execution_count": 270,
   "id": "2363e35a",
   "metadata": {},
   "outputs": [],
   "source": [
    "col=[\n",
    "'age0_4',\n",
    "'age5_9',\n",
    "'age10_14',\n",
    "'age15_19',\n",
    "'age20_24',\n",
    "'age25_29',\n",
    "'age30_34',\n",
    "'age35_39',\n",
    "'age40_44',\n",
    "'age45_49',\n",
    "'age50_54',\n",
    "'age55_59',\n",
    "'age60_64',\n",
    "'age65_69',\n",
    "'age70_74',\n",
    "'age75up']"
   ]
  },
  {
   "cell_type": "code",
   "execution_count": 271,
   "id": "db72a666",
   "metadata": {
    "scrolled": true
   },
   "outputs": [],
   "source": [
    "taz_to_check=[]\n",
    "for i in col:\n",
    "    taz_to_check=taz_to_check+list(taz.loc[taz['{}'.format(i)]>0].loc[taz['pop']<=0]['TAZ'])\n",
    "    taz_to_check=taz_to_check+list(taz.loc[taz['{}'.format(i)]>0].loc[taz['hh_total']<=0]['TAZ'])"
   ]
  },
  {
   "cell_type": "code",
   "execution_count": 272,
   "id": "35e2ce5b",
   "metadata": {
    "scrolled": true
   },
   "outputs": [
    {
     "data": {
      "text/plain": [
       "[]"
      ]
     },
     "execution_count": 272,
     "metadata": {},
     "output_type": "execute_result"
    }
   ],
   "source": [
    "taz_to_check"
   ]
  },
  {
   "cell_type": "code",
   "execution_count": 273,
   "id": "942205c6",
   "metadata": {},
   "outputs": [],
   "source": [
    "col=['indus',\n",
    "'com_hotel',\n",
    "'business',\n",
    "'public',\n",
    "'education',\n",
    "'agri']"
   ]
  },
  {
   "cell_type": "code",
   "execution_count": 274,
   "id": "0feb931d",
   "metadata": {},
   "outputs": [],
   "source": [
    "taz['emp_check']=round(taz[col].sum(axis=1)-taz['emp_tot'])"
   ]
  },
  {
   "cell_type": "code",
   "execution_count": 275,
   "id": "b833bf57",
   "metadata": {
    "scrolled": true
   },
   "outputs": [
    {
     "data": {
      "text/html": [
       "<div>\n",
       "<style scoped>\n",
       "    .dataframe tbody tr th:only-of-type {\n",
       "        vertical-align: middle;\n",
       "    }\n",
       "\n",
       "    .dataframe tbody tr th {\n",
       "        vertical-align: top;\n",
       "    }\n",
       "\n",
       "    .dataframe thead th {\n",
       "        text-align: right;\n",
       "    }\n",
       "</style>\n",
       "<table border=\"1\" class=\"dataframe\">\n",
       "  <thead>\n",
       "    <tr style=\"text-align: right;\">\n",
       "      <th></th>\n",
       "      <th>TAZ</th>\n",
       "      <th>yosh</th>\n",
       "      <th>in_jerusalem_metropolin</th>\n",
       "      <th>jerusalem_city</th>\n",
       "      <th>sector</th>\n",
       "      <th>hh_total</th>\n",
       "      <th>pop</th>\n",
       "      <th>age0_4</th>\n",
       "      <th>age5_9</th>\n",
       "      <th>age10_14</th>\n",
       "      <th>age15_19</th>\n",
       "      <th>age20_24</th>\n",
       "      <th>age25_29</th>\n",
       "      <th>age30_34</th>\n",
       "      <th>age35_39</th>\n",
       "      <th>age40_44</th>\n",
       "      <th>age45_49</th>\n",
       "      <th>age50_54</th>\n",
       "      <th>age55_59</th>\n",
       "      <th>age60_64</th>\n",
       "      <th>age65_69</th>\n",
       "      <th>age70_74</th>\n",
       "      <th>age75up</th>\n",
       "      <th>emp_tot</th>\n",
       "      <th>indus</th>\n",
       "      <th>com_hotel</th>\n",
       "      <th>business</th>\n",
       "      <th>public</th>\n",
       "      <th>education</th>\n",
       "      <th>agri</th>\n",
       "      <th>student</th>\n",
       "      <th>univ</th>\n",
       "      <th>UO_Hi_Ed</th>\n",
       "      <th>pop_emp_employed</th>\n",
       "      <th>pop_check</th>\n",
       "      <th>emp_check</th>\n",
       "    </tr>\n",
       "  </thead>\n",
       "  <tbody>\n",
       "  </tbody>\n",
       "</table>\n",
       "</div>"
      ],
      "text/plain": [
       "Empty DataFrame\n",
       "Columns: [TAZ, yosh, in_jerusalem_metropolin, jerusalem_city, sector, hh_total, pop, age0_4, age5_9, age10_14, age15_19, age20_24, age25_29, age30_34, age35_39, age40_44, age45_49, age50_54, age55_59, age60_64, age65_69, age70_74, age75up, emp_tot, indus, com_hotel, business, public, education, agri, student, univ, UO_Hi_Ed, pop_emp_employed, pop_check, emp_check]\n",
       "Index: []"
      ]
     },
     "execution_count": 275,
     "metadata": {},
     "output_type": "execute_result"
    }
   ],
   "source": [
    "taz.loc[taz['sector']!=\"Palestinian\"].loc[taz['emp_check']!=0]"
   ]
  },
  {
   "cell_type": "code",
   "execution_count": 276,
   "id": "7e37c96a",
   "metadata": {
    "scrolled": true
   },
   "outputs": [],
   "source": [
    "taz_to_check=[]\n",
    "for i in col:\n",
    "    taz_to_check=taz_to_check+list(taz.loc[taz['{}'.format(i)]>0].loc[taz['emp_tot']<=0]['TAZ'])"
   ]
  },
  {
   "cell_type": "code",
   "execution_count": 277,
   "id": "81e09b2e",
   "metadata": {
    "scrolled": true
   },
   "outputs": [
    {
     "data": {
      "text/plain": [
       "[]"
      ]
     },
     "execution_count": 277,
     "metadata": {},
     "output_type": "execute_result"
    }
   ],
   "source": [
    "taz_to_check"
   ]
  },
  {
   "cell_type": "code",
   "execution_count": 278,
   "id": "e4a46880",
   "metadata": {
    "scrolled": false
   },
   "outputs": [
    {
     "data": {
      "text/html": [
       "<div>\n",
       "<style scoped>\n",
       "    .dataframe tbody tr th:only-of-type {\n",
       "        vertical-align: middle;\n",
       "    }\n",
       "\n",
       "    .dataframe tbody tr th {\n",
       "        vertical-align: top;\n",
       "    }\n",
       "\n",
       "    .dataframe thead th {\n",
       "        text-align: right;\n",
       "    }\n",
       "</style>\n",
       "<table border=\"1\" class=\"dataframe\">\n",
       "  <thead>\n",
       "    <tr style=\"text-align: right;\">\n",
       "      <th></th>\n",
       "      <th>TAZ</th>\n",
       "      <th>yosh</th>\n",
       "      <th>in_jerusalem_metropolin</th>\n",
       "      <th>jerusalem_city</th>\n",
       "      <th>sector</th>\n",
       "      <th>hh_total</th>\n",
       "      <th>pop</th>\n",
       "      <th>age0_4</th>\n",
       "      <th>age5_9</th>\n",
       "      <th>age10_14</th>\n",
       "      <th>age15_19</th>\n",
       "      <th>age20_24</th>\n",
       "      <th>age25_29</th>\n",
       "      <th>age30_34</th>\n",
       "      <th>age35_39</th>\n",
       "      <th>age40_44</th>\n",
       "      <th>age45_49</th>\n",
       "      <th>age50_54</th>\n",
       "      <th>age55_59</th>\n",
       "      <th>age60_64</th>\n",
       "      <th>age65_69</th>\n",
       "      <th>age70_74</th>\n",
       "      <th>age75up</th>\n",
       "      <th>emp_tot</th>\n",
       "      <th>indus</th>\n",
       "      <th>com_hotel</th>\n",
       "      <th>business</th>\n",
       "      <th>public</th>\n",
       "      <th>education</th>\n",
       "      <th>agri</th>\n",
       "      <th>student</th>\n",
       "      <th>univ</th>\n",
       "      <th>UO_Hi_Ed</th>\n",
       "      <th>pop_emp_employed</th>\n",
       "      <th>pop_check</th>\n",
       "      <th>emp_check</th>\n",
       "    </tr>\n",
       "  </thead>\n",
       "  <tbody>\n",
       "  </tbody>\n",
       "</table>\n",
       "</div>"
      ],
      "text/plain": [
       "Empty DataFrame\n",
       "Columns: [TAZ, yosh, in_jerusalem_metropolin, jerusalem_city, sector, hh_total, pop, age0_4, age5_9, age10_14, age15_19, age20_24, age25_29, age30_34, age35_39, age40_44, age45_49, age50_54, age55_59, age60_64, age65_69, age70_74, age75up, emp_tot, indus, com_hotel, business, public, education, agri, student, univ, UO_Hi_Ed, pop_emp_employed, pop_check, emp_check]\n",
       "Index: []"
      ]
     },
     "execution_count": 278,
     "metadata": {},
     "output_type": "execute_result"
    }
   ],
   "source": [
    "taz.loc[taz['sector']!=\"Palestinian\"].loc[taz['pop_emp_employed']>0].loc[taz['pop']<=0]"
   ]
  }
 ],
 "metadata": {
  "kernelspec": {
   "display_name": "Python 3 (ipykernel)",
   "language": "python",
   "name": "python3"
  },
  "language_info": {
   "codemirror_mode": {
    "name": "ipython",
    "version": 3
   },
   "file_extension": ".py",
   "mimetype": "text/x-python",
   "name": "python",
   "nbconvert_exporter": "python",
   "pygments_lexer": "ipython3",
   "version": "3.11.5"
  },
  "toc": {
   "base_numbering": 1,
   "nav_menu": {},
   "number_sections": true,
   "sideBar": true,
   "skip_h1_title": false,
   "title_cell": "Table of Contents",
   "title_sidebar": "Contents",
   "toc_cell": false,
   "toc_position": {
    "height": "calc(100% - 180px)",
    "left": "10px",
    "top": "150px",
    "width": "347.297px"
   },
   "toc_section_display": true,
   "toc_window_display": true
  }
 },
 "nbformat": 4,
 "nbformat_minor": 5
}
