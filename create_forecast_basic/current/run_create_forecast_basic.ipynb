{
 "cells": [
  {
   "cell_type": "code",
   "execution_count": null,
   "metadata": {},
   "outputs": [],
   "source": [
    "import os\n",
    "\n",
    "def delete_folder_contents(folder_path):\n",
    "    for filename in os.listdir(folder_path):\n",
    "        file_path = os.path.join(folder_path, filename)\n",
    "        # Check if the path is a file or directory\n",
    "        if os.path.isfile(file_path):\n",
    "            # If it's a file, delete it\n",
    "            os.remove(file_path)\n",
    "        elif os.path.isdir(file_path):\n",
    "            # If it's a directory, recursively delete its contents\n",
    "            delete_folder_contents(file_path)\n",
    "            # After deleting the contents, remove the directory itself\n",
    "            os.rmdir(file_path)\n",
    "\n",
    "folder_path = './Intermediates'\n",
    "delete_folder_contents(folder_path)"
   ]
  },
  {
   "cell_type": "code",
   "execution_count": null,
   "metadata": {},
   "outputs": [],
   "source": [
    "%run \"./fix_cbs_data_230717.ipynb\"\n",
    "%run \"./from_sa_cbs_to_ta_jtmt.ipynb\"\n",
    "%run \"./create_gov_student_num_by_muni.ipynb\"\n",
    "%run \"./prepare_students.ipynb\"\n",
    "%run \"./emp_current_year.ipynb\"\n",
    "%run \"./add_geo_info_and_export.ipynb\"\n",
    "%run \"./Determining_type_of_age_distribution_230719.ipynb\""
   ]
  }
 ],
 "metadata": {
  "kernelspec": {
   "display_name": "creat_forecast_ad_hoc_env",
   "language": "python",
   "name": "python3"
  },
  "language_info": {
   "codemirror_mode": {
    "name": "ipython",
    "version": 3
   },
   "file_extension": ".py",
   "mimetype": "text/x-python",
   "name": "python",
   "nbconvert_exporter": "python",
   "pygments_lexer": "ipython3",
   "version": "3.11.5"
  }
 },
 "nbformat": 4,
 "nbformat_minor": 2
}
