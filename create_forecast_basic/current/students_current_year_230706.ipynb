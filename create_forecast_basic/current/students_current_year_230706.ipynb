{
 "cells": [
  {
   "cell_type": "markdown",
   "id": "65e4c2ef",
   "metadata": {},
   "source": [
    "## הגדרות ומקדים"
   ]
  },
  {
   "cell_type": "code",
   "execution_count": 1,
   "id": "a43ce0cf",
   "metadata": {},
   "outputs": [],
   "source": [
    "\n",
    "\n",
    "import pandas as pd\n",
    "import geopandas as gpd\n",
    "import numpy as np\n",
    "from shapely import wkt\n",
    "from matplotlib import pyplot as plt \n",
    "import folium\n",
    "import fiona\n",
    "from shapely.geometry import Point\n"
   ]
  },
  {
   "cell_type": "code",
   "execution_count": 2,
   "id": "e351ed54",
   "metadata": {},
   "outputs": [],
   "source": [
    "pd.set_option('display.max_rows', None)\n",
    "pd.set_option('display.max_columns', None)\n",
    "pd.set_option('display.float_format', lambda x: '%.3f' % x)\n"
   ]
  },
  {
   "cell_type": "markdown",
   "id": "9624443e",
   "metadata": {},
   "source": [
    "## פונקציות"
   ]
  },
  {
   "cell_type": "code",
   "execution_count": 3,
   "id": "d69c42ff",
   "metadata": {},
   "outputs": [],
   "source": [
    "def double_taz_num(df):\n",
    "    dup_taz_num=df.groupby(['Taz_num']).size().reset_index(name='count').query('count>1').Taz_num.to_list()\n",
    "    return df.loc[df['Taz_num'].isin(dup_taz_num)]"
   ]
  },
  {
   "cell_type": "code",
   "execution_count": 4,
   "id": "d048994a",
   "metadata": {},
   "outputs": [],
   "source": [
    "def make_point(df):\n",
    "    df_point=df.copy()\n",
    "    df_point['centroid'] = df_point.representative_point()\n",
    "    df_point=df_point.set_geometry('centroid')\n",
    "    df_point=df_point.drop(columns=['geometry'],axis=1)\n",
    "    return df_point"
   ]
  },
  {
   "cell_type": "code",
   "execution_count": 5,
   "id": "86bf5cad",
   "metadata": {},
   "outputs": [],
   "source": [
    "def up_load_gdb(path,layer_name):\n",
    "    path='{}'.format(path)\n",
    "    layer_list=fiona.listlayers(path)\n",
    "    gpd_layer=gpd.read_file(path, layer=layer_list.index(layer_name))\n",
    "    return gpd_layer"
   ]
  },
  {
   "cell_type": "code",
   "execution_count": 6,
   "id": "6acc6aa7",
   "metadata": {},
   "outputs": [],
   "source": [
    "def up_load_shp(path):\n",
    "    path='{}'.format(path)\n",
    "    gpd_layer=gpd.read_file(path)\n",
    "    return gpd_layer"
   ]
  },
  {
   "cell_type": "code",
   "execution_count": 7,
   "id": "cb093800",
   "metadata": {},
   "outputs": [],
   "source": [
    "def unique_id_in_one_taz(df_to_geoode,unique_field,gpd_for_geocode,taz):\n",
    "    \n",
    "    code_to_find=list(df_to_geoode[unique_field].unique())\n",
    "\n",
    "    gpd_for_geocode_to_sum_by_taz=gpd_for_geocode[[unique_field,'geometry']].loc[gpd_for_geocode[unique_field].isin(code_to_find)]\n",
    "\n",
    "    gpd_for_geocode_to_sum_by_taz=gpd.sjoin(taz[['Taz_num','geometry']],gpd_for_geocode_to_sum_by_taz)\n",
    "\n",
    "    gpd_for_geocode_in_one_taz=list(gpd_for_geocode_to_sum_by_taz.groupby(unique_field)[['Taz_num']].nunique().query('Taz_num==1').reset_index()[unique_field])\n",
    "\n",
    "    return gpd_for_geocode_in_one_taz"
   ]
  },
  {
   "cell_type": "code",
   "execution_count": 8,
   "id": "b1a16060",
   "metadata": {},
   "outputs": [],
   "source": [
    "def up_load_df(folder_path,file_name):\n",
    "    \n",
    "    path_df=r'{}\\{}.xlsx'.format(folder_path,file_name)\n",
    "    df=pd.read_excel(path_df)\n",
    "    df=df.dropna(how='all')\n",
    "\n",
    "    return df\n"
   ]
  },
  {
   "cell_type": "markdown",
   "id": "9e298bcd",
   "metadata": {},
   "source": [
    "## העלת שכבות רלוונטים"
   ]
  },
  {
   "cell_type": "code",
   "execution_count": 9,
   "id": "81aaada5",
   "metadata": {},
   "outputs": [],
   "source": [
    "#העלת משתנים להרצת הקוד\n",
    "df_inputs_outputs = pd.read_excel('inputs_outputs.xlsx')\n",
    "\n",
    "software_data_folder_location=df_inputs_outputs['location'][0]\n",
    "\n",
    "forecast_version_folder_location=df_inputs_outputs['location'][1]\n"
   ]
  },
  {
   "cell_type": "code",
   "execution_count": 10,
   "id": "cb448638",
   "metadata": {},
   "outputs": [],
   "source": [
    "path=r'{}\\background_files\\student_metro.gdb'.format(software_data_folder_location)\n",
    "student_gov=up_load_gdb(path,'student_metro_211102')"
   ]
  },
  {
   "cell_type": "code",
   "execution_count": 13,
   "id": "88af0b97",
   "metadata": {},
   "outputs": [],
   "source": [
    "muni_JTMT=up_load_shp(r'{}\\background_files\\muni_under_JTMT_ITM.shp'.format(software_data_folder_location))"
   ]
  },
  {
   "cell_type": "code",
   "execution_count": 14,
   "id": "662da841",
   "metadata": {},
   "outputs": [],
   "source": [
    "path=r'{}\\background_files'.format(software_data_folder_location)\n",
    "student_chardi_not_gov=up_load_df(path,'מוסדות חינוך של המתבדלים _מעובד')"
   ]
  },
  {
   "cell_type": "code",
   "execution_count": 15,
   "id": "19baae07",
   "metadata": {},
   "outputs": [],
   "source": [
    "student_chardi_not_gov = gpd.GeoDataFrame(\n",
    "    student_chardi_not_gov, geometry=gpd.points_from_xy(student_chardi_not_gov['x'], student_chardi_not_gov['y'],crs=2039))"
   ]
  },
  {
   "cell_type": "code",
   "execution_count": 16,
   "id": "3d48a393",
   "metadata": {},
   "outputs": [],
   "source": [
    "student_chardi_not_gov=student_chardi_not_gov[['num_students','geometry']]"
   ]
  },
  {
   "cell_type": "code",
   "execution_count": 17,
   "id": "e03fc44e",
   "metadata": {},
   "outputs": [],
   "source": [
    "path=r'{}\\background_files'.format(software_data_folder_location)\n",
    "student_arab_not_gov=up_load_df(path,'מוסדות_חינוך_270616')"
   ]
  },
  {
   "cell_type": "code",
   "execution_count": 18,
   "id": "124d13c6",
   "metadata": {},
   "outputs": [],
   "source": [
    "path=r'{}\\Intermediates'.format(software_data_folder_location)\n",
    "taz=up_load_df(path,'taz_with_pop_info')"
   ]
  },
  {
   "cell_type": "code",
   "execution_count": 19,
   "id": "c7d284df",
   "metadata": {},
   "outputs": [],
   "source": [
    "taz_border=up_load_shp(r'{}\\background_files\\TAZ_V4_230518_Published.shp'.format(software_data_folder_location))"
   ]
  },
  {
   "cell_type": "code",
   "execution_count": 20,
   "id": "8ecceddf",
   "metadata": {},
   "outputs": [],
   "source": [
    "taz=taz_border.merge(taz,on='Taz_num',how='left')"
   ]
  },
  {
   "cell_type": "code",
   "execution_count": 21,
   "id": "7d98919d",
   "metadata": {},
   "outputs": [],
   "source": [
    "col=['pop_0',\n",
    " 'pop_10',\n",
    " 'pop_15',\n",
    " 'pop_20',\n",
    " 'pop_25',\n",
    " 'pop_30',\n",
    " 'pop_35',\n",
    " 'pop_40',\n",
    " 'pop_45',\n",
    " 'pop_5',\n",
    " 'pop_50',\n",
    " 'pop_55',\n",
    " 'pop_60',\n",
    " 'pop_65',\n",
    " 'pop_70',\n",
    " 'pop_75up',]\n",
    "\n",
    "taz['pop_check']=round(taz[col].sum(axis=1)-taz['pop'])"
   ]
  },
  {
   "cell_type": "code",
   "execution_count": 22,
   "id": "a9de87fb",
   "metadata": {},
   "outputs": [],
   "source": [
    "student_yeshiva=up_load_shp(r'{}\\background_files\\yeshiva.shp'.format(software_data_folder_location))\n"
   ]
  },
  {
   "cell_type": "code",
   "execution_count": 23,
   "id": "4c14e664",
   "metadata": {},
   "outputs": [],
   "source": [
    "\n",
    "student_yeshiva=gpd.sjoin(taz[['Taz_num','geometry']],student_yeshiva).pivot_table(index='Taz_num',aggfunc=sum)[[\n",
    " 'dorms_p00-',\n",
    " 'dorms_p21-',\n",
    " 'dorms_p26-',\n",
    " 'dorms_tota',\n",
    " 'emp', 'students']]\n",
    "\n",
    "\n",
    "old_col=list(student_yeshiva)\n",
    "\n",
    "new_col=['yeshiva_dorms_pop_15', 'yeshiva_dorms_pop_20', 'yeshiva_dorms_pop_25', 'yeshiva_dorms_pop_sum', 'emp_from_Yeshiva_student', 'student_yeshiva']\n",
    "\n",
    "student_yeshiva.columns=new_col"
   ]
  },
  {
   "cell_type": "markdown",
   "id": "8dad22f6",
   "metadata": {},
   "source": [
    "## מעונות"
   ]
  },
  {
   "cell_type": "code",
   "execution_count": 24,
   "id": "169011ec",
   "metadata": {},
   "outputs": [],
   "source": [
    "taz['student_toddlers']=taz['pop_0']/5*3*0.5 # 3 שנתונים עם השתתפות של חמישים אחוז"
   ]
  },
  {
   "cell_type": "code",
   "execution_count": 25,
   "id": "b2ed0c8b",
   "metadata": {},
   "outputs": [],
   "source": [
    "taz=taz.set_index('Taz_num')"
   ]
  },
  {
   "cell_type": "markdown",
   "id": "05304dda",
   "metadata": {},
   "source": [
    "## בית ספר"
   ]
  },
  {
   "cell_type": "code",
   "execution_count": 26,
   "id": "cab1dbbd",
   "metadata": {},
   "outputs": [],
   "source": [
    "taz['student_gov']=gpd.sjoin(taz.reset_index(),student_gov).pivot_table(index='Taz_num',aggfunc=sum)[['num_of_students']]"
   ]
  },
  {
   "cell_type": "code",
   "execution_count": 27,
   "id": "58f06114",
   "metadata": {},
   "outputs": [],
   "source": [
    "col=['CR_PNIM','Muni_Heb']"
   ]
  },
  {
   "cell_type": "code",
   "execution_count": 28,
   "id": "df8ed5ce",
   "metadata": {},
   "outputs": [],
   "source": [
    "muni_JTMT=muni_JTMT[col]"
   ]
  },
  {
   "cell_type": "code",
   "execution_count": 29,
   "id": "b63c3d0a",
   "metadata": {},
   "outputs": [],
   "source": [
    "muni_JTMT['CR_PNIM']=muni_JTMT['CR_PNIM'].astype(int)"
   ]
  },
  {
   "cell_type": "code",
   "execution_count": 30,
   "id": "cceaa2f5",
   "metadata": {},
   "outputs": [],
   "source": [
    "# Define the directory path\n",
    "directory_path = r'{}\\background_files'.format(software_data_folder_location)\n",
    "\n",
    "# Load each DataFrame separately\n",
    "df1 = up_load_df(directory_path, 'cbs_student_2020_by_muni_3')\n",
    "df2 = up_load_df(directory_path, 'cbs_student_2020_by_muni_1')\n",
    "df3 = up_load_df(directory_path, 'cbs_student_2020_by_muni_2')\n",
    "\n",
    "# Concatenate the DataFrames\n",
    "student_gov_by_muni = pd.concat([df1, df2, df3])"
   ]
  },
  {
   "cell_type": "code",
   "execution_count": 31,
   "id": "fbbab6ad",
   "metadata": {
    "code_folding": []
   },
   "outputs": [],
   "source": [
    "col=[ 'סמל_יישוב','ילדים_בגנים_של_משרד_החינוך_גיל_3_תש_ף_2019_20',\n",
    " 'ילדים_בגנים_של_משרד_החינוך_גיל_4_תש_ף_2019_20',\n",
    " 'ילדים_בגנים_של_משרד_החינוך_גיל_5_תש_ף_2019_20',\n",
    " 'ילדים_בגנים_של_משרד_החינוך_גיל_6_תש_ף_2019_20',\n",
    " 'תלמידים_בבתי_ספר_יסודיים_תש_ף_2019_20',\n",
    " 'תלמידים_בבתי_ספר_עליסודיים_תש_ף_2019_20',\n",
    " 'תלמידים_בחטיבות_ביניים_תש_ף_2019_20',\n",
    " 'תלמידים_בבתי_ספר_תיכוניים_תש_ף_2019_20']"
   ]
  },
  {
   "cell_type": "code",
   "execution_count": 32,
   "id": "2cf7b10e",
   "metadata": {
    "scrolled": true
   },
   "outputs": [],
   "source": [
    "student_gov_by_muni=student_gov_by_muni[col]"
   ]
  },
  {
   "cell_type": "code",
   "execution_count": 33,
   "id": "c56845bc",
   "metadata": {
    "scrolled": true
   },
   "outputs": [],
   "source": [
    "student_gov_by_muni=student_gov_by_muni.merge(muni_JTMT,left_on='סמל_יישוב',right_on='CR_PNIM')"
   ]
  },
  {
   "cell_type": "code",
   "execution_count": 34,
   "id": "df6b373a",
   "metadata": {},
   "outputs": [],
   "source": [
    "student_gov_by_muni=student_gov_by_muni.drop_duplicates(subset='CR_PNIM',keep='first')"
   ]
  },
  {
   "cell_type": "code",
   "execution_count": 35,
   "id": "af96ca71",
   "metadata": {
    "code_folding": [
     0
    ]
   },
   "outputs": [],
   "source": [
    "col=[ 'ילדים_בגנים_של_משרד_החינוך_גיל_3_תש_ף_2019_20',\n",
    " 'ילדים_בגנים_של_משרד_החינוך_גיל_4_תש_ף_2019_20',\n",
    " 'ילדים_בגנים_של_משרד_החינוך_גיל_5_תש_ף_2019_20',\n",
    " 'ילדים_בגנים_של_משרד_החינוך_גיל_6_תש_ף_2019_20',\n",
    " 'תלמידים_בבתי_ספר_יסודיים_תש_ף_2019_20',\n",
    " 'תלמידים_בחטיבות_ביניים_תש_ף_2019_20',\n",
    " 'תלמידים_בבתי_ספר_תיכוניים_תש_ף_2019_20']"
   ]
  },
  {
   "cell_type": "code",
   "execution_count": 36,
   "id": "75b7e27e",
   "metadata": {},
   "outputs": [],
   "source": [
    "student_gov_by_muni['student_gov']=student_gov_by_muni[col].sum(axis=1)"
   ]
  },
  {
   "cell_type": "code",
   "execution_count": 37,
   "id": "2d7d12e4",
   "metadata": {},
   "outputs": [],
   "source": [
    "col=[ 'CR_PNIM','Muni_Heb','student_gov']\n",
    "student_gov_by_muni=student_gov_by_muni[col].set_index('CR_PNIM').fillna(0)"
   ]
  },
  {
   "cell_type": "code",
   "execution_count": 38,
   "id": "0a1f7952",
   "metadata": {},
   "outputs": [],
   "source": [
    "taz['CR_PNIM']=taz['CR_PNIM'].astype(int)"
   ]
  },
  {
   "cell_type": "code",
   "execution_count": 39,
   "id": "bf6e0a05",
   "metadata": {},
   "outputs": [],
   "source": [
    "jtmt_muni_student_gov=taz.pivot_table(index='CR_PNIM',aggfunc=sum)[['student_gov']].fillna(0)"
   ]
  },
  {
   "cell_type": "code",
   "execution_count": 40,
   "id": "3d109402",
   "metadata": {},
   "outputs": [],
   "source": [
    "delta=jtmt_muni_student_gov.merge(student_gov_by_muni,left_index=True,right_index=True,suffixes=('_JTMT','_MUNI'),how='outer').fillna(0)"
   ]
  },
  {
   "cell_type": "code",
   "execution_count": 41,
   "id": "ab6956a5",
   "metadata": {
    "scrolled": true
   },
   "outputs": [],
   "source": [
    "delta['delta_student']=delta[['student_gov_JTMT','student_gov_MUNI']].max(axis=1)-delta['student_gov_JTMT']"
   ]
  },
  {
   "cell_type": "code",
   "execution_count": 42,
   "id": "fd5cd7b0",
   "metadata": {},
   "outputs": [],
   "source": [
    "col=['CR_PNIM','delta_student']"
   ]
  },
  {
   "cell_type": "code",
   "execution_count": 43,
   "id": "1863dadf",
   "metadata": {},
   "outputs": [],
   "source": [
    "taz=taz.reset_index().merge(delta.reset_index()[col],on='CR_PNIM',how='left')"
   ]
  },
  {
   "cell_type": "code",
   "execution_count": 44,
   "id": "acaf3fa1",
   "metadata": {},
   "outputs": [],
   "source": [
    "taz['student_demand']=taz['pop_0']/5*2+taz['pop_5']+taz['pop_10']+taz['pop_15']/5*3"
   ]
  },
  {
   "cell_type": "code",
   "execution_count": 45,
   "id": "b840cfcf",
   "metadata": {},
   "outputs": [],
   "source": [
    "taz['student_demand_left']=taz['student_demand']-taz['student_gov']\n",
    "taz.loc[taz['student_demand_left']<0,'student_demand_left']=0"
   ]
  },
  {
   "cell_type": "code",
   "execution_count": 46,
   "id": "22bd21f3",
   "metadata": {},
   "outputs": [],
   "source": [
    "taz=taz.set_index('CR_PNIM')"
   ]
  },
  {
   "cell_type": "code",
   "execution_count": 47,
   "id": "74c62857",
   "metadata": {},
   "outputs": [],
   "source": [
    "taz['student_demand_left_sum_by_muni']=taz.groupby(by='CR_PNIM').sum()[['student_demand_left']]"
   ]
  },
  {
   "cell_type": "code",
   "execution_count": 48,
   "id": "22a5e450",
   "metadata": {},
   "outputs": [],
   "source": [
    "taz['student_demand_left_pre']=taz['student_demand_left']/taz['student_demand_left_sum_by_muni']"
   ]
  },
  {
   "cell_type": "code",
   "execution_count": 49,
   "id": "ba219ac9",
   "metadata": {},
   "outputs": [],
   "source": [
    "taz['cbs_muni_student_left_by_pre_of_demand_left']=taz['student_demand_left_pre']*taz['delta_student']"
   ]
  },
  {
   "cell_type": "markdown",
   "id": "801af75a",
   "metadata": {},
   "source": [
    "## תלמידים בירושלים לפי מגזר"
   ]
  },
  {
   "cell_type": "code",
   "execution_count": 50,
   "id": "3664ae18",
   "metadata": {},
   "outputs": [],
   "source": [
    "taz['jew']=0\n",
    "taz.loc[(taz['main_secto']==\"Jewish\") |( taz['main_secto']==\"U_Orthodox\"),'jew']=1"
   ]
  },
  {
   "cell_type": "code",
   "execution_count": 51,
   "id": "d2ede2d0",
   "metadata": {
    "scrolled": true
   },
   "outputs": [
    {
     "data": {
      "text/html": [
       "<div>\n",
       "<style scoped>\n",
       "    .dataframe tbody tr th:only-of-type {\n",
       "        vertical-align: middle;\n",
       "    }\n",
       "\n",
       "    .dataframe tbody tr th {\n",
       "        vertical-align: top;\n",
       "    }\n",
       "\n",
       "    .dataframe thead th {\n",
       "        text-align: right;\n",
       "    }\n",
       "</style>\n",
       "<table border=\"1\" class=\"dataframe\">\n",
       "  <thead>\n",
       "    <tr style=\"text-align: right;\">\n",
       "      <th></th>\n",
       "      <th>student_gov</th>\n",
       "      <th>cbs_muni_student_left_by_pre_of_demand_left</th>\n",
       "    </tr>\n",
       "    <tr>\n",
       "      <th>jew</th>\n",
       "      <th></th>\n",
       "      <th></th>\n",
       "    </tr>\n",
       "  </thead>\n",
       "  <tbody>\n",
       "    <tr>\n",
       "      <th>0</th>\n",
       "      <td>58227.000</td>\n",
       "      <td>10315.312</td>\n",
       "    </tr>\n",
       "    <tr>\n",
       "      <th>1</th>\n",
       "      <td>191795.000</td>\n",
       "      <td>9940.688</td>\n",
       "    </tr>\n",
       "  </tbody>\n",
       "</table>\n",
       "</div>"
      ],
      "text/plain": [
       "     student_gov  cbs_muni_student_left_by_pre_of_demand_left\n",
       "jew                                                          \n",
       "0      58227.000                                    10315.312\n",
       "1     191795.000                                     9940.688"
      ]
     },
     "execution_count": 51,
     "metadata": {},
     "output_type": "execute_result"
    }
   ],
   "source": [
    "taz.query('Muni_Heb==\"ירושלים\"').groupby(by='jew').sum()[['student_gov','cbs_muni_student_left_by_pre_of_demand_left']]"
   ]
  },
  {
   "cell_type": "markdown",
   "id": "59e1307b",
   "metadata": {},
   "source": [
    "מקור נתוני חינוך לפי מגזר:https://jerusaleminstitute.org.il/wp-content/uploads/2021/05/shnaton_L0121-1.pdf"
   ]
  },
  {
   "attachments": {
    "image.png": {
     "image/png": "[encoded data removed]"
    }
   },
   "cell_type": "markdown",
   "id": "d8d4507d",
   "metadata": {},
   "source": [
    "![image.png](attachment:image.png)"
   ]
  },
  {
   "cell_type": "code",
   "execution_count": 52,
   "id": "7f92acaa",
   "metadata": {},
   "outputs": [],
   "source": [
    "jeru_muni_arab_sum_demand=taz.groupby(by=['CR_PNIM','jew']).sum()[['student_demand']].loc[[3000][0],0].item()"
   ]
  },
  {
   "cell_type": "code",
   "execution_count": 53,
   "id": "d6b33558",
   "metadata": {},
   "outputs": [
    {
     "data": {
      "text/plain": [
       "125858.59175622901"
      ]
     },
     "execution_count": 53,
     "metadata": {},
     "output_type": "execute_result"
    }
   ],
   "source": [
    "jeru_muni_arab_sum_demand"
   ]
  },
  {
   "cell_type": "code",
   "execution_count": 54,
   "id": "762487d6",
   "metadata": {},
   "outputs": [],
   "source": [
    "taz=taz.reset_index()"
   ]
  },
  {
   "cell_type": "code",
   "execution_count": 55,
   "id": "bd9d3b4b",
   "metadata": {},
   "outputs": [],
   "source": [
    "taz.loc[(taz['jew']==0)&( taz['Muni_Heb']==\"ירושלים\"),'student_demand_pre']=taz['student_demand']/jeru_muni_arab_sum_demand"
   ]
  },
  {
   "cell_type": "code",
   "execution_count": 56,
   "id": "c339ba8a",
   "metadata": {},
   "outputs": [
    {
     "data": {
      "text/plain": [
       "0.9999999999999999"
      ]
     },
     "execution_count": 56,
     "metadata": {},
     "output_type": "execute_result"
    }
   ],
   "source": [
    "taz.loc[(taz['jew']==0) &( taz['Muni_Heb']==\"ירושלים\")]['student_demand_pre'].sum()"
   ]
  },
  {
   "cell_type": "code",
   "execution_count": 57,
   "id": "e3dcfc79",
   "metadata": {},
   "outputs": [],
   "source": [
    "taz.loc[(taz['jew']==0) &( taz['Muni_Heb']==\"ירושלים\"),'cbs_muni_student_left_by_pre_of_demand']=taz['student_demand_pre']*(97600-taz.query('Muni_Heb==\"ירושלים\"').groupby(by='jew').sum()['student_gov'].loc[0])"
   ]
  },
  {
   "cell_type": "code",
   "execution_count": 58,
   "id": "581ad3e3",
   "metadata": {},
   "outputs": [],
   "source": [
    "taz.loc[ taz['Muni_Heb']==\"ירושלים\",'cbs_muni_student_left_by_pre_of_demand_left']=0 # בגלל שנתוני מכון ירושלים משמע שבשכת נק' מצאנו יותר תלמידים מאשר המספר הרשמי"
   ]
  },
  {
   "cell_type": "code",
   "execution_count": 59,
   "id": "82629131",
   "metadata": {
    "scrolled": true
   },
   "outputs": [
    {
     "data": {
      "text/html": [
       "<div>\n",
       "<style scoped>\n",
       "    .dataframe tbody tr th:only-of-type {\n",
       "        vertical-align: middle;\n",
       "    }\n",
       "\n",
       "    .dataframe tbody tr th {\n",
       "        vertical-align: top;\n",
       "    }\n",
       "\n",
       "    .dataframe thead th {\n",
       "        text-align: right;\n",
       "    }\n",
       "</style>\n",
       "<table border=\"1\" class=\"dataframe\">\n",
       "  <thead>\n",
       "    <tr style=\"text-align: right;\">\n",
       "      <th></th>\n",
       "      <th>student_gov</th>\n",
       "      <th>cbs_muni_student_left_by_pre_of_demand_left</th>\n",
       "      <th>cbs_muni_student_left_by_pre_of_demand</th>\n",
       "    </tr>\n",
       "    <tr>\n",
       "      <th>jew</th>\n",
       "      <th></th>\n",
       "      <th></th>\n",
       "      <th></th>\n",
       "    </tr>\n",
       "  </thead>\n",
       "  <tbody>\n",
       "    <tr>\n",
       "      <th>0</th>\n",
       "      <td>58227.000</td>\n",
       "      <td>0.000</td>\n",
       "      <td>39373.000</td>\n",
       "    </tr>\n",
       "    <tr>\n",
       "      <th>1</th>\n",
       "      <td>191795.000</td>\n",
       "      <td>0.000</td>\n",
       "      <td>0.000</td>\n",
       "    </tr>\n",
       "  </tbody>\n",
       "</table>\n",
       "</div>"
      ],
      "text/plain": [
       "     student_gov  cbs_muni_student_left_by_pre_of_demand_left  \\\n",
       "jew                                                             \n",
       "0      58227.000                                        0.000   \n",
       "1     191795.000                                        0.000   \n",
       "\n",
       "     cbs_muni_student_left_by_pre_of_demand  \n",
       "jew                                          \n",
       "0                                 39373.000  \n",
       "1                                     0.000  "
      ]
     },
     "execution_count": 59,
     "metadata": {},
     "output_type": "execute_result"
    }
   ],
   "source": [
    "taz.query('Muni_Heb==\"ירושלים\"').groupby(by='jew').sum()[['student_gov','cbs_muni_student_left_by_pre_of_demand_left','cbs_muni_student_left_by_pre_of_demand']]"
   ]
  },
  {
   "cell_type": "code",
   "execution_count": 60,
   "id": "1b83afbd",
   "metadata": {},
   "outputs": [],
   "source": [
    "col=['student_gov','cbs_muni_student_left_by_pre_of_demand_left','cbs_muni_student_left_by_pre_of_demand','student_toddlers']"
   ]
  },
  {
   "cell_type": "code",
   "execution_count": 61,
   "id": "d0cb5e54",
   "metadata": {},
   "outputs": [],
   "source": [
    "taz['student_for_Control']=taz[col].sum(axis=1)"
   ]
  },
  {
   "cell_type": "code",
   "execution_count": 62,
   "id": "1a2de1b2",
   "metadata": {},
   "outputs": [
    {
     "data": {
      "text/html": [
       "<div>\n",
       "<style scoped>\n",
       "    .dataframe tbody tr th:only-of-type {\n",
       "        vertical-align: middle;\n",
       "    }\n",
       "\n",
       "    .dataframe tbody tr th {\n",
       "        vertical-align: top;\n",
       "    }\n",
       "\n",
       "    .dataframe thead th {\n",
       "        text-align: right;\n",
       "    }\n",
       "</style>\n",
       "<table border=\"1\" class=\"dataframe\">\n",
       "  <thead>\n",
       "    <tr style=\"text-align: right;\">\n",
       "      <th></th>\n",
       "      <th>student_for_Control</th>\n",
       "    </tr>\n",
       "    <tr>\n",
       "      <th>jew</th>\n",
       "      <th></th>\n",
       "    </tr>\n",
       "  </thead>\n",
       "  <tbody>\n",
       "    <tr>\n",
       "      <th>0</th>\n",
       "      <td>110952.344</td>\n",
       "    </tr>\n",
       "    <tr>\n",
       "      <th>1</th>\n",
       "      <td>215239.387</td>\n",
       "    </tr>\n",
       "  </tbody>\n",
       "</table>\n",
       "</div>"
      ],
      "text/plain": [
       "     student_for_Control\n",
       "jew                     \n",
       "0             110952.344\n",
       "1             215239.387"
      ]
     },
     "execution_count": 62,
     "metadata": {},
     "output_type": "execute_result"
    }
   ],
   "source": [
    "taz.query('Muni_Heb==\"ירושלים\"').groupby(by='jew').sum()[['student_for_Control']]"
   ]
  },
  {
   "cell_type": "markdown",
   "id": "77672910",
   "metadata": {},
   "source": [
    "## תלמידים לא במשרד החינוך"
   ]
  },
  {
   "cell_type": "code",
   "execution_count": 63,
   "id": "e3a3a3d6",
   "metadata": {},
   "outputs": [],
   "source": [
    "taz=taz.set_index('Taz_num')"
   ]
  },
  {
   "cell_type": "code",
   "execution_count": 64,
   "id": "8d2b3f4e",
   "metadata": {},
   "outputs": [],
   "source": [
    "taz['student_chardi_not_gov']=gpd.sjoin(taz.reset_index(),student_chardi_not_gov).pivot_table(index='Taz_num',aggfunc=sum)[['num_students']]"
   ]
  },
  {
   "cell_type": "code",
   "execution_count": 65,
   "id": "c6bc59a4",
   "metadata": {},
   "outputs": [],
   "source": [
    "student_arab_not_gov=student_arab_not_gov.pivot_table(index='Taz_num',aggfunc=sum)[['num_student']]"
   ]
  },
  {
   "cell_type": "code",
   "execution_count": 66,
   "id": "45253df9",
   "metadata": {},
   "outputs": [],
   "source": [
    "taz['student_arab_not_gov']=student_arab_not_gov[['num_student']]"
   ]
  },
  {
   "cell_type": "markdown",
   "id": "6448238a",
   "metadata": {},
   "source": [
    "## סך תלמידים"
   ]
  },
  {
   "cell_type": "code",
   "execution_count": 67,
   "id": "c3a7cbc8",
   "metadata": {},
   "outputs": [],
   "source": [
    "taz=taz.fillna(0)"
   ]
  },
  {
   "cell_type": "code",
   "execution_count": 68,
   "id": "e83bef6c",
   "metadata": {},
   "outputs": [],
   "source": [
    "col=['student_for_Control','student_chardi_not_gov','student_arab_not_gov','student_toddlers']"
   ]
  },
  {
   "cell_type": "code",
   "execution_count": 69,
   "id": "14468658",
   "metadata": {},
   "outputs": [],
   "source": [
    "taz['student']=taz[col].sum(axis=1)"
   ]
  },
  {
   "cell_type": "markdown",
   "id": "f70601d7",
   "metadata": {},
   "source": [
    "## השכלה גבוהה"
   ]
  },
  {
   "cell_type": "code",
   "execution_count": 70,
   "id": "32091b2c",
   "metadata": {},
   "outputs": [],
   "source": [
    "uni=up_load_df(r'{}\\background_files'.format(software_data_folder_location),'uni_students')"
   ]
  },
  {
   "cell_type": "code",
   "execution_count": 71,
   "id": "227e1125",
   "metadata": {
    "scrolled": true
   },
   "outputs": [],
   "source": [
    "uni = gpd.GeoDataFrame(\n",
    "    uni, geometry= gpd.GeoSeries.from_wkt(uni['geometry']),crs=4326)"
   ]
  },
  {
   "cell_type": "code",
   "execution_count": 72,
   "id": "3e48cb99",
   "metadata": {},
   "outputs": [],
   "source": [
    "uni=uni.to_crs(crs=2039)"
   ]
  },
  {
   "cell_type": "code",
   "execution_count": 73,
   "id": "e9f51240",
   "metadata": {},
   "outputs": [],
   "source": [
    "uni=uni.fillna(0)"
   ]
  },
  {
   "cell_type": "code",
   "execution_count": 74,
   "id": "87cf6322",
   "metadata": {},
   "outputs": [],
   "source": [
    "employ_high_edu=up_load_df(r'{}\\background_files'.format(software_data_folder_location),'employ_high_edu')"
   ]
  },
  {
   "cell_type": "code",
   "execution_count": 75,
   "id": "1d91fb84",
   "metadata": {},
   "outputs": [],
   "source": [
    "col=['edu_employ',\n",
    " 'bussines_employ',\n",
    " 'comm_employ']"
   ]
  },
  {
   "cell_type": "code",
   "execution_count": 76,
   "id": "5b01ea0c",
   "metadata": {},
   "outputs": [],
   "source": [
    "employ_high_edu['emp_uni']=employ_high_edu[col].sum(axis=1)"
   ]
  },
  {
   "cell_type": "code",
   "execution_count": 77,
   "id": "0c21f6a9",
   "metadata": {},
   "outputs": [],
   "source": [
    "uni=uni.merge(employ_high_edu,on='ID_camp',how='left')"
   ]
  },
  {
   "cell_type": "code",
   "execution_count": 78,
   "id": "3a472d6f",
   "metadata": {},
   "outputs": [],
   "source": [
    "emp_Education_per_uni_student=0.15"
   ]
  },
  {
   "cell_type": "code",
   "execution_count": 79,
   "id": "eecf62fa",
   "metadata": {},
   "outputs": [],
   "source": [
    "uni.loc[uni['emp_uni'].isna(),'emp_uni']=uni['num_students']*emp_Education_per_uni_student"
   ]
  },
  {
   "cell_type": "code",
   "execution_count": 80,
   "id": "467588f2",
   "metadata": {},
   "outputs": [],
   "source": [
    "taz['uni_students']=gpd.sjoin(taz[['geometry']].reset_index(),uni).pivot_table(index='Taz_num',aggfunc=sum)[['num_students']]"
   ]
  },
  {
   "cell_type": "code",
   "execution_count": 81,
   "id": "ae0503da",
   "metadata": {},
   "outputs": [],
   "source": [
    "taz['emp_from_uni_student']=gpd.sjoin(taz[['geometry']].reset_index(),uni).pivot_table(index='Taz_num',aggfunc=sum)[['emp_uni']]"
   ]
  },
  {
   "cell_type": "code",
   "execution_count": 82,
   "id": "ab5531df",
   "metadata": {},
   "outputs": [],
   "source": [
    "taz.loc[taz['main_secto']==\"Palestinian\",'emp_from_uni_student']=0"
   ]
  },
  {
   "cell_type": "code",
   "execution_count": 83,
   "id": "767a07a4",
   "metadata": {},
   "outputs": [],
   "source": [
    "taz=taz.fillna(0)"
   ]
  },
  {
   "cell_type": "markdown",
   "id": "783c55c2",
   "metadata": {},
   "source": [
    "## ישיבות"
   ]
  },
  {
   "cell_type": "code",
   "execution_count": 84,
   "id": "03a542c8",
   "metadata": {},
   "outputs": [],
   "source": [
    "taz['old_student_yeshiva']=0\n",
    "\n",
    "taz=taz.fillna(0)\n",
    "\n"
   ]
  },
  {
   "cell_type": "code",
   "execution_count": 85,
   "id": "48a69639",
   "metadata": {},
   "outputs": [],
   "source": [
    "taz=taz.join(student_yeshiva).fillna(0)"
   ]
  },
  {
   "cell_type": "code",
   "execution_count": 86,
   "id": "7880d5fa",
   "metadata": {},
   "outputs": [],
   "source": [
    "taz['add_from_old_student_yeshiva']=taz['old_student_yeshiva']-taz['student_yeshiva']\n",
    "\n",
    "taz.loc[taz['add_from_old_student_yeshiva']<0,'add_from_old_student_yeshiva']=0\n",
    "\n",
    "taz['kollim_demand']=(taz['pop_20']*0.8+taz['pop_25']*0.65+taz['pop_30']*0.30+taz['pop_35']*0.30+taz['pop_40']*0.30+taz['pop_45']*0.20+taz['pop_50']*0.20+taz['pop_55']*0.20+taz['pop_60']*0.20)*0.5 #הכפלה בחצי בשביל לקבל אוכלוסיית גברים מעורכת\n",
    "\n",
    "taz.loc[taz['main_secto']!='U_Orthodox','kollim_demand']=0  #אל אף שאנחנו יודעים שיש כוללים באזורים שהם לא מוגדרים כחרדים\n",
    "\n",
    "taz['add_from_kollim_demand']=0\n",
    "\n",
    "taz['student_yeshiva_with_add_from_old']=taz['add_from_old_student_yeshiva']+taz['student_yeshiva']\n",
    "\n"
   ]
  },
  {
   "cell_type": "code",
   "execution_count": 87,
   "id": "25dfa963",
   "metadata": {},
   "outputs": [],
   "source": [
    "taz.loc[(taz['main_secto']=='U_Orthodox')&(taz['kollim_demand']>taz['student_yeshiva_with_add_from_old']),'add_from_kollim_demand']=taz['kollim_demand']-taz['student_yeshiva_with_add_from_old']\n",
    "\n",
    "taz['student_yeshiva_and_kollim']=taz['add_from_kollim_demand']+taz['student_yeshiva_with_add_from_old']"
   ]
  },
  {
   "cell_type": "markdown",
   "id": "d3cf343f",
   "metadata": {},
   "source": [
    "## מקדם מועסק חינוך לתלמידים\n",
    "\n"
   ]
  },
  {
   "cell_type": "markdown",
   "id": "00f466bd",
   "metadata": {},
   "source": [
    "מקור לנתוני מועסקים בחינוך ירושלים יהודי :https://jerusaleminstitute.org.il/wp-content/uploads/2021/04/shnaton_G0721.pdf"
   ]
  },
  {
   "attachments": {
    "image.png": {
     "image/png": "[encoded data removed]"
    }
   },
   "cell_type": "markdown",
   "id": "4576865e",
   "metadata": {},
   "source": [
    "![image.png](attachment:image.png)"
   ]
  },
  {
   "cell_type": "code",
   "execution_count": 88,
   "id": "4993eb4e",
   "metadata": {},
   "outputs": [],
   "source": [
    "emp_from_uni_student_jeru=taz.query('Muni_Heb==\"ירושלים\" & jew==1 ')[['emp_from_uni_student']].sum().item()"
   ]
  },
  {
   "cell_type": "code",
   "execution_count": 89,
   "id": "6b718c3a",
   "metadata": {},
   "outputs": [],
   "source": [
    "emp_from_Yeshiva_student_jeru=taz.query('Muni_Heb==\"ירושלים\" & jew==1 ')[['emp_from_Yeshiva_student']].sum().item()"
   ]
  },
  {
   "cell_type": "code",
   "execution_count": 90,
   "id": "701ca070",
   "metadata": {},
   "outputs": [],
   "source": [
    "emp_for_student_jeru_jew=51.1*1000-emp_from_Yeshiva_student_jeru-emp_from_uni_student_jeru"
   ]
  },
  {
   "cell_type": "code",
   "execution_count": 91,
   "id": "a45973ad",
   "metadata": {},
   "outputs": [],
   "source": [
    "emp_education_per_student=round(taz.query('Muni_Heb==\"ירושלים\" & jew==1 ')[['student']].sum().item()/emp_for_student_jeru_jew,2) "
   ]
  },
  {
   "cell_type": "code",
   "execution_count": 92,
   "id": "1eebf757",
   "metadata": {
    "scrolled": true
   },
   "outputs": [
    {
     "data": {
      "text/plain": [
       "6.87"
      ]
     },
     "execution_count": 92,
     "metadata": {},
     "output_type": "execute_result"
    }
   ],
   "source": [
    "emp_education_per_student"
   ]
  },
  {
   "cell_type": "code",
   "execution_count": 93,
   "id": "b3fcbfe6",
   "metadata": {},
   "outputs": [],
   "source": [
    "taz['emp_from_student']=taz['student']/emp_education_per_student"
   ]
  },
  {
   "cell_type": "code",
   "execution_count": 94,
   "id": "cd7daafe",
   "metadata": {},
   "outputs": [],
   "source": [
    "taz.loc[taz['main_secto']==\"Palestinian\",'emp_from_student']=0"
   ]
  },
  {
   "cell_type": "code",
   "execution_count": 95,
   "id": "e2394210",
   "metadata": {},
   "outputs": [
    {
     "data": {
      "text/html": [
       "<div>\n",
       "<style scoped>\n",
       "    .dataframe tbody tr th:only-of-type {\n",
       "        vertical-align: middle;\n",
       "    }\n",
       "\n",
       "    .dataframe tbody tr th {\n",
       "        vertical-align: top;\n",
       "    }\n",
       "\n",
       "    .dataframe thead th {\n",
       "        text-align: right;\n",
       "    }\n",
       "</style>\n",
       "<table border=\"1\" class=\"dataframe\">\n",
       "  <thead>\n",
       "    <tr style=\"text-align: right;\">\n",
       "      <th></th>\n",
       "      <th>emp_from_student</th>\n",
       "    </tr>\n",
       "    <tr>\n",
       "      <th>jew</th>\n",
       "      <th></th>\n",
       "    </tr>\n",
       "  </thead>\n",
       "  <tbody>\n",
       "    <tr>\n",
       "      <th>0</th>\n",
       "      <td>20812.182</td>\n",
       "    </tr>\n",
       "    <tr>\n",
       "      <th>1</th>\n",
       "      <td>36281.481</td>\n",
       "    </tr>\n",
       "  </tbody>\n",
       "</table>\n",
       "</div>"
      ],
      "text/plain": [
       "     emp_from_student\n",
       "jew                  \n",
       "0           20812.182\n",
       "1           36281.481"
      ]
     },
     "execution_count": 95,
     "metadata": {},
     "output_type": "execute_result"
    }
   ],
   "source": [
    "taz.query('Muni_Heb==\"ירושלים\"').groupby(by='jew').sum()[['emp_from_student']]"
   ]
  },
  {
   "cell_type": "code",
   "execution_count": 96,
   "id": "bf825816",
   "metadata": {},
   "outputs": [],
   "source": [
    "taz['emp_Education']=taz['emp_from_student']+taz['emp_from_Yeshiva_student']+taz['emp_from_uni_student']"
   ]
  }
 ],
 "metadata": {
  "kernelspec": {
   "display_name": "Python 3 (ipykernel)",
   "language": "python",
   "name": "python3"
  },
  "language_info": {
   "codemirror_mode": {
    "name": "ipython",
    "version": 3
   },
   "file_extension": ".py",
   "mimetype": "text/x-python",
   "name": "python",
   "nbconvert_exporter": "python",
   "pygments_lexer": "ipython3",
   "version": "3.10.4"
  },
  "toc": {
   "base_numbering": 1,
   "nav_menu": {},
   "number_sections": true,
   "sideBar": true,
   "skip_h1_title": false,
   "title_cell": "Table of Contents",
   "title_sidebar": "Contents",
   "toc_cell": false,
   "toc_position": {
    "height": "calc(100% - 180px)",
    "left": "10px",
    "top": "150px",
    "width": "304.475px"
   },
   "toc_section_display": true,
   "toc_window_display": true
  }
 },
 "nbformat": 4,
 "nbformat_minor": 5
}
