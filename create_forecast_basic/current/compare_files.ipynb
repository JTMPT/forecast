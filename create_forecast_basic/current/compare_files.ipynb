{
 "cells": [
  {
   "cell_type": "code",
   "execution_count": 1,
   "metadata": {},
   "outputs": [],
   "source": [
    "import pandas as pd\n",
    "import matplotlib.pyplot as plt\n",
    "import seaborn as sns"
   ]
  },
  {
   "cell_type": "code",
   "execution_count": 24,
   "metadata": {},
   "outputs": [],
   "source": [
    "\n",
    "# הקבצים שאנחנו רוצים להשוות\n",
    "df1 = pd.read_excel(r\"W:\\Data\\Forecast\\forecast_by_version\\V4\\BASE_YEAR\\forecast_2020_230720.xlsx\").set_index('TAZ').sort_index()\n",
    "df2 = pd.read_excel(r\"W:\\Data\\Forecast\\forecast_by_version\\V4\\BASE_YEAR\\forecast_2020_240226.xlsx\").set_index('TAZ').sort_index()\n"
   ]
  },
  {
   "cell_type": "code",
   "execution_count": null,
   "metadata": {},
   "outputs": [],
   "source": [
    "\n",
    "\n",
    "# השוואה (יכול להיות שצריך לעשות מיון לעמודת האינדקס)\n",
    "# מחזיר True or False\n",
    "# equal = df1.equals(df2)\n",
    "\n",
    "# print(equal)\n",
    "# equal = df1.sort_values('Taz_num').equals(df2.sort_values('Taz_num'))\n",
    "\n",
    "# השוואה (יכול להיות שצריך לעשות מיון לעמודת האינדקס)\n",
    "# מחזיר את הערכים השונים\n"
   ]
  },
  {
   "cell_type": "code",
   "execution_count": 29,
   "metadata": {},
   "outputs": [],
   "source": [
    "compare= df1.compare(df2)\n",
    "# compare = df1.sort_values('TAZ').compare(df2.sort_values('TAZ'))\n",
    "\n",
    "# compare['Taz_num'] = df1['Taz_num']\n",
    "\n",
    "# df['TAZ'] = df1['TAZ']\n",
    "# df['sector'] = df1['sector']\n",
    "\n",
    "compare.to_excel(r\"W:\\Data\\Forecast\\forecast_by_version\\V4\\BASE_YEAR\\compare.xlsx\")\n",
    "\n"
   ]
  }
 ],
 "metadata": {
  "kernelspec": {
   "display_name": "creat_forecast_ad_hoc_env",
   "language": "python",
   "name": "python3"
  },
  "language_info": {
   "codemirror_mode": {
    "name": "ipython",
    "version": 3
   },
   "file_extension": ".py",
   "mimetype": "text/x-python",
   "name": "python",
   "nbconvert_exporter": "python",
   "pygments_lexer": "ipython3",
   "version": "3.11.5"
  }
 },
 "nbformat": 4,
 "nbformat_minor": 2
}
