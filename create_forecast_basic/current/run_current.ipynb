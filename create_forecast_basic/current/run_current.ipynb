{
 "cells": [
  {
   "cell_type": "code",
   "execution_count": 8,
   "metadata": {},
   "outputs": [],
   "source": [
    "import os\n",
    "import sys"
   ]
  },
  {
   "cell_type": "code",
   "execution_count": 9,
   "metadata": {},
   "outputs": [],
   "source": [
    "def delete_folder_contents(folder_path):\n",
    "    for filename in os.listdir(folder_path):\n",
    "        file_path = os.path.join(folder_path, filename)\n",
    "        # Check if the path is a file or directory\n",
    "        if os.path.isfile(file_path):\n",
    "            # If it's a file, delete it\n",
    "            os.remove(file_path)\n",
    "        elif os.path.isdir(file_path):\n",
    "            # If it's a directory, recursively delete its contents\n",
    "            delete_folder_contents(file_path)\n",
    "            # After deleting the contents, remove the directory itself\n",
    "            os.rmdir(file_path)\n",
    "\n",
    "folder_path = './Intermediates'\n",
    "delete_folder_contents(folder_path)"
   ]
  },
  {
   "cell_type": "code",
   "execution_count": 10,
   "metadata": {},
   "outputs": [],
   "source": [
    "cwd = os.getcwd()\n",
    "\n",
    "create_forecast_basic_folder_path = os.path.dirname(cwd)\n",
    "\n",
    "arab_and_palestinian_directory = r'{}\\arab_and_palestinian'.format(create_forecast_basic_folder_path)\n",
    "\n",
    "sys.path.append(arab_and_palestinian_directory)\n",
    "\n",
    "import run_arab_and_palestinian"
   ]
  },
  {
   "cell_type": "code",
   "execution_count": 11,
   "metadata": {},
   "outputs": [
    {
     "name": "stderr",
     "output_type": "stream",
     "text": [
      "C:\\Users\\gidon\\AppData\\Local\\Temp\\ipykernel_11416\\3903377412.py:2: SettingWithCopyWarning: \n",
      "A value is trying to be set on a copy of a slice from a DataFrame.\n",
      "Try using .loc[row_indexer,col_indexer] = value instead\n",
      "\n",
      "See the caveats in the documentation: https://pandas.pydata.org/pandas-docs/stable/user_guide/indexing.html#returning-a-view-versus-a-copy\n",
      "  sum_students_by_muni_sector_demand_add_from_gov_by_muni.loc[filter_condition, 'sum_add_students'] = 3000\n"
     ]
    }
   ],
   "source": [
    "%run \"./fix_cbs_data_230717.ipynb\"\n",
    "%run \"./from_sa_cbs_to_ta_jtmt.ipynb\"\n",
    "%run \"./create_gov_student_num_by_muni.ipynb\"\n",
    "%run \"./prepare_students.ipynb\""
   ]
  },
  {
   "cell_type": "code",
   "execution_count": 12,
   "metadata": {},
   "outputs": [],
   "source": [
    "os.chdir(arab_and_palestinian_directory)\n",
    "\n",
    "run_arab_and_palestinian.run_notebook(r'{}\\run_arab_and_palestinian.ipynb'.format(arab_and_palestinian_directory))  # Call the function from the imported module"
   ]
  },
  {
   "cell_type": "code",
   "execution_count": 13,
   "metadata": {},
   "outputs": [
    {
     "name": "stderr",
     "output_type": "stream",
     "text": [
      "C:\\Users\\gidon\\AppData\\Local\\Temp\\ipykernel_11416\\1806380584.py:5: UserWarning: `keep_geom_type=True` in overlay resulted in 279 dropped geometries of different geometry types than df1 has. Set `keep_geom_type=False` to retain all geometries\n",
      "  EMP_kibolet_by_taz=gpd.overlay(taz.reset_index()[['Taz_num','taz_area','geometry']],EMP_kibolet)\n",
      "C:\\Users\\gidon\\AppData\\Local\\Temp\\ipykernel_11416\\2666082859.py:18: SettingWithCopyWarning: \n",
      "A value is trying to be set on a copy of a slice from a DataFrame.\n",
      "Try using .loc[row_indexer,col_indexer] = value instead\n",
      "\n",
      "See the caveats in the documentation: https://pandas.pydata.org/pandas-docs/stable/user_guide/indexing.html#returning-a-view-versus-a-copy\n",
      "  locals()['data_df_{}'.format(s)].at[index,'classification_name'] = closest_prototype\n",
      "C:\\Users\\gidon\\AppData\\Local\\Temp\\ipykernel_11416\\2666082859.py:18: SettingWithCopyWarning: \n",
      "A value is trying to be set on a copy of a slice from a DataFrame.\n",
      "Try using .loc[row_indexer,col_indexer] = value instead\n",
      "\n",
      "See the caveats in the documentation: https://pandas.pydata.org/pandas-docs/stable/user_guide/indexing.html#returning-a-view-versus-a-copy\n",
      "  locals()['data_df_{}'.format(s)].at[index,'classification_name'] = closest_prototype\n",
      "C:\\Users\\gidon\\AppData\\Local\\Temp\\ipykernel_11416\\2666082859.py:18: SettingWithCopyWarning: \n",
      "A value is trying to be set on a copy of a slice from a DataFrame.\n",
      "Try using .loc[row_indexer,col_indexer] = value instead\n",
      "\n",
      "See the caveats in the documentation: https://pandas.pydata.org/pandas-docs/stable/user_guide/indexing.html#returning-a-view-versus-a-copy\n",
      "  locals()['data_df_{}'.format(s)].at[index,'classification_name'] = closest_prototype\n",
      "C:\\Users\\gidon\\AppData\\Local\\Temp\\ipykernel_11416\\2666082859.py:18: SettingWithCopyWarning: \n",
      "A value is trying to be set on a copy of a slice from a DataFrame.\n",
      "Try using .loc[row_indexer,col_indexer] = value instead\n",
      "\n",
      "See the caveats in the documentation: https://pandas.pydata.org/pandas-docs/stable/user_guide/indexing.html#returning-a-view-versus-a-copy\n",
      "  locals()['data_df_{}'.format(s)].at[index,'classification_name'] = closest_prototype\n"
     ]
    }
   ],
   "source": [
    "os.chdir(cwd)\n",
    "\n",
    "%run \"./emp_current_year.ipynb\"\n",
    "%run \"./add_geo_info_and_export.ipynb\"\n",
    "%run \"./Determining_type_of_age_distribution_230719.ipynb\""
   ]
  }
 ],
 "metadata": {
  "kernelspec": {
   "display_name": "creat_forecast_ad_hoc_env",
   "language": "python",
   "name": "python3"
  },
  "language_info": {
   "codemirror_mode": {
    "name": "ipython",
    "version": 3
   },
   "file_extension": ".py",
   "mimetype": "text/x-python",
   "name": "python",
   "nbconvert_exporter": "python",
   "pygments_lexer": "ipython3",
   "version": "3.11.5"
  }
 },
 "nbformat": 4,
 "nbformat_minor": 2
}
