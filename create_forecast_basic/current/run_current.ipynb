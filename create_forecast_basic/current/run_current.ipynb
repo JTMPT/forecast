{
 "cells": [
  {
   "cell_type": "code",
   "execution_count": 1,
   "metadata": {},
   "outputs": [],
   "source": [
    "import os\n",
    "\n",
    "def delete_folder_contents(folder_path):\n",
    "    for filename in os.listdir(folder_path):\n",
    "        file_path = os.path.join(folder_path, filename)\n",
    "        # Check if the path is a file or directory\n",
    "        if os.path.isfile(file_path):\n",
    "            # If it's a file, delete it\n",
    "            os.remove(file_path)\n",
    "        elif os.path.isdir(file_path):\n",
    "            # If it's a directory, recursively delete its contents\n",
    "            delete_folder_contents(file_path)\n",
    "            # After deleting the contents, remove the directory itself\n",
    "            os.rmdir(file_path)\n",
    "\n",
    "folder_path = './Intermediates'\n",
    "delete_folder_contents(folder_path)"
   ]
  },
  {
   "cell_type": "code",
   "execution_count": 2,
   "metadata": {},
   "outputs": [
    {
     "name": "stderr",
     "output_type": "stream",
     "text": [
      "C:\\Users\\dpere\\AppData\\Local\\Temp\\ipykernel_22648\\3666940613.py:1: FutureWarning: Setting an item of incompatible dtype is deprecated and will raise in a future error of pandas. Value '235652.6' has dtype incompatible with int64, please explicitly cast to a compatible dtype first.\n",
      "  group_pop_jtmt.loc['east_jeru_left','pop']=group_pop_delta.item()\n",
      "C:\\Users\\dpere\\AppData\\Local\\Temp\\ipykernel_22648\\1360134725.py:2: FutureWarning: The provided callable <built-in function sum> is currently using DataFrameGroupBy.sum. In a future version of pandas, the provided callable will be used directly. To keep current behavior pass the string \"sum\" instead.\n",
      "  hh_size_by_classification=drop_geo(stat).loc[(stat['aprt_20']>0)&(stat['STAT'].isin(cbs_not_lie_lst))].pivot_table(index='classification_name',aggfunc=sum)[['aprt_20','pop','count']]\n",
      "C:\\Users\\dpere\\AppData\\Local\\Temp\\ipykernel_22648\\423562680.py:2: FutureWarning: The provided callable <built-in function sum> is currently using DataFrameGroupBy.sum. In a future version of pandas, the provided callable will be used directly. To keep current behavior pass the string \"sum\" instead.\n",
      "  stat_by_muni_sum=drop_geo(stat).pivot_table(index='CR_PNIM',aggfunc=sum)[['pop_cbs','pop']]\n"
     ]
    },
    {
     "name": "stdout",
     "output_type": "stream",
     "text": [
      "['c:\\\\Users\\\\dpere\\\\Documents\\\\JTMT\\\\forecast_git\\\\create_forecast_basic\\\\background_files\\\\TAZ_V4_240404_with_geo_info.cpg', 'c:\\\\Users\\\\dpere\\\\Documents\\\\JTMT\\\\forecast_git\\\\create_forecast_basic\\\\background_files\\\\TAZ_V4_240404_with_geo_info.dbf', 'c:\\\\Users\\\\dpere\\\\Documents\\\\JTMT\\\\forecast_git\\\\create_forecast_basic\\\\background_files\\\\TAZ_V4_240404_with_geo_info.prj', 'c:\\\\Users\\\\dpere\\\\Documents\\\\JTMT\\\\forecast_git\\\\create_forecast_basic\\\\background_files\\\\TAZ_V4_240404_with_geo_info.sbn', 'c:\\\\Users\\\\dpere\\\\Documents\\\\JTMT\\\\forecast_git\\\\create_forecast_basic\\\\background_files\\\\TAZ_V4_240404_with_geo_info.sbx', 'c:\\\\Users\\\\dpere\\\\Documents\\\\JTMT\\\\forecast_git\\\\create_forecast_basic\\\\background_files\\\\TAZ_V4_240404_with_geo_info.shp', 'c:\\\\Users\\\\dpere\\\\Documents\\\\JTMT\\\\forecast_git\\\\create_forecast_basic\\\\background_files\\\\TAZ_V4_240404_with_geo_info.shx', 'c:\\\\Users\\\\dpere\\\\Documents\\\\JTMT\\\\forecast_git\\\\create_forecast_basic\\\\background_files\\\\TAZ_V4_240404_with_geo_info.Taz_num.atx', 'c:\\\\Users\\\\dpere\\\\Documents\\\\JTMT\\\\forecast_git\\\\create_forecast_basic\\\\background_files\\\\TAZ_V4_240408_with_geo_info.cpg', 'c:\\\\Users\\\\dpere\\\\Documents\\\\JTMT\\\\forecast_git\\\\create_forecast_basic\\\\background_files\\\\TAZ_V4_240408_with_geo_info.dbf', 'c:\\\\Users\\\\dpere\\\\Documents\\\\JTMT\\\\forecast_git\\\\create_forecast_basic\\\\background_files\\\\TAZ_V4_240408_with_geo_info.prj', 'c:\\\\Users\\\\dpere\\\\Documents\\\\JTMT\\\\forecast_git\\\\create_forecast_basic\\\\background_files\\\\TAZ_V4_240408_with_geo_info.shp', 'c:\\\\Users\\\\dpere\\\\Documents\\\\JTMT\\\\forecast_git\\\\create_forecast_basic\\\\background_files\\\\TAZ_V4_240408_with_geo_info.shx', 'c:\\\\Users\\\\dpere\\\\Documents\\\\JTMT\\\\forecast_git\\\\create_forecast_basic\\\\background_files\\\\TAZ_V4_240408_with_geo_info.xlsx']\n"
     ]
    },
    {
     "name": "stderr",
     "output_type": "stream",
     "text": [
      "C:\\Users\\dpere\\AppData\\Local\\Temp\\ipykernel_22648\\3159188487.py:1: FutureWarning: Setting an item of incompatible dtype is deprecated and will raise in a future error of pandas. Value '[ 31.3225      20.58816099  23.03316663 ...  79.56155771  86.00171698\n",
      " 411.10230836]' has dtype incompatible with int32, please explicitly cast to a compatible dtype first.\n",
      "  bld_point.loc[(bld_point['HEIGHT']-ceiling_height)<=0,'bld_m3']=bld_point['bld_area']\n",
      "C:\\Users\\dpere\\AppData\\Local\\Temp\\ipykernel_22648\\3533048335.py:1: FutureWarning: The provided callable <built-in function sum> is currently using DataFrameGroupBy.sum. In a future version of pandas, the provided callable will be used directly. To keep current behavior pass the string \"sum\" instead.\n",
      "  sum_bld_m3=pd.pivot_table(bld_point.drop(columns='centroid'),index=['Taz_num','STAT'],aggfunc=sum)[['bld_m3']].reset_index()\n",
      "C:\\Users\\dpere\\AppData\\Local\\Temp\\ipykernel_22648\\3687277795.py:1: FutureWarning: The provided callable <built-in function sum> is currently using DataFrameGroupBy.sum. In a future version of pandas, the provided callable will be used directly. To keep current behavior pass the string \"sum\" instead.\n",
      "  sum_bld_m3_by_stat=sum_bld_m3.pivot_table(index='STAT',aggfunc=sum)[['bld_m3']].rename(columns={'bld_m3':'bld_m3_stat'}).reset_index()\n",
      "C:\\Users\\dpere\\AppData\\Local\\Temp\\ipykernel_22648\\573162633.py:1: FutureWarning: The provided callable <built-in function sum> is currently using DataFrameGroupBy.sum. In a future version of pandas, the provided callable will be used directly. To keep current behavior pass the string \"sum\" instead.\n",
      "  sum_bld_m3_by_stat=sum_bld_m3.pivot_table(index='STAT',aggfunc=sum)[['bld_m3']].rename(columns={'bld_m3':'bld_m3_stat_new'}).reset_index()\n",
      "C:\\Users\\dpere\\AppData\\Local\\Temp\\ipykernel_22648\\3759065189.py:1: FutureWarning: The provided callable <built-in function sum> is currently using DataFrameGroupBy.sum. In a future version of pandas, the provided callable will be used directly. To keep current behavior pass the string \"sum\" instead.\n",
      "  taz=pd.pivot_table(taz,index='Taz_num',aggfunc=sum)\n"
     ]
    },
    {
     "name": "stdout",
     "output_type": "stream",
     "text": [
      "['c:\\\\Users\\\\dpere\\\\Documents\\\\JTMT\\\\forecast_git\\\\create_forecast_basic\\\\background_files\\\\TAZ_V4_240404_with_geo_info.cpg', 'c:\\\\Users\\\\dpere\\\\Documents\\\\JTMT\\\\forecast_git\\\\create_forecast_basic\\\\background_files\\\\TAZ_V4_240404_with_geo_info.dbf', 'c:\\\\Users\\\\dpere\\\\Documents\\\\JTMT\\\\forecast_git\\\\create_forecast_basic\\\\background_files\\\\TAZ_V4_240404_with_geo_info.prj', 'c:\\\\Users\\\\dpere\\\\Documents\\\\JTMT\\\\forecast_git\\\\create_forecast_basic\\\\background_files\\\\TAZ_V4_240404_with_geo_info.sbn', 'c:\\\\Users\\\\dpere\\\\Documents\\\\JTMT\\\\forecast_git\\\\create_forecast_basic\\\\background_files\\\\TAZ_V4_240404_with_geo_info.sbx', 'c:\\\\Users\\\\dpere\\\\Documents\\\\JTMT\\\\forecast_git\\\\create_forecast_basic\\\\background_files\\\\TAZ_V4_240404_with_geo_info.shp', 'c:\\\\Users\\\\dpere\\\\Documents\\\\JTMT\\\\forecast_git\\\\create_forecast_basic\\\\background_files\\\\TAZ_V4_240404_with_geo_info.shx', 'c:\\\\Users\\\\dpere\\\\Documents\\\\JTMT\\\\forecast_git\\\\create_forecast_basic\\\\background_files\\\\TAZ_V4_240404_with_geo_info.Taz_num.atx', 'c:\\\\Users\\\\dpere\\\\Documents\\\\JTMT\\\\forecast_git\\\\create_forecast_basic\\\\background_files\\\\TAZ_V4_240408_with_geo_info.cpg', 'c:\\\\Users\\\\dpere\\\\Documents\\\\JTMT\\\\forecast_git\\\\create_forecast_basic\\\\background_files\\\\TAZ_V4_240408_with_geo_info.dbf', 'c:\\\\Users\\\\dpere\\\\Documents\\\\JTMT\\\\forecast_git\\\\create_forecast_basic\\\\background_files\\\\TAZ_V4_240408_with_geo_info.prj', 'c:\\\\Users\\\\dpere\\\\Documents\\\\JTMT\\\\forecast_git\\\\create_forecast_basic\\\\background_files\\\\TAZ_V4_240408_with_geo_info.shp', 'c:\\\\Users\\\\dpere\\\\Documents\\\\JTMT\\\\forecast_git\\\\create_forecast_basic\\\\background_files\\\\TAZ_V4_240408_with_geo_info.shx', 'c:\\\\Users\\\\dpere\\\\Documents\\\\JTMT\\\\forecast_git\\\\create_forecast_basic\\\\background_files\\\\TAZ_V4_240408_with_geo_info.xlsx']\n"
     ]
    },
    {
     "name": "stderr",
     "output_type": "stream",
     "text": [
      "C:\\Users\\dpere\\AppData\\Local\\Temp\\ipykernel_22648\\3236687485.py:1: FutureWarning: The provided callable <built-in function sum> is currently using DataFrameGroupBy.sum. In a future version of pandas, the provided callable will be used directly. To keep current behavior pass the string \"sum\" instead.\n",
      "  shcl_with_taz_arab=shcl_with_taz.loc[shcl_with_taz['sector']==1].pivot_table(index='Taz_num',aggfunc=sum)[old_col]\n",
      "C:\\Users\\dpere\\AppData\\Local\\Temp\\ipykernel_22648\\2028788263.py:1: FutureWarning: The provided callable <built-in function sum> is currently using DataFrameGroupBy.sum. In a future version of pandas, the provided callable will be used directly. To keep current behavior pass the string \"sum\" instead.\n",
      "  shcl_with_taz_hardi=shcl_with_taz.loc[shcl_with_taz['sector']==2].pivot_table(index='Taz_num',aggfunc=sum)[old_col]\n",
      "C:\\Users\\dpere\\AppData\\Local\\Temp\\ipykernel_22648\\2629452214.py:1: FutureWarning: The provided callable <built-in function sum> is currently using DataFrameGroupBy.sum. In a future version of pandas, the provided callable will be used directly. To keep current behavior pass the string \"sum\" instead.\n",
      "  shcl_with_taz_Jewish=shcl_with_taz.loc[shcl_with_taz['sector']==3].pivot_table(index='Taz_num',aggfunc=sum)[old_col]\n",
      "C:\\Users\\dpere\\AppData\\Local\\Temp\\ipykernel_22648\\3903377412.py:2: SettingWithCopyWarning: \n",
      "A value is trying to be set on a copy of a slice from a DataFrame.\n",
      "Try using .loc[row_indexer,col_indexer] = value instead\n",
      "\n",
      "See the caveats in the documentation: https://pandas.pydata.org/pandas-docs/stable/user_guide/indexing.html#returning-a-view-versus-a-copy\n",
      "  sum_students_by_muni_sector_demand_add_from_gov_by_muni.loc[filter_condition, 'sum_add_students'] = 3000\n"
     ]
    },
    {
     "name": "stdout",
     "output_type": "stream",
     "text": [
      "['c:\\\\Users\\\\dpere\\\\Documents\\\\JTMT\\\\forecast_git\\\\create_forecast_basic\\\\background_files\\\\TAZ_V4_240404_with_geo_info.cpg', 'c:\\\\Users\\\\dpere\\\\Documents\\\\JTMT\\\\forecast_git\\\\create_forecast_basic\\\\background_files\\\\TAZ_V4_240404_with_geo_info.dbf', 'c:\\\\Users\\\\dpere\\\\Documents\\\\JTMT\\\\forecast_git\\\\create_forecast_basic\\\\background_files\\\\TAZ_V4_240404_with_geo_info.prj', 'c:\\\\Users\\\\dpere\\\\Documents\\\\JTMT\\\\forecast_git\\\\create_forecast_basic\\\\background_files\\\\TAZ_V4_240404_with_geo_info.sbn', 'c:\\\\Users\\\\dpere\\\\Documents\\\\JTMT\\\\forecast_git\\\\create_forecast_basic\\\\background_files\\\\TAZ_V4_240404_with_geo_info.sbx', 'c:\\\\Users\\\\dpere\\\\Documents\\\\JTMT\\\\forecast_git\\\\create_forecast_basic\\\\background_files\\\\TAZ_V4_240404_with_geo_info.shp', 'c:\\\\Users\\\\dpere\\\\Documents\\\\JTMT\\\\forecast_git\\\\create_forecast_basic\\\\background_files\\\\TAZ_V4_240404_with_geo_info.shx', 'c:\\\\Users\\\\dpere\\\\Documents\\\\JTMT\\\\forecast_git\\\\create_forecast_basic\\\\background_files\\\\TAZ_V4_240404_with_geo_info.Taz_num.atx', 'c:\\\\Users\\\\dpere\\\\Documents\\\\JTMT\\\\forecast_git\\\\create_forecast_basic\\\\background_files\\\\TAZ_V4_240408_with_geo_info.cpg', 'c:\\\\Users\\\\dpere\\\\Documents\\\\JTMT\\\\forecast_git\\\\create_forecast_basic\\\\background_files\\\\TAZ_V4_240408_with_geo_info.dbf', 'c:\\\\Users\\\\dpere\\\\Documents\\\\JTMT\\\\forecast_git\\\\create_forecast_basic\\\\background_files\\\\TAZ_V4_240408_with_geo_info.prj', 'c:\\\\Users\\\\dpere\\\\Documents\\\\JTMT\\\\forecast_git\\\\create_forecast_basic\\\\background_files\\\\TAZ_V4_240408_with_geo_info.shp', 'c:\\\\Users\\\\dpere\\\\Documents\\\\JTMT\\\\forecast_git\\\\create_forecast_basic\\\\background_files\\\\TAZ_V4_240408_with_geo_info.shx', 'c:\\\\Users\\\\dpere\\\\Documents\\\\JTMT\\\\forecast_git\\\\create_forecast_basic\\\\background_files\\\\TAZ_V4_240408_with_geo_info.xlsx']\n"
     ]
    },
    {
     "name": "stderr",
     "output_type": "stream",
     "text": [
      "C:\\Users\\dpere\\AppData\\Local\\Temp\\ipykernel_22648\\2539747398.py:3: FutureWarning: The provided callable <built-in function sum> is currently using DataFrameGroupBy.sum. In a future version of pandas, the provided callable will be used directly. To keep current behavior pass the string \"sum\" instead.\n",
      "  student_arab_not_gov=student_arab_not_gov.pivot_table(index='Taz_num',aggfunc=sum)[['num_student']]\n",
      "C:\\Users\\dpere\\AppData\\Local\\Temp\\ipykernel_22648\\2039466339.py:1: FutureWarning: The provided callable <built-in function sum> is currently using DataFrameGroupBy.sum. In a future version of pandas, the provided callable will be used directly. To keep current behavior pass the string \"sum\" instead.\n",
      "  taz['student_chardi_not_gov']=drop_geo(student_chardi_not_gov_with_taz).pivot_table(index='Taz_num',aggfunc=sum)[['num_students']]\n",
      "C:\\Users\\dpere\\AppData\\Local\\Temp\\ipykernel_22648\\2892090057.py:1: FutureWarning: The provided callable <built-in function sum> is currently using DataFrameGroupBy.sum. In a future version of pandas, the provided callable will be used directly. To keep current behavior pass the string \"sum\" instead.\n",
      "  uni_students_sum_by_taz=uni_students_with_taz[col].pivot_table(index='Taz_num',aggfunc=sum).reset_index()\n",
      "C:\\Users\\dpere\\AppData\\Local\\Temp\\ipykernel_22648\\997828904.py:1: FutureWarning: The provided callable <built-in function sum> is currently using DataFrameGroupBy.sum. In a future version of pandas, the provided callable will be used directly. To keep current behavior pass the string \"sum\" instead.\n",
      "  student_yeshiva_by_gender_taz=drop_geo(student_yeshiva).pivot_table(index=['Taz_num','gender'],aggfunc=sum).reset_index()\n",
      "C:\\Users\\dpere\\AppData\\Local\\Temp\\ipykernel_22648\\709779699.py:1: FutureWarning: Setting an item of incompatible dtype is deprecated and will raise in a future error of pandas. Value '[211.55       311.6        203.4        219.5        344.425\n",
      " 136.35        56.075       25.39016076  73.20626374  73.23431062\n",
      "  82.10695662 230.30070665 343.62390833 337.025      366.03886321\n",
      " 105.80109167 231.87527165  55.25400185  77.16804338 253.975\n",
      " 271.6075202  128.8788284  132.64795356 192.81912699 152.39663145\n",
      "  41.96477747  13.99356016  95.41456334 242.36643815 121.83933175\n",
      " 217.05580154  79.4         61.525      194.025       89.10633285\n",
      " 261.06314994  13.61840831  66.66415402 125.9366734  493.40591382\n",
      "  13.875      303.175      179.34455817  52.35639892  74.39291965\n",
      " 534.43208035 416.82403926 222.70253076 354.0576974  276.\n",
      " 350.08974276 300.08391068   8.1        103.24850102  62.84563695\n",
      " 294.26060716 188.67566285  44.13980319 159.3154777  196.63301559\n",
      " 193.97893162  45.89112945]' has dtype incompatible with int64, please explicitly cast to a compatible dtype first.\n",
      "  taz.loc[(taz['main_secto']=='U_Orthodox')&(taz['kollim_demand']>taz['Yeshiva']),'add_from_kollim_demand']=taz['kollim_demand']-taz['Yeshiva']\n",
      "C:\\Users\\dpere\\AppData\\Local\\Temp\\ipykernel_22648\\219692974.py:3: FutureWarning: Setting an item of incompatible dtype is deprecated and will raise in a future error of pandas. Value '[1058.5125      925.0696     1368.9416     1401.4269      900.4801\n",
      "  662.6458      925.0599      926.6895      924.19908983  997.1115\n",
      "  567.256       832.8517     1120.5246      658.6882      794.8762\n",
      " 1469.065      1668.1284      882.8552     1070.52809036  835.6259\n",
      "  547.8269      625.63533771  421.00136291 1126.267       588.8191\n",
      "  497.06827099  192.98137702  550.82128767  652.67722429    0.\n",
      "  199.05712       0.         1029.46150669  958.554      1089.47169269\n",
      "  258.27169331  316.24394151  868.35219351  381.68004435  346.99131233\n",
      " 1150.0223      711.9509      910.0734      586.98056974  959.2192804\n",
      "  242.39101412  485.02180886  448.62910236  696.30593582  179.41638023\n",
      "  912.98938137  482.97741778    0.           31.82368444  345.50725071\n",
      "  424.43994929  572.3896783   674.3028217  1079.7244229   492.62749824\n",
      "  387.99716239  373.76496761   98.36363601  188.35185548  126.558586\n",
      "  223.64763843  264.48028347 1127.07201653  345.29532287  731.3357684\n",
      "  540.14168147 1054.80462152  395.49862658 1523.2298      594.36104784\n",
      "  435.31335216  221.451         0.            0.         1393.9198457\n",
      "  721.1368      704.8214      527.7338739   605.63014103  825.11645426\n",
      " 1169.80494574  763.64114769  722.70549344  363.89497342  859.62638597\n",
      "  337.5187576   331.66453881    0.         1149.159       807.03981728\n",
      "    0.          821.38017823  164.60664178    0.          859.88343512\n",
      "  874.92297156  958.18094175 1030.52232733 1260.89713291  813.1122\n",
      " 1294.95        883.7476     1285.5022      831.9884      994.5216\n",
      "  526.15593447 1330.4035     1047.30046553    0.          196.82521355\n",
      " 3559.29679765  386.69356528 3016.20211554 3209.42870797 1792.68761483\n",
      " 2014.03858517    0.            0.         1303.98795982    0.\n",
      "    0.            6.693         0.            0.            0.\n",
      "    0.            0.            0.         2327.0543108   767.54910769\n",
      "  862.49276997  692.2211     1139.98081887    0.            0.\n",
      "    0.         1778.49546086 1068.60878644  343.6128        0.\n",
      "    0.            0.          288.31147246  158.6891602     0.\n",
      "    0.            0.            0.            0.            0.\n",
      "    0.            0.            0.         1420.66653216 1756.07376784\n",
      "    0.            0.            0.         1284.46185064  651.42724071\n",
      "  806.00014809 1395.7161253  1064.02380638  523.46352561    0.\n",
      "  601.7333678   675.71254652    0.            0.        ]' has dtype incompatible with int64, please explicitly cast to a compatible dtype first.\n",
      "  taz.loc[taz['main_secto']==\"U_Orthodox\",'pop_emp_employed']=taz['pop_emp']*0.97\n",
      "C:\\Users\\dpere\\AppData\\Local\\Temp\\ipykernel_22648\\1435860360.py:3: FutureWarning: Setting an item of incompatible dtype is deprecated and will raise in a future error of pandas. Value '[2399.56784534  628.06876722 1376.06428532 1100.01695881  436.75281002\n",
      "  171.25225893  533.42666654  367.02555438 1349.87235341  560.27681392\n",
      "  110.00582165  286.60314146  337.59998282  144.09071137   91.920713\n",
      "  534.14376422  384.00190421  546.72790019  163.5590913   415.51107279\n",
      "  602.14812583  537.86417647  557.98519644  433.6182159   473.67188498\n",
      "  963.32807054  533.26       2414.27634396  772.26885902  555.06724074\n",
      "  299.12693758  299.45171986  230.88962645  683.47848025  739.054676\n",
      "  362.83368087  662.45436032  641.5657268   476.07537127  548.83897406\n",
      "  819.07917086 2035.77304717   46.98333591  404.13639555  404.54748465\n",
      "  252.56561143  269.4001473   114.09458636  553.75793225  195.61347702\n",
      "  188.17025734  935.01777909  498.2332764 ]' has dtype incompatible with int64, please explicitly cast to a compatible dtype first.\n",
      "  taz.loc[(taz['jew']==0)&(taz['okev']==1),'emp_okev']=taz['aprt_20']*okev_factor.loc['arab','city']\n",
      "C:\\Users\\dpere\\AppData\\Local\\Temp\\ipykernel_22648\\1806380584.py:5: UserWarning: `keep_geom_type=True` in overlay resulted in 279 dropped geometries of different geometry types than df1 has. Set `keep_geom_type=False` to retain all geometries\n",
      "  EMP_kibolet_by_taz=gpd.overlay(taz.reset_index()[['Taz_num','taz_area','geometry']],EMP_kibolet)\n"
     ]
    },
    {
     "name": "stdout",
     "output_type": "stream",
     "text": [
      "['c:\\\\Users\\\\dpere\\\\Documents\\\\JTMT\\\\forecast_git\\\\create_forecast_basic\\\\background_files\\\\TAZ_V4_240404_with_geo_info.cpg', 'c:\\\\Users\\\\dpere\\\\Documents\\\\JTMT\\\\forecast_git\\\\create_forecast_basic\\\\background_files\\\\TAZ_V4_240404_with_geo_info.dbf', 'c:\\\\Users\\\\dpere\\\\Documents\\\\JTMT\\\\forecast_git\\\\create_forecast_basic\\\\background_files\\\\TAZ_V4_240404_with_geo_info.prj', 'c:\\\\Users\\\\dpere\\\\Documents\\\\JTMT\\\\forecast_git\\\\create_forecast_basic\\\\background_files\\\\TAZ_V4_240404_with_geo_info.sbn', 'c:\\\\Users\\\\dpere\\\\Documents\\\\JTMT\\\\forecast_git\\\\create_forecast_basic\\\\background_files\\\\TAZ_V4_240404_with_geo_info.sbx', 'c:\\\\Users\\\\dpere\\\\Documents\\\\JTMT\\\\forecast_git\\\\create_forecast_basic\\\\background_files\\\\TAZ_V4_240404_with_geo_info.shp', 'c:\\\\Users\\\\dpere\\\\Documents\\\\JTMT\\\\forecast_git\\\\create_forecast_basic\\\\background_files\\\\TAZ_V4_240404_with_geo_info.shx', 'c:\\\\Users\\\\dpere\\\\Documents\\\\JTMT\\\\forecast_git\\\\create_forecast_basic\\\\background_files\\\\TAZ_V4_240404_with_geo_info.Taz_num.atx', 'c:\\\\Users\\\\dpere\\\\Documents\\\\JTMT\\\\forecast_git\\\\create_forecast_basic\\\\background_files\\\\TAZ_V4_240408_with_geo_info.cpg', 'c:\\\\Users\\\\dpere\\\\Documents\\\\JTMT\\\\forecast_git\\\\create_forecast_basic\\\\background_files\\\\TAZ_V4_240408_with_geo_info.dbf', 'c:\\\\Users\\\\dpere\\\\Documents\\\\JTMT\\\\forecast_git\\\\create_forecast_basic\\\\background_files\\\\TAZ_V4_240408_with_geo_info.prj', 'c:\\\\Users\\\\dpere\\\\Documents\\\\JTMT\\\\forecast_git\\\\create_forecast_basic\\\\background_files\\\\TAZ_V4_240408_with_geo_info.shp', 'c:\\\\Users\\\\dpere\\\\Documents\\\\JTMT\\\\forecast_git\\\\create_forecast_basic\\\\background_files\\\\TAZ_V4_240408_with_geo_info.shx', 'c:\\\\Users\\\\dpere\\\\Documents\\\\JTMT\\\\forecast_git\\\\create_forecast_basic\\\\background_files\\\\TAZ_V4_240408_with_geo_info.xlsx']\n",
      "['C:\\\\Users\\\\dpere\\\\Documents\\\\JTMT\\\\forecast_by_version\\\\V4\\\\BASE_YEAR\\\\BaseProjections2020_240418.xlsx', 'C:\\\\Users\\\\dpere\\\\Documents\\\\JTMT\\\\forecast_by_version\\\\V4\\\\BASE_YEAR\\\\BaseProjections2020_240501.xlsx', 'C:\\\\Users\\\\dpere\\\\Documents\\\\JTMT\\\\forecast_by_version\\\\V4\\\\BASE_YEAR\\\\BaseProjections2020_240502.xlsx']\n",
      "['c:\\\\Users\\\\dpere\\\\Documents\\\\JTMT\\\\forecast_git\\\\create_forecast_basic\\\\background_files\\\\TAZ_V4_240404_with_geo_info.cpg', 'c:\\\\Users\\\\dpere\\\\Documents\\\\JTMT\\\\forecast_git\\\\create_forecast_basic\\\\background_files\\\\TAZ_V4_240404_with_geo_info.dbf', 'c:\\\\Users\\\\dpere\\\\Documents\\\\JTMT\\\\forecast_git\\\\create_forecast_basic\\\\background_files\\\\TAZ_V4_240404_with_geo_info.prj', 'c:\\\\Users\\\\dpere\\\\Documents\\\\JTMT\\\\forecast_git\\\\create_forecast_basic\\\\background_files\\\\TAZ_V4_240404_with_geo_info.sbn', 'c:\\\\Users\\\\dpere\\\\Documents\\\\JTMT\\\\forecast_git\\\\create_forecast_basic\\\\background_files\\\\TAZ_V4_240404_with_geo_info.sbx', 'c:\\\\Users\\\\dpere\\\\Documents\\\\JTMT\\\\forecast_git\\\\create_forecast_basic\\\\background_files\\\\TAZ_V4_240404_with_geo_info.shp', 'c:\\\\Users\\\\dpere\\\\Documents\\\\JTMT\\\\forecast_git\\\\create_forecast_basic\\\\background_files\\\\TAZ_V4_240404_with_geo_info.shx', 'c:\\\\Users\\\\dpere\\\\Documents\\\\JTMT\\\\forecast_git\\\\create_forecast_basic\\\\background_files\\\\TAZ_V4_240404_with_geo_info.Taz_num.atx', 'c:\\\\Users\\\\dpere\\\\Documents\\\\JTMT\\\\forecast_git\\\\create_forecast_basic\\\\background_files\\\\TAZ_V4_240408_with_geo_info.cpg', 'c:\\\\Users\\\\dpere\\\\Documents\\\\JTMT\\\\forecast_git\\\\create_forecast_basic\\\\background_files\\\\TAZ_V4_240408_with_geo_info.dbf', 'c:\\\\Users\\\\dpere\\\\Documents\\\\JTMT\\\\forecast_git\\\\create_forecast_basic\\\\background_files\\\\TAZ_V4_240408_with_geo_info.prj', 'c:\\\\Users\\\\dpere\\\\Documents\\\\JTMT\\\\forecast_git\\\\create_forecast_basic\\\\background_files\\\\TAZ_V4_240408_with_geo_info.shp', 'c:\\\\Users\\\\dpere\\\\Documents\\\\JTMT\\\\forecast_git\\\\create_forecast_basic\\\\background_files\\\\TAZ_V4_240408_with_geo_info.shx', 'c:\\\\Users\\\\dpere\\\\Documents\\\\JTMT\\\\forecast_git\\\\create_forecast_basic\\\\background_files\\\\TAZ_V4_240408_with_geo_info.xlsx']\n"
     ]
    },
    {
     "name": "stderr",
     "output_type": "stream",
     "text": [
      "C:\\Users\\dpere\\AppData\\Local\\Temp\\ipykernel_22648\\2666082859.py:18: SettingWithCopyWarning: \n",
      "A value is trying to be set on a copy of a slice from a DataFrame.\n",
      "Try using .loc[row_indexer,col_indexer] = value instead\n",
      "\n",
      "See the caveats in the documentation: https://pandas.pydata.org/pandas-docs/stable/user_guide/indexing.html#returning-a-view-versus-a-copy\n",
      "  locals()['data_df_{}'.format(s)].at[index,'classification_name'] = closest_prototype\n",
      "C:\\Users\\dpere\\AppData\\Local\\Temp\\ipykernel_22648\\2666082859.py:18: FutureWarning: Setting an item of incompatible dtype is deprecated and will raise in a future error of pandas. Value 'חרדי מבוגר' has dtype incompatible with float64, please explicitly cast to a compatible dtype first.\n",
      "  locals()['data_df_{}'.format(s)].at[index,'classification_name'] = closest_prototype\n",
      "C:\\Users\\dpere\\AppData\\Local\\Temp\\ipykernel_22648\\2666082859.py:18: SettingWithCopyWarning: \n",
      "A value is trying to be set on a copy of a slice from a DataFrame.\n",
      "Try using .loc[row_indexer,col_indexer] = value instead\n",
      "\n",
      "See the caveats in the documentation: https://pandas.pydata.org/pandas-docs/stable/user_guide/indexing.html#returning-a-view-versus-a-copy\n",
      "  locals()['data_df_{}'.format(s)].at[index,'classification_name'] = closest_prototype\n",
      "C:\\Users\\dpere\\AppData\\Local\\Temp\\ipykernel_22648\\2666082859.py:18: FutureWarning: Setting an item of incompatible dtype is deprecated and will raise in a future error of pandas. Value 'כללי מאוזן' has dtype incompatible with float64, please explicitly cast to a compatible dtype first.\n",
      "  locals()['data_df_{}'.format(s)].at[index,'classification_name'] = closest_prototype\n",
      "C:\\Users\\dpere\\AppData\\Local\\Temp\\ipykernel_22648\\2666082859.py:18: SettingWithCopyWarning: \n",
      "A value is trying to be set on a copy of a slice from a DataFrame.\n",
      "Try using .loc[row_indexer,col_indexer] = value instead\n",
      "\n",
      "See the caveats in the documentation: https://pandas.pydata.org/pandas-docs/stable/user_guide/indexing.html#returning-a-view-versus-a-copy\n",
      "  locals()['data_df_{}'.format(s)].at[index,'classification_name'] = closest_prototype\n",
      "C:\\Users\\dpere\\AppData\\Local\\Temp\\ipykernel_22648\\2666082859.py:18: FutureWarning: Setting an item of incompatible dtype is deprecated and will raise in a future error of pandas. Value 'מתנחלי מאוזן ' has dtype incompatible with float64, please explicitly cast to a compatible dtype first.\n",
      "  locals()['data_df_{}'.format(s)].at[index,'classification_name'] = closest_prototype\n",
      "C:\\Users\\dpere\\AppData\\Local\\Temp\\ipykernel_22648\\2666082859.py:18: SettingWithCopyWarning: \n",
      "A value is trying to be set on a copy of a slice from a DataFrame.\n",
      "Try using .loc[row_indexer,col_indexer] = value instead\n",
      "\n",
      "See the caveats in the documentation: https://pandas.pydata.org/pandas-docs/stable/user_guide/indexing.html#returning-a-view-versus-a-copy\n",
      "  locals()['data_df_{}'.format(s)].at[index,'classification_name'] = closest_prototype\n",
      "C:\\Users\\dpere\\AppData\\Local\\Temp\\ipykernel_22648\\2666082859.py:18: FutureWarning: Setting an item of incompatible dtype is deprecated and will raise in a future error of pandas. Value 'ערבי בינוני' has dtype incompatible with float64, please explicitly cast to a compatible dtype first.\n",
      "  locals()['data_df_{}'.format(s)].at[index,'classification_name'] = closest_prototype\n"
     ]
    }
   ],
   "source": [
    "%run \"./fix_cbs_data_230717.ipynb\"\n",
    "%run \"./from_sa_cbs_to_ta_jtmt.ipynb\"\n",
    "%run \"./create_gov_student_num_by_muni.ipynb\"\n",
    "%run \"./prepare_students.ipynb\"\n",
    "%run \"./emp_current_year.ipynb\"\n",
    "%run \"./add_geo_info_and_export.ipynb\"\n",
    "%run \"./Determining_type_of_age_distribution_230719.ipynb\""
   ]
  }
 ],
 "metadata": {
  "kernelspec": {
   "display_name": "creat_forecast_ad_hoc_env",
   "language": "python",
   "name": "python3"
  },
  "language_info": {
   "codemirror_mode": {
    "name": "ipython",
    "version": 3
   },
   "file_extension": ".py",
   "mimetype": "text/x-python",
   "name": "python",
   "nbconvert_exporter": "python",
   "pygments_lexer": "ipython3",
   "version": "3.11.5"
  }
 },
 "nbformat": 4,
 "nbformat_minor": 2
}
