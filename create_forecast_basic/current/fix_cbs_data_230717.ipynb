{
 "cells": [
  {
   "cell_type": "markdown",
   "id": "0e7214ba",
   "metadata": {},
   "source": [
    "### קוד מבוא"
   ]
  },
  {
   "cell_type": "code",
   "execution_count": 924,
   "id": "f8405d52",
   "metadata": {},
   "outputs": [],
   "source": [
    "import pandas as pd\n",
    "import geopandas as gpd\n",
    "import numpy as np\n",
    "from shapely import wkt\n",
    "from matplotlib import pyplot as plt \n",
    "import folium\n",
    "import fiona\n",
    "from mpl_toolkits.axes_grid1 import make_axes_locatable\n",
    "from shapely.geometry import Point\n"
   ]
  },
  {
   "cell_type": "code",
   "execution_count": 925,
   "id": "2dacbc13",
   "metadata": {},
   "outputs": [],
   "source": [
    "pd.set_option('display.max_rows', None)\n",
    "pd.set_option('display.max_columns', None)"
   ]
  },
  {
   "cell_type": "code",
   "execution_count": 926,
   "id": "b2c3b3ca",
   "metadata": {},
   "outputs": [],
   "source": [
    "pd.options.display.float_format = '{:.4f}'.format\n",
    "pd.set_option('display.float_format',  '{:,.2f}'.format)"
   ]
  },
  {
   "cell_type": "markdown",
   "id": "9624443e",
   "metadata": {},
   "source": [
    "### פונקציות"
   ]
  },
  {
   "cell_type": "code",
   "execution_count": 927,
   "id": "6e6e636f",
   "metadata": {},
   "outputs": [],
   "source": [
    "def drop_geo(geoDF):\n",
    "    geoDF = geoDF.drop(columns='geometry')\n",
    "    return geoDF"
   ]
  },
  {
   "cell_type": "code",
   "execution_count": 928,
   "id": "d69c42ff",
   "metadata": {},
   "outputs": [],
   "source": [
    "def double_taz_num(df):\n",
    "    dup_taz_num=df.groupby(['Taz_num']).size().reset_index(name='count').query('count>1').Taz_num.to_list()\n",
    "    return df.loc[df['Taz_num'].isin(dup_taz_num)]"
   ]
  },
  {
   "cell_type": "code",
   "execution_count": 929,
   "id": "d048994a",
   "metadata": {},
   "outputs": [],
   "source": [
    "def make_point(df):\n",
    "    df_point=df.copy()\n",
    "    df_point['centroid'] = df_point.representative_point()\n",
    "    df_point=df_point.set_geometry('centroid')\n",
    "    df_point=df_point.drop(columns=['geometry'],axis=1)\n",
    "    return df_point"
   ]
  },
  {
   "cell_type": "code",
   "execution_count": 930,
   "id": "86bf5cad",
   "metadata": {},
   "outputs": [],
   "source": [
    "def up_load_gdb(path,layer_name):\n",
    "    path='{}'.format(path)\n",
    "    layer_list=fiona.listlayers(path)\n",
    "    gpd_layer=gpd.read_file(path, layer=layer_list.index(layer_name))\n",
    "    return gpd_layer"
   ]
  },
  {
   "cell_type": "code",
   "execution_count": 931,
   "id": "6acc6aa7",
   "metadata": {},
   "outputs": [],
   "source": [
    "def up_load_shp(path):\n",
    "    path='{}'.format(path)\n",
    "    gpd_layer=gpd.read_file(path)\n",
    "    return gpd_layer"
   ]
  },
  {
   "cell_type": "code",
   "execution_count": 932,
   "id": "cb093800",
   "metadata": {},
   "outputs": [],
   "source": [
    "def unique_id_in_one_taz(df_to_geoode,unique_field,gpd_for_geocode,taz):\n",
    "    \n",
    "    code_to_find=list(df_to_geoode[unique_field].unique())\n",
    "\n",
    "    gpd_for_geocode_to_sum_by_taz=gpd_for_geocode[[unique_field,'geometry']].loc[gpd_for_geocode[unique_field].isin(code_to_find)]\n",
    "\n",
    "    gpd_for_geocode_to_sum_by_taz=gpd.sjoin(taz[['Taz_num','geometry']],gpd_for_geocode_to_sum_by_taz)\n",
    "\n",
    "    gpd_for_geocode_in_one_taz=list(gpd_for_geocode_to_sum_by_taz.groupby(unique_field)[['Taz_num']].nunique().query('Taz_num==1').reset_index()[unique_field])\n",
    "\n",
    "    return gpd_for_geocode_in_one_taz"
   ]
  },
  {
   "cell_type": "code",
   "execution_count": 933,
   "id": "b1a16060",
   "metadata": {},
   "outputs": [],
   "source": [
    "def up_load_df(folder_path,file_name):\n",
    "    \n",
    "    path_df=r'{}\\{}.xlsx'.format(folder_path,file_name)\n",
    "    df=pd.read_excel(path_df)\n",
    "    df=df.dropna(how='all')\n",
    "\n",
    "    return df\n"
   ]
  },
  {
   "cell_type": "code",
   "execution_count": 934,
   "id": "5319a90d",
   "metadata": {},
   "outputs": [],
   "source": [
    "#העלת משתנים להרצת הקוד\n",
    "df_inputs_outputs = pd.read_excel('inputs_outputs.xlsx')\n",
    "\n",
    "software_data_folder_location=df_inputs_outputs['location'][0]\n",
    "\n",
    "forecast_version_folder_location=df_inputs_outputs['location'][1]\n"
   ]
  },
  {
   "cell_type": "markdown",
   "id": "d66f6096",
   "metadata": {},
   "source": [
    "### העלת טבלת המרה בין למס מרכזי למשני"
   ]
  },
  {
   "cell_type": "code",
   "execution_count": 935,
   "id": "1366eb07",
   "metadata": {},
   "outputs": [],
   "source": [
    "stat_join_from_main_to_secondary=up_load_df(\n",
    "        r'{}\\background_files'.format(software_data_folder_location),'stat_join_from_main_to_secondary')"
   ]
  },
  {
   "cell_type": "markdown",
   "id": "366eb7ab",
   "metadata": {},
   "source": [
    "### העלת טבלת יח_ד למ_ס"
   ]
  },
  {
   "cell_type": "code",
   "execution_count": 936,
   "id": "809075ee",
   "metadata": {},
   "outputs": [],
   "source": [
    "folder_path=r'{}\\background_files'.format(software_data_folder_location)\n",
    "file_name='מספר דירות לפי אזורים סטטיסטיים'\n",
    "\n",
    "path_df=r'{}\\{}.xlsx'.format(folder_path,file_name)\n",
    "df=pd.read_excel(path_df)\n",
    "df=df.dropna(how='all')\n",
    "\n",
    "\n",
    "stat_aprt=df"
   ]
  },
  {
   "cell_type": "code",
   "execution_count": 937,
   "id": "fb77759a",
   "metadata": {},
   "outputs": [],
   "source": [
    "col=['STAT', 'aprt_20']"
   ]
  },
  {
   "cell_type": "code",
   "execution_count": 938,
   "id": "f0722888",
   "metadata": {},
   "outputs": [],
   "source": [
    "stat_aprt=stat_aprt[col]"
   ]
  },
  {
   "cell_type": "markdown",
   "id": "9a0d615f",
   "metadata": {},
   "source": [
    "### שכבת אזורים סטטיסטים"
   ]
  },
  {
   "cell_type": "code",
   "execution_count": 939,
   "id": "206ca65c",
   "metadata": {},
   "outputs": [],
   "source": [
    "path=r'{}\\background_files\\statisticalareas_2020_demography.gdb'.format(software_data_folder_location)\n",
    "layer_list=fiona.listlayers(path)\n",
    "\n",
    "layer_name='statisticalareas_2020_demography_jtmt_area'\n",
    "\n",
    "gpd_layer=gpd.read_file(path, layer=layer_list.index(layer_name)).fillna(0)\n",
    "\n",
    "stat=gpd_layer.rename(columns={'YISHUV_STAT11':'STAT'})"
   ]
  },
  {
   "cell_type": "code",
   "execution_count": 940,
   "id": "de9afefb",
   "metadata": {},
   "outputs": [],
   "source": [
    "col_name=['STAT','geometry']\n",
    "stat=stat[col_name]"
   ]
  },
  {
   "cell_type": "code",
   "execution_count": 941,
   "id": "da6ec417",
   "metadata": {},
   "outputs": [],
   "source": [
    "stat=pd.merge(stat,stat_aprt,on='STAT',how='left').merge(stat_join_from_main_to_secondary,left_on='STAT',right_on='secondary_stat',how='left')"
   ]
  },
  {
   "cell_type": "code",
   "execution_count": 942,
   "id": "3f1564c7",
   "metadata": {},
   "outputs": [],
   "source": [
    "stat.loc[stat['precent_of_stat_data'].isna(),'main_stat']=stat['STAT']"
   ]
  },
  {
   "cell_type": "code",
   "execution_count": 943,
   "id": "effdac4f",
   "metadata": {},
   "outputs": [],
   "source": [
    "stat.loc[stat['precent_of_stat_data'].isna(),'secondary_stat']=stat['STAT']"
   ]
  },
  {
   "cell_type": "code",
   "execution_count": 944,
   "id": "e7974909",
   "metadata": {},
   "outputs": [],
   "source": [
    "stat.loc[stat['precent_of_stat_data'].isna(),'precent_of_stat_data']=1"
   ]
  },
  {
   "cell_type": "markdown",
   "id": "3c339905",
   "metadata": {},
   "source": [
    "###  מידע ברמת רשות"
   ]
  },
  {
   "cell_type": "code",
   "execution_count": 945,
   "id": "58258f84",
   "metadata": {},
   "outputs": [],
   "source": [
    "stat_point=make_point(stat[['STAT', 'geometry']])"
   ]
  },
  {
   "cell_type": "code",
   "execution_count": 946,
   "id": "1e56c0a1",
   "metadata": {},
   "outputs": [],
   "source": [
    "muni_under_JTMT_ITM=up_load_gdb(r'{}\\background_files\\MUNI_border.gdb'.format(software_data_folder_location),'muni_under_JTMT_ITM')"
   ]
  },
  {
   "cell_type": "code",
   "execution_count": 947,
   "id": "d43e5ae0",
   "metadata": {},
   "outputs": [],
   "source": [
    "muni_under_JTMT_ITM=muni_under_JTMT_ITM[['CR_PNIM','geometry']]"
   ]
  },
  {
   "cell_type": "code",
   "execution_count": 948,
   "id": "26b3199a",
   "metadata": {},
   "outputs": [],
   "source": [
    "stat=stat.set_index('STAT')"
   ]
  },
  {
   "cell_type": "code",
   "execution_count": 949,
   "id": "87c36cee",
   "metadata": {},
   "outputs": [],
   "source": [
    "stat['CR_PNIM']=stat_point.sjoin(muni_under_JTMT_ITM)[['STAT','CR_PNIM']].set_index('STAT')"
   ]
  },
  {
   "cell_type": "code",
   "execution_count": 950,
   "id": "0acb7baf",
   "metadata": {},
   "outputs": [],
   "source": [
    "stat=stat.reset_index()"
   ]
  },
  {
   "cell_type": "markdown",
   "id": "01e0f653",
   "metadata": {},
   "source": [
    "###  העלת מידע אוכלוסייה"
   ]
  },
  {
   "cell_type": "code",
   "execution_count": 951,
   "id": "00235be5",
   "metadata": {},
   "outputs": [],
   "source": [
    "folder_path=r'{}\\background_files'.format(software_data_folder_location)\n",
    "file_name='cbs_2020_with_age_distribution_type'\n",
    "\n",
    "path_df=r'{}\\{}.xlsx'.format(folder_path,file_name)\n",
    "df=pd.read_excel(path_df,sheet_name='classification')\n",
    "df=df.dropna(how='all')\n",
    "\n",
    "\n",
    "classification=df"
   ]
  },
  {
   "cell_type": "code",
   "execution_count": 952,
   "id": "1f9f3a83",
   "metadata": {},
   "outputs": [],
   "source": [
    "col_name=['main_stat','classification_name']\n",
    "classification=classification[col_name]"
   ]
  },
  {
   "cell_type": "code",
   "execution_count": 953,
   "id": "39226e6b",
   "metadata": {},
   "outputs": [],
   "source": [
    "classification=classification.drop_duplicates(subset='main_stat',keep='first')"
   ]
  },
  {
   "cell_type": "code",
   "execution_count": 954,
   "id": "140b5dd4",
   "metadata": {},
   "outputs": [],
   "source": [
    "stat=pd.merge(stat,classification,on='main_stat',how='left')"
   ]
  },
  {
   "cell_type": "code",
   "execution_count": 955,
   "id": "137bc6bd",
   "metadata": {},
   "outputs": [],
   "source": [
    "folder_path=r'{}\\background_files'.format(software_data_folder_location)\n",
    "file_name='cbs_2020_with_age_distribution_type'\n",
    "\n",
    "path_df=r'{}\\{}.xlsx'.format(folder_path,file_name)\n",
    "df=pd.read_excel(path_df,sheet_name='hh_size')\n",
    "df=df.dropna(how='all')\n",
    "\n",
    "\n",
    "hh_size=df"
   ]
  },
  {
   "cell_type": "code",
   "execution_count": 956,
   "id": "1d32f57a",
   "metadata": {},
   "outputs": [],
   "source": [
    "stat=pd.merge(stat,hh_size,on='classification_name',how='left')"
   ]
  },
  {
   "cell_type": "code",
   "execution_count": 957,
   "id": "b160ea0a",
   "metadata": {},
   "outputs": [],
   "source": [
    "folder_path=r'{}\\background_files'.format(software_data_folder_location)\n",
    "file_name='cbs_2020_with_age_distribution_type'\n",
    "\n",
    "path_df=r'{}\\{}.xlsx'.format(folder_path,file_name)\n",
    "df=pd.read_excel(path_df,sheet_name='types')\n",
    "df=df.dropna(how='all')\n",
    "\n",
    "\n",
    "age_des_types=df"
   ]
  },
  {
   "cell_type": "code",
   "execution_count": 958,
   "id": "3b26f902",
   "metadata": {},
   "outputs": [],
   "source": [
    "folder_path=r'{}\\background_files'.format(software_data_folder_location)\n",
    "file_name='cbs_2020_with_age_distribution_type'\n",
    "\n",
    "path_df=r'{}\\{}.xlsx'.format(folder_path,file_name)\n",
    "df=pd.read_excel(path_df,sheet_name='absolute_numbers')\n",
    "df=df.dropna(how='all').fillna(0)\n",
    "\n",
    "\n",
    "cbs_pop=df"
   ]
  },
  {
   "cell_type": "code",
   "execution_count": 959,
   "id": "14017fd8",
   "metadata": {},
   "outputs": [],
   "source": [
    "cbs_pop['pop']=cbs_pop.iloc[:,3:].sum(axis=1)"
   ]
  },
  {
   "cell_type": "code",
   "execution_count": 960,
   "id": "dc270fea",
   "metadata": {},
   "outputs": [],
   "source": [
    "age=['0','5','10','15','20','25','30','35','40','45','50','55','60','65','70','75','80','85']"
   ]
  },
  {
   "cell_type": "code",
   "execution_count": 961,
   "id": "396c2129",
   "metadata": {
    "code_folding": [],
    "scrolled": true
   },
   "outputs": [],
   "source": [
    "for x in age:\n",
    "    cbs_pop['pop_{}'.format(x)]= cbs_pop['female_{}'.format(x)]+cbs_pop['male_{}'.format(x)]"
   ]
  },
  {
   "cell_type": "code",
   "execution_count": 962,
   "id": "cf489af3",
   "metadata": {},
   "outputs": [],
   "source": [
    "cbs_pop['pop_75up']= cbs_pop[['pop_75', 'pop_80', 'pop_85']].sum(axis=1)"
   ]
  },
  {
   "cell_type": "code",
   "execution_count": 963,
   "id": "a0eef3a3",
   "metadata": {
    "code_folding": [
     0
    ]
   },
   "outputs": [],
   "source": [
    "col=[ 'main_stat', 'pop', 'pop_0', 'pop_5', 'pop_10', 'pop_15', 'pop_20', 'pop_25', 'pop_30', 'pop_35', 'pop_40', 'pop_45', 'pop_50',\n",
    " 'pop_55',\n",
    " 'pop_60',\n",
    " 'pop_65',\n",
    " 'pop_70',\n",
    " 'pop_75up']"
   ]
  },
  {
   "cell_type": "code",
   "execution_count": 964,
   "id": "7b43602f",
   "metadata": {},
   "outputs": [],
   "source": [
    "cbs_pop=cbs_pop[col]"
   ]
  },
  {
   "cell_type": "markdown",
   "id": "5a2d8e68",
   "metadata": {},
   "source": [
    "יצירת טבלת התפלגות גילים באחוזים לטובת המשך הקוד כאשר יש שינויים בסך הכל אוכלוסיה אבל מעוניינים עדיין בהתפלגות גילים המקורית"
   ]
  },
  {
   "cell_type": "code",
   "execution_count": 965,
   "id": "1466d104",
   "metadata": {},
   "outputs": [],
   "source": [
    "cbs_pop_pre=cbs_pop.copy()"
   ]
  },
  {
   "cell_type": "code",
   "execution_count": 966,
   "id": "6b44a09b",
   "metadata": {},
   "outputs": [],
   "source": [
    "col=list(cbs_pop_pre.iloc[:,1:])"
   ]
  },
  {
   "cell_type": "code",
   "execution_count": 967,
   "id": "74f8fcec",
   "metadata": {},
   "outputs": [],
   "source": [
    "cbs_pop_pre.loc[:, col] = cbs_pop_pre.loc[:, col].div(cbs_pop_pre['pop'], axis=0)"
   ]
  },
  {
   "cell_type": "code",
   "execution_count": 968,
   "id": "687c8caf",
   "metadata": {},
   "outputs": [],
   "source": [
    "cbs_pop_pre=cbs_pop_pre.fillna(0)"
   ]
  },
  {
   "cell_type": "code",
   "execution_count": 969,
   "id": "e7ff347f",
   "metadata": {},
   "outputs": [],
   "source": [
    "cbs_pop_pre=cbs_pop_pre.rename(columns={'pop':'pop_pre'})"
   ]
  },
  {
   "cell_type": "code",
   "execution_count": 970,
   "id": "25740659",
   "metadata": {},
   "outputs": [],
   "source": [
    "cbs_pop_pre=cbs_pop_pre.merge(cbs_pop[['main_stat', 'pop']],on='main_stat',how='left')"
   ]
  },
  {
   "cell_type": "code",
   "execution_count": 971,
   "id": "235825c5",
   "metadata": {},
   "outputs": [],
   "source": [
    "stat=pd.merge(stat,cbs_pop_pre,on='main_stat',how='left')"
   ]
  },
  {
   "cell_type": "code",
   "execution_count": 972,
   "id": "a830aefb",
   "metadata": {},
   "outputs": [],
   "source": [
    "stat['pop']=stat['pop']*stat['precent_of_stat_data']"
   ]
  },
  {
   "cell_type": "markdown",
   "id": "a6d2b0bc",
   "metadata": {},
   "source": [
    "###  אחוז חרדים מכלל א\"ס"
   ]
  },
  {
   "cell_type": "code",
   "execution_count": 973,
   "id": "107ecbc8",
   "metadata": {},
   "outputs": [],
   "source": [
    "folder_path=r'{}\\background_files'.format(software_data_folder_location)\n",
    "file_name='אוכלוסייה חרדית לפי מחוז, יישוב, ואזור סטטיסטי - 2020'\n",
    "\n",
    "path_df=r'{}\\{}.xlsx'.format(folder_path,file_name)\n",
    "df=pd.read_excel(path_df)\n",
    "df=df.dropna(how='all')\n",
    "\n",
    "\n",
    "stat_hardi=df"
   ]
  },
  {
   "cell_type": "code",
   "execution_count": 974,
   "id": "59929e2a",
   "metadata": {},
   "outputs": [],
   "source": [
    "stat_hardi=stat_hardi[['pre_hardi','main_stat']].set_index('main_stat')"
   ]
  },
  {
   "cell_type": "code",
   "execution_count": 975,
   "id": "1b4cc78c",
   "metadata": {},
   "outputs": [],
   "source": [
    "stat=stat.set_index('main_stat')"
   ]
  },
  {
   "cell_type": "code",
   "execution_count": 976,
   "id": "72a20d96",
   "metadata": {},
   "outputs": [],
   "source": [
    "stat['pre_hardi']=stat_hardi['pre_hardi']"
   ]
  },
  {
   "cell_type": "code",
   "execution_count": 977,
   "id": "1719329f",
   "metadata": {},
   "outputs": [],
   "source": [
    "stat['pre_hardi']=stat['pre_hardi'].fillna(0)"
   ]
  },
  {
   "cell_type": "markdown",
   "id": "7e82075f",
   "metadata": {},
   "source": [
    "###  תיקון שלב א ערבי ירושלים"
   ]
  },
  {
   "cell_type": "code",
   "execution_count": 978,
   "id": "575f6f29",
   "metadata": {},
   "outputs": [],
   "source": [
    "path=r'{}\\background_files\\statisticalareas_2020_demography.gdb'.format(software_data_folder_location)\n",
    "layer_name='statisticalareas_2020_demography_arab_jtmt'\n",
    "stat_arab=up_load_gdb(path,layer_name)"
   ]
  },
  {
   "cell_type": "code",
   "execution_count": 979,
   "id": "9949efd7",
   "metadata": {},
   "outputs": [],
   "source": [
    "col=['STAT', 'group_name']"
   ]
  },
  {
   "cell_type": "code",
   "execution_count": 980,
   "id": "e8bc0a2c",
   "metadata": {},
   "outputs": [],
   "source": [
    "stat_arab=stat_arab[col]"
   ]
  },
  {
   "cell_type": "code",
   "execution_count": 981,
   "id": "ef48446d",
   "metadata": {},
   "outputs": [],
   "source": [
    "stat_arab=stat_arab.merge(cbs_pop_pre,left_on='STAT',right_on='main_stat',how='left')"
   ]
  },
  {
   "cell_type": "code",
   "execution_count": 982,
   "id": "76b5ee46",
   "metadata": {},
   "outputs": [],
   "source": [
    "stat_arab=stat_arab.set_index('group_name')"
   ]
  },
  {
   "cell_type": "code",
   "execution_count": 983,
   "id": "f98964ef",
   "metadata": {},
   "outputs": [],
   "source": [
    "group_pop=stat_arab.groupby(by='group_name').sum()[['pop']]"
   ]
  },
  {
   "cell_type": "code",
   "execution_count": 984,
   "id": "99e9beeb",
   "metadata": {},
   "outputs": [],
   "source": [
    "stat_arab['group_pop']=group_pop['pop']"
   ]
  },
  {
   "cell_type": "code",
   "execution_count": 985,
   "id": "5f0080b0",
   "metadata": {},
   "outputs": [],
   "source": [
    "stat_arab['pre_from_group_pop']=stat_arab['pop']/stat_arab['group_pop']"
   ]
  },
  {
   "cell_type": "code",
   "execution_count": 986,
   "id": "25090989",
   "metadata": {},
   "outputs": [],
   "source": [
    "data = [['akev', 55000], ['Shuafat', 75000],['east_jeru_left',0]]"
   ]
  },
  {
   "cell_type": "code",
   "execution_count": 987,
   "id": "418c89da",
   "metadata": {},
   "outputs": [],
   "source": [
    "group_pop_jtmt = pd.DataFrame(data, columns=['group_name', 'pop']).set_index('group_name')"
   ]
  },
  {
   "cell_type": "code",
   "execution_count": 988,
   "id": "bfd7cf07",
   "metadata": {},
   "outputs": [],
   "source": [
    "group_pop_delta=group_pop-group_pop_jtmt"
   ]
  },
  {
   "cell_type": "code",
   "execution_count": 989,
   "id": "dfd40efe",
   "metadata": {},
   "outputs": [],
   "source": [
    "group_pop_delta=group_pop_delta.loc['east_jeru_left']+(group_pop_delta.loc['Shuafat']+group_pop_delta.loc['akev'])*0.8#בגלל שהדלתא מוסבר עי הגירה מיוש ולא רק מהעיר ירושלים "
   ]
  },
  {
   "cell_type": "code",
   "execution_count": 990,
   "id": "6f681d0a",
   "metadata": {},
   "outputs": [
    {
     "name": "stderr",
     "output_type": "stream",
     "text": [
      "C:\\Users\\dpere\\AppData\\Local\\Temp\\ipykernel_18552\\3666940613.py:1: FutureWarning: Setting an item of incompatible dtype is deprecated and will raise in a future error of pandas. Value '235652.6' has dtype incompatible with int64, please explicitly cast to a compatible dtype first.\n",
      "  group_pop_jtmt.loc['east_jeru_left','pop']=group_pop_delta.item()\n"
     ]
    }
   ],
   "source": [
    "group_pop_jtmt.loc['east_jeru_left','pop']=group_pop_delta.item()"
   ]
  },
  {
   "cell_type": "code",
   "execution_count": 991,
   "id": "3963061b",
   "metadata": {},
   "outputs": [],
   "source": [
    "stat_arab['group_pop_jtmt']=group_pop_jtmt['pop']"
   ]
  },
  {
   "cell_type": "code",
   "execution_count": 992,
   "id": "1d4ab79a",
   "metadata": {},
   "outputs": [],
   "source": [
    "stat_arab['pop']=stat_arab['pre_from_group_pop']*stat_arab['group_pop_jtmt']"
   ]
  },
  {
   "cell_type": "markdown",
   "id": "0f4bb507",
   "metadata": {},
   "source": [
    "###  הטמעת תיקון שלב א"
   ]
  },
  {
   "cell_type": "code",
   "execution_count": 993,
   "id": "d8416382",
   "metadata": {},
   "outputs": [],
   "source": [
    "stat_arab=stat_arab.set_index('main_stat')"
   ]
  },
  {
   "cell_type": "code",
   "execution_count": 994,
   "id": "88fa3b93",
   "metadata": {},
   "outputs": [],
   "source": [
    "stat['pop_cbs']=stat['pop']"
   ]
  },
  {
   "cell_type": "code",
   "execution_count": 995,
   "id": "7551967d",
   "metadata": {},
   "outputs": [],
   "source": [
    "stat.loc[list(stat_arab.index),'pop']=stat_arab['pop']"
   ]
  },
  {
   "cell_type": "code",
   "execution_count": 996,
   "id": "3957513d",
   "metadata": {},
   "outputs": [],
   "source": [
    "stat['change_from_cbs']=''"
   ]
  },
  {
   "cell_type": "code",
   "execution_count": 997,
   "id": "45fcc199",
   "metadata": {
    "scrolled": true
   },
   "outputs": [],
   "source": [
    "stat.loc[list(stat_arab.index),'change_from_cbs']='| general_arab_change |'"
   ]
  },
  {
   "cell_type": "markdown",
   "id": "da453a3f",
   "metadata": {},
   "source": [
    "###  העלת א\"ס בעייתי לתיקון שלב ב"
   ]
  },
  {
   "cell_type": "code",
   "execution_count": 998,
   "id": "97f9a11d",
   "metadata": {},
   "outputs": [],
   "source": [
    "path=r'{}\\background_files\\jtmt_fix_for_cbs_data_2020.shp'.format(software_data_folder_location)\n",
    "\n",
    "jtmt_fix_stat=up_load_shp(path)"
   ]
  },
  {
   "cell_type": "code",
   "execution_count": 999,
   "id": "1c2f9cca",
   "metadata": {},
   "outputs": [],
   "source": [
    "col=['STAT',\n",
    " 'fix_pop',\n",
    " 'fix_aprt',\n",
    " 'fix_class']"
   ]
  },
  {
   "cell_type": "code",
   "execution_count": 1000,
   "id": "1b02ea44",
   "metadata": {},
   "outputs": [],
   "source": [
    "jtmt_fix_stat=jtmt_fix_stat[col].set_index('STAT')"
   ]
  },
  {
   "cell_type": "code",
   "execution_count": 1001,
   "id": "92fecd16",
   "metadata": {},
   "outputs": [],
   "source": [
    "stat=stat.set_index('STAT')"
   ]
  },
  {
   "cell_type": "code",
   "execution_count": 1002,
   "id": "a1b5dcbb",
   "metadata": {},
   "outputs": [],
   "source": [
    "stat=stat.join(jtmt_fix_stat, how='left')"
   ]
  },
  {
   "cell_type": "markdown",
   "id": "7109edd7",
   "metadata": {},
   "source": [
    "###  יצירת גמ לפי קטלוג"
   ]
  },
  {
   "cell_type": "code",
   "execution_count": 1003,
   "id": "a7954092",
   "metadata": {},
   "outputs": [],
   "source": [
    "cbs_not_lie_lst=list(stat.query('fix_pop.isna() & fix_aprt.isna() & fix_class.isna() ').index)"
   ]
  },
  {
   "cell_type": "code",
   "execution_count": 1004,
   "id": "223ce441",
   "metadata": {},
   "outputs": [],
   "source": [
    "stat['count']=1"
   ]
  },
  {
   "cell_type": "code",
   "execution_count": 1005,
   "id": "ec6e4566",
   "metadata": {},
   "outputs": [],
   "source": [
    "stat=stat.reset_index()"
   ]
  },
  {
   "cell_type": "code",
   "execution_count": 1006,
   "id": "a95835fb",
   "metadata": {},
   "outputs": [],
   "source": [
    "stat.loc[stat['STAT'].isin(cbs_not_lie_lst),['fix_pop','fix_aprt','fix_class']]=1"
   ]
  },
  {
   "cell_type": "code",
   "execution_count": 1007,
   "id": "d2b8fba3",
   "metadata": {
    "scrolled": true
   },
   "outputs": [
    {
     "name": "stderr",
     "output_type": "stream",
     "text": [
      "C:\\Users\\dpere\\AppData\\Local\\Temp\\ipykernel_18552\\2288041502.py:1: FutureWarning: The provided callable <built-in function sum> is currently using DataFrameGroupBy.sum. In a future version of pandas, the provided callable will be used directly. To keep current behavior pass the string \"sum\" instead.\n",
      "  hh_size_by_classification=drop_geo(stat).loc[(stat['aprt_20']>0)&(stat['STAT'].isin(cbs_not_lie_lst))].pivot_table(index='classification_name',aggfunc=sum)[['aprt_20','pop','count']]\n"
     ]
    }
   ],
   "source": [
    "hh_size_by_classification=drop_geo(stat).loc[(stat['aprt_20']>0)&(stat['STAT'].isin(cbs_not_lie_lst))].pivot_table(index='classification_name',aggfunc=sum)[['aprt_20','pop','count']]"
   ]
  },
  {
   "cell_type": "code",
   "execution_count": 1008,
   "id": "b45557ab",
   "metadata": {},
   "outputs": [],
   "source": [
    "hh_size_by_classification['hh_size']=hh_size_by_classification['pop']/hh_size_by_classification['aprt_20']"
   ]
  },
  {
   "cell_type": "code",
   "execution_count": 1009,
   "id": "8e0fec03",
   "metadata": {},
   "outputs": [],
   "source": [
    "hh_size_by_classification=hh_size_by_classification[['hh_size','count']]"
   ]
  },
  {
   "cell_type": "code",
   "execution_count": 1010,
   "id": "1186b814",
   "metadata": {},
   "outputs": [],
   "source": [
    "hh_size=hh_size.merge(hh_size_by_classification.reset_index(),how='left',on='classification_name',suffixes=('','_cbs'))"
   ]
  },
  {
   "cell_type": "markdown",
   "id": "7bcd0aa1",
   "metadata": {},
   "source": [
    "###  תיקון שלב ב"
   ]
  },
  {
   "cell_type": "code",
   "execution_count": 1011,
   "id": "f8976b5f",
   "metadata": {},
   "outputs": [],
   "source": [
    "stat.loc[(stat['fix_pop']==0)&(stat['fix_aprt']==1)&(stat['fix_class']==1),'pop']=stat['aprt_20']*stat['hh_size']"
   ]
  },
  {
   "cell_type": "code",
   "execution_count": 1012,
   "id": "c5040891",
   "metadata": {},
   "outputs": [],
   "source": [
    "stat.loc[(stat['fix_pop']==0)&(stat['fix_aprt']==1)&(stat['fix_class']==1),'change_from_cbs']=stat['change_from_cbs']+'| pop_created_from_cbs_aprt |'"
   ]
  },
  {
   "cell_type": "code",
   "execution_count": 1013,
   "id": "38e7c06a",
   "metadata": {},
   "outputs": [],
   "source": [
    "stat.loc[(stat['fix_pop']==0)&(stat['fix_aprt']==0)&(stat['fix_class']==0),'pop']=0"
   ]
  },
  {
   "cell_type": "code",
   "execution_count": 1014,
   "id": "548e6559",
   "metadata": {},
   "outputs": [],
   "source": [
    "stat.loc[(stat['fix_pop']==0)&(stat['fix_aprt']==0)&(stat['fix_class']==0),'change_from_cbs']=stat['change_from_cbs']+'| cbs_pop_deleted |'"
   ]
  },
  {
   "cell_type": "code",
   "execution_count": 1015,
   "id": "2566cd73",
   "metadata": {},
   "outputs": [],
   "source": [
    "stat['aprt_20_cbs']=stat['aprt_20']"
   ]
  },
  {
   "cell_type": "code",
   "execution_count": 1016,
   "id": "2ab636c7",
   "metadata": {},
   "outputs": [],
   "source": [
    "stat.loc[(stat['fix_pop']==0)&(stat['fix_aprt']==0)&(stat['fix_class']==0),'aprt_20']=0"
   ]
  },
  {
   "cell_type": "code",
   "execution_count": 1017,
   "id": "c9edf803",
   "metadata": {},
   "outputs": [],
   "source": [
    "stat.loc[(stat['fix_pop']==0)&(stat['fix_aprt']==0)&(stat['fix_class']==0),'change_from_cbs']=stat['change_from_cbs']+'| cbs_aprt_deleted |'"
   ]
  },
  {
   "cell_type": "code",
   "execution_count": 1018,
   "id": "00332084",
   "metadata": {},
   "outputs": [],
   "source": [
    "stat.loc[(stat['fix_pop']==1)&(stat['fix_aprt']==0)&(stat['fix_class']==1),'aprt_20']=stat['pop']/stat['hh_size']"
   ]
  },
  {
   "cell_type": "code",
   "execution_count": 1019,
   "id": "ea1f0311",
   "metadata": {},
   "outputs": [],
   "source": [
    "stat.loc[(stat['fix_pop']==1)&(stat['fix_aprt']==0)&(stat['fix_class']==1),'change_from_cbs']=stat['change_from_cbs']+'| aprt_created_from_pop |'"
   ]
  },
  {
   "cell_type": "markdown",
   "id": "1f7b4746",
   "metadata": {},
   "source": [
    "כאן מתקנים מספר דירות לפי גודל משק בית באזורים ערביים שהגודל משק בית יותר או פחות 20% ממה שאנחנו חושבים שצריך להיות שם"
   ]
  },
  {
   "cell_type": "code",
   "execution_count": 1020,
   "id": "3834400f",
   "metadata": {},
   "outputs": [],
   "source": [
    "stat.loc[(stat['classification_name'].str.contains(\"ערבי\")==True)&(((stat['pop']/stat['aprt_20'])/stat['hh_size']>1.2)|((stat['pop']/stat['aprt_20'])/stat['hh_size']<0.8)),'aprt_20']=stat['pop']/stat['hh_size']"
   ]
  },
  {
   "cell_type": "code",
   "execution_count": 1021,
   "id": "ffb57c2e",
   "metadata": {},
   "outputs": [],
   "source": [
    "stat.loc[(stat['classification_name'].str.contains(\"ערבי\")==True)&(((stat['pop']/stat['aprt_20'])/stat['hh_size']>1.2)|((stat['pop']/stat['aprt_20'])/stat['hh_size']<0.8)),'change_from_cbs']=stat['change_from_cbs']+'| aprt_created_from_pop_because_hh_size_not_in_range |'"
   ]
  },
  {
   "cell_type": "markdown",
   "id": "bcbb161d",
   "metadata": {},
   "source": [
    "###  יצירת דירות לפי גודל משק בית"
   ]
  },
  {
   "cell_type": "code",
   "execution_count": 1022,
   "id": "483deefa",
   "metadata": {},
   "outputs": [],
   "source": [
    "stat.loc[((stat['aprt_20'].isna())|(stat['aprt_20']==0))&(stat['pop']>0),'change_from_cbs']=stat['change_from_cbs']+'| aprt_created_from_pop_because_no_cbs_data |'"
   ]
  },
  {
   "cell_type": "code",
   "execution_count": 1023,
   "id": "e4dfffa5",
   "metadata": {},
   "outputs": [],
   "source": [
    "stat.loc[((stat['aprt_20'].isna())|(stat['aprt_20']==0))&(stat['pop']>0),'aprt_20']=round(stat['pop']/stat['hh_size'])"
   ]
  },
  {
   "cell_type": "markdown",
   "id": "8af12531",
   "metadata": {},
   "source": [
    "### בקרת מידע למס ברמה של רשות\n"
   ]
  },
  {
   "cell_type": "code",
   "execution_count": 1024,
   "id": "78771eb4",
   "metadata": {},
   "outputs": [],
   "source": [
    "pop_2020_cbs_muni=up_load_df(r'{}\\background_files'.format(software_data_folder_location),'pop_2020_cbs_muni')"
   ]
  },
  {
   "cell_type": "code",
   "execution_count": 1025,
   "id": "eed36093",
   "metadata": {},
   "outputs": [],
   "source": [
    "stat['CR_PNIM']=stat['CR_PNIM'].fillna(0).astype(int)"
   ]
  },
  {
   "cell_type": "code",
   "execution_count": 1026,
   "id": "d544d503",
   "metadata": {},
   "outputs": [
    {
     "name": "stderr",
     "output_type": "stream",
     "text": [
      "C:\\Users\\dpere\\AppData\\Local\\Temp\\ipykernel_18552\\4183254908.py:1: FutureWarning: The provided callable <built-in function sum> is currently using DataFrameGroupBy.sum. In a future version of pandas, the provided callable will be used directly. To keep current behavior pass the string \"sum\" instead.\n",
      "  stat_by_muni_sum=stat.pivot_table(index='CR_PNIM',aggfunc=sum)[['pop_cbs','pop']]\n"
     ]
    },
    {
     "ename": "TypeError",
     "evalue": "agg function failed [how->sum,dtype->geometry]",
     "output_type": "error",
     "traceback": [
      "\u001b[1;31m---------------------------------------------------------------------------\u001b[0m",
      "\u001b[1;31mTypeError\u001b[0m                                 Traceback (most recent call last)",
      "File \u001b[1;32mc:\\Users\\dpere\\miniconda3\\envs\\creat_forecast_ad_hoc_env\\Lib\\site-packages\\pandas\\core\\groupby\\groupby.py:1871\u001b[0m, in \u001b[0;36mGroupBy._agg_py_fallback\u001b[1;34m(self, how, values, ndim, alt)\u001b[0m\n\u001b[0;32m   1870\u001b[0m \u001b[38;5;28;01mtry\u001b[39;00m:\n\u001b[1;32m-> 1871\u001b[0m     res_values \u001b[38;5;241m=\u001b[39m \u001b[38;5;28;43mself\u001b[39;49m\u001b[38;5;241;43m.\u001b[39;49m\u001b[43mgrouper\u001b[49m\u001b[38;5;241;43m.\u001b[39;49m\u001b[43magg_series\u001b[49m\u001b[43m(\u001b[49m\u001b[43mser\u001b[49m\u001b[43m,\u001b[49m\u001b[43m \u001b[49m\u001b[43malt\u001b[49m\u001b[43m,\u001b[49m\u001b[43m \u001b[49m\u001b[43mpreserve_dtype\u001b[49m\u001b[38;5;241;43m=\u001b[39;49m\u001b[38;5;28;43;01mTrue\u001b[39;49;00m\u001b[43m)\u001b[49m\n\u001b[0;32m   1872\u001b[0m \u001b[38;5;28;01mexcept\u001b[39;00m \u001b[38;5;167;01mException\u001b[39;00m \u001b[38;5;28;01mas\u001b[39;00m err:\n",
      "File \u001b[1;32mc:\\Users\\dpere\\miniconda3\\envs\\creat_forecast_ad_hoc_env\\Lib\\site-packages\\pandas\\core\\groupby\\ops.py:850\u001b[0m, in \u001b[0;36mBaseGrouper.agg_series\u001b[1;34m(self, obj, func, preserve_dtype)\u001b[0m\n\u001b[0;32m    848\u001b[0m     preserve_dtype \u001b[38;5;241m=\u001b[39m \u001b[38;5;28;01mTrue\u001b[39;00m\n\u001b[1;32m--> 850\u001b[0m result \u001b[38;5;241m=\u001b[39m \u001b[38;5;28;43mself\u001b[39;49m\u001b[38;5;241;43m.\u001b[39;49m\u001b[43m_aggregate_series_pure_python\u001b[49m\u001b[43m(\u001b[49m\u001b[43mobj\u001b[49m\u001b[43m,\u001b[49m\u001b[43m \u001b[49m\u001b[43mfunc\u001b[49m\u001b[43m)\u001b[49m\n\u001b[0;32m    852\u001b[0m npvalues \u001b[38;5;241m=\u001b[39m lib\u001b[38;5;241m.\u001b[39mmaybe_convert_objects(result, try_float\u001b[38;5;241m=\u001b[39m\u001b[38;5;28;01mFalse\u001b[39;00m)\n",
      "File \u001b[1;32mc:\\Users\\dpere\\miniconda3\\envs\\creat_forecast_ad_hoc_env\\Lib\\site-packages\\pandas\\core\\groupby\\ops.py:871\u001b[0m, in \u001b[0;36mBaseGrouper._aggregate_series_pure_python\u001b[1;34m(self, obj, func)\u001b[0m\n\u001b[0;32m    870\u001b[0m \u001b[38;5;28;01mfor\u001b[39;00m i, group \u001b[38;5;129;01min\u001b[39;00m \u001b[38;5;28menumerate\u001b[39m(splitter):\n\u001b[1;32m--> 871\u001b[0m     res \u001b[38;5;241m=\u001b[39m \u001b[43mfunc\u001b[49m\u001b[43m(\u001b[49m\u001b[43mgroup\u001b[49m\u001b[43m)\u001b[49m\n\u001b[0;32m    872\u001b[0m     res \u001b[38;5;241m=\u001b[39m extract_result(res)\n",
      "File \u001b[1;32mc:\\Users\\dpere\\miniconda3\\envs\\creat_forecast_ad_hoc_env\\Lib\\site-packages\\numpy\\core\\fromnumeric.py:2313\u001b[0m, in \u001b[0;36msum\u001b[1;34m(a, axis, dtype, out, keepdims, initial, where)\u001b[0m\n\u001b[0;32m   2311\u001b[0m     \u001b[38;5;28;01mreturn\u001b[39;00m res\n\u001b[1;32m-> 2313\u001b[0m \u001b[38;5;28;01mreturn\u001b[39;00m \u001b[43m_wrapreduction\u001b[49m\u001b[43m(\u001b[49m\u001b[43ma\u001b[49m\u001b[43m,\u001b[49m\u001b[43m \u001b[49m\u001b[43mnp\u001b[49m\u001b[38;5;241;43m.\u001b[39;49m\u001b[43madd\u001b[49m\u001b[43m,\u001b[49m\u001b[43m \u001b[49m\u001b[38;5;124;43m'\u001b[39;49m\u001b[38;5;124;43msum\u001b[39;49m\u001b[38;5;124;43m'\u001b[39;49m\u001b[43m,\u001b[49m\u001b[43m \u001b[49m\u001b[43maxis\u001b[49m\u001b[43m,\u001b[49m\u001b[43m \u001b[49m\u001b[43mdtype\u001b[49m\u001b[43m,\u001b[49m\u001b[43m \u001b[49m\u001b[43mout\u001b[49m\u001b[43m,\u001b[49m\u001b[43m \u001b[49m\u001b[43mkeepdims\u001b[49m\u001b[38;5;241;43m=\u001b[39;49m\u001b[43mkeepdims\u001b[49m\u001b[43m,\u001b[49m\n\u001b[0;32m   2314\u001b[0m \u001b[43m                      \u001b[49m\u001b[43minitial\u001b[49m\u001b[38;5;241;43m=\u001b[39;49m\u001b[43minitial\u001b[49m\u001b[43m,\u001b[49m\u001b[43m \u001b[49m\u001b[43mwhere\u001b[49m\u001b[38;5;241;43m=\u001b[39;49m\u001b[43mwhere\u001b[49m\u001b[43m)\u001b[49m\n",
      "File \u001b[1;32mc:\\Users\\dpere\\miniconda3\\envs\\creat_forecast_ad_hoc_env\\Lib\\site-packages\\numpy\\core\\fromnumeric.py:86\u001b[0m, in \u001b[0;36m_wrapreduction\u001b[1;34m(obj, ufunc, method, axis, dtype, out, **kwargs)\u001b[0m\n\u001b[0;32m     85\u001b[0m         \u001b[38;5;28;01melse\u001b[39;00m:\n\u001b[1;32m---> 86\u001b[0m             \u001b[38;5;28;01mreturn\u001b[39;00m \u001b[43mreduction\u001b[49m\u001b[43m(\u001b[49m\u001b[43maxis\u001b[49m\u001b[38;5;241;43m=\u001b[39;49m\u001b[43maxis\u001b[49m\u001b[43m,\u001b[49m\u001b[43m \u001b[49m\u001b[43mout\u001b[49m\u001b[38;5;241;43m=\u001b[39;49m\u001b[43mout\u001b[49m\u001b[43m,\u001b[49m\u001b[43m \u001b[49m\u001b[38;5;241;43m*\u001b[39;49m\u001b[38;5;241;43m*\u001b[39;49m\u001b[43mpasskwargs\u001b[49m\u001b[43m)\u001b[49m\n\u001b[0;32m     88\u001b[0m \u001b[38;5;28;01mreturn\u001b[39;00m ufunc\u001b[38;5;241m.\u001b[39mreduce(obj, axis, dtype, out, \u001b[38;5;241m*\u001b[39m\u001b[38;5;241m*\u001b[39mpasskwargs)\n",
      "File \u001b[1;32mc:\\Users\\dpere\\miniconda3\\envs\\creat_forecast_ad_hoc_env\\Lib\\site-packages\\pandas\\core\\series.py:6200\u001b[0m, in \u001b[0;36mSeries.sum\u001b[1;34m(self, axis, skipna, numeric_only, min_count, **kwargs)\u001b[0m\n\u001b[0;32m   6191\u001b[0m \u001b[38;5;129m@doc\u001b[39m(make_doc(\u001b[38;5;124m\"\u001b[39m\u001b[38;5;124msum\u001b[39m\u001b[38;5;124m\"\u001b[39m, ndim\u001b[38;5;241m=\u001b[39m\u001b[38;5;241m1\u001b[39m))\n\u001b[0;32m   6192\u001b[0m \u001b[38;5;28;01mdef\u001b[39;00m \u001b[38;5;21msum\u001b[39m(\n\u001b[0;32m   6193\u001b[0m     \u001b[38;5;28mself\u001b[39m,\n\u001b[1;32m   (...)\u001b[0m\n\u001b[0;32m   6198\u001b[0m     \u001b[38;5;241m*\u001b[39m\u001b[38;5;241m*\u001b[39mkwargs,\n\u001b[0;32m   6199\u001b[0m ):\n\u001b[1;32m-> 6200\u001b[0m     \u001b[38;5;28;01mreturn\u001b[39;00m \u001b[43mNDFrame\u001b[49m\u001b[38;5;241;43m.\u001b[39;49m\u001b[43msum\u001b[49m\u001b[43m(\u001b[49m\u001b[38;5;28;43mself\u001b[39;49m\u001b[43m,\u001b[49m\u001b[43m \u001b[49m\u001b[43maxis\u001b[49m\u001b[43m,\u001b[49m\u001b[43m \u001b[49m\u001b[43mskipna\u001b[49m\u001b[43m,\u001b[49m\u001b[43m \u001b[49m\u001b[43mnumeric_only\u001b[49m\u001b[43m,\u001b[49m\u001b[43m \u001b[49m\u001b[43mmin_count\u001b[49m\u001b[43m,\u001b[49m\u001b[43m \u001b[49m\u001b[38;5;241;43m*\u001b[39;49m\u001b[38;5;241;43m*\u001b[39;49m\u001b[43mkwargs\u001b[49m\u001b[43m)\u001b[49m\n",
      "File \u001b[1;32mc:\\Users\\dpere\\miniconda3\\envs\\creat_forecast_ad_hoc_env\\Lib\\site-packages\\pandas\\core\\generic.py:12064\u001b[0m, in \u001b[0;36mNDFrame.sum\u001b[1;34m(self, axis, skipna, numeric_only, min_count, **kwargs)\u001b[0m\n\u001b[0;32m  12056\u001b[0m \u001b[38;5;28;01mdef\u001b[39;00m \u001b[38;5;21msum\u001b[39m(\n\u001b[0;32m  12057\u001b[0m     \u001b[38;5;28mself\u001b[39m,\n\u001b[0;32m  12058\u001b[0m     axis: Axis \u001b[38;5;241m|\u001b[39m \u001b[38;5;28;01mNone\u001b[39;00m \u001b[38;5;241m=\u001b[39m \u001b[38;5;241m0\u001b[39m,\n\u001b[1;32m   (...)\u001b[0m\n\u001b[0;32m  12062\u001b[0m     \u001b[38;5;241m*\u001b[39m\u001b[38;5;241m*\u001b[39mkwargs,\n\u001b[0;32m  12063\u001b[0m ):\n\u001b[1;32m> 12064\u001b[0m     \u001b[38;5;28;01mreturn\u001b[39;00m \u001b[38;5;28;43mself\u001b[39;49m\u001b[38;5;241;43m.\u001b[39;49m\u001b[43m_min_count_stat_function\u001b[49m\u001b[43m(\u001b[49m\n\u001b[0;32m  12065\u001b[0m \u001b[43m        \u001b[49m\u001b[38;5;124;43m\"\u001b[39;49m\u001b[38;5;124;43msum\u001b[39;49m\u001b[38;5;124;43m\"\u001b[39;49m\u001b[43m,\u001b[49m\u001b[43m \u001b[49m\u001b[43mnanops\u001b[49m\u001b[38;5;241;43m.\u001b[39;49m\u001b[43mnansum\u001b[49m\u001b[43m,\u001b[49m\u001b[43m \u001b[49m\u001b[43maxis\u001b[49m\u001b[43m,\u001b[49m\u001b[43m \u001b[49m\u001b[43mskipna\u001b[49m\u001b[43m,\u001b[49m\u001b[43m \u001b[49m\u001b[43mnumeric_only\u001b[49m\u001b[43m,\u001b[49m\u001b[43m \u001b[49m\u001b[43mmin_count\u001b[49m\u001b[43m,\u001b[49m\u001b[43m \u001b[49m\u001b[38;5;241;43m*\u001b[39;49m\u001b[38;5;241;43m*\u001b[39;49m\u001b[43mkwargs\u001b[49m\n\u001b[0;32m  12066\u001b[0m \u001b[43m    \u001b[49m\u001b[43m)\u001b[49m\n",
      "File \u001b[1;32mc:\\Users\\dpere\\miniconda3\\envs\\creat_forecast_ad_hoc_env\\Lib\\site-packages\\pandas\\core\\generic.py:12047\u001b[0m, in \u001b[0;36mNDFrame._min_count_stat_function\u001b[1;34m(self, name, func, axis, skipna, numeric_only, min_count, **kwargs)\u001b[0m\n\u001b[0;32m  12045\u001b[0m     axis \u001b[38;5;241m=\u001b[39m \u001b[38;5;241m0\u001b[39m\n\u001b[1;32m> 12047\u001b[0m \u001b[38;5;28;01mreturn\u001b[39;00m \u001b[38;5;28;43mself\u001b[39;49m\u001b[38;5;241;43m.\u001b[39;49m\u001b[43m_reduce\u001b[49m\u001b[43m(\u001b[49m\n\u001b[0;32m  12048\u001b[0m \u001b[43m    \u001b[49m\u001b[43mfunc\u001b[49m\u001b[43m,\u001b[49m\n\u001b[0;32m  12049\u001b[0m \u001b[43m    \u001b[49m\u001b[43mname\u001b[49m\u001b[38;5;241;43m=\u001b[39;49m\u001b[43mname\u001b[49m\u001b[43m,\u001b[49m\n\u001b[0;32m  12050\u001b[0m \u001b[43m    \u001b[49m\u001b[43maxis\u001b[49m\u001b[38;5;241;43m=\u001b[39;49m\u001b[43maxis\u001b[49m\u001b[43m,\u001b[49m\n\u001b[0;32m  12051\u001b[0m \u001b[43m    \u001b[49m\u001b[43mskipna\u001b[49m\u001b[38;5;241;43m=\u001b[39;49m\u001b[43mskipna\u001b[49m\u001b[43m,\u001b[49m\n\u001b[0;32m  12052\u001b[0m \u001b[43m    \u001b[49m\u001b[43mnumeric_only\u001b[49m\u001b[38;5;241;43m=\u001b[39;49m\u001b[43mnumeric_only\u001b[49m\u001b[43m,\u001b[49m\n\u001b[0;32m  12053\u001b[0m \u001b[43m    \u001b[49m\u001b[43mmin_count\u001b[49m\u001b[38;5;241;43m=\u001b[39;49m\u001b[43mmin_count\u001b[49m\u001b[43m,\u001b[49m\n\u001b[0;32m  12054\u001b[0m \u001b[43m\u001b[49m\u001b[43m)\u001b[49m\n",
      "File \u001b[1;32mc:\\Users\\dpere\\miniconda3\\envs\\creat_forecast_ad_hoc_env\\Lib\\site-packages\\pandas\\core\\series.py:6115\u001b[0m, in \u001b[0;36mSeries._reduce\u001b[1;34m(self, op, name, axis, skipna, numeric_only, filter_type, **kwds)\u001b[0m\n\u001b[0;32m   6113\u001b[0m \u001b[38;5;28;01mif\u001b[39;00m \u001b[38;5;28misinstance\u001b[39m(delegate, ExtensionArray):\n\u001b[0;32m   6114\u001b[0m     \u001b[38;5;66;03m# dispatch to ExtensionArray interface\u001b[39;00m\n\u001b[1;32m-> 6115\u001b[0m     \u001b[38;5;28;01mreturn\u001b[39;00m \u001b[43mdelegate\u001b[49m\u001b[38;5;241;43m.\u001b[39;49m\u001b[43m_reduce\u001b[49m\u001b[43m(\u001b[49m\u001b[43mname\u001b[49m\u001b[43m,\u001b[49m\u001b[43m \u001b[49m\u001b[43mskipna\u001b[49m\u001b[38;5;241;43m=\u001b[39;49m\u001b[43mskipna\u001b[49m\u001b[43m,\u001b[49m\u001b[43m \u001b[49m\u001b[38;5;241;43m*\u001b[39;49m\u001b[38;5;241;43m*\u001b[39;49m\u001b[43mkwds\u001b[49m\u001b[43m)\u001b[49m\n\u001b[0;32m   6117\u001b[0m \u001b[38;5;28;01melse\u001b[39;00m:\n\u001b[0;32m   6118\u001b[0m     \u001b[38;5;66;03m# dispatch to numpy arrays\u001b[39;00m\n",
      "File \u001b[1;32mc:\\Users\\dpere\\miniconda3\\envs\\creat_forecast_ad_hoc_env\\Lib\\site-packages\\geopandas\\array.py:1467\u001b[0m, in \u001b[0;36mGeometryArray._reduce\u001b[1;34m(self, name, skipna, **kwargs)\u001b[0m\n\u001b[0;32m   1466\u001b[0m     \u001b[38;5;28;01mreturn\u001b[39;00m \u001b[38;5;28mgetattr\u001b[39m(to_shapely(\u001b[38;5;28mself\u001b[39m), name)()\n\u001b[1;32m-> 1467\u001b[0m \u001b[38;5;28;01mraise\u001b[39;00m \u001b[38;5;167;01mTypeError\u001b[39;00m(\n\u001b[0;32m   1468\u001b[0m     \u001b[38;5;124mf\u001b[39m\u001b[38;5;124m\"\u001b[39m\u001b[38;5;124m'\u001b[39m\u001b[38;5;132;01m{\u001b[39;00m\u001b[38;5;28mtype\u001b[39m(\u001b[38;5;28mself\u001b[39m)\u001b[38;5;241m.\u001b[39m\u001b[38;5;18m__name__\u001b[39m\u001b[38;5;132;01m}\u001b[39;00m\u001b[38;5;124m'\u001b[39m\u001b[38;5;124m with dtype \u001b[39m\u001b[38;5;132;01m{\u001b[39;00m\u001b[38;5;28mself\u001b[39m\u001b[38;5;241m.\u001b[39mdtype\u001b[38;5;132;01m}\u001b[39;00m\u001b[38;5;124m \u001b[39m\u001b[38;5;124m\"\u001b[39m\n\u001b[0;32m   1469\u001b[0m     \u001b[38;5;124mf\u001b[39m\u001b[38;5;124m\"\u001b[39m\u001b[38;5;124mdoes not support reduction \u001b[39m\u001b[38;5;124m'\u001b[39m\u001b[38;5;132;01m{\u001b[39;00mname\u001b[38;5;132;01m}\u001b[39;00m\u001b[38;5;124m'\u001b[39m\u001b[38;5;124m\"\u001b[39m\n\u001b[0;32m   1470\u001b[0m )\n",
      "\u001b[1;31mTypeError\u001b[0m: 'GeometryArray' with dtype geometry does not support reduction 'sum'",
      "\nThe above exception was the direct cause of the following exception:\n",
      "\u001b[1;31mTypeError\u001b[0m                                 Traceback (most recent call last)",
      "Cell \u001b[1;32mIn[1026], line 1\u001b[0m\n\u001b[1;32m----> 1\u001b[0m stat_by_muni_sum\u001b[38;5;241m=\u001b[39m\u001b[43mstat\u001b[49m\u001b[38;5;241;43m.\u001b[39;49m\u001b[43mpivot_table\u001b[49m\u001b[43m(\u001b[49m\u001b[43mindex\u001b[49m\u001b[38;5;241;43m=\u001b[39;49m\u001b[38;5;124;43m'\u001b[39;49m\u001b[38;5;124;43mCR_PNIM\u001b[39;49m\u001b[38;5;124;43m'\u001b[39;49m\u001b[43m,\u001b[49m\u001b[43maggfunc\u001b[49m\u001b[38;5;241;43m=\u001b[39;49m\u001b[38;5;28;43msum\u001b[39;49m\u001b[43m)\u001b[49m[[\u001b[38;5;124m'\u001b[39m\u001b[38;5;124mpop_cbs\u001b[39m\u001b[38;5;124m'\u001b[39m,\u001b[38;5;124m'\u001b[39m\u001b[38;5;124mpop\u001b[39m\u001b[38;5;124m'\u001b[39m]]\n",
      "File \u001b[1;32mc:\\Users\\dpere\\miniconda3\\envs\\creat_forecast_ad_hoc_env\\Lib\\site-packages\\pandas\\core\\frame.py:9193\u001b[0m, in \u001b[0;36mDataFrame.pivot_table\u001b[1;34m(self, values, index, columns, aggfunc, fill_value, margins, dropna, margins_name, observed, sort)\u001b[0m\n\u001b[0;32m   9176\u001b[0m \u001b[38;5;129m@Substitution\u001b[39m(\u001b[38;5;124m\"\u001b[39m\u001b[38;5;124m\"\u001b[39m)\n\u001b[0;32m   9177\u001b[0m \u001b[38;5;129m@Appender\u001b[39m(_shared_docs[\u001b[38;5;124m\"\u001b[39m\u001b[38;5;124mpivot_table\u001b[39m\u001b[38;5;124m\"\u001b[39m])\n\u001b[0;32m   9178\u001b[0m \u001b[38;5;28;01mdef\u001b[39;00m \u001b[38;5;21mpivot_table\u001b[39m(\n\u001b[1;32m   (...)\u001b[0m\n\u001b[0;32m   9189\u001b[0m     sort: \u001b[38;5;28mbool\u001b[39m \u001b[38;5;241m=\u001b[39m \u001b[38;5;28;01mTrue\u001b[39;00m,\n\u001b[0;32m   9190\u001b[0m ) \u001b[38;5;241m-\u001b[39m\u001b[38;5;241m>\u001b[39m DataFrame:\n\u001b[0;32m   9191\u001b[0m     \u001b[38;5;28;01mfrom\u001b[39;00m \u001b[38;5;21;01mpandas\u001b[39;00m\u001b[38;5;21;01m.\u001b[39;00m\u001b[38;5;21;01mcore\u001b[39;00m\u001b[38;5;21;01m.\u001b[39;00m\u001b[38;5;21;01mreshape\u001b[39;00m\u001b[38;5;21;01m.\u001b[39;00m\u001b[38;5;21;01mpivot\u001b[39;00m \u001b[38;5;28;01mimport\u001b[39;00m pivot_table\n\u001b[1;32m-> 9193\u001b[0m     \u001b[38;5;28;01mreturn\u001b[39;00m \u001b[43mpivot_table\u001b[49m\u001b[43m(\u001b[49m\n\u001b[0;32m   9194\u001b[0m \u001b[43m        \u001b[49m\u001b[38;5;28;43mself\u001b[39;49m\u001b[43m,\u001b[49m\n\u001b[0;32m   9195\u001b[0m \u001b[43m        \u001b[49m\u001b[43mvalues\u001b[49m\u001b[38;5;241;43m=\u001b[39;49m\u001b[43mvalues\u001b[49m\u001b[43m,\u001b[49m\n\u001b[0;32m   9196\u001b[0m \u001b[43m        \u001b[49m\u001b[43mindex\u001b[49m\u001b[38;5;241;43m=\u001b[39;49m\u001b[43mindex\u001b[49m\u001b[43m,\u001b[49m\n\u001b[0;32m   9197\u001b[0m \u001b[43m        \u001b[49m\u001b[43mcolumns\u001b[49m\u001b[38;5;241;43m=\u001b[39;49m\u001b[43mcolumns\u001b[49m\u001b[43m,\u001b[49m\n\u001b[0;32m   9198\u001b[0m \u001b[43m        \u001b[49m\u001b[43maggfunc\u001b[49m\u001b[38;5;241;43m=\u001b[39;49m\u001b[43maggfunc\u001b[49m\u001b[43m,\u001b[49m\n\u001b[0;32m   9199\u001b[0m \u001b[43m        \u001b[49m\u001b[43mfill_value\u001b[49m\u001b[38;5;241;43m=\u001b[39;49m\u001b[43mfill_value\u001b[49m\u001b[43m,\u001b[49m\n\u001b[0;32m   9200\u001b[0m \u001b[43m        \u001b[49m\u001b[43mmargins\u001b[49m\u001b[38;5;241;43m=\u001b[39;49m\u001b[43mmargins\u001b[49m\u001b[43m,\u001b[49m\n\u001b[0;32m   9201\u001b[0m \u001b[43m        \u001b[49m\u001b[43mdropna\u001b[49m\u001b[38;5;241;43m=\u001b[39;49m\u001b[43mdropna\u001b[49m\u001b[43m,\u001b[49m\n\u001b[0;32m   9202\u001b[0m \u001b[43m        \u001b[49m\u001b[43mmargins_name\u001b[49m\u001b[38;5;241;43m=\u001b[39;49m\u001b[43mmargins_name\u001b[49m\u001b[43m,\u001b[49m\n\u001b[0;32m   9203\u001b[0m \u001b[43m        \u001b[49m\u001b[43mobserved\u001b[49m\u001b[38;5;241;43m=\u001b[39;49m\u001b[43mobserved\u001b[49m\u001b[43m,\u001b[49m\n\u001b[0;32m   9204\u001b[0m \u001b[43m        \u001b[49m\u001b[43msort\u001b[49m\u001b[38;5;241;43m=\u001b[39;49m\u001b[43msort\u001b[49m\u001b[43m,\u001b[49m\n\u001b[0;32m   9205\u001b[0m \u001b[43m    \u001b[49m\u001b[43m)\u001b[49m\n",
      "File \u001b[1;32mc:\\Users\\dpere\\miniconda3\\envs\\creat_forecast_ad_hoc_env\\Lib\\site-packages\\pandas\\core\\reshape\\pivot.py:99\u001b[0m, in \u001b[0;36mpivot_table\u001b[1;34m(data, values, index, columns, aggfunc, fill_value, margins, dropna, margins_name, observed, sort)\u001b[0m\n\u001b[0;32m     96\u001b[0m     table \u001b[38;5;241m=\u001b[39m concat(pieces, keys\u001b[38;5;241m=\u001b[39mkeys, axis\u001b[38;5;241m=\u001b[39m\u001b[38;5;241m1\u001b[39m)\n\u001b[0;32m     97\u001b[0m     \u001b[38;5;28;01mreturn\u001b[39;00m table\u001b[38;5;241m.\u001b[39m__finalize__(data, method\u001b[38;5;241m=\u001b[39m\u001b[38;5;124m\"\u001b[39m\u001b[38;5;124mpivot_table\u001b[39m\u001b[38;5;124m\"\u001b[39m)\n\u001b[1;32m---> 99\u001b[0m table \u001b[38;5;241m=\u001b[39m \u001b[43m__internal_pivot_table\u001b[49m\u001b[43m(\u001b[49m\n\u001b[0;32m    100\u001b[0m \u001b[43m    \u001b[49m\u001b[43mdata\u001b[49m\u001b[43m,\u001b[49m\n\u001b[0;32m    101\u001b[0m \u001b[43m    \u001b[49m\u001b[43mvalues\u001b[49m\u001b[43m,\u001b[49m\n\u001b[0;32m    102\u001b[0m \u001b[43m    \u001b[49m\u001b[43mindex\u001b[49m\u001b[43m,\u001b[49m\n\u001b[0;32m    103\u001b[0m \u001b[43m    \u001b[49m\u001b[43mcolumns\u001b[49m\u001b[43m,\u001b[49m\n\u001b[0;32m    104\u001b[0m \u001b[43m    \u001b[49m\u001b[43maggfunc\u001b[49m\u001b[43m,\u001b[49m\n\u001b[0;32m    105\u001b[0m \u001b[43m    \u001b[49m\u001b[43mfill_value\u001b[49m\u001b[43m,\u001b[49m\n\u001b[0;32m    106\u001b[0m \u001b[43m    \u001b[49m\u001b[43mmargins\u001b[49m\u001b[43m,\u001b[49m\n\u001b[0;32m    107\u001b[0m \u001b[43m    \u001b[49m\u001b[43mdropna\u001b[49m\u001b[43m,\u001b[49m\n\u001b[0;32m    108\u001b[0m \u001b[43m    \u001b[49m\u001b[43mmargins_name\u001b[49m\u001b[43m,\u001b[49m\n\u001b[0;32m    109\u001b[0m \u001b[43m    \u001b[49m\u001b[43mobserved\u001b[49m\u001b[43m,\u001b[49m\n\u001b[0;32m    110\u001b[0m \u001b[43m    \u001b[49m\u001b[43msort\u001b[49m\u001b[43m,\u001b[49m\n\u001b[0;32m    111\u001b[0m \u001b[43m\u001b[49m\u001b[43m)\u001b[49m\n\u001b[0;32m    112\u001b[0m \u001b[38;5;28;01mreturn\u001b[39;00m table\u001b[38;5;241m.\u001b[39m__finalize__(data, method\u001b[38;5;241m=\u001b[39m\u001b[38;5;124m\"\u001b[39m\u001b[38;5;124mpivot_table\u001b[39m\u001b[38;5;124m\"\u001b[39m)\n",
      "File \u001b[1;32mc:\\Users\\dpere\\miniconda3\\envs\\creat_forecast_ad_hoc_env\\Lib\\site-packages\\pandas\\core\\reshape\\pivot.py:169\u001b[0m, in \u001b[0;36m__internal_pivot_table\u001b[1;34m(data, values, index, columns, aggfunc, fill_value, margins, dropna, margins_name, observed, sort)\u001b[0m\n\u001b[0;32m    166\u001b[0m     values \u001b[38;5;241m=\u001b[39m \u001b[38;5;28mlist\u001b[39m(values)\n\u001b[0;32m    168\u001b[0m grouped \u001b[38;5;241m=\u001b[39m data\u001b[38;5;241m.\u001b[39mgroupby(keys, observed\u001b[38;5;241m=\u001b[39mobserved, sort\u001b[38;5;241m=\u001b[39msort, dropna\u001b[38;5;241m=\u001b[39mdropna)\n\u001b[1;32m--> 169\u001b[0m agged \u001b[38;5;241m=\u001b[39m \u001b[43mgrouped\u001b[49m\u001b[38;5;241;43m.\u001b[39;49m\u001b[43magg\u001b[49m\u001b[43m(\u001b[49m\u001b[43maggfunc\u001b[49m\u001b[43m)\u001b[49m\n\u001b[0;32m    171\u001b[0m \u001b[38;5;28;01mif\u001b[39;00m dropna \u001b[38;5;129;01mand\u001b[39;00m \u001b[38;5;28misinstance\u001b[39m(agged, ABCDataFrame) \u001b[38;5;129;01mand\u001b[39;00m \u001b[38;5;28mlen\u001b[39m(agged\u001b[38;5;241m.\u001b[39mcolumns):\n\u001b[0;32m    172\u001b[0m     agged \u001b[38;5;241m=\u001b[39m agged\u001b[38;5;241m.\u001b[39mdropna(how\u001b[38;5;241m=\u001b[39m\u001b[38;5;124m\"\u001b[39m\u001b[38;5;124mall\u001b[39m\u001b[38;5;124m\"\u001b[39m)\n",
      "File \u001b[1;32mc:\\Users\\dpere\\miniconda3\\envs\\creat_forecast_ad_hoc_env\\Lib\\site-packages\\pandas\\core\\groupby\\generic.py:1442\u001b[0m, in \u001b[0;36mDataFrameGroupBy.aggregate\u001b[1;34m(self, func, engine, engine_kwargs, *args, **kwargs)\u001b[0m\n\u001b[0;32m   1439\u001b[0m     kwargs[\u001b[38;5;124m\"\u001b[39m\u001b[38;5;124mengine_kwargs\u001b[39m\u001b[38;5;124m\"\u001b[39m] \u001b[38;5;241m=\u001b[39m engine_kwargs\n\u001b[0;32m   1441\u001b[0m op \u001b[38;5;241m=\u001b[39m GroupByApply(\u001b[38;5;28mself\u001b[39m, func, args\u001b[38;5;241m=\u001b[39margs, kwargs\u001b[38;5;241m=\u001b[39mkwargs)\n\u001b[1;32m-> 1442\u001b[0m result \u001b[38;5;241m=\u001b[39m \u001b[43mop\u001b[49m\u001b[38;5;241;43m.\u001b[39;49m\u001b[43magg\u001b[49m\u001b[43m(\u001b[49m\u001b[43m)\u001b[49m\n\u001b[0;32m   1443\u001b[0m \u001b[38;5;28;01mif\u001b[39;00m \u001b[38;5;129;01mnot\u001b[39;00m is_dict_like(func) \u001b[38;5;129;01mand\u001b[39;00m result \u001b[38;5;129;01mis\u001b[39;00m \u001b[38;5;129;01mnot\u001b[39;00m \u001b[38;5;28;01mNone\u001b[39;00m:\n\u001b[0;32m   1444\u001b[0m     \u001b[38;5;66;03m# GH #52849\u001b[39;00m\n\u001b[0;32m   1445\u001b[0m     \u001b[38;5;28;01mif\u001b[39;00m \u001b[38;5;129;01mnot\u001b[39;00m \u001b[38;5;28mself\u001b[39m\u001b[38;5;241m.\u001b[39mas_index \u001b[38;5;129;01mand\u001b[39;00m is_list_like(func):\n",
      "File \u001b[1;32mc:\\Users\\dpere\\miniconda3\\envs\\creat_forecast_ad_hoc_env\\Lib\\site-packages\\pandas\\core\\apply.py:184\u001b[0m, in \u001b[0;36mApply.agg\u001b[1;34m(self)\u001b[0m\n\u001b[0;32m    182\u001b[0m     \u001b[38;5;28;01mif\u001b[39;00m f \u001b[38;5;129;01mand\u001b[39;00m \u001b[38;5;129;01mnot\u001b[39;00m args \u001b[38;5;129;01mand\u001b[39;00m \u001b[38;5;129;01mnot\u001b[39;00m kwargs:\n\u001b[0;32m    183\u001b[0m         warn_alias_replacement(obj, func, f)\n\u001b[1;32m--> 184\u001b[0m         \u001b[38;5;28;01mreturn\u001b[39;00m \u001b[38;5;28;43mgetattr\u001b[39;49m\u001b[43m(\u001b[49m\u001b[43mobj\u001b[49m\u001b[43m,\u001b[49m\u001b[43m \u001b[49m\u001b[43mf\u001b[49m\u001b[43m)\u001b[49m\u001b[43m(\u001b[49m\u001b[43m)\u001b[49m\n\u001b[0;32m    186\u001b[0m \u001b[38;5;66;03m# caller can react\u001b[39;00m\n\u001b[0;32m    187\u001b[0m \u001b[38;5;28;01mreturn\u001b[39;00m \u001b[38;5;28;01mNone\u001b[39;00m\n",
      "File \u001b[1;32mc:\\Users\\dpere\\miniconda3\\envs\\creat_forecast_ad_hoc_env\\Lib\\site-packages\\pandas\\core\\groupby\\groupby.py:3053\u001b[0m, in \u001b[0;36mGroupBy.sum\u001b[1;34m(self, numeric_only, min_count, engine, engine_kwargs)\u001b[0m\n\u001b[0;32m   3048\u001b[0m \u001b[38;5;28;01melse\u001b[39;00m:\n\u001b[0;32m   3049\u001b[0m     \u001b[38;5;66;03m# If we are grouping on categoricals we want unobserved categories to\u001b[39;00m\n\u001b[0;32m   3050\u001b[0m     \u001b[38;5;66;03m# return zero, rather than the default of NaN which the reindexing in\u001b[39;00m\n\u001b[0;32m   3051\u001b[0m     \u001b[38;5;66;03m# _agg_general() returns. GH #31422\u001b[39;00m\n\u001b[0;32m   3052\u001b[0m     \u001b[38;5;28;01mwith\u001b[39;00m com\u001b[38;5;241m.\u001b[39mtemp_setattr(\u001b[38;5;28mself\u001b[39m, \u001b[38;5;124m\"\u001b[39m\u001b[38;5;124mobserved\u001b[39m\u001b[38;5;124m\"\u001b[39m, \u001b[38;5;28;01mTrue\u001b[39;00m):\n\u001b[1;32m-> 3053\u001b[0m         result \u001b[38;5;241m=\u001b[39m \u001b[38;5;28;43mself\u001b[39;49m\u001b[38;5;241;43m.\u001b[39;49m\u001b[43m_agg_general\u001b[49m\u001b[43m(\u001b[49m\n\u001b[0;32m   3054\u001b[0m \u001b[43m            \u001b[49m\u001b[43mnumeric_only\u001b[49m\u001b[38;5;241;43m=\u001b[39;49m\u001b[43mnumeric_only\u001b[49m\u001b[43m,\u001b[49m\n\u001b[0;32m   3055\u001b[0m \u001b[43m            \u001b[49m\u001b[43mmin_count\u001b[49m\u001b[38;5;241;43m=\u001b[39;49m\u001b[43mmin_count\u001b[49m\u001b[43m,\u001b[49m\n\u001b[0;32m   3056\u001b[0m \u001b[43m            \u001b[49m\u001b[43malias\u001b[49m\u001b[38;5;241;43m=\u001b[39;49m\u001b[38;5;124;43m\"\u001b[39;49m\u001b[38;5;124;43msum\u001b[39;49m\u001b[38;5;124;43m\"\u001b[39;49m\u001b[43m,\u001b[49m\n\u001b[0;32m   3057\u001b[0m \u001b[43m            \u001b[49m\u001b[43mnpfunc\u001b[49m\u001b[38;5;241;43m=\u001b[39;49m\u001b[43mnp\u001b[49m\u001b[38;5;241;43m.\u001b[39;49m\u001b[43msum\u001b[49m\u001b[43m,\u001b[49m\n\u001b[0;32m   3058\u001b[0m \u001b[43m        \u001b[49m\u001b[43m)\u001b[49m\n\u001b[0;32m   3060\u001b[0m     \u001b[38;5;28;01mreturn\u001b[39;00m \u001b[38;5;28mself\u001b[39m\u001b[38;5;241m.\u001b[39m_reindex_output(result, fill_value\u001b[38;5;241m=\u001b[39m\u001b[38;5;241m0\u001b[39m)\n",
      "File \u001b[1;32mc:\\Users\\dpere\\miniconda3\\envs\\creat_forecast_ad_hoc_env\\Lib\\site-packages\\pandas\\core\\groupby\\groupby.py:1835\u001b[0m, in \u001b[0;36mGroupBy._agg_general\u001b[1;34m(self, numeric_only, min_count, alias, npfunc)\u001b[0m\n\u001b[0;32m   1826\u001b[0m \u001b[38;5;129m@final\u001b[39m\n\u001b[0;32m   1827\u001b[0m \u001b[38;5;28;01mdef\u001b[39;00m \u001b[38;5;21m_agg_general\u001b[39m(\n\u001b[0;32m   1828\u001b[0m     \u001b[38;5;28mself\u001b[39m,\n\u001b[1;32m   (...)\u001b[0m\n\u001b[0;32m   1833\u001b[0m     npfunc: Callable,\n\u001b[0;32m   1834\u001b[0m ):\n\u001b[1;32m-> 1835\u001b[0m     result \u001b[38;5;241m=\u001b[39m \u001b[38;5;28;43mself\u001b[39;49m\u001b[38;5;241;43m.\u001b[39;49m\u001b[43m_cython_agg_general\u001b[49m\u001b[43m(\u001b[49m\n\u001b[0;32m   1836\u001b[0m \u001b[43m        \u001b[49m\u001b[43mhow\u001b[49m\u001b[38;5;241;43m=\u001b[39;49m\u001b[43malias\u001b[49m\u001b[43m,\u001b[49m\n\u001b[0;32m   1837\u001b[0m \u001b[43m        \u001b[49m\u001b[43malt\u001b[49m\u001b[38;5;241;43m=\u001b[39;49m\u001b[43mnpfunc\u001b[49m\u001b[43m,\u001b[49m\n\u001b[0;32m   1838\u001b[0m \u001b[43m        \u001b[49m\u001b[43mnumeric_only\u001b[49m\u001b[38;5;241;43m=\u001b[39;49m\u001b[43mnumeric_only\u001b[49m\u001b[43m,\u001b[49m\n\u001b[0;32m   1839\u001b[0m \u001b[43m        \u001b[49m\u001b[43mmin_count\u001b[49m\u001b[38;5;241;43m=\u001b[39;49m\u001b[43mmin_count\u001b[49m\u001b[43m,\u001b[49m\n\u001b[0;32m   1840\u001b[0m \u001b[43m    \u001b[49m\u001b[43m)\u001b[49m\n\u001b[0;32m   1841\u001b[0m     \u001b[38;5;28;01mreturn\u001b[39;00m result\u001b[38;5;241m.\u001b[39m__finalize__(\u001b[38;5;28mself\u001b[39m\u001b[38;5;241m.\u001b[39mobj, method\u001b[38;5;241m=\u001b[39m\u001b[38;5;124m\"\u001b[39m\u001b[38;5;124mgroupby\u001b[39m\u001b[38;5;124m\"\u001b[39m)\n",
      "File \u001b[1;32mc:\\Users\\dpere\\miniconda3\\envs\\creat_forecast_ad_hoc_env\\Lib\\site-packages\\pandas\\core\\groupby\\groupby.py:1926\u001b[0m, in \u001b[0;36mGroupBy._cython_agg_general\u001b[1;34m(self, how, alt, numeric_only, min_count, **kwargs)\u001b[0m\n\u001b[0;32m   1923\u001b[0m     result \u001b[38;5;241m=\u001b[39m \u001b[38;5;28mself\u001b[39m\u001b[38;5;241m.\u001b[39m_agg_py_fallback(how, values, ndim\u001b[38;5;241m=\u001b[39mdata\u001b[38;5;241m.\u001b[39mndim, alt\u001b[38;5;241m=\u001b[39malt)\n\u001b[0;32m   1924\u001b[0m     \u001b[38;5;28;01mreturn\u001b[39;00m result\n\u001b[1;32m-> 1926\u001b[0m new_mgr \u001b[38;5;241m=\u001b[39m \u001b[43mdata\u001b[49m\u001b[38;5;241;43m.\u001b[39;49m\u001b[43mgrouped_reduce\u001b[49m\u001b[43m(\u001b[49m\u001b[43marray_func\u001b[49m\u001b[43m)\u001b[49m\n\u001b[0;32m   1927\u001b[0m res \u001b[38;5;241m=\u001b[39m \u001b[38;5;28mself\u001b[39m\u001b[38;5;241m.\u001b[39m_wrap_agged_manager(new_mgr)\n\u001b[0;32m   1928\u001b[0m out \u001b[38;5;241m=\u001b[39m \u001b[38;5;28mself\u001b[39m\u001b[38;5;241m.\u001b[39m_wrap_aggregated_output(res)\n",
      "File \u001b[1;32mc:\\Users\\dpere\\miniconda3\\envs\\creat_forecast_ad_hoc_env\\Lib\\site-packages\\pandas\\core\\internals\\managers.py:1431\u001b[0m, in \u001b[0;36mBlockManager.grouped_reduce\u001b[1;34m(self, func)\u001b[0m\n\u001b[0;32m   1429\u001b[0m             result_blocks \u001b[38;5;241m=\u001b[39m extend_blocks(applied, result_blocks)\n\u001b[0;32m   1430\u001b[0m     \u001b[38;5;28;01melse\u001b[39;00m:\n\u001b[1;32m-> 1431\u001b[0m         applied \u001b[38;5;241m=\u001b[39m \u001b[43mblk\u001b[49m\u001b[38;5;241;43m.\u001b[39;49m\u001b[43mapply\u001b[49m\u001b[43m(\u001b[49m\u001b[43mfunc\u001b[49m\u001b[43m)\u001b[49m\n\u001b[0;32m   1432\u001b[0m         result_blocks \u001b[38;5;241m=\u001b[39m extend_blocks(applied, result_blocks)\n\u001b[0;32m   1434\u001b[0m \u001b[38;5;28;01mif\u001b[39;00m \u001b[38;5;28mlen\u001b[39m(result_blocks) \u001b[38;5;241m==\u001b[39m \u001b[38;5;241m0\u001b[39m:\n",
      "File \u001b[1;32mc:\\Users\\dpere\\miniconda3\\envs\\creat_forecast_ad_hoc_env\\Lib\\site-packages\\pandas\\core\\internals\\blocks.py:366\u001b[0m, in \u001b[0;36mBlock.apply\u001b[1;34m(self, func, **kwargs)\u001b[0m\n\u001b[0;32m    360\u001b[0m \u001b[38;5;129m@final\u001b[39m\n\u001b[0;32m    361\u001b[0m \u001b[38;5;28;01mdef\u001b[39;00m \u001b[38;5;21mapply\u001b[39m(\u001b[38;5;28mself\u001b[39m, func, \u001b[38;5;241m*\u001b[39m\u001b[38;5;241m*\u001b[39mkwargs) \u001b[38;5;241m-\u001b[39m\u001b[38;5;241m>\u001b[39m \u001b[38;5;28mlist\u001b[39m[Block]:\n\u001b[0;32m    362\u001b[0m \u001b[38;5;250m    \u001b[39m\u001b[38;5;124;03m\"\"\"\u001b[39;00m\n\u001b[0;32m    363\u001b[0m \u001b[38;5;124;03m    apply the function to my values; return a block if we are not\u001b[39;00m\n\u001b[0;32m    364\u001b[0m \u001b[38;5;124;03m    one\u001b[39;00m\n\u001b[0;32m    365\u001b[0m \u001b[38;5;124;03m    \"\"\"\u001b[39;00m\n\u001b[1;32m--> 366\u001b[0m     result \u001b[38;5;241m=\u001b[39m \u001b[43mfunc\u001b[49m\u001b[43m(\u001b[49m\u001b[38;5;28;43mself\u001b[39;49m\u001b[38;5;241;43m.\u001b[39;49m\u001b[43mvalues\u001b[49m\u001b[43m,\u001b[49m\u001b[43m \u001b[49m\u001b[38;5;241;43m*\u001b[39;49m\u001b[38;5;241;43m*\u001b[39;49m\u001b[43mkwargs\u001b[49m\u001b[43m)\u001b[49m\n\u001b[0;32m    368\u001b[0m     result \u001b[38;5;241m=\u001b[39m maybe_coerce_values(result)\n\u001b[0;32m    369\u001b[0m     \u001b[38;5;28;01mreturn\u001b[39;00m \u001b[38;5;28mself\u001b[39m\u001b[38;5;241m.\u001b[39m_split_op_result(result)\n",
      "File \u001b[1;32mc:\\Users\\dpere\\miniconda3\\envs\\creat_forecast_ad_hoc_env\\Lib\\site-packages\\pandas\\core\\groupby\\groupby.py:1923\u001b[0m, in \u001b[0;36mGroupBy._cython_agg_general.<locals>.array_func\u001b[1;34m(values)\u001b[0m\n\u001b[0;32m   1920\u001b[0m \u001b[38;5;28;01melse\u001b[39;00m:\n\u001b[0;32m   1921\u001b[0m     \u001b[38;5;28;01mreturn\u001b[39;00m result\n\u001b[1;32m-> 1923\u001b[0m result \u001b[38;5;241m=\u001b[39m \u001b[38;5;28;43mself\u001b[39;49m\u001b[38;5;241;43m.\u001b[39;49m\u001b[43m_agg_py_fallback\u001b[49m\u001b[43m(\u001b[49m\u001b[43mhow\u001b[49m\u001b[43m,\u001b[49m\u001b[43m \u001b[49m\u001b[43mvalues\u001b[49m\u001b[43m,\u001b[49m\u001b[43m \u001b[49m\u001b[43mndim\u001b[49m\u001b[38;5;241;43m=\u001b[39;49m\u001b[43mdata\u001b[49m\u001b[38;5;241;43m.\u001b[39;49m\u001b[43mndim\u001b[49m\u001b[43m,\u001b[49m\u001b[43m \u001b[49m\u001b[43malt\u001b[49m\u001b[38;5;241;43m=\u001b[39;49m\u001b[43malt\u001b[49m\u001b[43m)\u001b[49m\n\u001b[0;32m   1924\u001b[0m \u001b[38;5;28;01mreturn\u001b[39;00m result\n",
      "File \u001b[1;32mc:\\Users\\dpere\\miniconda3\\envs\\creat_forecast_ad_hoc_env\\Lib\\site-packages\\pandas\\core\\groupby\\groupby.py:1875\u001b[0m, in \u001b[0;36mGroupBy._agg_py_fallback\u001b[1;34m(self, how, values, ndim, alt)\u001b[0m\n\u001b[0;32m   1873\u001b[0m     msg \u001b[38;5;241m=\u001b[39m \u001b[38;5;124mf\u001b[39m\u001b[38;5;124m\"\u001b[39m\u001b[38;5;124magg function failed [how->\u001b[39m\u001b[38;5;132;01m{\u001b[39;00mhow\u001b[38;5;132;01m}\u001b[39;00m\u001b[38;5;124m,dtype->\u001b[39m\u001b[38;5;132;01m{\u001b[39;00mser\u001b[38;5;241m.\u001b[39mdtype\u001b[38;5;132;01m}\u001b[39;00m\u001b[38;5;124m]\u001b[39m\u001b[38;5;124m\"\u001b[39m\n\u001b[0;32m   1874\u001b[0m     \u001b[38;5;66;03m# preserve the kind of exception that raised\u001b[39;00m\n\u001b[1;32m-> 1875\u001b[0m     \u001b[38;5;28;01mraise\u001b[39;00m \u001b[38;5;28mtype\u001b[39m(err)(msg) \u001b[38;5;28;01mfrom\u001b[39;00m \u001b[38;5;21;01merr\u001b[39;00m\n\u001b[0;32m   1877\u001b[0m \u001b[38;5;28;01mif\u001b[39;00m ser\u001b[38;5;241m.\u001b[39mdtype \u001b[38;5;241m==\u001b[39m \u001b[38;5;28mobject\u001b[39m:\n\u001b[0;32m   1878\u001b[0m     res_values \u001b[38;5;241m=\u001b[39m res_values\u001b[38;5;241m.\u001b[39mastype(\u001b[38;5;28mobject\u001b[39m, copy\u001b[38;5;241m=\u001b[39m\u001b[38;5;28;01mFalse\u001b[39;00m)\n",
      "\u001b[1;31mTypeError\u001b[0m: agg function failed [how->sum,dtype->geometry]"
     ]
    }
   ],
   "source": [
    "stat_by_muni_sum=drop_geo(stat).pivot_table(index='CR_PNIM',aggfunc=sum)[['pop_cbs','pop']]"
   ]
  },
  {
   "cell_type": "code",
   "execution_count": null,
   "id": "9639cf83",
   "metadata": {},
   "outputs": [],
   "source": [
    "pop_2020_cbs_muni=pop_2020_cbs_muni.set_index('CR_PNIM')"
   ]
  },
  {
   "cell_type": "code",
   "execution_count": null,
   "id": "8dbbb377",
   "metadata": {
    "scrolled": true
   },
   "outputs": [
    {
     "data": {
      "text/html": [
       "<div>\n",
       "<style scoped>\n",
       "    .dataframe tbody tr th:only-of-type {\n",
       "        vertical-align: middle;\n",
       "    }\n",
       "\n",
       "    .dataframe tbody tr th {\n",
       "        vertical-align: top;\n",
       "    }\n",
       "\n",
       "    .dataframe thead th {\n",
       "        text-align: right;\n",
       "    }\n",
       "</style>\n",
       "<table border=\"1\" class=\"dataframe\">\n",
       "  <thead>\n",
       "    <tr style=\"text-align: right;\">\n",
       "      <th></th>\n",
       "      <th>muni_name</th>\n",
       "      <th>disc</th>\n",
       "      <th>pop_cbs_muni_total</th>\n",
       "      <th>pop_cbs</th>\n",
       "      <th>pop</th>\n",
       "    </tr>\n",
       "    <tr>\n",
       "      <th>CR_PNIM</th>\n",
       "      <th></th>\n",
       "      <th></th>\n",
       "      <th></th>\n",
       "      <th></th>\n",
       "      <th></th>\n",
       "    </tr>\n",
       "  </thead>\n",
       "  <tbody>\n",
       "    <tr>\n",
       "      <th>72</th>\n",
       "      <td>שומרון</td>\n",
       "      <td>אזור יהודה והשומרון</td>\n",
       "      <td>47244</td>\n",
       "      <td>50,499.00</td>\n",
       "      <td>50,499.00</td>\n",
       "    </tr>\n",
       "    <tr>\n",
       "      <th>73</th>\n",
       "      <td>מטה בנימין</td>\n",
       "      <td>אזור יהודה והשומרון</td>\n",
       "      <td>71630</td>\n",
       "      <td>68,526.00</td>\n",
       "      <td>68,526.00</td>\n",
       "    </tr>\n",
       "    <tr>\n",
       "      <th>74</th>\n",
       "      <td>מגילות ים המלח</td>\n",
       "      <td>אזור יהודה והשומרון</td>\n",
       "      <td>1968</td>\n",
       "      <td>1,844.00</td>\n",
       "      <td>1,844.00</td>\n",
       "    </tr>\n",
       "    <tr>\n",
       "      <th>75</th>\n",
       "      <td>ערבות הירדן</td>\n",
       "      <td>אזור יהודה והשומרון</td>\n",
       "      <td>5767</td>\n",
       "      <td>5,100.00</td>\n",
       "      <td>5,100.00</td>\n",
       "    </tr>\n",
       "    <tr>\n",
       "      <th>76</th>\n",
       "      <td>גוש עציון</td>\n",
       "      <td>אזור יהודה והשומרון</td>\n",
       "      <td>24936</td>\n",
       "      <td>24,517.00</td>\n",
       "      <td>24,517.00</td>\n",
       "    </tr>\n",
       "    <tr>\n",
       "      <th>78</th>\n",
       "      <td>הר חברון</td>\n",
       "      <td>אזור יהודה והשומרון</td>\n",
       "      <td>9419</td>\n",
       "      <td>8,934.00</td>\n",
       "      <td>8,934.00</td>\n",
       "    </tr>\n",
       "    <tr>\n",
       "      <th>472</th>\n",
       "      <td>אבו גוש</td>\n",
       "      <td>ירושלים</td>\n",
       "      <td>7771</td>\n",
       "      <td>7,772.00</td>\n",
       "      <td>7,772.00</td>\n",
       "    </tr>\n",
       "    <tr>\n",
       "      <th>1015</th>\n",
       "      <td>מבשרת ציון</td>\n",
       "      <td>ירושלים</td>\n",
       "      <td>24247</td>\n",
       "      <td>24,251.00</td>\n",
       "      <td>24,251.00</td>\n",
       "    </tr>\n",
       "    <tr>\n",
       "      <th>1137</th>\n",
       "      <td>קריית יערים</td>\n",
       "      <td>ירושלים</td>\n",
       "      <td>6238</td>\n",
       "      <td>6,237.00</td>\n",
       "      <td>6,237.00</td>\n",
       "    </tr>\n",
       "    <tr>\n",
       "      <th>1200</th>\n",
       "      <td>מודיעין-מכבים-רעות</td>\n",
       "      <td>המרכז</td>\n",
       "      <td>94657</td>\n",
       "      <td>94,656.00</td>\n",
       "      <td>95,149.00</td>\n",
       "    </tr>\n",
       "    <tr>\n",
       "      <th>2610</th>\n",
       "      <td>בית שמש</td>\n",
       "      <td>ירושלים</td>\n",
       "      <td>132544</td>\n",
       "      <td>130,813.00</td>\n",
       "      <td>130,813.00</td>\n",
       "    </tr>\n",
       "    <tr>\n",
       "      <th>3000</th>\n",
       "      <td>ירושלים</td>\n",
       "      <td>ירושלים</td>\n",
       "      <td>951149</td>\n",
       "      <td>940,798.00</td>\n",
       "      <td>980,966.70</td>\n",
       "    </tr>\n",
       "    <tr>\n",
       "      <th>3557</th>\n",
       "      <td>קדומים</td>\n",
       "      <td>אזור יהודה והשומרון</td>\n",
       "      <td>4586</td>\n",
       "      <td>4,583.00</td>\n",
       "      <td>4,583.00</td>\n",
       "    </tr>\n",
       "    <tr>\n",
       "      <th>3570</th>\n",
       "      <td>אריאל</td>\n",
       "      <td>אזור יהודה והשומרון</td>\n",
       "      <td>19582</td>\n",
       "      <td>19,584.00</td>\n",
       "      <td>19,584.00</td>\n",
       "    </tr>\n",
       "    <tr>\n",
       "      <th>3574</th>\n",
       "      <td>בית אל</td>\n",
       "      <td>אזור יהודה והשומרון</td>\n",
       "      <td>5684</td>\n",
       "      <td>5,681.00</td>\n",
       "      <td>5,681.00</td>\n",
       "    </tr>\n",
       "    <tr>\n",
       "      <th>3608</th>\n",
       "      <td>מעלה אפרים</td>\n",
       "      <td>אזור יהודה והשומרון</td>\n",
       "      <td>1255</td>\n",
       "      <td>1,166.00</td>\n",
       "      <td>1,166.00</td>\n",
       "    </tr>\n",
       "    <tr>\n",
       "      <th>3611</th>\n",
       "      <td>קריית ארבע</td>\n",
       "      <td>אזור יהודה והשומרון</td>\n",
       "      <td>7338</td>\n",
       "      <td>7,338.00</td>\n",
       "      <td>7,338.00</td>\n",
       "    </tr>\n",
       "    <tr>\n",
       "      <th>3616</th>\n",
       "      <td>מעלה אדומים</td>\n",
       "      <td>אזור יהודה והשומרון</td>\n",
       "      <td>37846</td>\n",
       "      <td>37,791.00</td>\n",
       "      <td>37,791.00</td>\n",
       "    </tr>\n",
       "    <tr>\n",
       "      <th>3640</th>\n",
       "      <td>קרני שומרון</td>\n",
       "      <td>אזור יהודה והשומרון</td>\n",
       "      <td>9417</td>\n",
       "      <td>9,416.00</td>\n",
       "      <td>9,416.00</td>\n",
       "    </tr>\n",
       "    <tr>\n",
       "      <th>3650</th>\n",
       "      <td>אפרת</td>\n",
       "      <td>אזור יהודה והשומרון</td>\n",
       "      <td>11405</td>\n",
       "      <td>11,405.00</td>\n",
       "      <td>11,405.00</td>\n",
       "    </tr>\n",
       "    <tr>\n",
       "      <th>3652</th>\n",
       "      <td>בית אריה-עופרים</td>\n",
       "      <td>אזור יהודה והשומרון</td>\n",
       "      <td>5351</td>\n",
       "      <td>5,353.00</td>\n",
       "      <td>5,353.00</td>\n",
       "    </tr>\n",
       "    <tr>\n",
       "      <th>3660</th>\n",
       "      <td>עמנואל</td>\n",
       "      <td>אזור יהודה והשומרון</td>\n",
       "      <td>4129</td>\n",
       "      <td>4,131.00</td>\n",
       "      <td>4,738.60</td>\n",
       "    </tr>\n",
       "    <tr>\n",
       "      <th>3730</th>\n",
       "      <td>גבעת זאב</td>\n",
       "      <td>אזור יהודה והשומרון</td>\n",
       "      <td>19225</td>\n",
       "      <td>20,253.00</td>\n",
       "      <td>20,253.00</td>\n",
       "    </tr>\n",
       "    <tr>\n",
       "      <th>3750</th>\n",
       "      <td>אלפי מנשה</td>\n",
       "      <td>אזור יהודה והשומרון</td>\n",
       "      <td>7997</td>\n",
       "      <td>7,996.00</td>\n",
       "      <td>7,996.00</td>\n",
       "    </tr>\n",
       "    <tr>\n",
       "      <th>3760</th>\n",
       "      <td>אורנית</td>\n",
       "      <td>אזור יהודה והשומרון</td>\n",
       "      <td>8965</td>\n",
       "      <td>8,965.00</td>\n",
       "      <td>8,965.00</td>\n",
       "    </tr>\n",
       "    <tr>\n",
       "      <th>3769</th>\n",
       "      <td>הר אדר</td>\n",
       "      <td>אזור יהודה והשומרון</td>\n",
       "      <td>4084</td>\n",
       "      <td>4,083.00</td>\n",
       "      <td>4,083.00</td>\n",
       "    </tr>\n",
       "    <tr>\n",
       "      <th>3780</th>\n",
       "      <td>ביתר עילית</td>\n",
       "      <td>אזור יהודה והשומרון</td>\n",
       "      <td>61125</td>\n",
       "      <td>60,224.00</td>\n",
       "      <td>60,224.00</td>\n",
       "    </tr>\n",
       "    <tr>\n",
       "      <th>3797</th>\n",
       "      <td>מודיעין עילית</td>\n",
       "      <td>אזור יהודה והשומרון</td>\n",
       "      <td>77967</td>\n",
       "      <td>76,494.00</td>\n",
       "      <td>76,494.00</td>\n",
       "    </tr>\n",
       "  </tbody>\n",
       "</table>\n",
       "</div>"
      ],
      "text/plain": [
       "                  muni_name                 disc  pop_cbs_muni_total  \\\n",
       "CR_PNIM                                                                \n",
       "72                   שומרון  אזור יהודה והשומרון               47244   \n",
       "73               מטה בנימין  אזור יהודה והשומרון               71630   \n",
       "74           מגילות ים המלח  אזור יהודה והשומרון                1968   \n",
       "75              ערבות הירדן  אזור יהודה והשומרון                5767   \n",
       "76                גוש עציון  אזור יהודה והשומרון               24936   \n",
       "78                 הר חברון  אזור יהודה והשומרון                9419   \n",
       "472                 אבו גוש              ירושלים                7771   \n",
       "1015             מבשרת ציון              ירושלים               24247   \n",
       "1137            קריית יערים              ירושלים                6238   \n",
       "1200     מודיעין-מכבים-רעות                המרכז               94657   \n",
       "2610                בית שמש              ירושלים              132544   \n",
       "3000                ירושלים              ירושלים              951149   \n",
       "3557                 קדומים  אזור יהודה והשומרון                4586   \n",
       "3570                  אריאל  אזור יהודה והשומרון               19582   \n",
       "3574                 בית אל  אזור יהודה והשומרון                5684   \n",
       "3608             מעלה אפרים  אזור יהודה והשומרון                1255   \n",
       "3611             קריית ארבע  אזור יהודה והשומרון                7338   \n",
       "3616            מעלה אדומים  אזור יהודה והשומרון               37846   \n",
       "3640            קרני שומרון  אזור יהודה והשומרון                9417   \n",
       "3650                   אפרת  אזור יהודה והשומרון               11405   \n",
       "3652        בית אריה-עופרים  אזור יהודה והשומרון                5351   \n",
       "3660                 עמנואל  אזור יהודה והשומרון                4129   \n",
       "3730               גבעת זאב  אזור יהודה והשומרון               19225   \n",
       "3750              אלפי מנשה  אזור יהודה והשומרון                7997   \n",
       "3760                 אורנית  אזור יהודה והשומרון                8965   \n",
       "3769                 הר אדר  אזור יהודה והשומרון                4084   \n",
       "3780             ביתר עילית  אזור יהודה והשומרון               61125   \n",
       "3797          מודיעין עילית  אזור יהודה והשומרון               77967   \n",
       "\n",
       "           pop_cbs        pop  \n",
       "CR_PNIM                        \n",
       "72       50,499.00  50,499.00  \n",
       "73       68,526.00  68,526.00  \n",
       "74        1,844.00   1,844.00  \n",
       "75        5,100.00   5,100.00  \n",
       "76       24,517.00  24,517.00  \n",
       "78        8,934.00   8,934.00  \n",
       "472       7,772.00   7,772.00  \n",
       "1015     24,251.00  24,251.00  \n",
       "1137      6,237.00   6,237.00  \n",
       "1200     94,656.00  95,149.00  \n",
       "2610    130,813.00 130,813.00  \n",
       "3000    940,798.00 980,966.70  \n",
       "3557      4,583.00   4,583.00  \n",
       "3570     19,584.00  19,584.00  \n",
       "3574      5,681.00   5,681.00  \n",
       "3608      1,166.00   1,166.00  \n",
       "3611      7,338.00   7,338.00  \n",
       "3616     37,791.00  37,791.00  \n",
       "3640      9,416.00   9,416.00  \n",
       "3650     11,405.00  11,405.00  \n",
       "3652      5,353.00   5,353.00  \n",
       "3660      4,131.00   4,738.60  \n",
       "3730     20,253.00  20,253.00  \n",
       "3750      7,996.00   7,996.00  \n",
       "3760      8,965.00   8,965.00  \n",
       "3769      4,083.00   4,083.00  \n",
       "3780     60,224.00  60,224.00  \n",
       "3797     76,494.00  76,494.00  "
      ]
     },
     "execution_count": 226,
     "metadata": {},
     "output_type": "execute_result"
    }
   ],
   "source": [
    "pop_2020_cbs_muni.join(stat_by_muni_sum,how='inner')"
   ]
  },
  {
   "cell_type": "markdown",
   "id": "aec1b2c2",
   "metadata": {},
   "source": [
    "### ייצא מידע ברמת אזור סטט עם השינוים שלנו"
   ]
  },
  {
   "cell_type": "code",
   "execution_count": null,
   "id": "08a9cd66",
   "metadata": {},
   "outputs": [],
   "source": [
    "stat=stat.fillna(0)"
   ]
  },
  {
   "cell_type": "code",
   "execution_count": null,
   "id": "1dfcb28a",
   "metadata": {},
   "outputs": [],
   "source": [
    "stat['pop_delta']=stat['pop']-stat['pop_cbs']"
   ]
  },
  {
   "cell_type": "code",
   "execution_count": null,
   "id": "24920510",
   "metadata": {},
   "outputs": [],
   "source": [
    "stat['aprt_20_delta']=stat['aprt_20']-stat['aprt_20_cbs']"
   ]
  },
  {
   "cell_type": "code",
   "execution_count": null,
   "id": "2c061de6",
   "metadata": {},
   "outputs": [],
   "source": [
    "col=['STAT','precent_of_stat_data','classification_name','pop','pop_cbs','aprt_20','aprt_20_cbs','pop_delta','aprt_20_delta','change_from_cbs']"
   ]
  },
  {
   "cell_type": "code",
   "execution_count": null,
   "id": "e45ff6e5",
   "metadata": {
    "scrolled": true
   },
   "outputs": [],
   "source": [
    "stat[col].query('STAT!=5526 & STAT!=9975').to_excel(r'{}\\Intermediates\\stat_cbs_jtmt_2020_short.xlsx'.format(software_data_folder_location),index=False)"
   ]
  },
  {
   "cell_type": "code",
   "execution_count": null,
   "id": "b620819c",
   "metadata": {},
   "outputs": [],
   "source": [
    "stat.query('STAT!=5526 & STAT!=9975').to_excel(r'{}\\Intermediates\\stat_cbs_jtmt_2020.xlsx'.format(software_data_folder_location),index=False)"
   ]
  }
 ],
 "metadata": {
  "kernelspec": {
   "display_name": "Python 3 (ipykernel)",
   "language": "python",
   "name": "python3"
  },
  "language_info": {
   "codemirror_mode": {
    "name": "ipython",
    "version": 3
   },
   "file_extension": ".py",
   "mimetype": "text/x-python",
   "name": "python",
   "nbconvert_exporter": "python",
   "pygments_lexer": "ipython3",
   "version": "3.11.5"
  },
  "toc": {
   "base_numbering": 1,
   "nav_menu": {},
   "number_sections": true,
   "sideBar": true,
   "skip_h1_title": false,
   "title_cell": "Table of Contents",
   "title_sidebar": "Contents",
   "toc_cell": false,
   "toc_position": {
    "height": "calc(100% - 180px)",
    "left": "10px",
    "top": "150px",
    "width": "373.333px"
   },
   "toc_section_display": true,
   "toc_window_display": true
  }
 },
 "nbformat": 4,
 "nbformat_minor": 5
}
