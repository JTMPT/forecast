{
 "cells": [
  {
   "cell_type": "markdown",
   "id": "0e7214ba",
   "metadata": {},
   "source": [
    "### קוד מבוא"
   ]
  },
  {
   "cell_type": "code",
   "execution_count": 1,
   "id": "f8405d52",
   "metadata": {},
   "outputs": [],
   "source": [
    "import pandas as pd\n",
    "import geopandas as gpd\n",
    "import numpy as np\n",
    "from shapely import wkt\n",
    "from matplotlib import pyplot as plt \n",
    "import folium\n",
    "import fiona\n",
    "from mpl_toolkits.axes_grid1 import make_axes_locatable\n",
    "from shapely.geometry import Point\n",
    "import py_scripts.functions\n",
    "import py_scripts.statistical_areas_layer\n",
    "from py_scripts.functions import drop_geo\n",
    "from py_scripts.functions import make_point\n",
    "from py_scripts.functions import up_load_df\n",
    "from py_scripts.functions import up_load_gdb\n",
    "from py_scripts.functions import up_load_shp\n",
    "from py_scripts.statistical_areas_layer import statistical_areas_layer\n",
    "from py_scripts.authority_level_information import authority_level_information\n",
    "from py_scripts.upload_population_information import upload_population_information\n",
    "from py_scripts.create_age_distribution_table import create_age_distribution_table\n",
    "from py_scripts.percentage_of_hardi_of_statistical_area import percentage_of_hardi_of_statistical_area\n",
    "from py_scripts.fix_level_a_arab_jerus import fix_level_a_arab_jerus\n",
    "from py_scripts.assimilation_fix_level_a import assimilation_fix_level_a\n",
    "from py_scripts.uploading_problematic_statistical_area_for_correction_level_b import uploading_problematic_statistical_area_for_correction_level_b\n",
    "from py_scripts.create_GM_according_to_catalog import create_GM_according_to_catalog\n",
    "from py_scripts.fix_lebel_b import fix_lebel_b\n",
    "from py_scripts.creating_apartments_according_to_household_size import creating_apartments_according_to_household_size\n",
    "from py_scripts.information_control_lms_at_authority_level import information_control_lms_at_authority_level\n",
    "from py_scripts.export_stat_area_level_information import export_stat_area_level_information"
   ]
  },
  {
   "cell_type": "code",
   "execution_count": 2,
   "id": "2dacbc13",
   "metadata": {},
   "outputs": [],
   "source": [
    "pd.set_option('display.max_rows', None)\n",
    "pd.set_option('display.max_columns', None)"
   ]
  },
  {
   "cell_type": "code",
   "execution_count": 3,
   "id": "b2c3b3ca",
   "metadata": {},
   "outputs": [],
   "source": [
    "pd.options.display.float_format = '{:.4f}'.format\n",
    "pd.set_option('display.float_format',  '{:,.2f}'.format)"
   ]
  },
  {
   "cell_type": "markdown",
   "id": "9624443e",
   "metadata": {},
   "source": [
    "### פונקציות"
   ]
  },
  {
   "cell_type": "code",
   "execution_count": 4,
   "id": "5319a90d",
   "metadata": {},
   "outputs": [],
   "source": [
    "#העלת משתנים להרצת הקוד\n",
    "df_inputs_outputs = pd.read_excel('inputs_outputs.xlsx')\n",
    "\n",
    "software_data_folder_location=df_inputs_outputs['location'][0]\n",
    "\n",
    "forecast_version_folder_location=df_inputs_outputs['location'][1]\n"
   ]
  },
  {
   "cell_type": "markdown",
   "id": "d66f6096",
   "metadata": {},
   "source": [
    "### העלת טבלת המרה בין למס מרכזי למשני"
   ]
  },
  {
   "cell_type": "code",
   "execution_count": 5,
   "id": "1366eb07",
   "metadata": {},
   "outputs": [],
   "source": [
    "stat_join_from_main_to_secondary=up_load_df(\n",
    "        r'{}\\background_files'.format(software_data_folder_location),'stat_join_from_main_to_secondary')"
   ]
  },
  {
   "cell_type": "markdown",
   "id": "366eb7ab",
   "metadata": {},
   "source": [
    "### העלת טבלת יח_ד למ_ס"
   ]
  },
  {
   "cell_type": "code",
   "execution_count": 6,
   "id": "809075ee",
   "metadata": {},
   "outputs": [],
   "source": [
    "folder_path=r'{}\\background_files'.format(software_data_folder_location)\n",
    "file_name='מספר דירות לפי אזורים סטטיסטיים'\n",
    "\n",
    "path_df=r'{}\\{}.xlsx'.format(folder_path,file_name)\n",
    "df=pd.read_excel(path_df)\n",
    "df=df.dropna(how='all')\n",
    "\n",
    "\n",
    "stat_aprt=df"
   ]
  },
  {
   "cell_type": "code",
   "execution_count": 7,
   "id": "fb77759a",
   "metadata": {},
   "outputs": [],
   "source": [
    "col=['STAT', 'aprt_20']"
   ]
  },
  {
   "cell_type": "code",
   "execution_count": 8,
   "id": "f0722888",
   "metadata": {},
   "outputs": [],
   "source": [
    "stat_aprt=stat_aprt[col]"
   ]
  },
  {
   "cell_type": "markdown",
   "id": "9a0d615f",
   "metadata": {},
   "source": [
    "### שכבת אזורים סטטיסטים"
   ]
  },
  {
   "cell_type": "code",
   "execution_count": 9,
   "id": "206ca65c",
   "metadata": {},
   "outputs": [],
   "source": [
    "path=r'{}\\background_files\\statisticalareas_2020_demography.gdb'.format(software_data_folder_location)\n",
    "layer_list=fiona.listlayers(path)\n",
    "\n",
    "layer_name='statisticalareas_2020_demography_jtmt_area'\n",
    "\n",
    "gpd_layer=gpd.read_file(path, layer=layer_list.index(layer_name)).fillna(0)\n",
    "\n",
    "stat=gpd_layer.rename(columns={'YISHUV_STAT11':'STAT'})"
   ]
  },
  {
   "cell_type": "code",
   "execution_count": 10,
   "id": "de9afefb",
   "metadata": {},
   "outputs": [],
   "source": [
    "stat=statistical_areas_layer(stat, stat_aprt, stat_join_from_main_to_secondary)"
   ]
  },
  {
   "cell_type": "markdown",
   "id": "3c339905",
   "metadata": {},
   "source": [
    "###  מידע ברמת רשות"
   ]
  },
  {
   "cell_type": "code",
   "execution_count": 11,
   "id": "58258f84",
   "metadata": {},
   "outputs": [],
   "source": [
    "stat_point=make_point(stat[['STAT', 'geometry']])\n",
    "muni_under_JTMT_ITM=up_load_gdb(r'{}\\background_files\\MUNI_border.gdb'.format(software_data_folder_location),'muni_under_JTMT_ITM')\n",
    "muni_under_JTMT_ITM=muni_under_JTMT_ITM[['CR_PNIM','geometry']]"
   ]
  },
  {
   "cell_type": "code",
   "execution_count": 12,
   "id": "0acb7baf",
   "metadata": {},
   "outputs": [],
   "source": [
    "stat=authority_level_information(stat, stat_point, muni_under_JTMT_ITM)"
   ]
  },
  {
   "cell_type": "markdown",
   "id": "01e0f653",
   "metadata": {},
   "source": [
    "###  העלת מידע אוכלוסייה"
   ]
  },
  {
   "cell_type": "code",
   "execution_count": 13,
   "id": "00235be5",
   "metadata": {},
   "outputs": [],
   "source": [
    "folder_path=r'{}\\background_files'.format(software_data_folder_location)\n",
    "file_name='cbs_2020_with_age_distribution_type'\n",
    "\n",
    "path_df=r'{}\\{}.xlsx'.format(folder_path,file_name)\n",
    "df=pd.read_excel(path_df,sheet_name='classification')\n",
    "df=df.dropna(how='all')\n",
    "\n",
    "classification=df"
   ]
  },
  {
   "cell_type": "code",
   "execution_count": 14,
   "id": "140b5dd4",
   "metadata": {},
   "outputs": [],
   "source": [
    "stat=upload_population_information(stat, classification)"
   ]
  },
  {
   "cell_type": "code",
   "execution_count": 15,
   "id": "137bc6bd",
   "metadata": {},
   "outputs": [],
   "source": [
    "folder_path=r'{}\\background_files'.format(software_data_folder_location)\n",
    "file_name='cbs_2020_with_age_distribution_type'\n",
    "\n",
    "path_df=r'{}\\{}.xlsx'.format(folder_path,file_name)\n",
    "df=pd.read_excel(path_df,sheet_name='hh_size')\n",
    "df=df.dropna(how='all')\n",
    "\n",
    "hh_size=df"
   ]
  },
  {
   "cell_type": "code",
   "execution_count": 16,
   "id": "1d32f57a",
   "metadata": {},
   "outputs": [],
   "source": [
    "stat=pd.merge(stat,hh_size,on='classification_name',how='left')"
   ]
  },
  {
   "cell_type": "code",
   "execution_count": 17,
   "id": "b160ea0a",
   "metadata": {},
   "outputs": [],
   "source": [
    "folder_path=r'{}\\background_files'.format(software_data_folder_location)\n",
    "file_name='cbs_2020_with_age_distribution_type'\n",
    "\n",
    "path_df=r'{}\\{}.xlsx'.format(folder_path,file_name)\n",
    "df=pd.read_excel(path_df,sheet_name='types')\n",
    "df=df.dropna(how='all')\n",
    "\n",
    "age_des_types=df"
   ]
  },
  {
   "cell_type": "code",
   "execution_count": 18,
   "id": "3b26f902",
   "metadata": {},
   "outputs": [],
   "source": [
    "folder_path=r'{}\\background_files'.format(software_data_folder_location)\n",
    "file_name='cbs_2020_with_age_distribution_type'\n",
    "\n",
    "path_df=r'{}\\{}.xlsx'.format(folder_path,file_name)\n",
    "df=pd.read_excel(path_df,sheet_name='absolute_numbers')\n",
    "df=df.dropna(how='all').fillna(0)\n",
    "\n",
    "cbs_pop=df"
   ]
  },
  {
   "cell_type": "code",
   "execution_count": 19,
   "id": "14017fd8",
   "metadata": {},
   "outputs": [],
   "source": [
    "cbs_pop['pop']=cbs_pop.iloc[:,3:].sum(axis=1)"
   ]
  },
  {
   "cell_type": "code",
   "execution_count": 20,
   "id": "dc270fea",
   "metadata": {},
   "outputs": [],
   "source": [
    "age=['0','5','10','15','20','25','30','35','40','45','50','55','60','65','70','75','80','85']"
   ]
  },
  {
   "cell_type": "code",
   "execution_count": 21,
   "id": "396c2129",
   "metadata": {
    "code_folding": [],
    "scrolled": true
   },
   "outputs": [],
   "source": [
    "for x in age:\n",
    "    cbs_pop['pop_{}'.format(x)]= cbs_pop['female_{}'.format(x)]+cbs_pop['male_{}'.format(x)]"
   ]
  },
  {
   "cell_type": "code",
   "execution_count": 22,
   "id": "cf489af3",
   "metadata": {},
   "outputs": [],
   "source": [
    "cbs_pop['pop_75up']= cbs_pop[['pop_75', 'pop_80', 'pop_85']].sum(axis=1)"
   ]
  },
  {
   "cell_type": "code",
   "execution_count": 23,
   "id": "a0eef3a3",
   "metadata": {
    "code_folding": [
     0
    ]
   },
   "outputs": [],
   "source": [
    "col=[ 'main_stat', 'pop', 'pop_0', 'pop_5', 'pop_10', 'pop_15', 'pop_20', 'pop_25', 'pop_30', 'pop_35', 'pop_40', 'pop_45', 'pop_50',\n",
    " 'pop_55',\n",
    " 'pop_60',\n",
    " 'pop_65',\n",
    " 'pop_70',\n",
    " 'pop_75up']"
   ]
  },
  {
   "cell_type": "code",
   "execution_count": 24,
   "id": "7b43602f",
   "metadata": {},
   "outputs": [],
   "source": [
    "cbs_pop=cbs_pop[col]"
   ]
  },
  {
   "cell_type": "markdown",
   "id": "5a2d8e68",
   "metadata": {},
   "source": [
    "יצירת טבלת התפלגות גילים באחוזים לטובת המשך הקוד כאשר יש שינויים בסך הכל אוכלוסיה אבל מעוניינים עדיין בהתפלגות גילים המקורית"
   ]
  },
  {
   "cell_type": "code",
   "execution_count": 25,
   "id": "1466d104",
   "metadata": {},
   "outputs": [],
   "source": [
    "cbs_pop_pre=cbs_pop.copy()"
   ]
  },
  {
   "cell_type": "code",
   "execution_count": 26,
   "id": "a830aefb",
   "metadata": {},
   "outputs": [],
   "source": [
    "stat=create_age_distribution_table(cbs_pop_pre, cbs_pop, stat)"
   ]
  },
  {
   "cell_type": "markdown",
   "id": "a6d2b0bc",
   "metadata": {},
   "source": [
    "###  אחוז חרדים מכלל א\"ס"
   ]
  },
  {
   "cell_type": "code",
   "execution_count": 27,
   "id": "107ecbc8",
   "metadata": {},
   "outputs": [],
   "source": [
    "folder_path=r'{}\\background_files'.format(software_data_folder_location)\n",
    "file_name='אוכלוסייה חרדית לפי מחוז, יישוב, ואזור סטטיסטי - 2020'\n",
    "\n",
    "path_df=r'{}\\{}.xlsx'.format(folder_path,file_name)\n",
    "df=pd.read_excel(path_df)\n",
    "df=df.dropna(how='all')\n",
    "\n",
    "stat_hardi=df"
   ]
  },
  {
   "cell_type": "code",
   "execution_count": 28,
   "id": "59929e2a",
   "metadata": {},
   "outputs": [],
   "source": [
    "stat=percentage_of_hardi_of_statistical_area(stat_hardi, stat)"
   ]
  },
  {
   "cell_type": "markdown",
   "id": "7e82075f",
   "metadata": {},
   "source": [
    "###  תיקון שלב א ערבי ירושלים"
   ]
  },
  {
   "cell_type": "code",
   "execution_count": 29,
   "id": "575f6f29",
   "metadata": {},
   "outputs": [],
   "source": [
    "path=r'{}\\background_files\\statisticalareas_2020_demography.gdb'.format(software_data_folder_location)\n",
    "layer_name='statisticalareas_2020_demography_arab_jtmt'\n",
    "stat_arab=up_load_gdb(path,layer_name)"
   ]
  },
  {
   "cell_type": "code",
   "execution_count": 30,
   "id": "1d4ab79a",
   "metadata": {},
   "outputs": [
    {
     "name": "stderr",
     "output_type": "stream",
     "text": [
      "c:\\Users\\dpere\\Documents\\JTMT\\forecast\\create_forecast_basic\\current\\py_scripts\\fix_level_a_arab_jerus.py:16: FutureWarning: Setting an item of incompatible dtype is deprecated and will raise in a future error of pandas. Value '-103981.8' has dtype incompatible with int64, please explicitly cast to a compatible dtype first.\n",
      "  group_pop_jtmt.loc['east_jeru_left','pop']=group_pop_delta.item()\n"
     ]
    }
   ],
   "source": [
    "stat_arab=fix_level_a_arab_jerus(col, stat_arab, cbs_pop_pre)"
   ]
  },
  {
   "cell_type": "markdown",
   "id": "0f4bb507",
   "metadata": {},
   "source": [
    "###  הטמעת תיקון שלב א"
   ]
  },
  {
   "cell_type": "code",
   "execution_count": 31,
   "id": "45fcc199",
   "metadata": {
    "scrolled": true
   },
   "outputs": [],
   "source": [
    "stat=assimilation_fix_level_a(stat_arab, stat)"
   ]
  },
  {
   "cell_type": "markdown",
   "id": "da453a3f",
   "metadata": {},
   "source": [
    "###  העלת א\"ס בעייתי לתיקון שלב ב"
   ]
  },
  {
   "cell_type": "code",
   "execution_count": 32,
   "id": "97f9a11d",
   "metadata": {},
   "outputs": [],
   "source": [
    "path=r'{}\\background_files\\jtmt_fix_for_cbs_data_2020.shp'.format(software_data_folder_location)\n",
    "\n",
    "jtmt_fix_stat=up_load_shp(path)"
   ]
  },
  {
   "cell_type": "code",
   "execution_count": 33,
   "id": "a1b5dcbb",
   "metadata": {},
   "outputs": [],
   "source": [
    "stat=uploading_problematic_statistical_area_for_correction_level_b(jtmt_fix_stat, stat)"
   ]
  },
  {
   "cell_type": "markdown",
   "id": "7109edd7",
   "metadata": {},
   "source": [
    "###  יצירת גמ לפי קטלוג"
   ]
  },
  {
   "cell_type": "code",
   "execution_count": 34,
   "id": "a7954092",
   "metadata": {},
   "outputs": [],
   "source": [
    "cbs_not_lie_lst=list(stat.query('fix_pop.isna() & fix_aprt.isna() & fix_class.isna() ').index)"
   ]
  },
  {
   "cell_type": "code",
   "execution_count": 35,
   "id": "a95835fb",
   "metadata": {},
   "outputs": [
    {
     "name": "stderr",
     "output_type": "stream",
     "text": [
      "c:\\Users\\dpere\\Documents\\JTMT\\forecast\\create_forecast_basic\\current\\py_scripts\\create_GM_according_to_catalog.py:10: FutureWarning: The provided callable <built-in function sum> is currently using DataFrameGroupBy.sum. In a future version of pandas, the provided callable will be used directly. To keep current behavior pass the string \"sum\" instead.\n",
      "  hh_size_by_classification=drop_geo(stat).loc[(stat['aprt_20']>0)&(stat['STAT'].isin(cbs_not_lie_lst))].pivot_table(index='classification_name',aggfunc=sum)[['aprt_20','pop','count']]\n"
     ]
    }
   ],
   "source": [
    "stat=create_GM_according_to_catalog(stat, cbs_not_lie_lst, hh_size)"
   ]
  },
  {
   "cell_type": "markdown",
   "id": "7bcd0aa1",
   "metadata": {},
   "source": [
    "###  תיקון שלב ב"
   ]
  },
  {
   "cell_type": "code",
   "execution_count": 36,
   "id": "f8976b5f",
   "metadata": {},
   "outputs": [],
   "source": [
    "stat=fix_lebel_b(stat)"
   ]
  },
  {
   "cell_type": "markdown",
   "id": "1f7b4746",
   "metadata": {},
   "source": [
    "כאן מתקנים מספר דירות לפי גודל משק בית באזורים ערביים שהגודל משק בית יותר או פחות 20% ממה שאנחנו חושבים שצריך להיות שם"
   ]
  },
  {
   "cell_type": "code",
   "execution_count": 37,
   "id": "3834400f",
   "metadata": {},
   "outputs": [],
   "source": [
    "stat.loc[(stat['classification_name'].str.contains(\"ערבי\")==True)&(((stat['pop']/stat['aprt_20'])/stat['hh_size']>1.2)|((stat['pop']/stat['aprt_20'])/stat['hh_size']<0.8)),'aprt_20']=stat['pop']/stat['hh_size']"
   ]
  },
  {
   "cell_type": "code",
   "execution_count": 38,
   "id": "ffb57c2e",
   "metadata": {},
   "outputs": [],
   "source": [
    "stat.loc[(stat['classification_name'].str.contains(\"ערבי\")==True)&(((stat['pop']/stat['aprt_20'])/stat['hh_size']>1.2)|((stat['pop']/stat['aprt_20'])/stat['hh_size']<0.8)),'change_from_cbs']=stat['change_from_cbs']+'| aprt_created_from_pop_because_hh_size_not_in_range |'"
   ]
  },
  {
   "cell_type": "markdown",
   "id": "bcbb161d",
   "metadata": {},
   "source": [
    "###  יצירת דירות לפי גודל משק בית"
   ]
  },
  {
   "cell_type": "code",
   "execution_count": 39,
   "id": "e4dfffa5",
   "metadata": {},
   "outputs": [],
   "source": [
    "stat=creating_apartments_according_to_household_size(stat)"
   ]
  },
  {
   "cell_type": "markdown",
   "id": "8af12531",
   "metadata": {},
   "source": [
    "### בקרת מידע למס ברמה של רשות\n"
   ]
  },
  {
   "cell_type": "code",
   "execution_count": 40,
   "id": "78771eb4",
   "metadata": {},
   "outputs": [],
   "source": [
    "pop_2020_cbs_muni=up_load_df(r'{}\\background_files'.format(software_data_folder_location),'pop_2020_cbs_muni')"
   ]
  },
  {
   "cell_type": "code",
   "execution_count": 41,
   "id": "8dbbb377",
   "metadata": {
    "scrolled": true
   },
   "outputs": [
    {
     "name": "stderr",
     "output_type": "stream",
     "text": [
      "c:\\Users\\dpere\\Documents\\JTMT\\forecast\\create_forecast_basic\\current\\py_scripts\\information_control_lms_at_authority_level.py:6: FutureWarning: The provided callable <built-in function sum> is currently using DataFrameGroupBy.sum. In a future version of pandas, the provided callable will be used directly. To keep current behavior pass the string \"sum\" instead.\n",
      "  stat_by_muni_sum=drop_geo(stat).pivot_table(index='CR_PNIM',aggfunc=sum)[['pop_cbs','pop']]\n"
     ]
    }
   ],
   "source": [
    "stat=information_control_lms_at_authority_level(stat, pop_2020_cbs_muni)"
   ]
  },
  {
   "cell_type": "markdown",
   "id": "aec1b2c2",
   "metadata": {},
   "source": [
    "### ייצא מידע ברמת אזור סטט עם השינוים שלנו"
   ]
  },
  {
   "cell_type": "code",
   "execution_count": 42,
   "id": "08a9cd66",
   "metadata": {},
   "outputs": [],
   "source": [
    "# stat=stat.fillna(0)"
   ]
  },
  {
   "cell_type": "code",
   "execution_count": 43,
   "id": "1dfcb28a",
   "metadata": {},
   "outputs": [],
   "source": [
    "# stat['pop_delta']=stat['pop']-stat['pop_cbs']"
   ]
  },
  {
   "cell_type": "code",
   "execution_count": 44,
   "id": "24920510",
   "metadata": {},
   "outputs": [],
   "source": [
    "# stat['aprt_20_delta']=stat['aprt_20']-stat['aprt_20_cbs']\n",
    "stat=export_stat_area_level_information(stat)"
   ]
  },
  {
   "cell_type": "code",
   "execution_count": 45,
   "id": "2c061de6",
   "metadata": {},
   "outputs": [],
   "source": [
    "col=['STAT','precent_of_stat_data','classification_name','pop','pop_cbs','aprt_20','aprt_20_cbs','pop_delta','aprt_20_delta','change_from_cbs']"
   ]
  },
  {
   "cell_type": "code",
   "execution_count": 46,
   "id": "e45ff6e5",
   "metadata": {
    "scrolled": true
   },
   "outputs": [
    {
     "ename": "KeyError",
     "evalue": "\"['main_stat'] not in index\"",
     "output_type": "error",
     "traceback": [
      "\u001b[1;31m---------------------------------------------------------------------------\u001b[0m",
      "\u001b[1;31mKeyError\u001b[0m                                  Traceback (most recent call last)",
      "Cell \u001b[1;32mIn[46], line 1\u001b[0m\n\u001b[1;32m----> 1\u001b[0m \u001b[43mstat\u001b[49m\u001b[43m[\u001b[49m\u001b[43mcol\u001b[49m\u001b[43m]\u001b[49m\u001b[38;5;241m.\u001b[39mquery(\u001b[38;5;124m'\u001b[39m\u001b[38;5;124mSTAT!=5526 & STAT!=9975\u001b[39m\u001b[38;5;124m'\u001b[39m)\u001b[38;5;241m.\u001b[39mto_excel(\u001b[38;5;124mr\u001b[39m\u001b[38;5;124m'\u001b[39m\u001b[38;5;132;01m{}\u001b[39;00m\u001b[38;5;124m\\\u001b[39m\u001b[38;5;124mIntermediates\u001b[39m\u001b[38;5;124m\\\u001b[39m\u001b[38;5;124mstat_cbs_jtmt_2020_short.xlsx\u001b[39m\u001b[38;5;124m'\u001b[39m\u001b[38;5;241m.\u001b[39mformat(software_data_folder_location),index\u001b[38;5;241m=\u001b[39m\u001b[38;5;28;01mFalse\u001b[39;00m)\n",
      "File \u001b[1;32mc:\\Users\\dpere\\miniconda3\\envs\\creat_forecast_ad_hoc_env\\Lib\\site-packages\\geopandas\\geodataframe.py:1474\u001b[0m, in \u001b[0;36mGeoDataFrame.__getitem__\u001b[1;34m(self, key)\u001b[0m\n\u001b[0;32m   1468\u001b[0m \u001b[38;5;28;01mdef\u001b[39;00m \u001b[38;5;21m__getitem__\u001b[39m(\u001b[38;5;28mself\u001b[39m, key):\n\u001b[0;32m   1469\u001b[0m \u001b[38;5;250m    \u001b[39m\u001b[38;5;124;03m\"\"\"\u001b[39;00m\n\u001b[0;32m   1470\u001b[0m \u001b[38;5;124;03m    If the result is a column containing only 'geometry', return a\u001b[39;00m\n\u001b[0;32m   1471\u001b[0m \u001b[38;5;124;03m    GeoSeries. If it's a DataFrame with any columns of GeometryDtype,\u001b[39;00m\n\u001b[0;32m   1472\u001b[0m \u001b[38;5;124;03m    return a GeoDataFrame.\u001b[39;00m\n\u001b[0;32m   1473\u001b[0m \u001b[38;5;124;03m    \"\"\"\u001b[39;00m\n\u001b[1;32m-> 1474\u001b[0m     result \u001b[38;5;241m=\u001b[39m \u001b[38;5;28;43msuper\u001b[39;49m\u001b[43m(\u001b[49m\u001b[43m)\u001b[49m\u001b[38;5;241;43m.\u001b[39;49m\u001b[38;5;21;43m__getitem__\u001b[39;49m\u001b[43m(\u001b[49m\u001b[43mkey\u001b[49m\u001b[43m)\u001b[49m\n\u001b[0;32m   1475\u001b[0m     \u001b[38;5;66;03m# Custom logic to avoid waiting for pandas GH51895\u001b[39;00m\n\u001b[0;32m   1476\u001b[0m     \u001b[38;5;66;03m# result is not geometry dtype for multi-indexes\u001b[39;00m\n\u001b[0;32m   1477\u001b[0m     \u001b[38;5;28;01mif\u001b[39;00m (\n\u001b[0;32m   1478\u001b[0m         pd\u001b[38;5;241m.\u001b[39mapi\u001b[38;5;241m.\u001b[39mtypes\u001b[38;5;241m.\u001b[39mis_scalar(key)\n\u001b[0;32m   1479\u001b[0m         \u001b[38;5;129;01mand\u001b[39;00m key \u001b[38;5;241m==\u001b[39m \u001b[38;5;124m\"\u001b[39m\u001b[38;5;124m\"\u001b[39m\n\u001b[1;32m   (...)\u001b[0m\n\u001b[0;32m   1482\u001b[0m         \u001b[38;5;129;01mand\u001b[39;00m \u001b[38;5;129;01mnot\u001b[39;00m is_geometry_type(result)\n\u001b[0;32m   1483\u001b[0m     ):\n",
      "File \u001b[1;32mc:\\Users\\dpere\\miniconda3\\envs\\creat_forecast_ad_hoc_env\\Lib\\site-packages\\pandas\\core\\frame.py:3902\u001b[0m, in \u001b[0;36mDataFrame.__getitem__\u001b[1;34m(self, key)\u001b[0m\n\u001b[0;32m   3900\u001b[0m     \u001b[38;5;28;01mif\u001b[39;00m is_iterator(key):\n\u001b[0;32m   3901\u001b[0m         key \u001b[38;5;241m=\u001b[39m \u001b[38;5;28mlist\u001b[39m(key)\n\u001b[1;32m-> 3902\u001b[0m     indexer \u001b[38;5;241m=\u001b[39m \u001b[38;5;28;43mself\u001b[39;49m\u001b[38;5;241;43m.\u001b[39;49m\u001b[43mcolumns\u001b[49m\u001b[38;5;241;43m.\u001b[39;49m\u001b[43m_get_indexer_strict\u001b[49m\u001b[43m(\u001b[49m\u001b[43mkey\u001b[49m\u001b[43m,\u001b[49m\u001b[43m \u001b[49m\u001b[38;5;124;43m\"\u001b[39;49m\u001b[38;5;124;43mcolumns\u001b[39;49m\u001b[38;5;124;43m\"\u001b[39;49m\u001b[43m)\u001b[49m[\u001b[38;5;241m1\u001b[39m]\n\u001b[0;32m   3904\u001b[0m \u001b[38;5;66;03m# take() does not accept boolean indexers\u001b[39;00m\n\u001b[0;32m   3905\u001b[0m \u001b[38;5;28;01mif\u001b[39;00m \u001b[38;5;28mgetattr\u001b[39m(indexer, \u001b[38;5;124m\"\u001b[39m\u001b[38;5;124mdtype\u001b[39m\u001b[38;5;124m\"\u001b[39m, \u001b[38;5;28;01mNone\u001b[39;00m) \u001b[38;5;241m==\u001b[39m \u001b[38;5;28mbool\u001b[39m:\n",
      "File \u001b[1;32mc:\\Users\\dpere\\miniconda3\\envs\\creat_forecast_ad_hoc_env\\Lib\\site-packages\\pandas\\core\\indexes\\base.py:6114\u001b[0m, in \u001b[0;36mIndex._get_indexer_strict\u001b[1;34m(self, key, axis_name)\u001b[0m\n\u001b[0;32m   6111\u001b[0m \u001b[38;5;28;01melse\u001b[39;00m:\n\u001b[0;32m   6112\u001b[0m     keyarr, indexer, new_indexer \u001b[38;5;241m=\u001b[39m \u001b[38;5;28mself\u001b[39m\u001b[38;5;241m.\u001b[39m_reindex_non_unique(keyarr)\n\u001b[1;32m-> 6114\u001b[0m \u001b[38;5;28;43mself\u001b[39;49m\u001b[38;5;241;43m.\u001b[39;49m\u001b[43m_raise_if_missing\u001b[49m\u001b[43m(\u001b[49m\u001b[43mkeyarr\u001b[49m\u001b[43m,\u001b[49m\u001b[43m \u001b[49m\u001b[43mindexer\u001b[49m\u001b[43m,\u001b[49m\u001b[43m \u001b[49m\u001b[43maxis_name\u001b[49m\u001b[43m)\u001b[49m\n\u001b[0;32m   6116\u001b[0m keyarr \u001b[38;5;241m=\u001b[39m \u001b[38;5;28mself\u001b[39m\u001b[38;5;241m.\u001b[39mtake(indexer)\n\u001b[0;32m   6117\u001b[0m \u001b[38;5;28;01mif\u001b[39;00m \u001b[38;5;28misinstance\u001b[39m(key, Index):\n\u001b[0;32m   6118\u001b[0m     \u001b[38;5;66;03m# GH 42790 - Preserve name from an Index\u001b[39;00m\n",
      "File \u001b[1;32mc:\\Users\\dpere\\miniconda3\\envs\\creat_forecast_ad_hoc_env\\Lib\\site-packages\\pandas\\core\\indexes\\base.py:6178\u001b[0m, in \u001b[0;36mIndex._raise_if_missing\u001b[1;34m(self, key, indexer, axis_name)\u001b[0m\n\u001b[0;32m   6175\u001b[0m     \u001b[38;5;28;01mraise\u001b[39;00m \u001b[38;5;167;01mKeyError\u001b[39;00m(\u001b[38;5;124mf\u001b[39m\u001b[38;5;124m\"\u001b[39m\u001b[38;5;124mNone of [\u001b[39m\u001b[38;5;132;01m{\u001b[39;00mkey\u001b[38;5;132;01m}\u001b[39;00m\u001b[38;5;124m] are in the [\u001b[39m\u001b[38;5;132;01m{\u001b[39;00maxis_name\u001b[38;5;132;01m}\u001b[39;00m\u001b[38;5;124m]\u001b[39m\u001b[38;5;124m\"\u001b[39m)\n\u001b[0;32m   6177\u001b[0m not_found \u001b[38;5;241m=\u001b[39m \u001b[38;5;28mlist\u001b[39m(ensure_index(key)[missing_mask\u001b[38;5;241m.\u001b[39mnonzero()[\u001b[38;5;241m0\u001b[39m]]\u001b[38;5;241m.\u001b[39munique())\n\u001b[1;32m-> 6178\u001b[0m \u001b[38;5;28;01mraise\u001b[39;00m \u001b[38;5;167;01mKeyError\u001b[39;00m(\u001b[38;5;124mf\u001b[39m\u001b[38;5;124m\"\u001b[39m\u001b[38;5;132;01m{\u001b[39;00mnot_found\u001b[38;5;132;01m}\u001b[39;00m\u001b[38;5;124m not in index\u001b[39m\u001b[38;5;124m\"\u001b[39m)\n",
      "\u001b[1;31mKeyError\u001b[0m: \"['main_stat'] not in index\""
     ]
    }
   ],
   "source": [
    "stat[col].query('STAT!=5526 & STAT!=9975').to_excel(r'{}\\Intermediates\\stat_cbs_jtmt_2020_short.xlsx'.format(software_data_folder_location),index=False)"
   ]
  },
  {
   "cell_type": "code",
   "execution_count": null,
   "id": "b620819c",
   "metadata": {},
   "outputs": [],
   "source": [
    "stat.query('STAT!=5526 & STAT!=9975').to_excel(r'{}\\Intermediates\\stat_cbs_jtmt_2020.xlsx'.format(software_data_folder_location),index=False)"
   ]
  }
 ],
 "metadata": {
  "kernelspec": {
   "display_name": "Python 3 (ipykernel)",
   "language": "python",
   "name": "python3"
  },
  "language_info": {
   "codemirror_mode": {
    "name": "ipython",
    "version": 3
   },
   "file_extension": ".py",
   "mimetype": "text/x-python",
   "name": "python",
   "nbconvert_exporter": "python",
   "pygments_lexer": "ipython3",
   "version": "3.11.5"
  },
  "toc": {
   "base_numbering": 1,
   "nav_menu": {},
   "number_sections": true,
   "sideBar": true,
   "skip_h1_title": false,
   "title_cell": "Table of Contents",
   "title_sidebar": "Contents",
   "toc_cell": false,
   "toc_position": {
    "height": "calc(100% - 180px)",
    "left": "10px",
    "top": "150px",
    "width": "373.333px"
   },
   "toc_section_display": true,
   "toc_window_display": true
  }
 },
 "nbformat": 4,
 "nbformat_minor": 5
}
