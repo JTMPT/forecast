{
 "cells": [
  {
   "cell_type": "markdown",
   "id": "0e7214ba",
   "metadata": {},
   "source": [
    "### קוד מבוא"
   ]
  },
  {
   "cell_type": "markdown",
   "id": "712823cd",
   "metadata": {},
   "source": [
    "### ספריות"
   ]
  },
  {
   "cell_type": "code",
   "execution_count": 55,
   "id": "f3b87aea",
   "metadata": {},
   "outputs": [],
   "source": [
    "import os\n",
    "import sys\n",
    "import pandas as pd\n",
    "import geopandas as gpd\n",
    "import fiona"
   ]
  },
  {
   "cell_type": "code",
   "execution_count": 56,
   "id": "2dacbc13",
   "metadata": {},
   "outputs": [],
   "source": [
    "pd.set_option('display.max_rows', None)\n",
    "pd.set_option('display.max_columns', None)\n",
    "pd.options.display.float_format = '{:.4f}'.format\n",
    "pd.set_option('display.float_format',  '{:,.2f}'.format)"
   ]
  },
  {
   "cell_type": "markdown",
   "id": "173d4831",
   "metadata": {},
   "source": [
    "### העלת משתנים להרצת הקוד"
   ]
  },
  {
   "cell_type": "code",
   "execution_count": 57,
   "id": "69c085d4",
   "metadata": {},
   "outputs": [],
   "source": [
    "path = os.getcwd()\n",
    "\n",
    "software_root_folder = os.path.dirname(path)\n",
    "\n",
    "software_folder_location = r'{}\\current'.format(software_root_folder)\n",
    "\n",
    "df_inputs_outputs = pd.read_excel(r'{}\\inputs_outputs.xlsx'.format(software_folder_location))\n",
    "\n",
    "forecast_version_folder_location=df_inputs_outputs['location'][1]\n",
    "\n",
    "sys.path.append(software_root_folder)"
   ]
  },
  {
   "cell_type": "markdown",
   "id": "9624443e",
   "metadata": {},
   "source": [
    "### פונקציות"
   ]
  },
  {
   "cell_type": "code",
   "execution_count": 58,
   "id": "ba45020a",
   "metadata": {},
   "outputs": [],
   "source": [
    "from global_functions import up_load_shp, up_load_df, drop_geo, make_point, up_load_gdb"
   ]
  },
  {
   "cell_type": "markdown",
   "id": "7e32b57e",
   "metadata": {},
   "source": [
    "### פונקציות גלובליות"
   ]
  },
  {
   "cell_type": "markdown",
   "id": "d66f6096",
   "metadata": {},
   "source": [
    "### העלאת טבלת המרה בין למס מרכזי למשני"
   ]
  },
  {
   "cell_type": "code",
   "execution_count": 59,
   "id": "1366eb07",
   "metadata": {},
   "outputs": [],
   "source": [
    "stat_join_from_main_to_secondary=up_load_df(\n",
    "        r'{}\\background_files'.format(software_folder_location),'stat_join_from_main_to_secondary')"
   ]
  },
  {
   "cell_type": "markdown",
   "id": "366eb7ab",
   "metadata": {},
   "source": [
    "### העלת טבלת יח_ד למ_ס"
   ]
  },
  {
   "cell_type": "code",
   "execution_count": 60,
   "id": "809075ee",
   "metadata": {},
   "outputs": [],
   "source": [
    "folder_path=r'{}\\background_files'.format(software_folder_location)\n",
    "file_name='מספר דירות לפי אזורים סטטיסטיים'\n",
    "\n",
    "path_df=r'{}\\{}.xlsx'.format(folder_path,file_name)\n",
    "df=pd.read_excel(path_df)\n",
    "df=df.dropna(how='all')\n",
    "\n",
    "stat_aprt=df"
   ]
  },
  {
   "cell_type": "code",
   "execution_count": 61,
   "id": "f0722888",
   "metadata": {},
   "outputs": [],
   "source": [
    "col=['STAT', 'aprt_20']\n",
    "\n",
    "stat_aprt=stat_aprt[col]"
   ]
  },
  {
   "cell_type": "markdown",
   "id": "9a0d615f",
   "metadata": {},
   "source": [
    "### שכבת אזורים סטטיסטים"
   ]
  },
  {
   "cell_type": "code",
   "execution_count": 62,
   "id": "206ca65c",
   "metadata": {},
   "outputs": [],
   "source": [
    "path=r'{}\\background_files\\statisticalareas_2020_demography.gdb'.format(software_folder_location)\n",
    "layer_list=fiona.listlayers(path)\n",
    "\n",
    "layer_name='statisticalareas_2020_demography_jtmt_area'\n",
    "\n",
    "gpd_layer=gpd.read_file(path, layer=layer_list.index(layer_name)).fillna(0)\n",
    "\n",
    "stat=gpd_layer.rename(columns={'YISHUV_STAT11':'STAT'})"
   ]
  },
  {
   "cell_type": "code",
   "execution_count": 63,
   "id": "da6ec417",
   "metadata": {},
   "outputs": [],
   "source": [
    "col_name=['STAT','geometry']\n",
    "\n",
    "stat=stat[col_name]\n",
    "\n",
    "stat=pd.merge(stat,stat_aprt,on='STAT',how='left').merge(stat_join_from_main_to_secondary,left_on='STAT',right_on='secondary_stat',how='left')\n",
    "\n",
    "stat.loc[stat['precent_of_stat_data'].isna(),'main_stat']=stat['STAT']\n",
    "\n",
    "stat.loc[stat['precent_of_stat_data'].isna(),'secondary_stat']=stat['STAT']\n",
    "\n",
    "stat.loc[stat['precent_of_stat_data'].isna(),'precent_of_stat_data']=1"
   ]
  },
  {
   "cell_type": "markdown",
   "id": "3c339905",
   "metadata": {},
   "source": [
    "###  מידע ברמת רשות"
   ]
  },
  {
   "cell_type": "code",
   "execution_count": 64,
   "id": "58258f84",
   "metadata": {},
   "outputs": [],
   "source": [
    "stat_point=make_point(stat[['STAT', 'geometry']])\n",
    "\n",
    "muni_under_JTMT_ITM=up_load_gdb(r'{}\\background_files\\MUNI_border.gdb'.format(software_folder_location),'muni_under_JTMT_ITM')\n",
    "\n",
    "muni_under_JTMT_ITM=muni_under_JTMT_ITM[['CR_PNIM','geometry']]\n",
    "\n",
    "stat=stat.set_index('STAT')\n",
    "\n",
    "stat['CR_PNIM']=stat_point.sjoin(muni_under_JTMT_ITM)[['STAT','CR_PNIM']].set_index('STAT')\n",
    "\n",
    "stat=stat.reset_index()"
   ]
  },
  {
   "cell_type": "markdown",
   "id": "01e0f653",
   "metadata": {},
   "source": [
    "###  העלת מידע אוכלוסייה"
   ]
  },
  {
   "cell_type": "code",
   "execution_count": 65,
   "id": "00235be5",
   "metadata": {},
   "outputs": [],
   "source": [
    "folder_path=r'{}\\background_files'.format(software_folder_location)\n",
    "file_name='cbs_2020_with_age_distribution_type'\n",
    "\n",
    "path_df=r'{}\\{}.xlsx'.format(folder_path,file_name)\n",
    "df=pd.read_excel(path_df,sheet_name='classification')\n",
    "df=df.dropna(how='all')\n",
    "\n",
    "classification=df"
   ]
  },
  {
   "cell_type": "code",
   "execution_count": 66,
   "id": "39226e6b",
   "metadata": {},
   "outputs": [],
   "source": [
    "col_name=['main_stat','classification_name']\n",
    "\n",
    "classification=classification[col_name]\n",
    "\n",
    "classification=classification.drop_duplicates(subset='main_stat',keep='first')\n",
    "\n",
    "stat=pd.merge(stat,classification,on='main_stat',how='left')"
   ]
  },
  {
   "cell_type": "code",
   "execution_count": 67,
   "id": "137bc6bd",
   "metadata": {},
   "outputs": [],
   "source": [
    "folder_path=r'{}\\background_files'.format(software_folder_location)\n",
    "file_name='cbs_2020_with_age_distribution_type'\n",
    "\n",
    "path_df=r'{}\\{}.xlsx'.format(folder_path,file_name)\n",
    "df=pd.read_excel(path_df,sheet_name='hh_size')\n",
    "df=df.dropna(how='all')\n",
    "\n",
    "hh_size=df"
   ]
  },
  {
   "cell_type": "code",
   "execution_count": 68,
   "id": "1d32f57a",
   "metadata": {},
   "outputs": [],
   "source": [
    "stat=pd.merge(stat,hh_size,on='classification_name',how='left')"
   ]
  },
  {
   "cell_type": "code",
   "execution_count": 69,
   "id": "b160ea0a",
   "metadata": {},
   "outputs": [],
   "source": [
    "folder_path=r'{}\\background_files'.format(software_folder_location)\n",
    "file_name='cbs_2020_with_age_distribution_type'\n",
    "\n",
    "path_df=r'{}\\{}.xlsx'.format(folder_path,file_name)\n",
    "df=pd.read_excel(path_df,sheet_name='types')\n",
    "df=df.dropna(how='all')\n",
    "\n",
    "age_des_types=df"
   ]
  },
  {
   "cell_type": "markdown",
   "id": "ebebe75e",
   "metadata": {},
   "source": [
    "age_des_types.pivot_table(columns='age_name',index='classification_name',aggfunc=sum,values='perc').to_excel(r'\\\\FILE-SRV\\Jtmt\\projections_team\\כללי\\פעולות\\יצירת_מצב_קיים_למס\\חומר גלם\\התפלגות_גילים_קטלוג\\age_des_types_230719.xlsx')"
   ]
  },
  {
   "cell_type": "code",
   "execution_count": 70,
   "id": "3b26f902",
   "metadata": {},
   "outputs": [],
   "source": [
    "folder_path=r'{}\\background_files'.format(software_folder_location)\n",
    "file_name='cbs_2020_with_age_distribution_type'\n",
    "\n",
    "path_df=r'{}\\{}.xlsx'.format(folder_path,file_name)\n",
    "df=pd.read_excel(path_df,sheet_name='absolute_numbers')\n",
    "df=df.dropna(how='all').fillna(0)\n",
    "\n",
    "cbs_pop=df\n",
    "\n",
    "cbs_pop['pop']=cbs_pop.iloc[:,3:].sum(axis=1)"
   ]
  },
  {
   "cell_type": "code",
   "execution_count": 71,
   "id": "396c2129",
   "metadata": {
    "code_folding": [],
    "scrolled": true
   },
   "outputs": [],
   "source": [
    "age=['0','5','10','15','20','25','30','35','40','45','50','55','60','65','70','75','80','85']\n",
    "\n",
    "for x in age:\n",
    "    cbs_pop['pop_{}'.format(x)]= cbs_pop['female_{}'.format(x)]+cbs_pop['male_{}'.format(x)]\n",
    "\n",
    "cbs_pop['pop_75up']= cbs_pop[['pop_75', 'pop_80', 'pop_85']].sum(axis=1)"
   ]
  },
  {
   "cell_type": "code",
   "execution_count": 72,
   "id": "a0eef3a3",
   "metadata": {
    "code_folding": [
     0
    ]
   },
   "outputs": [],
   "source": [
    "col=[ 'main_stat', 'pop', 'pop_0', 'pop_5', 'pop_10', 'pop_15', 'pop_20', 'pop_25', 'pop_30', 'pop_35', 'pop_40', 'pop_45', 'pop_50',\n",
    " 'pop_55',\n",
    " 'pop_60',\n",
    " 'pop_65',\n",
    " 'pop_70',\n",
    " 'pop_75up']\n",
    "\n",
    "cbs_pop=cbs_pop[col]"
   ]
  },
  {
   "cell_type": "markdown",
   "id": "5a2d8e68",
   "metadata": {},
   "source": [
    "יצירת טבלת התפלגות גילים באחוזים לטובת המשך הקוד כאשר יש שינויים בסך הכל אוכלוסיה אבל מעוניינים עדיין בהתפלגות גילים המקורית"
   ]
  },
  {
   "cell_type": "code",
   "execution_count": 73,
   "id": "6b44a09b",
   "metadata": {},
   "outputs": [],
   "source": [
    "cbs_pop_pre=cbs_pop.copy()\n",
    "\n",
    "col=list(cbs_pop_pre.iloc[:,1:])\n",
    "\n",
    "cbs_pop_pre.loc[:, col] = cbs_pop_pre.loc[:, col].div(cbs_pop_pre['pop'], axis=0)\n",
    "\n",
    "cbs_pop_pre=cbs_pop_pre.fillna(0)\n",
    "\n",
    "cbs_pop_pre=cbs_pop_pre.rename(columns={'pop':'pop_pre'})\n",
    "\n",
    "cbs_pop_pre=cbs_pop_pre.merge(cbs_pop[['main_stat', 'pop']],on='main_stat',how='left')\n",
    "\n",
    "stat=pd.merge(stat,cbs_pop_pre,on='main_stat',how='left')\n",
    "\n",
    "stat['pop']=stat['pop']*stat['precent_of_stat_data']"
   ]
  },
  {
   "cell_type": "markdown",
   "id": "a6d2b0bc",
   "metadata": {},
   "source": [
    "###  אחוז חרדים מכלל א\"ס"
   ]
  },
  {
   "cell_type": "code",
   "execution_count": 74,
   "id": "107ecbc8",
   "metadata": {},
   "outputs": [],
   "source": [
    "folder_path=r'{}\\background_files'.format(software_folder_location)\n",
    "file_name='אוכלוסייה חרדית לפי מחוז, יישוב, ואזור סטטיסטי - 2020'\n",
    "\n",
    "path_df=r'{}\\{}.xlsx'.format(folder_path,file_name)\n",
    "df=pd.read_excel(path_df)\n",
    "df=df.dropna(how='all')\n",
    "\n",
    "stat_hardi=df"
   ]
  },
  {
   "cell_type": "code",
   "execution_count": 75,
   "id": "59929e2a",
   "metadata": {},
   "outputs": [],
   "source": [
    "stat_hardi=stat_hardi[['pre_hardi','main_stat']].set_index('main_stat')\n",
    "\n",
    "stat=stat.set_index('main_stat')\n",
    "\n",
    "stat['pre_hardi']=stat_hardi['pre_hardi']\n",
    "\n",
    "stat['pre_hardi']=stat['pre_hardi'].fillna(0)"
   ]
  },
  {
   "cell_type": "markdown",
   "id": "7e82075f",
   "metadata": {},
   "source": [
    "###  תיקון שלב א ערבי ירושלים"
   ]
  },
  {
   "cell_type": "code",
   "execution_count": 76,
   "id": "575f6f29",
   "metadata": {},
   "outputs": [],
   "source": [
    "path=r'{}\\background_files\\statisticalareas_2020_demography.gdb'.format(software_folder_location)\n",
    "layer_name='statisticalareas_2020_demography_arab_jtmt'\n",
    "\n",
    "stat_arab=up_load_gdb(path,layer_name)"
   ]
  },
  {
   "cell_type": "code",
   "execution_count": null,
   "id": "9949efd7",
   "metadata": {},
   "outputs": [],
   "source": [
    "col=['STAT', 'group_name']\n",
    "\n",
    "stat_arab=stat_arab[col]\n",
    "\n",
    "stat_arab=stat_arab.merge(cbs_pop_pre,left_on='STAT',right_on='main_stat',how='left')\n",
    "\n",
    "stat_arab=stat_arab.set_index('group_name')\n",
    "\n",
    "group_pop=stat_arab.groupby(by='group_name').sum()[['pop']]\n",
    "\n",
    "stat_arab['group_pop']=group_pop['pop']\n",
    "\n",
    "stat_arab['pre_from_group_pop']=stat_arab['pop']/stat_arab['group_pop']"
   ]
  },
  {
   "cell_type": "code",
   "execution_count": null,
   "id": "25090989",
   "metadata": {},
   "outputs": [],
   "source": [
    "data = [['akev', 55000], ['Shuafat', 75000],['east_jeru_left',0]]\n",
    "\n",
    "group_pop_jtmt = pd.DataFrame(data, columns=['group_name', 'pop']).set_index('group_name')\n",
    "\n",
    "group_pop_delta=group_pop-group_pop_jtmt\n",
    "\n",
    "group_pop_delta=group_pop_delta.loc['east_jeru_left']+(group_pop_delta.loc['Shuafat']+group_pop_delta.loc['akev'])*0.8#בגלל שהדלתא מוסבר עי הגירה מיוש ולא רק מהעיר ירושלים \n",
    "\n",
    "group_pop_jtmt.loc['east_jeru_left','pop']=group_pop_delta.item()"
   ]
  },
  {
   "cell_type": "code",
   "execution_count": null,
   "id": "3963061b",
   "metadata": {},
   "outputs": [],
   "source": [
    "stat_arab['group_pop_jtmt']=group_pop_jtmt['pop']\n",
    "\n",
    "stat_arab['pop']=stat_arab['pre_from_group_pop']*stat_arab['group_pop_jtmt']"
   ]
  },
  {
   "cell_type": "markdown",
   "id": "0f4bb507",
   "metadata": {},
   "source": [
    "###  הטמעת תיקון שלב א"
   ]
  },
  {
   "cell_type": "code",
   "execution_count": null,
   "id": "d8416382",
   "metadata": {},
   "outputs": [],
   "source": [
    "stat_arab=stat_arab.set_index('main_stat')"
   ]
  },
  {
   "cell_type": "code",
   "execution_count": null,
   "id": "88fa3b93",
   "metadata": {},
   "outputs": [],
   "source": [
    "stat['pop_cbs']=stat['pop']\n",
    "\n",
    "stat.loc[list(stat_arab.index),'pop']=stat_arab['pop']\n",
    "\n",
    "stat['change_from_cbs']=''\n",
    "\n",
    "stat.loc[list(stat_arab.index),'change_from_cbs']='| general_arab_change |'"
   ]
  },
  {
   "cell_type": "markdown",
   "id": "da453a3f",
   "metadata": {},
   "source": [
    "###  העלת א\"ס בעייתי לתיקון שלב ב"
   ]
  },
  {
   "cell_type": "code",
   "execution_count": null,
   "id": "97f9a11d",
   "metadata": {},
   "outputs": [],
   "source": [
    "path=r'{}\\background_files\\jtmt_fix_for_cbs_data_2020.shp'.format(software_folder_location)\n",
    "\n",
    "jtmt_fix_stat=up_load_shp(path)"
   ]
  },
  {
   "cell_type": "code",
   "execution_count": null,
   "id": "1b02ea44",
   "metadata": {},
   "outputs": [],
   "source": [
    "col=['STAT',\n",
    " 'fix_pop',\n",
    " 'fix_aprt',\n",
    " 'fix_class']\n",
    "\n",
    "jtmt_fix_stat=jtmt_fix_stat[col].set_index('STAT')"
   ]
  },
  {
   "cell_type": "code",
   "execution_count": null,
   "id": "92fecd16",
   "metadata": {},
   "outputs": [],
   "source": [
    "stat=stat.set_index('STAT')\n",
    "\n",
    "stat=stat.join(jtmt_fix_stat, how='left')"
   ]
  },
  {
   "cell_type": "markdown",
   "id": "7109edd7",
   "metadata": {},
   "source": [
    "###  יצירת גמ לפי קטלוג"
   ]
  },
  {
   "cell_type": "code",
   "execution_count": null,
   "id": "a7954092",
   "metadata": {},
   "outputs": [],
   "source": [
    "cbs_not_lie_lst=list(stat.query('fix_pop.isna() & fix_aprt.isna() & fix_class.isna() ').index)"
   ]
  },
  {
   "cell_type": "code",
   "execution_count": null,
   "id": "223ce441",
   "metadata": {},
   "outputs": [],
   "source": [
    "stat['count']=1\n",
    "\n",
    "stat=stat.reset_index()\n",
    "\n",
    "stat.loc[stat['STAT'].isin(cbs_not_lie_lst),['fix_pop','fix_aprt','fix_class']]=1"
   ]
  },
  {
   "cell_type": "code",
   "execution_count": null,
   "id": "d2b8fba3",
   "metadata": {
    "scrolled": true
   },
   "outputs": [],
   "source": [
    "hh_size_by_classification=drop_geo(stat).loc[(stat['aprt_20']>0)&(stat['STAT'].isin(cbs_not_lie_lst))].pivot_table(index='classification_name',aggfunc=sum)[['aprt_20','pop','count']]\n",
    "\n",
    "hh_size_by_classification['hh_size']=hh_size_by_classification['pop']/hh_size_by_classification['aprt_20']\n",
    "\n",
    "hh_size_by_classification=hh_size_by_classification[['hh_size','count']]"
   ]
  },
  {
   "cell_type": "code",
   "execution_count": null,
   "id": "1186b814",
   "metadata": {},
   "outputs": [],
   "source": [
    "hh_size=hh_size.merge(hh_size_by_classification.reset_index(),how='left',on='classification_name',suffixes=('','_cbs'))"
   ]
  },
  {
   "cell_type": "markdown",
   "id": "7bcd0aa1",
   "metadata": {},
   "source": [
    "###  תיקון שלב ב"
   ]
  },
  {
   "cell_type": "code",
   "execution_count": null,
   "id": "f8976b5f",
   "metadata": {},
   "outputs": [],
   "source": [
    "stat.loc[(stat['fix_pop']==0)&(stat['fix_aprt']==1)&(stat['fix_class']==1),'pop']=stat['aprt_20']*stat['hh_size']\n",
    "\n",
    "stat.loc[(stat['fix_pop']==0)&(stat['fix_aprt']==1)&(stat['fix_class']==1),'change_from_cbs']=stat['change_from_cbs']+'| pop_created_from_cbs_aprt |'\n",
    "\n",
    "stat.loc[(stat['fix_pop']==0)&(stat['fix_aprt']==0)&(stat['fix_class']==0),'pop']=0\n",
    "\n",
    "stat.loc[(stat['fix_pop']==0)&(stat['fix_aprt']==0)&(stat['fix_class']==0),'change_from_cbs']=stat['change_from_cbs']+'| cbs_pop_deleted |'\n",
    "\n",
    "stat['aprt_20_cbs']=stat['aprt_20']\n",
    "\n",
    "stat.loc[(stat['fix_pop']==0)&(stat['fix_aprt']==0)&(stat['fix_class']==0),'aprt_20']=0\n",
    "\n",
    "stat.loc[(stat['fix_pop']==0)&(stat['fix_aprt']==0)&(stat['fix_class']==0),'change_from_cbs']=stat['change_from_cbs']+'| cbs_aprt_deleted |'\n",
    "\n",
    "stat.loc[(stat['fix_pop']==1)&(stat['fix_aprt']==0)&(stat['fix_class']==1),'aprt_20']=stat['pop']/stat['hh_size']\n",
    "\n",
    "stat.loc[(stat['fix_pop']==1)&(stat['fix_aprt']==0)&(stat['fix_class']==1),'change_from_cbs']=stat['change_from_cbs']+'| aprt_created_from_pop |'"
   ]
  },
  {
   "cell_type": "markdown",
   "id": "1f7b4746",
   "metadata": {},
   "source": [
    "כאן מתקנים מספר דירות לפי גודל משק בית באזורים ערביים שהגודל משק בית יותר או פחות 20% ממה שאנחנו חושבים שצריך להיות שם"
   ]
  },
  {
   "cell_type": "code",
   "execution_count": null,
   "id": "3834400f",
   "metadata": {},
   "outputs": [],
   "source": [
    "stat.loc[(stat['classification_name'].str.contains(\"ערבי\")==True)&(((stat['pop']/stat['aprt_20'])/stat['hh_size']>1.2)|((stat['pop']/stat['aprt_20'])/stat['hh_size']<0.8)),'aprt_20']=stat['pop']/stat['hh_size']\n",
    "\n",
    "stat.loc[(stat['classification_name'].str.contains(\"ערבי\")==True)&(((stat['pop']/stat['aprt_20'])/stat['hh_size']>1.2)|((stat['pop']/stat['aprt_20'])/stat['hh_size']<0.8)),'change_from_cbs']=stat['change_from_cbs']+'| aprt_created_from_pop_because_hh_size_not_in_range |'"
   ]
  },
  {
   "cell_type": "markdown",
   "id": "bcbb161d",
   "metadata": {},
   "source": [
    "###  יצירת דירות לפי גודל משק בית"
   ]
  },
  {
   "cell_type": "code",
   "execution_count": null,
   "id": "483deefa",
   "metadata": {},
   "outputs": [],
   "source": [
    "stat.loc[((stat['aprt_20'].isna())|(stat['aprt_20']==0))&(stat['pop']>0),'change_from_cbs']=stat['change_from_cbs']+'| aprt_created_from_pop_because_no_cbs_data |'\n",
    "\n",
    "stat.loc[((stat['aprt_20'].isna())|(stat['aprt_20']==0))&(stat['pop']>0),'aprt_20']=round(stat['pop']/stat['hh_size'])"
   ]
  },
  {
   "cell_type": "markdown",
   "id": "8af12531",
   "metadata": {},
   "source": [
    "### בקרת מידע למס ברמה של רשות\n"
   ]
  },
  {
   "cell_type": "code",
   "execution_count": null,
   "id": "78771eb4",
   "metadata": {},
   "outputs": [],
   "source": [
    "pop_2020_cbs_muni=up_load_df(r'{}\\background_files'.format(software_folder_location),'pop_2020_cbs_muni')"
   ]
  },
  {
   "cell_type": "code",
   "execution_count": null,
   "id": "eed36093",
   "metadata": {},
   "outputs": [],
   "source": [
    "stat['CR_PNIM']=stat['CR_PNIM'].fillna(0).astype(int)\n",
    "\n",
    "stat_by_muni_sum=drop_geo(stat).pivot_table(index='CR_PNIM',aggfunc=sum)[['pop_cbs','pop']]\n",
    "\n",
    "pop_2020_cbs_muni=pop_2020_cbs_muni.set_index('CR_PNIM')\n",
    "\n",
    "pop_2020_cbs_muni.join(stat_by_muni_sum,how='inner')"
   ]
  },
  {
   "cell_type": "markdown",
   "id": "aec1b2c2",
   "metadata": {},
   "source": [
    "### ייצא מידע ברמת אזור סטט עם השינוים שלנו"
   ]
  },
  {
   "cell_type": "code",
   "execution_count": null,
   "id": "08a9cd66",
   "metadata": {},
   "outputs": [],
   "source": [
    "stat=stat.fillna(0)\n",
    "\n",
    "stat['pop_delta']=stat['pop']-stat['pop_cbs']\n",
    "\n",
    "stat['aprt_20_delta']=stat['aprt_20']-stat['aprt_20_cbs']\n",
    "\n",
    "col=['STAT','precent_of_stat_data','classification_name','pop','pop_cbs','aprt_20','aprt_20_cbs','pop_delta','aprt_20_delta','change_from_cbs']"
   ]
  },
  {
   "cell_type": "code",
   "execution_count": null,
   "id": "e45ff6e5",
   "metadata": {
    "scrolled": true
   },
   "outputs": [],
   "source": [
    "stat[col].query('STAT!=5526 & STAT!=9975').to_excel(r'{}\\Intermediates\\stat_cbs_jtmt_2020_short.xlsx'.format(software_folder_location),index=False)"
   ]
  },
  {
   "cell_type": "code",
   "execution_count": null,
   "id": "80bbf1e1",
   "metadata": {},
   "outputs": [],
   "source": [
    "stat.query('STAT!=5526 & STAT!=9975').to_excel(r'{}\\Intermediates\\stat_cbs_jtmt_2020.xlsx'.format(software_folder_location),index=False)"
   ]
  },
  {
   "cell_type": "markdown",
   "id": "b5eeb2ed",
   "metadata": {},
   "source": [
    "path=r'\\\\FILE-SRV\\Jtmt\\projections_team\\GIS_backround\\INFO\\למ_ס\\אזורים סטטיסטים\\statisticalareas_2020_demography.gdb'\n",
    "layer_list=fiona.listlayers(path)\n",
    "\n",
    "layer_name='statisticalareas_2020_demography_jtmt_area'\n",
    "\n",
    "gpd_layer=gpd.read_file(path, layer=layer_list.index(layer_name)).fillna(0)\n",
    "\n",
    "stat_border=gpd_layer.rename(columns={'YISHUV_STAT11':'STAT'})\n",
    "\n",
    "stat_border[['geometry','STAT']].merge(stat[col],on='STAT',how='right').query('STAT!=5526 & STAT!=9975').to_file(r'\\\\FILE-SRV\\Jtmt\\projections_team\\כללי\\פעולות\\יצירת_מצב_קיים_למס\\output\\stat_cbs_jtmt_2020.shp',encoding='utf-8')"
   ]
  }
 ],
 "metadata": {
  "kernelspec": {
   "display_name": "Python 3 (ipykernel)",
   "language": "python",
   "name": "python3"
  },
  "language_info": {
   "codemirror_mode": {
    "name": "ipython",
    "version": 3
   },
   "file_extension": ".py",
   "mimetype": "text/x-python",
   "name": "python",
   "nbconvert_exporter": "python",
   "pygments_lexer": "ipython3",
   "version": "3.11.5"
  },
  "toc": {
   "base_numbering": 1,
   "nav_menu": {},
   "number_sections": true,
   "sideBar": true,
   "skip_h1_title": false,
   "title_cell": "Table of Contents",
   "title_sidebar": "Contents",
   "toc_cell": false,
   "toc_position": {
    "height": "calc(100% - 180px)",
    "left": "10px",
    "top": "150px",
    "width": "373.333px"
   },
   "toc_section_display": true,
   "toc_window_display": true
  }
 },
 "nbformat": 4,
 "nbformat_minor": 5
}
