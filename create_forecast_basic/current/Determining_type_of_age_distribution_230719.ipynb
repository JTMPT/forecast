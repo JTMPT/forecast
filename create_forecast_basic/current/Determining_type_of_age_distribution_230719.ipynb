{
 "cells": [
  {
   "cell_type": "markdown",
   "id": "8f3343ba",
   "metadata": {},
   "source": [
    "### ספריות"
   ]
  },
  {
   "cell_type": "code",
   "execution_count": 1,
   "id": "0c16c15f",
   "metadata": {},
   "outputs": [],
   "source": [
    "import os\n",
    "import sys\n",
    "import pandas as pd\n",
    "import geopandas as gpd\n",
    "import numpy as np"
   ]
  },
  {
   "cell_type": "code",
   "execution_count": 2,
   "id": "66e4ee9f",
   "metadata": {},
   "outputs": [],
   "source": [
    "pd.set_option('display.max_rows', None)\n",
    "pd.set_option('display.max_columns', None)\n",
    "pd.set_option('display.float_format', lambda x: '%.3f' % x)"
   ]
  },
  {
   "cell_type": "markdown",
   "id": "01c615ba",
   "metadata": {},
   "source": [
    "### העלת משתנים להרצת הקוד"
   ]
  },
  {
   "cell_type": "code",
   "execution_count": 3,
   "id": "090fba73",
   "metadata": {},
   "outputs": [],
   "source": [
    "cwd = os.getcwd()\n",
    "\n",
    "create_forecast_basic_folder_path = os.path.dirname(cwd)\n",
    "\n",
    "sys.path.append(create_forecast_basic_folder_path)"
   ]
  },
  {
   "cell_type": "markdown",
   "id": "f2affc6d",
   "metadata": {},
   "source": [
    "### פונקציות"
   ]
  },
  {
   "cell_type": "code",
   "execution_count": 4,
   "id": "aac7f859",
   "metadata": {},
   "outputs": [],
   "source": [
    "from global_functions import up_load_shp, find_files_with_pattern, get_newest_date_file, get_forecast_version_folder_location"
   ]
  },
  {
   "cell_type": "code",
   "execution_count": 5,
   "id": "58294a4d",
   "metadata": {},
   "outputs": [],
   "source": [
    "forecast_version_folder_location=get_forecast_version_folder_location(r'{}\\background_files\\forecast_version_folder_location.txt'.format(create_forecast_basic_folder_path))\n",
    "\n",
    "forecast_version_folder_location=r'{}\\BASE_YEAR'.format(forecast_version_folder_location)"
   ]
  },
  {
   "cell_type": "markdown",
   "id": "bfe2fbf7",
   "metadata": {},
   "source": [
    "### העלת שכבות רלוונטים"
   ]
  },
  {
   "cell_type": "code",
   "execution_count": 6,
   "id": "ba3d5cbf",
   "metadata": {},
   "outputs": [],
   "source": [
    "matching_files = find_files_with_pattern(forecast_version_folder_location, \"BaseProjections2020_240417\")"
   ]
  },
  {
   "cell_type": "code",
   "execution_count": 31,
   "id": "1f48f347",
   "metadata": {},
   "outputs": [
    {
     "data": {
      "text/plain": [
       "['C:\\\\Users\\\\dpere\\\\Documents\\\\JTMT\\\\forecast_by_version\\\\V4\\\\BASE_YEAR\\\\BaseProjections2020_240417.xlsx']"
      ]
     },
     "execution_count": 31,
     "metadata": {},
     "output_type": "execute_result"
    }
   ],
   "source": [
    "matching_files"
   ]
  },
  {
   "cell_type": "code",
   "execution_count": 7,
   "id": "e9ef92d4",
   "metadata": {},
   "outputs": [],
   "source": [
    "prototypes_df=pd.read_excel(r\"{}\\background_files\\age_des_types.xlsx\".format(cwd))"
   ]
  },
  {
   "cell_type": "code",
   "execution_count": 8,
   "id": "0e8a8ae8",
   "metadata": {},
   "outputs": [],
   "source": [
    "data_df = pd.read_excel(matching_files[0])"
   ]
  },
  {
   "cell_type": "code",
   "execution_count": 33,
   "id": "b7dab5f0",
   "metadata": {},
   "outputs": [],
   "source": [
    "filename = os.path.basename(matching_files[0])\n",
    "\n",
    "# Remove the file extension if present\n",
    "filename = os.path.splitext(filename)[0]"
   ]
  },
  {
   "cell_type": "code",
   "execution_count": 10,
   "id": "752f13c7",
   "metadata": {},
   "outputs": [],
   "source": [
    "TAZ_V4_date = get_newest_date_file(create_forecast_basic_folder_path, 'with_geo_info')\n",
    "\n",
    "sectors=gpd.read_file(r'{}\\background_files\\TAZ_V4_{}_with_geo_info.shp'.format(create_forecast_basic_folder_path, TAZ_V4_date))"
   ]
  },
  {
   "cell_type": "code",
   "execution_count": 11,
   "id": "f80fce18",
   "metadata": {},
   "outputs": [],
   "source": [
    "data_df=sectors[['Taz_num','Muni_Heb']].merge(data_df,left_on='Taz_num',right_on='TAZ',how='right')"
   ]
  },
  {
   "cell_type": "code",
   "execution_count": 12,
   "id": "0337461b",
   "metadata": {},
   "outputs": [],
   "source": [
    "data_df['sector_for_age']=data_df['sector']"
   ]
  },
  {
   "cell_type": "code",
   "execution_count": 13,
   "id": "7babbca6",
   "metadata": {},
   "outputs": [],
   "source": [
    "data_df.loc[\n",
    "    (data_df['yosh'] == 1) &\n",
    "    (data_df['sector'] != 'U_Orthodox'),'sector_for_age'\n",
    "]='hitnachlut'\n"
   ]
  },
  {
   "cell_type": "code",
   "execution_count": 14,
   "id": "71f5ae99",
   "metadata": {
    "code_folding": [
     0
    ]
   },
   "outputs": [],
   "source": [
    "lst_muni=['מעלה אדומים',\n",
    " 'גבעת זאב',\n",
    " 'הר אדר',\n",
    " '0',\n",
    " 'מעלה אפרים',\n",
    " 'מגילות ים המלח\\r\\n',\n",
    " 'קרני שומרון',\n",
    " 'אלפי מנשה',\n",
    " 'בית אריה-עופרים',\n",
    " 'ערבות הירדן\\r\\n',\n",
    " 'אריאל']"
   ]
  },
  {
   "cell_type": "code",
   "execution_count": 15,
   "id": "89e151d5",
   "metadata": {},
   "outputs": [],
   "source": [
    "data_df.loc[data_df['Muni_Heb'].isin(lst_muni),'sector_for_age'\n",
    "]='Jewish'\n"
   ]
  },
  {
   "cell_type": "code",
   "execution_count": 16,
   "id": "76c285f8",
   "metadata": {},
   "outputs": [],
   "source": [
    "data_df.loc[\n",
    "    (data_df['sector'] == 'arabs_behined_seperation_wall') |\n",
    "    (data_df['sector'] == 'Arab'),'sector_for_age'\n",
    "]='Arab'\n"
   ]
  },
  {
   "cell_type": "code",
   "execution_count": 17,
   "id": "23ec0357",
   "metadata": {},
   "outputs": [],
   "source": [
    "data_df=data_df.loc[\n",
    "    (data_df['sector'] != 'Palestinian')\n",
    "]\n"
   ]
  },
  {
   "cell_type": "code",
   "execution_count": 18,
   "id": "3d718857",
   "metadata": {
    "code_folding": [
     0
    ]
   },
   "outputs": [],
   "source": [
    "col=[ 'age0_4',\n",
    " 'age5_9',\n",
    " 'age10_14',\n",
    " 'age15_19',\n",
    " 'age20_24',\n",
    " 'age25_29',\n",
    " 'age30_34',\n",
    " 'age35_39',\n",
    " 'age40_44',\n",
    " 'age45_49',\n",
    " 'age50_54',\n",
    " 'age55_59',\n",
    " 'age60_64',\n",
    " 'age65_69',\n",
    " 'age70_74',\n",
    " 'age75up']"
   ]
  },
  {
   "cell_type": "code",
   "execution_count": 19,
   "id": "a5b34260",
   "metadata": {},
   "outputs": [],
   "source": [
    "# Convert counts to percentages\n",
    "data_df_pre = data_df[col].apply(lambda x: x / x.sum(), axis=1)"
   ]
  },
  {
   "cell_type": "code",
   "execution_count": 20,
   "id": "6a31768e",
   "metadata": {},
   "outputs": [],
   "source": [
    "data_df=data_df.join(data_df_pre,lsuffix='', rsuffix='_prec')"
   ]
  },
  {
   "cell_type": "code",
   "execution_count": 21,
   "id": "54e30e11",
   "metadata": {
    "code_folding": [
     0
    ]
   },
   "outputs": [],
   "source": [
    "col_name_prototype=['pop_0','pop_5',\n",
    " 'pop_10',\n",
    " 'pop_15',\n",
    " 'pop_20',\n",
    " 'pop_25',\n",
    " 'pop_30',\n",
    " 'pop_35',\n",
    " 'pop_40',\n",
    " 'pop_45',\n",
    " 'pop_50',\n",
    " 'pop_55',\n",
    " 'pop_60',\n",
    " 'pop_65',\n",
    " 'pop_70',\n",
    " 'pop_75up']"
   ]
  },
  {
   "cell_type": "code",
   "execution_count": 22,
   "id": "0c052944",
   "metadata": {
    "code_folding": [
     0
    ]
   },
   "outputs": [],
   "source": [
    "col_name_row=['age0_4_prec',\n",
    " 'age5_9_prec',\n",
    " 'age10_14_prec',\n",
    " 'age15_19_prec',\n",
    " 'age20_24_prec',\n",
    " 'age25_29_prec',\n",
    " 'age30_34_prec',\n",
    " 'age35_39_prec',\n",
    " 'age40_44_prec',\n",
    " 'age45_49_prec',\n",
    " 'age50_54_prec',\n",
    " 'age55_59_prec',\n",
    " 'age60_64_prec',\n",
    " 'age65_69_prec',\n",
    " 'age70_74_prec',\n",
    " 'age75up_prec']"
   ]
  },
  {
   "cell_type": "code",
   "execution_count": 23,
   "id": "7bf19cd5",
   "metadata": {},
   "outputs": [],
   "source": [
    "ls_sector=['U_Orthodox', 'Jewish', 'hitnachlut', 'Arab']"
   ]
  },
  {
   "cell_type": "code",
   "execution_count": 24,
   "id": "3e4da494",
   "metadata": {},
   "outputs": [],
   "source": [
    "for s in ls_sector:\n",
    "    locals()['data_df_{}'.format(s)]=data_df.loc[data_df['sector_for_age']=='{}'.format(s)]\n",
    "    locals()['prototypes_df_{}'.format(s)]=prototypes_df.loc[prototypes_df['sector']=='{}'.format(s)]"
   ]
  },
  {
   "cell_type": "code",
   "execution_count": 25,
   "id": "9ace0360",
   "metadata": {},
   "outputs": [
    {
     "name": "stderr",
     "output_type": "stream",
     "text": [
      "C:\\Users\\dpere\\AppData\\Local\\Temp\\ipykernel_14120\\2666082859.py:18: SettingWithCopyWarning: \n",
      "A value is trying to be set on a copy of a slice from a DataFrame.\n",
      "Try using .loc[row_indexer,col_indexer] = value instead\n",
      "\n",
      "See the caveats in the documentation: https://pandas.pydata.org/pandas-docs/stable/user_guide/indexing.html#returning-a-view-versus-a-copy\n",
      "  locals()['data_df_{}'.format(s)].at[index,'classification_name'] = closest_prototype\n",
      "C:\\Users\\dpere\\AppData\\Local\\Temp\\ipykernel_14120\\2666082859.py:18: FutureWarning: Setting an item of incompatible dtype is deprecated and will raise in a future error of pandas. Value 'חרדי מבוגר' has dtype incompatible with float64, please explicitly cast to a compatible dtype first.\n",
      "  locals()['data_df_{}'.format(s)].at[index,'classification_name'] = closest_prototype\n",
      "C:\\Users\\dpere\\AppData\\Local\\Temp\\ipykernel_14120\\2666082859.py:18: SettingWithCopyWarning: \n",
      "A value is trying to be set on a copy of a slice from a DataFrame.\n",
      "Try using .loc[row_indexer,col_indexer] = value instead\n",
      "\n",
      "See the caveats in the documentation: https://pandas.pydata.org/pandas-docs/stable/user_guide/indexing.html#returning-a-view-versus-a-copy\n",
      "  locals()['data_df_{}'.format(s)].at[index,'classification_name'] = closest_prototype\n",
      "C:\\Users\\dpere\\AppData\\Local\\Temp\\ipykernel_14120\\2666082859.py:18: FutureWarning: Setting an item of incompatible dtype is deprecated and will raise in a future error of pandas. Value 'כללי מאוזן' has dtype incompatible with float64, please explicitly cast to a compatible dtype first.\n",
      "  locals()['data_df_{}'.format(s)].at[index,'classification_name'] = closest_prototype\n",
      "C:\\Users\\dpere\\AppData\\Local\\Temp\\ipykernel_14120\\2666082859.py:18: SettingWithCopyWarning: \n",
      "A value is trying to be set on a copy of a slice from a DataFrame.\n",
      "Try using .loc[row_indexer,col_indexer] = value instead\n",
      "\n",
      "See the caveats in the documentation: https://pandas.pydata.org/pandas-docs/stable/user_guide/indexing.html#returning-a-view-versus-a-copy\n",
      "  locals()['data_df_{}'.format(s)].at[index,'classification_name'] = closest_prototype\n",
      "C:\\Users\\dpere\\AppData\\Local\\Temp\\ipykernel_14120\\2666082859.py:18: FutureWarning: Setting an item of incompatible dtype is deprecated and will raise in a future error of pandas. Value 'מתנחלי מאוזן ' has dtype incompatible with float64, please explicitly cast to a compatible dtype first.\n",
      "  locals()['data_df_{}'.format(s)].at[index,'classification_name'] = closest_prototype\n",
      "C:\\Users\\dpere\\AppData\\Local\\Temp\\ipykernel_14120\\2666082859.py:18: SettingWithCopyWarning: \n",
      "A value is trying to be set on a copy of a slice from a DataFrame.\n",
      "Try using .loc[row_indexer,col_indexer] = value instead\n",
      "\n",
      "See the caveats in the documentation: https://pandas.pydata.org/pandas-docs/stable/user_guide/indexing.html#returning-a-view-versus-a-copy\n",
      "  locals()['data_df_{}'.format(s)].at[index,'classification_name'] = closest_prototype\n",
      "C:\\Users\\dpere\\AppData\\Local\\Temp\\ipykernel_14120\\2666082859.py:18: FutureWarning: Setting an item of incompatible dtype is deprecated and will raise in a future error of pandas. Value 'ערבי בינוני' has dtype incompatible with float64, please explicitly cast to a compatible dtype first.\n",
      "  locals()['data_df_{}'.format(s)].at[index,'classification_name'] = closest_prototype\n"
     ]
    }
   ],
   "source": [
    "for s in ls_sector:\n",
    "    for index, row in locals()['data_df_{}'.format(s)].iterrows():\n",
    "        # Step 3: Calculate similarity scores\n",
    "        similarity_scores = []\n",
    "        for _, prototype_row in locals()['prototypes_df_{}'.format(s)].iterrows():\n",
    "            prototype_age_distributions = prototype_row[col_name_prototype].values \n",
    "            data_age_distributions = row[col_name_row].values         \n",
    "            similarity_score = np.linalg.norm(prototype_age_distributions - data_age_distributions)\n",
    "            similarity_scores.append(similarity_score)\n",
    "\n",
    "        # Step 4: Determine closest prototype\n",
    "        closest_index = np.argmin(similarity_scores)\n",
    "        closest_prototype = locals()['prototypes_df_{}'.format(s)].iloc[closest_index]['classification_name']\n",
    "        \n",
    "\n",
    "        # Assign closest_prototype to the corresponding row in data_df or perform any desired action\n",
    "\n",
    "        locals()['data_df_{}'.format(s)].at[index,'classification_name'] = closest_prototype\n",
    "        "
   ]
  },
  {
   "cell_type": "code",
   "execution_count": 26,
   "id": "424534aa",
   "metadata": {},
   "outputs": [],
   "source": [
    "data_df=pd.concat([data_df_U_Orthodox,data_df_Jewish,data_df_hitnachlut,data_df_Arab],axis=0)"
   ]
  },
  {
   "cell_type": "code",
   "execution_count": 27,
   "id": "26921127",
   "metadata": {},
   "outputs": [],
   "source": [
    "# data_df[['Taz_num','sector_for_age','classification_name']].to_excel(r'W:\\Projects\\הסעת המונים\\01_שלב ה\\קבצי עבודה\\תחזיות_דמוגרפיות\\תחזיות_2050\\התפלגות גילים\\backround_files\\{}_age_dis_type.xlsx'.format(filename),index=False)\n",
    "data_df[['Taz_num','sector_for_age','classification_name']].to_excel(r'{}\\Intermediates\\{}_age_dis_type.xlsx'.format(cwd,filename),index=False)"
   ]
  }
 ],
 "metadata": {
  "kernelspec": {
   "display_name": "Python 3 (ipykernel)",
   "language": "python",
   "name": "python3"
  },
  "language_info": {
   "codemirror_mode": {
    "name": "ipython",
    "version": 3
   },
   "file_extension": ".py",
   "mimetype": "text/x-python",
   "name": "python",
   "nbconvert_exporter": "python",
   "pygments_lexer": "ipython3",
   "version": "3.11.5"
  },
  "toc": {
   "base_numbering": 1,
   "nav_menu": {},
   "number_sections": true,
   "sideBar": true,
   "skip_h1_title": false,
   "title_cell": "Table of Contents",
   "title_sidebar": "Contents",
   "toc_cell": false,
   "toc_position": {},
   "toc_section_display": true,
   "toc_window_display": true
  }
 },
 "nbformat": 4,
 "nbformat_minor": 5
}
