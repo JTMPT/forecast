{
 "cells": [
  {
   "cell_type": "code",
   "execution_count": 1,
   "metadata": {
    "execution": {
     "iopub.execute_input": "2024-09-29T11:35:07.856014Z",
     "iopub.status.busy": "2024-09-29T11:35:07.856014Z",
     "iopub.status.idle": "2024-09-29T11:36:56.798793Z",
     "shell.execute_reply": "2024-09-29T11:36:56.798793Z"
    }
   },
   "outputs": [
    {
     "name": "stderr",
     "output_type": "stream",
     "text": [
      "C:\\Users\\gidon\\AppData\\Local\\Temp\\ipykernel_9260\\1806380584.py:5: UserWarning: `keep_geom_type=True` in overlay resulted in 270 dropped geometries of different geometry types than df1 has. Set `keep_geom_type=False` to retain all geometries\n",
      "  EMP_kibolet_by_taz=gpd.overlay(taz.reset_index()[['Taz_num','taz_area','geometry']],EMP_kibolet)\n"
     ]
    }
   ],
   "source": [
    "\n",
    "%run \"./from_sa_cbs_to_ta_jtmt.ipynb\"\n",
    "%run \"./emp_current_year_230718.ipynb\""
   ]
  }
 ],
 "metadata": {
  "language_info": {
   "codemirror_mode": {
    "name": "ipython",
    "version": 3
   },
   "file_extension": ".py",
   "mimetype": "text/x-python",
   "name": "python",
   "nbconvert_exporter": "python",
   "pygments_lexer": "ipython3",
   "version": "3.11.5"
  }
 },
 "nbformat": 4,
 "nbformat_minor": 2
}
