{
 "cells": [
  {
   "cell_type": "markdown",
   "id": "f8736586",
   "metadata": {},
   "source": [
    "## סדר פעולות:\n",
    "\n",
    "העלאת טבלאות\n",
    "\n",
    "סידור שמות השדות באנגלית\n",
    "טבלת מוסדות אחודה- ID, src\n",
    "בקרה על כפילויות מאותו מקור\n",
    "סימון בתי ספר עם הפרשים גדולים בין המקורות\n",
    "מחיקת רשומות ממקור לא מועדף\n",
    "בניית מקדם מספר כיתות מתוך תלמידים.\n",
    "החלת המקדם על כל בתי הספר, עיגול מספר התלמידים\n",
    "\n",
    "מיקום\n",
    "דאטה גוב\n",
    "ירושלים- עירייה\n",
    "בית שמש- עירייה בעזרת סקריפט גאוקודינג\n",
    "גוגל בעזרת כלים אוטומטיים\n",
    "יצירת רשימת מוסדות ללא מיקום\n",
    "חיבור נתונים בעזרת merge\n",
    "ייצוא לעיגון ידני\n",
    "העלאת שכבת מוסדות מעיגון ידני\n",
    "חיבור שכבת העיגון הידני לשאר המוסדות\n",
    "הוספת שם השכונה\n",
    "\n",
    "בונוס- תעסוקה\n",
    "יצירת מקדם מועסקים לפי נתוני למס מעיבוד מיוחד\n",
    "החלת המקדם, עיגול מספר המועסקים\n",
    "\n",
    "ייצוא\n",
    "שכבת נקודות\n",
    "שכבת אזורי תנועה\n",
    "סטטיסטיקות מעניינות\n",
    "טבלת מוסדות עם פער גדול בנתונים"
   ]
  },
  {
   "cell_type": "markdown",
   "id": "26ded864",
   "metadata": {},
   "source": [
    "## ייבוא"
   ]
  },
  {
   "cell_type": "code",
   "execution_count": 283,
   "id": "f96083d7",
   "metadata": {
    "scrolled": true
   },
   "outputs": [],
   "source": [
    "import pandas as pd\n",
    "import geopandas as gpd\n",
    "import numpy as np\n",
    "from shapely.geometry import Point\n",
    "import os\n",
    "import math\n",
    "import warnings\n",
    "from geopy.geocoders import Nominatim\n",
    "import pyproj\n",
    "\n",
    "pd.set_option('display.max_rows', None)\n",
    "pd.set_option('display.max_columns', None)\n",
    "pd.set_option('display.float_format', lambda x: '%.2f' % x)\n",
    "\n",
    "\n"
   ]
  },
  {
   "cell_type": "code",
   "execution_count": 284,
   "id": "07b6e7c5",
   "metadata": {},
   "outputs": [],
   "source": [
    "out_shp = r'W:\\Data\\GIS\\Data Collection\\חנוך\\education.shp'"
   ]
  },
  {
   "cell_type": "markdown",
   "id": "b64e8fe5",
   "metadata": {},
   "source": [
    "## העלאת טבלאות "
   ]
  },
  {
   "cell_type": "code",
   "execution_count": 285,
   "id": "c8bd7dc3",
   "metadata": {},
   "outputs": [],
   "source": [
    "#removing spaces from name of columns\n",
    "def remove_spaces_in_columns(df):\n",
    "    for i in df.columns:\n",
    "        i = str(i)\n",
    "        if ' ' in i:\n",
    "            df.rename(columns = {i:i.replace(' ','_')}, inplace = True)\n",
    "        if \"'\" in i:\n",
    "            df.rename(columns = {i:i.replace(\"'\",'')}, inplace = True)\n",
    "        if '\"' in i:\n",
    "            df.rename(columns = {i:i.replace('\"','')}, inplace = True)\n",
    "        \n",
    "    return df"
   ]
  },
  {
   "cell_type": "code",
   "execution_count": 286,
   "id": "a8389a74",
   "metadata": {
    "scrolled": true
   },
   "outputs": [],
   "source": [
    "#בתי ספר וגנים מעיריית בית שמש\n",
    "BShemesh = remove_spaces_in_columns(pd.read_excel(\n",
    "    r'\\\\file-srv\\Jtmt\\projections_team\\GIS_backround\\INFO\\עיריית בית שמש\\חינוך\\מצבת מוסדות חינוך תשפג משרדי.xlsx')).dropna(how='all')"
   ]
  },
  {
   "cell_type": "code",
   "execution_count": 287,
   "id": "b90485a9",
   "metadata": {},
   "outputs": [],
   "source": [
    "#בתי ספר וגנים מעיריית ירושלים\n",
    "JLM = remove_spaces_in_columns(pd.read_excel(\n",
    "    r'\\\\file-srv\\Jtmt\\projections_team\\GIS_backround\\INFO\\עיריית ירושלים\\חינוך\\מוסדות בירושלים 2020.xlsx')).dropna(how='all')"
   ]
  },
  {
   "cell_type": "code",
   "execution_count": 288,
   "id": "63beb076",
   "metadata": {
    "scrolled": true
   },
   "outputs": [],
   "source": [
    "GKgarden=remove_spaces_in_columns(pd.read_excel(\n",
    "    r'\\\\file-srv\\Jtmt\\projections_team\\GIS_backround\\INFO\\משרד החינוך\\מוסדות\\kgarden_2023.xlsx')).dropna(how='all')"
   ]
  },
  {
   "cell_type": "code",
   "execution_count": 289,
   "id": "46ef4361",
   "metadata": {},
   "outputs": [],
   "source": [
    "#בתי ספר ממשרד החינוך בכל הארץ\n",
    "Gschool=remove_spaces_in_columns(pd.read_excel(\n",
    "    r'\\\\file-srv\\Jtmt\\projections_team\\GIS_backround\\INFO\\משרד החינוך\\מוסדות\\schools_2023.xlsx')).dropna(how='all')"
   ]
  },
  {
   "cell_type": "code",
   "execution_count": 290,
   "id": "84add54d",
   "metadata": {},
   "outputs": [],
   "source": [
    "#יישובים בשטח צתאל שם וקוד יישוב\n",
    "JTMT_setls=remove_spaces_in_columns(pd.read_excel(\n",
    "    r'//file-srv/Jtmt/projections_team/GIS_backround/INFO/צתאל/210615_גבול_אחריות_צתאל/210615_מקוצר_רשימת_יישובים_באחריות_צתאל.xlsx')).dropna(how='all')"
   ]
  },
  {
   "cell_type": "code",
   "execution_count": 291,
   "id": "cd0fd7c1",
   "metadata": {},
   "outputs": [],
   "source": [
    "#קאורדינטות של מוסדות חינוך בכל הארץ ממשרד החינוך\n",
    "GXY=remove_spaces_in_columns(pd.read_excel(\n",
    "    r'\\\\file-srv\\Jtmt\\projections_team\\GIS_backround\\INFO\\משרד החינוך\\מוסדות\\moe_mosdot_coordinates_2022.xlsx')).dropna(how='all')"
   ]
  },
  {
   "cell_type": "code",
   "execution_count": 292,
   "id": "def0f9c7",
   "metadata": {},
   "outputs": [],
   "source": [
    "\n",
    "#מספרי מוסדות, כיתות, ותלמידים בכל רשות מתוך קובץ יישובים של למ\"ס\n",
    "CBS_setl = remove_spaces_in_columns(pd.read_excel(\n",
    "    r'\\\\file-srv\\Jtmt\\projections_team\\GIS_backround\\INFO\\למ_ס\\חינוך\\CBS_EDU_yishuv_2021.xlsx')).dropna(how='all')"
   ]
  },
  {
   "cell_type": "markdown",
   "id": "bcf90bb6",
   "metadata": {},
   "source": [
    "### not in use yet"
   ]
  },
  {
   "cell_type": "code",
   "execution_count": 293,
   "id": "972463f8",
   "metadata": {},
   "outputs": [],
   "source": [
    "EastJlm = remove_spaces_in_columns(pd.read_excel(\n",
    "    r'\\\\file-srv\\Jtmt\\projections_team\\GIS_backround\\INFO\\מכון ירושלים\\מוסדות_חינוך_פרטיים_מזרח_העיר\\_חינוך_פרטי_2021.xlsx')).dropna(how='all')"
   ]
  },
  {
   "cell_type": "code",
   "execution_count": 294,
   "id": "425d7ea6",
   "metadata": {},
   "outputs": [],
   "source": [
    "dormsJLM = remove_spaces_in_columns(pd.read_excel(\n",
    "    r'\\\\file-srv\\Jtmt\\projections_team\\GIS_backround\\INFO\\עיריית ירושלים\\חינוך\\פנימיות מוכרות עיריית ירושלים.xlsx')).dropna(how='all')"
   ]
  },
  {
   "cell_type": "code",
   "execution_count": null,
   "id": "cbb8b01b",
   "metadata": {},
   "outputs": [],
   "source": []
  },
  {
   "cell_type": "markdown",
   "id": "c944c220",
   "metadata": {},
   "source": [
    "## שדות"
   ]
  },
  {
   "cell_type": "markdown",
   "id": "1ce491c9",
   "metadata": {},
   "source": [
    "ID\n",
    "address\n",
    "sector\n",
    "kgarden_stu\n",
    "ele_stu\n",
    "mid_stu\n",
    "high_stu\n",
    "kgarden_class\n",
    "ele_class\n",
    "mid_class\n",
    "high_class\n",
    "'x'\n",
    "'y'\n",
    "src"
   ]
  },
  {
   "cell_type": "markdown",
   "id": "47059b09",
   "metadata": {},
   "source": [
    "#### פונקציות"
   ]
  },
  {
   "cell_type": "code",
   "execution_count": 295,
   "id": "19216191",
   "metadata": {},
   "outputs": [],
   "source": [
    "def age_distribute(df):\n",
    "    #ages definition\n",
    "    ages = {'kgarden':[3, 4, 5],'ele':['א', 'ב', 'ג', 'ד','ה','ו'],'mid':['ז', 'ח', 'ט'], 'high':['י', 'יא', 'יב', 'יג', 'יד']}\n",
    "    ages_number ={'גן':1,'א': 1,'ב': 2,'ג': 3,'ד': 4,'ה': 5,'ו': 6,'ז': 7,\n",
    "        'ח': 8,'ט': 9,'יד': 12.5,'יג': 12.3,'יב': 12,'יא': 11,'י': 10}\n",
    "    for i in ages_number:\n",
    "        df.loc[df['bottom_age']==i,'b_age_num']=ages_number[i]\n",
    "        df.loc[df['top_age']==i,'t_age_num']=ages_number[i]\n",
    "\n",
    "    ##calculate new columns\n",
    "\n",
    "    #kgarden student\n",
    "    df.loc[df['top_age'].isin(ages['kgarden']),'kgarden_stu'] = df['students_total']\n",
    "    if not len(df.loc[df['bottom_age'].isin(ages['kgarden']) & ~df['top_age'].isin(ages['kgarden'])])==0:\n",
    "        print('need to write code for situation of kgarden and school in the same institution')\n",
    "\n",
    "    #high school fixing where it's 0. \n",
    "    #assumes that every age has equal number of student (exept of 13 and 14 class which 0.3 and 0.2 of the other classes)\n",
    "\n",
    "    #all ages are high school\n",
    "    df.loc[(df['b_age_num']>9) & (df['high_stu']==0),'high_stu'] =df['students_total'].round()\n",
    "\n",
    "    #ages are middle and high school and there is a middle school students\n",
    "    df.loc[(df['t_age_num']>9) &(df['b_age_num']>6) & (df['high_stu']==0)& (df['mid_stu']!=0),'high_stu'] =\\\n",
    "    (df['students_total']- df['mid_stu'])\n",
    "\n",
    "    #ages are elementary, middle and high school and there is a middle school ages\n",
    "    df.loc[(df['t_age_num']>9) &(df['b_age_num']<7) & (df['high_stu']==0)& (df['mid_stu']!=0),'high_stu'] =\\\n",
    "    ((df['students_total']- df['mid_stu'])*((df['t_age_num']-9)/(df['t_age_num']-df['b_age_num']-2))).round()\n",
    "\n",
    "    #ages are middle and high school or diverse all school ages\n",
    "    df.loc[(df['t_age_num']>9) &(df['b_age_num']<10) & (df['high_stu']==0)& (df['mid_stu']==0),'high_stu'] =\\\n",
    "    (df['students_total']*((df['t_age_num']-9)/(df['t_age_num']-df['b_age_num']+1))).round()\n",
    "\n",
    "\n",
    "\n",
    "    #middle school fix where it's 0. \n",
    "    #assumes that every age has equal number of student (exept of 13 and 14 class which 0.3 and 0.2 of the other classes)\n",
    "\n",
    "    #all ages are middle school\n",
    "    df.loc[(df['t_age_num']<10) & (df['b_age_num']>6) & (df['mid_stu']==0),'mid_stu'] =df['students_total'].round()\n",
    "\n",
    "    #ages are middle and high school\n",
    "    df.loc[(df['b_age_num']<10) &(df['b_age_num']>6) & (df['mid_stu']==0),'mid_stu'] =\\\n",
    "    (df['students_total']- df['high_stu'])\n",
    "\n",
    "    #ages are middle and elementary school\n",
    "    df.loc[(df['t_age_num']>6) &(df['t_age_num']<10) & (df['mid_stu']==0),'mid_stu'] =\\\n",
    "    df['students_total']*((df['t_age_num']-6)/(df['t_age_num']-df['b_age_num']+1)).round()\n",
    "\n",
    "    #diverse all school ages\n",
    "    df.loc[(df['t_age_num']>6) &(df['b_age_num']<7) & (df['mid_stu']==0),'mid_stu'] =\\\n",
    "    df['students_total']*(3/(df['t_age_num']-df['b_age_num']+1)).round()\n",
    "\n",
    "    #calculate elementary student\n",
    "    df.loc[(df['b_age_num']<7),'ele_stu']=df['students_total']-df['high_stu']-df['mid_stu'].round()\n",
    "\n",
    "    #checking student numbers\n",
    "    if len(df.loc[df['students_total']!=df['high_stu']+df['mid_stu']+df['ele_stu']+df['kgarden_stu']]):\n",
    "        warnings.warn(f\"Warning: there is a problem with age distribution. total studens is different fof sum of them\")\n",
    "\n",
    "    return df"
   ]
  },
  {
   "cell_type": "markdown",
   "id": "8f0d7dfc",
   "metadata": {},
   "source": [
    "#### עיריית בית שמש"
   ]
  },
  {
   "cell_type": "code",
   "execution_count": 296,
   "id": "f6bea733",
   "metadata": {},
   "outputs": [],
   "source": [
    "#change hebrew\n",
    "BShemesh.columns = ['sector', 'name', 'ID', 'neighbourhood', 'address', 'b2', 'a1',\n",
    "       'a5', 'a8', 'a7', 'a6', 'a4', 'a3',\n",
    "       'a9', 'a11', 'a10', 'Kgarden4', 'Kgarden5',\n",
    "       'SpeKgarden', 'Kgarden_total', '1_1', '1_2', '1_3', '1_4', '1_5', '1_', '2_1', '2_2', '2_3', '2_4', '2_', '3_1', '3_2', '3_3', '3_4', '3_', '4_1', '4_2', '4_3', '4_4', '4_', '5_1', '5_2', '5_3', '5_4', '5_', '6_1', '6_2', '6_3', '6_4', '6_', 'a20', '7_1', '7_2', '7_3', '7_4', '7_', '8_1', '8_2', '8_3', '8_4', '8_', '', '9_1', '9_2', '9_3', '9_', '10_1', '10_2', '10_3', '10_', '11_1', '11_2', '11_3', '11_', '12_1', '12_2', '12_3', '12_', 'a22', 'a21']\n",
    "\n",
    "#calculate columns\n",
    "#student number\n",
    "BShemesh['kgarden_stu'] = BShemesh['Kgarden_total'] \n",
    "BShemesh['ele_stu'] = BShemesh[['1_1', '1_2', '1_3', '1_4', '1_5',\n",
    "                            '2_1', '2_2', '2_3', '2_4',\n",
    "                            '3_1', '3_2', '3_3', '3_4',\n",
    "                            '4_1', '4_2', '4_3', '4_4',\n",
    "                            '5_1', '5_2', '5_3', '5_4',\n",
    "                            '6_1', '6_2', '6_3', '6_4',\n",
    "                            '1_', '2_', '3_', '4_','5_', '6_']].sum(axis=1)\n",
    "\n",
    "BShemesh['mid_stu'] = BShemesh[['6_1', '6_2', '6_3', '6_4',\n",
    "                            '7_1', '7_2', '7_3', '7_4',\n",
    "                            '8_1', '8_2', '8_3', '8_4',\n",
    "                            '9_1', '9_2', '9_3',\n",
    "                            '7_', '8_','9_']].sum(axis=1)\n",
    "BShemesh['high_stu'] = BShemesh[['10_1', '10_2', '10_3',\n",
    "                            '11_1', '11_2', '11_3',\n",
    "                            '12_1', '12_2', '12_3',\n",
    "                            '10_', '11_', '12_']].sum(axis=1)\n",
    "\n",
    "BShemesh['kgarden_class'] = BShemesh[['Kgarden4', 'Kgarden5']].count(axis=1)\n",
    "#classes\n",
    "BShemesh['ele_class'] = BShemesh[['1_1', '1_2', '1_3', '1_4', '1_5',\n",
    "                            '2_1', '2_2', '2_3', '2_4',\n",
    "                            '3_1', '3_2', '3_3', '3_4',\n",
    "                            '4_1', '4_2', '4_3', '4_4',\n",
    "                            '5_1', '5_2', '5_3', '5_4',\n",
    "                            '6_1', '6_2', '6_3', '6_4',\n",
    "                            '1_', '2_', '3_', '4_','5_', '6_']].count(axis=1)\n",
    "\n",
    "BShemesh['mid_class'] = BShemesh[['6_1', '6_2', '6_3', '6_4',\n",
    "                            '7_1', '7_2', '7_3', '7_4',\n",
    "                            '8_1', '8_2', '8_3', '8_4',\n",
    "                            '9_1', '9_2', '9_3',\n",
    "                            '7_', '8_','9_']].count(axis=1)\n",
    "BShemesh['high_class'] = BShemesh[['10_1', '10_2', '10_3',\n",
    "                            '11_1', '11_2', '11_3',\n",
    "                            '12_1', '12_2', '12_3',\n",
    "                            '10_', '11_', '12_']].count(axis=1)\n",
    "#sector\n",
    "BShemesh.loc[BShemesh['sector']=='חרדי','sector'] = 2\n",
    "BShemesh.loc[BShemesh['sector']=='ממ\"ח','sector'] = 2\n",
    "BShemesh.loc[BShemesh['sector']=='ממ\"ד','sector'] = 3\n",
    "BShemesh.loc[BShemesh['sector']=='מ\"מ','sector'] = 3\n",
    "BShemesh.loc[BShemesh['sector']=='עירוני','sector'] = 3\n",
    "\n",
    "#adding another columns\n",
    "BShemesh['settlement'] = 'בית שמש'\n",
    "BShemesh[['x', 'y']] = 0\n",
    "\n",
    "#src\n",
    "BShemesh['src'] = 'Beit Shemesh muni'\n",
    "\n",
    "#erase Irelevant columns\n",
    "BShemesh = BShemesh[['ID','name','sector','address','settlement','x', 'y','kgarden_stu','ele_stu','mid_stu','high_stu',\n",
    "                     'kgarden_class','ele_class','mid_class','high_class','src']]"
   ]
  },
  {
   "cell_type": "markdown",
   "id": "fef0642b",
   "metadata": {},
   "source": [
    "#### עיריית ירושלים"
   ]
  },
  {
   "cell_type": "code",
   "execution_count": 297,
   "id": "14953bb0",
   "metadata": {},
   "outputs": [],
   "source": [
    "#change hebrew\n",
    "JLM.columns = ['muni_ID', 'ID', 'name', 'sector', 'פיקוח', 'שלב_חינוך',\n",
    "       'is_speciel', 'מעמד_משפטי', 'bottom_age', 'top_age', 'classes_total',\n",
    "       'mid_stu', 'high_stu', 'students_total',\n",
    "       'קוד_אזור_סטיסטי', 'תאור_אזור_סטטיסטי', 'x', 'y',\n",
    "       'Unnamed:_18', 'Unnamed:_19'] \n",
    "\n",
    "#adding new columns\n",
    "JLM['settlement'] = 'ירושלים'\n",
    "JLM[['address','kgarden_stu','ele_stu','kgarden_class', 'ele_class', 'mid_class', 'high_class']] = 0\n",
    "JLM[['kgarden_stu','high_stu','mid_stu']] = JLM[['kgarden_stu','high_stu','mid_stu']].fillna(0)\n",
    "\n",
    "#calculate student number\n",
    "JLM = age_distribute(JLM)\n",
    "\n",
    "#classes by age\n",
    "JLM['stu_to_class'] = JLM['students_total']/JLM['classes_total']\n",
    "for age in ['kgarden','ele','mid','high']:\n",
    "    JLM[age+'_class'] = (JLM[age+'_stu'] / JLM['stu_to_class']).round()\n",
    "\n",
    "average_student_to_class_in_jlm = JLM['students_total'].sum()/JLM['classes_total'].sum()\n",
    "    \n",
    "#sector\n",
    "JLM.loc[JLM['sector']=='ערבי','sector'] = 1\n",
    "JLM.loc[JLM['sector']=='חרדי','sector'] = 2\n",
    "JLM.loc[JLM['sector']=='כללי','sector'] = 3\n",
    "\n",
    "#src\n",
    "JLM['src'] = 'Jerusalem muni'\n",
    "\n",
    "#erase Irelevant columns\n",
    "JLM = JLM[['ID','name','sector','address','settlement','x', 'y','kgarden_stu','ele_stu','mid_stu','high_stu',\n",
    "                     'kgarden_class','ele_class','mid_class','high_class','src']]"
   ]
  },
  {
   "cell_type": "markdown",
   "id": "4645313a",
   "metadata": {},
   "source": [
    "#### משרד החינוך"
   ]
  },
  {
   "cell_type": "code",
   "execution_count": 298,
   "id": "f7b7ce02",
   "metadata": {},
   "outputs": [],
   "source": [
    "#change hebrew\n",
    "GKgarden.columns = ['ID', 'name', 'settlement', 'address','a','phone','type','legal_status',\n",
    "       'supervision_type', 'sector', 'יחידת_דיווח', 'age', 'kgarden_stu']\n",
    "Gschool.columns = ['ID', 'name', 'settlement', 'address','כתובת חט\"ב', 'טלפון', 'דוא\"ל_מזכירות',\n",
    "       'סוג_חינוך', 'legal_status','supervision_type', 'sector', 'יחידת_דיווח', 'ages', 'students_total']\n",
    "\n",
    "#take only in JTMT settlements\n",
    "setls = list(JTMT_setls['שם_יישוב'])\n",
    "GKgarden = GKgarden.loc[GKgarden['settlement'].isin(setls)]\n",
    "\n",
    "Gschool = Gschool.loc[Gschool['settlement'].isin(setls)]\n",
    "\n",
    "#calculate columns\n",
    "GKgarden[['ele_stu','mid_stu','high_stu','ele_class','mid_class','high_class','x','y']] = 0\n",
    "GKgarden['kgarden_class'] = 1\n",
    "\n",
    "Gschool[['bottom_age', 'top_age']] = Gschool['ages'].str.split(' - ',  expand=True)\n",
    "Gschool['students_total'] = Gschool['students_total'].fillna(0)\n",
    "Gschool[['kgarden_stu','ele_stu','mid_stu','high_stu','kgarden_class','ele_class','mid_class','high_class','x','y']] = 0\n",
    "\n",
    "Gschool = age_distribute(Gschool)\n",
    "\n",
    "#classes\n",
    "#classes by age from the average in jerusalem\n",
    "for age in ['kgarden','ele','mid','high']:\n",
    "    Gschool[age+'_class'] = (Gschool[age+'_stu'] / average_student_to_class_in_jlm).apply(lambda x: math.ceil(x))\n",
    "\n",
    "#sector\n",
    "Gschool.loc[Gschool['sector']!='יהודי','sector'] = 1\n",
    "Gschool.loc[Gschool['sector']=='יהודי','sector'] = 3\n",
    "Gschool.loc[Gschool['supervision_type']=='חרדי','sector'] = 2\n",
    "\n",
    "GKgarden.loc[GKgarden['sector']!='יהודי','sector'] = 1\n",
    "GKgarden.loc[GKgarden['sector']=='יהודי','sector'] = 3\n",
    "GKgarden.loc[GKgarden['supervision_type']=='חרדי','sector'] = 2\n",
    "\n",
    "#src\n",
    "Gschool['src'] = 'education ministry'\n",
    "GKgarden['src'] = 'education ministry'\n",
    "\n",
    "#erase Irelevant columns\n",
    "Gschool = Gschool[['ID','name','sector','address','settlement','x', 'y','kgarden_stu','ele_stu','mid_stu','high_stu',\n",
    "                     'kgarden_class','ele_class','mid_class','high_class','src']]\n",
    "GKgarden = GKgarden[['ID','name','sector','address','settlement','x', 'y','kgarden_stu','ele_stu','mid_stu','high_stu',\n",
    "                     'kgarden_class','ele_class','mid_class','high_class','src']]"
   ]
  },
  {
   "cell_type": "markdown",
   "id": "d717c392",
   "metadata": {},
   "source": [
    "#### למס"
   ]
  },
  {
   "cell_type": "code",
   "execution_count": 299,
   "id": "4332ea9a",
   "metadata": {},
   "outputs": [],
   "source": [
    "CBS_setl.columns = ['set_ID', 'settlement',\n",
    "       'kgarden_stu',\n",
    "       'ילדים_בגנים_של_משרד_החינוך_גיל_3_תשפ\"א_2020/21',\n",
    "       'ילדים_בגנים_של_משרד_החינוך_גיל_4_תשפ\"א_2020/21',\n",
    "       'ילדים_בגנים_של_משרד_החינוך_גיל_5_תשפ\"א_2020/21',\n",
    "       'ילדים_בגנים_של_משרד_החינוך_גיל_6_תשפ\"א_2020/21',\n",
    "       'schools',\n",
    "       'ele_schools',\n",
    "       'בתי_ספר_על-יסודיים_תשפ\"א_2020/21',\n",
    "       'mid_school', 'high_school',\n",
    "       'כיתות_סה\"כ_תשפ\"א_2020/21', 'ele_class',\n",
    "       'כיתות_בבתי_ספר_על-יסודיים_תשפ\"א_2020/21',\n",
    "       'mid_class',\n",
    "       'high_class', 'תלמידים_סה\"כ_תשפ\"א_2020/21',\n",
    "       'ele_stu',\n",
    "       'תלמידים_בבתי_ספר_על-יסודיים_תשפ\"א_2020/21',\n",
    "       'mid_stu',\n",
    "       'high_stu',\n",
    "       'ממוצע_תלמידים_לכיתה_בבתי_ספר_יסודיים_תשפ\"א_2020/21',\n",
    "       'אחוז_תלמידים_נושרים_סה\"כ_תשפ\"א_2020/21',\n",
    "       'אחוז_תלמידים_נושרים_בנים_תשפ\"א_2020/21',\n",
    "       'אחוז_תלמידים_נושרים_בנות_תשפ\"א_2020/21',\n",
    "       'אחוז_זכאים_לתעודת_בגרות_מבין_תלמידי_כיתות_יב_תשפ\"א_2020/21',\n",
    "       'אחוז_זכאים_לתעודת_בגרות_שעמדו_בדרישות_הסף_של_האוניברסיטאות_מבין_תלמידי_כיתות_יב_תשפ\"א_2020/21',\n",
    "       'השכלה_גבוהה_אחוז_בעלי_תארים_מישראל_מתוך_אוכלוסיית_בני_55-35_תשפ\"ב_2021/22',\n",
    "       'השכלה_גבוהה_אחוז_הנכנסים_להשכלה_גבוהה_בתוך_8_שנים_בקרב_תלמידי_יב_תשפ\"ב_2021/22',\n",
    "       'השכלה_גבוהה_אחוז_סטודנטים_מתוך_אוכלוסיית_בני_25-20_תשפ\"ב_2021/22',\n",
    "       'השכלה_גבוהה_אחוז_סטודנטים_מתוך_כלל_האוכלוסייה_תשפ\"ב_2021/22',\n",
    "       'עובדי_הוראה_מספר_עובדי_הוראה', 'עובדי_הוראה_ממוצע_שעות_עבודה_לשבוע',\n",
    "       'עובדי_הוראה_אחוז_עובדי_הוראה_חדשים',\n",
    "       'עובדי_הוראה_אחוז_שעות_היעדרות_מסך_שעות_עבודה_שנתיות',\n",
    "       'עובדי_הוראה_ממוצע_שנות_ותק_מוכרות_בהוראה',\n",
    "       'עובדי_הוראה_אחוז_בעלי_דרגת_שכר_תואר_שני_ומעלה',\n",
    "       'עובדי_הוראה_אחוז_עובדי_הוראה_משתלמים_מכלל_עובדי_הוראה',\n",
    "       'teacher_by_stu',\n",
    "       'עובדי_הוראה_ממוצע_שעות_עבודה_שבועיות_לתלמיד']\n",
    "\n",
    "CBS_setl = CBS_setl[['set_ID', 'settlement',\n",
    "       'kgarden_stu',\n",
    "       'schools',\n",
    "       'ele_class',\n",
    "       'mid_class',\n",
    "       'high_class', \n",
    "       'ele_stu',\n",
    "       'mid_stu',\n",
    "       'high_stu']]\n",
    "\n",
    "CBS_setl.replace('-', 0.001, inplace=True)"
   ]
  },
  {
   "cell_type": "markdown",
   "id": "4219b9d3",
   "metadata": {},
   "source": [
    "## טבלת מוסדות אחודה- ID, src"
   ]
  },
  {
   "cell_type": "code",
   "execution_count": 300,
   "id": "000b9da3",
   "metadata": {
    "scrolled": true
   },
   "outputs": [],
   "source": [
    "rows = pd.concat([BShemesh,Gschool,GKgarden,JLM]) #JLM is 2020, the others are 2023"
   ]
  },
  {
   "cell_type": "code",
   "execution_count": 301,
   "id": "d0e00935",
   "metadata": {},
   "outputs": [],
   "source": [
    "inst = rows.groupby('ID').agg('first').reset_index()"
   ]
  },
  {
   "cell_type": "markdown",
   "id": "74d95a0b",
   "metadata": {},
   "source": [
    "## מיקום\n"
   ]
  },
  {
   "cell_type": "markdown",
   "id": "4bcf0f2f",
   "metadata": {},
   "source": [
    "#### datagov from education ministry"
   ]
  },
  {
   "cell_type": "code",
   "execution_count": 302,
   "id": "8750747e",
   "metadata": {},
   "outputs": [],
   "source": [
    "inst_xy = inst.merge(GXY[['SEMEL_MOSAD','ITM_X', 'ITM_Y']],how='left',left_on = 'ID', right_on='SEMEL_MOSAD')\n",
    "\n",
    "inst_xy.loc[inst_xy['ITM_X'].notna(),'x'] = inst_xy['ITM_X']\n",
    "\n",
    "inst_xy.loc[inst_xy['ITM_Y'].notna(),'y'] = inst_xy['ITM_Y']\n",
    "\n",
    "inst = inst_xy[['ID','name','sector','address','settlement','x', 'y','kgarden_stu','ele_stu','mid_stu','high_stu',\n",
    "                     'kgarden_class','ele_class','mid_class','high_class','src']]"
   ]
  },
  {
   "cell_type": "markdown",
   "id": "8909f2d0",
   "metadata": {},
   "source": [
    "#### OSM geocoding"
   ]
  },
  {
   "cell_type": "code",
   "execution_count": 31,
   "id": "52d97878",
   "metadata": {},
   "outputs": [],
   "source": [
    "def OSMgeocoding(df):\n",
    "    geolocator = Nominatim(user_agent=\"my_geocoder\")\n",
    "    itm = pyproj.Proj(init='epsg:2039')\n",
    "    for i in df['ID']:\n",
    "        location = geolocator.geocode(str(df.loc[df['ID'] == i]['f_address'])[4:-31])\n",
    "        if location:\n",
    "            x, y = pyproj.transform(pyproj.Proj(init='epsg:4326'), itm, location.longitude, location.latitude) #to ITM\n",
    "            df.loc[df['ID']==i,'x_osm'] = x\n",
    "            df.loc[df['ID']==i,'y_osm'] = y\n",
    "    return df.loc[df['x_osm'].notna()]"
   ]
  },
  {
   "cell_type": "code",
   "execution_count": 304,
   "id": "441868c1",
   "metadata": {},
   "outputs": [
    {
     "name": "stdout",
     "output_type": "stream",
     "text": [
      "take a lot of time, enter y for do it!\n",
      "sfe\n"
     ]
    }
   ],
   "source": [
    "no_xy = inst.loc[(inst['x']==0) | (inst['x'].isna())][['ID','address','settlement']]\n",
    "# full address\n",
    "no_xy['f_address'] = no_xy['address'].astype(str).str.cat(no_xy['settlement'], sep=', ').apply(lambda x: f\"{x}, ישראל\")\n",
    "\n",
    "#search on OSM\n",
    "if input('take a lot of time, enter y for do it!\\n')=='y':\n",
    "    inst_xy_osm = OSMgeocoding(no_xy)"
   ]
  },
  {
   "cell_type": "code",
   "execution_count": 305,
   "id": "bd63ba01",
   "metadata": {},
   "outputs": [],
   "source": [
    "#merge to main inst dataframe\n",
    "inst_xy = inst.merge(inst_xy_osm[['ID','x_osm','y_osm']],how='left',on = 'ID')\n",
    "inst_xy.loc[(inst['x']==0)| (inst['x'].isna()),'x'] = inst_xy['x_osm']\n",
    "inst_xy.loc[(inst['y']==0)| (inst['y'].isna()),'y'] = inst_xy['y_osm']\n",
    "inst = inst_xy[['ID','name','sector','address','settlement','x', 'y','kgarden_stu','ele_stu','mid_stu','high_stu',\n",
    "                     'kgarden_class','ele_class','mid_class','high_class','src']]"
   ]
  },
  {
   "cell_type": "markdown",
   "id": "2ce187fc",
   "metadata": {},
   "source": [
    "~בית שמש- עירייה בעזרת סקריפט גאוקודינג- 89\n",
    "~- 298 גוגל בעזרת כלים אוטומטיים\n",
    "יצירת רשימת מוסדות ללא מיקום"
   ]
  },
  {
   "cell_type": "markdown",
   "id": "f750ee6f",
   "metadata": {},
   "source": [
    "### יצירת GDF"
   ]
  },
  {
   "cell_type": "code",
   "execution_count": 306,
   "id": "b949e07f",
   "metadata": {},
   "outputs": [],
   "source": [
    "geometry = [Point(xy) for xy in zip(inst['x'], inst['y'])]"
   ]
  },
  {
   "cell_type": "code",
   "execution_count": 307,
   "id": "7cfdc4f8",
   "metadata": {
    "scrolled": true
   },
   "outputs": [],
   "source": [
    "inst = gpd.GeoDataFrame(inst, geometry=geometry,crs='EPSG:2039')"
   ]
  },
  {
   "cell_type": "markdown",
   "id": "8566e3e4",
   "metadata": {},
   "source": [
    "## בקרה"
   ]
  },
  {
   "cell_type": "markdown",
   "id": "a04f0b21",
   "metadata": {},
   "source": [
    "### פונקציות"
   ]
  },
  {
   "cell_type": "code",
   "execution_count": 257,
   "id": "a62635be",
   "metadata": {},
   "outputs": [],
   "source": [
    "def compare_rows(df1, df2, ID_field, cmp_fields, threshold=0.2):\n",
    "    ratio_fields = [f+'_ratio' for f in cmp_fields]\n",
    "    \n",
    "    # Merge the two DataFrames on a common index or key\n",
    "    merged_df = pd.merge(df1, df2, on=ID_field, how='inner', suffixes=('_1', '_2'))\n",
    "    merged_df['isdifferent'] = False\n",
    "    #calculate ratio to a new column\n",
    "    for c in cmp_fields:\n",
    "        merged_df[c+'_ratio'] = merged_df[c+'_1'] / merged_df[c+'_2']\n",
    "        merged_df.loc[abs(merged_df[c+'_ratio']-1) > threshold,'isdifferent'] = True\n",
    "    \n",
    "    return merged_df.loc[merged_df['isdifferent']]"
   ]
  },
  {
   "cell_type": "markdown",
   "id": "7b1ab270",
   "metadata": {
    "heading_collapsed": true
   },
   "source": [
    "### השוואה ברמת  מוסד"
   ]
  },
  {
   "cell_type": "markdown",
   "id": "eac169cd",
   "metadata": {
    "heading_collapsed": true,
    "hidden": true
   },
   "source": [
    "#### בית שמש - משרד החינוך"
   ]
  },
  {
   "cell_type": "code",
   "execution_count": 279,
   "id": "8966c3dc",
   "metadata": {
    "hidden": true
   },
   "outputs": [
    {
     "data": {
      "text/plain": [
       "246"
      ]
     },
     "execution_count": 279,
     "metadata": {},
     "output_type": "execute_result"
    }
   ],
   "source": [
    "#fields to compare\n",
    "cmp_setl = ['kgarden_stu',\n",
    "       'ele_class','mid_class','high_class', \n",
    "       'ele_stu','mid_stu','high_stu']\n",
    "#how much different\n",
    "threshold = 0.3\n",
    "dif = compare_rows(BShemesh, GKgarden,'ID',cmp_setl, threshold=threshold)\n",
    "len(dif)"
   ]
  },
  {
   "cell_type": "code",
   "execution_count": 280,
   "id": "63322185",
   "metadata": {
    "hidden": true
   },
   "outputs": [
    {
     "data": {
      "text/plain": [
       "503"
      ]
     },
     "execution_count": 280,
     "metadata": {},
     "output_type": "execute_result"
    }
   ],
   "source": [
    "#fields to compare\n",
    "cmp_setl = ['kgarden_stu',\n",
    "       'ele_class','mid_class','high_class', \n",
    "       'ele_stu','mid_stu','high_stu']\n",
    "#how much different\n",
    "threshold = 0.\n",
    "dif = compare_rows(BShemesh, GKgarden,'ID',cmp_setl, threshold=threshold)\n",
    "len(dif)"
   ]
  },
  {
   "cell_type": "code",
   "execution_count": 281,
   "id": "b34d3940",
   "metadata": {
    "hidden": true
   },
   "outputs": [
    {
     "data": {
      "text/plain": [
       "161"
      ]
     },
     "execution_count": 281,
     "metadata": {},
     "output_type": "execute_result"
    }
   ],
   "source": [
    "#fields to compare\n",
    "cmp_setl = ['kgarden_stu',\n",
    "       'ele_class','mid_class','high_class', \n",
    "       'ele_stu','mid_stu','high_stu']\n",
    "#how much different\n",
    "threshold = 0.3\n",
    "dif = compare_rows(BShemesh, Gschool,'ID',cmp_setl, threshold=threshold)\n",
    "len(dif)"
   ]
  },
  {
   "cell_type": "code",
   "execution_count": 282,
   "id": "0bf33adf",
   "metadata": {
    "hidden": true
   },
   "outputs": [
    {
     "data": {
      "text/plain": [
       "503"
      ]
     },
     "execution_count": 282,
     "metadata": {},
     "output_type": "execute_result"
    }
   ],
   "source": [
    "#fields to compare\n",
    "cmp_setl = ['kgarden_stu',\n",
    "       'ele_class','mid_class','high_class', \n",
    "       'ele_stu','mid_stu','high_stu']\n",
    "#how much different\n",
    "threshold = 0\n",
    "dif = compare_rows(BShemesh, GKgarden,'ID',cmp_setl, threshold=threshold)\n",
    "len(dif)"
   ]
  },
  {
   "cell_type": "markdown",
   "id": "b1ff5f7b",
   "metadata": {
    "heading_collapsed": true,
    "hidden": true
   },
   "source": [
    "#### ירושלים- משרד החינוך"
   ]
  },
  {
   "cell_type": "code",
   "execution_count": 273,
   "id": "30f148d0",
   "metadata": {
    "hidden": true
   },
   "outputs": [
    {
     "data": {
      "text/plain": [
       "1023"
      ]
     },
     "execution_count": 273,
     "metadata": {},
     "output_type": "execute_result"
    }
   ],
   "source": [
    "#fields to compare\n",
    "cmp_setl = ['kgarden_stu',\n",
    "       'ele_class','mid_class','high_class', \n",
    "       'ele_stu','mid_stu','high_stu']\n",
    "#how much different\n",
    "threshold = 0.3\n",
    "dif = compare_rows(JLM, GKgarden,'ID',cmp_setl, threshold=threshold)\n",
    "len(dif)"
   ]
  },
  {
   "cell_type": "code",
   "execution_count": 278,
   "id": "1bb73ff4",
   "metadata": {
    "hidden": true
   },
   "outputs": [
    {
     "data": {
      "text/plain": [
       "2154"
      ]
     },
     "execution_count": 278,
     "metadata": {},
     "output_type": "execute_result"
    }
   ],
   "source": [
    "#fields to compare\n",
    "cmp_setl = ['kgarden_stu',\n",
    "       'ele_class','mid_class','high_class', \n",
    "       'ele_stu','mid_stu','high_stu']\n",
    "#how much different\n",
    "threshold = 0\n",
    "dif = compare_rows(JLM, GKgarden,'ID',cmp_setl, threshold=threshold)\n",
    "len(dif)"
   ]
  },
  {
   "cell_type": "code",
   "execution_count": 276,
   "id": "7beb6c99",
   "metadata": {
    "hidden": true
   },
   "outputs": [
    {
     "data": {
      "text/plain": [
       "491"
      ]
     },
     "execution_count": 276,
     "metadata": {},
     "output_type": "execute_result"
    }
   ],
   "source": [
    "#fields to compare\n",
    "cmp_setl = ['kgarden_stu',\n",
    "       'ele_class','mid_class','high_class', \n",
    "       'ele_stu','mid_stu','high_stu']\n",
    "#how much different\n",
    "threshold = 0.3\n",
    "dif = compare_rows(JLM, Gschool,'ID',cmp_setl, threshold=threshold)\n",
    "len(dif)"
   ]
  },
  {
   "cell_type": "code",
   "execution_count": 277,
   "id": "edb1ac93",
   "metadata": {
    "hidden": true
   },
   "outputs": [
    {
     "data": {
      "text/plain": [
       "721"
      ]
     },
     "execution_count": 277,
     "metadata": {},
     "output_type": "execute_result"
    }
   ],
   "source": [
    "#fields to compare\n",
    "cmp_setl = ['kgarden_stu',\n",
    "       'ele_class','mid_class','high_class', \n",
    "       'ele_stu','mid_stu','high_stu']\n",
    "#how much different\n",
    "threshold = 0\n",
    "dif = compare_rows(JLM, Gschool,'ID',cmp_setl, threshold=threshold)\n",
    "len(dif)"
   ]
  },
  {
   "cell_type": "markdown",
   "id": "8f98db5b",
   "metadata": {},
   "source": [
    "### השוואה ברמת  יישוב אל מול נתוני למס"
   ]
  },
  {
   "cell_type": "code",
   "execution_count": 309,
   "id": "e197e292",
   "metadata": {},
   "outputs": [
    {
     "data": {
      "text/html": [
       "<div>\n",
       "<style scoped>\n",
       "    .dataframe tbody tr th:only-of-type {\n",
       "        vertical-align: middle;\n",
       "    }\n",
       "\n",
       "    .dataframe tbody tr th {\n",
       "        vertical-align: top;\n",
       "    }\n",
       "\n",
       "    .dataframe thead th {\n",
       "        text-align: right;\n",
       "    }\n",
       "</style>\n",
       "<table border=\"1\" class=\"dataframe\">\n",
       "  <thead>\n",
       "    <tr style=\"text-align: right;\">\n",
       "      <th></th>\n",
       "      <th>settlement</th>\n",
       "      <th>ID</th>\n",
       "      <th>kgarden_stu_1</th>\n",
       "      <th>ele_stu_1</th>\n",
       "      <th>mid_stu_1</th>\n",
       "      <th>high_stu_1</th>\n",
       "      <th>kgarden_class</th>\n",
       "      <th>ele_class_1</th>\n",
       "      <th>mid_class_1</th>\n",
       "      <th>high_class_1</th>\n",
       "      <th>schools_1</th>\n",
       "      <th>set_ID</th>\n",
       "      <th>kgarden_stu_2</th>\n",
       "      <th>schools_2</th>\n",
       "      <th>ele_class_2</th>\n",
       "      <th>mid_class_2</th>\n",
       "      <th>high_class_2</th>\n",
       "      <th>ele_stu_2</th>\n",
       "      <th>mid_stu_2</th>\n",
       "      <th>high_stu_2</th>\n",
       "      <th>isdifferent</th>\n",
       "      <th>kgarden_stu_ratio</th>\n",
       "      <th>schools_ratio</th>\n",
       "      <th>ele_class_ratio</th>\n",
       "      <th>mid_class_ratio</th>\n",
       "      <th>high_class_ratio</th>\n",
       "      <th>ele_stu_ratio</th>\n",
       "      <th>mid_stu_ratio</th>\n",
       "      <th>high_stu_ratio</th>\n",
       "    </tr>\n",
       "  </thead>\n",
       "  <tbody>\n",
       "    <tr>\n",
       "      <th>0</th>\n",
       "      <td>אבו גוש</td>\n",
       "      <td>16</td>\n",
       "      <td>254.00</td>\n",
       "      <td>586.00</td>\n",
       "      <td>247.00</td>\n",
       "      <td>261.00</td>\n",
       "      <td>11.00</td>\n",
       "      <td>23.00</td>\n",
       "      <td>10.00</td>\n",
       "      <td>11.00</td>\n",
       "      <td>5.00</td>\n",
       "      <td>472</td>\n",
       "      <td>402</td>\n",
       "      <td>5</td>\n",
       "      <td>36</td>\n",
       "      <td>11</td>\n",
       "      <td>21</td>\n",
       "      <td>625</td>\n",
       "      <td>283</td>\n",
       "      <td>343</td>\n",
       "      <td>True</td>\n",
       "      <td>0.63</td>\n",
       "      <td>1.00</td>\n",
       "      <td>0.64</td>\n",
       "      <td>0.91</td>\n",
       "      <td>0.52</td>\n",
       "      <td>0.94</td>\n",
       "      <td>0.87</td>\n",
       "      <td>0.76</td>\n",
       "    </tr>\n",
       "    <tr>\n",
       "      <th>1</th>\n",
       "      <td>אורנית</td>\n",
       "      <td>24</td>\n",
       "      <td>453.00</td>\n",
       "      <td>1313.00</td>\n",
       "      <td>172.00</td>\n",
       "      <td>515.00</td>\n",
       "      <td>20.00</td>\n",
       "      <td>51.00</td>\n",
       "      <td>7.00</td>\n",
       "      <td>20.00</td>\n",
       "      <td>4.00</td>\n",
       "      <td>3760</td>\n",
       "      <td>494</td>\n",
       "      <td>4</td>\n",
       "      <td>52</td>\n",
       "      <td>0.00</td>\n",
       "      <td>21</td>\n",
       "      <td>1389</td>\n",
       "      <td>0.00</td>\n",
       "      <td>654</td>\n",
       "      <td>True</td>\n",
       "      <td>0.92</td>\n",
       "      <td>1.00</td>\n",
       "      <td>0.98</td>\n",
       "      <td>7000.00</td>\n",
       "      <td>0.95</td>\n",
       "      <td>0.95</td>\n",
       "      <td>172000.00</td>\n",
       "      <td>0.79</td>\n",
       "    </tr>\n",
       "    <tr>\n",
       "      <th>3</th>\n",
       "      <td>אלקנה</td>\n",
       "      <td>16</td>\n",
       "      <td>274.00</td>\n",
       "      <td>507.00</td>\n",
       "      <td>684.00</td>\n",
       "      <td>684.00</td>\n",
       "      <td>11.00</td>\n",
       "      <td>20.00</td>\n",
       "      <td>27.00</td>\n",
       "      <td>27.00</td>\n",
       "      <td>5.00</td>\n",
       "      <td>3560</td>\n",
       "      <td>252</td>\n",
       "      <td>4</td>\n",
       "      <td>16</td>\n",
       "      <td>22</td>\n",
       "      <td>19</td>\n",
       "      <td>452</td>\n",
       "      <td>666</td>\n",
       "      <td>467</td>\n",
       "      <td>True</td>\n",
       "      <td>1.09</td>\n",
       "      <td>1.25</td>\n",
       "      <td>1.25</td>\n",
       "      <td>1.23</td>\n",
       "      <td>1.42</td>\n",
       "      <td>1.12</td>\n",
       "      <td>1.03</td>\n",
       "      <td>1.46</td>\n",
       "    </tr>\n",
       "    <tr>\n",
       "      <th>4</th>\n",
       "      <td>אפרת</td>\n",
       "      <td>39</td>\n",
       "      <td>805.00</td>\n",
       "      <td>2360.00</td>\n",
       "      <td>436.00</td>\n",
       "      <td>713.00</td>\n",
       "      <td>29.00</td>\n",
       "      <td>93.00</td>\n",
       "      <td>19.00</td>\n",
       "      <td>30.00</td>\n",
       "      <td>10.00</td>\n",
       "      <td>3650</td>\n",
       "      <td>973</td>\n",
       "      <td>10</td>\n",
       "      <td>103</td>\n",
       "      <td>11</td>\n",
       "      <td>38</td>\n",
       "      <td>2207</td>\n",
       "      <td>231</td>\n",
       "      <td>851</td>\n",
       "      <td>True</td>\n",
       "      <td>0.83</td>\n",
       "      <td>1.00</td>\n",
       "      <td>0.90</td>\n",
       "      <td>1.73</td>\n",
       "      <td>0.79</td>\n",
       "      <td>1.07</td>\n",
       "      <td>1.89</td>\n",
       "      <td>0.84</td>\n",
       "    </tr>\n",
       "    <tr>\n",
       "      <th>6</th>\n",
       "      <td>בית אל</td>\n",
       "      <td>24</td>\n",
       "      <td>454.00</td>\n",
       "      <td>893.00</td>\n",
       "      <td>532.00</td>\n",
       "      <td>799.00</td>\n",
       "      <td>17.00</td>\n",
       "      <td>35.00</td>\n",
       "      <td>22.00</td>\n",
       "      <td>32.00</td>\n",
       "      <td>7.00</td>\n",
       "      <td>3574</td>\n",
       "      <td>427</td>\n",
       "      <td>6</td>\n",
       "      <td>48</td>\n",
       "      <td>18</td>\n",
       "      <td>40</td>\n",
       "      <td>1099</td>\n",
       "      <td>409</td>\n",
       "      <td>1006</td>\n",
       "      <td>True</td>\n",
       "      <td>1.06</td>\n",
       "      <td>1.17</td>\n",
       "      <td>0.73</td>\n",
       "      <td>1.22</td>\n",
       "      <td>0.80</td>\n",
       "      <td>0.81</td>\n",
       "      <td>1.30</td>\n",
       "      <td>0.79</td>\n",
       "    </tr>\n",
       "    <tr>\n",
       "      <th>7</th>\n",
       "      <td>בית שמש</td>\n",
       "      <td>934</td>\n",
       "      <td>14592.00</td>\n",
       "      <td>22255.00</td>\n",
       "      <td>11962.00</td>\n",
       "      <td>7955.00</td>\n",
       "      <td>649.00</td>\n",
       "      <td>894.00</td>\n",
       "      <td>462.00</td>\n",
       "      <td>310.00</td>\n",
       "      <td>285.00</td>\n",
       "      <td>2610</td>\n",
       "      <td>11464</td>\n",
       "      <td>149</td>\n",
       "      <td>965</td>\n",
       "      <td>79</td>\n",
       "      <td>391</td>\n",
       "      <td>22060</td>\n",
       "      <td>1815</td>\n",
       "      <td>8413</td>\n",
       "      <td>True</td>\n",
       "      <td>1.27</td>\n",
       "      <td>1.91</td>\n",
       "      <td>0.93</td>\n",
       "      <td>5.85</td>\n",
       "      <td>0.79</td>\n",
       "      <td>1.01</td>\n",
       "      <td>6.59</td>\n",
       "      <td>0.95</td>\n",
       "    </tr>\n",
       "    <tr>\n",
       "      <th>8</th>\n",
       "      <td>ביתר עילית</td>\n",
       "      <td>412</td>\n",
       "      <td>6712.00</td>\n",
       "      <td>15383.00</td>\n",
       "      <td>585.00</td>\n",
       "      <td>1772.00</td>\n",
       "      <td>306.00</td>\n",
       "      <td>603.00</td>\n",
       "      <td>31.00</td>\n",
       "      <td>77.00</td>\n",
       "      <td>106.00</td>\n",
       "      <td>3780</td>\n",
       "      <td>6957</td>\n",
       "      <td>95</td>\n",
       "      <td>672</td>\n",
       "      <td>0.00</td>\n",
       "      <td>202</td>\n",
       "      <td>16200</td>\n",
       "      <td>0.00</td>\n",
       "      <td>5449</td>\n",
       "      <td>True</td>\n",
       "      <td>0.96</td>\n",
       "      <td>1.12</td>\n",
       "      <td>0.90</td>\n",
       "      <td>31000.00</td>\n",
       "      <td>0.38</td>\n",
       "      <td>0.95</td>\n",
       "      <td>585000.00</td>\n",
       "      <td>0.33</td>\n",
       "    </tr>\n",
       "    <tr>\n",
       "      <th>9</th>\n",
       "      <td>גבעת זאב</td>\n",
       "      <td>91</td>\n",
       "      <td>1369.00</td>\n",
       "      <td>1040.00</td>\n",
       "      <td>64.00</td>\n",
       "      <td>10.00</td>\n",
       "      <td>79.00</td>\n",
       "      <td>42.00</td>\n",
       "      <td>3.00</td>\n",
       "      <td>1.00</td>\n",
       "      <td>12.00</td>\n",
       "      <td>3730</td>\n",
       "      <td>1812</td>\n",
       "      <td>10</td>\n",
       "      <td>92</td>\n",
       "      <td>12</td>\n",
       "      <td>2</td>\n",
       "      <td>2144</td>\n",
       "      <td>151</td>\n",
       "      <td>13</td>\n",
       "      <td>True</td>\n",
       "      <td>0.76</td>\n",
       "      <td>1.20</td>\n",
       "      <td>0.46</td>\n",
       "      <td>0.25</td>\n",
       "      <td>0.50</td>\n",
       "      <td>0.49</td>\n",
       "      <td>0.42</td>\n",
       "      <td>0.77</td>\n",
       "    </tr>\n",
       "    <tr>\n",
       "      <th>11</th>\n",
       "      <td>ירושלים</td>\n",
       "      <td>3795</td>\n",
       "      <td>56039.00</td>\n",
       "      <td>117893.00</td>\n",
       "      <td>26701.00</td>\n",
       "      <td>40884.00</td>\n",
       "      <td>2965.00</td>\n",
       "      <td>4601.00</td>\n",
       "      <td>1095.00</td>\n",
       "      <td>1649.00</td>\n",
       "      <td>830.00</td>\n",
       "      <td>3000</td>\n",
       "      <td>58640</td>\n",
       "      <td>738</td>\n",
       "      <td>5619</td>\n",
       "      <td>804</td>\n",
       "      <td>2645</td>\n",
       "      <td>135860</td>\n",
       "      <td>19247</td>\n",
       "      <td>62932</td>\n",
       "      <td>True</td>\n",
       "      <td>0.96</td>\n",
       "      <td>1.12</td>\n",
       "      <td>0.82</td>\n",
       "      <td>1.36</td>\n",
       "      <td>0.62</td>\n",
       "      <td>0.87</td>\n",
       "      <td>1.39</td>\n",
       "      <td>0.65</td>\n",
       "    </tr>\n",
       "    <tr>\n",
       "      <th>13</th>\n",
       "      <td>מודיעין עילית</td>\n",
       "      <td>539</td>\n",
       "      <td>9007.00</td>\n",
       "      <td>12733.00</td>\n",
       "      <td>1017.00</td>\n",
       "      <td>3032.00</td>\n",
       "      <td>449.00</td>\n",
       "      <td>495.00</td>\n",
       "      <td>53.00</td>\n",
       "      <td>128.00</td>\n",
       "      <td>90.00</td>\n",
       "      <td>3797</td>\n",
       "      <td>10050</td>\n",
       "      <td>85</td>\n",
       "      <td>773</td>\n",
       "      <td>0.00</td>\n",
       "      <td>206</td>\n",
       "      <td>19825</td>\n",
       "      <td>0.00</td>\n",
       "      <td>6871</td>\n",
       "      <td>True</td>\n",
       "      <td>0.90</td>\n",
       "      <td>1.06</td>\n",
       "      <td>0.64</td>\n",
       "      <td>53000.00</td>\n",
       "      <td>0.62</td>\n",
       "      <td>0.64</td>\n",
       "      <td>1017000.00</td>\n",
       "      <td>0.44</td>\n",
       "    </tr>\n",
       "    <tr>\n",
       "      <th>15</th>\n",
       "      <td>מעלה אפרים</td>\n",
       "      <td>8</td>\n",
       "      <td>95.00</td>\n",
       "      <td>0.00</td>\n",
       "      <td>150.00</td>\n",
       "      <td>150.00</td>\n",
       "      <td>6.00</td>\n",
       "      <td>0.00</td>\n",
       "      <td>6.00</td>\n",
       "      <td>6.00</td>\n",
       "      <td>2.00</td>\n",
       "      <td>3608</td>\n",
       "      <td>100</td>\n",
       "      <td>1</td>\n",
       "      <td>0.00</td>\n",
       "      <td>8</td>\n",
       "      <td>5</td>\n",
       "      <td>0.00</td>\n",
       "      <td>154</td>\n",
       "      <td>110</td>\n",
       "      <td>True</td>\n",
       "      <td>0.95</td>\n",
       "      <td>2.00</td>\n",
       "      <td>1.00</td>\n",
       "      <td>0.75</td>\n",
       "      <td>1.20</td>\n",
       "      <td>1.00</td>\n",
       "      <td>0.97</td>\n",
       "      <td>1.36</td>\n",
       "    </tr>\n",
       "    <tr>\n",
       "      <th>16</th>\n",
       "      <td>עמנואל</td>\n",
       "      <td>36</td>\n",
       "      <td>515.00</td>\n",
       "      <td>810.00</td>\n",
       "      <td>0.00</td>\n",
       "      <td>0.00</td>\n",
       "      <td>27.00</td>\n",
       "      <td>33.00</td>\n",
       "      <td>0.00</td>\n",
       "      <td>0.00</td>\n",
       "      <td>9.00</td>\n",
       "      <td>3660</td>\n",
       "      <td>505</td>\n",
       "      <td>8</td>\n",
       "      <td>60</td>\n",
       "      <td>0.00</td>\n",
       "      <td>5</td>\n",
       "      <td>886</td>\n",
       "      <td>0.00</td>\n",
       "      <td>90</td>\n",
       "      <td>True</td>\n",
       "      <td>1.02</td>\n",
       "      <td>1.12</td>\n",
       "      <td>0.55</td>\n",
       "      <td>1.00</td>\n",
       "      <td>0.00</td>\n",
       "      <td>0.91</td>\n",
       "      <td>1.00</td>\n",
       "      <td>0.00</td>\n",
       "    </tr>\n",
       "  </tbody>\n",
       "</table>\n",
       "</div>"
      ],
      "text/plain": [
       "       settlement    ID  kgarden_stu_1  ele_stu_1  mid_stu_1  high_stu_1  \\\n",
       "0         אבו גוש    16         254.00     586.00     247.00      261.00   \n",
       "1          אורנית    24         453.00    1313.00     172.00      515.00   \n",
       "3           אלקנה    16         274.00     507.00     684.00      684.00   \n",
       "4            אפרת    39         805.00    2360.00     436.00      713.00   \n",
       "6          בית אל    24         454.00     893.00     532.00      799.00   \n",
       "7         בית שמש   934       14592.00   22255.00   11962.00     7955.00   \n",
       "8      ביתר עילית   412        6712.00   15383.00     585.00     1772.00   \n",
       "9        גבעת זאב    91        1369.00    1040.00      64.00       10.00   \n",
       "11        ירושלים  3795       56039.00  117893.00   26701.00    40884.00   \n",
       "13  מודיעין עילית   539        9007.00   12733.00    1017.00     3032.00   \n",
       "15     מעלה אפרים     8          95.00       0.00     150.00      150.00   \n",
       "16         עמנואל    36         515.00     810.00       0.00        0.00   \n",
       "\n",
       "    kgarden_class  ele_class_1  mid_class_1  high_class_1  schools_1  set_ID  \\\n",
       "0           11.00        23.00        10.00         11.00       5.00     472   \n",
       "1           20.00        51.00         7.00         20.00       4.00    3760   \n",
       "3           11.00        20.00        27.00         27.00       5.00    3560   \n",
       "4           29.00        93.00        19.00         30.00      10.00    3650   \n",
       "6           17.00        35.00        22.00         32.00       7.00    3574   \n",
       "7          649.00       894.00       462.00        310.00     285.00    2610   \n",
       "8          306.00       603.00        31.00         77.00     106.00    3780   \n",
       "9           79.00        42.00         3.00          1.00      12.00    3730   \n",
       "11        2965.00      4601.00      1095.00       1649.00     830.00    3000   \n",
       "13         449.00       495.00        53.00        128.00      90.00    3797   \n",
       "15           6.00         0.00         6.00          6.00       2.00    3608   \n",
       "16          27.00        33.00         0.00          0.00       9.00    3660   \n",
       "\n",
       "    kgarden_stu_2 schools_2 ele_class_2 mid_class_2 high_class_2 ele_stu_2  \\\n",
       "0             402         5          36          11           21       625   \n",
       "1             494         4          52        0.00           21      1389   \n",
       "3             252         4          16          22           19       452   \n",
       "4             973        10         103          11           38      2207   \n",
       "6             427         6          48          18           40      1099   \n",
       "7           11464       149         965          79          391     22060   \n",
       "8            6957        95         672        0.00          202     16200   \n",
       "9            1812        10          92          12            2      2144   \n",
       "11          58640       738        5619         804         2645    135860   \n",
       "13          10050        85         773        0.00          206     19825   \n",
       "15            100         1        0.00           8            5      0.00   \n",
       "16            505         8          60        0.00            5       886   \n",
       "\n",
       "   mid_stu_2 high_stu_2  isdifferent  kgarden_stu_ratio schools_ratio  \\\n",
       "0        283        343         True               0.63          1.00   \n",
       "1       0.00        654         True               0.92          1.00   \n",
       "3        666        467         True               1.09          1.25   \n",
       "4        231        851         True               0.83          1.00   \n",
       "6        409       1006         True               1.06          1.17   \n",
       "7       1815       8413         True               1.27          1.91   \n",
       "8       0.00       5449         True               0.96          1.12   \n",
       "9        151         13         True               0.76          1.20   \n",
       "11     19247      62932         True               0.96          1.12   \n",
       "13      0.00       6871         True               0.90          1.06   \n",
       "15       154        110         True               0.95          2.00   \n",
       "16      0.00         90         True               1.02          1.12   \n",
       "\n",
       "   ele_class_ratio mid_class_ratio high_class_ratio ele_stu_ratio  \\\n",
       "0             0.64            0.91             0.52          0.94   \n",
       "1             0.98         7000.00             0.95          0.95   \n",
       "3             1.25            1.23             1.42          1.12   \n",
       "4             0.90            1.73             0.79          1.07   \n",
       "6             0.73            1.22             0.80          0.81   \n",
       "7             0.93            5.85             0.79          1.01   \n",
       "8             0.90        31000.00             0.38          0.95   \n",
       "9             0.46            0.25             0.50          0.49   \n",
       "11            0.82            1.36             0.62          0.87   \n",
       "13            0.64        53000.00             0.62          0.64   \n",
       "15            1.00            0.75             1.20          1.00   \n",
       "16            0.55            1.00             0.00          0.91   \n",
       "\n",
       "   mid_stu_ratio high_stu_ratio  \n",
       "0           0.87           0.76  \n",
       "1      172000.00           0.79  \n",
       "3           1.03           1.46  \n",
       "4           1.89           0.84  \n",
       "6           1.30           0.79  \n",
       "7           6.59           0.95  \n",
       "8      585000.00           0.33  \n",
       "9           0.42           0.77  \n",
       "11          1.39           0.65  \n",
       "13    1017000.00           0.44  \n",
       "15          0.97           1.36  \n",
       "16          1.00           0.00  "
      ]
     },
     "execution_count": 309,
     "metadata": {},
     "output_type": "execute_result"
    }
   ],
   "source": [
    "#sum by settiemnt\n",
    "settlement = inst.groupby('settlement').agg({'ID':'count', 'kgarden_stu':'sum', 'ele_stu':'sum', 'mid_stu':'sum',\n",
    "                                'high_stu':'sum', 'kgarden_class':'sum', 'ele_class':'sum',\n",
    "                                'mid_class':'sum', 'high_class':'sum'}).reset_index()\n",
    "settlement['schools'] = settlement['ID'] - settlement['kgarden_class']\n",
    "settlement.replace(0, 0.001, inplace=True)\n",
    "\n",
    "#fields to compare\n",
    "cmp_setl = ['kgarden_stu','schools', #<inst_count> - <kgarden_class> \n",
    "       'ele_class','mid_class','high_class', \n",
    "       'ele_stu','mid_stu','high_stu']\n",
    "#how much different\n",
    "threshold = 0.3\n",
    "\n",
    "different_settlements = compare_rows(settlement, CBS_setl,'settlement',cmp_setl, threshold=threshold)\n",
    "\n",
    "different_settlements"
   ]
  },
  {
   "cell_type": "markdown",
   "id": "e86716f0",
   "metadata": {},
   "source": [
    "בקרה על מספר המוסדות - שלא איבדנו מוסד.\n",
    "בקרה על מספר התלמידים והכיתות הכולל\n",
    "\n",
    "~סימון בתי ספר עם הפרשים גדולים בין המקורות"
   ]
  },
  {
   "cell_type": "markdown",
   "id": "76913a57",
   "metadata": {},
   "source": [
    "## ייצוא"
   ]
  },
  {
   "cell_type": "code",
   "execution_count": 308,
   "id": "d05dc974",
   "metadata": {
    "scrolled": false
   },
   "outputs": [
    {
     "name": "stderr",
     "output_type": "stream",
     "text": [
      "C:\\Users\\uriya.dr\\AppData\\Local\\Temp\\ipykernel_9944\\3611930198.py:1: UserWarning: Column names longer than 10 characters will be truncated when saved to ESRI Shapefile.\n",
      "  inst.to_file(out_shp,encoding='utf-8')\n"
     ]
    }
   ],
   "source": [
    "inst.to_file(out_shp,encoding='utf-8')"
   ]
  },
  {
   "cell_type": "code",
   "execution_count": null,
   "id": "f31ee936",
   "metadata": {},
   "outputs": [],
   "source": []
  }
 ],
 "metadata": {
  "kernelspec": {
   "display_name": "Python 3 (ipykernel)",
   "language": "python",
   "name": "python3"
  },
  "language_info": {
   "codemirror_mode": {
    "name": "ipython",
    "version": 3
   },
   "file_extension": ".py",
   "mimetype": "text/x-python",
   "name": "python",
   "nbconvert_exporter": "python",
   "pygments_lexer": "ipython3",
   "version": "3.9.13"
  }
 },
 "nbformat": 4,
 "nbformat_minor": 5
}
