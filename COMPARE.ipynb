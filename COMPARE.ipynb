{
 "cells": [
  {
   "cell_type": "code",
   "execution_count": 1,
   "metadata": {},
   "outputs": [],
   "source": [
    "import pandas as pd\n"
   ]
  },
  {
   "cell_type": "code",
   "execution_count": null,
   "metadata": {},
   "outputs": [],
   "source": [
    "\n",
    "# הקבצים שאנחנו רוצים להשוות\n",
    "df1 = pd.read_excel(r\"C:\\Users\\dpere\\Downloads\\forecast_2020_230720.xlsx\")\n",
    "df2 = pd.read_excel(r\"C:\\Users\\dpere\\Documents\\JTMT\\forecast_by_version\\V4\\BASE_YEAR\\forecast_2020_240225.xlsx\")\n",
    "\n",
    "# df1.sort_values('Taz_num')\n",
    "# השוואה (יכול להיות שצריך לעשות מיון לעמודת האינדקס)\n",
    "# מחזיר True or False\n",
    "equal = df1.equals(df2)\n",
    "# equal = df1.sort_values('Taz_num').equals(df2.sort_values('Taz_num'))\n",
    "\n",
    "# השוואה (יכול להיות שצריך לעשות מיון לעמודת האינדקס)\n",
    "# מחזיר את הערכים השונים\n",
    "compare= df1.compare(df2)\n",
    "# compare = df1.sort_values('TAZ').compare(df2.sort_values('TAZ'))\n",
    "\n",
    "# compare['Taz_num'] = df1['Taz_num']\n",
    "\n",
    "print(equal)\n",
    "print(compare)\n",
    "# df['TAZ'] = df1['TAZ']\n",
    "# df['sector'] = df1['sector']\n",
    "\n",
    "# compare.to_excel(r\"C:\\Users\\dpere\\Downloads\\taz_with_pop_info_230717_compare.xlsx\")\n",
    "\n"
   ]
  },
  {
   "cell_type": "code",
   "execution_count": 2,
   "metadata": {},
   "outputs": [],
   "source": [
    "df1 = pd.read_excel(r\"C:\\Users\\dpere\\Downloads\\forecast_2020_230720.xlsx\")\n",
    "df2 = pd.read_excel(r\"C:\\Users\\dpere\\Documents\\JTMT\\forecast_by_version\\V4\\BASE_YEAR\\forecast_2020_240225.xlsx\")\n"
   ]
  },
  {
   "cell_type": "code",
   "execution_count": 4,
   "metadata": {},
   "outputs": [
    {
     "data": {
      "text/plain": [
       "['TAZ',\n",
       " 'yosh',\n",
       " 'in_jerusalem_metropolin',\n",
       " 'jerusalem_city',\n",
       " 'sector',\n",
       " 'hh_total',\n",
       " 'pop',\n",
       " 'age0_4',\n",
       " 'age5_9',\n",
       " 'age10_14',\n",
       " 'age15_19',\n",
       " 'age20_24',\n",
       " 'age25_29',\n",
       " 'age30_34',\n",
       " 'age35_39',\n",
       " 'age40_44',\n",
       " 'age45_49',\n",
       " 'age50_54',\n",
       " 'age55_59',\n",
       " 'age60_64',\n",
       " 'age65_69',\n",
       " 'age70_74',\n",
       " 'age75up',\n",
       " 'emp_tot',\n",
       " 'indus',\n",
       " 'com_hotel',\n",
       " 'business',\n",
       " 'public',\n",
       " 'education',\n",
       " 'agri',\n",
       " 'student',\n",
       " 'univ',\n",
       " 'UO_Hi_Ed',\n",
       " 'pop_emp_employed']"
      ]
     },
     "execution_count": 4,
     "metadata": {},
     "output_type": "execute_result"
    }
   ],
   "source": [
    "list(df1)"
   ]
  },
  {
   "cell_type": "code",
   "execution_count": 7,
   "metadata": {},
   "outputs": [
    {
     "data": {
      "text/plain": [
       "904"
      ]
     },
     "execution_count": 7,
     "metadata": {},
     "output_type": "execute_result"
    }
   ],
   "source": [
    "len(df1)"
   ]
  },
  {
   "cell_type": "code",
   "execution_count": 8,
   "metadata": {},
   "outputs": [
    {
     "data": {
      "text/plain": [
       "747"
      ]
     },
     "execution_count": 8,
     "metadata": {},
     "output_type": "execute_result"
    }
   ],
   "source": [
    "len(df2)"
   ]
  },
  {
   "cell_type": "code",
   "execution_count": 6,
   "metadata": {},
   "outputs": [
    {
     "data": {
      "text/plain": [
       "True"
      ]
     },
     "execution_count": 6,
     "metadata": {},
     "output_type": "execute_result"
    }
   ],
   "source": [
    "list(df2)==list(df1)"
   ]
  },
  {
   "cell_type": "code",
   "execution_count": null,
   "metadata": {},
   "outputs": [
    {
     "data": {
      "text/plain": [
       "['TAZ',\n",
       " 'yosh',\n",
       " 'in_jerusalem_metropolin',\n",
       " 'jerusalem_city',\n",
       " 'sector',\n",
       " 'hh_total',\n",
       " 'pop',\n",
       " 'age0_4',\n",
       " 'age5_9',\n",
       " 'age10_14',\n",
       " 'age15_19',\n",
       " 'age20_24',\n",
       " 'age25_29',\n",
       " 'age30_34',\n",
       " 'age35_39',\n",
       " 'age40_44',\n",
       " 'age45_49',\n",
       " 'age50_54',\n",
       " 'age55_59',\n",
       " 'age60_64',\n",
       " 'age65_69',\n",
       " 'age70_74',\n",
       " 'age75up',\n",
       " 'emp_tot',\n",
       " 'indus',\n",
       " 'com_hotel',\n",
       " 'business',\n",
       " 'public',\n",
       " 'education',\n",
       " 'agri',\n",
       " 'student',\n",
       " 'univ',\n",
       " 'UO_Hi_Ed',\n",
       " 'pop_emp_employed']"
      ]
     },
     "metadata": {},
     "output_type": "display_data"
    }
   ],
   "source": [
    "list(df2)"
   ]
  }
 ],
 "metadata": {
  "kernelspec": {
   "display_name": "creat_forecast_ad_hoc_env",
   "language": "python",
   "name": "python3"
  },
  "language_info": {
   "codemirror_mode": {
    "name": "ipython",
    "version": 3
   },
   "file_extension": ".py",
   "mimetype": "text/x-python",
   "name": "python",
   "nbconvert_exporter": "python",
   "pygments_lexer": "ipython3",
   "version": "3.11.5"
  }
 },
 "nbformat": 4,
 "nbformat_minor": 2
}
