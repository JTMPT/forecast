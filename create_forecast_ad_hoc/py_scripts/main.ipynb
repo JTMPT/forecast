{
 "cells": [
  {
   "cell_type": "code",
   "execution_count": 1,
   "id": "9232a7ab",
   "metadata": {},
   "outputs": [],
   "source": [
    "import os\n",
    "import pandas as pd\n",
    "from adding_an_addition_following_the_index import adding_an_addition\n",
    "from functions import change_Muni_Heb_to_Muni_Eng\n",
    "from division_into_traffic_zones_of_plans import division_into_traffic_zones\n",
    "from export_geo_layer_for_client_control import export_geo_layer\n",
    "from export_index_layer_for_client_control import export_index_layer\n",
    "from forecast import clientTaz\n",
    "from geographical_features import add_geographical_Features\n",
    "from index_layer import index_layer_fun\n",
    "from status_exists_for_control import export_status_exists\n",
    "from uploading_index_table_elements import uploading_index_table\n",
    "from uploading_index_table_elements import uploading_index_table\n",
    "from export_forecast_2040 import export_forecast"
   ]
  },
  {
   "cell_type": "code",
   "execution_count": 2,
   "id": "8434f037",
   "metadata": {},
   "outputs": [],
   "source": [
    "pd.set_option('display.max_rows', None)\n",
    "pd.set_option('display.max_columns', None)"
   ]
  },
  {
   "cell_type": "code",
   "execution_count": 3,
   "id": "e73f5129",
   "metadata": {},
   "outputs": [],
   "source": [
    "file_date=pd.Timestamp.today().strftime('%y%m%d')"
   ]
  },
  {
   "cell_type": "code",
   "execution_count": 4,
   "id": "68ee2ae1",
   "metadata": {},
   "outputs": [],
   "source": [
    "cwd = os.getcwd()\n",
    "software_data_folder_location = os.path.dirname(cwd)\n",
    "software_data_folder_location\n",
    "df_inputs_outputs = pd.read_excel(r'{}\\inputs_outputs.xlsx'.format(software_data_folder_location))"
   ]
  },
  {
   "cell_type": "code",
   "execution_count": 5,
   "id": "e056dba9",
   "metadata": {},
   "outputs": [],
   "source": [
    "create_forecast_basic_location=df_inputs_outputs['location'][0]\n",
    "forecast_version_basic_folder_location=df_inputs_outputs['location'][4]\n",
    "client_data_folder_location=df_inputs_outputs['location'][1]\n",
    "forecast_version=df_inputs_outputs['location'][2]\n",
    "v_date=df_inputs_outputs['location'][3]\n",
    "index_file_name='index_format_for_creating_forecast_jtmt_input_{}_{}'.format(forecast_version,v_date)"
   ]
  },
  {
   "cell_type": "code",
   "execution_count": 7,
   "id": "2ca7fe16",
   "metadata": {},
   "outputs": [],
   "source": [
    "from functions import up_load_gdb"
   ]
  },
  {
   "cell_type": "code",
   "execution_count": 8,
   "id": "29ba8de9",
   "metadata": {},
   "outputs": [],
   "source": [
    "# העלת אזורי תנועה לחישוב\n",
    "folder_path=r'{}\\For_approval\\Reference_tabels\\shp'.format(client_data_folder_location)\n",
    "\n",
    "gpd_name='tochnit_check.gdb'\n",
    "\n",
    "forecast = up_load_gdb(r'{}\\{}'.format(folder_path,gpd_name),'TAZ_211028_V3_Published_with_client_changes')"
   ]
  },
  {
   "cell_type": "code",
   "execution_count": 15,
   "id": "8dd3e129",
   "metadata": {},
   "outputs": [],
   "source": [
    "#### הוספת מאפיינים גיאוגרפים לאזורי תנועה\n",
    "forecast=add_geographical_Features(forecast, software_data_folder_location)"
   ]
  },
  {
   "cell_type": "code",
   "execution_count": null,
   "id": "1200df39",
   "metadata": {},
   "outputs": [],
   "source": [
    "#### שינוי עמודה Muni_Heb\n",
    "forecast=change_Muni_Heb_to_Muni_Eng(software_data_folder_location, forecast)"
   ]
  },
  {
   "cell_type": "code",
   "execution_count": null,
   "id": "40ee55db",
   "metadata": {},
   "outputs": [],
   "source": [
    "#### ייצוא שכבת אזורי תנועה לבקרת לקוח\n",
    "forecast=export_geo_layer(forecast, client_data_folder_location, file_date)\n",
    "\n",
    "#### מצב קיים לבקרה\n",
    "forecast_2020=export_status_exists(create_forecast_basic_location, forecast_version_basic_folder_location, forecast, software_data_folder_location,client_data_folder_location, file_date)\n",
    "\n",
    "#### העלאת מרכיבי טבלת אינדקס\n",
    "index=uploading_index_table(forecast, client_data_folder_location, index_file_name)\n",
    "\n",
    "## חלוקה לאזורי תנועה של התכניות\n",
    "divided_index=division_into_traffic_zones(index,forecast)\n",
    "\n",
    "### שכבת אינדקס\n",
    "index_layer=index_layer_fun(divided_index, software_data_folder_location)\n",
    "\n",
    "#### ייצוא שכבת אינדקס לבקרת לקוח\n",
    "index_layer_for_client_control=export_index_layer(index_layer,client_data_folder_location,file_date,forecast_version)\n",
    "\n",
    "### חישוב תחזית\n",
    "#### הוספת תוספת בעקבות האינדקס\n",
    "forecast=adding_an_addition(index_layer,forecast,forecast_2020,software_data_folder_location,client_data_folder_location,forecast_version)\n",
    "\n",
    "#ייצוא תוצאות\n",
    "export_forecast(forecast, client_data_folder_location, file_date, forecast_version,software_data_folder_location)\n",
    "\n",
    "print('Done')"
   ]
  }
 ],
 "metadata": {
  "kernelspec": {
   "display_name": "Python 3 (ipykernel)",
   "language": "python",
   "name": "python3"
  },
  "language_info": {
   "codemirror_mode": {
    "name": "ipython",
    "version": 3
   },
   "file_extension": ".py",
   "mimetype": "text/x-python",
   "name": "python",
   "nbconvert_exporter": "python",
   "pygments_lexer": "ipython3",
   "version": "3.11.5"
  },
  "toc": {
   "base_numbering": 1,
   "nav_menu": {},
   "number_sections": true,
   "sideBar": true,
   "skip_h1_title": false,
   "title_cell": "Table of Contents",
   "title_sidebar": "Contents",
   "toc_cell": false,
   "toc_position": {},
   "toc_section_display": true,
   "toc_window_display": false
  }
 },
 "nbformat": 4,
 "nbformat_minor": 5
}
