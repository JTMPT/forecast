{
 "cells": [
  {
   "cell_type": "code",
   "execution_count": 1,
   "id": "9232a7ab",
   "metadata": {},
   "outputs": [],
   "source": [
    "import os\n",
    "import pandas as pd\n",
    "from adding_an_addition_following_the_index import adding_an_addition\n",
    "from functions import change_Muni_Heb_to_Muni_Eng\n",
    "from division_into_traffic_zones_of_plans import division_into_traffic_zones\n",
    "from export_geo_layer_for_client_control import export_geo_layer\n",
    "from export_index_layer_for_client_control import export_index_layer\n",
    "from forecast import clientTaz\n",
    "from geographical_features import add_geographical_Features\n",
    "from index_layer import index_layer_fun\n",
    "from status_exists_for_control import export_status_exists\n",
    "from uploading_index_table_elements import uploading_index_table\n",
    "from uploading_index_table_elements import uploading_index_table\n",
    "from export_forecast_2040 import export_forecast"
   ]
  },
  {
   "cell_type": "code",
   "execution_count": 2,
   "id": "8434f037",
   "metadata": {},
   "outputs": [],
   "source": [
    "pd.set_option('display.max_rows', None)\n",
    "pd.set_option('display.max_columns', None)"
   ]
  },
  {
   "cell_type": "code",
   "execution_count": 3,
   "id": "e73f5129",
   "metadata": {},
   "outputs": [],
   "source": [
    "file_date=pd.Timestamp.today().strftime('%y%m%d')"
   ]
  },
  {
   "cell_type": "code",
   "execution_count": 4,
   "id": "68ee2ae1",
   "metadata": {},
   "outputs": [],
   "source": [
    "cwd = os.getcwd()\n",
    "software_data_folder_location = os.path.dirname(cwd)\n",
    "software_data_folder_location\n",
    "df_inputs_outputs = pd.read_excel(r'{}\\inputs_outputs.xlsx'.format(software_data_folder_location))"
   ]
  },
  {
   "cell_type": "code",
   "execution_count": 5,
   "id": "e056dba9",
   "metadata": {},
   "outputs": [],
   "source": [
    "create_forecast_basic_location=df_inputs_outputs['location'][0]\n",
    "forecast_version_basic_folder_location=df_inputs_outputs['location'][4]\n",
    "client_data_folder_location=df_inputs_outputs['location'][1]\n",
    "forecast_version=df_inputs_outputs['location'][2]\n",
    "v_date=df_inputs_outputs['location'][3]\n",
    "index_file_name='index_format_for_creating_forecast_jtmt_input_{}_{}'.format(forecast_version,v_date)"
   ]
  },
  {
   "cell_type": "code",
   "execution_count": 6,
   "id": "2ca7fe16",
   "metadata": {},
   "outputs": [],
   "source": [
    "from functions import up_load_gdb, make_point, find_files_with_pattern, up_load_shp"
   ]
  },
  {
   "cell_type": "code",
   "execution_count": 7,
   "id": "29ba8de9",
   "metadata": {},
   "outputs": [],
   "source": [
    "# העלת אזורי תנועה לחישוב\n",
    "folder_path=r'{}\\For_approval\\Reference_tabels\\shp'.format(client_data_folder_location)\n",
    "\n",
    "gpd_name='tochnit_check.gdb'\n",
    "\n",
    "forecast = up_load_gdb(r'{}\\{}'.format(folder_path,gpd_name),'TAZ_211028_V3_Published_with_client_changes')"
   ]
  },
  {
   "cell_type": "code",
   "execution_count": 8,
   "id": "8dd3e129",
   "metadata": {},
   "outputs": [],
   "source": [
    "#### הוספת מאפיינים גיאוגרפים לאזורי תנועה\n",
    "forecast_point = make_point(forecast)\n",
    "\n",
    "    # Load data layers\n",
    "DISTRICT = up_load_gdb(\n",
    "        r'{}\\background_files\\GIS_jtmt_forcast_v_3_2_Published.gdb'.format(software_data_folder_location), 'TAZ_V3_2_220123_DISTRICT')\n",
    "urban = up_load_gdb(\n",
    "        r'{}\\background_files\\GIS_jtmt_forcast_v_3_2_Published.gdb'.format(software_data_folder_location), 'TAZ_V3_2_220123_urban')\n",
    "SCHOOLDISTRICT = up_load_gdb(\n",
    "        r'{}\\background_files\\GIS_jtmt_forcast_v_3_2_Published.gdb'.format(software_data_folder_location), 'TAZ_V3_2_220123_SCHOOLDISTRICT')\n",
    "PUMA = up_load_gdb(\n",
    "        r'{}\\background_files\\GIS_jtmt_forcast_v_3_2_Published.gdb'.format(software_data_folder_location), 'TAZ_V3_2_220123_PUMA')\n",
    "jerusalem_city = up_load_gdb(\n",
    "        r'{}\\background_files\\GIS_jtmt_forcast_v_3_2_Published.gdb'.format(software_data_folder_location), 'TAZ_V3_2_220123_In_jerusal')\n",
    "subdistrict_il = up_load_gdb(\n",
    "        r'{}\\background_files\\subdistrict2008.gdb'.format(software_data_folder_location), 'subdistrict2008_ITM')\n",
    "muni_JTMT = up_load_gdb(\n",
    "        r'{}\\background_files\\MUNI_border.gdb'.format(software_data_folder_location), 'muni_under_JTMT_ITM')\n",
    "    \n",
    "# מחפש קבצים של jeru_metro_jtmt_border\n",
    "jeru_metro_jtmt_border_files = find_files_with_pattern(r'{}\\background_files'.format(software_data_folder_location), 'jeru_metro_jtmt_border')\n",
    "filepath = ''\n",
    "\n",
    "# לוקח את הקובץ של השכבה\n",
    "for string in jeru_metro_jtmt_border_files:\n",
    "    if string.endswith('.shp'):\n",
    "        filepath = string\n",
    "\n",
    "# מעלה את השכבה\n",
    "jeru_metro_jtmt_border = up_load_shp(filepath)\n",
    "\n",
    "# Geographical join between traffic zones and data layers\n",
    "forecast_point_DISTRICT = forecast_point.sjoin(\n",
    "        DISTRICT)[['Taz_num', 'puma2040_csv_DISTRICT']]\n",
    "forecast_point_urban = forecast_point.sjoin(\n",
    "        urban)[['Taz_num', 'BaseProjections2040_csv_urban']]\n",
    "forecast_point_SCHOOLDISTRICT = forecast_point.sjoin(\n",
    "        SCHOOLDISTRICT)[['Taz_num', 'puma2040_csv_SCHOOLDISTRICT']]\n",
    "forecast_point_PUMA = forecast_point.sjoin(\n",
    "        PUMA)[['Taz_num', 'puma2040_csv_PUMA']]\n",
    "forecast_point_jerusalem_city = forecast_point.sjoin(\n",
    "        jerusalem_city)[['Taz_num', 'jerusalem_city']]\n",
    "forecast_point_subdistrict_il = forecast_point.sjoin(\n",
    "        subdistrict_il[['geometry', 'ENG_NAME_nafa']])[['Taz_num', 'ENG_NAME_nafa']]\n",
    "forecast_point_muni_JTMT = forecast_point.query('main_sector!=\"Palestinian\"').sjoin(\n",
    "        muni_JTMT[['Muni_Heb', 'Sug_Muni', 'CR_PNIM', 'geometry']])[['Taz_num', 'Muni_Heb', 'Sug_Muni', 'CR_PNIM']]\n",
    "forecast_point_jeru_metro_jtmt_border = forecast_point.sjoin(\n",
    "        jeru_metro_jtmt_border)[['Taz_num', 'jeru_metro']]\n",
    "\n",
    "# Merge tables into one table\n",
    "forecast = (forecast\n",
    "                .merge(forecast_point_subdistrict_il, on='Taz_num', how='left')\n",
    "                .merge(forecast_point_muni_JTMT, on='Taz_num', how='left')\n",
    "                .merge(forecast_point_jeru_metro_jtmt_border, on='Taz_num', how='left')\n",
    "                .merge(forecast_point_DISTRICT, on='Taz_num', how='left')\n",
    "                .merge(forecast_point_urban, on='Taz_num', how='left')\n",
    "                .merge(forecast_point_SCHOOLDISTRICT, on='Taz_num', how='left')\n",
    "                .merge(forecast_point_PUMA, on='Taz_num', how='left')\n",
    "                .merge(forecast_point_jerusalem_city, on='Taz_num', how='left'))\n",
    "\n",
    "# Rename columns# Rename columns with flipped names\n",
    "forecast.rename(columns={'ENG_NAME_nafa': 'zonetype'}, inplace=True)\n",
    "forecast.rename(columns={'puma2040_csv_DISTRICT': 'DISTRICT'}, inplace=True)\n",
    "forecast.rename(columns={'BaseProjections2040_csv_urban': 'urban'}, inplace=True)\n",
    "forecast.rename(columns={'puma2040_csv_PUMA': 'PUMA'}, inplace=True)\n",
    "forecast.rename(columns={'puma2040_csv_SCHOOLDISTRICT': 'SCHOOLDISTRICT'}, inplace=True)\n",
    "\n",
    "\n",
    "# Data processing for feature columns\n",
    "forecast.loc[forecast['main_sector'] == 'Palestinian', 'zonetype'] = 'Palestinian'\n",
    "forecast['in_jerusalem_metropolin'] = 1\n",
    "forecast.loc[forecast['jeru_metro'] == 0, 'in_jerusalem_metropolin'] = 0\n",
    "forecast['yosh'] = 0\n",
    "forecast.loc[forecast['zonetype'] == 'Judea and Samaria', 'yosh'] = 1\n",
    "\n",
    "# Add constant columns\n",
    "forecast['REGION'] = 1\n",
    "forecast['slop'] = 0\n",
    "\n",
    "forecast = forecast.set_index('Taz_num')\n",
    "forecast['Taz_num'] = forecast.index"
   ]
  },
  {
   "cell_type": "code",
   "execution_count": 9,
   "id": "1200df39",
   "metadata": {},
   "outputs": [],
   "source": [
    "#### שינוי עמודה Muni_Heb\n",
    "forecast=change_Muni_Heb_to_Muni_Eng(software_data_folder_location, forecast)"
   ]
  },
  {
   "cell_type": "code",
   "execution_count": 10,
   "id": "9f16ffaf",
   "metadata": {},
   "outputs": [
    {
     "name": "stderr",
     "output_type": "stream",
     "text": [
      "C:\\Users\\dpere\\AppData\\Local\\Temp\\ipykernel_29880\\938773556.py:6: UserWarning: Column names longer than 10 characters will be truncated when saved to ESRI Shapefile.\n",
      "  forecast[col].to_file(save_shp_path,index=False,encoding='UTF-8')\n"
     ]
    }
   ],
   "source": [
    "#### ייצוא שכבת אזורי תנועה לבקרת לקוח\n",
    "save_shp_path=r'{}\\For_approval\\{}_taz_for_approval.shp'.format(client_data_folder_location,file_date)\n",
    "    \n",
    "col=['Taz_num','Name_hebre','Muni_Eng', 'main_sector', 'classification_name','Student_by_Classrooms','geometry']\n",
    "\n",
    "forecast[col].to_file(save_shp_path,index=False,encoding='UTF-8')"
   ]
  },
  {
   "cell_type": "code",
   "execution_count": null,
   "id": "40ee55db",
   "metadata": {},
   "outputs": [],
   "source": [
    "#### מצב קיים לבקרה\n",
    "forecast_2020=export_status_exists(create_forecast_basic_location, forecast_version_basic_folder_location, forecast, software_data_folder_location,client_data_folder_location, file_date)\n",
    "\n",
    "#### העלאת מרכיבי טבלת אינדקס\n",
    "index=uploading_index_table(forecast, client_data_folder_location, index_file_name)\n",
    "\n",
    "## חלוקה לאזורי תנועה של התכניות\n",
    "divided_index=division_into_traffic_zones(index,forecast)\n",
    "\n",
    "### שכבת אינדקס\n",
    "index_layer=index_layer_fun(divided_index, software_data_folder_location)\n",
    "\n",
    "#### ייצוא שכבת אינדקס לבקרת לקוח\n",
    "index_layer_for_client_control=export_index_layer(index_layer,client_data_folder_location,file_date,forecast_version)\n",
    "\n",
    "### חישוב תחזית\n",
    "#### הוספת תוספת בעקבות האינדקס\n",
    "forecast=adding_an_addition(index_layer,forecast,forecast_2020,software_data_folder_location,client_data_folder_location,forecast_version)\n",
    "\n",
    "#ייצוא תוצאות\n",
    "export_forecast(forecast, client_data_folder_location, file_date, forecast_version,software_data_folder_location)\n",
    "\n",
    "print('Done')"
   ]
  }
 ],
 "metadata": {
  "kernelspec": {
   "display_name": "Python 3 (ipykernel)",
   "language": "python",
   "name": "python3"
  },
  "language_info": {
   "codemirror_mode": {
    "name": "ipython",
    "version": 3
   },
   "file_extension": ".py",
   "mimetype": "text/x-python",
   "name": "python",
   "nbconvert_exporter": "python",
   "pygments_lexer": "ipython3",
   "version": "3.11.5"
  },
  "toc": {
   "base_numbering": 1,
   "nav_menu": {},
   "number_sections": true,
   "sideBar": true,
   "skip_h1_title": false,
   "title_cell": "Table of Contents",
   "title_sidebar": "Contents",
   "toc_cell": false,
   "toc_position": {},
   "toc_section_display": true,
   "toc_window_display": false
  }
 },
 "nbformat": 4,
 "nbformat_minor": 5
}
