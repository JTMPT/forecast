{
 "cells": [
  {
   "cell_type": "markdown",
   "metadata": {},
   "source": [
    "### ספריות\n"
   ]
  },
  {
   "cell_type": "code",
   "execution_count": 1,
   "metadata": {},
   "outputs": [],
   "source": [
    "import os\n",
    "import sys\n",
    "import pandas as pd\n",
    "from shutil import copy\n",
    "from openpyxl import load_workbook\n",
    "# from adding_an_addition_following_the_index import adding_an_addition\n",
    "# from functions import change_Muni_Heb_to_Muni_Eng\n",
    "# from division_into_traffic_zones_of_plans import division_into_traffic_zones\n",
    "# from export_geo_layer_for_client_control import export_geo_layer\n",
    "# from export_index_layer_for_client_control import export_index_layer\n",
    "# from forecast import clientTaz\n",
    "# from geographical_features import add_geographical_Features\n",
    "# from index_layer import index_layer_fun\n",
    "# from status_exists_for_control import export_status_exists\n",
    "# from uploading_index_table_elements import uploading_index_table\n",
    "# from uploading_index_table_elements import uploading_index_table\n",
    "# from export_forecast_2040 import export_forecast\n",
    "pd.set_option('display.max_rows', None)\n",
    "pd.set_option('display.max_columns', None)\n"
   ]
  },
  {
   "cell_type": "code",
   "execution_count": 2,
   "metadata": {},
   "outputs": [],
   "source": [
    "file_date=pd.Timestamp.today().strftime('%y%m%d')"
   ]
  },
  {
   "cell_type": "markdown",
   "metadata": {},
   "source": [
    "### העלת משתנים להרצת הקוד\n"
   ]
  },
  {
   "cell_type": "code",
   "execution_count": 3,
   "metadata": {},
   "outputs": [],
   "source": [
    "cwd = os.getcwd()\n",
    "\n",
    "create_forecast_basic_ad_hoc_location = r'{}\\create_forecast_basic_ad_hoc'.format(cwd)\n",
    "\n",
    "sys.path.append(r'{}\\current'.format(create_forecast_basic_ad_hoc_location))\n",
    "sys.path.append(r'{}\\arab_and_palestinian'.format(create_forecast_basic_ad_hoc_location))\n",
    "\n",
    "df_inputs_outputs = pd.read_excel(r'{}\\inputs_outputs.xlsx'.format(cwd))"
   ]
  },
  {
   "cell_type": "markdown",
   "metadata": {},
   "source": [
    "### פונקציות\n"
   ]
  },
  {
   "cell_type": "code",
   "execution_count": 4,
   "metadata": {},
   "outputs": [],
   "source": [
    "from global_functions import make_point, up_load_gdb, up_load_shp, up_load_df, find_files_with_pattern, make_point, up_load_gdb, up_load_shp"
   ]
  },
  {
   "cell_type": "code",
   "execution_count": 5,
   "metadata": {},
   "outputs": [],
   "source": [
    "# מיקום לקוח\n",
    "client_data_folder_location = df_inputs_outputs['location'][0]\n",
    "\n",
    "# שם תרחיש (forecast_version)\n",
    "forecast_version = df_inputs_outputs['location'][1]\n",
    "\n",
    "# v_date\n",
    "v_date = df_inputs_outputs['location'][2]\n",
    "\n",
    "# מיקום פלט תחזית בסיס לפי גירסא\n",
    "forecast_version_basic_folder_location=df_inputs_outputs['location'][4]\n",
    "\n",
    "# מספר גירסא\n",
    "forecast_version_number = df_inputs_outputs['location'][1]\n",
    "\n",
    "index_file_name='index_format_for_creating_forecast_jtmt_input_{}_{}'.format(forecast_version,v_date)"
   ]
  },
  {
   "cell_type": "code",
   "execution_count": 6,
   "metadata": {},
   "outputs": [
    {
     "data": {
      "text/plain": [
       "'C:\\\\Users\\\\dpere\\\\Documents\\\\JTMT\\\\Projects\\\\תחזיות_דמוגרפיות\\\\קבצי עבודה\\\\142_מתחם_אנגל\\\\בהת'"
      ]
     },
     "execution_count": 6,
     "metadata": {},
     "output_type": "execute_result"
    }
   ],
   "source": [
    "client_data_folder_location"
   ]
  },
  {
   "cell_type": "markdown",
   "metadata": {},
   "source": [
    "### העלת אזורי תנועה לחישוב\n"
   ]
  },
  {
   "cell_type": "code",
   "execution_count": 7,
   "metadata": {},
   "outputs": [],
   "source": [
    "# נתיב תיקייה\n",
    "folder_path=r'{}\\For_approval\\Reference_tabels\\shp'.format(client_data_folder_location)\n",
    "gpd_name='tochnit_check.gdb'\n",
    "\n",
    "forecast = up_load_gdb(r'{}\\{}'.format(folder_path,gpd_name),'TAZ_211028_V3_Published_with_client_changes')"
   ]
  },
  {
   "cell_type": "markdown",
   "metadata": {},
   "source": [
    "### הוספת מאפיינים גיאוגרפים לאזורי תנועה\n"
   ]
  },
  {
   "cell_type": "code",
   "execution_count": 8,
   "metadata": {},
   "outputs": [],
   "source": [
    "forecast_point = make_point(forecast)\n",
    "\n",
    "# Load data layers\n",
    "DISTRICT = up_load_gdb(\n",
    "    r'{}\\background_files\\GIS_jtmt_forcast_v_3_2_Published.gdb'.format(cwd), 'TAZ_V3_2_220123_DISTRICT')\n",
    "urban = up_load_gdb(\n",
    "    r'{}\\background_files\\GIS_jtmt_forcast_v_3_2_Published.gdb'.format(cwd), 'TAZ_V3_2_220123_urban')\n",
    "SCHOOLDISTRICT = up_load_gdb(\n",
    "    r'{}\\background_files\\GIS_jtmt_forcast_v_3_2_Published.gdb'.format(cwd), 'TAZ_V3_2_220123_SCHOOLDISTRICT')\n",
    "PUMA = up_load_gdb(\n",
    "    r'{}\\background_files\\GIS_jtmt_forcast_v_3_2_Published.gdb'.format(cwd), 'TAZ_V3_2_220123_PUMA')\n",
    "jerusalem_city = up_load_gdb(\n",
    "    r'{}\\background_files\\GIS_jtmt_forcast_v_3_2_Published.gdb'.format(cwd), 'TAZ_V3_2_220123_In_jerusal')\n",
    "subdistrict_il = up_load_gdb(\n",
    "    r'{}\\background_files\\subdistrict2008.gdb'.format(cwd), 'subdistrict2008_ITM')\n",
    "muni_JTMT = up_load_gdb(\n",
    "    r'{}\\background_files\\MUNI_border.gdb'.format(cwd), 'muni_under_JTMT_ITM')\n",
    "    \n",
    "# מחפש קבצים של jeru_metro_jtmt_border\n",
    "jeru_metro_jtmt_border_files = find_files_with_pattern(r'{}\\background_files'.format(cwd), 'jeru_metro_jtmt_border')\n",
    "filepath = ''\n",
    "\n",
    "# לוקח את הקובץ של השכבה\n",
    "for string in jeru_metro_jtmt_border_files:\n",
    "    if string.endswith('.shp'):\n",
    "        filepath = string\n",
    "\n",
    "# מעלה את השכבה\n",
    "jeru_metro_jtmt_border = up_load_shp(filepath)\n",
    "\n",
    "# Geographical join between traffic zones and data layers\n",
    "forecast_point_DISTRICT = forecast_point.sjoin(\n",
    "    DISTRICT)[['Taz_num', 'puma2040_csv_DISTRICT']]\n",
    "forecast_point_urban = forecast_point.sjoin(\n",
    "    urban)[['Taz_num', 'BaseProjections2040_csv_urban']]\n",
    "forecast_point_SCHOOLDISTRICT = forecast_point.sjoin(\n",
    "    SCHOOLDISTRICT)[['Taz_num', 'puma2040_csv_SCHOOLDISTRICT']]\n",
    "forecast_point_PUMA = forecast_point.sjoin(\n",
    "    PUMA)[['Taz_num', 'puma2040_csv_PUMA']]\n",
    "forecast_point_jerusalem_city = forecast_point.sjoin(\n",
    "    jerusalem_city)[['Taz_num', 'jerusalem_city']]\n",
    "forecast_point_subdistrict_il = forecast_point.sjoin(\n",
    "    subdistrict_il[['geometry', 'ENG_NAME_nafa']])[['Taz_num', 'ENG_NAME_nafa']]\n",
    "forecast_point_muni_JTMT = forecast_point.query('main_sector!=\"Palestinian\"').sjoin(\n",
    "    muni_JTMT[['Muni_Heb', 'Sug_Muni', 'CR_PNIM', 'geometry']])[['Taz_num', 'Muni_Heb', 'Sug_Muni', 'CR_PNIM']]\n",
    "forecast_point_jeru_metro_jtmt_border = forecast_point.sjoin(\n",
    "    jeru_metro_jtmt_border)[['Taz_num', 'jeru_metro']]\n",
    "\n",
    "# Merge tables into one table\n",
    "forecast = (forecast\n",
    "            .merge(forecast_point_subdistrict_il, on='Taz_num', how='left')\n",
    "            .merge(forecast_point_muni_JTMT, on='Taz_num', how='left')\n",
    "            .merge(forecast_point_jeru_metro_jtmt_border, on='Taz_num', how='left')\n",
    "            .merge(forecast_point_DISTRICT, on='Taz_num', how='left')\n",
    "            .merge(forecast_point_urban, on='Taz_num', how='left')\n",
    "            .merge(forecast_point_SCHOOLDISTRICT, on='Taz_num', how='left')\n",
    "            .merge(forecast_point_PUMA, on='Taz_num', how='left')\n",
    "            .merge(forecast_point_jerusalem_city, on='Taz_num', how='left'))\n",
    "\n",
    "# Rename columns# Rename columns with flipped names\n",
    "forecast.rename(columns={'ENG_NAME_nafa': 'zonetype'}, inplace=True)\n",
    "forecast.rename(columns={'puma2040_csv_DISTRICT': 'DISTRICT'}, inplace=True)\n",
    "forecast.rename(columns={'BaseProjections2040_csv_urban': 'urban'}, inplace=True)\n",
    "forecast.rename(columns={'puma2040_csv_PUMA': 'PUMA'}, inplace=True)\n",
    "forecast.rename(columns={'puma2040_csv_SCHOOLDISTRICT': 'SCHOOLDISTRICT'}, inplace=True)\n",
    "\n",
    "\n",
    "# Data processing for feature columns\n",
    "forecast.loc[forecast['main_sector'] == 'Palestinian', 'zonetype'] = 'Palestinian'\n",
    "forecast['in_jerusalem_metropolin'] = 1\n",
    "forecast.loc[forecast['jeru_metro'] == 0, 'in_jerusalem_metropolin'] = 0\n",
    "forecast['yosh'] = 0\n",
    "forecast.loc[forecast['zonetype'] == 'Judea and Samaria', 'yosh'] = 1\n",
    "\n",
    "# Add constant columns\n",
    "forecast['REGION'] = 1\n",
    "forecast['slop'] = 0\n",
    "\n",
    "forecast = forecast.set_index('Taz_num')\n",
    "forecast['Taz_num'] = forecast.index"
   ]
  },
  {
   "cell_type": "markdown",
   "metadata": {},
   "source": [
    "### שינוי עמודה Muni_Heb\n"
   ]
  },
  {
   "cell_type": "code",
   "execution_count": 9,
   "metadata": {},
   "outputs": [],
   "source": [
    "muni_english = pd.read_excel(r'{}\\background_files\\english_names.xlsx'.format(cwd))\n",
    "muni_heb_mapping = muni_english.set_index('Muni_Heb')\n",
    "\n",
    "forecast = forecast.merge(muni_heb_mapping, how='left', left_on='Muni_Heb', right_index=True)\n",
    "forecast.dropna(subset=['Muni_Heb'], inplace=True)"
   ]
  },
  {
   "cell_type": "markdown",
   "metadata": {},
   "source": [
    "### ייצוא שכבת אזורי תנועה לבקרת לקוח\n"
   ]
  },
  {
   "cell_type": "code",
   "execution_count": 10,
   "metadata": {},
   "outputs": [
    {
     "name": "stderr",
     "output_type": "stream",
     "text": [
      "C:\\Users\\dpere\\AppData\\Local\\Temp\\ipykernel_14780\\248974576.py:5: UserWarning: Column names longer than 10 characters will be truncated when saved to ESRI Shapefile.\n",
      "  forecast[col].to_file(save_shp_path,index=False,encoding='UTF-8')\n"
     ]
    }
   ],
   "source": [
    "save_shp_path=r'{}\\For_approval\\{}_taz_for_approval.shp'.format(client_data_folder_location,file_date)\n",
    "    \n",
    "col=['Taz_num','Name_hebre', 'main_sector', 'classification_name','Student_by_Classrooms','geometry']\n",
    "\n",
    "forecast[col].to_file(save_shp_path,index=False,encoding='UTF-8')"
   ]
  },
  {
   "cell_type": "markdown",
   "metadata": {},
   "source": [
    "### מצב קיים לבקרה\n"
   ]
  },
  {
   "cell_type": "code",
   "execution_count": 11,
   "metadata": {},
   "outputs": [],
   "source": [
    "# sys.path.insert(0, r'{}'.format(create_forecast_basic_location))\n",
    "from run_forecast_basic_ad_hoc import run_notebook\n",
    "\n",
    "notebook_path=r'{}\\current\\run_forecast_basic_ad_hoc.ipynb'.format(create_forecast_basic_ad_hoc_location)\n",
    "folder_path=r'{}\\For_approval\\Reference_tabels'.format(client_data_folder_location)\n",
    "pattern='TAZ_V'\n",
    "matching_files=find_files_with_pattern(r'{}\\shp'.format(folder_path), pattern)\n",
    "\n",
    "forecast_2020=None\n",
    "\n",
    "# אם יש שכבות חדשות\n",
    "if len(matching_files) > 0:\n",
    "        suffix = '.shp'\n",
    "        filtered_files_strings = []\n",
    "        for string in matching_files:\n",
    "            if string.endswith(suffix):                    \n",
    "                 filtered_files_strings.append(string)\n",
    "\n",
    "        new_layer_path=filtered_files_strings[0]\n",
    "\n",
    "        # #load excel file\n",
    "        # workbook = load_workbook(filename=r\"{}\\inputs_outputs.xlsx\".format(create_forecast_basic_location))\n",
    "\n",
    "        # #open workbook\n",
    "        # sheet = workbook.active\n",
    "\n",
    "        # #modify the desired cell\n",
    "        # sheet[\"B4\"] = folder_path\n",
    "        # sheet[\"B5\"] = True\n",
    "        # sheet[\"B6\"] = filepath\n",
    "\n",
    "        # #save the file\n",
    "        # workbook.save(filename=r\"{}\\inputs_outputs.xlsx\".format(create_forecast_basic_location))\n",
    "        # מחליף את הנתיב הנוכחי לתיקייה current\n",
    "        os.chdir(r'{}\\current'.format(create_forecast_basic_ad_hoc_location))\n",
    "\n",
    "        # להריץ את קוד בסיס עם השכבות\n",
    "        params = {\"folder_path\": folder_path, \"new_layer_path\": new_layer_path}\n",
    "\n",
    "        # הרצת המחברת עם פרמטרים\n",
    "        updated_notebook = run_notebook(notebook_path, params)\n",
    "\n",
    "#         execution_result = run_notebook(r'{}\\run_basic_from_ad_hoc.ipynb'.format(create_forecast_basic_location))\n",
    "#         print(\"ad-hoc-Notebook execution result:\", execution_result)\n",
    "\n",
    "#         if execution_result == True:\n",
    "#             src_path = r'{}\\forecast_2020_{}.xlsx'.format(folder_path, file_date)\n",
    "#             destination_path = r'{}\\forecast_2020_{}_with_taz_changes.xlsx'.format(folder_path, file_date)\n",
    "\n",
    "#             copy(src_path, destination_path)\n",
    "#             os.remove(src_path)\n",
    "\n",
    "#             src_full_path = r'{}\\2020_jtmt_forcast_full_{}.xlsx'.format(folder_path, file_date)\n",
    "#             destination_full_path = r'{}\\2020_jtmt_forcast_full_{}_with_taz_changes.xlsx'.format(folder_path, file_date)\n",
    "\n",
    "#             copy(src_full_path, destination_full_path)\n",
    "#             os.remove(src_full_path)\n",
    "\n",
    "#             forecast_2020=up_load_df(r'{}'.format(folder_path), r'2020_jtmt_forcast_full_{}_with_taz_changes'.format(file_date))\n",
    "#             #  forecast_2020=up_load_df(r'{}\\background_files'.format(software_data_folder_location),'2020_jtmt_forcast_full_230720')\n",
    "\n",
    "#             col=[]\n",
    "\n",
    "#             col_20=['Taz_num','Taz_name',\n",
    "#                 'main_secto',\n",
    "#                 'aprt_20', 'pop_without_dorms_yeshiva',\n",
    "#                 'student_toddlers',\n",
    "#                 'student_gov',\n",
    "#                 'cbs_muni_student_left_by_pre_of_demand_left',\n",
    "#                 'uni_students', 'student_dorms',\n",
    "#                 'emp_from_uni_student',\n",
    "#                 'student_yeshiva',\n",
    "#                 'emp_okev',\n",
    "#                 'emp_not_okev','student']\n",
    "                 \n",
    "#             forecast_2020=pd.merge(forecast[col].reset_index(),forecast_2020[col_20],how='left',on='Taz_num').fillna(0)\n",
    "\n",
    "#             save_excel_path=r'{}\\For_approval\\{}_forecast_2020_For_approval.xlsx'.format(client_data_folder_location,file_date)\n",
    "\n",
    "#             forecast_2020[col_20].to_excel(save_excel_path,index=False)\n",
    "#             # return forecast_2020[col_20]\n",
    "\n",
    "\n",
    "#     # אם אין שכבות חדשות\n",
    "# else:\n",
    "#     #load excel file\n",
    "#     workbook = load_workbook(filename=r\"{}\\inputs_outputs.xlsx\".format(create_forecast_basic_location))\n",
    "\n",
    "#     #open workbook\n",
    "#     sheet = workbook.active\n",
    "\n",
    "#     #modify the desired cell\n",
    "#     sheet[\"B4\"] = forecast_version_basic_folder_location\n",
    "#     sheet[\"B5\"] = False\n",
    "#     sheet[\"B6\"] = r'{}\\background_files\\TAZ_V4_230518_Published.shp'.format(create_forecast_basic_location)\n",
    "\n",
    "#     #save the file\n",
    "#     workbook.save(filename=r\"{}\\inputs_outputs.xlsx\".format(create_forecast_basic_location))\n",
    "\n",
    "#     forecast_2020=up_load_df(r'{}\\background_files'.format(software_data_folder_location),'2020_jtmt_forcast_full_230720')\n",
    "\n",
    "#     col=[]\n",
    "\n",
    "#     col_20=['Taz_num','Taz_name',\n",
    "#         'main_secto',\n",
    "#         'aprt_20', 'pop_without_dorms_yeshiva',\n",
    "#         'student_toddlers',\n",
    "#         'student_gov',\n",
    "#         'cbs_muni_student_left_by_pre_of_demand_left',\n",
    "#         'uni_students', 'student_dorms',\n",
    "#         'emp_from_uni_student',\n",
    "#         'student_yeshiva',\n",
    "#         'emp_okev',\n",
    "#         'emp_not_okev','student']\n",
    "\n",
    "#     forecast_2020=pd.merge(forecast[col].reset_index(),forecast_2020[col_20],how='left',on='Taz_num').fillna(0)\n",
    "\n",
    "#     save_excel_path=r'{}\\For_approval\\{}_forecast_2020_For_approval.xlsx'.format(client_data_folder_location,file_date)\n",
    "\n",
    "#     forecast_2020[col_20].to_excel(save_excel_path,index=False)"
   ]
  },
  {
   "cell_type": "code",
   "execution_count": 12,
   "metadata": {},
   "outputs": [],
   "source": [
    "# forecast.head()"
   ]
  }
 ],
 "metadata": {
  "kernelspec": {
   "display_name": "creat_forecast_ad_hoc_env",
   "language": "python",
   "name": "python3"
  },
  "language_info": {
   "codemirror_mode": {
    "name": "ipython",
    "version": 3
   },
   "file_extension": ".py",
   "mimetype": "text/x-python",
   "name": "python",
   "nbconvert_exporter": "python",
   "pygments_lexer": "ipython3",
   "version": "3.11.5"
  }
 },
 "nbformat": 4,
 "nbformat_minor": 2
}
