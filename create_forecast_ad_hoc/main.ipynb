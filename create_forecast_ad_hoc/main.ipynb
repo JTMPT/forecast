{
 "cells": [
  {
   "cell_type": "markdown",
   "metadata": {},
   "source": [
    "### ספריות\n"
   ]
  },
  {
   "cell_type": "code",
   "execution_count": null,
   "metadata": {},
   "outputs": [],
   "source": [
    "import os\n",
    "import pandas as pd\n",
    "# from adding_an_addition_following_the_index import adding_an_addition\n",
    "# from functions import change_Muni_Heb_to_Muni_Eng\n",
    "# from division_into_traffic_zones_of_plans import division_into_traffic_zones\n",
    "# from export_geo_layer_for_client_control import export_geo_layer\n",
    "# from export_index_layer_for_client_control import export_index_layer\n",
    "# from forecast import clientTaz\n",
    "# from geographical_features import add_geographical_Features\n",
    "# from index_layer import index_layer_fun\n",
    "# from status_exists_for_control import export_status_exists\n",
    "# from uploading_index_table_elements import uploading_index_table\n",
    "# from uploading_index_table_elements import uploading_index_table\n",
    "# from export_forecast_2040 import export_forecast\n",
    "pd.set_option('display.max_rows', None)\n",
    "pd.set_option('display.max_columns', None)\n"
   ]
  },
  {
   "cell_type": "code",
   "execution_count": 3,
   "metadata": {},
   "outputs": [],
   "source": [
    "file_date=pd.Timestamp.today().strftime('%y%m%d')"
   ]
  },
  {
   "cell_type": "markdown",
   "metadata": {},
   "source": [
    "### העלת משתנים להרצת הקוד\n"
   ]
  },
  {
   "cell_type": "code",
   "execution_count": null,
   "metadata": {},
   "outputs": [
    {
     "data": {
      "text/html": [
       "<div>\n",
       "<style scoped>\n",
       "    .dataframe tbody tr th:only-of-type {\n",
       "        vertical-align: middle;\n",
       "    }\n",
       "\n",
       "    .dataframe tbody tr th {\n",
       "        vertical-align: top;\n",
       "    }\n",
       "\n",
       "    .dataframe thead th {\n",
       "        text-align: right;\n",
       "    }\n",
       "</style>\n",
       "<table border=\"1\" class=\"dataframe\">\n",
       "  <thead>\n",
       "    <tr style=\"text-align: right;\">\n",
       "      <th></th>\n",
       "      <th>discription</th>\n",
       "      <th>location</th>\n",
       "    </tr>\n",
       "  </thead>\n",
       "  <tbody>\n",
       "    <tr>\n",
       "      <th>0</th>\n",
       "      <td>מיקום לקוח</td>\n",
       "      <td>C:\\Users\\dpere\\Documents\\JTMT\\Projects\\תחזיות_...</td>\n",
       "    </tr>\n",
       "    <tr>\n",
       "      <th>1</th>\n",
       "      <td>שם תרחיש (forecast_version)</td>\n",
       "      <td>realy</td>\n",
       "    </tr>\n",
       "    <tr>\n",
       "      <th>2</th>\n",
       "      <td>v_date</td>\n",
       "      <td>240818_with_poten</td>\n",
       "    </tr>\n",
       "    <tr>\n",
       "      <th>3</th>\n",
       "      <td>מיקום פלט תחזית בסיס לפי גירסא</td>\n",
       "      <td>C:\\Users\\dpere\\Documents\\JTMT\\forecast_by_vers...</td>\n",
       "    </tr>\n",
       "    <tr>\n",
       "      <th>4</th>\n",
       "      <td>מספר גירסא</td>\n",
       "      <td>1</td>\n",
       "    </tr>\n",
       "  </tbody>\n",
       "</table>\n",
       "</div>"
      ],
      "text/plain": [
       "                      discription  \\\n",
       "0                      מיקום לקוח   \n",
       "1     שם תרחיש (forecast_version)   \n",
       "2                          v_date   \n",
       "3  מיקום פלט תחזית בסיס לפי גירסא   \n",
       "4                      מספר גירסא   \n",
       "\n",
       "                                            location  \n",
       "0  C:\\Users\\dpere\\Documents\\JTMT\\Projects\\תחזיות_...  \n",
       "1                                              realy  \n",
       "2                                  240818_with_poten  \n",
       "3  C:\\Users\\dpere\\Documents\\JTMT\\forecast_by_vers...  \n",
       "4                                                  1  "
      ]
     },
     "execution_count": 8,
     "metadata": {},
     "output_type": "execute_result"
    }
   ],
   "source": [
    "cwd = os.getcwd()\n",
    "\n",
    "create_forecast_basic_ad_hoc_location = r'{}\\create_forecast_basic_ad_hoc'.format(cwd)\n",
    "\n",
    "df_inputs_outputs = pd.read_excel(r'inputs_outputs.xlsx')"
   ]
  },
  {
   "cell_type": "code",
   "execution_count": null,
   "metadata": {},
   "outputs": [],
   "source": [
    "# מיקום לקוח\n",
    "client_data_folder_location = df_inputs_outputs['location'][0]\n",
    "\n",
    "# שם תרחיש (forecast_version)\n",
    "forecast_version = df_inputs_outputs['location'][1]\n",
    "\n",
    "# v_date\n",
    "v_date = df_inputs_outputs['location'][2]\n",
    "\n",
    "# מיקום פלט תחזית בסיס לפי גירסא\n",
    "forecast_version_basic_folder_location=df_inputs_outputs['location'][4]\n",
    "\n",
    "# מספר גירסא\n",
    "forecast_version_number = df_inputs_outputs['location'][1]\n",
    "\n",
    "index_file_name='index_format_for_creating_forecast_jtmt_input_{}_{}'.format(forecast_version,v_date)"
   ]
  }
 ],
 "metadata": {
  "kernelspec": {
   "display_name": "creat_forecast_ad_hoc_env",
   "language": "python",
   "name": "python3"
  },
  "language_info": {
   "codemirror_mode": {
    "name": "ipython",
    "version": 3
   },
   "file_extension": ".py",
   "mimetype": "text/x-python",
   "name": "python",
   "nbconvert_exporter": "python",
   "pygments_lexer": "ipython3",
   "version": "3.11.5"
  }
 },
 "nbformat": 4,
 "nbformat_minor": 2
}
