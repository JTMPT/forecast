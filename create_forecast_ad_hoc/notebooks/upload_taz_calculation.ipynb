{
 "cells": [
  {
   "cell_type": "code",
   "execution_count": 1,
   "metadata": {},
   "outputs": [],
   "source": [
    "from functions import up_load_gdb"
   ]
  },
  {
   "cell_type": "code",
   "execution_count": 2,
   "metadata": {},
   "outputs": [],
   "source": [
    "def clientTaz(client_data_folder_location):\n",
    "    folder_path=r'{}\\For_approval\\Reference_tabels\\shp'.format(client_data_folder_location)\n",
    "    gpd_name='tochnit_check.gdb'\n",
    "\n",
    "    forecast = up_load_gdb(r'{}\\{}'.format(folder_path,gpd_name),'TAZ_211028_V3_Published_with_client_changes')\n",
    "    return forecast"
   ]
  }
 ],
 "metadata": {
  "kernelspec": {
   "display_name": "creat_forecast_ad_hoc_env",
   "language": "python",
   "name": "python3"
  },
  "language_info": {
   "codemirror_mode": {
    "name": "ipython",
    "version": 3
   },
   "file_extension": ".py",
   "mimetype": "text/x-python",
   "name": "python",
   "nbconvert_exporter": "python",
   "pygments_lexer": "ipython3",
   "version": "3.11.5"
  }
 },
 "nbformat": 4,
 "nbformat_minor": 2
}
