{
 "cells": [
  {
   "cell_type": "code",
   "execution_count": null,
   "metadata": {},
   "outputs": [],
   "source": [
    "# with open(\"new_layer_path.txt\", \"w\", encoding=\"utf-8\") as file:\n",
    "#     file.write(f\"שלום!\\n\")\n",
    "#     file.write(f\"{new_layer_path}\\n\")\n",
    "\n",
    "\n",
    "# print(new_layer_path)"
   ]
  },
  {
   "cell_type": "code",
   "execution_count": null,
   "metadata": {},
   "outputs": [],
   "source": [
    "import os\n",
    "import sys"
   ]
  },
  {
   "cell_type": "code",
   "execution_count": null,
   "metadata": {},
   "outputs": [],
   "source": [
    "def delete_folder_contents(folder_path):\n",
    "    # רץ על כל הקבצים והתיקיות בתיקייה.\n",
    "    for filename in os.listdir(folder_path):\n",
    "        file_path = os.path.join(folder_path, filename)\n",
    "        # בודק אם הפריט הוא קובץ או תיקייה.\n",
    "        if os.path.isfile(file_path):\n",
    "            # אם הפריט הוא קובץ, מוחק אותו באמצעות os.remove\n",
    "            os.remove(file_path)\n",
    "        elif os.path.isdir(file_path):\n",
    "            # אם הפריט הוא תיקייה, מוחק את התוכן שלה\n",
    "            delete_folder_contents(file_path)\n",
    "            # מוחק את התיקייה עצמה באמצעות os.rmdir\n",
    "            os.rmdir(file_path)"
   ]
  },
  {
   "cell_type": "code",
   "execution_count": null,
   "metadata": {},
   "outputs": [],
   "source": [
    "# מגדיר את הנתיב לתיקייה בשם \"Intermediates\".\n",
    "folder_path = './Intermediates'\n",
    "\n",
    "# קורא לפונקציה delete_folder_contents כדי למחוק את התוכן של התיקייה\n",
    "delete_folder_contents(folder_path)"
   ]
  },
  {
   "cell_type": "code",
   "execution_count": null,
   "metadata": {},
   "outputs": [],
   "source": [
    "# cwd: מאחסן את הנתיב הנוכחי.\n",
    "cwd = os.getcwd()\n",
    "\n",
    "# create_forecast_basic_ad_hoc מגדיר נתיב לתיקית\n",
    "create_forecast_basic_ad_hoc_folder_path = os.path.dirname(cwd)\n",
    "\n",
    "# arab_and_palestinian מגדיר נתיב לתיקית\n",
    "arab_and_palestinian_directory = r'{}\\arab_and_palestinian'.format(create_forecast_basic_ad_hoc_folder_path)\n",
    "\n",
    "# מוסיף את הנתיב של התיקייה \"arab_and_palestinian\", כך שניתן לייבא מודולים מהתיקייה הזו.\n",
    "sys.path.append(arab_and_palestinian_directory)\n",
    "\n",
    "# מייבא את המודול run_arab_and_palestinian הנמצא בתיקייה \"arab_and_palestinian\".\n",
    "import run_arab_and_palestinian"
   ]
  },
  {
   "cell_type": "code",
   "execution_count": null,
   "metadata": {},
   "outputs": [],
   "source": [
    "%run \"./fix_cbs_data_230717.ipynb\"\n",
    "%run \"./from_sa_cbs_to_ta_jtmt.ipynb\"\n",
    "# %run \"./create_gov_student_num_by_muni.ipynb\"\n",
    "# %run \"./prepare_students.ipynb\""
   ]
  }
 ],
 "metadata": {
  "kernelspec": {
   "display_name": "creat_forecast_ad_hoc_env",
   "language": "python",
   "name": "python3"
  },
  "language_info": {
   "name": "python",
   "version": "3.11.5"
  }
 },
 "nbformat": 4,
 "nbformat_minor": 2
}
