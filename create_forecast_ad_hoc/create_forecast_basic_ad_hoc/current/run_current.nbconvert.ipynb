{
 "cells": [
  {
   "cell_type": "markdown",
   "metadata": {},
   "source": [
    "### ייבוא ספריות\n"
   ]
  },
  {
   "cell_type": "code",
   "execution_count": 1,
   "metadata": {
    "execution": {
     "iopub.execute_input": "2024-12-15T23:44:18.318519Z",
     "iopub.status.busy": "2024-12-15T23:44:18.318519Z",
     "iopub.status.idle": "2024-12-15T23:44:18.331630Z",
     "shell.execute_reply": "2024-12-15T23:44:18.331123Z"
    }
   },
   "outputs": [],
   "source": [
    "import os\n",
    "import sys"
   ]
  },
  {
   "cell_type": "code",
   "execution_count": 2,
   "metadata": {
    "execution": {
     "iopub.execute_input": "2024-12-15T23:44:18.334487Z",
     "iopub.status.busy": "2024-12-15T23:44:18.333931Z",
     "iopub.status.idle": "2024-12-15T23:44:18.337433Z",
     "shell.execute_reply": "2024-12-15T23:44:18.337433Z"
    }
   },
   "outputs": [],
   "source": [
    "def delete_folder_contents(folder_path):\n",
    "    # רץ על כל הקבצים והתיקיות בתיקייה.\n",
    "    for filename in os.listdir(folder_path):\n",
    "        file_path = os.path.join(folder_path, filename)\n",
    "        # בודק אם הפריט הוא קובץ או תיקייה.\n",
    "        if os.path.isfile(file_path):\n",
    "            # אם הפריט הוא קובץ, מוחק אותו באמצעות os.remove\n",
    "            os.remove(file_path)\n",
    "        elif os.path.isdir(file_path):\n",
    "            # אם הפריט הוא תיקייה, מוחק את התוכן שלה\n",
    "            delete_folder_contents(file_path)\n",
    "            # מוחק את התיקייה עצמה באמצעות os.rmdir\n",
    "            os.rmdir(file_path)"
   ]
  },
  {
   "cell_type": "markdown",
   "metadata": {},
   "source": [
    "### הגדרת נתיב תיקייה ומחיקת תוכן\n"
   ]
  },
  {
   "cell_type": "code",
   "execution_count": 3,
   "metadata": {
    "execution": {
     "iopub.execute_input": "2024-12-15T23:44:18.339946Z",
     "iopub.status.busy": "2024-12-15T23:44:18.339946Z",
     "iopub.status.idle": "2024-12-15T23:44:18.344109Z",
     "shell.execute_reply": "2024-12-15T23:44:18.344109Z"
    }
   },
   "outputs": [],
   "source": [
    "# מגדיר את הנתיב לתיקייה בשם \"Intermediates\".\n",
    "folder_path = './Intermediates'\n",
    "\n",
    "# קורא לפונקציה delete_folder_contents כדי למחוק את התוכן של התיקייה\n",
    "delete_folder_contents(folder_path)"
   ]
  },
  {
   "cell_type": "markdown",
   "metadata": {},
   "source": [
    "### הגדרת נתיבים וייבוא מודולים\n"
   ]
  },
  {
   "cell_type": "code",
   "execution_count": 4,
   "metadata": {
    "execution": {
     "iopub.execute_input": "2024-12-15T23:44:18.344109Z",
     "iopub.status.busy": "2024-12-15T23:44:18.344109Z",
     "iopub.status.idle": "2024-12-15T23:44:18.817934Z",
     "shell.execute_reply": "2024-12-15T23:44:18.817934Z"
    }
   },
   "outputs": [],
   "source": [
    "# cwd: מאחסן את הנתיב הנוכחי.\n",
    "cwd = os.getcwd()\n",
    "\n",
    "# create_forecast_basic מגדיר נתיב לתיקית\n",
    "create_forecast_basic_folder_path = os.path.dirname(cwd)\n",
    "\n",
    "# arab_and_palestinian מגדיר נתיב לתיקית\n",
    "arab_and_palestinian_directory = r'{}\\arab_and_palestinian'.format(create_forecast_basic_folder_path)\n",
    "\n",
    "# מוסיף את הנתיב של התיקייה \"arab_and_palestinian\", כך שניתן לייבא מודולים מהתיקייה הזו.\n",
    "sys.path.append(arab_and_palestinian_directory)\n",
    "\n",
    "# מייבא את המודול run_arab_and_palestinian הנמצא בתיקייה \"arab_and_palestinian\".\n",
    "import run_arab_and_palestinian"
   ]
  },
  {
   "cell_type": "markdown",
   "metadata": {},
   "source": [
    "### הרצת מחברות\n"
   ]
  },
  {
   "cell_type": "code",
   "execution_count": 5,
   "metadata": {
    "execution": {
     "iopub.execute_input": "2024-12-15T23:44:18.820556Z",
     "iopub.status.busy": "2024-12-15T23:44:18.820556Z",
     "iopub.status.idle": "2024-12-15T23:48:51.074195Z",
     "shell.execute_reply": "2024-12-15T23:48:51.072763Z"
    }
   },
   "outputs": [
    {
     "name": "stderr",
     "output_type": "stream",
     "text": [
      "C:\\Users\\dpere\\AppData\\Local\\Temp\\ipykernel_22596\\3666940613.py:1: FutureWarning: Setting an item of incompatible dtype is deprecated and will raise in a future error of pandas. Value '235652.6' has dtype incompatible with int64, please explicitly cast to a compatible dtype first.\n",
      "  group_pop_jtmt.loc['east_jeru_left','pop']=group_pop_delta.item()\n",
      "C:\\Users\\dpere\\AppData\\Local\\Temp\\ipykernel_22596\\1360134725.py:2: FutureWarning: The provided callable <built-in function sum> is currently using DataFrameGroupBy.sum. In a future version of pandas, the provided callable will be used directly. To keep current behavior pass the string \"sum\" instead.\n",
      "  hh_size_by_classification=drop_geo(stat).loc[(stat['aprt_20']>0)&(stat['STAT'].isin(cbs_not_lie_lst))].pivot_table(index='classification_name',aggfunc=sum)[['aprt_20','pop','count']]\n",
      "C:\\Users\\dpere\\AppData\\Local\\Temp\\ipykernel_22596\\423562680.py:2: FutureWarning: The provided callable <built-in function sum> is currently using DataFrameGroupBy.sum. In a future version of pandas, the provided callable will be used directly. To keep current behavior pass the string \"sum\" instead.\n",
      "  stat_by_muni_sum=drop_geo(stat).pivot_table(index='CR_PNIM',aggfunc=sum)[['pop_cbs','pop']]\n"
     ]
    },
    {
     "name": "stderr",
     "output_type": "stream",
     "text": [
      "C:\\Users\\dpere\\AppData\\Local\\Temp\\ipykernel_22596\\3159188487.py:1: FutureWarning: Setting an item of incompatible dtype is deprecated and will raise in a future error of pandas. Value '[ 31.3225      20.58816099  23.03316663 ...  79.56155771  86.00171698\n",
      " 411.10230836]' has dtype incompatible with int32, please explicitly cast to a compatible dtype first.\n",
      "  bld_point.loc[(bld_point['HEIGHT']-ceiling_height)<=0,'bld_m3']=bld_point['bld_area']\n"
     ]
    },
    {
     "name": "stderr",
     "output_type": "stream",
     "text": [
      "C:\\Users\\dpere\\AppData\\Local\\Temp\\ipykernel_22596\\3533048335.py:1: FutureWarning: The provided callable <built-in function sum> is currently using DataFrameGroupBy.sum. In a future version of pandas, the provided callable will be used directly. To keep current behavior pass the string \"sum\" instead.\n",
      "  sum_bld_m3=pd.pivot_table(bld_point.drop(columns='centroid'),index=['Taz_num','STAT'],aggfunc=sum)[['bld_m3']].reset_index()\n",
      "C:\\Users\\dpere\\AppData\\Local\\Temp\\ipykernel_22596\\3687277795.py:1: FutureWarning: The provided callable <built-in function sum> is currently using DataFrameGroupBy.sum. In a future version of pandas, the provided callable will be used directly. To keep current behavior pass the string \"sum\" instead.\n",
      "  sum_bld_m3_by_stat=sum_bld_m3.pivot_table(index='STAT',aggfunc=sum)[['bld_m3']].rename(columns={'bld_m3':'bld_m3_stat'}).reset_index()\n",
      "C:\\Users\\dpere\\AppData\\Local\\Temp\\ipykernel_22596\\573162633.py:1: FutureWarning: The provided callable <built-in function sum> is currently using DataFrameGroupBy.sum. In a future version of pandas, the provided callable will be used directly. To keep current behavior pass the string \"sum\" instead.\n",
      "  sum_bld_m3_by_stat=sum_bld_m3.pivot_table(index='STAT',aggfunc=sum)[['bld_m3']].rename(columns={'bld_m3':'bld_m3_stat_new'}).reset_index()\n"
     ]
    },
    {
     "name": "stderr",
     "output_type": "stream",
     "text": [
      "C:\\Users\\dpere\\AppData\\Local\\Temp\\ipykernel_22596\\3759065189.py:1: FutureWarning: The provided callable <built-in function sum> is currently using DataFrameGroupBy.sum. In a future version of pandas, the provided callable will be used directly. To keep current behavior pass the string \"sum\" instead.\n",
      "  taz=pd.pivot_table(taz,index='Taz_num',aggfunc=sum)\n"
     ]
    },
    {
     "name": "stderr",
     "output_type": "stream",
     "text": [
      "C:\\Users\\dpere\\AppData\\Local\\Temp\\ipykernel_22596\\3236687485.py:1: FutureWarning: The provided callable <built-in function sum> is currently using DataFrameGroupBy.sum. In a future version of pandas, the provided callable will be used directly. To keep current behavior pass the string \"sum\" instead.\n",
      "  shcl_with_taz_arab=shcl_with_taz.loc[shcl_with_taz['sector']==1].pivot_table(index='Taz_num',aggfunc=sum)[old_col]\n",
      "C:\\Users\\dpere\\AppData\\Local\\Temp\\ipykernel_22596\\2028788263.py:1: FutureWarning: The provided callable <built-in function sum> is currently using DataFrameGroupBy.sum. In a future version of pandas, the provided callable will be used directly. To keep current behavior pass the string \"sum\" instead.\n",
      "  shcl_with_taz_hardi=shcl_with_taz.loc[shcl_with_taz['sector']==2].pivot_table(index='Taz_num',aggfunc=sum)[old_col]\n",
      "C:\\Users\\dpere\\AppData\\Local\\Temp\\ipykernel_22596\\2629452214.py:1: FutureWarning: The provided callable <built-in function sum> is currently using DataFrameGroupBy.sum. In a future version of pandas, the provided callable will be used directly. To keep current behavior pass the string \"sum\" instead.\n",
      "  shcl_with_taz_Jewish=shcl_with_taz.loc[shcl_with_taz['sector']==3].pivot_table(index='Taz_num',aggfunc=sum)[old_col]\n"
     ]
    },
    {
     "name": "stderr",
     "output_type": "stream",
     "text": [
      "C:\\Users\\dpere\\AppData\\Local\\Temp\\ipykernel_22596\\3903377412.py:2: SettingWithCopyWarning: \n",
      "A value is trying to be set on a copy of a slice from a DataFrame.\n",
      "Try using .loc[row_indexer,col_indexer] = value instead\n",
      "\n",
      "See the caveats in the documentation: https://pandas.pydata.org/pandas-docs/stable/user_guide/indexing.html#returning-a-view-versus-a-copy\n",
      "  sum_students_by_muni_sector_demand_add_from_gov_by_muni.loc[filter_condition, 'sum_add_students'] = 3000\n"
     ]
    }
   ],
   "source": [
    "%run \"./fix_cbs_data_230717.ipynb\"\n",
    "%run \"./from_sa_cbs_to_ta_jtmt.ipynb\"\n",
    "%run \"./create_gov_student_num_by_muni.ipynb\"\n",
    "%run \"./prepare_students.ipynb\""
   ]
  },
  {
   "cell_type": "code",
   "execution_count": 6,
   "metadata": {
    "execution": {
     "iopub.execute_input": "2024-12-15T23:48:51.081223Z",
     "iopub.status.busy": "2024-12-15T23:48:51.080276Z",
     "iopub.status.idle": "2024-12-15T23:49:01.200248Z",
     "shell.execute_reply": "2024-12-15T23:49:01.199101Z"
    }
   },
   "outputs": [
    {
     "name": "stdout",
     "output_type": "stream",
     "text": [
      "Notebook 'C:\\Users\\dpere\\Documents\\JTMT\\forecast_git\\create_forecast_ad_hoc\\create_forecast_basic_ad_hoc\\arab_and_palestinian\\run_arab_and_palestinian.ipynb' executed successfully.\n"
     ]
    },
    {
     "data": {
      "text/plain": [
       "({'cells': [{'cell_type': 'markdown',\n",
       "    'metadata': {},\n",
       "    'source': '### ייבוא ספריות\\n'},\n",
       "   {'cell_type': 'code',\n",
       "    'execution_count': 1,\n",
       "    'metadata': {'execution': {'iopub.status.busy': '2024-12-15T23:48:52.499982Z',\n",
       "      'iopub.execute_input': '2024-12-15T23:48:52.499982Z',\n",
       "      'iopub.status.idle': '2024-12-15T23:48:52.505609Z',\n",
       "      'shell.execute_reply': '2024-12-15T23:48:52.504602Z'}},\n",
       "    'outputs': [],\n",
       "    'source': 'import os'},\n",
       "   {'cell_type': 'code',\n",
       "    'execution_count': 2,\n",
       "    'metadata': {'execution': {'iopub.status.busy': '2024-12-15T23:48:52.512611Z',\n",
       "      'iopub.execute_input': '2024-12-15T23:48:52.513613Z',\n",
       "      'iopub.status.idle': '2024-12-15T23:48:52.517897Z',\n",
       "      'shell.execute_reply': '2024-12-15T23:48:52.517897Z'}},\n",
       "    'outputs': [],\n",
       "    'source': 'def delete_folder_contents(folder_path):\\n    # רץ על כל הקבצים והתיקיות בתיקייה.\\n    for filename in os.listdir(folder_path):\\n        file_path = os.path.join(folder_path, filename)\\n        # בודק אם הפריט הוא קובץ או תיקייה.\\n        if os.path.isfile(file_path):\\n            # אם הפריט הוא קובץ, מוחק אותו באמצעות os.remove\\n            os.remove(file_path)\\n        elif os.path.isdir(file_path):\\n            # אם הפריט הוא תיקייה, מוחק את התוכן שלה\\n            delete_folder_contents(file_path)\\n            # מוחק את התיקייה עצמה באמצעות os.rmdir\\n            os.rmdir(file_path)'},\n",
       "   {'cell_type': 'markdown',\n",
       "    'metadata': {},\n",
       "    'source': '### הגדרת נתיב תיקייה ומחיקת תוכן\\n'},\n",
       "   {'cell_type': 'code',\n",
       "    'execution_count': 3,\n",
       "    'metadata': {'execution': {'iopub.status.busy': '2024-12-15T23:48:52.524918Z',\n",
       "      'iopub.execute_input': '2024-12-15T23:48:52.524918Z',\n",
       "      'iopub.status.idle': '2024-12-15T23:48:52.533327Z',\n",
       "      'shell.execute_reply': '2024-12-15T23:48:52.533327Z'}},\n",
       "    'outputs': [],\n",
       "    'source': '# מגדיר את הנתיב לתיקייה בשם \"Intermediates\".\\nfolder_path = \\'./Intermediates\\'\\n\\n# קורא לפונקציה delete_folder_contents כדי למחוק את התוכן של התיקייה\\ndelete_folder_contents(folder_path)'},\n",
       "   {'cell_type': 'markdown', 'metadata': {}, 'source': '### הרצת מחברות\\n'},\n",
       "   {'cell_type': 'code',\n",
       "    'execution_count': 4,\n",
       "    'metadata': {'execution': {'iopub.status.busy': '2024-12-15T23:48:52.540350Z',\n",
       "      'iopub.execute_input': '2024-12-15T23:48:52.540350Z',\n",
       "      'iopub.status.idle': '2024-12-15T23:48:57.429593Z',\n",
       "      'shell.execute_reply': '2024-12-15T23:48:57.429593Z'}},\n",
       "    'outputs': [{'output_type': 'stream',\n",
       "      'name': 'stderr',\n",
       "      'text': 'C:\\\\Users\\\\dpere\\\\AppData\\\\Local\\\\Temp\\\\ipykernel_28340\\\\858144232.py:16: FutureWarning: The provided callable <built-in function sum> is currently using DataFrameGroupBy.sum. In a future version of pandas, the provided callable will be used directly. To keep current behavior pass the string \"sum\" instead.\\n  demo=demo.pivot_table(index=\\'Proj_Area\\',aggfunc=sum)[col]\\n'},\n",
       "     {'output_type': 'stream',\n",
       "      'name': 'stderr',\n",
       "      'text': 'C:\\\\Users\\\\dpere\\\\miniconda3\\\\envs\\\\creat_forecast_ad_hoc_env\\\\Lib\\\\site-packages\\\\geopandas\\\\geodataframe.py:2469: UserWarning: `keep_geom_type=True` in overlay resulted in 4 dropped geometries of different geometry types than df1 has. Set `keep_geom_type=False` to retain all geometries\\n  return geopandas.overlay(\\nC:\\\\Users\\\\dpere\\\\AppData\\\\Local\\\\Temp\\\\ipykernel_28340\\\\1244303127.py:1: FutureWarning: The provided callable <built-in function sum> is currently using DataFrameGroupBy.sum. In a future version of pandas, the provided callable will be used directly. To keep current behavior pass the string \"sum\" instead.\\n  taz_demo_pls=drop_geo(demo_taz_bld).pivot_table(index=\\'Taz_num\\',aggfunc=sum)\\n'}],\n",
       "    'source': '%run \"./palestinian_from_demo_230622.ipynb\" '},\n",
       "   {'cell_type': 'code',\n",
       "    'execution_count': 5,\n",
       "    'metadata': {'execution': {'iopub.status.busy': '2024-12-15T23:48:57.436599Z',\n",
       "      'iopub.execute_input': '2024-12-15T23:48:57.436599Z',\n",
       "      'iopub.status.idle': '2024-12-15T23:48:58.098111Z',\n",
       "      'shell.execute_reply': '2024-12-15T23:48:58.098111Z'}},\n",
       "    'outputs': [{'output_type': 'stream',\n",
       "      'name': 'stderr',\n",
       "      'text': 'C:\\\\Users\\\\dpere\\\\AppData\\\\Local\\\\Temp\\\\ipykernel_28340\\\\3984579034.py:1: FutureWarning: The provided callable <built-in function sum> is currently using DataFrameGroupBy.sum. In a future version of pandas, the provided callable will be used directly. To keep current behavior pass the string \"sum\" instead.\\n  taz_arab_demo=pd.pivot_table(taz_arab_demo,index=\\'taz\\',aggfunc=sum)[[\\'pop_2020\\',\\nC:\\\\Users\\\\dpere\\\\AppData\\\\Local\\\\Temp\\\\ipykernel_28340\\\\1852264142.py:6: UserWarning: Column names longer than 10 characters will be truncated when saved to ESRI Shapefile.\\n  pd.merge(taz16_info,locals()[\\'taz_arab_demo_age_{}\\'.format(y)],how=\\'left\\',on=\\'taz\\').dissolve(by=col_age_new)[[\\'geometry\\']].reset_index().to_file(r\\'{}\\\\Intermediates\\\\pre_demo_growth_dislov_{}.shp\\'.format(cwd,y))\\nC:\\\\Users\\\\dpere\\\\AppData\\\\Local\\\\Temp\\\\ipykernel_28340\\\\1852264142.py:6: UserWarning: Column names longer than 10 characters will be truncated when saved to ESRI Shapefile.\\n  pd.merge(taz16_info,locals()[\\'taz_arab_demo_age_{}\\'.format(y)],how=\\'left\\',on=\\'taz\\').dissolve(by=col_age_new)[[\\'geometry\\']].reset_index().to_file(r\\'{}\\\\Intermediates\\\\pre_demo_growth_dislov_{}.shp\\'.format(cwd,y))\\nC:\\\\Users\\\\dpere\\\\AppData\\\\Local\\\\Temp\\\\ipykernel_28340\\\\1852264142.py:6: UserWarning: Column names longer than 10 characters will be truncated when saved to ESRI Shapefile.\\n  pd.merge(taz16_info,locals()[\\'taz_arab_demo_age_{}\\'.format(y)],how=\\'left\\',on=\\'taz\\').dissolve(by=col_age_new)[[\\'geometry\\']].reset_index().to_file(r\\'{}\\\\Intermediates\\\\pre_demo_growth_dislov_{}.shp\\'.format(cwd,y))\\nC:\\\\Users\\\\dpere\\\\AppData\\\\Local\\\\Temp\\\\ipykernel_28340\\\\1852264142.py:6: UserWarning: Column names longer than 10 characters will be truncated when saved to ESRI Shapefile.\\n  pd.merge(taz16_info,locals()[\\'taz_arab_demo_age_{}\\'.format(y)],how=\\'left\\',on=\\'taz\\').dissolve(by=col_age_new)[[\\'geometry\\']].reset_index().to_file(r\\'{}\\\\Intermediates\\\\pre_demo_growth_dislov_{}.shp\\'.format(cwd,y))\\n'},\n",
       "     {'output_type': 'stream',\n",
       "      'name': 'stderr',\n",
       "      'text': \"C:\\\\Users\\\\dpere\\\\AppData\\\\Local\\\\Temp\\\\ipykernel_28340\\\\1852264142.py:6: UserWarning: Column names longer than 10 characters will be truncated when saved to ESRI Shapefile.\\n  pd.merge(taz16_info,locals()['taz_arab_demo_age_{}'.format(y)],how='left',on='taz').dissolve(by=col_age_new)[['geometry']].reset_index().to_file(r'{}\\\\Intermediates\\\\pre_demo_growth_dislov_{}.shp'.format(cwd,y))\\nC:\\\\Users\\\\dpere\\\\AppData\\\\Local\\\\Temp\\\\ipykernel_28340\\\\1852264142.py:6: UserWarning: Column names longer than 10 characters will be truncated when saved to ESRI Shapefile.\\n  pd.merge(taz16_info,locals()['taz_arab_demo_age_{}'.format(y)],how='left',on='taz').dissolve(by=col_age_new)[['geometry']].reset_index().to_file(r'{}\\\\Intermediates\\\\pre_demo_growth_dislov_{}.shp'.format(cwd,y))\\n\"}],\n",
       "    'source': '%run \"./arab_growth_till_2050_from_demo_230618.ipynb\"'},\n",
       "   {'cell_type': 'code',\n",
       "    'execution_count': 6,\n",
       "    'metadata': {'execution': {'iopub.status.busy': '2024-12-15T23:48:58.103023Z',\n",
       "      'iopub.execute_input': '2024-12-15T23:48:58.103023Z',\n",
       "      'shell.execute_reply': '2024-12-15T23:49:00.612324Z',\n",
       "      'iopub.status.idle': '2024-12-15T23:49:00.613336Z'}},\n",
       "    'outputs': [{'output_type': 'stream',\n",
       "      'name': 'stdout',\n",
       "      'text': '------------------------------------------\\n2025\\ntotal_kibolet:  235869.44800000003\\ntotal_demand:  47403.17443089148\\npop_not_fit_in_taz:  343.6068327890348\\npop_kibolet_left:  188809.88040189756\\npop_not_fit_in_taz<=pop_kibolet_left\\n'},\n",
       "     {'output_type': 'stream',\n",
       "      'name': 'stderr',\n",
       "      'text': \"C:\\\\Users\\\\dpere\\\\AppData\\\\Local\\\\Temp\\\\ipykernel_28340\\\\3784191077.py:38: FutureWarning: Setting an item of incompatible dtype is deprecated and will raise in a future error of pandas. Value 'pop_demand' has dtype incompatible with float64, please explicitly cast to a compatible dtype first.\\n  taz.loc[taz['pop_delta']>0,'pop_{}_explanation'.format(y)]='pop_demand'\\n\"},\n",
       "     {'output_type': 'stream',\n",
       "      'name': 'stdout',\n",
       "      'text': '------------------------------------------\\n2030\\ntotal_kibolet:  188466.2735691085\\ntotal_demand:  50996.84569862979\\npop_not_fit_in_taz:  2693.0681255527084\\npop_kibolet_left:  140162.49599603144\\npop_not_fit_in_taz<=pop_kibolet_left\\n------------------------------------------\\n2035\\ntotal_kibolet:  137469.42787047874\\ntotal_demand:  51084.47622402458\\n'},\n",
       "     {'output_type': 'stream',\n",
       "      'name': 'stderr',\n",
       "      'text': \"C:\\\\Users\\\\dpere\\\\AppData\\\\Local\\\\Temp\\\\ipykernel_28340\\\\3784191077.py:38: FutureWarning: Setting an item of incompatible dtype is deprecated and will raise in a future error of pandas. Value 'pop_demand' has dtype incompatible with float64, please explicitly cast to a compatible dtype first.\\n  taz.loc[taz['pop_delta']>0,'pop_{}_explanation'.format(y)]='pop_demand'\\nC:\\\\Users\\\\dpere\\\\AppData\\\\Local\\\\Temp\\\\ipykernel_28340\\\\3784191077.py:38: FutureWarning: Setting an item of incompatible dtype is deprecated and will raise in a future error of pandas. Value 'pop_demand' has dtype incompatible with float64, please explicitly cast to a compatible dtype first.\\n  taz.loc[taz['pop_delta']>0,'pop_{}_explanation'.format(y)]='pop_demand'\\n\"},\n",
       "     {'output_type': 'stream',\n",
       "      'name': 'stdout',\n",
       "      'text': 'pop_not_fit_in_taz:  13325.873380146573\\npop_kibolet_left:  99710.82502660074\\npop_not_fit_in_taz<=pop_kibolet_left\\n------------------------------------------\\n2040\\ntotal_kibolet:  86384.95164645417\\ntotal_demand:  49848.94958649689\\n'},\n",
       "     {'output_type': 'stream',\n",
       "      'name': 'stderr',\n",
       "      'text': \"C:\\\\Users\\\\dpere\\\\AppData\\\\Local\\\\Temp\\\\ipykernel_28340\\\\3784191077.py:38: FutureWarning: Setting an item of incompatible dtype is deprecated and will raise in a future error of pandas. Value 'pop_demand' has dtype incompatible with float64, please explicitly cast to a compatible dtype first.\\n  taz.loc[taz['pop_delta']>0,'pop_{}_explanation'.format(y)]='pop_demand'\\n\"},\n",
       "     {'output_type': 'stream',\n",
       "      'name': 'stdout',\n",
       "      'text': 'pop_not_fit_in_taz:  25012.190465657328\\npop_kibolet_left:  61548.1925256146\\npop_not_fit_in_taz<=pop_kibolet_left\\n'},\n",
       "     {'output_type': 'stream',\n",
       "      'name': 'stdout',\n",
       "      'text': '------------------------------------------\\n2045\\ntotal_kibolet:  36536.00205995727\\ntotal_demand:  48058.58387954002\\npop_not_fit_in_taz:  34825.59739065956\\npop_kibolet_left:  23303.01557107681\\npop_not_fit_in_taz>pop_kibolet_left\\npop_not_fit_in_jeru:  11522.581819582752\\n'},\n",
       "     {'output_type': 'stream',\n",
       "      'name': 'stderr',\n",
       "      'text': \"C:\\\\Users\\\\dpere\\\\AppData\\\\Local\\\\Temp\\\\ipykernel_28340\\\\3784191077.py:38: FutureWarning: Setting an item of incompatible dtype is deprecated and will raise in a future error of pandas. Value 'pop_demand' has dtype incompatible with float64, please explicitly cast to a compatible dtype first.\\n  taz.loc[taz['pop_delta']>0,'pop_{}_explanation'.format(y)]='pop_demand'\\n\"},\n",
       "     {'output_type': 'stream',\n",
       "      'name': 'stdout',\n",
       "      'text': '------------------------------------------\\n2050\\ntotal_kibolet:  0\\ntotal_demand:  46506.1053317131\\npop_not_fit_in_taz:  46506.1053317131\\npop_kibolet_left:  0\\npop_not_fit_in_taz>pop_kibolet_left\\npop_not_fit_in_jeru:  46506.1053317131\\n'},\n",
       "     {'output_type': 'stream',\n",
       "      'name': 'stderr',\n",
       "      'text': \"C:\\\\Users\\\\dpere\\\\AppData\\\\Local\\\\Temp\\\\ipykernel_28340\\\\3784191077.py:38: FutureWarning: Setting an item of incompatible dtype is deprecated and will raise in a future error of pandas. Value 'pop_demand' has dtype incompatible with float64, please explicitly cast to a compatible dtype first.\\n  taz.loc[taz['pop_delta']>0,'pop_{}_explanation'.format(y)]='pop_demand'\\n\"}],\n",
       "    'source': '%run \"./230709_arab_growth_vs_kibolt.ipynb\"'}],\n",
       "  'metadata': {'kernelspec': {'display_name': 'creat_forecast_ad_hoc_env',\n",
       "    'language': 'python',\n",
       "    'name': 'python3'},\n",
       "   'language_info': {'name': 'python',\n",
       "    'version': '3.11.5',\n",
       "    'mimetype': 'text/x-python',\n",
       "    'codemirror_mode': {'name': 'ipython', 'version': 3},\n",
       "    'pygments_lexer': 'ipython3',\n",
       "    'nbconvert_exporter': 'python',\n",
       "    'file_extension': '.py'}},\n",
       "  'nbformat': 4,\n",
       "  'nbformat_minor': 2},\n",
       " {'metadata': {'path': './'}})"
      ]
     },
     "execution_count": 6,
     "metadata": {},
     "output_type": "execute_result"
    }
   ],
   "source": [
    "# os.chdir(arab_and_palestinian_directory): משנה את הספרייה הנוכחית לספרייה שבה נמצאת המחברת הראשונה.\n",
    "os.chdir(arab_and_palestinian_directory)\n",
    "\n",
    "# קורא לפונקציה run_notebook שבמודול run_arab_and_palestinian כדי להריץ את המחברת run_arab_and_palestinian.ipynb.\n",
    "run_arab_and_palestinian.run_notebook(r'{}\\run_arab_and_palestinian.ipynb'.format(arab_and_palestinian_directory))"
   ]
  },
  {
   "cell_type": "code",
   "execution_count": 7,
   "metadata": {
    "execution": {
     "iopub.execute_input": "2024-12-15T23:49:01.207791Z",
     "iopub.status.busy": "2024-12-15T23:49:01.206793Z",
     "iopub.status.idle": "2024-12-15T23:49:19.636519Z",
     "shell.execute_reply": "2024-12-15T23:49:19.635398Z"
    }
   },
   "outputs": [
    {
     "name": "stderr",
     "output_type": "stream",
     "text": [
      "C:\\Users\\dpere\\AppData\\Local\\Temp\\ipykernel_22596\\2539747398.py:3: FutureWarning: The provided callable <built-in function sum> is currently using DataFrameGroupBy.sum. In a future version of pandas, the provided callable will be used directly. To keep current behavior pass the string \"sum\" instead.\n",
      "  student_arab_not_gov=student_arab_not_gov.pivot_table(index='Taz_num',aggfunc=sum)[['num_student']]\n"
     ]
    },
    {
     "name": "stderr",
     "output_type": "stream",
     "text": [
      "C:\\Users\\dpere\\AppData\\Local\\Temp\\ipykernel_22596\\2039466339.py:1: FutureWarning: The provided callable <built-in function sum> is currently using DataFrameGroupBy.sum. In a future version of pandas, the provided callable will be used directly. To keep current behavior pass the string \"sum\" instead.\n",
      "  taz['student_chardi_not_gov']=drop_geo(student_chardi_not_gov_with_taz).pivot_table(index='Taz_num',aggfunc=sum)[['num_students']]\n",
      "C:\\Users\\dpere\\AppData\\Local\\Temp\\ipykernel_22596\\2892090057.py:1: FutureWarning: The provided callable <built-in function sum> is currently using DataFrameGroupBy.sum. In a future version of pandas, the provided callable will be used directly. To keep current behavior pass the string \"sum\" instead.\n",
      "  uni_students_sum_by_taz=uni_students_with_taz[col].pivot_table(index='Taz_num',aggfunc=sum).reset_index()\n"
     ]
    },
    {
     "name": "stderr",
     "output_type": "stream",
     "text": [
      "C:\\Users\\dpere\\AppData\\Local\\Temp\\ipykernel_22596\\997828904.py:1: FutureWarning: The provided callable <built-in function sum> is currently using DataFrameGroupBy.sum. In a future version of pandas, the provided callable will be used directly. To keep current behavior pass the string \"sum\" instead.\n",
      "  student_yeshiva_by_gender_taz=drop_geo(student_yeshiva).pivot_table(index=['Taz_num','gender'],aggfunc=sum).reset_index()\n"
     ]
    },
    {
     "name": "stderr",
     "output_type": "stream",
     "text": [
      "C:\\Users\\dpere\\AppData\\Local\\Temp\\ipykernel_22596\\2734887127.py:1: FutureWarning: Setting an item of incompatible dtype is deprecated and will raise in a future error of pandas. Value '[211.55       311.6        203.4        219.5        344.425\n",
      " 136.35        56.075       25.39016076  73.20626374  73.23431062\n",
      "  82.10695662 230.30070665 343.62390833 337.025      366.03886321\n",
      " 105.80109167 231.87527165  55.25400185  77.16804338 253.975\n",
      " 271.6075202  128.8788284  132.64795356 192.81912699 152.39663145\n",
      "  41.96477747  13.99356016  95.41456334 242.36643815 121.83933175\n",
      " 217.05580154  79.4         61.525      194.025       89.10633285\n",
      " 261.06314994  13.61840831  66.66415402 125.9366734  493.40591382\n",
      "  13.875      303.175      179.34455817  52.35639892  74.39291965\n",
      " 534.43208035 416.82403926 222.70253076 354.0576974  276.\n",
      " 350.08974276 300.08391068   8.1        103.24850102  62.84563695\n",
      " 294.26060716 188.67566285  44.13980319 159.3154777  196.63301559\n",
      " 193.97893162  45.89112945]' has dtype incompatible with int64, please explicitly cast to a compatible dtype first.\n",
      "  taz.loc[(taz['main_secto']=='U_Orthodox')&(taz['kollim_demand']>taz['Yeshiva']),'add_from_kollim_demand']=taz['kollim_demand']-taz['Yeshiva']\n"
     ]
    },
    {
     "name": "stderr",
     "output_type": "stream",
     "text": [
      "C:\\Users\\dpere\\AppData\\Local\\Temp\\ipykernel_22596\\219692974.py:3: FutureWarning: Setting an item of incompatible dtype is deprecated and will raise in a future error of pandas. Value '[1058.5125      925.0696     1368.9416     1401.4269      900.4801\n",
      "  662.6458      925.0599      926.6895      924.19908983  997.1115\n",
      "  567.256       832.8517     1120.5246      658.6882      794.8762\n",
      " 1469.065      1668.1284      882.8552     1070.52809036  835.6259\n",
      "  547.8269      625.63533771  421.00136291 1126.267       588.8191\n",
      "  497.06827099  192.98137702  550.82128767  652.67722429    0.\n",
      "  199.05712       0.         1029.46150669  958.554      1089.47169269\n",
      "  258.27169331  316.24394151  868.35219351  381.68004435  346.99131233\n",
      " 1150.0223      711.9509      910.0734      586.98056974  959.2192804\n",
      "  242.39101412  485.02180886  448.62910236  696.30593582  179.41638023\n",
      "  912.98938137  482.97741778    0.           31.82368444  345.50725071\n",
      "  424.43994929  572.3896783   674.3028217  1079.7244229   492.62749824\n",
      "  387.99716239  373.76496761   98.36363601  188.35185548  126.558586\n",
      "  223.64763843  264.48028347 1127.07201653  345.29532287  731.3357684\n",
      "  540.14168147 1054.80462152  395.49862658 1523.2298      594.36104784\n",
      "  435.31335216  221.451         0.            0.         1393.9198457\n",
      "  721.1368      704.8214      527.7338739   605.63014103  825.11645426\n",
      " 1169.80494574  763.64114769  722.70549344  363.89497342  859.62638597\n",
      "  337.5187576   331.66453881    0.         1149.159       807.03981728\n",
      "    0.          821.38017823  164.60664178    0.          859.88343512\n",
      "  874.92297156  958.18094175 1030.52232733 1260.89713291  813.1122\n",
      " 1294.95        883.7476     1285.5022      831.9884      994.5216\n",
      "  526.15593447 1330.4035     1047.30046553    0.          196.82521355\n",
      " 3559.29679765  386.69356528 3016.20211554 3209.42870797 1792.68761483\n",
      " 2014.03858517    0.            0.         1303.98795982    0.\n",
      "    0.            6.693         0.            0.            0.\n",
      "    0.            0.            0.         2327.0543108   767.54910769\n",
      "  862.49276997  692.2211     1139.98081887    0.            0.\n",
      "    0.         1778.49546086 1068.60878644  343.6128        0.\n",
      "    0.            0.          288.31147246  158.6891602     0.\n",
      "    0.            0.            0.            0.            0.\n",
      "    0.            0.            0.         1420.66653216 1756.07376784\n",
      "    0.            0.            0.         1284.46185064  651.42724071\n",
      "  806.00014809 1395.7161253  1064.02380638  523.46352561    0.\n",
      "  601.7333678   675.71254652    0.            0.        ]' has dtype incompatible with int64, please explicitly cast to a compatible dtype first.\n",
      "  taz.loc[taz['main_secto']==\"U_Orthodox\",'pop_emp_employed']=taz['pop_emp']*0.97\n"
     ]
    },
    {
     "name": "stderr",
     "output_type": "stream",
     "text": [
      "C:\\Users\\dpere\\AppData\\Local\\Temp\\ipykernel_22596\\3194412414.py:3: FutureWarning: Setting an item of incompatible dtype is deprecated and will raise in a future error of pandas. Value '[1582.13264528  414.11127509  907.29513318  725.28590691  287.96888573\n",
      "  112.91357732  351.70989002  241.99487102  890.02572752  245.84149081\n",
      "  369.41328391   72.53131098  188.96910426  222.59339526   95.00486464\n",
      "   60.60706352  352.18270168  253.18806871  360.47993419  107.8411591\n",
      "  273.9633447   397.02074231  124.45926595  354.63572075  367.90232733\n",
      "  285.90212037  312.31113296  635.16136519  351.6        1591.83055646\n",
      "  509.18825869  365.97840049  269.28061128  197.22655225  197.44069442\n",
      "  152.23491854  450.64515181  487.28879736  239.23099838  436.78309472\n",
      "  423.01036932  313.89584919  361.87185103  540.05220057 1342.26794319\n",
      "   30.97802368  266.46355751  266.73460526  166.52677677  177.62647075\n",
      "   75.2271998   365.11512016  128.97591892  124.06830155  616.49523896\n",
      "  328.50545697]' has dtype incompatible with int64, please explicitly cast to a compatible dtype first.\n",
      "  taz.loc[(taz['jew']==0)&(taz['okev']==1),'emp_okev']=taz['aprt_20']*0.3\n"
     ]
    },
    {
     "name": "stderr",
     "output_type": "stream",
     "text": [
      "C:\\Users\\dpere\\AppData\\Local\\Temp\\ipykernel_22596\\1806380584.py:5: UserWarning: `keep_geom_type=True` in overlay resulted in 286 dropped geometries of different geometry types than df1 has. Set `keep_geom_type=False` to retain all geometries\n",
      "  EMP_kibolet_by_taz=gpd.overlay(taz.reset_index()[['Taz_num','taz_area','geometry']],EMP_kibolet)\n"
     ]
    },
    {
     "name": "stderr",
     "output_type": "stream",
     "text": [
      "C:\\Users\\dpere\\AppData\\Local\\Temp\\ipykernel_22596\\2666082859.py:18: SettingWithCopyWarning: \n",
      "A value is trying to be set on a copy of a slice from a DataFrame.\n",
      "Try using .loc[row_indexer,col_indexer] = value instead\n",
      "\n",
      "See the caveats in the documentation: https://pandas.pydata.org/pandas-docs/stable/user_guide/indexing.html#returning-a-view-versus-a-copy\n",
      "  locals()['data_df_{}'.format(s)].at[index,'classification_name'] = closest_prototype\n",
      "C:\\Users\\dpere\\AppData\\Local\\Temp\\ipykernel_22596\\2666082859.py:18: FutureWarning: Setting an item of incompatible dtype is deprecated and will raise in a future error of pandas. Value 'חרדי מבוגר' has dtype incompatible with float64, please explicitly cast to a compatible dtype first.\n",
      "  locals()['data_df_{}'.format(s)].at[index,'classification_name'] = closest_prototype\n"
     ]
    },
    {
     "name": "stderr",
     "output_type": "stream",
     "text": [
      "C:\\Users\\dpere\\AppData\\Local\\Temp\\ipykernel_22596\\2666082859.py:18: SettingWithCopyWarning: \n",
      "A value is trying to be set on a copy of a slice from a DataFrame.\n",
      "Try using .loc[row_indexer,col_indexer] = value instead\n",
      "\n",
      "See the caveats in the documentation: https://pandas.pydata.org/pandas-docs/stable/user_guide/indexing.html#returning-a-view-versus-a-copy\n",
      "  locals()['data_df_{}'.format(s)].at[index,'classification_name'] = closest_prototype\n",
      "C:\\Users\\dpere\\AppData\\Local\\Temp\\ipykernel_22596\\2666082859.py:18: FutureWarning: Setting an item of incompatible dtype is deprecated and will raise in a future error of pandas. Value 'כללי מאוזן' has dtype incompatible with float64, please explicitly cast to a compatible dtype first.\n",
      "  locals()['data_df_{}'.format(s)].at[index,'classification_name'] = closest_prototype\n"
     ]
    },
    {
     "name": "stderr",
     "output_type": "stream",
     "text": [
      "C:\\Users\\dpere\\AppData\\Local\\Temp\\ipykernel_22596\\2666082859.py:18: SettingWithCopyWarning: \n",
      "A value is trying to be set on a copy of a slice from a DataFrame.\n",
      "Try using .loc[row_indexer,col_indexer] = value instead\n",
      "\n",
      "See the caveats in the documentation: https://pandas.pydata.org/pandas-docs/stable/user_guide/indexing.html#returning-a-view-versus-a-copy\n",
      "  locals()['data_df_{}'.format(s)].at[index,'classification_name'] = closest_prototype\n",
      "C:\\Users\\dpere\\AppData\\Local\\Temp\\ipykernel_22596\\2666082859.py:18: FutureWarning: Setting an item of incompatible dtype is deprecated and will raise in a future error of pandas. Value 'מתנחלי מאוזן ' has dtype incompatible with float64, please explicitly cast to a compatible dtype first.\n",
      "  locals()['data_df_{}'.format(s)].at[index,'classification_name'] = closest_prototype\n",
      "C:\\Users\\dpere\\AppData\\Local\\Temp\\ipykernel_22596\\2666082859.py:18: SettingWithCopyWarning: \n",
      "A value is trying to be set on a copy of a slice from a DataFrame.\n",
      "Try using .loc[row_indexer,col_indexer] = value instead\n",
      "\n",
      "See the caveats in the documentation: https://pandas.pydata.org/pandas-docs/stable/user_guide/indexing.html#returning-a-view-versus-a-copy\n",
      "  locals()['data_df_{}'.format(s)].at[index,'classification_name'] = closest_prototype\n",
      "C:\\Users\\dpere\\AppData\\Local\\Temp\\ipykernel_22596\\2666082859.py:18: FutureWarning: Setting an item of incompatible dtype is deprecated and will raise in a future error of pandas. Value 'ערבי בינוני' has dtype incompatible with float64, please explicitly cast to a compatible dtype first.\n",
      "  locals()['data_df_{}'.format(s)].at[index,'classification_name'] = closest_prototype\n"
     ]
    }
   ],
   "source": [
    "# os.chdir(cwd): מחזיר את הספרייה הנוכחית לספרייה המקורית.\n",
    "os.chdir(cwd)\n",
    "\n",
    "# הרצת מחברות\n",
    "%run \"./emp_current_year.ipynb\"\n",
    "%run \"./add_geo_info_and_export.ipynb\"\n",
    "%run \"./Determining_type_of_age_distribution_230719.ipynb\""
   ]
  }
 ],
 "metadata": {
  "kernelspec": {
   "display_name": "creat_forecast_ad_hoc_env",
   "language": "python",
   "name": "python3"
  },
  "language_info": {
   "codemirror_mode": {
    "name": "ipython",
    "version": 3
   },
   "file_extension": ".py",
   "mimetype": "text/x-python",
   "name": "python",
   "nbconvert_exporter": "python",
   "pygments_lexer": "ipython3",
   "version": "3.11.5"
  }
 },
 "nbformat": 4,
 "nbformat_minor": 2
}
