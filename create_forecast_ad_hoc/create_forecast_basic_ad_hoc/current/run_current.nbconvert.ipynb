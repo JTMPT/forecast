{
 "cells": [
  {
   "cell_type": "markdown",
   "metadata": {},
   "source": [
    "### ייבוא ספריות\n"
   ]
  },
  {
   "cell_type": "code",
   "execution_count": 1,
   "metadata": {
    "execution": {
     "iopub.execute_input": "2024-12-16T08:40:00.671170Z",
     "iopub.status.busy": "2024-12-16T08:40:00.671170Z",
     "iopub.status.idle": "2024-12-16T08:40:00.678405Z",
     "shell.execute_reply": "2024-12-16T08:40:00.678405Z"
    }
   },
   "outputs": [],
   "source": [
    "import os\n",
    "import sys"
   ]
  },
  {
   "cell_type": "code",
   "execution_count": 2,
   "metadata": {
    "execution": {
     "iopub.execute_input": "2024-12-16T08:40:00.678405Z",
     "iopub.status.busy": "2024-12-16T08:40:00.678405Z",
     "iopub.status.idle": "2024-12-16T08:40:00.682257Z",
     "shell.execute_reply": "2024-12-16T08:40:00.682257Z"
    }
   },
   "outputs": [],
   "source": [
    "def delete_folder_contents(folder_path):\n",
    "    # רץ על כל הקבצים והתיקיות בתיקייה.\n",
    "    for filename in os.listdir(folder_path):\n",
    "        file_path = os.path.join(folder_path, filename)\n",
    "        # בודק אם הפריט הוא קובץ או תיקייה.\n",
    "        if os.path.isfile(file_path):\n",
    "            # אם הפריט הוא קובץ, מוחק אותו באמצעות os.remove\n",
    "            os.remove(file_path)\n",
    "        elif os.path.isdir(file_path):\n",
    "            # אם הפריט הוא תיקייה, מוחק את התוכן שלה\n",
    "            delete_folder_contents(file_path)\n",
    "            # מוחק את התיקייה עצמה באמצעות os.rmdir\n",
    "            os.rmdir(file_path)"
   ]
  },
  {
   "cell_type": "markdown",
   "metadata": {},
   "source": [
    "### הגדרת נתיב תיקייה ומחיקת תוכן\n"
   ]
  },
  {
   "cell_type": "code",
   "execution_count": 3,
   "metadata": {
    "execution": {
     "iopub.execute_input": "2024-12-16T08:40:00.682257Z",
     "iopub.status.busy": "2024-12-16T08:40:00.682257Z",
     "iopub.status.idle": "2024-12-16T08:40:00.749157Z",
     "shell.execute_reply": "2024-12-16T08:40:00.749157Z"
    }
   },
   "outputs": [],
   "source": [
    "# מגדיר את הנתיב לתיקייה בשם \"Intermediates\".\n",
    "folder_path = './Intermediates'\n",
    "\n",
    "# קורא לפונקציה delete_folder_contents כדי למחוק את התוכן של התיקייה\n",
    "delete_folder_contents(folder_path)"
   ]
  },
  {
   "cell_type": "markdown",
   "metadata": {},
   "source": [
    "### הגדרת נתיבים וייבוא מודולים\n"
   ]
  },
  {
   "cell_type": "code",
   "execution_count": 4,
   "metadata": {
    "execution": {
     "iopub.execute_input": "2024-12-16T08:40:00.749157Z",
     "iopub.status.busy": "2024-12-16T08:40:00.749157Z",
     "iopub.status.idle": "2024-12-16T08:40:01.207835Z",
     "shell.execute_reply": "2024-12-16T08:40:01.207835Z"
    }
   },
   "outputs": [],
   "source": [
    "# cwd: מאחסן את הנתיב הנוכחי.\n",
    "cwd = os.getcwd()\n",
    "\n",
    "# create_forecast_basic מגדיר נתיב לתיקית\n",
    "create_forecast_basic_folder_path = os.path.dirname(cwd)\n",
    "\n",
    "# arab_and_palestinian מגדיר נתיב לתיקית\n",
    "arab_and_palestinian_directory = r'{}\\arab_and_palestinian'.format(create_forecast_basic_folder_path)\n",
    "\n",
    "# מוסיף את הנתיב של התיקייה \"arab_and_palestinian\", כך שניתן לייבא מודולים מהתיקייה הזו.\n",
    "sys.path.append(arab_and_palestinian_directory)\n",
    "\n",
    "# מייבא את המודול run_arab_and_palestinian הנמצא בתיקייה \"arab_and_palestinian\".\n",
    "import run_arab_and_palestinian"
   ]
  },
  {
   "cell_type": "markdown",
   "metadata": {},
   "source": [
    "### הרצת מחברות\n"
   ]
  },
  {
   "cell_type": "code",
   "execution_count": 5,
   "metadata": {
    "execution": {
     "iopub.execute_input": "2024-12-16T08:40:01.209346Z",
     "iopub.status.busy": "2024-12-16T08:40:01.209346Z",
     "iopub.status.idle": "2024-12-16T08:41:50.179236Z",
     "shell.execute_reply": "2024-12-16T08:41:50.179236Z"
    }
   },
   "outputs": [
    {
     "name": "stderr",
     "output_type": "stream",
     "text": [
      "C:\\Users\\gidon\\AppData\\Local\\Temp\\ipykernel_36428\\3903377412.py:2: SettingWithCopyWarning: \n",
      "A value is trying to be set on a copy of a slice from a DataFrame.\n",
      "Try using .loc[row_indexer,col_indexer] = value instead\n",
      "\n",
      "See the caveats in the documentation: https://pandas.pydata.org/pandas-docs/stable/user_guide/indexing.html#returning-a-view-versus-a-copy\n",
      "  sum_students_by_muni_sector_demand_add_from_gov_by_muni.loc[filter_condition, 'sum_add_students'] = 3000\n"
     ]
    }
   ],
   "source": [
    "%run \"./fix_cbs_data_230717.ipynb\"\n",
    "%run \"./from_sa_cbs_to_ta_jtmt.ipynb\"\n",
    "%run \"./create_gov_student_num_by_muni.ipynb\"\n",
    "%run \"./prepare_students.ipynb\""
   ]
  },
  {
   "cell_type": "code",
   "execution_count": 6,
   "metadata": {
    "execution": {
     "iopub.execute_input": "2024-12-16T08:41:50.179236Z",
     "iopub.status.busy": "2024-12-16T08:41:50.179236Z",
     "iopub.status.idle": "2024-12-16T08:42:05.593055Z",
     "shell.execute_reply": "2024-12-16T08:42:05.593055Z"
    }
   },
   "outputs": [
    {
     "name": "stdout",
     "output_type": "stream",
     "text": [
      "Notebook 'W:\\Data\\Forecast\\Tools\\forecast_git\\create_forecast_ad_hoc\\create_forecast_basic_ad_hoc\\arab_and_palestinian\\run_arab_and_palestinian.ipynb' executed successfully.\n"
     ]
    },
    {
     "data": {
      "text/plain": [
       "({'cells': [{'cell_type': 'markdown',\n",
       "    'metadata': {},\n",
       "    'source': '### ייבוא ספריות\\n'},\n",
       "   {'cell_type': 'code',\n",
       "    'execution_count': 1,\n",
       "    'metadata': {'execution': {'iopub.status.busy': '2024-12-16T08:41:51.476127Z',\n",
       "      'iopub.execute_input': '2024-12-16T08:41:51.476127Z',\n",
       "      'shell.execute_reply': '2024-12-16T08:41:51.482587Z',\n",
       "      'iopub.status.idle': '2024-12-16T08:41:51.482587Z'}},\n",
       "    'outputs': [],\n",
       "    'source': 'import os'},\n",
       "   {'cell_type': 'code',\n",
       "    'execution_count': 2,\n",
       "    'metadata': {'execution': {'iopub.status.busy': '2024-12-16T08:41:51.482587Z',\n",
       "      'iopub.execute_input': '2024-12-16T08:41:51.482587Z',\n",
       "      'shell.execute_reply': '2024-12-16T08:41:51.486477Z',\n",
       "      'iopub.status.idle': '2024-12-16T08:41:51.486477Z'}},\n",
       "    'outputs': [],\n",
       "    'source': 'def delete_folder_contents(folder_path):\\n    # רץ על כל הקבצים והתיקיות בתיקייה.\\n    for filename in os.listdir(folder_path):\\n        file_path = os.path.join(folder_path, filename)\\n        # בודק אם הפריט הוא קובץ או תיקייה.\\n        if os.path.isfile(file_path):\\n            # אם הפריט הוא קובץ, מוחק אותו באמצעות os.remove\\n            os.remove(file_path)\\n        elif os.path.isdir(file_path):\\n            # אם הפריט הוא תיקייה, מוחק את התוכן שלה\\n            delete_folder_contents(file_path)\\n            # מוחק את התיקייה עצמה באמצעות os.rmdir\\n            os.rmdir(file_path)'},\n",
       "   {'cell_type': 'markdown',\n",
       "    'metadata': {},\n",
       "    'source': '### הגדרת נתיב תיקייה ומחיקת תוכן\\n'},\n",
       "   {'cell_type': 'code',\n",
       "    'execution_count': 3,\n",
       "    'metadata': {'execution': {'iopub.status.busy': '2024-12-16T08:41:51.486477Z',\n",
       "      'iopub.execute_input': '2024-12-16T08:41:51.486477Z',\n",
       "      'shell.execute_reply': '2024-12-16T08:41:51.864580Z',\n",
       "      'iopub.status.idle': '2024-12-16T08:41:51.864580Z'}},\n",
       "    'outputs': [],\n",
       "    'source': '# מגדיר את הנתיב לתיקייה בשם \"Intermediates\".\\nfolder_path = \\'./Intermediates\\'\\n\\n# קורא לפונקציה delete_folder_contents כדי למחוק את התוכן של התיקייה\\ndelete_folder_contents(folder_path)'},\n",
       "   {'cell_type': 'markdown', 'metadata': {}, 'source': '### הרצת מחברות\\n'},\n",
       "   {'cell_type': 'code',\n",
       "    'execution_count': 4,\n",
       "    'metadata': {'execution': {'iopub.status.busy': '2024-12-16T08:41:51.866586Z',\n",
       "      'iopub.execute_input': '2024-12-16T08:41:51.866586Z',\n",
       "      'iopub.status.idle': '2024-12-16T08:42:02.790871Z',\n",
       "      'shell.execute_reply': '2024-12-16T08:42:02.790871Z'}},\n",
       "    'outputs': [{'output_type': 'stream',\n",
       "      'name': 'stderr',\n",
       "      'text': 'C:\\\\Users\\\\gidon\\\\AppData\\\\Local\\\\anaconda3\\\\Lib\\\\site-packages\\\\geopandas\\\\geodataframe.py:2469: UserWarning: `keep_geom_type=True` in overlay resulted in 4 dropped geometries of different geometry types than df1 has. Set `keep_geom_type=False` to retain all geometries\\n  return geopandas.overlay(\\n'}],\n",
       "    'source': '%run \"./palestinian_from_demo_230622.ipynb\" '},\n",
       "   {'cell_type': 'code',\n",
       "    'execution_count': 5,\n",
       "    'metadata': {'execution': {'iopub.status.busy': '2024-12-16T08:42:02.790871Z',\n",
       "      'iopub.execute_input': '2024-12-16T08:42:02.790871Z',\n",
       "      'iopub.status.idle': '2024-12-16T08:42:03.845266Z',\n",
       "      'shell.execute_reply': '2024-12-16T08:42:03.845266Z'}},\n",
       "    'outputs': [{'output_type': 'stream',\n",
       "      'name': 'stderr',\n",
       "      'text': \"C:\\\\Users\\\\gidon\\\\AppData\\\\Local\\\\Temp\\\\ipykernel_24688\\\\1852264142.py:6: UserWarning: Column names longer than 10 characters will be truncated when saved to ESRI Shapefile.\\n  pd.merge(taz16_info,locals()['taz_arab_demo_age_{}'.format(y)],how='left',on='taz').dissolve(by=col_age_new)[['geometry']].reset_index().to_file(r'{}\\\\Intermediates\\\\pre_demo_growth_dislov_{}.shp'.format(cwd,y))\\nC:\\\\Users\\\\gidon\\\\AppData\\\\Local\\\\Temp\\\\ipykernel_24688\\\\1852264142.py:6: UserWarning: Column names longer than 10 characters will be truncated when saved to ESRI Shapefile.\\n  pd.merge(taz16_info,locals()['taz_arab_demo_age_{}'.format(y)],how='left',on='taz').dissolve(by=col_age_new)[['geometry']].reset_index().to_file(r'{}\\\\Intermediates\\\\pre_demo_growth_dislov_{}.shp'.format(cwd,y))\\nC:\\\\Users\\\\gidon\\\\AppData\\\\Local\\\\Temp\\\\ipykernel_24688\\\\1852264142.py:6: UserWarning: Column names longer than 10 characters will be truncated when saved to ESRI Shapefile.\\n  pd.merge(taz16_info,locals()['taz_arab_demo_age_{}'.format(y)],how='left',on='taz').dissolve(by=col_age_new)[['geometry']].reset_index().to_file(r'{}\\\\Intermediates\\\\pre_demo_growth_dislov_{}.shp'.format(cwd,y))\\n\"},\n",
       "     {'output_type': 'stream',\n",
       "      'name': 'stderr',\n",
       "      'text': \"C:\\\\Users\\\\gidon\\\\AppData\\\\Local\\\\Temp\\\\ipykernel_24688\\\\1852264142.py:6: UserWarning: Column names longer than 10 characters will be truncated when saved to ESRI Shapefile.\\n  pd.merge(taz16_info,locals()['taz_arab_demo_age_{}'.format(y)],how='left',on='taz').dissolve(by=col_age_new)[['geometry']].reset_index().to_file(r'{}\\\\Intermediates\\\\pre_demo_growth_dislov_{}.shp'.format(cwd,y))\\nC:\\\\Users\\\\gidon\\\\AppData\\\\Local\\\\Temp\\\\ipykernel_24688\\\\1852264142.py:6: UserWarning: Column names longer than 10 characters will be truncated when saved to ESRI Shapefile.\\n  pd.merge(taz16_info,locals()['taz_arab_demo_age_{}'.format(y)],how='left',on='taz').dissolve(by=col_age_new)[['geometry']].reset_index().to_file(r'{}\\\\Intermediates\\\\pre_demo_growth_dislov_{}.shp'.format(cwd,y))\\nC:\\\\Users\\\\gidon\\\\AppData\\\\Local\\\\Temp\\\\ipykernel_24688\\\\1852264142.py:6: UserWarning: Column names longer than 10 characters will be truncated when saved to ESRI Shapefile.\\n  pd.merge(taz16_info,locals()['taz_arab_demo_age_{}'.format(y)],how='left',on='taz').dissolve(by=col_age_new)[['geometry']].reset_index().to_file(r'{}\\\\Intermediates\\\\pre_demo_growth_dislov_{}.shp'.format(cwd,y))\\n\"}],\n",
       "    'source': '%run \"./arab_growth_till_2050_from_demo_230618.ipynb\"'},\n",
       "   {'cell_type': 'code',\n",
       "    'execution_count': 6,\n",
       "    'metadata': {'execution': {'iopub.status.busy': '2024-12-16T08:42:03.845266Z',\n",
       "      'iopub.execute_input': '2024-12-16T08:42:03.845266Z',\n",
       "      'shell.execute_reply': '2024-12-16T08:42:05.340529Z',\n",
       "      'iopub.status.idle': '2024-12-16T08:42:05.340529Z'}},\n",
       "    'outputs': [{'output_type': 'stream',\n",
       "      'name': 'stdout',\n",
       "      'text': '------------------------------------------\\n2025\\ntotal_kibolet:  235869.44800000003\\ntotal_demand:  47403.17443089148\\npop_not_fit_in_taz:  343.6068327890348\\npop_kibolet_left:  188809.88040189756\\npop_not_fit_in_taz<=pop_kibolet_left\\n------------------------------------------\\n2030\\ntotal_kibolet:  188466.2735691085\\ntotal_demand:  50996.84569862979\\npop_not_fit_in_taz:  2693.0681255527084\\npop_kibolet_left:  140162.49599603144\\npop_not_fit_in_taz<=pop_kibolet_left\\n'},\n",
       "     {'output_type': 'stream',\n",
       "      'name': 'stdout',\n",
       "      'text': '------------------------------------------\\n2035\\ntotal_kibolet:  137469.42787047874\\ntotal_demand:  51084.47622402458\\npop_not_fit_in_taz:  13325.873380146573\\npop_kibolet_left:  99710.82502660074\\npop_not_fit_in_taz<=pop_kibolet_left\\n------------------------------------------\\n2040\\ntotal_kibolet:  86384.95164645417\\ntotal_demand:  49848.94958649689\\npop_not_fit_in_taz:  25012.190465657328\\npop_kibolet_left:  61548.1925256146\\npop_not_fit_in_taz<=pop_kibolet_left\\n------------------------------------------\\n2045\\ntotal_kibolet:  36536.00205995727\\ntotal_demand:  48058.58387954002\\npop_not_fit_in_taz:  34825.59739065956\\npop_kibolet_left:  23303.01557107681\\npop_not_fit_in_taz>pop_kibolet_left\\npop_not_fit_in_jeru:  11522.581819582752\\n'},\n",
       "     {'output_type': 'stream',\n",
       "      'name': 'stdout',\n",
       "      'text': '------------------------------------------\\n2050\\ntotal_kibolet:  0\\ntotal_demand:  46506.1053317131\\npop_not_fit_in_taz:  46506.1053317131\\npop_kibolet_left:  0\\npop_not_fit_in_taz>pop_kibolet_left\\npop_not_fit_in_jeru:  46506.1053317131\\n'}],\n",
       "    'source': '%run \"./230709_arab_growth_vs_kibolt.ipynb\"'}],\n",
       "  'metadata': {'kernelspec': {'display_name': 'creat_forecast_ad_hoc_env',\n",
       "    'language': 'python',\n",
       "    'name': 'python3'},\n",
       "   'language_info': {'name': 'python',\n",
       "    'version': '3.11.5',\n",
       "    'mimetype': 'text/x-python',\n",
       "    'codemirror_mode': {'name': 'ipython', 'version': 3},\n",
       "    'pygments_lexer': 'ipython3',\n",
       "    'nbconvert_exporter': 'python',\n",
       "    'file_extension': '.py'}},\n",
       "  'nbformat': 4,\n",
       "  'nbformat_minor': 2},\n",
       " {'metadata': {'path': './'}})"
      ]
     },
     "execution_count": 6,
     "metadata": {},
     "output_type": "execute_result"
    }
   ],
   "source": [
    "# os.chdir(arab_and_palestinian_directory): משנה את הספרייה הנוכחית לספרייה שבה נמצאת המחברת הראשונה.\n",
    "os.chdir(arab_and_palestinian_directory)\n",
    "\n",
    "# קורא לפונקציה run_notebook שבמודול run_arab_and_palestinian כדי להריץ את המחברת run_arab_and_palestinian.ipynb.\n",
    "run_arab_and_palestinian.run_notebook(r'{}\\run_arab_and_palestinian.ipynb'.format(arab_and_palestinian_directory))"
   ]
  },
  {
   "cell_type": "code",
   "execution_count": 7,
   "metadata": {
    "execution": {
     "iopub.execute_input": "2024-12-16T08:42:05.593055Z",
     "iopub.status.busy": "2024-12-16T08:42:05.593055Z",
     "iopub.status.idle": "2024-12-16T08:42:14.396188Z",
     "shell.execute_reply": "2024-12-16T08:42:14.396188Z"
    }
   },
   "outputs": [
    {
     "name": "stderr",
     "output_type": "stream",
     "text": [
      "C:\\Users\\gidon\\AppData\\Local\\Temp\\ipykernel_36428\\1806380584.py:5: UserWarning: `keep_geom_type=True` in overlay resulted in 284 dropped geometries of different geometry types than df1 has. Set `keep_geom_type=False` to retain all geometries\n",
      "  EMP_kibolet_by_taz=gpd.overlay(taz.reset_index()[['Taz_num','taz_area','geometry']],EMP_kibolet)\n",
      "C:\\Users\\gidon\\AppData\\Local\\Temp\\ipykernel_36428\\2666082859.py:18: SettingWithCopyWarning: \n",
      "A value is trying to be set on a copy of a slice from a DataFrame.\n",
      "Try using .loc[row_indexer,col_indexer] = value instead\n",
      "\n",
      "See the caveats in the documentation: https://pandas.pydata.org/pandas-docs/stable/user_guide/indexing.html#returning-a-view-versus-a-copy\n",
      "  locals()['data_df_{}'.format(s)].at[index,'classification_name'] = closest_prototype\n",
      "C:\\Users\\gidon\\AppData\\Local\\Temp\\ipykernel_36428\\2666082859.py:18: SettingWithCopyWarning: \n",
      "A value is trying to be set on a copy of a slice from a DataFrame.\n",
      "Try using .loc[row_indexer,col_indexer] = value instead\n",
      "\n",
      "See the caveats in the documentation: https://pandas.pydata.org/pandas-docs/stable/user_guide/indexing.html#returning-a-view-versus-a-copy\n",
      "  locals()['data_df_{}'.format(s)].at[index,'classification_name'] = closest_prototype\n",
      "C:\\Users\\gidon\\AppData\\Local\\Temp\\ipykernel_36428\\2666082859.py:18: SettingWithCopyWarning: \n",
      "A value is trying to be set on a copy of a slice from a DataFrame.\n",
      "Try using .loc[row_indexer,col_indexer] = value instead\n",
      "\n",
      "See the caveats in the documentation: https://pandas.pydata.org/pandas-docs/stable/user_guide/indexing.html#returning-a-view-versus-a-copy\n",
      "  locals()['data_df_{}'.format(s)].at[index,'classification_name'] = closest_prototype\n",
      "C:\\Users\\gidon\\AppData\\Local\\Temp\\ipykernel_36428\\2666082859.py:18: SettingWithCopyWarning: \n",
      "A value is trying to be set on a copy of a slice from a DataFrame.\n",
      "Try using .loc[row_indexer,col_indexer] = value instead\n",
      "\n",
      "See the caveats in the documentation: https://pandas.pydata.org/pandas-docs/stable/user_guide/indexing.html#returning-a-view-versus-a-copy\n",
      "  locals()['data_df_{}'.format(s)].at[index,'classification_name'] = closest_prototype\n"
     ]
    }
   ],
   "source": [
    "# os.chdir(cwd): מחזיר את הספרייה הנוכחית לספרייה המקורית.\n",
    "os.chdir(cwd)\n",
    "\n",
    "# הרצת מחברות\n",
    "%run \"./emp_current_year.ipynb\"\n",
    "%run \"./add_geo_info_and_export.ipynb\"\n",
    "%run \"./Determining_type_of_age_distribution_230719.ipynb\""
   ]
  }
 ],
 "metadata": {
  "kernelspec": {
   "display_name": "creat_forecast_ad_hoc_env",
   "language": "python",
   "name": "python3"
  },
  "language_info": {
   "codemirror_mode": {
    "name": "ipython",
    "version": 3
   },
   "file_extension": ".py",
   "mimetype": "text/x-python",
   "name": "python",
   "nbconvert_exporter": "python",
   "pygments_lexer": "ipython3",
   "version": "3.11.5"
  }
 },
 "nbformat": 4,
 "nbformat_minor": 2
}
