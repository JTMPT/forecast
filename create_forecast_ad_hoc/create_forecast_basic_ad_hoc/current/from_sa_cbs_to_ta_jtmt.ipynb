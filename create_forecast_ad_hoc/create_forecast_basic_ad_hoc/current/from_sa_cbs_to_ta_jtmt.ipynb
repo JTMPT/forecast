{
 "cells": [
  {
   "cell_type": "markdown",
   "id": "0e7214ba",
   "metadata": {
    "heading_collapsed": true
   },
   "source": [
    "## קוד מבוא\n"
   ]
  },
  {
   "cell_type": "markdown",
   "id": "9b643559",
   "metadata": {},
   "source": [
    "### ספריות\n"
   ]
  },
  {
   "cell_type": "code",
   "execution_count": 1,
   "id": "f8405d52",
   "metadata": {
    "hidden": true
   },
   "outputs": [],
   "source": [
    "import os\n",
    "import sys\n",
    "import pandas as pd\n",
    "import geopandas as gpd"
   ]
  },
  {
   "cell_type": "code",
   "execution_count": 2,
   "id": "2dacbc13",
   "metadata": {
    "hidden": true
   },
   "outputs": [],
   "source": [
    "pd.set_option('display.max_rows', None)\n",
    "pd.set_option('display.max_columns', None)"
   ]
  },
  {
   "cell_type": "markdown",
   "id": "1bd8c584",
   "metadata": {},
   "source": [
    "### העלאת משתנים להרצת הקוד\n"
   ]
  },
  {
   "cell_type": "code",
   "execution_count": 3,
   "id": "43cbd034",
   "metadata": {},
   "outputs": [],
   "source": [
    "cwd = os.getcwd()\n",
    "\n",
    "create_forecast_basic_folder_path = os.path.dirname(cwd)\n",
    "\n",
    "sys.path.append(create_forecast_basic_folder_path)"
   ]
  },
  {
   "cell_type": "code",
   "execution_count": null,
   "id": "df2d91ef",
   "metadata": {},
   "outputs": [],
   "source": [
    "df_inputs_outputs = pd.read_excel(r'{}\\inputs_outputs.xlsx'.format(cwd))"
   ]
  },
  {
   "cell_type": "markdown",
   "id": "9624443e",
   "metadata": {
    "heading_collapsed": true
   },
   "source": [
    "## פונקציות\n"
   ]
  },
  {
   "cell_type": "code",
   "execution_count": null,
   "id": "ac026154",
   "metadata": {},
   "outputs": [],
   "source": [
    "from global_functions import get_newest_date_file, make_point, up_load_gdb, up_load_shp, up_load_df"
   ]
  },
  {
   "cell_type": "markdown",
   "id": "a9907b86",
   "metadata": {},
   "source": [
    "### העלאת מידע\n"
   ]
  },
  {
   "cell_type": "code",
   "execution_count": null,
   "id": "aba49f13",
   "metadata": {},
   "outputs": [],
   "source": [
    "stat=up_load_shp(r'{}\\background_files\\stat_11_cbs_2020_with_jtmt_fix.shp'.format(cwd))"
   ]
  },
  {
   "cell_type": "code",
   "execution_count": null,
   "id": "47ba101e",
   "metadata": {},
   "outputs": [],
   "source": [
    "stat_in_taz=stat.loc[stat['type_stat']=='in_taz']"
   ]
  },
  {
   "cell_type": "code",
   "execution_count": null,
   "id": "49cf9956",
   "metadata": {},
   "outputs": [],
   "source": [
    "stat=stat.loc[stat['type_stat']!='in_taz']"
   ]
  },
  {
   "cell_type": "code",
   "execution_count": null,
   "id": "c83d99ce",
   "metadata": {},
   "outputs": [],
   "source": [
    "# TAZ_V4_date = get_newest_date_file(create_forecast_basic_folder_path, 'with_geo_info')\n",
    "\n",
    "# taz=up_load_shp(r'{}\\background_files\\TAZ_V4_{}_with_geo_info.shp'.format(create_forecast_basic_folder_path, TAZ_V4_date))\n",
    "taz=up_load_shp(r'{}'.format(df_inputs_outputs['location'][4]))"
   ]
  },
  {
   "cell_type": "code",
   "execution_count": null,
   "id": "7596adbc",
   "metadata": {},
   "outputs": [],
   "source": [
    "path=r'{}\\background_files\\BNTL_2022.gdb'.format(cwd)\n",
    "bld=up_load_gdb(path,'BLDG_Clip')"
   ]
  },
  {
   "cell_type": "code",
   "execution_count": null,
   "id": "cfd9906f",
   "metadata": {},
   "outputs": [],
   "source": [
    "path=r'{}\\background_files\\BNTL_2022.gdb'.format(cwd)\n",
    "bld_poi=up_load_gdb(path,'POI_BLDG_Clip')"
   ]
  },
  {
   "cell_type": "code",
   "execution_count": null,
   "id": "63f1fce2",
   "metadata": {},
   "outputs": [],
   "source": [
    "taz_not_relevant=up_load_df(r'{}\\background_files'.format(cwd),'taz_not_relevant_for_pop_2020')"
   ]
  },
  {
   "cell_type": "code",
   "execution_count": null,
   "id": "f7ecdb8a",
   "metadata": {},
   "outputs": [],
   "source": [
    "taz_not_relevant=list(taz_not_relevant.Taz_num)"
   ]
  },
  {
   "cell_type": "markdown",
   "id": "0e6478a9",
   "metadata": {},
   "source": [
    "### שכבת בניינים\n"
   ]
  },
  {
   "cell_type": "code",
   "execution_count": null,
   "id": "4088e6bb",
   "metadata": {},
   "outputs": [],
   "source": [
    "bld=bld.merge(bld_poi[[ 'FCODE', 'USG_GROUP', 'USG_CODE','USG_SP_NM_LTN','BLDG_ID']],how='left',left_on='UNIQ_ID',right_on='BLDG_ID')"
   ]
  },
  {
   "cell_type": "code",
   "execution_count": null,
   "id": "661a5407",
   "metadata": {},
   "outputs": [],
   "source": [
    "bld=bld.loc[(bld['FCODE_y'].isna())|(bld['USG_CODE']==7600)] #זה קוד לבניינים מעורב שימושים אני מניח שעדיף לשים בניינים מיותרים מאשר הפוך"
   ]
  },
  {
   "cell_type": "code",
   "execution_count": null,
   "id": "237342a7",
   "metadata": {},
   "outputs": [],
   "source": [
    "bld['bld_area']=bld.area"
   ]
  },
  {
   "cell_type": "code",
   "execution_count": null,
   "id": "a8ca3066",
   "metadata": {},
   "outputs": [],
   "source": [
    "bld_point=make_point(bld).fillna(0)"
   ]
  },
  {
   "cell_type": "code",
   "execution_count": null,
   "id": "e0ed6498",
   "metadata": {},
   "outputs": [],
   "source": [
    "bld_point.loc[bld_point['HEIGHT']<=0,'HEIGHT']=bld_point['HI_PNT_Z']-bld_point['HT_LAND']"
   ]
  },
  {
   "cell_type": "code",
   "execution_count": null,
   "id": "c0b53485",
   "metadata": {},
   "outputs": [],
   "source": [
    "ceiling_height=3"
   ]
  },
  {
   "cell_type": "code",
   "execution_count": null,
   "id": "8d62c205",
   "metadata": {},
   "outputs": [],
   "source": [
    "bld_point['bld_m3']=(bld_point['HEIGHT']/ceiling_height).astype(int)*bld_point['bld_area'].astype(int)"
   ]
  },
  {
   "cell_type": "code",
   "execution_count": null,
   "id": "d5ec6923",
   "metadata": {},
   "outputs": [],
   "source": [
    "bld_point.loc[(bld_point['HEIGHT']-ceiling_height)<=0,'bld_m3']=bld_point['bld_area']"
   ]
  },
  {
   "cell_type": "markdown",
   "id": "264fc0c2",
   "metadata": {},
   "source": [
    "### הורדת מבנים לא רלוונטים\n"
   ]
  },
  {
   "cell_type": "code",
   "execution_count": null,
   "id": "385b6f5c",
   "metadata": {},
   "outputs": [],
   "source": [
    "bld_point=gpd.sjoin(bld_point,taz.loc[(~taz['Taz_num'].isin(taz_not_relevant))&(taz['main_secto']!=\"Palestinian\")])"
   ]
  },
  {
   "cell_type": "code",
   "execution_count": null,
   "id": "8daddcdf",
   "metadata": {},
   "outputs": [],
   "source": [
    "col=['bld_m3','centroid','Taz_num']"
   ]
  },
  {
   "cell_type": "code",
   "execution_count": null,
   "id": "62a7babc",
   "metadata": {},
   "outputs": [],
   "source": [
    "bld_point=bld_point[col]"
   ]
  },
  {
   "cell_type": "code",
   "execution_count": null,
   "id": "a948cbcd",
   "metadata": {},
   "outputs": [],
   "source": [
    "bld_point=gpd.sjoin(bld_point,stat[['STAT','geometry']])"
   ]
  },
  {
   "cell_type": "code",
   "execution_count": null,
   "id": "177dfe0a",
   "metadata": {},
   "outputs": [],
   "source": [
    "bld_point['bld_m3']=bld_point['bld_m3'].astype(int)"
   ]
  },
  {
   "cell_type": "markdown",
   "id": "3df73395",
   "metadata": {},
   "source": [
    "### יצירת מאה אחוז לכל א\"ס\n"
   ]
  },
  {
   "cell_type": "code",
   "execution_count": null,
   "id": "f60637f2",
   "metadata": {},
   "outputs": [],
   "source": [
    "sum_bld_m3=pd.pivot_table(bld_point.drop(columns='centroid'),index=['Taz_num','STAT'],aggfunc=sum)[['bld_m3']].reset_index()"
   ]
  },
  {
   "cell_type": "code",
   "execution_count": null,
   "id": "9daab28c",
   "metadata": {},
   "outputs": [],
   "source": [
    "sum_bld_m3_by_stat=sum_bld_m3.pivot_table(index='STAT',aggfunc=sum)[['bld_m3']].rename(columns={'bld_m3':'bld_m3_stat'}).reset_index()"
   ]
  },
  {
   "cell_type": "code",
   "execution_count": null,
   "id": "eb9ae33a",
   "metadata": {},
   "outputs": [],
   "source": [
    "sum_bld_m3=sum_bld_m3.merge(sum_bld_m3_by_stat,on='STAT')"
   ]
  },
  {
   "cell_type": "code",
   "execution_count": null,
   "id": "b043a08d",
   "metadata": {},
   "outputs": [],
   "source": [
    "sum_bld_m3['precent_of_stat_data']=sum_bld_m3['bld_m3']/sum_bld_m3['bld_m3_stat']"
   ]
  },
  {
   "cell_type": "code",
   "execution_count": null,
   "id": "4879e21c",
   "metadata": {},
   "outputs": [],
   "source": [
    "sum_bld_m3=sum_bld_m3.loc[(sum_bld_m3['precent_of_stat_data']>0.01)|(sum_bld_m3['Taz_num']==2001)]"
   ]
  },
  {
   "cell_type": "code",
   "execution_count": null,
   "id": "2c725fc7",
   "metadata": {},
   "outputs": [],
   "source": [
    "sum_bld_m3_by_stat=sum_bld_m3.pivot_table(index='STAT',aggfunc=sum)[['bld_m3']].rename(columns={'bld_m3':'bld_m3_stat_new'}).reset_index()"
   ]
  },
  {
   "cell_type": "code",
   "execution_count": null,
   "id": "d3bad2af",
   "metadata": {},
   "outputs": [],
   "source": [
    "sum_bld_m3=sum_bld_m3.merge(sum_bld_m3_by_stat,on='STAT')"
   ]
  },
  {
   "cell_type": "code",
   "execution_count": null,
   "id": "ac75da44",
   "metadata": {},
   "outputs": [],
   "source": [
    "sum_bld_m3['precent_of_stat_data']=sum_bld_m3['bld_m3']/sum_bld_m3['bld_m3_stat_new']"
   ]
  },
  {
   "cell_type": "markdown",
   "id": "5521276d",
   "metadata": {},
   "source": [
    "### א\"ס ללא פוליגון\n"
   ]
  },
  {
   "cell_type": "code",
   "execution_count": null,
   "id": "1e4578f9",
   "metadata": {},
   "outputs": [],
   "source": [
    "stat_in_taz=make_point(stat_in_taz).sjoin(taz[['Taz_num','geometry']])[['STAT','Taz_num']]"
   ]
  },
  {
   "cell_type": "code",
   "execution_count": null,
   "id": "a7ec583f",
   "metadata": {},
   "outputs": [],
   "source": [
    "stat_in_taz['precent_of_stat_data']=1"
   ]
  },
  {
   "cell_type": "markdown",
   "id": "39210892",
   "metadata": {},
   "source": [
    "### איחוד לטבלה אחת\n"
   ]
  },
  {
   "cell_type": "code",
   "execution_count": null,
   "id": "e43f398d",
   "metadata": {},
   "outputs": [],
   "source": [
    "col=['Taz_num', 'STAT',  'precent_of_stat_data']"
   ]
  },
  {
   "cell_type": "code",
   "execution_count": null,
   "id": "2b122eaa",
   "metadata": {},
   "outputs": [],
   "source": [
    "precent_of_stat_data=pd.concat([sum_bld_m3[col], stat_in_taz])"
   ]
  },
  {
   "cell_type": "code",
   "execution_count": null,
   "id": "fef5a970",
   "metadata": {},
   "outputs": [],
   "source": [
    "file_date=pd.Timestamp.today().strftime('%y%m%d')\n",
    "\n",
    "precent_of_stat_data.to_excel(r'{}\\Monitoring\\{}_precent_of_stat_data.xlsx'.format(cwd, file_date),index=False)"
   ]
  },
  {
   "cell_type": "markdown",
   "id": "c14e12da",
   "metadata": {},
   "source": [
    "### יצירת מידע ברמת אזור תנועה\n"
   ]
  },
  {
   "cell_type": "code",
   "execution_count": null,
   "id": "1a59c059",
   "metadata": {},
   "outputs": [],
   "source": [
    "stat_cbs_jtmt_2020_date = get_newest_date_file(r'{}\\Intermediates'.format(cwd), 'stat_cbs_jtmt_2020')\n",
    "\n",
    "stat=up_load_df(r'{}\\Intermediates'.format(cwd), r'{}_stat_cbs_jtmt_2020'.format(stat_cbs_jtmt_2020_date))"
   ]
  },
  {
   "cell_type": "code",
   "execution_count": null,
   "id": "64152620",
   "metadata": {
    "code_folding": []
   },
   "outputs": [],
   "source": [
    "col=['pop_0',\n",
    " 'pop_5',\n",
    " 'pop_10',\n",
    " 'pop_15',\n",
    " 'pop_20',\n",
    " 'pop_25',\n",
    " 'pop_30',\n",
    " 'pop_35',\n",
    " 'pop_40',\n",
    " 'pop_45',\n",
    " 'pop_50',\n",
    " 'pop_55',\n",
    " 'pop_60',\n",
    " 'pop_65',\n",
    " 'pop_70',\n",
    " 'pop_75up']"
   ]
  },
  {
   "cell_type": "code",
   "execution_count": null,
   "id": "24014869",
   "metadata": {
    "scrolled": true
   },
   "outputs": [],
   "source": [
    "stat[col]=stat[col].multiply(stat['pop'], axis=\"index\")"
   ]
  },
  {
   "cell_type": "code",
   "execution_count": null,
   "id": "d1d3cde8",
   "metadata": {},
   "outputs": [],
   "source": [
    "stat['pop_hardi']=stat['pop']*(stat['pre_hardi']/100)"
   ]
  },
  {
   "cell_type": "code",
   "execution_count": null,
   "id": "ef039678",
   "metadata": {},
   "outputs": [],
   "source": [
    "taz_stat_conver=precent_of_stat_data"
   ]
  },
  {
   "cell_type": "code",
   "execution_count": null,
   "id": "af1147b3",
   "metadata": {
    "code_folding": []
   },
   "outputs": [],
   "source": [
    "col=['STAT',\n",
    " 'aprt_20',\n",
    " 'pop_0',\n",
    " 'pop_5',\n",
    " 'pop_10',\n",
    " 'pop_15',\n",
    " 'pop_20',\n",
    " 'pop_25',\n",
    " 'pop_30',\n",
    " 'pop_35',\n",
    " 'pop_40',\n",
    " 'pop_45',\n",
    " 'pop_50',\n",
    " 'pop_55',\n",
    " 'pop_60',\n",
    " 'pop_65',\n",
    " 'pop_70',\n",
    " 'pop_75up',\n",
    " 'pop',\n",
    " 'pop_hardi']"
   ]
  },
  {
   "cell_type": "markdown",
   "id": "49c52c8e",
   "metadata": {},
   "source": [
    "בשכבת האזורי תנועה יהיו רק אזורי תנועה שמפצלים את המידע של למס\n"
   ]
  },
  {
   "cell_type": "code",
   "execution_count": null,
   "id": "8fe4e938",
   "metadata": {
    "scrolled": false
   },
   "outputs": [],
   "source": [
    "taz=pd.merge(taz_stat_conver,stat[col],on='STAT',how='left')"
   ]
  },
  {
   "cell_type": "code",
   "execution_count": null,
   "id": "2515adf8",
   "metadata": {
    "code_folding": []
   },
   "outputs": [],
   "source": [
    "col=['aprt_20',\n",
    " 'pop_0',\n",
    " 'pop_5',\n",
    " 'pop_10',\n",
    " 'pop_15',\n",
    " 'pop_20',\n",
    " 'pop_25',\n",
    " 'pop_30',\n",
    " 'pop_35',\n",
    " 'pop_40',\n",
    " 'pop_45',\n",
    " 'pop_50',\n",
    " 'pop_55',\n",
    " 'pop_60',\n",
    " 'pop_65',\n",
    " 'pop_70',\n",
    " 'pop_75up',\n",
    " 'pop',\n",
    " 'pop_hardi']"
   ]
  },
  {
   "cell_type": "code",
   "execution_count": null,
   "id": "14e43c8b",
   "metadata": {},
   "outputs": [],
   "source": [
    "taz[col]=taz[col].multiply(taz['precent_of_stat_data'], axis=\"index\")"
   ]
  },
  {
   "cell_type": "code",
   "execution_count": null,
   "id": "6dd570e1",
   "metadata": {},
   "outputs": [],
   "source": [
    "taz=pd.pivot_table(taz,index='Taz_num',aggfunc=sum)"
   ]
  },
  {
   "cell_type": "code",
   "execution_count": null,
   "id": "da1c1a43",
   "metadata": {},
   "outputs": [],
   "source": [
    "taz['pre_hardi']=taz['pop_hardi']/taz['pop']"
   ]
  },
  {
   "cell_type": "code",
   "execution_count": null,
   "id": "fd127472",
   "metadata": {},
   "outputs": [],
   "source": [
    "taz['hh_size']=taz['pop']/taz['aprt_20']"
   ]
  },
  {
   "cell_type": "code",
   "execution_count": null,
   "id": "13037c69",
   "metadata": {},
   "outputs": [],
   "source": [
    "save_taz_path=r'{}\\Intermediates'.format(cwd)"
   ]
  },
  {
   "cell_type": "code",
   "execution_count": null,
   "id": "68f79b7c",
   "metadata": {},
   "outputs": [],
   "source": [
    "file_date=pd.Timestamp.today().strftime('%y%m%d')"
   ]
  },
  {
   "cell_type": "code",
   "execution_count": null,
   "id": "9792ae5b",
   "metadata": {},
   "outputs": [],
   "source": [
    "taz.to_excel(r'{}\\taz_with_pop_info.xlsx'.format(save_taz_path,file_date))"
   ]
  }
 ],
 "metadata": {
  "kernelspec": {
   "display_name": "creat_forecast_ad_hoc_env",
   "language": "python",
   "name": "python3"
  },
  "language_info": {
   "codemirror_mode": {
    "name": "ipython",
    "version": 3
   },
   "file_extension": ".py",
   "mimetype": "text/x-python",
   "name": "python",
   "nbconvert_exporter": "python",
   "pygments_lexer": "ipython3",
   "version": "3.11.5"
  },
  "toc": {
   "base_numbering": 1,
   "nav_menu": {},
   "number_sections": true,
   "sideBar": true,
   "skip_h1_title": false,
   "title_cell": "Table of Contents",
   "title_sidebar": "Contents",
   "toc_cell": false,
   "toc_position": {
    "height": "calc(100% - 180px)",
    "left": "10px",
    "top": "150px",
    "width": "415.996px"
   },
   "toc_section_display": true,
   "toc_window_display": true
  }
 },
 "nbformat": 4,
 "nbformat_minor": 5
}
