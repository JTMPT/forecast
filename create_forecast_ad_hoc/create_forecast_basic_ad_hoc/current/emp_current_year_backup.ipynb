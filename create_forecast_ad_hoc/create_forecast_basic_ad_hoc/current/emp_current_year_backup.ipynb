{
  "cells": [
    {
      "cell_type": "markdown",
      "id": "65e4c2ef",
      "metadata": {},
      "source": [
        "## הגדרות ומקדים"
      ]
    },
    {
      "cell_type": "markdown",
      "id": "986ae99c",
      "metadata": {},
      "source": [
        "### ספריות"
      ]
    },
    {
      "cell_type": "code",
      "execution_count": 97,
      "id": "a43ce0cf",
      "metadata": {},
      "outputs": [],
      "source": [
        "import os\n",
        "import sys\n",
        "import pandas as pd\n",
        "import geopandas as gpd"
      ]
    },
    {
      "cell_type": "code",
      "execution_count": 98,
      "id": "e351ed54",
      "metadata": {},
      "outputs": [],
      "source": [
        "pd.set_option('display.max_rows', None)\n",
        "pd.set_option('display.max_columns', None)\n",
        "pd.set_option('display.float_format', lambda x: '%.3f' % x)"
      ]
    },
    {
      "cell_type": "markdown",
      "id": "c29b5441",
      "metadata": {},
      "source": [
        "### העלת משתנים להרצת הקוד"
      ]
    },
    {
      "cell_type": "code",
      "execution_count": 99,
      "id": "2a61ddcb",
      "metadata": {},
      "outputs": [],
      "source": [
        "cwd = os.getcwd()\n",
        "\n",
        "create_forecast_basic_folder_path = os.path.dirname(cwd)\n",
        "\n",
        "sys.path.append(create_forecast_basic_folder_path)"
      ]
    },
    {
      "cell_type": "markdown",
      "id": "9624443e",
      "metadata": {},
      "source": [
        "## פונקציות"
      ]
    },
    {
      "cell_type": "markdown",
      "id": "885c6a15",
      "metadata": {},
      "source": [
        "### פונקציות גלובליות"
      ]
    },
    {
      "cell_type": "code",
      "execution_count": 100,
      "id": "73a492e7",
      "metadata": {},
      "outputs": [],
      "source": [
        "from global_functions import up_load_shp, up_load_df, drop_geo, up_load_gdb"
      ]
    },
    {
      "cell_type": "markdown",
      "id": "9e298bcd",
      "metadata": {},
      "source": [
        "## להריץ תלמידים"
      ]
    },
    {
      "cell_type": "code",
      "execution_count": 101,
      "id": "7cd351ae",
      "metadata": {},
      "outputs": [],
      "source": [
        "%run \"students_current_year.ipynb\""
      ]
    },
    {
      "cell_type": "markdown",
      "id": "4e3f42f8",
      "metadata": {},
      "source": [
        "## להעלות שכבות"
      ]
    },
    {
      "cell_type": "code",
      "execution_count": 102,
      "id": "a0fdda8d",
      "metadata": {},
      "outputs": [],
      "source": [
        "path=r'{}\\background_files\\EMP_KIBOLET.gdb'.format(create_forecast_basic_folder_path)\n",
        "\n",
        "EMP_kibolet=up_load_gdb(path,'EMP_kibolet')"
      ]
    },
    {
      "cell_type": "code",
      "execution_count": 103,
      "id": "ad8ab1b1",
      "metadata": {},
      "outputs": [],
      "source": [
        "EMP_kibolet=EMP_kibolet.fillna(0)\n",
        "\n",
        "EMP_kibolet['emp_without_palestin']=EMP_kibolet['kayim_emp']-EMP_kibolet['Palestinians']\n",
        "\n",
        "emp_without_palestin_not_okev=EMP_kibolet['emp_without_palestin'].sum().item()\n",
        "\n",
        "emp_Education=taz.query('main_secto!=\"Palestinian\"')['emp_Education'].sum().item()"
      ]
    },
    {
      "cell_type": "markdown",
      "id": "2bfcfaff",
      "metadata": {},
      "source": [
        "## הוספת סטודנטים לאוכלוסיה ולהתפלגות גילים"
      ]
    },
    {
      "cell_type": "code",
      "execution_count": 104,
      "id": "03a9b835",
      "metadata": {},
      "outputs": [],
      "source": [
        "student_dorms=up_load_shp(r'{}\\background_files\\student_dorms.shp'.format(cwd))"
      ]
    },
    {
      "cell_type": "code",
      "execution_count": 105,
      "id": "ceb2b3d0",
      "metadata": {},
      "outputs": [],
      "source": [
        "#העלה של נתוני אנשים התפלגות גילים שנוצר לפני הקוד הזה\n",
        "path=r'{}\\Intermediates'.format(cwd)\n",
        "taz_with_pop=up_load_df(path,'taz_with_pop_info')"
      ]
    },
    {
      "cell_type": "code",
      "execution_count": 106,
      "id": "942e4722",
      "metadata": {},
      "outputs": [],
      "source": [
        "col_needed=['Taz_num','aprt_20',\n",
        " 'pop',\n",
        " 'pop_0',\n",
        " 'pop_10',\n",
        " 'pop_15',\n",
        " 'pop_20',\n",
        " 'pop_25',\n",
        " 'pop_30',\n",
        " 'pop_35',\n",
        " 'pop_40',\n",
        " 'pop_45',\n",
        " 'pop_5',\n",
        " 'pop_50',\n",
        " 'pop_55',\n",
        " 'pop_60',\n",
        " 'pop_65',\n",
        " 'pop_70',\n",
        " 'pop_75up', 'hh_size']"
      ]
    },
    {
      "cell_type": "code",
      "execution_count": 107,
      "id": "d1c756f6",
      "metadata": {},
      "outputs": [],
      "source": [
        "taz=taz.merge(taz_with_pop[col_needed],on='Taz_num',how='left')"
      ]
    },
    {
      "cell_type": "code",
      "execution_count": 108,
      "id": "38051742",
      "metadata": {},
      "outputs": [],
      "source": [
        "taz=taz.set_index('Taz_num')"
      ]
    },
    {
      "cell_type": "code",
      "execution_count": 109,
      "id": "8dbf0217",
      "metadata": {},
      "outputs": [],
      "source": [
        "taz['student_dorms']=gpd.sjoin(taz[['geometry']].reset_index(),student_dorms)[['Taz_num','student_nu']].pivot_table(index='Taz_num',aggfunc='sum')\n"
      ]
    },
    {
      "cell_type": "code",
      "execution_count": 110,
      "id": "b47cb737",
      "metadata": {},
      "outputs": [],
      "source": [
        "\n",
        "taz=taz.fillna(0)\n",
        "\n",
        "taz['pop_without_dorms_yeshiva']=taz['pop']\n",
        "\n",
        "taz['pop']=taz['pop']+taz['student_dorms']\n",
        "\n",
        "taz['pop_20_just_from_aprt']=taz['pop_20']\n",
        "\n",
        "taz['pop_25_just_from_aprt']=taz['pop_25']\n",
        "\n",
        "taz['pop_20']=taz['pop_20']+taz['student_dorms']*0.6\n",
        "\n",
        "taz['pop_25']=taz['pop_25']+taz['student_dorms']*0.4"
      ]
    },
    {
      "cell_type": "code",
      "execution_count": 111,
      "id": "95bbcee0",
      "metadata": {},
      "outputs": [
        {
          "data": {
            "text/html": [
              "<div>\n",
              "<style scoped>\n",
              "    .dataframe tbody tr th:only-of-type {\n",
              "        vertical-align: middle;\n",
              "    }\n",
              "\n",
              "    .dataframe tbody tr th {\n",
              "        vertical-align: top;\n",
              "    }\n",
              "\n",
              "    .dataframe thead th {\n",
              "        text-align: right;\n",
              "    }\n",
              "</style>\n",
              "<table border=\"1\" class=\"dataframe\">\n",
              "  <thead>\n",
              "    <tr style=\"text-align: right;\">\n",
              "      <th></th>\n",
              "      <th>Taz_name</th>\n",
              "      <th>jeru_metro</th>\n",
              "      <th>in_jerusal</th>\n",
              "      <th>main_secto</th>\n",
              "      <th>SCHN_NAME</th>\n",
              "      <th>ENG_NAME_n</th>\n",
              "      <th>zonetype</th>\n",
              "      <th>Muni_Heb</th>\n",
              "      <th>Sug_Muni</th>\n",
              "      <th>CR_PNIM</th>\n",
              "      <th>highBusine</th>\n",
              "      <th>SCHOOLDIST</th>\n",
              "      <th>Urban</th>\n",
              "      <th>EIProp</th>\n",
              "      <th>poly_puma</th>\n",
              "      <th>F3</th>\n",
              "      <th>F2</th>\n",
              "      <th>F1</th>\n",
              "      <th>agri</th>\n",
              "      <th>Indus</th>\n",
              "      <th>Com_hotel</th>\n",
              "      <th>Business</th>\n",
              "      <th>Public</th>\n",
              "      <th>commuting</th>\n",
              "      <th>ieold</th>\n",
              "      <th>IEProp</th>\n",
              "      <th>perScaled</th>\n",
              "      <th>FreeBuffer</th>\n",
              "      <th>PaidBuffer</th>\n",
              "      <th>Rest_EmpBu</th>\n",
              "      <th>searchtime</th>\n",
              "      <th>walktime</th>\n",
              "      <th>cost</th>\n",
              "      <th>Agg_taz_nu</th>\n",
              "      <th>area</th>\n",
              "      <th>CITYCODE1</th>\n",
              "      <th>CITYCODE2</th>\n",
              "      <th>CITYCODE3</th>\n",
              "      <th>CITYCODE4</th>\n",
              "      <th>codeseq</th>\n",
              "      <th>codeseqCon</th>\n",
              "      <th>county</th>\n",
              "      <th>majunivenr</th>\n",
              "      <th>parktot</th>\n",
              "      <th>superZone</th>\n",
              "      <th>Taz1</th>\n",
              "      <th>slope</th>\n",
              "      <th>REGION</th>\n",
              "      <th>yosh</th>\n",
              "      <th>jerusalem_</th>\n",
              "      <th>geometry</th>\n",
              "      <th>SEA1</th>\n",
              "      <th>SEA2</th>\n",
              "      <th>SEA3</th>\n",
              "      <th>UOA1</th>\n",
              "      <th>UOA2</th>\n",
              "      <th>UOA3</th>\n",
              "      <th>ARA1</th>\n",
              "      <th>ARA2</th>\n",
              "      <th>ARA3</th>\n",
              "      <th>student_chardi_not_gov</th>\n",
              "      <th>student_arab_not_gov</th>\n",
              "      <th>TOA1</th>\n",
              "      <th>TOA2</th>\n",
              "      <th>TOA3</th>\n",
              "      <th>sector_for_chinuc</th>\n",
              "      <th>student</th>\n",
              "      <th>Univ_AR</th>\n",
              "      <th>Univ_SE</th>\n",
              "      <th>Univ_UO</th>\n",
              "      <th>emp_uni</th>\n",
              "      <th>univ</th>\n",
              "      <th>yeshiva_dorms_pop_15</th>\n",
              "      <th>yeshiva_dorms_pop_20</th>\n",
              "      <th>yeshiva_dorms_pop_25</th>\n",
              "      <th>yeshiva_dorms_pop_sum</th>\n",
              "      <th>emp_from_Yeshiva_student</th>\n",
              "      <th>Yeshiva</th>\n",
              "      <th>Seminar_dorms_pop_15</th>\n",
              "      <th>Seminar_dorms_pop_20</th>\n",
              "      <th>Seminar_dorms_pop_25</th>\n",
              "      <th>Seminar_dorms_pop_sum</th>\n",
              "      <th>emp_from_Seminar_student</th>\n",
              "      <th>Seminar</th>\n",
              "      <th>kollim_demand</th>\n",
              "      <th>add_from_kollim_demand</th>\n",
              "      <th>student_yeshiva_and_kollim</th>\n",
              "      <th>UO_Hi_Ed</th>\n",
              "      <th>emp_UO_Hi_Ed</th>\n",
              "      <th>UNIVENRORTHFEMALE</th>\n",
              "      <th>UNIVENRORTHMALE</th>\n",
              "      <th>jew</th>\n",
              "      <th>emp_from_student</th>\n",
              "      <th>emp_Education</th>\n",
              "      <th>aprt_20</th>\n",
              "      <th>pop</th>\n",
              "      <th>pop_0</th>\n",
              "      <th>pop_10</th>\n",
              "      <th>pop_15</th>\n",
              "      <th>pop_20</th>\n",
              "      <th>pop_25</th>\n",
              "      <th>pop_30</th>\n",
              "      <th>pop_35</th>\n",
              "      <th>pop_40</th>\n",
              "      <th>pop_45</th>\n",
              "      <th>pop_5</th>\n",
              "      <th>pop_50</th>\n",
              "      <th>pop_55</th>\n",
              "      <th>pop_60</th>\n",
              "      <th>pop_65</th>\n",
              "      <th>pop_70</th>\n",
              "      <th>pop_75up</th>\n",
              "      <th>hh_size</th>\n",
              "      <th>student_dorms</th>\n",
              "      <th>pop_without_dorms_yeshiva</th>\n",
              "      <th>pop_20_just_from_aprt</th>\n",
              "      <th>pop_25_just_from_aprt</th>\n",
              "      <th>pop_check</th>\n",
              "    </tr>\n",
              "    <tr>\n",
              "      <th>Taz_num</th>\n",
              "      <th></th>\n",
              "      <th></th>\n",
              "      <th></th>\n",
              "      <th></th>\n",
              "      <th></th>\n",
              "      <th></th>\n",
              "      <th></th>\n",
              "      <th></th>\n",
              "      <th></th>\n",
              "      <th></th>\n",
              "      <th></th>\n",
              "      <th></th>\n",
              "      <th></th>\n",
              "      <th></th>\n",
              "      <th></th>\n",
              "      <th></th>\n",
              "      <th></th>\n",
              "      <th></th>\n",
              "      <th></th>\n",
              "      <th></th>\n",
              "      <th></th>\n",
              "      <th></th>\n",
              "      <th></th>\n",
              "      <th></th>\n",
              "      <th></th>\n",
              "      <th></th>\n",
              "      <th></th>\n",
              "      <th></th>\n",
              "      <th></th>\n",
              "      <th></th>\n",
              "      <th></th>\n",
              "      <th></th>\n",
              "      <th></th>\n",
              "      <th></th>\n",
              "      <th></th>\n",
              "      <th></th>\n",
              "      <th></th>\n",
              "      <th></th>\n",
              "      <th></th>\n",
              "      <th></th>\n",
              "      <th></th>\n",
              "      <th></th>\n",
              "      <th></th>\n",
              "      <th></th>\n",
              "      <th></th>\n",
              "      <th></th>\n",
              "      <th></th>\n",
              "      <th></th>\n",
              "      <th></th>\n",
              "      <th></th>\n",
              "      <th></th>\n",
              "      <th></th>\n",
              "      <th></th>\n",
              "      <th></th>\n",
              "      <th></th>\n",
              "      <th></th>\n",
              "      <th></th>\n",
              "      <th></th>\n",
              "      <th></th>\n",
              "      <th></th>\n",
              "      <th></th>\n",
              "      <th></th>\n",
              "      <th></th>\n",
              "      <th></th>\n",
              "      <th></th>\n",
              "      <th></th>\n",
              "      <th></th>\n",
              "      <th></th>\n",
              "      <th></th>\n",
              "      <th></th>\n",
              "      <th></th>\n",
              "      <th></th>\n",
              "      <th></th>\n",
              "      <th></th>\n",
              "      <th></th>\n",
              "      <th></th>\n",
              "      <th></th>\n",
              "      <th></th>\n",
              "      <th></th>\n",
              "      <th></th>\n",
              "      <th></th>\n",
              "      <th></th>\n",
              "      <th></th>\n",
              "      <th></th>\n",
              "      <th></th>\n",
              "      <th></th>\n",
              "      <th></th>\n",
              "      <th></th>\n",
              "      <th></th>\n",
              "      <th></th>\n",
              "      <th></th>\n",
              "      <th></th>\n",
              "      <th></th>\n",
              "      <th></th>\n",
              "      <th></th>\n",
              "      <th></th>\n",
              "      <th></th>\n",
              "      <th></th>\n",
              "      <th></th>\n",
              "      <th></th>\n",
              "      <th></th>\n",
              "      <th></th>\n",
              "      <th></th>\n",
              "      <th></th>\n",
              "      <th></th>\n",
              "      <th></th>\n",
              "      <th></th>\n",
              "      <th></th>\n",
              "      <th></th>\n",
              "      <th></th>\n",
              "      <th></th>\n",
              "      <th></th>\n",
              "      <th></th>\n",
              "      <th></th>\n",
              "      <th></th>\n",
              "      <th></th>\n",
              "      <th></th>\n",
              "      <th></th>\n",
              "    </tr>\n",
              "  </thead>\n",
              "  <tbody>\n",
              "  </tbody>\n",
              "</table>\n",
              "</div>"
            ],
            "text/plain": [
              "Empty GeoDataFrame\n",
              "Columns: [Taz_name, jeru_metro, in_jerusal, main_secto, SCHN_NAME, ENG_NAME_n, zonetype, Muni_Heb, Sug_Muni, CR_PNIM, highBusine, SCHOOLDIST, Urban, EIProp, poly_puma, F3, F2, F1, agri, Indus, Com_hotel, Business, Public, commuting, ieold, IEProp, perScaled, FreeBuffer, PaidBuffer, Rest_EmpBu, searchtime, walktime, cost, Agg_taz_nu, area, CITYCODE1, CITYCODE2, CITYCODE3, CITYCODE4, codeseq, codeseqCon, county, majunivenr, parktot, superZone, Taz1, slope, REGION, yosh, jerusalem_, geometry, SEA1, SEA2, SEA3, UOA1, UOA2, UOA3, ARA1, ARA2, ARA3, student_chardi_not_gov, student_arab_not_gov, TOA1, TOA2, TOA3, sector_for_chinuc, student, Univ_AR, Univ_SE, Univ_UO, emp_uni, univ, yeshiva_dorms_pop_15, yeshiva_dorms_pop_20, yeshiva_dorms_pop_25, yeshiva_dorms_pop_sum, emp_from_Yeshiva_student, Yeshiva, Seminar_dorms_pop_15, Seminar_dorms_pop_20, Seminar_dorms_pop_25, Seminar_dorms_pop_sum, emp_from_Seminar_student, Seminar, kollim_demand, add_from_kollim_demand, student_yeshiva_and_kollim, UO_Hi_Ed, emp_UO_Hi_Ed, UNIVENRORTHFEMALE, UNIVENRORTHMALE, jew, emp_from_student, emp_Education, aprt_20, pop, pop_0, pop_10, pop_15, pop_20, ...]\n",
              "Index: []"
            ]
          },
          "execution_count": 111,
          "metadata": {},
          "output_type": "execute_result"
        }
      ],
      "source": [
        "col=['pop_0',\n",
        " 'pop_10',\n",
        " 'pop_15',\n",
        " 'pop_20',\n",
        " 'pop_25',\n",
        " 'pop_30',\n",
        " 'pop_35',\n",
        " 'pop_40',\n",
        " 'pop_45',\n",
        " 'pop_5',\n",
        " 'pop_50',\n",
        " 'pop_55',\n",
        " 'pop_60',\n",
        " 'pop_65',\n",
        " 'pop_70',\n",
        " 'pop_75up',]\n",
        "\n",
        "taz['pop_check']=round(taz[col].sum(axis=1)-taz['pop'])\n",
        "\n",
        "taz.loc[taz['main_secto']!=\"Palestinian\"].loc[taz['pop_check']!=0]"
      ]
    },
    {
      "cell_type": "markdown",
      "id": "1863c88f",
      "metadata": {},
      "source": [
        "## הוספת תלמידי ישיבה (באזורים חרדיים) אל כמות אוכלוסיה,התפלגות גילים "
      ]
    },
    {
      "cell_type": "code",
      "execution_count": 112,
      "id": "efbf252c",
      "metadata": {},
      "outputs": [],
      "source": [
        "taz['pop_15_just_from_aprt']=taz['pop_15']"
      ]
    },
    {
      "cell_type": "code",
      "execution_count": 113,
      "id": "db0567b1",
      "metadata": {},
      "outputs": [],
      "source": [
        "\n",
        "taz.loc[taz['main_secto']==\"U_Orthodox\",'pop']=taz['pop']+taz['yeshiva_dorms_pop_sum']\n",
        "\n",
        "taz.loc[taz['main_secto']==\"U_Orthodox\",'pop_15']=taz['pop_15']+taz['yeshiva_dorms_pop_15']\n",
        "\n",
        "taz.loc[taz['main_secto']==\"U_Orthodox\",'pop_20']=taz['pop_20']+taz['yeshiva_dorms_pop_20']\n",
        "\n",
        "taz.loc[taz['main_secto']==\"U_Orthodox\",'pop_25']=taz['pop_25']+taz['yeshiva_dorms_pop_25']"
      ]
    },
    {
      "cell_type": "code",
      "execution_count": 114,
      "id": "d2667d70",
      "metadata": {},
      "outputs": [
        {
          "data": {
            "text/html": [
              "<div>\n",
              "<style scoped>\n",
              "    .dataframe tbody tr th:only-of-type {\n",
              "        vertical-align: middle;\n",
              "    }\n",
              "\n",
              "    .dataframe tbody tr th {\n",
              "        vertical-align: top;\n",
              "    }\n",
              "\n",
              "    .dataframe thead th {\n",
              "        text-align: right;\n",
              "    }\n",
              "</style>\n",
              "<table border=\"1\" class=\"dataframe\">\n",
              "  <thead>\n",
              "    <tr style=\"text-align: right;\">\n",
              "      <th></th>\n",
              "      <th>Taz_name</th>\n",
              "      <th>jeru_metro</th>\n",
              "      <th>in_jerusal</th>\n",
              "      <th>main_secto</th>\n",
              "      <th>SCHN_NAME</th>\n",
              "      <th>ENG_NAME_n</th>\n",
              "      <th>zonetype</th>\n",
              "      <th>Muni_Heb</th>\n",
              "      <th>Sug_Muni</th>\n",
              "      <th>CR_PNIM</th>\n",
              "      <th>highBusine</th>\n",
              "      <th>SCHOOLDIST</th>\n",
              "      <th>Urban</th>\n",
              "      <th>EIProp</th>\n",
              "      <th>poly_puma</th>\n",
              "      <th>F3</th>\n",
              "      <th>F2</th>\n",
              "      <th>F1</th>\n",
              "      <th>agri</th>\n",
              "      <th>Indus</th>\n",
              "      <th>Com_hotel</th>\n",
              "      <th>Business</th>\n",
              "      <th>Public</th>\n",
              "      <th>commuting</th>\n",
              "      <th>ieold</th>\n",
              "      <th>IEProp</th>\n",
              "      <th>perScaled</th>\n",
              "      <th>FreeBuffer</th>\n",
              "      <th>PaidBuffer</th>\n",
              "      <th>Rest_EmpBu</th>\n",
              "      <th>searchtime</th>\n",
              "      <th>walktime</th>\n",
              "      <th>cost</th>\n",
              "      <th>Agg_taz_nu</th>\n",
              "      <th>area</th>\n",
              "      <th>CITYCODE1</th>\n",
              "      <th>CITYCODE2</th>\n",
              "      <th>CITYCODE3</th>\n",
              "      <th>CITYCODE4</th>\n",
              "      <th>codeseq</th>\n",
              "      <th>codeseqCon</th>\n",
              "      <th>county</th>\n",
              "      <th>majunivenr</th>\n",
              "      <th>parktot</th>\n",
              "      <th>superZone</th>\n",
              "      <th>Taz1</th>\n",
              "      <th>slope</th>\n",
              "      <th>REGION</th>\n",
              "      <th>yosh</th>\n",
              "      <th>jerusalem_</th>\n",
              "      <th>geometry</th>\n",
              "      <th>SEA1</th>\n",
              "      <th>SEA2</th>\n",
              "      <th>SEA3</th>\n",
              "      <th>UOA1</th>\n",
              "      <th>UOA2</th>\n",
              "      <th>UOA3</th>\n",
              "      <th>ARA1</th>\n",
              "      <th>ARA2</th>\n",
              "      <th>ARA3</th>\n",
              "      <th>student_chardi_not_gov</th>\n",
              "      <th>student_arab_not_gov</th>\n",
              "      <th>TOA1</th>\n",
              "      <th>TOA2</th>\n",
              "      <th>TOA3</th>\n",
              "      <th>sector_for_chinuc</th>\n",
              "      <th>student</th>\n",
              "      <th>Univ_AR</th>\n",
              "      <th>Univ_SE</th>\n",
              "      <th>Univ_UO</th>\n",
              "      <th>emp_uni</th>\n",
              "      <th>univ</th>\n",
              "      <th>yeshiva_dorms_pop_15</th>\n",
              "      <th>yeshiva_dorms_pop_20</th>\n",
              "      <th>yeshiva_dorms_pop_25</th>\n",
              "      <th>yeshiva_dorms_pop_sum</th>\n",
              "      <th>emp_from_Yeshiva_student</th>\n",
              "      <th>Yeshiva</th>\n",
              "      <th>Seminar_dorms_pop_15</th>\n",
              "      <th>Seminar_dorms_pop_20</th>\n",
              "      <th>Seminar_dorms_pop_25</th>\n",
              "      <th>Seminar_dorms_pop_sum</th>\n",
              "      <th>emp_from_Seminar_student</th>\n",
              "      <th>Seminar</th>\n",
              "      <th>kollim_demand</th>\n",
              "      <th>add_from_kollim_demand</th>\n",
              "      <th>student_yeshiva_and_kollim</th>\n",
              "      <th>UO_Hi_Ed</th>\n",
              "      <th>emp_UO_Hi_Ed</th>\n",
              "      <th>UNIVENRORTHFEMALE</th>\n",
              "      <th>UNIVENRORTHMALE</th>\n",
              "      <th>jew</th>\n",
              "      <th>emp_from_student</th>\n",
              "      <th>emp_Education</th>\n",
              "      <th>aprt_20</th>\n",
              "      <th>pop</th>\n",
              "      <th>pop_0</th>\n",
              "      <th>pop_10</th>\n",
              "      <th>pop_15</th>\n",
              "      <th>pop_20</th>\n",
              "      <th>pop_25</th>\n",
              "      <th>pop_30</th>\n",
              "      <th>pop_35</th>\n",
              "      <th>pop_40</th>\n",
              "      <th>pop_45</th>\n",
              "      <th>pop_5</th>\n",
              "      <th>pop_50</th>\n",
              "      <th>pop_55</th>\n",
              "      <th>pop_60</th>\n",
              "      <th>pop_65</th>\n",
              "      <th>pop_70</th>\n",
              "      <th>pop_75up</th>\n",
              "      <th>hh_size</th>\n",
              "      <th>student_dorms</th>\n",
              "      <th>pop_without_dorms_yeshiva</th>\n",
              "      <th>pop_20_just_from_aprt</th>\n",
              "      <th>pop_25_just_from_aprt</th>\n",
              "      <th>pop_check</th>\n",
              "      <th>pop_15_just_from_aprt</th>\n",
              "    </tr>\n",
              "    <tr>\n",
              "      <th>Taz_num</th>\n",
              "      <th></th>\n",
              "      <th></th>\n",
              "      <th></th>\n",
              "      <th></th>\n",
              "      <th></th>\n",
              "      <th></th>\n",
              "      <th></th>\n",
              "      <th></th>\n",
              "      <th></th>\n",
              "      <th></th>\n",
              "      <th></th>\n",
              "      <th></th>\n",
              "      <th></th>\n",
              "      <th></th>\n",
              "      <th></th>\n",
              "      <th></th>\n",
              "      <th></th>\n",
              "      <th></th>\n",
              "      <th></th>\n",
              "      <th></th>\n",
              "      <th></th>\n",
              "      <th></th>\n",
              "      <th></th>\n",
              "      <th></th>\n",
              "      <th></th>\n",
              "      <th></th>\n",
              "      <th></th>\n",
              "      <th></th>\n",
              "      <th></th>\n",
              "      <th></th>\n",
              "      <th></th>\n",
              "      <th></th>\n",
              "      <th></th>\n",
              "      <th></th>\n",
              "      <th></th>\n",
              "      <th></th>\n",
              "      <th></th>\n",
              "      <th></th>\n",
              "      <th></th>\n",
              "      <th></th>\n",
              "      <th></th>\n",
              "      <th></th>\n",
              "      <th></th>\n",
              "      <th></th>\n",
              "      <th></th>\n",
              "      <th></th>\n",
              "      <th></th>\n",
              "      <th></th>\n",
              "      <th></th>\n",
              "      <th></th>\n",
              "      <th></th>\n",
              "      <th></th>\n",
              "      <th></th>\n",
              "      <th></th>\n",
              "      <th></th>\n",
              "      <th></th>\n",
              "      <th></th>\n",
              "      <th></th>\n",
              "      <th></th>\n",
              "      <th></th>\n",
              "      <th></th>\n",
              "      <th></th>\n",
              "      <th></th>\n",
              "      <th></th>\n",
              "      <th></th>\n",
              "      <th></th>\n",
              "      <th></th>\n",
              "      <th></th>\n",
              "      <th></th>\n",
              "      <th></th>\n",
              "      <th></th>\n",
              "      <th></th>\n",
              "      <th></th>\n",
              "      <th></th>\n",
              "      <th></th>\n",
              "      <th></th>\n",
              "      <th></th>\n",
              "      <th></th>\n",
              "      <th></th>\n",
              "      <th></th>\n",
              "      <th></th>\n",
              "      <th></th>\n",
              "      <th></th>\n",
              "      <th></th>\n",
              "      <th></th>\n",
              "      <th></th>\n",
              "      <th></th>\n",
              "      <th></th>\n",
              "      <th></th>\n",
              "      <th></th>\n",
              "      <th></th>\n",
              "      <th></th>\n",
              "      <th></th>\n",
              "      <th></th>\n",
              "      <th></th>\n",
              "      <th></th>\n",
              "      <th></th>\n",
              "      <th></th>\n",
              "      <th></th>\n",
              "      <th></th>\n",
              "      <th></th>\n",
              "      <th></th>\n",
              "      <th></th>\n",
              "      <th></th>\n",
              "      <th></th>\n",
              "      <th></th>\n",
              "      <th></th>\n",
              "      <th></th>\n",
              "      <th></th>\n",
              "      <th></th>\n",
              "      <th></th>\n",
              "      <th></th>\n",
              "      <th></th>\n",
              "      <th></th>\n",
              "      <th></th>\n",
              "      <th></th>\n",
              "      <th></th>\n",
              "      <th></th>\n",
              "      <th></th>\n",
              "    </tr>\n",
              "  </thead>\n",
              "  <tbody>\n",
              "  </tbody>\n",
              "</table>\n",
              "</div>"
            ],
            "text/plain": [
              "Empty GeoDataFrame\n",
              "Columns: [Taz_name, jeru_metro, in_jerusal, main_secto, SCHN_NAME, ENG_NAME_n, zonetype, Muni_Heb, Sug_Muni, CR_PNIM, highBusine, SCHOOLDIST, Urban, EIProp, poly_puma, F3, F2, F1, agri, Indus, Com_hotel, Business, Public, commuting, ieold, IEProp, perScaled, FreeBuffer, PaidBuffer, Rest_EmpBu, searchtime, walktime, cost, Agg_taz_nu, area, CITYCODE1, CITYCODE2, CITYCODE3, CITYCODE4, codeseq, codeseqCon, county, majunivenr, parktot, superZone, Taz1, slope, REGION, yosh, jerusalem_, geometry, SEA1, SEA2, SEA3, UOA1, UOA2, UOA3, ARA1, ARA2, ARA3, student_chardi_not_gov, student_arab_not_gov, TOA1, TOA2, TOA3, sector_for_chinuc, student, Univ_AR, Univ_SE, Univ_UO, emp_uni, univ, yeshiva_dorms_pop_15, yeshiva_dorms_pop_20, yeshiva_dorms_pop_25, yeshiva_dorms_pop_sum, emp_from_Yeshiva_student, Yeshiva, Seminar_dorms_pop_15, Seminar_dorms_pop_20, Seminar_dorms_pop_25, Seminar_dorms_pop_sum, emp_from_Seminar_student, Seminar, kollim_demand, add_from_kollim_demand, student_yeshiva_and_kollim, UO_Hi_Ed, emp_UO_Hi_Ed, UNIVENRORTHFEMALE, UNIVENRORTHMALE, jew, emp_from_student, emp_Education, aprt_20, pop, pop_0, pop_10, pop_15, pop_20, ...]\n",
              "Index: []"
            ]
          },
          "execution_count": 114,
          "metadata": {},
          "output_type": "execute_result"
        }
      ],
      "source": [
        "col=['pop_0',\n",
        " 'pop_10',\n",
        " 'pop_15',\n",
        " 'pop_20',\n",
        " 'pop_25',\n",
        " 'pop_30',\n",
        " 'pop_35',\n",
        " 'pop_40',\n",
        " 'pop_45',\n",
        " 'pop_5',\n",
        " 'pop_50',\n",
        " 'pop_55',\n",
        " 'pop_60',\n",
        " 'pop_65',\n",
        " 'pop_70',\n",
        " 'pop_75up',]\n",
        "\n",
        "taz['pop_check']=round(taz[col].sum(axis=1)-taz['pop'])\n",
        "\n",
        "taz.loc[taz['main_secto']!=\"Palestinian\"].loc[taz['pop_check']!=0]"
      ]
    },
    {
      "cell_type": "markdown",
      "id": "206b2d14",
      "metadata": {},
      "source": [
        "## כימות מועסקים במרחב צתאל"
      ]
    },
    {
      "cell_type": "code",
      "execution_count": 115,
      "id": "2f32e11c",
      "metadata": {},
      "outputs": [],
      "source": [
        "pre_woman=0.5\n",
        "\n",
        "pre_man=1-pre_woman"
      ]
    },
    {
      "cell_type": "code",
      "execution_count": 116,
      "id": "0cfc5eee",
      "metadata": {},
      "outputs": [],
      "source": [
        "work_age=[ 'pop_25',\n",
        " 'pop_30',\n",
        " 'pop_35',\n",
        " 'pop_40',\n",
        " 'pop_45',\n",
        " 'pop_50',\n",
        " 'pop_55',\n",
        " 'pop_60']\n",
        "\n",
        "under_work_age=[ 'pop_15', 'pop_20']\n",
        "\n",
        "over_work_age=[ 'pop_65', 'pop_70', 'pop_75up']"
      ]
    },
    {
      "cell_type": "code",
      "execution_count": 117,
      "id": "eb487660",
      "metadata": {},
      "outputs": [],
      "source": [
        "taz['work_age']=taz[work_age].sum(axis=1)\n",
        "\n",
        "taz['under_work_age']=taz[under_work_age].sum(axis=1)\n",
        "\n",
        "taz['over_work_age']=taz[over_work_age].sum(axis=1)"
      ]
    },
    {
      "cell_type": "code",
      "execution_count": 118,
      "id": "d2d78477",
      "metadata": {},
      "outputs": [],
      "source": [
        "sector='U_Orthodox'\n",
        "\n",
        "taz.loc[taz['main_secto']==sector,'pop_emp']=taz['work_age']*pre_woman*0.75+taz['work_age']*pre_man*0.55\n",
        "taz.loc[taz['main_secto']==sector,'pop_emp']=taz['pop_emp']+taz['under_work_age']*pre_woman*0.07+taz['under_work_age']*pre_man*0.09\n",
        "taz.loc[taz['main_secto']==sector,'pop_emp']=taz['pop_emp']+taz['over_work_age']*pre_woman*0.05+taz['over_work_age']*pre_man*0.09\n",
        "\n",
        "sector='Jewish'\n",
        "\n",
        "taz.loc[taz['main_secto']==sector,'pop_emp']=taz['work_age']*pre_woman*0.9+taz['work_age']*pre_man*0.92\n",
        "taz.loc[taz['main_secto']==sector,'pop_emp']=taz['pop_emp']+taz['under_work_age']*pre_woman*0.20+taz['under_work_age']*pre_man*0.15\n",
        "taz.loc[taz['main_secto']==sector,'pop_emp']=taz['pop_emp']+taz['over_work_age']*pre_woman*0.2+taz['over_work_age']*pre_man*0.15\n",
        "\n",
        "sector='Arab'\n",
        "\n",
        "taz.loc[taz['main_secto']==sector,'pop_emp']=taz['work_age']*pre_woman*0.25+taz['work_age']*pre_man*0.7\n",
        "taz.loc[taz['main_secto']==sector,'pop_emp']=taz['pop_emp']+taz['under_work_age']*pre_woman*0.2+taz['under_work_age']*pre_man*0.15\n",
        "taz.loc[taz['main_secto']==sector,'pop_emp']=taz['pop_emp']+taz['over_work_age']*pre_woman*0.05+taz['over_work_age']*pre_man*0.09\n",
        "\n",
        "sector='arabs_behined_seperation_wall'\n",
        "\n",
        "taz.loc[taz['main_secto']==sector,'pop_emp']=taz['work_age']*pre_woman*0.25+taz['work_age']*pre_man*0.7\n",
        "taz.loc[taz['main_secto']==sector,'pop_emp']=taz['pop_emp']+taz['under_work_age']*pre_woman*0.2+taz['under_work_age']*pre_man*0.15\n",
        "taz.loc[taz['main_secto']==sector,'pop_emp']=taz['pop_emp']+taz['over_work_age']*pre_woman*0.05+taz['over_work_age']*pre_man*0.09\n"
      ]
    },
    {
      "cell_type": "markdown",
      "id": "30a016c8",
      "metadata": {},
      "source": [
        "## חישוב אבטלה"
      ]
    },
    {
      "cell_type": "code",
      "execution_count": 119,
      "id": "d415a3fb",
      "metadata": {},
      "outputs": [],
      "source": [
        "taz['pop_emp_employed']=0\n",
        "\n",
        "taz.loc[taz['main_secto']==\"U_Orthodox\",'pop_emp_employed']=taz['pop_emp']*0.97\n",
        "\n",
        "taz.loc[taz['main_secto']==\"Jewish\",'pop_emp_employed']=taz['pop_emp']*0.98\n",
        "\n",
        "taz.loc[taz['jew']==0,'pop_emp_employed']=taz['pop_emp']*0.95"
      ]
    },
    {
      "cell_type": "markdown",
      "id": "e72fd7be",
      "metadata": {},
      "source": [
        "## חישוב יוממות"
      ]
    },
    {
      "cell_type": "code",
      "execution_count": 120,
      "id": "407402df",
      "metadata": {},
      "outputs": [
        {
          "data": {
            "text/plain": [
              "94000.0"
            ]
          },
          "execution_count": 120,
          "metadata": {},
          "output_type": "execute_result"
        }
      ],
      "source": [
        "taz['pop_emp_employed_out_of_jtmt_area']=taz['pop_emp_employed']*taz['commuting']\n",
        "\n",
        "emp_left_jtmt_area=taz['pop_emp_employed_out_of_jtmt_area'].sum().item()\n",
        "\n",
        "round(emp_left_jtmt_area,-3)"
      ]
    },
    {
      "cell_type": "code",
      "execution_count": 121,
      "id": "7f72ccef",
      "metadata": {},
      "outputs": [
        {
          "data": {
            "text/plain": [
              "510000.0"
            ]
          },
          "execution_count": 121,
          "metadata": {},
          "output_type": "execute_result"
        }
      ],
      "source": [
        "emp_from_jtmt_area=taz['pop_emp_employed'].sum().item()-emp_left_jtmt_area\n",
        "\n",
        "emp_in_jtmt_area=emp_from_jtmt_area*1.07 #יוממות פנימה מחוץ למרחב\n",
        "\n",
        "round(emp_in_jtmt_area,-3)"
      ]
    },
    {
      "cell_type": "code",
      "execution_count": 122,
      "id": "7bc62ff1",
      "metadata": {},
      "outputs": [
        {
          "data": {
            "text/plain": [
              "484000.0"
            ]
          },
          "execution_count": 122,
          "metadata": {},
          "output_type": "execute_result"
        }
      ],
      "source": [
        "emp_in_jtmt_area_without_mobile=emp_in_jtmt_area*0.95 #הפחחת עובדים ניידים\n",
        "\n",
        "round(emp_in_jtmt_area_without_mobile,-3)"
      ]
    },
    {
      "cell_type": "code",
      "execution_count": 123,
      "id": "6ef875a9",
      "metadata": {},
      "outputs": [],
      "source": [
        "emp_okev=emp_in_jtmt_area_without_mobile-emp_Education-emp_without_palestin_not_okev"
      ]
    },
    {
      "cell_type": "markdown",
      "id": "83ca98c0",
      "metadata": {},
      "source": [
        "## פיזור עוקב"
      ]
    },
    {
      "cell_type": "code",
      "execution_count": 124,
      "id": "0ebeff07",
      "metadata": {},
      "outputs": [],
      "source": [
        "EMP_kibolet['geometry_buff']=EMP_kibolet.buffer(250)\n",
        "\n",
        "EMP_buffer=EMP_kibolet.set_geometry('geometry_buff').query('kayim_emp>0')\n",
        "\n",
        "EMP_buffer=EMP_buffer.dissolve()[['geometry_buff']]\n",
        "\n",
        "taz['taz_area']=taz.area"
      ]
    },
    {
      "cell_type": "code",
      "execution_count": 125,
      "id": "ff021294",
      "metadata": {},
      "outputs": [],
      "source": [
        "emp_buffer_taz=gpd.overlay(EMP_buffer,taz.reset_index())\n",
        "\n",
        "emp_buffer_taz['emp_samll_area']=emp_buffer_taz.area\n",
        "\n",
        "emp_buffer_taz['emp_pre_from_taz']=emp_buffer_taz['emp_samll_area']/emp_buffer_taz['taz_area']"
      ]
    },
    {
      "cell_type": "code",
      "execution_count": 126,
      "id": "3c05c92c",
      "metadata": {
        "scrolled": true
      },
      "outputs": [],
      "source": [
        "taz_num_no_need_okev=emp_buffer_taz.loc[emp_buffer_taz['emp_pre_from_taz']>0.4].Taz_num.to_list()"
      ]
    },
    {
      "cell_type": "code",
      "execution_count": 127,
      "id": "452348ee",
      "metadata": {},
      "outputs": [],
      "source": [
        "taz['okev']=0\n",
        "taz.loc[(~taz.index.isin(taz_num_no_need_okev))&(taz['pop']>0)&(taz['main_secto']!=\"Palestinia\"),'okev']=1\n",
        "\n",
        "taz.loc[taz['main_secto']==\"arabs_behined_seperation_wall\",'okev']=1"
      ]
    },
    {
      "cell_type": "code",
      "execution_count": 128,
      "id": "3c577b92",
      "metadata": {},
      "outputs": [],
      "source": [
        "city_muni=['מודיעין עילית','בית שמש','ירושלים','מודיעין - מכבים - רעות']"
      ]
    },
    {
      "cell_type": "markdown",
      "id": "d0f04db5",
      "metadata": {},
      "source": [
        "## מקדם עוקב"
      ]
    },
    {
      "cell_type": "code",
      "execution_count": 129,
      "id": "ff866567",
      "metadata": {},
      "outputs": [],
      "source": [
        "okev_level=0.15\n",
        "\n",
        "arab_city=taz.query('jew==0 & okev==1')['aprt_20'].sum().item()\n",
        "\n",
        "arab_sub=0\n",
        "\n",
        "ou_sub=taz.query('main_secto==\"U_Orthodox\" & ~Muni_Heb.isin(@city_muni) & okev==1')['aprt_20'].sum().item()"
      ]
    },
    {
      "cell_type": "code",
      "execution_count": 130,
      "id": "64eb71e1",
      "metadata": {},
      "outputs": [],
      "source": [
        "ou_city=taz.query('main_secto==\"U_Orthodox\" & Muni_Heb.isin(@city_muni) & okev==1')['aprt_20'].sum().item()\n",
        "\n",
        "general_city=taz.query('main_secto==\"Jewish\" & Muni_Heb.isin(@city_muni) & okev==1')['aprt_20'].sum().item()\n",
        "\n",
        "general_sub=taz.query('main_secto==\"Jewish\" & ~Muni_Heb.isin(@city_muni) & okev==1')['aprt_20'].sum().item()\n",
        "\n",
        "base_okev_factor=(emp_okev-(okev_level*general_city-okev_level*(ou_sub+arab_city)-2*okev_level*arab_sub))/(general_sub+general_city+ou_city+ou_sub+arab_city+arab_sub)\n",
        "\n",
        "base_okev_factor=round(base_okev_factor,3)"
      ]
    },
    {
      "cell_type": "code",
      "execution_count": 131,
      "id": "9a28cde3",
      "metadata": {},
      "outputs": [],
      "source": [
        "data = [['Jewish', base_okev_factor,base_okev_factor+okev_level],['arab', base_okev_factor-okev_level,base_okev_factor], ['U_Orthodox',base_okev_factor-2*okev_level,base_okev_factor-okev_level]]\n",
        " \n",
        "# Create the pandas DataFrame\n",
        "df = pd.DataFrame(data, columns=['sector', 'sub','city'])\n",
        "okev_factor=df.set_index('sector')\n",
        "okev_factor.to_excel(r'{}\\Intermediates\\okev_factor.xlsx'.format(cwd))"
      ]
    },
    {
      "cell_type": "code",
      "execution_count": 132,
      "id": "f5bc6a17",
      "metadata": {},
      "outputs": [
        {
          "data": {
            "text/plain": [
              "-1904.841761101503"
            ]
          },
          "execution_count": 132,
          "metadata": {},
          "output_type": "execute_result"
        }
      ],
      "source": [
        "taz['emp_okev']=0\n",
        "\n",
        "taz.loc[(taz['jew']==0)&(taz['okev']==1),'emp_okev']=taz['aprt_20']*okev_factor.loc['arab','city']\n",
        "\n",
        "taz.loc[(taz['main_secto']==\"U_Orthodox\")&(~taz['Muni_Heb'].isin(city_muni))&(taz['okev']==1),'emp_okev']=taz['aprt_20']*okev_factor.loc['U_Orthodox','sub']\n",
        "\n",
        "taz.loc[(taz['main_secto']==\"U_Orthodox\")&(taz['Muni_Heb'].isin(city_muni))&(taz['okev']==1),'emp_okev']=taz['aprt_20']*okev_factor.loc['U_Orthodox','city']\n",
        "\n",
        "taz.loc[(taz['main_secto']==\"Jewish\")&(taz['Muni_Heb'].isin(city_muni))&(taz['okev']==1),'emp_okev']=taz['aprt_20']*okev_factor.loc['Jewish','city']\n",
        "\n",
        "taz.loc[(taz['main_secto']==\"Jewish\")&(~taz['Muni_Heb'].isin(city_muni))&(taz['okev']==1),'emp_okev']=taz['aprt_20']*okev_factor.loc['Jewish','sub']\n",
        "\n",
        "taz.emp_okev.sum().item()-emp_okev"
      ]
    },
    {
      "cell_type": "markdown",
      "id": "d8615aa7",
      "metadata": {},
      "source": [
        "## פיצול שכבת לא עוקב לאזורי תנועה"
      ]
    },
    {
      "cell_type": "code",
      "execution_count": 133,
      "id": "d0a412e7",
      "metadata": {},
      "outputs": [
        {
          "name": "stderr",
          "output_type": "stream",
          "text": [
            "C:\\Users\\gidon\\AppData\\Local\\Temp\\ipykernel_26864\\1806380584.py:5: UserWarning: `keep_geom_type=True` in overlay resulted in 280 dropped geometries of different geometry types than df1 has. Set `keep_geom_type=False` to retain all geometries\n",
            "  EMP_kibolet_by_taz=gpd.overlay(taz.reset_index()[['Taz_num','taz_area','geometry']],EMP_kibolet)\n"
          ]
        }
      ],
      "source": [
        "EMP_kibolet['emp_area']=EMP_kibolet.area\n",
        "\n",
        "EMP_kibolet['ID']=EMP_kibolet.index\n",
        "\n",
        "EMP_kibolet_by_taz=gpd.overlay(taz.reset_index()[['Taz_num','taz_area','geometry']],EMP_kibolet)\n",
        "\n",
        "EMP_kibolet_by_taz['small_area']=EMP_kibolet_by_taz.area"
      ]
    },
    {
      "cell_type": "code",
      "execution_count": 134,
      "id": "a40c4d94",
      "metadata": {},
      "outputs": [],
      "source": [
        "EMP_kibolet_by_taz['pre_small_area_emp']=EMP_kibolet_by_taz['small_area']/EMP_kibolet_by_taz['emp_area']\n",
        "\n",
        "EMP_kibolet_by_taz['pre_small_area_taz']=EMP_kibolet_by_taz['small_area']/EMP_kibolet_by_taz['taz_area']\n",
        "\n",
        "EMP_kibolet_by_taz=EMP_kibolet_by_taz.query('(pre_small_area_taz >0.7) | (pre_small_area_emp >0.1)').drop(columns='geometry_buff')\n",
        "\n",
        "EMP_kibolet_by_taz=EMP_kibolet_by_taz.set_index('ID')\n"
      ]
    },
    {
      "cell_type": "code",
      "execution_count": 135,
      "id": "5d4b9325",
      "metadata": {},
      "outputs": [],
      "source": [
        "EMP_kibolet_by_taz['id_area_for_pre']=EMP_kibolet_by_taz.reset_index().groupby(by='ID')['small_area'].sum()\n",
        "\n",
        "EMP_kibolet_by_taz['prec_from_id']=EMP_kibolet_by_taz['small_area']/EMP_kibolet_by_taz['id_area_for_pre']\n",
        "\n"
      ]
    },
    {
      "cell_type": "markdown",
      "id": "962f5b02",
      "metadata": {},
      "source": [
        "מתחמי תעסוקה גדולים מאוד פיזור של המועסקים מבוסס על הפיזור של גירסא 3"
      ]
    },
    {
      "cell_type": "code",
      "execution_count": 136,
      "id": "a8de1b7a",
      "metadata": {},
      "outputs": [],
      "source": [
        "\n",
        "path=r'{}\\background_files'.format(cwd)\n",
        "pre_for_dis_emp_by_taz_v3=up_load_df(path,'pre_for_dis_emp_by_taz_v3')"
      ]
    },
    {
      "cell_type": "code",
      "execution_count": 137,
      "id": "c40db4d7",
      "metadata": {},
      "outputs": [],
      "source": [
        "EMP_kibolet_by_taz=EMP_kibolet_by_taz.merge(pre_for_dis_emp_by_taz_v3[['Taz_num','pre_dis_emp']],on='Taz_num',how='left')"
      ]
    },
    {
      "cell_type": "code",
      "execution_count": 138,
      "id": "b71b7fa5",
      "metadata": {},
      "outputs": [],
      "source": [
        "\n",
        "EMP_kibolet_by_taz['emp_without_palestin_in_taz']=EMP_kibolet_by_taz['emp_without_palestin']*EMP_kibolet_by_taz['prec_from_id']"
      ]
    },
    {
      "cell_type": "code",
      "execution_count": 139,
      "id": "e1db0738",
      "metadata": {},
      "outputs": [],
      "source": [
        "EMP_kibolet_by_taz.loc[EMP_kibolet_by_taz['name'].isin(list(pre_for_dis_emp_by_taz_v3['name'])),'prec_from_id']=0 #לאפס את המתחמים שאני רוצה לפזר לפי גירסא 3"
      ]
    },
    {
      "cell_type": "code",
      "execution_count": 140,
      "id": "fa31998d",
      "metadata": {},
      "outputs": [],
      "source": [
        "\n",
        "EMP_kibolet_by_taz['emp_without_palestin_in_taz']=EMP_kibolet_by_taz['emp_without_palestin']*EMP_kibolet_by_taz['pre_dis_emp']"
      ]
    },
    {
      "cell_type": "code",
      "execution_count": 141,
      "id": "ad6d218d",
      "metadata": {},
      "outputs": [],
      "source": [
        "EMP_kibolet_by_taz.loc[~(EMP_kibolet_by_taz['prec_from_id'].isna()),'emp_without_palestin_in_taz']=EMP_kibolet_by_taz['emp_without_palestin']*EMP_kibolet_by_taz['pre_dis_emp']"
      ]
    },
    {
      "cell_type": "code",
      "execution_count": 142,
      "id": "65b73357",
      "metadata": {},
      "outputs": [],
      "source": [
        "\n",
        "taz['emp_not_okev']=drop_geo(EMP_kibolet_by_taz).pivot_table(index='Taz_num',aggfunc='sum')[['emp_without_palestin_in_taz']]\n",
        "\n"
      ]
    },
    {
      "cell_type": "code",
      "execution_count": null,
      "id": "9968f2f3",
      "metadata": {},
      "outputs": [],
      "source": [
        "taz=taz.fillna(0)\n",
        "\n",
        "taz['total_emp']=taz['emp_not_okev']+taz['emp_okev']+taz['emp_Education']\n",
        "\n",
        "taz.query('main_secto!=\"Palestinian\"')['total_emp'].sum()-emp_in_jtmt_area_without_mobile"
      ]
    },
    {
      "cell_type": "markdown",
      "id": "a9e9a3c5",
      "metadata": {},
      "source": [
        "## התפלגות ענפי תעסוקה"
      ]
    },
    {
      "cell_type": "code",
      "execution_count": null,
      "id": "df6bb62d",
      "metadata": {},
      "outputs": [],
      "source": [
        "col=['Indus',\n",
        "'Com_hotel',\n",
        "'Business',\n",
        "'Public',\n",
        "'agri']"
      ]
    },
    {
      "cell_type": "code",
      "execution_count": null,
      "id": "538879ce",
      "metadata": {},
      "outputs": [],
      "source": [
        "for i in col:\n",
        "    taz['{}'.format(i)]=taz['{}'.format(i)]*(taz['emp_not_okev']+taz['emp_okev'])"
      ]
    },
    {
      "cell_type": "code",
      "execution_count": null,
      "id": "73d7cde4",
      "metadata": {},
      "outputs": [],
      "source": [
        "taz['check_emp_sum']=taz[col].sum(axis=1)-(taz['emp_not_okev']+taz['emp_okev'])\n",
        "\n",
        "taz.query('check_emp_sum>10 |check_emp_sum<-10')"
      ]
    },
    {
      "cell_type": "markdown",
      "id": "95e0cc68",
      "metadata": {},
      "source": [
        "## הוספת סטודנטים אל כמות משקי בית"
      ]
    },
    {
      "cell_type": "code",
      "execution_count": null,
      "id": "8e6b7713",
      "metadata": {},
      "outputs": [],
      "source": [
        "taz=taz.fillna(0)\n",
        "\n",
        "taz['hh']=taz['aprt_20']+taz['student_dorms']/1.5"
      ]
    },
    {
      "cell_type": "markdown",
      "id": "15cc71d7",
      "metadata": {},
      "source": [
        "## הוספת תלמידי ישיבה (באזורים לא חרדיים) אל כמות אוכלוסיה,התפלגות גילים ומשקי בית (לכלל תלמידי הישיבה)"
      ]
    },
    {
      "cell_type": "code",
      "execution_count": null,
      "id": "42714de0",
      "metadata": {},
      "outputs": [],
      "source": [
        "taz['hh']=taz['hh']+taz['yeshiva_dorms_pop_sum']"
      ]
    },
    {
      "cell_type": "code",
      "execution_count": null,
      "id": "b5a1f454",
      "metadata": {},
      "outputs": [],
      "source": [
        "taz.loc[taz['main_secto']!=\"U_Orthodox\",'pop']=taz['pop']+taz['yeshiva_dorms_pop_sum']\n",
        "\n",
        "taz.loc[taz['main_secto']!=\"U_Orthodox\",'pop_15']=taz['pop_15']+taz['yeshiva_dorms_pop_15']\n",
        "\n",
        "taz.loc[taz['main_secto']!=\"U_Orthodox\",'pop_20']=taz['pop_20']+taz['yeshiva_dorms_pop_20']\n",
        "\n",
        "taz.loc[taz['main_secto']!=\"U_Orthodox\",'pop_25']=taz['pop_25']+taz['yeshiva_dorms_pop_25']"
      ]
    },
    {
      "cell_type": "markdown",
      "id": "26046a0a",
      "metadata": {},
      "source": [
        "## הוספת אוכלוסיה פלסטינאית"
      ]
    },
    {
      "cell_type": "code",
      "execution_count": null,
      "id": "ab51a53c",
      "metadata": {},
      "outputs": [],
      "source": [
        "path=r'{}\\arab_and_palestinian\\Intermediates'.format(create_forecast_basic_folder_path)\n",
        "taz_demo_pls_2020=up_load_df(path,'taz_demo_pls_2020_and_pre_growth_till_2050')[['Taz_num','pop_2020']].set_index('Taz_num')"
      ]
    },
    {
      "cell_type": "code",
      "execution_count": null,
      "id": "ea4c8a22",
      "metadata": {},
      "outputs": [],
      "source": [
        "\n",
        "taz.loc[taz['main_secto']=='Palestinian','pop']=taz['pop']+taz_demo_pls_2020['pop_2020']"
      ]
    },
    {
      "cell_type": "code",
      "execution_count": null,
      "id": "a588fa2f",
      "metadata": {},
      "outputs": [],
      "source": [
        "save_taz_path=r'{}\\Intermediates'.format(cwd)\n",
        "taz.to_excel(r'{}\\taz_before_add_geo.xlsx'.format(save_taz_path))\n"
      ]
    }
  ],
  "metadata": {
    "kernelspec": {
      "display_name": "Python 3 (ipykernel)",
      "language": "python",
      "name": "python3"
    },
    "language_info": {
      "codemirror_mode": {
        "name": "ipython",
        "version": 3
      },
      "file_extension": ".py",
      "mimetype": "text/x-python",
      "name": "python",
      "nbconvert_exporter": "python",
      "pygments_lexer": "ipython3",
      "version": "3.11.5"
    },
    "toc": {
      "base_numbering": 1,
      "nav_menu": {},
      "number_sections": true,
      "sideBar": true,
      "skip_h1_title": false,
      "title_cell": "Table of Contents",
      "title_sidebar": "Contents",
      "toc_cell": false,
      "toc_position": {
        "height": "calc(100% - 180px)",
        "left": "10px",
        "top": "150px",
        "width": "347.297px"
      },
      "toc_section_display": true,
      "toc_window_display": true
    }
  },
  "nbformat": 4,
  "nbformat_minor": 5
}
