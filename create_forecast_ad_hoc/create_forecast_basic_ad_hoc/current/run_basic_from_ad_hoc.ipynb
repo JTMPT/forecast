{
 "cells": [
  {
   "cell_type": "code",
   "execution_count": null,
   "metadata": {},
   "outputs": [],
   "source": [
    "\n",
    "%run \"./from_sa_cbs_to_ta_jtmt.ipynb\"\n",
    "%run \"./emp_current_year_230718.ipynb\""
   ]
  }
 ],
 "metadata": {
  "language_info": {
   "name": "python"
  }
 },
 "nbformat": 4,
 "nbformat_minor": 2
}
