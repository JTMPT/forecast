{
 "cells": [
  {
   "cell_type": "markdown",
   "metadata": {},
   "source": [
    "### ייבוא ספריות\n"
   ]
  },
  {
   "cell_type": "code",
   "execution_count": 1,
   "metadata": {
    "execution": {
     "iopub.execute_input": "2024-12-15T23:44:13.920818Z",
     "iopub.status.busy": "2024-12-15T23:44:13.920818Z",
     "iopub.status.idle": "2024-12-15T23:44:13.928018Z",
     "shell.execute_reply": "2024-12-15T23:44:13.928018Z"
    }
   },
   "outputs": [],
   "source": [
    "import os\n",
    "import sys"
   ]
  },
  {
   "cell_type": "markdown",
   "metadata": {},
   "source": [
    "### הגדרת נתיבים\n"
   ]
  },
  {
   "cell_type": "code",
   "execution_count": 2,
   "metadata": {
    "execution": {
     "iopub.execute_input": "2024-12-15T23:44:13.928018Z",
     "iopub.status.busy": "2024-12-15T23:44:13.928018Z",
     "iopub.status.idle": "2024-12-15T23:44:13.934671Z",
     "shell.execute_reply": "2024-12-15T23:44:13.934671Z"
    }
   },
   "outputs": [],
   "source": [
    "# cwd: מאחסן את הנתיב הנוכחי.\n",
    "cwd = os.getcwd()\n",
    "\n",
    "# arab_and_palestinian מגדיר נתיב לתיקית\n",
    "arab_and_palestinian_directory = r'{}\\arab_and_palestinian'.format(cwd)\n",
    "\n",
    "# current מגדיר נתיב לתיקית\n",
    "current_directory = r'{}\\current'.format(cwd)"
   ]
  },
  {
   "cell_type": "markdown",
   "metadata": {},
   "source": [
    "### הוספת נתיבים\n"
   ]
  },
  {
   "cell_type": "code",
   "execution_count": 3,
   "metadata": {
    "execution": {
     "iopub.execute_input": "2024-12-15T23:44:13.934671Z",
     "iopub.status.busy": "2024-12-15T23:44:13.934671Z",
     "iopub.status.idle": "2024-12-15T23:44:13.939718Z",
     "shell.execute_reply": "2024-12-15T23:44:13.939718Z"
    }
   },
   "outputs": [],
   "source": [
    "# מוסיף את הנתיבים של התיקיות השונות, כך שניתן לייבא מודולים מהתיקיות הללו.\n",
    "sys.path.append(arab_and_palestinian_directory)\n",
    "sys.path.append(current_directory)"
   ]
  },
  {
   "cell_type": "markdown",
   "metadata": {},
   "source": [
    "### ייבוא מודולים\n"
   ]
  },
  {
   "cell_type": "code",
   "execution_count": 4,
   "metadata": {
    "execution": {
     "iopub.execute_input": "2024-12-15T23:44:13.939718Z",
     "iopub.status.busy": "2024-12-15T23:44:13.939718Z",
     "iopub.status.idle": "2024-12-15T23:44:13.945829Z",
     "shell.execute_reply": "2024-12-15T23:44:13.945829Z"
    }
   },
   "outputs": [],
   "source": [
    "# מייבא את המודולים המכילים את הפונקציות להרצת המחברות\n",
    "import run_current_from_basic"
   ]
  },
  {
   "cell_type": "markdown",
   "metadata": {},
   "source": [
    "### הרצת מחברות\n"
   ]
  },
  {
   "cell_type": "code",
   "execution_count": 5,
   "metadata": {
    "execution": {
     "iopub.execute_input": "2024-12-15T23:44:13.947838Z",
     "iopub.status.busy": "2024-12-15T23:44:13.947838Z",
     "iopub.status.idle": "2024-12-15T23:49:21.751608Z",
     "shell.execute_reply": "2024-12-15T23:49:21.751608Z"
    }
   },
   "outputs": [
    {
     "data": {
      "text/plain": [
       "True"
      ]
     },
     "execution_count": 5,
     "metadata": {},
     "output_type": "execute_result"
    }
   ],
   "source": [
    "# מחליף את הנתיב הנוכחי לתיקייה current\n",
    "os.chdir(current_directory)\n",
    "\n",
    "# מריץ את המחברת באמצעות הפונקציה run_notebook\n",
    "run_current_from_basic.run_notebook(r'{}\\current\\run_current.ipynb'.format(cwd))"
   ]
  }
 ],
 "metadata": {
  "kernelspec": {
   "display_name": "creat_forecast_ad_hoc_env",
   "language": "python",
   "name": "python3"
  },
  "language_info": {
   "codemirror_mode": {
    "name": "ipython",
    "version": 3
   },
   "file_extension": ".py",
   "mimetype": "text/x-python",
   "name": "python",
   "nbconvert_exporter": "python",
   "pygments_lexer": "ipython3",
   "version": "3.11.5"
  }
 },
 "nbformat": 4,
 "nbformat_minor": 4
}
