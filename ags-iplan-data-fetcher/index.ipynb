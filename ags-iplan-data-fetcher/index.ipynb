{
 "cells": [
  {
   "cell_type": "code",
   "execution_count": null,
   "metadata": {},
   "outputs": [],
   "source": [
    "import geopandas as gpd\n",
    "import requests\n",
    "import json\n",
    "from shapely.geometry import Polygon\n",
    "from geojson import Feature, FeatureCollection\n",
    "import time\n",
    "from selenium.webdriver.chrome.service import Service\n",
    "from bs4 import BeautifulSoup\n",
    "from splinter import Browser\n",
    "import pandas as pd"
   ]
  },
  {
   "cell_type": "code",
   "execution_count": null,
   "metadata": {},
   "outputs": [],
   "source": [
    "def up_load_shp(path):\n",
    "    gpd_layer=gpd.read_file(path)\n",
    "    return gpd_layer"
   ]
  },
  {
   "cell_type": "code",
   "execution_count": null,
   "metadata": {},
   "outputs": [],
   "source": [
    "shapefile_path='../ags-iplan-data-fetcher-python/polygon_input/polygon.shp'\n",
    "polygon_input=up_load_shp(shapefile_path)"
   ]
  },
  {
   "cell_type": "code",
   "execution_count": null,
   "metadata": {},
   "outputs": [],
   "source": [
    "minx = polygon_input.bounds.minx[0]\n",
    "miny = polygon_input.bounds.miny[0]\n",
    "maxx = polygon_input.bounds.maxx[0]\n",
    "maxy = polygon_input.bounds.maxy[0]"
   ]
  },
  {
   "cell_type": "code",
   "execution_count": null,
   "metadata": {},
   "outputs": [],
   "source": [
    "url = r'https://ags.iplan.gov.il/arcgisiplan/rest/services/PlanningPublic/Xplan/MapServer/1/query?f=json&where=pl_area_dunam%20<%3D15&returnGeometry=true&geometry=%7B%22xmin%22%3A{}%2C%22ymin%22%3A{}%2C%22xmax%22%3A{}%2C%22ymax%22%3A{}%2C%22spatialReference%22%3A%7B%22wkid%22%3A2039%7D%7D&geometryType=esriGeometryEnvelope&inSR=2039&outFields=pl_number%2Cpl_name%2Cpl_url%2Cquantity_delta_120%2Cstation_desc%2Cplan_county_name&orderByFields=pl_number&outSR=2039'.format(minx, miny, maxx, maxy)\n",
    "response = requests.get(url)\n",
    "response_json = response.json()"
   ]
  },
  {
   "cell_type": "code",
   "execution_count": null,
   "metadata": {},
   "outputs": [],
   "source": [
    "response_data = json.dumps(response_json)\n",
    "dict = json.loads(response_data)\n",
    "\n",
    "xplan_plans_data = dict['features']\n",
    "# xplan_plans_data\n",
    "xplan_plans_data_filtered = []\n",
    "\n",
    "for plan in xplan_plans_data:\n",
    "    interior_rings = plan['geometry']['rings'][1:]\n",
    "    exterior_ring=plan['geometry']['rings'][0]\n",
    "    polygon = Polygon(exterior_ring, holes=interior_rings)\n",
    "    if polygon_input.contains(polygon.centroid).bool():\n",
    "        xplan_plans_data_filtered.append(plan)"
   ]
  },
  {
   "cell_type": "code",
   "execution_count": null,
   "metadata": {},
   "outputs": [],
   "source": [
    "# chrome_options = webdriver.ChromeOptions()\n",
    "\n",
    "# prefs = {\"profile.default_content_setting_values.notifications\" : 2}\n",
    "\n",
    "# chrome_options.add_experimental_option(\"prefs\",prefs)\n",
    "\n",
    "PATH = 'chromedriver-win64/chromedriver.exe'\n",
    "\n",
    "service = Service(executable_path=PATH)\n",
    "\n",
    "mydivs_list = []\n",
    "\n",
    "new_plans_data = []\n",
    "\n",
    "browser = Browser('chrome', headless=True)\n",
    "\n",
    "for plan in xplan_plans_data_filtered:\n",
    "    lis_elements = []\n",
    "    browser.visit(plan['attributes']['pl_url'])\n",
    "    time.sleep(7)\n",
    "    buttons = browser.find_by_tag('button')\n",
    "    for button in buttons:\n",
    "        if button.text == 'נתונים נוספים':\n",
    "            button.click()\n",
    "            \n",
    "    soup = BeautifulSoup(browser.html, 'html.parser')\n",
    "    mydivs = soup.find_all(\"li\", {\"class\": \"sv4-icon-arrow uk-open uk-hide-arrow ng-star-inserted\"})\n",
    "    mydivs_list.append(mydivs)\n",
    "\n",
    "    for divs in mydivs:\n",
    "        div = divs.find_all('div', attrs={'class': 'uk-accordion-content uk-margin-remove'})\n",
    "\n",
    "    results = div[0].find_all('ul')\n",
    "\n",
    "    for result in results:\n",
    "        li = result.find_all('li')\n",
    "        lis_elements.append(li)\n",
    "        \n",
    "    obj = {}\n",
    "    for element in lis_elements:\n",
    "        quantitative_data_main_header = element[0].find_all('div', {'class': 'uk-width-expand ng-star-inserted'})[0].text.strip()\n",
    "        quantitative_data_main_value = element[0].find_all('div', {'class': 'uk-width-1-2 uk-text-left'})[0].find_all('b')[0].text\n",
    "        obj[quantitative_data_main_header] = quantitative_data_main_value\n",
    "\n",
    "        plan['attributes'].update(obj)    \n",
    "    print(plan)\n",
    "browser.quit()"
   ]
  },
  {
   "cell_type": "code",
   "execution_count": null,
   "metadata": {},
   "outputs": [],
   "source": [
    "file_date=pd.Timestamp.today().strftime('%y%m%d')"
   ]
  },
  {
   "cell_type": "code",
   "execution_count": null,
   "metadata": {},
   "outputs": [],
   "source": [
    "features = []\n",
    "\n",
    "key_mapping = {\n",
    "    'חדרי מלון / תיירות (חדר)': 'hotel_rooms_room',\n",
    "    'חדרי מלון / תיירות (מ\"ר)': 'hotel_rooms_square_meters',\n",
    "    'מבני ציבור (מ\"ר)': 'public_buildings_square_meters',\n",
    "    'מגורים (יח\"ד)': 'residence_housing_units',\n",
    "    'מגורים (מ\"ר)': 'residence_square_meters',\n",
    "    'מסחר (מ\"ר)': 'trade_square_meters',\n",
    "    'תעסוקה (מ\"ר)': 'employment_square_meters',\n",
    "    'דירות קטנות (יח\"ד)': 'small_apartments_units',\n",
    "    'דירות להשכרה (יח\"ד)': 'apartments_for_rent_units'\n",
    "}\n",
    "\n",
    "for plan in xplan_plans_data:\n",
    "        # Create a new dictionary to store the updated attributes\n",
    "    new_attributes = {}\n",
    "    # Loop over the attributes dictionary in each item\n",
    "    for key, value in plan['attributes'].items():\n",
    "        # Check if the key needs to be replaced\n",
    "        if key in key_mapping:\n",
    "            # Replace the key\n",
    "            new_key = key_mapping[key]\n",
    "            # Add the new key with the same value\n",
    "            new_attributes[new_key] = value\n",
    "        else:\n",
    "            # If key doesn't need to be replaced, keep it as it is\n",
    "            new_attributes[key] = value\n",
    "    # Update the attributes with the new dictionary\n",
    "    plan['attributes'] = new_attributes\n",
    "\n",
    "    interior_rings = plan['geometry']['rings'][1:]\n",
    "    exterior_ring=plan['geometry']['rings'][0]\n",
    "    polygon = Polygon(exterior_ring, holes=interior_rings)\n",
    "    if polygon_input.contains(polygon.centroid).bool():\n",
    "        feature = Feature(geometry=polygon, properties=plan['attributes'])\n",
    "        features.append(feature)\n",
    "        \n",
    "crs = {\n",
    "    \"type\": \"name\",\n",
    "    \"properties\": {\n",
    "        \"name\": \"EPSG:2039\"\n",
    "    }\n",
    "}\n",
    "        \n",
    "feature_collection = FeatureCollection(features)\n",
    "\n",
    "gdf = gpd.GeoDataFrame.from_features(feature_collection, crs='EPSG:2039')\n",
    "gdf.to_file(r'my_polygon/{}_polygon.shp'.format(file_date), encoding='utf-8')\n",
    "gdf"
   ]
  }
 ],
 "metadata": {
  "kernelspec": {
   "display_name": "creat_forecast_ad_hoc_env",
   "language": "python",
   "name": "python3"
  },
  "language_info": {
   "codemirror_mode": {
    "name": "ipython",
    "version": 3
   },
   "file_extension": ".py",
   "mimetype": "text/x-python",
   "name": "python",
   "nbconvert_exporter": "python",
   "pygments_lexer": "ipython3",
   "version": "3.11.8"
  }
 },
 "nbformat": 4,
 "nbformat_minor": 2
}
