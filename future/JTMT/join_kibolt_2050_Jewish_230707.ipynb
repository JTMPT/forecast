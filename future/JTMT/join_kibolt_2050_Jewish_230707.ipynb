{
 "cells": [
  {
   "cell_type": "markdown",
   "id": "0e7214ba",
   "metadata": {
    "heading_collapsed": true
   },
   "source": [
    "### קוד מבוא"
   ]
  },
  {
   "cell_type": "code",
   "execution_count": 35,
   "id": "f8405d52",
   "metadata": {
    "hidden": true
   },
   "outputs": [],
   "source": [
    "import pandas as pd\n",
    "import geopandas as gpd\n",
    "import numpy as np\n",
    "from shapely import wkt\n",
    "from matplotlib import pyplot as plt \n",
    "import contextily as cx\n",
    "import folium\n",
    "import fiona\n",
    "from mpl_toolkits.axes_grid1 import make_axes_locatable\n",
    "from shapely.geometry import Point\n",
    "import adjustText as aT"
   ]
  },
  {
   "cell_type": "code",
   "execution_count": 36,
   "id": "2dacbc13",
   "metadata": {
    "hidden": true
   },
   "outputs": [],
   "source": [
    "pd.set_option('display.max_rows', None)\n",
    "pd.set_option('display.max_columns', None)"
   ]
  },
  {
   "cell_type": "code",
   "execution_count": 37,
   "id": "b2c3b3ca",
   "metadata": {
    "hidden": true
   },
   "outputs": [],
   "source": [
    "pd.options.display.float_format = '{:.4f}'.format\n",
    "pd.set_option('display.float_format',  '{:,.2f}'.format)"
   ]
  },
  {
   "cell_type": "markdown",
   "id": "9624443e",
   "metadata": {
    "heading_collapsed": true
   },
   "source": [
    "### פונקציות"
   ]
  },
  {
   "cell_type": "code",
   "execution_count": 38,
   "id": "d69c42ff",
   "metadata": {
    "hidden": true
   },
   "outputs": [],
   "source": [
    "def double_taz_num(df):\n",
    "    dup_taz_num=df.groupby(['Taz_num']).size().reset_index(name='count').query('count>1').Taz_num.to_list()\n",
    "    return df.loc[df['Taz_num'].isin(dup_taz_num)]"
   ]
  },
  {
   "cell_type": "code",
   "execution_count": 39,
   "id": "d048994a",
   "metadata": {
    "hidden": true
   },
   "outputs": [],
   "source": [
    "def make_point(df):\n",
    "    df_point=df.copy()\n",
    "    df_point['centroid'] = df_point.representative_point()\n",
    "    df_point=df_point.set_geometry('centroid')\n",
    "    df_point=df_point.drop(columns=['geometry'],axis=1)\n",
    "    return df_point"
   ]
  },
  {
   "cell_type": "code",
   "execution_count": 40,
   "id": "86bf5cad",
   "metadata": {
    "hidden": true
   },
   "outputs": [],
   "source": [
    "def up_load_gdb(path,layer_name):\n",
    "    path='{}'.format(path)\n",
    "    layer_list=fiona.listlayers(path)\n",
    "    gpd_layer=gpd.read_file(path, layer=layer_list.index(layer_name))\n",
    "    return gpd_layer"
   ]
  },
  {
   "cell_type": "code",
   "execution_count": 41,
   "id": "6acc6aa7",
   "metadata": {
    "hidden": true
   },
   "outputs": [],
   "source": [
    "def up_load_shp(path):\n",
    "    path='{}'.format(path)\n",
    "    gpd_layer=gpd.read_file(path)\n",
    "    return gpd_layer"
   ]
  },
  {
   "cell_type": "code",
   "execution_count": 42,
   "id": "b1a16060",
   "metadata": {
    "hidden": true
   },
   "outputs": [],
   "source": [
    "def up_load_df(folder_path,file_name):\n",
    "    \n",
    "    path_df=r'{}\\{}.xlsx'.format(folder_path,file_name)\n",
    "    df=pd.read_excel(path_df)\n",
    "    df=df.dropna(how='all')\n",
    "\n",
    "    return df\n"
   ]
  },
  {
   "cell_type": "code",
   "execution_count": null,
   "id": "b8a825a1",
   "metadata": {
    "hidden": true
   },
   "outputs": [],
   "source": [
    "\n",
    "def split_index_by_taz(index,taz,min_prec,col_name_to_split):\n",
    "    index['index_area']=index.area\n",
    "    \n",
    "    taz['taz_area']=taz.area\n",
    "\n",
    "    index_taz=index.overlay(taz[['Taz_num','taz_area','geometry']])\n",
    "\n",
    "    index_taz['small_area']=index_taz.area\n",
    "\n",
    "    index_taz['precent_from_big_index']=index_taz['small_area']/index_taz['index_area']\n",
    "    \n",
    "    index_taz['precent_from_big_taz']=index_taz['small_area']/index_taz['taz_area']\n",
    "\n",
    "    index_taz=index_taz.loc[(index_taz['precent_from_big_index']>min_prec)|(index_taz['precent_from_big_taz']>0.9)]\n",
    "    \n",
    "    index_taz=index_taz[['id','Taz_num','precent_from_big_index']]\n",
    "\n",
    "    new_big=index_taz.groupby(['id']).sum()\n",
    "\n",
    "    index=index.set_index('id')\n",
    "    index['new_big']=new_big['precent_from_big_index']\n",
    "\n",
    "    index=pd.merge(index.reset_index(),index_taz,on='id')\n",
    "\n",
    "    for c in col_name_to_split:\n",
    "        index['{}'.format(c)]=index['{}'.format(c)]*(index['precent_from_big_index']/index['new_big'])\n",
    "        \n",
    "        \n",
    "    return index"
   ]
  },
  {
   "cell_type": "markdown",
   "id": "21ecf8a3",
   "metadata": {},
   "source": [
    "### העלת קבצים"
   ]
  },
  {
   "cell_type": "markdown",
   "id": "861cbb99",
   "metadata": {
    "heading_collapsed": true
   },
   "source": [
    "#### קיבולת ברמת יישוב (חלקי) ביו\"ש"
   ]
  },
  {
   "cell_type": "code",
   "execution_count": 43,
   "id": "9565a6c5",
   "metadata": {
    "hidden": true,
    "scrolled": true
   },
   "outputs": [],
   "source": [
    "kibolt_yosh_some_towns=up_load_df(r'W:\\Projects\\הסעת המונים\\01_שלב ה\\קבצי עבודה\\תחזיות_דמוגרפיות\\תחזיות_2050\\מרכיבי_תחזית','230628_Jewish_kibolt_some_towns_in_yosh_till_2050')"
   ]
  },
  {
   "cell_type": "code",
   "execution_count": 44,
   "id": "3d290290",
   "metadata": {
    "code_folding": [],
    "hidden": true
   },
   "outputs": [],
   "source": [
    "col=[ 'Taz_num', 'add_aprt_2020__2025',\n",
    " 'add_aprt_2025__2030',\n",
    " 'add_aprt_2030__2035',\n",
    " 'add_aprt_2035__2040',\n",
    " 'add_aprt_2040_2045',\n",
    " 'add_aprt_2045_2050']"
   ]
  },
  {
   "cell_type": "code",
   "execution_count": 45,
   "id": "da445984",
   "metadata": {
    "hidden": true
   },
   "outputs": [],
   "source": [
    "kibolt_yosh_some_towns_sum_by_taz=kibolt_yosh_some_towns.pivot_table(index='Taz_num',aggfunc=sum).reset_index()[col]"
   ]
  },
  {
   "cell_type": "code",
   "execution_count": 46,
   "id": "7e4c0ca5",
   "metadata": {
    "hidden": true
   },
   "outputs": [],
   "source": [
    "kibolt_yosh_some_towns_sum_by_taz['kibolet_type']='Shrinkable'"
   ]
  },
  {
   "cell_type": "code",
   "execution_count": 47,
   "id": "b49b541a",
   "metadata": {
    "hidden": true
   },
   "outputs": [],
   "source": [
    "old_col=[ 'Taz_num','add_aprt_2020__2025',\n",
    " 'add_aprt_2025__2030',\n",
    " 'add_aprt_2030__2035',\n",
    " 'add_aprt_2035__2040',\n",
    " 'add_aprt_2040_2045',\n",
    " 'add_aprt_2045_2050','kibolet_type']\n",
    "\n",
    "new_col=[ 'Taz_num','2025',\n",
    " '2030',\n",
    " '2035',\n",
    " '2040',\n",
    " '2045',\n",
    " '2050','kibolet_type']\n",
    "\n",
    "kibolt_yosh_some_towns_sum_by_taz=kibolt_yosh_some_towns_sum_by_taz[old_col]\n",
    "\n",
    "kibolt_yosh_some_towns_sum_by_taz.columns=new_col"
   ]
  },
  {
   "cell_type": "code",
   "execution_count": 48,
   "id": "9cb111f3",
   "metadata": {
    "hidden": true,
    "scrolled": true
   },
   "outputs": [],
   "source": [
    "kibolt_yosh_some_towns_sum_by_taz=kibolt_yosh_some_towns_sum_by_taz.melt(id_vars=['Taz_num', 'kibolet_type'], var_name='year', value_name='add_aprt').query('add_aprt!=0')"
   ]
  },
  {
   "cell_type": "code",
   "execution_count": 49,
   "id": "1ae14cc7",
   "metadata": {
    "hidden": true
   },
   "outputs": [],
   "source": [
    "kibolt_yosh_some_towns_sum_by_taz['source']='by_town'"
   ]
  },
  {
   "cell_type": "markdown",
   "id": "2bd1b2d2",
   "metadata": {
    "hidden": true
   },
   "source": [
    "מעקב אחרי מקורות קיבולת לכל TAZ"
   ]
  },
  {
   "cell_type": "code",
   "execution_count": 50,
   "id": "ad13e2e9",
   "metadata": {
    "hidden": true
   },
   "outputs": [],
   "source": [
    "taz=up_load_shp(r'W:\\Model Versions\\4.0\\TAZ\\TAZ_V4_230518_Published.shp')"
   ]
  },
  {
   "cell_type": "code",
   "execution_count": 51,
   "id": "d1e31ba5",
   "metadata": {
    "hidden": true
   },
   "outputs": [],
   "source": [
    "taz.loc[taz['Taz_num'].isin(list(kibolt_yosh_some_towns_sum_by_taz.index)),'by_town']=1"
   ]
  },
  {
   "cell_type": "markdown",
   "id": "dcca1319",
   "metadata": {
    "heading_collapsed": true
   },
   "source": [
    "#### קיבולת ברמת אזור תנועה (חלקי)"
   ]
  },
  {
   "cell_type": "code",
   "execution_count": 52,
   "id": "4ac812fe",
   "metadata": {
    "hidden": true
   },
   "outputs": [],
   "source": [
    "Jewish_kibolt_some_by_taz=up_load_shp(r'W:\\Projects\\הסעת המונים\\01_שלב ה\\קבצי עבודה\\תחזיות_דמוגרפיות\\תחזיות_2050\\מרכיבי_תחזית\\SHP\\kibolt_jew_by_some_taz_230628.shp')"
   ]
  },
  {
   "cell_type": "code",
   "execution_count": 53,
   "id": "b14c589e",
   "metadata": {
    "hidden": true
   },
   "outputs": [],
   "source": [
    "old_col=[ 'Taz_num','add_aprt_2',\n",
    " 'add_aprt_3',\n",
    " 'add_aprt_4',\n",
    " 'add_aprt_5',\n",
    " 'add_aprt_6',\n",
    " 'add_aprt_7','type_kibol']"
   ]
  },
  {
   "cell_type": "code",
   "execution_count": 54,
   "id": "efa8d731",
   "metadata": {
    "hidden": true
   },
   "outputs": [],
   "source": [
    "new_col=[ 'Taz_num','2025',\n",
    " '2030',\n",
    " '2035',\n",
    " '2040',\n",
    " '2045',\n",
    " '2050','kibolet_type']"
   ]
  },
  {
   "cell_type": "code",
   "execution_count": 55,
   "id": "aedf6794",
   "metadata": {
    "hidden": true
   },
   "outputs": [],
   "source": [
    "Jewish_kibolt_some_by_taz=Jewish_kibolt_some_by_taz[old_col]"
   ]
  },
  {
   "cell_type": "code",
   "execution_count": 56,
   "id": "8560dad3",
   "metadata": {
    "hidden": true
   },
   "outputs": [],
   "source": [
    "Jewish_kibolt_some_by_taz.columns=new_col"
   ]
  },
  {
   "cell_type": "code",
   "execution_count": 57,
   "id": "aa49eb95",
   "metadata": {
    "hidden": true
   },
   "outputs": [],
   "source": [
    "Jewish_kibolt_some_by_taz.loc[Jewish_kibolt_some_by_taz['kibolet_type']==1,'kibolet_type']='Shrinkable'"
   ]
  },
  {
   "cell_type": "code",
   "execution_count": 58,
   "id": "0cb1e03a",
   "metadata": {
    "hidden": true
   },
   "outputs": [],
   "source": [
    "Jewish_kibolt_some_by_taz.loc[Jewish_kibolt_some_by_taz['kibolet_type']==2,'kibolet_type']='left_the_station'"
   ]
  },
  {
   "cell_type": "code",
   "execution_count": 59,
   "id": "b20da14b",
   "metadata": {
    "hidden": true
   },
   "outputs": [],
   "source": [
    "Jewish_kibolt_some_by_taz.loc[Jewish_kibolt_some_by_taz['kibolet_type']==3,'kibolet_type']='Depends_on_policy'"
   ]
  },
  {
   "cell_type": "code",
   "execution_count": 60,
   "id": "85e0d604",
   "metadata": {
    "hidden": true,
    "scrolled": true
   },
   "outputs": [],
   "source": [
    "Jewish_kibolt_some_by_taz=Jewish_kibolt_some_by_taz.melt(id_vars=['Taz_num', 'kibolet_type'], var_name='year', value_name='add_aprt').query('add_aprt!=0')"
   ]
  },
  {
   "cell_type": "code",
   "execution_count": 61,
   "id": "1e1e84bb",
   "metadata": {
    "hidden": true
   },
   "outputs": [],
   "source": [
    "Jewish_kibolt_some_by_taz['source']='by_taz'"
   ]
  },
  {
   "cell_type": "markdown",
   "id": "35615f37",
   "metadata": {
    "hidden": true
   },
   "source": [
    "מעקב אחרי מקורות קיבולת לכל TAZ"
   ]
  },
  {
   "cell_type": "code",
   "execution_count": 62,
   "id": "b6c879ad",
   "metadata": {
    "hidden": true
   },
   "outputs": [],
   "source": [
    "taz.loc[taz['Taz_num'].isin(list(Jewish_kibolt_some_by_taz.Taz_num)),'by_taz']=1"
   ]
  },
  {
   "cell_type": "markdown",
   "id": "5b73c44b",
   "metadata": {
    "heading_collapsed": true
   },
   "source": [
    "#### קיבולת ברמת תכנית עם אזורי תנועה בלבד (חלקי)"
   ]
  },
  {
   "cell_type": "code",
   "execution_count": 63,
   "id": "2ea77f45",
   "metadata": {
    "hidden": true
   },
   "outputs": [],
   "source": [
    "Jewish_kibolt_some_by_plan_only_with_taz=up_load_shp(r'W:\\Projects\\הסעת המונים\\01_שלב ה\\קבצי עבודה\\תחזיות_דמוגרפיות\\תחזיות_2050\\מרכיבי_תחזית\\SHP\\Jewish_kibolt_some_by_plan_with_taz_num.shp')\n",
    "Jewish_kibolt_some_by_plan_only_with_taz=Jewish_kibolt_some_by_plan_only_with_taz[['Taz_num','2025',\n",
    " '2030',\n",
    " '2035',\n",
    " '2040',\n",
    " '2045',\n",
    " '2050','kibolet_ty']].rename(columns={'kibolet_ty':'kibolet_type'})\n",
    "\n",
    "Jewish_kibolt_some_by_plan_only_with_taz=Jewish_kibolt_some_by_plan_only_with_taz.melt(id_vars=['Taz_num', 'kibolet_type'], var_name='year', value_name='add_aprt').query('add_aprt!=0')"
   ]
  },
  {
   "cell_type": "code",
   "execution_count": 64,
   "id": "948fe387",
   "metadata": {
    "hidden": true
   },
   "outputs": [],
   "source": [
    "Jewish_kibolt_some_by_plan_only_with_taz['source']='plan_only_with_taz'"
   ]
  },
  {
   "cell_type": "markdown",
   "id": "f460b561",
   "metadata": {
    "hidden": true
   },
   "source": [
    "מעקב אחרי מקורות קיבולת לכל TAZ"
   ]
  },
  {
   "cell_type": "code",
   "execution_count": 65,
   "id": "5e86b202",
   "metadata": {
    "hidden": true
   },
   "outputs": [],
   "source": [
    "taz.loc[taz['Taz_num'].isin(list(Jewish_kibolt_some_by_plan_only_with_taz.Taz_num)),'plan_only_with_taz']=1"
   ]
  },
  {
   "cell_type": "markdown",
   "id": "833378f0",
   "metadata": {},
   "source": [
    "#### קיבולת ברמת תכנית  (חלקי)"
   ]
  },
  {
   "cell_type": "code",
   "execution_count": 66,
   "id": "99ce38d1",
   "metadata": {},
   "outputs": [
    {
     "name": "stderr",
     "output_type": "stream",
     "text": [
      "C:\\Users\\gidon\\Anaconda3\\envs\\geo_env\\lib\\site-packages\\openpyxl\\worksheet\\_reader.py:312: UserWarning: Data Validation extension is not supported and will be removed\n",
      "  warn(msg)\n"
     ]
    }
   ],
   "source": [
    "df=up_load_df(r'W:\\Projects\\הסעת המונים\\01_שלב ה\\קבצי עבודה\\תחזיות_דמוגרפיות\\תחזיות_2050\\jtmt\\jew_kibolet\\input','index_for_id_polygons_230717')"
   ]
  },
  {
   "cell_type": "code",
   "execution_count": null,
   "id": "58aa48a6",
   "metadata": {},
   "outputs": [],
   "source": [
    "shp=up_load_shp(r'W:\\Projects\\הסעת המונים\\01_שלב ה\\קבצי עבודה\\תחזיות_דמוגרפיות\\תחזיות_2050\\מרכיבי_תחזית\\SHP\\230628_id_polygons_for_index.shp')\n",
    "\n",
    "taz=up_load_shp(r'W:\\Model Versions\\4.0\\TAZ\\TAZ_V4_230518_Published.shp')\n",
    "\n",
    "index=shp.merge(df,on='id',how='outer')\n",
    "\n",
    "#לחלק את התכניות לפי אזורי תנועה\n",
    "\n",
    "index=split_index_by_taz(index,taz,0.25,['add_aprt'])\n",
    "\n",
    "#לייצר קיבולת כל חומש\n",
    "\n",
    "years=[ '2025', '2030', '2035', '2040', '2045', '2050']\n",
    "\n",
    "index[years]=index[years].apply(lambda x: x * index['risk_factor']*index['add_aprt'])\n",
    "\n",
    "col=['Taz_num','2025',\n",
    " '2030',\n",
    " '2035',\n",
    " '2040',\n",
    " '2045',\n",
    " '2050','kibolet_type']\n",
    "\n",
    "Jewish_kibolt_some_by_plan=index[col].fillna(0).melt(id_vars=['Taz_num', 'kibolet_type'], var_name='year', value_name='add_aprt').query('add_aprt!=0')"
   ]
  },
  {
   "cell_type": "code",
   "execution_count": 67,
   "id": "aff243af",
   "metadata": {},
   "outputs": [],
   "source": [
    "Jewish_kibolt_some_by_plan['source']='by_plan'"
   ]
  },
  {
   "cell_type": "markdown",
   "id": "d94ff62e",
   "metadata": {},
   "source": [
    "### מכאן  צריך לחבר ביחד את כל הטבלאות"
   ]
  },
  {
   "cell_type": "code",
   "execution_count": 68,
   "id": "5b9da3bf",
   "metadata": {},
   "outputs": [],
   "source": [
    "kibolt_jew=pd.concat([Jewish_kibolt_some_by_plan,Jewish_kibolt_some_by_plan_only_with_taz,kibolt_yosh_some_towns_sum_by_taz,Jewish_kibolt_some_by_taz],axis=0)"
   ]
  },
  {
   "cell_type": "code",
   "execution_count": 69,
   "id": "b6f6cf24",
   "metadata": {},
   "outputs": [],
   "source": [
    "kibolt_jew['year']=kibolt_jew['year'].astype(str)"
   ]
  },
  {
   "cell_type": "code",
   "execution_count": 70,
   "id": "515ba643",
   "metadata": {},
   "outputs": [],
   "source": [
    "file_date=pd.Timestamp.today().strftime('%y%m%d')"
   ]
  },
  {
   "cell_type": "code",
   "execution_count": 71,
   "id": "7b872fcd",
   "metadata": {},
   "outputs": [],
   "source": [
    "kibolt_jew.to_excel(r'W:\\Projects\\הסעת המונים\\01_שלב ה\\קבצי עבודה\\תחזיות_דמוגרפיות\\תחזיות_2050\\jtmt\\jew_kibolet\\{}_kibolt_jew_2050_by_type.xlsx'.format(file_date),index=False)"
   ]
  },
  {
   "cell_type": "markdown",
   "id": "81f6bcbd",
   "metadata": {},
   "source": [
    "### ייצוא לקלט של מכונת התפלגות גילים תרחיש צתאל"
   ]
  },
  {
   "cell_type": "code",
   "execution_count": 72,
   "id": "1f5db944",
   "metadata": {},
   "outputs": [],
   "source": [
    "kibolt_jew_jtmt=kibolt_jew.pivot_table(index='Taz_num',columns='year',values='add_aprt',aggfunc=sum).fillna(0).reset_index()\n",
    "\n",
    "old_col=[ 'Taz_num','2025',\n",
    " '2030',\n",
    " '2035',\n",
    " '2040',\n",
    " '2045',\n",
    " '2050']\n",
    "\n",
    "new_col=[ 'Taz_num','add_aprt_2020_2025',\n",
    " 'add_aprt_2025_2030',\n",
    " 'add_aprt_2030_2035',\n",
    " 'add_aprt_2035_2040',\n",
    " 'add_aprt_2040_2045',\n",
    " 'add_aprt_2045_2050']\n",
    "\n",
    "kibolt_jew_jtmt=kibolt_jew_jtmt[old_col]\n",
    "\n",
    "kibolt_jew_jtmt.columns=new_col\n",
    "\n",
    "save_file=r'W:\\Projects\\הסעת המונים\\01_שלב ה\\קבצי עבודה\\תחזיות_דמוגרפיות\\תחזיות_2050\\jtmt\\jew_kibolet\\output'\n",
    "\n",
    "kibolt_jew_jtmt.to_excel('{}\\{}_kibolt_jew_till_2050.xlsx'.format(save_file,file_date),index=False)"
   ]
  }
 ],
 "metadata": {
  "kernelspec": {
   "display_name": "Python 3 (ipykernel)",
   "language": "python",
   "name": "python3"
  },
  "language_info": {
   "codemirror_mode": {
    "name": "ipython",
    "version": 3
   },
   "file_extension": ".py",
   "mimetype": "text/x-python",
   "name": "python",
   "nbconvert_exporter": "python",
   "pygments_lexer": "ipython3",
   "version": "3.10.4"
  },
  "toc": {
   "base_numbering": 1,
   "nav_menu": {},
   "number_sections": true,
   "sideBar": true,
   "skip_h1_title": false,
   "title_cell": "Table of Contents",
   "title_sidebar": "Contents",
   "toc_cell": false,
   "toc_position": {},
   "toc_section_display": true,
   "toc_window_display": true
  }
 },
 "nbformat": 4,
 "nbformat_minor": 5
}
