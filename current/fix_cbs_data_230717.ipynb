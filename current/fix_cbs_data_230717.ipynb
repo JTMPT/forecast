{
 "cells": [
  {
   "cell_type": "markdown",
   "id": "0e7214ba",
   "metadata": {},
   "source": [
    "### קוד מבוא"
   ]
  },
  {
   "cell_type": "code",
   "execution_count": 1,
   "id": "f8405d52",
   "metadata": {},
   "outputs": [],
   "source": [
    "import pandas as pd\n",
    "import geopandas as gpd\n",
    "import numpy as np\n",
    "from shapely import wkt\n",
    "from matplotlib import pyplot as plt \n",
    "import contextily as cx\n",
    "import folium\n",
    "import fiona\n",
    "from mpl_toolkits.axes_grid1 import make_axes_locatable\n",
    "from shapely.geometry import Point\n",
    "import adjustText as aT"
   ]
  },
  {
   "cell_type": "code",
   "execution_count": 2,
   "id": "2dacbc13",
   "metadata": {},
   "outputs": [],
   "source": [
    "pd.set_option('display.max_rows', None)\n",
    "pd.set_option('display.max_columns', None)"
   ]
  },
  {
   "cell_type": "code",
   "execution_count": 3,
   "id": "b2c3b3ca",
   "metadata": {},
   "outputs": [],
   "source": [
    "pd.options.display.float_format = '{:.4f}'.format\n",
    "pd.set_option('display.float_format',  '{:,.2f}'.format)"
   ]
  },
  {
   "cell_type": "markdown",
   "id": "9624443e",
   "metadata": {},
   "source": [
    "### פונקציות"
   ]
  },
  {
   "cell_type": "code",
   "execution_count": 4,
   "id": "d69c42ff",
   "metadata": {},
   "outputs": [],
   "source": [
    "def double_taz_num(df):\n",
    "    dup_taz_num=df.groupby(['Taz_num']).size().reset_index(name='count').query('count>1').Taz_num.to_list()\n",
    "    return df.loc[df['Taz_num'].isin(dup_taz_num)]"
   ]
  },
  {
   "cell_type": "code",
   "execution_count": 5,
   "id": "d048994a",
   "metadata": {},
   "outputs": [],
   "source": [
    "def make_point(df):\n",
    "    df_point=df.copy()\n",
    "    df_point['centroid'] = df_point.representative_point()\n",
    "    df_point=df_point.set_geometry('centroid')\n",
    "    df_point=df_point.drop(columns=['geometry'],axis=1)\n",
    "    return df_point"
   ]
  },
  {
   "cell_type": "code",
   "execution_count": 6,
   "id": "86bf5cad",
   "metadata": {},
   "outputs": [],
   "source": [
    "def up_load_gdb(path,layer_name):\n",
    "    path='{}'.format(path)\n",
    "    layer_list=fiona.listlayers(path)\n",
    "    gpd_layer=gpd.read_file(path, layer=layer_list.index(layer_name))\n",
    "    return gpd_layer"
   ]
  },
  {
   "cell_type": "code",
   "execution_count": 7,
   "id": "6acc6aa7",
   "metadata": {},
   "outputs": [],
   "source": [
    "def up_load_shp(path):\n",
    "    path='{}'.format(path)\n",
    "    gpd_layer=gpd.read_file(path)\n",
    "    return gpd_layer"
   ]
  },
  {
   "cell_type": "code",
   "execution_count": 8,
   "id": "cb093800",
   "metadata": {},
   "outputs": [],
   "source": [
    "def unique_id_in_one_taz(df_to_geoode,unique_field,gpd_for_geocode,taz):\n",
    "    \n",
    "    code_to_find=list(df_to_geoode[unique_field].unique())\n",
    "\n",
    "    gpd_for_geocode_to_sum_by_taz=gpd_for_geocode[[unique_field,'geometry']].loc[gpd_for_geocode[unique_field].isin(code_to_find)]\n",
    "\n",
    "    gpd_for_geocode_to_sum_by_taz=gpd.sjoin(taz[['Taz_num','geometry']],gpd_for_geocode_to_sum_by_taz)\n",
    "\n",
    "    gpd_for_geocode_in_one_taz=list(gpd_for_geocode_to_sum_by_taz.groupby(unique_field)[['Taz_num']].nunique().query('Taz_num==1').reset_index()[unique_field])\n",
    "\n",
    "    return gpd_for_geocode_in_one_taz"
   ]
  },
  {
   "cell_type": "code",
   "execution_count": 9,
   "id": "b1a16060",
   "metadata": {},
   "outputs": [],
   "source": [
    "def up_load_df(folder_path,file_name):\n",
    "    \n",
    "    path_df=r'{}\\{}.xlsx'.format(folder_path,file_name)\n",
    "    df=pd.read_excel(path_df)\n",
    "    df=df.dropna(how='all')\n",
    "\n",
    "    return df\n"
   ]
  },
  {
   "cell_type": "markdown",
   "id": "d66f6096",
   "metadata": {},
   "source": [
    "### העלת טבלת המרה בין למס מרכזי למשני"
   ]
  },
  {
   "cell_type": "code",
   "execution_count": 95,
   "id": "1366eb07",
   "metadata": {},
   "outputs": [],
   "source": [
    "stat_join_from_main_to_secondary=up_load_df(r'\\\\FILE-SRV\\Jtmt\\projections_team\\כללי\\פעולות\\יצירת_מצב_קיים_למס\\output','stat_join_from_main_to_secondary')"
   ]
  },
  {
   "cell_type": "markdown",
   "id": "366eb7ab",
   "metadata": {},
   "source": [
    "### העלת טבלת יח_ד למ_ס"
   ]
  },
  {
   "cell_type": "code",
   "execution_count": 96,
   "id": "809075ee",
   "metadata": {},
   "outputs": [],
   "source": [
    "folder_path=r'\\\\FILE-SRV\\Jtmt\\projections_team\\GIS_backround\\INFO\\למ_ס\\מרשם דירות\\2022'\n",
    "file_name='מספר דירות לפי אזורים סטטיסטיים'\n",
    "\n",
    "path_df=r'{}\\{}.xlsx'.format(folder_path,file_name)\n",
    "df=pd.read_excel(path_df)\n",
    "df=df.dropna(how='all')\n",
    "\n",
    "\n",
    "stat_aprt=df"
   ]
  },
  {
   "cell_type": "code",
   "execution_count": 97,
   "id": "fb77759a",
   "metadata": {},
   "outputs": [],
   "source": [
    "col=['STAT', 'aprt_20']"
   ]
  },
  {
   "cell_type": "code",
   "execution_count": 98,
   "id": "f0722888",
   "metadata": {},
   "outputs": [],
   "source": [
    "stat_aprt=stat_aprt[col]"
   ]
  },
  {
   "cell_type": "markdown",
   "id": "9a0d615f",
   "metadata": {},
   "source": [
    "### שכבת אזורים סטטיסטים"
   ]
  },
  {
   "cell_type": "code",
   "execution_count": 99,
   "id": "206ca65c",
   "metadata": {},
   "outputs": [],
   "source": [
    "path=r'\\\\FILE-SRV\\Jtmt\\projections_team\\GIS_backround\\INFO\\למ_ס\\אזורים סטטיסטים\\statisticalareas_2020_demography.gdb'\n",
    "layer_list=fiona.listlayers(path)\n",
    "\n",
    "layer_name='statisticalareas_2020_demography_jtmt_area'\n",
    "\n",
    "gpd_layer=gpd.read_file(path, layer=layer_list.index(layer_name)).fillna(0)\n",
    "\n",
    "stat=gpd_layer.rename(columns={'YISHUV_STAT11':'STAT'})"
   ]
  },
  {
   "cell_type": "code",
   "execution_count": 100,
   "id": "de9afefb",
   "metadata": {},
   "outputs": [],
   "source": [
    "col_name=['STAT','geometry']\n",
    "stat=stat[col_name]"
   ]
  },
  {
   "cell_type": "code",
   "execution_count": 101,
   "id": "da6ec417",
   "metadata": {},
   "outputs": [],
   "source": [
    "stat=pd.merge(stat,stat_aprt,on='STAT',how='left').merge(stat_join_from_main_to_secondary,left_on='STAT',right_on='secondary_stat',how='left')"
   ]
  },
  {
   "cell_type": "code",
   "execution_count": 102,
   "id": "3f1564c7",
   "metadata": {},
   "outputs": [],
   "source": [
    "stat.loc[stat['precent_of_stat_data'].isna(),'main_stat']=stat['STAT']"
   ]
  },
  {
   "cell_type": "code",
   "execution_count": 103,
   "id": "effdac4f",
   "metadata": {},
   "outputs": [],
   "source": [
    "stat.loc[stat['precent_of_stat_data'].isna(),'secondary_stat']=stat['STAT']"
   ]
  },
  {
   "cell_type": "code",
   "execution_count": 104,
   "id": "e7974909",
   "metadata": {},
   "outputs": [],
   "source": [
    "stat.loc[stat['precent_of_stat_data'].isna(),'precent_of_stat_data']=1"
   ]
  },
  {
   "cell_type": "markdown",
   "id": "3c339905",
   "metadata": {},
   "source": [
    "###  מידע ברמת רשות"
   ]
  },
  {
   "cell_type": "code",
   "execution_count": 105,
   "id": "58258f84",
   "metadata": {},
   "outputs": [],
   "source": [
    "stat_point=make_point(stat[['STAT', 'geometry']])"
   ]
  },
  {
   "cell_type": "code",
   "execution_count": 106,
   "id": "1e56c0a1",
   "metadata": {},
   "outputs": [],
   "source": [
    "muni_under_JTMT_ITM=up_load_gdb(r'\\\\FILE-SRV\\Jtmt\\projections_team\\GIS_backround\\INFO\\משרד הפנים\\MUNI_border.gdb','muni_under_JTMT_ITM')"
   ]
  },
  {
   "cell_type": "code",
   "execution_count": 107,
   "id": "d43e5ae0",
   "metadata": {},
   "outputs": [],
   "source": [
    "muni_under_JTMT_ITM=muni_under_JTMT_ITM[['CR_PNIM','geometry']]"
   ]
  },
  {
   "cell_type": "code",
   "execution_count": 108,
   "id": "26b3199a",
   "metadata": {},
   "outputs": [],
   "source": [
    "stat=stat.set_index('STAT')"
   ]
  },
  {
   "cell_type": "code",
   "execution_count": 109,
   "id": "87c36cee",
   "metadata": {},
   "outputs": [],
   "source": [
    "stat['CR_PNIM']=stat_point.sjoin(muni_under_JTMT_ITM)[['STAT','CR_PNIM']].set_index('STAT')"
   ]
  },
  {
   "cell_type": "code",
   "execution_count": 110,
   "id": "0acb7baf",
   "metadata": {},
   "outputs": [],
   "source": [
    "stat=stat.reset_index()"
   ]
  },
  {
   "cell_type": "markdown",
   "id": "01e0f653",
   "metadata": {},
   "source": [
    "###  העלת מידע אוכלוסייה"
   ]
  },
  {
   "cell_type": "code",
   "execution_count": 111,
   "id": "00235be5",
   "metadata": {},
   "outputs": [],
   "source": [
    "folder_path=r'\\\\FILE-SRV\\Jtmt\\projections_team\\כללי\\פעולות\\יצירת_מצב_קיים_למס\\חומר גלם'\n",
    "file_name='cbs_2020_with_age_distribution_type'\n",
    "\n",
    "path_df=r'{}\\{}.xlsx'.format(folder_path,file_name)\n",
    "df=pd.read_excel(path_df,sheet_name='classification')\n",
    "df=df.dropna(how='all')\n",
    "\n",
    "\n",
    "classification=df"
   ]
  },
  {
   "cell_type": "code",
   "execution_count": 112,
   "id": "1f9f3a83",
   "metadata": {},
   "outputs": [],
   "source": [
    "col_name=['main_stat','classification_name']\n",
    "classification=classification[col_name]"
   ]
  },
  {
   "cell_type": "code",
   "execution_count": 113,
   "id": "39226e6b",
   "metadata": {},
   "outputs": [],
   "source": [
    "classification=classification.drop_duplicates(subset='main_stat',keep='first')"
   ]
  },
  {
   "cell_type": "code",
   "execution_count": 114,
   "id": "140b5dd4",
   "metadata": {},
   "outputs": [],
   "source": [
    "stat=pd.merge(stat,classification,on='main_stat',how='left')"
   ]
  },
  {
   "cell_type": "code",
   "execution_count": 115,
   "id": "137bc6bd",
   "metadata": {},
   "outputs": [],
   "source": [
    "folder_path=r'\\\\FILE-SRV\\Jtmt\\projections_team\\כללי\\פעולות\\יצירת_מצב_קיים_למס\\חומר גלם'\n",
    "file_name='cbs_2020_with_age_distribution_type'\n",
    "\n",
    "path_df=r'{}\\{}.xlsx'.format(folder_path,file_name)\n",
    "df=pd.read_excel(path_df,sheet_name='hh_size')\n",
    "df=df.dropna(how='all')\n",
    "\n",
    "\n",
    "hh_size=df"
   ]
  },
  {
   "cell_type": "code",
   "execution_count": 116,
   "id": "1d32f57a",
   "metadata": {},
   "outputs": [],
   "source": [
    "stat=pd.merge(stat,hh_size,on='classification_name',how='left')"
   ]
  },
  {
   "cell_type": "code",
   "execution_count": 10,
   "id": "b160ea0a",
   "metadata": {},
   "outputs": [],
   "source": [
    "folder_path=r'\\\\FILE-SRV\\Jtmt\\projections_team\\כללי\\פעולות\\יצירת_מצב_קיים_למס\\חומר גלם'\n",
    "file_name='cbs_2020_with_age_distribution_type'\n",
    "\n",
    "path_df=r'{}\\{}.xlsx'.format(folder_path,file_name)\n",
    "df=pd.read_excel(path_df,sheet_name='types')\n",
    "df=df.dropna(how='all')\n",
    "\n",
    "\n",
    "age_des_types=df"
   ]
  },
  {
   "cell_type": "markdown",
   "id": "ebebe75e",
   "metadata": {},
   "source": [
    "age_des_types.pivot_table(columns='age_name',index='classification_name',aggfunc=sum,values='perc').to_excel(r'\\\\FILE-SRV\\Jtmt\\projections_team\\כללי\\פעולות\\יצירת_מצב_קיים_למס\\חומר גלם\\התפלגות_גילים_קטלוג\\age_des_types_230719.xlsx')"
   ]
  },
  {
   "cell_type": "code",
   "execution_count": 118,
   "id": "3b26f902",
   "metadata": {},
   "outputs": [],
   "source": [
    "folder_path=r'\\\\FILE-SRV\\Jtmt\\projections_team\\כללי\\פעולות\\יצירת_מצב_קיים_למס\\חומר גלם'\n",
    "file_name='cbs_2020_with_age_distribution_type'\n",
    "\n",
    "path_df=r'{}\\{}.xlsx'.format(folder_path,file_name)\n",
    "df=pd.read_excel(path_df,sheet_name='absolute_numbers')\n",
    "df=df.dropna(how='all').fillna(0)\n",
    "\n",
    "\n",
    "cbs_pop=df"
   ]
  },
  {
   "cell_type": "code",
   "execution_count": 119,
   "id": "14017fd8",
   "metadata": {},
   "outputs": [],
   "source": [
    "cbs_pop['pop']=cbs_pop.iloc[:,3:].sum(axis=1)"
   ]
  },
  {
   "cell_type": "code",
   "execution_count": 120,
   "id": "dc270fea",
   "metadata": {},
   "outputs": [],
   "source": [
    "age=['0','5','10','15','20','25','30','35','40','45','50','55','60','65','70','75','80','85']"
   ]
  },
  {
   "cell_type": "code",
   "execution_count": 121,
   "id": "396c2129",
   "metadata": {
    "code_folding": [],
    "scrolled": true
   },
   "outputs": [],
   "source": [
    "for x in age:\n",
    "    cbs_pop['pop_{}'.format(x)]= cbs_pop['female_{}'.format(x)]+cbs_pop['male_{}'.format(x)]"
   ]
  },
  {
   "cell_type": "code",
   "execution_count": 122,
   "id": "cf489af3",
   "metadata": {},
   "outputs": [],
   "source": [
    "cbs_pop['pop_75up']= cbs_pop[['pop_75', 'pop_80', 'pop_85']].sum(axis=1)"
   ]
  },
  {
   "cell_type": "code",
   "execution_count": 123,
   "id": "a0eef3a3",
   "metadata": {
    "code_folding": [
     0
    ]
   },
   "outputs": [],
   "source": [
    "col=[ 'main_stat', 'pop', 'pop_0', 'pop_5', 'pop_10', 'pop_15', 'pop_20', 'pop_25', 'pop_30', 'pop_35', 'pop_40', 'pop_45', 'pop_50',\n",
    " 'pop_55',\n",
    " 'pop_60',\n",
    " 'pop_65',\n",
    " 'pop_70',\n",
    " 'pop_75up']"
   ]
  },
  {
   "cell_type": "code",
   "execution_count": 124,
   "id": "7b43602f",
   "metadata": {},
   "outputs": [],
   "source": [
    "cbs_pop=cbs_pop[col]"
   ]
  },
  {
   "cell_type": "markdown",
   "id": "5a2d8e68",
   "metadata": {},
   "source": [
    "יצירת טבלת התפלגות גילים באחוזים לטובת המשך הקוד כאשר יש שינויים בסך הכל אוכלוסיה אבל מעוניינים עדיין בהתפלגות גילים המקורית"
   ]
  },
  {
   "cell_type": "code",
   "execution_count": 125,
   "id": "1466d104",
   "metadata": {},
   "outputs": [],
   "source": [
    "cbs_pop_pre=cbs_pop.copy()"
   ]
  },
  {
   "cell_type": "code",
   "execution_count": 126,
   "id": "6b44a09b",
   "metadata": {},
   "outputs": [],
   "source": [
    "col=list(cbs_pop_pre.iloc[:,1:])"
   ]
  },
  {
   "cell_type": "code",
   "execution_count": 127,
   "id": "74f8fcec",
   "metadata": {},
   "outputs": [],
   "source": [
    "cbs_pop_pre.loc[:, col] = cbs_pop_pre.loc[:, col].div(cbs_pop_pre['pop'], axis=0)"
   ]
  },
  {
   "cell_type": "code",
   "execution_count": 128,
   "id": "687c8caf",
   "metadata": {},
   "outputs": [],
   "source": [
    "cbs_pop_pre=cbs_pop_pre.fillna(0)"
   ]
  },
  {
   "cell_type": "code",
   "execution_count": 129,
   "id": "e7ff347f",
   "metadata": {},
   "outputs": [],
   "source": [
    "cbs_pop_pre=cbs_pop_pre.rename(columns={'pop':'pop_pre'})"
   ]
  },
  {
   "cell_type": "code",
   "execution_count": 130,
   "id": "25740659",
   "metadata": {},
   "outputs": [],
   "source": [
    "cbs_pop_pre=cbs_pop_pre.merge(cbs_pop[['main_stat', 'pop']],on='main_stat',how='left')"
   ]
  },
  {
   "cell_type": "code",
   "execution_count": 131,
   "id": "235825c5",
   "metadata": {},
   "outputs": [],
   "source": [
    "stat=pd.merge(stat,cbs_pop_pre,on='main_stat',how='left')"
   ]
  },
  {
   "cell_type": "code",
   "execution_count": 132,
   "id": "a830aefb",
   "metadata": {},
   "outputs": [],
   "source": [
    "stat['pop']=stat['pop']*stat['precent_of_stat_data']"
   ]
  },
  {
   "cell_type": "markdown",
   "id": "a6d2b0bc",
   "metadata": {},
   "source": [
    "###  אחוז חרדים מכלל א\"ס"
   ]
  },
  {
   "cell_type": "code",
   "execution_count": 133,
   "id": "107ecbc8",
   "metadata": {},
   "outputs": [],
   "source": [
    "folder_path=r'\\\\FILE-SRV\\Jtmt\\projections_team\\GIS_backround\\INFO\\למ_ס\\חרדים\\2020'\n",
    "file_name='אוכלוסייה חרדית לפי מחוז, יישוב, ואזור סטטיסטי - 2020'\n",
    "\n",
    "path_df=r'{}\\{}.xlsx'.format(folder_path,file_name)\n",
    "df=pd.read_excel(path_df)\n",
    "df=df.dropna(how='all')\n",
    "\n",
    "\n",
    "stat_hardi=df"
   ]
  },
  {
   "cell_type": "code",
   "execution_count": 134,
   "id": "59929e2a",
   "metadata": {},
   "outputs": [],
   "source": [
    "stat_hardi=stat_hardi[['pre_hardi','main_stat']].set_index('main_stat')"
   ]
  },
  {
   "cell_type": "code",
   "execution_count": 135,
   "id": "1b4cc78c",
   "metadata": {},
   "outputs": [],
   "source": [
    "stat=stat.set_index('main_stat')"
   ]
  },
  {
   "cell_type": "code",
   "execution_count": 136,
   "id": "72a20d96",
   "metadata": {},
   "outputs": [],
   "source": [
    "stat['pre_hardi']=stat_hardi['pre_hardi']"
   ]
  },
  {
   "cell_type": "code",
   "execution_count": 137,
   "id": "1719329f",
   "metadata": {},
   "outputs": [],
   "source": [
    "stat['pre_hardi']=stat['pre_hardi'].fillna(0)"
   ]
  },
  {
   "cell_type": "markdown",
   "id": "7e82075f",
   "metadata": {},
   "source": [
    "###  תיקון שלב א ערבי ירושלים"
   ]
  },
  {
   "cell_type": "code",
   "execution_count": 138,
   "id": "575f6f29",
   "metadata": {},
   "outputs": [],
   "source": [
    "path=r'\\\\FILE-SRV\\Jtmt\\projections_team\\GIS_backround\\INFO\\למ_ס\\אזורים סטטיסטים\\statisticalareas_2020_demography.gdb'\n",
    "layer_name='statisticalareas_2020_demography_arab_jtmt'\n",
    "stat_arab=up_load_gdb(path,layer_name)"
   ]
  },
  {
   "cell_type": "code",
   "execution_count": 139,
   "id": "9949efd7",
   "metadata": {},
   "outputs": [],
   "source": [
    "col=['STAT', 'group_name']"
   ]
  },
  {
   "cell_type": "code",
   "execution_count": 140,
   "id": "e8bc0a2c",
   "metadata": {},
   "outputs": [],
   "source": [
    "stat_arab=stat_arab[col]"
   ]
  },
  {
   "cell_type": "code",
   "execution_count": 141,
   "id": "ef48446d",
   "metadata": {},
   "outputs": [],
   "source": [
    "stat_arab=stat_arab.merge(cbs_pop_pre,left_on='STAT',right_on='main_stat',how='left')"
   ]
  },
  {
   "cell_type": "code",
   "execution_count": 142,
   "id": "76b5ee46",
   "metadata": {},
   "outputs": [],
   "source": [
    "stat_arab=stat_arab.set_index('group_name')"
   ]
  },
  {
   "cell_type": "code",
   "execution_count": 143,
   "id": "f98964ef",
   "metadata": {},
   "outputs": [],
   "source": [
    "group_pop=stat_arab.groupby(by='group_name').sum()[['pop']]"
   ]
  },
  {
   "cell_type": "code",
   "execution_count": 144,
   "id": "99e9beeb",
   "metadata": {},
   "outputs": [],
   "source": [
    "stat_arab['group_pop']=group_pop['pop']"
   ]
  },
  {
   "cell_type": "code",
   "execution_count": 145,
   "id": "5f0080b0",
   "metadata": {},
   "outputs": [],
   "source": [
    "stat_arab['pre_from_group_pop']=stat_arab['pop']/stat_arab['group_pop']"
   ]
  },
  {
   "cell_type": "code",
   "execution_count": 146,
   "id": "25090989",
   "metadata": {},
   "outputs": [],
   "source": [
    "data = [['akev', 55000], ['Shuafat', 75000],['east_jeru_left',0]]"
   ]
  },
  {
   "cell_type": "code",
   "execution_count": 147,
   "id": "418c89da",
   "metadata": {},
   "outputs": [],
   "source": [
    "group_pop_jtmt = pd.DataFrame(data, columns=['group_name', 'pop']).set_index('group_name')"
   ]
  },
  {
   "cell_type": "code",
   "execution_count": 148,
   "id": "bfd7cf07",
   "metadata": {},
   "outputs": [],
   "source": [
    "group_pop_delta=group_pop-group_pop_jtmt"
   ]
  },
  {
   "cell_type": "code",
   "execution_count": 149,
   "id": "dfd40efe",
   "metadata": {},
   "outputs": [],
   "source": [
    "group_pop_delta=group_pop_delta.loc['east_jeru_left']+(group_pop_delta.loc['Shuafat']+group_pop_delta.loc['akev'])*0.8#בגלל שהדלתא מוסבר עי הגירה מיוש ולא רק מהעיר ירושלים "
   ]
  },
  {
   "cell_type": "code",
   "execution_count": 150,
   "id": "6f681d0a",
   "metadata": {},
   "outputs": [],
   "source": [
    "group_pop_jtmt.loc['east_jeru_left','pop']=group_pop_delta.item()"
   ]
  },
  {
   "cell_type": "code",
   "execution_count": 151,
   "id": "3963061b",
   "metadata": {},
   "outputs": [],
   "source": [
    "stat_arab['group_pop_jtmt']=group_pop_jtmt['pop']"
   ]
  },
  {
   "cell_type": "code",
   "execution_count": 152,
   "id": "1d4ab79a",
   "metadata": {},
   "outputs": [],
   "source": [
    "stat_arab['pop']=stat_arab['pre_from_group_pop']*stat_arab['group_pop_jtmt']"
   ]
  },
  {
   "cell_type": "markdown",
   "id": "0f4bb507",
   "metadata": {},
   "source": [
    "###  הטמעת תיקון שלב א"
   ]
  },
  {
   "cell_type": "code",
   "execution_count": 153,
   "id": "d8416382",
   "metadata": {},
   "outputs": [],
   "source": [
    "stat_arab=stat_arab.set_index('main_stat')"
   ]
  },
  {
   "cell_type": "code",
   "execution_count": 154,
   "id": "88fa3b93",
   "metadata": {},
   "outputs": [],
   "source": [
    "stat['pop_cbs']=stat['pop']"
   ]
  },
  {
   "cell_type": "code",
   "execution_count": 155,
   "id": "7551967d",
   "metadata": {},
   "outputs": [],
   "source": [
    "stat.loc[list(stat_arab.index),'pop']=stat_arab['pop']"
   ]
  },
  {
   "cell_type": "code",
   "execution_count": 156,
   "id": "3957513d",
   "metadata": {},
   "outputs": [],
   "source": [
    "stat['change_from_cbs']=''"
   ]
  },
  {
   "cell_type": "code",
   "execution_count": 157,
   "id": "45fcc199",
   "metadata": {
    "scrolled": true
   },
   "outputs": [],
   "source": [
    "stat.loc[list(stat_arab.index),'change_from_cbs']='| general_arab_change |'"
   ]
  },
  {
   "cell_type": "markdown",
   "id": "da453a3f",
   "metadata": {},
   "source": [
    "###  העלת א\"ס בעייתי לתיקון שלב ב"
   ]
  },
  {
   "cell_type": "code",
   "execution_count": 159,
   "id": "97f9a11d",
   "metadata": {},
   "outputs": [],
   "source": [
    "path=r'\\\\FILE-SRV\\Jtmt\\projections_team\\כללי\\פעולות\\יצירת_מצב_קיים_למס\\חומר גלם\\jtmt_fix_for_cbs_data_2020.shp'\n",
    "\n",
    "jtmt_fix_stat=up_load_shp(path)"
   ]
  },
  {
   "cell_type": "code",
   "execution_count": 160,
   "id": "1c2f9cca",
   "metadata": {},
   "outputs": [],
   "source": [
    "col=['STAT',\n",
    " 'fix_pop',\n",
    " 'fix_aprt',\n",
    " 'fix_class']"
   ]
  },
  {
   "cell_type": "code",
   "execution_count": 161,
   "id": "1b02ea44",
   "metadata": {},
   "outputs": [],
   "source": [
    "jtmt_fix_stat=jtmt_fix_stat[col].set_index('STAT')"
   ]
  },
  {
   "cell_type": "code",
   "execution_count": 162,
   "id": "92fecd16",
   "metadata": {},
   "outputs": [],
   "source": [
    "stat=stat.set_index('STAT')"
   ]
  },
  {
   "cell_type": "code",
   "execution_count": 163,
   "id": "a1b5dcbb",
   "metadata": {},
   "outputs": [],
   "source": [
    "stat=stat.join(jtmt_fix_stat, how='left')"
   ]
  },
  {
   "cell_type": "markdown",
   "id": "7109edd7",
   "metadata": {},
   "source": [
    "###  יצירת גמ לפי קטלוג"
   ]
  },
  {
   "cell_type": "code",
   "execution_count": 164,
   "id": "a7954092",
   "metadata": {},
   "outputs": [],
   "source": [
    "cbs_not_lie_lst=list(stat.query('fix_pop.isna() & fix_aprt.isna() & fix_class.isna() ').index)"
   ]
  },
  {
   "cell_type": "code",
   "execution_count": 165,
   "id": "223ce441",
   "metadata": {},
   "outputs": [],
   "source": [
    "stat['count']=1"
   ]
  },
  {
   "cell_type": "code",
   "execution_count": 166,
   "id": "ec6e4566",
   "metadata": {},
   "outputs": [],
   "source": [
    "stat=stat.reset_index()"
   ]
  },
  {
   "cell_type": "code",
   "execution_count": 167,
   "id": "a95835fb",
   "metadata": {},
   "outputs": [],
   "source": [
    "stat.loc[stat['STAT'].isin(cbs_not_lie_lst),['fix_pop','fix_aprt','fix_class']]=1"
   ]
  },
  {
   "cell_type": "code",
   "execution_count": 168,
   "id": "d2b8fba3",
   "metadata": {
    "scrolled": true
   },
   "outputs": [],
   "source": [
    "hh_size_by_classification=stat.loc[(stat['aprt_20']>0)&(stat['STAT'].isin(cbs_not_lie_lst))].pivot_table(index='classification_name',aggfunc=sum)[['aprt_20','pop','count']]"
   ]
  },
  {
   "cell_type": "code",
   "execution_count": 169,
   "id": "b45557ab",
   "metadata": {},
   "outputs": [],
   "source": [
    "hh_size_by_classification['hh_size']=hh_size_by_classification['pop']/hh_size_by_classification['aprt_20']"
   ]
  },
  {
   "cell_type": "code",
   "execution_count": 170,
   "id": "8e0fec03",
   "metadata": {},
   "outputs": [],
   "source": [
    "hh_size_by_classification=hh_size_by_classification[['hh_size','count']]"
   ]
  },
  {
   "cell_type": "code",
   "execution_count": 171,
   "id": "1186b814",
   "metadata": {},
   "outputs": [],
   "source": [
    "hh_size=hh_size.merge(hh_size_by_classification.reset_index(),how='left',on='classification_name',suffixes=('','_cbs'))"
   ]
  },
  {
   "cell_type": "markdown",
   "id": "7bcd0aa1",
   "metadata": {},
   "source": [
    "###  תיקון שלב ב"
   ]
  },
  {
   "cell_type": "code",
   "execution_count": 172,
   "id": "f8976b5f",
   "metadata": {},
   "outputs": [],
   "source": [
    "stat.loc[(stat['fix_pop']==0)&(stat['fix_aprt']==1)&(stat['fix_class']==1),'pop']=stat['aprt_20']*stat['hh_size']"
   ]
  },
  {
   "cell_type": "code",
   "execution_count": 173,
   "id": "c5040891",
   "metadata": {},
   "outputs": [],
   "source": [
    "stat.loc[(stat['fix_pop']==0)&(stat['fix_aprt']==1)&(stat['fix_class']==1),'change_from_cbs']=stat['change_from_cbs']+'| pop_created_from_cbs_aprt |'"
   ]
  },
  {
   "cell_type": "code",
   "execution_count": 174,
   "id": "38e7c06a",
   "metadata": {},
   "outputs": [],
   "source": [
    "stat.loc[(stat['fix_pop']==0)&(stat['fix_aprt']==0)&(stat['fix_class']==0),'pop']=0"
   ]
  },
  {
   "cell_type": "code",
   "execution_count": 175,
   "id": "548e6559",
   "metadata": {},
   "outputs": [],
   "source": [
    "stat.loc[(stat['fix_pop']==0)&(stat['fix_aprt']==0)&(stat['fix_class']==0),'change_from_cbs']=stat['change_from_cbs']+'| cbs_pop_deleted |'"
   ]
  },
  {
   "cell_type": "code",
   "execution_count": 176,
   "id": "2566cd73",
   "metadata": {},
   "outputs": [],
   "source": [
    "stat['aprt_20_cbs']=stat['aprt_20']"
   ]
  },
  {
   "cell_type": "code",
   "execution_count": 177,
   "id": "2ab636c7",
   "metadata": {},
   "outputs": [],
   "source": [
    "stat.loc[(stat['fix_pop']==0)&(stat['fix_aprt']==0)&(stat['fix_class']==0),'aprt_20']=0"
   ]
  },
  {
   "cell_type": "code",
   "execution_count": 178,
   "id": "c9edf803",
   "metadata": {},
   "outputs": [],
   "source": [
    "stat.loc[(stat['fix_pop']==0)&(stat['fix_aprt']==0)&(stat['fix_class']==0),'change_from_cbs']=stat['change_from_cbs']+'| cbs_aprt_deleted |'"
   ]
  },
  {
   "cell_type": "code",
   "execution_count": 179,
   "id": "00332084",
   "metadata": {},
   "outputs": [],
   "source": [
    "stat.loc[(stat['fix_pop']==1)&(stat['fix_aprt']==0)&(stat['fix_class']==1),'aprt_20']=stat['pop']/stat['hh_size']"
   ]
  },
  {
   "cell_type": "code",
   "execution_count": 180,
   "id": "ea1f0311",
   "metadata": {},
   "outputs": [],
   "source": [
    "stat.loc[(stat['fix_pop']==1)&(stat['fix_aprt']==0)&(stat['fix_class']==1),'change_from_cbs']=stat['change_from_cbs']+'| aprt_created_from_pop |'"
   ]
  },
  {
   "cell_type": "markdown",
   "id": "1f7b4746",
   "metadata": {},
   "source": [
    "כאן מתקנים מספר דירות לפי גודל משק בית באזורים ערביים שהגודל משק בית יותר או פחות 20% ממה שאנחנו חושבים שצריך להיות שם"
   ]
  },
  {
   "cell_type": "code",
   "execution_count": 181,
   "id": "3834400f",
   "metadata": {},
   "outputs": [],
   "source": [
    "stat.loc[(stat['classification_name'].str.contains(\"ערבי\")==True)&(((stat['pop']/stat['aprt_20'])/stat['hh_size']>1.2)|((stat['pop']/stat['aprt_20'])/stat['hh_size']<0.8)),'aprt_20']=stat['pop']/stat['hh_size']"
   ]
  },
  {
   "cell_type": "code",
   "execution_count": 182,
   "id": "ffb57c2e",
   "metadata": {},
   "outputs": [],
   "source": [
    "stat.loc[(stat['classification_name'].str.contains(\"ערבי\")==True)&(((stat['pop']/stat['aprt_20'])/stat['hh_size']>1.2)|((stat['pop']/stat['aprt_20'])/stat['hh_size']<0.8)),'change_from_cbs']=stat['change_from_cbs']+'| aprt_created_from_pop_because_hh_size_not_in_range |'"
   ]
  },
  {
   "cell_type": "markdown",
   "id": "bcbb161d",
   "metadata": {},
   "source": [
    "###  יצירת דירות לפי גודל משק בית"
   ]
  },
  {
   "cell_type": "code",
   "execution_count": 183,
   "id": "483deefa",
   "metadata": {},
   "outputs": [],
   "source": [
    "stat.loc[((stat['aprt_20'].isna())|(stat['aprt_20']==0))&(stat['pop']>0),'change_from_cbs']=stat['change_from_cbs']+'| aprt_created_from_pop_because_no_cbs_data |'"
   ]
  },
  {
   "cell_type": "code",
   "execution_count": 184,
   "id": "e4dfffa5",
   "metadata": {},
   "outputs": [],
   "source": [
    "stat.loc[((stat['aprt_20'].isna())|(stat['aprt_20']==0))&(stat['pop']>0),'aprt_20']=round(stat['pop']/stat['hh_size'])"
   ]
  },
  {
   "cell_type": "markdown",
   "id": "8af12531",
   "metadata": {},
   "source": [
    "### בקרת מידע למס ברמה של רשות\n"
   ]
  },
  {
   "cell_type": "code",
   "execution_count": 185,
   "id": "78771eb4",
   "metadata": {},
   "outputs": [],
   "source": [
    "pop_2020_cbs_muni=up_load_df(r'\\\\FILE-SRV\\Jtmt\\projections_team\\כללי\\פעולות\\יצירת_מצב_קיים_למס\\חומר גלם\\pop_cbs_muni_2020','pop_2020_cbs_muni')"
   ]
  },
  {
   "cell_type": "code",
   "execution_count": 186,
   "id": "eed36093",
   "metadata": {},
   "outputs": [],
   "source": [
    "stat['CR_PNIM']=stat['CR_PNIM'].fillna(0).astype(int)"
   ]
  },
  {
   "cell_type": "code",
   "execution_count": 187,
   "id": "d544d503",
   "metadata": {},
   "outputs": [],
   "source": [
    "stat_by_muni_sum=stat.pivot_table(index='CR_PNIM',aggfunc=sum)[['pop_cbs','pop']]"
   ]
  },
  {
   "cell_type": "code",
   "execution_count": 188,
   "id": "9639cf83",
   "metadata": {},
   "outputs": [],
   "source": [
    "pop_2020_cbs_muni=pop_2020_cbs_muni.set_index('CR_PNIM')"
   ]
  },
  {
   "cell_type": "code",
   "execution_count": 189,
   "id": "8dbbb377",
   "metadata": {
    "scrolled": true
   },
   "outputs": [
    {
     "data": {
      "text/html": [
       "<div>\n",
       "<style scoped>\n",
       "    .dataframe tbody tr th:only-of-type {\n",
       "        vertical-align: middle;\n",
       "    }\n",
       "\n",
       "    .dataframe tbody tr th {\n",
       "        vertical-align: top;\n",
       "    }\n",
       "\n",
       "    .dataframe thead th {\n",
       "        text-align: right;\n",
       "    }\n",
       "</style>\n",
       "<table border=\"1\" class=\"dataframe\">\n",
       "  <thead>\n",
       "    <tr style=\"text-align: right;\">\n",
       "      <th></th>\n",
       "      <th>muni_name</th>\n",
       "      <th>disc</th>\n",
       "      <th>pop_cbs_muni_total</th>\n",
       "      <th>pop_cbs</th>\n",
       "      <th>pop</th>\n",
       "    </tr>\n",
       "    <tr>\n",
       "      <th>CR_PNIM</th>\n",
       "      <th></th>\n",
       "      <th></th>\n",
       "      <th></th>\n",
       "      <th></th>\n",
       "      <th></th>\n",
       "    </tr>\n",
       "  </thead>\n",
       "  <tbody>\n",
       "    <tr>\n",
       "      <th>72</th>\n",
       "      <td>שומרון</td>\n",
       "      <td>אזור יהודה והשומרון</td>\n",
       "      <td>47244</td>\n",
       "      <td>50,499.00</td>\n",
       "      <td>50,499.00</td>\n",
       "    </tr>\n",
       "    <tr>\n",
       "      <th>73</th>\n",
       "      <td>מטה בנימין</td>\n",
       "      <td>אזור יהודה והשומרון</td>\n",
       "      <td>71630</td>\n",
       "      <td>68,526.00</td>\n",
       "      <td>68,526.00</td>\n",
       "    </tr>\n",
       "    <tr>\n",
       "      <th>74</th>\n",
       "      <td>מגילות ים המלח</td>\n",
       "      <td>אזור יהודה והשומרון</td>\n",
       "      <td>1968</td>\n",
       "      <td>1,844.00</td>\n",
       "      <td>1,844.00</td>\n",
       "    </tr>\n",
       "    <tr>\n",
       "      <th>75</th>\n",
       "      <td>ערבות הירדן</td>\n",
       "      <td>אזור יהודה והשומרון</td>\n",
       "      <td>5767</td>\n",
       "      <td>5,100.00</td>\n",
       "      <td>5,100.00</td>\n",
       "    </tr>\n",
       "    <tr>\n",
       "      <th>76</th>\n",
       "      <td>גוש עציון</td>\n",
       "      <td>אזור יהודה והשומרון</td>\n",
       "      <td>24936</td>\n",
       "      <td>24,517.00</td>\n",
       "      <td>24,517.00</td>\n",
       "    </tr>\n",
       "    <tr>\n",
       "      <th>78</th>\n",
       "      <td>הר חברון</td>\n",
       "      <td>אזור יהודה והשומרון</td>\n",
       "      <td>9419</td>\n",
       "      <td>8,934.00</td>\n",
       "      <td>8,934.00</td>\n",
       "    </tr>\n",
       "    <tr>\n",
       "      <th>472</th>\n",
       "      <td>אבו גוש</td>\n",
       "      <td>ירושלים</td>\n",
       "      <td>7771</td>\n",
       "      <td>7,772.00</td>\n",
       "      <td>7,772.00</td>\n",
       "    </tr>\n",
       "    <tr>\n",
       "      <th>1015</th>\n",
       "      <td>מבשרת ציון</td>\n",
       "      <td>ירושלים</td>\n",
       "      <td>24247</td>\n",
       "      <td>24,251.00</td>\n",
       "      <td>24,251.00</td>\n",
       "    </tr>\n",
       "    <tr>\n",
       "      <th>1137</th>\n",
       "      <td>קריית יערים</td>\n",
       "      <td>ירושלים</td>\n",
       "      <td>6238</td>\n",
       "      <td>6,237.00</td>\n",
       "      <td>6,237.00</td>\n",
       "    </tr>\n",
       "    <tr>\n",
       "      <th>1200</th>\n",
       "      <td>מודיעין-מכבים-רעות</td>\n",
       "      <td>המרכז</td>\n",
       "      <td>94657</td>\n",
       "      <td>94,656.00</td>\n",
       "      <td>95,149.00</td>\n",
       "    </tr>\n",
       "    <tr>\n",
       "      <th>2610</th>\n",
       "      <td>בית שמש</td>\n",
       "      <td>ירושלים</td>\n",
       "      <td>132544</td>\n",
       "      <td>130,813.00</td>\n",
       "      <td>130,813.00</td>\n",
       "    </tr>\n",
       "    <tr>\n",
       "      <th>3000</th>\n",
       "      <td>ירושלים</td>\n",
       "      <td>ירושלים</td>\n",
       "      <td>951149</td>\n",
       "      <td>940,798.00</td>\n",
       "      <td>980,966.70</td>\n",
       "    </tr>\n",
       "    <tr>\n",
       "      <th>3557</th>\n",
       "      <td>קדומים</td>\n",
       "      <td>אזור יהודה והשומרון</td>\n",
       "      <td>4586</td>\n",
       "      <td>4,583.00</td>\n",
       "      <td>4,583.00</td>\n",
       "    </tr>\n",
       "    <tr>\n",
       "      <th>3570</th>\n",
       "      <td>אריאל</td>\n",
       "      <td>אזור יהודה והשומרון</td>\n",
       "      <td>19582</td>\n",
       "      <td>19,584.00</td>\n",
       "      <td>19,584.00</td>\n",
       "    </tr>\n",
       "    <tr>\n",
       "      <th>3574</th>\n",
       "      <td>בית אל</td>\n",
       "      <td>אזור יהודה והשומרון</td>\n",
       "      <td>5684</td>\n",
       "      <td>5,681.00</td>\n",
       "      <td>5,681.00</td>\n",
       "    </tr>\n",
       "    <tr>\n",
       "      <th>3608</th>\n",
       "      <td>מעלה אפרים</td>\n",
       "      <td>אזור יהודה והשומרון</td>\n",
       "      <td>1255</td>\n",
       "      <td>1,166.00</td>\n",
       "      <td>1,166.00</td>\n",
       "    </tr>\n",
       "    <tr>\n",
       "      <th>3611</th>\n",
       "      <td>קריית ארבע</td>\n",
       "      <td>אזור יהודה והשומרון</td>\n",
       "      <td>7338</td>\n",
       "      <td>7,338.00</td>\n",
       "      <td>7,338.00</td>\n",
       "    </tr>\n",
       "    <tr>\n",
       "      <th>3616</th>\n",
       "      <td>מעלה אדומים</td>\n",
       "      <td>אזור יהודה והשומרון</td>\n",
       "      <td>37846</td>\n",
       "      <td>37,791.00</td>\n",
       "      <td>37,791.00</td>\n",
       "    </tr>\n",
       "    <tr>\n",
       "      <th>3640</th>\n",
       "      <td>קרני שומרון</td>\n",
       "      <td>אזור יהודה והשומרון</td>\n",
       "      <td>9417</td>\n",
       "      <td>9,416.00</td>\n",
       "      <td>9,416.00</td>\n",
       "    </tr>\n",
       "    <tr>\n",
       "      <th>3650</th>\n",
       "      <td>אפרת</td>\n",
       "      <td>אזור יהודה והשומרון</td>\n",
       "      <td>11405</td>\n",
       "      <td>11,405.00</td>\n",
       "      <td>11,405.00</td>\n",
       "    </tr>\n",
       "    <tr>\n",
       "      <th>3652</th>\n",
       "      <td>בית אריה-עופרים</td>\n",
       "      <td>אזור יהודה והשומרון</td>\n",
       "      <td>5351</td>\n",
       "      <td>5,353.00</td>\n",
       "      <td>5,353.00</td>\n",
       "    </tr>\n",
       "    <tr>\n",
       "      <th>3660</th>\n",
       "      <td>עמנואל</td>\n",
       "      <td>אזור יהודה והשומרון</td>\n",
       "      <td>4129</td>\n",
       "      <td>4,131.00</td>\n",
       "      <td>4,738.60</td>\n",
       "    </tr>\n",
       "    <tr>\n",
       "      <th>3730</th>\n",
       "      <td>גבעת זאב</td>\n",
       "      <td>אזור יהודה והשומרון</td>\n",
       "      <td>19225</td>\n",
       "      <td>20,253.00</td>\n",
       "      <td>20,253.00</td>\n",
       "    </tr>\n",
       "    <tr>\n",
       "      <th>3750</th>\n",
       "      <td>אלפי מנשה</td>\n",
       "      <td>אזור יהודה והשומרון</td>\n",
       "      <td>7997</td>\n",
       "      <td>7,996.00</td>\n",
       "      <td>7,996.00</td>\n",
       "    </tr>\n",
       "    <tr>\n",
       "      <th>3760</th>\n",
       "      <td>אורנית</td>\n",
       "      <td>אזור יהודה והשומרון</td>\n",
       "      <td>8965</td>\n",
       "      <td>8,965.00</td>\n",
       "      <td>8,965.00</td>\n",
       "    </tr>\n",
       "    <tr>\n",
       "      <th>3769</th>\n",
       "      <td>הר אדר</td>\n",
       "      <td>אזור יהודה והשומרון</td>\n",
       "      <td>4084</td>\n",
       "      <td>4,083.00</td>\n",
       "      <td>4,083.00</td>\n",
       "    </tr>\n",
       "    <tr>\n",
       "      <th>3780</th>\n",
       "      <td>ביתר עילית</td>\n",
       "      <td>אזור יהודה והשומרון</td>\n",
       "      <td>61125</td>\n",
       "      <td>60,224.00</td>\n",
       "      <td>60,224.00</td>\n",
       "    </tr>\n",
       "    <tr>\n",
       "      <th>3797</th>\n",
       "      <td>מודיעין עילית</td>\n",
       "      <td>אזור יהודה והשומרון</td>\n",
       "      <td>77967</td>\n",
       "      <td>76,494.00</td>\n",
       "      <td>76,494.00</td>\n",
       "    </tr>\n",
       "  </tbody>\n",
       "</table>\n",
       "</div>"
      ],
      "text/plain": [
       "                  muni_name                 disc  pop_cbs_muni_total  \\\n",
       "CR_PNIM                                                                \n",
       "72                   שומרון  אזור יהודה והשומרון               47244   \n",
       "73               מטה בנימין  אזור יהודה והשומרון               71630   \n",
       "74           מגילות ים המלח  אזור יהודה והשומרון                1968   \n",
       "75              ערבות הירדן  אזור יהודה והשומרון                5767   \n",
       "76                גוש עציון  אזור יהודה והשומרון               24936   \n",
       "78                 הר חברון  אזור יהודה והשומרון                9419   \n",
       "472                 אבו גוש              ירושלים                7771   \n",
       "1015             מבשרת ציון              ירושלים               24247   \n",
       "1137            קריית יערים              ירושלים                6238   \n",
       "1200     מודיעין-מכבים-רעות                המרכז               94657   \n",
       "2610                בית שמש              ירושלים              132544   \n",
       "3000                ירושלים              ירושלים              951149   \n",
       "3557                 קדומים  אזור יהודה והשומרון                4586   \n",
       "3570                  אריאל  אזור יהודה והשומרון               19582   \n",
       "3574                 בית אל  אזור יהודה והשומרון                5684   \n",
       "3608             מעלה אפרים  אזור יהודה והשומרון                1255   \n",
       "3611             קריית ארבע  אזור יהודה והשומרון                7338   \n",
       "3616            מעלה אדומים  אזור יהודה והשומרון               37846   \n",
       "3640            קרני שומרון  אזור יהודה והשומרון                9417   \n",
       "3650                   אפרת  אזור יהודה והשומרון               11405   \n",
       "3652        בית אריה-עופרים  אזור יהודה והשומרון                5351   \n",
       "3660                 עמנואל  אזור יהודה והשומרון                4129   \n",
       "3730               גבעת זאב  אזור יהודה והשומרון               19225   \n",
       "3750              אלפי מנשה  אזור יהודה והשומרון                7997   \n",
       "3760                 אורנית  אזור יהודה והשומרון                8965   \n",
       "3769                 הר אדר  אזור יהודה והשומרון                4084   \n",
       "3780             ביתר עילית  אזור יהודה והשומרון               61125   \n",
       "3797          מודיעין עילית  אזור יהודה והשומרון               77967   \n",
       "\n",
       "           pop_cbs        pop  \n",
       "CR_PNIM                        \n",
       "72       50,499.00  50,499.00  \n",
       "73       68,526.00  68,526.00  \n",
       "74        1,844.00   1,844.00  \n",
       "75        5,100.00   5,100.00  \n",
       "76       24,517.00  24,517.00  \n",
       "78        8,934.00   8,934.00  \n",
       "472       7,772.00   7,772.00  \n",
       "1015     24,251.00  24,251.00  \n",
       "1137      6,237.00   6,237.00  \n",
       "1200     94,656.00  95,149.00  \n",
       "2610    130,813.00 130,813.00  \n",
       "3000    940,798.00 980,966.70  \n",
       "3557      4,583.00   4,583.00  \n",
       "3570     19,584.00  19,584.00  \n",
       "3574      5,681.00   5,681.00  \n",
       "3608      1,166.00   1,166.00  \n",
       "3611      7,338.00   7,338.00  \n",
       "3616     37,791.00  37,791.00  \n",
       "3640      9,416.00   9,416.00  \n",
       "3650     11,405.00  11,405.00  \n",
       "3652      5,353.00   5,353.00  \n",
       "3660      4,131.00   4,738.60  \n",
       "3730     20,253.00  20,253.00  \n",
       "3750      7,996.00   7,996.00  \n",
       "3760      8,965.00   8,965.00  \n",
       "3769      4,083.00   4,083.00  \n",
       "3780     60,224.00  60,224.00  \n",
       "3797     76,494.00  76,494.00  "
      ]
     },
     "execution_count": 189,
     "metadata": {},
     "output_type": "execute_result"
    }
   ],
   "source": [
    "pop_2020_cbs_muni.join(stat_by_muni_sum,how='inner')"
   ]
  },
  {
   "cell_type": "markdown",
   "id": "aec1b2c2",
   "metadata": {},
   "source": [
    "### ייצא מידע ברמת אזור סטט עם השינוים שלנו"
   ]
  },
  {
   "cell_type": "code",
   "execution_count": 190,
   "id": "08a9cd66",
   "metadata": {},
   "outputs": [],
   "source": [
    "stat=stat.fillna(0)"
   ]
  },
  {
   "cell_type": "code",
   "execution_count": 191,
   "id": "1dfcb28a",
   "metadata": {},
   "outputs": [],
   "source": [
    "stat['pop_delta']=stat['pop']-stat['pop_cbs']"
   ]
  },
  {
   "cell_type": "code",
   "execution_count": 192,
   "id": "24920510",
   "metadata": {},
   "outputs": [],
   "source": [
    "stat['aprt_20_delta']=stat['aprt_20']-stat['aprt_20_cbs']"
   ]
  },
  {
   "cell_type": "code",
   "execution_count": 193,
   "id": "2c061de6",
   "metadata": {},
   "outputs": [],
   "source": [
    "col=['STAT','precent_of_stat_data','classification_name','pop','pop_cbs','aprt_20','aprt_20_cbs','pop_delta','aprt_20_delta','change_from_cbs']"
   ]
  },
  {
   "cell_type": "code",
   "execution_count": 194,
   "id": "e45ff6e5",
   "metadata": {
    "scrolled": true
   },
   "outputs": [],
   "source": [
    "stat[col].query('STAT!=5526 & STAT!=9975').to_excel(r'W:\\Projects\\הסעת המונים\\01_שלב ה\\קבצי עבודה\\תחזיות_דמוגרפיות\\תחזיות_2020\\מרכיבי_תחזית\\stat_cbs_jtmt_2020_short.xlsx',index=False)"
   ]
  },
  {
   "cell_type": "code",
   "execution_count": 195,
   "id": "fdde4073",
   "metadata": {
    "scrolled": true
   },
   "outputs": [],
   "source": [
    "stat.query('STAT!=5526 & STAT!=9975').to_excel(r'W:\\Projects\\הסעת המונים\\01_שלב ה\\קבצי עבודה\\תחזיות_דמוגרפיות\\תחזיות_2020\\מרכיבי_תחזית\\stat_cbs_jtmt_2020.xlsx',index=False)"
   ]
  },
  {
   "cell_type": "markdown",
   "id": "b5eeb2ed",
   "metadata": {},
   "source": [
    "path=r'\\\\FILE-SRV\\Jtmt\\projections_team\\GIS_backround\\INFO\\למ_ס\\אזורים סטטיסטים\\statisticalareas_2020_demography.gdb'\n",
    "layer_list=fiona.listlayers(path)\n",
    "\n",
    "layer_name='statisticalareas_2020_demography_jtmt_area'\n",
    "\n",
    "gpd_layer=gpd.read_file(path, layer=layer_list.index(layer_name)).fillna(0)\n",
    "\n",
    "stat_border=gpd_layer.rename(columns={'YISHUV_STAT11':'STAT'})\n",
    "\n",
    "stat_border[['geometry','STAT']].merge(stat[col],on='STAT',how='right').query('STAT!=5526 & STAT!=9975').to_file(r'\\\\FILE-SRV\\Jtmt\\projections_team\\כללי\\פעולות\\יצירת_מצב_קיים_למס\\output\\stat_cbs_jtmt_2020.shp',encoding='utf-8')"
   ]
  }
 ],
 "metadata": {
  "kernelspec": {
   "display_name": "Python 3 (ipykernel)",
   "language": "python",
   "name": "python3"
  },
  "language_info": {
   "codemirror_mode": {
    "name": "ipython",
    "version": 3
   },
   "file_extension": ".py",
   "mimetype": "text/x-python",
   "name": "python",
   "nbconvert_exporter": "python",
   "pygments_lexer": "ipython3",
   "version": "3.10.4"
  },
  "toc": {
   "base_numbering": 1,
   "nav_menu": {},
   "number_sections": true,
   "sideBar": true,
   "skip_h1_title": false,
   "title_cell": "Table of Contents",
   "title_sidebar": "Contents",
   "toc_cell": false,
   "toc_position": {
    "height": "calc(100% - 180px)",
    "left": "10px",
    "top": "150px",
    "width": "373.333px"
   },
   "toc_section_display": true,
   "toc_window_display": true
  }
 },
 "nbformat": 4,
 "nbformat_minor": 5
}
