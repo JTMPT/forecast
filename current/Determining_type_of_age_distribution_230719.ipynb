{
 "cells": [
  {
   "cell_type": "code",
   "execution_count": 1,
   "id": "0c16c15f",
   "metadata": {},
   "outputs": [],
   "source": [
    "# Load packages and data\n",
    "import pandas as pd\n",
    "import geopandas as gpd\n",
    "import numpy as np\n",
    "import os"
   ]
  },
  {
   "cell_type": "code",
   "execution_count": 2,
   "id": "e9ef92d4",
   "metadata": {},
   "outputs": [],
   "source": [
    "prototypes_df  = pd.read_excel(r\"W:\\Projects\\הסעת המונים\\01_שלב ה\\קבצי עבודה\\תחזיות_דמוגרפיות\\תחזיות_2050\\התפלגות גילים\\backround_files\\age_des_types.xlsx\")\n",
    "file_path=r\"W:\\Projects\\הסעת המונים\\01_שלב ה\\קבצי עבודה\\תחזיות_דמוגרפיות\\תחזיות_2020\\forecast_2020_230720.xlsx\"\n",
    "data_df = pd.read_excel(file_path)\n"
   ]
  },
  {
   "cell_type": "code",
   "execution_count": 3,
   "id": "b7dab5f0",
   "metadata": {},
   "outputs": [],
   "source": [
    "filename = os.path.basename(file_path)\n",
    "\n",
    "# Remove the file extension if present\n",
    "filename = os.path.splitext(filename)[0]"
   ]
  },
  {
   "cell_type": "code",
   "execution_count": 4,
   "id": "752f13c7",
   "metadata": {},
   "outputs": [],
   "source": [
    "sectors=gpd.read_file(r'W:\\Model Versions\\4.0\\TAZ\\TAZ_V4_230518_Published.shp')"
   ]
  },
  {
   "cell_type": "code",
   "execution_count": 5,
   "id": "f80fce18",
   "metadata": {},
   "outputs": [],
   "source": [
    "data_df=sectors.merge(data_df,left_on='Taz_num',right_on='TAZ',how='right')"
   ]
  },
  {
   "cell_type": "code",
   "execution_count": 6,
   "id": "0337461b",
   "metadata": {},
   "outputs": [],
   "source": [
    "data_df['sector_for_age']=data_df['sector']"
   ]
  },
  {
   "cell_type": "code",
   "execution_count": 7,
   "id": "7babbca6",
   "metadata": {},
   "outputs": [],
   "source": [
    "data_df.loc[\n",
    "    (data_df['zonetype'] == 'Judea and Samaria') &\n",
    "    (data_df['sector'] != 'U_Orthodox'),'sector_for_age'\n",
    "]='hitnachlut'\n"
   ]
  },
  {
   "cell_type": "code",
   "execution_count": 8,
   "id": "71f5ae99",
   "metadata": {
    "code_folding": [
     0
    ]
   },
   "outputs": [],
   "source": [
    "lst_muni=['מעלה אדומים',\n",
    " 'גבעת זאב',\n",
    " 'הר אדר',\n",
    " '0',\n",
    " 'מעלה אפרים',\n",
    " 'מגילות ים המלח\\r\\n',\n",
    " 'קרני שומרון',\n",
    " 'אלפי מנשה',\n",
    " 'בית אריה-עופרים',\n",
    " 'ערבות הירדן\\r\\n',\n",
    " 'אריאל']"
   ]
  },
  {
   "cell_type": "code",
   "execution_count": 9,
   "id": "89e151d5",
   "metadata": {},
   "outputs": [],
   "source": [
    "data_df.loc[data_df['Muni_Heb'].isin(lst_muni),'sector_for_age'\n",
    "]='Jewish'\n"
   ]
  },
  {
   "cell_type": "code",
   "execution_count": 10,
   "id": "76c285f8",
   "metadata": {},
   "outputs": [],
   "source": [
    "data_df.loc[\n",
    "    (data_df['sector'] == 'arabs_behined_seperation_wall') |\n",
    "    (data_df['sector'] == 'Arab'),'sector_for_age'\n",
    "]='Arab'\n"
   ]
  },
  {
   "cell_type": "code",
   "execution_count": 11,
   "id": "23ec0357",
   "metadata": {},
   "outputs": [],
   "source": [
    "data_df=data_df.loc[\n",
    "    (data_df['sector'] != 'Palestinian')\n",
    "]\n"
   ]
  },
  {
   "cell_type": "code",
   "execution_count": 12,
   "id": "3d718857",
   "metadata": {
    "code_folding": [
     0
    ]
   },
   "outputs": [],
   "source": [
    "col=[ 'age0_4',\n",
    " 'age5_9',\n",
    " 'age10_14',\n",
    " 'age15_19',\n",
    " 'age20_24',\n",
    " 'age25_29',\n",
    " 'age30_34',\n",
    " 'age35_39',\n",
    " 'age40_44',\n",
    " 'age45_49',\n",
    " 'age50_54',\n",
    " 'age55_59',\n",
    " 'age60_64',\n",
    " 'age65_69',\n",
    " 'age70_74',\n",
    " 'age75up']"
   ]
  },
  {
   "cell_type": "code",
   "execution_count": 13,
   "id": "a5b34260",
   "metadata": {},
   "outputs": [],
   "source": [
    "# Convert counts to percentages\n",
    "data_df_pre = data_df[col].apply(lambda x: x / x.sum(), axis=1)"
   ]
  },
  {
   "cell_type": "code",
   "execution_count": 14,
   "id": "6a31768e",
   "metadata": {},
   "outputs": [],
   "source": [
    "data_df=data_df.join(data_df_pre,lsuffix='', rsuffix='_prec')"
   ]
  },
  {
   "cell_type": "code",
   "execution_count": 15,
   "id": "54e30e11",
   "metadata": {
    "code_folding": [
     0
    ]
   },
   "outputs": [],
   "source": [
    "col_name_prototype=['pop_0','pop_5',\n",
    " 'pop_10',\n",
    " 'pop_15',\n",
    " 'pop_20',\n",
    " 'pop_25',\n",
    " 'pop_30',\n",
    " 'pop_35',\n",
    " 'pop_40',\n",
    " 'pop_45',\n",
    " 'pop_50',\n",
    " 'pop_55',\n",
    " 'pop_60',\n",
    " 'pop_65',\n",
    " 'pop_70',\n",
    " 'pop_75up']"
   ]
  },
  {
   "cell_type": "code",
   "execution_count": 16,
   "id": "0c052944",
   "metadata": {
    "code_folding": [
     0
    ]
   },
   "outputs": [],
   "source": [
    "col_name_row=['age0_4_prec',\n",
    " 'age5_9_prec',\n",
    " 'age10_14_prec',\n",
    " 'age15_19_prec',\n",
    " 'age20_24_prec',\n",
    " 'age25_29_prec',\n",
    " 'age30_34_prec',\n",
    " 'age35_39_prec',\n",
    " 'age40_44_prec',\n",
    " 'age45_49_prec',\n",
    " 'age50_54_prec',\n",
    " 'age55_59_prec',\n",
    " 'age60_64_prec',\n",
    " 'age65_69_prec',\n",
    " 'age70_74_prec',\n",
    " 'age75up_prec']"
   ]
  },
  {
   "cell_type": "code",
   "execution_count": 17,
   "id": "7bf19cd5",
   "metadata": {},
   "outputs": [],
   "source": [
    "ls_sector=['U_Orthodox', 'Jewish', 'hitnachlut', 'Arab']"
   ]
  },
  {
   "cell_type": "code",
   "execution_count": 18,
   "id": "3e4da494",
   "metadata": {},
   "outputs": [],
   "source": [
    "for s in ls_sector:\n",
    "    locals()['data_df_{}'.format(s)]=data_df.loc[data_df['sector_for_age']=='{}'.format(s)]\n",
    "    locals()['prototypes_df_{}'.format(s)]=prototypes_df.loc[prototypes_df['sector']=='{}'.format(s)]"
   ]
  },
  {
   "cell_type": "code",
   "execution_count": 19,
   "id": "9ace0360",
   "metadata": {},
   "outputs": [
    {
     "name": "stderr",
     "output_type": "stream",
     "text": [
      "C:\\Users\\gidon\\Anaconda3\\envs\\geo_env\\lib\\site-packages\\geopandas\\geodataframe.py:1351: SettingWithCopyWarning: \n",
      "A value is trying to be set on a copy of a slice from a DataFrame.\n",
      "Try using .loc[row_indexer,col_indexer] = value instead\n",
      "\n",
      "See the caveats in the documentation: https://pandas.pydata.org/pandas-docs/stable/user_guide/indexing.html#returning-a-view-versus-a-copy\n",
      "  super().__setitem__(key, value)\n",
      "C:\\Users\\gidon\\AppData\\Local\\Temp\\ipykernel_19212\\2666082859.py:18: SettingWithCopyWarning: \n",
      "A value is trying to be set on a copy of a slice from a DataFrame.\n",
      "Try using .loc[row_indexer,col_indexer] = value instead\n",
      "\n",
      "See the caveats in the documentation: https://pandas.pydata.org/pandas-docs/stable/user_guide/indexing.html#returning-a-view-versus-a-copy\n",
      "  locals()['data_df_{}'.format(s)].at[index,'classification_name'] = closest_prototype\n",
      "C:\\Users\\gidon\\Anaconda3\\envs\\geo_env\\lib\\site-packages\\geopandas\\geodataframe.py:1351: SettingWithCopyWarning: \n",
      "A value is trying to be set on a copy of a slice from a DataFrame.\n",
      "Try using .loc[row_indexer,col_indexer] = value instead\n",
      "\n",
      "See the caveats in the documentation: https://pandas.pydata.org/pandas-docs/stable/user_guide/indexing.html#returning-a-view-versus-a-copy\n",
      "  super().__setitem__(key, value)\n",
      "C:\\Users\\gidon\\AppData\\Local\\Temp\\ipykernel_19212\\2666082859.py:18: SettingWithCopyWarning: \n",
      "A value is trying to be set on a copy of a slice from a DataFrame.\n",
      "Try using .loc[row_indexer,col_indexer] = value instead\n",
      "\n",
      "See the caveats in the documentation: https://pandas.pydata.org/pandas-docs/stable/user_guide/indexing.html#returning-a-view-versus-a-copy\n",
      "  locals()['data_df_{}'.format(s)].at[index,'classification_name'] = closest_prototype\n",
      "C:\\Users\\gidon\\Anaconda3\\envs\\geo_env\\lib\\site-packages\\geopandas\\geodataframe.py:1351: SettingWithCopyWarning: \n",
      "A value is trying to be set on a copy of a slice from a DataFrame.\n",
      "Try using .loc[row_indexer,col_indexer] = value instead\n",
      "\n",
      "See the caveats in the documentation: https://pandas.pydata.org/pandas-docs/stable/user_guide/indexing.html#returning-a-view-versus-a-copy\n",
      "  super().__setitem__(key, value)\n",
      "C:\\Users\\gidon\\AppData\\Local\\Temp\\ipykernel_19212\\2666082859.py:18: SettingWithCopyWarning: \n",
      "A value is trying to be set on a copy of a slice from a DataFrame.\n",
      "Try using .loc[row_indexer,col_indexer] = value instead\n",
      "\n",
      "See the caveats in the documentation: https://pandas.pydata.org/pandas-docs/stable/user_guide/indexing.html#returning-a-view-versus-a-copy\n",
      "  locals()['data_df_{}'.format(s)].at[index,'classification_name'] = closest_prototype\n",
      "C:\\Users\\gidon\\Anaconda3\\envs\\geo_env\\lib\\site-packages\\geopandas\\geodataframe.py:1351: SettingWithCopyWarning: \n",
      "A value is trying to be set on a copy of a slice from a DataFrame.\n",
      "Try using .loc[row_indexer,col_indexer] = value instead\n",
      "\n",
      "See the caveats in the documentation: https://pandas.pydata.org/pandas-docs/stable/user_guide/indexing.html#returning-a-view-versus-a-copy\n",
      "  super().__setitem__(key, value)\n",
      "C:\\Users\\gidon\\AppData\\Local\\Temp\\ipykernel_19212\\2666082859.py:18: SettingWithCopyWarning: \n",
      "A value is trying to be set on a copy of a slice from a DataFrame.\n",
      "Try using .loc[row_indexer,col_indexer] = value instead\n",
      "\n",
      "See the caveats in the documentation: https://pandas.pydata.org/pandas-docs/stable/user_guide/indexing.html#returning-a-view-versus-a-copy\n",
      "  locals()['data_df_{}'.format(s)].at[index,'classification_name'] = closest_prototype\n"
     ]
    }
   ],
   "source": [
    "for s in ls_sector:\n",
    "    for index, row in locals()['data_df_{}'.format(s)].iterrows():\n",
    "        # Step 3: Calculate similarity scores\n",
    "        similarity_scores = []\n",
    "        for _, prototype_row in locals()['prototypes_df_{}'.format(s)].iterrows():\n",
    "            prototype_age_distributions = prototype_row[col_name_prototype].values \n",
    "            data_age_distributions = row[col_name_row].values         \n",
    "            similarity_score = np.linalg.norm(prototype_age_distributions - data_age_distributions)\n",
    "            similarity_scores.append(similarity_score)\n",
    "\n",
    "        # Step 4: Determine closest prototype\n",
    "        closest_index = np.argmin(similarity_scores)\n",
    "        closest_prototype = locals()['prototypes_df_{}'.format(s)].iloc[closest_index]['classification_name']\n",
    "        \n",
    "\n",
    "        # Assign closest_prototype to the corresponding row in data_df or perform any desired action\n",
    "\n",
    "        locals()['data_df_{}'.format(s)].at[index,'classification_name'] = closest_prototype\n",
    "        "
   ]
  },
  {
   "cell_type": "code",
   "execution_count": 20,
   "id": "424534aa",
   "metadata": {},
   "outputs": [],
   "source": [
    "data_df=pd.concat([data_df_U_Orthodox,data_df_Jewish,data_df_hitnachlut,data_df_Arab],axis=0)"
   ]
  },
  {
   "cell_type": "code",
   "execution_count": 21,
   "id": "26921127",
   "metadata": {},
   "outputs": [],
   "source": [
    "data_df[['Taz_num','sector_for_age','classification_name']].to_excel(r'W:\\Projects\\הסעת המונים\\01_שלב ה\\קבצי עבודה\\תחזיות_דמוגרפיות\\תחזיות_2050\\התפלגות גילים\\backround_files\\{}_age_dis_type.xlsx'.format(filename),index=False)"
   ]
  }
 ],
 "metadata": {
  "kernelspec": {
   "display_name": "Python 3 (ipykernel)",
   "language": "python",
   "name": "python3"
  },
  "language_info": {
   "codemirror_mode": {
    "name": "ipython",
    "version": 3
   },
   "file_extension": ".py",
   "mimetype": "text/x-python",
   "name": "python",
   "nbconvert_exporter": "python",
   "pygments_lexer": "ipython3",
   "version": "3.10.4"
  },
  "toc": {
   "base_numbering": 1,
   "nav_menu": {},
   "number_sections": true,
   "sideBar": true,
   "skip_h1_title": false,
   "title_cell": "Table of Contents",
   "title_sidebar": "Contents",
   "toc_cell": false,
   "toc_position": {},
   "toc_section_display": true,
   "toc_window_display": true
  }
 },
 "nbformat": 4,
 "nbformat_minor": 5
}
