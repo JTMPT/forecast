{
 "cells": [
  {
   "cell_type": "markdown",
   "id": "0e7214ba",
   "metadata": {
    "heading_collapsed": true
   },
   "source": [
    "## קוד מבוא"
   ]
  },
  {
   "cell_type": "code",
   "execution_count": 11,
   "id": "f8405d52",
   "metadata": {
    "hidden": true
   },
   "outputs": [],
   "source": [
    "import pandas as pd\n",
    "import geopandas as gpd\n",
    "import numpy as np\n",
    "from shapely import wkt\n",
    "from matplotlib import pyplot as plt \n",
    "import contextily as cx\n",
    "import folium\n",
    "import fiona\n",
    "from mpl_toolkits.axes_grid1 import make_axes_locatable\n",
    "from shapely.geometry import Point\n",
    "import adjustText as aT"
   ]
  },
  {
   "cell_type": "code",
   "execution_count": 12,
   "id": "2dacbc13",
   "metadata": {
    "hidden": true
   },
   "outputs": [],
   "source": [
    "pd.set_option('display.max_rows', None)\n",
    "pd.set_option('display.max_columns', None)"
   ]
  },
  {
   "cell_type": "markdown",
   "id": "9624443e",
   "metadata": {
    "heading_collapsed": true
   },
   "source": [
    "## פונקציות"
   ]
  },
  {
   "cell_type": "code",
   "execution_count": 13,
   "id": "d69c42ff",
   "metadata": {
    "hidden": true
   },
   "outputs": [],
   "source": [
    "def double_taz_num(df):\n",
    "    dup_taz_num=df.groupby(['Taz_num']).size().reset_index(name='count').query('count>1').Taz_num.to_list()\n",
    "    return df.loc[df['Taz_num'].isin(dup_taz_num)]"
   ]
  },
  {
   "cell_type": "code",
   "execution_count": 14,
   "id": "d048994a",
   "metadata": {
    "hidden": true
   },
   "outputs": [],
   "source": [
    "def make_point(df):\n",
    "    df_point=df.copy()\n",
    "    df_point['centroid'] = df_point.representative_point()\n",
    "    df_point=df_point.set_geometry('centroid')\n",
    "    df_point=df_point.drop(columns=['geometry'],axis=1)\n",
    "    return df_point"
   ]
  },
  {
   "cell_type": "code",
   "execution_count": 15,
   "id": "86bf5cad",
   "metadata": {
    "hidden": true
   },
   "outputs": [],
   "source": [
    "def up_load_gdb(path,layer_name):\n",
    "    path='{}'.format(path)\n",
    "    layer_list=fiona.listlayers(path)\n",
    "    gpd_layer=gpd.read_file(path, layer=layer_list.index(layer_name))\n",
    "    return gpd_layer"
   ]
  },
  {
   "cell_type": "code",
   "execution_count": 16,
   "id": "6acc6aa7",
   "metadata": {
    "hidden": true
   },
   "outputs": [],
   "source": [
    "def up_load_shp(path):\n",
    "    path='{}'.format(path)\n",
    "    gpd_layer=gpd.read_file(path)\n",
    "    return gpd_layer"
   ]
  },
  {
   "cell_type": "code",
   "execution_count": 17,
   "id": "cb093800",
   "metadata": {
    "hidden": true
   },
   "outputs": [],
   "source": [
    "def unique_id_in_one_taz(df_to_geoode,unique_field,gpd_for_geocode,taz):\n",
    "    \n",
    "    code_to_find=list(df_to_geoode[unique_field].unique())\n",
    "\n",
    "    gpd_for_geocode_to_sum_by_taz=gpd_for_geocode[[unique_field,'geometry']].loc[gpd_for_geocode[unique_field].isin(code_to_find)]\n",
    "\n",
    "    gpd_for_geocode_to_sum_by_taz=gpd.sjoin(taz[['Taz_num','geometry']],gpd_for_geocode_to_sum_by_taz)\n",
    "\n",
    "    gpd_for_geocode_in_one_taz=list(gpd_for_geocode_to_sum_by_taz.groupby(unique_field)[['Taz_num']].nunique().query('Taz_num==1').reset_index()[unique_field])\n",
    "\n",
    "    return gpd_for_geocode_in_one_taz"
   ]
  },
  {
   "cell_type": "code",
   "execution_count": 18,
   "id": "b1a16060",
   "metadata": {
    "hidden": true
   },
   "outputs": [],
   "source": [
    "def up_load_df(folder_path,file_name):\n",
    "    \n",
    "    path_df=r'{}\\{}.xlsx'.format(folder_path,file_name)\n",
    "    df=pd.read_excel(path_df)\n",
    "    df=df.dropna(how='all')\n",
    "\n",
    "    return df\n"
   ]
  },
  {
   "cell_type": "markdown",
   "id": "3ab3aa08",
   "metadata": {},
   "source": [
    "## "
   ]
  },
  {
   "cell_type": "markdown",
   "id": "a9907b86",
   "metadata": {},
   "source": [
    "### העלת מידע"
   ]
  },
  {
   "cell_type": "code",
   "execution_count": 19,
   "id": "aba49f13",
   "metadata": {},
   "outputs": [],
   "source": [
    "stat=up_load_shp(r'\\\\FILE-SRV\\Jtmt\\projections_team\\כללי\\פעולות\\יצירת_מצב_קיים_למס\\חומר גלם\\stat_11_cbs_2020_with_jtmt_fix.shp')"
   ]
  },
  {
   "cell_type": "code",
   "execution_count": 20,
   "id": "47ba101e",
   "metadata": {},
   "outputs": [],
   "source": [
    "stat_in_taz=stat.loc[stat['type_stat']=='in_taz']"
   ]
  },
  {
   "cell_type": "code",
   "execution_count": 21,
   "id": "49cf9956",
   "metadata": {},
   "outputs": [],
   "source": [
    "stat=stat.loc[stat['type_stat']!='in_taz']"
   ]
  },
  {
   "cell_type": "code",
   "execution_count": 22,
   "id": "1ab84674",
   "metadata": {},
   "outputs": [],
   "source": [
    "taz=up_load_shp(r'W:\\Model Versions\\4.0\\TAZ\\TAZ_V4_230518_Published.shp')"
   ]
  },
  {
   "cell_type": "code",
   "execution_count": 23,
   "id": "7596adbc",
   "metadata": {},
   "outputs": [],
   "source": [
    "path=r'W:\\Data\\GIS\\BaseLayers\\בנטל - מפי\\BNTL 2022\\Jerusalem Transportation.gdb'\n",
    "bld=up_load_gdb(path,'BLDG_Clip')"
   ]
  },
  {
   "cell_type": "code",
   "execution_count": 24,
   "id": "cfd9906f",
   "metadata": {},
   "outputs": [],
   "source": [
    "path=r'W:\\Data\\GIS\\BaseLayers\\בנטל - מפי\\BNTL 2022\\Jerusalem Transportation.gdb'\n",
    "bld_poi=up_load_gdb(path,'POI_BLDG_Clip')"
   ]
  },
  {
   "cell_type": "code",
   "execution_count": 25,
   "id": "63f1fce2",
   "metadata": {},
   "outputs": [],
   "source": [
    "taz_not_relevant=up_load_df(r'\\\\FILE-SRV\\Jtmt\\projections_team\\כללי\\פעולות\\יצירת_מצב_קיים_למס\\חומר גלם','taz_not_relevant_for_pop_2020')"
   ]
  },
  {
   "cell_type": "code",
   "execution_count": 26,
   "id": "f7ecdb8a",
   "metadata": {},
   "outputs": [],
   "source": [
    "taz_not_relevant=list(taz_not_relevant.Taz_num)"
   ]
  },
  {
   "cell_type": "markdown",
   "id": "0e6478a9",
   "metadata": {},
   "source": [
    "### שכבת בניינים"
   ]
  },
  {
   "cell_type": "code",
   "execution_count": 27,
   "id": "4088e6bb",
   "metadata": {},
   "outputs": [],
   "source": [
    "bld=bld.merge(bld_poi[[ 'FCODE', 'USG_GROUP', 'USG_CODE','USG_SP_NM_LTN','BLDG_ID']],how='left',left_on='UNIQ_ID',right_on='BLDG_ID')"
   ]
  },
  {
   "cell_type": "code",
   "execution_count": 28,
   "id": "661a5407",
   "metadata": {},
   "outputs": [],
   "source": [
    "bld=bld.loc[(bld['FCODE_y'].isna())|(bld['USG_CODE']==7600)] #זה קוד לבניינים מעורב שימושים אני מניח שעדיף לשים בניינים מיותרים מאשר הפוך"
   ]
  },
  {
   "cell_type": "code",
   "execution_count": 29,
   "id": "237342a7",
   "metadata": {},
   "outputs": [],
   "source": [
    "bld['bld_area']=bld.area"
   ]
  },
  {
   "cell_type": "code",
   "execution_count": 30,
   "id": "a8ca3066",
   "metadata": {},
   "outputs": [],
   "source": [
    "bld_point=make_point(bld).fillna(0)"
   ]
  },
  {
   "cell_type": "code",
   "execution_count": 31,
   "id": "e0ed6498",
   "metadata": {},
   "outputs": [],
   "source": [
    "bld_point.loc[bld_point['HEIGHT']<=0,'HEIGHT']=bld_point['HI_PNT_Z']-bld_point['HT_LAND']"
   ]
  },
  {
   "cell_type": "code",
   "execution_count": 32,
   "id": "c0b53485",
   "metadata": {},
   "outputs": [],
   "source": [
    "ceiling_height=3"
   ]
  },
  {
   "cell_type": "code",
   "execution_count": 33,
   "id": "8d62c205",
   "metadata": {},
   "outputs": [],
   "source": [
    "bld_point['bld_m3']=(bld_point['HEIGHT']/ceiling_height).astype(int)*bld_point['bld_area'].astype(int)"
   ]
  },
  {
   "cell_type": "code",
   "execution_count": 34,
   "id": "d5ec6923",
   "metadata": {},
   "outputs": [],
   "source": [
    "bld_point.loc[(bld_point['HEIGHT']-ceiling_height)<=0,'bld_m3']=bld_point['bld_area']"
   ]
  },
  {
   "cell_type": "markdown",
   "id": "264fc0c2",
   "metadata": {},
   "source": [
    "### הורדת מבנים לא רלוונטים"
   ]
  },
  {
   "cell_type": "code",
   "execution_count": 35,
   "id": "385b6f5c",
   "metadata": {},
   "outputs": [],
   "source": [
    "bld_point=gpd.sjoin(bld_point,taz.loc[(~taz['Taz_num'].isin(taz_not_relevant))&(taz['Palestinia']==0)])"
   ]
  },
  {
   "cell_type": "code",
   "execution_count": 36,
   "id": "8daddcdf",
   "metadata": {},
   "outputs": [],
   "source": [
    "col=['bld_m3','centroid','Taz_num']"
   ]
  },
  {
   "cell_type": "code",
   "execution_count": 37,
   "id": "62a7babc",
   "metadata": {},
   "outputs": [],
   "source": [
    "bld_point=bld_point[col]"
   ]
  },
  {
   "cell_type": "code",
   "execution_count": 38,
   "id": "a948cbcd",
   "metadata": {},
   "outputs": [],
   "source": [
    "bld_point=gpd.sjoin(bld_point,stat[['STAT','geometry']])"
   ]
  },
  {
   "cell_type": "code",
   "execution_count": 39,
   "id": "177dfe0a",
   "metadata": {},
   "outputs": [],
   "source": [
    "bld_point['bld_m3']=bld_point['bld_m3'].astype(int)"
   ]
  },
  {
   "cell_type": "markdown",
   "id": "3df73395",
   "metadata": {},
   "source": [
    "### יצירת מאה אחוז לכל א\"ס"
   ]
  },
  {
   "cell_type": "code",
   "execution_count": 40,
   "id": "f60637f2",
   "metadata": {},
   "outputs": [],
   "source": [
    "sum_bld_m3=pd.pivot_table(bld_point,index=['Taz_num','STAT'],aggfunc=sum)[['bld_m3']].reset_index()"
   ]
  },
  {
   "cell_type": "code",
   "execution_count": 41,
   "id": "9daab28c",
   "metadata": {},
   "outputs": [],
   "source": [
    "sum_bld_m3_by_stat=sum_bld_m3.pivot_table(index='STAT',aggfunc=sum)[['bld_m3']].rename(columns={'bld_m3':'bld_m3_stat'}).reset_index()"
   ]
  },
  {
   "cell_type": "code",
   "execution_count": 42,
   "id": "eb9ae33a",
   "metadata": {},
   "outputs": [],
   "source": [
    "sum_bld_m3=sum_bld_m3.merge(sum_bld_m3_by_stat,on='STAT')"
   ]
  },
  {
   "cell_type": "code",
   "execution_count": 43,
   "id": "b043a08d",
   "metadata": {},
   "outputs": [],
   "source": [
    "sum_bld_m3['precent_of_stat_data']=sum_bld_m3['bld_m3']/sum_bld_m3['bld_m3_stat']"
   ]
  },
  {
   "cell_type": "code",
   "execution_count": 44,
   "id": "4879e21c",
   "metadata": {},
   "outputs": [],
   "source": [
    "sum_bld_m3=sum_bld_m3.loc[(sum_bld_m3['precent_of_stat_data']>0.01)|(sum_bld_m3['Taz_num']==2001)]"
   ]
  },
  {
   "cell_type": "code",
   "execution_count": 45,
   "id": "2c725fc7",
   "metadata": {},
   "outputs": [],
   "source": [
    "sum_bld_m3_by_stat=sum_bld_m3.pivot_table(index='STAT',aggfunc=sum)[['bld_m3']].rename(columns={'bld_m3':'bld_m3_stat_new'}).reset_index()"
   ]
  },
  {
   "cell_type": "code",
   "execution_count": 46,
   "id": "d3bad2af",
   "metadata": {},
   "outputs": [],
   "source": [
    "sum_bld_m3=sum_bld_m3.merge(sum_bld_m3_by_stat,on='STAT')"
   ]
  },
  {
   "cell_type": "code",
   "execution_count": 47,
   "id": "ac75da44",
   "metadata": {},
   "outputs": [],
   "source": [
    "sum_bld_m3['precent_of_stat_data']=sum_bld_m3['bld_m3']/sum_bld_m3['bld_m3_stat_new']"
   ]
  },
  {
   "cell_type": "markdown",
   "id": "5521276d",
   "metadata": {},
   "source": [
    "### א\"ס ללא פוליגון\n",
    "\n"
   ]
  },
  {
   "cell_type": "code",
   "execution_count": 48,
   "id": "1e4578f9",
   "metadata": {},
   "outputs": [],
   "source": [
    "stat_in_taz=make_point(stat_in_taz).sjoin(taz[['Taz_num','geometry']])[['STAT','Taz_num']]"
   ]
  },
  {
   "cell_type": "code",
   "execution_count": 49,
   "id": "a7ec583f",
   "metadata": {},
   "outputs": [],
   "source": [
    "stat_in_taz['precent_of_stat_data']=1"
   ]
  },
  {
   "cell_type": "markdown",
   "id": "39210892",
   "metadata": {},
   "source": [
    "### איחוד לטבלה אחת\n",
    "\n"
   ]
  },
  {
   "cell_type": "code",
   "execution_count": 50,
   "id": "e43f398d",
   "metadata": {},
   "outputs": [],
   "source": [
    "col=['Taz_num', 'STAT',  'precent_of_stat_data']"
   ]
  },
  {
   "cell_type": "code",
   "execution_count": 51,
   "id": "2b122eaa",
   "metadata": {},
   "outputs": [],
   "source": [
    "precent_of_stat_data=pd.concat([sum_bld_m3[col], stat_in_taz])"
   ]
  },
  {
   "cell_type": "code",
   "execution_count": 52,
   "id": "fef5a970",
   "metadata": {},
   "outputs": [],
   "source": [
    "precent_of_stat_data.to_excel(r'\\\\FILE-SRV\\Jtmt\\projections_team\\כללי\\פעולות\\יצירת_מצב_קיים_למס\\output\\precent_of_stat_data.xlsx',index=False)"
   ]
  },
  {
   "cell_type": "markdown",
   "id": "c14e12da",
   "metadata": {},
   "source": [
    "###  יצירת מידע ברמת אזור תנועה"
   ]
  },
  {
   "cell_type": "code",
   "execution_count": 53,
   "id": "1a59c059",
   "metadata": {},
   "outputs": [],
   "source": [
    "stat=up_load_df(r'W:\\Projects\\הסעת המונים\\01_שלב ה\\קבצי עבודה\\תחזיות_דמוגרפיות\\תחזיות_2020\\מרכיבי_תחזית','stat_cbs_jtmt_2020')"
   ]
  },
  {
   "cell_type": "code",
   "execution_count": 54,
   "id": "64152620",
   "metadata": {
    "code_folding": []
   },
   "outputs": [],
   "source": [
    "col=['pop_0',\n",
    " 'pop_5',\n",
    " 'pop_10',\n",
    " 'pop_15',\n",
    " 'pop_20',\n",
    " 'pop_25',\n",
    " 'pop_30',\n",
    " 'pop_35',\n",
    " 'pop_40',\n",
    " 'pop_45',\n",
    " 'pop_50',\n",
    " 'pop_55',\n",
    " 'pop_60',\n",
    " 'pop_65',\n",
    " 'pop_70',\n",
    " 'pop_75up']"
   ]
  },
  {
   "cell_type": "code",
   "execution_count": 55,
   "id": "24014869",
   "metadata": {
    "scrolled": true
   },
   "outputs": [],
   "source": [
    "stat[col]=stat[col].multiply(stat['pop'], axis=\"index\")"
   ]
  },
  {
   "cell_type": "code",
   "execution_count": 56,
   "id": "d1d3cde8",
   "metadata": {},
   "outputs": [],
   "source": [
    "stat['pop_hardi']=stat['pop']*(stat['pre_hardi']/100)"
   ]
  },
  {
   "cell_type": "code",
   "execution_count": 57,
   "id": "ef039678",
   "metadata": {},
   "outputs": [],
   "source": [
    "taz_stat_conver=precent_of_stat_data"
   ]
  },
  {
   "cell_type": "code",
   "execution_count": 58,
   "id": "af1147b3",
   "metadata": {
    "code_folding": []
   },
   "outputs": [],
   "source": [
    "col=['STAT',\n",
    " 'aprt_20',\n",
    " 'pop_0',\n",
    " 'pop_5',\n",
    " 'pop_10',\n",
    " 'pop_15',\n",
    " 'pop_20',\n",
    " 'pop_25',\n",
    " 'pop_30',\n",
    " 'pop_35',\n",
    " 'pop_40',\n",
    " 'pop_45',\n",
    " 'pop_50',\n",
    " 'pop_55',\n",
    " 'pop_60',\n",
    " 'pop_65',\n",
    " 'pop_70',\n",
    " 'pop_75up',\n",
    " 'pop',\n",
    " 'pop_hardi']"
   ]
  },
  {
   "cell_type": "markdown",
   "id": "49c52c8e",
   "metadata": {},
   "source": [
    "בשכבת האזורי תנועה יהיו רק אזורי תנועה שמפצלים את המידע של למס"
   ]
  },
  {
   "cell_type": "code",
   "execution_count": 59,
   "id": "8fe4e938",
   "metadata": {
    "scrolled": false
   },
   "outputs": [],
   "source": [
    "taz=pd.merge(taz_stat_conver,stat[col],on='STAT',how='left')"
   ]
  },
  {
   "cell_type": "code",
   "execution_count": 60,
   "id": "2515adf8",
   "metadata": {
    "code_folding": []
   },
   "outputs": [],
   "source": [
    "col=['aprt_20',\n",
    " 'pop_0',\n",
    " 'pop_5',\n",
    " 'pop_10',\n",
    " 'pop_15',\n",
    " 'pop_20',\n",
    " 'pop_25',\n",
    " 'pop_30',\n",
    " 'pop_35',\n",
    " 'pop_40',\n",
    " 'pop_45',\n",
    " 'pop_50',\n",
    " 'pop_55',\n",
    " 'pop_60',\n",
    " 'pop_65',\n",
    " 'pop_70',\n",
    " 'pop_75up',\n",
    " 'pop',\n",
    " 'pop_hardi']"
   ]
  },
  {
   "cell_type": "code",
   "execution_count": 61,
   "id": "14e43c8b",
   "metadata": {},
   "outputs": [],
   "source": [
    "taz[col]=taz[col].multiply(taz['precent_of_stat_data'], axis=\"index\")"
   ]
  },
  {
   "cell_type": "code",
   "execution_count": 62,
   "id": "6dd570e1",
   "metadata": {},
   "outputs": [],
   "source": [
    "taz=pd.pivot_table(taz,index='Taz_num',aggfunc=sum)"
   ]
  },
  {
   "cell_type": "code",
   "execution_count": 63,
   "id": "da1c1a43",
   "metadata": {},
   "outputs": [],
   "source": [
    "taz['pre_hardi']=taz['pop_hardi']/taz['pop']"
   ]
  },
  {
   "cell_type": "code",
   "execution_count": 64,
   "id": "fd127472",
   "metadata": {},
   "outputs": [],
   "source": [
    "taz['hh_size']=taz['pop']/taz['aprt_20']"
   ]
  },
  {
   "cell_type": "code",
   "execution_count": 65,
   "id": "13037c69",
   "metadata": {},
   "outputs": [],
   "source": [
    "save_taz_path=r'W:\\Projects\\הסעת המונים\\01_שלב ה\\קבצי עבודה\\תחזיות_דמוגרפיות\\תחזיות_2020\\מרכיבי_תחזית'"
   ]
  },
  {
   "cell_type": "code",
   "execution_count": 66,
   "id": "68f79b7c",
   "metadata": {},
   "outputs": [],
   "source": [
    "file_date=pd.Timestamp.today().strftime('%y%m%d')"
   ]
  },
  {
   "cell_type": "code",
   "execution_count": 67,
   "id": "9792ae5b",
   "metadata": {},
   "outputs": [],
   "source": [
    "taz.to_excel(r'{}\\taz_with_pop_info_{}.xlsx'.format(save_taz_path,file_date))"
   ]
  }
 ],
 "metadata": {
  "kernelspec": {
   "display_name": "Python 3 (ipykernel)",
   "language": "python",
   "name": "python3"
  },
  "language_info": {
   "codemirror_mode": {
    "name": "ipython",
    "version": 3
   },
   "file_extension": ".py",
   "mimetype": "text/x-python",
   "name": "python",
   "nbconvert_exporter": "python",
   "pygments_lexer": "ipython3",
   "version": "3.10.4"
  },
  "toc": {
   "base_numbering": 1,
   "nav_menu": {},
   "number_sections": true,
   "sideBar": true,
   "skip_h1_title": false,
   "title_cell": "Table of Contents",
   "title_sidebar": "Contents",
   "toc_cell": false,
   "toc_position": {
    "height": "calc(100% - 180px)",
    "left": "10px",
    "top": "150px",
    "width": "415.996px"
   },
   "toc_section_display": true,
   "toc_window_display": true
  }
 },
 "nbformat": 4,
 "nbformat_minor": 5
}
